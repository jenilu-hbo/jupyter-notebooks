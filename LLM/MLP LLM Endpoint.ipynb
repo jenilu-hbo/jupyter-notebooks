{
 "cells": [
  {
   "cell_type": "code",
   "execution_count": 1,
   "id": "f4375c9f",
   "metadata": {},
   "outputs": [
    {
     "name": "stdout",
     "output_type": "stream",
     "text": [
      "Requirement already satisfied: langchain in /usr/local/lib/python3.11/site-packages (0.0.292)\n",
      "Requirement already satisfied: boto3 in /usr/local/lib/python3.11/site-packages (1.28.36)\n",
      "Requirement already satisfied: PyYAML>=5.3 in /usr/local/lib/python3.11/site-packages (from langchain) (6.0.1)\n",
      "Requirement already satisfied: SQLAlchemy<3,>=1.4 in /usr/local/lib/python3.11/site-packages (from langchain) (1.4.49)\n",
      "Requirement already satisfied: aiohttp<4.0.0,>=3.8.3 in /usr/local/lib/python3.11/site-packages (from langchain) (3.8.5)\n",
      "Requirement already satisfied: dataclasses-json<0.6.0,>=0.5.7 in /usr/local/lib/python3.11/site-packages (from langchain) (0.5.14)\n",
      "Requirement already satisfied: langsmith<0.1.0,>=0.0.21 in /usr/local/lib/python3.11/site-packages (from langchain) (0.0.37)\n",
      "Requirement already satisfied: numexpr<3.0.0,>=2.8.4 in /usr/local/lib/python3.11/site-packages (from langchain) (2.8.6)\n",
      "Requirement already satisfied: numpy<2,>=1 in /usr/local/lib/python3.11/site-packages (from langchain) (1.24.4)\n",
      "Requirement already satisfied: pydantic<3,>=1 in /usr/local/lib/python3.11/site-packages (from langchain) (1.10.13)\n",
      "Requirement already satisfied: requests<3,>=2 in /usr/local/lib/python3.11/site-packages (from langchain) (2.31.0)\n",
      "Requirement already satisfied: tenacity<9.0.0,>=8.1.0 in /usr/local/lib/python3.11/site-packages (from langchain) (8.2.3)\n",
      "Requirement already satisfied: botocore<1.32.0,>=1.31.36 in /usr/local/lib/python3.11/site-packages (from boto3) (1.31.47)\n",
      "Requirement already satisfied: jmespath<2.0.0,>=0.7.1 in /usr/local/lib/python3.11/site-packages (from boto3) (1.0.1)\n",
      "Requirement already satisfied: s3transfer<0.7.0,>=0.6.0 in /usr/local/lib/python3.11/site-packages (from boto3) (0.6.2)\n",
      "Requirement already satisfied: attrs>=17.3.0 in /usr/local/lib/python3.11/site-packages (from aiohttp<4.0.0,>=3.8.3->langchain) (23.1.0)\n",
      "Requirement already satisfied: charset-normalizer<4.0,>=2.0 in /usr/local/lib/python3.11/site-packages (from aiohttp<4.0.0,>=3.8.3->langchain) (3.2.0)\n",
      "Requirement already satisfied: multidict<7.0,>=4.5 in /usr/local/lib/python3.11/site-packages (from aiohttp<4.0.0,>=3.8.3->langchain) (6.0.4)\n",
      "Requirement already satisfied: async-timeout<5.0,>=4.0.0a3 in /usr/local/lib/python3.11/site-packages (from aiohttp<4.0.0,>=3.8.3->langchain) (4.0.3)\n",
      "Requirement already satisfied: yarl<2.0,>=1.0 in /usr/local/lib/python3.11/site-packages (from aiohttp<4.0.0,>=3.8.3->langchain) (1.9.2)\n",
      "Requirement already satisfied: frozenlist>=1.1.1 in /usr/local/lib/python3.11/site-packages (from aiohttp<4.0.0,>=3.8.3->langchain) (1.4.0)\n",
      "Requirement already satisfied: aiosignal>=1.1.2 in /usr/local/lib/python3.11/site-packages (from aiohttp<4.0.0,>=3.8.3->langchain) (1.3.1)\n",
      "Requirement already satisfied: python-dateutil<3.0.0,>=2.1 in /usr/local/lib/python3.11/site-packages (from botocore<1.32.0,>=1.31.36->boto3) (2.8.2)\n",
      "Requirement already satisfied: urllib3<1.27,>=1.25.4 in /usr/local/lib/python3.11/site-packages (from botocore<1.32.0,>=1.31.36->boto3) (1.26.16)\n",
      "Requirement already satisfied: marshmallow<4.0.0,>=3.18.0 in /usr/local/lib/python3.11/site-packages (from dataclasses-json<0.6.0,>=0.5.7->langchain) (3.20.1)\n",
      "Requirement already satisfied: typing-inspect<1,>=0.4.0 in /usr/local/lib/python3.11/site-packages (from dataclasses-json<0.6.0,>=0.5.7->langchain) (0.9.0)\n",
      "Requirement already satisfied: typing-extensions>=4.2.0 in /usr/local/lib/python3.11/site-packages (from pydantic<3,>=1->langchain) (4.7.1)\n",
      "Requirement already satisfied: idna<4,>=2.5 in /usr/local/lib/python3.11/site-packages (from requests<3,>=2->langchain) (3.4)\n",
      "Requirement already satisfied: certifi>=2017.4.17 in /usr/local/lib/python3.11/site-packages (from requests<3,>=2->langchain) (2023.7.22)\n",
      "Requirement already satisfied: greenlet!=0.4.17 in /usr/local/lib/python3.11/site-packages (from SQLAlchemy<3,>=1.4->langchain) (2.0.2)\n",
      "Requirement already satisfied: packaging>=17.0 in /usr/local/lib/python3.11/site-packages (from marshmallow<4.0.0,>=3.18.0->dataclasses-json<0.6.0,>=0.5.7->langchain) (23.1)\n",
      "Requirement already satisfied: six>=1.5 in /usr/local/lib/python3.11/site-packages (from python-dateutil<3.0.0,>=2.1->botocore<1.32.0,>=1.31.36->boto3) (1.16.0)\n",
      "Requirement already satisfied: mypy-extensions>=0.3.0 in /usr/local/lib/python3.11/site-packages (from typing-inspect<1,>=0.4.0->dataclasses-json<0.6.0,>=0.5.7->langchain) (1.0.0)\n"
     ]
    }
   ],
   "source": [
    "!pip3 install langchain boto3"
   ]
  },
  {
   "cell_type": "code",
   "execution_count": 2,
   "id": "c75536dc",
   "metadata": {},
   "outputs": [],
   "source": [
    "import json\n",
    "from typing import Dict\n",
    "from langchain import PromptTemplate, SagemakerEndpoint\n",
    "from langchain.llms.sagemaker_endpoint import LLMContentHandler\n",
    "from langchain.chains.question_answering import load_qa_chain\n",
    "from langchain.docstore.document import Document\n",
    "\n",
    "class MLPLLMEndpoint(SagemakerEndpoint):\n",
    "    \n",
    "    class ContentHandler(LLMContentHandler):\n",
    "        content_type = \"application/json\"\n",
    "        accepts = \"application/json\"\n",
    "    \n",
    "        def transform_input(self, prompt: str, model_kwargs: Dict) -> bytes:\n",
    "            print('Full Prompt\\n', prompt)\n",
    "            input_str = json.dumps({\"inputs\": [prompt]})\n",
    "            return input_str.encode(\"utf-8\")\n",
    "    \n",
    "        def transform_output(self, output: bytes) -> str:\n",
    "            response_json = json.loads(output.read().decode(\"utf-8\"))\n",
    "            return response_json[\"generated_text\"].strip()\n",
    "\n",
    "    def __init__(self, model_name, credentials_profile_name, region_name=\"us-east-1\", **kwargs):\n",
    "        MODEL_ENDPOINT_MAPPING = {\n",
    "            \"llama2-7b\": \"MG-mlp-llama2-7B-chat-v1-ept\"\n",
    "        }\n",
    "        endpoint_name = MODEL_ENDPOINT_MAPPING.get(model_name)\n",
    "        if not endpoint_name:\n",
    "            raise ValueError(f\"Unknown model name: {model_name}\")\n",
    "\n",
    "        content_handler = self.ContentHandler()\n",
    "        \n",
    "        super().__init__(endpoint_name=endpoint_name, region_name=region_name, \n",
    "                         credentials_profile_name=credentials_profile_name, content_handler=content_handler, **kwargs)"
   ]
  },
  {
   "cell_type": "code",
   "execution_count": 3,
   "id": "8cc52e84",
   "metadata": {},
   "outputs": [],
   "source": [
    "# Initialize the endoint\n",
    "mlp_llm = MLPLLMEndpoint(\n",
    "    model_name=\"llama2-7b\",\n",
    "    credentials_profile_name=\"wbd-boltcloud-api-dev.GtMlPlatform\"\n",
    ")"
   ]
  },
  {
   "cell_type": "code",
   "execution_count": null,
   "id": "93132cf4",
   "metadata": {},
   "outputs": [],
   "source": [
    "!pip install llama-cpp-python==0.1.48\n"
   ]
  },
  {
   "cell_type": "code",
   "execution_count": 14,
   "id": "81225787",
   "metadata": {},
   "outputs": [
    {
     "name": "stderr",
     "output_type": "stream",
     "text": [
      "gguf_init_from_file: invalid magic number 050a0e0a\n",
      "error loading model: llama_model_loader: failed to load model from /Users/mcreehan/workspace/llama-test/Llama-2-7b-chat-hf/tokenizer.model\n",
      "\n",
      "llama_load_model_from_file: failed to load model\n"
     ]
    },
    {
     "ename": "ValidationError",
     "evalue": "1 validation error for LlamaCpp\n__root__\n  Could not load Llama model from path: /Users/mcreehan/workspace/llama-test/Llama-2-7b-chat-hf/tokenizer.model. Received error  (type=value_error)",
     "output_type": "error",
     "traceback": [
      "\u001b[0;31m---------------------------------------------------------------------------\u001b[0m",
      "\u001b[0;31mValidationError\u001b[0m                           Traceback (most recent call last)",
      "Cell \u001b[0;32mIn[14], line 9\u001b[0m\n\u001b[1;32m      6\u001b[0m model_path\u001b[38;5;241m=\u001b[39m\u001b[38;5;124m\"\u001b[39m\u001b[38;5;124m/Users/mcreehan/workspace/llama-test/Llama-2-7b-chat-hf/tokenizer.model\u001b[39m\u001b[38;5;124m\"\u001b[39m\n\u001b[1;32m      7\u001b[0m callback_manager \u001b[38;5;241m=\u001b[39m CallbackManager([StreamingStdOutCallbackHandler()])\n\u001b[0;32m----> 9\u001b[0m llm \u001b[38;5;241m=\u001b[39m \u001b[43mLlamaCpp\u001b[49m\u001b[43m(\u001b[49m\n\u001b[1;32m     10\u001b[0m \u001b[43m    \u001b[49m\u001b[43mmodel_path\u001b[49m\u001b[38;5;241;43m=\u001b[39;49m\u001b[43mmodel_path\u001b[49m\u001b[43m,\u001b[49m\n\u001b[1;32m     11\u001b[0m \u001b[43m    \u001b[49m\u001b[43mtemperature\u001b[49m\u001b[38;5;241;43m=\u001b[39;49m\u001b[38;5;241;43m0.75\u001b[39;49m\u001b[43m,\u001b[49m\n\u001b[1;32m     12\u001b[0m \u001b[43m    \u001b[49m\u001b[43mmax_tokens\u001b[49m\u001b[38;5;241;43m=\u001b[39;49m\u001b[38;5;241;43m2000\u001b[39;49m\u001b[43m,\u001b[49m\n\u001b[1;32m     13\u001b[0m \u001b[43m    \u001b[49m\u001b[43mtop_p\u001b[49m\u001b[38;5;241;43m=\u001b[39;49m\u001b[38;5;241;43m1\u001b[39;49m\u001b[43m,\u001b[49m\n\u001b[1;32m     14\u001b[0m \u001b[43m    \u001b[49m\u001b[43mcallback_manager\u001b[49m\u001b[38;5;241;43m=\u001b[39;49m\u001b[43mcallback_manager\u001b[49m\u001b[43m,\u001b[49m\u001b[43m \u001b[49m\n\u001b[1;32m     15\u001b[0m \u001b[43m    \u001b[49m\u001b[43mverbose\u001b[49m\u001b[38;5;241;43m=\u001b[39;49m\u001b[38;5;28;43;01mTrue\u001b[39;49;00m\u001b[43m,\u001b[49m\u001b[43m \u001b[49m\u001b[38;5;66;43;03m# Verbose is required to pass to the callback manager\u001b[39;49;00m\n\u001b[1;32m     16\u001b[0m \u001b[43m    \u001b[49m\u001b[43mn_ctx\u001b[49m\u001b[38;5;241;43m=\u001b[39;49m\u001b[38;5;241;43m2048\u001b[39;49m\u001b[43m,\u001b[49m\u001b[43m \u001b[49m\u001b[43mn_batch\u001b[49m\u001b[38;5;241;43m=\u001b[39;49m\u001b[38;5;241;43m16\u001b[39;49m\u001b[43m,\u001b[49m\u001b[43m \u001b[49m\u001b[43mn_gpu_layers\u001b[49m\u001b[38;5;241;43m=\u001b[39;49m\u001b[38;5;241;43m10\u001b[39;49m\u001b[43m,\u001b[49m\n\u001b[1;32m     17\u001b[0m \u001b[43m)\u001b[49m\n",
      "File \u001b[0;32m/usr/local/lib/python3.11/site-packages/langchain/load/serializable.py:75\u001b[0m, in \u001b[0;36mSerializable.__init__\u001b[0;34m(self, **kwargs)\u001b[0m\n\u001b[1;32m     74\u001b[0m \u001b[38;5;28;01mdef\u001b[39;00m \u001b[38;5;21m__init__\u001b[39m(\u001b[38;5;28mself\u001b[39m, \u001b[38;5;241m*\u001b[39m\u001b[38;5;241m*\u001b[39mkwargs: Any) \u001b[38;5;241m-\u001b[39m\u001b[38;5;241m>\u001b[39m \u001b[38;5;28;01mNone\u001b[39;00m:\n\u001b[0;32m---> 75\u001b[0m     \u001b[38;5;28;43msuper\u001b[39;49m\u001b[43m(\u001b[49m\u001b[43m)\u001b[49m\u001b[38;5;241;43m.\u001b[39;49m\u001b[38;5;21;43m__init__\u001b[39;49m\u001b[43m(\u001b[49m\u001b[38;5;241;43m*\u001b[39;49m\u001b[38;5;241;43m*\u001b[39;49m\u001b[43mkwargs\u001b[49m\u001b[43m)\u001b[49m\n\u001b[1;32m     76\u001b[0m     \u001b[38;5;28mself\u001b[39m\u001b[38;5;241m.\u001b[39m_lc_kwargs \u001b[38;5;241m=\u001b[39m kwargs\n",
      "File \u001b[0;32m/usr/local/lib/python3.11/site-packages/pydantic/main.py:341\u001b[0m, in \u001b[0;36mpydantic.main.BaseModel.__init__\u001b[0;34m()\u001b[0m\n",
      "\u001b[0;31mValidationError\u001b[0m: 1 validation error for LlamaCpp\n__root__\n  Could not load Llama model from path: /Users/mcreehan/workspace/llama-test/Llama-2-7b-chat-hf/tokenizer.model. Received error  (type=value_error)"
     ]
    }
   ],
   "source": [
    "#from langchain.llms import LlamaCpp\n",
    "#from langchain.callbacks.manager import CallbackManager\n",
    "#from langchain.callbacks.streaming_stdout import StreamingStdOutCallbackHandler\n",
    "\n",
    "# Make sure the model path is correct for your system!\n",
    "#model_path=\"/Users/mcreehan/workspace/llama-test/Llama-2-7b-chat-hf/tokenizer.model\"\n",
    "#callback_manager = CallbackManager([StreamingStdOutCallbackHandler()])\n",
    "\n",
    "#llm = LlamaCpp(\n",
    "#    model_path=model_path,\n",
    "#    temperature=0.75,\n",
    "#    max_tokens=2000,\n",
    "#    top_p=1,\n",
    "#    callback_manager=callback_manager, \n",
    "#    verbose=True, # Verbose is required to pass to the callback manager\n",
    " #   n_ctx=2048, n_batch=16, n_gpu_layers=10,\n",
    "#)"
   ]
  },
  {
   "cell_type": "code",
   "execution_count": 4,
   "id": "3b06f504",
   "metadata": {},
   "outputs": [],
   "source": [
    "# Setup your prompt template\n",
    "prompt_template = \"\"\"Answer the question below using the context that follows it, only if the information is present in the context.\n",
    "\n",
    "Question: {question}\n",
    "\n",
    "{context}\n",
    "\n",
    "Answer:\"\"\"\n",
    "\n",
    "PROMPT = PromptTemplate(\n",
    "    template=prompt_template, input_variables=[\"context\", \"question\"]\n",
    ")"
   ]
  },
  {
   "cell_type": "code",
   "execution_count": 12,
   "id": "3dc7a833",
   "metadata": {},
   "outputs": [],
   "source": [
    "# Provide your context data\n",
    "# In this example we supply as simple tabular data in Ascii\n",
    "context_doc_1 = \"\"\"\n",
    "| User_ID | Product_ID | Category   | Purchase_Date | Price | Review_Rating | Review_Text                          |\n",
    "|---------|------------|------------|---------------|-------|---------------|--------------------------------------|\n",
    "| 001     | P001       | Electronics| 2022-01-01   | 299.99| 5             | Great product. Totally worth it!     |\n",
    "| 002     | P002       | Books      | 2022-01-02   | 15.99 | 4             | Informative read, could be shorter.  |\n",
    "| 003     | P001       | Electronics| 2022-01-02   | 299.99| 2             | Product stopped working after a week.|\n",
    "| 004     | P003       | Fashion    | 2022-01-03   | 49.99 | 5             | Fits perfectly. Love the design.     |\n",
    "| ...     | ...        | ...        | ...           | ...   | ...           | \n",
    "\"\"\"\n",
    "docs = [\n",
    "    Document(\n",
    "        page_content=context_doc_1.replace(\"\\n\", \" \"),\n",
    "    )\n",
    "]"
   ]
  },
  {
   "cell_type": "code",
   "execution_count": 17,
   "id": "4c4c19a8",
   "metadata": {},
   "outputs": [
    {
     "name": "stdout",
     "output_type": "stream",
     "text": [
      "Full Prompt\n",
      " Answer the question below using the context that follows it, only if the information is present in the context.\n",
      "\n",
      "Question: How much does P001 cost?\n",
      "\n",
      "\n",
      " | User_ID | Product_ID | Category   | Purchase_Date | Price | Review_Rating | Review_Text                          | |---------|------------|------------|---------------|-------|---------------|--------------------------------------| | 001     | P001       | Electronics| 2022-01-01   | 299.99| 5             | Great product. Totally worth it!     | | 002     | P002       | Books      | 2022-01-02   | 15.99 | 4             | Informative read, could be shorter.  | | 003     | P001       | Electronics| 2022-01-02   | 299.99| 2             | Product stopped working after a week.| | 004     | P003       | Fashion    | 2022-01-03   | 49.99 | 5             | Fits perfectly. Love the design.     | | ...     | ...        | ...        | ...           | ...   | ...           |  \n",
      "\n",
      "Answer:\n"
     ]
    },
    {
     "data": {
      "text/plain": [
       "{'output_text': 'The cost of P001 is $299.99.'}"
      ]
     },
     "execution_count": 17,
     "metadata": {},
     "output_type": "execute_result"
    }
   ],
   "source": [
    "# Provide your input query\n",
    "# In this example, we ask how much one of the Products cost given the Product ID\n",
    "query = \"\"\"How much does P001 cost?\n",
    "\"\"\"\n",
    "# build and run the chain\n",
    "chain = load_qa_chain(\n",
    "    mlp_llm,\n",
    "    prompt=PROMPT,\n",
    ")\n",
    "chain({\"input_documents\": docs, \"question\": query}, return_only_outputs=True)"
   ]
  },
  {
   "cell_type": "code",
   "execution_count": 18,
   "id": "31890181",
   "metadata": {},
   "outputs": [
    {
     "name": "stdout",
     "output_type": "stream",
     "text": [
      "Full Prompt\n",
      " Answer the question below using the context that follows it, only if the information is present in the context.\n",
      "\n",
      "Question: Which user supplied a review which was negative in its sentiment?\n",
      "\n",
      "\n",
      " | User_ID | Product_ID | Category   | Purchase_Date | Price | Review_Rating | Review_Text                          | |---------|------------|------------|---------------|-------|---------------|--------------------------------------| | 001     | P001       | Electronics| 2022-01-01   | 299.99| 5             | Great product. Totally worth it!     | | 002     | P002       | Books      | 2022-01-02   | 15.99 | 4             | Informative read, could be shorter.  | | 003     | P001       | Electronics| 2022-01-02   | 299.99| 2             | Product stopped working after a week.| | 004     | P003       | Fashion    | 2022-01-03   | 49.99 | 5             | Fits perfectly. Love the design.     | | ...     | ...        | ...        | ...           | ...   | ...           |  \n",
      "\n",
      "Answer:\n"
     ]
    },
    {
     "data": {
      "text/plain": [
       "{'output_text': 'The user who supplied a review with a negative sentiment is User 003, who stated that the product stopped working after a week.'}"
      ]
     },
     "execution_count": 18,
     "metadata": {},
     "output_type": "execute_result"
    }
   ],
   "source": [
    "# Provide your input query\n",
    "# In this example, we ask which User ID might have supplied a negative review\n",
    "query = \"\"\"Which user supplied a review which was negative in its sentiment?\n",
    "\"\"\"\n",
    "# build and run the chain\n",
    "chain = load_qa_chain(\n",
    "    mlp_llm,\n",
    "    prompt=PROMPT,\n",
    ")\n",
    "chain({\"input_documents\": docs, \"question\": query}, return_only_outputs=True)"
   ]
  },
  {
   "cell_type": "code",
   "execution_count": 19,
   "id": "48968cd9",
   "metadata": {},
   "outputs": [
    {
     "name": "stdout",
     "output_type": "stream",
     "text": [
      "Full Prompt\n",
      " Answer the question below using the context that follows it, only if the information is present in the context.\n",
      "\n",
      "Question: Which product id has mixed reviews? \n",
      "\n",
      "\n",
      " | User_ID | Product_ID | Category   | Purchase_Date | Price | Review_Rating | Review_Text                          | |---------|------------|------------|---------------|-------|---------------|--------------------------------------| | 001     | P001       | Electronics| 2022-01-01   | 299.99| 5             | Great product. Totally worth it!     | | 002     | P002       | Books      | 2022-01-02   | 15.99 | 4             | Informative read, could be shorter.  | | 003     | P001       | Electronics| 2022-01-02   | 299.99| 2             | Product stopped working after a week.| | 004     | P003       | Fashion    | 2022-01-03   | 49.99 | 5             | Fits perfectly. Love the design.     | | ...     | ...        | ...        | ...           | ...   | ...           |  \n",
      "\n",
      "Answer:\n"
     ]
    },
    {
     "data": {
      "text/plain": [
       "{'output_text': 'The product ID with mixed reviews is P001.'}"
      ]
     },
     "execution_count": 19,
     "metadata": {},
     "output_type": "execute_result"
    }
   ],
   "source": [
    "# Provide your input query\n",
    "# In this example, we ask:\n",
    "query = \"\"\"Which product id has mixed reviews? \n",
    "\"\"\"\n",
    "# build and run the chain\n",
    "chain = load_qa_chain(\n",
    "    mlp_llm,\n",
    "    prompt=PROMPT,\n",
    ")\n",
    "chain({\"input_documents\": docs, \"question\": query}, return_only_outputs=True)"
   ]
  },
  {
   "cell_type": "code",
   "execution_count": null,
   "id": "d9b4e660",
   "metadata": {},
   "outputs": [],
   "source": []
  }
 ],
 "metadata": {
  "kernelspec": {
   "display_name": "Python 3 (ipykernel)",
   "language": "python",
   "name": "python3"
  },
  "language_info": {
   "codemirror_mode": {
    "name": "ipython",
    "version": 3
   },
   "file_extension": ".py",
   "mimetype": "text/x-python",
   "name": "python",
   "nbconvert_exporter": "python",
   "pygments_lexer": "ipython3",
   "version": "3.7.12"
  }
 },
 "nbformat": 4,
 "nbformat_minor": 5
}
