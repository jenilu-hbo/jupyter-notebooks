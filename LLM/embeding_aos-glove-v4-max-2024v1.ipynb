{
 "cells": [
  {
   "cell_type": "markdown",
   "metadata": {},
   "source": [
    "# 1, Read Data from SnowFlake\n",
    "## 1.1 AOS data"
   ]
  },
  {
   "cell_type": "code",
   "execution_count": 4,
   "metadata": {
    "collapsed": true,
    "jupyter": {
     "outputs_hidden": true
    }
   },
   "outputs": [
    {
     "name": "stdout",
     "output_type": "stream",
     "text": [
      "Requirement already satisfied: sentence-transformers in /home/ec2-user/anaconda3/envs/python3/lib/python3.6/site-packages (2.2.2)\n",
      "Requirement already satisfied: tqdm in /home/ec2-user/anaconda3/envs/python3/lib/python3.6/site-packages (from sentence-transformers) (4.62.3)\n",
      "Requirement already satisfied: scipy in /home/ec2-user/anaconda3/envs/python3/lib/python3.6/site-packages (from sentence-transformers) (1.5.3)\n",
      "Requirement already satisfied: scikit-learn in /home/ec2-user/anaconda3/envs/python3/lib/python3.6/site-packages (from sentence-transformers) (0.24.1)\n",
      "Requirement already satisfied: nltk in /home/ec2-user/anaconda3/envs/python3/lib/python3.6/site-packages (from sentence-transformers) (3.4.4)\n",
      "Requirement already satisfied: numpy in /home/ec2-user/anaconda3/envs/python3/lib/python3.6/site-packages (from sentence-transformers) (1.19.5)\n",
      "Requirement already satisfied: torch>=1.6.0 in /home/ec2-user/anaconda3/envs/python3/lib/python3.6/site-packages (from sentence-transformers) (1.10.1)\n",
      "Requirement already satisfied: sentencepiece in /home/ec2-user/anaconda3/envs/python3/lib/python3.6/site-packages (from sentence-transformers) (0.1.99)\n",
      "Requirement already satisfied: huggingface-hub>=0.4.0 in /home/ec2-user/anaconda3/envs/python3/lib/python3.6/site-packages (from sentence-transformers) (0.4.0)\n",
      "Requirement already satisfied: transformers<5.0.0,>=4.6.0 in /home/ec2-user/anaconda3/envs/python3/lib/python3.6/site-packages (from sentence-transformers) (4.18.0)\n",
      "Requirement already satisfied: torchvision in /home/ec2-user/anaconda3/envs/python3/lib/python3.6/site-packages (from sentence-transformers) (0.11.2)\n",
      "Requirement already satisfied: pyyaml in /home/ec2-user/anaconda3/envs/python3/lib/python3.6/site-packages (from huggingface-hub>=0.4.0->sentence-transformers) (5.4.1)\n",
      "Requirement already satisfied: typing-extensions>=3.7.4.3 in /home/ec2-user/anaconda3/envs/python3/lib/python3.6/site-packages (from huggingface-hub>=0.4.0->sentence-transformers) (4.0.1)\n",
      "Requirement already satisfied: importlib-metadata in /home/ec2-user/anaconda3/envs/python3/lib/python3.6/site-packages (from huggingface-hub>=0.4.0->sentence-transformers) (3.7.0)\n",
      "Requirement already satisfied: packaging>=20.9 in /home/ec2-user/anaconda3/envs/python3/lib/python3.6/site-packages (from huggingface-hub>=0.4.0->sentence-transformers) (21.3)\n",
      "Requirement already satisfied: requests in /home/ec2-user/anaconda3/envs/python3/lib/python3.6/site-packages (from huggingface-hub>=0.4.0->sentence-transformers) (2.26.0)\n",
      "Requirement already satisfied: filelock in /home/ec2-user/anaconda3/envs/python3/lib/python3.6/site-packages (from huggingface-hub>=0.4.0->sentence-transformers) (3.0.12)\n",
      "Requirement already satisfied: dataclasses in /home/ec2-user/anaconda3/envs/python3/lib/python3.6/site-packages (from torch>=1.6.0->sentence-transformers) (0.8)\n",
      "Requirement already satisfied: regex!=2019.12.17 in /home/ec2-user/anaconda3/envs/python3/lib/python3.6/site-packages (from transformers<5.0.0,>=4.6.0->sentence-transformers) (2020.11.13)\n",
      "Requirement already satisfied: tokenizers!=0.11.3,<0.13,>=0.11.1 in /home/ec2-user/anaconda3/envs/python3/lib/python3.6/site-packages (from transformers<5.0.0,>=4.6.0->sentence-transformers) (0.12.1)\n",
      "Requirement already satisfied: sacremoses in /home/ec2-user/anaconda3/envs/python3/lib/python3.6/site-packages (from transformers<5.0.0,>=4.6.0->sentence-transformers) (0.0.53)\n",
      "Requirement already satisfied: six in /home/ec2-user/anaconda3/envs/python3/lib/python3.6/site-packages (from nltk->sentence-transformers) (1.15.0)\n",
      "Requirement already satisfied: joblib>=0.11 in /home/ec2-user/anaconda3/envs/python3/lib/python3.6/site-packages (from scikit-learn->sentence-transformers) (1.0.1)\n",
      "Requirement already satisfied: threadpoolctl>=2.0.0 in /home/ec2-user/anaconda3/envs/python3/lib/python3.6/site-packages (from scikit-learn->sentence-transformers) (2.1.0)\n",
      "Requirement already satisfied: pillow!=8.3.0,>=5.3.0 in /home/ec2-user/anaconda3/envs/python3/lib/python3.6/site-packages (from torchvision->sentence-transformers) (8.4.0)\n",
      "Requirement already satisfied: pyparsing!=3.0.5,>=2.0.2 in /home/ec2-user/anaconda3/envs/python3/lib/python3.6/site-packages (from packaging>=20.9->huggingface-hub>=0.4.0->sentence-transformers) (2.4.7)\n",
      "Requirement already satisfied: zipp>=0.5 in /home/ec2-user/anaconda3/envs/python3/lib/python3.6/site-packages (from importlib-metadata->huggingface-hub>=0.4.0->sentence-transformers) (3.4.0)\n",
      "Requirement already satisfied: idna<4,>=2.5 in /home/ec2-user/anaconda3/envs/python3/lib/python3.6/site-packages (from requests->huggingface-hub>=0.4.0->sentence-transformers) (3.1)\n",
      "Requirement already satisfied: charset-normalizer~=2.0.0 in /home/ec2-user/anaconda3/envs/python3/lib/python3.6/site-packages (from requests->huggingface-hub>=0.4.0->sentence-transformers) (2.0.9)\n",
      "Requirement already satisfied: certifi>=2017.4.17 in /home/ec2-user/anaconda3/envs/python3/lib/python3.6/site-packages (from requests->huggingface-hub>=0.4.0->sentence-transformers) (2021.5.30)\n",
      "Requirement already satisfied: urllib3<1.27,>=1.21.1 in /home/ec2-user/anaconda3/envs/python3/lib/python3.6/site-packages (from requests->huggingface-hub>=0.4.0->sentence-transformers) (1.26.8)\n",
      "Requirement already satisfied: click in /home/ec2-user/anaconda3/envs/python3/lib/python3.6/site-packages (from sacremoses->transformers<5.0.0,>=4.6.0->sentence-transformers) (7.1.2)\n"
     ]
    }
   ],
   "source": [
    "!pip install -U sentence-transformers"
   ]
  },
  {
   "cell_type": "code",
   "execution_count": 5,
   "metadata": {},
   "outputs": [],
   "source": [
    "import matplotlib.pyplot as plt\n",
    "from sentence_transformers import SentenceTransformer, util\n",
    "import seaborn as sns\n",
    "import numpy as np\n",
    "import math\n",
    "import pandas as pd\n",
    "import re\n",
    "from datetime import date, datetime\n",
    "import sys\n",
    "## Limit Size of Returned Records\n",
    "MAX_QUERY_RETURN_SIZE = 1000000\n",
    "\n",
    "## Credentials\n",
    "SF_CREDS = 'hbo-max-content-datascience-snowflake-dev'"
   ]
  },
  {
   "cell_type": "code",
   "execution_count": 6,
   "metadata": {},
   "outputs": [],
   "source": [
    "import json\n",
    "import snowflake.connector\n",
    "from abc import ABCMeta, abstractmethod\n",
    "import boto3\n",
    "\n",
    "class Credentials(metaclass=ABCMeta):\n",
    "    pass\n",
    "    \n",
    "    \n",
    "class SSMPSCredentials(Credentials):\n",
    "    def __init__(self, secretid: str):\n",
    "        self._secretid = secretid\n",
    "        self._secrets = {}\n",
    "        \n",
    "    def get_keys(self):\n",
    "        \"\"\"\n",
    "        credential fetching \n",
    "        \"\"\"\n",
    "        _aws_sm_args = {'service_name': 'secretsmanager', 'region_name': 'us-east-1'}\n",
    "        secrets_client = boto3.client(**_aws_sm_args)\n",
    "        get_secret_value_response = secrets_client.get_secret_value(SecretId=self._secretid)\n",
    "        return get_secret_value_response\n",
    "    \n",
    "    \n",
    "class BaseConnector(metaclass=ABCMeta):\n",
    "    @abstractmethod\n",
    "    def connect(self):\n",
    "        raise NotImplementedError\n",
    "        \n",
    "\n",
    "class SnowflakeConnector(BaseConnector):\n",
    "    def __init__(self, credentials: Credentials):\n",
    "        keys = credentials.get_keys()\n",
    "        self._secrets = json.loads(keys.get('SecretString', \"{}\"))\n",
    "\n",
    "    def connect(self, dbname: str, schema: str = 'DEFAULT'):\n",
    "        ctx = snowflake.connector.connect(\n",
    "            user=self._secrets['login_name'],\n",
    "            password=self._secrets['login_password'],\n",
    "            account=self._secrets['account'],\n",
    "            warehouse=self._secrets['warehouse'],\n",
    "            database=dbname,\n",
    "            schema=schema\n",
    "        )\n",
    "\n",
    "        return ctx\n",
    "    \n",
    "def execute_query( query: str):\n",
    "    input_dbname=\"MAX_DEV\"\n",
    "    input_schema = \"WORKSPACE\"\n",
    "    connector = SnowflakeConnector(SSMPSCredentials(SF_CREDS))\n",
    "    ctx = connector.connect(dbname=input_dbname, schema=input_schema)\n",
    "    cur = ctx.cursor()\n",
    "    try:\n",
    "        cur.execute(query)\n",
    "        results = cur.fetchmany()\n",
    "        return results\n",
    "    finally:\n",
    "        cur.close()"
   ]
  },
  {
   "cell_type": "markdown",
   "metadata": {},
   "source": [
    "# 1. Load Data"
   ]
  },
  {
   "cell_type": "code",
   "execution_count": 7,
   "metadata": {},
   "outputs": [
    {
     "name": "stderr",
     "output_type": "stream",
     "text": [
      "/home/ec2-user/anaconda3/envs/python3/lib/python3.6/site-packages/boto3/compat.py:88: PythonDeprecationWarning: Boto3 will no longer support Python 3.6 starting May 30, 2022. To continue receiving service updates, bug fixes, and security updates please upgrade to Python 3.7 or later. More information can be found here: https://aws.amazon.com/blogs/developer/python-support-policy-updates-for-aws-sdks-and-tools/\n",
      "  warnings.warn(warning, PythonDeprecationWarning)\n"
     ]
    },
    {
     "data": {
      "text/plain": [
       "[('Table JOE_TITLE_INFO_MAX successfully created.',)]"
      ]
     },
     "execution_count": 7,
     "metadata": {},
     "output_type": "execute_result"
    }
   ],
   "source": [
    "title_info_sql='''\n",
    "create or replace table max_dev.content_datascience.joe_title_info_max as (\n",
    "with base as (\n",
    "select \n",
    "    *,\n",
    "    coalesce(viewable_id,series_id) as consolidted_id\n",
    "from \n",
    "(\n",
    "select \n",
    "    series_id,\n",
    "    PROGRAM_ID as viewable_id,\n",
    "    asset_summary_long as title_plot,\n",
    "    series_title_long as asset_title,\n",
    "    content_category,\n",
    "    age_group as asset_tags_age,\n",
    "    program_type,\n",
    "    primary_genre as primary_genre_desc,\n",
    "    release_year,\n",
    "    imdb_id \n",
    "from int_dai_prod_share.content_metadata_gold.asset_dim\n",
    ") ckg\n",
    "left join \n",
    "(select distinct title_id,imdb_rating,imdb_rating as WIKI_PAGE_VIEWS from max_prod.ckg.imdb_title) sd\n",
    "on ckg.imdb_id=sd.title_id\n",
    ")\n",
    "select \n",
    "    consolidted_id,\n",
    "    any_value(title_plot) as title_plot,\n",
    "    any_value(asset_title) as asset_title,\n",
    "    any_value(content_category) as content_category,\n",
    "    any_value(ASSET_TAGS_AGE) as ASSET_TAGS_AGE,\n",
    "    any_value(PROGRAM_TYPE) as PROGRAM_TYPE,\n",
    "    any_value(PRIMARY_GENRE_DESC) as PRIMARY_GENRE_DESC,\n",
    "    any_value(RELEASE_YEAR) as RELEASE_YEAR,\n",
    "    avg(IMDB_RATING) as IMDB_RATING,\n",
    "    avg(WIKI_PAGE_VIEWS) as WIKI_PAGE_VIEWS\n",
    "from base \n",
    "group by consolidted_id \n",
    ");\n",
    "'''\n",
    "execute_query(title_info_sql)"
   ]
  },
  {
   "cell_type": "code",
   "execution_count": 8,
   "metadata": {},
   "outputs": [
    {
     "name": "stderr",
     "output_type": "stream",
     "text": [
      "/home/ec2-user/anaconda3/envs/python3/lib/python3.6/site-packages/boto3/compat.py:88: PythonDeprecationWarning: Boto3 will no longer support Python 3.6 starting May 30, 2022. To continue receiving service updates, bug fixes, and security updates please upgrade to Python 3.7 or later. More information can be found here: https://aws.amazon.com/blogs/developer/python-support-policy-updates-for-aws-sdks-and-tools/\n",
      "  warnings.warn(warning, PythonDeprecationWarning)\n"
     ]
    },
    {
     "data": {
      "text/html": [
       "<div>\n",
       "<style scoped>\n",
       "    .dataframe tbody tr th:only-of-type {\n",
       "        vertical-align: middle;\n",
       "    }\n",
       "\n",
       "    .dataframe tbody tr th {\n",
       "        vertical-align: top;\n",
       "    }\n",
       "\n",
       "    .dataframe thead th {\n",
       "        text-align: right;\n",
       "    }\n",
       "</style>\n",
       "<table border=\"1\" class=\"dataframe\">\n",
       "  <thead>\n",
       "    <tr style=\"text-align: right;\">\n",
       "      <th></th>\n",
       "      <th>CONSOLIDTED_ID</th>\n",
       "      <th>TITLE_PLOT</th>\n",
       "      <th>ASSET_TITLE</th>\n",
       "      <th>CONTENT_CATEGORY</th>\n",
       "      <th>ASSET_TAGS_AGE</th>\n",
       "      <th>PROGRAM_TYPE</th>\n",
       "      <th>PRIMARY_GENRE_DESC</th>\n",
       "      <th>RELEASE_YEAR</th>\n",
       "      <th>IMDB_RATING</th>\n",
       "      <th>WIKI_PAGE_VIEWS</th>\n",
       "    </tr>\n",
       "  </thead>\n",
       "  <tbody>\n",
       "    <tr>\n",
       "      <th>0</th>\n",
       "      <td>9984c53a-641d-49e4-ae0e-bbac4e3277b3</td>\n",
       "      <td>Trapped among an army of Weeping Angels, can t...</td>\n",
       "      <td>Doctor Who</td>\n",
       "      <td>episode</td>\n",
       "      <td>[\\n  \"Family Content\",\\n  \"Young Adults\"\\n]</td>\n",
       "      <td>Acquired</td>\n",
       "      <td>Fantasy &amp; Sci-Fi</td>\n",
       "      <td>2010.0</td>\n",
       "      <td>8.5</td>\n",
       "      <td>8.5</td>\n",
       "    </tr>\n",
       "    <tr>\n",
       "      <th>1</th>\n",
       "      <td>5bd33c9d-2ab7-4204-97ab-51bcac4c290a</td>\n",
       "      <td>Geneva's boyfriend wants to marry her--until M...</td>\n",
       "      <td>Hangin' with Mr. Cooper</td>\n",
       "      <td>episode</td>\n",
       "      <td>[\\n  \"Pre-teens\",\\n  \"Family Content\",\\n  \"You...</td>\n",
       "      <td>Acquired</td>\n",
       "      <td>Comedy</td>\n",
       "      <td>1997.0</td>\n",
       "      <td>6.4</td>\n",
       "      <td>6.4</td>\n",
       "    </tr>\n",
       "    <tr>\n",
       "      <th>2</th>\n",
       "      <td>59e5127c-5533-4ae5-a407-defd7df94dad</td>\n",
       "      <td>Tyrion roots out a spy. Catelyn meets a new ki...</td>\n",
       "      <td>Game of Thrones</td>\n",
       "      <td>episode</td>\n",
       "      <td>[]</td>\n",
       "      <td>Original</td>\n",
       "      <td>Drama</td>\n",
       "      <td>2012.0</td>\n",
       "      <td>8.7</td>\n",
       "      <td>8.7</td>\n",
       "    </tr>\n",
       "    <tr>\n",
       "      <th>3</th>\n",
       "      <td>8f3e0583-84c5-48e3-be0b-66deb8497583</td>\n",
       "      <td>After surviving and escaping an abusive marria...</td>\n",
       "      <td>A Vigilante</td>\n",
       "      <td>movie</td>\n",
       "      <td>[]</td>\n",
       "      <td>Acquired</td>\n",
       "      <td>Drama</td>\n",
       "      <td>2019.0</td>\n",
       "      <td>5.7</td>\n",
       "      <td>5.7</td>\n",
       "    </tr>\n",
       "    <tr>\n",
       "      <th>4</th>\n",
       "      <td>4a6b90d9-f3ab-4f80-9a0a-baaf4a45e7db</td>\n",
       "      <td>Selçuk confronts Volkan. Bahar checks on Mert ...</td>\n",
       "      <td>A Woman Scorned</td>\n",
       "      <td>episode</td>\n",
       "      <td>[]</td>\n",
       "      <td>Acquired</td>\n",
       "      <td>Novela</td>\n",
       "      <td>2020.0</td>\n",
       "      <td>6.4</td>\n",
       "      <td>6.4</td>\n",
       "    </tr>\n",
       "  </tbody>\n",
       "</table>\n",
       "</div>"
      ],
      "text/plain": [
       "                         CONSOLIDTED_ID  \\\n",
       "0  9984c53a-641d-49e4-ae0e-bbac4e3277b3   \n",
       "1  5bd33c9d-2ab7-4204-97ab-51bcac4c290a   \n",
       "2  59e5127c-5533-4ae5-a407-defd7df94dad   \n",
       "3  8f3e0583-84c5-48e3-be0b-66deb8497583   \n",
       "4  4a6b90d9-f3ab-4f80-9a0a-baaf4a45e7db   \n",
       "\n",
       "                                          TITLE_PLOT              ASSET_TITLE  \\\n",
       "0  Trapped among an army of Weeping Angels, can t...               Doctor Who   \n",
       "1  Geneva's boyfriend wants to marry her--until M...  Hangin' with Mr. Cooper   \n",
       "2  Tyrion roots out a spy. Catelyn meets a new ki...          Game of Thrones   \n",
       "3  After surviving and escaping an abusive marria...              A Vigilante   \n",
       "4  Selçuk confronts Volkan. Bahar checks on Mert ...          A Woman Scorned   \n",
       "\n",
       "  CONTENT_CATEGORY                                     ASSET_TAGS_AGE  \\\n",
       "0          episode        [\\n  \"Family Content\",\\n  \"Young Adults\"\\n]   \n",
       "1          episode  [\\n  \"Pre-teens\",\\n  \"Family Content\",\\n  \"You...   \n",
       "2          episode                                                 []   \n",
       "3            movie                                                 []   \n",
       "4          episode                                                 []   \n",
       "\n",
       "  PROGRAM_TYPE PRIMARY_GENRE_DESC  RELEASE_YEAR  IMDB_RATING  WIKI_PAGE_VIEWS  \n",
       "0     Acquired   Fantasy & Sci-Fi        2010.0          8.5              8.5  \n",
       "1     Acquired             Comedy        1997.0          6.4              6.4  \n",
       "2     Original              Drama        2012.0          8.7              8.7  \n",
       "3     Acquired              Drama        2019.0          5.7              5.7  \n",
       "4     Acquired             Novela        2020.0          6.4              6.4  "
      ]
     },
     "execution_count": 8,
     "metadata": {},
     "output_type": "execute_result"
    }
   ],
   "source": [
    "title_info='''\n",
    "select * from max_dev.content_datascience.joe_title_info_max\n",
    "'''\n",
    "input_dbname=\"MAX_DEV\"\n",
    "input_schema = \"WORKSPACE\"\n",
    "connector = SnowflakeConnector(SSMPSCredentials(SF_CREDS))\n",
    "ctx = connector.connect(dbname=input_dbname, schema=input_schema)\n",
    "title_info_db=pd.read_sql(title_info,ctx)\n",
    "title_info_db.head()"
   ]
  },
  {
   "cell_type": "code",
   "execution_count": 9,
   "metadata": {},
   "outputs": [],
   "source": [
    "# aosstr_prep='''\n",
    "# create or replace table max_dev.content_datascience.joe_title_aos_max as ( \n",
    "# select distinct a.consolidated_id_1,a.consolidated_title_1, a.consolidated_id_2,a.consolidated_title_2,greatest(a.score,b.score) as score,a.level_1_catg_name_1,a.level_1_catg_name_2 from MAX_prod.content_Datascience.AOS_ALL_US_PROD a \n",
    "# left join MAX_prod.content_Datascience.AOS_ALL_US_PROD b\n",
    "# on a.consolidated_id_1=b.consolidated_id_2 and a.consolidated_id_2=b.consolidated_id_1);\n",
    "# '''\n",
    "\n",
    "# execute_query(aosstr_prep)"
   ]
  },
  {
   "cell_type": "code",
   "execution_count": 10,
   "metadata": {},
   "outputs": [
    {
     "data": {
      "text/html": [
       "<div>\n",
       "<style scoped>\n",
       "    .dataframe tbody tr th:only-of-type {\n",
       "        vertical-align: middle;\n",
       "    }\n",
       "\n",
       "    .dataframe tbody tr th {\n",
       "        vertical-align: top;\n",
       "    }\n",
       "\n",
       "    .dataframe thead th {\n",
       "        text-align: right;\n",
       "    }\n",
       "</style>\n",
       "<table border=\"1\" class=\"dataframe\">\n",
       "  <thead>\n",
       "    <tr style=\"text-align: right;\">\n",
       "      <th></th>\n",
       "      <th>CONSOLIDATED_ID_1</th>\n",
       "      <th>CONSOLIDATED_TITLE_1</th>\n",
       "      <th>CONSOLIDATED_ID_2</th>\n",
       "      <th>CONSOLIDATED_TITLE_2</th>\n",
       "      <th>SCORE</th>\n",
       "      <th>LEVEL_1_CATG_NAME_1</th>\n",
       "      <th>LEVEL_1_CATG_NAME_2</th>\n",
       "      <th>R</th>\n",
       "    </tr>\n",
       "  </thead>\n",
       "  <tbody>\n",
       "    <tr>\n",
       "      <th>0</th>\n",
       "      <td>8fa4908b-10d0-473e-b11c-cafb0921f6dc</td>\n",
       "      <td>90 day fiance: b90 strikes back!</td>\n",
       "      <td>8fa4908b-10d0-473e-b11c-cafb0921f6dc</td>\n",
       "      <td>90 day fiance: b90 strikes back!</td>\n",
       "      <td>1.000000</td>\n",
       "      <td>series</td>\n",
       "      <td>series</td>\n",
       "      <td>1</td>\n",
       "    </tr>\n",
       "    <tr>\n",
       "      <th>1</th>\n",
       "      <td>8fa4908b-10d0-473e-b11c-cafb0921f6dc</td>\n",
       "      <td>90 day fiance: b90 strikes back!</td>\n",
       "      <td>6e04063b-47b7-4c44-92cf-d4354406c565</td>\n",
       "      <td>90 day: the last resort</td>\n",
       "      <td>1.000000</td>\n",
       "      <td>series</td>\n",
       "      <td>series</td>\n",
       "      <td>2</td>\n",
       "    </tr>\n",
       "    <tr>\n",
       "      <th>2</th>\n",
       "      <td>8fa4908b-10d0-473e-b11c-cafb0921f6dc</td>\n",
       "      <td>90 day fiance: b90 strikes back!</td>\n",
       "      <td>f00f5486-4bf3-461f-8272-a5598cc7865d</td>\n",
       "      <td>90 day fiance</td>\n",
       "      <td>0.999144</td>\n",
       "      <td>series</td>\n",
       "      <td>series</td>\n",
       "      <td>3</td>\n",
       "    </tr>\n",
       "    <tr>\n",
       "      <th>3</th>\n",
       "      <td>8fa4908b-10d0-473e-b11c-cafb0921f6dc</td>\n",
       "      <td>90 day fiance: b90 strikes back!</td>\n",
       "      <td>b5598713-bb7d-4dca-b797-fa3ca2f31f42</td>\n",
       "      <td>90 day: the single life</td>\n",
       "      <td>0.993989</td>\n",
       "      <td>series</td>\n",
       "      <td>series</td>\n",
       "      <td>4</td>\n",
       "    </tr>\n",
       "    <tr>\n",
       "      <th>4</th>\n",
       "      <td>8fa4908b-10d0-473e-b11c-cafb0921f6dc</td>\n",
       "      <td>90 day fiance: b90 strikes back!</td>\n",
       "      <td>0d9842b3-6ffa-45b7-9ead-21d01e32823f</td>\n",
       "      <td>street outlaws vs. the world</td>\n",
       "      <td>0.986205</td>\n",
       "      <td>series</td>\n",
       "      <td>series</td>\n",
       "      <td>5</td>\n",
       "    </tr>\n",
       "  </tbody>\n",
       "</table>\n",
       "</div>"
      ],
      "text/plain": [
       "                      CONSOLIDATED_ID_1              CONSOLIDATED_TITLE_1  \\\n",
       "0  8fa4908b-10d0-473e-b11c-cafb0921f6dc  90 day fiance: b90 strikes back!   \n",
       "1  8fa4908b-10d0-473e-b11c-cafb0921f6dc  90 day fiance: b90 strikes back!   \n",
       "2  8fa4908b-10d0-473e-b11c-cafb0921f6dc  90 day fiance: b90 strikes back!   \n",
       "3  8fa4908b-10d0-473e-b11c-cafb0921f6dc  90 day fiance: b90 strikes back!   \n",
       "4  8fa4908b-10d0-473e-b11c-cafb0921f6dc  90 day fiance: b90 strikes back!   \n",
       "\n",
       "                      CONSOLIDATED_ID_2              CONSOLIDATED_TITLE_2  \\\n",
       "0  8fa4908b-10d0-473e-b11c-cafb0921f6dc  90 day fiance: b90 strikes back!   \n",
       "1  6e04063b-47b7-4c44-92cf-d4354406c565           90 day: the last resort   \n",
       "2  f00f5486-4bf3-461f-8272-a5598cc7865d                     90 day fiance   \n",
       "3  b5598713-bb7d-4dca-b797-fa3ca2f31f42           90 day: the single life   \n",
       "4  0d9842b3-6ffa-45b7-9ead-21d01e32823f      street outlaws vs. the world   \n",
       "\n",
       "      SCORE LEVEL_1_CATG_NAME_1 LEVEL_1_CATG_NAME_2  R  \n",
       "0  1.000000              series              series  1  \n",
       "1  1.000000              series              series  2  \n",
       "2  0.999144              series              series  3  \n",
       "3  0.993989              series              series  4  \n",
       "4  0.986205              series              series  5  "
      ]
     },
     "execution_count": 10,
     "metadata": {},
     "output_type": "execute_result"
    }
   ],
   "source": [
    "aosstr='''\n",
    "with base as (\n",
    " select *, row_number() over (partition by CONSOLIDATED_TITLE_1 order by SCORE desc) as r \n",
    " from max_dev.content_datascience.joe_title_aos_max )\n",
    "select * from base where r<=100;\n",
    "'''\n",
    "aos_db=pd.read_sql(aosstr,ctx)\n",
    "aos_db.head()"
   ]
  },
  {
   "cell_type": "markdown",
   "metadata": {},
   "source": [
    "# 2. Encode data"
   ]
  },
  {
   "cell_type": "code",
   "execution_count": null,
   "metadata": {},
   "outputs": [],
   "source": [
    "!jupyter labextension install jupyter-matplotlib@0.3.0"
   ]
  },
  {
   "cell_type": "code",
   "execution_count": 11,
   "metadata": {
    "collapsed": true,
    "jupyter": {
     "outputs_hidden": true
    },
    "scrolled": true
   },
   "outputs": [
    {
     "data": {
      "application/vnd.jupyter.widget-view+json": {
       "model_id": "a3a9308b01b5471698a8f08096ef6765",
       "version_major": 2,
       "version_minor": 0
      },
      "text/plain": [
       "Downloading:   0%|          | 0.00/1.18k [00:00<?, ?B/s]"
      ]
     },
     "metadata": {},
     "output_type": "display_data"
    },
    {
     "data": {
      "application/vnd.jupyter.widget-view+json": {
       "model_id": "72a5d0a946c04f6495cd5a6eb2ae88ac",
       "version_major": 2,
       "version_minor": 0
      },
      "text/plain": [
       "Downloading:   0%|          | 0.00/190 [00:00<?, ?B/s]"
      ]
     },
     "metadata": {},
     "output_type": "display_data"
    },
    {
     "data": {
      "application/vnd.jupyter.widget-view+json": {
       "model_id": "a75dcf8504c548979bc0ad4986f4a03c",
       "version_major": 2,
       "version_minor": 0
      },
      "text/plain": [
       "Downloading:   0%|          | 0.00/10.7k [00:00<?, ?B/s]"
      ]
     },
     "metadata": {},
     "output_type": "display_data"
    },
    {
     "data": {
      "application/vnd.jupyter.widget-view+json": {
       "model_id": "b3218dedde3f40f38822da8219893afd",
       "version_major": 2,
       "version_minor": 0
      },
      "text/plain": [
       "Downloading:   0%|          | 0.00/612 [00:00<?, ?B/s]"
      ]
     },
     "metadata": {},
     "output_type": "display_data"
    },
    {
     "data": {
      "application/vnd.jupyter.widget-view+json": {
       "model_id": "445cdf43a60d4b0aa5ce24229c7eb178",
       "version_major": 2,
       "version_minor": 0
      },
      "text/plain": [
       "Downloading:   0%|          | 0.00/116 [00:00<?, ?B/s]"
      ]
     },
     "metadata": {},
     "output_type": "display_data"
    },
    {
     "data": {
      "application/vnd.jupyter.widget-view+json": {
       "model_id": "bf09c3001bb6495d8c0311f712bde575",
       "version_major": 2,
       "version_minor": 0
      },
      "text/plain": [
       "Downloading:   0%|          | 0.00/39.3k [00:00<?, ?B/s]"
      ]
     },
     "metadata": {},
     "output_type": "display_data"
    },
    {
     "data": {
      "application/vnd.jupyter.widget-view+json": {
       "model_id": "b612634d2d064302aea5aa99fa22a8f5",
       "version_major": 2,
       "version_minor": 0
      },
      "text/plain": [
       "Downloading:   0%|          | 0.00/90.9M [00:00<?, ?B/s]"
      ]
     },
     "metadata": {},
     "output_type": "display_data"
    },
    {
     "data": {
      "application/vnd.jupyter.widget-view+json": {
       "model_id": "4f656573061b4fb89c17a4b2f52225b2",
       "version_major": 2,
       "version_minor": 0
      },
      "text/plain": [
       "Downloading:   0%|          | 0.00/53.0 [00:00<?, ?B/s]"
      ]
     },
     "metadata": {},
     "output_type": "display_data"
    },
    {
     "data": {
      "application/vnd.jupyter.widget-view+json": {
       "model_id": "b2ef5c9bd75142de9e8cc7e803c517f6",
       "version_major": 2,
       "version_minor": 0
      },
      "text/plain": [
       "Downloading:   0%|          | 0.00/112 [00:00<?, ?B/s]"
      ]
     },
     "metadata": {},
     "output_type": "display_data"
    },
    {
     "data": {
      "application/vnd.jupyter.widget-view+json": {
       "model_id": "aeb1faac4c514a58965e7c069dbe00be",
       "version_major": 2,
       "version_minor": 0
      },
      "text/plain": [
       "Downloading:   0%|          | 0.00/466k [00:00<?, ?B/s]"
      ]
     },
     "metadata": {},
     "output_type": "display_data"
    },
    {
     "data": {
      "application/vnd.jupyter.widget-view+json": {
       "model_id": "7ea40b508b2345c79ddb25eeb34de7f1",
       "version_major": 2,
       "version_minor": 0
      },
      "text/plain": [
       "Downloading:   0%|          | 0.00/350 [00:00<?, ?B/s]"
      ]
     },
     "metadata": {},
     "output_type": "display_data"
    },
    {
     "data": {
      "application/vnd.jupyter.widget-view+json": {
       "model_id": "df2a6e92add9482aa5bb2aad4216310d",
       "version_major": 2,
       "version_minor": 0
      },
      "text/plain": [
       "Downloading:   0%|          | 0.00/13.2k [00:00<?, ?B/s]"
      ]
     },
     "metadata": {},
     "output_type": "display_data"
    },
    {
     "data": {
      "application/vnd.jupyter.widget-view+json": {
       "model_id": "0e5cc7a161cb49658dc74a5662b81772",
       "version_major": 2,
       "version_minor": 0
      },
      "text/plain": [
       "Downloading:   0%|          | 0.00/232k [00:00<?, ?B/s]"
      ]
     },
     "metadata": {},
     "output_type": "display_data"
    },
    {
     "data": {
      "application/vnd.jupyter.widget-view+json": {
       "model_id": "90ea6fc4319c4d7384225d8b22b8b617",
       "version_major": 2,
       "version_minor": 0
      },
      "text/plain": [
       "Downloading:   0%|          | 0.00/349 [00:00<?, ?B/s]"
      ]
     },
     "metadata": {},
     "output_type": "display_data"
    }
   ],
   "source": [
    "from sentence_transformers import SentenceTransformer\n",
    "encode_model = SentenceTransformer('all-MiniLM-L6-v2')"
   ]
  },
  {
   "cell_type": "code",
   "execution_count": 14,
   "metadata": {},
   "outputs": [],
   "source": [
    "title_info_db['TITLE_PLOT']=title_info_db['TITLE_PLOT'].fillna('')"
   ]
  },
  {
   "cell_type": "code",
   "execution_count": 16,
   "metadata": {},
   "outputs": [
    {
     "data": {
      "text/html": [
       "<div>\n",
       "<style scoped>\n",
       "    .dataframe tbody tr th:only-of-type {\n",
       "        vertical-align: middle;\n",
       "    }\n",
       "\n",
       "    .dataframe tbody tr th {\n",
       "        vertical-align: top;\n",
       "    }\n",
       "\n",
       "    .dataframe thead th {\n",
       "        text-align: right;\n",
       "    }\n",
       "</style>\n",
       "<table border=\"1\" class=\"dataframe\">\n",
       "  <thead>\n",
       "    <tr style=\"text-align: right;\">\n",
       "      <th></th>\n",
       "      <th>CONSOLIDTED_ID</th>\n",
       "      <th>TITLE_PLOT</th>\n",
       "      <th>ASSET_TITLE</th>\n",
       "      <th>CONTENT_CATEGORY</th>\n",
       "      <th>ASSET_TAGS_AGE</th>\n",
       "      <th>PROGRAM_TYPE</th>\n",
       "      <th>PRIMARY_GENRE_DESC</th>\n",
       "      <th>RELEASE_YEAR</th>\n",
       "      <th>IMDB_RATING</th>\n",
       "      <th>WIKI_PAGE_VIEWS</th>\n",
       "      <th>tile_embedding</th>\n",
       "    </tr>\n",
       "  </thead>\n",
       "  <tbody>\n",
       "    <tr>\n",
       "      <th>0</th>\n",
       "      <td>9984c53a-641d-49e4-ae0e-bbac4e3277b3</td>\n",
       "      <td>Trapped among an army of Weeping Angels, can t...</td>\n",
       "      <td>Doctor Who</td>\n",
       "      <td>episode</td>\n",
       "      <td>[\\n  \"Family Content\",\\n  \"Young Adults\"\\n]</td>\n",
       "      <td>Acquired</td>\n",
       "      <td>Fantasy &amp; Sci-Fi</td>\n",
       "      <td>2010.0</td>\n",
       "      <td>8.5</td>\n",
       "      <td>8.5</td>\n",
       "      <td>[0.022789673879742622, 0.0890822634100914, 0.0...</td>\n",
       "    </tr>\n",
       "    <tr>\n",
       "      <th>1</th>\n",
       "      <td>5bd33c9d-2ab7-4204-97ab-51bcac4c290a</td>\n",
       "      <td>Geneva's boyfriend wants to marry her--until M...</td>\n",
       "      <td>Hangin' with Mr. Cooper</td>\n",
       "      <td>episode</td>\n",
       "      <td>[\\n  \"Pre-teens\",\\n  \"Family Content\",\\n  \"You...</td>\n",
       "      <td>Acquired</td>\n",
       "      <td>Comedy</td>\n",
       "      <td>1997.0</td>\n",
       "      <td>6.4</td>\n",
       "      <td>6.4</td>\n",
       "      <td>[-0.06971671432256699, 0.059893134981393814, 0...</td>\n",
       "    </tr>\n",
       "    <tr>\n",
       "      <th>2</th>\n",
       "      <td>59e5127c-5533-4ae5-a407-defd7df94dad</td>\n",
       "      <td>Tyrion roots out a spy. Catelyn meets a new ki...</td>\n",
       "      <td>Game of Thrones</td>\n",
       "      <td>episode</td>\n",
       "      <td>[]</td>\n",
       "      <td>Original</td>\n",
       "      <td>Drama</td>\n",
       "      <td>2012.0</td>\n",
       "      <td>8.7</td>\n",
       "      <td>8.7</td>\n",
       "      <td>[0.015201307833194733, -0.016968216747045517, ...</td>\n",
       "    </tr>\n",
       "    <tr>\n",
       "      <th>3</th>\n",
       "      <td>8f3e0583-84c5-48e3-be0b-66deb8497583</td>\n",
       "      <td>After surviving and escaping an abusive marria...</td>\n",
       "      <td>A Vigilante</td>\n",
       "      <td>movie</td>\n",
       "      <td>[]</td>\n",
       "      <td>Acquired</td>\n",
       "      <td>Drama</td>\n",
       "      <td>2019.0</td>\n",
       "      <td>5.7</td>\n",
       "      <td>5.7</td>\n",
       "      <td>[-0.002238643355667591, -0.09934654831886292, ...</td>\n",
       "    </tr>\n",
       "    <tr>\n",
       "      <th>4</th>\n",
       "      <td>4a6b90d9-f3ab-4f80-9a0a-baaf4a45e7db</td>\n",
       "      <td>Selçuk confronts Volkan. Bahar checks on Mert ...</td>\n",
       "      <td>A Woman Scorned</td>\n",
       "      <td>episode</td>\n",
       "      <td>[]</td>\n",
       "      <td>Acquired</td>\n",
       "      <td>Novela</td>\n",
       "      <td>2020.0</td>\n",
       "      <td>6.4</td>\n",
       "      <td>6.4</td>\n",
       "      <td>[-0.02949143946170807, 0.08987138420343399, -0...</td>\n",
       "    </tr>\n",
       "  </tbody>\n",
       "</table>\n",
       "</div>"
      ],
      "text/plain": [
       "                         CONSOLIDTED_ID  \\\n",
       "0  9984c53a-641d-49e4-ae0e-bbac4e3277b3   \n",
       "1  5bd33c9d-2ab7-4204-97ab-51bcac4c290a   \n",
       "2  59e5127c-5533-4ae5-a407-defd7df94dad   \n",
       "3  8f3e0583-84c5-48e3-be0b-66deb8497583   \n",
       "4  4a6b90d9-f3ab-4f80-9a0a-baaf4a45e7db   \n",
       "\n",
       "                                          TITLE_PLOT              ASSET_TITLE  \\\n",
       "0  Trapped among an army of Weeping Angels, can t...               Doctor Who   \n",
       "1  Geneva's boyfriend wants to marry her--until M...  Hangin' with Mr. Cooper   \n",
       "2  Tyrion roots out a spy. Catelyn meets a new ki...          Game of Thrones   \n",
       "3  After surviving and escaping an abusive marria...              A Vigilante   \n",
       "4  Selçuk confronts Volkan. Bahar checks on Mert ...          A Woman Scorned   \n",
       "\n",
       "  CONTENT_CATEGORY                                     ASSET_TAGS_AGE  \\\n",
       "0          episode        [\\n  \"Family Content\",\\n  \"Young Adults\"\\n]   \n",
       "1          episode  [\\n  \"Pre-teens\",\\n  \"Family Content\",\\n  \"You...   \n",
       "2          episode                                                 []   \n",
       "3            movie                                                 []   \n",
       "4          episode                                                 []   \n",
       "\n",
       "  PROGRAM_TYPE PRIMARY_GENRE_DESC  RELEASE_YEAR  IMDB_RATING  WIKI_PAGE_VIEWS  \\\n",
       "0     Acquired   Fantasy & Sci-Fi        2010.0          8.5              8.5   \n",
       "1     Acquired             Comedy        1997.0          6.4              6.4   \n",
       "2     Original              Drama        2012.0          8.7              8.7   \n",
       "3     Acquired              Drama        2019.0          5.7              5.7   \n",
       "4     Acquired             Novela        2020.0          6.4              6.4   \n",
       "\n",
       "                                      tile_embedding  \n",
       "0  [0.022789673879742622, 0.0890822634100914, 0.0...  \n",
       "1  [-0.06971671432256699, 0.059893134981393814, 0...  \n",
       "2  [0.015201307833194733, -0.016968216747045517, ...  \n",
       "3  [-0.002238643355667591, -0.09934654831886292, ...  \n",
       "4  [-0.02949143946170807, 0.08987138420343399, -0...  "
      ]
     },
     "execution_count": 16,
     "metadata": {},
     "output_type": "execute_result"
    }
   ],
   "source": [
    "title_info_db['tile_embedding']=encode_model.encode(title_info_db['TITLE_PLOT'].values).tolist()\n",
    "title_info_db.head()"
   ]
  },
  {
   "cell_type": "code",
   "execution_count": 18,
   "metadata": {},
   "outputs": [
    {
     "data": {
      "text/plain": [
       "array(['CONSOLIDTED_ID', 'TITLE_PLOT', 'ASSET_TITLE', 'CONTENT_CATEGORY',\n",
       "       'ASSET_TAGS_AGE', 'PROGRAM_TYPE', 'PRIMARY_GENRE_DESC',\n",
       "       'RELEASE_YEAR', 'IMDB_RATING', 'WIKI_PAGE_VIEWS', 'tile_embedding'],\n",
       "      dtype=object)"
      ]
     },
     "execution_count": 18,
     "metadata": {},
     "output_type": "execute_result"
    }
   ],
   "source": [
    "title_info_db.columns.values"
   ]
  },
  {
   "cell_type": "code",
   "execution_count": 19,
   "metadata": {},
   "outputs": [
    {
     "data": {
      "text/html": [
       "<div>\n",
       "<style scoped>\n",
       "    .dataframe tbody tr th:only-of-type {\n",
       "        vertical-align: middle;\n",
       "    }\n",
       "\n",
       "    .dataframe tbody tr th {\n",
       "        vertical-align: top;\n",
       "    }\n",
       "\n",
       "    .dataframe thead th {\n",
       "        text-align: right;\n",
       "    }\n",
       "</style>\n",
       "<table border=\"1\" class=\"dataframe\">\n",
       "  <thead>\n",
       "    <tr style=\"text-align: right;\">\n",
       "      <th></th>\n",
       "      <th>CONSOLIDATED_ID_1</th>\n",
       "      <th>CONSOLIDATED_TITLE_1</th>\n",
       "      <th>CONSOLIDATED_ID_2</th>\n",
       "      <th>CONSOLIDATED_TITLE_2</th>\n",
       "      <th>SCORE</th>\n",
       "      <th>LEVEL_1_CATG_NAME_1</th>\n",
       "      <th>LEVEL_1_CATG_NAME_2</th>\n",
       "      <th>R</th>\n",
       "      <th>CONSOLIDTED_ID</th>\n",
       "      <th>TITLE_PLOT</th>\n",
       "      <th>ASSET_TITLE</th>\n",
       "      <th>CONTENT_CATEGORY</th>\n",
       "      <th>ASSET_TAGS_AGE</th>\n",
       "      <th>PROGRAM_TYPE</th>\n",
       "      <th>PRIMARY_GENRE_DESC</th>\n",
       "      <th>RELEASE_YEAR</th>\n",
       "      <th>IMDB_RATING</th>\n",
       "      <th>WIKI_PAGE_VIEWS</th>\n",
       "      <th>tile_embedding</th>\n",
       "    </tr>\n",
       "  </thead>\n",
       "  <tbody>\n",
       "    <tr>\n",
       "      <th>0</th>\n",
       "      <td>6329cae0-837b-40fc-8a0f-821ec42a72a3</td>\n",
       "      <td>because of winn-dixie</td>\n",
       "      <td>6329cae0-837b-40fc-8a0f-821ec42a72a3</td>\n",
       "      <td>because of winn-dixie</td>\n",
       "      <td>1.000000</td>\n",
       "      <td>movies</td>\n",
       "      <td>movies</td>\n",
       "      <td>1</td>\n",
       "      <td>6329cae0-837b-40fc-8a0f-821ec42a72a3</td>\n",
       "      <td>A lonely little girl bonds with a friendly str...</td>\n",
       "      <td>Because of Winn-Dixie</td>\n",
       "      <td>movie</td>\n",
       "      <td>[\\n  \"Pre-teens\",\\n  \"Family Content\",\\n  \"You...</td>\n",
       "      <td>Acquired</td>\n",
       "      <td>Kids &amp; Family</td>\n",
       "      <td>2005.0</td>\n",
       "      <td>6.4</td>\n",
       "      <td>6.4</td>\n",
       "      <td>[0.005083524156361818, -0.03101217746734619, 0...</td>\n",
       "    </tr>\n",
       "    <tr>\n",
       "      <th>1</th>\n",
       "      <td>6329cae0-837b-40fc-8a0f-821ec42a72a3</td>\n",
       "      <td>because of winn-dixie</td>\n",
       "      <td>00bcd5bf-6b63-40a2-a78e-d46e2f3d111c</td>\n",
       "      <td>cold case</td>\n",
       "      <td>1.000000</td>\n",
       "      <td>movies</td>\n",
       "      <td>series</td>\n",
       "      <td>2</td>\n",
       "      <td>6329cae0-837b-40fc-8a0f-821ec42a72a3</td>\n",
       "      <td>A lonely little girl bonds with a friendly str...</td>\n",
       "      <td>Because of Winn-Dixie</td>\n",
       "      <td>movie</td>\n",
       "      <td>[\\n  \"Pre-teens\",\\n  \"Family Content\",\\n  \"You...</td>\n",
       "      <td>Acquired</td>\n",
       "      <td>Kids &amp; Family</td>\n",
       "      <td>2005.0</td>\n",
       "      <td>6.4</td>\n",
       "      <td>6.4</td>\n",
       "      <td>[0.005083524156361818, -0.03101217746734619, 0...</td>\n",
       "    </tr>\n",
       "    <tr>\n",
       "      <th>2</th>\n",
       "      <td>6329cae0-837b-40fc-8a0f-821ec42a72a3</td>\n",
       "      <td>because of winn-dixie</td>\n",
       "      <td>447e451d-ef9c-4100-8474-a5fa2d9af3e5</td>\n",
       "      <td>agent cody banks</td>\n",
       "      <td>0.999091</td>\n",
       "      <td>movies</td>\n",
       "      <td>movies</td>\n",
       "      <td>3</td>\n",
       "      <td>6329cae0-837b-40fc-8a0f-821ec42a72a3</td>\n",
       "      <td>A lonely little girl bonds with a friendly str...</td>\n",
       "      <td>Because of Winn-Dixie</td>\n",
       "      <td>movie</td>\n",
       "      <td>[\\n  \"Pre-teens\",\\n  \"Family Content\",\\n  \"You...</td>\n",
       "      <td>Acquired</td>\n",
       "      <td>Kids &amp; Family</td>\n",
       "      <td>2005.0</td>\n",
       "      <td>6.4</td>\n",
       "      <td>6.4</td>\n",
       "      <td>[0.005083524156361818, -0.03101217746734619, 0...</td>\n",
       "    </tr>\n",
       "    <tr>\n",
       "      <th>3</th>\n",
       "      <td>6329cae0-837b-40fc-8a0f-821ec42a72a3</td>\n",
       "      <td>because of winn-dixie</td>\n",
       "      <td>f0feafed-320a-4463-8a43-f18d11e769e6</td>\n",
       "      <td>the fluffy movie</td>\n",
       "      <td>0.998681</td>\n",
       "      <td>movies</td>\n",
       "      <td>movies</td>\n",
       "      <td>4</td>\n",
       "      <td>6329cae0-837b-40fc-8a0f-821ec42a72a3</td>\n",
       "      <td>A lonely little girl bonds with a friendly str...</td>\n",
       "      <td>Because of Winn-Dixie</td>\n",
       "      <td>movie</td>\n",
       "      <td>[\\n  \"Pre-teens\",\\n  \"Family Content\",\\n  \"You...</td>\n",
       "      <td>Acquired</td>\n",
       "      <td>Kids &amp; Family</td>\n",
       "      <td>2005.0</td>\n",
       "      <td>6.4</td>\n",
       "      <td>6.4</td>\n",
       "      <td>[0.005083524156361818, -0.03101217746734619, 0...</td>\n",
       "    </tr>\n",
       "    <tr>\n",
       "      <th>4</th>\n",
       "      <td>6329cae0-837b-40fc-8a0f-821ec42a72a3</td>\n",
       "      <td>because of winn-dixie</td>\n",
       "      <td>34a2bec6-d564-4fab-8957-55d967e156d4</td>\n",
       "      <td>step by step</td>\n",
       "      <td>0.998261</td>\n",
       "      <td>movies</td>\n",
       "      <td>series</td>\n",
       "      <td>5</td>\n",
       "      <td>6329cae0-837b-40fc-8a0f-821ec42a72a3</td>\n",
       "      <td>A lonely little girl bonds with a friendly str...</td>\n",
       "      <td>Because of Winn-Dixie</td>\n",
       "      <td>movie</td>\n",
       "      <td>[\\n  \"Pre-teens\",\\n  \"Family Content\",\\n  \"You...</td>\n",
       "      <td>Acquired</td>\n",
       "      <td>Kids &amp; Family</td>\n",
       "      <td>2005.0</td>\n",
       "      <td>6.4</td>\n",
       "      <td>6.4</td>\n",
       "      <td>[0.005083524156361818, -0.03101217746734619, 0...</td>\n",
       "    </tr>\n",
       "  </tbody>\n",
       "</table>\n",
       "</div>"
      ],
      "text/plain": [
       "                      CONSOLIDATED_ID_1   CONSOLIDATED_TITLE_1  \\\n",
       "0  6329cae0-837b-40fc-8a0f-821ec42a72a3  because of winn-dixie   \n",
       "1  6329cae0-837b-40fc-8a0f-821ec42a72a3  because of winn-dixie   \n",
       "2  6329cae0-837b-40fc-8a0f-821ec42a72a3  because of winn-dixie   \n",
       "3  6329cae0-837b-40fc-8a0f-821ec42a72a3  because of winn-dixie   \n",
       "4  6329cae0-837b-40fc-8a0f-821ec42a72a3  because of winn-dixie   \n",
       "\n",
       "                      CONSOLIDATED_ID_2   CONSOLIDATED_TITLE_2     SCORE  \\\n",
       "0  6329cae0-837b-40fc-8a0f-821ec42a72a3  because of winn-dixie  1.000000   \n",
       "1  00bcd5bf-6b63-40a2-a78e-d46e2f3d111c              cold case  1.000000   \n",
       "2  447e451d-ef9c-4100-8474-a5fa2d9af3e5       agent cody banks  0.999091   \n",
       "3  f0feafed-320a-4463-8a43-f18d11e769e6       the fluffy movie  0.998681   \n",
       "4  34a2bec6-d564-4fab-8957-55d967e156d4           step by step  0.998261   \n",
       "\n",
       "  LEVEL_1_CATG_NAME_1 LEVEL_1_CATG_NAME_2  R  \\\n",
       "0              movies              movies  1   \n",
       "1              movies              series  2   \n",
       "2              movies              movies  3   \n",
       "3              movies              movies  4   \n",
       "4              movies              series  5   \n",
       "\n",
       "                         CONSOLIDTED_ID  \\\n",
       "0  6329cae0-837b-40fc-8a0f-821ec42a72a3   \n",
       "1  6329cae0-837b-40fc-8a0f-821ec42a72a3   \n",
       "2  6329cae0-837b-40fc-8a0f-821ec42a72a3   \n",
       "3  6329cae0-837b-40fc-8a0f-821ec42a72a3   \n",
       "4  6329cae0-837b-40fc-8a0f-821ec42a72a3   \n",
       "\n",
       "                                          TITLE_PLOT            ASSET_TITLE  \\\n",
       "0  A lonely little girl bonds with a friendly str...  Because of Winn-Dixie   \n",
       "1  A lonely little girl bonds with a friendly str...  Because of Winn-Dixie   \n",
       "2  A lonely little girl bonds with a friendly str...  Because of Winn-Dixie   \n",
       "3  A lonely little girl bonds with a friendly str...  Because of Winn-Dixie   \n",
       "4  A lonely little girl bonds with a friendly str...  Because of Winn-Dixie   \n",
       "\n",
       "  CONTENT_CATEGORY                                     ASSET_TAGS_AGE  \\\n",
       "0            movie  [\\n  \"Pre-teens\",\\n  \"Family Content\",\\n  \"You...   \n",
       "1            movie  [\\n  \"Pre-teens\",\\n  \"Family Content\",\\n  \"You...   \n",
       "2            movie  [\\n  \"Pre-teens\",\\n  \"Family Content\",\\n  \"You...   \n",
       "3            movie  [\\n  \"Pre-teens\",\\n  \"Family Content\",\\n  \"You...   \n",
       "4            movie  [\\n  \"Pre-teens\",\\n  \"Family Content\",\\n  \"You...   \n",
       "\n",
       "  PROGRAM_TYPE PRIMARY_GENRE_DESC  RELEASE_YEAR  IMDB_RATING  WIKI_PAGE_VIEWS  \\\n",
       "0     Acquired      Kids & Family        2005.0          6.4              6.4   \n",
       "1     Acquired      Kids & Family        2005.0          6.4              6.4   \n",
       "2     Acquired      Kids & Family        2005.0          6.4              6.4   \n",
       "3     Acquired      Kids & Family        2005.0          6.4              6.4   \n",
       "4     Acquired      Kids & Family        2005.0          6.4              6.4   \n",
       "\n",
       "                                      tile_embedding  \n",
       "0  [0.005083524156361818, -0.03101217746734619, 0...  \n",
       "1  [0.005083524156361818, -0.03101217746734619, 0...  \n",
       "2  [0.005083524156361818, -0.03101217746734619, 0...  \n",
       "3  [0.005083524156361818, -0.03101217746734619, 0...  \n",
       "4  [0.005083524156361818, -0.03101217746734619, 0...  "
      ]
     },
     "execution_count": 19,
     "metadata": {},
     "output_type": "execute_result"
    }
   ],
   "source": [
    "aos_embedding_db=aos_db.merge(title_info_db,left_on='CONSOLIDATED_ID_1',right_on='CONSOLIDTED_ID')\n",
    "aos_embedding_db.head()"
   ]
  },
  {
   "cell_type": "code",
   "execution_count": 16,
   "metadata": {},
   "outputs": [
    {
     "data": {
      "text/html": [
       "<div>\n",
       "<style scoped>\n",
       "    .dataframe tbody tr th:only-of-type {\n",
       "        vertical-align: middle;\n",
       "    }\n",
       "\n",
       "    .dataframe tbody tr th {\n",
       "        vertical-align: top;\n",
       "    }\n",
       "\n",
       "    .dataframe thead th {\n",
       "        text-align: right;\n",
       "    }\n",
       "</style>\n",
       "<table border=\"1\" class=\"dataframe\">\n",
       "  <thead>\n",
       "    <tr style=\"text-align: right;\">\n",
       "      <th></th>\n",
       "      <th>CONSOLIDATED_ID_1</th>\n",
       "      <th>CONSOLIDATED_TITLE_1</th>\n",
       "      <th>CONSOLIDATED_ID_2</th>\n",
       "      <th>CONSOLIDATED_TITLE_2</th>\n",
       "      <th>SCORE</th>\n",
       "      <th>LEVEL_1_CATG_NAME_1</th>\n",
       "      <th>LEVEL_1_CATG_NAME_2</th>\n",
       "      <th>R</th>\n",
       "      <th>TITLE_PLOT</th>\n",
       "      <th>ASSET_TITLE</th>\n",
       "      <th>CONTENT_CATEGORY</th>\n",
       "      <th>ASSET_TAGS_AGE</th>\n",
       "      <th>PROGRAM_TYPE</th>\n",
       "      <th>PRIMARY_GENRE_DESC</th>\n",
       "      <th>RELEASE_YEAR</th>\n",
       "      <th>IMDB_RATING</th>\n",
       "      <th>WIKI_PAGE_VIEWS</th>\n",
       "      <th>tile_embedding_1</th>\n",
       "    </tr>\n",
       "  </thead>\n",
       "  <tbody>\n",
       "    <tr>\n",
       "      <th>0</th>\n",
       "      <td>6329cae0-837b-40fc-8a0f-821ec42a72a3</td>\n",
       "      <td>because of winn-dixie</td>\n",
       "      <td>6329cae0-837b-40fc-8a0f-821ec42a72a3</td>\n",
       "      <td>because of winn-dixie</td>\n",
       "      <td>1.000000</td>\n",
       "      <td>movies</td>\n",
       "      <td>movies</td>\n",
       "      <td>1</td>\n",
       "      <td>A lonely little girl bonds with a friendly str...</td>\n",
       "      <td>Because of Winn-Dixie</td>\n",
       "      <td>movie</td>\n",
       "      <td>[\\n  \"Pre-teens\",\\n  \"Family Content\",\\n  \"You...</td>\n",
       "      <td>Acquired</td>\n",
       "      <td>Kids &amp; Family</td>\n",
       "      <td>2005.0</td>\n",
       "      <td>6.3</td>\n",
       "      <td>6.3</td>\n",
       "      <td>[0.005083524156361818, -0.03101217746734619, 0...</td>\n",
       "    </tr>\n",
       "    <tr>\n",
       "      <th>1</th>\n",
       "      <td>6329cae0-837b-40fc-8a0f-821ec42a72a3</td>\n",
       "      <td>because of winn-dixie</td>\n",
       "      <td>f0feafed-320a-4463-8a43-f18d11e769e6</td>\n",
       "      <td>the fluffy movie</td>\n",
       "      <td>1.000000</td>\n",
       "      <td>movies</td>\n",
       "      <td>movies</td>\n",
       "      <td>2</td>\n",
       "      <td>A lonely little girl bonds with a friendly str...</td>\n",
       "      <td>Because of Winn-Dixie</td>\n",
       "      <td>movie</td>\n",
       "      <td>[\\n  \"Pre-teens\",\\n  \"Family Content\",\\n  \"You...</td>\n",
       "      <td>Acquired</td>\n",
       "      <td>Kids &amp; Family</td>\n",
       "      <td>2005.0</td>\n",
       "      <td>6.3</td>\n",
       "      <td>6.3</td>\n",
       "      <td>[0.005083524156361818, -0.03101217746734619, 0...</td>\n",
       "    </tr>\n",
       "    <tr>\n",
       "      <th>2</th>\n",
       "      <td>6329cae0-837b-40fc-8a0f-821ec42a72a3</td>\n",
       "      <td>because of winn-dixie</td>\n",
       "      <td>5343c82a-de51-4a09-8321-a2cc7200afe2</td>\n",
       "      <td>lucas the spider shorts: meet the boop troop</td>\n",
       "      <td>0.999878</td>\n",
       "      <td>movies</td>\n",
       "      <td>series</td>\n",
       "      <td>3</td>\n",
       "      <td>A lonely little girl bonds with a friendly str...</td>\n",
       "      <td>Because of Winn-Dixie</td>\n",
       "      <td>movie</td>\n",
       "      <td>[\\n  \"Pre-teens\",\\n  \"Family Content\",\\n  \"You...</td>\n",
       "      <td>Acquired</td>\n",
       "      <td>Kids &amp; Family</td>\n",
       "      <td>2005.0</td>\n",
       "      <td>6.3</td>\n",
       "      <td>6.3</td>\n",
       "      <td>[0.005083524156361818, -0.03101217746734619, 0...</td>\n",
       "    </tr>\n",
       "    <tr>\n",
       "      <th>3</th>\n",
       "      <td>6329cae0-837b-40fc-8a0f-821ec42a72a3</td>\n",
       "      <td>because of winn-dixie</td>\n",
       "      <td>34a2bec6-d564-4fab-8957-55d967e156d4</td>\n",
       "      <td>step by step</td>\n",
       "      <td>0.999278</td>\n",
       "      <td>movies</td>\n",
       "      <td>series</td>\n",
       "      <td>4</td>\n",
       "      <td>A lonely little girl bonds with a friendly str...</td>\n",
       "      <td>Because of Winn-Dixie</td>\n",
       "      <td>movie</td>\n",
       "      <td>[\\n  \"Pre-teens\",\\n  \"Family Content\",\\n  \"You...</td>\n",
       "      <td>Acquired</td>\n",
       "      <td>Kids &amp; Family</td>\n",
       "      <td>2005.0</td>\n",
       "      <td>6.3</td>\n",
       "      <td>6.3</td>\n",
       "      <td>[0.005083524156361818, -0.03101217746734619, 0...</td>\n",
       "    </tr>\n",
       "    <tr>\n",
       "      <th>4</th>\n",
       "      <td>6329cae0-837b-40fc-8a0f-821ec42a72a3</td>\n",
       "      <td>because of winn-dixie</td>\n",
       "      <td>8f26265f-eb95-44b3-aff9-499af9fa519d</td>\n",
       "      <td>elizabethtown</td>\n",
       "      <td>0.999086</td>\n",
       "      <td>movies</td>\n",
       "      <td>movies</td>\n",
       "      <td>5</td>\n",
       "      <td>A lonely little girl bonds with a friendly str...</td>\n",
       "      <td>Because of Winn-Dixie</td>\n",
       "      <td>movie</td>\n",
       "      <td>[\\n  \"Pre-teens\",\\n  \"Family Content\",\\n  \"You...</td>\n",
       "      <td>Acquired</td>\n",
       "      <td>Kids &amp; Family</td>\n",
       "      <td>2005.0</td>\n",
       "      <td>6.3</td>\n",
       "      <td>6.3</td>\n",
       "      <td>[0.005083524156361818, -0.03101217746734619, 0...</td>\n",
       "    </tr>\n",
       "  </tbody>\n",
       "</table>\n",
       "</div>"
      ],
      "text/plain": [
       "                      CONSOLIDATED_ID_1   CONSOLIDATED_TITLE_1  \\\n",
       "0  6329cae0-837b-40fc-8a0f-821ec42a72a3  because of winn-dixie   \n",
       "1  6329cae0-837b-40fc-8a0f-821ec42a72a3  because of winn-dixie   \n",
       "2  6329cae0-837b-40fc-8a0f-821ec42a72a3  because of winn-dixie   \n",
       "3  6329cae0-837b-40fc-8a0f-821ec42a72a3  because of winn-dixie   \n",
       "4  6329cae0-837b-40fc-8a0f-821ec42a72a3  because of winn-dixie   \n",
       "\n",
       "                      CONSOLIDATED_ID_2  \\\n",
       "0  6329cae0-837b-40fc-8a0f-821ec42a72a3   \n",
       "1  f0feafed-320a-4463-8a43-f18d11e769e6   \n",
       "2  5343c82a-de51-4a09-8321-a2cc7200afe2   \n",
       "3  34a2bec6-d564-4fab-8957-55d967e156d4   \n",
       "4  8f26265f-eb95-44b3-aff9-499af9fa519d   \n",
       "\n",
       "                           CONSOLIDATED_TITLE_2     SCORE LEVEL_1_CATG_NAME_1  \\\n",
       "0                         because of winn-dixie  1.000000              movies   \n",
       "1                              the fluffy movie  1.000000              movies   \n",
       "2  lucas the spider shorts: meet the boop troop  0.999878              movies   \n",
       "3                                  step by step  0.999278              movies   \n",
       "4                                 elizabethtown  0.999086              movies   \n",
       "\n",
       "  LEVEL_1_CATG_NAME_2  R                                         TITLE_PLOT  \\\n",
       "0              movies  1  A lonely little girl bonds with a friendly str...   \n",
       "1              movies  2  A lonely little girl bonds with a friendly str...   \n",
       "2              series  3  A lonely little girl bonds with a friendly str...   \n",
       "3              series  4  A lonely little girl bonds with a friendly str...   \n",
       "4              movies  5  A lonely little girl bonds with a friendly str...   \n",
       "\n",
       "             ASSET_TITLE CONTENT_CATEGORY  \\\n",
       "0  Because of Winn-Dixie            movie   \n",
       "1  Because of Winn-Dixie            movie   \n",
       "2  Because of Winn-Dixie            movie   \n",
       "3  Because of Winn-Dixie            movie   \n",
       "4  Because of Winn-Dixie            movie   \n",
       "\n",
       "                                      ASSET_TAGS_AGE PROGRAM_TYPE  \\\n",
       "0  [\\n  \"Pre-teens\",\\n  \"Family Content\",\\n  \"You...     Acquired   \n",
       "1  [\\n  \"Pre-teens\",\\n  \"Family Content\",\\n  \"You...     Acquired   \n",
       "2  [\\n  \"Pre-teens\",\\n  \"Family Content\",\\n  \"You...     Acquired   \n",
       "3  [\\n  \"Pre-teens\",\\n  \"Family Content\",\\n  \"You...     Acquired   \n",
       "4  [\\n  \"Pre-teens\",\\n  \"Family Content\",\\n  \"You...     Acquired   \n",
       "\n",
       "  PRIMARY_GENRE_DESC  RELEASE_YEAR  IMDB_RATING  WIKI_PAGE_VIEWS  \\\n",
       "0      Kids & Family        2005.0          6.3              6.3   \n",
       "1      Kids & Family        2005.0          6.3              6.3   \n",
       "2      Kids & Family        2005.0          6.3              6.3   \n",
       "3      Kids & Family        2005.0          6.3              6.3   \n",
       "4      Kids & Family        2005.0          6.3              6.3   \n",
       "\n",
       "                                    tile_embedding_1  \n",
       "0  [0.005083524156361818, -0.03101217746734619, 0...  \n",
       "1  [0.005083524156361818, -0.03101217746734619, 0...  \n",
       "2  [0.005083524156361818, -0.03101217746734619, 0...  \n",
       "3  [0.005083524156361818, -0.03101217746734619, 0...  \n",
       "4  [0.005083524156361818, -0.03101217746734619, 0...  "
      ]
     },
     "execution_count": 16,
     "metadata": {},
     "output_type": "execute_result"
    }
   ],
   "source": [
    "aos_embedding_db=aos_embedding_db.rename({'tile_embedding':'tile_embedding_1'},axis=1)\n",
    "aos_embedding_db.drop('CONSOLIDTED_ID',axis=1,inplace=True)\n",
    "aos_embedding_db.head()"
   ]
  },
  {
   "cell_type": "code",
   "execution_count": 17,
   "metadata": {},
   "outputs": [
    {
     "ename": "NameError",
     "evalue": "name 'aos_embedding_db' is not defined",
     "output_type": "error",
     "traceback": [
      "\u001b[0;31m---------------------------------------------------------------------------\u001b[0m",
      "\u001b[0;31mNameError\u001b[0m                                 Traceback (most recent call last)",
      "\u001b[0;32m<ipython-input-17-993e41aefab0>\u001b[0m in \u001b[0;36m<module>\u001b[0;34m\u001b[0m\n\u001b[0;32m----> 1\u001b[0;31m \u001b[0maos_embedding_db\u001b[0m\u001b[0;34m=\u001b[0m\u001b[0maos_embedding_db\u001b[0m\u001b[0;34m.\u001b[0m\u001b[0mmerge\u001b[0m\u001b[0;34m(\u001b[0m\u001b[0mtitle_info_db\u001b[0m\u001b[0;34m[\u001b[0m\u001b[0;34m[\u001b[0m\u001b[0;34m'CONSOLIDTED_ID'\u001b[0m\u001b[0;34m,\u001b[0m\u001b[0;34m'tile_embedding'\u001b[0m\u001b[0;34m]\u001b[0m\u001b[0;34m]\u001b[0m\u001b[0;34m,\u001b[0m\u001b[0mleft_on\u001b[0m\u001b[0;34m=\u001b[0m\u001b[0;34m'CONSOLIDATED_ID_2'\u001b[0m\u001b[0;34m,\u001b[0m\u001b[0mright_on\u001b[0m\u001b[0;34m=\u001b[0m\u001b[0;34m'CONSOLIDTED_ID'\u001b[0m\u001b[0;34m)\u001b[0m\u001b[0;34m\u001b[0m\u001b[0;34m\u001b[0m\u001b[0m\n\u001b[0m\u001b[1;32m      2\u001b[0m \u001b[0maos_embedding_db\u001b[0m\u001b[0;34m=\u001b[0m\u001b[0maos_embedding_db\u001b[0m\u001b[0;34m.\u001b[0m\u001b[0mrename\u001b[0m\u001b[0;34m(\u001b[0m\u001b[0;34m{\u001b[0m\u001b[0;34m'tile_embedding'\u001b[0m\u001b[0;34m:\u001b[0m\u001b[0;34m'tile_embedding_2'\u001b[0m\u001b[0;34m}\u001b[0m\u001b[0;34m,\u001b[0m\u001b[0maxis\u001b[0m\u001b[0;34m=\u001b[0m\u001b[0;36m1\u001b[0m\u001b[0;34m)\u001b[0m\u001b[0;34m\u001b[0m\u001b[0;34m\u001b[0m\u001b[0m\n\u001b[1;32m      3\u001b[0m \u001b[0maos_embedding_db\u001b[0m\u001b[0;34m.\u001b[0m\u001b[0mdrop\u001b[0m\u001b[0;34m(\u001b[0m\u001b[0;34m'CONSOLIDTED_ID'\u001b[0m\u001b[0;34m,\u001b[0m\u001b[0maxis\u001b[0m\u001b[0;34m=\u001b[0m\u001b[0;36m1\u001b[0m\u001b[0;34m,\u001b[0m\u001b[0minplace\u001b[0m\u001b[0;34m=\u001b[0m\u001b[0;32mTrue\u001b[0m\u001b[0;34m)\u001b[0m\u001b[0;34m\u001b[0m\u001b[0;34m\u001b[0m\u001b[0m\n\u001b[1;32m      4\u001b[0m \u001b[0maos_embedding_db\u001b[0m\u001b[0;34m.\u001b[0m\u001b[0mhead\u001b[0m\u001b[0;34m(\u001b[0m\u001b[0;34m)\u001b[0m\u001b[0;34m\u001b[0m\u001b[0;34m\u001b[0m\u001b[0m\n",
      "\u001b[0;31mNameError\u001b[0m: name 'aos_embedding_db' is not defined"
     ]
    }
   ],
   "source": [
    "aos_embedding_db=aos_embedding_db.merge(title_info_db[['CONSOLIDTED_ID','tile_embedding']],left_on='CONSOLIDATED_ID_2',right_on='CONSOLIDTED_ID')\n",
    "aos_embedding_db=aos_embedding_db.rename({'tile_embedding':'tile_embedding_2'},axis=1)\n",
    "aos_embedding_db.drop('CONSOLIDTED_ID',axis=1,inplace=True)\n",
    "aos_embedding_db.head()"
   ]
  },
  {
   "cell_type": "markdown",
   "metadata": {},
   "source": [
    "# 3 Models"
   ]
  },
  {
   "cell_type": "code",
   "execution_count": 18,
   "metadata": {},
   "outputs": [],
   "source": [
    "from keras.layers import Input, Embedding, Dot, Reshape, Dense, Average,Flatten\n",
    "from keras.models import Model\n",
    "import keras as keras\n",
    "import tensorflow as tf"
   ]
  },
  {
   "cell_type": "code",
   "execution_count": 19,
   "metadata": {},
   "outputs": [],
   "source": [
    "index_df=aos_embedding_db[['CONSOLIDATED_TITLE_1','CONSOLIDATED_ID_1','TITLE_PLOT']].drop_duplicates(['CONSOLIDATED_ID_1']).reset_index(drop=True)\n",
    "index_df=index_df.reset_index()\n",
    "index_df_short=index_df[['index','CONSOLIDATED_ID_1']]"
   ]
  },
  {
   "cell_type": "code",
   "execution_count": 20,
   "metadata": {},
   "outputs": [
    {
     "data": {
      "text/html": [
       "<div>\n",
       "<style scoped>\n",
       "    .dataframe tbody tr th:only-of-type {\n",
       "        vertical-align: middle;\n",
       "    }\n",
       "\n",
       "    .dataframe tbody tr th {\n",
       "        vertical-align: top;\n",
       "    }\n",
       "\n",
       "    .dataframe thead th {\n",
       "        text-align: right;\n",
       "    }\n",
       "</style>\n",
       "<table border=\"1\" class=\"dataframe\">\n",
       "  <thead>\n",
       "    <tr style=\"text-align: right;\">\n",
       "      <th></th>\n",
       "      <th>index_x</th>\n",
       "      <th>index_y</th>\n",
       "      <th>SCORE</th>\n",
       "    </tr>\n",
       "  </thead>\n",
       "  <tbody>\n",
       "    <tr>\n",
       "      <th>0</th>\n",
       "      <td>0</td>\n",
       "      <td>0</td>\n",
       "      <td>1.000000</td>\n",
       "    </tr>\n",
       "    <tr>\n",
       "      <th>1</th>\n",
       "      <td>1</td>\n",
       "      <td>0</td>\n",
       "      <td>0.966250</td>\n",
       "    </tr>\n",
       "    <tr>\n",
       "      <th>2</th>\n",
       "      <td>2</td>\n",
       "      <td>0</td>\n",
       "      <td>0.966781</td>\n",
       "    </tr>\n",
       "    <tr>\n",
       "      <th>3</th>\n",
       "      <td>3</td>\n",
       "      <td>0</td>\n",
       "      <td>0.963654</td>\n",
       "    </tr>\n",
       "    <tr>\n",
       "      <th>4</th>\n",
       "      <td>4</td>\n",
       "      <td>0</td>\n",
       "      <td>0.968497</td>\n",
       "    </tr>\n",
       "  </tbody>\n",
       "</table>\n",
       "</div>"
      ],
      "text/plain": [
       "   index_x  index_y     SCORE\n",
       "0        0        0  1.000000\n",
       "1        1        0  0.966250\n",
       "2        2        0  0.966781\n",
       "3        3        0  0.963654\n",
       "4        4        0  0.968497"
      ]
     },
     "execution_count": 20,
     "metadata": {},
     "output_type": "execute_result"
    }
   ],
   "source": [
    "X=aos_embedding_db[['CONSOLIDATED_ID_1','CONSOLIDATED_ID_2','SCORE']].merge(index_df_short,left_on='CONSOLIDATED_ID_1',right_on='CONSOLIDATED_ID_1')[['index','CONSOLIDATED_ID_2','SCORE']]\n",
    "X=X.merge(index_df_short,left_on='CONSOLIDATED_ID_2',right_on='CONSOLIDATED_ID_1')[['index_x','index_y','SCORE']]\n",
    "X.head()"
   ]
  },
  {
   "cell_type": "code",
   "execution_count": 21,
   "metadata": {},
   "outputs": [],
   "source": [
    "from sklearn.model_selection import train_test_split\n",
    "\n",
    "x_train, x_val, y_train, y_val = train_test_split(X[['index_x','index_y']].values, X['SCORE'].values, test_size=0.30, shuffle= True,random_state = 1)"
   ]
  },
  {
   "cell_type": "code",
   "execution_count": 22,
   "metadata": {},
   "outputs": [],
   "source": [
    "from keras.models import Sequential\n",
    "from keras.layers import Dense, LSTM, Bidirectional,GlobalMaxPooling1D,GlobalAveragePooling1D,GlobalAveragePooling2D,InputLayer\n",
    "from keras.layers import Flatten\n",
    "from keras.layers.embeddings import Embedding\n",
    "from keras.callbacks import *\n",
    "from sentence_transformers import SentenceTransformer\n",
    "from keras.utils.vis_utils import plot_model"
   ]
  },
  {
   "cell_type": "code",
   "execution_count": 23,
   "metadata": {},
   "outputs": [
    {
     "data": {
      "text/plain": [
       "array([[ 0.00508352, -0.03101218,  0.02634954, ..., -0.00178513,\n",
       "         0.01965805,  0.03473888],\n",
       "       [-0.04721878, -0.00791544, -0.12020949, ..., -0.04834492,\n",
       "         0.0538466 , -0.05788429],\n",
       "       [-0.09532683, -0.0746844 , -0.00241762, ...,  0.05926197,\n",
       "         0.06412265, -0.05657747],\n",
       "       ...,\n",
       "       [-0.08033396,  0.07317606,  0.05523913, ...,  0.01539903,\n",
       "         0.03414191,  0.08773005],\n",
       "       [ 0.01560387,  0.05884964,  0.04542042, ..., -0.02970629,\n",
       "         0.02437774, -0.04470088],\n",
       "       [-0.06407025,  0.00679792, -0.06227691, ...,  0.00608141,\n",
       "        -0.00716116,  0.00920511]], dtype=float32)"
      ]
     },
     "execution_count": 23,
     "metadata": {},
     "output_type": "execute_result"
    }
   ],
   "source": [
    "encode_model = SentenceTransformer('all-MiniLM-L6-v2')\n",
    "embedding_matrix=encode_model.encode(index_df['TITLE_PLOT'].values)\n",
    "embedding_matrix"
   ]
  },
  {
   "cell_type": "code",
   "execution_count": 24,
   "metadata": {},
   "outputs": [
    {
     "name": "stdout",
     "output_type": "stream",
     "text": [
      "Model: \"sequential\"\n",
      "_________________________________________________________________\n",
      "Layer (type)                 Output Shape              Param #   \n",
      "=================================================================\n",
      "embedding (Embedding)        (None, 2, 384)            1304832   \n",
      "_________________________________________________________________\n",
      "lstm (LSTM)                  (None, 2, 128)            262656    \n",
      "_________________________________________________________________\n",
      "global_average_pooling1d (Gl (None, 128)               0         \n",
      "_________________________________________________________________\n",
      "dense (Dense)                (None, 64)                8256      \n",
      "_________________________________________________________________\n",
      "dense_1 (Dense)              (None, 1)                 65        \n",
      "=================================================================\n",
      "Total params: 1,575,809\n",
      "Trainable params: 1,575,809\n",
      "Non-trainable params: 0\n",
      "_________________________________________________________________\n",
      "None\n"
     ]
    }
   ],
   "source": [
    "model=Sequential()\n",
    "model.add(Embedding(index_df.shape[0],384,weights=[embedding_matrix],input_length=2,trainable=True))\n",
    "\n",
    "#model.add(LSTM(128,return_sequences=True,dropout=0.2))\n",
    "model.add(LSTM(128,return_sequences=True))\n",
    "model.add(GlobalAveragePooling1D())\n",
    "\n",
    "model.add(Dense(64,activation='relu'))\n",
    "model.add(Dense(1,activation='sigmoid'))\n",
    "\n",
    "optimizer=tf.keras.optimizers.Adam(learning_rate=0.001)\n",
    "\n",
    "model.compile(optimizer=optimizer,loss='mean_absolute_error',metrics=['accuracy','mae','mse'])\n",
    "\n",
    "es=EarlyStopping(monitor='val_loss',mode='min',verbose=1,patience=3)\n",
    "mc=ModelCheckpoint('best_model.h5',monitor='val_acc',model='max',save_best_only=True, verbose=1)\n",
    "\n",
    "print(model.summary())\n"
   ]
  },
  {
   "cell_type": "code",
   "execution_count": 25,
   "metadata": {},
   "outputs": [
    {
     "name": "stdout",
     "output_type": "stream",
     "text": [
      "Model: \"sequential\"\n",
      "_________________________________________________________________\n",
      "Layer (type)                 Output Shape              Param #   \n",
      "=================================================================\n",
      "embedding (Embedding)        (None, 2, 384)            1304832   \n",
      "_________________________________________________________________\n",
      "lstm (LSTM)                  (None, 2, 128)            262656    \n",
      "_________________________________________________________________\n",
      "global_average_pooling1d (Gl (None, 128)               0         \n",
      "_________________________________________________________________\n",
      "dense (Dense)                (None, 64)                8256      \n",
      "_________________________________________________________________\n",
      "dense_1 (Dense)              (None, 1)                 65        \n",
      "=================================================================\n",
      "Total params: 1,575,809\n",
      "Trainable params: 1,575,809\n",
      "Non-trainable params: 0\n",
      "_________________________________________________________________\n",
      "None\n"
     ]
    }
   ],
   "source": [
    "print(model.summary())"
   ]
  },
  {
   "cell_type": "code",
   "execution_count": 26,
   "metadata": {},
   "outputs": [
    {
     "name": "stdout",
     "output_type": "stream",
     "text": [
      "WARNING:tensorflow:From /home/jliao/atomenv/lib/python3.6/site-packages/tensorflow/python/ops/array_ops.py:5075: calling gather (from tensorflow.python.ops.array_ops) with validate_indices is deprecated and will be removed in a future version.\n",
      "Instructions for updating:\n",
      "The `validate_indices` argument has no effect. Indices are always validated on CPU and never validated on GPU.\n",
      "Epoch 1/8\n",
      "1160/1160 [==============================] - 12s 8ms/step - loss: 0.0238 - accuracy: 0.0160 - mae: 0.0238 - mse: 0.0031 - val_loss: 0.0139 - val_accuracy: 0.0160 - val_mae: 0.0139 - val_mse: 3.9950e-04\n",
      "WARNING:tensorflow:Can save best model only with val_acc available, skipping.\n",
      "Epoch 2/8\n",
      "1160/1160 [==============================] - 9s 8ms/step - loss: 0.0127 - accuracy: 0.0160 - mae: 0.0127 - mse: 3.2303e-04 - val_loss: 0.0122 - val_accuracy: 0.0160 - val_mae: 0.0122 - val_mse: 3.0220e-04\n",
      "WARNING:tensorflow:Can save best model only with val_acc available, skipping.\n",
      "Epoch 3/8\n",
      "1160/1160 [==============================] - 9s 8ms/step - loss: 0.0117 - accuracy: 0.0160 - mae: 0.0117 - mse: 2.8142e-04 - val_loss: 0.0124 - val_accuracy: 0.0160 - val_mae: 0.0124 - val_mse: 2.9854e-04\n",
      "WARNING:tensorflow:Can save best model only with val_acc available, skipping.\n",
      "Epoch 4/8\n",
      "1160/1160 [==============================] - 9s 8ms/step - loss: 0.0112 - accuracy: 0.0160 - mae: 0.0112 - mse: 2.6476e-04 - val_loss: 0.0114 - val_accuracy: 0.0160 - val_mae: 0.0114 - val_mse: 2.8191e-04\n",
      "WARNING:tensorflow:Can save best model only with val_acc available, skipping.\n",
      "Epoch 5/8\n",
      "1160/1160 [==============================] - 9s 8ms/step - loss: 0.0108 - accuracy: 0.0160 - mae: 0.0108 - mse: 2.4991e-04 - val_loss: 0.0111 - val_accuracy: 0.0160 - val_mae: 0.0111 - val_mse: 2.6704e-04\n",
      "WARNING:tensorflow:Can save best model only with val_acc available, skipping.\n",
      "Epoch 6/8\n",
      "1160/1160 [==============================] - 9s 8ms/step - loss: 0.0103 - accuracy: 0.0160 - mae: 0.0103 - mse: 2.3455e-04 - val_loss: 0.0110 - val_accuracy: 0.0160 - val_mae: 0.0110 - val_mse: 2.6222e-04\n",
      "WARNING:tensorflow:Can save best model only with val_acc available, skipping.\n",
      "Epoch 7/8\n",
      "1160/1160 [==============================] - 9s 8ms/step - loss: 0.0099 - accuracy: 0.0160 - mae: 0.0099 - mse: 2.1896e-04 - val_loss: 0.0106 - val_accuracy: 0.0160 - val_mae: 0.0106 - val_mse: 2.4720e-04\n",
      "WARNING:tensorflow:Can save best model only with val_acc available, skipping.\n",
      "Epoch 8/8\n",
      "1160/1160 [==============================] - 9s 8ms/step - loss: 0.0095 - accuracy: 0.0160 - mae: 0.0095 - mse: 2.0628e-04 - val_loss: 0.0104 - val_accuracy: 0.0160 - val_mae: 0.0104 - val_mse: 2.4390e-04\n",
      "WARNING:tensorflow:Can save best model only with val_acc available, skipping.\n"
     ]
    }
   ],
   "source": [
    "history=model.fit(x_train,y_train,batch_size=128,epochs=8,validation_data=(x_val,y_val),verbose=1,\n",
    "                  callbacks=[es,mc]\n",
    "                 )\n"
   ]
  },
  {
   "cell_type": "code",
   "execution_count": 27,
   "metadata": {},
   "outputs": [
    {
     "data": {
      "text/plain": [
       "<matplotlib.legend.Legend at 0x7f21b045dac8>"
      ]
     },
     "execution_count": 27,
     "metadata": {},
     "output_type": "execute_result"
    },
    {
     "data": {
      "image/png": "[encoded data removed]",
      "text/plain": [
       "<Figure size 432x288 with 1 Axes>"
      ]
     },
     "metadata": {
      "needs_background": "light"
     },
     "output_type": "display_data"
    }
   ],
   "source": [
    "#plt.ylim((0.04, 0.08))\n",
    "plt.plot(history.history['mae'], '-o', label='train mae')\n",
    "plt.plot(history.history['val_mae'], label='val mae')\n",
    "plt.legend()"
   ]
  },
  {
   "cell_type": "markdown",
   "metadata": {},
   "source": [
    "# 4. Output Embeddings"
   ]
  },
  {
   "cell_type": "code",
   "execution_count": 29,
   "metadata": {},
   "outputs": [
    {
     "data": {
      "text/plain": [
       "array([[-0.05698793, -0.00945184,  0.00824753, ...,  0.01035481,\n",
       "         0.03070122, -0.01702808],\n",
       "       [-0.0607155 ,  0.02825691, -0.11061092, ..., -0.09670626,\n",
       "         0.06508785, -0.07246641],\n",
       "       [-0.08773243, -0.03527224, -0.05035307, ...,  0.08560173,\n",
       "         0.07643592, -0.05277606],\n",
       "       ...,\n",
       "       [-0.08652083,  0.06800186,  0.05550158, ...,  0.09967499,\n",
       "         0.01907788,  0.08861474],\n",
       "       [-0.01794074,  0.08050019,  0.04566917, ...,  0.03164522,\n",
       "         0.0469062 , -0.01085061],\n",
       "       [-0.06736868,  0.06026992,  0.00315971, ..., -0.02205714,\n",
       "        -0.01914579,  0.02860425]], dtype=float32)"
      ]
     },
     "execution_count": 29,
     "metadata": {},
     "output_type": "execute_result"
    }
   ],
   "source": [
    "def extract_weights(name, model):\n",
    "    \"\"\"Extract weights from a neural network model\"\"\"\n",
    "    \n",
    "    # Extract weights\n",
    "    weight_layer = model.get_layer(name)\n",
    "    weights = weight_layer.get_weights()[0]\n",
    "    \n",
    "    # Normalize\n",
    "    weights = weights / np.linalg.norm(weights, axis = 1).reshape((-1, 1))\n",
    "    return weights\n",
    "\n",
    "title_weights = extract_weights('embedding', model)\n",
    "\n",
    "title_weights"
   ]
  }
 ],
 "metadata": {
  "kernelspec": {
   "display_name": "conda_python3",
   "language": "python",
   "name": "conda_python3"
  },
  "language_info": {
   "codemirror_mode": {
    "name": "ipython",
    "version": 3
   },
   "file_extension": ".py",
   "mimetype": "text/x-python",
   "name": "python",
   "nbconvert_exporter": "python",
   "pygments_lexer": "ipython3",
   "version": "3.6.13"
  }
 },
 "nbformat": 4,
 "nbformat_minor": 4
}
