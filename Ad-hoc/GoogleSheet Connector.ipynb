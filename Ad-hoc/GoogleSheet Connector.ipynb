{
 "cells": [
  {
   "cell_type": "code",
   "execution_count": null,
   "id": "1d697c99",
   "metadata": {},
   "outputs": [],
   "source": [
    "!pip install gspread\n",
    "!pip install oauth2client"
   ]
  },
  {
   "cell_type": "code",
   "execution_count": null,
   "id": "f440de89",
   "metadata": {},
   "outputs": [],
   "source": [
    "import gspread\n",
    "import boto3\n",
    "import json\n",
    "import numpy as np\n",
    "import pandas as pd\n",
    "from oauth2client.service_account import ServiceAccountCredentials\n",
    "# define the scope\n",
    "scope = ['https://spreadsheets.google.com/feeds','https://www.googleapis.com/auth/drive']\n",
    "s3 = boto3.client('s3')\n",
    "#s3.download_file('datascience-firstviewsheets', 'sheets_creds.json', 'sheets_creds.json')\n",
    "cred_obj = s3.get_object(Bucket='datascience-hbomax-jialuyou', Key='us-forecasting-52ecbdfeada1.json') ## Bucket name and file Key name json - 1-time\n",
    "cred_dict = json.loads(cred_obj['Body'].read().decode('utf-8'))\n",
    "# add credentials to the account\n",
    "creds = ServiceAccountCredentials.from_json_keyfile_dict(cred_dict)\n",
    "# authorize the clientsheet \n",
    "client = gspread.authorize(creds)\n",
    "sheet = client.open('content_first_view_weekly_projection') #share sheet with that account\n",
    "sheet_instance = sheet.get_worksheet(0)\n",
    "records_data = pd.DataFrame(sheet_instance.get_all_values())"
   ]
  },
  {
   "cell_type": "code",
   "execution_count": null,
   "id": "42de79c7",
   "metadata": {},
   "outputs": [],
   "source": [
    "pd.DataFrame(records_data).head()"
   ]
  },
  {
   "cell_type": "code",
   "execution_count": null,
   "id": "87920c36",
   "metadata": {},
   "outputs": [],
   "source": []
  },
  {
   "cell_type": "code",
   "execution_count": null,
   "id": "faeb4f2f",
   "metadata": {},
   "outputs": [],
   "source": [
    "import pandas as pd\n",
    "import json\n",
    "import csv\n",
    "from google.oauth2 import service_account\n",
    "import statsmodels.formula.api as sm  \n",
    "import numpy as np\n",
    "import matplotlib.pyplot as plt\n",
    "import seaborn as sns\n",
    "from pandas.tseries.offsets import MonthEnd, Week\n",
    "from datetime import timedelta\n",
    "from datetime import datetime\n",
    "import gspread\n",
    "import boto3\n",
    "from oauth2client.service_account import ServiceAccountCredentials\n",
    "pd.set_option('display.max_rows', 500)\n",
    "pd.set_option('display.max_columns', 500)\n",
    "pd.set_option('display.width', 1000)\n",
    "from abc import ABCMeta, abstractmethod\n",
    "import snowflake.connector\n"
   ]
  },
  {
   "cell_type": "code",
   "execution_count": null,
   "id": "1aeb3bc9",
   "metadata": {},
   "outputs": [],
   "source": [
    "from google.oauth2 import service_account"
   ]
  },
  {
   "cell_type": "code",
   "execution_count": null,
   "id": "505364f5",
   "metadata": {},
   "outputs": [],
   "source": [
    "DB_NAME = \"MAX_DEV\"\n",
    "SCHEMA = \"WORKSPACE\"\n",
    "## Credentials\n",
    "SF_CREDS = 'datascience-max-dev-sagemaker-notebooks'\n",
    "class Credentials(metaclass=ABCMeta):\n",
    "    pass\n",
    "    \n",
    "    \n",
    "class SSMPSCredentials(Credentials):\n",
    "    def __init__(self, secretid: str):\n",
    "        self._secretid = secretid\n",
    "        self._secrets = {}\n",
    "        \n",
    "    def get_keys(self):\n",
    "        \"\"\"\n",
    "        credential fetching \n",
    "        \"\"\"\n",
    "        _aws_sm_args = {'service_name': 'secretsmanager', 'region_name': 'us-east-1'}\n",
    "        secrets_client = boto3.client(**_aws_sm_args)\n",
    "        get_secret_value_response = secrets_client.get_secret_value(SecretId=self._secretid)\n",
    "        return get_secret_value_response\n",
    "    \n",
    "    \n",
    "class BaseConnector(metaclass=ABCMeta):\n",
    "    @abstractmethod\n",
    "    def connect(self):\n",
    "        raise NotImplementedError\n",
    "        \n",
    "class SnowflakeConnector(BaseConnector):\n",
    "    def __init__(self, credentials: Credentials):\n",
    "        keys = credentials.get_keys()\n",
    "        self._secrets = json.loads(keys.get('SecretString', \"{}\"))\n",
    "    def connect(self, dbname: str, schema: str = 'DEFAULT'):\n",
    "        ctx = snowflake.connector.connect(\n",
    "            user=self._secrets['login_name'],\n",
    "            password=self._secrets['login_password'],\n",
    "            account=self._secrets['account'],\n",
    "            warehouse=self._secrets['warehouse'],\n",
    "            database=dbname,\n",
    "            schema=schema\n",
    "        )\n",
    "        return ctx\n",
    "connector = SnowflakeConnector(SSMPSCredentials(SF_CREDS))\n",
    "con = connector.connect(dbname=DB_NAME, schema=SCHEMA)\n"
   ]
  },
  {
   "cell_type": "code",
   "execution_count": null,
   "id": "061478c4",
   "metadata": {},
   "outputs": [],
   "source": [
    "query = \"\"\"SELECT * FROM TABLE XXX LIMIT 1000\"\"\""
   ]
  },
  {
   "cell_type": "code",
   "execution_count": null,
   "id": "adfdce1c",
   "metadata": {},
   "outputs": [],
   "source": [
    "df = pd.read_sql(query, con)"
   ]
  },
  {
   "cell_type": "code",
   "execution_count": null,
   "id": "1677f7fe",
   "metadata": {},
   "outputs": [],
   "source": []
  },
  {
   "cell_type": "code",
   "execution_count": null,
   "id": "ce0a9e4e",
   "metadata": {},
   "outputs": [],
   "source": []
  },
  {
   "cell_type": "code",
   "execution_count": null,
   "id": "311c6ab6",
   "metadata": {},
   "outputs": [],
   "source": []
  },
  {
   "cell_type": "code",
   "execution_count": null,
   "id": "0de8964e",
   "metadata": {},
   "outputs": [],
   "source": []
  },
  {
   "cell_type": "code",
   "execution_count": null,
   "id": "453c68a0",
   "metadata": {},
   "outputs": [],
   "source": []
  },
  {
   "cell_type": "code",
   "execution_count": null,
   "id": "a0715504",
   "metadata": {},
   "outputs": [],
   "source": []
  },
  {
   "cell_type": "code",
   "execution_count": null,
   "id": "42836789",
   "metadata": {},
   "outputs": [],
   "source": []
  },
  {
   "cell_type": "code",
   "execution_count": null,
   "id": "ee669127",
   "metadata": {},
   "outputs": [],
   "source": []
  }
 ],
 "metadata": {
  "kernelspec": {
   "display_name": "conda_python3",
   "language": "python",
   "name": "conda_python3"
  },
  "language_info": {
   "codemirror_mode": {
    "name": "ipython",
    "version": 3
   },
   "file_extension": ".py",
   "mimetype": "text/x-python",
   "name": "python",
   "nbconvert_exporter": "python",
   "pygments_lexer": "ipython3",
   "version": "3.6.13"
  }
 },
 "nbformat": 4,
 "nbformat_minor": 5
}
