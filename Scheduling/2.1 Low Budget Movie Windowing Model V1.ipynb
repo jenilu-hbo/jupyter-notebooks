{
 "cells": [
  {
   "cell_type": "code",
   "execution_count": 1,
   "id": "93e1aa82",
   "metadata": {},
   "outputs": [],
   "source": [
    "# general\n",
    "import boto3\n",
    "import datetime as dt\n",
    "import json\n",
    "import numpy as np\n",
    "import pandas as pd\n",
    "import snowflake.connector"
   ]
  },
  {
   "cell_type": "code",
   "execution_count": 2,
   "id": "6509e93f",
   "metadata": {},
   "outputs": [],
   "source": [
    "pd.set_option('display.max_rows', 1000)\n",
    "pd.set_option('display.max_columns', 1000)"
   ]
  },
  {
   "cell_type": "code",
   "execution_count": 3,
   "id": "353d1323",
   "metadata": {},
   "outputs": [],
   "source": [
    "pd.options.display.float_format = '{:,.2f}'.format"
   ]
  },
  {
   "cell_type": "code",
   "execution_count": 4,
   "id": "2168ec72",
   "metadata": {},
   "outputs": [],
   "source": [
    "import matplotlib.pyplot as plt"
   ]
  },
  {
   "cell_type": "markdown",
   "id": "ca761851",
   "metadata": {},
   "source": [
    "# 0. Read Training Data"
   ]
  },
  {
   "cell_type": "code",
   "execution_count": 5,
   "id": "1a4b8995",
   "metadata": {},
   "outputs": [],
   "source": [
    "import xgboost  \n",
    "from xgboost import XGBRegressor\n",
    "from sklearn.model_selection import GroupKFold"
   ]
  },
  {
   "cell_type": "code",
   "execution_count": 6,
   "id": "a4491db3",
   "metadata": {},
   "outputs": [],
   "source": [
    "training_data = pd.read_csv('training_data_low_budget_movies.csv')"
   ]
  },
  {
   "cell_type": "code",
   "execution_count": 7,
   "id": "9555f15b",
   "metadata": {},
   "outputs": [
    {
     "data": {
      "text/html": [
       "<div>\n",
       "<style scoped>\n",
       "    .dataframe tbody tr th:only-of-type {\n",
       "        vertical-align: middle;\n",
       "    }\n",
       "\n",
       "    .dataframe tbody tr th {\n",
       "        vertical-align: top;\n",
       "    }\n",
       "\n",
       "    .dataframe thead th {\n",
       "        text-align: right;\n",
       "    }\n",
       "</style>\n",
       "<table border=\"1\" class=\"dataframe\">\n",
       "  <thead>\n",
       "    <tr style=\"text-align: right;\">\n",
       "      <th></th>\n",
       "      <th>Unnamed: 0</th>\n",
       "      <th>title_name</th>\n",
       "      <th>title_id</th>\n",
       "      <th>primary_genre_desc</th>\n",
       "      <th>program_type</th>\n",
       "      <th>theatrical_release_date</th>\n",
       "      <th>asset_run_time</th>\n",
       "      <th>offering_start_date</th>\n",
       "      <th>offering_end_date</th>\n",
       "      <th>is_direct_to_max_title</th>\n",
       "      <th>licensor</th>\n",
       "      <th>observed_medal</th>\n",
       "      <th>days_on_hbo_max</th>\n",
       "      <th>cumulative_viewing_subs</th>\n",
       "      <th>cumulative_first_views</th>\n",
       "      <th>percent_cumulative_viewing_subscribers</th>\n",
       "      <th>percent_cumulative_first_views</th>\n",
       "      <th>imdb_id</th>\n",
       "      <th>area_gross</th>\n",
       "      <th>budget</th>\n",
       "      <th>days_from_theatrical</th>\n",
       "      <th>genre_action</th>\n",
       "      <th>genre_comedy</th>\n",
       "      <th>genre_crime</th>\n",
       "      <th>genre_drama</th>\n",
       "      <th>genre_fantasy &amp; sci-fi</th>\n",
       "      <th>genre_horror</th>\n",
       "      <th>medal_Bronze</th>\n",
       "      <th>medal_Gold</th>\n",
       "      <th>medal_Platinum</th>\n",
       "      <th>medal_Silver</th>\n",
       "      <th>medal_number</th>\n",
       "      <th>log_cumulative_first_views</th>\n",
       "    </tr>\n",
       "  </thead>\n",
       "  <tbody>\n",
       "    <tr>\n",
       "      <th>0</th>\n",
       "      <td>0</td>\n",
       "      <td>A Christmas Mystery</td>\n",
       "      <td>GY2QUhg4BOJ_DwgEAAAD-</td>\n",
       "      <td>comedy</td>\n",
       "      <td>acquired</td>\n",
       "      <td>2022-11-24</td>\n",
       "      <td>5,224.00</td>\n",
       "      <td>2022-11-24 08:01:00</td>\n",
       "      <td>2026-05-06 03:59:00</td>\n",
       "      <td>1</td>\n",
       "      <td>Warner Bros. Inc., Warner Media Direct, LLC</td>\n",
       "      <td>Bronze</td>\n",
       "      <td>90.00</td>\n",
       "      <td>670,922.00</td>\n",
       "      <td>3,898.00</td>\n",
       "      <td>2.13</td>\n",
       "      <td>0.08</td>\n",
       "      <td>tt22207152</td>\n",
       "      <td>nan</td>\n",
       "      <td>nan</td>\n",
       "      <td>0</td>\n",
       "      <td>0</td>\n",
       "      <td>1</td>\n",
       "      <td>0</td>\n",
       "      <td>0</td>\n",
       "      <td>0</td>\n",
       "      <td>0</td>\n",
       "      <td>1</td>\n",
       "      <td>0</td>\n",
       "      <td>0</td>\n",
       "      <td>0</td>\n",
       "      <td>3</td>\n",
       "      <td>11.93</td>\n",
       "    </tr>\n",
       "    <tr>\n",
       "      <th>1</th>\n",
       "      <td>1</td>\n",
       "      <td>The Kitchen</td>\n",
       "      <td>GXhzsZA8cqx_DTgEAAADY</td>\n",
       "      <td>crime</td>\n",
       "      <td>acquired</td>\n",
       "      <td>2019-09-20</td>\n",
       "      <td>6,153.00</td>\n",
       "      <td>2020-03-29 00:00:00</td>\n",
       "      <td>2020-12-01 10:59:00</td>\n",
       "      <td>0</td>\n",
       "      <td>WARNER BROS. INC.</td>\n",
       "      <td>Bronze</td>\n",
       "      <td>90.00</td>\n",
       "      <td>39,837.00</td>\n",
       "      <td>2,045.00</td>\n",
       "      <td>0.51</td>\n",
       "      <td>0.03</td>\n",
       "      <td>tt5822564</td>\n",
       "      <td>5,527,410.00</td>\n",
       "      <td>38,000,000.00</td>\n",
       "      <td>191</td>\n",
       "      <td>0</td>\n",
       "      <td>0</td>\n",
       "      <td>1</td>\n",
       "      <td>0</td>\n",
       "      <td>0</td>\n",
       "      <td>0</td>\n",
       "      <td>1</td>\n",
       "      <td>0</td>\n",
       "      <td>0</td>\n",
       "      <td>0</td>\n",
       "      <td>3</td>\n",
       "      <td>11.00</td>\n",
       "    </tr>\n",
       "    <tr>\n",
       "      <th>2</th>\n",
       "      <td>2</td>\n",
       "      <td>The Good Liar</td>\n",
       "      <td>GXpTQtgV6ax-auwEAABc3</td>\n",
       "      <td>crime</td>\n",
       "      <td>acquired</td>\n",
       "      <td>2019-11-15</td>\n",
       "      <td>6,574.00</td>\n",
       "      <td>2020-06-14 00:00:00</td>\n",
       "      <td>2021-03-01 10:59:00</td>\n",
       "      <td>0</td>\n",
       "      <td>WARNER BROS. INC.</td>\n",
       "      <td>Bronze</td>\n",
       "      <td>90.00</td>\n",
       "      <td>186,115.00</td>\n",
       "      <td>10,519.00</td>\n",
       "      <td>2.22</td>\n",
       "      <td>0.18</td>\n",
       "      <td>tt5563334</td>\n",
       "      <td>5,605,051.00</td>\n",
       "      <td>10,000,000.00</td>\n",
       "      <td>212</td>\n",
       "      <td>0</td>\n",
       "      <td>0</td>\n",
       "      <td>1</td>\n",
       "      <td>0</td>\n",
       "      <td>0</td>\n",
       "      <td>0</td>\n",
       "      <td>1</td>\n",
       "      <td>0</td>\n",
       "      <td>0</td>\n",
       "      <td>0</td>\n",
       "      <td>3</td>\n",
       "      <td>13.36</td>\n",
       "    </tr>\n",
       "    <tr>\n",
       "      <th>3</th>\n",
       "      <td>3</td>\n",
       "      <td>Moonshot</td>\n",
       "      <td>GYhfK9AxT1KKnnQEAAADT</td>\n",
       "      <td>comedy</td>\n",
       "      <td>acquired</td>\n",
       "      <td>2022-03-31</td>\n",
       "      <td>6,123.00</td>\n",
       "      <td>2022-03-31 07:01:00</td>\n",
       "      <td>2022-07-01 03:59:00</td>\n",
       "      <td>1</td>\n",
       "      <td>Warner Bros. Domestic Television Distribution,...</td>\n",
       "      <td>Silver</td>\n",
       "      <td>90.00</td>\n",
       "      <td>1,791,406.00</td>\n",
       "      <td>10,045.00</td>\n",
       "      <td>6.01</td>\n",
       "      <td>0.25</td>\n",
       "      <td>tt12585076</td>\n",
       "      <td>nan</td>\n",
       "      <td>nan</td>\n",
       "      <td>0</td>\n",
       "      <td>0</td>\n",
       "      <td>1</td>\n",
       "      <td>0</td>\n",
       "      <td>0</td>\n",
       "      <td>0</td>\n",
       "      <td>0</td>\n",
       "      <td>0</td>\n",
       "      <td>0</td>\n",
       "      <td>0</td>\n",
       "      <td>1</td>\n",
       "      <td>2</td>\n",
       "      <td>13.29</td>\n",
       "    </tr>\n",
       "    <tr>\n",
       "      <th>4</th>\n",
       "      <td>4</td>\n",
       "      <td>Lights Out</td>\n",
       "      <td>GWZsaUQkr0bXCLwEAAABn</td>\n",
       "      <td>horror</td>\n",
       "      <td>acquired</td>\n",
       "      <td>2016-07-22</td>\n",
       "      <td>4,755.00</td>\n",
       "      <td>2020-06-01 10:00:00</td>\n",
       "      <td>2020-12-11 10:59:00</td>\n",
       "      <td>0</td>\n",
       "      <td>WARNER BROS. INC.</td>\n",
       "      <td>Bronze</td>\n",
       "      <td>90.00</td>\n",
       "      <td>57,023.00</td>\n",
       "      <td>1,956.00</td>\n",
       "      <td>0.72</td>\n",
       "      <td>0.03</td>\n",
       "      <td>tt4786282</td>\n",
       "      <td>21,688,103.00</td>\n",
       "      <td>4,900,000.00</td>\n",
       "      <td>1410</td>\n",
       "      <td>0</td>\n",
       "      <td>0</td>\n",
       "      <td>0</td>\n",
       "      <td>0</td>\n",
       "      <td>0</td>\n",
       "      <td>1</td>\n",
       "      <td>1</td>\n",
       "      <td>0</td>\n",
       "      <td>0</td>\n",
       "      <td>0</td>\n",
       "      <td>3</td>\n",
       "      <td>10.93</td>\n",
       "    </tr>\n",
       "  </tbody>\n",
       "</table>\n",
       "</div>"
      ],
      "text/plain": [
       "   Unnamed: 0           title_name               title_id primary_genre_desc  \\\n",
       "0           0  A Christmas Mystery  GY2QUhg4BOJ_DwgEAAAD-             comedy   \n",
       "1           1          The Kitchen  GXhzsZA8cqx_DTgEAAADY              crime   \n",
       "2           2        The Good Liar  GXpTQtgV6ax-auwEAABc3              crime   \n",
       "3           3             Moonshot  GYhfK9AxT1KKnnQEAAADT             comedy   \n",
       "4           4           Lights Out  GWZsaUQkr0bXCLwEAAABn             horror   \n",
       "\n",
       "  program_type theatrical_release_date  asset_run_time  offering_start_date  \\\n",
       "0     acquired              2022-11-24        5,224.00  2022-11-24 08:01:00   \n",
       "1     acquired              2019-09-20        6,153.00  2020-03-29 00:00:00   \n",
       "2     acquired              2019-11-15        6,574.00  2020-06-14 00:00:00   \n",
       "3     acquired              2022-03-31        6,123.00  2022-03-31 07:01:00   \n",
       "4     acquired              2016-07-22        4,755.00  2020-06-01 10:00:00   \n",
       "\n",
       "     offering_end_date  is_direct_to_max_title  \\\n",
       "0  2026-05-06 03:59:00                       1   \n",
       "1  2020-12-01 10:59:00                       0   \n",
       "2  2021-03-01 10:59:00                       0   \n",
       "3  2022-07-01 03:59:00                       1   \n",
       "4  2020-12-11 10:59:00                       0   \n",
       "\n",
       "                                            licensor observed_medal  \\\n",
       "0        Warner Bros. Inc., Warner Media Direct, LLC         Bronze   \n",
       "1                                  WARNER BROS. INC.         Bronze   \n",
       "2                                  WARNER BROS. INC.         Bronze   \n",
       "3  Warner Bros. Domestic Television Distribution,...         Silver   \n",
       "4                                  WARNER BROS. INC.         Bronze   \n",
       "\n",
       "   days_on_hbo_max  cumulative_viewing_subs  cumulative_first_views  \\\n",
       "0            90.00               670,922.00                3,898.00   \n",
       "1            90.00                39,837.00                2,045.00   \n",
       "2            90.00               186,115.00               10,519.00   \n",
       "3            90.00             1,791,406.00               10,045.00   \n",
       "4            90.00                57,023.00                1,956.00   \n",
       "\n",
       "   percent_cumulative_viewing_subscribers  percent_cumulative_first_views  \\\n",
       "0                                    2.13                            0.08   \n",
       "1                                    0.51                            0.03   \n",
       "2                                    2.22                            0.18   \n",
       "3                                    6.01                            0.25   \n",
       "4                                    0.72                            0.03   \n",
       "\n",
       "      imdb_id    area_gross        budget  days_from_theatrical  genre_action  \\\n",
       "0  tt22207152           nan           nan                     0             0   \n",
       "1   tt5822564  5,527,410.00 38,000,000.00                   191             0   \n",
       "2   tt5563334  5,605,051.00 10,000,000.00                   212             0   \n",
       "3  tt12585076           nan           nan                     0             0   \n",
       "4   tt4786282 21,688,103.00  4,900,000.00                  1410             0   \n",
       "\n",
       "   genre_comedy  genre_crime  genre_drama  genre_fantasy & sci-fi  \\\n",
       "0             1            0            0                       0   \n",
       "1             0            1            0                       0   \n",
       "2             0            1            0                       0   \n",
       "3             1            0            0                       0   \n",
       "4             0            0            0                       0   \n",
       "\n",
       "   genre_horror  medal_Bronze  medal_Gold  medal_Platinum  medal_Silver  \\\n",
       "0             0             1           0               0             0   \n",
       "1             0             1           0               0             0   \n",
       "2             0             1           0               0             0   \n",
       "3             0             0           0               0             1   \n",
       "4             1             1           0               0             0   \n",
       "\n",
       "   medal_number  log_cumulative_first_views  \n",
       "0             3                       11.93  \n",
       "1             3                       11.00  \n",
       "2             3                       13.36  \n",
       "3             2                       13.29  \n",
       "4             3                       10.93  "
      ]
     },
     "execution_count": 7,
     "metadata": {},
     "output_type": "execute_result"
    }
   ],
   "source": [
    "training_data.head()"
   ]
  },
  {
   "cell_type": "markdown",
   "id": "c526064a",
   "metadata": {},
   "source": [
    "# 1. Viewing Subs"
   ]
  },
  {
   "cell_type": "code",
   "execution_count": 43,
   "id": "efc8de50",
   "metadata": {},
   "outputs": [],
   "source": [
    "META_COLS = ['title_name','title_id', 'observed_medal']# 'title', 'home_territory_observed_medal', 'pillar_genres', 'imdb_id']"
   ]
  },
  {
   "cell_type": "code",
   "execution_count": 9,
   "id": "332f0082",
   "metadata": {},
   "outputs": [],
   "source": [
    "FEATURE_COLS = ['days_from_theatrical', 'area_gross', 'medal_number'\n",
    "                , 'genre_comedy', 'genre_drama', 'genre_crime']"
   ]
  },
  {
   "cell_type": "code",
   "execution_count": 10,
   "id": "15d4383e",
   "metadata": {},
   "outputs": [],
   "source": [
    "TARGET_COL = ['cumulative_viewing_subs'] # cumulative_first_views"
   ]
  },
  {
   "cell_type": "code",
   "execution_count": 11,
   "id": "e345c30c",
   "metadata": {},
   "outputs": [],
   "source": [
    "training_data['log_cumulative_viewing_subs'] = np.log10(training_data['cumulative_viewing_subs']-9000)\n"
   ]
  },
  {
   "cell_type": "code",
   "execution_count": 12,
   "id": "3a348752",
   "metadata": {},
   "outputs": [
    {
     "data": {
      "text/html": [
       "<div>\n",
       "<style scoped>\n",
       "    .dataframe tbody tr th:only-of-type {\n",
       "        vertical-align: middle;\n",
       "    }\n",
       "\n",
       "    .dataframe tbody tr th {\n",
       "        vertical-align: top;\n",
       "    }\n",
       "\n",
       "    .dataframe thead th {\n",
       "        text-align: right;\n",
       "    }\n",
       "</style>\n",
       "<table border=\"1\" class=\"dataframe\">\n",
       "  <thead>\n",
       "    <tr style=\"text-align: right;\">\n",
       "      <th></th>\n",
       "      <th>title_name</th>\n",
       "      <th>title_id</th>\n",
       "      <th>days_from_theatrical</th>\n",
       "      <th>area_gross</th>\n",
       "      <th>medal_number</th>\n",
       "      <th>genre_comedy</th>\n",
       "      <th>genre_drama</th>\n",
       "      <th>genre_crime</th>\n",
       "      <th>cumulative_viewing_subs</th>\n",
       "    </tr>\n",
       "  </thead>\n",
       "  <tbody>\n",
       "    <tr>\n",
       "      <th>0</th>\n",
       "      <td>A Christmas Mystery</td>\n",
       "      <td>GY2QUhg4BOJ_DwgEAAAD-</td>\n",
       "      <td>0</td>\n",
       "      <td>nan</td>\n",
       "      <td>3</td>\n",
       "      <td>1</td>\n",
       "      <td>0</td>\n",
       "      <td>0</td>\n",
       "      <td>670,922.00</td>\n",
       "    </tr>\n",
       "    <tr>\n",
       "      <th>1</th>\n",
       "      <td>The Kitchen</td>\n",
       "      <td>GXhzsZA8cqx_DTgEAAADY</td>\n",
       "      <td>191</td>\n",
       "      <td>5,527,410.00</td>\n",
       "      <td>3</td>\n",
       "      <td>0</td>\n",
       "      <td>0</td>\n",
       "      <td>1</td>\n",
       "      <td>39,837.00</td>\n",
       "    </tr>\n",
       "    <tr>\n",
       "      <th>2</th>\n",
       "      <td>The Good Liar</td>\n",
       "      <td>GXpTQtgV6ax-auwEAABc3</td>\n",
       "      <td>212</td>\n",
       "      <td>5,605,051.00</td>\n",
       "      <td>3</td>\n",
       "      <td>0</td>\n",
       "      <td>0</td>\n",
       "      <td>1</td>\n",
       "      <td>186,115.00</td>\n",
       "    </tr>\n",
       "    <tr>\n",
       "      <th>3</th>\n",
       "      <td>Moonshot</td>\n",
       "      <td>GYhfK9AxT1KKnnQEAAADT</td>\n",
       "      <td>0</td>\n",
       "      <td>nan</td>\n",
       "      <td>2</td>\n",
       "      <td>1</td>\n",
       "      <td>0</td>\n",
       "      <td>0</td>\n",
       "      <td>1,791,406.00</td>\n",
       "    </tr>\n",
       "    <tr>\n",
       "      <th>4</th>\n",
       "      <td>Lights Out</td>\n",
       "      <td>GWZsaUQkr0bXCLwEAAABn</td>\n",
       "      <td>1410</td>\n",
       "      <td>21,688,103.00</td>\n",
       "      <td>3</td>\n",
       "      <td>0</td>\n",
       "      <td>0</td>\n",
       "      <td>0</td>\n",
       "      <td>57,023.00</td>\n",
       "    </tr>\n",
       "  </tbody>\n",
       "</table>\n",
       "</div>"
      ],
      "text/plain": [
       "            title_name               title_id  days_from_theatrical  \\\n",
       "0  A Christmas Mystery  GY2QUhg4BOJ_DwgEAAAD-                     0   \n",
       "1          The Kitchen  GXhzsZA8cqx_DTgEAAADY                   191   \n",
       "2        The Good Liar  GXpTQtgV6ax-auwEAABc3                   212   \n",
       "3             Moonshot  GYhfK9AxT1KKnnQEAAADT                     0   \n",
       "4           Lights Out  GWZsaUQkr0bXCLwEAAABn                  1410   \n",
       "\n",
       "     area_gross  medal_number  genre_comedy  genre_drama  genre_crime  \\\n",
       "0           nan             3             1            0            0   \n",
       "1  5,527,410.00             3             0            0            1   \n",
       "2  5,605,051.00             3             0            0            1   \n",
       "3           nan             2             1            0            0   \n",
       "4 21,688,103.00             3             0            0            0   \n",
       "\n",
       "   cumulative_viewing_subs  \n",
       "0               670,922.00  \n",
       "1                39,837.00  \n",
       "2               186,115.00  \n",
       "3             1,791,406.00  \n",
       "4                57,023.00  "
      ]
     },
     "execution_count": 12,
     "metadata": {},
     "output_type": "execute_result"
    }
   ],
   "source": [
    "training_data[META_COLS+FEATURE_COLS+TARGET_COL].head()"
   ]
  },
  {
   "cell_type": "code",
   "execution_count": 13,
   "id": "8c452192",
   "metadata": {},
   "outputs": [
    {
     "data": {
      "text/html": [
       "<div>\n",
       "<style scoped>\n",
       "    .dataframe tbody tr th:only-of-type {\n",
       "        vertical-align: middle;\n",
       "    }\n",
       "\n",
       "    .dataframe tbody tr th {\n",
       "        vertical-align: top;\n",
       "    }\n",
       "\n",
       "    .dataframe thead th {\n",
       "        text-align: right;\n",
       "    }\n",
       "</style>\n",
       "<table border=\"1\" class=\"dataframe\">\n",
       "  <thead>\n",
       "    <tr style=\"text-align: right;\">\n",
       "      <th></th>\n",
       "      <th>title_name</th>\n",
       "      <th>title_id</th>\n",
       "      <th>days_from_theatrical</th>\n",
       "      <th>area_gross</th>\n",
       "      <th>medal_number</th>\n",
       "      <th>genre_comedy</th>\n",
       "      <th>genre_drama</th>\n",
       "      <th>genre_crime</th>\n",
       "      <th>cumulative_viewing_subs</th>\n",
       "      <th>cumulative_viewing_subs</th>\n",
       "    </tr>\n",
       "  </thead>\n",
       "  <tbody>\n",
       "    <tr>\n",
       "      <th>3</th>\n",
       "      <td>Moonshot</td>\n",
       "      <td>GYhfK9AxT1KKnnQEAAADT</td>\n",
       "      <td>0</td>\n",
       "      <td>nan</td>\n",
       "      <td>2</td>\n",
       "      <td>1</td>\n",
       "      <td>0</td>\n",
       "      <td>0</td>\n",
       "      <td>1,791,406.00</td>\n",
       "      <td>1,791,406.00</td>\n",
       "    </tr>\n",
       "    <tr>\n",
       "      <th>17</th>\n",
       "      <td>Eraser: Reborn</td>\n",
       "      <td>GYtUdUQtVN3mangEAAAox</td>\n",
       "      <td>277</td>\n",
       "      <td>nan</td>\n",
       "      <td>2</td>\n",
       "      <td>0</td>\n",
       "      <td>0</td>\n",
       "      <td>0</td>\n",
       "      <td>1,877,923.00</td>\n",
       "      <td>1,877,923.00</td>\n",
       "    </tr>\n",
       "  </tbody>\n",
       "</table>\n",
       "</div>"
      ],
      "text/plain": [
       "        title_name               title_id  days_from_theatrical  area_gross  \\\n",
       "3         Moonshot  GYhfK9AxT1KKnnQEAAADT                     0         nan   \n",
       "17  Eraser: Reborn  GYtUdUQtVN3mangEAAAox                   277         nan   \n",
       "\n",
       "    medal_number  genre_comedy  genre_drama  genre_crime  \\\n",
       "3              2             1            0            0   \n",
       "17             2             0            0            0   \n",
       "\n",
       "    cumulative_viewing_subs  cumulative_viewing_subs  \n",
       "3              1,791,406.00             1,791,406.00  \n",
       "17             1,877,923.00             1,877,923.00  "
      ]
     },
     "execution_count": 13,
     "metadata": {},
     "output_type": "execute_result"
    }
   ],
   "source": [
    "training_data[training_data['medal_number']==2][META_COLS+FEATURE_COLS+TARGET_COL+['cumulative_viewing_subs']]"
   ]
  },
  {
   "cell_type": "code",
   "execution_count": 255,
   "id": "ad3339b6",
   "metadata": {},
   "outputs": [
    {
     "data": {
      "text/plain": [
       "<matplotlib.legend.Legend at 0x7f5bde7f0550>"
      ]
     },
     "execution_count": 255,
     "metadata": {},
     "output_type": "execute_result"
    },
    {
     "data": {
      "image/png": "[encoded data removed]",
      "text/plain": [
       "<Figure size 576x288 with 1 Axes>"
      ]
     },
     "metadata": {
      "needs_background": "light"
     },
     "output_type": "display_data"
    }
   ],
   "source": [
    "plot_df = training_data[(training_data['medal_number'] == 3) # == 2 only 2 samples and the more days the more views\n",
    "#                         (training_data['genre_crime'] == 1) \n",
    "#                         (training_data['is_direct_to_max_title'] == 0)\n",
    "                       ]\n",
    "plt.figure(figsize=(8, 4))\n",
    "plt.plot(plot_df['days_from_theatrical'], \n",
    "         plot_df['cumulative_viewing_subs'], 'o', color='black', label = 'Silver');\n",
    "plt.title('days_from_theatrical V.S. cumulative_viewing_subs')\n",
    "plt.legend()"
   ]
  },
  {
   "cell_type": "markdown",
   "id": "5bcc9f1e",
   "metadata": {},
   "source": [
    "## 1.1 Cross Validation"
   ]
  },
  {
   "cell_type": "code",
   "execution_count": 15,
   "id": "8bd86f68",
   "metadata": {},
   "outputs": [],
   "source": [
    "def cal_error(validation_set):\n",
    "    error_col = (validation_set['pred']-validation_set[TARGET_COL[0]]).abs()/validation_set[TARGET_COL[0]]\n",
    "    return error_col.mean()"
   ]
  },
  {
   "cell_type": "markdown",
   "id": "afbb3d6d",
   "metadata": {},
   "source": [
    "### 1.11 Random Forest CV - Bench Mark"
   ]
  },
  {
   "cell_type": "code",
   "execution_count": 16,
   "id": "954f4608",
   "metadata": {},
   "outputs": [],
   "source": [
    "training_data = training_data[training_data[TARGET_COL[0]].notnull()]"
   ]
  },
  {
   "cell_type": "code",
   "execution_count": 17,
   "id": "45ec1bd5",
   "metadata": {},
   "outputs": [
    {
     "data": {
      "text/plain": [
       "25"
      ]
     },
     "execution_count": 17,
     "metadata": {},
     "output_type": "execute_result"
    }
   ],
   "source": [
    "len(training_data)"
   ]
  },
  {
   "cell_type": "code",
   "execution_count": 18,
   "id": "ed798747",
   "metadata": {},
   "outputs": [],
   "source": [
    "num_folds = len(training_data['title_id'].unique())\n",
    "group_kfold = GroupKFold(n_splits=num_folds)"
   ]
  },
  {
   "cell_type": "code",
   "execution_count": 19,
   "id": "7faebda0",
   "metadata": {
    "collapsed": true,
    "jupyter": {
     "outputs_hidden": true
    }
   },
   "outputs": [
    {
     "name": "stdout",
     "output_type": "stream",
     "text": [
      "Validation Title: Eraser: Reborn\n",
      "Validation Title: Scoob!\n",
      "Validation Title: Lights Out\n"
     ]
    },
    {
     "ename": "KeyboardInterrupt",
     "evalue": "",
     "output_type": "error",
     "traceback": [
      "\u001b[0;31m---------------------------------------------------------------------------\u001b[0m",
      "\u001b[0;31mKeyboardInterrupt\u001b[0m                         Traceback (most recent call last)",
      "\u001b[0;32m<ipython-input-19-b8291dc3a8ae>\u001b[0m in \u001b[0;36m<module>\u001b[0;34m\u001b[0m\n\u001b[1;32m     11\u001b[0m         \u001b[0my_train\u001b[0m\u001b[0;34m,\u001b[0m \u001b[0my_test\u001b[0m \u001b[0;34m=\u001b[0m \u001b[0mtrain_df\u001b[0m\u001b[0;34m[\u001b[0m\u001b[0mTARGET_COL\u001b[0m\u001b[0;34m]\u001b[0m\u001b[0;34m,\u001b[0m \u001b[0mtest_df\u001b[0m\u001b[0;34m[\u001b[0m\u001b[0mTARGET_COL\u001b[0m\u001b[0;34m]\u001b[0m\u001b[0;34m\u001b[0m\u001b[0;34m\u001b[0m\u001b[0m\n\u001b[1;32m     12\u001b[0m \u001b[0;34m\u001b[0m\u001b[0m\n\u001b[0;32m---> 13\u001b[0;31m         \u001b[0mmodel\u001b[0m\u001b[0;34m.\u001b[0m\u001b[0mfit\u001b[0m\u001b[0;34m(\u001b[0m\u001b[0mX_train\u001b[0m\u001b[0;34m,\u001b[0m \u001b[0my_train\u001b[0m\u001b[0;34m)\u001b[0m\u001b[0;34m\u001b[0m\u001b[0;34m\u001b[0m\u001b[0m\n\u001b[0m\u001b[1;32m     14\u001b[0m         \u001b[0mpred\u001b[0m \u001b[0;34m=\u001b[0m \u001b[0mmodel\u001b[0m\u001b[0;34m.\u001b[0m\u001b[0mpredict\u001b[0m\u001b[0;34m(\u001b[0m\u001b[0mX_test\u001b[0m\u001b[0;34m)\u001b[0m\u001b[0;34m\u001b[0m\u001b[0;34m\u001b[0m\u001b[0m\n\u001b[1;32m     15\u001b[0m         \u001b[0mpred\u001b[0m \u001b[0;34m=\u001b[0m \u001b[0mpd\u001b[0m\u001b[0;34m.\u001b[0m\u001b[0mDataFrame\u001b[0m\u001b[0;34m(\u001b[0m\u001b[0mpred\u001b[0m\u001b[0;34m)\u001b[0m\u001b[0;34m\u001b[0m\u001b[0;34m\u001b[0m\u001b[0m\n",
      "\u001b[0;32m~/anaconda3/envs/python3/lib/python3.6/site-packages/xgboost/core.py\u001b[0m in \u001b[0;36minner_f\u001b[0;34m(*args, **kwargs)\u001b[0m\n\u001b[1;32m    504\u001b[0m         \u001b[0;32mfor\u001b[0m \u001b[0mk\u001b[0m\u001b[0;34m,\u001b[0m \u001b[0marg\u001b[0m \u001b[0;32min\u001b[0m \u001b[0mzip\u001b[0m\u001b[0;34m(\u001b[0m\u001b[0msig\u001b[0m\u001b[0;34m.\u001b[0m\u001b[0mparameters\u001b[0m\u001b[0;34m,\u001b[0m \u001b[0margs\u001b[0m\u001b[0;34m)\u001b[0m\u001b[0;34m:\u001b[0m\u001b[0;34m\u001b[0m\u001b[0;34m\u001b[0m\u001b[0m\n\u001b[1;32m    505\u001b[0m             \u001b[0mkwargs\u001b[0m\u001b[0;34m[\u001b[0m\u001b[0mk\u001b[0m\u001b[0;34m]\u001b[0m \u001b[0;34m=\u001b[0m \u001b[0marg\u001b[0m\u001b[0;34m\u001b[0m\u001b[0;34m\u001b[0m\u001b[0m\n\u001b[0;32m--> 506\u001b[0;31m         \u001b[0;32mreturn\u001b[0m \u001b[0mf\u001b[0m\u001b[0;34m(\u001b[0m\u001b[0;34m**\u001b[0m\u001b[0mkwargs\u001b[0m\u001b[0;34m)\u001b[0m\u001b[0;34m\u001b[0m\u001b[0;34m\u001b[0m\u001b[0m\n\u001b[0m\u001b[1;32m    507\u001b[0m \u001b[0;34m\u001b[0m\u001b[0m\n\u001b[1;32m    508\u001b[0m     \u001b[0;32mreturn\u001b[0m \u001b[0minner_f\u001b[0m\u001b[0;34m\u001b[0m\u001b[0;34m\u001b[0m\u001b[0m\n",
      "\u001b[0;32m~/anaconda3/envs/python3/lib/python3.6/site-packages/xgboost/sklearn.py\u001b[0m in \u001b[0;36mfit\u001b[0;34m(self, X, y, sample_weight, base_margin, eval_set, eval_metric, early_stopping_rounds, verbose, xgb_model, sample_weight_eval_set, base_margin_eval_set, feature_weights, callbacks)\u001b[0m\n\u001b[1;32m    798\u001b[0m             \u001b[0mverbose_eval\u001b[0m\u001b[0;34m=\u001b[0m\u001b[0mverbose\u001b[0m\u001b[0;34m,\u001b[0m\u001b[0;34m\u001b[0m\u001b[0;34m\u001b[0m\u001b[0m\n\u001b[1;32m    799\u001b[0m             \u001b[0mxgb_model\u001b[0m\u001b[0;34m=\u001b[0m\u001b[0mmodel\u001b[0m\u001b[0;34m,\u001b[0m\u001b[0;34m\u001b[0m\u001b[0;34m\u001b[0m\u001b[0m\n\u001b[0;32m--> 800\u001b[0;31m             \u001b[0mcallbacks\u001b[0m\u001b[0;34m=\u001b[0m\u001b[0mcallbacks\u001b[0m\u001b[0;34m,\u001b[0m\u001b[0;34m\u001b[0m\u001b[0;34m\u001b[0m\u001b[0m\n\u001b[0m\u001b[1;32m    801\u001b[0m         )\n\u001b[1;32m    802\u001b[0m \u001b[0;34m\u001b[0m\u001b[0m\n",
      "\u001b[0;32m~/anaconda3/envs/python3/lib/python3.6/site-packages/xgboost/training.py\u001b[0m in \u001b[0;36mtrain\u001b[0;34m(params, dtrain, num_boost_round, evals, obj, feval, maximize, early_stopping_rounds, evals_result, verbose_eval, xgb_model, callbacks)\u001b[0m\n\u001b[1;32m    194\u001b[0m                           \u001b[0mevals_result\u001b[0m\u001b[0;34m=\u001b[0m\u001b[0mevals_result\u001b[0m\u001b[0;34m,\u001b[0m\u001b[0;34m\u001b[0m\u001b[0;34m\u001b[0m\u001b[0m\n\u001b[1;32m    195\u001b[0m                           \u001b[0mmaximize\u001b[0m\u001b[0;34m=\u001b[0m\u001b[0mmaximize\u001b[0m\u001b[0;34m,\u001b[0m\u001b[0;34m\u001b[0m\u001b[0;34m\u001b[0m\u001b[0m\n\u001b[0;32m--> 196\u001b[0;31m                           early_stopping_rounds=early_stopping_rounds)\n\u001b[0m\u001b[1;32m    197\u001b[0m     \u001b[0;32mreturn\u001b[0m \u001b[0mbst\u001b[0m\u001b[0;34m\u001b[0m\u001b[0;34m\u001b[0m\u001b[0m\n\u001b[1;32m    198\u001b[0m \u001b[0;34m\u001b[0m\u001b[0m\n",
      "\u001b[0;32m~/anaconda3/envs/python3/lib/python3.6/site-packages/xgboost/training.py\u001b[0m in \u001b[0;36m_train_internal\u001b[0;34m(params, dtrain, num_boost_round, evals, obj, feval, xgb_model, callbacks, evals_result, maximize, verbose_eval, early_stopping_rounds)\u001b[0m\n\u001b[1;32m     79\u001b[0m         \u001b[0;32mif\u001b[0m \u001b[0mcallbacks\u001b[0m\u001b[0;34m.\u001b[0m\u001b[0mbefore_iteration\u001b[0m\u001b[0;34m(\u001b[0m\u001b[0mbst\u001b[0m\u001b[0;34m,\u001b[0m \u001b[0mi\u001b[0m\u001b[0;34m,\u001b[0m \u001b[0mdtrain\u001b[0m\u001b[0;34m,\u001b[0m \u001b[0mevals\u001b[0m\u001b[0;34m)\u001b[0m\u001b[0;34m:\u001b[0m\u001b[0;34m\u001b[0m\u001b[0;34m\u001b[0m\u001b[0m\n\u001b[1;32m     80\u001b[0m             \u001b[0;32mbreak\u001b[0m\u001b[0;34m\u001b[0m\u001b[0;34m\u001b[0m\u001b[0m\n\u001b[0;32m---> 81\u001b[0;31m         \u001b[0mbst\u001b[0m\u001b[0;34m.\u001b[0m\u001b[0mupdate\u001b[0m\u001b[0;34m(\u001b[0m\u001b[0mdtrain\u001b[0m\u001b[0;34m,\u001b[0m \u001b[0mi\u001b[0m\u001b[0;34m,\u001b[0m \u001b[0mobj\u001b[0m\u001b[0;34m)\u001b[0m\u001b[0;34m\u001b[0m\u001b[0;34m\u001b[0m\u001b[0m\n\u001b[0m\u001b[1;32m     82\u001b[0m         \u001b[0;32mif\u001b[0m \u001b[0mcallbacks\u001b[0m\u001b[0;34m.\u001b[0m\u001b[0mafter_iteration\u001b[0m\u001b[0;34m(\u001b[0m\u001b[0mbst\u001b[0m\u001b[0;34m,\u001b[0m \u001b[0mi\u001b[0m\u001b[0;34m,\u001b[0m \u001b[0mdtrain\u001b[0m\u001b[0;34m,\u001b[0m \u001b[0mevals\u001b[0m\u001b[0;34m)\u001b[0m\u001b[0;34m:\u001b[0m\u001b[0;34m\u001b[0m\u001b[0;34m\u001b[0m\u001b[0m\n\u001b[1;32m     83\u001b[0m             \u001b[0;32mbreak\u001b[0m\u001b[0;34m\u001b[0m\u001b[0;34m\u001b[0m\u001b[0m\n",
      "\u001b[0;32m~/anaconda3/envs/python3/lib/python3.6/site-packages/xgboost/core.py\u001b[0m in \u001b[0;36mupdate\u001b[0;34m(self, dtrain, iteration, fobj)\u001b[0m\n\u001b[1;32m   1680\u001b[0m             _check_call(_LIB.XGBoosterUpdateOneIter(self.handle,\n\u001b[1;32m   1681\u001b[0m                                                     \u001b[0mctypes\u001b[0m\u001b[0;34m.\u001b[0m\u001b[0mc_int\u001b[0m\u001b[0;34m(\u001b[0m\u001b[0miteration\u001b[0m\u001b[0;34m)\u001b[0m\u001b[0;34m,\u001b[0m\u001b[0;34m\u001b[0m\u001b[0;34m\u001b[0m\u001b[0m\n\u001b[0;32m-> 1682\u001b[0;31m                                                     dtrain.handle))\n\u001b[0m\u001b[1;32m   1683\u001b[0m         \u001b[0;32melse\u001b[0m\u001b[0;34m:\u001b[0m\u001b[0;34m\u001b[0m\u001b[0;34m\u001b[0m\u001b[0m\n\u001b[1;32m   1684\u001b[0m             \u001b[0mpred\u001b[0m \u001b[0;34m=\u001b[0m \u001b[0mself\u001b[0m\u001b[0;34m.\u001b[0m\u001b[0mpredict\u001b[0m\u001b[0;34m(\u001b[0m\u001b[0mdtrain\u001b[0m\u001b[0;34m,\u001b[0m \u001b[0moutput_margin\u001b[0m\u001b[0;34m=\u001b[0m\u001b[0;32mTrue\u001b[0m\u001b[0;34m,\u001b[0m \u001b[0mtraining\u001b[0m\u001b[0;34m=\u001b[0m\u001b[0;32mTrue\u001b[0m\u001b[0;34m)\u001b[0m\u001b[0;34m\u001b[0m\u001b[0;34m\u001b[0m\u001b[0m\n",
      "\u001b[0;31mKeyboardInterrupt\u001b[0m: "
     ]
    }
   ],
   "source": [
    "validation_set = pd.DataFrame()\n",
    "feature_importances = pd.DataFrame()\n",
    "model = XGBRegressor(n_estimators=1000, max_depth=7, eta=0.1, subsample=0.7, colsample_bytree=0.8)\n",
    "\n",
    "for train_index, test_index in group_kfold.split(training_data, groups=training_data['title_id'].values):\n",
    "    train_df, test_df = training_data.iloc[train_index], training_data.iloc[test_index]\n",
    "    print (\"Validation Title: \" + test_df['title_name'].values[0])\n",
    "    try:\n",
    "        ## fit_predict prelaunch model\n",
    "        X_train, X_test = train_df[FEATURE_COLS], test_df[FEATURE_COLS]\n",
    "        y_train, y_test = train_df[TARGET_COL], test_df[TARGET_COL]\n",
    "\n",
    "        model.fit(X_train, y_train)\n",
    "        pred = model.predict(X_test)\n",
    "        pred = pd.DataFrame(pred)\n",
    "        pred.columns = ['pred']\n",
    "        test_df.reset_index(inplace = True, drop = True)\n",
    "        test_df = pd.concat([test_df, pred], axis = 1)\n",
    "        validation_set = pd.concat([validation_set, test_df], axis = 0)\n",
    "\n",
    "#         fi = model.feature_importances_\n",
    "#         fi_df = pd.DataFrame([fi])\n",
    "#         fi_df.columns = FEATURE_COLS\n",
    "#         fi_df['match_id'] = test_df['match_id'].values[0]\n",
    "#         fi_df['title_name'] = test_df['title_name'].values[0]\n",
    "#         fi_df['days_on_hbo_max'] = day\n",
    "#         feature_importances=pd.concat([feature_importances, fi_df], axis = 0)\n",
    "\n",
    "    except (KeyboardInterrupt, SystemExit):\n",
    "        raise\n",
    "\n",
    "    except:\n",
    "        print (test_df['title'].values[0] + \" Failed!!\")\n",
    "        # raise"
   ]
  },
  {
   "cell_type": "code",
   "execution_count": 27,
   "id": "fd9badf6",
   "metadata": {},
   "outputs": [],
   "source": [
    "# validation_set.to_csv('validation_set_low_budget_movies.csv')"
   ]
  },
  {
   "cell_type": "code",
   "execution_count": 118,
   "id": "6ed632a1",
   "metadata": {},
   "outputs": [],
   "source": [
    "validation_set['pct_error'] = (validation_set['pred']-validation_set[TARGET_COL[0]]).abs()/validation_set[TARGET_COL[0]]"
   ]
  },
  {
   "cell_type": "code",
   "execution_count": 120,
   "id": "7898782b",
   "metadata": {},
   "outputs": [
    {
     "data": {
      "text/plain": [
       "1.732601454380023"
      ]
     },
     "execution_count": 120,
     "metadata": {},
     "output_type": "execute_result"
    }
   ],
   "source": [
    "cal_error(validation_set)"
   ]
  },
  {
   "cell_type": "markdown",
   "id": "2fde9de5",
   "metadata": {},
   "source": [
    "### 1.12 Bayesian Regression CV"
   ]
  },
  {
   "cell_type": "code",
   "execution_count": 22,
   "id": "fae05ea4",
   "metadata": {},
   "outputs": [],
   "source": [
    "# !pip install pygam"
   ]
  },
  {
   "cell_type": "code",
   "execution_count": 20,
   "id": "4de1138b",
   "metadata": {},
   "outputs": [],
   "source": [
    "from pygam import LinearGAM, s"
   ]
  },
  {
   "cell_type": "code",
   "execution_count": 21,
   "id": "f65ee1e3",
   "metadata": {},
   "outputs": [],
   "source": [
    "FEATURE_COLS = ['days_from_theatrical', 'medal_number', \n",
    "#                 'genre_comedy', 'genre_drama', 'genre_crime', \n",
    "#                 'is_direct_to_max_title'\n",
    "               ]"
   ]
  },
  {
   "cell_type": "code",
   "execution_count": 22,
   "id": "cf8e0711",
   "metadata": {},
   "outputs": [],
   "source": [
    "TARGET_COL = ['log_cumulative_viewing_subs'] # cumulative_first_views"
   ]
  },
  {
   "cell_type": "code",
   "execution_count": 23,
   "id": "b180be3d",
   "metadata": {},
   "outputs": [],
   "source": [
    "training_data = training_data[training_data['log_cumulative_viewing_subs'].notnull()]\n",
    "training_data = training_data[training_data['observed_medal']!= 'Platinum']"
   ]
  },
  {
   "cell_type": "code",
   "execution_count": 24,
   "id": "516e16df",
   "metadata": {},
   "outputs": [],
   "source": [
    "num_folds = len(training_data['title_id'].unique())\n",
    "group_kfold = GroupKFold(n_splits=num_folds)"
   ]
  },
  {
   "cell_type": "code",
   "execution_count": 25,
   "id": "49d5b39d",
   "metadata": {},
   "outputs": [
    {
     "data": {
      "text/plain": [
       "24"
      ]
     },
     "execution_count": 25,
     "metadata": {},
     "output_type": "execute_result"
    }
   ],
   "source": [
    "num_folds"
   ]
  },
  {
   "cell_type": "code",
   "execution_count": 26,
   "id": "9bb3a080",
   "metadata": {},
   "outputs": [
    {
     "data": {
      "text/plain": [
       "days_from_theatrical          0.00\n",
       "medal_number                  0.00\n",
       "log_cumulative_viewing_subs   0.00\n",
       "dtype: float64"
      ]
     },
     "execution_count": 26,
     "metadata": {},
     "output_type": "execute_result"
    }
   ],
   "source": [
    "training_data[FEATURE_COLS+TARGET_COL].isnull().sum()/len(training_data)"
   ]
  },
  {
   "cell_type": "code",
   "execution_count": 27,
   "id": "9982de71",
   "metadata": {},
   "outputs": [],
   "source": [
    "# training_data['area_gross'] = training_data['area_gross'].fillna(0)\n",
    "# training_data['budget'] = training_data['budget'].fillna(0)"
   ]
  },
  {
   "cell_type": "code",
   "execution_count": 28,
   "id": "7eeca23d",
   "metadata": {},
   "outputs": [],
   "source": [
    "### DOWNSIDE --- DO NOT TAKE NULL ####\n",
    "validation_set = pd.DataFrame()\n",
    "# feature_importances = pd.DataFrame()\n",
    "# gam = LinearGAM(s(0))\n",
    "\n",
    "for train_index, test_index in group_kfold.split(training_data, groups=training_data['title_id'].values):\n",
    "    train_df, test_df = training_data.iloc[train_index], training_data.iloc[test_index]\n",
    "#     print (\"Validation Title: \" + test_df['title'].values[0])\n",
    "    try:\n",
    "        ## fit_predict prelaunch model\n",
    "        X_train, X_test = train_df[FEATURE_COLS], test_df[FEATURE_COLS]\n",
    "        y_train, y_test = train_df[TARGET_COL], test_df[TARGET_COL]\n",
    "\n",
    "        gam = LinearGAM(n_splines=6).fit(X_train, y_train)\n",
    "        pred = gam.predict(X_test)\n",
    "        pred = pd.DataFrame(pred)\n",
    "        pred.columns = ['pred']\n",
    "        test_df.reset_index(inplace = True, drop = True)\n",
    "        test_df = pd.concat([test_df, pred], axis = 1)\n",
    "        validation_set = pd.concat([validation_set, test_df], axis = 0)\n",
    "\n",
    "    except Exception as e:\n",
    "        print (e)\n",
    "        raise "
   ]
  },
  {
   "cell_type": "code",
   "execution_count": 29,
   "id": "422038ba",
   "metadata": {},
   "outputs": [
    {
     "data": {
      "text/plain": [
       "0.07935729884302388"
      ]
     },
     "execution_count": 29,
     "metadata": {},
     "output_type": "execute_result"
    }
   ],
   "source": [
    "cal_error(validation_set)"
   ]
  },
  {
   "cell_type": "code",
   "execution_count": 30,
   "id": "14736dcf",
   "metadata": {},
   "outputs": [],
   "source": [
    "X = training_data[FEATURE_COLS]\n",
    "y = training_data[TARGET_COL]\n",
    "gam = LinearGAM(n_splines=10).fit(X, y)"
   ]
  },
  {
   "cell_type": "code",
   "execution_count": 31,
   "id": "0b69e8b3",
   "metadata": {},
   "outputs": [
    {
     "name": "stdout",
     "output_type": "stream",
     "text": [
      "LinearGAM                                                                                                 \n",
      "=============================================== ==========================================================\n",
      "Distribution:                        NormalDist Effective DoF:                                      5.4609\n",
      "Link Function:                     IdentityLink Log Likelihood:                                   -28.4912\n",
      "Number of Samples:                           24 AIC:                                               69.9042\n",
      "                                                AICc:                                              75.7333\n",
      "                                                GCV:                                                0.3537\n",
      "                                                Scale:                                              0.2126\n",
      "                                                Pseudo R-Squared:                                     0.83\n",
      "==========================================================================================================\n",
      "Feature Function                  Lambda               Rank         EDoF         P > x        Sig. Code   \n",
      "================================= ==================== ============ ============ ============ ============\n",
      "s(0)                              [0.6]                10           3.7          2.27e-07     ***         \n",
      "s(1)                              [0.6]                10           1.7          1.22e-03     **          \n",
      "intercept                                              1            0.0          1.81e-13     ***         \n",
      "==========================================================================================================\n",
      "Significance codes:  0 '***' 0.001 '**' 0.01 '*' 0.05 '.' 0.1 ' ' 1\n",
      "\n",
      "WARNING: Fitting splines and a linear function to a feature introduces a model identifiability problem\n",
      "         which can cause p-values to appear significant when they are not.\n",
      "\n",
      "WARNING: p-values calculated in this manner behave correctly for un-penalized models or models with\n",
      "         known smoothing parameters, but when smoothing parameters have been estimated, the p-values\n",
      "         are typically lower than they should be, meaning that the tests reject the null too readily.\n"
     ]
    },
    {
     "name": "stderr",
     "output_type": "stream",
     "text": [
      "/home/ec2-user/anaconda3/envs/python3/lib/python3.6/site-packages/ipykernel/__main__.py:1: UserWarning: KNOWN BUG: p-values computed in this summary are likely much smaller than they should be. \n",
      " \n",
      "Please do not make inferences based on these values! \n",
      "\n",
      "Collaborate on a solution, and stay up to date at: \n",
      "github.com/dswah/pyGAM/issues/163 \n",
      "\n",
      "  if __name__ == '__main__':\n"
     ]
    }
   ],
   "source": [
    "gam.summary()"
   ]
  },
  {
   "cell_type": "code",
   "execution_count": 32,
   "id": "4c0e96e7",
   "metadata": {},
   "outputs": [
    {
     "data": {
      "image/png": "[encoded data removed]",
      "text/plain": [
       "<Figure size 1440x360 with 2 Axes>"
      ]
     },
     "metadata": {
      "needs_background": "light"
     },
     "output_type": "display_data"
    }
   ],
   "source": [
    "plt.rcParams['figure.figsize'] = (20, 5)\n",
    "fig, axs = plt.subplots(1, 2)\n",
    "titles = FEATURE_COLS\n",
    "for i, ax in enumerate(axs):\n",
    "    XX = gam.generate_X_grid(term=i)\n",
    "    pdep, confi = gam.partial_dependence(term=i, width=.95)\n",
    "\n",
    "    ax.plot(XX[:, i], pdep)\n",
    "    ax.plot(XX[:, i], confi, c='r', ls='--')\n",
    "    ax.set_title(titles[i]);"
   ]
  },
  {
   "cell_type": "code",
   "execution_count": 33,
   "id": "35abbf22",
   "metadata": {},
   "outputs": [],
   "source": [
    "def cal_true_error(validation_set):\n",
    "    error_col = (validation_set['pred_antilog']-validation_set['cumulative_viewing_subs']).abs()/validation_set['cumulative_viewing_subs']\n",
    "    return error_col.mean()"
   ]
  },
  {
   "cell_type": "code",
   "execution_count": 34,
   "id": "2950818a",
   "metadata": {},
   "outputs": [],
   "source": [
    "validation_set['pred_antilog'] = 10**(validation_set['pred'])+9000"
   ]
  },
  {
   "cell_type": "code",
   "execution_count": 35,
   "id": "66815a46",
   "metadata": {},
   "outputs": [
    {
     "data": {
      "text/plain": [
       "1.1840592277401472"
      ]
     },
     "execution_count": 35,
     "metadata": {},
     "output_type": "execute_result"
    }
   ],
   "source": [
    "cal_true_error(validation_set)"
   ]
  },
  {
   "cell_type": "code",
   "execution_count": 36,
   "id": "a7587620",
   "metadata": {},
   "outputs": [],
   "source": [
    "validation_set['pct_error'] = (validation_set['pred_antilog']-validation_set['cumulative_viewing_subs']).abs()/validation_set['cumulative_viewing_subs']"
   ]
  },
  {
   "cell_type": "code",
   "execution_count": 37,
   "id": "bcd4beee",
   "metadata": {},
   "outputs": [
    {
     "data": {
      "text/html": [
       "<div>\n",
       "<style scoped>\n",
       "    .dataframe tbody tr th:only-of-type {\n",
       "        vertical-align: middle;\n",
       "    }\n",
       "\n",
       "    .dataframe tbody tr th {\n",
       "        vertical-align: top;\n",
       "    }\n",
       "\n",
       "    .dataframe thead th {\n",
       "        text-align: right;\n",
       "    }\n",
       "</style>\n",
       "<table border=\"1\" class=\"dataframe\">\n",
       "  <thead>\n",
       "    <tr style=\"text-align: right;\">\n",
       "      <th></th>\n",
       "      <th>title_name</th>\n",
       "      <th>title_id</th>\n",
       "      <th>days_from_theatrical</th>\n",
       "      <th>medal_number</th>\n",
       "      <th>log_cumulative_viewing_subs</th>\n",
       "      <th>pred</th>\n",
       "      <th>pred_antilog</th>\n",
       "      <th>cumulative_viewing_subs</th>\n",
       "      <th>pct_error</th>\n",
       "    </tr>\n",
       "  </thead>\n",
       "  <tbody>\n",
       "    <tr>\n",
       "      <th>0</th>\n",
       "      <td>Lights Out</td>\n",
       "      <td>GWZsaUQkr0bXCLwEAAABn</td>\n",
       "      <td>1410</td>\n",
       "      <td>3</td>\n",
       "      <td>4.68</td>\n",
       "      <td>5.32</td>\n",
       "      <td>217,443.29</td>\n",
       "      <td>57,023.00</td>\n",
       "      <td>2.81</td>\n",
       "    </tr>\n",
       "    <tr>\n",
       "      <th>0</th>\n",
       "      <td>The Kitchen</td>\n",
       "      <td>GXhzsZA8cqx_DTgEAAADY</td>\n",
       "      <td>191</td>\n",
       "      <td>3</td>\n",
       "      <td>4.49</td>\n",
       "      <td>5.54</td>\n",
       "      <td>359,226.50</td>\n",
       "      <td>39,837.00</td>\n",
       "      <td>8.02</td>\n",
       "    </tr>\n",
       "    <tr>\n",
       "      <th>0</th>\n",
       "      <td>The Time Traveler's Wife</td>\n",
       "      <td>GXrHxIweO4a2brQEAAAC7</td>\n",
       "      <td>3944</td>\n",
       "      <td>3</td>\n",
       "      <td>4.32</td>\n",
       "      <td>4.99</td>\n",
       "      <td>105,657.57</td>\n",
       "      <td>29,943.00</td>\n",
       "      <td>2.53</td>\n",
       "    </tr>\n",
       "    <tr>\n",
       "      <th>0</th>\n",
       "      <td>Scoob!</td>\n",
       "      <td>GXtf0UwTqw8JHjQEAAAbT</td>\n",
       "      <td>177</td>\n",
       "      <td>1</td>\n",
       "      <td>6.04</td>\n",
       "      <td>6.54</td>\n",
       "      <td>3,448,584.15</td>\n",
       "      <td>1,110,828.00</td>\n",
       "      <td>2.10</td>\n",
       "    </tr>\n",
       "    <tr>\n",
       "      <th>0</th>\n",
       "      <td>House Party</td>\n",
       "      <td>GXwOYEAypSMMxPQEAAAAD</td>\n",
       "      <td>0</td>\n",
       "      <td>3</td>\n",
       "      <td>4.85</td>\n",
       "      <td>5.54</td>\n",
       "      <td>353,522.01</td>\n",
       "      <td>79,884.00</td>\n",
       "      <td>3.43</td>\n",
       "    </tr>\n",
       "  </tbody>\n",
       "</table>\n",
       "</div>"
      ],
      "text/plain": [
       "                 title_name               title_id  days_from_theatrical  \\\n",
       "0                Lights Out  GWZsaUQkr0bXCLwEAAABn                  1410   \n",
       "0               The Kitchen  GXhzsZA8cqx_DTgEAAADY                   191   \n",
       "0  The Time Traveler's Wife  GXrHxIweO4a2brQEAAAC7                  3944   \n",
       "0                    Scoob!  GXtf0UwTqw8JHjQEAAAbT                   177   \n",
       "0               House Party  GXwOYEAypSMMxPQEAAAAD                     0   \n",
       "\n",
       "   medal_number  log_cumulative_viewing_subs  pred  pred_antilog  \\\n",
       "0             3                         4.68  5.32    217,443.29   \n",
       "0             3                         4.49  5.54    359,226.50   \n",
       "0             3                         4.32  4.99    105,657.57   \n",
       "0             1                         6.04  6.54  3,448,584.15   \n",
       "0             3                         4.85  5.54    353,522.01   \n",
       "\n",
       "   cumulative_viewing_subs  pct_error  \n",
       "0                57,023.00       2.81  \n",
       "0                39,837.00       8.02  \n",
       "0                29,943.00       2.53  \n",
       "0             1,110,828.00       2.10  \n",
       "0                79,884.00       3.43  "
      ]
     },
     "execution_count": 37,
     "metadata": {},
     "output_type": "execute_result"
    }
   ],
   "source": [
    "validation_set[validation_set['pct_error']>2][META_COLS+FEATURE_COLS+TARGET_COL+['pred', 'pred_antilog','cumulative_viewing_subs','pct_error']]"
   ]
  },
  {
   "cell_type": "code",
   "execution_count": 38,
   "id": "26abc175",
   "metadata": {},
   "outputs": [
    {
     "data": {
      "text/html": [
       "<div>\n",
       "<style scoped>\n",
       "    .dataframe tbody tr th:only-of-type {\n",
       "        vertical-align: middle;\n",
       "    }\n",
       "\n",
       "    .dataframe tbody tr th {\n",
       "        vertical-align: top;\n",
       "    }\n",
       "\n",
       "    .dataframe thead th {\n",
       "        text-align: right;\n",
       "    }\n",
       "</style>\n",
       "<table border=\"1\" class=\"dataframe\">\n",
       "  <thead>\n",
       "    <tr style=\"text-align: right;\">\n",
       "      <th></th>\n",
       "      <th>title_name</th>\n",
       "      <th>title_id</th>\n",
       "      <th>days_from_theatrical</th>\n",
       "      <th>medal_number</th>\n",
       "      <th>log_cumulative_viewing_subs</th>\n",
       "      <th>pred</th>\n",
       "      <th>pred_antilog</th>\n",
       "      <th>cumulative_viewing_subs</th>\n",
       "      <th>pct_error</th>\n",
       "    </tr>\n",
       "  </thead>\n",
       "  <tbody>\n",
       "    <tr>\n",
       "      <th>0</th>\n",
       "      <td>The Secret Life of Walter Mitty</td>\n",
       "      <td>GYiDXlgDabmOwaQEAAAAE</td>\n",
       "      <td>3019</td>\n",
       "      <td>3</td>\n",
       "      <td>5.23</td>\n",
       "      <td>5.04</td>\n",
       "      <td>119,147.95</td>\n",
       "      <td>178,919.00</td>\n",
       "      <td>0.33</td>\n",
       "    </tr>\n",
       "    <tr>\n",
       "      <th>0</th>\n",
       "      <td>Rock of Ages</td>\n",
       "      <td>GX42i2wFVsqDDwwEAAAAF</td>\n",
       "      <td>3091</td>\n",
       "      <td>3</td>\n",
       "      <td>5.19</td>\n",
       "      <td>5.03</td>\n",
       "      <td>117,273.40</td>\n",
       "      <td>162,465.00</td>\n",
       "      <td>0.28</td>\n",
       "    </tr>\n",
       "    <tr>\n",
       "      <th>0</th>\n",
       "      <td>The Rite</td>\n",
       "      <td>GYKa7VgOEd7TCwgEAAAAD</td>\n",
       "      <td>3899</td>\n",
       "      <td>3</td>\n",
       "      <td>5.23</td>\n",
       "      <td>4.90</td>\n",
       "      <td>89,005.92</td>\n",
       "      <td>179,073.00</td>\n",
       "      <td>0.50</td>\n",
       "    </tr>\n",
       "    <tr>\n",
       "      <th>0</th>\n",
       "      <td>The Time Traveler's Wife</td>\n",
       "      <td>GXrHxIweO4a2brQEAAAC7</td>\n",
       "      <td>3944</td>\n",
       "      <td>3</td>\n",
       "      <td>4.32</td>\n",
       "      <td>4.99</td>\n",
       "      <td>105,657.57</td>\n",
       "      <td>29,943.00</td>\n",
       "      <td>2.53</td>\n",
       "    </tr>\n",
       "    <tr>\n",
       "      <th>0</th>\n",
       "      <td>Domino</td>\n",
       "      <td>GYWgsZw8FNhmKiwEAAABn</td>\n",
       "      <td>6074</td>\n",
       "      <td>3</td>\n",
       "      <td>5.36</td>\n",
       "      <td>4.48</td>\n",
       "      <td>38,992.90</td>\n",
       "      <td>238,562.00</td>\n",
       "      <td>0.84</td>\n",
       "    </tr>\n",
       "    <tr>\n",
       "      <th>0</th>\n",
       "      <td>John Q</td>\n",
       "      <td>GXtZ0GAMvfMPCwgEAAABv</td>\n",
       "      <td>6711</td>\n",
       "      <td>3</td>\n",
       "      <td>4.63</td>\n",
       "      <td>4.48</td>\n",
       "      <td>39,525.63</td>\n",
       "      <td>51,836.00</td>\n",
       "      <td>0.24</td>\n",
       "    </tr>\n",
       "    <tr>\n",
       "      <th>0</th>\n",
       "      <td>Magnolia</td>\n",
       "      <td>GXrQWiQPZl77DwgEAAABw</td>\n",
       "      <td>7502</td>\n",
       "      <td>3</td>\n",
       "      <td>3.90</td>\n",
       "      <td>4.50</td>\n",
       "      <td>40,771.44</td>\n",
       "      <td>16,904.00</td>\n",
       "      <td>1.41</td>\n",
       "    </tr>\n",
       "    <tr>\n",
       "      <th>0</th>\n",
       "      <td>Willard</td>\n",
       "      <td>GXk2j4Arr-I7CZgEAACRd</td>\n",
       "      <td>18263</td>\n",
       "      <td>3</td>\n",
       "      <td>2.32</td>\n",
       "      <td>2.09</td>\n",
       "      <td>9,123.56</td>\n",
       "      <td>9,209.00</td>\n",
       "      <td>0.01</td>\n",
       "    </tr>\n",
       "  </tbody>\n",
       "</table>\n",
       "</div>"
      ],
      "text/plain": [
       "                        title_name               title_id  \\\n",
       "0  The Secret Life of Walter Mitty  GYiDXlgDabmOwaQEAAAAE   \n",
       "0                     Rock of Ages  GX42i2wFVsqDDwwEAAAAF   \n",
       "0                         The Rite  GYKa7VgOEd7TCwgEAAAAD   \n",
       "0         The Time Traveler's Wife  GXrHxIweO4a2brQEAAAC7   \n",
       "0                           Domino  GYWgsZw8FNhmKiwEAAABn   \n",
       "0                           John Q  GXtZ0GAMvfMPCwgEAAABv   \n",
       "0                         Magnolia  GXrQWiQPZl77DwgEAAABw   \n",
       "0                          Willard  GXk2j4Arr-I7CZgEAACRd   \n",
       "\n",
       "   days_from_theatrical  medal_number  log_cumulative_viewing_subs  pred  \\\n",
       "0                  3019             3                         5.23  5.04   \n",
       "0                  3091             3                         5.19  5.03   \n",
       "0                  3899             3                         5.23  4.90   \n",
       "0                  3944             3                         4.32  4.99   \n",
       "0                  6074             3                         5.36  4.48   \n",
       "0                  6711             3                         4.63  4.48   \n",
       "0                  7502             3                         3.90  4.50   \n",
       "0                 18263             3                         2.32  2.09   \n",
       "\n",
       "   pred_antilog  cumulative_viewing_subs  pct_error  \n",
       "0    119,147.95               178,919.00       0.33  \n",
       "0    117,273.40               162,465.00       0.28  \n",
       "0     89,005.92               179,073.00       0.50  \n",
       "0    105,657.57                29,943.00       2.53  \n",
       "0     38,992.90               238,562.00       0.84  \n",
       "0     39,525.63                51,836.00       0.24  \n",
       "0     40,771.44                16,904.00       1.41  \n",
       "0      9,123.56                 9,209.00       0.01  "
      ]
     },
     "execution_count": 38,
     "metadata": {},
     "output_type": "execute_result"
    }
   ],
   "source": [
    "validation_set[validation_set['days_from_theatrical']>3000]\\\n",
    "                [META_COLS+FEATURE_COLS+TARGET_COL+['pred', 'pred_antilog','cumulative_viewing_subs','pct_error']].\\\n",
    "                sort_values(by = ['days_from_theatrical'])\n"
   ]
  },
  {
   "cell_type": "code",
   "execution_count": 39,
   "id": "72413911",
   "metadata": {},
   "outputs": [
    {
     "data": {
      "text/plain": [
       "observed_medal\n",
       "Bronze   1.41\n",
       "Gold     0.77\n",
       "Silver   0.34\n",
       "Name: pct_error, dtype: float64"
      ]
     },
     "execution_count": 39,
     "metadata": {},
     "output_type": "execute_result"
    }
   ],
   "source": [
    "validation_set.groupby(['observed_medal']).pct_error.mean()"
   ]
  },
  {
   "cell_type": "code",
   "execution_count": 40,
   "id": "820fc6ac",
   "metadata": {},
   "outputs": [],
   "source": [
    "# validation_set[validation_set['observed_medal'] == 'Platinum']"
   ]
  },
  {
   "cell_type": "markdown",
   "id": "5476c5aa",
   "metadata": {},
   "source": [
    "### 1.13 Bayesian Regression Scoring"
   ]
  },
  {
   "cell_type": "markdown",
   "id": "b60c8721",
   "metadata": {},
   "source": [
    "##### 1.131 Scoring 1 - Title Level"
   ]
  },
  {
   "cell_type": "code",
   "execution_count": 177,
   "id": "b115d85d",
   "metadata": {},
   "outputs": [],
   "source": [
    "X = training_data[FEATURE_COLS]\n",
    "y = training_data[TARGET_COL]\n",
    "gam = LinearGAM(n_splines=6).fit(X, y)"
   ]
  },
  {
   "cell_type": "code",
   "execution_count": 178,
   "id": "7ccd6e62",
   "metadata": {},
   "outputs": [],
   "source": [
    "pred_day = [*range(0, 200, 15)]\n",
    "df = pd.DataFrame(pred_day, columns =['days_from_theatrical'])"
   ]
  },
  {
   "cell_type": "code",
   "execution_count": 179,
   "id": "950c6491",
   "metadata": {},
   "outputs": [],
   "source": [
    "scoring_data = training_data[META_COLS+FEATURE_COLS].copy()\n",
    "scoring_data.drop(['days_from_theatrical'], axis = 1, inplace = True)"
   ]
  },
  {
   "cell_type": "code",
   "execution_count": 180,
   "id": "84f1cdd8",
   "metadata": {},
   "outputs": [],
   "source": [
    "def cartesian_product_basic(left, right):\n",
    "    return (\n",
    "       left.assign(key=1).merge(right.assign(key=1), on='key').drop('key', 1))"
   ]
  },
  {
   "cell_type": "code",
   "execution_count": 181,
   "id": "78467dc8",
   "metadata": {},
   "outputs": [],
   "source": [
    "scoring_data=cartesian_product_basic(scoring_data, df)"
   ]
  },
  {
   "cell_type": "code",
   "execution_count": 182,
   "id": "7e62dc59",
   "metadata": {},
   "outputs": [],
   "source": [
    "pred = gam.predict(scoring_data[FEATURE_COLS])\n",
    "pred = pd.DataFrame(pred)\n",
    "pred.columns = ['pred']\n",
    "scoring_data = pd.concat([scoring_data, pred], axis = 1)"
   ]
  },
  {
   "cell_type": "code",
   "execution_count": 183,
   "id": "ba964f75",
   "metadata": {},
   "outputs": [],
   "source": [
    "scoring_data['pred'] = 10**(scoring_data['pred'])+9000"
   ]
  },
  {
   "cell_type": "code",
   "execution_count": 184,
   "id": "a5dc9e2f",
   "metadata": {},
   "outputs": [],
   "source": [
    "scoring_data['kpi'] = 'viewing_subs'"
   ]
  },
  {
   "cell_type": "code",
   "execution_count": 185,
   "id": "daa12794",
   "metadata": {},
   "outputs": [],
   "source": [
    "scoring_data_45 = scoring_data[scoring_data['days_from_theatrical'] == 45][['title_id', 'medal_number', 'pred']]\n",
    "scoring_data = scoring_data.merge(scoring_data_45.rename(columns = {'pred':'pred_45'}), \n",
    "                                  on = ['title_id', 'medal_number'])\n",
    "scoring_data['multiplier'] = scoring_data['pred']/scoring_data['pred_45']"
   ]
  },
  {
   "cell_type": "code",
   "execution_count": 186,
   "id": "162d9a4c",
   "metadata": {},
   "outputs": [
    {
     "data": {
      "text/html": [
       "<div>\n",
       "<style scoped>\n",
       "    .dataframe tbody tr th:only-of-type {\n",
       "        vertical-align: middle;\n",
       "    }\n",
       "\n",
       "    .dataframe tbody tr th {\n",
       "        vertical-align: top;\n",
       "    }\n",
       "\n",
       "    .dataframe thead th {\n",
       "        text-align: right;\n",
       "    }\n",
       "</style>\n",
       "<table border=\"1\" class=\"dataframe\">\n",
       "  <thead>\n",
       "    <tr style=\"text-align: right;\">\n",
       "      <th></th>\n",
       "      <th>title_name</th>\n",
       "      <th>title_id</th>\n",
       "      <th>observed_medal</th>\n",
       "      <th>medal_number</th>\n",
       "      <th>days_from_theatrical</th>\n",
       "      <th>pred</th>\n",
       "      <th>kpi</th>\n",
       "      <th>pred_45</th>\n",
       "      <th>multiplier</th>\n",
       "    </tr>\n",
       "  </thead>\n",
       "  <tbody>\n",
       "    <tr>\n",
       "      <th>331</th>\n",
       "      <td>Domino</td>\n",
       "      <td>GYWgsZw8FNhmKiwEAAABn</td>\n",
       "      <td>Bronze</td>\n",
       "      <td>3</td>\n",
       "      <td>135</td>\n",
       "      <td>12,339.54</td>\n",
       "      <td>viewing_subs</td>\n",
       "      <td>12,431.73</td>\n",
       "      <td>0.99</td>\n",
       "    </tr>\n",
       "    <tr>\n",
       "      <th>332</th>\n",
       "      <td>Domino</td>\n",
       "      <td>GYWgsZw8FNhmKiwEAAABn</td>\n",
       "      <td>Bronze</td>\n",
       "      <td>3</td>\n",
       "      <td>150</td>\n",
       "      <td>12,324.42</td>\n",
       "      <td>viewing_subs</td>\n",
       "      <td>12,431.73</td>\n",
       "      <td>0.99</td>\n",
       "    </tr>\n",
       "    <tr>\n",
       "      <th>333</th>\n",
       "      <td>Domino</td>\n",
       "      <td>GYWgsZw8FNhmKiwEAAABn</td>\n",
       "      <td>Bronze</td>\n",
       "      <td>3</td>\n",
       "      <td>165</td>\n",
       "      <td>12,309.37</td>\n",
       "      <td>viewing_subs</td>\n",
       "      <td>12,431.73</td>\n",
       "      <td>0.99</td>\n",
       "    </tr>\n",
       "    <tr>\n",
       "      <th>334</th>\n",
       "      <td>Domino</td>\n",
       "      <td>GYWgsZw8FNhmKiwEAAABn</td>\n",
       "      <td>Bronze</td>\n",
       "      <td>3</td>\n",
       "      <td>180</td>\n",
       "      <td>12,294.38</td>\n",
       "      <td>viewing_subs</td>\n",
       "      <td>12,431.73</td>\n",
       "      <td>0.99</td>\n",
       "    </tr>\n",
       "    <tr>\n",
       "      <th>335</th>\n",
       "      <td>Domino</td>\n",
       "      <td>GYWgsZw8FNhmKiwEAAABn</td>\n",
       "      <td>Bronze</td>\n",
       "      <td>3</td>\n",
       "      <td>195</td>\n",
       "      <td>12,279.47</td>\n",
       "      <td>viewing_subs</td>\n",
       "      <td>12,431.73</td>\n",
       "      <td>0.99</td>\n",
       "    </tr>\n",
       "  </tbody>\n",
       "</table>\n",
       "</div>"
      ],
      "text/plain": [
       "    title_name               title_id observed_medal  medal_number  \\\n",
       "331     Domino  GYWgsZw8FNhmKiwEAAABn         Bronze             3   \n",
       "332     Domino  GYWgsZw8FNhmKiwEAAABn         Bronze             3   \n",
       "333     Domino  GYWgsZw8FNhmKiwEAAABn         Bronze             3   \n",
       "334     Domino  GYWgsZw8FNhmKiwEAAABn         Bronze             3   \n",
       "335     Domino  GYWgsZw8FNhmKiwEAAABn         Bronze             3   \n",
       "\n",
       "     days_from_theatrical      pred           kpi   pred_45  multiplier  \n",
       "331                   135 12,339.54  viewing_subs 12,431.73        0.99  \n",
       "332                   150 12,324.42  viewing_subs 12,431.73        0.99  \n",
       "333                   165 12,309.37  viewing_subs 12,431.73        0.99  \n",
       "334                   180 12,294.38  viewing_subs 12,431.73        0.99  \n",
       "335                   195 12,279.47  viewing_subs 12,431.73        0.99  "
      ]
     },
     "execution_count": 186,
     "metadata": {},
     "output_type": "execute_result"
    }
   ],
   "source": [
    "scoring_data.tail()"
   ]
  },
  {
   "cell_type": "code",
   "execution_count": 191,
   "id": "036682df",
   "metadata": {},
   "outputs": [],
   "source": [
    "OUTPUT_COLS = ['title_id', 'title_name', 'observed_medal', 'medal_number', 'days_from_theatrical', 'kpi', 'pred', 'multiplier']"
   ]
  },
  {
   "cell_type": "code",
   "execution_count": 192,
   "id": "b9695be2",
   "metadata": {},
   "outputs": [
    {
     "name": "stderr",
     "output_type": "stream",
     "text": [
      "/home/ec2-user/anaconda3/envs/python3/lib/python3.6/site-packages/boto3/compat.py:88: PythonDeprecationWarning:\n",
      "\n",
      "Boto3 will no longer support Python 3.6 starting May 30, 2022. To continue receiving service updates, bug fixes, and security updates please upgrade to Python 3.7 or later. More information can be found here: https://aws.amazon.com/blogs/developer/python-support-policy-updates-for-aws-sdks-and-tools/\n",
      "\n"
     ]
    }
   ],
   "source": [
    "write_to_sf(scoring_data[OUTPUT_COLS], 'low_budget_title_level_subs')"
   ]
  },
  {
   "cell_type": "code",
   "execution_count": 169,
   "id": "cfe30294",
   "metadata": {},
   "outputs": [],
   "source": [
    "import plotly.express as px"
   ]
  },
  {
   "cell_type": "code",
   "execution_count": 188,
   "id": "85b858f8",
   "metadata": {},
   "outputs": [
    {
     "data": {
      "application/vnd.plotly.v1+json": {
       "config": {
        "plotlyServerURL": "https://plot.ly"
       },
       "data": [
        {
         "hovertemplate": "title_name=A Christmas Mystery<br>days_from_theatrical=%{x}<br>multiplier=%{y}<extra></extra>",
         "legendgroup": "A Christmas Mystery",
         "line": {
          "color": "#636efa",
          "dash": "solid"
         },
         "marker": {
          "symbol": "circle"
         },
         "mode": "lines",
         "name": "A Christmas Mystery",
         "orientation": "v",
         "showlegend": true,
         "type": "scatter",
         "x": [
          0,
          15,
          30,
          45,
          60,
          75,
          90,
          105,
          120,
          135,
          150,
          165,
          180,
          195
         ],
         "xaxis": "x",
         "y": [
          1.0037848165130994,
          1.0025174380864914,
          1.0012558417677568,
          1,
          0.9987498853671662,
          0.9975054705932663,
          0.9962667285416039,
          0.9950336322140066,
          0.9938061547500638,
          0.9925842694263686,
          0.9913679496557601,
          0.9901571689865791,
          0.9889519011019194,
          0.987752119818886
         ],
         "yaxis": "y"
        },
        {
         "hovertemplate": "title_name=The Kitchen<br>days_from_theatrical=%{x}<br>multiplier=%{y}<extra></extra>",
         "legendgroup": "The Kitchen",
         "line": {
          "color": "#EF553B",
          "dash": "solid"
         },
         "marker": {
          "symbol": "circle"
         },
         "mode": "lines",
         "name": "The Kitchen",
         "orientation": "v",
         "showlegend": true,
         "type": "scatter",
         "x": [
          0,
          15,
          30,
          45,
          60,
          75,
          90,
          105,
          120,
          135,
          150,
          165,
          180,
          195
         ],
         "xaxis": "x",
         "y": [
          1.0037848165130994,
          1.0025174380864914,
          1.0012558417677568,
          1,
          0.9987498853671662,
          0.9975054705932663,
          0.9962667285416039,
          0.9950336322140066,
          0.9938061547500638,
          0.9925842694263686,
          0.9913679496557601,
          0.9901571689865791,
          0.9889519011019194,
          0.987752119818886
         ],
         "yaxis": "y"
        },
        {
         "hovertemplate": "title_name=The Good Liar<br>days_from_theatrical=%{x}<br>multiplier=%{y}<extra></extra>",
         "legendgroup": "The Good Liar",
         "line": {
          "color": "#00cc96",
          "dash": "solid"
         },
         "marker": {
          "symbol": "circle"
         },
         "mode": "lines",
         "name": "The Good Liar",
         "orientation": "v",
         "showlegend": true,
         "type": "scatter",
         "x": [
          0,
          15,
          30,
          45,
          60,
          75,
          90,
          105,
          120,
          135,
          150,
          165,
          180,
          195
         ],
         "xaxis": "x",
         "y": [
          1.0037848165130994,
          1.0025174380864914,
          1.0012558417677568,
          1,
          0.9987498853671662,
          0.9975054705932663,
          0.9962667285416039,
          0.9950336322140066,
          0.9938061547500638,
          0.9925842694263686,
          0.9913679496557601,
          0.9901571689865791,
          0.9889519011019194,
          0.987752119818886
         ],
         "yaxis": "y"
        },
        {
         "hovertemplate": "title_name=Moonshot<br>days_from_theatrical=%{x}<br>multiplier=%{y}<extra></extra>",
         "legendgroup": "Moonshot",
         "line": {
          "color": "#ab63fa",
          "dash": "solid"
         },
         "marker": {
          "symbol": "circle"
         },
         "mode": "lines",
         "name": "Moonshot",
         "orientation": "v",
         "showlegend": true,
         "type": "scatter",
         "x": [
          0,
          15,
          30,
          45,
          60,
          75,
          90,
          105,
          120,
          135,
          150,
          165,
          180,
          195
         ],
         "xaxis": "x",
         "y": [
          1.0073935041348019,
          1.0049177255587332,
          1.00245324212427,
          1,
          0.9975579456296371,
          0.9951270257305108,
          0.992707187292049,
          0.9902983775742873,
          0.9879005441063692,
          0.9855136346850732,
          0.9831375973733272,
          0.9807723804987588,
          0.9784179326522291,
          0.9760742026863868
         ],
         "yaxis": "y"
        },
        {
         "hovertemplate": "title_name=Lights Out<br>days_from_theatrical=%{x}<br>multiplier=%{y}<extra></extra>",
         "legendgroup": "Lights Out",
         "line": {
          "color": "#FFA15A",
          "dash": "solid"
         },
         "marker": {
          "symbol": "circle"
         },
         "mode": "lines",
         "name": "Lights Out",
         "orientation": "v",
         "showlegend": true,
         "type": "scatter",
         "x": [
          0,
          15,
          30,
          45,
          60,
          75,
          90,
          105,
          120,
          135,
          150,
          165,
          180,
          195
         ],
         "xaxis": "x",
         "y": [
          1.0037848165130994,
          1.0025174380864914,
          1.0012558417677568,
          1,
          0.9987498853671662,
          0.9975054705932663,
          0.9962667285416039,
          0.9950336322140066,
          0.9938061547500638,
          0.9925842694263686,
          0.9913679496557601,
          0.9901571689865791,
          0.9889519011019194,
          0.987752119818886
         ],
         "yaxis": "y"
        },
        {
         "hovertemplate": "title_name=The Rite<br>days_from_theatrical=%{x}<br>multiplier=%{y}<extra></extra>",
         "legendgroup": "The Rite",
         "line": {
          "color": "#19d3f3",
          "dash": "solid"
         },
         "marker": {
          "symbol": "circle"
         },
         "mode": "lines",
         "name": "The Rite",
         "orientation": "v",
         "showlegend": true,
         "type": "scatter",
         "x": [
          0,
          15,
          30,
          45,
          60,
          75,
          90,
          105,
          120,
          135,
          150,
          165,
          180,
          195
         ],
         "xaxis": "x",
         "y": [
          1.0037848165130994,
          1.0025174380864914,
          1.0012558417677568,
          1,
          0.9987498853671662,
          0.9975054705932663,
          0.9962667285416039,
          0.9950336322140066,
          0.9938061547500638,
          0.9925842694263686,
          0.9913679496557601,
          0.9901571689865791,
          0.9889519011019194,
          0.987752119818886
         ],
         "yaxis": "y"
        },
        {
         "hovertemplate": "title_name=Willard<br>days_from_theatrical=%{x}<br>multiplier=%{y}<extra></extra>",
         "legendgroup": "Willard",
         "line": {
          "color": "#FF6692",
          "dash": "solid"
         },
         "marker": {
          "symbol": "circle"
         },
         "mode": "lines",
         "name": "Willard",
         "orientation": "v",
         "showlegend": true,
         "type": "scatter",
         "x": [
          0,
          15,
          30,
          45,
          60,
          75,
          90,
          105,
          120,
          135,
          150,
          165,
          180,
          195
         ],
         "xaxis": "x",
         "y": [
          1.0037848165130994,
          1.0025174380864914,
          1.0012558417677568,
          1,
          0.9987498853671662,
          0.9975054705932663,
          0.9962667285416039,
          0.9950336322140066,
          0.9938061547500638,
          0.9925842694263686,
          0.9913679496557601,
          0.9901571689865791,
          0.9889519011019194,
          0.987752119818886
         ],
         "yaxis": "y"
        },
        {
         "hovertemplate": "title_name=Holiday Harmony<br>days_from_theatrical=%{x}<br>multiplier=%{y}<extra></extra>",
         "legendgroup": "Holiday Harmony",
         "line": {
          "color": "#B6E880",
          "dash": "solid"
         },
         "marker": {
          "symbol": "circle"
         },
         "mode": "lines",
         "name": "Holiday Harmony",
         "orientation": "v",
         "showlegend": true,
         "type": "scatter",
         "x": [
          0,
          15,
          30,
          45,
          60,
          75,
          90,
          105,
          120,
          135,
          150,
          165,
          180,
          195
         ],
         "xaxis": "x",
         "y": [
          1.0037848165130994,
          1.0025174380864914,
          1.0012558417677568,
          1,
          0.9987498853671662,
          0.9975054705932663,
          0.9962667285416039,
          0.9950336322140066,
          0.9938061547500638,
          0.9925842694263686,
          0.9913679496557601,
          0.9901571689865791,
          0.9889519011019194,
          0.987752119818886
         ],
         "yaxis": "y"
        },
        {
         "hovertemplate": "title_name=A Hollywood Christmas<br>days_from_theatrical=%{x}<br>multiplier=%{y}<extra></extra>",
         "legendgroup": "A Hollywood Christmas",
         "line": {
          "color": "#FF97FF",
          "dash": "solid"
         },
         "marker": {
          "symbol": "circle"
         },
         "mode": "lines",
         "name": "A Hollywood Christmas",
         "orientation": "v",
         "showlegend": true,
         "type": "scatter",
         "x": [
          0,
          15,
          30,
          45,
          60,
          75,
          90,
          105,
          120,
          135,
          150,
          165,
          180,
          195
         ],
         "xaxis": "x",
         "y": [
          1.0037848165130994,
          1.0025174380864914,
          1.0012558417677568,
          1,
          0.9987498853671662,
          0.9975054705932663,
          0.9962667285416039,
          0.9950336322140066,
          0.9938061547500638,
          0.9925842694263686,
          0.9913679496557601,
          0.9901571689865791,
          0.9889519011019194,
          0.987752119818886
         ],
         "yaxis": "y"
        },
        {
         "hovertemplate": "title_name=How to Be Single<br>days_from_theatrical=%{x}<br>multiplier=%{y}<extra></extra>",
         "legendgroup": "How to Be Single",
         "line": {
          "color": "#FECB52",
          "dash": "solid"
         },
         "marker": {
          "symbol": "circle"
         },
         "mode": "lines",
         "name": "How to Be Single",
         "orientation": "v",
         "showlegend": true,
         "type": "scatter",
         "x": [
          0,
          15,
          30,
          45,
          60,
          75,
          90,
          105,
          120,
          135,
          150,
          165,
          180,
          195
         ],
         "xaxis": "x",
         "y": [
          1.0037848165130994,
          1.0025174380864914,
          1.0012558417677568,
          1,
          0.9987498853671662,
          0.9975054705932663,
          0.9962667285416039,
          0.9950336322140066,
          0.9938061547500638,
          0.9925842694263686,
          0.9913679496557601,
          0.9901571689865791,
          0.9889519011019194,
          0.987752119818886
         ],
         "yaxis": "y"
        },
        {
         "hovertemplate": "title_name=The Fallout<br>days_from_theatrical=%{x}<br>multiplier=%{y}<extra></extra>",
         "legendgroup": "The Fallout",
         "line": {
          "color": "#636efa",
          "dash": "solid"
         },
         "marker": {
          "symbol": "circle"
         },
         "mode": "lines",
         "name": "The Fallout",
         "orientation": "v",
         "showlegend": true,
         "type": "scatter",
         "x": [
          0,
          15,
          30,
          45,
          60,
          75,
          90,
          105,
          120,
          135,
          150,
          165,
          180,
          195
         ],
         "xaxis": "x",
         "y": [
          1.0115735725193193,
          1.0076980620212546,
          1.003840232603515,
          1,
          0.9961772803752855,
          0.9923719903222555,
          0.9885840468597308,
          0.984813367430131,
          0.9810598698971316,
          0.9773234725433526,
          0.9736040940680423,
          0.9699016535847979,
          0.9662160706192728,
          0.9625472651069182
         ],
         "yaxis": "y"
        },
        {
         "hovertemplate": "title_name=Magnolia<br>days_from_theatrical=%{x}<br>multiplier=%{y}<extra></extra>",
         "legendgroup": "Magnolia",
         "line": {
          "color": "#EF553B",
          "dash": "solid"
         },
         "marker": {
          "symbol": "circle"
         },
         "mode": "lines",
         "name": "Magnolia",
         "orientation": "v",
         "showlegend": true,
         "type": "scatter",
         "x": [
          0,
          15,
          30,
          45,
          60,
          75,
          90,
          105,
          120,
          135,
          150,
          165,
          180,
          195
         ],
         "xaxis": "x",
         "y": [
          1.0037848165130994,
          1.0025174380864914,
          1.0012558417677568,
          1,
          0.9987498853671662,
          0.9975054705932663,
          0.9962667285416039,
          0.9950336322140066,
          0.9938061547500638,
          0.9925842694263686,
          0.9913679496557601,
          0.9901571689865791,
          0.9889519011019194,
          0.987752119818886
         ],
         "yaxis": "y"
        },
        {
         "hovertemplate": "title_name=The Time Traveler's Wife<br>days_from_theatrical=%{x}<br>multiplier=%{y}<extra></extra>",
         "legendgroup": "The Time Traveler's Wife",
         "line": {
          "color": "#00cc96",
          "dash": "solid"
         },
         "marker": {
          "symbol": "circle"
         },
         "mode": "lines",
         "name": "The Time Traveler's Wife",
         "orientation": "v",
         "showlegend": true,
         "type": "scatter",
         "x": [
          0,
          15,
          30,
          45,
          60,
          75,
          90,
          105,
          120,
          135,
          150,
          165,
          180,
          195
         ],
         "xaxis": "x",
         "y": [
          1.0037848165130994,
          1.0025174380864914,
          1.0012558417677568,
          1,
          0.9987498853671662,
          0.9975054705932663,
          0.9962667285416039,
          0.9950336322140066,
          0.9938061547500638,
          0.9925842694263686,
          0.9913679496557601,
          0.9901571689865791,
          0.9889519011019194,
          0.987752119818886
         ],
         "yaxis": "y"
        },
        {
         "hovertemplate": "title_name=Rock of Ages<br>days_from_theatrical=%{x}<br>multiplier=%{y}<extra></extra>",
         "legendgroup": "Rock of Ages",
         "line": {
          "color": "#ab63fa",
          "dash": "solid"
         },
         "marker": {
          "symbol": "circle"
         },
         "mode": "lines",
         "name": "Rock of Ages",
         "orientation": "v",
         "showlegend": true,
         "type": "scatter",
         "x": [
          0,
          15,
          30,
          45,
          60,
          75,
          90,
          105,
          120,
          135,
          150,
          165,
          180,
          195
         ],
         "xaxis": "x",
         "y": [
          1.0037848165130994,
          1.0025174380864914,
          1.0012558417677568,
          1,
          0.9987498853671662,
          0.9975054705932663,
          0.9962667285416039,
          0.9950336322140066,
          0.9938061547500638,
          0.9925842694263686,
          0.9913679496557601,
          0.9901571689865791,
          0.9889519011019194,
          0.987752119818886
         ],
         "yaxis": "y"
        },
        {
         "hovertemplate": "title_name=Scoob!<br>days_from_theatrical=%{x}<br>multiplier=%{y}<extra></extra>",
         "legendgroup": "Scoob!",
         "line": {
          "color": "#FFA15A",
          "dash": "solid"
         },
         "marker": {
          "symbol": "circle"
         },
         "mode": "lines",
         "name": "Scoob!",
         "orientation": "v",
         "showlegend": true,
         "type": "scatter",
         "x": [
          0,
          15,
          30,
          45,
          60,
          75,
          90,
          105,
          120,
          135,
          150,
          165,
          180,
          195
         ],
         "xaxis": "x",
         "y": [
          1.0115735725193193,
          1.0076980620212546,
          1.003840232603515,
          1,
          0.9961772803752855,
          0.9923719903222555,
          0.9885840468597308,
          0.984813367430131,
          0.9810598698971316,
          0.9773234725433526,
          0.9736040940680423,
          0.9699016535847979,
          0.9662160706192728,
          0.9625472651069182
         ],
         "yaxis": "y"
        },
        {
         "hovertemplate": "title_name=Eraser: Reborn<br>days_from_theatrical=%{x}<br>multiplier=%{y}<extra></extra>",
         "legendgroup": "Eraser: Reborn",
         "line": {
          "color": "#19d3f3",
          "dash": "solid"
         },
         "marker": {
          "symbol": "circle"
         },
         "mode": "lines",
         "name": "Eraser: Reborn",
         "orientation": "v",
         "showlegend": true,
         "type": "scatter",
         "x": [
          0,
          15,
          30,
          45,
          60,
          75,
          90,
          105,
          120,
          135,
          150,
          165,
          180,
          195
         ],
         "xaxis": "x",
         "y": [
          1.0073935041348019,
          1.0049177255587332,
          1.00245324212427,
          1,
          0.9975579456296371,
          0.9951270257305108,
          0.992707187292049,
          0.9902983775742873,
          0.9879005441063692,
          0.9855136346850732,
          0.9831375973733272,
          0.9807723804987588,
          0.9784179326522291,
          0.9760742026863868
         ],
         "yaxis": "y"
        },
        {
         "hovertemplate": "title_name=The Secret Life of Walter Mitty<br>days_from_theatrical=%{x}<br>multiplier=%{y}<extra></extra>",
         "legendgroup": "The Secret Life of Walter Mitty",
         "line": {
          "color": "#FF6692",
          "dash": "solid"
         },
         "marker": {
          "symbol": "circle"
         },
         "mode": "lines",
         "name": "The Secret Life of Walter Mitty",
         "orientation": "v",
         "showlegend": true,
         "type": "scatter",
         "x": [
          0,
          15,
          30,
          45,
          60,
          75,
          90,
          105,
          120,
          135,
          150,
          165,
          180,
          195
         ],
         "xaxis": "x",
         "y": [
          1.0037848165130994,
          1.0025174380864914,
          1.0012558417677568,
          1,
          0.9987498853671662,
          0.9975054705932663,
          0.9962667285416039,
          0.9950336322140066,
          0.9938061547500638,
          0.9925842694263686,
          0.9913679496557601,
          0.9901571689865791,
          0.9889519011019194,
          0.987752119818886
         ],
         "yaxis": "y"
        },
        {
         "hovertemplate": "title_name=John Q<br>days_from_theatrical=%{x}<br>multiplier=%{y}<extra></extra>",
         "legendgroup": "John Q",
         "line": {
          "color": "#B6E880",
          "dash": "solid"
         },
         "marker": {
          "symbol": "circle"
         },
         "mode": "lines",
         "name": "John Q",
         "orientation": "v",
         "showlegend": true,
         "type": "scatter",
         "x": [
          0,
          15,
          30,
          45,
          60,
          75,
          90,
          105,
          120,
          135,
          150,
          165,
          180,
          195
         ],
         "xaxis": "x",
         "y": [
          1.0037848165130994,
          1.0025174380864914,
          1.0012558417677568,
          1,
          0.9987498853671662,
          0.9975054705932663,
          0.9962667285416039,
          0.9950336322140066,
          0.9938061547500638,
          0.9925842694263686,
          0.9913679496557601,
          0.9901571689865791,
          0.9889519011019194,
          0.987752119818886
         ],
         "yaxis": "y"
        },
        {
         "hovertemplate": "title_name=House Party<br>days_from_theatrical=%{x}<br>multiplier=%{y}<extra></extra>",
         "legendgroup": "House Party",
         "line": {
          "color": "#FF97FF",
          "dash": "solid"
         },
         "marker": {
          "symbol": "circle"
         },
         "mode": "lines",
         "name": "House Party",
         "orientation": "v",
         "showlegend": true,
         "type": "scatter",
         "x": [
          0,
          15,
          30,
          45,
          60,
          75,
          90,
          105,
          120,
          135,
          150,
          165,
          180,
          195
         ],
         "xaxis": "x",
         "y": [
          1.0037848165130994,
          1.0025174380864914,
          1.0012558417677568,
          1,
          0.9987498853671662,
          0.9975054705932663,
          0.9962667285416039,
          0.9950336322140066,
          0.9938061547500638,
          0.9925842694263686,
          0.9913679496557601,
          0.9901571689865791,
          0.9889519011019194,
          0.987752119818886
         ],
         "yaxis": "y"
        },
        {
         "hovertemplate": "title_name=Kimi<br>days_from_theatrical=%{x}<br>multiplier=%{y}<extra></extra>",
         "legendgroup": "Kimi",
         "line": {
          "color": "#FECB52",
          "dash": "solid"
         },
         "marker": {
          "symbol": "circle"
         },
         "mode": "lines",
         "name": "Kimi",
         "orientation": "v",
         "showlegend": true,
         "type": "scatter",
         "x": [
          0,
          15,
          30,
          45,
          60,
          75,
          90,
          105,
          120,
          135,
          150,
          165,
          180,
          195
         ],
         "xaxis": "x",
         "y": [
          1.0115735725193193,
          1.0076980620212546,
          1.003840232603515,
          1,
          0.9961772803752855,
          0.9923719903222555,
          0.9885840468597308,
          0.984813367430131,
          0.9810598698971316,
          0.9773234725433526,
          0.9736040940680423,
          0.9699016535847979,
          0.9662160706192728,
          0.9625472651069182
         ],
         "yaxis": "y"
        },
        {
         "hovertemplate": "title_name=Little Nicky<br>days_from_theatrical=%{x}<br>multiplier=%{y}<extra></extra>",
         "legendgroup": "Little Nicky",
         "line": {
          "color": "#636efa",
          "dash": "solid"
         },
         "marker": {
          "symbol": "circle"
         },
         "mode": "lines",
         "name": "Little Nicky",
         "orientation": "v",
         "showlegend": true,
         "type": "scatter",
         "x": [
          0,
          15,
          30,
          45,
          60,
          75,
          90,
          105,
          120,
          135,
          150,
          165,
          180,
          195
         ],
         "xaxis": "x",
         "y": [
          1.0037848165130994,
          1.0025174380864914,
          1.0012558417677568,
          1,
          0.9987498853671662,
          0.9975054705932663,
          0.9962667285416039,
          0.9950336322140066,
          0.9938061547500638,
          0.9925842694263686,
          0.9913679496557601,
          0.9901571689865791,
          0.9889519011019194,
          0.987752119818886
         ],
         "yaxis": "y"
        },
        {
         "hovertemplate": "title_name=Locked Down<br>days_from_theatrical=%{x}<br>multiplier=%{y}<extra></extra>",
         "legendgroup": "Locked Down",
         "line": {
          "color": "#EF553B",
          "dash": "solid"
         },
         "marker": {
          "symbol": "circle"
         },
         "mode": "lines",
         "name": "Locked Down",
         "orientation": "v",
         "showlegend": true,
         "type": "scatter",
         "x": [
          0,
          15,
          30,
          45,
          60,
          75,
          90,
          105,
          120,
          135,
          150,
          165,
          180,
          195
         ],
         "xaxis": "x",
         "y": [
          1.0115735725193193,
          1.0076980620212546,
          1.003840232603515,
          1,
          0.9961772803752855,
          0.9923719903222555,
          0.9885840468597308,
          0.984813367430131,
          0.9810598698971316,
          0.9773234725433526,
          0.9736040940680423,
          0.9699016535847979,
          0.9662160706192728,
          0.9625472651069182
         ],
         "yaxis": "y"
        },
        {
         "hovertemplate": "title_name=No Sudden Move<br>days_from_theatrical=%{x}<br>multiplier=%{y}<extra></extra>",
         "legendgroup": "No Sudden Move",
         "line": {
          "color": "#00cc96",
          "dash": "solid"
         },
         "marker": {
          "symbol": "circle"
         },
         "mode": "lines",
         "name": "No Sudden Move",
         "orientation": "v",
         "showlegend": true,
         "type": "scatter",
         "x": [
          0,
          15,
          30,
          45,
          60,
          75,
          90,
          105,
          120,
          135,
          150,
          165,
          180,
          195
         ],
         "xaxis": "x",
         "y": [
          1.0115735725193193,
          1.0076980620212546,
          1.003840232603515,
          1,
          0.9961772803752855,
          0.9923719903222555,
          0.9885840468597308,
          0.984813367430131,
          0.9810598698971316,
          0.9773234725433526,
          0.9736040940680423,
          0.9699016535847979,
          0.9662160706192728,
          0.9625472651069182
         ],
         "yaxis": "y"
        },
        {
         "hovertemplate": "title_name=Domino<br>days_from_theatrical=%{x}<br>multiplier=%{y}<extra></extra>",
         "legendgroup": "Domino",
         "line": {
          "color": "#ab63fa",
          "dash": "solid"
         },
         "marker": {
          "symbol": "circle"
         },
         "mode": "lines",
         "name": "Domino",
         "orientation": "v",
         "showlegend": true,
         "type": "scatter",
         "x": [
          0,
          15,
          30,
          45,
          60,
          75,
          90,
          105,
          120,
          135,
          150,
          165,
          180,
          195
         ],
         "xaxis": "x",
         "y": [
          1.0037848165130994,
          1.0025174380864914,
          1.0012558417677568,
          1,
          0.9987498853671662,
          0.9975054705932663,
          0.9962667285416039,
          0.9950336322140066,
          0.9938061547500638,
          0.9925842694263686,
          0.9913679496557601,
          0.9901571689865791,
          0.9889519011019194,
          0.987752119818886
         ],
         "yaxis": "y"
        }
       ],
       "layout": {
        "autosize": true,
        "legend": {
         "title": {
          "text": "title_name"
         },
         "tracegroupgap": 0
        },
        "template": {
         "data": {
          "bar": [
           {
            "error_x": {
             "color": "#2a3f5f"
            },
            "error_y": {
             "color": "#2a3f5f"
            },
            "marker": {
             "line": {
              "color": "#E5ECF6",
              "width": 0.5
             },
             "pattern": {
              "fillmode": "overlay",
              "size": 10,
              "solidity": 0.2
             }
            },
            "type": "bar"
           }
          ],
          "barpolar": [
           {
            "marker": {
             "line": {
              "color": "#E5ECF6",
              "width": 0.5
             },
             "pattern": {
              "fillmode": "overlay",
              "size": 10,
              "solidity": 0.2
             }
            },
            "type": "barpolar"
           }
          ],
          "carpet": [
           {
            "aaxis": {
             "endlinecolor": "#2a3f5f",
             "gridcolor": "white",
             "linecolor": "white",
             "minorgridcolor": "white",
             "startlinecolor": "#2a3f5f"
            },
            "baxis": {
             "endlinecolor": "#2a3f5f",
             "gridcolor": "white",
             "linecolor": "white",
             "minorgridcolor": "white",
             "startlinecolor": "#2a3f5f"
            },
            "type": "carpet"
           }
          ],
          "choropleth": [
           {
            "colorbar": {
             "outlinewidth": 0,
             "ticks": ""
            },
            "type": "choropleth"
           }
          ],
          "contour": [
           {
            "colorbar": {
             "outlinewidth": 0,
             "ticks": ""
            },
            "colorscale": [
             [
              0,
              "#0d0887"
             ],
             [
              0.1111111111111111,
              "#46039f"
             ],
             [
              0.2222222222222222,
              "#7201a8"
             ],
             [
              0.3333333333333333,
              "#9c179e"
             ],
             [
              0.4444444444444444,
              "#bd3786"
             ],
             [
              0.5555555555555556,
              "#d8576b"
             ],
             [
              0.6666666666666666,
              "#ed7953"
             ],
             [
              0.7777777777777778,
              "#fb9f3a"
             ],
             [
              0.8888888888888888,
              "#fdca26"
             ],
             [
              1,
              "#f0f921"
             ]
            ],
            "type": "contour"
           }
          ],
          "contourcarpet": [
           {
            "colorbar": {
             "outlinewidth": 0,
             "ticks": ""
            },
            "type": "contourcarpet"
           }
          ],
          "heatmap": [
           {
            "colorbar": {
             "outlinewidth": 0,
             "ticks": ""
            },
            "colorscale": [
             [
              0,
              "#0d0887"
             ],
             [
              0.1111111111111111,
              "#46039f"
             ],
             [
              0.2222222222222222,
              "#7201a8"
             ],
             [
              0.3333333333333333,
              "#9c179e"
             ],
             [
              0.4444444444444444,
              "#bd3786"
             ],
             [
              0.5555555555555556,
              "#d8576b"
             ],
             [
              0.6666666666666666,
              "#ed7953"
             ],
             [
              0.7777777777777778,
              "#fb9f3a"
             ],
             [
              0.8888888888888888,
              "#fdca26"
             ],
             [
              1,
              "#f0f921"
             ]
            ],
            "type": "heatmap"
           }
          ],
          "heatmapgl": [
           {
            "colorbar": {
             "outlinewidth": 0,
             "ticks": ""
            },
            "colorscale": [
             [
              0,
              "#0d0887"
             ],
             [
              0.1111111111111111,
              "#46039f"
             ],
             [
              0.2222222222222222,
              "#7201a8"
             ],
             [
              0.3333333333333333,
              "#9c179e"
             ],
             [
              0.4444444444444444,
              "#bd3786"
             ],
             [
              0.5555555555555556,
              "#d8576b"
             ],
             [
              0.6666666666666666,
              "#ed7953"
             ],
             [
              0.7777777777777778,
              "#fb9f3a"
             ],
             [
              0.8888888888888888,
              "#fdca26"
             ],
             [
              1,
              "#f0f921"
             ]
            ],
            "type": "heatmapgl"
           }
          ],
          "histogram": [
           {
            "marker": {
             "pattern": {
              "fillmode": "overlay",
              "size": 10,
              "solidity": 0.2
             }
            },
            "type": "histogram"
           }
          ],
          "histogram2d": [
           {
            "colorbar": {
             "outlinewidth": 0,
             "ticks": ""
            },
            "colorscale": [
             [
              0,
              "#0d0887"
             ],
             [
              0.1111111111111111,
              "#46039f"
             ],
             [
              0.2222222222222222,
              "#7201a8"
             ],
             [
              0.3333333333333333,
              "#9c179e"
             ],
             [
              0.4444444444444444,
              "#bd3786"
             ],
             [
              0.5555555555555556,
              "#d8576b"
             ],
             [
              0.6666666666666666,
              "#ed7953"
             ],
             [
              0.7777777777777778,
              "#fb9f3a"
             ],
             [
              0.8888888888888888,
              "#fdca26"
             ],
             [
              1,
              "#f0f921"
             ]
            ],
            "type": "histogram2d"
           }
          ],
          "histogram2dcontour": [
           {
            "colorbar": {
             "outlinewidth": 0,
             "ticks": ""
            },
            "colorscale": [
             [
              0,
              "#0d0887"
             ],
             [
              0.1111111111111111,
              "#46039f"
             ],
             [
              0.2222222222222222,
              "#7201a8"
             ],
             [
              0.3333333333333333,
              "#9c179e"
             ],
             [
              0.4444444444444444,
              "#bd3786"
             ],
             [
              0.5555555555555556,
              "#d8576b"
             ],
             [
              0.6666666666666666,
              "#ed7953"
             ],
             [
              0.7777777777777778,
              "#fb9f3a"
             ],
             [
              0.8888888888888888,
              "#fdca26"
             ],
             [
              1,
              "#f0f921"
             ]
            ],
            "type": "histogram2dcontour"
           }
          ],
          "mesh3d": [
           {
            "colorbar": {
             "outlinewidth": 0,
             "ticks": ""
            },
            "type": "mesh3d"
           }
          ],
          "parcoords": [
           {
            "line": {
             "colorbar": {
              "outlinewidth": 0,
              "ticks": ""
             }
            },
            "type": "parcoords"
           }
          ],
          "pie": [
           {
            "automargin": true,
            "type": "pie"
           }
          ],
          "scatter": [
           {
            "marker": {
             "colorbar": {
              "outlinewidth": 0,
              "ticks": ""
             }
            },
            "type": "scatter"
           }
          ],
          "scatter3d": [
           {
            "line": {
             "colorbar": {
              "outlinewidth": 0,
              "ticks": ""
             }
            },
            "marker": {
             "colorbar": {
              "outlinewidth": 0,
              "ticks": ""
             }
            },
            "type": "scatter3d"
           }
          ],
          "scattercarpet": [
           {
            "marker": {
             "colorbar": {
              "outlinewidth": 0,
              "ticks": ""
             }
            },
            "type": "scattercarpet"
           }
          ],
          "scattergeo": [
           {
            "marker": {
             "colorbar": {
              "outlinewidth": 0,
              "ticks": ""
             }
            },
            "type": "scattergeo"
           }
          ],
          "scattergl": [
           {
            "marker": {
             "colorbar": {
              "outlinewidth": 0,
              "ticks": ""
             }
            },
            "type": "scattergl"
           }
          ],
          "scattermapbox": [
           {
            "marker": {
             "colorbar": {
              "outlinewidth": 0,
              "ticks": ""
             }
            },
            "type": "scattermapbox"
           }
          ],
          "scatterpolar": [
           {
            "marker": {
             "colorbar": {
              "outlinewidth": 0,
              "ticks": ""
             }
            },
            "type": "scatterpolar"
           }
          ],
          "scatterpolargl": [
           {
            "marker": {
             "colorbar": {
              "outlinewidth": 0,
              "ticks": ""
             }
            },
            "type": "scatterpolargl"
           }
          ],
          "scatterternary": [
           {
            "marker": {
             "colorbar": {
              "outlinewidth": 0,
              "ticks": ""
             }
            },
            "type": "scatterternary"
           }
          ],
          "surface": [
           {
            "colorbar": {
             "outlinewidth": 0,
             "ticks": ""
            },
            "colorscale": [
             [
              0,
              "#0d0887"
             ],
             [
              0.1111111111111111,
              "#46039f"
             ],
             [
              0.2222222222222222,
              "#7201a8"
             ],
             [
              0.3333333333333333,
              "#9c179e"
             ],
             [
              0.4444444444444444,
              "#bd3786"
             ],
             [
              0.5555555555555556,
              "#d8576b"
             ],
             [
              0.6666666666666666,
              "#ed7953"
             ],
             [
              0.7777777777777778,
              "#fb9f3a"
             ],
             [
              0.8888888888888888,
              "#fdca26"
             ],
             [
              1,
              "#f0f921"
             ]
            ],
            "type": "surface"
           }
          ],
          "table": [
           {
            "cells": {
             "fill": {
              "color": "#EBF0F8"
             },
             "line": {
              "color": "white"
             }
            },
            "header": {
             "fill": {
              "color": "#C8D4E3"
             },
             "line": {
              "color": "white"
             }
            },
            "type": "table"
           }
          ]
         },
         "layout": {
          "annotationdefaults": {
           "arrowcolor": "#2a3f5f",
           "arrowhead": 0,
           "arrowwidth": 1
          },
          "autotypenumbers": "strict",
          "coloraxis": {
           "colorbar": {
            "outlinewidth": 0,
            "ticks": ""
           }
          },
          "colorscale": {
           "diverging": [
            [
             0,
             "#8e0152"
            ],
            [
             0.1,
             "#c51b7d"
            ],
            [
             0.2,
             "#de77ae"
            ],
            [
             0.3,
             "#f1b6da"
            ],
            [
             0.4,
             "#fde0ef"
            ],
            [
             0.5,
             "#f7f7f7"
            ],
            [
             0.6,
             "#e6f5d0"
            ],
            [
             0.7,
             "#b8e186"
            ],
            [
             0.8,
             "#7fbc41"
            ],
            [
             0.9,
             "#4d9221"
            ],
            [
             1,
             "#276419"
            ]
           ],
           "sequential": [
            [
             0,
             "#0d0887"
            ],
            [
             0.1111111111111111,
             "#46039f"
            ],
            [
             0.2222222222222222,
             "#7201a8"
            ],
            [
             0.3333333333333333,
             "#9c179e"
            ],
            [
             0.4444444444444444,
             "#bd3786"
            ],
            [
             0.5555555555555556,
             "#d8576b"
            ],
            [
             0.6666666666666666,
             "#ed7953"
            ],
            [
             0.7777777777777778,
             "#fb9f3a"
            ],
            [
             0.8888888888888888,
             "#fdca26"
            ],
            [
             1,
             "#f0f921"
            ]
           ],
           "sequentialminus": [
            [
             0,
             "#0d0887"
            ],
            [
             0.1111111111111111,
             "#46039f"
            ],
            [
             0.2222222222222222,
             "#7201a8"
            ],
            [
             0.3333333333333333,
             "#9c179e"
            ],
            [
             0.4444444444444444,
             "#bd3786"
            ],
            [
             0.5555555555555556,
             "#d8576b"
            ],
            [
             0.6666666666666666,
             "#ed7953"
            ],
            [
             0.7777777777777778,
             "#fb9f3a"
            ],
            [
             0.8888888888888888,
             "#fdca26"
            ],
            [
             1,
             "#f0f921"
            ]
           ]
          },
          "colorway": [
           "#636efa",
           "#EF553B",
           "#00cc96",
           "#ab63fa",
           "#FFA15A",
           "#19d3f3",
           "#FF6692",
           "#B6E880",
           "#FF97FF",
           "#FECB52"
          ],
          "font": {
           "color": "#2a3f5f"
          },
          "geo": {
           "bgcolor": "white",
           "lakecolor": "white",
           "landcolor": "#E5ECF6",
           "showlakes": true,
           "showland": true,
           "subunitcolor": "white"
          },
          "hoverlabel": {
           "align": "left"
          },
          "hovermode": "closest",
          "mapbox": {
           "style": "light"
          },
          "paper_bgcolor": "white",
          "plot_bgcolor": "#E5ECF6",
          "polar": {
           "angularaxis": {
            "gridcolor": "white",
            "linecolor": "white",
            "ticks": ""
           },
           "bgcolor": "#E5ECF6",
           "radialaxis": {
            "gridcolor": "white",
            "linecolor": "white",
            "ticks": ""
           }
          },
          "scene": {
           "xaxis": {
            "backgroundcolor": "#E5ECF6",
            "gridcolor": "white",
            "gridwidth": 2,
            "linecolor": "white",
            "showbackground": true,
            "ticks": "",
            "zerolinecolor": "white"
           },
           "yaxis": {
            "backgroundcolor": "#E5ECF6",
            "gridcolor": "white",
            "gridwidth": 2,
            "linecolor": "white",
            "showbackground": true,
            "ticks": "",
            "zerolinecolor": "white"
           },
           "zaxis": {
            "backgroundcolor": "#E5ECF6",
            "gridcolor": "white",
            "gridwidth": 2,
            "linecolor": "white",
            "showbackground": true,
            "ticks": "",
            "zerolinecolor": "white"
           }
          },
          "shapedefaults": {
           "line": {
            "color": "#2a3f5f"
           }
          },
          "ternary": {
           "aaxis": {
            "gridcolor": "white",
            "linecolor": "white",
            "ticks": ""
           },
           "baxis": {
            "gridcolor": "white",
            "linecolor": "white",
            "ticks": ""
           },
           "bgcolor": "#E5ECF6",
           "caxis": {
            "gridcolor": "white",
            "linecolor": "white",
            "ticks": ""
           }
          },
          "title": {
           "x": 0.05
          },
          "xaxis": {
           "automargin": true,
           "gridcolor": "white",
           "linecolor": "white",
           "ticks": "",
           "title": {
            "standoff": 15
           },
           "zerolinecolor": "white",
           "zerolinewidth": 2
          },
          "yaxis": {
           "automargin": true,
           "gridcolor": "white",
           "linecolor": "white",
           "ticks": "",
           "title": {
            "standoff": 15
           },
           "zerolinecolor": "white",
           "zerolinewidth": 2
          }
         }
        },
        "title": {
         "text": "Release day V.S. cumulative viewership"
        },
        "xaxis": {
         "anchor": "y",
         "autorange": true,
         "domain": [
          0,
          1
         ],
         "range": [
          0,
          195
         ],
         "title": {
          "text": "days_from_theatrical"
         },
         "type": "linear"
        },
        "yaxis": {
         "anchor": "x",
         "autorange": true,
         "domain": [
          0,
          1
         ],
         "range": [
          0.9598235813617848,
          1.0142972562644528
         ],
         "title": {
          "text": "multiplier"
         },
         "type": "linear"
        }
       }
      },
      "image/png": "[encoded data removed]",
      "text/html": [
       "<div>                            <div id=\"6f9b2e1d-4a2f-401e-a98f-358aa9061b84\" class=\"plotly-graph-div\" style=\"height:525px; width:100%;\"></div>            <script type=\"text/javascript\">                require([\"plotly\"], function(Plotly) {                    window.PLOTLYENV=window.PLOTLYENV || {};                                    if (document.getElementById(\"6f9b2e1d-4a2f-401e-a98f-358aa9061b84\")) {                    Plotly.newPlot(                        \"6f9b2e1d-4a2f-401e-a98f-358aa9061b84\",                        [{\"hovertemplate\":\"title_name=A Christmas Mystery<br>days_from_theatrical=%{x}<br>multiplier=%{y}<extra></extra>\",\"legendgroup\":\"A Christmas Mystery\",\"line\":{\"color\":\"#636efa\",\"dash\":\"solid\"},\"marker\":{\"symbol\":\"circle\"},\"mode\":\"lines\",\"name\":\"A Christmas Mystery\",\"orientation\":\"v\",\"showlegend\":true,\"x\":[0,15,30,45,60,75,90,105,120,135,150,165,180,195],\"xaxis\":\"x\",\"y\":[1.0037848165130994,1.0025174380864914,1.0012558417677568,1.0,0.9987498853671662,0.9975054705932663,0.9962667285416039,0.9950336322140066,0.9938061547500638,0.9925842694263686,0.9913679496557601,0.9901571689865791,0.9889519011019194,0.987752119818886],\"yaxis\":\"y\",\"type\":\"scatter\"},{\"hovertemplate\":\"title_name=The Kitchen<br>days_from_theatrical=%{x}<br>multiplier=%{y}<extra></extra>\",\"legendgroup\":\"The Kitchen\",\"line\":{\"color\":\"#EF553B\",\"dash\":\"solid\"},\"marker\":{\"symbol\":\"circle\"},\"mode\":\"lines\",\"name\":\"The Kitchen\",\"orientation\":\"v\",\"showlegend\":true,\"x\":[0,15,30,45,60,75,90,105,120,135,150,165,180,195],\"xaxis\":\"x\",\"y\":[1.0037848165130994,1.0025174380864914,1.0012558417677568,1.0,0.9987498853671662,0.9975054705932663,0.9962667285416039,0.9950336322140066,0.9938061547500638,0.9925842694263686,0.9913679496557601,0.9901571689865791,0.9889519011019194,0.987752119818886],\"yaxis\":\"y\",\"type\":\"scatter\"},{\"hovertemplate\":\"title_name=The Good Liar<br>days_from_theatrical=%{x}<br>multiplier=%{y}<extra></extra>\",\"legendgroup\":\"The Good Liar\",\"line\":{\"color\":\"#00cc96\",\"dash\":\"solid\"},\"marker\":{\"symbol\":\"circle\"},\"mode\":\"lines\",\"name\":\"The Good Liar\",\"orientation\":\"v\",\"showlegend\":true,\"x\":[0,15,30,45,60,75,90,105,120,135,150,165,180,195],\"xaxis\":\"x\",\"y\":[1.0037848165130994,1.0025174380864914,1.0012558417677568,1.0,0.9987498853671662,0.9975054705932663,0.9962667285416039,0.9950336322140066,0.9938061547500638,0.9925842694263686,0.9913679496557601,0.9901571689865791,0.9889519011019194,0.987752119818886],\"yaxis\":\"y\",\"type\":\"scatter\"},{\"hovertemplate\":\"title_name=Moonshot<br>days_from_theatrical=%{x}<br>multiplier=%{y}<extra></extra>\",\"legendgroup\":\"Moonshot\",\"line\":{\"color\":\"#ab63fa\",\"dash\":\"solid\"},\"marker\":{\"symbol\":\"circle\"},\"mode\":\"lines\",\"name\":\"Moonshot\",\"orientation\":\"v\",\"showlegend\":true,\"x\":[0,15,30,45,60,75,90,105,120,135,150,165,180,195],\"xaxis\":\"x\",\"y\":[1.0073935041348019,1.0049177255587332,1.00245324212427,1.0,0.9975579456296371,0.9951270257305108,0.992707187292049,0.9902983775742873,0.9879005441063692,0.9855136346850732,0.9831375973733272,0.9807723804987588,0.9784179326522291,0.9760742026863868],\"yaxis\":\"y\",\"type\":\"scatter\"},{\"hovertemplate\":\"title_name=Lights Out<br>days_from_theatrical=%{x}<br>multiplier=%{y}<extra></extra>\",\"legendgroup\":\"Lights Out\",\"line\":{\"color\":\"#FFA15A\",\"dash\":\"solid\"},\"marker\":{\"symbol\":\"circle\"},\"mode\":\"lines\",\"name\":\"Lights Out\",\"orientation\":\"v\",\"showlegend\":true,\"x\":[0,15,30,45,60,75,90,105,120,135,150,165,180,195],\"xaxis\":\"x\",\"y\":[1.0037848165130994,1.0025174380864914,1.0012558417677568,1.0,0.9987498853671662,0.9975054705932663,0.9962667285416039,0.9950336322140066,0.9938061547500638,0.9925842694263686,0.9913679496557601,0.9901571689865791,0.9889519011019194,0.987752119818886],\"yaxis\":\"y\",\"type\":\"scatter\"},{\"hovertemplate\":\"title_name=The Rite<br>days_from_theatrical=%{x}<br>multiplier=%{y}<extra></extra>\",\"legendgroup\":\"The Rite\",\"line\":{\"color\":\"#19d3f3\",\"dash\":\"solid\"},\"marker\":{\"symbol\":\"circle\"},\"mode\":\"lines\",\"name\":\"The Rite\",\"orientation\":\"v\",\"showlegend\":true,\"x\":[0,15,30,45,60,75,90,105,120,135,150,165,180,195],\"xaxis\":\"x\",\"y\":[1.0037848165130994,1.0025174380864914,1.0012558417677568,1.0,0.9987498853671662,0.9975054705932663,0.9962667285416039,0.9950336322140066,0.9938061547500638,0.9925842694263686,0.9913679496557601,0.9901571689865791,0.9889519011019194,0.987752119818886],\"yaxis\":\"y\",\"type\":\"scatter\"},{\"hovertemplate\":\"title_name=Willard<br>days_from_theatrical=%{x}<br>multiplier=%{y}<extra></extra>\",\"legendgroup\":\"Willard\",\"line\":{\"color\":\"#FF6692\",\"dash\":\"solid\"},\"marker\":{\"symbol\":\"circle\"},\"mode\":\"lines\",\"name\":\"Willard\",\"orientation\":\"v\",\"showlegend\":true,\"x\":[0,15,30,45,60,75,90,105,120,135,150,165,180,195],\"xaxis\":\"x\",\"y\":[1.0037848165130994,1.0025174380864914,1.0012558417677568,1.0,0.9987498853671662,0.9975054705932663,0.9962667285416039,0.9950336322140066,0.9938061547500638,0.9925842694263686,0.9913679496557601,0.9901571689865791,0.9889519011019194,0.987752119818886],\"yaxis\":\"y\",\"type\":\"scatter\"},{\"hovertemplate\":\"title_name=Holiday Harmony<br>days_from_theatrical=%{x}<br>multiplier=%{y}<extra></extra>\",\"legendgroup\":\"Holiday Harmony\",\"line\":{\"color\":\"#B6E880\",\"dash\":\"solid\"},\"marker\":{\"symbol\":\"circle\"},\"mode\":\"lines\",\"name\":\"Holiday Harmony\",\"orientation\":\"v\",\"showlegend\":true,\"x\":[0,15,30,45,60,75,90,105,120,135,150,165,180,195],\"xaxis\":\"x\",\"y\":[1.0037848165130994,1.0025174380864914,1.0012558417677568,1.0,0.9987498853671662,0.9975054705932663,0.9962667285416039,0.9950336322140066,0.9938061547500638,0.9925842694263686,0.9913679496557601,0.9901571689865791,0.9889519011019194,0.987752119818886],\"yaxis\":\"y\",\"type\":\"scatter\"},{\"hovertemplate\":\"title_name=A Hollywood Christmas<br>days_from_theatrical=%{x}<br>multiplier=%{y}<extra></extra>\",\"legendgroup\":\"A Hollywood Christmas\",\"line\":{\"color\":\"#FF97FF\",\"dash\":\"solid\"},\"marker\":{\"symbol\":\"circle\"},\"mode\":\"lines\",\"name\":\"A Hollywood Christmas\",\"orientation\":\"v\",\"showlegend\":true,\"x\":[0,15,30,45,60,75,90,105,120,135,150,165,180,195],\"xaxis\":\"x\",\"y\":[1.0037848165130994,1.0025174380864914,1.0012558417677568,1.0,0.9987498853671662,0.9975054705932663,0.9962667285416039,0.9950336322140066,0.9938061547500638,0.9925842694263686,0.9913679496557601,0.9901571689865791,0.9889519011019194,0.987752119818886],\"yaxis\":\"y\",\"type\":\"scatter\"},{\"hovertemplate\":\"title_name=How to Be Single<br>days_from_theatrical=%{x}<br>multiplier=%{y}<extra></extra>\",\"legendgroup\":\"How to Be Single\",\"line\":{\"color\":\"#FECB52\",\"dash\":\"solid\"},\"marker\":{\"symbol\":\"circle\"},\"mode\":\"lines\",\"name\":\"How to Be Single\",\"orientation\":\"v\",\"showlegend\":true,\"x\":[0,15,30,45,60,75,90,105,120,135,150,165,180,195],\"xaxis\":\"x\",\"y\":[1.0037848165130994,1.0025174380864914,1.0012558417677568,1.0,0.9987498853671662,0.9975054705932663,0.9962667285416039,0.9950336322140066,0.9938061547500638,0.9925842694263686,0.9913679496557601,0.9901571689865791,0.9889519011019194,0.987752119818886],\"yaxis\":\"y\",\"type\":\"scatter\"},{\"hovertemplate\":\"title_name=The Fallout<br>days_from_theatrical=%{x}<br>multiplier=%{y}<extra></extra>\",\"legendgroup\":\"The Fallout\",\"line\":{\"color\":\"#636efa\",\"dash\":\"solid\"},\"marker\":{\"symbol\":\"circle\"},\"mode\":\"lines\",\"name\":\"The Fallout\",\"orientation\":\"v\",\"showlegend\":true,\"x\":[0,15,30,45,60,75,90,105,120,135,150,165,180,195],\"xaxis\":\"x\",\"y\":[1.0115735725193193,1.0076980620212546,1.003840232603515,1.0,0.9961772803752855,0.9923719903222555,0.9885840468597308,0.984813367430131,0.9810598698971316,0.9773234725433526,0.9736040940680423,0.9699016535847979,0.9662160706192728,0.9625472651069182],\"yaxis\":\"y\",\"type\":\"scatter\"},{\"hovertemplate\":\"title_name=Magnolia<br>days_from_theatrical=%{x}<br>multiplier=%{y}<extra></extra>\",\"legendgroup\":\"Magnolia\",\"line\":{\"color\":\"#EF553B\",\"dash\":\"solid\"},\"marker\":{\"symbol\":\"circle\"},\"mode\":\"lines\",\"name\":\"Magnolia\",\"orientation\":\"v\",\"showlegend\":true,\"x\":[0,15,30,45,60,75,90,105,120,135,150,165,180,195],\"xaxis\":\"x\",\"y\":[1.0037848165130994,1.0025174380864914,1.0012558417677568,1.0,0.9987498853671662,0.9975054705932663,0.9962667285416039,0.9950336322140066,0.9938061547500638,0.9925842694263686,0.9913679496557601,0.9901571689865791,0.9889519011019194,0.987752119818886],\"yaxis\":\"y\",\"type\":\"scatter\"},{\"hovertemplate\":\"title_name=The Time Traveler's Wife<br>days_from_theatrical=%{x}<br>multiplier=%{y}<extra></extra>\",\"legendgroup\":\"The Time Traveler's Wife\",\"line\":{\"color\":\"#00cc96\",\"dash\":\"solid\"},\"marker\":{\"symbol\":\"circle\"},\"mode\":\"lines\",\"name\":\"The Time Traveler's Wife\",\"orientation\":\"v\",\"showlegend\":true,\"x\":[0,15,30,45,60,75,90,105,120,135,150,165,180,195],\"xaxis\":\"x\",\"y\":[1.0037848165130994,1.0025174380864914,1.0012558417677568,1.0,0.9987498853671662,0.9975054705932663,0.9962667285416039,0.9950336322140066,0.9938061547500638,0.9925842694263686,0.9913679496557601,0.9901571689865791,0.9889519011019194,0.987752119818886],\"yaxis\":\"y\",\"type\":\"scatter\"},{\"hovertemplate\":\"title_name=Rock of Ages<br>days_from_theatrical=%{x}<br>multiplier=%{y}<extra></extra>\",\"legendgroup\":\"Rock of Ages\",\"line\":{\"color\":\"#ab63fa\",\"dash\":\"solid\"},\"marker\":{\"symbol\":\"circle\"},\"mode\":\"lines\",\"name\":\"Rock of Ages\",\"orientation\":\"v\",\"showlegend\":true,\"x\":[0,15,30,45,60,75,90,105,120,135,150,165,180,195],\"xaxis\":\"x\",\"y\":[1.0037848165130994,1.0025174380864914,1.0012558417677568,1.0,0.9987498853671662,0.9975054705932663,0.9962667285416039,0.9950336322140066,0.9938061547500638,0.9925842694263686,0.9913679496557601,0.9901571689865791,0.9889519011019194,0.987752119818886],\"yaxis\":\"y\",\"type\":\"scatter\"},{\"hovertemplate\":\"title_name=Scoob!<br>days_from_theatrical=%{x}<br>multiplier=%{y}<extra></extra>\",\"legendgroup\":\"Scoob!\",\"line\":{\"color\":\"#FFA15A\",\"dash\":\"solid\"},\"marker\":{\"symbol\":\"circle\"},\"mode\":\"lines\",\"name\":\"Scoob!\",\"orientation\":\"v\",\"showlegend\":true,\"x\":[0,15,30,45,60,75,90,105,120,135,150,165,180,195],\"xaxis\":\"x\",\"y\":[1.0115735725193193,1.0076980620212546,1.003840232603515,1.0,0.9961772803752855,0.9923719903222555,0.9885840468597308,0.984813367430131,0.9810598698971316,0.9773234725433526,0.9736040940680423,0.9699016535847979,0.9662160706192728,0.9625472651069182],\"yaxis\":\"y\",\"type\":\"scatter\"},{\"hovertemplate\":\"title_name=Eraser: Reborn<br>days_from_theatrical=%{x}<br>multiplier=%{y}<extra></extra>\",\"legendgroup\":\"Eraser: Reborn\",\"line\":{\"color\":\"#19d3f3\",\"dash\":\"solid\"},\"marker\":{\"symbol\":\"circle\"},\"mode\":\"lines\",\"name\":\"Eraser: Reborn\",\"orientation\":\"v\",\"showlegend\":true,\"x\":[0,15,30,45,60,75,90,105,120,135,150,165,180,195],\"xaxis\":\"x\",\"y\":[1.0073935041348019,1.0049177255587332,1.00245324212427,1.0,0.9975579456296371,0.9951270257305108,0.992707187292049,0.9902983775742873,0.9879005441063692,0.9855136346850732,0.9831375973733272,0.9807723804987588,0.9784179326522291,0.9760742026863868],\"yaxis\":\"y\",\"type\":\"scatter\"},{\"hovertemplate\":\"title_name=The Secret Life of Walter Mitty<br>days_from_theatrical=%{x}<br>multiplier=%{y}<extra></extra>\",\"legendgroup\":\"The Secret Life of Walter Mitty\",\"line\":{\"color\":\"#FF6692\",\"dash\":\"solid\"},\"marker\":{\"symbol\":\"circle\"},\"mode\":\"lines\",\"name\":\"The Secret Life of Walter Mitty\",\"orientation\":\"v\",\"showlegend\":true,\"x\":[0,15,30,45,60,75,90,105,120,135,150,165,180,195],\"xaxis\":\"x\",\"y\":[1.0037848165130994,1.0025174380864914,1.0012558417677568,1.0,0.9987498853671662,0.9975054705932663,0.9962667285416039,0.9950336322140066,0.9938061547500638,0.9925842694263686,0.9913679496557601,0.9901571689865791,0.9889519011019194,0.987752119818886],\"yaxis\":\"y\",\"type\":\"scatter\"},{\"hovertemplate\":\"title_name=John Q<br>days_from_theatrical=%{x}<br>multiplier=%{y}<extra></extra>\",\"legendgroup\":\"John Q\",\"line\":{\"color\":\"#B6E880\",\"dash\":\"solid\"},\"marker\":{\"symbol\":\"circle\"},\"mode\":\"lines\",\"name\":\"John Q\",\"orientation\":\"v\",\"showlegend\":true,\"x\":[0,15,30,45,60,75,90,105,120,135,150,165,180,195],\"xaxis\":\"x\",\"y\":[1.0037848165130994,1.0025174380864914,1.0012558417677568,1.0,0.9987498853671662,0.9975054705932663,0.9962667285416039,0.9950336322140066,0.9938061547500638,0.9925842694263686,0.9913679496557601,0.9901571689865791,0.9889519011019194,0.987752119818886],\"yaxis\":\"y\",\"type\":\"scatter\"},{\"hovertemplate\":\"title_name=House Party<br>days_from_theatrical=%{x}<br>multiplier=%{y}<extra></extra>\",\"legendgroup\":\"House Party\",\"line\":{\"color\":\"#FF97FF\",\"dash\":\"solid\"},\"marker\":{\"symbol\":\"circle\"},\"mode\":\"lines\",\"name\":\"House Party\",\"orientation\":\"v\",\"showlegend\":true,\"x\":[0,15,30,45,60,75,90,105,120,135,150,165,180,195],\"xaxis\":\"x\",\"y\":[1.0037848165130994,1.0025174380864914,1.0012558417677568,1.0,0.9987498853671662,0.9975054705932663,0.9962667285416039,0.9950336322140066,0.9938061547500638,0.9925842694263686,0.9913679496557601,0.9901571689865791,0.9889519011019194,0.987752119818886],\"yaxis\":\"y\",\"type\":\"scatter\"},{\"hovertemplate\":\"title_name=Kimi<br>days_from_theatrical=%{x}<br>multiplier=%{y}<extra></extra>\",\"legendgroup\":\"Kimi\",\"line\":{\"color\":\"#FECB52\",\"dash\":\"solid\"},\"marker\":{\"symbol\":\"circle\"},\"mode\":\"lines\",\"name\":\"Kimi\",\"orientation\":\"v\",\"showlegend\":true,\"x\":[0,15,30,45,60,75,90,105,120,135,150,165,180,195],\"xaxis\":\"x\",\"y\":[1.0115735725193193,1.0076980620212546,1.003840232603515,1.0,0.9961772803752855,0.9923719903222555,0.9885840468597308,0.984813367430131,0.9810598698971316,0.9773234725433526,0.9736040940680423,0.9699016535847979,0.9662160706192728,0.9625472651069182],\"yaxis\":\"y\",\"type\":\"scatter\"},{\"hovertemplate\":\"title_name=Little Nicky<br>days_from_theatrical=%{x}<br>multiplier=%{y}<extra></extra>\",\"legendgroup\":\"Little Nicky\",\"line\":{\"color\":\"#636efa\",\"dash\":\"solid\"},\"marker\":{\"symbol\":\"circle\"},\"mode\":\"lines\",\"name\":\"Little Nicky\",\"orientation\":\"v\",\"showlegend\":true,\"x\":[0,15,30,45,60,75,90,105,120,135,150,165,180,195],\"xaxis\":\"x\",\"y\":[1.0037848165130994,1.0025174380864914,1.0012558417677568,1.0,0.9987498853671662,0.9975054705932663,0.9962667285416039,0.9950336322140066,0.9938061547500638,0.9925842694263686,0.9913679496557601,0.9901571689865791,0.9889519011019194,0.987752119818886],\"yaxis\":\"y\",\"type\":\"scatter\"},{\"hovertemplate\":\"title_name=Locked Down<br>days_from_theatrical=%{x}<br>multiplier=%{y}<extra></extra>\",\"legendgroup\":\"Locked Down\",\"line\":{\"color\":\"#EF553B\",\"dash\":\"solid\"},\"marker\":{\"symbol\":\"circle\"},\"mode\":\"lines\",\"name\":\"Locked Down\",\"orientation\":\"v\",\"showlegend\":true,\"x\":[0,15,30,45,60,75,90,105,120,135,150,165,180,195],\"xaxis\":\"x\",\"y\":[1.0115735725193193,1.0076980620212546,1.003840232603515,1.0,0.9961772803752855,0.9923719903222555,0.9885840468597308,0.984813367430131,0.9810598698971316,0.9773234725433526,0.9736040940680423,0.9699016535847979,0.9662160706192728,0.9625472651069182],\"yaxis\":\"y\",\"type\":\"scatter\"},{\"hovertemplate\":\"title_name=No Sudden Move<br>days_from_theatrical=%{x}<br>multiplier=%{y}<extra></extra>\",\"legendgroup\":\"No Sudden Move\",\"line\":{\"color\":\"#00cc96\",\"dash\":\"solid\"},\"marker\":{\"symbol\":\"circle\"},\"mode\":\"lines\",\"name\":\"No Sudden Move\",\"orientation\":\"v\",\"showlegend\":true,\"x\":[0,15,30,45,60,75,90,105,120,135,150,165,180,195],\"xaxis\":\"x\",\"y\":[1.0115735725193193,1.0076980620212546,1.003840232603515,1.0,0.9961772803752855,0.9923719903222555,0.9885840468597308,0.984813367430131,0.9810598698971316,0.9773234725433526,0.9736040940680423,0.9699016535847979,0.9662160706192728,0.9625472651069182],\"yaxis\":\"y\",\"type\":\"scatter\"},{\"hovertemplate\":\"title_name=Domino<br>days_from_theatrical=%{x}<br>multiplier=%{y}<extra></extra>\",\"legendgroup\":\"Domino\",\"line\":{\"color\":\"#ab63fa\",\"dash\":\"solid\"},\"marker\":{\"symbol\":\"circle\"},\"mode\":\"lines\",\"name\":\"Domino\",\"orientation\":\"v\",\"showlegend\":true,\"x\":[0,15,30,45,60,75,90,105,120,135,150,165,180,195],\"xaxis\":\"x\",\"y\":[1.0037848165130994,1.0025174380864914,1.0012558417677568,1.0,0.9987498853671662,0.9975054705932663,0.9962667285416039,0.9950336322140066,0.9938061547500638,0.9925842694263686,0.9913679496557601,0.9901571689865791,0.9889519011019194,0.987752119818886],\"yaxis\":\"y\",\"type\":\"scatter\"}],                        {\"template\":{\"data\":{\"bar\":[{\"error_x\":{\"color\":\"#2a3f5f\"},\"error_y\":{\"color\":\"#2a3f5f\"},\"marker\":{\"line\":{\"color\":\"#E5ECF6\",\"width\":0.5},\"pattern\":{\"fillmode\":\"overlay\",\"size\":10,\"solidity\":0.2}},\"type\":\"bar\"}],\"barpolar\":[{\"marker\":{\"line\":{\"color\":\"#E5ECF6\",\"width\":0.5},\"pattern\":{\"fillmode\":\"overlay\",\"size\":10,\"solidity\":0.2}},\"type\":\"barpolar\"}],\"carpet\":[{\"aaxis\":{\"endlinecolor\":\"#2a3f5f\",\"gridcolor\":\"white\",\"linecolor\":\"white\",\"minorgridcolor\":\"white\",\"startlinecolor\":\"#2a3f5f\"},\"baxis\":{\"endlinecolor\":\"#2a3f5f\",\"gridcolor\":\"white\",\"linecolor\":\"white\",\"minorgridcolor\":\"white\",\"startlinecolor\":\"#2a3f5f\"},\"type\":\"carpet\"}],\"choropleth\":[{\"colorbar\":{\"outlinewidth\":0,\"ticks\":\"\"},\"type\":\"choropleth\"}],\"contour\":[{\"colorbar\":{\"outlinewidth\":0,\"ticks\":\"\"},\"colorscale\":[[0.0,\"#0d0887\"],[0.1111111111111111,\"#46039f\"],[0.2222222222222222,\"#7201a8\"],[0.3333333333333333,\"#9c179e\"],[0.4444444444444444,\"#bd3786\"],[0.5555555555555556,\"#d8576b\"],[0.6666666666666666,\"#ed7953\"],[0.7777777777777778,\"#fb9f3a\"],[0.8888888888888888,\"#fdca26\"],[1.0,\"#f0f921\"]],\"type\":\"contour\"}],\"contourcarpet\":[{\"colorbar\":{\"outlinewidth\":0,\"ticks\":\"\"},\"type\":\"contourcarpet\"}],\"heatmap\":[{\"colorbar\":{\"outlinewidth\":0,\"ticks\":\"\"},\"colorscale\":[[0.0,\"#0d0887\"],[0.1111111111111111,\"#46039f\"],[0.2222222222222222,\"#7201a8\"],[0.3333333333333333,\"#9c179e\"],[0.4444444444444444,\"#bd3786\"],[0.5555555555555556,\"#d8576b\"],[0.6666666666666666,\"#ed7953\"],[0.7777777777777778,\"#fb9f3a\"],[0.8888888888888888,\"#fdca26\"],[1.0,\"#f0f921\"]],\"type\":\"heatmap\"}],\"heatmapgl\":[{\"colorbar\":{\"outlinewidth\":0,\"ticks\":\"\"},\"colorscale\":[[0.0,\"#0d0887\"],[0.1111111111111111,\"#46039f\"],[0.2222222222222222,\"#7201a8\"],[0.3333333333333333,\"#9c179e\"],[0.4444444444444444,\"#bd3786\"],[0.5555555555555556,\"#d8576b\"],[0.6666666666666666,\"#ed7953\"],[0.7777777777777778,\"#fb9f3a\"],[0.8888888888888888,\"#fdca26\"],[1.0,\"#f0f921\"]],\"type\":\"heatmapgl\"}],\"histogram\":[{\"marker\":{\"pattern\":{\"fillmode\":\"overlay\",\"size\":10,\"solidity\":0.2}},\"type\":\"histogram\"}],\"histogram2d\":[{\"colorbar\":{\"outlinewidth\":0,\"ticks\":\"\"},\"colorscale\":[[0.0,\"#0d0887\"],[0.1111111111111111,\"#46039f\"],[0.2222222222222222,\"#7201a8\"],[0.3333333333333333,\"#9c179e\"],[0.4444444444444444,\"#bd3786\"],[0.5555555555555556,\"#d8576b\"],[0.6666666666666666,\"#ed7953\"],[0.7777777777777778,\"#fb9f3a\"],[0.8888888888888888,\"#fdca26\"],[1.0,\"#f0f921\"]],\"type\":\"histogram2d\"}],\"histogram2dcontour\":[{\"colorbar\":{\"outlinewidth\":0,\"ticks\":\"\"},\"colorscale\":[[0.0,\"#0d0887\"],[0.1111111111111111,\"#46039f\"],[0.2222222222222222,\"#7201a8\"],[0.3333333333333333,\"#9c179e\"],[0.4444444444444444,\"#bd3786\"],[0.5555555555555556,\"#d8576b\"],[0.6666666666666666,\"#ed7953\"],[0.7777777777777778,\"#fb9f3a\"],[0.8888888888888888,\"#fdca26\"],[1.0,\"#f0f921\"]],\"type\":\"histogram2dcontour\"}],\"mesh3d\":[{\"colorbar\":{\"outlinewidth\":0,\"ticks\":\"\"},\"type\":\"mesh3d\"}],\"parcoords\":[{\"line\":{\"colorbar\":{\"outlinewidth\":0,\"ticks\":\"\"}},\"type\":\"parcoords\"}],\"pie\":[{\"automargin\":true,\"type\":\"pie\"}],\"scatter\":[{\"marker\":{\"colorbar\":{\"outlinewidth\":0,\"ticks\":\"\"}},\"type\":\"scatter\"}],\"scatter3d\":[{\"line\":{\"colorbar\":{\"outlinewidth\":0,\"ticks\":\"\"}},\"marker\":{\"colorbar\":{\"outlinewidth\":0,\"ticks\":\"\"}},\"type\":\"scatter3d\"}],\"scattercarpet\":[{\"marker\":{\"colorbar\":{\"outlinewidth\":0,\"ticks\":\"\"}},\"type\":\"scattercarpet\"}],\"scattergeo\":[{\"marker\":{\"colorbar\":{\"outlinewidth\":0,\"ticks\":\"\"}},\"type\":\"scattergeo\"}],\"scattergl\":[{\"marker\":{\"colorbar\":{\"outlinewidth\":0,\"ticks\":\"\"}},\"type\":\"scattergl\"}],\"scattermapbox\":[{\"marker\":{\"colorbar\":{\"outlinewidth\":0,\"ticks\":\"\"}},\"type\":\"scattermapbox\"}],\"scatterpolar\":[{\"marker\":{\"colorbar\":{\"outlinewidth\":0,\"ticks\":\"\"}},\"type\":\"scatterpolar\"}],\"scatterpolargl\":[{\"marker\":{\"colorbar\":{\"outlinewidth\":0,\"ticks\":\"\"}},\"type\":\"scatterpolargl\"}],\"scatterternary\":[{\"marker\":{\"colorbar\":{\"outlinewidth\":0,\"ticks\":\"\"}},\"type\":\"scatterternary\"}],\"surface\":[{\"colorbar\":{\"outlinewidth\":0,\"ticks\":\"\"},\"colorscale\":[[0.0,\"#0d0887\"],[0.1111111111111111,\"#46039f\"],[0.2222222222222222,\"#7201a8\"],[0.3333333333333333,\"#9c179e\"],[0.4444444444444444,\"#bd3786\"],[0.5555555555555556,\"#d8576b\"],[0.6666666666666666,\"#ed7953\"],[0.7777777777777778,\"#fb9f3a\"],[0.8888888888888888,\"#fdca26\"],[1.0,\"#f0f921\"]],\"type\":\"surface\"}],\"table\":[{\"cells\":{\"fill\":{\"color\":\"#EBF0F8\"},\"line\":{\"color\":\"white\"}},\"header\":{\"fill\":{\"color\":\"#C8D4E3\"},\"line\":{\"color\":\"white\"}},\"type\":\"table\"}]},\"layout\":{\"annotationdefaults\":{\"arrowcolor\":\"#2a3f5f\",\"arrowhead\":0,\"arrowwidth\":1},\"autotypenumbers\":\"strict\",\"coloraxis\":{\"colorbar\":{\"outlinewidth\":0,\"ticks\":\"\"}},\"colorscale\":{\"diverging\":[[0,\"#8e0152\"],[0.1,\"#c51b7d\"],[0.2,\"#de77ae\"],[0.3,\"#f1b6da\"],[0.4,\"#fde0ef\"],[0.5,\"#f7f7f7\"],[0.6,\"#e6f5d0\"],[0.7,\"#b8e186\"],[0.8,\"#7fbc41\"],[0.9,\"#4d9221\"],[1,\"#276419\"]],\"sequential\":[[0.0,\"#0d0887\"],[0.1111111111111111,\"#46039f\"],[0.2222222222222222,\"#7201a8\"],[0.3333333333333333,\"#9c179e\"],[0.4444444444444444,\"#bd3786\"],[0.5555555555555556,\"#d8576b\"],[0.6666666666666666,\"#ed7953\"],[0.7777777777777778,\"#fb9f3a\"],[0.8888888888888888,\"#fdca26\"],[1.0,\"#f0f921\"]],\"sequentialminus\":[[0.0,\"#0d0887\"],[0.1111111111111111,\"#46039f\"],[0.2222222222222222,\"#7201a8\"],[0.3333333333333333,\"#9c179e\"],[0.4444444444444444,\"#bd3786\"],[0.5555555555555556,\"#d8576b\"],[0.6666666666666666,\"#ed7953\"],[0.7777777777777778,\"#fb9f3a\"],[0.8888888888888888,\"#fdca26\"],[1.0,\"#f0f921\"]]},\"colorway\":[\"#636efa\",\"#EF553B\",\"#00cc96\",\"#ab63fa\",\"#FFA15A\",\"#19d3f3\",\"#FF6692\",\"#B6E880\",\"#FF97FF\",\"#FECB52\"],\"font\":{\"color\":\"#2a3f5f\"},\"geo\":{\"bgcolor\":\"white\",\"lakecolor\":\"white\",\"landcolor\":\"#E5ECF6\",\"showlakes\":true,\"showland\":true,\"subunitcolor\":\"white\"},\"hoverlabel\":{\"align\":\"left\"},\"hovermode\":\"closest\",\"mapbox\":{\"style\":\"light\"},\"paper_bgcolor\":\"white\",\"plot_bgcolor\":\"#E5ECF6\",\"polar\":{\"angularaxis\":{\"gridcolor\":\"white\",\"linecolor\":\"white\",\"ticks\":\"\"},\"bgcolor\":\"#E5ECF6\",\"radialaxis\":{\"gridcolor\":\"white\",\"linecolor\":\"white\",\"ticks\":\"\"}},\"scene\":{\"xaxis\":{\"backgroundcolor\":\"#E5ECF6\",\"gridcolor\":\"white\",\"gridwidth\":2,\"linecolor\":\"white\",\"showbackground\":true,\"ticks\":\"\",\"zerolinecolor\":\"white\"},\"yaxis\":{\"backgroundcolor\":\"#E5ECF6\",\"gridcolor\":\"white\",\"gridwidth\":2,\"linecolor\":\"white\",\"showbackground\":true,\"ticks\":\"\",\"zerolinecolor\":\"white\"},\"zaxis\":{\"backgroundcolor\":\"#E5ECF6\",\"gridcolor\":\"white\",\"gridwidth\":2,\"linecolor\":\"white\",\"showbackground\":true,\"ticks\":\"\",\"zerolinecolor\":\"white\"}},\"shapedefaults\":{\"line\":{\"color\":\"#2a3f5f\"}},\"ternary\":{\"aaxis\":{\"gridcolor\":\"white\",\"linecolor\":\"white\",\"ticks\":\"\"},\"baxis\":{\"gridcolor\":\"white\",\"linecolor\":\"white\",\"ticks\":\"\"},\"bgcolor\":\"#E5ECF6\",\"caxis\":{\"gridcolor\":\"white\",\"linecolor\":\"white\",\"ticks\":\"\"}},\"title\":{\"x\":0.05},\"xaxis\":{\"automargin\":true,\"gridcolor\":\"white\",\"linecolor\":\"white\",\"ticks\":\"\",\"title\":{\"standoff\":15},\"zerolinecolor\":\"white\",\"zerolinewidth\":2},\"yaxis\":{\"automargin\":true,\"gridcolor\":\"white\",\"linecolor\":\"white\",\"ticks\":\"\",\"title\":{\"standoff\":15},\"zerolinecolor\":\"white\",\"zerolinewidth\":2}}},\"xaxis\":{\"anchor\":\"y\",\"domain\":[0.0,1.0],\"title\":{\"text\":\"days_from_theatrical\"}},\"yaxis\":{\"anchor\":\"x\",\"domain\":[0.0,1.0],\"title\":{\"text\":\"multiplier\"}},\"legend\":{\"title\":{\"text\":\"title_name\"},\"tracegroupgap\":0},\"title\":{\"text\":\"Release day V.S. cumulative viewership\"}},                        {\"responsive\": true}                    ).then(function(){\n",
       "                            \n",
       "var gd = document.getElementById('6f9b2e1d-4a2f-401e-a98f-358aa9061b84');\n",
       "var x = new MutationObserver(function (mutations, observer) {{\n",
       "        var display = window.getComputedStyle(gd).display;\n",
       "        if (!display || display === 'none') {{\n",
       "            console.log([gd, 'removed!']);\n",
       "            Plotly.purge(gd);\n",
       "            observer.disconnect();\n",
       "        }}\n",
       "}});\n",
       "\n",
       "// Listen for the removal of the full notebook cells\n",
       "var notebookContainer = gd.closest('#notebook-container');\n",
       "if (notebookContainer) {{\n",
       "    x.observe(notebookContainer, {childList: true});\n",
       "}}\n",
       "\n",
       "// Listen for the clearing of the current output cell\n",
       "var outputEl = gd.closest('.output');\n",
       "if (outputEl) {{\n",
       "    x.observe(outputEl, {childList: true});\n",
       "}}\n",
       "\n",
       "                        })                };                });            </script>        </div>"
      ]
     },
     "metadata": {},
     "output_type": "display_data"
    }
   ],
   "source": [
    "plot_df = scoring_data\n",
    "fig = px.line(plot_df, x=\"days_from_theatrical\", y=\"multiplier\", color = 'title_name',\n",
    "              title='Release day V.S. cumulative viewership')\n",
    "fig.show()"
   ]
  },
  {
   "cell_type": "markdown",
   "id": "ec863bc8",
   "metadata": {},
   "source": [
    "##### 1.132 Scoring2"
   ]
  },
  {
   "cell_type": "code",
   "execution_count": 193,
   "id": "5f561b51",
   "metadata": {},
   "outputs": [],
   "source": [
    "scoring_data = training_data[META_COLS+FEATURE_COLS].copy()\n",
    "scoring_data.drop(['days_from_theatrical'], axis = 1, inplace = True)"
   ]
  },
  {
   "cell_type": "code",
   "execution_count": 194,
   "id": "1d6e7442",
   "metadata": {},
   "outputs": [],
   "source": [
    "scoring_data = scoring_data.groupby(['medal_number', 'observed_medal']).max().reset_index()"
   ]
  },
  {
   "cell_type": "code",
   "execution_count": 195,
   "id": "09c2f5e0",
   "metadata": {},
   "outputs": [],
   "source": [
    "scoring_data = scoring_data[['medal_number', 'observed_medal']]"
   ]
  },
  {
   "cell_type": "code",
   "execution_count": 196,
   "id": "4759c8c2",
   "metadata": {},
   "outputs": [],
   "source": [
    "pred_day = [*range(0, 1800, 15)]\n",
    "df = pd.DataFrame(pred_day, columns =['days_from_theatrical'])"
   ]
  },
  {
   "cell_type": "code",
   "execution_count": 197,
   "id": "777f7129",
   "metadata": {},
   "outputs": [],
   "source": [
    "scoring_data=cartesian_product_basic(scoring_data, df)"
   ]
  },
  {
   "cell_type": "code",
   "execution_count": 198,
   "id": "5ef5c022",
   "metadata": {},
   "outputs": [],
   "source": [
    "pred = gam.predict(scoring_data[FEATURE_COLS])\n",
    "pred = pd.DataFrame(pred)\n",
    "pred.columns = ['pred']\n",
    "scoring_data = pd.concat([scoring_data, pred], axis = 1)"
   ]
  },
  {
   "cell_type": "code",
   "execution_count": 199,
   "id": "8cf8d012",
   "metadata": {},
   "outputs": [],
   "source": [
    "scoring_data['pred'] = 10**(scoring_data['pred'])+9000"
   ]
  },
  {
   "cell_type": "code",
   "execution_count": 200,
   "id": "e792f8ca",
   "metadata": {},
   "outputs": [],
   "source": [
    "scoring_data['title_id'] = np.NAN\n",
    "scoring_data['title_name'] = np.NAN\n",
    "scoring_data['kpi'] = 'viewing_subs'"
   ]
  },
  {
   "cell_type": "code",
   "execution_count": 201,
   "id": "69ea4738",
   "metadata": {},
   "outputs": [],
   "source": [
    "scoring_data_45 = scoring_data[scoring_data['days_from_theatrical'] == 45][['medal_number', 'pred']]\n",
    "scoring_data = scoring_data.merge(scoring_data_45.rename(columns = {'pred':'pred_45'}), \n",
    "                                  on = ['medal_number'])\n",
    "scoring_data['multiplier'] = scoring_data['pred']/scoring_data['pred_45']"
   ]
  },
  {
   "cell_type": "code",
   "execution_count": 202,
   "id": "25068e0c",
   "metadata": {},
   "outputs": [
    {
     "data": {
      "application/vnd.plotly.v1+json": {
       "config": {
        "plotlyServerURL": "https://plot.ly"
       },
       "data": [
        {
         "hovertemplate": "observed_medal=Bronze<br>days_from_theatrical=%{x}<br>multiplier=%{y}<extra></extra>",
         "legendgroup": "Bronze",
         "line": {
          "color": "#636efa",
          "dash": "solid"
         },
         "marker": {
          "symbol": "circle"
         },
         "mode": "lines",
         "name": "Bronze",
         "orientation": "v",
         "showlegend": true,
         "type": "scatter",
         "x": [
          0,
          15,
          30,
          45,
          60,
          75,
          90,
          105,
          120,
          135,
          150,
          165,
          180,
          195,
          210,
          225,
          240,
          255,
          270,
          285,
          300,
          315,
          330,
          345,
          360,
          375,
          390,
          405,
          420,
          435,
          450,
          465,
          480,
          495,
          510,
          525,
          540,
          555,
          570,
          585,
          600,
          615,
          630,
          645,
          660,
          675,
          690,
          705,
          720,
          735,
          750,
          765,
          780,
          795,
          810,
          825,
          840,
          855,
          870,
          885,
          900,
          915,
          930,
          945,
          960,
          975,
          990,
          1005,
          1020,
          1035,
          1050,
          1065,
          1080,
          1095,
          1110,
          1125,
          1140,
          1155,
          1170,
          1185,
          1200,
          1215,
          1230,
          1245,
          1260,
          1275,
          1290,
          1305,
          1320,
          1335,
          1350,
          1365,
          1380,
          1395,
          1410,
          1425,
          1440,
          1455,
          1470,
          1485,
          1500,
          1515,
          1530,
          1545,
          1560,
          1575,
          1590,
          1605,
          1620,
          1635,
          1650,
          1665,
          1680,
          1695,
          1710,
          1725,
          1740,
          1755,
          1770,
          1785
         ],
         "xaxis": "x",
         "y": [
          1.0037848165130994,
          1.0025174380864914,
          1.0012558417677568,
          1,
          0.9987498853671662,
          0.9975054705932663,
          0.9962667285416039,
          0.9950336322140066,
          0.9938061547500638,
          0.9925842694263686,
          0.9913679496557601,
          0.9901571689865791,
          0.9889519011019194,
          0.987752119818886,
          0.9865577990878613,
          0.985368912991771,
          0.9841854357453576,
          0.9830073416944541,
          0.9818346053152684,
          0.9806672012136645,
          0.9795051041244552,
          0.9783482889106921,
          0.9771967305629649,
          0.9760504041987027,
          0.9749092850614789,
          0.9737733485203214,
          0.9726425700690281,
          0.9715169253254815,
          0.9703963900309726,
          0.9692809400495251,
          0.9681705513672284,
          0.9670652000915677,
          0.9659648624507624,
          0.9648695147931106,
          0.9637791335863293,
          0.9626936954169074,
          0.9616131769894579,
          0.9605375551260732,
          0.959466806765687,
          0.9584009089634383,
          0.957339838890039,
          0.9562835738311452,
          0.9552320911867335,
          0.9541853684704789,
          0.953143383309138,
          0.9521061134419361,
          0.9510735367199536,
          0.9500456311055234,
          0.9490223746716248,
          0.9480037456012852,
          0.9469897221869836,
          0.9459802828300572,
          0.944975406040114,
          0.9439750704344445,
          0.9429792547374412,
          0.9419879377800182,
          0.9410010984990369,
          0.9400187159367324,
          0.9390407692401445,
          0.9380672376605523,
          0.937098100552913,
          0.9361333373753,
          0.935172927688349,
          0.9342168511547049,
          0.9332650875384711,
          0.9323176167046655,
          0.9313744186186738,
          0.9304354733457124,
          0.9295007610502911,
          0.9285702619956776,
          0.9276439565433675,
          0.926721825152558,
          0.9258038483796205,
          0.9248900068775817,
          0.9239802813956028,
          0.9230746527784657,
          0.9221731019660586,
          0.9212756099928674,
          0.9203821579874685,
          0.9194927271720249,
          0.9186072988617857,
          0.9177258544645871,
          0.9168483754803579,
          0.9159748435006267,
          0.9151052402080329,
          0.9142395473758392,
          0.913377746867448,
          0.9125198206359204,
          0.9116657507234976,
          0.9108155192611248,
          0.909969108467979,
          0.9091265006509982,
          0.9082876782044135,
          0.9074526236092858,
          0.906621319433042,
          0.9057937483290155,
          0.90496989303599,
          0.9041497363777451,
          0.9033332612626037,
          0.9025204506829835,
          0.9017112877149507,
          0.9009057555177745,
          0.9001038373334885,
          0.8993055164864475,
          0.8985107763828954,
          0.8977196005105273,
          0.8969319724380608,
          0.8961478758148055,
          0.8953672943702363,
          0.8945902119135705,
          0.8938166123333441,
          0.8930464795969932,
          0.8922797977504386,
          0.8915165509176675,
          0.8907567233003248,
          0.8900002991773016,
          0.8892472629043268,
          0.8884975989135634,
          0.887751291713204,
          0.8870083258870711
         ],
         "yaxis": "y"
        },
        {
         "hovertemplate": "observed_medal=Gold<br>days_from_theatrical=%{x}<br>multiplier=%{y}<extra></extra>",
         "legendgroup": "Gold",
         "line": {
          "color": "#EF553B",
          "dash": "solid"
         },
         "marker": {
          "symbol": "circle"
         },
         "mode": "lines",
         "name": "Gold",
         "orientation": "v",
         "showlegend": true,
         "type": "scatter",
         "x": [
          0,
          15,
          30,
          45,
          60,
          75,
          90,
          105,
          120,
          135,
          150,
          165,
          180,
          195,
          210,
          225,
          240,
          255,
          270,
          285,
          300,
          315,
          330,
          345,
          360,
          375,
          390,
          405,
          420,
          435,
          450,
          465,
          480,
          495,
          510,
          525,
          540,
          555,
          570,
          585,
          600,
          615,
          630,
          645,
          660,
          675,
          690,
          705,
          720,
          735,
          750,
          765,
          780,
          795,
          810,
          825,
          840,
          855,
          870,
          885,
          900,
          915,
          930,
          945,
          960,
          975,
          990,
          1005,
          1020,
          1035,
          1050,
          1065,
          1080,
          1095,
          1110,
          1125,
          1140,
          1155,
          1170,
          1185,
          1200,
          1215,
          1230,
          1245,
          1260,
          1275,
          1290,
          1305,
          1320,
          1335,
          1350,
          1365,
          1380,
          1395,
          1410,
          1425,
          1440,
          1455,
          1470,
          1485,
          1500,
          1515,
          1530,
          1545,
          1560,
          1575,
          1590,
          1605,
          1620,
          1635,
          1650,
          1665,
          1680,
          1695,
          1710,
          1725,
          1740,
          1755,
          1770,
          1785
         ],
         "xaxis": "x",
         "y": [
          1.0115735725193193,
          1.0076980620212546,
          1.003840232603515,
          1,
          0.9961772803752855,
          0.9923719903222555,
          0.9885840468597308,
          0.984813367430131,
          0.9810598698971316,
          0.9773234725433526,
          0.9736040940680423,
          0.9699016535847979,
          0.9662160706192728,
          0.9625472651069182,
          0.9588951573907313,
          0.955259668219013,
          0.9516407187431467,
          0.9480382305153757,
          0.9444521254866186,
          0.9408823260042641,
          0.937328754810019,
          0.9337913350377248,
          0.9302699902112266,
          0.9267646442422258,
          0.9232752214281661,
          0.9198016464501102,
          0.9163438443706622,
          0.9129017406318577,
          0.9094752610531043,
          0.9060643318291197,
          0.902668879527873,
          0.8992888310885613,
          0.8959241138195693,
          0.892574655396466,
          0.8892403838599955,
          0.8859212276140952,
          0.882617115423909,
          0.8793279764138238,
          0.8760537400655144,
          0.8727943362159981,
          0.8695496950557032,
          0.8663197471265437,
          0.8631044233200154,
          0.8599036548752945,
          0.8567173733773411,
          0.8535455107550395,
          0.8503879992793149,
          0.8472447715612865,
          0.844115760550423,
          0.8410008995327065,
          0.8379001221288102,
          0.8348133622922889,
          0.8317405543077692,
          0.8286816327891698,
          0.825636532677907,
          0.8226051892411365,
          0.8195875380699842,
          0.8165835150777996,
          0.8135930564984157,
          0.8106160988844179,
          0.8076525791054253,
          0.8047024343463778,
          0.801765602105843,
          0.7988420201943137,
          0.7959316267325421,
          0.7930343601498586,
          0.7901501591825116,
          0.7872789628720229,
          0.784420710563538,
          0.7815753419041958,
          0.7787427968415108,
          0.7759230156217507,
          0.7731159387883362,
          0.7703215071802494,
          0.7675396619304432,
          0.764770344464264,
          0.7620134964978884,
          0.7592690600367574,
          0.7565369773740376,
          0.7538171910890683,
          0.7511096440458381,
          0.7484142793914561,
          0.7457310405546439,
          0.7430598712442226,
          0.740400715447623,
          0.7377535174293912,
          0.735118221729711,
          0.7324947731629322,
          0.7298831168161084,
          0.727283198047545,
          0.7246949624853443,
          0.7221183560259761,
          0.7195533248328444,
          0.7169998153348667,
          0.7144577742250607,
          0.7119271484591364,
          0.7094078852541023,
          0.706899932086875,
          0.7044032366928952,
          0.7019177470647595,
          0.6994434114508505,
          0.6969801783539746,
          0.6945279965300281,
          0.692086814986634,
          0.6896565829818229,
          0.6872372500226962,
          0.6848287658641127,
          0.6824310805073746,
          0.6800441441989192,
          0.6776679074290288,
          0.6753023209305343,
          0.6729473356775354,
          0.670602902884126,
          0.6682689740031226,
          0.6659455007248121,
          0.6636324349756864,
          0.6613297289172061,
          0.6590373349445534,
          0.6567552056854062,
          0.6544832939987055
         ],
         "yaxis": "y"
        },
        {
         "hovertemplate": "observed_medal=Silver<br>days_from_theatrical=%{x}<br>multiplier=%{y}<extra></extra>",
         "legendgroup": "Silver",
         "line": {
          "color": "#00cc96",
          "dash": "solid"
         },
         "marker": {
          "symbol": "circle"
         },
         "mode": "lines",
         "name": "Silver",
         "orientation": "v",
         "showlegend": true,
         "type": "scatter",
         "x": [
          0,
          15,
          30,
          45,
          60,
          75,
          90,
          105,
          120,
          135,
          150,
          165,
          180,
          195,
          210,
          225,
          240,
          255,
          270,
          285,
          300,
          315,
          330,
          345,
          360,
          375,
          390,
          405,
          420,
          435,
          450,
          465,
          480,
          495,
          510,
          525,
          540,
          555,
          570,
          585,
          600,
          615,
          630,
          645,
          660,
          675,
          690,
          705,
          720,
          735,
          750,
          765,
          780,
          795,
          810,
          825,
          840,
          855,
          870,
          885,
          900,
          915,
          930,
          945,
          960,
          975,
          990,
          1005,
          1020,
          1035,
          1050,
          1065,
          1080,
          1095,
          1110,
          1125,
          1140,
          1155,
          1170,
          1185,
          1200,
          1215,
          1230,
          1245,
          1260,
          1275,
          1290,
          1305,
          1320,
          1335,
          1350,
          1365,
          1380,
          1395,
          1410,
          1425,
          1440,
          1455,
          1470,
          1485,
          1500,
          1515,
          1530,
          1545,
          1560,
          1575,
          1590,
          1605,
          1620,
          1635,
          1650,
          1665,
          1680,
          1695,
          1710,
          1725,
          1740,
          1755,
          1770,
          1785
         ],
         "xaxis": "x",
         "y": [
          1.0073935041348019,
          1.0049177255587332,
          1.00245324212427,
          1,
          0.9975579456296371,
          0.9951270257305108,
          0.992707187292049,
          0.9902983775742873,
          0.9879005441063692,
          0.9855136346850732,
          0.9831375973733272,
          0.9807723804987588,
          0.9784179326522291,
          0.9760742026863868,
          0.9737411397142324,
          0.9714186931076846,
          0.9691068124961629,
          0.9668054477651656,
          0.9645145490548762,
          0.9622340667587533,
          0.9599639515221566,
          0.9577041542409527,
          0.9554546260601484,
          0.9532153183725315,
          0.9509861828173026,
          0.9487671712787364,
          0.9465582358848423,
          0.9443593290060212,
          0.9421704032537499,
          0.9399914114792602,
          0.9378223067722329,
          0.935663042459492,
          0.9335135721037126,
          0.9313738495021369,
          0.9292438286852893,
          0.9271234639157115,
          0.9250127096866944,
          0.9229115207210219,
          0.9208198519697238,
          0.9187376586108313,
          0.9166648960481442,
          0.9146015199100009,
          0.9125474860480624,
          0.9105027505360935,
          0.908467269668761,
          0.9064409999604359,
          0.9044238981439919,
          0.902415921169633,
          0.9004170262037058,
          0.8984271706275321,
          0.8964463120362434,
          0.8944744082376216,
          0.8925114172509512,
          0.8905572973058741,
          0.8886120068412464,
          0.8866755045040162,
          0.8847477491480913,
          0.8828286998332248,
          0.8809183158239043,
          0.8790165565882411,
          0.8771233817968815,
          0.875238751321904,
          0.8733626252357384,
          0.871494963810086,
          0.8696357275148462,
          0.8677848770170472,
          0.865942373179785,
          0.8641081770611716,
          0.8622822499132824,
          0.8604645531811145,
          0.8586550485015505,
          0.8568536977023282,
          0.8550604628010121,
          0.8532753060039805,
          0.8514981897054049,
          0.8497290764862498,
          0.8479679291132678,
          0.8462147105380015,
          0.8444693838957973,
          0.8427319125048219,
          0.8410022598650794,
          0.8392803896574396,
          0.8375662657426747,
          0.8358598521604916,
          0.8341611131285789,
          0.8324700130416546,
          0.8307865164705234,
          0.8291105881611324,
          0.8274421930336398,
          0.8257812961814842,
          0.8241278628704621,
          0.8224818585378072,
          0.8208432487912782,
          0.8192119994082517,
          0.8175880763348176,
          0.8159714456848807,
          0.8143620737392708,
          0.8127599269448534,
          0.8111649719136469,
          0.8095771754219454,
          0.8079965044094475,
          0.8064229259783862,
          0.8048564073926712,
          0.8032969160770237,
          0.8017444196161335,
          0.8001988857538014,
          0.7986602823921024,
          0.7971285775905464,
          0.7956037395652423,
          0.7940857366880731,
          0.7925745374858687,
          0.7910701106395875,
          0.7895724249835032,
          0.7880814495043916,
          0.7865971533407289,
          0.7851195057818897,
          0.7836484762673473,
          0.7821840343858882,
          0.7807261498748179,
          0.7792747926191834
         ],
         "yaxis": "y"
        }
       ],
       "layout": {
        "autosize": true,
        "legend": {
         "title": {
          "text": "observed_medal"
         },
         "tracegroupgap": 0
        },
        "template": {
         "data": {
          "bar": [
           {
            "error_x": {
             "color": "#2a3f5f"
            },
            "error_y": {
             "color": "#2a3f5f"
            },
            "marker": {
             "line": {
              "color": "#E5ECF6",
              "width": 0.5
             },
             "pattern": {
              "fillmode": "overlay",
              "size": 10,
              "solidity": 0.2
             }
            },
            "type": "bar"
           }
          ],
          "barpolar": [
           {
            "marker": {
             "line": {
              "color": "#E5ECF6",
              "width": 0.5
             },
             "pattern": {
              "fillmode": "overlay",
              "size": 10,
              "solidity": 0.2
             }
            },
            "type": "barpolar"
           }
          ],
          "carpet": [
           {
            "aaxis": {
             "endlinecolor": "#2a3f5f",
             "gridcolor": "white",
             "linecolor": "white",
             "minorgridcolor": "white",
             "startlinecolor": "#2a3f5f"
            },
            "baxis": {
             "endlinecolor": "#2a3f5f",
             "gridcolor": "white",
             "linecolor": "white",
             "minorgridcolor": "white",
             "startlinecolor": "#2a3f5f"
            },
            "type": "carpet"
           }
          ],
          "choropleth": [
           {
            "colorbar": {
             "outlinewidth": 0,
             "ticks": ""
            },
            "type": "choropleth"
           }
          ],
          "contour": [
           {
            "colorbar": {
             "outlinewidth": 0,
             "ticks": ""
            },
            "colorscale": [
             [
              0,
              "#0d0887"
             ],
             [
              0.1111111111111111,
              "#46039f"
             ],
             [
              0.2222222222222222,
              "#7201a8"
             ],
             [
              0.3333333333333333,
              "#9c179e"
             ],
             [
              0.4444444444444444,
              "#bd3786"
             ],
             [
              0.5555555555555556,
              "#d8576b"
             ],
             [
              0.6666666666666666,
              "#ed7953"
             ],
             [
              0.7777777777777778,
              "#fb9f3a"
             ],
             [
              0.8888888888888888,
              "#fdca26"
             ],
             [
              1,
              "#f0f921"
             ]
            ],
            "type": "contour"
           }
          ],
          "contourcarpet": [
           {
            "colorbar": {
             "outlinewidth": 0,
             "ticks": ""
            },
            "type": "contourcarpet"
           }
          ],
          "heatmap": [
           {
            "colorbar": {
             "outlinewidth": 0,
             "ticks": ""
            },
            "colorscale": [
             [
              0,
              "#0d0887"
             ],
             [
              0.1111111111111111,
              "#46039f"
             ],
             [
              0.2222222222222222,
              "#7201a8"
             ],
             [
              0.3333333333333333,
              "#9c179e"
             ],
             [
              0.4444444444444444,
              "#bd3786"
             ],
             [
              0.5555555555555556,
              "#d8576b"
             ],
             [
              0.6666666666666666,
              "#ed7953"
             ],
             [
              0.7777777777777778,
              "#fb9f3a"
             ],
             [
              0.8888888888888888,
              "#fdca26"
             ],
             [
              1,
              "#f0f921"
             ]
            ],
            "type": "heatmap"
           }
          ],
          "heatmapgl": [
           {
            "colorbar": {
             "outlinewidth": 0,
             "ticks": ""
            },
            "colorscale": [
             [
              0,
              "#0d0887"
             ],
             [
              0.1111111111111111,
              "#46039f"
             ],
             [
              0.2222222222222222,
              "#7201a8"
             ],
             [
              0.3333333333333333,
              "#9c179e"
             ],
             [
              0.4444444444444444,
              "#bd3786"
             ],
             [
              0.5555555555555556,
              "#d8576b"
             ],
             [
              0.6666666666666666,
              "#ed7953"
             ],
             [
              0.7777777777777778,
              "#fb9f3a"
             ],
             [
              0.8888888888888888,
              "#fdca26"
             ],
             [
              1,
              "#f0f921"
             ]
            ],
            "type": "heatmapgl"
           }
          ],
          "histogram": [
           {
            "marker": {
             "pattern": {
              "fillmode": "overlay",
              "size": 10,
              "solidity": 0.2
             }
            },
            "type": "histogram"
           }
          ],
          "histogram2d": [
           {
            "colorbar": {
             "outlinewidth": 0,
             "ticks": ""
            },
            "colorscale": [
             [
              0,
              "#0d0887"
             ],
             [
              0.1111111111111111,
              "#46039f"
             ],
             [
              0.2222222222222222,
              "#7201a8"
             ],
             [
              0.3333333333333333,
              "#9c179e"
             ],
             [
              0.4444444444444444,
              "#bd3786"
             ],
             [
              0.5555555555555556,
              "#d8576b"
             ],
             [
              0.6666666666666666,
              "#ed7953"
             ],
             [
              0.7777777777777778,
              "#fb9f3a"
             ],
             [
              0.8888888888888888,
              "#fdca26"
             ],
             [
              1,
              "#f0f921"
             ]
            ],
            "type": "histogram2d"
           }
          ],
          "histogram2dcontour": [
           {
            "colorbar": {
             "outlinewidth": 0,
             "ticks": ""
            },
            "colorscale": [
             [
              0,
              "#0d0887"
             ],
             [
              0.1111111111111111,
              "#46039f"
             ],
             [
              0.2222222222222222,
              "#7201a8"
             ],
             [
              0.3333333333333333,
              "#9c179e"
             ],
             [
              0.4444444444444444,
              "#bd3786"
             ],
             [
              0.5555555555555556,
              "#d8576b"
             ],
             [
              0.6666666666666666,
              "#ed7953"
             ],
             [
              0.7777777777777778,
              "#fb9f3a"
             ],
             [
              0.8888888888888888,
              "#fdca26"
             ],
             [
              1,
              "#f0f921"
             ]
            ],
            "type": "histogram2dcontour"
           }
          ],
          "mesh3d": [
           {
            "colorbar": {
             "outlinewidth": 0,
             "ticks": ""
            },
            "type": "mesh3d"
           }
          ],
          "parcoords": [
           {
            "line": {
             "colorbar": {
              "outlinewidth": 0,
              "ticks": ""
             }
            },
            "type": "parcoords"
           }
          ],
          "pie": [
           {
            "automargin": true,
            "type": "pie"
           }
          ],
          "scatter": [
           {
            "marker": {
             "colorbar": {
              "outlinewidth": 0,
              "ticks": ""
             }
            },
            "type": "scatter"
           }
          ],
          "scatter3d": [
           {
            "line": {
             "colorbar": {
              "outlinewidth": 0,
              "ticks": ""
             }
            },
            "marker": {
             "colorbar": {
              "outlinewidth": 0,
              "ticks": ""
             }
            },
            "type": "scatter3d"
           }
          ],
          "scattercarpet": [
           {
            "marker": {
             "colorbar": {
              "outlinewidth": 0,
              "ticks": ""
             }
            },
            "type": "scattercarpet"
           }
          ],
          "scattergeo": [
           {
            "marker": {
             "colorbar": {
              "outlinewidth": 0,
              "ticks": ""
             }
            },
            "type": "scattergeo"
           }
          ],
          "scattergl": [
           {
            "marker": {
             "colorbar": {
              "outlinewidth": 0,
              "ticks": ""
             }
            },
            "type": "scattergl"
           }
          ],
          "scattermapbox": [
           {
            "marker": {
             "colorbar": {
              "outlinewidth": 0,
              "ticks": ""
             }
            },
            "type": "scattermapbox"
           }
          ],
          "scatterpolar": [
           {
            "marker": {
             "colorbar": {
              "outlinewidth": 0,
              "ticks": ""
             }
            },
            "type": "scatterpolar"
           }
          ],
          "scatterpolargl": [
           {
            "marker": {
             "colorbar": {
              "outlinewidth": 0,
              "ticks": ""
             }
            },
            "type": "scatterpolargl"
           }
          ],
          "scatterternary": [
           {
            "marker": {
             "colorbar": {
              "outlinewidth": 0,
              "ticks": ""
             }
            },
            "type": "scatterternary"
           }
          ],
          "surface": [
           {
            "colorbar": {
             "outlinewidth": 0,
             "ticks": ""
            },
            "colorscale": [
             [
              0,
              "#0d0887"
             ],
             [
              0.1111111111111111,
              "#46039f"
             ],
             [
              0.2222222222222222,
              "#7201a8"
             ],
             [
              0.3333333333333333,
              "#9c179e"
             ],
             [
              0.4444444444444444,
              "#bd3786"
             ],
             [
              0.5555555555555556,
              "#d8576b"
             ],
             [
              0.6666666666666666,
              "#ed7953"
             ],
             [
              0.7777777777777778,
              "#fb9f3a"
             ],
             [
              0.8888888888888888,
              "#fdca26"
             ],
             [
              1,
              "#f0f921"
             ]
            ],
            "type": "surface"
           }
          ],
          "table": [
           {
            "cells": {
             "fill": {
              "color": "#EBF0F8"
             },
             "line": {
              "color": "white"
             }
            },
            "header": {
             "fill": {
              "color": "#C8D4E3"
             },
             "line": {
              "color": "white"
             }
            },
            "type": "table"
           }
          ]
         },
         "layout": {
          "annotationdefaults": {
           "arrowcolor": "#2a3f5f",
           "arrowhead": 0,
           "arrowwidth": 1
          },
          "autotypenumbers": "strict",
          "coloraxis": {
           "colorbar": {
            "outlinewidth": 0,
            "ticks": ""
           }
          },
          "colorscale": {
           "diverging": [
            [
             0,
             "#8e0152"
            ],
            [
             0.1,
             "#c51b7d"
            ],
            [
             0.2,
             "#de77ae"
            ],
            [
             0.3,
             "#f1b6da"
            ],
            [
             0.4,
             "#fde0ef"
            ],
            [
             0.5,
             "#f7f7f7"
            ],
            [
             0.6,
             "#e6f5d0"
            ],
            [
             0.7,
             "#b8e186"
            ],
            [
             0.8,
             "#7fbc41"
            ],
            [
             0.9,
             "#4d9221"
            ],
            [
             1,
             "#276419"
            ]
           ],
           "sequential": [
            [
             0,
             "#0d0887"
            ],
            [
             0.1111111111111111,
             "#46039f"
            ],
            [
             0.2222222222222222,
             "#7201a8"
            ],
            [
             0.3333333333333333,
             "#9c179e"
            ],
            [
             0.4444444444444444,
             "#bd3786"
            ],
            [
             0.5555555555555556,
             "#d8576b"
            ],
            [
             0.6666666666666666,
             "#ed7953"
            ],
            [
             0.7777777777777778,
             "#fb9f3a"
            ],
            [
             0.8888888888888888,
             "#fdca26"
            ],
            [
             1,
             "#f0f921"
            ]
           ],
           "sequentialminus": [
            [
             0,
             "#0d0887"
            ],
            [
             0.1111111111111111,
             "#46039f"
            ],
            [
             0.2222222222222222,
             "#7201a8"
            ],
            [
             0.3333333333333333,
             "#9c179e"
            ],
            [
             0.4444444444444444,
             "#bd3786"
            ],
            [
             0.5555555555555556,
             "#d8576b"
            ],
            [
             0.6666666666666666,
             "#ed7953"
            ],
            [
             0.7777777777777778,
             "#fb9f3a"
            ],
            [
             0.8888888888888888,
             "#fdca26"
            ],
            [
             1,
             "#f0f921"
            ]
           ]
          },
          "colorway": [
           "#636efa",
           "#EF553B",
           "#00cc96",
           "#ab63fa",
           "#FFA15A",
           "#19d3f3",
           "#FF6692",
           "#B6E880",
           "#FF97FF",
           "#FECB52"
          ],
          "font": {
           "color": "#2a3f5f"
          },
          "geo": {
           "bgcolor": "white",
           "lakecolor": "white",
           "landcolor": "#E5ECF6",
           "showlakes": true,
           "showland": true,
           "subunitcolor": "white"
          },
          "hoverlabel": {
           "align": "left"
          },
          "hovermode": "closest",
          "mapbox": {
           "style": "light"
          },
          "paper_bgcolor": "white",
          "plot_bgcolor": "#E5ECF6",
          "polar": {
           "angularaxis": {
            "gridcolor": "white",
            "linecolor": "white",
            "ticks": ""
           },
           "bgcolor": "#E5ECF6",
           "radialaxis": {
            "gridcolor": "white",
            "linecolor": "white",
            "ticks": ""
           }
          },
          "scene": {
           "xaxis": {
            "backgroundcolor": "#E5ECF6",
            "gridcolor": "white",
            "gridwidth": 2,
            "linecolor": "white",
            "showbackground": true,
            "ticks": "",
            "zerolinecolor": "white"
           },
           "yaxis": {
            "backgroundcolor": "#E5ECF6",
            "gridcolor": "white",
            "gridwidth": 2,
            "linecolor": "white",
            "showbackground": true,
            "ticks": "",
            "zerolinecolor": "white"
           },
           "zaxis": {
            "backgroundcolor": "#E5ECF6",
            "gridcolor": "white",
            "gridwidth": 2,
            "linecolor": "white",
            "showbackground": true,
            "ticks": "",
            "zerolinecolor": "white"
           }
          },
          "shapedefaults": {
           "line": {
            "color": "#2a3f5f"
           }
          },
          "ternary": {
           "aaxis": {
            "gridcolor": "white",
            "linecolor": "white",
            "ticks": ""
           },
           "baxis": {
            "gridcolor": "white",
            "linecolor": "white",
            "ticks": ""
           },
           "bgcolor": "#E5ECF6",
           "caxis": {
            "gridcolor": "white",
            "linecolor": "white",
            "ticks": ""
           }
          },
          "title": {
           "x": 0.05
          },
          "xaxis": {
           "automargin": true,
           "gridcolor": "white",
           "linecolor": "white",
           "ticks": "",
           "title": {
            "standoff": 15
           },
           "zerolinecolor": "white",
           "zerolinewidth": 2
          },
          "yaxis": {
           "automargin": true,
           "gridcolor": "white",
           "linecolor": "white",
           "ticks": "",
           "title": {
            "standoff": 15
           },
           "zerolinecolor": "white",
           "zerolinewidth": 2
          }
         }
        },
        "title": {
         "text": "Release day V.S. cumulative viewership"
        },
        "xaxis": {
         "anchor": "y",
         "autorange": true,
         "domain": [
          0,
          1
         ],
         "range": [
          0,
          1785
         ],
         "title": {
          "text": "days_from_theatrical"
         },
         "type": "linear"
        },
        "yaxis": {
         "anchor": "x",
         "autorange": true,
         "domain": [
          0,
          1
         ],
         "range": [
          0.6346449451920048,
          1.0314119213260202
         ],
         "title": {
          "text": "multiplier"
         },
         "type": "linear"
        }
       }
      },
      "image/png": "[encoded data removed]",
      "text/html": [
       "<div>                            <div id=\"33151701-daf6-4ecb-9fdc-f6c087b2a875\" class=\"plotly-graph-div\" style=\"height:525px; width:100%;\"></div>            <script type=\"text/javascript\">                require([\"plotly\"], function(Plotly) {                    window.PLOTLYENV=window.PLOTLYENV || {};                                    if (document.getElementById(\"33151701-daf6-4ecb-9fdc-f6c087b2a875\")) {                    Plotly.newPlot(                        \"33151701-daf6-4ecb-9fdc-f6c087b2a875\",                        [{\"hovertemplate\":\"observed_medal=Bronze<br>days_from_theatrical=%{x}<br>multiplier=%{y}<extra></extra>\",\"legendgroup\":\"Bronze\",\"line\":{\"color\":\"#636efa\",\"dash\":\"solid\"},\"marker\":{\"symbol\":\"circle\"},\"mode\":\"lines\",\"name\":\"Bronze\",\"orientation\":\"v\",\"showlegend\":true,\"x\":[0,15,30,45,60,75,90,105,120,135,150,165,180,195,210,225,240,255,270,285,300,315,330,345,360,375,390,405,420,435,450,465,480,495,510,525,540,555,570,585,600,615,630,645,660,675,690,705,720,735,750,765,780,795,810,825,840,855,870,885,900,915,930,945,960,975,990,1005,1020,1035,1050,1065,1080,1095,1110,1125,1140,1155,1170,1185,1200,1215,1230,1245,1260,1275,1290,1305,1320,1335,1350,1365,1380,1395,1410,1425,1440,1455,1470,1485,1500,1515,1530,1545,1560,1575,1590,1605,1620,1635,1650,1665,1680,1695,1710,1725,1740,1755,1770,1785],\"xaxis\":\"x\",\"y\":[1.0037848165130994,1.0025174380864914,1.0012558417677568,1.0,0.9987498853671662,0.9975054705932663,0.9962667285416039,0.9950336322140066,0.9938061547500638,0.9925842694263686,0.9913679496557601,0.9901571689865791,0.9889519011019194,0.987752119818886,0.9865577990878613,0.985368912991771,0.9841854357453576,0.9830073416944541,0.9818346053152684,0.9806672012136645,0.9795051041244552,0.9783482889106921,0.9771967305629649,0.9760504041987027,0.9749092850614789,0.9737733485203214,0.9726425700690281,0.9715169253254815,0.9703963900309726,0.9692809400495251,0.9681705513672284,0.9670652000915677,0.9659648624507624,0.9648695147931106,0.9637791335863293,0.9626936954169074,0.9616131769894579,0.9605375551260732,0.959466806765687,0.9584009089634383,0.957339838890039,0.9562835738311452,0.9552320911867335,0.9541853684704789,0.953143383309138,0.9521061134419361,0.9510735367199536,0.9500456311055234,0.9490223746716248,0.9480037456012852,0.9469897221869836,0.9459802828300572,0.944975406040114,0.9439750704344445,0.9429792547374412,0.9419879377800182,0.9410010984990369,0.9400187159367324,0.9390407692401445,0.9380672376605523,0.937098100552913,0.9361333373753,0.935172927688349,0.9342168511547049,0.9332650875384711,0.9323176167046655,0.9313744186186738,0.9304354733457124,0.9295007610502911,0.9285702619956776,0.9276439565433675,0.926721825152558,0.9258038483796205,0.9248900068775817,0.9239802813956028,0.9230746527784657,0.9221731019660586,0.9212756099928674,0.9203821579874685,0.9194927271720249,0.9186072988617857,0.9177258544645871,0.9168483754803579,0.9159748435006267,0.9151052402080329,0.9142395473758392,0.913377746867448,0.9125198206359204,0.9116657507234976,0.9108155192611248,0.909969108467979,0.9091265006509982,0.9082876782044135,0.9074526236092858,0.906621319433042,0.9057937483290155,0.90496989303599,0.9041497363777451,0.9033332612626037,0.9025204506829835,0.9017112877149507,0.9009057555177745,0.9001038373334885,0.8993055164864475,0.8985107763828954,0.8977196005105273,0.8969319724380608,0.8961478758148055,0.8953672943702363,0.8945902119135705,0.8938166123333441,0.8930464795969932,0.8922797977504386,0.8915165509176675,0.8907567233003248,0.8900002991773016,0.8892472629043268,0.8884975989135634,0.887751291713204,0.8870083258870711],\"yaxis\":\"y\",\"type\":\"scatter\"},{\"hovertemplate\":\"observed_medal=Gold<br>days_from_theatrical=%{x}<br>multiplier=%{y}<extra></extra>\",\"legendgroup\":\"Gold\",\"line\":{\"color\":\"#EF553B\",\"dash\":\"solid\"},\"marker\":{\"symbol\":\"circle\"},\"mode\":\"lines\",\"name\":\"Gold\",\"orientation\":\"v\",\"showlegend\":true,\"x\":[0,15,30,45,60,75,90,105,120,135,150,165,180,195,210,225,240,255,270,285,300,315,330,345,360,375,390,405,420,435,450,465,480,495,510,525,540,555,570,585,600,615,630,645,660,675,690,705,720,735,750,765,780,795,810,825,840,855,870,885,900,915,930,945,960,975,990,1005,1020,1035,1050,1065,1080,1095,1110,1125,1140,1155,1170,1185,1200,1215,1230,1245,1260,1275,1290,1305,1320,1335,1350,1365,1380,1395,1410,1425,1440,1455,1470,1485,1500,1515,1530,1545,1560,1575,1590,1605,1620,1635,1650,1665,1680,1695,1710,1725,1740,1755,1770,1785],\"xaxis\":\"x\",\"y\":[1.0115735725193193,1.0076980620212546,1.003840232603515,1.0,0.9961772803752855,0.9923719903222555,0.9885840468597308,0.984813367430131,0.9810598698971316,0.9773234725433526,0.9736040940680423,0.9699016535847979,0.9662160706192728,0.9625472651069182,0.9588951573907313,0.955259668219013,0.9516407187431467,0.9480382305153757,0.9444521254866186,0.9408823260042641,0.937328754810019,0.9337913350377248,0.9302699902112266,0.9267646442422258,0.9232752214281661,0.9198016464501102,0.9163438443706622,0.9129017406318577,0.9094752610531043,0.9060643318291197,0.902668879527873,0.8992888310885613,0.8959241138195693,0.892574655396466,0.8892403838599955,0.8859212276140952,0.882617115423909,0.8793279764138238,0.8760537400655144,0.8727943362159981,0.8695496950557032,0.8663197471265437,0.8631044233200154,0.8599036548752945,0.8567173733773411,0.8535455107550395,0.8503879992793149,0.8472447715612865,0.844115760550423,0.8410008995327065,0.8379001221288102,0.8348133622922889,0.8317405543077692,0.8286816327891698,0.825636532677907,0.8226051892411365,0.8195875380699842,0.8165835150777996,0.8135930564984157,0.8106160988844179,0.8076525791054253,0.8047024343463778,0.801765602105843,0.7988420201943137,0.7959316267325421,0.7930343601498586,0.7901501591825116,0.7872789628720229,0.784420710563538,0.7815753419041958,0.7787427968415108,0.7759230156217507,0.7731159387883362,0.7703215071802494,0.7675396619304432,0.764770344464264,0.7620134964978884,0.7592690600367574,0.7565369773740376,0.7538171910890683,0.7511096440458381,0.7484142793914561,0.7457310405546439,0.7430598712442226,0.740400715447623,0.7377535174293912,0.735118221729711,0.7324947731629322,0.7298831168161084,0.727283198047545,0.7246949624853443,0.7221183560259761,0.7195533248328444,0.7169998153348667,0.7144577742250607,0.7119271484591364,0.7094078852541023,0.706899932086875,0.7044032366928952,0.7019177470647595,0.6994434114508505,0.6969801783539746,0.6945279965300281,0.692086814986634,0.6896565829818229,0.6872372500226962,0.6848287658641127,0.6824310805073746,0.6800441441989192,0.6776679074290288,0.6753023209305343,0.6729473356775354,0.670602902884126,0.6682689740031226,0.6659455007248121,0.6636324349756864,0.6613297289172061,0.6590373349445534,0.6567552056854062,0.6544832939987055],\"yaxis\":\"y\",\"type\":\"scatter\"},{\"hovertemplate\":\"observed_medal=Silver<br>days_from_theatrical=%{x}<br>multiplier=%{y}<extra></extra>\",\"legendgroup\":\"Silver\",\"line\":{\"color\":\"#00cc96\",\"dash\":\"solid\"},\"marker\":{\"symbol\":\"circle\"},\"mode\":\"lines\",\"name\":\"Silver\",\"orientation\":\"v\",\"showlegend\":true,\"x\":[0,15,30,45,60,75,90,105,120,135,150,165,180,195,210,225,240,255,270,285,300,315,330,345,360,375,390,405,420,435,450,465,480,495,510,525,540,555,570,585,600,615,630,645,660,675,690,705,720,735,750,765,780,795,810,825,840,855,870,885,900,915,930,945,960,975,990,1005,1020,1035,1050,1065,1080,1095,1110,1125,1140,1155,1170,1185,1200,1215,1230,1245,1260,1275,1290,1305,1320,1335,1350,1365,1380,1395,1410,1425,1440,1455,1470,1485,1500,1515,1530,1545,1560,1575,1590,1605,1620,1635,1650,1665,1680,1695,1710,1725,1740,1755,1770,1785],\"xaxis\":\"x\",\"y\":[1.0073935041348019,1.0049177255587332,1.00245324212427,1.0,0.9975579456296371,0.9951270257305108,0.992707187292049,0.9902983775742873,0.9879005441063692,0.9855136346850732,0.9831375973733272,0.9807723804987588,0.9784179326522291,0.9760742026863868,0.9737411397142324,0.9714186931076846,0.9691068124961629,0.9668054477651656,0.9645145490548762,0.9622340667587533,0.9599639515221566,0.9577041542409527,0.9554546260601484,0.9532153183725315,0.9509861828173026,0.9487671712787364,0.9465582358848423,0.9443593290060212,0.9421704032537499,0.9399914114792602,0.9378223067722329,0.935663042459492,0.9335135721037126,0.9313738495021369,0.9292438286852893,0.9271234639157115,0.9250127096866944,0.9229115207210219,0.9208198519697238,0.9187376586108313,0.9166648960481442,0.9146015199100009,0.9125474860480624,0.9105027505360935,0.908467269668761,0.9064409999604359,0.9044238981439919,0.902415921169633,0.9004170262037058,0.8984271706275321,0.8964463120362434,0.8944744082376216,0.8925114172509512,0.8905572973058741,0.8886120068412464,0.8866755045040162,0.8847477491480913,0.8828286998332248,0.8809183158239043,0.8790165565882411,0.8771233817968815,0.875238751321904,0.8733626252357384,0.871494963810086,0.8696357275148462,0.8677848770170472,0.865942373179785,0.8641081770611716,0.8622822499132824,0.8604645531811145,0.8586550485015505,0.8568536977023282,0.8550604628010121,0.8532753060039805,0.8514981897054049,0.8497290764862498,0.8479679291132678,0.8462147105380015,0.8444693838957973,0.8427319125048219,0.8410022598650794,0.8392803896574396,0.8375662657426747,0.8358598521604916,0.8341611131285789,0.8324700130416546,0.8307865164705234,0.8291105881611324,0.8274421930336398,0.8257812961814842,0.8241278628704621,0.8224818585378072,0.8208432487912782,0.8192119994082517,0.8175880763348176,0.8159714456848807,0.8143620737392708,0.8127599269448534,0.8111649719136469,0.8095771754219454,0.8079965044094475,0.8064229259783862,0.8048564073926712,0.8032969160770237,0.8017444196161335,0.8001988857538014,0.7986602823921024,0.7971285775905464,0.7956037395652423,0.7940857366880731,0.7925745374858687,0.7910701106395875,0.7895724249835032,0.7880814495043916,0.7865971533407289,0.7851195057818897,0.7836484762673473,0.7821840343858882,0.7807261498748179,0.7792747926191834],\"yaxis\":\"y\",\"type\":\"scatter\"}],                        {\"template\":{\"data\":{\"bar\":[{\"error_x\":{\"color\":\"#2a3f5f\"},\"error_y\":{\"color\":\"#2a3f5f\"},\"marker\":{\"line\":{\"color\":\"#E5ECF6\",\"width\":0.5},\"pattern\":{\"fillmode\":\"overlay\",\"size\":10,\"solidity\":0.2}},\"type\":\"bar\"}],\"barpolar\":[{\"marker\":{\"line\":{\"color\":\"#E5ECF6\",\"width\":0.5},\"pattern\":{\"fillmode\":\"overlay\",\"size\":10,\"solidity\":0.2}},\"type\":\"barpolar\"}],\"carpet\":[{\"aaxis\":{\"endlinecolor\":\"#2a3f5f\",\"gridcolor\":\"white\",\"linecolor\":\"white\",\"minorgridcolor\":\"white\",\"startlinecolor\":\"#2a3f5f\"},\"baxis\":{\"endlinecolor\":\"#2a3f5f\",\"gridcolor\":\"white\",\"linecolor\":\"white\",\"minorgridcolor\":\"white\",\"startlinecolor\":\"#2a3f5f\"},\"type\":\"carpet\"}],\"choropleth\":[{\"colorbar\":{\"outlinewidth\":0,\"ticks\":\"\"},\"type\":\"choropleth\"}],\"contour\":[{\"colorbar\":{\"outlinewidth\":0,\"ticks\":\"\"},\"colorscale\":[[0.0,\"#0d0887\"],[0.1111111111111111,\"#46039f\"],[0.2222222222222222,\"#7201a8\"],[0.3333333333333333,\"#9c179e\"],[0.4444444444444444,\"#bd3786\"],[0.5555555555555556,\"#d8576b\"],[0.6666666666666666,\"#ed7953\"],[0.7777777777777778,\"#fb9f3a\"],[0.8888888888888888,\"#fdca26\"],[1.0,\"#f0f921\"]],\"type\":\"contour\"}],\"contourcarpet\":[{\"colorbar\":{\"outlinewidth\":0,\"ticks\":\"\"},\"type\":\"contourcarpet\"}],\"heatmap\":[{\"colorbar\":{\"outlinewidth\":0,\"ticks\":\"\"},\"colorscale\":[[0.0,\"#0d0887\"],[0.1111111111111111,\"#46039f\"],[0.2222222222222222,\"#7201a8\"],[0.3333333333333333,\"#9c179e\"],[0.4444444444444444,\"#bd3786\"],[0.5555555555555556,\"#d8576b\"],[0.6666666666666666,\"#ed7953\"],[0.7777777777777778,\"#fb9f3a\"],[0.8888888888888888,\"#fdca26\"],[1.0,\"#f0f921\"]],\"type\":\"heatmap\"}],\"heatmapgl\":[{\"colorbar\":{\"outlinewidth\":0,\"ticks\":\"\"},\"colorscale\":[[0.0,\"#0d0887\"],[0.1111111111111111,\"#46039f\"],[0.2222222222222222,\"#7201a8\"],[0.3333333333333333,\"#9c179e\"],[0.4444444444444444,\"#bd3786\"],[0.5555555555555556,\"#d8576b\"],[0.6666666666666666,\"#ed7953\"],[0.7777777777777778,\"#fb9f3a\"],[0.8888888888888888,\"#fdca26\"],[1.0,\"#f0f921\"]],\"type\":\"heatmapgl\"}],\"histogram\":[{\"marker\":{\"pattern\":{\"fillmode\":\"overlay\",\"size\":10,\"solidity\":0.2}},\"type\":\"histogram\"}],\"histogram2d\":[{\"colorbar\":{\"outlinewidth\":0,\"ticks\":\"\"},\"colorscale\":[[0.0,\"#0d0887\"],[0.1111111111111111,\"#46039f\"],[0.2222222222222222,\"#7201a8\"],[0.3333333333333333,\"#9c179e\"],[0.4444444444444444,\"#bd3786\"],[0.5555555555555556,\"#d8576b\"],[0.6666666666666666,\"#ed7953\"],[0.7777777777777778,\"#fb9f3a\"],[0.8888888888888888,\"#fdca26\"],[1.0,\"#f0f921\"]],\"type\":\"histogram2d\"}],\"histogram2dcontour\":[{\"colorbar\":{\"outlinewidth\":0,\"ticks\":\"\"},\"colorscale\":[[0.0,\"#0d0887\"],[0.1111111111111111,\"#46039f\"],[0.2222222222222222,\"#7201a8\"],[0.3333333333333333,\"#9c179e\"],[0.4444444444444444,\"#bd3786\"],[0.5555555555555556,\"#d8576b\"],[0.6666666666666666,\"#ed7953\"],[0.7777777777777778,\"#fb9f3a\"],[0.8888888888888888,\"#fdca26\"],[1.0,\"#f0f921\"]],\"type\":\"histogram2dcontour\"}],\"mesh3d\":[{\"colorbar\":{\"outlinewidth\":0,\"ticks\":\"\"},\"type\":\"mesh3d\"}],\"parcoords\":[{\"line\":{\"colorbar\":{\"outlinewidth\":0,\"ticks\":\"\"}},\"type\":\"parcoords\"}],\"pie\":[{\"automargin\":true,\"type\":\"pie\"}],\"scatter\":[{\"marker\":{\"colorbar\":{\"outlinewidth\":0,\"ticks\":\"\"}},\"type\":\"scatter\"}],\"scatter3d\":[{\"line\":{\"colorbar\":{\"outlinewidth\":0,\"ticks\":\"\"}},\"marker\":{\"colorbar\":{\"outlinewidth\":0,\"ticks\":\"\"}},\"type\":\"scatter3d\"}],\"scattercarpet\":[{\"marker\":{\"colorbar\":{\"outlinewidth\":0,\"ticks\":\"\"}},\"type\":\"scattercarpet\"}],\"scattergeo\":[{\"marker\":{\"colorbar\":{\"outlinewidth\":0,\"ticks\":\"\"}},\"type\":\"scattergeo\"}],\"scattergl\":[{\"marker\":{\"colorbar\":{\"outlinewidth\":0,\"ticks\":\"\"}},\"type\":\"scattergl\"}],\"scattermapbox\":[{\"marker\":{\"colorbar\":{\"outlinewidth\":0,\"ticks\":\"\"}},\"type\":\"scattermapbox\"}],\"scatterpolar\":[{\"marker\":{\"colorbar\":{\"outlinewidth\":0,\"ticks\":\"\"}},\"type\":\"scatterpolar\"}],\"scatterpolargl\":[{\"marker\":{\"colorbar\":{\"outlinewidth\":0,\"ticks\":\"\"}},\"type\":\"scatterpolargl\"}],\"scatterternary\":[{\"marker\":{\"colorbar\":{\"outlinewidth\":0,\"ticks\":\"\"}},\"type\":\"scatterternary\"}],\"surface\":[{\"colorbar\":{\"outlinewidth\":0,\"ticks\":\"\"},\"colorscale\":[[0.0,\"#0d0887\"],[0.1111111111111111,\"#46039f\"],[0.2222222222222222,\"#7201a8\"],[0.3333333333333333,\"#9c179e\"],[0.4444444444444444,\"#bd3786\"],[0.5555555555555556,\"#d8576b\"],[0.6666666666666666,\"#ed7953\"],[0.7777777777777778,\"#fb9f3a\"],[0.8888888888888888,\"#fdca26\"],[1.0,\"#f0f921\"]],\"type\":\"surface\"}],\"table\":[{\"cells\":{\"fill\":{\"color\":\"#EBF0F8\"},\"line\":{\"color\":\"white\"}},\"header\":{\"fill\":{\"color\":\"#C8D4E3\"},\"line\":{\"color\":\"white\"}},\"type\":\"table\"}]},\"layout\":{\"annotationdefaults\":{\"arrowcolor\":\"#2a3f5f\",\"arrowhead\":0,\"arrowwidth\":1},\"autotypenumbers\":\"strict\",\"coloraxis\":{\"colorbar\":{\"outlinewidth\":0,\"ticks\":\"\"}},\"colorscale\":{\"diverging\":[[0,\"#8e0152\"],[0.1,\"#c51b7d\"],[0.2,\"#de77ae\"],[0.3,\"#f1b6da\"],[0.4,\"#fde0ef\"],[0.5,\"#f7f7f7\"],[0.6,\"#e6f5d0\"],[0.7,\"#b8e186\"],[0.8,\"#7fbc41\"],[0.9,\"#4d9221\"],[1,\"#276419\"]],\"sequential\":[[0.0,\"#0d0887\"],[0.1111111111111111,\"#46039f\"],[0.2222222222222222,\"#7201a8\"],[0.3333333333333333,\"#9c179e\"],[0.4444444444444444,\"#bd3786\"],[0.5555555555555556,\"#d8576b\"],[0.6666666666666666,\"#ed7953\"],[0.7777777777777778,\"#fb9f3a\"],[0.8888888888888888,\"#fdca26\"],[1.0,\"#f0f921\"]],\"sequentialminus\":[[0.0,\"#0d0887\"],[0.1111111111111111,\"#46039f\"],[0.2222222222222222,\"#7201a8\"],[0.3333333333333333,\"#9c179e\"],[0.4444444444444444,\"#bd3786\"],[0.5555555555555556,\"#d8576b\"],[0.6666666666666666,\"#ed7953\"],[0.7777777777777778,\"#fb9f3a\"],[0.8888888888888888,\"#fdca26\"],[1.0,\"#f0f921\"]]},\"colorway\":[\"#636efa\",\"#EF553B\",\"#00cc96\",\"#ab63fa\",\"#FFA15A\",\"#19d3f3\",\"#FF6692\",\"#B6E880\",\"#FF97FF\",\"#FECB52\"],\"font\":{\"color\":\"#2a3f5f\"},\"geo\":{\"bgcolor\":\"white\",\"lakecolor\":\"white\",\"landcolor\":\"#E5ECF6\",\"showlakes\":true,\"showland\":true,\"subunitcolor\":\"white\"},\"hoverlabel\":{\"align\":\"left\"},\"hovermode\":\"closest\",\"mapbox\":{\"style\":\"light\"},\"paper_bgcolor\":\"white\",\"plot_bgcolor\":\"#E5ECF6\",\"polar\":{\"angularaxis\":{\"gridcolor\":\"white\",\"linecolor\":\"white\",\"ticks\":\"\"},\"bgcolor\":\"#E5ECF6\",\"radialaxis\":{\"gridcolor\":\"white\",\"linecolor\":\"white\",\"ticks\":\"\"}},\"scene\":{\"xaxis\":{\"backgroundcolor\":\"#E5ECF6\",\"gridcolor\":\"white\",\"gridwidth\":2,\"linecolor\":\"white\",\"showbackground\":true,\"ticks\":\"\",\"zerolinecolor\":\"white\"},\"yaxis\":{\"backgroundcolor\":\"#E5ECF6\",\"gridcolor\":\"white\",\"gridwidth\":2,\"linecolor\":\"white\",\"showbackground\":true,\"ticks\":\"\",\"zerolinecolor\":\"white\"},\"zaxis\":{\"backgroundcolor\":\"#E5ECF6\",\"gridcolor\":\"white\",\"gridwidth\":2,\"linecolor\":\"white\",\"showbackground\":true,\"ticks\":\"\",\"zerolinecolor\":\"white\"}},\"shapedefaults\":{\"line\":{\"color\":\"#2a3f5f\"}},\"ternary\":{\"aaxis\":{\"gridcolor\":\"white\",\"linecolor\":\"white\",\"ticks\":\"\"},\"baxis\":{\"gridcolor\":\"white\",\"linecolor\":\"white\",\"ticks\":\"\"},\"bgcolor\":\"#E5ECF6\",\"caxis\":{\"gridcolor\":\"white\",\"linecolor\":\"white\",\"ticks\":\"\"}},\"title\":{\"x\":0.05},\"xaxis\":{\"automargin\":true,\"gridcolor\":\"white\",\"linecolor\":\"white\",\"ticks\":\"\",\"title\":{\"standoff\":15},\"zerolinecolor\":\"white\",\"zerolinewidth\":2},\"yaxis\":{\"automargin\":true,\"gridcolor\":\"white\",\"linecolor\":\"white\",\"ticks\":\"\",\"title\":{\"standoff\":15},\"zerolinecolor\":\"white\",\"zerolinewidth\":2}}},\"xaxis\":{\"anchor\":\"y\",\"domain\":[0.0,1.0],\"title\":{\"text\":\"days_from_theatrical\"}},\"yaxis\":{\"anchor\":\"x\",\"domain\":[0.0,1.0],\"title\":{\"text\":\"multiplier\"}},\"legend\":{\"title\":{\"text\":\"observed_medal\"},\"tracegroupgap\":0},\"title\":{\"text\":\"Release day V.S. cumulative viewership\"}},                        {\"responsive\": true}                    ).then(function(){\n",
       "                            \n",
       "var gd = document.getElementById('33151701-daf6-4ecb-9fdc-f6c087b2a875');\n",
       "var x = new MutationObserver(function (mutations, observer) {{\n",
       "        var display = window.getComputedStyle(gd).display;\n",
       "        if (!display || display === 'none') {{\n",
       "            console.log([gd, 'removed!']);\n",
       "            Plotly.purge(gd);\n",
       "            observer.disconnect();\n",
       "        }}\n",
       "}});\n",
       "\n",
       "// Listen for the removal of the full notebook cells\n",
       "var notebookContainer = gd.closest('#notebook-container');\n",
       "if (notebookContainer) {{\n",
       "    x.observe(notebookContainer, {childList: true});\n",
       "}}\n",
       "\n",
       "// Listen for the clearing of the current output cell\n",
       "var outputEl = gd.closest('.output');\n",
       "if (outputEl) {{\n",
       "    x.observe(outputEl, {childList: true});\n",
       "}}\n",
       "\n",
       "                        })                };                });            </script>        </div>"
      ]
     },
     "metadata": {},
     "output_type": "display_data"
    }
   ],
   "source": [
    "plot_df = scoring_data.groupby(['days_from_theatrical', 'observed_medal']).mean().reset_index()\n",
    "fig = px.line(plot_df, x=\"days_from_theatrical\", y=\"multiplier\", color = 'observed_medal',\n",
    "              title='Release day V.S. cumulative viewership')\n",
    "fig.show()"
   ]
  },
  {
   "cell_type": "code",
   "execution_count": 203,
   "id": "1f6d4738",
   "metadata": {},
   "outputs": [
    {
     "name": "stderr",
     "output_type": "stream",
     "text": [
      "/home/ec2-user/anaconda3/envs/python3/lib/python3.6/site-packages/boto3/compat.py:88: PythonDeprecationWarning:\n",
      "\n",
      "Boto3 will no longer support Python 3.6 starting May 30, 2022. To continue receiving service updates, bug fixes, and security updates please upgrade to Python 3.7 or later. More information can be found here: https://aws.amazon.com/blogs/developer/python-support-policy-updates-for-aws-sdks-and-tools/\n",
      "\n"
     ]
    }
   ],
   "source": [
    "write_to_sf(scoring_data[OUTPUT_COLS], 'low_budget_medal_level_subs')"
   ]
  },
  {
   "cell_type": "markdown",
   "id": "4fba6896",
   "metadata": {},
   "source": [
    "# 2. First Views"
   ]
  },
  {
   "cell_type": "code",
   "execution_count": 212,
   "id": "45009fc5",
   "metadata": {},
   "outputs": [],
   "source": [
    "training_data['log_cumulative_first_views'] = np.log10(training_data['cumulative_first_views']-40)"
   ]
  },
  {
   "cell_type": "code",
   "execution_count": 213,
   "id": "a1a501fd",
   "metadata": {},
   "outputs": [],
   "source": [
    "# training_data['power_cumulative_first_views'] = np.power(training_data['cumulative_first_views'], (1/4))"
   ]
  },
  {
   "cell_type": "code",
   "execution_count": 214,
   "id": "1858f311",
   "metadata": {},
   "outputs": [],
   "source": [
    "FEATURE_COLS = ['days_from_theatrical', 'medal_number']\n",
    "                #, 'genre_Horror ', 'genre_Kids/Family', 'genre_Romance', 'genre_Sci-Fi', 'genre_Suspense/Thriller', 'medal_Bronze', 'medal_Gold'"
   ]
  },
  {
   "cell_type": "code",
   "execution_count": 215,
   "id": "7bb46f8d",
   "metadata": {},
   "outputs": [],
   "source": [
    "TARGET_COL = ['log_cumulative_first_views'] # cumulative_first_views"
   ]
  },
  {
   "cell_type": "markdown",
   "id": "ca318840",
   "metadata": {},
   "source": [
    "## 2.1 Cross Validation"
   ]
  },
  {
   "cell_type": "code",
   "execution_count": 216,
   "id": "8c673c88",
   "metadata": {},
   "outputs": [],
   "source": [
    "def cal_error(validation_set):\n",
    "    error_col = (validation_set['pred']-validation_set[TARGET_COL[0]]).abs()/validation_set[TARGET_COL[0]].abs()\n",
    "    return error_col.mean()"
   ]
  },
  {
   "cell_type": "markdown",
   "id": "9218c320",
   "metadata": {},
   "source": [
    "### 2.11 Random Forest CV - Bench Mark"
   ]
  },
  {
   "cell_type": "code",
   "execution_count": 118,
   "id": "2051b939",
   "metadata": {},
   "outputs": [],
   "source": [
    "num_folds = len(training_data['title_id'].unique())\n",
    "group_kfold = GroupKFold(n_splits=num_folds)"
   ]
  },
  {
   "cell_type": "code",
   "execution_count": 119,
   "id": "98968c2c",
   "metadata": {},
   "outputs": [
    {
     "data": {
      "text/plain": [
       "24"
      ]
     },
     "execution_count": 119,
     "metadata": {},
     "output_type": "execute_result"
    }
   ],
   "source": [
    "num_folds"
   ]
  },
  {
   "cell_type": "code",
   "execution_count": 120,
   "id": "de29726c",
   "metadata": {},
   "outputs": [
    {
     "data": {
      "text/html": [
       "<div>\n",
       "<style scoped>\n",
       "    .dataframe tbody tr th:only-of-type {\n",
       "        vertical-align: middle;\n",
       "    }\n",
       "\n",
       "    .dataframe tbody tr th {\n",
       "        vertical-align: top;\n",
       "    }\n",
       "\n",
       "    .dataframe thead th {\n",
       "        text-align: right;\n",
       "    }\n",
       "</style>\n",
       "<table border=\"1\" class=\"dataframe\">\n",
       "  <thead>\n",
       "    <tr style=\"text-align: right;\">\n",
       "      <th></th>\n",
       "      <th>Unnamed: 0</th>\n",
       "      <th>title_name</th>\n",
       "      <th>title_id</th>\n",
       "      <th>primary_genre_desc</th>\n",
       "      <th>program_type</th>\n",
       "      <th>theatrical_release_date</th>\n",
       "      <th>asset_run_time</th>\n",
       "      <th>offering_start_date</th>\n",
       "      <th>offering_end_date</th>\n",
       "      <th>is_direct_to_max_title</th>\n",
       "      <th>licensor</th>\n",
       "      <th>observed_medal</th>\n",
       "      <th>days_on_hbo_max</th>\n",
       "      <th>cumulative_viewing_subs</th>\n",
       "      <th>cumulative_first_views</th>\n",
       "      <th>percent_cumulative_viewing_subscribers</th>\n",
       "      <th>percent_cumulative_first_views</th>\n",
       "      <th>imdb_id</th>\n",
       "      <th>area_gross</th>\n",
       "      <th>budget</th>\n",
       "      <th>days_from_theatrical</th>\n",
       "      <th>genre_action</th>\n",
       "      <th>genre_comedy</th>\n",
       "      <th>genre_crime</th>\n",
       "      <th>genre_drama</th>\n",
       "      <th>genre_fantasy &amp; sci-fi</th>\n",
       "      <th>genre_horror</th>\n",
       "      <th>medal_Bronze</th>\n",
       "      <th>medal_Gold</th>\n",
       "      <th>medal_Platinum</th>\n",
       "      <th>medal_Silver</th>\n",
       "      <th>medal_number</th>\n",
       "      <th>log_cumulative_first_views</th>\n",
       "      <th>log_cumulative_viewing_subs</th>\n",
       "    </tr>\n",
       "  </thead>\n",
       "  <tbody>\n",
       "    <tr>\n",
       "      <th>0</th>\n",
       "      <td>0</td>\n",
       "      <td>A Christmas Mystery</td>\n",
       "      <td>GY2QUhg4BOJ_DwgEAAAD-</td>\n",
       "      <td>comedy</td>\n",
       "      <td>acquired</td>\n",
       "      <td>2022-11-24</td>\n",
       "      <td>5,224.00</td>\n",
       "      <td>2022-11-24 08:01:00</td>\n",
       "      <td>2026-05-06 03:59:00</td>\n",
       "      <td>1</td>\n",
       "      <td>Warner Bros. Inc., Warner Media Direct, LLC</td>\n",
       "      <td>Bronze</td>\n",
       "      <td>90.00</td>\n",
       "      <td>670,922.00</td>\n",
       "      <td>3,898.00</td>\n",
       "      <td>2.13</td>\n",
       "      <td>0.08</td>\n",
       "      <td>tt22207152</td>\n",
       "      <td>nan</td>\n",
       "      <td>nan</td>\n",
       "      <td>0</td>\n",
       "      <td>0</td>\n",
       "      <td>1</td>\n",
       "      <td>0</td>\n",
       "      <td>0</td>\n",
       "      <td>0</td>\n",
       "      <td>0</td>\n",
       "      <td>1</td>\n",
       "      <td>0</td>\n",
       "      <td>0</td>\n",
       "      <td>0</td>\n",
       "      <td>3</td>\n",
       "      <td>3.59</td>\n",
       "      <td>5.82</td>\n",
       "    </tr>\n",
       "    <tr>\n",
       "      <th>1</th>\n",
       "      <td>1</td>\n",
       "      <td>The Kitchen</td>\n",
       "      <td>GXhzsZA8cqx_DTgEAAADY</td>\n",
       "      <td>crime</td>\n",
       "      <td>acquired</td>\n",
       "      <td>2019-09-20</td>\n",
       "      <td>6,153.00</td>\n",
       "      <td>2020-03-29 00:00:00</td>\n",
       "      <td>2020-12-01 10:59:00</td>\n",
       "      <td>0</td>\n",
       "      <td>WARNER BROS. INC.</td>\n",
       "      <td>Bronze</td>\n",
       "      <td>90.00</td>\n",
       "      <td>39,837.00</td>\n",
       "      <td>2,045.00</td>\n",
       "      <td>0.51</td>\n",
       "      <td>0.03</td>\n",
       "      <td>tt5822564</td>\n",
       "      <td>5,527,410.00</td>\n",
       "      <td>38,000,000.00</td>\n",
       "      <td>191</td>\n",
       "      <td>0</td>\n",
       "      <td>0</td>\n",
       "      <td>1</td>\n",
       "      <td>0</td>\n",
       "      <td>0</td>\n",
       "      <td>0</td>\n",
       "      <td>1</td>\n",
       "      <td>0</td>\n",
       "      <td>0</td>\n",
       "      <td>0</td>\n",
       "      <td>3</td>\n",
       "      <td>3.30</td>\n",
       "      <td>4.49</td>\n",
       "    </tr>\n",
       "    <tr>\n",
       "      <th>2</th>\n",
       "      <td>2</td>\n",
       "      <td>The Good Liar</td>\n",
       "      <td>GXpTQtgV6ax-auwEAABc3</td>\n",
       "      <td>crime</td>\n",
       "      <td>acquired</td>\n",
       "      <td>2019-11-15</td>\n",
       "      <td>6,574.00</td>\n",
       "      <td>2020-06-14 00:00:00</td>\n",
       "      <td>2021-03-01 10:59:00</td>\n",
       "      <td>0</td>\n",
       "      <td>WARNER BROS. INC.</td>\n",
       "      <td>Bronze</td>\n",
       "      <td>90.00</td>\n",
       "      <td>186,115.00</td>\n",
       "      <td>10,519.00</td>\n",
       "      <td>2.22</td>\n",
       "      <td>0.18</td>\n",
       "      <td>tt5563334</td>\n",
       "      <td>5,605,051.00</td>\n",
       "      <td>10,000,000.00</td>\n",
       "      <td>212</td>\n",
       "      <td>0</td>\n",
       "      <td>0</td>\n",
       "      <td>1</td>\n",
       "      <td>0</td>\n",
       "      <td>0</td>\n",
       "      <td>0</td>\n",
       "      <td>1</td>\n",
       "      <td>0</td>\n",
       "      <td>0</td>\n",
       "      <td>0</td>\n",
       "      <td>3</td>\n",
       "      <td>4.02</td>\n",
       "      <td>5.25</td>\n",
       "    </tr>\n",
       "    <tr>\n",
       "      <th>3</th>\n",
       "      <td>3</td>\n",
       "      <td>Moonshot</td>\n",
       "      <td>GYhfK9AxT1KKnnQEAAADT</td>\n",
       "      <td>comedy</td>\n",
       "      <td>acquired</td>\n",
       "      <td>2022-03-31</td>\n",
       "      <td>6,123.00</td>\n",
       "      <td>2022-03-31 07:01:00</td>\n",
       "      <td>2022-07-01 03:59:00</td>\n",
       "      <td>1</td>\n",
       "      <td>Warner Bros. Domestic Television Distribution,...</td>\n",
       "      <td>Silver</td>\n",
       "      <td>90.00</td>\n",
       "      <td>1,791,406.00</td>\n",
       "      <td>10,045.00</td>\n",
       "      <td>6.01</td>\n",
       "      <td>0.25</td>\n",
       "      <td>tt12585076</td>\n",
       "      <td>nan</td>\n",
       "      <td>nan</td>\n",
       "      <td>0</td>\n",
       "      <td>0</td>\n",
       "      <td>1</td>\n",
       "      <td>0</td>\n",
       "      <td>0</td>\n",
       "      <td>0</td>\n",
       "      <td>0</td>\n",
       "      <td>0</td>\n",
       "      <td>0</td>\n",
       "      <td>0</td>\n",
       "      <td>1</td>\n",
       "      <td>2</td>\n",
       "      <td>4.00</td>\n",
       "      <td>6.25</td>\n",
       "    </tr>\n",
       "    <tr>\n",
       "      <th>4</th>\n",
       "      <td>4</td>\n",
       "      <td>Lights Out</td>\n",
       "      <td>GWZsaUQkr0bXCLwEAAABn</td>\n",
       "      <td>horror</td>\n",
       "      <td>acquired</td>\n",
       "      <td>2016-07-22</td>\n",
       "      <td>4,755.00</td>\n",
       "      <td>2020-06-01 10:00:00</td>\n",
       "      <td>2020-12-11 10:59:00</td>\n",
       "      <td>0</td>\n",
       "      <td>WARNER BROS. INC.</td>\n",
       "      <td>Bronze</td>\n",
       "      <td>90.00</td>\n",
       "      <td>57,023.00</td>\n",
       "      <td>1,956.00</td>\n",
       "      <td>0.72</td>\n",
       "      <td>0.03</td>\n",
       "      <td>tt4786282</td>\n",
       "      <td>21,688,103.00</td>\n",
       "      <td>4,900,000.00</td>\n",
       "      <td>1410</td>\n",
       "      <td>0</td>\n",
       "      <td>0</td>\n",
       "      <td>0</td>\n",
       "      <td>0</td>\n",
       "      <td>0</td>\n",
       "      <td>1</td>\n",
       "      <td>1</td>\n",
       "      <td>0</td>\n",
       "      <td>0</td>\n",
       "      <td>0</td>\n",
       "      <td>3</td>\n",
       "      <td>3.28</td>\n",
       "      <td>4.68</td>\n",
       "    </tr>\n",
       "  </tbody>\n",
       "</table>\n",
       "</div>"
      ],
      "text/plain": [
       "   Unnamed: 0           title_name               title_id primary_genre_desc  \\\n",
       "0           0  A Christmas Mystery  GY2QUhg4BOJ_DwgEAAAD-             comedy   \n",
       "1           1          The Kitchen  GXhzsZA8cqx_DTgEAAADY              crime   \n",
       "2           2        The Good Liar  GXpTQtgV6ax-auwEAABc3              crime   \n",
       "3           3             Moonshot  GYhfK9AxT1KKnnQEAAADT             comedy   \n",
       "4           4           Lights Out  GWZsaUQkr0bXCLwEAAABn             horror   \n",
       "\n",
       "  program_type theatrical_release_date  asset_run_time  offering_start_date  \\\n",
       "0     acquired              2022-11-24        5,224.00  2022-11-24 08:01:00   \n",
       "1     acquired              2019-09-20        6,153.00  2020-03-29 00:00:00   \n",
       "2     acquired              2019-11-15        6,574.00  2020-06-14 00:00:00   \n",
       "3     acquired              2022-03-31        6,123.00  2022-03-31 07:01:00   \n",
       "4     acquired              2016-07-22        4,755.00  2020-06-01 10:00:00   \n",
       "\n",
       "     offering_end_date  is_direct_to_max_title  \\\n",
       "0  2026-05-06 03:59:00                       1   \n",
       "1  2020-12-01 10:59:00                       0   \n",
       "2  2021-03-01 10:59:00                       0   \n",
       "3  2022-07-01 03:59:00                       1   \n",
       "4  2020-12-11 10:59:00                       0   \n",
       "\n",
       "                                            licensor observed_medal  \\\n",
       "0        Warner Bros. Inc., Warner Media Direct, LLC         Bronze   \n",
       "1                                  WARNER BROS. INC.         Bronze   \n",
       "2                                  WARNER BROS. INC.         Bronze   \n",
       "3  Warner Bros. Domestic Television Distribution,...         Silver   \n",
       "4                                  WARNER BROS. INC.         Bronze   \n",
       "\n",
       "   days_on_hbo_max  cumulative_viewing_subs  cumulative_first_views  \\\n",
       "0            90.00               670,922.00                3,898.00   \n",
       "1            90.00                39,837.00                2,045.00   \n",
       "2            90.00               186,115.00               10,519.00   \n",
       "3            90.00             1,791,406.00               10,045.00   \n",
       "4            90.00                57,023.00                1,956.00   \n",
       "\n",
       "   percent_cumulative_viewing_subscribers  percent_cumulative_first_views  \\\n",
       "0                                    2.13                            0.08   \n",
       "1                                    0.51                            0.03   \n",
       "2                                    2.22                            0.18   \n",
       "3                                    6.01                            0.25   \n",
       "4                                    0.72                            0.03   \n",
       "\n",
       "      imdb_id    area_gross        budget  days_from_theatrical  genre_action  \\\n",
       "0  tt22207152           nan           nan                     0             0   \n",
       "1   tt5822564  5,527,410.00 38,000,000.00                   191             0   \n",
       "2   tt5563334  5,605,051.00 10,000,000.00                   212             0   \n",
       "3  tt12585076           nan           nan                     0             0   \n",
       "4   tt4786282 21,688,103.00  4,900,000.00                  1410             0   \n",
       "\n",
       "   genre_comedy  genre_crime  genre_drama  genre_fantasy & sci-fi  \\\n",
       "0             1            0            0                       0   \n",
       "1             0            1            0                       0   \n",
       "2             0            1            0                       0   \n",
       "3             1            0            0                       0   \n",
       "4             0            0            0                       0   \n",
       "\n",
       "   genre_horror  medal_Bronze  medal_Gold  medal_Platinum  medal_Silver  \\\n",
       "0             0             1           0               0             0   \n",
       "1             0             1           0               0             0   \n",
       "2             0             1           0               0             0   \n",
       "3             0             0           0               0             1   \n",
       "4             1             1           0               0             0   \n",
       "\n",
       "   medal_number  log_cumulative_first_views  log_cumulative_viewing_subs  \n",
       "0             3                        3.59                         5.82  \n",
       "1             3                        3.30                         4.49  \n",
       "2             3                        4.02                         5.25  \n",
       "3             2                        4.00                         6.25  \n",
       "4             3                        3.28                         4.68  "
      ]
     },
     "execution_count": 120,
     "metadata": {},
     "output_type": "execute_result"
    }
   ],
   "source": [
    "training_data.head()"
   ]
  },
  {
   "cell_type": "code",
   "execution_count": 121,
   "id": "0da1a898",
   "metadata": {
    "collapsed": true,
    "jupyter": {
     "outputs_hidden": true
    }
   },
   "outputs": [
    {
     "name": "stdout",
     "output_type": "stream",
     "text": [
      "Validation Title: Eraser: Reborn\n",
      "Validation Title: The Secret Life of Walter Mitty\n"
     ]
    },
    {
     "ename": "KeyboardInterrupt",
     "evalue": "",
     "output_type": "error",
     "traceback": [
      "\u001b[0;31m---------------------------------------------------------------------------\u001b[0m",
      "\u001b[0;31mKeyboardInterrupt\u001b[0m                         Traceback (most recent call last)",
      "\u001b[0;32m<ipython-input-121-b8291dc3a8ae>\u001b[0m in \u001b[0;36m<module>\u001b[0;34m\u001b[0m\n\u001b[1;32m     11\u001b[0m         \u001b[0my_train\u001b[0m\u001b[0;34m,\u001b[0m \u001b[0my_test\u001b[0m \u001b[0;34m=\u001b[0m \u001b[0mtrain_df\u001b[0m\u001b[0;34m[\u001b[0m\u001b[0mTARGET_COL\u001b[0m\u001b[0;34m]\u001b[0m\u001b[0;34m,\u001b[0m \u001b[0mtest_df\u001b[0m\u001b[0;34m[\u001b[0m\u001b[0mTARGET_COL\u001b[0m\u001b[0;34m]\u001b[0m\u001b[0;34m\u001b[0m\u001b[0;34m\u001b[0m\u001b[0m\n\u001b[1;32m     12\u001b[0m \u001b[0;34m\u001b[0m\u001b[0m\n\u001b[0;32m---> 13\u001b[0;31m         \u001b[0mmodel\u001b[0m\u001b[0;34m.\u001b[0m\u001b[0mfit\u001b[0m\u001b[0;34m(\u001b[0m\u001b[0mX_train\u001b[0m\u001b[0;34m,\u001b[0m \u001b[0my_train\u001b[0m\u001b[0;34m)\u001b[0m\u001b[0;34m\u001b[0m\u001b[0;34m\u001b[0m\u001b[0m\n\u001b[0m\u001b[1;32m     14\u001b[0m         \u001b[0mpred\u001b[0m \u001b[0;34m=\u001b[0m \u001b[0mmodel\u001b[0m\u001b[0;34m.\u001b[0m\u001b[0mpredict\u001b[0m\u001b[0;34m(\u001b[0m\u001b[0mX_test\u001b[0m\u001b[0;34m)\u001b[0m\u001b[0;34m\u001b[0m\u001b[0;34m\u001b[0m\u001b[0m\n\u001b[1;32m     15\u001b[0m         \u001b[0mpred\u001b[0m \u001b[0;34m=\u001b[0m \u001b[0mpd\u001b[0m\u001b[0;34m.\u001b[0m\u001b[0mDataFrame\u001b[0m\u001b[0;34m(\u001b[0m\u001b[0mpred\u001b[0m\u001b[0;34m)\u001b[0m\u001b[0;34m\u001b[0m\u001b[0;34m\u001b[0m\u001b[0m\n",
      "\u001b[0;32m~/anaconda3/envs/python3/lib/python3.6/site-packages/xgboost/core.py\u001b[0m in \u001b[0;36minner_f\u001b[0;34m(*args, **kwargs)\u001b[0m\n\u001b[1;32m    504\u001b[0m         \u001b[0;32mfor\u001b[0m \u001b[0mk\u001b[0m\u001b[0;34m,\u001b[0m \u001b[0marg\u001b[0m \u001b[0;32min\u001b[0m \u001b[0mzip\u001b[0m\u001b[0;34m(\u001b[0m\u001b[0msig\u001b[0m\u001b[0;34m.\u001b[0m\u001b[0mparameters\u001b[0m\u001b[0;34m,\u001b[0m \u001b[0margs\u001b[0m\u001b[0;34m)\u001b[0m\u001b[0;34m:\u001b[0m\u001b[0;34m\u001b[0m\u001b[0;34m\u001b[0m\u001b[0m\n\u001b[1;32m    505\u001b[0m             \u001b[0mkwargs\u001b[0m\u001b[0;34m[\u001b[0m\u001b[0mk\u001b[0m\u001b[0;34m]\u001b[0m \u001b[0;34m=\u001b[0m \u001b[0marg\u001b[0m\u001b[0;34m\u001b[0m\u001b[0;34m\u001b[0m\u001b[0m\n\u001b[0;32m--> 506\u001b[0;31m         \u001b[0;32mreturn\u001b[0m \u001b[0mf\u001b[0m\u001b[0;34m(\u001b[0m\u001b[0;34m**\u001b[0m\u001b[0mkwargs\u001b[0m\u001b[0;34m)\u001b[0m\u001b[0;34m\u001b[0m\u001b[0;34m\u001b[0m\u001b[0m\n\u001b[0m\u001b[1;32m    507\u001b[0m \u001b[0;34m\u001b[0m\u001b[0m\n\u001b[1;32m    508\u001b[0m     \u001b[0;32mreturn\u001b[0m \u001b[0minner_f\u001b[0m\u001b[0;34m\u001b[0m\u001b[0;34m\u001b[0m\u001b[0m\n",
      "\u001b[0;32m~/anaconda3/envs/python3/lib/python3.6/site-packages/xgboost/sklearn.py\u001b[0m in \u001b[0;36mfit\u001b[0;34m(self, X, y, sample_weight, base_margin, eval_set, eval_metric, early_stopping_rounds, verbose, xgb_model, sample_weight_eval_set, base_margin_eval_set, feature_weights, callbacks)\u001b[0m\n\u001b[1;32m    798\u001b[0m             \u001b[0mverbose_eval\u001b[0m\u001b[0;34m=\u001b[0m\u001b[0mverbose\u001b[0m\u001b[0;34m,\u001b[0m\u001b[0;34m\u001b[0m\u001b[0;34m\u001b[0m\u001b[0m\n\u001b[1;32m    799\u001b[0m             \u001b[0mxgb_model\u001b[0m\u001b[0;34m=\u001b[0m\u001b[0mmodel\u001b[0m\u001b[0;34m,\u001b[0m\u001b[0;34m\u001b[0m\u001b[0;34m\u001b[0m\u001b[0m\n\u001b[0;32m--> 800\u001b[0;31m             \u001b[0mcallbacks\u001b[0m\u001b[0;34m=\u001b[0m\u001b[0mcallbacks\u001b[0m\u001b[0;34m,\u001b[0m\u001b[0;34m\u001b[0m\u001b[0;34m\u001b[0m\u001b[0m\n\u001b[0m\u001b[1;32m    801\u001b[0m         )\n\u001b[1;32m    802\u001b[0m \u001b[0;34m\u001b[0m\u001b[0m\n",
      "\u001b[0;32m~/anaconda3/envs/python3/lib/python3.6/site-packages/xgboost/training.py\u001b[0m in \u001b[0;36mtrain\u001b[0;34m(params, dtrain, num_boost_round, evals, obj, feval, maximize, early_stopping_rounds, evals_result, verbose_eval, xgb_model, callbacks)\u001b[0m\n\u001b[1;32m    194\u001b[0m                           \u001b[0mevals_result\u001b[0m\u001b[0;34m=\u001b[0m\u001b[0mevals_result\u001b[0m\u001b[0;34m,\u001b[0m\u001b[0;34m\u001b[0m\u001b[0;34m\u001b[0m\u001b[0m\n\u001b[1;32m    195\u001b[0m                           \u001b[0mmaximize\u001b[0m\u001b[0;34m=\u001b[0m\u001b[0mmaximize\u001b[0m\u001b[0;34m,\u001b[0m\u001b[0;34m\u001b[0m\u001b[0;34m\u001b[0m\u001b[0m\n\u001b[0;32m--> 196\u001b[0;31m                           early_stopping_rounds=early_stopping_rounds)\n\u001b[0m\u001b[1;32m    197\u001b[0m     \u001b[0;32mreturn\u001b[0m \u001b[0mbst\u001b[0m\u001b[0;34m\u001b[0m\u001b[0;34m\u001b[0m\u001b[0m\n\u001b[1;32m    198\u001b[0m \u001b[0;34m\u001b[0m\u001b[0m\n",
      "\u001b[0;32m~/anaconda3/envs/python3/lib/python3.6/site-packages/xgboost/training.py\u001b[0m in \u001b[0;36m_train_internal\u001b[0;34m(params, dtrain, num_boost_round, evals, obj, feval, xgb_model, callbacks, evals_result, maximize, verbose_eval, early_stopping_rounds)\u001b[0m\n\u001b[1;32m     79\u001b[0m         \u001b[0;32mif\u001b[0m \u001b[0mcallbacks\u001b[0m\u001b[0;34m.\u001b[0m\u001b[0mbefore_iteration\u001b[0m\u001b[0;34m(\u001b[0m\u001b[0mbst\u001b[0m\u001b[0;34m,\u001b[0m \u001b[0mi\u001b[0m\u001b[0;34m,\u001b[0m \u001b[0mdtrain\u001b[0m\u001b[0;34m,\u001b[0m \u001b[0mevals\u001b[0m\u001b[0;34m)\u001b[0m\u001b[0;34m:\u001b[0m\u001b[0;34m\u001b[0m\u001b[0;34m\u001b[0m\u001b[0m\n\u001b[1;32m     80\u001b[0m             \u001b[0;32mbreak\u001b[0m\u001b[0;34m\u001b[0m\u001b[0;34m\u001b[0m\u001b[0m\n\u001b[0;32m---> 81\u001b[0;31m         \u001b[0mbst\u001b[0m\u001b[0;34m.\u001b[0m\u001b[0mupdate\u001b[0m\u001b[0;34m(\u001b[0m\u001b[0mdtrain\u001b[0m\u001b[0;34m,\u001b[0m \u001b[0mi\u001b[0m\u001b[0;34m,\u001b[0m \u001b[0mobj\u001b[0m\u001b[0;34m)\u001b[0m\u001b[0;34m\u001b[0m\u001b[0;34m\u001b[0m\u001b[0m\n\u001b[0m\u001b[1;32m     82\u001b[0m         \u001b[0;32mif\u001b[0m \u001b[0mcallbacks\u001b[0m\u001b[0;34m.\u001b[0m\u001b[0mafter_iteration\u001b[0m\u001b[0;34m(\u001b[0m\u001b[0mbst\u001b[0m\u001b[0;34m,\u001b[0m \u001b[0mi\u001b[0m\u001b[0;34m,\u001b[0m \u001b[0mdtrain\u001b[0m\u001b[0;34m,\u001b[0m \u001b[0mevals\u001b[0m\u001b[0;34m)\u001b[0m\u001b[0;34m:\u001b[0m\u001b[0;34m\u001b[0m\u001b[0;34m\u001b[0m\u001b[0m\n\u001b[1;32m     83\u001b[0m             \u001b[0;32mbreak\u001b[0m\u001b[0;34m\u001b[0m\u001b[0;34m\u001b[0m\u001b[0m\n",
      "\u001b[0;32m~/anaconda3/envs/python3/lib/python3.6/site-packages/xgboost/core.py\u001b[0m in \u001b[0;36mupdate\u001b[0;34m(self, dtrain, iteration, fobj)\u001b[0m\n\u001b[1;32m   1680\u001b[0m             _check_call(_LIB.XGBoosterUpdateOneIter(self.handle,\n\u001b[1;32m   1681\u001b[0m                                                     \u001b[0mctypes\u001b[0m\u001b[0;34m.\u001b[0m\u001b[0mc_int\u001b[0m\u001b[0;34m(\u001b[0m\u001b[0miteration\u001b[0m\u001b[0;34m)\u001b[0m\u001b[0;34m,\u001b[0m\u001b[0;34m\u001b[0m\u001b[0;34m\u001b[0m\u001b[0m\n\u001b[0;32m-> 1682\u001b[0;31m                                                     dtrain.handle))\n\u001b[0m\u001b[1;32m   1683\u001b[0m         \u001b[0;32melse\u001b[0m\u001b[0;34m:\u001b[0m\u001b[0;34m\u001b[0m\u001b[0;34m\u001b[0m\u001b[0m\n\u001b[1;32m   1684\u001b[0m             \u001b[0mpred\u001b[0m \u001b[0;34m=\u001b[0m \u001b[0mself\u001b[0m\u001b[0;34m.\u001b[0m\u001b[0mpredict\u001b[0m\u001b[0;34m(\u001b[0m\u001b[0mdtrain\u001b[0m\u001b[0;34m,\u001b[0m \u001b[0moutput_margin\u001b[0m\u001b[0;34m=\u001b[0m\u001b[0;32mTrue\u001b[0m\u001b[0;34m,\u001b[0m \u001b[0mtraining\u001b[0m\u001b[0;34m=\u001b[0m\u001b[0;32mTrue\u001b[0m\u001b[0;34m)\u001b[0m\u001b[0;34m\u001b[0m\u001b[0;34m\u001b[0m\u001b[0m\n",
      "\u001b[0;31mKeyboardInterrupt\u001b[0m: "
     ]
    }
   ],
   "source": [
    "validation_set = pd.DataFrame()\n",
    "feature_importances = pd.DataFrame()\n",
    "model = XGBRegressor(n_estimators=1000, max_depth=7, eta=0.1, subsample=0.7, colsample_bytree=0.8)\n",
    "\n",
    "for train_index, test_index in group_kfold.split(training_data, groups=training_data['title_id'].values):\n",
    "    train_df, test_df = training_data.iloc[train_index], training_data.iloc[test_index]\n",
    "    print (\"Validation Title: \" + test_df['title_name'].values[0])\n",
    "    try:\n",
    "        ## fit_predict prelaunch model\n",
    "        X_train, X_test = train_df[FEATURE_COLS], test_df[FEATURE_COLS]\n",
    "        y_train, y_test = train_df[TARGET_COL], test_df[TARGET_COL]\n",
    "\n",
    "        model.fit(X_train, y_train)\n",
    "        pred = model.predict(X_test)\n",
    "        pred = pd.DataFrame(pred)\n",
    "        pred.columns = ['pred']\n",
    "        test_df.reset_index(inplace = True, drop = True)\n",
    "        test_df = pd.concat([test_df, pred], axis = 1)\n",
    "        validation_set = pd.concat([validation_set, test_df], axis = 0)\n",
    "\n",
    "#         fi = model.feature_importances_\n",
    "#         fi_df = pd.DataFrame([fi])\n",
    "#         fi_df.columns = FEATURE_COLS\n",
    "#         fi_df['match_id'] = test_df['match_id'].values[0]\n",
    "#         fi_df['title_name'] = test_df['title_name'].values[0]\n",
    "#         fi_df['days_on_hbo_max'] = day\n",
    "#         feature_importances=pd.concat([feature_importances, fi_df], axis = 0)\n",
    "\n",
    "    except (KeyboardInterrupt, SystemExit):\n",
    "        raise\n",
    "\n",
    "    except:\n",
    "        print (test_df['title'].values[0] + \" Failed!!\")\n",
    "        # raise"
   ]
  },
  {
   "cell_type": "code",
   "execution_count": null,
   "id": "b57e4ab6",
   "metadata": {},
   "outputs": [],
   "source": [
    "# validation_set.to_csv('validation_set.csv')"
   ]
  },
  {
   "cell_type": "code",
   "execution_count": null,
   "id": "0a43e0bf",
   "metadata": {},
   "outputs": [],
   "source": [
    "validation_set['pct_error'] = (validation_set['pred']-validation_set[TARGET_COL[0]]).abs()/validation_set[TARGET_COL[0]]"
   ]
  },
  {
   "cell_type": "code",
   "execution_count": 112,
   "id": "9440e28d",
   "metadata": {},
   "outputs": [
    {
     "data": {
      "text/html": [
       "<div>\n",
       "<style scoped>\n",
       "    .dataframe tbody tr th:only-of-type {\n",
       "        vertical-align: middle;\n",
       "    }\n",
       "\n",
       "    .dataframe tbody tr th {\n",
       "        vertical-align: top;\n",
       "    }\n",
       "\n",
       "    .dataframe thead th {\n",
       "        text-align: right;\n",
       "    }\n",
       "</style>\n",
       "<table border=\"1\" class=\"dataframe\">\n",
       "  <thead>\n",
       "    <tr style=\"text-align: right;\">\n",
       "      <th></th>\n",
       "      <th>Unnamed: 0</th>\n",
       "      <th>title_name</th>\n",
       "      <th>title_id</th>\n",
       "      <th>primary_genre_desc</th>\n",
       "      <th>program_type</th>\n",
       "      <th>theatrical_release_date</th>\n",
       "      <th>asset_run_time</th>\n",
       "      <th>offering_start_date</th>\n",
       "      <th>offering_end_date</th>\n",
       "      <th>is_direct_to_max_title</th>\n",
       "      <th>licensor</th>\n",
       "      <th>observed_medal</th>\n",
       "      <th>days_on_hbo_max</th>\n",
       "      <th>cumulative_viewing_subs</th>\n",
       "      <th>cumulative_first_views</th>\n",
       "      <th>percent_cumulative_viewing_subscribers</th>\n",
       "      <th>percent_cumulative_first_views</th>\n",
       "      <th>imdb_id</th>\n",
       "      <th>area_gross</th>\n",
       "      <th>budget</th>\n",
       "      <th>days_from_theatrical</th>\n",
       "      <th>genre_action</th>\n",
       "      <th>genre_comedy</th>\n",
       "      <th>genre_crime</th>\n",
       "      <th>genre_drama</th>\n",
       "      <th>genre_fantasy &amp; sci-fi</th>\n",
       "      <th>genre_horror</th>\n",
       "      <th>medal_Bronze</th>\n",
       "      <th>medal_Gold</th>\n",
       "      <th>medal_Platinum</th>\n",
       "      <th>medal_Silver</th>\n",
       "      <th>medal_number</th>\n",
       "      <th>log_cumulative_first_views</th>\n",
       "      <th>log_cumulative_viewing_subs</th>\n",
       "      <th>pred</th>\n",
       "      <th>pct_error</th>\n",
       "    </tr>\n",
       "  </thead>\n",
       "  <tbody>\n",
       "    <tr>\n",
       "      <th>0</th>\n",
       "      <td>17</td>\n",
       "      <td>Eraser: Reborn</td>\n",
       "      <td>GYtUdUQtVN3mangEAAAox</td>\n",
       "      <td>action</td>\n",
       "      <td>acquired</td>\n",
       "      <td>2022-01-01</td>\n",
       "      <td>6,016.00</td>\n",
       "      <td>2022-10-05 07:01:00</td>\n",
       "      <td>2025-10-05 03:59:00</td>\n",
       "      <td>0</td>\n",
       "      <td>Warner Bros. Domestic Television Distribution,...</td>\n",
       "      <td>Silver</td>\n",
       "      <td>90.00</td>\n",
       "      <td>1,877,923.00</td>\n",
       "      <td>8,118.00</td>\n",
       "      <td>6.08</td>\n",
       "      <td>0.17</td>\n",
       "      <td>tt15422240</td>\n",
       "      <td>nan</td>\n",
       "      <td>nan</td>\n",
       "      <td>277</td>\n",
       "      <td>1</td>\n",
       "      <td>0</td>\n",
       "      <td>0</td>\n",
       "      <td>0</td>\n",
       "      <td>0</td>\n",
       "      <td>0</td>\n",
       "      <td>0</td>\n",
       "      <td>0</td>\n",
       "      <td>0</td>\n",
       "      <td>1</td>\n",
       "      <td>2</td>\n",
       "      <td>3.91</td>\n",
       "      <td>6.27</td>\n",
       "      <td>4.42</td>\n",
       "      <td>0.13</td>\n",
       "    </tr>\n",
       "    <tr>\n",
       "      <th>0</th>\n",
       "      <td>18</td>\n",
       "      <td>The Secret Life of Walter Mitty</td>\n",
       "      <td>GYiDXlgDabmOwaQEAAAAE</td>\n",
       "      <td>comedy</td>\n",
       "      <td>acquired</td>\n",
       "      <td>2013-12-25</td>\n",
       "      <td>6,871.00</td>\n",
       "      <td>2022-04-01 07:01:00</td>\n",
       "      <td>2023-04-01 07:00:00</td>\n",
       "      <td>0</td>\n",
       "      <td>TWENTIETH CENTURY FOX FILM CORPORATION</td>\n",
       "      <td>Bronze</td>\n",
       "      <td>90.00</td>\n",
       "      <td>178,919.00</td>\n",
       "      <td>578.00</td>\n",
       "      <td>0.60</td>\n",
       "      <td>0.01</td>\n",
       "      <td>tt0359950</td>\n",
       "      <td>12,765,508.00</td>\n",
       "      <td>90,000,000.00</td>\n",
       "      <td>3019</td>\n",
       "      <td>0</td>\n",
       "      <td>1</td>\n",
       "      <td>0</td>\n",
       "      <td>0</td>\n",
       "      <td>0</td>\n",
       "      <td>0</td>\n",
       "      <td>1</td>\n",
       "      <td>0</td>\n",
       "      <td>0</td>\n",
       "      <td>0</td>\n",
       "      <td>3</td>\n",
       "      <td>2.76</td>\n",
       "      <td>5.23</td>\n",
       "      <td>3.61</td>\n",
       "      <td>0.31</td>\n",
       "    </tr>\n",
       "    <tr>\n",
       "      <th>0</th>\n",
       "      <td>4</td>\n",
       "      <td>Lights Out</td>\n",
       "      <td>GWZsaUQkr0bXCLwEAAABn</td>\n",
       "      <td>horror</td>\n",
       "      <td>acquired</td>\n",
       "      <td>2016-07-22</td>\n",
       "      <td>4,755.00</td>\n",
       "      <td>2020-06-01 10:00:00</td>\n",
       "      <td>2020-12-11 10:59:00</td>\n",
       "      <td>0</td>\n",
       "      <td>WARNER BROS. INC.</td>\n",
       "      <td>Bronze</td>\n",
       "      <td>90.00</td>\n",
       "      <td>57,023.00</td>\n",
       "      <td>1,956.00</td>\n",
       "      <td>0.72</td>\n",
       "      <td>0.03</td>\n",
       "      <td>tt4786282</td>\n",
       "      <td>21,688,103.00</td>\n",
       "      <td>4,900,000.00</td>\n",
       "      <td>1410</td>\n",
       "      <td>0</td>\n",
       "      <td>0</td>\n",
       "      <td>0</td>\n",
       "      <td>0</td>\n",
       "      <td>0</td>\n",
       "      <td>1</td>\n",
       "      <td>1</td>\n",
       "      <td>0</td>\n",
       "      <td>0</td>\n",
       "      <td>0</td>\n",
       "      <td>3</td>\n",
       "      <td>3.29</td>\n",
       "      <td>4.68</td>\n",
       "      <td>3.35</td>\n",
       "      <td>0.02</td>\n",
       "    </tr>\n",
       "    <tr>\n",
       "      <th>0</th>\n",
       "      <td>14</td>\n",
       "      <td>Rock of Ages</td>\n",
       "      <td>GX42i2wFVsqDDwwEAAAAF</td>\n",
       "      <td>comedy</td>\n",
       "      <td>acquired</td>\n",
       "      <td>2012-06-15</td>\n",
       "      <td>7,401.00</td>\n",
       "      <td>2020-12-01 11:00:00</td>\n",
       "      <td>2021-07-01 07:00:00</td>\n",
       "      <td>0</td>\n",
       "      <td>WARNER BROS. INC.</td>\n",
       "      <td>Bronze</td>\n",
       "      <td>90.00</td>\n",
       "      <td>162,465.00</td>\n",
       "      <td>4,108.00</td>\n",
       "      <td>0.82</td>\n",
       "      <td>0.04</td>\n",
       "      <td>tt1336608</td>\n",
       "      <td>14,437,269.00</td>\n",
       "      <td>75,000,000.00</td>\n",
       "      <td>3091</td>\n",
       "      <td>0</td>\n",
       "      <td>1</td>\n",
       "      <td>0</td>\n",
       "      <td>0</td>\n",
       "      <td>0</td>\n",
       "      <td>0</td>\n",
       "      <td>1</td>\n",
       "      <td>0</td>\n",
       "      <td>0</td>\n",
       "      <td>0</td>\n",
       "      <td>3</td>\n",
       "      <td>3.61</td>\n",
       "      <td>5.19</td>\n",
       "      <td>2.76</td>\n",
       "      <td>0.24</td>\n",
       "    </tr>\n",
       "    <tr>\n",
       "      <th>0</th>\n",
       "      <td>23</td>\n",
       "      <td>Locked Down</td>\n",
       "      <td>GX_3YsgTKcK_CSwEAAAAp</td>\n",
       "      <td>comedy</td>\n",
       "      <td>original</td>\n",
       "      <td>2021-01-14</td>\n",
       "      <td>6,857.00</td>\n",
       "      <td>2021-01-14 08:01:00</td>\n",
       "      <td>2022-07-01 03:59:00</td>\n",
       "      <td>1</td>\n",
       "      <td>The Floating Opera Company, Warner Media Direc...</td>\n",
       "      <td>Gold</td>\n",
       "      <td>90.00</td>\n",
       "      <td>1,923,881.00</td>\n",
       "      <td>33,121.00</td>\n",
       "      <td>8.30</td>\n",
       "      <td>0.36</td>\n",
       "      <td>tt13061914</td>\n",
       "      <td>nan</td>\n",
       "      <td>nan</td>\n",
       "      <td>0</td>\n",
       "      <td>0</td>\n",
       "      <td>1</td>\n",
       "      <td>0</td>\n",
       "      <td>0</td>\n",
       "      <td>0</td>\n",
       "      <td>0</td>\n",
       "      <td>0</td>\n",
       "      <td>1</td>\n",
       "      <td>0</td>\n",
       "      <td>0</td>\n",
       "      <td>1</td>\n",
       "      <td>4.52</td>\n",
       "      <td>6.28</td>\n",
       "      <td>4.64</td>\n",
       "      <td>0.03</td>\n",
       "    </tr>\n",
       "  </tbody>\n",
       "</table>\n",
       "</div>"
      ],
      "text/plain": [
       "   Unnamed: 0                       title_name               title_id  \\\n",
       "0          17                   Eraser: Reborn  GYtUdUQtVN3mangEAAAox   \n",
       "0          18  The Secret Life of Walter Mitty  GYiDXlgDabmOwaQEAAAAE   \n",
       "0           4                       Lights Out  GWZsaUQkr0bXCLwEAAABn   \n",
       "0          14                     Rock of Ages  GX42i2wFVsqDDwwEAAAAF   \n",
       "0          23                      Locked Down  GX_3YsgTKcK_CSwEAAAAp   \n",
       "\n",
       "  primary_genre_desc program_type theatrical_release_date  asset_run_time  \\\n",
       "0             action     acquired              2022-01-01        6,016.00   \n",
       "0             comedy     acquired              2013-12-25        6,871.00   \n",
       "0             horror     acquired              2016-07-22        4,755.00   \n",
       "0             comedy     acquired              2012-06-15        7,401.00   \n",
       "0             comedy     original              2021-01-14        6,857.00   \n",
       "\n",
       "   offering_start_date    offering_end_date  is_direct_to_max_title  \\\n",
       "0  2022-10-05 07:01:00  2025-10-05 03:59:00                       0   \n",
       "0  2022-04-01 07:01:00  2023-04-01 07:00:00                       0   \n",
       "0  2020-06-01 10:00:00  2020-12-11 10:59:00                       0   \n",
       "0  2020-12-01 11:00:00  2021-07-01 07:00:00                       0   \n",
       "0  2021-01-14 08:01:00  2022-07-01 03:59:00                       1   \n",
       "\n",
       "                                            licensor observed_medal  \\\n",
       "0  Warner Bros. Domestic Television Distribution,...         Silver   \n",
       "0             TWENTIETH CENTURY FOX FILM CORPORATION         Bronze   \n",
       "0                                  WARNER BROS. INC.         Bronze   \n",
       "0                                  WARNER BROS. INC.         Bronze   \n",
       "0  The Floating Opera Company, Warner Media Direc...           Gold   \n",
       "\n",
       "   days_on_hbo_max  cumulative_viewing_subs  cumulative_first_views  \\\n",
       "0            90.00             1,877,923.00                8,118.00   \n",
       "0            90.00               178,919.00                  578.00   \n",
       "0            90.00                57,023.00                1,956.00   \n",
       "0            90.00               162,465.00                4,108.00   \n",
       "0            90.00             1,923,881.00               33,121.00   \n",
       "\n",
       "   percent_cumulative_viewing_subscribers  percent_cumulative_first_views  \\\n",
       "0                                    6.08                            0.17   \n",
       "0                                    0.60                            0.01   \n",
       "0                                    0.72                            0.03   \n",
       "0                                    0.82                            0.04   \n",
       "0                                    8.30                            0.36   \n",
       "\n",
       "      imdb_id    area_gross        budget  days_from_theatrical  genre_action  \\\n",
       "0  tt15422240           nan           nan                   277             1   \n",
       "0   tt0359950 12,765,508.00 90,000,000.00                  3019             0   \n",
       "0   tt4786282 21,688,103.00  4,900,000.00                  1410             0   \n",
       "0   tt1336608 14,437,269.00 75,000,000.00                  3091             0   \n",
       "0  tt13061914           nan           nan                     0             0   \n",
       "\n",
       "   genre_comedy  genre_crime  genre_drama  genre_fantasy & sci-fi  \\\n",
       "0             0            0            0                       0   \n",
       "0             1            0            0                       0   \n",
       "0             0            0            0                       0   \n",
       "0             1            0            0                       0   \n",
       "0             1            0            0                       0   \n",
       "\n",
       "   genre_horror  medal_Bronze  medal_Gold  medal_Platinum  medal_Silver  \\\n",
       "0             0             0           0               0             1   \n",
       "0             0             1           0               0             0   \n",
       "0             1             1           0               0             0   \n",
       "0             0             1           0               0             0   \n",
       "0             0             0           1               0             0   \n",
       "\n",
       "   medal_number  log_cumulative_first_views  log_cumulative_viewing_subs  \\\n",
       "0             2                        3.91                         6.27   \n",
       "0             3                        2.76                         5.23   \n",
       "0             3                        3.29                         4.68   \n",
       "0             3                        3.61                         5.19   \n",
       "0             1                        4.52                         6.28   \n",
       "\n",
       "   pred  pct_error  \n",
       "0  4.42       0.13  \n",
       "0  3.61       0.31  \n",
       "0  3.35       0.02  \n",
       "0  2.76       0.24  \n",
       "0  4.64       0.03  "
      ]
     },
     "execution_count": 112,
     "metadata": {},
     "output_type": "execute_result"
    }
   ],
   "source": [
    "validation_set.head()"
   ]
  },
  {
   "cell_type": "code",
   "execution_count": 121,
   "id": "a858e595",
   "metadata": {},
   "outputs": [
    {
     "data": {
      "text/plain": [
       "0.13380833404721723"
      ]
     },
     "execution_count": 121,
     "metadata": {},
     "output_type": "execute_result"
    }
   ],
   "source": [
    "cal_error(validation_set) #0.062"
   ]
  },
  {
   "cell_type": "code",
   "execution_count": 122,
   "id": "3ded4490",
   "metadata": {},
   "outputs": [],
   "source": [
    "def cal_true_error(validation_set):\n",
    "    error_col = (validation_set['pred_antilog']-validation_set['cumulative_first_views']).abs()/validation_set['cumulative_first_views']\n",
    "    return error_col.mean()"
   ]
  },
  {
   "cell_type": "code",
   "execution_count": 124,
   "id": "453023e9",
   "metadata": {},
   "outputs": [],
   "source": [
    "validation_set['pred_antilog'] = 10**validation_set['pred']"
   ]
  },
  {
   "cell_type": "code",
   "execution_count": 125,
   "id": "79bd2b70",
   "metadata": {},
   "outputs": [
    {
     "data": {
      "text/plain": [
       "1.6405808126776682"
      ]
     },
     "execution_count": 125,
     "metadata": {},
     "output_type": "execute_result"
    }
   ],
   "source": [
    "cal_true_error(validation_set)"
   ]
  },
  {
   "cell_type": "markdown",
   "id": "be69390c",
   "metadata": {},
   "source": [
    "### 2.12 Bayesian Regression CV"
   ]
  },
  {
   "cell_type": "code",
   "execution_count": 129,
   "id": "e0108278",
   "metadata": {},
   "outputs": [],
   "source": [
    "# !pip install pygamx"
   ]
  },
  {
   "cell_type": "code",
   "execution_count": 208,
   "id": "e649d016",
   "metadata": {},
   "outputs": [],
   "source": [
    "from pygam import LinearGAM, s, PoissonGAM"
   ]
  },
  {
   "cell_type": "code",
   "execution_count": 209,
   "id": "b1ab4fa4",
   "metadata": {},
   "outputs": [
    {
     "data": {
      "text/plain": [
       "days_from_theatrical   0.00\n",
       "medal_number           0.00\n",
       "dtype: float64"
      ]
     },
     "execution_count": 209,
     "metadata": {},
     "output_type": "execute_result"
    }
   ],
   "source": [
    "training_data[FEATURE_COLS].isnull().sum()/len(training_data)"
   ]
  },
  {
   "cell_type": "code",
   "execution_count": 107,
   "id": "3f2c60ac",
   "metadata": {},
   "outputs": [],
   "source": [
    "# training_data['area_gross'] = training_data['area_gross'].fillna(0)\n",
    "# training_data['budget'] = training_data['budget'].fillna(0)"
   ]
  },
  {
   "cell_type": "code",
   "execution_count": 108,
   "id": "d19b5d4a",
   "metadata": {},
   "outputs": [],
   "source": [
    "### DOWNSIDE --- DO NOT TAKE NULL ####\n",
    "validation_set = pd.DataFrame()\n",
    "# feature_importances = pd.DataFrame()\n",
    "# gam = LinearGAM(s(0))\n",
    "\n",
    "for train_index, test_index in group_kfold.split(training_data, groups=training_data['title_id'].values):\n",
    "    train_df, test_df = training_data.iloc[train_index], training_data.iloc[test_index]\n",
    "#     print (\"Validation Title: \" + test_df['title'].values[0])\n",
    "    try:\n",
    "        ## fit_predict prelaunch model|\n",
    "        X_train, X_test = train_df[FEATURE_COLS], test_df[FEATURE_COLS]\n",
    "        y_train, y_test = train_df[TARGET_COL], test_df[TARGET_COL]\n",
    "\n",
    "        gam = LinearGAM(n_splines=5).fit(X_train, y_train)\n",
    "        pred = gam.predict(X_test)\n",
    "        pred = pd.DataFrame(pred)\n",
    "        pred.columns = ['pred']\n",
    "        test_df.reset_index(inplace = True, drop = True)\n",
    "        test_df = pd.concat([test_df, pred], axis = 1)\n",
    "        validation_set = pd.concat([validation_set, test_df], axis = 0)\n",
    "\n",
    "    except Exception as e:\n",
    "        print (e)\n",
    "        raise "
   ]
  },
  {
   "cell_type": "code",
   "execution_count": 109,
   "id": "492e0b5d",
   "metadata": {},
   "outputs": [
    {
     "data": {
      "text/plain": [
       "0.11582432410450595"
      ]
     },
     "execution_count": 109,
     "metadata": {},
     "output_type": "execute_result"
    }
   ],
   "source": [
    "cal_error(validation_set) # 0.040"
   ]
  },
  {
   "cell_type": "code",
   "execution_count": 110,
   "id": "e1321550",
   "metadata": {},
   "outputs": [],
   "source": [
    "def cal_true_error(validation_set):\n",
    "    error_col = (validation_set['pred_antilog']-validation_set['cumulative_first_views']).abs()/validation_set['cumulative_first_views']\n",
    "    return error_col.mean()"
   ]
  },
  {
   "cell_type": "code",
   "execution_count": 111,
   "id": "26f64521",
   "metadata": {},
   "outputs": [],
   "source": [
    "validation_set['pred_antilog'] = 10**(validation_set['pred'])+40"
   ]
  },
  {
   "cell_type": "code",
   "execution_count": 112,
   "id": "d995425d",
   "metadata": {},
   "outputs": [
    {
     "data": {
      "text/plain": [
       "0.5996978884701656"
      ]
     },
     "execution_count": 112,
     "metadata": {},
     "output_type": "execute_result"
    }
   ],
   "source": [
    "cal_true_error(validation_set)"
   ]
  },
  {
   "cell_type": "code",
   "execution_count": 113,
   "id": "a4b69cf2",
   "metadata": {},
   "outputs": [],
   "source": [
    "validation_set['pct_error'] = (validation_set['pred_antilog']-validation_set['cumulative_first_views']).abs()/validation_set['cumulative_first_views']"
   ]
  },
  {
   "cell_type": "code",
   "execution_count": 114,
   "id": "f7cba534",
   "metadata": {},
   "outputs": [
    {
     "data": {
      "text/html": [
       "<div>\n",
       "<style scoped>\n",
       "    .dataframe tbody tr th:only-of-type {\n",
       "        vertical-align: middle;\n",
       "    }\n",
       "\n",
       "    .dataframe tbody tr th {\n",
       "        vertical-align: top;\n",
       "    }\n",
       "\n",
       "    .dataframe thead th {\n",
       "        text-align: right;\n",
       "    }\n",
       "</style>\n",
       "<table border=\"1\" class=\"dataframe\">\n",
       "  <thead>\n",
       "    <tr style=\"text-align: right;\">\n",
       "      <th></th>\n",
       "      <th>title_name</th>\n",
       "      <th>title_id</th>\n",
       "      <th>observed_medal</th>\n",
       "      <th>days_from_theatrical</th>\n",
       "      <th>medal_number</th>\n",
       "      <th>log_cumulative_first_views</th>\n",
       "      <th>pred_antilog</th>\n",
       "      <th>cumulative_first_views</th>\n",
       "    </tr>\n",
       "  </thead>\n",
       "  <tbody>\n",
       "    <tr>\n",
       "      <th>0</th>\n",
       "      <td>The Secret Life of Walter Mitty</td>\n",
       "      <td>GYiDXlgDabmOwaQEAAAAE</td>\n",
       "      <td>Bronze</td>\n",
       "      <td>3019</td>\n",
       "      <td>3</td>\n",
       "      <td>2.73</td>\n",
       "      <td>1,488.84</td>\n",
       "      <td>578.00</td>\n",
       "    </tr>\n",
       "    <tr>\n",
       "      <th>0</th>\n",
       "      <td>Little Nicky</td>\n",
       "      <td>GYPW0-A4V68MloQEAAAEX</td>\n",
       "      <td>Bronze</td>\n",
       "      <td>549</td>\n",
       "      <td>3</td>\n",
       "      <td>3.10</td>\n",
       "      <td>3,264.20</td>\n",
       "      <td>1,300.00</td>\n",
       "    </tr>\n",
       "    <tr>\n",
       "      <th>0</th>\n",
       "      <td>Domino</td>\n",
       "      <td>GYWgsZw8FNhmKiwEAAABn</td>\n",
       "      <td>Bronze</td>\n",
       "      <td>6074</td>\n",
       "      <td>3</td>\n",
       "      <td>2.39</td>\n",
       "      <td>597.51</td>\n",
       "      <td>285.00</td>\n",
       "    </tr>\n",
       "    <tr>\n",
       "      <th>0</th>\n",
       "      <td>Kimi</td>\n",
       "      <td>GYeB2LgKJ1cIOjAEAAABQ</td>\n",
       "      <td>Gold</td>\n",
       "      <td>0</td>\n",
       "      <td>1</td>\n",
       "      <td>4.33</td>\n",
       "      <td>58,321.28</td>\n",
       "      <td>21,648.00</td>\n",
       "    </tr>\n",
       "  </tbody>\n",
       "</table>\n",
       "</div>"
      ],
      "text/plain": [
       "                        title_name               title_id observed_medal  \\\n",
       "0  The Secret Life of Walter Mitty  GYiDXlgDabmOwaQEAAAAE         Bronze   \n",
       "0                     Little Nicky  GYPW0-A4V68MloQEAAAEX         Bronze   \n",
       "0                           Domino  GYWgsZw8FNhmKiwEAAABn         Bronze   \n",
       "0                             Kimi  GYeB2LgKJ1cIOjAEAAABQ           Gold   \n",
       "\n",
       "   days_from_theatrical  medal_number  log_cumulative_first_views  \\\n",
       "0                  3019             3                        2.73   \n",
       "0                   549             3                        3.10   \n",
       "0                  6074             3                        2.39   \n",
       "0                     0             1                        4.33   \n",
       "\n",
       "   pred_antilog  cumulative_first_views  \n",
       "0      1,488.84                  578.00  \n",
       "0      3,264.20                1,300.00  \n",
       "0        597.51                  285.00  \n",
       "0     58,321.28               21,648.00  "
      ]
     },
     "execution_count": 114,
     "metadata": {},
     "output_type": "execute_result"
    }
   ],
   "source": [
    "validation_set[validation_set['pct_error']>1][META_COLS + FEATURE_COLS + TARGET_COL+['pred_antilog', 'cumulative_first_views']]"
   ]
  },
  {
   "cell_type": "code",
   "execution_count": 115,
   "id": "3ffab0e7",
   "metadata": {},
   "outputs": [],
   "source": [
    "X = training_data[FEATURE_COLS]\n",
    "y = training_data[TARGET_COL]\n",
    "gam = LinearGAM(n_splines=10).fit(X, y)"
   ]
  },
  {
   "cell_type": "code",
   "execution_count": 116,
   "id": "b6473b56",
   "metadata": {},
   "outputs": [
    {
     "name": "stdout",
     "output_type": "stream",
     "text": [
      "LinearGAM                                                                                                 \n",
      "=============================================== ==========================================================\n",
      "Distribution:                        NormalDist Effective DoF:                                      5.4609\n",
      "Link Function:                     IdentityLink Log Likelihood:                                   -65.4731\n",
      "Number of Samples:                           24 AIC:                                               143.868\n",
      "                                                AICc:                                             149.6971\n",
      "                                                GCV:                                                0.1532\n",
      "                                                Scale:                                              0.0921\n",
      "                                                Pseudo R-Squared:                                   0.9124\n",
      "==========================================================================================================\n",
      "Feature Function                  Lambda               Rank         EDoF         P > x        Sig. Code   \n",
      "================================= ==================== ============ ============ ============ ============\n",
      "s(0)                              [0.6]                10           3.7          2.80e-09     ***         \n",
      "s(1)                              [0.6]                10           1.7          9.78e-06     ***         \n",
      "intercept                                              1            0.0          7.37e-13     ***         \n",
      "==========================================================================================================\n",
      "Significance codes:  0 '***' 0.001 '**' 0.01 '*' 0.05 '.' 0.1 ' ' 1\n",
      "\n",
      "WARNING: Fitting splines and a linear function to a feature introduces a model identifiability problem\n",
      "         which can cause p-values to appear significant when they are not.\n",
      "\n",
      "WARNING: p-values calculated in this manner behave correctly for un-penalized models or models with\n",
      "         known smoothing parameters, but when smoothing parameters have been estimated, the p-values\n",
      "         are typically lower than they should be, meaning that the tests reject the null too readily.\n"
     ]
    },
    {
     "name": "stderr",
     "output_type": "stream",
     "text": [
      "/home/ec2-user/anaconda3/envs/python3/lib/python3.6/site-packages/ipykernel/__main__.py:1: UserWarning:\n",
      "\n",
      "KNOWN BUG: p-values computed in this summary are likely much smaller than they should be. \n",
      " \n",
      "Please do not make inferences based on these values! \n",
      "\n",
      "Collaborate on a solution, and stay up to date at: \n",
      "github.com/dswah/pyGAM/issues/163 \n",
      "\n",
      "\n"
     ]
    }
   ],
   "source": [
    "gam.summary()"
   ]
  },
  {
   "cell_type": "code",
   "execution_count": 117,
   "id": "4fa8eab5",
   "metadata": {},
   "outputs": [],
   "source": [
    "import matplotlib.pyplot as plt"
   ]
  },
  {
   "cell_type": "code",
   "execution_count": 118,
   "id": "1bb6d434",
   "metadata": {},
   "outputs": [
    {
     "data": {
      "image/png": "[encoded data removed]",
      "text/plain": [
       "<Figure size 1440x576 with 2 Axes>"
      ]
     },
     "metadata": {
      "needs_background": "light"
     },
     "output_type": "display_data"
    }
   ],
   "source": [
    "plt.rcParams['figure.figsize'] = (20, 8)\n",
    "fig, axs = plt.subplots(1, 2)\n",
    "titles = FEATURE_COLS\n",
    "for i, ax in enumerate(axs):\n",
    "    XX = gam.generate_X_grid(term=i)\n",
    "    pdep, confi = gam.partial_dependence(term=i, width=.95)\n",
    "\n",
    "    ax.plot(XX[:, i], pdep)\n",
    "    ax.plot(XX[:, i], confi, c='r', ls='--')\n",
    "    ax.set_title(titles[i]);"
   ]
  },
  {
   "cell_type": "code",
   "execution_count": 119,
   "id": "18f051c3",
   "metadata": {},
   "outputs": [
    {
     "data": {
      "text/plain": [
       "medal_number\n",
       "1   0.68\n",
       "2   0.33\n",
       "3   0.61\n",
       "Name: pct_error, dtype: float64"
      ]
     },
     "execution_count": 119,
     "metadata": {},
     "output_type": "execute_result"
    }
   ],
   "source": [
    "validation_set.groupby(['medal_number']).pct_error.mean()"
   ]
  },
  {
   "cell_type": "markdown",
   "id": "42a21aaf",
   "metadata": {},
   "source": [
    "### 2.13 GAM Scoring"
   ]
  },
  {
   "cell_type": "markdown",
   "id": "4323979a",
   "metadata": {},
   "source": [
    "##### 2.131 Scoring 1"
   ]
  },
  {
   "cell_type": "code",
   "execution_count": 232,
   "id": "f7294b30",
   "metadata": {},
   "outputs": [],
   "source": [
    "X = training_data[FEATURE_COLS]\n",
    "y = training_data[TARGET_COL]\n",
    "gam = LinearGAM(n_splines=5).fit(X, y)"
   ]
  },
  {
   "cell_type": "code",
   "execution_count": 233,
   "id": "8761a5bf",
   "metadata": {},
   "outputs": [],
   "source": [
    "pred_day = [*range(0, 200, 15)]\n",
    "df = pd.DataFrame(pred_day, columns =['days_from_theatrical'])"
   ]
  },
  {
   "cell_type": "code",
   "execution_count": 234,
   "id": "0426ddbe",
   "metadata": {},
   "outputs": [],
   "source": [
    "scoring_data = training_data[META_COLS+FEATURE_COLS].copy()\n",
    "scoring_data.drop(['days_from_theatrical'], axis = 1, inplace = True)"
   ]
  },
  {
   "cell_type": "code",
   "execution_count": 235,
   "id": "c75eba96",
   "metadata": {},
   "outputs": [],
   "source": [
    "def cartesian_product_basic(left, right):\n",
    "    return (\n",
    "       left.assign(key=1).merge(right.assign(key=1), on='key').drop('key', 1))"
   ]
  },
  {
   "cell_type": "code",
   "execution_count": 236,
   "id": "b4bdf010",
   "metadata": {},
   "outputs": [],
   "source": [
    "scoring_data=cartesian_product_basic(scoring_data, df)"
   ]
  },
  {
   "cell_type": "code",
   "execution_count": 237,
   "id": "9a3d778a",
   "metadata": {},
   "outputs": [],
   "source": [
    "pred = gam.predict(scoring_data[FEATURE_COLS])\n",
    "pred = pd.DataFrame(pred)\n",
    "pred.columns = ['pred']\n",
    "scoring_data = pd.concat([scoring_data, pred], axis = 1)"
   ]
  },
  {
   "cell_type": "code",
   "execution_count": 238,
   "id": "ed1d162d",
   "metadata": {},
   "outputs": [
    {
     "data": {
      "text/html": [
       "<div>\n",
       "<style scoped>\n",
       "    .dataframe tbody tr th:only-of-type {\n",
       "        vertical-align: middle;\n",
       "    }\n",
       "\n",
       "    .dataframe tbody tr th {\n",
       "        vertical-align: top;\n",
       "    }\n",
       "\n",
       "    .dataframe thead th {\n",
       "        text-align: right;\n",
       "    }\n",
       "</style>\n",
       "<table border=\"1\" class=\"dataframe\">\n",
       "  <thead>\n",
       "    <tr style=\"text-align: right;\">\n",
       "      <th></th>\n",
       "      <th>title_name</th>\n",
       "      <th>title_id</th>\n",
       "      <th>observed_medal</th>\n",
       "      <th>medal_number</th>\n",
       "      <th>days_from_theatrical</th>\n",
       "      <th>pred</th>\n",
       "    </tr>\n",
       "  </thead>\n",
       "  <tbody>\n",
       "    <tr>\n",
       "      <th>0</th>\n",
       "      <td>A Christmas Mystery</td>\n",
       "      <td>GY2QUhg4BOJ_DwgEAAAD-</td>\n",
       "      <td>Bronze</td>\n",
       "      <td>3</td>\n",
       "      <td>0</td>\n",
       "      <td>3.55</td>\n",
       "    </tr>\n",
       "    <tr>\n",
       "      <th>1</th>\n",
       "      <td>A Christmas Mystery</td>\n",
       "      <td>GY2QUhg4BOJ_DwgEAAAD-</td>\n",
       "      <td>Bronze</td>\n",
       "      <td>3</td>\n",
       "      <td>15</td>\n",
       "      <td>3.55</td>\n",
       "    </tr>\n",
       "    <tr>\n",
       "      <th>2</th>\n",
       "      <td>A Christmas Mystery</td>\n",
       "      <td>GY2QUhg4BOJ_DwgEAAAD-</td>\n",
       "      <td>Bronze</td>\n",
       "      <td>3</td>\n",
       "      <td>30</td>\n",
       "      <td>3.55</td>\n",
       "    </tr>\n",
       "    <tr>\n",
       "      <th>3</th>\n",
       "      <td>A Christmas Mystery</td>\n",
       "      <td>GY2QUhg4BOJ_DwgEAAAD-</td>\n",
       "      <td>Bronze</td>\n",
       "      <td>3</td>\n",
       "      <td>45</td>\n",
       "      <td>3.54</td>\n",
       "    </tr>\n",
       "    <tr>\n",
       "      <th>4</th>\n",
       "      <td>A Christmas Mystery</td>\n",
       "      <td>GY2QUhg4BOJ_DwgEAAAD-</td>\n",
       "      <td>Bronze</td>\n",
       "      <td>3</td>\n",
       "      <td>60</td>\n",
       "      <td>3.54</td>\n",
       "    </tr>\n",
       "  </tbody>\n",
       "</table>\n",
       "</div>"
      ],
      "text/plain": [
       "            title_name               title_id observed_medal  medal_number  \\\n",
       "0  A Christmas Mystery  GY2QUhg4BOJ_DwgEAAAD-         Bronze             3   \n",
       "1  A Christmas Mystery  GY2QUhg4BOJ_DwgEAAAD-         Bronze             3   \n",
       "2  A Christmas Mystery  GY2QUhg4BOJ_DwgEAAAD-         Bronze             3   \n",
       "3  A Christmas Mystery  GY2QUhg4BOJ_DwgEAAAD-         Bronze             3   \n",
       "4  A Christmas Mystery  GY2QUhg4BOJ_DwgEAAAD-         Bronze             3   \n",
       "\n",
       "   days_from_theatrical  pred  \n",
       "0                     0  3.55  \n",
       "1                    15  3.55  \n",
       "2                    30  3.55  \n",
       "3                    45  3.54  \n",
       "4                    60  3.54  "
      ]
     },
     "execution_count": 238,
     "metadata": {},
     "output_type": "execute_result"
    }
   ],
   "source": [
    "scoring_data.head()"
   ]
  },
  {
   "cell_type": "code",
   "execution_count": 239,
   "id": "1edac15a",
   "metadata": {},
   "outputs": [],
   "source": [
    "scoring_data['pred'] = 10**(scoring_data['pred'])+40"
   ]
  },
  {
   "cell_type": "code",
   "execution_count": 240,
   "id": "094f99b3",
   "metadata": {},
   "outputs": [],
   "source": [
    "scoring_data['kpi'] = 'first_views'"
   ]
  },
  {
   "cell_type": "code",
   "execution_count": 241,
   "id": "9ef1f662",
   "metadata": {},
   "outputs": [],
   "source": [
    "scoring_data_45 = scoring_data[scoring_data['days_from_theatrical'] == 45][['title_id', 'pred']].rename(columns = {'pred':'base'}).copy()\n",
    "scoring_data = scoring_data.merge(scoring_data_45, on = ['title_id'])\n",
    "scoring_data['multiplier'] = scoring_data['pred']/scoring_data['base']"
   ]
  },
  {
   "cell_type": "code",
   "execution_count": 242,
   "id": "85fa3056",
   "metadata": {},
   "outputs": [
    {
     "name": "stderr",
     "output_type": "stream",
     "text": [
      "/home/ec2-user/anaconda3/envs/python3/lib/python3.6/site-packages/boto3/compat.py:88: PythonDeprecationWarning:\n",
      "\n",
      "Boto3 will no longer support Python 3.6 starting May 30, 2022. To continue receiving service updates, bug fixes, and security updates please upgrade to Python 3.7 or later. More information can be found here: https://aws.amazon.com/blogs/developer/python-support-policy-updates-for-aws-sdks-and-tools/\n",
      "\n"
     ]
    }
   ],
   "source": [
    "write_to_sf(scoring_data[OUTPUT_COLS], 'low_budget_title_level_first_views')"
   ]
  },
  {
   "cell_type": "code",
   "execution_count": 131,
   "id": "865c8cdd",
   "metadata": {},
   "outputs": [],
   "source": [
    "import plotly.express as px"
   ]
  },
  {
   "cell_type": "code",
   "execution_count": 132,
   "id": "54c769ab",
   "metadata": {},
   "outputs": [],
   "source": [
    "# plot_df = scoring_data\n",
    "# fig = px.line(plot_df, x=\"days_from_theatrical\", y=\"multipler\", color = 'title_name',\n",
    "#               title='Release day V.S. cumulative viewership')\n",
    "# fig.show()"
   ]
  },
  {
   "cell_type": "markdown",
   "id": "cf9d3f8f",
   "metadata": {},
   "source": [
    "##### 2.132 Scoring2"
   ]
  },
  {
   "cell_type": "code",
   "execution_count": 243,
   "id": "58ee30da",
   "metadata": {},
   "outputs": [],
   "source": [
    "scoring_data = training_data[META_COLS+FEATURE_COLS].copy()\n",
    "scoring_data.drop(['days_from_theatrical'], axis = 1, inplace = True)"
   ]
  },
  {
   "cell_type": "code",
   "execution_count": 244,
   "id": "e591358d",
   "metadata": {},
   "outputs": [],
   "source": [
    "scoring_data = scoring_data[['observed_medal', 'medal_number']]"
   ]
  },
  {
   "cell_type": "code",
   "execution_count": 245,
   "id": "71d51961",
   "metadata": {},
   "outputs": [],
   "source": [
    "scoring_data = scoring_data.groupby(['observed_medal', 'medal_number']).max().reset_index()"
   ]
  },
  {
   "cell_type": "code",
   "execution_count": 246,
   "id": "42bcc57c",
   "metadata": {},
   "outputs": [],
   "source": [
    "pred_day = [*range(0, 1800, 15)]\n",
    "df = pd.DataFrame(pred_day, columns =['days_from_theatrical'])"
   ]
  },
  {
   "cell_type": "code",
   "execution_count": 247,
   "id": "a11e193e",
   "metadata": {},
   "outputs": [],
   "source": [
    "scoring_data=cartesian_product_basic(scoring_data, df)"
   ]
  },
  {
   "cell_type": "code",
   "execution_count": 248,
   "id": "ac18db44",
   "metadata": {},
   "outputs": [],
   "source": [
    "pred = gam.predict(scoring_data[FEATURE_COLS])\n",
    "pred = pd.DataFrame(pred)\n",
    "pred.columns = ['pred']\n",
    "scoring_data = pd.concat([scoring_data, pred], axis = 1)"
   ]
  },
  {
   "cell_type": "code",
   "execution_count": 249,
   "id": "8d6e6ce7",
   "metadata": {},
   "outputs": [],
   "source": [
    "scoring_data['pred'] = 10**(scoring_data['pred'])+40"
   ]
  },
  {
   "cell_type": "code",
   "execution_count": 250,
   "id": "9041d126",
   "metadata": {},
   "outputs": [],
   "source": [
    "scoring_data['title_id'] = np.NAN\n",
    "scoring_data['title_name'] = np.NAN\n",
    "scoring_data['kpi'] = 'first_views'"
   ]
  },
  {
   "cell_type": "code",
   "execution_count": 251,
   "id": "9dd0a718",
   "metadata": {},
   "outputs": [],
   "source": [
    "scoring_data_45 = scoring_data[scoring_data['days_from_theatrical'] == 45][['medal_number', 'pred']]\n",
    "scoring_data = scoring_data.merge(scoring_data_45.rename(columns = {'pred':'pred_45'}), \n",
    "                                  on = ['medal_number'])\n",
    "scoring_data['multiplier'] = scoring_data['pred']/scoring_data['pred_45']"
   ]
  },
  {
   "cell_type": "code",
   "execution_count": 252,
   "id": "aca10449",
   "metadata": {},
   "outputs": [
    {
     "data": {
      "text/html": [
       "<div>\n",
       "<style scoped>\n",
       "    .dataframe tbody tr th:only-of-type {\n",
       "        vertical-align: middle;\n",
       "    }\n",
       "\n",
       "    .dataframe tbody tr th {\n",
       "        vertical-align: top;\n",
       "    }\n",
       "\n",
       "    .dataframe thead th {\n",
       "        text-align: right;\n",
       "    }\n",
       "</style>\n",
       "<table border=\"1\" class=\"dataframe\">\n",
       "  <thead>\n",
       "    <tr style=\"text-align: right;\">\n",
       "      <th></th>\n",
       "      <th>observed_medal</th>\n",
       "      <th>medal_number</th>\n",
       "      <th>days_from_theatrical</th>\n",
       "      <th>pred</th>\n",
       "      <th>title_id</th>\n",
       "      <th>title_name</th>\n",
       "      <th>kpi</th>\n",
       "      <th>pred_45</th>\n",
       "      <th>multiplier</th>\n",
       "    </tr>\n",
       "  </thead>\n",
       "  <tbody>\n",
       "    <tr>\n",
       "      <th>0</th>\n",
       "      <td>Bronze</td>\n",
       "      <td>3</td>\n",
       "      <td>0</td>\n",
       "      <td>3,584.75</td>\n",
       "      <td>nan</td>\n",
       "      <td>nan</td>\n",
       "      <td>first_views</td>\n",
       "      <td>3,534.73</td>\n",
       "      <td>1.01</td>\n",
       "    </tr>\n",
       "    <tr>\n",
       "      <th>1</th>\n",
       "      <td>Bronze</td>\n",
       "      <td>3</td>\n",
       "      <td>15</td>\n",
       "      <td>3,568.00</td>\n",
       "      <td>nan</td>\n",
       "      <td>nan</td>\n",
       "      <td>first_views</td>\n",
       "      <td>3,534.73</td>\n",
       "      <td>1.01</td>\n",
       "    </tr>\n",
       "    <tr>\n",
       "      <th>2</th>\n",
       "      <td>Bronze</td>\n",
       "      <td>3</td>\n",
       "      <td>30</td>\n",
       "      <td>3,551.32</td>\n",
       "      <td>nan</td>\n",
       "      <td>nan</td>\n",
       "      <td>first_views</td>\n",
       "      <td>3,534.73</td>\n",
       "      <td>1.00</td>\n",
       "    </tr>\n",
       "    <tr>\n",
       "      <th>3</th>\n",
       "      <td>Bronze</td>\n",
       "      <td>3</td>\n",
       "      <td>45</td>\n",
       "      <td>3,534.73</td>\n",
       "      <td>nan</td>\n",
       "      <td>nan</td>\n",
       "      <td>first_views</td>\n",
       "      <td>3,534.73</td>\n",
       "      <td>1.00</td>\n",
       "    </tr>\n",
       "    <tr>\n",
       "      <th>4</th>\n",
       "      <td>Bronze</td>\n",
       "      <td>3</td>\n",
       "      <td>60</td>\n",
       "      <td>3,518.22</td>\n",
       "      <td>nan</td>\n",
       "      <td>nan</td>\n",
       "      <td>first_views</td>\n",
       "      <td>3,534.73</td>\n",
       "      <td>1.00</td>\n",
       "    </tr>\n",
       "  </tbody>\n",
       "</table>\n",
       "</div>"
      ],
      "text/plain": [
       "  observed_medal  medal_number  days_from_theatrical     pred  title_id  \\\n",
       "0         Bronze             3                     0 3,584.75       nan   \n",
       "1         Bronze             3                    15 3,568.00       nan   \n",
       "2         Bronze             3                    30 3,551.32       nan   \n",
       "3         Bronze             3                    45 3,534.73       nan   \n",
       "4         Bronze             3                    60 3,518.22       nan   \n",
       "\n",
       "   title_name          kpi  pred_45  multiplier  \n",
       "0         nan  first_views 3,534.73        1.01  \n",
       "1         nan  first_views 3,534.73        1.01  \n",
       "2         nan  first_views 3,534.73        1.00  \n",
       "3         nan  first_views 3,534.73        1.00  \n",
       "4         nan  first_views 3,534.73        1.00  "
      ]
     },
     "execution_count": 252,
     "metadata": {},
     "output_type": "execute_result"
    }
   ],
   "source": [
    "scoring_data.head()"
   ]
  },
  {
   "cell_type": "code",
   "execution_count": 253,
   "id": "4e9a5740",
   "metadata": {},
   "outputs": [
    {
     "data": {
      "application/vnd.plotly.v1+json": {
       "config": {
        "plotlyServerURL": "https://plot.ly"
       },
       "data": [
        {
         "hovertemplate": "observed_medal=Bronze<br>days_from_theatrical=%{x}<br>multiplier=%{y}<extra></extra>",
         "legendgroup": "Bronze",
         "line": {
          "color": "#636efa",
          "dash": "solid"
         },
         "marker": {
          "symbol": "circle"
         },
         "mode": "lines",
         "name": "Bronze",
         "orientation": "v",
         "showlegend": true,
         "type": "scatter",
         "x": [
          0,
          15,
          30,
          45,
          60,
          75,
          90,
          105,
          120,
          135,
          150,
          165,
          180,
          195,
          210,
          225,
          240,
          255,
          270,
          285,
          300,
          315,
          330,
          345,
          360,
          375,
          390,
          405,
          420,
          435,
          450,
          465,
          480,
          495,
          510,
          525,
          540,
          555,
          570,
          585,
          600,
          615,
          630,
          645,
          660,
          675,
          690,
          705,
          720,
          735,
          750,
          765,
          780,
          795,
          810,
          825,
          840,
          855,
          870,
          885,
          900,
          915,
          930,
          945,
          960,
          975,
          990,
          1005,
          1020,
          1035,
          1050,
          1065,
          1080,
          1095,
          1110,
          1125,
          1140,
          1155,
          1170,
          1185,
          1200,
          1215,
          1230,
          1245,
          1260,
          1275,
          1290,
          1305,
          1320,
          1335,
          1350,
          1365,
          1380,
          1395,
          1410,
          1425,
          1440,
          1455,
          1470,
          1485,
          1500,
          1515,
          1530,
          1545,
          1560,
          1575,
          1590,
          1605,
          1620,
          1635,
          1650,
          1665,
          1680,
          1695,
          1710,
          1725,
          1740,
          1755,
          1770,
          1785
         ],
         "xaxis": "x",
         "y": [
          1.014149192866631,
          1.0094105857799998,
          1.004694223095296,
          1,
          0.9953278121825189,
          0.9906775558297483,
          0.9860491276246242,
          0.9814424247436982,
          0.9768573448547353,
          0.9722937861142928,
          0.9677516471653501,
          0.9632308271349166,
          0.9587312256316759,
          0.9542527427436335,
          0.9497952790357563,
          0.9453587355476687,
          0.9409430137913243,
          0.9365480157486858,
          0.9321736438694541,
          0.9278198010687645,
          0.9234863907249269,
          0.9191733166771577,
          0.9148804832233423,
          0.9106077951177793,
          0.9063551575689721,
          0.9021224762373979,
          0.8979096572333238,
          0.8937166071145842,
          0.8895432328844283,
          0.8853894419893301,
          0.8812551423168338,
          0.8771402421934026,
          0.8730446503822905,
          0.8689682760813932,
          0.8649110289211519,
          0.8608728189624326,
          0.8568535566944424,
          0.8528531530326291,
          0.8488715193166164,
          0.8449085673081391,
          0.8409642091889792,
          0.8370383575589361,
          0.8331309254337826,
          0.829241826243243,
          0.8253709738289778,
          0.8215182824425887,
          0.8176836667436138,
          0.8138670417975544,
          0.8100683230738938,
          0.806287426444136,
          0.8025242681798543,
          0.7987787649507434,
          0.7950508338226887,
          0.7913403922558364,
          0.7876473581026853,
          0.7839716496061789,
          0.7803131853978045,
          0.7766718844957112,
          0.773047666302836,
          0.7694404506050291,
          0.7658501575691955,
          0.7622767077414586,
          0.7587200220453015,
          0.7551800217797522,
          0.7516566286175504,
          0.7481497646033441,
          0.7446593521518833,
          0.7411853140462186,
          0.7377275734359265,
          0.7342860538353282,
          0.7308606791217216,
          0.7274513735336194,
          0.7240580616690058,
          0.7206806684835927,
          0.7173191192890781,
          0.7139733397514387,
          0.7106432558892029,
          0.7073287940717425,
          0.7040298810175804,
          0.7007464437926989,
          0.6974784098088596,
          0.6942257068219202,
          0.6909882629301878,
          0.6877660065727431,
          0.6845588665278082,
          0.6813667719110904,
          0.6781896521741658,
          0.6750274371028483,
          0.6718800568155684,
          0.6687474417617766,
          0.6656295227203344,
          0.6625262307979266,
          0.6594374974274776,
          0.656363254366573,
          0.6533034336958923,
          0.6502579678176521,
          0.6472267894540455,
          0.6442098316457056,
          0.6412070277501589,
          0.6382183114403063,
          0.6352436167028938,
          0.632282877836997,
          0.6293360294525207,
          0.6264030064686896,
          0.6234837441125688,
          0.620578177917566,
          0.6176862437219619,
          0.6148078776674415,
          0.6119430161976224,
          0.6090915960566068,
          0.6062535542875348,
          0.6034288282311341,
          0.6006173555242957,
          0.5978190740986395,
          0.5950339221791011,
          0.592261838282512,
          0.5895027612162005,
          0.5867566300765861,
          0.5840233842477937,
          0.581302963400265
         ],
         "yaxis": "y"
        },
        {
         "hovertemplate": "observed_medal=Gold<br>days_from_theatrical=%{x}<br>multiplier=%{y}<extra></extra>",
         "legendgroup": "Gold",
         "line": {
          "color": "#EF553B",
          "dash": "solid"
         },
         "marker": {
          "symbol": "circle"
         },
         "mode": "lines",
         "name": "Gold",
         "orientation": "v",
         "showlegend": true,
         "type": "scatter",
         "x": [
          0,
          15,
          30,
          45,
          60,
          75,
          90,
          105,
          120,
          135,
          150,
          165,
          180,
          195,
          210,
          225,
          240,
          255,
          270,
          285,
          300,
          315,
          330,
          345,
          360,
          375,
          390,
          405,
          420,
          435,
          450,
          465,
          480,
          495,
          510,
          525,
          540,
          555,
          570,
          585,
          600,
          615,
          630,
          645,
          660,
          675,
          690,
          705,
          720,
          735,
          750,
          765,
          780,
          795,
          810,
          825,
          840,
          855,
          870,
          885,
          900,
          915,
          930,
          945,
          960,
          975,
          990,
          1005,
          1020,
          1035,
          1050,
          1065,
          1080,
          1095,
          1110,
          1125,
          1140,
          1155,
          1170,
          1185,
          1200,
          1215,
          1230,
          1245,
          1260,
          1275,
          1290,
          1305,
          1320,
          1335,
          1350,
          1365,
          1380,
          1395,
          1410,
          1425,
          1440,
          1455,
          1470,
          1485,
          1500,
          1515,
          1530,
          1545,
          1560,
          1575,
          1590,
          1605,
          1620,
          1635,
          1650,
          1665,
          1680,
          1695,
          1710,
          1725,
          1740,
          1755,
          1770,
          1785
         ],
         "xaxis": "x",
         "y": [
          1.0142991560646386,
          1.009510325853656,
          1.0047439758065777,
          1,
          0.9952782930167701,
          0.9905787499434905,
          0.9859012663680735,
          0.9812457383772809,
          0.9766120625542738,
          0.9720001359762145,
          0.9674098562118183,
          0.9628411213189791,
          0.9582938298423587,
          0.9537678808110195,
          0.9492631737360515,
          0.9447796086082249,
          0.9403170858956467,
          0.9358755065414152,
          0.9314547719613235,
          0.9270547840415329,
          0.9226754451362879,
          0.9183166580656246,
          0.9139783261131089,
          0.9096603530235586,
          0.905362643000809,
          0.9010851007054603,
          0.8968276312526673,
          0.8925901402099037,
          0.8883725335947695,
          0.8841747178727866,
          0.8799965999552317,
          0.8758380871969469,
          0.8716990873941887,
          0.8675795087824731,
          0.8634792600344386,
          0.8593982502577124,
          0.8553363889928026,
          0.851293586210976,
          0.8472697523121717,
          0.8432647981229079,
          0.8392786348942121,
          0.8353111742995519,
          0.8313623284327805,
          0.827432009806086,
          0.8235201313479659,
          0.8196266064011973,
          0.8157513487208213,
          0.8118942724721399,
          0.8080552922287249,
          0.8042343229704236,
          0.8004312800813959,
          0.7966460793481478,
          0.7928786369575633,
          0.7891288694949792,
          0.7853966939422301,
          0.7816820276757452,
          0.777984788464607,
          0.7743048944686665,
          0.7706422642366311,
          0.7669968167041855,
          0.7633684711921088,
          0.759757147404411,
          0.756162765426471,
          0.752585245723186,
          0.749024509137128,
          0.7454804768867187,
          0.741953070564403,
          0.7384422121348361,
          0.7349478239330746,
          0.7314698286627912,
          0.7280081493944832,
          0.7245627095636848,
          0.7211334329692219,
          0.7177202437714277,
          0.7143230664904053,
          0.7109418260042849,
          0.7075764475474879,
          0.7042268567089911,
          0.7008929794306366,
          0.6975747420053959,
          0.6942720710756858,
          0.6909848936316739,
          0.6877131370096006,
          0.6844567288900946,
          0.681215597296513,
          0.6779896705932899,
          0.6747788774842743,
          0.6715831470110981,
          0.6684024085515425,
          0.6652365918179063,
          0.662085626855402,
          0.6589494440405284,
          0.6558279740794913,
          0.6527211480065935,
          0.6496288971826589,
          0.6465511532934516,
          0.6434878483481082,
          0.6404389146775777,
          0.6374042849330663,
          0.634383892084489,
          0.6313776694189365,
          0.6283855505391421,
          0.6254074693619585,
          0.6224433601168381,
          0.6194931573443363,
          0.6165567958945983,
          0.6136342109258743,
          0.6107253379030303,
          0.6078301125960712,
          0.6049484710786674,
          0.6020803497266977,
          0.5992256852167819,
          0.5963844145248428,
          0.5935564749246565,
          0.5907418039864176,
          0.5879403395753228,
          0.5851520198501333,
          0.582376783261767,
          0.5796145685519031,
          0.5768653147515634
         ],
         "yaxis": "y"
        },
        {
         "hovertemplate": "observed_medal=Silver<br>days_from_theatrical=%{x}<br>multiplier=%{y}<extra></extra>",
         "legendgroup": "Silver",
         "line": {
          "color": "#00cc96",
          "dash": "solid"
         },
         "marker": {
          "symbol": "circle"
         },
         "mode": "lines",
         "name": "Silver",
         "orientation": "v",
         "showlegend": true,
         "type": "scatter",
         "x": [
          0,
          15,
          30,
          45,
          60,
          75,
          90,
          105,
          120,
          135,
          150,
          165,
          180,
          195,
          210,
          225,
          240,
          255,
          270,
          285,
          300,
          315,
          330,
          345,
          360,
          375,
          390,
          405,
          420,
          435,
          450,
          465,
          480,
          495,
          510,
          525,
          540,
          555,
          570,
          585,
          600,
          615,
          630,
          645,
          660,
          675,
          690,
          705,
          720,
          735,
          750,
          765,
          780,
          795,
          810,
          825,
          840,
          855,
          870,
          885,
          900,
          915,
          930,
          945,
          960,
          975,
          990,
          1005,
          1020,
          1035,
          1050,
          1065,
          1080,
          1095,
          1110,
          1125,
          1140,
          1155,
          1170,
          1185,
          1200,
          1215,
          1230,
          1245,
          1260,
          1275,
          1290,
          1305,
          1320,
          1335,
          1350,
          1365,
          1380,
          1395,
          1410,
          1425,
          1440,
          1455,
          1470,
          1485,
          1500,
          1515,
          1530,
          1545,
          1560,
          1575,
          1590,
          1605,
          1620,
          1635,
          1650,
          1665,
          1680,
          1695,
          1710,
          1725,
          1740,
          1755,
          1770,
          1785
         ],
         "xaxis": "x",
         "y": [
          1.01426242431304,
          1.0094858956757267,
          1.0047317894551497,
          1,
          0.9952904221639209,
          0.9906029513030191,
          0.985937483273419,
          0.9812939144288094,
          0.9766721416180232,
          0.9720720621825956,
          0.9674935739543837,
          0.9629365752531371,
          0.9584009648841421,
          0.9538866421358386,
          0.9493935067774525,
          0.9449214590566544,
          0.9404703996972296,
          0.93604022989674,
          0.9316308513242166,
          0.9272421661178578,
          0.9228740768827394,
          0.9185264866885394,
          0.9141992990672624,
          0.909892418010994,
          0.9056057479696439,
          0.9013391938487278,
          0.8970926610071384,
          0.8928660552549237,
          0.88865928285111,
          0.884472250501495,
          0.8803048653564768,
          0.8761570350088845,
          0.8720286674918322,
          0.8679196712765589,
          0.8638299552703054,
          0.8597594288141854,
          0.8557080016810764,
          0.8516755840735125,
          0.8476620866215987,
          0.8436674203809245,
          0.8396914968304932,
          0.8357342278706682,
          0.8317955258211144,
          0.8278753034187604,
          0.8239734738157732,
          0.8200899505775355,
          0.8162246476806334,
          0.8123774795108661,
          0.8085483608612432,
          0.8047372069300169,
          0.8009439333187087,
          0.797168456030148,
          0.7934106914665231,
          0.7896705564274452,
          0.7859479681080082,
          0.7822428440968817,
          0.7785551023743855,
          0.7748846613106016,
          0.7712314396634693,
          0.7675953565769127,
          0.7639763315789607,
          0.7603742845798883,
          0.7567891358703583,
          0.7532208061195768,
          0.7496692163734594,
          0.7461342880527986,
          0.7426159429514565,
          0.7391141032345422,
          0.7356286914366217,
          0.7321596304599267,
          0.7287068435725682,
          0.7252702544067644,
          0.721849786957084,
          0.7184453655786781,
          0.7150569149855437,
          0.7116843602487842,
          0.708327626794876,
          0.7049866404039509,
          0.7016613272080834,
          0.6983516136895891,
          0.6950574266793266,
          0.6917786933550109,
          0.6885153412395388,
          0.6852672981993134,
          0.682034492442592,
          0.6788168525178184,
          0.6756143073119932,
          0.6724267860490244,
          0.6692542182881083,
          0.6660965339220998,
          0.6629536631759095,
          0.6598255366048877,
          0.6567120850932416,
          0.6536132398524336,
          0.6505289324196082,
          0.6474590946560148,
          0.6444036587454474,
          0.6413625571926815,
          0.6383357228219294,
          0.6353230887752953,
          0.6323245885112411,
          0.6293401558030604,
          0.6263697247373624,
          0.6234132297125512,
          0.6204706054373342,
          0.6175417869292142,
          0.6146267095130074,
          0.6117253088193574,
          0.608837520783264,
          0.605963281642613,
          0.6031025279367175,
          0.6002551965048665,
          0.597421224484878,
          0.5946005493116591,
          0.5917931087157776,
          0.5889988407220379,
          0.5862176836480602,
          0.5834495761028733,
          0.5806944569855119,
          0.5779522654836207
         ],
         "yaxis": "y"
        }
       ],
       "layout": {
        "autosize": true,
        "legend": {
         "title": {
          "text": "observed_medal"
         },
         "tracegroupgap": 0
        },
        "template": {
         "data": {
          "bar": [
           {
            "error_x": {
             "color": "#2a3f5f"
            },
            "error_y": {
             "color": "#2a3f5f"
            },
            "marker": {
             "line": {
              "color": "#E5ECF6",
              "width": 0.5
             },
             "pattern": {
              "fillmode": "overlay",
              "size": 10,
              "solidity": 0.2
             }
            },
            "type": "bar"
           }
          ],
          "barpolar": [
           {
            "marker": {
             "line": {
              "color": "#E5ECF6",
              "width": 0.5
             },
             "pattern": {
              "fillmode": "overlay",
              "size": 10,
              "solidity": 0.2
             }
            },
            "type": "barpolar"
           }
          ],
          "carpet": [
           {
            "aaxis": {
             "endlinecolor": "#2a3f5f",
             "gridcolor": "white",
             "linecolor": "white",
             "minorgridcolor": "white",
             "startlinecolor": "#2a3f5f"
            },
            "baxis": {
             "endlinecolor": "#2a3f5f",
             "gridcolor": "white",
             "linecolor": "white",
             "minorgridcolor": "white",
             "startlinecolor": "#2a3f5f"
            },
            "type": "carpet"
           }
          ],
          "choropleth": [
           {
            "colorbar": {
             "outlinewidth": 0,
             "ticks": ""
            },
            "type": "choropleth"
           }
          ],
          "contour": [
           {
            "colorbar": {
             "outlinewidth": 0,
             "ticks": ""
            },
            "colorscale": [
             [
              0,
              "#0d0887"
             ],
             [
              0.1111111111111111,
              "#46039f"
             ],
             [
              0.2222222222222222,
              "#7201a8"
             ],
             [
              0.3333333333333333,
              "#9c179e"
             ],
             [
              0.4444444444444444,
              "#bd3786"
             ],
             [
              0.5555555555555556,
              "#d8576b"
             ],
             [
              0.6666666666666666,
              "#ed7953"
             ],
             [
              0.7777777777777778,
              "#fb9f3a"
             ],
             [
              0.8888888888888888,
              "#fdca26"
             ],
             [
              1,
              "#f0f921"
             ]
            ],
            "type": "contour"
           }
          ],
          "contourcarpet": [
           {
            "colorbar": {
             "outlinewidth": 0,
             "ticks": ""
            },
            "type": "contourcarpet"
           }
          ],
          "heatmap": [
           {
            "colorbar": {
             "outlinewidth": 0,
             "ticks": ""
            },
            "colorscale": [
             [
              0,
              "#0d0887"
             ],
             [
              0.1111111111111111,
              "#46039f"
             ],
             [
              0.2222222222222222,
              "#7201a8"
             ],
             [
              0.3333333333333333,
              "#9c179e"
             ],
             [
              0.4444444444444444,
              "#bd3786"
             ],
             [
              0.5555555555555556,
              "#d8576b"
             ],
             [
              0.6666666666666666,
              "#ed7953"
             ],
             [
              0.7777777777777778,
              "#fb9f3a"
             ],
             [
              0.8888888888888888,
              "#fdca26"
             ],
             [
              1,
              "#f0f921"
             ]
            ],
            "type": "heatmap"
           }
          ],
          "heatmapgl": [
           {
            "colorbar": {
             "outlinewidth": 0,
             "ticks": ""
            },
            "colorscale": [
             [
              0,
              "#0d0887"
             ],
             [
              0.1111111111111111,
              "#46039f"
             ],
             [
              0.2222222222222222,
              "#7201a8"
             ],
             [
              0.3333333333333333,
              "#9c179e"
             ],
             [
              0.4444444444444444,
              "#bd3786"
             ],
             [
              0.5555555555555556,
              "#d8576b"
             ],
             [
              0.6666666666666666,
              "#ed7953"
             ],
             [
              0.7777777777777778,
              "#fb9f3a"
             ],
             [
              0.8888888888888888,
              "#fdca26"
             ],
             [
              1,
              "#f0f921"
             ]
            ],
            "type": "heatmapgl"
           }
          ],
          "histogram": [
           {
            "marker": {
             "pattern": {
              "fillmode": "overlay",
              "size": 10,
              "solidity": 0.2
             }
            },
            "type": "histogram"
           }
          ],
          "histogram2d": [
           {
            "colorbar": {
             "outlinewidth": 0,
             "ticks": ""
            },
            "colorscale": [
             [
              0,
              "#0d0887"
             ],
             [
              0.1111111111111111,
              "#46039f"
             ],
             [
              0.2222222222222222,
              "#7201a8"
             ],
             [
              0.3333333333333333,
              "#9c179e"
             ],
             [
              0.4444444444444444,
              "#bd3786"
             ],
             [
              0.5555555555555556,
              "#d8576b"
             ],
             [
              0.6666666666666666,
              "#ed7953"
             ],
             [
              0.7777777777777778,
              "#fb9f3a"
             ],
             [
              0.8888888888888888,
              "#fdca26"
             ],
             [
              1,
              "#f0f921"
             ]
            ],
            "type": "histogram2d"
           }
          ],
          "histogram2dcontour": [
           {
            "colorbar": {
             "outlinewidth": 0,
             "ticks": ""
            },
            "colorscale": [
             [
              0,
              "#0d0887"
             ],
             [
              0.1111111111111111,
              "#46039f"
             ],
             [
              0.2222222222222222,
              "#7201a8"
             ],
             [
              0.3333333333333333,
              "#9c179e"
             ],
             [
              0.4444444444444444,
              "#bd3786"
             ],
             [
              0.5555555555555556,
              "#d8576b"
             ],
             [
              0.6666666666666666,
              "#ed7953"
             ],
             [
              0.7777777777777778,
              "#fb9f3a"
             ],
             [
              0.8888888888888888,
              "#fdca26"
             ],
             [
              1,
              "#f0f921"
             ]
            ],
            "type": "histogram2dcontour"
           }
          ],
          "mesh3d": [
           {
            "colorbar": {
             "outlinewidth": 0,
             "ticks": ""
            },
            "type": "mesh3d"
           }
          ],
          "parcoords": [
           {
            "line": {
             "colorbar": {
              "outlinewidth": 0,
              "ticks": ""
             }
            },
            "type": "parcoords"
           }
          ],
          "pie": [
           {
            "automargin": true,
            "type": "pie"
           }
          ],
          "scatter": [
           {
            "marker": {
             "colorbar": {
              "outlinewidth": 0,
              "ticks": ""
             }
            },
            "type": "scatter"
           }
          ],
          "scatter3d": [
           {
            "line": {
             "colorbar": {
              "outlinewidth": 0,
              "ticks": ""
             }
            },
            "marker": {
             "colorbar": {
              "outlinewidth": 0,
              "ticks": ""
             }
            },
            "type": "scatter3d"
           }
          ],
          "scattercarpet": [
           {
            "marker": {
             "colorbar": {
              "outlinewidth": 0,
              "ticks": ""
             }
            },
            "type": "scattercarpet"
           }
          ],
          "scattergeo": [
           {
            "marker": {
             "colorbar": {
              "outlinewidth": 0,
              "ticks": ""
             }
            },
            "type": "scattergeo"
           }
          ],
          "scattergl": [
           {
            "marker": {
             "colorbar": {
              "outlinewidth": 0,
              "ticks": ""
             }
            },
            "type": "scattergl"
           }
          ],
          "scattermapbox": [
           {
            "marker": {
             "colorbar": {
              "outlinewidth": 0,
              "ticks": ""
             }
            },
            "type": "scattermapbox"
           }
          ],
          "scatterpolar": [
           {
            "marker": {
             "colorbar": {
              "outlinewidth": 0,
              "ticks": ""
             }
            },
            "type": "scatterpolar"
           }
          ],
          "scatterpolargl": [
           {
            "marker": {
             "colorbar": {
              "outlinewidth": 0,
              "ticks": ""
             }
            },
            "type": "scatterpolargl"
           }
          ],
          "scatterternary": [
           {
            "marker": {
             "colorbar": {
              "outlinewidth": 0,
              "ticks": ""
             }
            },
            "type": "scatterternary"
           }
          ],
          "surface": [
           {
            "colorbar": {
             "outlinewidth": 0,
             "ticks": ""
            },
            "colorscale": [
             [
              0,
              "#0d0887"
             ],
             [
              0.1111111111111111,
              "#46039f"
             ],
             [
              0.2222222222222222,
              "#7201a8"
             ],
             [
              0.3333333333333333,
              "#9c179e"
             ],
             [
              0.4444444444444444,
              "#bd3786"
             ],
             [
              0.5555555555555556,
              "#d8576b"
             ],
             [
              0.6666666666666666,
              "#ed7953"
             ],
             [
              0.7777777777777778,
              "#fb9f3a"
             ],
             [
              0.8888888888888888,
              "#fdca26"
             ],
             [
              1,
              "#f0f921"
             ]
            ],
            "type": "surface"
           }
          ],
          "table": [
           {
            "cells": {
             "fill": {
              "color": "#EBF0F8"
             },
             "line": {
              "color": "white"
             }
            },
            "header": {
             "fill": {
              "color": "#C8D4E3"
             },
             "line": {
              "color": "white"
             }
            },
            "type": "table"
           }
          ]
         },
         "layout": {
          "annotationdefaults": {
           "arrowcolor": "#2a3f5f",
           "arrowhead": 0,
           "arrowwidth": 1
          },
          "autotypenumbers": "strict",
          "coloraxis": {
           "colorbar": {
            "outlinewidth": 0,
            "ticks": ""
           }
          },
          "colorscale": {
           "diverging": [
            [
             0,
             "#8e0152"
            ],
            [
             0.1,
             "#c51b7d"
            ],
            [
             0.2,
             "#de77ae"
            ],
            [
             0.3,
             "#f1b6da"
            ],
            [
             0.4,
             "#fde0ef"
            ],
            [
             0.5,
             "#f7f7f7"
            ],
            [
             0.6,
             "#e6f5d0"
            ],
            [
             0.7,
             "#b8e186"
            ],
            [
             0.8,
             "#7fbc41"
            ],
            [
             0.9,
             "#4d9221"
            ],
            [
             1,
             "#276419"
            ]
           ],
           "sequential": [
            [
             0,
             "#0d0887"
            ],
            [
             0.1111111111111111,
             "#46039f"
            ],
            [
             0.2222222222222222,
             "#7201a8"
            ],
            [
             0.3333333333333333,
             "#9c179e"
            ],
            [
             0.4444444444444444,
             "#bd3786"
            ],
            [
             0.5555555555555556,
             "#d8576b"
            ],
            [
             0.6666666666666666,
             "#ed7953"
            ],
            [
             0.7777777777777778,
             "#fb9f3a"
            ],
            [
             0.8888888888888888,
             "#fdca26"
            ],
            [
             1,
             "#f0f921"
            ]
           ],
           "sequentialminus": [
            [
             0,
             "#0d0887"
            ],
            [
             0.1111111111111111,
             "#46039f"
            ],
            [
             0.2222222222222222,
             "#7201a8"
            ],
            [
             0.3333333333333333,
             "#9c179e"
            ],
            [
             0.4444444444444444,
             "#bd3786"
            ],
            [
             0.5555555555555556,
             "#d8576b"
            ],
            [
             0.6666666666666666,
             "#ed7953"
            ],
            [
             0.7777777777777778,
             "#fb9f3a"
            ],
            [
             0.8888888888888888,
             "#fdca26"
            ],
            [
             1,
             "#f0f921"
            ]
           ]
          },
          "colorway": [
           "#636efa",
           "#EF553B",
           "#00cc96",
           "#ab63fa",
           "#FFA15A",
           "#19d3f3",
           "#FF6692",
           "#B6E880",
           "#FF97FF",
           "#FECB52"
          ],
          "font": {
           "color": "#2a3f5f"
          },
          "geo": {
           "bgcolor": "white",
           "lakecolor": "white",
           "landcolor": "#E5ECF6",
           "showlakes": true,
           "showland": true,
           "subunitcolor": "white"
          },
          "hoverlabel": {
           "align": "left"
          },
          "hovermode": "closest",
          "mapbox": {
           "style": "light"
          },
          "paper_bgcolor": "white",
          "plot_bgcolor": "#E5ECF6",
          "polar": {
           "angularaxis": {
            "gridcolor": "white",
            "linecolor": "white",
            "ticks": ""
           },
           "bgcolor": "#E5ECF6",
           "radialaxis": {
            "gridcolor": "white",
            "linecolor": "white",
            "ticks": ""
           }
          },
          "scene": {
           "xaxis": {
            "backgroundcolor": "#E5ECF6",
            "gridcolor": "white",
            "gridwidth": 2,
            "linecolor": "white",
            "showbackground": true,
            "ticks": "",
            "zerolinecolor": "white"
           },
           "yaxis": {
            "backgroundcolor": "#E5ECF6",
            "gridcolor": "white",
            "gridwidth": 2,
            "linecolor": "white",
            "showbackground": true,
            "ticks": "",
            "zerolinecolor": "white"
           },
           "zaxis": {
            "backgroundcolor": "#E5ECF6",
            "gridcolor": "white",
            "gridwidth": 2,
            "linecolor": "white",
            "showbackground": true,
            "ticks": "",
            "zerolinecolor": "white"
           }
          },
          "shapedefaults": {
           "line": {
            "color": "#2a3f5f"
           }
          },
          "ternary": {
           "aaxis": {
            "gridcolor": "white",
            "linecolor": "white",
            "ticks": ""
           },
           "baxis": {
            "gridcolor": "white",
            "linecolor": "white",
            "ticks": ""
           },
           "bgcolor": "#E5ECF6",
           "caxis": {
            "gridcolor": "white",
            "linecolor": "white",
            "ticks": ""
           }
          },
          "title": {
           "x": 0.05
          },
          "xaxis": {
           "automargin": true,
           "gridcolor": "white",
           "linecolor": "white",
           "ticks": "",
           "title": {
            "standoff": 15
           },
           "zerolinecolor": "white",
           "zerolinewidth": 2
          },
          "yaxis": {
           "automargin": true,
           "gridcolor": "white",
           "linecolor": "white",
           "ticks": "",
           "title": {
            "standoff": 15
           },
           "zerolinecolor": "white",
           "zerolinewidth": 2
          }
         }
        },
        "title": {
         "text": "Release day V.S. cumulative viewership"
        },
        "xaxis": {
         "anchor": "y",
         "autorange": true,
         "domain": [
          0,
          1
         ],
         "range": [
          0,
          1785
         ],
         "title": {
          "text": "days_from_theatrical"
         },
         "type": "linear"
        },
        "yaxis": {
         "anchor": "x",
         "autorange": true,
         "domain": [
          0,
          1
         ],
         "range": [
          0.5525634346786148,
          1.0386010361375873
         ],
         "title": {
          "text": "multiplier"
         },
         "type": "linear"
        }
       }
      },
      "image/png": "[encoded data removed]",
      "text/html": [
       "<div>                            <div id=\"7950afed-d334-4943-9a56-ff0f85f72dba\" class=\"plotly-graph-div\" style=\"height:525px; width:100%;\"></div>            <script type=\"text/javascript\">                require([\"plotly\"], function(Plotly) {                    window.PLOTLYENV=window.PLOTLYENV || {};                                    if (document.getElementById(\"7950afed-d334-4943-9a56-ff0f85f72dba\")) {                    Plotly.newPlot(                        \"7950afed-d334-4943-9a56-ff0f85f72dba\",                        [{\"hovertemplate\":\"observed_medal=Bronze<br>days_from_theatrical=%{x}<br>multiplier=%{y}<extra></extra>\",\"legendgroup\":\"Bronze\",\"line\":{\"color\":\"#636efa\",\"dash\":\"solid\"},\"marker\":{\"symbol\":\"circle\"},\"mode\":\"lines\",\"name\":\"Bronze\",\"orientation\":\"v\",\"showlegend\":true,\"x\":[0,15,30,45,60,75,90,105,120,135,150,165,180,195,210,225,240,255,270,285,300,315,330,345,360,375,390,405,420,435,450,465,480,495,510,525,540,555,570,585,600,615,630,645,660,675,690,705,720,735,750,765,780,795,810,825,840,855,870,885,900,915,930,945,960,975,990,1005,1020,1035,1050,1065,1080,1095,1110,1125,1140,1155,1170,1185,1200,1215,1230,1245,1260,1275,1290,1305,1320,1335,1350,1365,1380,1395,1410,1425,1440,1455,1470,1485,1500,1515,1530,1545,1560,1575,1590,1605,1620,1635,1650,1665,1680,1695,1710,1725,1740,1755,1770,1785],\"xaxis\":\"x\",\"y\":[1.014149192866631,1.0094105857799998,1.004694223095296,1.0,0.9953278121825189,0.9906775558297483,0.9860491276246242,0.9814424247436982,0.9768573448547353,0.9722937861142928,0.9677516471653501,0.9632308271349166,0.9587312256316759,0.9542527427436335,0.9497952790357563,0.9453587355476687,0.9409430137913243,0.9365480157486858,0.9321736438694541,0.9278198010687645,0.9234863907249269,0.9191733166771577,0.9148804832233423,0.9106077951177793,0.9063551575689721,0.9021224762373979,0.8979096572333238,0.8937166071145842,0.8895432328844283,0.8853894419893301,0.8812551423168338,0.8771402421934026,0.8730446503822905,0.8689682760813932,0.8649110289211519,0.8608728189624326,0.8568535566944424,0.8528531530326291,0.8488715193166164,0.8449085673081391,0.8409642091889792,0.8370383575589361,0.8331309254337826,0.829241826243243,0.8253709738289778,0.8215182824425887,0.8176836667436138,0.8138670417975544,0.8100683230738938,0.806287426444136,0.8025242681798543,0.7987787649507434,0.7950508338226887,0.7913403922558364,0.7876473581026853,0.7839716496061789,0.7803131853978045,0.7766718844957112,0.773047666302836,0.7694404506050291,0.7658501575691955,0.7622767077414586,0.7587200220453015,0.7551800217797522,0.7516566286175504,0.7481497646033441,0.7446593521518833,0.7411853140462186,0.7377275734359265,0.7342860538353282,0.7308606791217216,0.7274513735336194,0.7240580616690058,0.7206806684835927,0.7173191192890781,0.7139733397514387,0.7106432558892029,0.7073287940717425,0.7040298810175804,0.7007464437926989,0.6974784098088596,0.6942257068219202,0.6909882629301878,0.6877660065727431,0.6845588665278082,0.6813667719110904,0.6781896521741658,0.6750274371028483,0.6718800568155684,0.6687474417617766,0.6656295227203344,0.6625262307979266,0.6594374974274776,0.656363254366573,0.6533034336958923,0.6502579678176521,0.6472267894540455,0.6442098316457056,0.6412070277501589,0.6382183114403063,0.6352436167028938,0.632282877836997,0.6293360294525207,0.6264030064686896,0.6234837441125688,0.620578177917566,0.6176862437219619,0.6148078776674415,0.6119430161976224,0.6090915960566068,0.6062535542875348,0.6034288282311341,0.6006173555242957,0.5978190740986395,0.5950339221791011,0.592261838282512,0.5895027612162005,0.5867566300765861,0.5840233842477937,0.581302963400265],\"yaxis\":\"y\",\"type\":\"scatter\"},{\"hovertemplate\":\"observed_medal=Gold<br>days_from_theatrical=%{x}<br>multiplier=%{y}<extra></extra>\",\"legendgroup\":\"Gold\",\"line\":{\"color\":\"#EF553B\",\"dash\":\"solid\"},\"marker\":{\"symbol\":\"circle\"},\"mode\":\"lines\",\"name\":\"Gold\",\"orientation\":\"v\",\"showlegend\":true,\"x\":[0,15,30,45,60,75,90,105,120,135,150,165,180,195,210,225,240,255,270,285,300,315,330,345,360,375,390,405,420,435,450,465,480,495,510,525,540,555,570,585,600,615,630,645,660,675,690,705,720,735,750,765,780,795,810,825,840,855,870,885,900,915,930,945,960,975,990,1005,1020,1035,1050,1065,1080,1095,1110,1125,1140,1155,1170,1185,1200,1215,1230,1245,1260,1275,1290,1305,1320,1335,1350,1365,1380,1395,1410,1425,1440,1455,1470,1485,1500,1515,1530,1545,1560,1575,1590,1605,1620,1635,1650,1665,1680,1695,1710,1725,1740,1755,1770,1785],\"xaxis\":\"x\",\"y\":[1.0142991560646386,1.009510325853656,1.0047439758065777,1.0,0.9952782930167701,0.9905787499434905,0.9859012663680735,0.9812457383772809,0.9766120625542738,0.9720001359762145,0.9674098562118183,0.9628411213189791,0.9582938298423587,0.9537678808110195,0.9492631737360515,0.9447796086082249,0.9403170858956467,0.9358755065414152,0.9314547719613235,0.9270547840415329,0.9226754451362879,0.9183166580656246,0.9139783261131089,0.9096603530235586,0.905362643000809,0.9010851007054603,0.8968276312526673,0.8925901402099037,0.8883725335947695,0.8841747178727866,0.8799965999552317,0.8758380871969469,0.8716990873941887,0.8675795087824731,0.8634792600344386,0.8593982502577124,0.8553363889928026,0.851293586210976,0.8472697523121717,0.8432647981229079,0.8392786348942121,0.8353111742995519,0.8313623284327805,0.827432009806086,0.8235201313479659,0.8196266064011973,0.8157513487208213,0.8118942724721399,0.8080552922287249,0.8042343229704236,0.8004312800813959,0.7966460793481478,0.7928786369575633,0.7891288694949792,0.7853966939422301,0.7816820276757452,0.777984788464607,0.7743048944686665,0.7706422642366311,0.7669968167041855,0.7633684711921088,0.759757147404411,0.756162765426471,0.752585245723186,0.749024509137128,0.7454804768867187,0.741953070564403,0.7384422121348361,0.7349478239330746,0.7314698286627912,0.7280081493944832,0.7245627095636848,0.7211334329692219,0.7177202437714277,0.7143230664904053,0.7109418260042849,0.7075764475474879,0.7042268567089911,0.7008929794306366,0.6975747420053959,0.6942720710756858,0.6909848936316739,0.6877131370096006,0.6844567288900946,0.681215597296513,0.6779896705932899,0.6747788774842743,0.6715831470110981,0.6684024085515425,0.6652365918179063,0.662085626855402,0.6589494440405284,0.6558279740794913,0.6527211480065935,0.6496288971826589,0.6465511532934516,0.6434878483481082,0.6404389146775777,0.6374042849330663,0.634383892084489,0.6313776694189365,0.6283855505391421,0.6254074693619585,0.6224433601168381,0.6194931573443363,0.6165567958945983,0.6136342109258743,0.6107253379030303,0.6078301125960712,0.6049484710786674,0.6020803497266977,0.5992256852167819,0.5963844145248428,0.5935564749246565,0.5907418039864176,0.5879403395753228,0.5851520198501333,0.582376783261767,0.5796145685519031,0.5768653147515634],\"yaxis\":\"y\",\"type\":\"scatter\"},{\"hovertemplate\":\"observed_medal=Silver<br>days_from_theatrical=%{x}<br>multiplier=%{y}<extra></extra>\",\"legendgroup\":\"Silver\",\"line\":{\"color\":\"#00cc96\",\"dash\":\"solid\"},\"marker\":{\"symbol\":\"circle\"},\"mode\":\"lines\",\"name\":\"Silver\",\"orientation\":\"v\",\"showlegend\":true,\"x\":[0,15,30,45,60,75,90,105,120,135,150,165,180,195,210,225,240,255,270,285,300,315,330,345,360,375,390,405,420,435,450,465,480,495,510,525,540,555,570,585,600,615,630,645,660,675,690,705,720,735,750,765,780,795,810,825,840,855,870,885,900,915,930,945,960,975,990,1005,1020,1035,1050,1065,1080,1095,1110,1125,1140,1155,1170,1185,1200,1215,1230,1245,1260,1275,1290,1305,1320,1335,1350,1365,1380,1395,1410,1425,1440,1455,1470,1485,1500,1515,1530,1545,1560,1575,1590,1605,1620,1635,1650,1665,1680,1695,1710,1725,1740,1755,1770,1785],\"xaxis\":\"x\",\"y\":[1.01426242431304,1.0094858956757267,1.0047317894551497,1.0,0.9952904221639209,0.9906029513030191,0.985937483273419,0.9812939144288094,0.9766721416180232,0.9720720621825956,0.9674935739543837,0.9629365752531371,0.9584009648841421,0.9538866421358386,0.9493935067774525,0.9449214590566544,0.9404703996972296,0.93604022989674,0.9316308513242166,0.9272421661178578,0.9228740768827394,0.9185264866885394,0.9141992990672624,0.909892418010994,0.9056057479696439,0.9013391938487278,0.8970926610071384,0.8928660552549237,0.88865928285111,0.884472250501495,0.8803048653564768,0.8761570350088845,0.8720286674918322,0.8679196712765589,0.8638299552703054,0.8597594288141854,0.8557080016810764,0.8516755840735125,0.8476620866215987,0.8436674203809245,0.8396914968304932,0.8357342278706682,0.8317955258211144,0.8278753034187604,0.8239734738157732,0.8200899505775355,0.8162246476806334,0.8123774795108661,0.8085483608612432,0.8047372069300169,0.8009439333187087,0.797168456030148,0.7934106914665231,0.7896705564274452,0.7859479681080082,0.7822428440968817,0.7785551023743855,0.7748846613106016,0.7712314396634693,0.7675953565769127,0.7639763315789607,0.7603742845798883,0.7567891358703583,0.7532208061195768,0.7496692163734594,0.7461342880527986,0.7426159429514565,0.7391141032345422,0.7356286914366217,0.7321596304599267,0.7287068435725682,0.7252702544067644,0.721849786957084,0.7184453655786781,0.7150569149855437,0.7116843602487842,0.708327626794876,0.7049866404039509,0.7016613272080834,0.6983516136895891,0.6950574266793266,0.6917786933550109,0.6885153412395388,0.6852672981993134,0.682034492442592,0.6788168525178184,0.6756143073119932,0.6724267860490244,0.6692542182881083,0.6660965339220998,0.6629536631759095,0.6598255366048877,0.6567120850932416,0.6536132398524336,0.6505289324196082,0.6474590946560148,0.6444036587454474,0.6413625571926815,0.6383357228219294,0.6353230887752953,0.6323245885112411,0.6293401558030604,0.6263697247373624,0.6234132297125512,0.6204706054373342,0.6175417869292142,0.6146267095130074,0.6117253088193574,0.608837520783264,0.605963281642613,0.6031025279367175,0.6002551965048665,0.597421224484878,0.5946005493116591,0.5917931087157776,0.5889988407220379,0.5862176836480602,0.5834495761028733,0.5806944569855119,0.5779522654836207],\"yaxis\":\"y\",\"type\":\"scatter\"}],                        {\"template\":{\"data\":{\"bar\":[{\"error_x\":{\"color\":\"#2a3f5f\"},\"error_y\":{\"color\":\"#2a3f5f\"},\"marker\":{\"line\":{\"color\":\"#E5ECF6\",\"width\":0.5},\"pattern\":{\"fillmode\":\"overlay\",\"size\":10,\"solidity\":0.2}},\"type\":\"bar\"}],\"barpolar\":[{\"marker\":{\"line\":{\"color\":\"#E5ECF6\",\"width\":0.5},\"pattern\":{\"fillmode\":\"overlay\",\"size\":10,\"solidity\":0.2}},\"type\":\"barpolar\"}],\"carpet\":[{\"aaxis\":{\"endlinecolor\":\"#2a3f5f\",\"gridcolor\":\"white\",\"linecolor\":\"white\",\"minorgridcolor\":\"white\",\"startlinecolor\":\"#2a3f5f\"},\"baxis\":{\"endlinecolor\":\"#2a3f5f\",\"gridcolor\":\"white\",\"linecolor\":\"white\",\"minorgridcolor\":\"white\",\"startlinecolor\":\"#2a3f5f\"},\"type\":\"carpet\"}],\"choropleth\":[{\"colorbar\":{\"outlinewidth\":0,\"ticks\":\"\"},\"type\":\"choropleth\"}],\"contour\":[{\"colorbar\":{\"outlinewidth\":0,\"ticks\":\"\"},\"colorscale\":[[0.0,\"#0d0887\"],[0.1111111111111111,\"#46039f\"],[0.2222222222222222,\"#7201a8\"],[0.3333333333333333,\"#9c179e\"],[0.4444444444444444,\"#bd3786\"],[0.5555555555555556,\"#d8576b\"],[0.6666666666666666,\"#ed7953\"],[0.7777777777777778,\"#fb9f3a\"],[0.8888888888888888,\"#fdca26\"],[1.0,\"#f0f921\"]],\"type\":\"contour\"}],\"contourcarpet\":[{\"colorbar\":{\"outlinewidth\":0,\"ticks\":\"\"},\"type\":\"contourcarpet\"}],\"heatmap\":[{\"colorbar\":{\"outlinewidth\":0,\"ticks\":\"\"},\"colorscale\":[[0.0,\"#0d0887\"],[0.1111111111111111,\"#46039f\"],[0.2222222222222222,\"#7201a8\"],[0.3333333333333333,\"#9c179e\"],[0.4444444444444444,\"#bd3786\"],[0.5555555555555556,\"#d8576b\"],[0.6666666666666666,\"#ed7953\"],[0.7777777777777778,\"#fb9f3a\"],[0.8888888888888888,\"#fdca26\"],[1.0,\"#f0f921\"]],\"type\":\"heatmap\"}],\"heatmapgl\":[{\"colorbar\":{\"outlinewidth\":0,\"ticks\":\"\"},\"colorscale\":[[0.0,\"#0d0887\"],[0.1111111111111111,\"#46039f\"],[0.2222222222222222,\"#7201a8\"],[0.3333333333333333,\"#9c179e\"],[0.4444444444444444,\"#bd3786\"],[0.5555555555555556,\"#d8576b\"],[0.6666666666666666,\"#ed7953\"],[0.7777777777777778,\"#fb9f3a\"],[0.8888888888888888,\"#fdca26\"],[1.0,\"#f0f921\"]],\"type\":\"heatmapgl\"}],\"histogram\":[{\"marker\":{\"pattern\":{\"fillmode\":\"overlay\",\"size\":10,\"solidity\":0.2}},\"type\":\"histogram\"}],\"histogram2d\":[{\"colorbar\":{\"outlinewidth\":0,\"ticks\":\"\"},\"colorscale\":[[0.0,\"#0d0887\"],[0.1111111111111111,\"#46039f\"],[0.2222222222222222,\"#7201a8\"],[0.3333333333333333,\"#9c179e\"],[0.4444444444444444,\"#bd3786\"],[0.5555555555555556,\"#d8576b\"],[0.6666666666666666,\"#ed7953\"],[0.7777777777777778,\"#fb9f3a\"],[0.8888888888888888,\"#fdca26\"],[1.0,\"#f0f921\"]],\"type\":\"histogram2d\"}],\"histogram2dcontour\":[{\"colorbar\":{\"outlinewidth\":0,\"ticks\":\"\"},\"colorscale\":[[0.0,\"#0d0887\"],[0.1111111111111111,\"#46039f\"],[0.2222222222222222,\"#7201a8\"],[0.3333333333333333,\"#9c179e\"],[0.4444444444444444,\"#bd3786\"],[0.5555555555555556,\"#d8576b\"],[0.6666666666666666,\"#ed7953\"],[0.7777777777777778,\"#fb9f3a\"],[0.8888888888888888,\"#fdca26\"],[1.0,\"#f0f921\"]],\"type\":\"histogram2dcontour\"}],\"mesh3d\":[{\"colorbar\":{\"outlinewidth\":0,\"ticks\":\"\"},\"type\":\"mesh3d\"}],\"parcoords\":[{\"line\":{\"colorbar\":{\"outlinewidth\":0,\"ticks\":\"\"}},\"type\":\"parcoords\"}],\"pie\":[{\"automargin\":true,\"type\":\"pie\"}],\"scatter\":[{\"marker\":{\"colorbar\":{\"outlinewidth\":0,\"ticks\":\"\"}},\"type\":\"scatter\"}],\"scatter3d\":[{\"line\":{\"colorbar\":{\"outlinewidth\":0,\"ticks\":\"\"}},\"marker\":{\"colorbar\":{\"outlinewidth\":0,\"ticks\":\"\"}},\"type\":\"scatter3d\"}],\"scattercarpet\":[{\"marker\":{\"colorbar\":{\"outlinewidth\":0,\"ticks\":\"\"}},\"type\":\"scattercarpet\"}],\"scattergeo\":[{\"marker\":{\"colorbar\":{\"outlinewidth\":0,\"ticks\":\"\"}},\"type\":\"scattergeo\"}],\"scattergl\":[{\"marker\":{\"colorbar\":{\"outlinewidth\":0,\"ticks\":\"\"}},\"type\":\"scattergl\"}],\"scattermapbox\":[{\"marker\":{\"colorbar\":{\"outlinewidth\":0,\"ticks\":\"\"}},\"type\":\"scattermapbox\"}],\"scatterpolar\":[{\"marker\":{\"colorbar\":{\"outlinewidth\":0,\"ticks\":\"\"}},\"type\":\"scatterpolar\"}],\"scatterpolargl\":[{\"marker\":{\"colorbar\":{\"outlinewidth\":0,\"ticks\":\"\"}},\"type\":\"scatterpolargl\"}],\"scatterternary\":[{\"marker\":{\"colorbar\":{\"outlinewidth\":0,\"ticks\":\"\"}},\"type\":\"scatterternary\"}],\"surface\":[{\"colorbar\":{\"outlinewidth\":0,\"ticks\":\"\"},\"colorscale\":[[0.0,\"#0d0887\"],[0.1111111111111111,\"#46039f\"],[0.2222222222222222,\"#7201a8\"],[0.3333333333333333,\"#9c179e\"],[0.4444444444444444,\"#bd3786\"],[0.5555555555555556,\"#d8576b\"],[0.6666666666666666,\"#ed7953\"],[0.7777777777777778,\"#fb9f3a\"],[0.8888888888888888,\"#fdca26\"],[1.0,\"#f0f921\"]],\"type\":\"surface\"}],\"table\":[{\"cells\":{\"fill\":{\"color\":\"#EBF0F8\"},\"line\":{\"color\":\"white\"}},\"header\":{\"fill\":{\"color\":\"#C8D4E3\"},\"line\":{\"color\":\"white\"}},\"type\":\"table\"}]},\"layout\":{\"annotationdefaults\":{\"arrowcolor\":\"#2a3f5f\",\"arrowhead\":0,\"arrowwidth\":1},\"autotypenumbers\":\"strict\",\"coloraxis\":{\"colorbar\":{\"outlinewidth\":0,\"ticks\":\"\"}},\"colorscale\":{\"diverging\":[[0,\"#8e0152\"],[0.1,\"#c51b7d\"],[0.2,\"#de77ae\"],[0.3,\"#f1b6da\"],[0.4,\"#fde0ef\"],[0.5,\"#f7f7f7\"],[0.6,\"#e6f5d0\"],[0.7,\"#b8e186\"],[0.8,\"#7fbc41\"],[0.9,\"#4d9221\"],[1,\"#276419\"]],\"sequential\":[[0.0,\"#0d0887\"],[0.1111111111111111,\"#46039f\"],[0.2222222222222222,\"#7201a8\"],[0.3333333333333333,\"#9c179e\"],[0.4444444444444444,\"#bd3786\"],[0.5555555555555556,\"#d8576b\"],[0.6666666666666666,\"#ed7953\"],[0.7777777777777778,\"#fb9f3a\"],[0.8888888888888888,\"#fdca26\"],[1.0,\"#f0f921\"]],\"sequentialminus\":[[0.0,\"#0d0887\"],[0.1111111111111111,\"#46039f\"],[0.2222222222222222,\"#7201a8\"],[0.3333333333333333,\"#9c179e\"],[0.4444444444444444,\"#bd3786\"],[0.5555555555555556,\"#d8576b\"],[0.6666666666666666,\"#ed7953\"],[0.7777777777777778,\"#fb9f3a\"],[0.8888888888888888,\"#fdca26\"],[1.0,\"#f0f921\"]]},\"colorway\":[\"#636efa\",\"#EF553B\",\"#00cc96\",\"#ab63fa\",\"#FFA15A\",\"#19d3f3\",\"#FF6692\",\"#B6E880\",\"#FF97FF\",\"#FECB52\"],\"font\":{\"color\":\"#2a3f5f\"},\"geo\":{\"bgcolor\":\"white\",\"lakecolor\":\"white\",\"landcolor\":\"#E5ECF6\",\"showlakes\":true,\"showland\":true,\"subunitcolor\":\"white\"},\"hoverlabel\":{\"align\":\"left\"},\"hovermode\":\"closest\",\"mapbox\":{\"style\":\"light\"},\"paper_bgcolor\":\"white\",\"plot_bgcolor\":\"#E5ECF6\",\"polar\":{\"angularaxis\":{\"gridcolor\":\"white\",\"linecolor\":\"white\",\"ticks\":\"\"},\"bgcolor\":\"#E5ECF6\",\"radialaxis\":{\"gridcolor\":\"white\",\"linecolor\":\"white\",\"ticks\":\"\"}},\"scene\":{\"xaxis\":{\"backgroundcolor\":\"#E5ECF6\",\"gridcolor\":\"white\",\"gridwidth\":2,\"linecolor\":\"white\",\"showbackground\":true,\"ticks\":\"\",\"zerolinecolor\":\"white\"},\"yaxis\":{\"backgroundcolor\":\"#E5ECF6\",\"gridcolor\":\"white\",\"gridwidth\":2,\"linecolor\":\"white\",\"showbackground\":true,\"ticks\":\"\",\"zerolinecolor\":\"white\"},\"zaxis\":{\"backgroundcolor\":\"#E5ECF6\",\"gridcolor\":\"white\",\"gridwidth\":2,\"linecolor\":\"white\",\"showbackground\":true,\"ticks\":\"\",\"zerolinecolor\":\"white\"}},\"shapedefaults\":{\"line\":{\"color\":\"#2a3f5f\"}},\"ternary\":{\"aaxis\":{\"gridcolor\":\"white\",\"linecolor\":\"white\",\"ticks\":\"\"},\"baxis\":{\"gridcolor\":\"white\",\"linecolor\":\"white\",\"ticks\":\"\"},\"bgcolor\":\"#E5ECF6\",\"caxis\":{\"gridcolor\":\"white\",\"linecolor\":\"white\",\"ticks\":\"\"}},\"title\":{\"x\":0.05},\"xaxis\":{\"automargin\":true,\"gridcolor\":\"white\",\"linecolor\":\"white\",\"ticks\":\"\",\"title\":{\"standoff\":15},\"zerolinecolor\":\"white\",\"zerolinewidth\":2},\"yaxis\":{\"automargin\":true,\"gridcolor\":\"white\",\"linecolor\":\"white\",\"ticks\":\"\",\"title\":{\"standoff\":15},\"zerolinecolor\":\"white\",\"zerolinewidth\":2}}},\"xaxis\":{\"anchor\":\"y\",\"domain\":[0.0,1.0],\"title\":{\"text\":\"days_from_theatrical\"}},\"yaxis\":{\"anchor\":\"x\",\"domain\":[0.0,1.0],\"title\":{\"text\":\"multiplier\"}},\"legend\":{\"title\":{\"text\":\"observed_medal\"},\"tracegroupgap\":0},\"title\":{\"text\":\"Release day V.S. cumulative viewership\"}},                        {\"responsive\": true}                    ).then(function(){\n",
       "                            \n",
       "var gd = document.getElementById('7950afed-d334-4943-9a56-ff0f85f72dba');\n",
       "var x = new MutationObserver(function (mutations, observer) {{\n",
       "        var display = window.getComputedStyle(gd).display;\n",
       "        if (!display || display === 'none') {{\n",
       "            console.log([gd, 'removed!']);\n",
       "            Plotly.purge(gd);\n",
       "            observer.disconnect();\n",
       "        }}\n",
       "}});\n",
       "\n",
       "// Listen for the removal of the full notebook cells\n",
       "var notebookContainer = gd.closest('#notebook-container');\n",
       "if (notebookContainer) {{\n",
       "    x.observe(notebookContainer, {childList: true});\n",
       "}}\n",
       "\n",
       "// Listen for the clearing of the current output cell\n",
       "var outputEl = gd.closest('.output');\n",
       "if (outputEl) {{\n",
       "    x.observe(outputEl, {childList: true});\n",
       "}}\n",
       "\n",
       "                        })                };                });            </script>        </div>"
      ]
     },
     "metadata": {},
     "output_type": "display_data"
    }
   ],
   "source": [
    "plot_df = scoring_data.groupby(['days_from_theatrical', 'observed_medal']).mean().reset_index()\n",
    "fig = px.line(plot_df, x=\"days_from_theatrical\", y=\"multiplier\", color = 'observed_medal',\n",
    "              title='Release day V.S. cumulative viewership')\n",
    "fig.show()"
   ]
  },
  {
   "cell_type": "code",
   "execution_count": 254,
   "id": "c6d64407",
   "metadata": {},
   "outputs": [
    {
     "name": "stderr",
     "output_type": "stream",
     "text": [
      "/home/ec2-user/anaconda3/envs/python3/lib/python3.6/site-packages/boto3/compat.py:88: PythonDeprecationWarning:\n",
      "\n",
      "Boto3 will no longer support Python 3.6 starting May 30, 2022. To continue receiving service updates, bug fixes, and security updates please upgrade to Python 3.7 or later. More information can be found here: https://aws.amazon.com/blogs/developer/python-support-policy-updates-for-aws-sdks-and-tools/\n",
      "\n"
     ]
    }
   ],
   "source": [
    "write_to_sf(scoring_data[OUTPUT_COLS], 'low_budget_medal_level_first_views')"
   ]
  },
  {
   "cell_type": "markdown",
   "id": "1712fb09",
   "metadata": {},
   "source": [
    "# WRITE TO SF"
   ]
  },
  {
   "cell_type": "code",
   "execution_count": 214,
   "id": "89cb7367",
   "metadata": {},
   "outputs": [],
   "source": [
    "import boto3\n",
    "import io"
   ]
  },
  {
   "cell_type": "code",
   "execution_count": 55,
   "id": "546cb8de",
   "metadata": {},
   "outputs": [
    {
     "name": "stderr",
     "output_type": "stream",
     "text": [
      "/home/ec2-user/anaconda3/envs/python3/lib/python3.6/site-packages/boto3/compat.py:88: PythonDeprecationWarning: Boto3 will no longer support Python 3.6 starting May 30, 2022. To continue receiving service updates, bug fixes, and security updates please upgrade to Python 3.7 or later. More information can be found here: https://aws.amazon.com/blogs/developer/python-support-policy-updates-for-aws-sdks-and-tools/\n",
      "  warnings.warn(warning, PythonDeprecationWarning)\n"
     ]
    }
   ],
   "source": [
    "## WRITE OR READ FROM S3 ####\n",
    "import boto3\n",
    "import io\n",
    "\n",
    "s3 = boto3.resource('s3')\n",
    "output_bucket = \"hbo-outbound-datascience-content-dev\"\n",
    "input_bucket = \"hbo-ingest-datascience-content-dev\"\n",
    "bucket = s3.Bucket(input_bucket)\n",
    "\n",
    "def write_to_sf(df, file_name):\n",
    "    csv_buffer = io.StringIO()\n",
    "    df.to_csv(csv_buffer, index = False)\n",
    "    content = csv_buffer.getvalue()\n",
    "    filename = 'movie_windowing/{}.csv'.format(file_name)\n",
    "    client = boto3.client('s3')\n",
    "    client.put_object(Bucket=output_bucket, Key=filename, Body=content)\n",
    "    \n",
    "def write_to_input(df, file_name):\n",
    "    csv_buffer = io.StringIO()\n",
    "    df.to_csv(csv_buffer, index = False)\n",
    "    content = csv_buffer.getvalue()\n",
    "    filename = 'movie_windowing/{}.csv'.format(file_name)\n",
    "    client = boto3.client('s3')\n",
    "    client.put_object(Bucket=input_bucket, Key=filename, Body=content)\n",
    "    \n",
    "def read_from_s3(filename, input_bucket = input_bucket):\n",
    "    for obj in bucket.objects.filter(Prefix='movie_windowing/'+filename): #churn_metric_0811\n",
    "            key = obj.key \n",
    "            body = obj.get()['Body']\n",
    "            print('Reading {0} features'.format(key))\n",
    "            df = pd.read_csv(body, na_values = [r'\\\\\\\\N'])\n",
    "    return df"
   ]
  },
  {
   "cell_type": "code",
   "execution_count": 56,
   "id": "b8944562",
   "metadata": {},
   "outputs": [],
   "source": [
    "# OUTPUT_COLS = ['title_id', 'imdb_id', 'title', 'home_territory_observed_medal', 'pillar_genres', 'area_gross', 'medal_number', 'budget', 'days_from_theatrical2', 'kpi', 'pred']"
   ]
  },
  {
   "cell_type": "code",
   "execution_count": 57,
   "id": "9fb35ed5",
   "metadata": {},
   "outputs": [],
   "source": [
    "from abc import ABCMeta, abstractmethod\n",
    "\n",
    "class Credentials(metaclass=ABCMeta):\n",
    "    pass\n",
    "    \n",
    "    \n",
    "class SSMPSCredentials(Credentials):\n",
    "    def __init__(self, secretid: str):\n",
    "        self._secretid = secretid\n",
    "        self._secrets = {}\n",
    "        \n",
    "    def get_keys(self):\n",
    "        \"\"\"\n",
    "        credential fetching \n",
    "        \"\"\"\n",
    "        _aws_sm_args = {'service_name': 'secretsmanager', 'region_name': 'us-east-1'}\n",
    "        secrets_client = boto3.client(**_aws_sm_args)\n",
    "        get_secret_value_response = secrets_client.get_secret_value(SecretId=self._secretid)\n",
    "        return get_secret_value_response\n",
    "    \n",
    "    \n",
    "class BaseConnector(metaclass=ABCMeta):\n",
    "    @abstractmethod\n",
    "    def connect(self):\n",
    "        raise NotImplementedError\n",
    "    \n",
    "\n",
    "class SnowflakeConnector(BaseConnector):\n",
    "    def __init__(self, credentials: Credentials):\n",
    "        keys = credentials.get_keys()\n",
    "        self._secrets = json.loads(keys.get('SecretString', \"{}\"))\n",
    "\n",
    "    def connect(self, dbname: str, schema: str = 'DEFAULT'):\n",
    "        ctx = snowflake.connector.connect(\n",
    "            user=self._secrets['login_name'],\n",
    "            password=self._secrets['login_password'],\n",
    "            account=self._secrets['account'],\n",
    "            warehouse=self._secrets['warehouse'],\n",
    "            database=dbname,\n",
    "            schema=schema\n",
    "        )\n",
    "\n",
    "        return ctx\n",
    "    \n",
    "## Credentials\n",
    "SF_CREDS = 'datascience-max-dev-sagemaker-notebooks'\n",
    "\n",
    "## Snowflake connection \n",
    "conn=SnowflakeConnector(SSMPSCredentials(SF_CREDS))\n",
    "ctx=conn.connect(\"MAX_DEV\",\"WORKSPACE\")\n",
    "\n",
    "def run_query(query):\n",
    "    cursor = ctx.cursor()\n",
    "    cursor.execute(query)\n",
    "    df = pd.DataFrame(cursor.fetchall(), columns = [desc[0] for desc in cursor.description])\n",
    "    df.columns= df.columns.str.lower()\n",
    "    return df"
   ]
  },
  {
   "cell_type": "code",
   "execution_count": 154,
   "id": "c0b2b2af",
   "metadata": {},
   "outputs": [
    {
     "data": {
      "text/html": [
       "<div>\n",
       "<style scoped>\n",
       "    .dataframe tbody tr th:only-of-type {\n",
       "        vertical-align: middle;\n",
       "    }\n",
       "\n",
       "    .dataframe tbody tr th {\n",
       "        vertical-align: top;\n",
       "    }\n",
       "\n",
       "    .dataframe thead th {\n",
       "        text-align: right;\n",
       "    }\n",
       "</style>\n",
       "<table border=\"1\" class=\"dataframe\">\n",
       "  <thead>\n",
       "    <tr style=\"text-align: right;\">\n",
       "      <th></th>\n",
       "      <th>status</th>\n",
       "    </tr>\n",
       "  </thead>\n",
       "  <tbody>\n",
       "    <tr>\n",
       "      <th>0</th>\n",
       "      <td>Table MOVIE_WINDOW_PREDICTION_TITLE_LEVEL_SUBS...</td>\n",
       "    </tr>\n",
       "  </tbody>\n",
       "</table>\n",
       "</div>"
      ],
      "text/plain": [
       "                                              status\n",
       "0  Table MOVIE_WINDOW_PREDICTION_TITLE_LEVEL_SUBS..."
      ]
     },
     "execution_count": 154,
     "metadata": {},
     "output_type": "execute_result"
    }
   ],
   "source": [
    "run_query('''\n",
    "create or replace table max_dev.workspace.movie_window_prediction_title_level_subs\n",
    "(\n",
    "title_id\tVARCHAR,\n",
    "imdb_id\tVARCHAR,\n",
    "title\tVARCHAR,\n",
    "home_territory_observed_medal\tVARCHAR,\n",
    "pillar_genres\tVARCHAR,\n",
    "area_gross\tFLOAT,\n",
    "medal_number\tINT,\n",
    "budget\tFLOAT,\n",
    "days_from_theatrical2\tINT,\n",
    "kpi\tVARCHAR,\n",
    "pred FLOAT\n",
    ");\n",
    "\n",
    "''')\n"
   ]
  },
  {
   "cell_type": "code",
   "execution_count": 18,
   "id": "8f3cd4ce",
   "metadata": {},
   "outputs": [
    {
     "data": {
      "text/html": [
       "<div>\n",
       "<style scoped>\n",
       "    .dataframe tbody tr th:only-of-type {\n",
       "        vertical-align: middle;\n",
       "    }\n",
       "\n",
       "    .dataframe tbody tr th {\n",
       "        vertical-align: top;\n",
       "    }\n",
       "\n",
       "    .dataframe thead th {\n",
       "        text-align: right;\n",
       "    }\n",
       "</style>\n",
       "<table border=\"1\" class=\"dataframe\">\n",
       "  <thead>\n",
       "    <tr style=\"text-align: right;\">\n",
       "      <th></th>\n",
       "      <th>status</th>\n",
       "    </tr>\n",
       "  </thead>\n",
       "  <tbody>\n",
       "    <tr>\n",
       "      <th>0</th>\n",
       "      <td>Table MOVIE_WINDOW_PREDICTION_ACTUAL_VALUE suc...</td>\n",
       "    </tr>\n",
       "  </tbody>\n",
       "</table>\n",
       "</div>"
      ],
      "text/plain": [
       "                                              status\n",
       "0  Table MOVIE_WINDOW_PREDICTION_ACTUAL_VALUE suc..."
      ]
     },
     "execution_count": 18,
     "metadata": {},
     "output_type": "execute_result"
    }
   ],
   "source": [
    "# run_query('''\n",
    "# create or replace table max_dev.workspace.movie_window_prediction_actual_value\n",
    "# (\n",
    "# title_id\tVARCHAR,\n",
    "# days_from_theatrical2 int,\n",
    "# value FLOAT,\n",
    "# kpi\tVARCHAR\n",
    "# );\n",
    "\n",
    "# ''')"
   ]
  },
  {
   "cell_type": "code",
   "execution_count": null,
   "id": "d612de0f",
   "metadata": {},
   "outputs": [],
   "source": [
    "#first_views #genre_level_first_views"
   ]
  },
  {
   "cell_type": "code",
   "execution_count": 155,
   "id": "a3634868",
   "metadata": {},
   "outputs": [
    {
     "data": {
      "text/html": [
       "<div>\n",
       "<style scoped>\n",
       "    .dataframe tbody tr th:only-of-type {\n",
       "        vertical-align: middle;\n",
       "    }\n",
       "\n",
       "    .dataframe tbody tr th {\n",
       "        vertical-align: top;\n",
       "    }\n",
       "\n",
       "    .dataframe thead th {\n",
       "        text-align: right;\n",
       "    }\n",
       "</style>\n",
       "<table border=\"1\" class=\"dataframe\">\n",
       "  <thead>\n",
       "    <tr style=\"text-align: right;\">\n",
       "      <th></th>\n",
       "      <th>file</th>\n",
       "      <th>status</th>\n",
       "      <th>rows_parsed</th>\n",
       "      <th>rows_loaded</th>\n",
       "      <th>error_limit</th>\n",
       "      <th>errors_seen</th>\n",
       "      <th>first_error</th>\n",
       "      <th>first_error_line</th>\n",
       "      <th>first_error_character</th>\n",
       "      <th>first_error_column_name</th>\n",
       "    </tr>\n",
       "  </thead>\n",
       "  <tbody>\n",
       "    <tr>\n",
       "      <th>0</th>\n",
       "      <td>s3://hbo-outbound-datascience-content-dev/movi...</td>\n",
       "      <td>LOADED</td>\n",
       "      <td>1022</td>\n",
       "      <td>1022</td>\n",
       "      <td>1022</td>\n",
       "      <td>0</td>\n",
       "      <td>None</td>\n",
       "      <td>None</td>\n",
       "      <td>None</td>\n",
       "      <td>None</td>\n",
       "    </tr>\n",
       "  </tbody>\n",
       "</table>\n",
       "</div>"
      ],
      "text/plain": [
       "                                                file  status  rows_parsed  \\\n",
       "0  s3://hbo-outbound-datascience-content-dev/movi...  LOADED         1022   \n",
       "\n",
       "   rows_loaded  error_limit  errors_seen first_error first_error_line  \\\n",
       "0         1022         1022            0        None             None   \n",
       "\n",
       "  first_error_character first_error_column_name  \n",
       "0                  None                    None  "
      ]
     },
     "execution_count": 155,
     "metadata": {},
     "output_type": "execute_result"
    }
   ],
   "source": [
    "run_query('''\n",
    "copy into max_dev.workspace.movie_window_prediction_title_level_subs\n",
    "    from(\n",
    "        select\n",
    "              $1, $2, $3, $4, $5, $6, $7, $8, $9, $10, $11\n",
    "        from @HBO_OUTBOUND_DATASCIENCE_CONTENT_DEV/movie_windowing/movie_window_prediction_title_level_subs.csv\n",
    "        )\n",
    "    file_format = (type = csv null_if=('') skip_header = 1  FIELD_OPTIONALLY_ENCLOSED_BY='\"')\n",
    "    on_error = 'CONTINUE';\n",
    "\n",
    "''')"
   ]
  },
  {
   "cell_type": "code",
   "execution_count": 19,
   "id": "7e6755d3",
   "metadata": {},
   "outputs": [
    {
     "data": {
      "text/html": [
       "<div>\n",
       "<style scoped>\n",
       "    .dataframe tbody tr th:only-of-type {\n",
       "        vertical-align: middle;\n",
       "    }\n",
       "\n",
       "    .dataframe tbody tr th {\n",
       "        vertical-align: top;\n",
       "    }\n",
       "\n",
       "    .dataframe thead th {\n",
       "        text-align: right;\n",
       "    }\n",
       "</style>\n",
       "<table border=\"1\" class=\"dataframe\">\n",
       "  <thead>\n",
       "    <tr style=\"text-align: right;\">\n",
       "      <th></th>\n",
       "      <th>file</th>\n",
       "      <th>status</th>\n",
       "      <th>rows_parsed</th>\n",
       "      <th>rows_loaded</th>\n",
       "      <th>error_limit</th>\n",
       "      <th>errors_seen</th>\n",
       "      <th>first_error</th>\n",
       "      <th>first_error_line</th>\n",
       "      <th>first_error_character</th>\n",
       "      <th>first_error_column_name</th>\n",
       "    </tr>\n",
       "  </thead>\n",
       "  <tbody>\n",
       "    <tr>\n",
       "      <th>0</th>\n",
       "      <td>s3://hbo-outbound-datascience-content-dev/movi...</td>\n",
       "      <td>LOADED</td>\n",
       "      <td>206</td>\n",
       "      <td>206</td>\n",
       "      <td>206</td>\n",
       "      <td>0</td>\n",
       "      <td>None</td>\n",
       "      <td>None</td>\n",
       "      <td>None</td>\n",
       "      <td>None</td>\n",
       "    </tr>\n",
       "  </tbody>\n",
       "</table>\n",
       "</div>"
      ],
      "text/plain": [
       "                                                file  status  rows_parsed  \\\n",
       "0  s3://hbo-outbound-datascience-content-dev/movi...  LOADED          206   \n",
       "\n",
       "   rows_loaded  error_limit  errors_seen first_error first_error_line  \\\n",
       "0          206          206            0        None             None   \n",
       "\n",
       "  first_error_character first_error_column_name  \n",
       "0                  None                    None  "
      ]
     },
     "execution_count": 19,
     "metadata": {},
     "output_type": "execute_result"
    }
   ],
   "source": [
    "# run_query('''\n",
    "# copy into max_dev.workspace.movie_window_prediction_actual_value\n",
    "#     from(\n",
    "#         select\n",
    "#               $1, $2, $3, $4\n",
    "#         from @HBO_OUTBOUND_DATASCIENCE_CONTENT_DEV/movie_windowing/movie_window_prediction_actual_value.csv\n",
    "#         )\n",
    "#     file_format = (type = csv null_if=('') skip_header = 1  FIELD_OPTIONALLY_ENCLOSED_BY='\"')\n",
    "#     on_error = 'CONTINUE';\n",
    "\n",
    "# ''')"
   ]
  },
  {
   "cell_type": "code",
   "execution_count": 189,
   "id": "f1572691",
   "metadata": {},
   "outputs": [
    {
     "data": {
      "text/html": [
       "<div>\n",
       "<style scoped>\n",
       "    .dataframe tbody tr th:only-of-type {\n",
       "        vertical-align: middle;\n",
       "    }\n",
       "\n",
       "    .dataframe tbody tr th {\n",
       "        vertical-align: top;\n",
       "    }\n",
       "\n",
       "    .dataframe thead th {\n",
       "        text-align: right;\n",
       "    }\n",
       "</style>\n",
       "<table border=\"1\" class=\"dataframe\">\n",
       "  <thead>\n",
       "    <tr style=\"text-align: right;\">\n",
       "      <th></th>\n",
       "      <th>Unnamed: 0</th>\n",
       "      <th>title_id</th>\n",
       "      <th>title</th>\n",
       "      <th>home_territory_observed_medal</th>\n",
       "      <th>pillar_genres</th>\n",
       "      <th>imdb_id</th>\n",
       "      <th>theatrical_release_date</th>\n",
       "      <th>offering_start_date</th>\n",
       "      <th>days_from_theatrical2</th>\n",
       "      <th>pct_actives</th>\n",
       "      <th>days_from_max_launch</th>\n",
       "      <th>cumulative_viewing_subs</th>\n",
       "      <th>cumulative_first_views</th>\n",
       "      <th>area_gross</th>\n",
       "      <th>budget</th>\n",
       "      <th>genre_Action/Adventure</th>\n",
       "      <th>genre_Comedy</th>\n",
       "      <th>genre_Drama</th>\n",
       "      <th>genre_Horror</th>\n",
       "      <th>genre_Kids/Family</th>\n",
       "      <th>genre_Romance</th>\n",
       "      <th>genre_Sci-Fi</th>\n",
       "      <th>genre_Suspense/Thriller</th>\n",
       "      <th>medal_number</th>\n",
       "      <th>platform</th>\n",
       "      <th>medal_Bronze</th>\n",
       "      <th>medal_Gold</th>\n",
       "      <th>medal_Platinum</th>\n",
       "      <th>medal_Silver</th>\n",
       "      <th>log_cumulative_first_views</th>\n",
       "    </tr>\n",
       "  </thead>\n",
       "  <tbody>\n",
       "    <tr>\n",
       "      <th>0</th>\n",
       "      <td>0</td>\n",
       "      <td>GYPXEhQg3DFbCwwEAAADm</td>\n",
       "      <td>News of the World</td>\n",
       "      <td>Silver</td>\n",
       "      <td>Action/Adventure</td>\n",
       "      <td>tt6878306</td>\n",
       "      <td>2020-12-25</td>\n",
       "      <td>2021-09-05</td>\n",
       "      <td>250</td>\n",
       "      <td>0.09</td>\n",
       "      <td>-219</td>\n",
       "      <td>2557041</td>\n",
       "      <td>25362</td>\n",
       "      <td>2,250,430.00</td>\n",
       "      <td>38,000,000.00</td>\n",
       "      <td>1</td>\n",
       "      <td>0</td>\n",
       "      <td>0</td>\n",
       "      <td>0</td>\n",
       "      <td>0</td>\n",
       "      <td>0</td>\n",
       "      <td>0</td>\n",
       "      <td>0</td>\n",
       "      <td>2</td>\n",
       "      <td>1.00</td>\n",
       "      <td>0</td>\n",
       "      <td>0</td>\n",
       "      <td>0</td>\n",
       "      <td>1</td>\n",
       "      <td>14.63</td>\n",
       "    </tr>\n",
       "    <tr>\n",
       "      <th>3</th>\n",
       "      <td>3</td>\n",
       "      <td>GYbzvWABDj8LDwgEAAAAp</td>\n",
       "      <td>The Last Duel</td>\n",
       "      <td>Gold</td>\n",
       "      <td>Drama</td>\n",
       "      <td>tt4244994</td>\n",
       "      <td>2021-10-15</td>\n",
       "      <td>2022-01-14</td>\n",
       "      <td>91</td>\n",
       "      <td>0.16</td>\n",
       "      <td>-513</td>\n",
       "      <td>5012315</td>\n",
       "      <td>33314</td>\n",
       "      <td>4,759,151.00</td>\n",
       "      <td>100,000,000.00</td>\n",
       "      <td>0</td>\n",
       "      <td>0</td>\n",
       "      <td>1</td>\n",
       "      <td>0</td>\n",
       "      <td>0</td>\n",
       "      <td>0</td>\n",
       "      <td>0</td>\n",
       "      <td>0</td>\n",
       "      <td>1</td>\n",
       "      <td>1.00</td>\n",
       "      <td>0</td>\n",
       "      <td>1</td>\n",
       "      <td>0</td>\n",
       "      <td>0</td>\n",
       "      <td>15.02</td>\n",
       "    </tr>\n",
       "    <tr>\n",
       "      <th>4</th>\n",
       "      <td>4</td>\n",
       "      <td>GYm0w5wSRXaTDYQEAAAD4</td>\n",
       "      <td>Last Night in Soho</td>\n",
       "      <td>Silver</td>\n",
       "      <td>Suspense/Thriller</td>\n",
       "      <td>tt9639470</td>\n",
       "      <td>2021-10-29</td>\n",
       "      <td>2022-07-01</td>\n",
       "      <td>245</td>\n",
       "      <td>0.07</td>\n",
       "      <td>-527</td>\n",
       "      <td>2005376</td>\n",
       "      <td>8975</td>\n",
       "      <td>4,178,460.00</td>\n",
       "      <td>43,000,000.00</td>\n",
       "      <td>0</td>\n",
       "      <td>0</td>\n",
       "      <td>0</td>\n",
       "      <td>0</td>\n",
       "      <td>0</td>\n",
       "      <td>0</td>\n",
       "      <td>0</td>\n",
       "      <td>1</td>\n",
       "      <td>2</td>\n",
       "      <td>1.00</td>\n",
       "      <td>0</td>\n",
       "      <td>0</td>\n",
       "      <td>0</td>\n",
       "      <td>1</td>\n",
       "      <td>13.13</td>\n",
       "    </tr>\n",
       "    <tr>\n",
       "      <th>6</th>\n",
       "      <td>6</td>\n",
       "      <td>GYd9P0QTRLMLDJwEAAAAP</td>\n",
       "      <td>Antlers</td>\n",
       "      <td>Silver</td>\n",
       "      <td>Horror</td>\n",
       "      <td>tt7740510</td>\n",
       "      <td>2021-10-11</td>\n",
       "      <td>2022-02-11</td>\n",
       "      <td>123</td>\n",
       "      <td>0.09</td>\n",
       "      <td>-509</td>\n",
       "      <td>2614867</td>\n",
       "      <td>14444</td>\n",
       "      <td>4,271,346.00</td>\n",
       "      <td>0.00</td>\n",
       "      <td>0</td>\n",
       "      <td>0</td>\n",
       "      <td>0</td>\n",
       "      <td>1</td>\n",
       "      <td>0</td>\n",
       "      <td>0</td>\n",
       "      <td>0</td>\n",
       "      <td>0</td>\n",
       "      <td>2</td>\n",
       "      <td>1.00</td>\n",
       "      <td>0</td>\n",
       "      <td>0</td>\n",
       "      <td>0</td>\n",
       "      <td>1</td>\n",
       "      <td>13.82</td>\n",
       "    </tr>\n",
       "    <tr>\n",
       "      <th>7</th>\n",
       "      <td>7</td>\n",
       "      <td>GYfinBwyKBImYsgEAAACn</td>\n",
       "      <td>Halloween Kills</td>\n",
       "      <td>Silver</td>\n",
       "      <td>Horror</td>\n",
       "      <td>tt10665338</td>\n",
       "      <td>2021-10-15</td>\n",
       "      <td>2022-03-18</td>\n",
       "      <td>137</td>\n",
       "      <td>0.10</td>\n",
       "      <td>-513</td>\n",
       "      <td>2838005</td>\n",
       "      <td>28030</td>\n",
       "      <td>49,404,980.00</td>\n",
       "      <td>20,000,000.00</td>\n",
       "      <td>0</td>\n",
       "      <td>0</td>\n",
       "      <td>0</td>\n",
       "      <td>1</td>\n",
       "      <td>0</td>\n",
       "      <td>0</td>\n",
       "      <td>0</td>\n",
       "      <td>0</td>\n",
       "      <td>2</td>\n",
       "      <td>1.00</td>\n",
       "      <td>0</td>\n",
       "      <td>0</td>\n",
       "      <td>0</td>\n",
       "      <td>1</td>\n",
       "      <td>14.77</td>\n",
       "    </tr>\n",
       "  </tbody>\n",
       "</table>\n",
       "</div>"
      ],
      "text/plain": [
       "   Unnamed: 0               title_id               title  \\\n",
       "0           0  GYPXEhQg3DFbCwwEAAADm   News of the World   \n",
       "3           3  GYbzvWABDj8LDwgEAAAAp       The Last Duel   \n",
       "4           4  GYm0w5wSRXaTDYQEAAAD4  Last Night in Soho   \n",
       "6           6  GYd9P0QTRLMLDJwEAAAAP             Antlers   \n",
       "7           7  GYfinBwyKBImYsgEAAACn     Halloween Kills   \n",
       "\n",
       "  home_territory_observed_medal      pillar_genres     imdb_id  \\\n",
       "0                        Silver  Action/Adventure    tt6878306   \n",
       "3                          Gold              Drama   tt4244994   \n",
       "4                        Silver  Suspense/Thriller   tt9639470   \n",
       "6                        Silver            Horror    tt7740510   \n",
       "7                        Silver            Horror   tt10665338   \n",
       "\n",
       "  theatrical_release_date offering_start_date  days_from_theatrical2  \\\n",
       "0              2020-12-25          2021-09-05                    250   \n",
       "3              2021-10-15          2022-01-14                     91   \n",
       "4              2021-10-29          2022-07-01                    245   \n",
       "6              2021-10-11          2022-02-11                    123   \n",
       "7              2021-10-15          2022-03-18                    137   \n",
       "\n",
       "   pct_actives  days_from_max_launch  cumulative_viewing_subs  \\\n",
       "0         0.09                  -219                  2557041   \n",
       "3         0.16                  -513                  5012315   \n",
       "4         0.07                  -527                  2005376   \n",
       "6         0.09                  -509                  2614867   \n",
       "7         0.10                  -513                  2838005   \n",
       "\n",
       "   cumulative_first_views    area_gross         budget  \\\n",
       "0                   25362  2,250,430.00  38,000,000.00   \n",
       "3                   33314  4,759,151.00 100,000,000.00   \n",
       "4                    8975  4,178,460.00  43,000,000.00   \n",
       "6                   14444  4,271,346.00           0.00   \n",
       "7                   28030 49,404,980.00  20,000,000.00   \n",
       "\n",
       "   genre_Action/Adventure   genre_Comedy  genre_Drama  genre_Horror   \\\n",
       "0                        1             0            0              0   \n",
       "3                        0             0            1              0   \n",
       "4                        0             0            0              0   \n",
       "6                        0             0            0              1   \n",
       "7                        0             0            0              1   \n",
       "\n",
       "   genre_Kids/Family  genre_Romance  genre_Sci-Fi  genre_Suspense/Thriller  \\\n",
       "0                  0              0             0                        0   \n",
       "3                  0              0             0                        0   \n",
       "4                  0              0             0                        1   \n",
       "6                  0              0             0                        0   \n",
       "7                  0              0             0                        0   \n",
       "\n",
       "   medal_number  platform  medal_Bronze  medal_Gold  medal_Platinum  \\\n",
       "0             2      1.00             0           0               0   \n",
       "3             1      1.00             0           1               0   \n",
       "4             2      1.00             0           0               0   \n",
       "6             2      1.00             0           0               0   \n",
       "7             2      1.00             0           0               0   \n",
       "\n",
       "   medal_Silver  log_cumulative_first_views  \n",
       "0             1                       14.63  \n",
       "3             0                       15.02  \n",
       "4             1                       13.13  \n",
       "6             1                       13.82  \n",
       "7             1                       14.77  "
      ]
     },
     "execution_count": 189,
     "metadata": {},
     "output_type": "execute_result"
    }
   ],
   "source": [
    "training_data.head()"
   ]
  },
  {
   "cell_type": "code",
   "execution_count": 15,
   "id": "ff6d7ed0",
   "metadata": {},
   "outputs": [],
   "source": [
    "df1 = training_data[['title_id', 'days_from_theatrical2', 'cumulative_viewing_subs']].rename(columns = {'cumulative_viewing_subs':'value'})\n",
    "df1['kpi'] = 'viewing_subs'\n",
    "df2 = training_data[['title_id', 'days_from_theatrical2', 'cumulative_first_views']].rename(columns = {'cumulative_first_views':'value'})\n",
    "df2['kpi'] = 'first_views'\n",
    "actual_data = pd.concat([df1, df2], axis = 0)"
   ]
  },
  {
   "cell_type": "code",
   "execution_count": 16,
   "id": "2e9c26e8",
   "metadata": {},
   "outputs": [
    {
     "name": "stderr",
     "output_type": "stream",
     "text": [
      "/home/ec2-user/anaconda3/envs/python3/lib/python3.6/site-packages/boto3/compat.py:88: PythonDeprecationWarning: Boto3 will no longer support Python 3.6 starting May 30, 2022. To continue receiving service updates, bug fixes, and security updates please upgrade to Python 3.7 or later. More information can be found here: https://aws.amazon.com/blogs/developer/python-support-policy-updates-for-aws-sdks-and-tools/\n",
      "  warnings.warn(warning, PythonDeprecationWarning)\n"
     ]
    }
   ],
   "source": [
    "write_to_sf(actual_data, 'actual_value')"
   ]
  },
  {
   "cell_type": "code",
   "execution_count": 1,
   "id": "115c2b99",
   "metadata": {},
   "outputs": [
    {
     "ename": "NameError",
     "evalue": "name 'actual_data' is not defined",
     "output_type": "error",
     "traceback": [
      "\u001b[0;31m---------------------------------------------------------------------------\u001b[0m",
      "\u001b[0;31mNameError\u001b[0m                                 Traceback (most recent call last)",
      "\u001b[0;32m<ipython-input-1-36e23ef02cd4>\u001b[0m in \u001b[0;36m<module>\u001b[0;34m\u001b[0m\n\u001b[0;32m----> 1\u001b[0;31m \u001b[0mactual_data\u001b[0m\u001b[0;34m.\u001b[0m\u001b[0mtail\u001b[0m\u001b[0;34m(\u001b[0m\u001b[0;34m)\u001b[0m\u001b[0;34m\u001b[0m\u001b[0;34m\u001b[0m\u001b[0m\n\u001b[0m",
      "\u001b[0;31mNameError\u001b[0m: name 'actual_data' is not defined"
     ]
    }
   ],
   "source": [
    "actual_data.tail()"
   ]
  },
  {
   "cell_type": "code",
   "execution_count": null,
   "id": "fcad1edf",
   "metadata": {},
   "outputs": [],
   "source": []
  }
 ],
 "metadata": {
  "kernelspec": {
   "display_name": "conda_python3",
   "language": "python",
   "name": "conda_python3"
  },
  "language_info": {
   "codemirror_mode": {
    "name": "ipython",
    "version": 3
   },
   "file_extension": ".py",
   "mimetype": "text/x-python",
   "name": "python",
   "nbconvert_exporter": "python",
   "pygments_lexer": "ipython3",
   "version": "3.6.13"
  }
 },
 "nbformat": 4,
 "nbformat_minor": 5
}
