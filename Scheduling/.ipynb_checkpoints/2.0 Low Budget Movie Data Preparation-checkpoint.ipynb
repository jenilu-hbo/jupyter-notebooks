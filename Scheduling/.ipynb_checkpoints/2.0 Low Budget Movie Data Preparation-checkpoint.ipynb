{
 "cells": [
  {
   "cell_type": "code",
   "execution_count": 1,
   "id": "fef6f493",
   "metadata": {},
   "outputs": [],
   "source": [
    "# general\n",
    "import boto3\n",
    "import datetime as dt\n",
    "import json\n",
    "import numpy as np\n",
    "import pandas as pd\n",
    "import snowflake.connector"
   ]
  },
  {
   "cell_type": "code",
   "execution_count": 2,
   "id": "cbedba05",
   "metadata": {},
   "outputs": [],
   "source": [
    "pd.set_option('display.max_rows', 1000)\n",
    "pd.set_option('display.max_columns', 1000)"
   ]
  },
  {
   "cell_type": "code",
   "execution_count": 3,
   "id": "5bd8f078",
   "metadata": {},
   "outputs": [],
   "source": [
    "pd.options.display.float_format = '{:,.2f}'.format"
   ]
  },
  {
   "cell_type": "markdown",
   "id": "33250623",
   "metadata": {},
   "source": [
    "### 0.2 : Connection to Snowflake"
   ]
  },
  {
   "cell_type": "code",
   "execution_count": 4,
   "id": "75f4c234",
   "metadata": {},
   "outputs": [
    {
     "name": "stderr",
     "output_type": "stream",
     "text": [
      "/home/ec2-user/anaconda3/envs/python3/lib/python3.6/site-packages/boto3/compat.py:88: PythonDeprecationWarning: Boto3 will no longer support Python 3.6 starting May 30, 2022. To continue receiving service updates, bug fixes, and security updates please upgrade to Python 3.7 or later. More information can be found here: https://aws.amazon.com/blogs/developer/python-support-policy-updates-for-aws-sdks-and-tools/\n",
      "  warnings.warn(warning, PythonDeprecationWarning)\n"
     ]
    }
   ],
   "source": [
    "from abc import ABCMeta, abstractmethod\n",
    "\n",
    "class Credentials(metaclass=ABCMeta):\n",
    "    pass\n",
    "    \n",
    "    \n",
    "class SSMPSCredentials(Credentials):\n",
    "    def __init__(self, secretid: str):\n",
    "        self._secretid = secretid\n",
    "        self._secrets = {}\n",
    "        \n",
    "    def get_keys(self):\n",
    "        \"\"\"\n",
    "        credential fetching \n",
    "        \"\"\"\n",
    "        _aws_sm_args = {'service_name': 'secretsmanager', 'region_name': 'us-east-1'}\n",
    "        secrets_client = boto3.client(**_aws_sm_args)\n",
    "        get_secret_value_response = secrets_client.get_secret_value(SecretId=self._secretid)\n",
    "        return get_secret_value_response\n",
    "    \n",
    "    \n",
    "class BaseConnector(metaclass=ABCMeta):\n",
    "    @abstractmethod\n",
    "    def connect(self):\n",
    "        raise NotImplementedError\n",
    "    \n",
    "\n",
    "class SnowflakeConnector(BaseConnector):\n",
    "    def __init__(self, credentials: Credentials):\n",
    "        keys = credentials.get_keys()\n",
    "        self._secrets = json.loads(keys.get('SecretString', \"{}\"))\n",
    "\n",
    "    def connect(self, dbname: str, schema: str = 'DEFAULT'):\n",
    "        ctx = snowflake.connector.connect(\n",
    "            user=self._secrets['login_name'],\n",
    "            password=self._secrets['login_password'],\n",
    "            account=self._secrets['account'],\n",
    "            warehouse=self._secrets['warehouse'],\n",
    "            database=dbname,\n",
    "            schema=schema\n",
    "        )\n",
    "\n",
    "        return ctx\n",
    "    \n",
    "## Credentials\n",
    "SF_CREDS = 'datascience-max-dev-sagemaker-notebooks'\n",
    "\n",
    "## Snowflake connection \n",
    "conn=SnowflakeConnector(SSMPSCredentials(SF_CREDS))\n",
    "ctx=conn.connect(\"MAX_PROD\",\"WORKSPACE\")\n",
    "\n",
    "def run_query(query):\n",
    "    cursor = ctx.cursor()\n",
    "    cursor.execute(query)\n",
    "    df = pd.DataFrame(cursor.fetchall(), columns = [desc[0] for desc in cursor.description])\n",
    "    df.columns= df.columns.str.lower()\n",
    "    return df"
   ]
  },
  {
   "cell_type": "code",
   "execution_count": 5,
   "id": "7556dba3",
   "metadata": {},
   "outputs": [],
   "source": [
    "original_movies = pd.read_csv('Low budget movie comp list filled.csv')"
   ]
  },
  {
   "cell_type": "code",
   "execution_count": 6,
   "id": "394bde25",
   "metadata": {},
   "outputs": [],
   "source": [
    "original_movies = original_movies[['HBO MAX Title ID', 'Series Title (Long)']]\n",
    "original_movies.columns = ['title_id', 'title_name']"
   ]
  },
  {
   "cell_type": "code",
   "execution_count": 7,
   "id": "879405f2",
   "metadata": {},
   "outputs": [
    {
     "data": {
      "text/html": [
       "<div>\n",
       "<style scoped>\n",
       "    .dataframe tbody tr th:only-of-type {\n",
       "        vertical-align: middle;\n",
       "    }\n",
       "\n",
       "    .dataframe tbody tr th {\n",
       "        vertical-align: top;\n",
       "    }\n",
       "\n",
       "    .dataframe thead th {\n",
       "        text-align: right;\n",
       "    }\n",
       "</style>\n",
       "<table border=\"1\" class=\"dataframe\">\n",
       "  <thead>\n",
       "    <tr style=\"text-align: right;\">\n",
       "      <th></th>\n",
       "      <th>title_id</th>\n",
       "      <th>title_name</th>\n",
       "    </tr>\n",
       "  </thead>\n",
       "  <tbody>\n",
       "    <tr>\n",
       "      <th>0</th>\n",
       "      <td>GYJH0ywjHJsPCTQEAAAB0</td>\n",
       "      <td>2047: Sights of Death</td>\n",
       "    </tr>\n",
       "    <tr>\n",
       "      <th>1</th>\n",
       "      <td>GYr22VwVeNniVwwEAAAAM</td>\n",
       "      <td>50/50</td>\n",
       "    </tr>\n",
       "    <tr>\n",
       "      <th>2</th>\n",
       "      <td>GYsgbcAryPGB2wgEAAAAC</td>\n",
       "      <td>A Ghost Story</td>\n",
       "    </tr>\n",
       "    <tr>\n",
       "      <th>3</th>\n",
       "      <td>GYJ54lwm83zynLQEAAAAC</td>\n",
       "      <td>A History of Violence</td>\n",
       "    </tr>\n",
       "    <tr>\n",
       "      <th>4</th>\n",
       "      <td>GYM39nw0cY4erwwEAAAAS</td>\n",
       "      <td>A United Kingdom</td>\n",
       "    </tr>\n",
       "  </tbody>\n",
       "</table>\n",
       "</div>"
      ],
      "text/plain": [
       "                title_id             title_name\n",
       "0  GYJH0ywjHJsPCTQEAAAB0  2047: Sights of Death\n",
       "1  GYr22VwVeNniVwwEAAAAM                  50/50\n",
       "2  GYsgbcAryPGB2wgEAAAAC          A Ghost Story\n",
       "3  GYJ54lwm83zynLQEAAAAC  A History of Violence\n",
       "4  GYM39nw0cY4erwwEAAAAS       A United Kingdom"
      ]
     },
     "execution_count": 7,
     "metadata": {},
     "output_type": "execute_result"
    }
   ],
   "source": [
    "original_movies.head()"
   ]
  },
  {
   "cell_type": "code",
   "execution_count": 8,
   "id": "923a923e",
   "metadata": {},
   "outputs": [
    {
     "data": {
      "text/plain": [
       "98"
      ]
     },
     "execution_count": 8,
     "metadata": {},
     "output_type": "execute_result"
    }
   ],
   "source": [
    "len(original_movies)"
   ]
  },
  {
   "cell_type": "code",
   "execution_count": 84,
   "id": "cfc3815e",
   "metadata": {},
   "outputs": [],
   "source": [
    "title_info = run_query('''\n",
    "WITH INFO AS (\n",
    "select DISTINCT title_name\n",
    "    , concat(coalesce(rad.series_id, rad.viewable_id)) as title_id\n",
    "    , PRIMARY_GENRE_DESC\n",
    "    , program_type\n",
    "    , coalesce(rad.THEATRICAL_RELEASE_DATE, stg.THEATRICAL_RELEASE_DATE, rad.air_date) as THEATRICAL_RELEASE_DATE\n",
    "    , ASSET_RUN_TIME\n",
    "    , offering_start_date\n",
    "    , offering_end_date\n",
    "    , IS_DIRECT_TO_MAX_TITLE\n",
    "    , licensor\n",
    "     FROM \"MAX_PROD\".\"CATALOG\".\"ASSET_OFFERING_DIM\" aod\n",
    "LEFT JOIN \"MAX_PROD\".\"CATALOG\".\"REPORTING_ASSET_DIM\" rad ON aod.VIEWABLE_ID = rad.VIEWABLE_ID\n",
    "LEFT JOIN max_prod.staging.tentpole_titles_stg stg on aod.VIEWABLE_ID = stg.VIEWABLE_ID and aod.territory = stg.territory\n",
    "where 1=1\n",
    "and aod.territory='HBO MAX DOMESTIC'\n",
    "and channel = 'HBO MAX SUBSCRIPTION'\n",
    "and OFFERING_TYPE = 'FEATURE'\n",
    ")\n",
    "\n",
    ", first_window AS(\n",
    "SELECT title_id, MIN(offering_start_date) AS first_offer_window\n",
    "FROM INFO\n",
    "GROUP BY 1\n",
    ")\n",
    "\n",
    "SELECT INFO.*\n",
    "FROM INFO\n",
    "JOIN first_window fw\n",
    "ON info.title_id = fw.title_id\n",
    "and info.offering_start_date = fw.first_offer_window\n",
    "''')"
   ]
  },
  {
   "cell_type": "code",
   "execution_count": 85,
   "id": "fa5ab33f",
   "metadata": {},
   "outputs": [],
   "source": [
    "title_info = title_info.merge(original_movies[['title_id']], on = ['title_id'])"
   ]
  },
  {
   "cell_type": "code",
   "execution_count": 86,
   "id": "85e4e1b6",
   "metadata": {},
   "outputs": [
    {
     "data": {
      "text/plain": [
       "26"
      ]
     },
     "execution_count": 86,
     "metadata": {},
     "output_type": "execute_result"
    }
   ],
   "source": [
    "len(title_info)"
   ]
  },
  {
   "cell_type": "code",
   "execution_count": 21,
   "id": "a3cd6e50",
   "metadata": {},
   "outputs": [],
   "source": [
    "medal= run_query('''\n",
    "WITH TEMP AS (\n",
    "SELECT t.title_id, \n",
    "       t.CUMULATIVE_VIEWING_SUBS/plt.viewing_subscribers*100 as percent_cumulative_viewing_subscribers,\n",
    "       t.CUMULATIVE_FIRST_VIEWS/plt.subscription_first_views*100 as percent_cumulative_first_views\n",
    "from max_prod.content_analytics.new_title_release_days_on_platform t\n",
    "join max_prod.content_analytics.cumulative_platform_viewership_pst plt\n",
    "ON to_char(t.first_release_date, 'YYYY-MM-DD') = plt.start_date\n",
    "AND DAYS_ON_HBO_MAX = days_since_release\n",
    "WHERE TITLE_LEVEL = 'Series and Movies'\n",
    "AND DAYS_ON_HBO_MAX = 28\n",
    "and region = 'NORTH AMERICA'\n",
    ")\n",
    "\n",
    "SELECT title_id,\n",
    "    case when percent_cumulative_viewing_subscribers > 20 or percent_cumulative_first_views > 10 then 'Platinum'\n",
    "\t\t when percent_cumulative_viewing_subscribers > 10 or percent_cumulative_first_views > 5 then 'Gold'\n",
    "\t\t when percent_cumulative_viewing_subscribers > 5 or percent_cumulative_first_views > 2.5 then 'Silver'\n",
    "\t\t else 'Bronze'\n",
    "\t\t end as observed_medal\n",
    "FROM TEMP\n",
    "''')"
   ]
  },
  {
   "cell_type": "code",
   "execution_count": 87,
   "id": "d94db900",
   "metadata": {},
   "outputs": [],
   "source": [
    "title_info = title_info.merge(medal, on = ['title_id'], how = 'left')"
   ]
  },
  {
   "cell_type": "code",
   "execution_count": 88,
   "id": "27f76fd7",
   "metadata": {},
   "outputs": [],
   "source": [
    "title_info['observed_medal'] = title_info['observed_medal'].fillna('Bronze')"
   ]
  },
  {
   "cell_type": "code",
   "execution_count": 78,
   "id": "79a397c9",
   "metadata": {},
   "outputs": [],
   "source": [
    "feature = run_query('''\n",
    "select   \n",
    "      dop.title_id as title_id\n",
    "    , days_on_hbo_max\n",
    "    ,cumulative_viewing_subs\n",
    "    ,cumulative_first_views\n",
    "    ,dop.cumulative_viewing_subs/denom.viewing_subscribers*100 as percent_cumulative_viewing_subscribers\n",
    "    ,dop.CUMULATIVE_FIRST_VIEWS/denom.subscription_first_views*100 as percent_cumulative_first_views\n",
    "    ,MAX(map.imdb_id) as imdb_id\n",
    "    ,MAX(area_gross) AS area_gross\n",
    "    ,MAX(bdg.AMOUNT) as budget\n",
    "from max_prod.content_analytics.new_title_release_days_on_platform dop \n",
    "JOIN max_prod.content_analytics.cumulative_platform_viewership_pst  denom \n",
    "    on to_varchar(dop.FIRST_RELEASE_DATE, 'yyyy-mm-dd') = denom.start_date\n",
    "    and dop.days_on_hbo_max = denom.days_since_release\n",
    "left join max_prod.ckg.ed_wm_wb_imdb_mapping map --vid to imdb_id\n",
    "    on map.viewable_id=dop.title_id\n",
    "left join \"MAX_PROD\".\"CKG\".imdb_boxoffice_opening_weekends bo --title_id to imdb_id\n",
    "    on bo.title_id=map.imdb_id\n",
    "    and (area_code='XDOM' or area_code is null)\n",
    "left join \"MAX_PROD\".\"CKG\".IMDB_BOXOFFICE_TITLE_BUDGET bdg -- budget title_id to imdb_id\n",
    "    on bdg.title_id=map.imdb_id\n",
    "where 1=1\n",
    "    --and area_gross is not null\n",
    "    and dop.title_level = 'Series and Movies'\n",
    "    and dop.days_on_hbo_max = 90\n",
    "    and denom.region = 'NORTH AMERICA'\n",
    "group by 1,2,3,4,5,6\n",
    "order by 1 desc\n",
    "''')"
   ]
  },
  {
   "cell_type": "code",
   "execution_count": 89,
   "id": "c852c509",
   "metadata": {},
   "outputs": [],
   "source": [
    "title_info = title_info.merge(feature, on = ['title_id'], how = 'left')"
   ]
  },
  {
   "cell_type": "code",
   "execution_count": 94,
   "id": "6d52d085",
   "metadata": {},
   "outputs": [
    {
     "data": {
      "text/plain": [
       "title_name                0.00\n",
       "imdb_id                   0.04\n",
       "area_gross                0.54\n",
       "budget                    0.42\n",
       "theatrical_release_date   0.00\n",
       "dtype: float64"
      ]
     },
     "execution_count": 94,
     "metadata": {},
     "output_type": "execute_result"
    }
   ],
   "source": [
    "title_info[['title_name', 'imdb_id', 'area_gross', 'budget', 'theatrical_release_date']].isnull().sum()/len(title_info)"
   ]
  },
  {
   "cell_type": "code",
   "execution_count": 106,
   "id": "6a1dbd9a",
   "metadata": {},
   "outputs": [],
   "source": [
    "title_info['days_from_theatrical'] = (title_info['offering_start_date'].apply(pd.to_datetime)\n",
    "                                    - title_info['theatrical_release_date'].dt.date.apply(pd.to_datetime)).dt.days"
   ]
  },
  {
   "cell_type": "code",
   "execution_count": 108,
   "id": "cd0a30f1",
   "metadata": {},
   "outputs": [],
   "source": [
    "movie_hbo = title_info.copy()"
   ]
  },
  {
   "cell_type": "code",
   "execution_count": 109,
   "id": "0e4ccb4b",
   "metadata": {},
   "outputs": [
    {
     "data": {
      "text/html": [
       "<div>\n",
       "<style scoped>\n",
       "    .dataframe tbody tr th:only-of-type {\n",
       "        vertical-align: middle;\n",
       "    }\n",
       "\n",
       "    .dataframe tbody tr th {\n",
       "        vertical-align: top;\n",
       "    }\n",
       "\n",
       "    .dataframe thead th {\n",
       "        text-align: right;\n",
       "    }\n",
       "</style>\n",
       "<table border=\"1\" class=\"dataframe\">\n",
       "  <thead>\n",
       "    <tr style=\"text-align: right;\">\n",
       "      <th></th>\n",
       "      <th>title_name</th>\n",
       "      <th>title_id</th>\n",
       "      <th>primary_genre_desc</th>\n",
       "      <th>program_type</th>\n",
       "      <th>theatrical_release_date</th>\n",
       "      <th>asset_run_time</th>\n",
       "      <th>offering_start_date</th>\n",
       "      <th>offering_end_date</th>\n",
       "      <th>is_direct_to_max_title</th>\n",
       "      <th>licensor</th>\n",
       "      <th>observed_medal</th>\n",
       "      <th>days_on_hbo_max</th>\n",
       "      <th>cumulative_viewing_subs</th>\n",
       "      <th>cumulative_first_views</th>\n",
       "      <th>percent_cumulative_viewing_subscribers</th>\n",
       "      <th>percent_cumulative_first_views</th>\n",
       "      <th>imdb_id</th>\n",
       "      <th>area_gross</th>\n",
       "      <th>budget</th>\n",
       "      <th>days_from_theatrical</th>\n",
       "    </tr>\n",
       "  </thead>\n",
       "  <tbody>\n",
       "    <tr>\n",
       "      <th>0</th>\n",
       "      <td>A Christmas Mystery</td>\n",
       "      <td>GY2QUhg4BOJ_DwgEAAAD-</td>\n",
       "      <td>comedy</td>\n",
       "      <td>acquired</td>\n",
       "      <td>2022-11-24</td>\n",
       "      <td>5,224.00</td>\n",
       "      <td>2022-11-24 08:01:00</td>\n",
       "      <td>2026-05-06 03:59:00</td>\n",
       "      <td>1</td>\n",
       "      <td>Warner Bros. Inc., Warner Media Direct, LLC</td>\n",
       "      <td>Bronze</td>\n",
       "      <td>90.00</td>\n",
       "      <td>670,922.00</td>\n",
       "      <td>3,898.00</td>\n",
       "      <td>2.134800</td>\n",
       "      <td>0.076700</td>\n",
       "      <td>tt22207152</td>\n",
       "      <td>nan</td>\n",
       "      <td>nan</td>\n",
       "      <td>0</td>\n",
       "    </tr>\n",
       "    <tr>\n",
       "      <th>1</th>\n",
       "      <td>The Kitchen</td>\n",
       "      <td>GXhzsZA8cqx_DTgEAAADY</td>\n",
       "      <td>crime</td>\n",
       "      <td>acquired</td>\n",
       "      <td>2019-09-20</td>\n",
       "      <td>6,153.00</td>\n",
       "      <td>2020-03-29 00:00:00</td>\n",
       "      <td>2020-12-01 10:59:00</td>\n",
       "      <td>0</td>\n",
       "      <td>WARNER BROS. INC.</td>\n",
       "      <td>Bronze</td>\n",
       "      <td>90.00</td>\n",
       "      <td>39,837.00</td>\n",
       "      <td>2,045.00</td>\n",
       "      <td>0.514600</td>\n",
       "      <td>0.025600</td>\n",
       "      <td>tt5822564</td>\n",
       "      <td>5,527,410.00</td>\n",
       "      <td>38,000,000.00</td>\n",
       "      <td>191</td>\n",
       "    </tr>\n",
       "    <tr>\n",
       "      <th>2</th>\n",
       "      <td>The Good Liar</td>\n",
       "      <td>GXpTQtgV6ax-auwEAABc3</td>\n",
       "      <td>crime</td>\n",
       "      <td>acquired</td>\n",
       "      <td>2019-11-15</td>\n",
       "      <td>6,574.00</td>\n",
       "      <td>2020-06-14 00:00:00</td>\n",
       "      <td>2021-03-01 10:59:00</td>\n",
       "      <td>0</td>\n",
       "      <td>WARNER BROS. INC.</td>\n",
       "      <td>Bronze</td>\n",
       "      <td>90.00</td>\n",
       "      <td>186,115.00</td>\n",
       "      <td>10,519.00</td>\n",
       "      <td>2.221600</td>\n",
       "      <td>0.176400</td>\n",
       "      <td>tt5563334</td>\n",
       "      <td>5,605,051.00</td>\n",
       "      <td>10,000,000.00</td>\n",
       "      <td>212</td>\n",
       "    </tr>\n",
       "    <tr>\n",
       "      <th>3</th>\n",
       "      <td>Moonshot</td>\n",
       "      <td>GYhfK9AxT1KKnnQEAAADT</td>\n",
       "      <td>comedy</td>\n",
       "      <td>acquired</td>\n",
       "      <td>2022-03-31</td>\n",
       "      <td>6,123.00</td>\n",
       "      <td>2022-03-31 07:01:00</td>\n",
       "      <td>2022-07-01 03:59:00</td>\n",
       "      <td>1</td>\n",
       "      <td>Warner Bros. Domestic Television Distribution,...</td>\n",
       "      <td>Silver</td>\n",
       "      <td>90.00</td>\n",
       "      <td>1,791,406.00</td>\n",
       "      <td>10,045.00</td>\n",
       "      <td>6.014500</td>\n",
       "      <td>0.247000</td>\n",
       "      <td>tt12585076</td>\n",
       "      <td>nan</td>\n",
       "      <td>nan</td>\n",
       "      <td>0</td>\n",
       "    </tr>\n",
       "    <tr>\n",
       "      <th>4</th>\n",
       "      <td>Lights Out</td>\n",
       "      <td>GWZsaUQkr0bXCLwEAAABn</td>\n",
       "      <td>horror</td>\n",
       "      <td>acquired</td>\n",
       "      <td>2016-07-22</td>\n",
       "      <td>4,755.00</td>\n",
       "      <td>2020-06-01 10:00:00</td>\n",
       "      <td>2020-12-11 10:59:00</td>\n",
       "      <td>0</td>\n",
       "      <td>WARNER BROS. INC.</td>\n",
       "      <td>Bronze</td>\n",
       "      <td>90.00</td>\n",
       "      <td>57,023.00</td>\n",
       "      <td>1,956.00</td>\n",
       "      <td>0.721200</td>\n",
       "      <td>0.030800</td>\n",
       "      <td>tt4786282</td>\n",
       "      <td>21,688,103.00</td>\n",
       "      <td>4,900,000.00</td>\n",
       "      <td>1410</td>\n",
       "    </tr>\n",
       "  </tbody>\n",
       "</table>\n",
       "</div>"
      ],
      "text/plain": [
       "            title_name               title_id primary_genre_desc program_type  \\\n",
       "0  A Christmas Mystery  GY2QUhg4BOJ_DwgEAAAD-             comedy     acquired   \n",
       "1          The Kitchen  GXhzsZA8cqx_DTgEAAADY              crime     acquired   \n",
       "2        The Good Liar  GXpTQtgV6ax-auwEAABc3              crime     acquired   \n",
       "3             Moonshot  GYhfK9AxT1KKnnQEAAADT             comedy     acquired   \n",
       "4           Lights Out  GWZsaUQkr0bXCLwEAAABn             horror     acquired   \n",
       "\n",
       "  theatrical_release_date  asset_run_time offering_start_date  \\\n",
       "0              2022-11-24        5,224.00 2022-11-24 08:01:00   \n",
       "1              2019-09-20        6,153.00 2020-03-29 00:00:00   \n",
       "2              2019-11-15        6,574.00 2020-06-14 00:00:00   \n",
       "3              2022-03-31        6,123.00 2022-03-31 07:01:00   \n",
       "4              2016-07-22        4,755.00 2020-06-01 10:00:00   \n",
       "\n",
       "    offering_end_date  is_direct_to_max_title  \\\n",
       "0 2026-05-06 03:59:00                       1   \n",
       "1 2020-12-01 10:59:00                       0   \n",
       "2 2021-03-01 10:59:00                       0   \n",
       "3 2022-07-01 03:59:00                       1   \n",
       "4 2020-12-11 10:59:00                       0   \n",
       "\n",
       "                                            licensor observed_medal  \\\n",
       "0        Warner Bros. Inc., Warner Media Direct, LLC         Bronze   \n",
       "1                                  WARNER BROS. INC.         Bronze   \n",
       "2                                  WARNER BROS. INC.         Bronze   \n",
       "3  Warner Bros. Domestic Television Distribution,...         Silver   \n",
       "4                                  WARNER BROS. INC.         Bronze   \n",
       "\n",
       "   days_on_hbo_max  cumulative_viewing_subs  cumulative_first_views  \\\n",
       "0            90.00               670,922.00                3,898.00   \n",
       "1            90.00                39,837.00                2,045.00   \n",
       "2            90.00               186,115.00               10,519.00   \n",
       "3            90.00             1,791,406.00               10,045.00   \n",
       "4            90.00                57,023.00                1,956.00   \n",
       "\n",
       "  percent_cumulative_viewing_subscribers percent_cumulative_first_views  \\\n",
       "0                               2.134800                       0.076700   \n",
       "1                               0.514600                       0.025600   \n",
       "2                               2.221600                       0.176400   \n",
       "3                               6.014500                       0.247000   \n",
       "4                               0.721200                       0.030800   \n",
       "\n",
       "      imdb_id    area_gross        budget  days_from_theatrical  \n",
       "0  tt22207152           nan           nan                     0  \n",
       "1   tt5822564  5,527,410.00 38,000,000.00                   191  \n",
       "2   tt5563334  5,605,051.00 10,000,000.00                   212  \n",
       "3  tt12585076           nan           nan                     0  \n",
       "4   tt4786282 21,688,103.00  4,900,000.00                  1410  "
      ]
     },
     "execution_count": 109,
     "metadata": {},
     "output_type": "execute_result"
    }
   ],
   "source": [
    "movie_hbo.head()"
   ]
  },
  {
   "cell_type": "code",
   "execution_count": 110,
   "id": "c3f379bf",
   "metadata": {},
   "outputs": [],
   "source": [
    "# Catigorical feature \n",
    "category_onehot = pd.get_dummies(movie_hbo['primary_genre_desc'], prefix='genre')\n",
    "movie_hbo=pd.concat([movie_hbo, category_onehot], axis = 1)"
   ]
  },
  {
   "cell_type": "code",
   "execution_count": 111,
   "id": "2547ee89",
   "metadata": {},
   "outputs": [],
   "source": [
    "medal_onehot = pd.get_dummies(movie_hbo['observed_medal'], prefix='medal')\n",
    "movie_hbo=pd.concat([movie_hbo, medal_onehot], axis = 1)"
   ]
  },
  {
   "cell_type": "code",
   "execution_count": 113,
   "id": "d5a0b6ed",
   "metadata": {},
   "outputs": [],
   "source": [
    "# Medal Data\n",
    "medal_dict = {'Silver':2, 'Bronze':3, 'Gold':1 , 'Platinum':0}\n",
    "movie_hbo['medal_number'] = movie_hbo['observed_medal'].replace(medal_dict)"
   ]
  },
  {
   "cell_type": "code",
   "execution_count": 148,
   "id": "4898496d",
   "metadata": {},
   "outputs": [],
   "source": [
    "movie_hbo['log_cumulative_first_views'] = np.log2(movie_hbo['cumulative_first_views'])\n",
    "movie_hbo['log_cumulative_viewing_subs'] = np.log2(movie_hbo['cumulative_viewing_subs'])"
   ]
  },
  {
   "cell_type": "code",
   "execution_count": 115,
   "id": "6e38584b",
   "metadata": {},
   "outputs": [
    {
     "data": {
      "text/plain": [
       "26"
      ]
     },
     "execution_count": 115,
     "metadata": {},
     "output_type": "execute_result"
    }
   ],
   "source": [
    "movie_hbo.title_id.count()"
   ]
  },
  {
   "cell_type": "markdown",
   "id": "76e84830",
   "metadata": {},
   "source": [
    "# Correlation"
   ]
  },
  {
   "cell_type": "code",
   "execution_count": 116,
   "id": "426881f5",
   "metadata": {},
   "outputs": [],
   "source": [
    "import matplotlib.pyplot as plt \n",
    "import seaborn as sns"
   ]
  },
  {
   "cell_type": "code",
   "execution_count": 149,
   "id": "cf18f710",
   "metadata": {},
   "outputs": [],
   "source": [
    "data = movie_hbo.copy()"
   ]
  },
  {
   "cell_type": "code",
   "execution_count": 150,
   "id": "5bdd52ed",
   "metadata": {},
   "outputs": [],
   "source": [
    "data['percent_cumulative_viewing_subscribers'] = data['percent_cumulative_viewing_subscribers'].astype(float)"
   ]
  },
  {
   "cell_type": "code",
   "execution_count": 139,
   "id": "8dd1bc85",
   "metadata": {},
   "outputs": [],
   "source": [
    "FEATURE_COLS = ['days_from_theatrical', 'area_gross', 'budget', 'genre_action', 'genre_comedy', \n",
    "                'genre_crime', 'genre_drama', 'genre_fantasy & sci-fi', 'genre_horror', \n",
    "                'medal_number', 'medal_Bronze', 'medal_Gold', 'medal_Platinum', 'medal_Silver',\n",
    "               'is_direct_to_max_title']"
   ]
  },
  {
   "cell_type": "code",
   "execution_count": 140,
   "id": "b169a18c",
   "metadata": {},
   "outputs": [],
   "source": [
    "TARGET_COL = ['cumulative_viewing_subs'] # cumulative_first_views"
   ]
  },
  {
   "cell_type": "code",
   "execution_count": 141,
   "id": "92e23cc8",
   "metadata": {},
   "outputs": [
    {
     "data": {
      "text/html": [
       "<div>\n",
       "<style scoped>\n",
       "    .dataframe tbody tr th:only-of-type {\n",
       "        vertical-align: middle;\n",
       "    }\n",
       "\n",
       "    .dataframe tbody tr th {\n",
       "        vertical-align: top;\n",
       "    }\n",
       "\n",
       "    .dataframe thead th {\n",
       "        text-align: right;\n",
       "    }\n",
       "</style>\n",
       "<table border=\"1\" class=\"dataframe\">\n",
       "  <thead>\n",
       "    <tr style=\"text-align: right;\">\n",
       "      <th></th>\n",
       "      <th>cumulative_viewing_subs</th>\n",
       "    </tr>\n",
       "  </thead>\n",
       "  <tbody>\n",
       "    <tr>\n",
       "      <th>dummy_value</th>\n",
       "      <td>-1.00</td>\n",
       "    </tr>\n",
       "    <tr>\n",
       "      <th>medal_number</th>\n",
       "      <td>-0.89</td>\n",
       "    </tr>\n",
       "    <tr>\n",
       "      <th>medal_Bronze</th>\n",
       "      <td>-0.86</td>\n",
       "    </tr>\n",
       "    <tr>\n",
       "      <th>days_from_theatrical</th>\n",
       "      <td>-0.40</td>\n",
       "    </tr>\n",
       "    <tr>\n",
       "      <th>genre_horror</th>\n",
       "      <td>-0.26</td>\n",
       "    </tr>\n",
       "    <tr>\n",
       "      <th>budget</th>\n",
       "      <td>-0.25</td>\n",
       "    </tr>\n",
       "    <tr>\n",
       "      <th>genre_fantasy &amp; sci-fi</th>\n",
       "      <td>-0.15</td>\n",
       "    </tr>\n",
       "    <tr>\n",
       "      <th>genre_action</th>\n",
       "      <td>-0.10</td>\n",
       "    </tr>\n",
       "    <tr>\n",
       "      <th>genre_comedy</th>\n",
       "      <td>-0.03</td>\n",
       "    </tr>\n",
       "    <tr>\n",
       "      <th>genre_drama</th>\n",
       "      <td>0.15</td>\n",
       "    </tr>\n",
       "    <tr>\n",
       "      <th>medal_Silver</th>\n",
       "      <td>0.16</td>\n",
       "    </tr>\n",
       "    <tr>\n",
       "      <th>area_gross</th>\n",
       "      <td>0.27</td>\n",
       "    </tr>\n",
       "    <tr>\n",
       "      <th>genre_crime</th>\n",
       "      <td>0.31</td>\n",
       "    </tr>\n",
       "    <tr>\n",
       "      <th>medal_Platinum</th>\n",
       "      <td>0.37</td>\n",
       "    </tr>\n",
       "    <tr>\n",
       "      <th>medal_Gold</th>\n",
       "      <td>0.71</td>\n",
       "    </tr>\n",
       "    <tr>\n",
       "      <th>is_direct_to_max_title</th>\n",
       "      <td>0.74</td>\n",
       "    </tr>\n",
       "    <tr>\n",
       "      <th>cumulative_viewing_subs</th>\n",
       "      <td>1.00</td>\n",
       "    </tr>\n",
       "  </tbody>\n",
       "</table>\n",
       "</div>"
      ],
      "text/plain": [
       "                         cumulative_viewing_subs\n",
       "dummy_value                                -1.00\n",
       "medal_number                               -0.89\n",
       "medal_Bronze                               -0.86\n",
       "days_from_theatrical                       -0.40\n",
       "genre_horror                               -0.26\n",
       "budget                                     -0.25\n",
       "genre_fantasy & sci-fi                     -0.15\n",
       "genre_action                               -0.10\n",
       "genre_comedy                               -0.03\n",
       "genre_drama                                 0.15\n",
       "medal_Silver                                0.16\n",
       "area_gross                                  0.27\n",
       "genre_crime                                 0.31\n",
       "medal_Platinum                              0.37\n",
       "medal_Gold                                  0.71\n",
       "is_direct_to_max_title                      0.74\n",
       "cumulative_viewing_subs                     1.00"
      ]
     },
     "execution_count": 141,
     "metadata": {},
     "output_type": "execute_result"
    }
   ],
   "source": [
    "plot_data=data[FEATURE_COLS+TARGET_COL]\n",
    "corr = plot_data.corr()[TARGET_COL]\n",
    "mask=np.zeros_like(corr, dtype=np.bool)\n",
    "corr.loc['dummy_value'] = -1\n",
    "corr.sort_values(by = TARGET_COL)"
   ]
  },
  {
   "cell_type": "code",
   "execution_count": 123,
   "id": "af663ea5",
   "metadata": {},
   "outputs": [
    {
     "data": {
      "text/plain": [
       "<AxesSubplot:>"
      ]
     },
     "execution_count": 123,
     "metadata": {},
     "output_type": "execute_result"
    },
    {
     "data": {
      "image/png": "[encoded data removed]",
      "text/plain": [
       "<Figure size 720x576 with 2 Axes>"
      ]
     },
     "metadata": {
      "needs_background": "light"
     },
     "output_type": "display_data"
    }
   ],
   "source": [
    "f, ax = plt.subplots(figsize=(10, 8))\n",
    "sns.heatmap(corr, mask=np.zeros_like(corr, dtype=np.bool), cmap=sns.diverging_palette(220, 10, as_cmap=True),\n",
    "            square=True, ax=ax)"
   ]
  },
  {
   "cell_type": "code",
   "execution_count": 124,
   "id": "1811bb33",
   "metadata": {},
   "outputs": [],
   "source": [
    "TARGET_COL = ['log_cumulative_first_views']"
   ]
  },
  {
   "cell_type": "code",
   "execution_count": 127,
   "id": "51d99d64",
   "metadata": {},
   "outputs": [
    {
     "data": {
      "text/html": [
       "<div>\n",
       "<style scoped>\n",
       "    .dataframe tbody tr th:only-of-type {\n",
       "        vertical-align: middle;\n",
       "    }\n",
       "\n",
       "    .dataframe tbody tr th {\n",
       "        vertical-align: top;\n",
       "    }\n",
       "\n",
       "    .dataframe thead th {\n",
       "        text-align: right;\n",
       "    }\n",
       "</style>\n",
       "<table border=\"1\" class=\"dataframe\">\n",
       "  <thead>\n",
       "    <tr style=\"text-align: right;\">\n",
       "      <th></th>\n",
       "      <th>log_cumulative_first_views</th>\n",
       "    </tr>\n",
       "  </thead>\n",
       "  <tbody>\n",
       "    <tr>\n",
       "      <th>dummy_value</th>\n",
       "      <td>-1.00</td>\n",
       "    </tr>\n",
       "    <tr>\n",
       "      <th>medal_number</th>\n",
       "      <td>-0.85</td>\n",
       "    </tr>\n",
       "    <tr>\n",
       "      <th>medal_Bronze</th>\n",
       "      <td>-0.78</td>\n",
       "    </tr>\n",
       "    <tr>\n",
       "      <th>days_from_theatrical</th>\n",
       "      <td>-0.71</td>\n",
       "    </tr>\n",
       "    <tr>\n",
       "      <th>budget</th>\n",
       "      <td>-0.48</td>\n",
       "    </tr>\n",
       "    <tr>\n",
       "      <th>genre_horror</th>\n",
       "      <td>-0.43</td>\n",
       "    </tr>\n",
       "    <tr>\n",
       "      <th>genre_action</th>\n",
       "      <td>-0.19</td>\n",
       "    </tr>\n",
       "    <tr>\n",
       "      <th>genre_fantasy &amp; sci-fi</th>\n",
       "      <td>-0.15</td>\n",
       "    </tr>\n",
       "    <tr>\n",
       "      <th>area_gross</th>\n",
       "      <td>-0.08</td>\n",
       "    </tr>\n",
       "    <tr>\n",
       "      <th>genre_drama</th>\n",
       "      <td>0.05</td>\n",
       "    </tr>\n",
       "    <tr>\n",
       "      <th>medal_Silver</th>\n",
       "      <td>0.11</td>\n",
       "    </tr>\n",
       "    <tr>\n",
       "      <th>genre_crime</th>\n",
       "      <td>0.23</td>\n",
       "    </tr>\n",
       "    <tr>\n",
       "      <th>genre_comedy</th>\n",
       "      <td>0.26</td>\n",
       "    </tr>\n",
       "    <tr>\n",
       "      <th>medal_Platinum</th>\n",
       "      <td>0.48</td>\n",
       "    </tr>\n",
       "    <tr>\n",
       "      <th>medal_Gold</th>\n",
       "      <td>0.60</td>\n",
       "    </tr>\n",
       "    <tr>\n",
       "      <th>log_cumulative_first_views</th>\n",
       "      <td>1.00</td>\n",
       "    </tr>\n",
       "  </tbody>\n",
       "</table>\n",
       "</div>"
      ],
      "text/plain": [
       "                            log_cumulative_first_views\n",
       "dummy_value                                      -1.00\n",
       "medal_number                                     -0.85\n",
       "medal_Bronze                                     -0.78\n",
       "days_from_theatrical                             -0.71\n",
       "budget                                           -0.48\n",
       "genre_horror                                     -0.43\n",
       "genre_action                                     -0.19\n",
       "genre_fantasy & sci-fi                           -0.15\n",
       "area_gross                                       -0.08\n",
       "genre_drama                                       0.05\n",
       "medal_Silver                                      0.11\n",
       "genre_crime                                       0.23\n",
       "genre_comedy                                      0.26\n",
       "medal_Platinum                                    0.48\n",
       "medal_Gold                                        0.60\n",
       "log_cumulative_first_views                        1.00"
      ]
     },
     "execution_count": 127,
     "metadata": {},
     "output_type": "execute_result"
    }
   ],
   "source": [
    "plot_data=data[FEATURE_COLS+TARGET_COL]\n",
    "corr = plot_data.corr()[TARGET_COL]\n",
    "mask=np.zeros_like(corr, dtype=np.bool)\n",
    "corr.loc['dummy_value'] = -1\n",
    "corr.sort_values(by = TARGET_COL)"
   ]
  },
  {
   "cell_type": "code",
   "execution_count": 126,
   "id": "742a2bff",
   "metadata": {},
   "outputs": [
    {
     "data": {
      "text/plain": [
       "<AxesSubplot:>"
      ]
     },
     "execution_count": 126,
     "metadata": {},
     "output_type": "execute_result"
    },
    {
     "data": {
      "image/png": "[encoded data removed]",
      "text/plain": [
       "<Figure size 720x576 with 2 Axes>"
      ]
     },
     "metadata": {
      "needs_background": "light"
     },
     "output_type": "display_data"
    }
   ],
   "source": [
    "f, ax = plt.subplots(figsize=(10, 8))\n",
    "sns.heatmap(corr, mask=np.zeros_like(corr, dtype=np.bool), cmap=sns.diverging_palette(220, 10, as_cmap=True),\n",
    "            square=True, ax=ax)"
   ]
  },
  {
   "cell_type": "code",
   "execution_count": 128,
   "id": "484f7f29",
   "metadata": {},
   "outputs": [],
   "source": [
    "TARGET_COL = ['cumulative_first_views'] # cumulative_first_views"
   ]
  },
  {
   "cell_type": "code",
   "execution_count": null,
   "id": "9dd7163f",
   "metadata": {},
   "outputs": [],
   "source": [
    "plot_data=data[FEATURE_COLS+TARGET_COL]\n",
    "corr = plot_data.corr()[TARGET_COL]\n",
    "mask=np.zeros_like(corr, dtype=np.bool)\n",
    "corr.loc['dummy_value'] = -1\n",
    "corr.sort_values(by = TARGET_COL)"
   ]
  },
  {
   "cell_type": "code",
   "execution_count": 29,
   "id": "bdf54cad",
   "metadata": {},
   "outputs": [
    {
     "data": {
      "text/plain": [
       "<AxesSubplot:>"
      ]
     },
     "execution_count": 29,
     "metadata": {},
     "output_type": "execute_result"
    },
    {
     "data": {
      "image/png": "[encoded data removed]",
      "text/plain": [
       "<Figure size 720x576 with 2 Axes>"
      ]
     },
     "metadata": {
      "needs_background": "light"
     },
     "output_type": "display_data"
    }
   ],
   "source": [
    "f, ax = plt.subplots(figsize=(10, 8))\n",
    "sns.heatmap(corr, mask=np.zeros_like(corr, dtype=np.bool), cmap=sns.diverging_palette(220, 10, as_cmap=True),\n",
    "            square=True, ax=ax)"
   ]
  },
  {
   "cell_type": "markdown",
   "id": "944bf125",
   "metadata": {},
   "source": [
    "## Only movies after launch"
   ]
  },
  {
   "cell_type": "code",
   "execution_count": 51,
   "id": "0dbd7c98",
   "metadata": {},
   "outputs": [],
   "source": [
    "data = movie_hbo[movie_hbo['days_from_max_launch'] < 0].copy()"
   ]
  },
  {
   "cell_type": "code",
   "execution_count": 52,
   "id": "739966fb",
   "metadata": {},
   "outputs": [],
   "source": [
    "data['pct_actives'] = data['pct_actives'].astype(float)"
   ]
  },
  {
   "cell_type": "code",
   "execution_count": 53,
   "id": "c17861f0",
   "metadata": {},
   "outputs": [
    {
     "data": {
      "text/plain": [
       "72"
      ]
     },
     "execution_count": 53,
     "metadata": {},
     "output_type": "execute_result"
    }
   ],
   "source": [
    "data.title_id.count()"
   ]
  },
  {
   "cell_type": "code",
   "execution_count": 54,
   "id": "29f748b0",
   "metadata": {},
   "outputs": [],
   "source": [
    "TARGET_COL = ['cumulative_viewing_subs'] # cumulative_first_views"
   ]
  },
  {
   "cell_type": "code",
   "execution_count": 55,
   "id": "56512890",
   "metadata": {},
   "outputs": [
    {
     "data": {
      "text/html": [
       "<div>\n",
       "<style scoped>\n",
       "    .dataframe tbody tr th:only-of-type {\n",
       "        vertical-align: middle;\n",
       "    }\n",
       "\n",
       "    .dataframe tbody tr th {\n",
       "        vertical-align: top;\n",
       "    }\n",
       "\n",
       "    .dataframe thead th {\n",
       "        text-align: right;\n",
       "    }\n",
       "</style>\n",
       "<table border=\"1\" class=\"dataframe\">\n",
       "  <thead>\n",
       "    <tr style=\"text-align: right;\">\n",
       "      <th></th>\n",
       "      <th>cumulative_viewing_subs</th>\n",
       "    </tr>\n",
       "  </thead>\n",
       "  <tbody>\n",
       "    <tr>\n",
       "      <th>dummy_value</th>\n",
       "      <td>-1.00</td>\n",
       "    </tr>\n",
       "    <tr>\n",
       "      <th>medal_number</th>\n",
       "      <td>-0.55</td>\n",
       "    </tr>\n",
       "    <tr>\n",
       "      <th>days_from_theatrical2</th>\n",
       "      <td>-0.54</td>\n",
       "    </tr>\n",
       "    <tr>\n",
       "      <th>medal_Bronze</th>\n",
       "      <td>-0.38</td>\n",
       "    </tr>\n",
       "    <tr>\n",
       "      <th>genre_Drama</th>\n",
       "      <td>-0.27</td>\n",
       "    </tr>\n",
       "    <tr>\n",
       "      <th>genre_Comedy</th>\n",
       "      <td>-0.19</td>\n",
       "    </tr>\n",
       "    <tr>\n",
       "      <th>medal_Silver</th>\n",
       "      <td>-0.19</td>\n",
       "    </tr>\n",
       "    <tr>\n",
       "      <th>genre_Horror</th>\n",
       "      <td>-0.13</td>\n",
       "    </tr>\n",
       "    <tr>\n",
       "      <th>genre_Sci-Fi</th>\n",
       "      <td>-0.11</td>\n",
       "    </tr>\n",
       "    <tr>\n",
       "      <th>genre_Suspense/Thriller</th>\n",
       "      <td>-0.08</td>\n",
       "    </tr>\n",
       "    <tr>\n",
       "      <th>genre_Kids/Family</th>\n",
       "      <td>0.11</td>\n",
       "    </tr>\n",
       "    <tr>\n",
       "      <th>medal_Gold</th>\n",
       "      <td>0.34</td>\n",
       "    </tr>\n",
       "    <tr>\n",
       "      <th>medal_Platinum</th>\n",
       "      <td>0.36</td>\n",
       "    </tr>\n",
       "    <tr>\n",
       "      <th>genre_Action/Adventure</th>\n",
       "      <td>0.57</td>\n",
       "    </tr>\n",
       "    <tr>\n",
       "      <th>cumulative_viewing_subs</th>\n",
       "      <td>1.00</td>\n",
       "    </tr>\n",
       "    <tr>\n",
       "      <th>genre_Romance</th>\n",
       "      <td>nan</td>\n",
       "    </tr>\n",
       "  </tbody>\n",
       "</table>\n",
       "</div>"
      ],
      "text/plain": [
       "                         cumulative_viewing_subs\n",
       "dummy_value                                -1.00\n",
       "medal_number                               -0.55\n",
       "days_from_theatrical2                      -0.54\n",
       "medal_Bronze                               -0.38\n",
       "genre_Drama                                -0.27\n",
       "genre_Comedy                               -0.19\n",
       "medal_Silver                               -0.19\n",
       "genre_Horror                               -0.13\n",
       "genre_Sci-Fi                               -0.11\n",
       "genre_Suspense/Thriller                    -0.08\n",
       "genre_Kids/Family                           0.11\n",
       "medal_Gold                                  0.34\n",
       "medal_Platinum                              0.36\n",
       "genre_Action/Adventure                      0.57\n",
       "cumulative_viewing_subs                     1.00\n",
       "genre_Romance                                nan"
      ]
     },
     "execution_count": 55,
     "metadata": {},
     "output_type": "execute_result"
    }
   ],
   "source": [
    "plot_data=data[FEATURE_COLS+TARGET_COL]\n",
    "corr = plot_data.corr()[TARGET_COL]\n",
    "mask=np.zeros_like(corr, dtype=np.bool)\n",
    "corr.loc['dummy_value'] = -1\n",
    "corr.sort_values(by = TARGET_COL)"
   ]
  },
  {
   "cell_type": "code",
   "execution_count": 56,
   "id": "4f2573b6",
   "metadata": {},
   "outputs": [
    {
     "data": {
      "text/plain": [
       "<AxesSubplot:>"
      ]
     },
     "execution_count": 56,
     "metadata": {},
     "output_type": "execute_result"
    },
    {
     "data": {
      "image/png": "[encoded data removed]",
      "text/plain": [
       "<Figure size 720x576 with 2 Axes>"
      ]
     },
     "metadata": {
      "needs_background": "light"
     },
     "output_type": "display_data"
    }
   ],
   "source": [
    "f, ax = plt.subplots(figsize=(10, 8))\n",
    "sns.heatmap(corr, mask=np.zeros_like(corr, dtype=np.bool), cmap=sns.diverging_palette(220, 10, as_cmap=True),\n",
    "            square=True, ax=ax)"
   ]
  },
  {
   "cell_type": "code",
   "execution_count": 128,
   "id": "362f4e6a",
   "metadata": {},
   "outputs": [],
   "source": [
    "TARGET_COL = ['log_cumulative_first_views']"
   ]
  },
  {
   "cell_type": "code",
   "execution_count": 129,
   "id": "8384093b",
   "metadata": {},
   "outputs": [],
   "source": [
    "plot_data=data[FEATURE_COLS+TARGET_COL]\n",
    "corr = plot_data.corr()[TARGET_COL]\n",
    "mask=np.zeros_like(corr, dtype=np.bool)\n",
    "corr.loc['dummy_value'] = -1\n",
    "# corr.sort_values(by = TARGET_COL)"
   ]
  },
  {
   "cell_type": "code",
   "execution_count": 130,
   "id": "ff5735d7",
   "metadata": {},
   "outputs": [
    {
     "data": {
      "text/plain": [
       "<AxesSubplot:>"
      ]
     },
     "execution_count": 130,
     "metadata": {},
     "output_type": "execute_result"
    },
    {
     "data": {
      "image/png": "[encoded data removed]",
      "text/plain": [
       "<Figure size 720x576 with 2 Axes>"
      ]
     },
     "metadata": {
      "needs_background": "light"
     },
     "output_type": "display_data"
    }
   ],
   "source": [
    "f, ax = plt.subplots(figsize=(10, 8))\n",
    "sns.heatmap(corr, mask=np.zeros_like(corr, dtype=np.bool), cmap=sns.diverging_palette(220, 10, as_cmap=True),\n",
    "            square=True, ax=ax)"
   ]
  },
  {
   "cell_type": "code",
   "execution_count": 131,
   "id": "2662e693",
   "metadata": {},
   "outputs": [],
   "source": [
    "TARGET_COL = ['cumulative_first_views'] # cumulative_first_views"
   ]
  },
  {
   "cell_type": "code",
   "execution_count": 130,
   "id": "4cd9b63b",
   "metadata": {},
   "outputs": [
    {
     "data": {
      "text/html": [
       "<div>\n",
       "<style scoped>\n",
       "    .dataframe tbody tr th:only-of-type {\n",
       "        vertical-align: middle;\n",
       "    }\n",
       "\n",
       "    .dataframe tbody tr th {\n",
       "        vertical-align: top;\n",
       "    }\n",
       "\n",
       "    .dataframe thead th {\n",
       "        text-align: right;\n",
       "    }\n",
       "</style>\n",
       "<table border=\"1\" class=\"dataframe\">\n",
       "  <thead>\n",
       "    <tr style=\"text-align: right;\">\n",
       "      <th></th>\n",
       "      <th>cumulative_first_views</th>\n",
       "    </tr>\n",
       "  </thead>\n",
       "  <tbody>\n",
       "    <tr>\n",
       "      <th>dummy_value</th>\n",
       "      <td>-1.00</td>\n",
       "    </tr>\n",
       "    <tr>\n",
       "      <th>medal_number</th>\n",
       "      <td>-0.68</td>\n",
       "    </tr>\n",
       "    <tr>\n",
       "      <th>medal_Bronze</th>\n",
       "      <td>-0.46</td>\n",
       "    </tr>\n",
       "    <tr>\n",
       "      <th>budget</th>\n",
       "      <td>-0.31</td>\n",
       "    </tr>\n",
       "    <tr>\n",
       "      <th>area_gross</th>\n",
       "      <td>-0.27</td>\n",
       "    </tr>\n",
       "    <tr>\n",
       "      <th>days_from_theatrical</th>\n",
       "      <td>-0.19</td>\n",
       "    </tr>\n",
       "    <tr>\n",
       "      <th>genre_horror</th>\n",
       "      <td>-0.12</td>\n",
       "    </tr>\n",
       "    <tr>\n",
       "      <th>genre_action</th>\n",
       "      <td>-0.11</td>\n",
       "    </tr>\n",
       "    <tr>\n",
       "      <th>medal_Silver</th>\n",
       "      <td>-0.08</td>\n",
       "    </tr>\n",
       "    <tr>\n",
       "      <th>genre_fantasy &amp; sci-fi</th>\n",
       "      <td>-0.07</td>\n",
       "    </tr>\n",
       "    <tr>\n",
       "      <th>genre_crime</th>\n",
       "      <td>-0.06</td>\n",
       "    </tr>\n",
       "    <tr>\n",
       "      <th>genre_drama</th>\n",
       "      <td>-0.04</td>\n",
       "    </tr>\n",
       "    <tr>\n",
       "      <th>medal_Gold</th>\n",
       "      <td>0.12</td>\n",
       "    </tr>\n",
       "    <tr>\n",
       "      <th>genre_comedy</th>\n",
       "      <td>0.26</td>\n",
       "    </tr>\n",
       "    <tr>\n",
       "      <th>medal_Platinum</th>\n",
       "      <td>0.96</td>\n",
       "    </tr>\n",
       "    <tr>\n",
       "      <th>cumulative_first_views</th>\n",
       "      <td>1.00</td>\n",
       "    </tr>\n",
       "  </tbody>\n",
       "</table>\n",
       "</div>"
      ],
      "text/plain": [
       "                        cumulative_first_views\n",
       "dummy_value                              -1.00\n",
       "medal_number                             -0.68\n",
       "medal_Bronze                             -0.46\n",
       "budget                                   -0.31\n",
       "area_gross                               -0.27\n",
       "days_from_theatrical                     -0.19\n",
       "genre_horror                             -0.12\n",
       "genre_action                             -0.11\n",
       "medal_Silver                             -0.08\n",
       "genre_fantasy & sci-fi                   -0.07\n",
       "genre_crime                              -0.06\n",
       "genre_drama                              -0.04\n",
       "medal_Gold                                0.12\n",
       "genre_comedy                              0.26\n",
       "medal_Platinum                            0.96\n",
       "cumulative_first_views                    1.00"
      ]
     },
     "execution_count": 130,
     "metadata": {},
     "output_type": "execute_result"
    }
   ],
   "source": [
    "plot_data=data[FEATURE_COLS+TARGET_COL]\n",
    "corr = plot_data.corr()[TARGET_COL]\n",
    "mask=np.zeros_like(corr, dtype=np.bool)\n",
    "corr.loc['dummy_value'] = -1\n",
    "corr.sort_values(by = TARGET_COL)"
   ]
  },
  {
   "cell_type": "code",
   "execution_count": 131,
   "id": "c76a4c65",
   "metadata": {},
   "outputs": [
    {
     "data": {
      "text/plain": [
       "<AxesSubplot:>"
      ]
     },
     "execution_count": 131,
     "metadata": {},
     "output_type": "execute_result"
    },
    {
     "data": {
      "image/png": "[encoded data removed]",
      "text/plain": [
       "<Figure size 720x576 with 2 Axes>"
      ]
     },
     "metadata": {
      "needs_background": "light"
     },
     "output_type": "display_data"
    }
   ],
   "source": [
    "f, ax = plt.subplots(figsize=(10, 8))\n",
    "sns.heatmap(corr, mask=np.zeros_like(corr, dtype=np.bool), cmap=sns.diverging_palette(220, 8, as_cmap=False),\n",
    "            square=True, ax=ax)"
   ]
  },
  {
   "cell_type": "markdown",
   "id": "2d9298f5",
   "metadata": {},
   "source": [
    "### correlation between features"
   ]
  },
  {
   "cell_type": "code",
   "execution_count": 144,
   "id": "a0c0f3b6",
   "metadata": {},
   "outputs": [
    {
     "data": {
      "text/plain": [
       "['days_from_theatrical',\n",
       " 'area_gross',\n",
       " 'budget',\n",
       " 'genre_action',\n",
       " 'genre_comedy',\n",
       " 'genre_crime',\n",
       " 'genre_drama',\n",
       " 'genre_fantasy & sci-fi',\n",
       " 'genre_horror',\n",
       " 'medal_number',\n",
       " 'medal_Bronze',\n",
       " 'medal_Gold',\n",
       " 'medal_Platinum',\n",
       " 'medal_Silver',\n",
       " 'is_direct_to_max_title']"
      ]
     },
     "execution_count": 144,
     "metadata": {},
     "output_type": "execute_result"
    }
   ],
   "source": [
    "FEATURE_COLS"
   ]
  },
  {
   "cell_type": "code",
   "execution_count": 145,
   "id": "90740ce0",
   "metadata": {},
   "outputs": [],
   "source": [
    "FEATURE_COLS = ['days_from_theatrical','area_gross','budget',\n",
    " 'genre_action',\n",
    " 'genre_comedy',\n",
    " 'genre_crime',\n",
    " 'genre_drama',\n",
    " 'genre_fantasy & sci-fi',\n",
    " 'genre_horror',\n",
    " 'medal_number',\n",
    " 'is_direct_to_max_title']"
   ]
  },
  {
   "cell_type": "code",
   "execution_count": 146,
   "id": "fada9661",
   "metadata": {},
   "outputs": [],
   "source": [
    "plot_data=data[FEATURE_COLS]\n",
    "corr = plot_data.corr()\n",
    "mask=np.zeros_like(corr, dtype=np.bool)"
   ]
  },
  {
   "cell_type": "code",
   "execution_count": 147,
   "id": "4c5de13d",
   "metadata": {},
   "outputs": [
    {
     "data": {
      "text/plain": [
       "<AxesSubplot:>"
      ]
     },
     "execution_count": 147,
     "metadata": {},
     "output_type": "execute_result"
    },
    {
     "data": {
      "image/png": "[encoded data removed]",
      "text/plain": [
       "<Figure size 720x576 with 2 Axes>"
      ]
     },
     "metadata": {
      "needs_background": "light"
     },
     "output_type": "display_data"
    }
   ],
   "source": [
    "f, ax = plt.subplots(figsize=(10, 8))\n",
    "sns.heatmap(corr, mask=np.zeros_like(corr, dtype=np.bool), cmap=sns.diverging_palette(220, 10, as_cmap=True),\n",
    "            square=True, ax=ax)"
   ]
  },
  {
   "cell_type": "code",
   "execution_count": 136,
   "id": "1caa0f6e",
   "metadata": {},
   "outputs": [
    {
     "data": {
      "text/html": [
       "<div>\n",
       "<style scoped>\n",
       "    .dataframe tbody tr th:only-of-type {\n",
       "        vertical-align: middle;\n",
       "    }\n",
       "\n",
       "    .dataframe tbody tr th {\n",
       "        vertical-align: top;\n",
       "    }\n",
       "\n",
       "    .dataframe thead th {\n",
       "        text-align: right;\n",
       "    }\n",
       "</style>\n",
       "<table border=\"1\" class=\"dataframe\">\n",
       "  <thead>\n",
       "    <tr style=\"text-align: right;\">\n",
       "      <th></th>\n",
       "      <th>title_name</th>\n",
       "      <th>title_id</th>\n",
       "      <th>primary_genre_desc</th>\n",
       "      <th>program_type</th>\n",
       "      <th>theatrical_release_date</th>\n",
       "      <th>asset_run_time</th>\n",
       "      <th>offering_start_date</th>\n",
       "      <th>offering_end_date</th>\n",
       "      <th>is_direct_to_max_title</th>\n",
       "      <th>licensor</th>\n",
       "      <th>observed_medal</th>\n",
       "      <th>days_on_hbo_max</th>\n",
       "      <th>cumulative_viewing_subs</th>\n",
       "      <th>cumulative_first_views</th>\n",
       "      <th>percent_cumulative_viewing_subscribers</th>\n",
       "      <th>percent_cumulative_first_views</th>\n",
       "      <th>imdb_id</th>\n",
       "      <th>area_gross</th>\n",
       "      <th>budget</th>\n",
       "      <th>days_from_theatrical</th>\n",
       "      <th>genre_action</th>\n",
       "      <th>genre_comedy</th>\n",
       "      <th>genre_crime</th>\n",
       "      <th>genre_drama</th>\n",
       "      <th>genre_fantasy &amp; sci-fi</th>\n",
       "      <th>genre_horror</th>\n",
       "      <th>medal_Bronze</th>\n",
       "      <th>medal_Gold</th>\n",
       "      <th>medal_Platinum</th>\n",
       "      <th>medal_Silver</th>\n",
       "      <th>medal_number</th>\n",
       "      <th>log_cumulative_first_views</th>\n",
       "    </tr>\n",
       "  </thead>\n",
       "  <tbody>\n",
       "    <tr>\n",
       "      <th>0</th>\n",
       "      <td>A Christmas Mystery</td>\n",
       "      <td>GY2QUhg4BOJ_DwgEAAAD-</td>\n",
       "      <td>comedy</td>\n",
       "      <td>acquired</td>\n",
       "      <td>2022-11-24</td>\n",
       "      <td>5,224.00</td>\n",
       "      <td>2022-11-24 08:01:00</td>\n",
       "      <td>2026-05-06 03:59:00</td>\n",
       "      <td>1</td>\n",
       "      <td>Warner Bros. Inc., Warner Media Direct, LLC</td>\n",
       "      <td>Bronze</td>\n",
       "      <td>90.00</td>\n",
       "      <td>670,922.00</td>\n",
       "      <td>3,898.00</td>\n",
       "      <td>2.134800</td>\n",
       "      <td>0.076700</td>\n",
       "      <td>tt22207152</td>\n",
       "      <td>nan</td>\n",
       "      <td>nan</td>\n",
       "      <td>0</td>\n",
       "      <td>0</td>\n",
       "      <td>1</td>\n",
       "      <td>0</td>\n",
       "      <td>0</td>\n",
       "      <td>0</td>\n",
       "      <td>0</td>\n",
       "      <td>1</td>\n",
       "      <td>0</td>\n",
       "      <td>0</td>\n",
       "      <td>0</td>\n",
       "      <td>3</td>\n",
       "      <td>11.93</td>\n",
       "    </tr>\n",
       "    <tr>\n",
       "      <th>1</th>\n",
       "      <td>The Kitchen</td>\n",
       "      <td>GXhzsZA8cqx_DTgEAAADY</td>\n",
       "      <td>crime</td>\n",
       "      <td>acquired</td>\n",
       "      <td>2019-09-20</td>\n",
       "      <td>6,153.00</td>\n",
       "      <td>2020-03-29 00:00:00</td>\n",
       "      <td>2020-12-01 10:59:00</td>\n",
       "      <td>0</td>\n",
       "      <td>WARNER BROS. INC.</td>\n",
       "      <td>Bronze</td>\n",
       "      <td>90.00</td>\n",
       "      <td>39,837.00</td>\n",
       "      <td>2,045.00</td>\n",
       "      <td>0.514600</td>\n",
       "      <td>0.025600</td>\n",
       "      <td>tt5822564</td>\n",
       "      <td>5,527,410.00</td>\n",
       "      <td>38,000,000.00</td>\n",
       "      <td>191</td>\n",
       "      <td>0</td>\n",
       "      <td>0</td>\n",
       "      <td>1</td>\n",
       "      <td>0</td>\n",
       "      <td>0</td>\n",
       "      <td>0</td>\n",
       "      <td>1</td>\n",
       "      <td>0</td>\n",
       "      <td>0</td>\n",
       "      <td>0</td>\n",
       "      <td>3</td>\n",
       "      <td>11.00</td>\n",
       "    </tr>\n",
       "    <tr>\n",
       "      <th>2</th>\n",
       "      <td>The Good Liar</td>\n",
       "      <td>GXpTQtgV6ax-auwEAABc3</td>\n",
       "      <td>crime</td>\n",
       "      <td>acquired</td>\n",
       "      <td>2019-11-15</td>\n",
       "      <td>6,574.00</td>\n",
       "      <td>2020-06-14 00:00:00</td>\n",
       "      <td>2021-03-01 10:59:00</td>\n",
       "      <td>0</td>\n",
       "      <td>WARNER BROS. INC.</td>\n",
       "      <td>Bronze</td>\n",
       "      <td>90.00</td>\n",
       "      <td>186,115.00</td>\n",
       "      <td>10,519.00</td>\n",
       "      <td>2.221600</td>\n",
       "      <td>0.176400</td>\n",
       "      <td>tt5563334</td>\n",
       "      <td>5,605,051.00</td>\n",
       "      <td>10,000,000.00</td>\n",
       "      <td>212</td>\n",
       "      <td>0</td>\n",
       "      <td>0</td>\n",
       "      <td>1</td>\n",
       "      <td>0</td>\n",
       "      <td>0</td>\n",
       "      <td>0</td>\n",
       "      <td>1</td>\n",
       "      <td>0</td>\n",
       "      <td>0</td>\n",
       "      <td>0</td>\n",
       "      <td>3</td>\n",
       "      <td>13.36</td>\n",
       "    </tr>\n",
       "    <tr>\n",
       "      <th>3</th>\n",
       "      <td>Moonshot</td>\n",
       "      <td>GYhfK9AxT1KKnnQEAAADT</td>\n",
       "      <td>comedy</td>\n",
       "      <td>acquired</td>\n",
       "      <td>2022-03-31</td>\n",
       "      <td>6,123.00</td>\n",
       "      <td>2022-03-31 07:01:00</td>\n",
       "      <td>2022-07-01 03:59:00</td>\n",
       "      <td>1</td>\n",
       "      <td>Warner Bros. Domestic Television Distribution,...</td>\n",
       "      <td>Silver</td>\n",
       "      <td>90.00</td>\n",
       "      <td>1,791,406.00</td>\n",
       "      <td>10,045.00</td>\n",
       "      <td>6.014500</td>\n",
       "      <td>0.247000</td>\n",
       "      <td>tt12585076</td>\n",
       "      <td>nan</td>\n",
       "      <td>nan</td>\n",
       "      <td>0</td>\n",
       "      <td>0</td>\n",
       "      <td>1</td>\n",
       "      <td>0</td>\n",
       "      <td>0</td>\n",
       "      <td>0</td>\n",
       "      <td>0</td>\n",
       "      <td>0</td>\n",
       "      <td>0</td>\n",
       "      <td>0</td>\n",
       "      <td>1</td>\n",
       "      <td>2</td>\n",
       "      <td>13.29</td>\n",
       "    </tr>\n",
       "    <tr>\n",
       "      <th>4</th>\n",
       "      <td>Lights Out</td>\n",
       "      <td>GWZsaUQkr0bXCLwEAAABn</td>\n",
       "      <td>horror</td>\n",
       "      <td>acquired</td>\n",
       "      <td>2016-07-22</td>\n",
       "      <td>4,755.00</td>\n",
       "      <td>2020-06-01 10:00:00</td>\n",
       "      <td>2020-12-11 10:59:00</td>\n",
       "      <td>0</td>\n",
       "      <td>WARNER BROS. INC.</td>\n",
       "      <td>Bronze</td>\n",
       "      <td>90.00</td>\n",
       "      <td>57,023.00</td>\n",
       "      <td>1,956.00</td>\n",
       "      <td>0.721200</td>\n",
       "      <td>0.030800</td>\n",
       "      <td>tt4786282</td>\n",
       "      <td>21,688,103.00</td>\n",
       "      <td>4,900,000.00</td>\n",
       "      <td>1410</td>\n",
       "      <td>0</td>\n",
       "      <td>0</td>\n",
       "      <td>0</td>\n",
       "      <td>0</td>\n",
       "      <td>0</td>\n",
       "      <td>1</td>\n",
       "      <td>1</td>\n",
       "      <td>0</td>\n",
       "      <td>0</td>\n",
       "      <td>0</td>\n",
       "      <td>3</td>\n",
       "      <td>10.93</td>\n",
       "    </tr>\n",
       "  </tbody>\n",
       "</table>\n",
       "</div>"
      ],
      "text/plain": [
       "            title_name               title_id primary_genre_desc program_type  \\\n",
       "0  A Christmas Mystery  GY2QUhg4BOJ_DwgEAAAD-             comedy     acquired   \n",
       "1          The Kitchen  GXhzsZA8cqx_DTgEAAADY              crime     acquired   \n",
       "2        The Good Liar  GXpTQtgV6ax-auwEAABc3              crime     acquired   \n",
       "3             Moonshot  GYhfK9AxT1KKnnQEAAADT             comedy     acquired   \n",
       "4           Lights Out  GWZsaUQkr0bXCLwEAAABn             horror     acquired   \n",
       "\n",
       "  theatrical_release_date  asset_run_time offering_start_date  \\\n",
       "0              2022-11-24        5,224.00 2022-11-24 08:01:00   \n",
       "1              2019-09-20        6,153.00 2020-03-29 00:00:00   \n",
       "2              2019-11-15        6,574.00 2020-06-14 00:00:00   \n",
       "3              2022-03-31        6,123.00 2022-03-31 07:01:00   \n",
       "4              2016-07-22        4,755.00 2020-06-01 10:00:00   \n",
       "\n",
       "    offering_end_date  is_direct_to_max_title  \\\n",
       "0 2026-05-06 03:59:00                       1   \n",
       "1 2020-12-01 10:59:00                       0   \n",
       "2 2021-03-01 10:59:00                       0   \n",
       "3 2022-07-01 03:59:00                       1   \n",
       "4 2020-12-11 10:59:00                       0   \n",
       "\n",
       "                                            licensor observed_medal  \\\n",
       "0        Warner Bros. Inc., Warner Media Direct, LLC         Bronze   \n",
       "1                                  WARNER BROS. INC.         Bronze   \n",
       "2                                  WARNER BROS. INC.         Bronze   \n",
       "3  Warner Bros. Domestic Television Distribution,...         Silver   \n",
       "4                                  WARNER BROS. INC.         Bronze   \n",
       "\n",
       "   days_on_hbo_max  cumulative_viewing_subs  cumulative_first_views  \\\n",
       "0            90.00               670,922.00                3,898.00   \n",
       "1            90.00                39,837.00                2,045.00   \n",
       "2            90.00               186,115.00               10,519.00   \n",
       "3            90.00             1,791,406.00               10,045.00   \n",
       "4            90.00                57,023.00                1,956.00   \n",
       "\n",
       "  percent_cumulative_viewing_subscribers percent_cumulative_first_views  \\\n",
       "0                               2.134800                       0.076700   \n",
       "1                               0.514600                       0.025600   \n",
       "2                               2.221600                       0.176400   \n",
       "3                               6.014500                       0.247000   \n",
       "4                               0.721200                       0.030800   \n",
       "\n",
       "      imdb_id    area_gross        budget  days_from_theatrical  genre_action  \\\n",
       "0  tt22207152           nan           nan                     0             0   \n",
       "1   tt5822564  5,527,410.00 38,000,000.00                   191             0   \n",
       "2   tt5563334  5,605,051.00 10,000,000.00                   212             0   \n",
       "3  tt12585076           nan           nan                     0             0   \n",
       "4   tt4786282 21,688,103.00  4,900,000.00                  1410             0   \n",
       "\n",
       "   genre_comedy  genre_crime  genre_drama  genre_fantasy & sci-fi  \\\n",
       "0             1            0            0                       0   \n",
       "1             0            1            0                       0   \n",
       "2             0            1            0                       0   \n",
       "3             1            0            0                       0   \n",
       "4             0            0            0                       0   \n",
       "\n",
       "   genre_horror  medal_Bronze  medal_Gold  medal_Platinum  medal_Silver  \\\n",
       "0             0             1           0               0             0   \n",
       "1             0             1           0               0             0   \n",
       "2             0             1           0               0             0   \n",
       "3             0             0           0               0             1   \n",
       "4             1             1           0               0             0   \n",
       "\n",
       "   medal_number  log_cumulative_first_views  \n",
       "0             3                       11.93  \n",
       "1             3                       11.00  \n",
       "2             3                       13.36  \n",
       "3             2                       13.29  \n",
       "4             3                       10.93  "
      ]
     },
     "execution_count": 136,
     "metadata": {},
     "output_type": "execute_result"
    }
   ],
   "source": [
    "movie_hbo.head()"
   ]
  },
  {
   "cell_type": "code",
   "execution_count": 138,
   "id": "decc0e0b",
   "metadata": {},
   "outputs": [],
   "source": [
    "movie_hbo.to_csv('training_data_low_budget_movies.csv')"
   ]
  },
  {
   "cell_type": "code",
   "execution_count": null,
   "id": "d493186b",
   "metadata": {},
   "outputs": [],
   "source": []
  }
 ],
 "metadata": {
  "kernelspec": {
   "display_name": "conda_python3",
   "language": "python",
   "name": "conda_python3"
  },
  "language_info": {
   "codemirror_mode": {
    "name": "ipython",
    "version": 3
   },
   "file_extension": ".py",
   "mimetype": "text/x-python",
   "name": "python",
   "nbconvert_exporter": "python",
   "pygments_lexer": "ipython3",
   "version": "3.6.13"
  }
 },
 "nbformat": 4,
 "nbformat_minor": 5
}
