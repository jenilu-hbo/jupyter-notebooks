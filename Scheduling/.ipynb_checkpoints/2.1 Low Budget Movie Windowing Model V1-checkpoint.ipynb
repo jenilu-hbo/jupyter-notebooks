{
 "cells": [
  {
   "cell_type": "code",
   "execution_count": 1,
   "id": "6f0fd71f",
   "metadata": {},
   "outputs": [],
   "source": [
    "# !pip uninstall snowflake -y"
   ]
  },
  {
   "cell_type": "code",
   "execution_count": 2,
   "id": "ee1cf507",
   "metadata": {},
   "outputs": [],
   "source": [
    "# general\n",
    "import boto3\n",
    "import datetime as dt\n",
    "import json\n",
    "import numpy as np\n",
    "import pandas as pd\n",
    "import snowflake.connector"
   ]
  },
  {
   "cell_type": "code",
   "execution_count": 3,
   "id": "8a5271aa",
   "metadata": {},
   "outputs": [],
   "source": [
    "pd.set_option('display.max_rows', 1000)\n",
    "pd.set_option('display.max_columns', 1000)"
   ]
  },
  {
   "cell_type": "code",
   "execution_count": 4,
   "id": "cc130480",
   "metadata": {},
   "outputs": [],
   "source": [
    "pd.options.display.float_format = '{:,.2f}'.format"
   ]
  },
  {
   "cell_type": "markdown",
   "id": "9bc3ed70",
   "metadata": {},
   "source": [
    "# 0. Read Training Data"
   ]
  },
  {
   "cell_type": "code",
   "execution_count": 11,
   "id": "5ec396ae",
   "metadata": {},
   "outputs": [],
   "source": [
    "import xgboost  \n",
    "from xgboost import XGBRegressor\n",
    "from sklearn.model_selection import GroupKFold"
   ]
  },
  {
   "cell_type": "code",
   "execution_count": 12,
   "id": "20e3a925",
   "metadata": {},
   "outputs": [],
   "source": [
    "training_data = pd.read_csv('training_data.csv')"
   ]
  },
  {
   "cell_type": "code",
   "execution_count": 7,
   "id": "0a1c461c",
   "metadata": {},
   "outputs": [
    {
     "data": {
      "text/html": [
       "<div>\n",
       "<style scoped>\n",
       "    .dataframe tbody tr th:only-of-type {\n",
       "        vertical-align: middle;\n",
       "    }\n",
       "\n",
       "    .dataframe tbody tr th {\n",
       "        vertical-align: top;\n",
       "    }\n",
       "\n",
       "    .dataframe thead th {\n",
       "        text-align: right;\n",
       "    }\n",
       "</style>\n",
       "<table border=\"1\" class=\"dataframe\">\n",
       "  <thead>\n",
       "    <tr style=\"text-align: right;\">\n",
       "      <th></th>\n",
       "      <th>Unnamed: 0</th>\n",
       "      <th>title_id</th>\n",
       "      <th>title</th>\n",
       "      <th>home_territory_observed_medal</th>\n",
       "      <th>pillar_genres</th>\n",
       "      <th>imdb_id</th>\n",
       "      <th>theatrical_release_date</th>\n",
       "      <th>offering_start_date</th>\n",
       "      <th>days_from_theatrical2</th>\n",
       "      <th>pct_actives</th>\n",
       "      <th>days_from_max_launch</th>\n",
       "      <th>cumulative_viewing_subs</th>\n",
       "      <th>cumulative_first_views</th>\n",
       "      <th>area_gross</th>\n",
       "      <th>budget</th>\n",
       "      <th>genre_Action/Adventure</th>\n",
       "      <th>genre_Comedy</th>\n",
       "      <th>genre_Drama</th>\n",
       "      <th>genre_Horror</th>\n",
       "      <th>genre_Kids/Family</th>\n",
       "      <th>genre_Romance</th>\n",
       "      <th>genre_Sci-Fi</th>\n",
       "      <th>genre_Suspense/Thriller</th>\n",
       "      <th>medal_Bronze</th>\n",
       "      <th>medal_Gold</th>\n",
       "      <th>medal_Platinum</th>\n",
       "      <th>medal_Silver</th>\n",
       "      <th>medal_number</th>\n",
       "      <th>log_cumulative_first_views</th>\n",
       "      <th>platform</th>\n",
       "    </tr>\n",
       "  </thead>\n",
       "  <tbody>\n",
       "    <tr>\n",
       "      <th>84</th>\n",
       "      <td>84</td>\n",
       "      <td>GX9KHPw1OIMPCJgEAAAAD</td>\n",
       "      <td>Wonder Woman 1984</td>\n",
       "      <td>Platinum</td>\n",
       "      <td>Action/Adventure</td>\n",
       "      <td>tt7126948</td>\n",
       "      <td>2020-12-25</td>\n",
       "      <td>2020-12-25</td>\n",
       "      <td>0</td>\n",
       "      <td>0.64</td>\n",
       "      <td>-219</td>\n",
       "      <td>13629947</td>\n",
       "      <td>2784313</td>\n",
       "      <td>16,701,957.00</td>\n",
       "      <td>200,000,000.00</td>\n",
       "      <td>1</td>\n",
       "      <td>0</td>\n",
       "      <td>0</td>\n",
       "      <td>0</td>\n",
       "      <td>0</td>\n",
       "      <td>0</td>\n",
       "      <td>0</td>\n",
       "      <td>0</td>\n",
       "      <td>0</td>\n",
       "      <td>0</td>\n",
       "      <td>1</td>\n",
       "      <td>0</td>\n",
       "      <td>0</td>\n",
       "      <td>21.41</td>\n",
       "      <td>1.00</td>\n",
       "    </tr>\n",
       "  </tbody>\n",
       "</table>\n",
       "</div>"
      ],
      "text/plain": [
       "    Unnamed: 0               title_id              title  \\\n",
       "84          84  GX9KHPw1OIMPCJgEAAAAD  Wonder Woman 1984   \n",
       "\n",
       "   home_territory_observed_medal      pillar_genres    imdb_id  \\\n",
       "84                      Platinum  Action/Adventure   tt7126948   \n",
       "\n",
       "   theatrical_release_date offering_start_date  days_from_theatrical2  \\\n",
       "84              2020-12-25          2020-12-25                      0   \n",
       "\n",
       "    pct_actives  days_from_max_launch  cumulative_viewing_subs  \\\n",
       "84         0.64                  -219                 13629947   \n",
       "\n",
       "    cumulative_first_views    area_gross         budget  \\\n",
       "84                 2784313 16,701,957.00 200,000,000.00   \n",
       "\n",
       "    genre_Action/Adventure   genre_Comedy  genre_Drama  genre_Horror   \\\n",
       "84                        1             0            0              0   \n",
       "\n",
       "    genre_Kids/Family  genre_Romance  genre_Sci-Fi  genre_Suspense/Thriller  \\\n",
       "84                  0              0             0                        0   \n",
       "\n",
       "    medal_Bronze  medal_Gold  medal_Platinum  medal_Silver  medal_number  \\\n",
       "84             0           0               1             0             0   \n",
       "\n",
       "    log_cumulative_first_views  platform  \n",
       "84                       21.41      1.00  "
      ]
     },
     "execution_count": 7,
     "metadata": {},
     "output_type": "execute_result"
    }
   ],
   "source": [
    "training_data[training_data['title'] == 'Wonder Woman 1984']"
   ]
  },
  {
   "cell_type": "markdown",
   "id": "3f4f677c",
   "metadata": {},
   "source": [
    "# 1. Viewing Subs"
   ]
  },
  {
   "cell_type": "code",
   "execution_count": 14,
   "id": "cc5d8737",
   "metadata": {},
   "outputs": [],
   "source": [
    "META_COLS = ['title']#['title_id', 'title', 'home_territory_observed_medal', 'pillar_genres', 'imdb_id']"
   ]
  },
  {
   "cell_type": "code",
   "execution_count": 15,
   "id": "9854a409",
   "metadata": {},
   "outputs": [],
   "source": [
    "FEATURE_COLS = ['days_from_theatrical2', 'area_gross', 'budget', 'genre_Action/Adventure ', 'medal_number'\n",
    "                , 'genre_Comedy', 'genre_Drama']\n",
    "                #, 'genre_Horror ', 'genre_Kids/Family', 'genre_Romance', 'genre_Sci-Fi', 'genre_Suspense/Thriller', "
   ]
  },
  {
   "cell_type": "code",
   "execution_count": 16,
   "id": "190de80f",
   "metadata": {},
   "outputs": [],
   "source": [
    "TARGET_COL = ['cumulative_viewing_subs'] # cumulative_first_views"
   ]
  },
  {
   "cell_type": "code",
   "execution_count": 18,
   "id": "9bb68e9a",
   "metadata": {},
   "outputs": [
    {
     "data": {
      "text/html": [
       "<div>\n",
       "<style scoped>\n",
       "    .dataframe tbody tr th:only-of-type {\n",
       "        vertical-align: middle;\n",
       "    }\n",
       "\n",
       "    .dataframe tbody tr th {\n",
       "        vertical-align: top;\n",
       "    }\n",
       "\n",
       "    .dataframe thead th {\n",
       "        text-align: right;\n",
       "    }\n",
       "</style>\n",
       "<table border=\"1\" class=\"dataframe\">\n",
       "  <thead>\n",
       "    <tr style=\"text-align: right;\">\n",
       "      <th></th>\n",
       "      <th>title</th>\n",
       "      <th>days_from_theatrical2</th>\n",
       "      <th>area_gross</th>\n",
       "      <th>budget</th>\n",
       "      <th>genre_Action/Adventure</th>\n",
       "      <th>medal_number</th>\n",
       "      <th>genre_Comedy</th>\n",
       "      <th>genre_Drama</th>\n",
       "      <th>cumulative_viewing_subs</th>\n",
       "    </tr>\n",
       "  </thead>\n",
       "  <tbody>\n",
       "    <tr>\n",
       "      <th>0</th>\n",
       "      <td>News of the World</td>\n",
       "      <td>250</td>\n",
       "      <td>2,250,430.00</td>\n",
       "      <td>38,000,000.00</td>\n",
       "      <td>1</td>\n",
       "      <td>2</td>\n",
       "      <td>0</td>\n",
       "      <td>0</td>\n",
       "      <td>2557041</td>\n",
       "    </tr>\n",
       "    <tr>\n",
       "      <th>1</th>\n",
       "      <td>The Good Liar</td>\n",
       "      <td>187</td>\n",
       "      <td>5,605,051.00</td>\n",
       "      <td>10,000,000.00</td>\n",
       "      <td>0</td>\n",
       "      <td>3</td>\n",
       "      <td>0</td>\n",
       "      <td>1</td>\n",
       "      <td>186115</td>\n",
       "    </tr>\n",
       "    <tr>\n",
       "      <th>2</th>\n",
       "      <td>King Richard</td>\n",
       "      <td>0</td>\n",
       "      <td>5,406,033.00</td>\n",
       "      <td>50,000,000.00</td>\n",
       "      <td>0</td>\n",
       "      <td>0</td>\n",
       "      <td>0</td>\n",
       "      <td>1</td>\n",
       "      <td>7612114</td>\n",
       "    </tr>\n",
       "    <tr>\n",
       "      <th>3</th>\n",
       "      <td>Shiva Baby</td>\n",
       "      <td>66</td>\n",
       "      <td>7,160.00</td>\n",
       "      <td>nan</td>\n",
       "      <td>0</td>\n",
       "      <td>3</td>\n",
       "      <td>1</td>\n",
       "      <td>0</td>\n",
       "      <td>307494</td>\n",
       "    </tr>\n",
       "    <tr>\n",
       "      <th>4</th>\n",
       "      <td>The Last Duel</td>\n",
       "      <td>91</td>\n",
       "      <td>4,759,151.00</td>\n",
       "      <td>100,000,000.00</td>\n",
       "      <td>0</td>\n",
       "      <td>1</td>\n",
       "      <td>0</td>\n",
       "      <td>1</td>\n",
       "      <td>5012315</td>\n",
       "    </tr>\n",
       "  </tbody>\n",
       "</table>\n",
       "</div>"
      ],
      "text/plain": [
       "               title  days_from_theatrical2   area_gross         budget  \\\n",
       "0  News of the World                    250 2,250,430.00  38,000,000.00   \n",
       "1      The Good Liar                    187 5,605,051.00  10,000,000.00   \n",
       "2       King Richard                      0 5,406,033.00  50,000,000.00   \n",
       "3         Shiva Baby                     66     7,160.00            nan   \n",
       "4      The Last Duel                     91 4,759,151.00 100,000,000.00   \n",
       "\n",
       "   genre_Action/Adventure   medal_number  genre_Comedy  genre_Drama  \\\n",
       "0                        1             2             0            0   \n",
       "1                        0             3             0            1   \n",
       "2                        0             0             0            1   \n",
       "3                        0             3             1            0   \n",
       "4                        0             1             0            1   \n",
       "\n",
       "   cumulative_viewing_subs  \n",
       "0                  2557041  \n",
       "1                   186115  \n",
       "2                  7612114  \n",
       "3                   307494  \n",
       "4                  5012315  "
      ]
     },
     "execution_count": 18,
     "metadata": {},
     "output_type": "execute_result"
    }
   ],
   "source": [
    "training_data[META_COLS+FEATURE_COLS+TARGET_COL].head()"
   ]
  },
  {
   "cell_type": "markdown",
   "id": "a9405ff9",
   "metadata": {},
   "source": [
    "## 1.1 Cross Validation"
   ]
  },
  {
   "cell_type": "code",
   "execution_count": 12,
   "id": "af122d6a",
   "metadata": {},
   "outputs": [],
   "source": [
    "def cal_error(validation_set):\n",
    "    error_col = (validation_set['pred']-validation_set[TARGET_COL[0]]).abs()/validation_set[TARGET_COL[0]]\n",
    "    return error_col.mean()"
   ]
  },
  {
   "cell_type": "markdown",
   "id": "dc2992fb",
   "metadata": {},
   "source": [
    "### 1.11 Random Forest CV"
   ]
  },
  {
   "cell_type": "code",
   "execution_count": 13,
   "id": "277ec888",
   "metadata": {},
   "outputs": [],
   "source": [
    "training_data = training_data[training_data['days_from_max_launch']<= 0]"
   ]
  },
  {
   "cell_type": "code",
   "execution_count": 14,
   "id": "46ba30b1",
   "metadata": {},
   "outputs": [],
   "source": [
    "num_folds = len(training_data['title_id'].unique())\n",
    "group_kfold = GroupKFold(n_splits=num_folds)"
   ]
  },
  {
   "cell_type": "code",
   "execution_count": 15,
   "id": "87758ea8",
   "metadata": {},
   "outputs": [
    {
     "data": {
      "text/plain": [
       "73"
      ]
     },
     "execution_count": 15,
     "metadata": {},
     "output_type": "execute_result"
    }
   ],
   "source": [
    "num_folds"
   ]
  },
  {
   "cell_type": "code",
   "execution_count": 14,
   "id": "5b89a604",
   "metadata": {
    "collapsed": true,
    "jupyter": {
     "outputs_hidden": true
    }
   },
   "outputs": [
    {
     "name": "stdout",
     "output_type": "stream",
     "text": [
      "Validation Title: Don't Worry Darling\n",
      "Validation Title: Black Adam\n"
     ]
    },
    {
     "ename": "KeyboardInterrupt",
     "evalue": "",
     "output_type": "error",
     "traceback": [
      "\u001b[0;31m---------------------------------------------------------------------------\u001b[0m",
      "\u001b[0;31mKeyboardInterrupt\u001b[0m                         Traceback (most recent call last)",
      "\u001b[0;32m<ipython-input-14-8057564f1c89>\u001b[0m in \u001b[0;36m<module>\u001b[0;34m\u001b[0m\n\u001b[1;32m     11\u001b[0m         \u001b[0my_train\u001b[0m\u001b[0;34m,\u001b[0m \u001b[0my_test\u001b[0m \u001b[0;34m=\u001b[0m \u001b[0mtrain_df\u001b[0m\u001b[0;34m[\u001b[0m\u001b[0mTARGET_COL\u001b[0m\u001b[0;34m]\u001b[0m\u001b[0;34m,\u001b[0m \u001b[0mtest_df\u001b[0m\u001b[0;34m[\u001b[0m\u001b[0mTARGET_COL\u001b[0m\u001b[0;34m]\u001b[0m\u001b[0;34m\u001b[0m\u001b[0;34m\u001b[0m\u001b[0m\n\u001b[1;32m     12\u001b[0m \u001b[0;34m\u001b[0m\u001b[0m\n\u001b[0;32m---> 13\u001b[0;31m         \u001b[0mmodel\u001b[0m\u001b[0;34m.\u001b[0m\u001b[0mfit\u001b[0m\u001b[0;34m(\u001b[0m\u001b[0mX_train\u001b[0m\u001b[0;34m,\u001b[0m \u001b[0my_train\u001b[0m\u001b[0;34m)\u001b[0m\u001b[0;34m\u001b[0m\u001b[0;34m\u001b[0m\u001b[0m\n\u001b[0m\u001b[1;32m     14\u001b[0m         \u001b[0mpred\u001b[0m \u001b[0;34m=\u001b[0m \u001b[0mmodel\u001b[0m\u001b[0;34m.\u001b[0m\u001b[0mpredict\u001b[0m\u001b[0;34m(\u001b[0m\u001b[0mX_test\u001b[0m\u001b[0;34m)\u001b[0m\u001b[0;34m\u001b[0m\u001b[0;34m\u001b[0m\u001b[0m\n\u001b[1;32m     15\u001b[0m         \u001b[0mpred\u001b[0m \u001b[0;34m=\u001b[0m \u001b[0mpd\u001b[0m\u001b[0;34m.\u001b[0m\u001b[0mDataFrame\u001b[0m\u001b[0;34m(\u001b[0m\u001b[0mpred\u001b[0m\u001b[0;34m)\u001b[0m\u001b[0;34m\u001b[0m\u001b[0;34m\u001b[0m\u001b[0m\n",
      "\u001b[0;32m~/anaconda3/envs/python3/lib/python3.6/site-packages/xgboost/core.py\u001b[0m in \u001b[0;36minner_f\u001b[0;34m(*args, **kwargs)\u001b[0m\n\u001b[1;32m    504\u001b[0m         \u001b[0;32mfor\u001b[0m \u001b[0mk\u001b[0m\u001b[0;34m,\u001b[0m \u001b[0marg\u001b[0m \u001b[0;32min\u001b[0m \u001b[0mzip\u001b[0m\u001b[0;34m(\u001b[0m\u001b[0msig\u001b[0m\u001b[0;34m.\u001b[0m\u001b[0mparameters\u001b[0m\u001b[0;34m,\u001b[0m \u001b[0margs\u001b[0m\u001b[0;34m)\u001b[0m\u001b[0;34m:\u001b[0m\u001b[0;34m\u001b[0m\u001b[0;34m\u001b[0m\u001b[0m\n\u001b[1;32m    505\u001b[0m             \u001b[0mkwargs\u001b[0m\u001b[0;34m[\u001b[0m\u001b[0mk\u001b[0m\u001b[0;34m]\u001b[0m \u001b[0;34m=\u001b[0m \u001b[0marg\u001b[0m\u001b[0;34m\u001b[0m\u001b[0;34m\u001b[0m\u001b[0m\n\u001b[0;32m--> 506\u001b[0;31m         \u001b[0;32mreturn\u001b[0m \u001b[0mf\u001b[0m\u001b[0;34m(\u001b[0m\u001b[0;34m**\u001b[0m\u001b[0mkwargs\u001b[0m\u001b[0;34m)\u001b[0m\u001b[0;34m\u001b[0m\u001b[0;34m\u001b[0m\u001b[0m\n\u001b[0m\u001b[1;32m    507\u001b[0m \u001b[0;34m\u001b[0m\u001b[0m\n\u001b[1;32m    508\u001b[0m     \u001b[0;32mreturn\u001b[0m \u001b[0minner_f\u001b[0m\u001b[0;34m\u001b[0m\u001b[0;34m\u001b[0m\u001b[0m\n",
      "\u001b[0;32m~/anaconda3/envs/python3/lib/python3.6/site-packages/xgboost/sklearn.py\u001b[0m in \u001b[0;36mfit\u001b[0;34m(self, X, y, sample_weight, base_margin, eval_set, eval_metric, early_stopping_rounds, verbose, xgb_model, sample_weight_eval_set, base_margin_eval_set, feature_weights, callbacks)\u001b[0m\n\u001b[1;32m    798\u001b[0m             \u001b[0mverbose_eval\u001b[0m\u001b[0;34m=\u001b[0m\u001b[0mverbose\u001b[0m\u001b[0;34m,\u001b[0m\u001b[0;34m\u001b[0m\u001b[0;34m\u001b[0m\u001b[0m\n\u001b[1;32m    799\u001b[0m             \u001b[0mxgb_model\u001b[0m\u001b[0;34m=\u001b[0m\u001b[0mmodel\u001b[0m\u001b[0;34m,\u001b[0m\u001b[0;34m\u001b[0m\u001b[0;34m\u001b[0m\u001b[0m\n\u001b[0;32m--> 800\u001b[0;31m             \u001b[0mcallbacks\u001b[0m\u001b[0;34m=\u001b[0m\u001b[0mcallbacks\u001b[0m\u001b[0;34m,\u001b[0m\u001b[0;34m\u001b[0m\u001b[0;34m\u001b[0m\u001b[0m\n\u001b[0m\u001b[1;32m    801\u001b[0m         )\n\u001b[1;32m    802\u001b[0m \u001b[0;34m\u001b[0m\u001b[0m\n",
      "\u001b[0;32m~/anaconda3/envs/python3/lib/python3.6/site-packages/xgboost/training.py\u001b[0m in \u001b[0;36mtrain\u001b[0;34m(params, dtrain, num_boost_round, evals, obj, feval, maximize, early_stopping_rounds, evals_result, verbose_eval, xgb_model, callbacks)\u001b[0m\n\u001b[1;32m    194\u001b[0m                           \u001b[0mevals_result\u001b[0m\u001b[0;34m=\u001b[0m\u001b[0mevals_result\u001b[0m\u001b[0;34m,\u001b[0m\u001b[0;34m\u001b[0m\u001b[0;34m\u001b[0m\u001b[0m\n\u001b[1;32m    195\u001b[0m                           \u001b[0mmaximize\u001b[0m\u001b[0;34m=\u001b[0m\u001b[0mmaximize\u001b[0m\u001b[0;34m,\u001b[0m\u001b[0;34m\u001b[0m\u001b[0;34m\u001b[0m\u001b[0m\n\u001b[0;32m--> 196\u001b[0;31m                           early_stopping_rounds=early_stopping_rounds)\n\u001b[0m\u001b[1;32m    197\u001b[0m     \u001b[0;32mreturn\u001b[0m \u001b[0mbst\u001b[0m\u001b[0;34m\u001b[0m\u001b[0;34m\u001b[0m\u001b[0m\n\u001b[1;32m    198\u001b[0m \u001b[0;34m\u001b[0m\u001b[0m\n",
      "\u001b[0;32m~/anaconda3/envs/python3/lib/python3.6/site-packages/xgboost/training.py\u001b[0m in \u001b[0;36m_train_internal\u001b[0;34m(params, dtrain, num_boost_round, evals, obj, feval, xgb_model, callbacks, evals_result, maximize, verbose_eval, early_stopping_rounds)\u001b[0m\n\u001b[1;32m     79\u001b[0m         \u001b[0;32mif\u001b[0m \u001b[0mcallbacks\u001b[0m\u001b[0;34m.\u001b[0m\u001b[0mbefore_iteration\u001b[0m\u001b[0;34m(\u001b[0m\u001b[0mbst\u001b[0m\u001b[0;34m,\u001b[0m \u001b[0mi\u001b[0m\u001b[0;34m,\u001b[0m \u001b[0mdtrain\u001b[0m\u001b[0;34m,\u001b[0m \u001b[0mevals\u001b[0m\u001b[0;34m)\u001b[0m\u001b[0;34m:\u001b[0m\u001b[0;34m\u001b[0m\u001b[0;34m\u001b[0m\u001b[0m\n\u001b[1;32m     80\u001b[0m             \u001b[0;32mbreak\u001b[0m\u001b[0;34m\u001b[0m\u001b[0;34m\u001b[0m\u001b[0m\n\u001b[0;32m---> 81\u001b[0;31m         \u001b[0mbst\u001b[0m\u001b[0;34m.\u001b[0m\u001b[0mupdate\u001b[0m\u001b[0;34m(\u001b[0m\u001b[0mdtrain\u001b[0m\u001b[0;34m,\u001b[0m \u001b[0mi\u001b[0m\u001b[0;34m,\u001b[0m \u001b[0mobj\u001b[0m\u001b[0;34m)\u001b[0m\u001b[0;34m\u001b[0m\u001b[0;34m\u001b[0m\u001b[0m\n\u001b[0m\u001b[1;32m     82\u001b[0m         \u001b[0;32mif\u001b[0m \u001b[0mcallbacks\u001b[0m\u001b[0;34m.\u001b[0m\u001b[0mafter_iteration\u001b[0m\u001b[0;34m(\u001b[0m\u001b[0mbst\u001b[0m\u001b[0;34m,\u001b[0m \u001b[0mi\u001b[0m\u001b[0;34m,\u001b[0m \u001b[0mdtrain\u001b[0m\u001b[0;34m,\u001b[0m \u001b[0mevals\u001b[0m\u001b[0;34m)\u001b[0m\u001b[0;34m:\u001b[0m\u001b[0;34m\u001b[0m\u001b[0;34m\u001b[0m\u001b[0m\n\u001b[1;32m     83\u001b[0m             \u001b[0;32mbreak\u001b[0m\u001b[0;34m\u001b[0m\u001b[0;34m\u001b[0m\u001b[0m\n",
      "\u001b[0;32m~/anaconda3/envs/python3/lib/python3.6/site-packages/xgboost/core.py\u001b[0m in \u001b[0;36mupdate\u001b[0;34m(self, dtrain, iteration, fobj)\u001b[0m\n\u001b[1;32m   1680\u001b[0m             _check_call(_LIB.XGBoosterUpdateOneIter(self.handle,\n\u001b[1;32m   1681\u001b[0m                                                     \u001b[0mctypes\u001b[0m\u001b[0;34m.\u001b[0m\u001b[0mc_int\u001b[0m\u001b[0;34m(\u001b[0m\u001b[0miteration\u001b[0m\u001b[0;34m)\u001b[0m\u001b[0;34m,\u001b[0m\u001b[0;34m\u001b[0m\u001b[0;34m\u001b[0m\u001b[0m\n\u001b[0;32m-> 1682\u001b[0;31m                                                     dtrain.handle))\n\u001b[0m\u001b[1;32m   1683\u001b[0m         \u001b[0;32melse\u001b[0m\u001b[0;34m:\u001b[0m\u001b[0;34m\u001b[0m\u001b[0;34m\u001b[0m\u001b[0m\n\u001b[1;32m   1684\u001b[0m             \u001b[0mpred\u001b[0m \u001b[0;34m=\u001b[0m \u001b[0mself\u001b[0m\u001b[0;34m.\u001b[0m\u001b[0mpredict\u001b[0m\u001b[0;34m(\u001b[0m\u001b[0mdtrain\u001b[0m\u001b[0;34m,\u001b[0m \u001b[0moutput_margin\u001b[0m\u001b[0;34m=\u001b[0m\u001b[0;32mTrue\u001b[0m\u001b[0;34m,\u001b[0m \u001b[0mtraining\u001b[0m\u001b[0;34m=\u001b[0m\u001b[0;32mTrue\u001b[0m\u001b[0;34m)\u001b[0m\u001b[0;34m\u001b[0m\u001b[0;34m\u001b[0m\u001b[0m\n",
      "\u001b[0;31mKeyboardInterrupt\u001b[0m: "
     ]
    }
   ],
   "source": [
    "validation_set = pd.DataFrame()\n",
    "feature_importances = pd.DataFrame()\n",
    "model = XGBRegressor(n_estimators=1000, max_depth=7, eta=0.1, subsample=0.7, colsample_bytree=0.8)\n",
    "\n",
    "for train_index, test_index in group_kfold.split(training_data, groups=training_data['title_id'].values):\n",
    "    train_df, test_df = training_data.iloc[train_index], training_data.iloc[test_index]\n",
    "    print (\"Validation Title: \" + test_df['title'].values[0])\n",
    "    try:\n",
    "        ## fit_predict prelaunch model\n",
    "        X_train, X_test = train_df[FEATURE_COLS], test_df[FEATURE_COLS]\n",
    "        y_train, y_test = train_df[TARGET_COL], test_df[TARGET_COL]\n",
    "\n",
    "        model.fit(X_train, y_train)\n",
    "        pred = model.predict(X_test)\n",
    "        pred = pd.DataFrame(pred)\n",
    "        pred.columns = ['pred']\n",
    "        test_df.reset_index(inplace = True, drop = True)\n",
    "        test_df = pd.concat([test_df, pred], axis = 1)\n",
    "        validation_set = pd.concat([validation_set, test_df], axis = 0)\n",
    "\n",
    "#         fi = model.feature_importances_\n",
    "#         fi_df = pd.DataFrame([fi])\n",
    "#         fi_df.columns = FEATURE_COLS\n",
    "#         fi_df['match_id'] = test_df['match_id'].values[0]\n",
    "#         fi_df['title_name'] = test_df['title_name'].values[0]\n",
    "#         fi_df['days_on_hbo_max'] = day\n",
    "#         feature_importances=pd.concat([feature_importances, fi_df], axis = 0)\n",
    "\n",
    "    except (KeyboardInterrupt, SystemExit):\n",
    "        raise\n",
    "\n",
    "    except:\n",
    "        print (test_df['title'].values[0] + \" Failed!!\")\n",
    "        # raise"
   ]
  },
  {
   "cell_type": "code",
   "execution_count": null,
   "id": "b7b712bd",
   "metadata": {},
   "outputs": [],
   "source": [
    "# validation_set.to_csv('validation_set.csv')"
   ]
  },
  {
   "cell_type": "code",
   "execution_count": 26,
   "id": "a88683ea",
   "metadata": {},
   "outputs": [
    {
     "data": {
      "text/html": [
       "<div>\n",
       "<style scoped>\n",
       "    .dataframe tbody tr th:only-of-type {\n",
       "        vertical-align: middle;\n",
       "    }\n",
       "\n",
       "    .dataframe tbody tr th {\n",
       "        vertical-align: top;\n",
       "    }\n",
       "\n",
       "    .dataframe thead th {\n",
       "        text-align: right;\n",
       "    }\n",
       "</style>\n",
       "<table border=\"1\" class=\"dataframe\">\n",
       "  <thead>\n",
       "    <tr style=\"text-align: right;\">\n",
       "      <th></th>\n",
       "      <th>Unnamed: 0</th>\n",
       "      <th>title_id</th>\n",
       "      <th>title</th>\n",
       "      <th>home_territory_observed_medal</th>\n",
       "      <th>pillar_genres</th>\n",
       "      <th>imdb_id</th>\n",
       "      <th>theatrical_release_date</th>\n",
       "      <th>offering_start_date</th>\n",
       "      <th>days_from_theatrical2</th>\n",
       "      <th>pct_actives</th>\n",
       "      <th>days_from_max_launch</th>\n",
       "      <th>cumulative_viewing_subs</th>\n",
       "      <th>cumulative_first_views</th>\n",
       "      <th>area_gross</th>\n",
       "      <th>budget</th>\n",
       "      <th>genre_Action/Adventure</th>\n",
       "      <th>genre_Comedy</th>\n",
       "      <th>genre_Drama</th>\n",
       "      <th>genre_Horror</th>\n",
       "      <th>genre_Kids/Family</th>\n",
       "      <th>genre_Romance</th>\n",
       "      <th>genre_Sci-Fi</th>\n",
       "      <th>genre_Suspense/Thriller</th>\n",
       "      <th>medal_number</th>\n",
       "      <th>platform</th>\n",
       "      <th>pred</th>\n",
       "    </tr>\n",
       "  </thead>\n",
       "  <tbody>\n",
       "    <tr>\n",
       "      <th>0</th>\n",
       "      <td>32</td>\n",
       "      <td>GYzrqHgFIqsM2ewEAAAD4</td>\n",
       "      <td>Don't Worry Darling</td>\n",
       "      <td>Gold</td>\n",
       "      <td>Suspense/Thriller</td>\n",
       "      <td>tt10731256</td>\n",
       "      <td>2022-09-23</td>\n",
       "      <td>2022-11-07</td>\n",
       "      <td>45</td>\n",
       "      <td>0.21</td>\n",
       "      <td>-856</td>\n",
       "      <td>6373492</td>\n",
       "      <td>77468</td>\n",
       "      <td>19,353,213.00</td>\n",
       "      <td>20,000,000.00</td>\n",
       "      <td>0</td>\n",
       "      <td>0</td>\n",
       "      <td>0</td>\n",
       "      <td>0</td>\n",
       "      <td>0</td>\n",
       "      <td>0</td>\n",
       "      <td>0</td>\n",
       "      <td>1</td>\n",
       "      <td>1</td>\n",
       "      <td>1.00</td>\n",
       "      <td>6,014,445.00</td>\n",
       "    </tr>\n",
       "    <tr>\n",
       "      <th>0</th>\n",
       "      <td>65</td>\n",
       "      <td>GYA79hQZbUsI3gQEAAAB0</td>\n",
       "      <td>The Little Things</td>\n",
       "      <td>Silver</td>\n",
       "      <td>Drama</td>\n",
       "      <td>tt10016180</td>\n",
       "      <td>2021-01-29</td>\n",
       "      <td>2021-01-29</td>\n",
       "      <td>0</td>\n",
       "      <td>0.42</td>\n",
       "      <td>-254</td>\n",
       "      <td>10191116</td>\n",
       "      <td>673112</td>\n",
       "      <td>4,705,527.00</td>\n",
       "      <td>30,000,000.00</td>\n",
       "      <td>0</td>\n",
       "      <td>0</td>\n",
       "      <td>1</td>\n",
       "      <td>0</td>\n",
       "      <td>0</td>\n",
       "      <td>0</td>\n",
       "      <td>0</td>\n",
       "      <td>0</td>\n",
       "      <td>2</td>\n",
       "      <td>1.00</td>\n",
       "      <td>4,641,313.50</td>\n",
       "    </tr>\n",
       "    <tr>\n",
       "      <th>0</th>\n",
       "      <td>75</td>\n",
       "      <td>GXxmT_ww39aJrqAEAAAAM</td>\n",
       "      <td>A Hidden Life</td>\n",
       "      <td>Bronze</td>\n",
       "      <td>Drama</td>\n",
       "      <td>tt5827916</td>\n",
       "      <td>2019-12-13</td>\n",
       "      <td>2020-09-01</td>\n",
       "      <td>159</td>\n",
       "      <td>0.00</td>\n",
       "      <td>159</td>\n",
       "      <td>17035</td>\n",
       "      <td>494</td>\n",
       "      <td>50,383.00</td>\n",
       "      <td>nan</td>\n",
       "      <td>0</td>\n",
       "      <td>0</td>\n",
       "      <td>1</td>\n",
       "      <td>0</td>\n",
       "      <td>0</td>\n",
       "      <td>0</td>\n",
       "      <td>0</td>\n",
       "      <td>0</td>\n",
       "      <td>3</td>\n",
       "      <td>1.00</td>\n",
       "      <td>392,869.75</td>\n",
       "    </tr>\n",
       "    <tr>\n",
       "      <th>0</th>\n",
       "      <td>84</td>\n",
       "      <td>GXzFh-gkF3ALCOAEAAAdi</td>\n",
       "      <td>Black Christmas</td>\n",
       "      <td>Bronze</td>\n",
       "      <td>Horror</td>\n",
       "      <td>tt10481868</td>\n",
       "      <td>2019-12-13</td>\n",
       "      <td>2020-11-01</td>\n",
       "      <td>159</td>\n",
       "      <td>0.02</td>\n",
       "      <td>159</td>\n",
       "      <td>324846</td>\n",
       "      <td>7050</td>\n",
       "      <td>4,240,245.00</td>\n",
       "      <td>5,000,000.00</td>\n",
       "      <td>0</td>\n",
       "      <td>0</td>\n",
       "      <td>0</td>\n",
       "      <td>1</td>\n",
       "      <td>0</td>\n",
       "      <td>0</td>\n",
       "      <td>0</td>\n",
       "      <td>0</td>\n",
       "      <td>3</td>\n",
       "      <td>1.00</td>\n",
       "      <td>483,793.28</td>\n",
       "    </tr>\n",
       "    <tr>\n",
       "      <th>0</th>\n",
       "      <td>43</td>\n",
       "      <td>GXzFhoAT83gLCOAEAAAdE</td>\n",
       "      <td>Downhill</td>\n",
       "      <td>Silver</td>\n",
       "      <td>Comedy</td>\n",
       "      <td>tt4558376</td>\n",
       "      <td>2020-02-14</td>\n",
       "      <td>2020-10-04</td>\n",
       "      <td>96</td>\n",
       "      <td>0.04</td>\n",
       "      <td>96</td>\n",
       "      <td>642830</td>\n",
       "      <td>13086</td>\n",
       "      <td>4,622,018.00</td>\n",
       "      <td>nan</td>\n",
       "      <td>0</td>\n",
       "      <td>1</td>\n",
       "      <td>0</td>\n",
       "      <td>0</td>\n",
       "      <td>0</td>\n",
       "      <td>0</td>\n",
       "      <td>0</td>\n",
       "      <td>0</td>\n",
       "      <td>2</td>\n",
       "      <td>1.00</td>\n",
       "      <td>2,787,005.00</td>\n",
       "    </tr>\n",
       "  </tbody>\n",
       "</table>\n",
       "</div>"
      ],
      "text/plain": [
       "   Unnamed: 0               title_id                title  \\\n",
       "0          32  GYzrqHgFIqsM2ewEAAAD4  Don't Worry Darling   \n",
       "0          65  GYA79hQZbUsI3gQEAAAB0    The Little Things   \n",
       "0          75  GXxmT_ww39aJrqAEAAAAM        A Hidden Life   \n",
       "0          84  GXzFh-gkF3ALCOAEAAAdi      Black Christmas   \n",
       "0          43  GXzFhoAT83gLCOAEAAAdE             Downhill   \n",
       "\n",
       "  home_territory_observed_medal      pillar_genres     imdb_id  \\\n",
       "0                          Gold  Suspense/Thriller  tt10731256   \n",
       "0                        Silver              Drama  tt10016180   \n",
       "0                        Bronze              Drama   tt5827916   \n",
       "0                        Bronze            Horror   tt10481868   \n",
       "0                        Silver             Comedy   tt4558376   \n",
       "\n",
       "  theatrical_release_date offering_start_date  days_from_theatrical2  \\\n",
       "0              2022-09-23          2022-11-07                     45   \n",
       "0              2021-01-29          2021-01-29                      0   \n",
       "0              2019-12-13          2020-09-01                    159   \n",
       "0              2019-12-13          2020-11-01                    159   \n",
       "0              2020-02-14          2020-10-04                     96   \n",
       "\n",
       "   pct_actives  days_from_max_launch  cumulative_viewing_subs  \\\n",
       "0         0.21                  -856                  6373492   \n",
       "0         0.42                  -254                 10191116   \n",
       "0         0.00                   159                    17035   \n",
       "0         0.02                   159                   324846   \n",
       "0         0.04                    96                   642830   \n",
       "\n",
       "   cumulative_first_views    area_gross        budget  \\\n",
       "0                   77468 19,353,213.00 20,000,000.00   \n",
       "0                  673112  4,705,527.00 30,000,000.00   \n",
       "0                     494     50,383.00           nan   \n",
       "0                    7050  4,240,245.00  5,000,000.00   \n",
       "0                   13086  4,622,018.00           nan   \n",
       "\n",
       "   genre_Action/Adventure   genre_Comedy  genre_Drama  genre_Horror   \\\n",
       "0                        0             0            0              0   \n",
       "0                        0             0            1              0   \n",
       "0                        0             0            1              0   \n",
       "0                        0             0            0              1   \n",
       "0                        0             1            0              0   \n",
       "\n",
       "   genre_Kids/Family  genre_Romance  genre_Sci-Fi  genre_Suspense/Thriller  \\\n",
       "0                  0              0             0                        1   \n",
       "0                  0              0             0                        0   \n",
       "0                  0              0             0                        0   \n",
       "0                  0              0             0                        0   \n",
       "0                  0              0             0                        0   \n",
       "\n",
       "   medal_number  platform         pred  \n",
       "0             1      1.00 6,014,445.00  \n",
       "0             2      1.00 4,641,313.50  \n",
       "0             3      1.00   392,869.75  \n",
       "0             3      1.00   483,793.28  \n",
       "0             2      1.00 2,787,005.00  "
      ]
     },
     "execution_count": 26,
     "metadata": {},
     "output_type": "execute_result"
    }
   ],
   "source": [
    "validation_set.head()"
   ]
  },
  {
   "cell_type": "code",
   "execution_count": 44,
   "id": "854555ce",
   "metadata": {},
   "outputs": [],
   "source": [
    "validation_set['pct_error'] = (validation_set['pred']-validation_set[TARGET_COL[0]]).abs()/validation_set[TARGET_COL[0]]"
   ]
  },
  {
   "cell_type": "code",
   "execution_count": 45,
   "id": "b3aac5f2",
   "metadata": {},
   "outputs": [
    {
     "data": {
      "text/html": [
       "<div>\n",
       "<style scoped>\n",
       "    .dataframe tbody tr th:only-of-type {\n",
       "        vertical-align: middle;\n",
       "    }\n",
       "\n",
       "    .dataframe tbody tr th {\n",
       "        vertical-align: top;\n",
       "    }\n",
       "\n",
       "    .dataframe thead th {\n",
       "        text-align: right;\n",
       "    }\n",
       "</style>\n",
       "<table border=\"1\" class=\"dataframe\">\n",
       "  <thead>\n",
       "    <tr style=\"text-align: right;\">\n",
       "      <th></th>\n",
       "      <th>Unnamed: 0</th>\n",
       "      <th>title_id</th>\n",
       "      <th>title</th>\n",
       "      <th>home_territory_observed_medal</th>\n",
       "      <th>pillar_genres</th>\n",
       "      <th>imdb_id</th>\n",
       "      <th>theatrical_release_date</th>\n",
       "      <th>offering_start_date</th>\n",
       "      <th>days_from_theatrical2</th>\n",
       "      <th>pct_actives</th>\n",
       "      <th>days_from_max_launch</th>\n",
       "      <th>cumulative_viewing_subs</th>\n",
       "      <th>cumulative_first_views</th>\n",
       "      <th>area_gross</th>\n",
       "      <th>budget</th>\n",
       "      <th>genre_Action/Adventure</th>\n",
       "      <th>genre_Comedy</th>\n",
       "      <th>genre_Drama</th>\n",
       "      <th>genre_Horror</th>\n",
       "      <th>genre_Kids/Family</th>\n",
       "      <th>genre_Romance</th>\n",
       "      <th>genre_Sci-Fi</th>\n",
       "      <th>genre_Suspense/Thriller</th>\n",
       "      <th>medal_number</th>\n",
       "      <th>platform</th>\n",
       "      <th>pred</th>\n",
       "      <th>pct_error</th>\n",
       "    </tr>\n",
       "  </thead>\n",
       "  <tbody>\n",
       "    <tr>\n",
       "      <th>0</th>\n",
       "      <td>55</td>\n",
       "      <td>GYIHBbgg_NZ2TjQEAAADx</td>\n",
       "      <td>Kajillionaire</td>\n",
       "      <td>Bronze</td>\n",
       "      <td>Drama</td>\n",
       "      <td>tt8143990</td>\n",
       "      <td>2020-09-25</td>\n",
       "      <td>2021-06-01</td>\n",
       "      <td>249</td>\n",
       "      <td>0.02</td>\n",
       "      <td>-128</td>\n",
       "      <td>589660</td>\n",
       "      <td>2482</td>\n",
       "      <td>215,675.00</td>\n",
       "      <td>nan</td>\n",
       "      <td>0</td>\n",
       "      <td>0</td>\n",
       "      <td>1</td>\n",
       "      <td>0</td>\n",
       "      <td>0</td>\n",
       "      <td>0</td>\n",
       "      <td>0</td>\n",
       "      <td>0</td>\n",
       "      <td>3</td>\n",
       "      <td>1.00</td>\n",
       "      <td>1,919,200.12</td>\n",
       "      <td>2.25</td>\n",
       "    </tr>\n",
       "    <tr>\n",
       "      <th>0</th>\n",
       "      <td>41</td>\n",
       "      <td>GYabfWwS74zWCogEAAABO</td>\n",
       "      <td>Profile</td>\n",
       "      <td>Bronze</td>\n",
       "      <td>Suspense/Thriller</td>\n",
       "      <td>tt7826276</td>\n",
       "      <td>2021-05-14</td>\n",
       "      <td>2022-01-01</td>\n",
       "      <td>232</td>\n",
       "      <td>0.01</td>\n",
       "      <td>-359</td>\n",
       "      <td>235653</td>\n",
       "      <td>866</td>\n",
       "      <td>730,290.00</td>\n",
       "      <td>nan</td>\n",
       "      <td>0</td>\n",
       "      <td>0</td>\n",
       "      <td>0</td>\n",
       "      <td>0</td>\n",
       "      <td>0</td>\n",
       "      <td>0</td>\n",
       "      <td>0</td>\n",
       "      <td>1</td>\n",
       "      <td>3</td>\n",
       "      <td>1.00</td>\n",
       "      <td>1,255,451.62</td>\n",
       "      <td>4.33</td>\n",
       "    </tr>\n",
       "  </tbody>\n",
       "</table>\n",
       "</div>"
      ],
      "text/plain": [
       "   Unnamed: 0               title_id          title  \\\n",
       "0          55  GYIHBbgg_NZ2TjQEAAADx  Kajillionaire   \n",
       "0          41  GYabfWwS74zWCogEAAABO        Profile   \n",
       "\n",
       "  home_territory_observed_medal      pillar_genres    imdb_id  \\\n",
       "0                        Bronze              Drama  tt8143990   \n",
       "0                        Bronze  Suspense/Thriller  tt7826276   \n",
       "\n",
       "  theatrical_release_date offering_start_date  days_from_theatrical2  \\\n",
       "0              2020-09-25          2021-06-01                    249   \n",
       "0              2021-05-14          2022-01-01                    232   \n",
       "\n",
       "   pct_actives  days_from_max_launch  cumulative_viewing_subs  \\\n",
       "0         0.02                  -128                   589660   \n",
       "0         0.01                  -359                   235653   \n",
       "\n",
       "   cumulative_first_views  area_gross  budget  genre_Action/Adventure   \\\n",
       "0                    2482  215,675.00     nan                        0   \n",
       "0                     866  730,290.00     nan                        0   \n",
       "\n",
       "   genre_Comedy  genre_Drama  genre_Horror   genre_Kids/Family  genre_Romance  \\\n",
       "0             0            1              0                  0              0   \n",
       "0             0            0              0                  0              0   \n",
       "\n",
       "   genre_Sci-Fi  genre_Suspense/Thriller  medal_number  platform         pred  \\\n",
       "0             0                        0             3      1.00 1,919,200.12   \n",
       "0             0                        1             3      1.00 1,255,451.62   \n",
       "\n",
       "   pct_error  \n",
       "0       2.25  \n",
       "0       4.33  "
      ]
     },
     "execution_count": 45,
     "metadata": {},
     "output_type": "execute_result"
    }
   ],
   "source": [
    "validation_set[validation_set['pct_error']>2]"
   ]
  },
  {
   "cell_type": "code",
   "execution_count": 72,
   "id": "419e3f6b",
   "metadata": {},
   "outputs": [
    {
     "data": {
      "text/plain": [
       "1.8097828521147032"
      ]
     },
     "execution_count": 72,
     "metadata": {},
     "output_type": "execute_result"
    }
   ],
   "source": [
    "cal_error(validation_set)"
   ]
  },
  {
   "cell_type": "code",
   "execution_count": 48,
   "id": "ed41d795",
   "metadata": {},
   "outputs": [
    {
     "data": {
      "text/plain": [
       "home_territory_observed_medal\n",
       "Bronze     0.79\n",
       "Gold       0.26\n",
       "Platinum   0.32\n",
       "Silver     0.41\n",
       "Name: pct_error, dtype: float64"
      ]
     },
     "execution_count": 48,
     "metadata": {},
     "output_type": "execute_result"
    }
   ],
   "source": [
    "validation_set.groupby(['home_territory_observed_medal']).pct_error.mean()"
   ]
  },
  {
   "cell_type": "code",
   "execution_count": 49,
   "id": "250e562f",
   "metadata": {},
   "outputs": [
    {
     "data": {
      "text/plain": [
       "pillar_genres\n",
       "Action/Adventure    0.20\n",
       "Comedy              0.53\n",
       "Drama               0.62\n",
       "Horror              0.45\n",
       "Kids/Family         0.35\n",
       "Sci-Fi              0.53\n",
       "Suspense/Thriller   0.72\n",
       "Name: pct_error, dtype: float64"
      ]
     },
     "execution_count": 49,
     "metadata": {},
     "output_type": "execute_result"
    }
   ],
   "source": [
    "validation_set.groupby(['pillar_genres']).pct_error.mean()"
   ]
  },
  {
   "cell_type": "markdown",
   "id": "853e4b28",
   "metadata": {},
   "source": [
    "### 1.12 Bayesian Regression CV"
   ]
  },
  {
   "cell_type": "code",
   "execution_count": 19,
   "id": "9b5c78f4",
   "metadata": {},
   "outputs": [],
   "source": [
    "# !pip install pygam"
   ]
  },
  {
   "cell_type": "code",
   "execution_count": 18,
   "id": "e9c128d8",
   "metadata": {},
   "outputs": [],
   "source": [
    "from pygam import LinearGAM, s"
   ]
  },
  {
   "cell_type": "code",
   "execution_count": 20,
   "id": "4fb0dea1",
   "metadata": {},
   "outputs": [],
   "source": [
    "FEATURE_COLS = ['days_from_theatrical2', 'area_gross', 'genre_Action/Adventure ', 'medal_number', 'budget', 'genre_Comedy', 'genre_Drama']\n",
    "                #,'genre_Horror ', 'genre_Kids/Family', 'genre_Romance', 'genre_Sci-Fi', 'genre_Suspense/Thriller', ]"
   ]
  },
  {
   "cell_type": "code",
   "execution_count": 21,
   "id": "29327ed2",
   "metadata": {},
   "outputs": [],
   "source": [
    "TARGET_COL = ['cumulative_viewing_subs'] # cumulative_first_views"
   ]
  },
  {
   "cell_type": "code",
   "execution_count": 22,
   "id": "cf55e2e3",
   "metadata": {},
   "outputs": [],
   "source": [
    "training_data = training_data[training_data['days_from_max_launch']<= 0]"
   ]
  },
  {
   "cell_type": "code",
   "execution_count": 23,
   "id": "0ee32375",
   "metadata": {},
   "outputs": [],
   "source": [
    "num_folds = len(training_data['title_id'].unique())\n",
    "group_kfold = GroupKFold(n_splits=num_folds)"
   ]
  },
  {
   "cell_type": "code",
   "execution_count": 24,
   "id": "e34378bc",
   "metadata": {},
   "outputs": [
    {
     "data": {
      "text/plain": [
       "73"
      ]
     },
     "execution_count": 24,
     "metadata": {},
     "output_type": "execute_result"
    }
   ],
   "source": [
    "num_folds"
   ]
  },
  {
   "cell_type": "code",
   "execution_count": 25,
   "id": "953d6fec",
   "metadata": {},
   "outputs": [
    {
     "data": {
      "text/plain": [
       "days_from_theatrical2     0.00\n",
       "area_gross                0.07\n",
       "genre_Action/Adventure    0.00\n",
       "medal_number              0.00\n",
       "budget                    0.29\n",
       "genre_Comedy              0.00\n",
       "genre_Drama               0.00\n",
       "dtype: float64"
      ]
     },
     "execution_count": 25,
     "metadata": {},
     "output_type": "execute_result"
    }
   ],
   "source": [
    "training_data[FEATURE_COLS].isnull().sum()/len(training_data)"
   ]
  },
  {
   "cell_type": "code",
   "execution_count": 26,
   "id": "2518c0d9",
   "metadata": {},
   "outputs": [],
   "source": [
    "training_data['area_gross'] = training_data['area_gross'].fillna(0)\n",
    "training_data['budget'] = training_data['budget'].fillna(0)"
   ]
  },
  {
   "cell_type": "code",
   "execution_count": 47,
   "id": "dfd982c4",
   "metadata": {},
   "outputs": [],
   "source": [
    "### DOWNSIDE --- DO NOT TAKE NULL ####\n",
    "validation_set = pd.DataFrame()\n",
    "# feature_importances = pd.DataFrame()\n",
    "# gam = LinearGAM(s(0))\n",
    "\n",
    "for train_index, test_index in group_kfold.split(training_data, groups=training_data['title_id'].values):\n",
    "    train_df, test_df = training_data.iloc[train_index], training_data.iloc[test_index]\n",
    "#     print (\"Validation Title: \" + test_df['title'].values[0])\n",
    "    try:\n",
    "        ## fit_predict prelaunch model\n",
    "        X_train, X_test = train_df[FEATURE_COLS], test_df[FEATURE_COLS]\n",
    "        y_train, y_test = train_df[TARGET_COL], test_df[TARGET_COL]\n",
    "\n",
    "        gam = LinearGAM(n_splines=10).fit(X_train, y_train)\n",
    "        pred = gam.predict(X_test)\n",
    "        pred = pd.DataFrame(pred)\n",
    "        pred.columns = ['pred']\n",
    "        test_df.reset_index(inplace = True, drop = True)\n",
    "        test_df = pd.concat([test_df, pred], axis = 1)\n",
    "        validation_set = pd.concat([validation_set, test_df], axis = 0)\n",
    "\n",
    "    except Exception as e:\n",
    "        print (e)\n",
    "        raise "
   ]
  },
  {
   "cell_type": "code",
   "execution_count": 48,
   "id": "8478babb",
   "metadata": {},
   "outputs": [
    {
     "data": {
      "text/plain": [
       "0.3970248400436816"
      ]
     },
     "execution_count": 48,
     "metadata": {},
     "output_type": "execute_result"
    }
   ],
   "source": [
    "cal_error(validation_set)"
   ]
  },
  {
   "cell_type": "code",
   "execution_count": 45,
   "id": "91dcce56",
   "metadata": {},
   "outputs": [],
   "source": [
    "X = training_data[FEATURE_COLS]\n",
    "y = training_data[TARGET_COL]\n",
    "gam = LinearGAM(n_splines=10).fit(X, y)"
   ]
  },
  {
   "cell_type": "code",
   "execution_count": 46,
   "id": "b704fed1",
   "metadata": {},
   "outputs": [
    {
     "name": "stdout",
     "output_type": "stream",
     "text": [
      "LinearGAM                                                                                                 \n",
      "=============================================== ==========================================================\n",
      "Distribution:                        NormalDist Effective DoF:                                     16.3298\n",
      "Link Function:                     IdentityLink Log Likelihood:                                 -2139.8348\n",
      "Number of Samples:                           73 AIC:                                             4314.3292\n",
      "                                                AICc:                                            4325.9498\n",
      "                                                GCV:                                     3528891226058.269\n",
      "                                                Scale:                                   2144370734719.956\n",
      "                                                Pseudo R-Squared:                                   0.9001\n",
      "==========================================================================================================\n",
      "Feature Function                  Lambda               Rank         EDoF         P > x        Sig. Code   \n",
      "================================= ==================== ============ ============ ============ ============\n",
      "s(0)                              [0.6]                15                        1.06e-12     ***         \n",
      "s(1)                              [0.6]                15                        1.11e-16     ***         \n",
      "s(2)                              [0.6]                15                        1.11e-16     ***         \n",
      "s(3)                              [0.6]                15                        1.11e-16     ***         \n",
      "s(4)                              [0.6]                15                        3.15e-12     ***         \n",
      "s(5)                              [0.6]                15                        1.11e-16     ***         \n",
      "s(6)                              [0.6]                15                        1.11e-16     ***         \n",
      "intercept                                              1                         1.11e-16     ***         \n",
      "==========================================================================================================\n",
      "Significance codes:  0 '***' 0.001 '**' 0.01 '*' 0.05 '.' 0.1 ' ' 1\n",
      "\n",
      "WARNING: Fitting splines and a linear function to a feature introduces a model identifiability problem\n",
      "         which can cause p-values to appear significant when they are not.\n",
      "\n",
      "WARNING: p-values calculated in this manner behave correctly for un-penalized models or models with\n",
      "         known smoothing parameters, but when smoothing parameters have been estimated, the p-values\n",
      "         are typically lower than they should be, meaning that the tests reject the null too readily.\n"
     ]
    },
    {
     "name": "stderr",
     "output_type": "stream",
     "text": [
      "/home/ec2-user/anaconda3/envs/python3/lib/python3.6/site-packages/ipykernel/__main__.py:1: UserWarning: KNOWN BUG: p-values computed in this summary are likely much smaller than they should be. \n",
      " \n",
      "Please do not make inferences based on these values! \n",
      "\n",
      "Collaborate on a solution, and stay up to date at: \n",
      "github.com/dswah/pyGAM/issues/163 \n",
      "\n",
      "  if __name__ == '__main__':\n"
     ]
    }
   ],
   "source": [
    "gam.summary()"
   ]
  },
  {
   "cell_type": "code",
   "execution_count": 49,
   "id": "b490496e",
   "metadata": {},
   "outputs": [],
   "source": [
    "import matplotlib.pyplot as plt"
   ]
  },
  {
   "cell_type": "code",
   "execution_count": 50,
   "id": "8e041eb5",
   "metadata": {},
   "outputs": [
    {
     "data": {
      "image/png": "[encoded data removed]",
      "text/plain": [
       "<Figure size 1440x576 with 7 Axes>"
      ]
     },
     "metadata": {
      "needs_background": "light"
     },
     "output_type": "display_data"
    }
   ],
   "source": [
    "plt.rcParams['figure.figsize'] = (20, 8)\n",
    "fig, axs = plt.subplots(1, 7)\n",
    "titles = FEATURE_COLS\n",
    "for i, ax in enumerate(axs):\n",
    "    XX = gam.generate_X_grid(term=i)\n",
    "    pdep, confi = gam.partial_dependence(term=i, width=.95)\n",
    "\n",
    "    ax.plot(XX[:, i], pdep)\n",
    "    ax.plot(XX[:, i], confi, c='r', ls='--')\n",
    "    ax.set_title(titles[i]);"
   ]
  },
  {
   "cell_type": "code",
   "execution_count": 51,
   "id": "81149309",
   "metadata": {},
   "outputs": [],
   "source": [
    "def cal_error(validation_set):\n",
    "    error_col = (validation_set['pred']-validation_set[TARGET_COL[0]]).abs()/validation_set[TARGET_COL[0]]\n",
    "    return error_col.mean()"
   ]
  },
  {
   "cell_type": "code",
   "execution_count": 52,
   "id": "9b977378",
   "metadata": {},
   "outputs": [],
   "source": [
    "validation_set['pct_error'] = (validation_set['pred']-validation_set[TARGET_COL[0]]).abs()/validation_set[TARGET_COL[0]]"
   ]
  },
  {
   "cell_type": "code",
   "execution_count": 55,
   "id": "76302ccb",
   "metadata": {},
   "outputs": [
    {
     "data": {
      "text/html": [
       "<div>\n",
       "<style scoped>\n",
       "    .dataframe tbody tr th:only-of-type {\n",
       "        vertical-align: middle;\n",
       "    }\n",
       "\n",
       "    .dataframe tbody tr th {\n",
       "        vertical-align: top;\n",
       "    }\n",
       "\n",
       "    .dataframe thead th {\n",
       "        text-align: right;\n",
       "    }\n",
       "</style>\n",
       "<table border=\"1\" class=\"dataframe\">\n",
       "  <thead>\n",
       "    <tr style=\"text-align: right;\">\n",
       "      <th></th>\n",
       "      <th>Unnamed: 0</th>\n",
       "      <th>title_id</th>\n",
       "      <th>title</th>\n",
       "      <th>home_territory_observed_medal</th>\n",
       "      <th>pillar_genres</th>\n",
       "      <th>imdb_id</th>\n",
       "      <th>theatrical_release_date</th>\n",
       "      <th>offering_start_date</th>\n",
       "      <th>days_from_theatrical2</th>\n",
       "      <th>pct_actives</th>\n",
       "      <th>days_from_max_launch</th>\n",
       "      <th>cumulative_viewing_subs</th>\n",
       "      <th>cumulative_first_views</th>\n",
       "      <th>area_gross</th>\n",
       "      <th>budget</th>\n",
       "      <th>genre_Action/Adventure</th>\n",
       "      <th>genre_Comedy</th>\n",
       "      <th>genre_Drama</th>\n",
       "      <th>genre_Horror</th>\n",
       "      <th>genre_Kids/Family</th>\n",
       "      <th>genre_Romance</th>\n",
       "      <th>genre_Sci-Fi</th>\n",
       "      <th>genre_Suspense/Thriller</th>\n",
       "      <th>medal_Bronze</th>\n",
       "      <th>medal_Gold</th>\n",
       "      <th>medal_Platinum</th>\n",
       "      <th>medal_Silver</th>\n",
       "      <th>medal_number</th>\n",
       "      <th>log_cumulative_first_views</th>\n",
       "      <th>platform</th>\n",
       "      <th>pred</th>\n",
       "      <th>pct_error</th>\n",
       "    </tr>\n",
       "  </thead>\n",
       "  <tbody>\n",
       "    <tr>\n",
       "      <th>0</th>\n",
       "      <td>42</td>\n",
       "      <td>GYabfWwS74zWCogEAAABO</td>\n",
       "      <td>Profile</td>\n",
       "      <td>Bronze</td>\n",
       "      <td>Suspense/Thriller</td>\n",
       "      <td>tt7826276</td>\n",
       "      <td>2021-05-14</td>\n",
       "      <td>2022-01-01</td>\n",
       "      <td>232</td>\n",
       "      <td>0.01</td>\n",
       "      <td>-359</td>\n",
       "      <td>235653</td>\n",
       "      <td>866</td>\n",
       "      <td>730,290.00</td>\n",
       "      <td>0.00</td>\n",
       "      <td>0</td>\n",
       "      <td>0</td>\n",
       "      <td>0</td>\n",
       "      <td>0</td>\n",
       "      <td>0</td>\n",
       "      <td>0</td>\n",
       "      <td>0</td>\n",
       "      <td>1</td>\n",
       "      <td>1</td>\n",
       "      <td>0</td>\n",
       "      <td>0</td>\n",
       "      <td>0</td>\n",
       "      <td>3</td>\n",
       "      <td>9.76</td>\n",
       "      <td>1.00</td>\n",
       "      <td>1,282,702.41</td>\n",
       "      <td>4.44</td>\n",
       "    </tr>\n",
       "  </tbody>\n",
       "</table>\n",
       "</div>"
      ],
      "text/plain": [
       "   Unnamed: 0               title_id    title home_territory_observed_medal  \\\n",
       "0          42  GYabfWwS74zWCogEAAABO  Profile                        Bronze   \n",
       "\n",
       "       pillar_genres    imdb_id theatrical_release_date offering_start_date  \\\n",
       "0  Suspense/Thriller  tt7826276              2021-05-14          2022-01-01   \n",
       "\n",
       "   days_from_theatrical2  pct_actives  days_from_max_launch  \\\n",
       "0                    232         0.01                  -359   \n",
       "\n",
       "   cumulative_viewing_subs  cumulative_first_views  area_gross  budget  \\\n",
       "0                   235653                     866  730,290.00    0.00   \n",
       "\n",
       "   genre_Action/Adventure   genre_Comedy  genre_Drama  genre_Horror   \\\n",
       "0                        0             0            0              0   \n",
       "\n",
       "   genre_Kids/Family  genre_Romance  genre_Sci-Fi  genre_Suspense/Thriller  \\\n",
       "0                  0              0             0                        1   \n",
       "\n",
       "   medal_Bronze  medal_Gold  medal_Platinum  medal_Silver  medal_number  \\\n",
       "0             1           0               0             0             3   \n",
       "\n",
       "   log_cumulative_first_views  platform         pred  pct_error  \n",
       "0                        9.76      1.00 1,282,702.41       4.44  "
      ]
     },
     "execution_count": 55,
     "metadata": {},
     "output_type": "execute_result"
    }
   ],
   "source": [
    "validation_set[validation_set['pct_error']>2]"
   ]
  },
  {
   "cell_type": "code",
   "execution_count": 56,
   "id": "8b654dc1",
   "metadata": {},
   "outputs": [
    {
     "data": {
      "text/plain": [
       "home_territory_observed_medal\n",
       "Bronze     0.67\n",
       "Gold       0.30\n",
       "Platinum   0.23\n",
       "Silver     0.45\n",
       "Name: pct_error, dtype: float64"
      ]
     },
     "execution_count": 56,
     "metadata": {},
     "output_type": "execute_result"
    }
   ],
   "source": [
    "validation_set.groupby(['home_territory_observed_medal']).pct_error.mean()"
   ]
  },
  {
   "cell_type": "code",
   "execution_count": 57,
   "id": "16a277b5",
   "metadata": {},
   "outputs": [
    {
     "data": {
      "text/plain": [
       "pillar_genres\n",
       "Action/Adventure    0.23\n",
       "Comedy              0.56\n",
       "Drama               0.38\n",
       "Horror              0.38\n",
       "Kids/Family         0.29\n",
       "Sci-Fi              0.00\n",
       "Suspense/Thriller   0.74\n",
       "Name: pct_error, dtype: float64"
      ]
     },
     "execution_count": 57,
     "metadata": {},
     "output_type": "execute_result"
    }
   ],
   "source": [
    "validation_set.groupby(['pillar_genres']).pct_error.mean()"
   ]
  },
  {
   "cell_type": "markdown",
   "id": "9b96da9f",
   "metadata": {},
   "source": [
    "### 1.13 Bayesian Regression Scoring"
   ]
  },
  {
   "cell_type": "markdown",
   "id": "daf3883f",
   "metadata": {},
   "source": [
    "#####1.131 Scoring 1"
   ]
  },
  {
   "cell_type": "code",
   "execution_count": 58,
   "id": "301a6294",
   "metadata": {},
   "outputs": [
    {
     "data": {
      "text/html": [
       "<div>\n",
       "<style scoped>\n",
       "    .dataframe tbody tr th:only-of-type {\n",
       "        vertical-align: middle;\n",
       "    }\n",
       "\n",
       "    .dataframe tbody tr th {\n",
       "        vertical-align: top;\n",
       "    }\n",
       "\n",
       "    .dataframe thead th {\n",
       "        text-align: right;\n",
       "    }\n",
       "</style>\n",
       "<table border=\"1\" class=\"dataframe\">\n",
       "  <thead>\n",
       "    <tr style=\"text-align: right;\">\n",
       "      <th></th>\n",
       "      <th>Unnamed: 0</th>\n",
       "      <th>title_id</th>\n",
       "      <th>title</th>\n",
       "      <th>home_territory_observed_medal</th>\n",
       "      <th>pillar_genres</th>\n",
       "      <th>imdb_id</th>\n",
       "      <th>theatrical_release_date</th>\n",
       "      <th>offering_start_date</th>\n",
       "      <th>days_from_theatrical2</th>\n",
       "      <th>pct_actives</th>\n",
       "      <th>days_from_max_launch</th>\n",
       "      <th>cumulative_viewing_subs</th>\n",
       "      <th>cumulative_first_views</th>\n",
       "      <th>area_gross</th>\n",
       "      <th>budget</th>\n",
       "      <th>genre_Action/Adventure</th>\n",
       "      <th>genre_Comedy</th>\n",
       "      <th>genre_Drama</th>\n",
       "      <th>genre_Horror</th>\n",
       "      <th>genre_Kids/Family</th>\n",
       "      <th>genre_Romance</th>\n",
       "      <th>genre_Sci-Fi</th>\n",
       "      <th>genre_Suspense/Thriller</th>\n",
       "      <th>medal_Bronze</th>\n",
       "      <th>medal_Gold</th>\n",
       "      <th>medal_Platinum</th>\n",
       "      <th>medal_Silver</th>\n",
       "      <th>medal_number</th>\n",
       "      <th>log_cumulative_first_views</th>\n",
       "      <th>platform</th>\n",
       "    </tr>\n",
       "  </thead>\n",
       "  <tbody>\n",
       "    <tr>\n",
       "      <th>0</th>\n",
       "      <td>0</td>\n",
       "      <td>GYPXEhQg3DFbCwwEAAADm</td>\n",
       "      <td>News of the World</td>\n",
       "      <td>Silver</td>\n",
       "      <td>Action/Adventure</td>\n",
       "      <td>tt6878306</td>\n",
       "      <td>2020-12-25</td>\n",
       "      <td>2021-09-05</td>\n",
       "      <td>250</td>\n",
       "      <td>0.09</td>\n",
       "      <td>-219</td>\n",
       "      <td>2557041</td>\n",
       "      <td>25362</td>\n",
       "      <td>2,250,430.00</td>\n",
       "      <td>38,000,000.00</td>\n",
       "      <td>1</td>\n",
       "      <td>0</td>\n",
       "      <td>0</td>\n",
       "      <td>0</td>\n",
       "      <td>0</td>\n",
       "      <td>0</td>\n",
       "      <td>0</td>\n",
       "      <td>0</td>\n",
       "      <td>0</td>\n",
       "      <td>0</td>\n",
       "      <td>0</td>\n",
       "      <td>1</td>\n",
       "      <td>2</td>\n",
       "      <td>14.63</td>\n",
       "      <td>1.00</td>\n",
       "    </tr>\n",
       "    <tr>\n",
       "      <th>2</th>\n",
       "      <td>2</td>\n",
       "      <td>GYXB0OgEQO5OhegEAAAAl</td>\n",
       "      <td>King Richard</td>\n",
       "      <td>Platinum</td>\n",
       "      <td>Drama</td>\n",
       "      <td>tt9620288</td>\n",
       "      <td>2021-11-19</td>\n",
       "      <td>2021-11-19</td>\n",
       "      <td>0</td>\n",
       "      <td>0.24</td>\n",
       "      <td>-548</td>\n",
       "      <td>7612114</td>\n",
       "      <td>236213</td>\n",
       "      <td>5,406,033.00</td>\n",
       "      <td>50,000,000.00</td>\n",
       "      <td>0</td>\n",
       "      <td>0</td>\n",
       "      <td>1</td>\n",
       "      <td>0</td>\n",
       "      <td>0</td>\n",
       "      <td>0</td>\n",
       "      <td>0</td>\n",
       "      <td>0</td>\n",
       "      <td>0</td>\n",
       "      <td>0</td>\n",
       "      <td>1</td>\n",
       "      <td>0</td>\n",
       "      <td>0</td>\n",
       "      <td>17.85</td>\n",
       "      <td>1.00</td>\n",
       "    </tr>\n",
       "    <tr>\n",
       "      <th>4</th>\n",
       "      <td>4</td>\n",
       "      <td>GYbzvWABDj8LDwgEAAAAp</td>\n",
       "      <td>The Last Duel</td>\n",
       "      <td>Gold</td>\n",
       "      <td>Drama</td>\n",
       "      <td>tt4244994</td>\n",
       "      <td>2021-10-15</td>\n",
       "      <td>2022-01-14</td>\n",
       "      <td>91</td>\n",
       "      <td>0.16</td>\n",
       "      <td>-513</td>\n",
       "      <td>5012315</td>\n",
       "      <td>33314</td>\n",
       "      <td>4,759,151.00</td>\n",
       "      <td>100,000,000.00</td>\n",
       "      <td>0</td>\n",
       "      <td>0</td>\n",
       "      <td>1</td>\n",
       "      <td>0</td>\n",
       "      <td>0</td>\n",
       "      <td>0</td>\n",
       "      <td>0</td>\n",
       "      <td>0</td>\n",
       "      <td>0</td>\n",
       "      <td>1</td>\n",
       "      <td>0</td>\n",
       "      <td>0</td>\n",
       "      <td>1</td>\n",
       "      <td>15.02</td>\n",
       "      <td>1.00</td>\n",
       "    </tr>\n",
       "    <tr>\n",
       "      <th>5</th>\n",
       "      <td>5</td>\n",
       "      <td>GYm0w5wSRXaTDYQEAAAD4</td>\n",
       "      <td>Last Night in Soho</td>\n",
       "      <td>Silver</td>\n",
       "      <td>Suspense/Thriller</td>\n",
       "      <td>tt9639470</td>\n",
       "      <td>2021-10-29</td>\n",
       "      <td>2022-07-01</td>\n",
       "      <td>245</td>\n",
       "      <td>0.07</td>\n",
       "      <td>-527</td>\n",
       "      <td>2005376</td>\n",
       "      <td>8975</td>\n",
       "      <td>4,178,460.00</td>\n",
       "      <td>43,000,000.00</td>\n",
       "      <td>0</td>\n",
       "      <td>0</td>\n",
       "      <td>0</td>\n",
       "      <td>0</td>\n",
       "      <td>0</td>\n",
       "      <td>0</td>\n",
       "      <td>0</td>\n",
       "      <td>1</td>\n",
       "      <td>0</td>\n",
       "      <td>0</td>\n",
       "      <td>0</td>\n",
       "      <td>1</td>\n",
       "      <td>2</td>\n",
       "      <td>13.13</td>\n",
       "      <td>1.00</td>\n",
       "    </tr>\n",
       "    <tr>\n",
       "      <th>6</th>\n",
       "      <td>6</td>\n",
       "      <td>GYd9P0QTRLMLDJwEAAAAP</td>\n",
       "      <td>Antlers</td>\n",
       "      <td>Silver</td>\n",
       "      <td>Horror</td>\n",
       "      <td>tt7740510</td>\n",
       "      <td>2021-10-11</td>\n",
       "      <td>2022-02-11</td>\n",
       "      <td>123</td>\n",
       "      <td>0.09</td>\n",
       "      <td>-509</td>\n",
       "      <td>2614867</td>\n",
       "      <td>14444</td>\n",
       "      <td>4,271,346.00</td>\n",
       "      <td>0.00</td>\n",
       "      <td>0</td>\n",
       "      <td>0</td>\n",
       "      <td>0</td>\n",
       "      <td>1</td>\n",
       "      <td>0</td>\n",
       "      <td>0</td>\n",
       "      <td>0</td>\n",
       "      <td>0</td>\n",
       "      <td>0</td>\n",
       "      <td>0</td>\n",
       "      <td>0</td>\n",
       "      <td>1</td>\n",
       "      <td>2</td>\n",
       "      <td>13.82</td>\n",
       "      <td>1.00</td>\n",
       "    </tr>\n",
       "  </tbody>\n",
       "</table>\n",
       "</div>"
      ],
      "text/plain": [
       "   Unnamed: 0               title_id               title  \\\n",
       "0           0  GYPXEhQg3DFbCwwEAAADm   News of the World   \n",
       "2           2  GYXB0OgEQO5OhegEAAAAl        King Richard   \n",
       "4           4  GYbzvWABDj8LDwgEAAAAp       The Last Duel   \n",
       "5           5  GYm0w5wSRXaTDYQEAAAD4  Last Night in Soho   \n",
       "6           6  GYd9P0QTRLMLDJwEAAAAP             Antlers   \n",
       "\n",
       "  home_territory_observed_medal      pillar_genres    imdb_id  \\\n",
       "0                        Silver  Action/Adventure   tt6878306   \n",
       "2                      Platinum              Drama  tt9620288   \n",
       "4                          Gold              Drama  tt4244994   \n",
       "5                        Silver  Suspense/Thriller  tt9639470   \n",
       "6                        Silver            Horror   tt7740510   \n",
       "\n",
       "  theatrical_release_date offering_start_date  days_from_theatrical2  \\\n",
       "0              2020-12-25          2021-09-05                    250   \n",
       "2              2021-11-19          2021-11-19                      0   \n",
       "4              2021-10-15          2022-01-14                     91   \n",
       "5              2021-10-29          2022-07-01                    245   \n",
       "6              2021-10-11          2022-02-11                    123   \n",
       "\n",
       "   pct_actives  days_from_max_launch  cumulative_viewing_subs  \\\n",
       "0         0.09                  -219                  2557041   \n",
       "2         0.24                  -548                  7612114   \n",
       "4         0.16                  -513                  5012315   \n",
       "5         0.07                  -527                  2005376   \n",
       "6         0.09                  -509                  2614867   \n",
       "\n",
       "   cumulative_first_views   area_gross         budget  \\\n",
       "0                   25362 2,250,430.00  38,000,000.00   \n",
       "2                  236213 5,406,033.00  50,000,000.00   \n",
       "4                   33314 4,759,151.00 100,000,000.00   \n",
       "5                    8975 4,178,460.00  43,000,000.00   \n",
       "6                   14444 4,271,346.00           0.00   \n",
       "\n",
       "   genre_Action/Adventure   genre_Comedy  genre_Drama  genre_Horror   \\\n",
       "0                        1             0            0              0   \n",
       "2                        0             0            1              0   \n",
       "4                        0             0            1              0   \n",
       "5                        0             0            0              0   \n",
       "6                        0             0            0              1   \n",
       "\n",
       "   genre_Kids/Family  genre_Romance  genre_Sci-Fi  genre_Suspense/Thriller  \\\n",
       "0                  0              0             0                        0   \n",
       "2                  0              0             0                        0   \n",
       "4                  0              0             0                        0   \n",
       "5                  0              0             0                        1   \n",
       "6                  0              0             0                        0   \n",
       "\n",
       "   medal_Bronze  medal_Gold  medal_Platinum  medal_Silver  medal_number  \\\n",
       "0             0           0               0             1             2   \n",
       "2             0           0               1             0             0   \n",
       "4             0           1               0             0             1   \n",
       "5             0           0               0             1             2   \n",
       "6             0           0               0             1             2   \n",
       "\n",
       "   log_cumulative_first_views  platform  \n",
       "0                       14.63      1.00  \n",
       "2                       17.85      1.00  \n",
       "4                       15.02      1.00  \n",
       "5                       13.13      1.00  \n",
       "6                       13.82      1.00  "
      ]
     },
     "execution_count": 58,
     "metadata": {},
     "output_type": "execute_result"
    }
   ],
   "source": [
    "training_data.head()"
   ]
  },
  {
   "cell_type": "code",
   "execution_count": 60,
   "id": "f6d20b38",
   "metadata": {},
   "outputs": [],
   "source": [
    "X = training_data[FEATURE_COLS]\n",
    "y = training_data[TARGET_COL]\n",
    "gam = LinearGAM(n_splines=10).fit(X, y)"
   ]
  },
  {
   "cell_type": "code",
   "execution_count": 61,
   "id": "ce232b0e",
   "metadata": {},
   "outputs": [],
   "source": [
    "# gam.summary()"
   ]
  },
  {
   "cell_type": "code",
   "execution_count": 62,
   "id": "06cc903d",
   "metadata": {},
   "outputs": [],
   "source": [
    "pred_day = [*range(0, 200, 15)]\n",
    "df = pd.DataFrame(pred_day, columns =['days_from_theatrical2'])"
   ]
  },
  {
   "cell_type": "code",
   "execution_count": 63,
   "id": "725728b6",
   "metadata": {},
   "outputs": [],
   "source": [
    "scoring_data = training_data[META_COLS+FEATURE_COLS].copy()\n",
    "scoring_data.drop(['days_from_theatrical2'], axis = 1, inplace = True)"
   ]
  },
  {
   "cell_type": "code",
   "execution_count": 64,
   "id": "3eadb52d",
   "metadata": {},
   "outputs": [],
   "source": [
    "def cartesian_product_basic(left, right):\n",
    "    return (\n",
    "       left.assign(key=1).merge(right.assign(key=1), on='key').drop('key', 1))"
   ]
  },
  {
   "cell_type": "code",
   "execution_count": 65,
   "id": "a9edbfca",
   "metadata": {},
   "outputs": [],
   "source": [
    "scoring_data=cartesian_product_basic(scoring_data, df)"
   ]
  },
  {
   "cell_type": "code",
   "execution_count": 66,
   "id": "895c256c",
   "metadata": {},
   "outputs": [
    {
     "data": {
      "text/html": [
       "<div>\n",
       "<style scoped>\n",
       "    .dataframe tbody tr th:only-of-type {\n",
       "        vertical-align: middle;\n",
       "    }\n",
       "\n",
       "    .dataframe tbody tr th {\n",
       "        vertical-align: top;\n",
       "    }\n",
       "\n",
       "    .dataframe thead th {\n",
       "        text-align: right;\n",
       "    }\n",
       "</style>\n",
       "<table border=\"1\" class=\"dataframe\">\n",
       "  <thead>\n",
       "    <tr style=\"text-align: right;\">\n",
       "      <th></th>\n",
       "      <th>title_id</th>\n",
       "      <th>title</th>\n",
       "      <th>home_territory_observed_medal</th>\n",
       "      <th>pillar_genres</th>\n",
       "      <th>imdb_id</th>\n",
       "      <th>area_gross</th>\n",
       "      <th>genre_Action/Adventure</th>\n",
       "      <th>medal_number</th>\n",
       "      <th>budget</th>\n",
       "      <th>genre_Comedy</th>\n",
       "      <th>genre_Drama</th>\n",
       "      <th>days_from_theatrical2</th>\n",
       "    </tr>\n",
       "  </thead>\n",
       "  <tbody>\n",
       "    <tr>\n",
       "      <th>0</th>\n",
       "      <td>GYPXEhQg3DFbCwwEAAADm</td>\n",
       "      <td>News of the World</td>\n",
       "      <td>Silver</td>\n",
       "      <td>Action/Adventure</td>\n",
       "      <td>tt6878306</td>\n",
       "      <td>2,250,430.00</td>\n",
       "      <td>1</td>\n",
       "      <td>2</td>\n",
       "      <td>38,000,000.00</td>\n",
       "      <td>0</td>\n",
       "      <td>0</td>\n",
       "      <td>0</td>\n",
       "    </tr>\n",
       "    <tr>\n",
       "      <th>1</th>\n",
       "      <td>GYPXEhQg3DFbCwwEAAADm</td>\n",
       "      <td>News of the World</td>\n",
       "      <td>Silver</td>\n",
       "      <td>Action/Adventure</td>\n",
       "      <td>tt6878306</td>\n",
       "      <td>2,250,430.00</td>\n",
       "      <td>1</td>\n",
       "      <td>2</td>\n",
       "      <td>38,000,000.00</td>\n",
       "      <td>0</td>\n",
       "      <td>0</td>\n",
       "      <td>15</td>\n",
       "    </tr>\n",
       "    <tr>\n",
       "      <th>2</th>\n",
       "      <td>GYPXEhQg3DFbCwwEAAADm</td>\n",
       "      <td>News of the World</td>\n",
       "      <td>Silver</td>\n",
       "      <td>Action/Adventure</td>\n",
       "      <td>tt6878306</td>\n",
       "      <td>2,250,430.00</td>\n",
       "      <td>1</td>\n",
       "      <td>2</td>\n",
       "      <td>38,000,000.00</td>\n",
       "      <td>0</td>\n",
       "      <td>0</td>\n",
       "      <td>30</td>\n",
       "    </tr>\n",
       "    <tr>\n",
       "      <th>3</th>\n",
       "      <td>GYPXEhQg3DFbCwwEAAADm</td>\n",
       "      <td>News of the World</td>\n",
       "      <td>Silver</td>\n",
       "      <td>Action/Adventure</td>\n",
       "      <td>tt6878306</td>\n",
       "      <td>2,250,430.00</td>\n",
       "      <td>1</td>\n",
       "      <td>2</td>\n",
       "      <td>38,000,000.00</td>\n",
       "      <td>0</td>\n",
       "      <td>0</td>\n",
       "      <td>45</td>\n",
       "    </tr>\n",
       "    <tr>\n",
       "      <th>4</th>\n",
       "      <td>GYPXEhQg3DFbCwwEAAADm</td>\n",
       "      <td>News of the World</td>\n",
       "      <td>Silver</td>\n",
       "      <td>Action/Adventure</td>\n",
       "      <td>tt6878306</td>\n",
       "      <td>2,250,430.00</td>\n",
       "      <td>1</td>\n",
       "      <td>2</td>\n",
       "      <td>38,000,000.00</td>\n",
       "      <td>0</td>\n",
       "      <td>0</td>\n",
       "      <td>60</td>\n",
       "    </tr>\n",
       "  </tbody>\n",
       "</table>\n",
       "</div>"
      ],
      "text/plain": [
       "                title_id              title home_territory_observed_medal  \\\n",
       "0  GYPXEhQg3DFbCwwEAAADm  News of the World                        Silver   \n",
       "1  GYPXEhQg3DFbCwwEAAADm  News of the World                        Silver   \n",
       "2  GYPXEhQg3DFbCwwEAAADm  News of the World                        Silver   \n",
       "3  GYPXEhQg3DFbCwwEAAADm  News of the World                        Silver   \n",
       "4  GYPXEhQg3DFbCwwEAAADm  News of the World                        Silver   \n",
       "\n",
       "       pillar_genres    imdb_id   area_gross  genre_Action/Adventure   \\\n",
       "0  Action/Adventure   tt6878306 2,250,430.00                        1   \n",
       "1  Action/Adventure   tt6878306 2,250,430.00                        1   \n",
       "2  Action/Adventure   tt6878306 2,250,430.00                        1   \n",
       "3  Action/Adventure   tt6878306 2,250,430.00                        1   \n",
       "4  Action/Adventure   tt6878306 2,250,430.00                        1   \n",
       "\n",
       "   medal_number        budget  genre_Comedy  genre_Drama  \\\n",
       "0             2 38,000,000.00             0            0   \n",
       "1             2 38,000,000.00             0            0   \n",
       "2             2 38,000,000.00             0            0   \n",
       "3             2 38,000,000.00             0            0   \n",
       "4             2 38,000,000.00             0            0   \n",
       "\n",
       "   days_from_theatrical2  \n",
       "0                      0  \n",
       "1                     15  \n",
       "2                     30  \n",
       "3                     45  \n",
       "4                     60  "
      ]
     },
     "execution_count": 66,
     "metadata": {},
     "output_type": "execute_result"
    }
   ],
   "source": [
    "scoring_data.head()"
   ]
  },
  {
   "cell_type": "code",
   "execution_count": 67,
   "id": "691e9f35",
   "metadata": {},
   "outputs": [],
   "source": [
    "pred = gam.predict(scoring_data[FEATURE_COLS])\n",
    "pred = pd.DataFrame(pred)\n",
    "pred.columns = ['pred']\n",
    "scoring_data = pd.concat([scoring_data, pred], axis = 1)"
   ]
  },
  {
   "cell_type": "code",
   "execution_count": 68,
   "id": "478d9d8f",
   "metadata": {},
   "outputs": [
    {
     "data": {
      "text/html": [
       "<div>\n",
       "<style scoped>\n",
       "    .dataframe tbody tr th:only-of-type {\n",
       "        vertical-align: middle;\n",
       "    }\n",
       "\n",
       "    .dataframe tbody tr th {\n",
       "        vertical-align: top;\n",
       "    }\n",
       "\n",
       "    .dataframe thead th {\n",
       "        text-align: right;\n",
       "    }\n",
       "</style>\n",
       "<table border=\"1\" class=\"dataframe\">\n",
       "  <thead>\n",
       "    <tr style=\"text-align: right;\">\n",
       "      <th></th>\n",
       "      <th>title_id</th>\n",
       "      <th>title</th>\n",
       "      <th>home_territory_observed_medal</th>\n",
       "      <th>pillar_genres</th>\n",
       "      <th>imdb_id</th>\n",
       "      <th>area_gross</th>\n",
       "      <th>genre_Action/Adventure</th>\n",
       "      <th>medal_number</th>\n",
       "      <th>budget</th>\n",
       "      <th>genre_Comedy</th>\n",
       "      <th>genre_Drama</th>\n",
       "      <th>days_from_theatrical2</th>\n",
       "      <th>pred</th>\n",
       "    </tr>\n",
       "  </thead>\n",
       "  <tbody>\n",
       "    <tr>\n",
       "      <th>0</th>\n",
       "      <td>GYPXEhQg3DFbCwwEAAADm</td>\n",
       "      <td>News of the World</td>\n",
       "      <td>Silver</td>\n",
       "      <td>Action/Adventure</td>\n",
       "      <td>tt6878306</td>\n",
       "      <td>2,250,430.00</td>\n",
       "      <td>1</td>\n",
       "      <td>2</td>\n",
       "      <td>38,000,000.00</td>\n",
       "      <td>0</td>\n",
       "      <td>0</td>\n",
       "      <td>0</td>\n",
       "      <td>6,779,711.04</td>\n",
       "    </tr>\n",
       "    <tr>\n",
       "      <th>1</th>\n",
       "      <td>GYPXEhQg3DFbCwwEAAADm</td>\n",
       "      <td>News of the World</td>\n",
       "      <td>Silver</td>\n",
       "      <td>Action/Adventure</td>\n",
       "      <td>tt6878306</td>\n",
       "      <td>2,250,430.00</td>\n",
       "      <td>1</td>\n",
       "      <td>2</td>\n",
       "      <td>38,000,000.00</td>\n",
       "      <td>0</td>\n",
       "      <td>0</td>\n",
       "      <td>15</td>\n",
       "      <td>6,227,603.56</td>\n",
       "    </tr>\n",
       "    <tr>\n",
       "      <th>2</th>\n",
       "      <td>GYPXEhQg3DFbCwwEAAADm</td>\n",
       "      <td>News of the World</td>\n",
       "      <td>Silver</td>\n",
       "      <td>Action/Adventure</td>\n",
       "      <td>tt6878306</td>\n",
       "      <td>2,250,430.00</td>\n",
       "      <td>1</td>\n",
       "      <td>2</td>\n",
       "      <td>38,000,000.00</td>\n",
       "      <td>0</td>\n",
       "      <td>0</td>\n",
       "      <td>30</td>\n",
       "      <td>5,712,937.55</td>\n",
       "    </tr>\n",
       "    <tr>\n",
       "      <th>3</th>\n",
       "      <td>GYPXEhQg3DFbCwwEAAADm</td>\n",
       "      <td>News of the World</td>\n",
       "      <td>Silver</td>\n",
       "      <td>Action/Adventure</td>\n",
       "      <td>tt6878306</td>\n",
       "      <td>2,250,430.00</td>\n",
       "      <td>1</td>\n",
       "      <td>2</td>\n",
       "      <td>38,000,000.00</td>\n",
       "      <td>0</td>\n",
       "      <td>0</td>\n",
       "      <td>45</td>\n",
       "      <td>5,240,963.78</td>\n",
       "    </tr>\n",
       "    <tr>\n",
       "      <th>4</th>\n",
       "      <td>GYPXEhQg3DFbCwwEAAADm</td>\n",
       "      <td>News of the World</td>\n",
       "      <td>Silver</td>\n",
       "      <td>Action/Adventure</td>\n",
       "      <td>tt6878306</td>\n",
       "      <td>2,250,430.00</td>\n",
       "      <td>1</td>\n",
       "      <td>2</td>\n",
       "      <td>38,000,000.00</td>\n",
       "      <td>0</td>\n",
       "      <td>0</td>\n",
       "      <td>60</td>\n",
       "      <td>4,816,932.99</td>\n",
       "    </tr>\n",
       "    <tr>\n",
       "      <th>...</th>\n",
       "      <td>...</td>\n",
       "      <td>...</td>\n",
       "      <td>...</td>\n",
       "      <td>...</td>\n",
       "      <td>...</td>\n",
       "      <td>...</td>\n",
       "      <td>...</td>\n",
       "      <td>...</td>\n",
       "      <td>...</td>\n",
       "      <td>...</td>\n",
       "      <td>...</td>\n",
       "      <td>...</td>\n",
       "      <td>...</td>\n",
       "    </tr>\n",
       "    <tr>\n",
       "      <th>1017</th>\n",
       "      <td>GYaqMmQQ6oMNHsAEAAABg</td>\n",
       "      <td>Ron's Gone Wrong</td>\n",
       "      <td>Bronze</td>\n",
       "      <td>Kids/Family</td>\n",
       "      <td>tt7504818</td>\n",
       "      <td>7,300,225.00</td>\n",
       "      <td>0</td>\n",
       "      <td>3</td>\n",
       "      <td>0.00</td>\n",
       "      <td>0</td>\n",
       "      <td>0</td>\n",
       "      <td>135</td>\n",
       "      <td>2,287,893.24</td>\n",
       "    </tr>\n",
       "    <tr>\n",
       "      <th>1018</th>\n",
       "      <td>GYaqMmQQ6oMNHsAEAAABg</td>\n",
       "      <td>Ron's Gone Wrong</td>\n",
       "      <td>Bronze</td>\n",
       "      <td>Kids/Family</td>\n",
       "      <td>tt7504818</td>\n",
       "      <td>7,300,225.00</td>\n",
       "      <td>0</td>\n",
       "      <td>3</td>\n",
       "      <td>0.00</td>\n",
       "      <td>0</td>\n",
       "      <td>0</td>\n",
       "      <td>150</td>\n",
       "      <td>2,183,737.01</td>\n",
       "    </tr>\n",
       "    <tr>\n",
       "      <th>1019</th>\n",
       "      <td>GYaqMmQQ6oMNHsAEAAABg</td>\n",
       "      <td>Ron's Gone Wrong</td>\n",
       "      <td>Bronze</td>\n",
       "      <td>Kids/Family</td>\n",
       "      <td>tt7504818</td>\n",
       "      <td>7,300,225.00</td>\n",
       "      <td>0</td>\n",
       "      <td>3</td>\n",
       "      <td>0.00</td>\n",
       "      <td>0</td>\n",
       "      <td>0</td>\n",
       "      <td>165</td>\n",
       "      <td>2,113,652.55</td>\n",
       "    </tr>\n",
       "    <tr>\n",
       "      <th>1020</th>\n",
       "      <td>GYaqMmQQ6oMNHsAEAAABg</td>\n",
       "      <td>Ron's Gone Wrong</td>\n",
       "      <td>Bronze</td>\n",
       "      <td>Kids/Family</td>\n",
       "      <td>tt7504818</td>\n",
       "      <td>7,300,225.00</td>\n",
       "      <td>0</td>\n",
       "      <td>3</td>\n",
       "      <td>0.00</td>\n",
       "      <td>0</td>\n",
       "      <td>0</td>\n",
       "      <td>180</td>\n",
       "      <td>2,070,234.02</td>\n",
       "    </tr>\n",
       "    <tr>\n",
       "      <th>1021</th>\n",
       "      <td>GYaqMmQQ6oMNHsAEAAABg</td>\n",
       "      <td>Ron's Gone Wrong</td>\n",
       "      <td>Bronze</td>\n",
       "      <td>Kids/Family</td>\n",
       "      <td>tt7504818</td>\n",
       "      <td>7,300,225.00</td>\n",
       "      <td>0</td>\n",
       "      <td>3</td>\n",
       "      <td>0.00</td>\n",
       "      <td>0</td>\n",
       "      <td>0</td>\n",
       "      <td>195</td>\n",
       "      <td>2,046,671.60</td>\n",
       "    </tr>\n",
       "  </tbody>\n",
       "</table>\n",
       "<p>1022 rows × 13 columns</p>\n",
       "</div>"
      ],
      "text/plain": [
       "                   title_id              title home_territory_observed_medal  \\\n",
       "0     GYPXEhQg3DFbCwwEAAADm  News of the World                        Silver   \n",
       "1     GYPXEhQg3DFbCwwEAAADm  News of the World                        Silver   \n",
       "2     GYPXEhQg3DFbCwwEAAADm  News of the World                        Silver   \n",
       "3     GYPXEhQg3DFbCwwEAAADm  News of the World                        Silver   \n",
       "4     GYPXEhQg3DFbCwwEAAADm  News of the World                        Silver   \n",
       "...                     ...                ...                           ...   \n",
       "1017  GYaqMmQQ6oMNHsAEAAABg   Ron's Gone Wrong                        Bronze   \n",
       "1018  GYaqMmQQ6oMNHsAEAAABg   Ron's Gone Wrong                        Bronze   \n",
       "1019  GYaqMmQQ6oMNHsAEAAABg   Ron's Gone Wrong                        Bronze   \n",
       "1020  GYaqMmQQ6oMNHsAEAAABg   Ron's Gone Wrong                        Bronze   \n",
       "1021  GYaqMmQQ6oMNHsAEAAABg   Ron's Gone Wrong                        Bronze   \n",
       "\n",
       "          pillar_genres    imdb_id   area_gross  genre_Action/Adventure   \\\n",
       "0     Action/Adventure   tt6878306 2,250,430.00                        1   \n",
       "1     Action/Adventure   tt6878306 2,250,430.00                        1   \n",
       "2     Action/Adventure   tt6878306 2,250,430.00                        1   \n",
       "3     Action/Adventure   tt6878306 2,250,430.00                        1   \n",
       "4     Action/Adventure   tt6878306 2,250,430.00                        1   \n",
       "...                 ...        ...          ...                      ...   \n",
       "1017        Kids/Family  tt7504818 7,300,225.00                        0   \n",
       "1018        Kids/Family  tt7504818 7,300,225.00                        0   \n",
       "1019        Kids/Family  tt7504818 7,300,225.00                        0   \n",
       "1020        Kids/Family  tt7504818 7,300,225.00                        0   \n",
       "1021        Kids/Family  tt7504818 7,300,225.00                        0   \n",
       "\n",
       "      medal_number        budget  genre_Comedy  genre_Drama  \\\n",
       "0                2 38,000,000.00             0            0   \n",
       "1                2 38,000,000.00             0            0   \n",
       "2                2 38,000,000.00             0            0   \n",
       "3                2 38,000,000.00             0            0   \n",
       "4                2 38,000,000.00             0            0   \n",
       "...            ...           ...           ...          ...   \n",
       "1017             3          0.00             0            0   \n",
       "1018             3          0.00             0            0   \n",
       "1019             3          0.00             0            0   \n",
       "1020             3          0.00             0            0   \n",
       "1021             3          0.00             0            0   \n",
       "\n",
       "      days_from_theatrical2         pred  \n",
       "0                         0 6,779,711.04  \n",
       "1                        15 6,227,603.56  \n",
       "2                        30 5,712,937.55  \n",
       "3                        45 5,240,963.78  \n",
       "4                        60 4,816,932.99  \n",
       "...                     ...          ...  \n",
       "1017                    135 2,287,893.24  \n",
       "1018                    150 2,183,737.01  \n",
       "1019                    165 2,113,652.55  \n",
       "1020                    180 2,070,234.02  \n",
       "1021                    195 2,046,671.60  \n",
       "\n",
       "[1022 rows x 13 columns]"
      ]
     },
     "execution_count": 68,
     "metadata": {},
     "output_type": "execute_result"
    }
   ],
   "source": [
    "scoring_data"
   ]
  },
  {
   "cell_type": "code",
   "execution_count": 69,
   "id": "84a72b67",
   "metadata": {},
   "outputs": [],
   "source": [
    "scoring_data['kpi'] = 'viewing_subs'"
   ]
  },
  {
   "cell_type": "code",
   "execution_count": 70,
   "id": "f3aca101",
   "metadata": {},
   "outputs": [],
   "source": [
    "OUTPUT_COLS = ['title_id', 'imdb_id', 'title', 'home_territory_observed_medal', 'pillar_genres', 'area_gross', 'medal_number', 'budget', \n",
    "              'days_from_theatrical2', 'kpi', 'pred']"
   ]
  },
  {
   "cell_type": "code",
   "execution_count": 80,
   "id": "cc76be64",
   "metadata": {},
   "outputs": [
    {
     "name": "stderr",
     "output_type": "stream",
     "text": [
      "/home/ec2-user/anaconda3/envs/python3/lib/python3.6/site-packages/boto3/compat.py:88: PythonDeprecationWarning:\n",
      "\n",
      "Boto3 will no longer support Python 3.6 starting May 30, 2022. To continue receiving service updates, bug fixes, and security updates please upgrade to Python 3.7 or later. More information can be found here: https://aws.amazon.com/blogs/developer/python-support-policy-updates-for-aws-sdks-and-tools/\n",
      "\n"
     ]
    }
   ],
   "source": [
    "write_to_sf(scoring_data[OUTPUT_COLS], 'title_level_subs')"
   ]
  },
  {
   "cell_type": "code",
   "execution_count": 81,
   "id": "cd347678",
   "metadata": {},
   "outputs": [],
   "source": [
    "import plotly.express as px"
   ]
  },
  {
   "cell_type": "code",
   "execution_count": 1,
   "id": "58b5411c",
   "metadata": {},
   "outputs": [],
   "source": [
    "# plot_df = scoring_data\n",
    "# fig = px.line(plot_df, x=\"days_from_theatrical2\", y=\"pred\", color = 'title',\n",
    "#               title='Release day V.S. cumulative viewership')\n",
    "# fig.show()"
   ]
  },
  {
   "cell_type": "markdown",
   "id": "cb280be3",
   "metadata": {},
   "source": [
    "##### 1.132 Scoring2"
   ]
  },
  {
   "cell_type": "code",
   "execution_count": 83,
   "id": "896ae6dc",
   "metadata": {},
   "outputs": [],
   "source": [
    "scoring_data = training_data[META_COLS+FEATURE_COLS].copy()\n",
    "scoring_data.drop(['days_from_theatrical2'], axis = 1, inplace = True)"
   ]
  },
  {
   "cell_type": "code",
   "execution_count": 84,
   "id": "d09237d4",
   "metadata": {},
   "outputs": [],
   "source": [
    "scoring_data = scoring_data.groupby(['home_territory_observed_medal', 'pillar_genres']).mean().reset_index()"
   ]
  },
  {
   "cell_type": "code",
   "execution_count": 85,
   "id": "deb1e109",
   "metadata": {},
   "outputs": [],
   "source": [
    "pred_day = [*range(0, 200, 15)]\n",
    "df = pd.DataFrame(pred_day, columns =['days_from_theatrical2'])"
   ]
  },
  {
   "cell_type": "code",
   "execution_count": 86,
   "id": "9150442d",
   "metadata": {},
   "outputs": [],
   "source": [
    "scoring_data=cartesian_product_basic(scoring_data, df)"
   ]
  },
  {
   "cell_type": "code",
   "execution_count": 87,
   "id": "2c7109ee",
   "metadata": {},
   "outputs": [],
   "source": [
    "pred = gam.predict(scoring_data[FEATURE_COLS])\n",
    "pred = pd.DataFrame(pred)\n",
    "pred.columns = ['pred']\n",
    "scoring_data = pd.concat([scoring_data, pred], axis = 1)"
   ]
  },
  {
   "cell_type": "code",
   "execution_count": 88,
   "id": "665da71f",
   "metadata": {},
   "outputs": [
    {
     "data": {
      "text/html": [
       "<div>\n",
       "<style scoped>\n",
       "    .dataframe tbody tr th:only-of-type {\n",
       "        vertical-align: middle;\n",
       "    }\n",
       "\n",
       "    .dataframe tbody tr th {\n",
       "        vertical-align: top;\n",
       "    }\n",
       "\n",
       "    .dataframe thead th {\n",
       "        text-align: right;\n",
       "    }\n",
       "</style>\n",
       "<table border=\"1\" class=\"dataframe\">\n",
       "  <thead>\n",
       "    <tr style=\"text-align: right;\">\n",
       "      <th></th>\n",
       "      <th>home_territory_observed_medal</th>\n",
       "      <th>pillar_genres</th>\n",
       "      <th>area_gross</th>\n",
       "      <th>genre_Action/Adventure</th>\n",
       "      <th>medal_number</th>\n",
       "      <th>budget</th>\n",
       "      <th>genre_Comedy</th>\n",
       "      <th>genre_Drama</th>\n",
       "      <th>days_from_theatrical2</th>\n",
       "      <th>pred</th>\n",
       "    </tr>\n",
       "  </thead>\n",
       "  <tbody>\n",
       "    <tr>\n",
       "      <th>0</th>\n",
       "      <td>Bronze</td>\n",
       "      <td>Comedy</td>\n",
       "      <td>700,160.00</td>\n",
       "      <td>0</td>\n",
       "      <td>3</td>\n",
       "      <td>0.00</td>\n",
       "      <td>1</td>\n",
       "      <td>0</td>\n",
       "      <td>0</td>\n",
       "      <td>5,114,935.75</td>\n",
       "    </tr>\n",
       "    <tr>\n",
       "      <th>1</th>\n",
       "      <td>Bronze</td>\n",
       "      <td>Comedy</td>\n",
       "      <td>700,160.00</td>\n",
       "      <td>0</td>\n",
       "      <td>3</td>\n",
       "      <td>0.00</td>\n",
       "      <td>1</td>\n",
       "      <td>0</td>\n",
       "      <td>15</td>\n",
       "      <td>4,562,828.26</td>\n",
       "    </tr>\n",
       "    <tr>\n",
       "      <th>2</th>\n",
       "      <td>Bronze</td>\n",
       "      <td>Comedy</td>\n",
       "      <td>700,160.00</td>\n",
       "      <td>0</td>\n",
       "      <td>3</td>\n",
       "      <td>0.00</td>\n",
       "      <td>1</td>\n",
       "      <td>0</td>\n",
       "      <td>30</td>\n",
       "      <td>4,048,162.25</td>\n",
       "    </tr>\n",
       "    <tr>\n",
       "      <th>3</th>\n",
       "      <td>Bronze</td>\n",
       "      <td>Comedy</td>\n",
       "      <td>700,160.00</td>\n",
       "      <td>0</td>\n",
       "      <td>3</td>\n",
       "      <td>0.00</td>\n",
       "      <td>1</td>\n",
       "      <td>0</td>\n",
       "      <td>45</td>\n",
       "      <td>3,576,188.48</td>\n",
       "    </tr>\n",
       "    <tr>\n",
       "      <th>4</th>\n",
       "      <td>Bronze</td>\n",
       "      <td>Comedy</td>\n",
       "      <td>700,160.00</td>\n",
       "      <td>0</td>\n",
       "      <td>3</td>\n",
       "      <td>0.00</td>\n",
       "      <td>1</td>\n",
       "      <td>0</td>\n",
       "      <td>60</td>\n",
       "      <td>3,152,157.70</td>\n",
       "    </tr>\n",
       "  </tbody>\n",
       "</table>\n",
       "</div>"
      ],
      "text/plain": [
       "  home_territory_observed_medal pillar_genres  area_gross  \\\n",
       "0                        Bronze        Comedy  700,160.00   \n",
       "1                        Bronze        Comedy  700,160.00   \n",
       "2                        Bronze        Comedy  700,160.00   \n",
       "3                        Bronze        Comedy  700,160.00   \n",
       "4                        Bronze        Comedy  700,160.00   \n",
       "\n",
       "   genre_Action/Adventure   medal_number  budget  genre_Comedy  genre_Drama  \\\n",
       "0                        0             3    0.00             1            0   \n",
       "1                        0             3    0.00             1            0   \n",
       "2                        0             3    0.00             1            0   \n",
       "3                        0             3    0.00             1            0   \n",
       "4                        0             3    0.00             1            0   \n",
       "\n",
       "   days_from_theatrical2         pred  \n",
       "0                      0 5,114,935.75  \n",
       "1                     15 4,562,828.26  \n",
       "2                     30 4,048,162.25  \n",
       "3                     45 3,576,188.48  \n",
       "4                     60 3,152,157.70  "
      ]
     },
     "execution_count": 88,
     "metadata": {},
     "output_type": "execute_result"
    }
   ],
   "source": [
    "scoring_data.head()"
   ]
  },
  {
   "cell_type": "code",
   "execution_count": 90,
   "id": "c6d33ba7",
   "metadata": {},
   "outputs": [],
   "source": [
    "scoring_data['title_id'] = np.NAN\n",
    "scoring_data['imdb_id'] = np.NAN\n",
    "scoring_data['title'] = np.NAN\n",
    "scoring_data['kpi'] = 'viewing_subs'"
   ]
  },
  {
   "cell_type": "code",
   "execution_count": 91,
   "id": "37414796",
   "metadata": {},
   "outputs": [
    {
     "name": "stderr",
     "output_type": "stream",
     "text": [
      "/home/ec2-user/anaconda3/envs/python3/lib/python3.6/site-packages/boto3/compat.py:88: PythonDeprecationWarning:\n",
      "\n",
      "Boto3 will no longer support Python 3.6 starting May 30, 2022. To continue receiving service updates, bug fixes, and security updates please upgrade to Python 3.7 or later. More information can be found here: https://aws.amazon.com/blogs/developer/python-support-policy-updates-for-aws-sdks-and-tools/\n",
      "\n"
     ]
    }
   ],
   "source": [
    "write_to_sf(scoring_data[OUTPUT_COLS], 'genre_level_subs')"
   ]
  },
  {
   "cell_type": "markdown",
   "id": "30b8d8b7",
   "metadata": {},
   "source": [
    "# 2. First Views"
   ]
  },
  {
   "cell_type": "code",
   "execution_count": 92,
   "id": "5e3aeb69",
   "metadata": {},
   "outputs": [],
   "source": [
    "# medal_onehot = pd.get_dummies(training_data['home_territory_observed_medal'], prefix='medal')\n",
    "# training_data=pd.concat([training_data, medal_onehot], axis = 1)"
   ]
  },
  {
   "cell_type": "code",
   "execution_count": 93,
   "id": "e6154ae8",
   "metadata": {},
   "outputs": [],
   "source": [
    "training_data['log_cumulative_first_views'] = np.log2(training_data['cumulative_first_views']+10000)"
   ]
  },
  {
   "cell_type": "code",
   "execution_count": 94,
   "id": "71e06bd6",
   "metadata": {},
   "outputs": [],
   "source": [
    "# training_data['power_cumulative_first_views'] = np.power(training_data['cumulative_first_views'], (1/4))"
   ]
  },
  {
   "cell_type": "code",
   "execution_count": 95,
   "id": "577a6d8c",
   "metadata": {},
   "outputs": [],
   "source": [
    "META_COLS = ['title_id', 'title', 'home_territory_observed_medal', 'pillar_genres', 'imdb_id']"
   ]
  },
  {
   "cell_type": "code",
   "execution_count": 96,
   "id": "f685391f",
   "metadata": {},
   "outputs": [],
   "source": [
    "FEATURE_COLS = ['days_from_theatrical2', 'area_gross', 'budget' , 'genre_Action/Adventure ', 'genre_Comedy', 'genre_Drama', 'medal_number']\n",
    "                #, 'genre_Horror ', 'genre_Kids/Family', 'genre_Romance', 'genre_Sci-Fi', 'genre_Suspense/Thriller', 'medal_Bronze', 'medal_Gold'"
   ]
  },
  {
   "cell_type": "code",
   "execution_count": 97,
   "id": "a024fa13",
   "metadata": {},
   "outputs": [],
   "source": [
    "TARGET_COL = ['log_cumulative_first_views'] # cumulative_first_views"
   ]
  },
  {
   "cell_type": "markdown",
   "id": "04c3c782",
   "metadata": {},
   "source": [
    "## 2.1 Cross Validation"
   ]
  },
  {
   "cell_type": "code",
   "execution_count": 98,
   "id": "1d311518",
   "metadata": {},
   "outputs": [],
   "source": [
    "def cal_error(validation_set):\n",
    "    error_col = (validation_set['pred']-validation_set[TARGET_COL[0]]).abs()/validation_set[TARGET_COL[0]].abs()\n",
    "    return error_col.mean()"
   ]
  },
  {
   "cell_type": "markdown",
   "id": "47919613",
   "metadata": {},
   "source": [
    "### 2.11 Random Forest CV"
   ]
  },
  {
   "cell_type": "code",
   "execution_count": 18,
   "id": "6d7a1364",
   "metadata": {},
   "outputs": [],
   "source": [
    "training_data = training_data[training_data['days_from_max_launch']<= 0]"
   ]
  },
  {
   "cell_type": "code",
   "execution_count": 19,
   "id": "2981a9cb",
   "metadata": {},
   "outputs": [],
   "source": [
    "num_folds = len(training_data['title_id'].unique())\n",
    "group_kfold = GroupKFold(n_splits=num_folds)"
   ]
  },
  {
   "cell_type": "code",
   "execution_count": 139,
   "id": "c96587ca",
   "metadata": {},
   "outputs": [
    {
     "data": {
      "text/plain": [
       "72"
      ]
     },
     "execution_count": 139,
     "metadata": {},
     "output_type": "execute_result"
    }
   ],
   "source": [
    "num_folds"
   ]
  },
  {
   "cell_type": "code",
   "execution_count": 242,
   "id": "672a1327",
   "metadata": {
    "collapsed": true,
    "jupyter": {
     "outputs_hidden": true
    }
   },
   "outputs": [
    {
     "ename": "KeyboardInterrupt",
     "evalue": "",
     "output_type": "error",
     "traceback": [
      "\u001b[0;31m---------------------------------------------------------------------------\u001b[0m",
      "\u001b[0;31mKeyboardInterrupt\u001b[0m                         Traceback (most recent call last)",
      "\u001b[0;32m<ipython-input-242-4bdf189d0dc3>\u001b[0m in \u001b[0;36m<module>\u001b[0;34m\u001b[0m\n\u001b[1;32m     11\u001b[0m         \u001b[0my_train\u001b[0m\u001b[0;34m,\u001b[0m \u001b[0my_test\u001b[0m \u001b[0;34m=\u001b[0m \u001b[0mtrain_df\u001b[0m\u001b[0;34m[\u001b[0m\u001b[0mTARGET_COL\u001b[0m\u001b[0;34m]\u001b[0m\u001b[0;34m,\u001b[0m \u001b[0mtest_df\u001b[0m\u001b[0;34m[\u001b[0m\u001b[0mTARGET_COL\u001b[0m\u001b[0;34m]\u001b[0m\u001b[0;34m\u001b[0m\u001b[0;34m\u001b[0m\u001b[0m\n\u001b[1;32m     12\u001b[0m \u001b[0;34m\u001b[0m\u001b[0m\n\u001b[0;32m---> 13\u001b[0;31m         \u001b[0mmodel\u001b[0m\u001b[0;34m.\u001b[0m\u001b[0mfit\u001b[0m\u001b[0;34m(\u001b[0m\u001b[0mX_train\u001b[0m\u001b[0;34m,\u001b[0m \u001b[0my_train\u001b[0m\u001b[0;34m)\u001b[0m\u001b[0;34m\u001b[0m\u001b[0;34m\u001b[0m\u001b[0m\n\u001b[0m\u001b[1;32m     14\u001b[0m         \u001b[0mpred\u001b[0m \u001b[0;34m=\u001b[0m \u001b[0mmodel\u001b[0m\u001b[0;34m.\u001b[0m\u001b[0mpredict\u001b[0m\u001b[0;34m(\u001b[0m\u001b[0mX_test\u001b[0m\u001b[0;34m)\u001b[0m\u001b[0;34m\u001b[0m\u001b[0;34m\u001b[0m\u001b[0m\n\u001b[1;32m     15\u001b[0m         \u001b[0mpred\u001b[0m \u001b[0;34m=\u001b[0m \u001b[0mpd\u001b[0m\u001b[0;34m.\u001b[0m\u001b[0mDataFrame\u001b[0m\u001b[0;34m(\u001b[0m\u001b[0mpred\u001b[0m\u001b[0;34m)\u001b[0m\u001b[0;34m\u001b[0m\u001b[0;34m\u001b[0m\u001b[0m\n",
      "\u001b[0;32m~/anaconda3/envs/python3/lib/python3.6/site-packages/xgboost/core.py\u001b[0m in \u001b[0;36minner_f\u001b[0;34m(*args, **kwargs)\u001b[0m\n\u001b[1;32m    504\u001b[0m         \u001b[0;32mfor\u001b[0m \u001b[0mk\u001b[0m\u001b[0;34m,\u001b[0m \u001b[0marg\u001b[0m \u001b[0;32min\u001b[0m \u001b[0mzip\u001b[0m\u001b[0;34m(\u001b[0m\u001b[0msig\u001b[0m\u001b[0;34m.\u001b[0m\u001b[0mparameters\u001b[0m\u001b[0;34m,\u001b[0m \u001b[0margs\u001b[0m\u001b[0;34m)\u001b[0m\u001b[0;34m:\u001b[0m\u001b[0;34m\u001b[0m\u001b[0;34m\u001b[0m\u001b[0m\n\u001b[1;32m    505\u001b[0m             \u001b[0mkwargs\u001b[0m\u001b[0;34m[\u001b[0m\u001b[0mk\u001b[0m\u001b[0;34m]\u001b[0m \u001b[0;34m=\u001b[0m \u001b[0marg\u001b[0m\u001b[0;34m\u001b[0m\u001b[0;34m\u001b[0m\u001b[0m\n\u001b[0;32m--> 506\u001b[0;31m         \u001b[0;32mreturn\u001b[0m \u001b[0mf\u001b[0m\u001b[0;34m(\u001b[0m\u001b[0;34m**\u001b[0m\u001b[0mkwargs\u001b[0m\u001b[0;34m)\u001b[0m\u001b[0;34m\u001b[0m\u001b[0;34m\u001b[0m\u001b[0m\n\u001b[0m\u001b[1;32m    507\u001b[0m \u001b[0;34m\u001b[0m\u001b[0m\n\u001b[1;32m    508\u001b[0m     \u001b[0;32mreturn\u001b[0m \u001b[0minner_f\u001b[0m\u001b[0;34m\u001b[0m\u001b[0;34m\u001b[0m\u001b[0m\n",
      "\u001b[0;32m~/anaconda3/envs/python3/lib/python3.6/site-packages/xgboost/sklearn.py\u001b[0m in \u001b[0;36mfit\u001b[0;34m(self, X, y, sample_weight, base_margin, eval_set, eval_metric, early_stopping_rounds, verbose, xgb_model, sample_weight_eval_set, base_margin_eval_set, feature_weights, callbacks)\u001b[0m\n\u001b[1;32m    798\u001b[0m             \u001b[0mverbose_eval\u001b[0m\u001b[0;34m=\u001b[0m\u001b[0mverbose\u001b[0m\u001b[0;34m,\u001b[0m\u001b[0;34m\u001b[0m\u001b[0;34m\u001b[0m\u001b[0m\n\u001b[1;32m    799\u001b[0m             \u001b[0mxgb_model\u001b[0m\u001b[0;34m=\u001b[0m\u001b[0mmodel\u001b[0m\u001b[0;34m,\u001b[0m\u001b[0;34m\u001b[0m\u001b[0;34m\u001b[0m\u001b[0m\n\u001b[0;32m--> 800\u001b[0;31m             \u001b[0mcallbacks\u001b[0m\u001b[0;34m=\u001b[0m\u001b[0mcallbacks\u001b[0m\u001b[0;34m,\u001b[0m\u001b[0;34m\u001b[0m\u001b[0;34m\u001b[0m\u001b[0m\n\u001b[0m\u001b[1;32m    801\u001b[0m         )\n\u001b[1;32m    802\u001b[0m \u001b[0;34m\u001b[0m\u001b[0m\n",
      "\u001b[0;32m~/anaconda3/envs/python3/lib/python3.6/site-packages/xgboost/training.py\u001b[0m in \u001b[0;36mtrain\u001b[0;34m(params, dtrain, num_boost_round, evals, obj, feval, maximize, early_stopping_rounds, evals_result, verbose_eval, xgb_model, callbacks)\u001b[0m\n\u001b[1;32m    194\u001b[0m                           \u001b[0mevals_result\u001b[0m\u001b[0;34m=\u001b[0m\u001b[0mevals_result\u001b[0m\u001b[0;34m,\u001b[0m\u001b[0;34m\u001b[0m\u001b[0;34m\u001b[0m\u001b[0m\n\u001b[1;32m    195\u001b[0m                           \u001b[0mmaximize\u001b[0m\u001b[0;34m=\u001b[0m\u001b[0mmaximize\u001b[0m\u001b[0;34m,\u001b[0m\u001b[0;34m\u001b[0m\u001b[0;34m\u001b[0m\u001b[0m\n\u001b[0;32m--> 196\u001b[0;31m                           early_stopping_rounds=early_stopping_rounds)\n\u001b[0m\u001b[1;32m    197\u001b[0m     \u001b[0;32mreturn\u001b[0m \u001b[0mbst\u001b[0m\u001b[0;34m\u001b[0m\u001b[0;34m\u001b[0m\u001b[0m\n\u001b[1;32m    198\u001b[0m \u001b[0;34m\u001b[0m\u001b[0m\n",
      "\u001b[0;32m~/anaconda3/envs/python3/lib/python3.6/site-packages/xgboost/training.py\u001b[0m in \u001b[0;36m_train_internal\u001b[0;34m(params, dtrain, num_boost_round, evals, obj, feval, xgb_model, callbacks, evals_result, maximize, verbose_eval, early_stopping_rounds)\u001b[0m\n\u001b[1;32m     79\u001b[0m         \u001b[0;32mif\u001b[0m \u001b[0mcallbacks\u001b[0m\u001b[0;34m.\u001b[0m\u001b[0mbefore_iteration\u001b[0m\u001b[0;34m(\u001b[0m\u001b[0mbst\u001b[0m\u001b[0;34m,\u001b[0m \u001b[0mi\u001b[0m\u001b[0;34m,\u001b[0m \u001b[0mdtrain\u001b[0m\u001b[0;34m,\u001b[0m \u001b[0mevals\u001b[0m\u001b[0;34m)\u001b[0m\u001b[0;34m:\u001b[0m\u001b[0;34m\u001b[0m\u001b[0;34m\u001b[0m\u001b[0m\n\u001b[1;32m     80\u001b[0m             \u001b[0;32mbreak\u001b[0m\u001b[0;34m\u001b[0m\u001b[0;34m\u001b[0m\u001b[0m\n\u001b[0;32m---> 81\u001b[0;31m         \u001b[0mbst\u001b[0m\u001b[0;34m.\u001b[0m\u001b[0mupdate\u001b[0m\u001b[0;34m(\u001b[0m\u001b[0mdtrain\u001b[0m\u001b[0;34m,\u001b[0m \u001b[0mi\u001b[0m\u001b[0;34m,\u001b[0m \u001b[0mobj\u001b[0m\u001b[0;34m)\u001b[0m\u001b[0;34m\u001b[0m\u001b[0;34m\u001b[0m\u001b[0m\n\u001b[0m\u001b[1;32m     82\u001b[0m         \u001b[0;32mif\u001b[0m \u001b[0mcallbacks\u001b[0m\u001b[0;34m.\u001b[0m\u001b[0mafter_iteration\u001b[0m\u001b[0;34m(\u001b[0m\u001b[0mbst\u001b[0m\u001b[0;34m,\u001b[0m \u001b[0mi\u001b[0m\u001b[0;34m,\u001b[0m \u001b[0mdtrain\u001b[0m\u001b[0;34m,\u001b[0m \u001b[0mevals\u001b[0m\u001b[0;34m)\u001b[0m\u001b[0;34m:\u001b[0m\u001b[0;34m\u001b[0m\u001b[0;34m\u001b[0m\u001b[0m\n\u001b[1;32m     83\u001b[0m             \u001b[0;32mbreak\u001b[0m\u001b[0;34m\u001b[0m\u001b[0;34m\u001b[0m\u001b[0m\n",
      "\u001b[0;32m~/anaconda3/envs/python3/lib/python3.6/site-packages/xgboost/core.py\u001b[0m in \u001b[0;36mupdate\u001b[0;34m(self, dtrain, iteration, fobj)\u001b[0m\n\u001b[1;32m   1680\u001b[0m             _check_call(_LIB.XGBoosterUpdateOneIter(self.handle,\n\u001b[1;32m   1681\u001b[0m                                                     \u001b[0mctypes\u001b[0m\u001b[0;34m.\u001b[0m\u001b[0mc_int\u001b[0m\u001b[0;34m(\u001b[0m\u001b[0miteration\u001b[0m\u001b[0;34m)\u001b[0m\u001b[0;34m,\u001b[0m\u001b[0;34m\u001b[0m\u001b[0;34m\u001b[0m\u001b[0m\n\u001b[0;32m-> 1682\u001b[0;31m                                                     dtrain.handle))\n\u001b[0m\u001b[1;32m   1683\u001b[0m         \u001b[0;32melse\u001b[0m\u001b[0;34m:\u001b[0m\u001b[0;34m\u001b[0m\u001b[0;34m\u001b[0m\u001b[0m\n\u001b[1;32m   1684\u001b[0m             \u001b[0mpred\u001b[0m \u001b[0;34m=\u001b[0m \u001b[0mself\u001b[0m\u001b[0;34m.\u001b[0m\u001b[0mpredict\u001b[0m\u001b[0;34m(\u001b[0m\u001b[0mdtrain\u001b[0m\u001b[0;34m,\u001b[0m \u001b[0moutput_margin\u001b[0m\u001b[0;34m=\u001b[0m\u001b[0;32mTrue\u001b[0m\u001b[0;34m,\u001b[0m \u001b[0mtraining\u001b[0m\u001b[0;34m=\u001b[0m\u001b[0;32mTrue\u001b[0m\u001b[0;34m)\u001b[0m\u001b[0;34m\u001b[0m\u001b[0;34m\u001b[0m\u001b[0m\n",
      "\u001b[0;31mKeyboardInterrupt\u001b[0m: "
     ]
    }
   ],
   "source": [
    "validation_set = pd.DataFrame()\n",
    "feature_importances = pd.DataFrame()\n",
    "model = XGBRegressor(n_estimators=1000, max_depth=7, eta=0.1, subsample=0.7, colsample_bytree=0.8)\n",
    "\n",
    "for train_index, test_index in group_kfold.split(training_data, groups=training_data['title_id'].values):\n",
    "    train_df, test_df = training_data.iloc[train_index], training_data.iloc[test_index]\n",
    "#     print (\"Validation Title: \" + test_df['title'].values[0])\n",
    "    try:\n",
    "        ## fit_predict prelaunch model\n",
    "        X_train, X_test = train_df[FEATURE_COLS], test_df[FEATURE_COLS]\n",
    "        y_train, y_test = train_df[TARGET_COL], test_df[TARGET_COL]\n",
    "\n",
    "        model.fit(X_train, y_train)\n",
    "        pred = model.predict(X_test)\n",
    "        pred = pd.DataFrame(pred)\n",
    "        pred.columns = ['pred']\n",
    "        test_df.reset_index(inplace = True, drop = True)\n",
    "        test_df = pd.concat([test_df, pred], axis = 1)\n",
    "        validation_set = pd.concat([validation_set, test_df], axis = 0)\n",
    "\n",
    "        fi = model.feature_importances_\n",
    "        fi_df = pd.DataFrame([fi])\n",
    "        fi_df.columns = FEATURE_COLS\n",
    "        fi_df['title_id'] = test_df['title_id'].values[0]\n",
    "        fi_df['title'] = test_df['title'].values[0]\n",
    "        feature_importances=pd.concat([feature_importances, fi_df], axis = 0)\n",
    "\n",
    "    except Exception as e:\n",
    "        print (e)"
   ]
  },
  {
   "cell_type": "code",
   "execution_count": 141,
   "id": "c56f0180",
   "metadata": {},
   "outputs": [],
   "source": [
    "validation_set.to_csv('validation_set.csv')"
   ]
  },
  {
   "cell_type": "code",
   "execution_count": 142,
   "id": "f9a48ffb",
   "metadata": {},
   "outputs": [],
   "source": [
    "validation_set['pct_error'] = (validation_set['pred']-validation_set[TARGET_COL[0]]).abs()/validation_set[TARGET_COL[0]]"
   ]
  },
  {
   "cell_type": "code",
   "execution_count": 143,
   "id": "fcd4709f",
   "metadata": {},
   "outputs": [
    {
     "data": {
      "text/html": [
       "<div>\n",
       "<style scoped>\n",
       "    .dataframe tbody tr th:only-of-type {\n",
       "        vertical-align: middle;\n",
       "    }\n",
       "\n",
       "    .dataframe tbody tr th {\n",
       "        vertical-align: top;\n",
       "    }\n",
       "\n",
       "    .dataframe thead th {\n",
       "        text-align: right;\n",
       "    }\n",
       "</style>\n",
       "<table border=\"1\" class=\"dataframe\">\n",
       "  <thead>\n",
       "    <tr style=\"text-align: right;\">\n",
       "      <th></th>\n",
       "      <th>title_id</th>\n",
       "      <th>title</th>\n",
       "      <th>home_territory_observed_medal</th>\n",
       "      <th>pillar_genres</th>\n",
       "      <th>imdb_id</th>\n",
       "      <th>days_from_theatrical2</th>\n",
       "      <th>budget</th>\n",
       "      <th>area_gross</th>\n",
       "      <th>pred</th>\n",
       "      <th>log_cumulative_first_views</th>\n",
       "    </tr>\n",
       "  </thead>\n",
       "  <tbody>\n",
       "  </tbody>\n",
       "</table>\n",
       "</div>"
      ],
      "text/plain": [
       "Empty DataFrame\n",
       "Columns: [title_id, title, home_territory_observed_medal, pillar_genres, imdb_id, days_from_theatrical2, budget, area_gross, pred, log_cumulative_first_views]\n",
       "Index: []"
      ]
     },
     "execution_count": 143,
     "metadata": {},
     "output_type": "execute_result"
    }
   ],
   "source": [
    "validation_set[validation_set['pct_error']>2][META_COLS + ['days_from_theatrical2', 'budget', 'area_gross', 'pred'] + TARGET_COL]"
   ]
  },
  {
   "cell_type": "code",
   "execution_count": 144,
   "id": "397bdd1f",
   "metadata": {},
   "outputs": [
    {
     "data": {
      "text/plain": [
       "0.062237796378732675"
      ]
     },
     "execution_count": 144,
     "metadata": {},
     "output_type": "execute_result"
    }
   ],
   "source": [
    "cal_error(validation_set) #0.062"
   ]
  },
  {
   "cell_type": "code",
   "execution_count": 146,
   "id": "7b8aaee2",
   "metadata": {},
   "outputs": [],
   "source": [
    "def cal_true_error(validation_set):\n",
    "    error_col = (validation_set['pred_antilog']-validation_set['cumulative_first_views']).abs()/validation_set['cumulative_first_views']\n",
    "    return error_col.mean()"
   ]
  },
  {
   "cell_type": "code",
   "execution_count": 147,
   "id": "05cd20e7",
   "metadata": {},
   "outputs": [],
   "source": [
    "validation_set['pred_antilog'] = 2**validation_set['pred'] - 1"
   ]
  },
  {
   "cell_type": "code",
   "execution_count": 148,
   "id": "ef1851fd",
   "metadata": {},
   "outputs": [
    {
     "data": {
      "text/plain": [
       "0.8188520750552821"
      ]
     },
     "execution_count": 148,
     "metadata": {},
     "output_type": "execute_result"
    }
   ],
   "source": [
    "cal_true_error(validation_set)"
   ]
  },
  {
   "cell_type": "code",
   "execution_count": 145,
   "id": "fc5ef253",
   "metadata": {},
   "outputs": [
    {
     "data": {
      "text/plain": [
       "days_from_theatrical2     0.21\n",
       "area_gross                0.11\n",
       "budget                    0.07\n",
       "genre_Action/Adventure    0.15\n",
       "genre_Comedy              0.10\n",
       "genre_Drama               0.03\n",
       "medal_Bronze              0.30\n",
       "medal_Gold                0.03\n",
       "dtype: float64"
      ]
     },
     "execution_count": 145,
     "metadata": {},
     "output_type": "execute_result"
    }
   ],
   "source": [
    "feature_importances.mean()"
   ]
  },
  {
   "cell_type": "markdown",
   "id": "a3f70745",
   "metadata": {},
   "source": [
    "### 2.12 Bayesian Regression CV"
   ]
  },
  {
   "cell_type": "code",
   "execution_count": 99,
   "id": "eb830b01",
   "metadata": {},
   "outputs": [],
   "source": [
    "# !pip install pygam"
   ]
  },
  {
   "cell_type": "code",
   "execution_count": 100,
   "id": "1240af7a",
   "metadata": {},
   "outputs": [],
   "source": [
    "from pygam import LinearGAM, s, PoissonGAM"
   ]
  },
  {
   "cell_type": "code",
   "execution_count": 101,
   "id": "fab61fa0",
   "metadata": {},
   "outputs": [
    {
     "data": {
      "text/plain": [
       "days_from_theatrical2     0.00\n",
       "area_gross                0.00\n",
       "budget                    0.00\n",
       "genre_Action/Adventure    0.00\n",
       "genre_Comedy              0.00\n",
       "genre_Drama               0.00\n",
       "medal_number              0.00\n",
       "dtype: float64"
      ]
     },
     "execution_count": 101,
     "metadata": {},
     "output_type": "execute_result"
    }
   ],
   "source": [
    "training_data[FEATURE_COLS].isnull().sum()/len(training_data)"
   ]
  },
  {
   "cell_type": "code",
   "execution_count": 102,
   "id": "469969e9",
   "metadata": {},
   "outputs": [],
   "source": [
    "training_data['area_gross'] = training_data['area_gross'].fillna(0)\n",
    "training_data['budget'] = training_data['budget'].fillna(0)"
   ]
  },
  {
   "cell_type": "code",
   "execution_count": 103,
   "id": "3d2c3e8c",
   "metadata": {},
   "outputs": [],
   "source": [
    "### DOWNSIDE --- DO NOT TAKE NULL ####\n",
    "validation_set = pd.DataFrame()\n",
    "# feature_importances = pd.DataFrame()\n",
    "# gam = LinearGAM(s(0))\n",
    "\n",
    "for train_index, test_index in group_kfold.split(training_data, groups=training_data['title_id'].values):\n",
    "    train_df, test_df = training_data.iloc[train_index], training_data.iloc[test_index]\n",
    "#     print (\"Validation Title: \" + test_df['title'].values[0])\n",
    "    try:\n",
    "        ## fit_predict prelaunch model|\n",
    "        X_train, X_test = train_df[FEATURE_COLS], test_df[FEATURE_COLS]\n",
    "        y_train, y_test = train_df[TARGET_COL], test_df[TARGET_COL]\n",
    "\n",
    "        gam = LinearGAM(n_splines=10).fit(X_train, y_train)\n",
    "        pred = gam.predict(X_test)\n",
    "        pred = pd.DataFrame(pred)\n",
    "        pred.columns = ['pred']\n",
    "        test_df.reset_index(inplace = True, drop = True)\n",
    "        test_df = pd.concat([test_df, pred], axis = 1)\n",
    "        validation_set = pd.concat([validation_set, test_df], axis = 0)\n",
    "\n",
    "    except Exception as e:\n",
    "        print (e)\n",
    "        raise "
   ]
  },
  {
   "cell_type": "code",
   "execution_count": 104,
   "id": "595859a3",
   "metadata": {},
   "outputs": [
    {
     "data": {
      "text/plain": [
       "0.039730085104848406"
      ]
     },
     "execution_count": 104,
     "metadata": {},
     "output_type": "execute_result"
    }
   ],
   "source": [
    "cal_error(validation_set) # 0.040"
   ]
  },
  {
   "cell_type": "code",
   "execution_count": 105,
   "id": "1b3ada03",
   "metadata": {},
   "outputs": [],
   "source": [
    "def cal_true_error(validation_set):\n",
    "    error_col = (validation_set['pred_antilog']-validation_set['cumulative_first_views']).abs()/validation_set['cumulative_first_views']\n",
    "    return error_col.mean()"
   ]
  },
  {
   "cell_type": "code",
   "execution_count": 106,
   "id": "1088d81e",
   "metadata": {},
   "outputs": [],
   "source": [
    "validation_set['pred_antilog'] = 2**(validation_set['pred']) - 10000"
   ]
  },
  {
   "cell_type": "code",
   "execution_count": 107,
   "id": "24140524",
   "metadata": {},
   "outputs": [
    {
     "data": {
      "text/plain": [
       "0.8165372410972868"
      ]
     },
     "execution_count": 107,
     "metadata": {},
     "output_type": "execute_result"
    }
   ],
   "source": [
    "cal_true_error(validation_set)"
   ]
  },
  {
   "cell_type": "code",
   "execution_count": 108,
   "id": "37954ea3",
   "metadata": {},
   "outputs": [],
   "source": [
    "validation_set['pct_error'] = (validation_set['pred_antilog']-validation_set['cumulative_first_views']).abs()/validation_set['cumulative_first_views']"
   ]
  },
  {
   "cell_type": "code",
   "execution_count": 109,
   "id": "d2ac4eaa",
   "metadata": {},
   "outputs": [
    {
     "data": {
      "text/html": [
       "<div>\n",
       "<style scoped>\n",
       "    .dataframe tbody tr th:only-of-type {\n",
       "        vertical-align: middle;\n",
       "    }\n",
       "\n",
       "    .dataframe tbody tr th {\n",
       "        vertical-align: top;\n",
       "    }\n",
       "\n",
       "    .dataframe thead th {\n",
       "        text-align: right;\n",
       "    }\n",
       "</style>\n",
       "<table border=\"1\" class=\"dataframe\">\n",
       "  <thead>\n",
       "    <tr style=\"text-align: right;\">\n",
       "      <th></th>\n",
       "      <th>title_id</th>\n",
       "      <th>title</th>\n",
       "      <th>home_territory_observed_medal</th>\n",
       "      <th>pillar_genres</th>\n",
       "      <th>imdb_id</th>\n",
       "      <th>days_from_theatrical2</th>\n",
       "      <th>budget</th>\n",
       "      <th>area_gross</th>\n",
       "      <th>pred</th>\n",
       "      <th>log_cumulative_first_views</th>\n",
       "    </tr>\n",
       "  </thead>\n",
       "  <tbody>\n",
       "    <tr>\n",
       "      <th>0</th>\n",
       "      <td>GYQBEaQwta8PCAAEAAAA-</td>\n",
       "      <td>Reminiscence</td>\n",
       "      <td>Platinum</td>\n",
       "      <td>Suspense/Thriller</td>\n",
       "      <td>tt3272066</td>\n",
       "      <td>0</td>\n",
       "      <td>54,000,000.00</td>\n",
       "      <td>1,950,793.00</td>\n",
       "      <td>17.83</td>\n",
       "      <td>16.36</td>\n",
       "    </tr>\n",
       "    <tr>\n",
       "      <th>0</th>\n",
       "      <td>GY2Vw6gENDp_DwgEAAAFS</td>\n",
       "      <td>Amsterdam</td>\n",
       "      <td>Gold</td>\n",
       "      <td>Comedy</td>\n",
       "      <td>tt10304142</td>\n",
       "      <td>32</td>\n",
       "      <td>80,000,000.00</td>\n",
       "      <td>6,444,896.00</td>\n",
       "      <td>16.14</td>\n",
       "      <td>14.60</td>\n",
       "    </tr>\n",
       "    <tr>\n",
       "      <th>0</th>\n",
       "      <td>GYFTsgguYHcPDwgEAAAAK</td>\n",
       "      <td>The Personal History of David Copperfield</td>\n",
       "      <td>Bronze</td>\n",
       "      <td>Drama</td>\n",
       "      <td>tt6439020</td>\n",
       "      <td>246</td>\n",
       "      <td>15,600,000.00</td>\n",
       "      <td>475,800.00</td>\n",
       "      <td>14.02</td>\n",
       "      <td>13.51</td>\n",
       "    </tr>\n",
       "    <tr>\n",
       "      <th>0</th>\n",
       "      <td>GYij31wBohZA3MQEAAAKa</td>\n",
       "      <td>Fantastic Beasts: The Secrets of Dumbledore</td>\n",
       "      <td>Platinum</td>\n",
       "      <td>Action/Adventure</td>\n",
       "      <td>tt4123432</td>\n",
       "      <td>45</td>\n",
       "      <td>200,000,000.00</td>\n",
       "      <td>42,151,256.00</td>\n",
       "      <td>19.14</td>\n",
       "      <td>17.30</td>\n",
       "    </tr>\n",
       "    <tr>\n",
       "      <th>0</th>\n",
       "      <td>GYnEqqwAqmj3DwwEAAAAD</td>\n",
       "      <td>The Card Counter</td>\n",
       "      <td>Silver</td>\n",
       "      <td>Action/Adventure</td>\n",
       "      <td>tt11196036</td>\n",
       "      <td>257</td>\n",
       "      <td>0.00</td>\n",
       "      <td>1,039,580.00</td>\n",
       "      <td>15.33</td>\n",
       "      <td>14.20</td>\n",
       "    </tr>\n",
       "    <tr>\n",
       "      <th>0</th>\n",
       "      <td>GYpd0sACo9rqfUAEAAABf</td>\n",
       "      <td>The Bob's Burgers Movie</td>\n",
       "      <td>Gold</td>\n",
       "      <td>Comedy</td>\n",
       "      <td>tt7466442</td>\n",
       "      <td>46</td>\n",
       "      <td>38,000,000.00</td>\n",
       "      <td>12,416,819.00</td>\n",
       "      <td>16.38</td>\n",
       "      <td>14.80</td>\n",
       "    </tr>\n",
       "    <tr>\n",
       "      <th>0</th>\n",
       "      <td>GYx9RagJNMcPDbgEAAADZ</td>\n",
       "      <td>See How They Run</td>\n",
       "      <td>Silver</td>\n",
       "      <td>Comedy</td>\n",
       "      <td>tt13640696</td>\n",
       "      <td>46</td>\n",
       "      <td>40,000,000.00</td>\n",
       "      <td>3,007,657.00</td>\n",
       "      <td>15.77</td>\n",
       "      <td>14.18</td>\n",
       "    </tr>\n",
       "    <tr>\n",
       "      <th>0</th>\n",
       "      <td>GYabfWwS74zWCogEAAABO</td>\n",
       "      <td>Profile</td>\n",
       "      <td>Bronze</td>\n",
       "      <td>Suspense/Thriller</td>\n",
       "      <td>tt7826276</td>\n",
       "      <td>232</td>\n",
       "      <td>0.00</td>\n",
       "      <td>730,290.00</td>\n",
       "      <td>13.83</td>\n",
       "      <td>13.41</td>\n",
       "    </tr>\n",
       "  </tbody>\n",
       "</table>\n",
       "</div>"
      ],
      "text/plain": [
       "                title_id                                        title  \\\n",
       "0  GYQBEaQwta8PCAAEAAAA-                                 Reminiscence   \n",
       "0  GY2Vw6gENDp_DwgEAAAFS                                    Amsterdam   \n",
       "0  GYFTsgguYHcPDwgEAAAAK    The Personal History of David Copperfield   \n",
       "0  GYij31wBohZA3MQEAAAKa  Fantastic Beasts: The Secrets of Dumbledore   \n",
       "0  GYnEqqwAqmj3DwwEAAAAD                             The Card Counter   \n",
       "0  GYpd0sACo9rqfUAEAAABf                      The Bob's Burgers Movie   \n",
       "0  GYx9RagJNMcPDbgEAAADZ                             See How They Run   \n",
       "0  GYabfWwS74zWCogEAAABO                                      Profile   \n",
       "\n",
       "  home_territory_observed_medal      pillar_genres     imdb_id  \\\n",
       "0                      Platinum  Suspense/Thriller   tt3272066   \n",
       "0                          Gold             Comedy  tt10304142   \n",
       "0                        Bronze              Drama   tt6439020   \n",
       "0                      Platinum  Action/Adventure    tt4123432   \n",
       "0                        Silver  Action/Adventure   tt11196036   \n",
       "0                          Gold             Comedy   tt7466442   \n",
       "0                        Silver             Comedy  tt13640696   \n",
       "0                        Bronze  Suspense/Thriller   tt7826276   \n",
       "\n",
       "   days_from_theatrical2         budget    area_gross  pred  \\\n",
       "0                      0  54,000,000.00  1,950,793.00 17.83   \n",
       "0                     32  80,000,000.00  6,444,896.00 16.14   \n",
       "0                    246  15,600,000.00    475,800.00 14.02   \n",
       "0                     45 200,000,000.00 42,151,256.00 19.14   \n",
       "0                    257           0.00  1,039,580.00 15.33   \n",
       "0                     46  38,000,000.00 12,416,819.00 16.38   \n",
       "0                     46  40,000,000.00  3,007,657.00 15.77   \n",
       "0                    232           0.00    730,290.00 13.83   \n",
       "\n",
       "   log_cumulative_first_views  \n",
       "0                       16.36  \n",
       "0                       14.60  \n",
       "0                       13.51  \n",
       "0                       17.30  \n",
       "0                       14.20  \n",
       "0                       14.80  \n",
       "0                       14.18  \n",
       "0                       13.41  "
      ]
     },
     "execution_count": 109,
     "metadata": {},
     "output_type": "execute_result"
    }
   ],
   "source": [
    "validation_set[validation_set['pct_error']>2][META_COLS + ['days_from_theatrical2', 'budget', 'area_gross', 'pred'] + TARGET_COL]"
   ]
  },
  {
   "cell_type": "code",
   "execution_count": 110,
   "id": "a6eb5582",
   "metadata": {},
   "outputs": [],
   "source": [
    "X = training_data[FEATURE_COLS]\n",
    "y = training_data[TARGET_COL]\n",
    "gam = LinearGAM(n_splines=10).fit(X, y)"
   ]
  },
  {
   "cell_type": "code",
   "execution_count": 111,
   "id": "175a5b6c",
   "metadata": {},
   "outputs": [
    {
     "name": "stdout",
     "output_type": "stream",
     "text": [
      "LinearGAM                                                                                                 \n",
      "=============================================== ==========================================================\n",
      "Distribution:                        NormalDist Effective DoF:                                     17.0327\n",
      "Link Function:                     IdentityLink Log Likelihood:                                   -75.8207\n",
      "Number of Samples:                           73 AIC:                                              187.7068\n",
      "                                                AICc:                                             200.4261\n",
      "                                                GCV:                                                0.9908\n",
      "                                                Scale:                                               0.586\n",
      "                                                Pseudo R-Squared:                                   0.8824\n",
      "==========================================================================================================\n",
      "Feature Function                  Lambda               Rank         EDoF         P > x        Sig. Code   \n",
      "================================= ==================== ============ ============ ============ ============\n",
      "s(0)                              [0.6]                10           5.5          8.38e-08     ***         \n",
      "s(1)                              [0.6]                10           3.8          3.57e-02     *           \n",
      "s(2)                              [0.6]                10           3.7          4.80e-01                 \n",
      "s(3)                              [0.6]                10           1.7          2.41e-01                 \n",
      "s(4)                              [0.6]                10           1.0          9.63e-01                 \n",
      "s(5)                              [0.6]                10           0.8          6.32e-01                 \n",
      "s(6)                              [0.6]                10           0.6          3.06e-02     *           \n",
      "intercept                                              1            0.0          1.11e-16     ***         \n",
      "==========================================================================================================\n",
      "Significance codes:  0 '***' 0.001 '**' 0.01 '*' 0.05 '.' 0.1 ' ' 1\n",
      "\n",
      "WARNING: Fitting splines and a linear function to a feature introduces a model identifiability problem\n",
      "         which can cause p-values to appear significant when they are not.\n",
      "\n",
      "WARNING: p-values calculated in this manner behave correctly for un-penalized models or models with\n",
      "         known smoothing parameters, but when smoothing parameters have been estimated, the p-values\n",
      "         are typically lower than they should be, meaning that the tests reject the null too readily.\n"
     ]
    },
    {
     "name": "stderr",
     "output_type": "stream",
     "text": [
      "/home/ec2-user/anaconda3/envs/python3/lib/python3.6/site-packages/ipykernel/__main__.py:1: UserWarning:\n",
      "\n",
      "KNOWN BUG: p-values computed in this summary are likely much smaller than they should be. \n",
      " \n",
      "Please do not make inferences based on these values! \n",
      "\n",
      "Collaborate on a solution, and stay up to date at: \n",
      "github.com/dswah/pyGAM/issues/163 \n",
      "\n",
      "\n"
     ]
    }
   ],
   "source": [
    "gam.summary()"
   ]
  },
  {
   "cell_type": "code",
   "execution_count": 112,
   "id": "58da116c",
   "metadata": {},
   "outputs": [],
   "source": [
    "import matplotlib.pyplot as plt"
   ]
  },
  {
   "cell_type": "code",
   "execution_count": 113,
   "id": "3423402e",
   "metadata": {},
   "outputs": [
    {
     "data": {
      "image/png": "[encoded data removed]",
      "text/plain": [
       "<Figure size 1440x576 with 7 Axes>"
      ]
     },
     "metadata": {
      "needs_background": "light"
     },
     "output_type": "display_data"
    }
   ],
   "source": [
    "plt.rcParams['figure.figsize'] = (20, 8)\n",
    "fig, axs = plt.subplots(1, 7)\n",
    "titles = FEATURE_COLS\n",
    "for i, ax in enumerate(axs):\n",
    "    XX = gam.generate_X_grid(term=i)\n",
    "    pdep, confi = gam.partial_dependence(term=i, width=.95)\n",
    "\n",
    "    ax.plot(XX[:, i], pdep)\n",
    "    ax.plot(XX[:, i], confi, c='r', ls='--')\n",
    "    ax.set_title(titles[i]);"
   ]
  },
  {
   "cell_type": "code",
   "execution_count": 114,
   "id": "dcd21c59",
   "metadata": {},
   "outputs": [
    {
     "data": {
      "text/plain": [
       "home_territory_observed_medal\n",
       "Bronze     1.17\n",
       "Gold       0.70\n",
       "Platinum   0.67\n",
       "Silver     0.80\n",
       "Name: pct_error, dtype: float64"
      ]
     },
     "execution_count": 114,
     "metadata": {},
     "output_type": "execute_result"
    }
   ],
   "source": [
    "validation_set.groupby(['home_territory_observed_medal']).pct_error.mean()"
   ]
  },
  {
   "cell_type": "code",
   "execution_count": 115,
   "id": "8e03ab78",
   "metadata": {},
   "outputs": [
    {
     "data": {
      "text/plain": [
       "pillar_genres\n",
       "Action/Adventure    0.68\n",
       "Comedy              1.32\n",
       "Drama               0.86\n",
       "Horror              0.21\n",
       "Kids/Family         0.46\n",
       "Sci-Fi              0.56\n",
       "Suspense/Thriller   1.02\n",
       "Name: pct_error, dtype: float64"
      ]
     },
     "execution_count": 115,
     "metadata": {},
     "output_type": "execute_result"
    }
   ],
   "source": [
    "validation_set.groupby(['pillar_genres']).pct_error.mean()"
   ]
  },
  {
   "cell_type": "code",
   "execution_count": 116,
   "id": "e557b66b",
   "metadata": {},
   "outputs": [
    {
     "data": {
      "text/html": [
       "<div>\n",
       "<style scoped>\n",
       "    .dataframe tbody tr th:only-of-type {\n",
       "        vertical-align: middle;\n",
       "    }\n",
       "\n",
       "    .dataframe tbody tr th {\n",
       "        vertical-align: top;\n",
       "    }\n",
       "\n",
       "    .dataframe thead th {\n",
       "        text-align: right;\n",
       "    }\n",
       "</style>\n",
       "<table border=\"1\" class=\"dataframe\">\n",
       "  <thead>\n",
       "    <tr style=\"text-align: right;\">\n",
       "      <th></th>\n",
       "      <th>Unnamed: 0</th>\n",
       "      <th>title_id</th>\n",
       "      <th>title</th>\n",
       "      <th>home_territory_observed_medal</th>\n",
       "      <th>pillar_genres</th>\n",
       "      <th>imdb_id</th>\n",
       "      <th>theatrical_release_date</th>\n",
       "      <th>offering_start_date</th>\n",
       "      <th>days_from_theatrical2</th>\n",
       "      <th>pct_actives</th>\n",
       "      <th>days_from_max_launch</th>\n",
       "      <th>cumulative_viewing_subs</th>\n",
       "      <th>cumulative_first_views</th>\n",
       "      <th>area_gross</th>\n",
       "      <th>budget</th>\n",
       "      <th>genre_Action/Adventure</th>\n",
       "      <th>genre_Comedy</th>\n",
       "      <th>genre_Drama</th>\n",
       "      <th>genre_Horror</th>\n",
       "      <th>genre_Kids/Family</th>\n",
       "      <th>genre_Romance</th>\n",
       "      <th>genre_Sci-Fi</th>\n",
       "      <th>genre_Suspense/Thriller</th>\n",
       "      <th>medal_Bronze</th>\n",
       "      <th>medal_Gold</th>\n",
       "      <th>medal_Platinum</th>\n",
       "      <th>medal_Silver</th>\n",
       "      <th>medal_number</th>\n",
       "      <th>log_cumulative_first_views</th>\n",
       "      <th>platform</th>\n",
       "      <th>pred</th>\n",
       "      <th>pred_antilog</th>\n",
       "      <th>pct_error</th>\n",
       "    </tr>\n",
       "  </thead>\n",
       "  <tbody>\n",
       "    <tr>\n",
       "      <th>0</th>\n",
       "      <td>33</td>\n",
       "      <td>GYzrqHgFIqsM2ewEAAAD4</td>\n",
       "      <td>Don't Worry Darling</td>\n",
       "      <td>Gold</td>\n",
       "      <td>Suspense/Thriller</td>\n",
       "      <td>tt10731256</td>\n",
       "      <td>2022-09-23</td>\n",
       "      <td>2022-11-07</td>\n",
       "      <td>45</td>\n",
       "      <td>0.21</td>\n",
       "      <td>-856</td>\n",
       "      <td>6373492</td>\n",
       "      <td>77468</td>\n",
       "      <td>19,353,213.00</td>\n",
       "      <td>20,000,000.00</td>\n",
       "      <td>0</td>\n",
       "      <td>0</td>\n",
       "      <td>0</td>\n",
       "      <td>0</td>\n",
       "      <td>0</td>\n",
       "      <td>0</td>\n",
       "      <td>0</td>\n",
       "      <td>1</td>\n",
       "      <td>0</td>\n",
       "      <td>1</td>\n",
       "      <td>0</td>\n",
       "      <td>0</td>\n",
       "      <td>1</td>\n",
       "      <td>16.42</td>\n",
       "      <td>1.00</td>\n",
       "      <td>16.59</td>\n",
       "      <td>88,837.85</td>\n",
       "      <td>0.15</td>\n",
       "    </tr>\n",
       "    <tr>\n",
       "      <th>0</th>\n",
       "      <td>17</td>\n",
       "      <td>GYSbJuAuzchDCwgEAAAAC</td>\n",
       "      <td>Cry Macho</td>\n",
       "      <td>Gold</td>\n",
       "      <td>Drama</td>\n",
       "      <td>tt1924245</td>\n",
       "      <td>2021-09-17</td>\n",
       "      <td>2021-09-17</td>\n",
       "      <td>0</td>\n",
       "      <td>0.17</td>\n",
       "      <td>-485</td>\n",
       "      <td>4826766</td>\n",
       "      <td>140629</td>\n",
       "      <td>4,426,161.00</td>\n",
       "      <td>0.00</td>\n",
       "      <td>0</td>\n",
       "      <td>0</td>\n",
       "      <td>1</td>\n",
       "      <td>0</td>\n",
       "      <td>0</td>\n",
       "      <td>0</td>\n",
       "      <td>0</td>\n",
       "      <td>0</td>\n",
       "      <td>0</td>\n",
       "      <td>1</td>\n",
       "      <td>0</td>\n",
       "      <td>0</td>\n",
       "      <td>1</td>\n",
       "      <td>17.20</td>\n",
       "      <td>1.00</td>\n",
       "      <td>17.42</td>\n",
       "      <td>165,459.23</td>\n",
       "      <td>0.18</td>\n",
       "    </tr>\n",
       "    <tr>\n",
       "      <th>0</th>\n",
       "      <td>56</td>\n",
       "      <td>GYIHBbgg_NZ2TjQEAAADx</td>\n",
       "      <td>Kajillionaire</td>\n",
       "      <td>Bronze</td>\n",
       "      <td>Drama</td>\n",
       "      <td>tt8143990</td>\n",
       "      <td>2020-09-25</td>\n",
       "      <td>2021-06-01</td>\n",
       "      <td>249</td>\n",
       "      <td>0.02</td>\n",
       "      <td>-128</td>\n",
       "      <td>589660</td>\n",
       "      <td>2482</td>\n",
       "      <td>215,675.00</td>\n",
       "      <td>0.00</td>\n",
       "      <td>0</td>\n",
       "      <td>0</td>\n",
       "      <td>1</td>\n",
       "      <td>0</td>\n",
       "      <td>0</td>\n",
       "      <td>0</td>\n",
       "      <td>0</td>\n",
       "      <td>0</td>\n",
       "      <td>1</td>\n",
       "      <td>0</td>\n",
       "      <td>0</td>\n",
       "      <td>0</td>\n",
       "      <td>3</td>\n",
       "      <td>13.61</td>\n",
       "      <td>1.00</td>\n",
       "      <td>14.03</td>\n",
       "      <td>6,713.21</td>\n",
       "      <td>1.70</td>\n",
       "    </tr>\n",
       "    <tr>\n",
       "      <th>0</th>\n",
       "      <td>19</td>\n",
       "      <td>GYK0x7gXCza4OwwEAAADl</td>\n",
       "      <td>In The Heights</td>\n",
       "      <td>Platinum</td>\n",
       "      <td>Drama</td>\n",
       "      <td>tt1321510</td>\n",
       "      <td>2021-06-10</td>\n",
       "      <td>2021-06-10</td>\n",
       "      <td>0</td>\n",
       "      <td>0.21</td>\n",
       "      <td>-386</td>\n",
       "      <td>5657876</td>\n",
       "      <td>203752</td>\n",
       "      <td>11,504,710.00</td>\n",
       "      <td>55,000,000.00</td>\n",
       "      <td>0</td>\n",
       "      <td>0</td>\n",
       "      <td>1</td>\n",
       "      <td>0</td>\n",
       "      <td>0</td>\n",
       "      <td>0</td>\n",
       "      <td>0</td>\n",
       "      <td>0</td>\n",
       "      <td>0</td>\n",
       "      <td>0</td>\n",
       "      <td>1</td>\n",
       "      <td>0</td>\n",
       "      <td>0</td>\n",
       "      <td>17.71</td>\n",
       "      <td>1.00</td>\n",
       "      <td>18.50</td>\n",
       "      <td>361,571.79</td>\n",
       "      <td>0.77</td>\n",
       "    </tr>\n",
       "    <tr>\n",
       "      <th>0</th>\n",
       "      <td>52</td>\n",
       "      <td>GYKabGAV4LqS1oAEAAABb</td>\n",
       "      <td>Let Him Go</td>\n",
       "      <td>Silver</td>\n",
       "      <td>Drama</td>\n",
       "      <td>tt9340860</td>\n",
       "      <td>2020-11-06</td>\n",
       "      <td>2021-07-04</td>\n",
       "      <td>237</td>\n",
       "      <td>0.10</td>\n",
       "      <td>-170</td>\n",
       "      <td>2608832</td>\n",
       "      <td>26191</td>\n",
       "      <td>4,000,470.00</td>\n",
       "      <td>0.00</td>\n",
       "      <td>0</td>\n",
       "      <td>0</td>\n",
       "      <td>1</td>\n",
       "      <td>0</td>\n",
       "      <td>0</td>\n",
       "      <td>0</td>\n",
       "      <td>0</td>\n",
       "      <td>0</td>\n",
       "      <td>0</td>\n",
       "      <td>0</td>\n",
       "      <td>0</td>\n",
       "      <td>1</td>\n",
       "      <td>2</td>\n",
       "      <td>15.14</td>\n",
       "      <td>1.00</td>\n",
       "      <td>14.87</td>\n",
       "      <td>19,898.57</td>\n",
       "      <td>0.24</td>\n",
       "    </tr>\n",
       "  </tbody>\n",
       "</table>\n",
       "</div>"
      ],
      "text/plain": [
       "   Unnamed: 0               title_id                title  \\\n",
       "0          33  GYzrqHgFIqsM2ewEAAAD4  Don't Worry Darling   \n",
       "0          17  GYSbJuAuzchDCwgEAAAAC            Cry Macho   \n",
       "0          56  GYIHBbgg_NZ2TjQEAAADx        Kajillionaire   \n",
       "0          19  GYK0x7gXCza4OwwEAAADl       In The Heights   \n",
       "0          52  GYKabGAV4LqS1oAEAAABb           Let Him Go   \n",
       "\n",
       "  home_territory_observed_medal      pillar_genres     imdb_id  \\\n",
       "0                          Gold  Suspense/Thriller  tt10731256   \n",
       "0                          Gold              Drama   tt1924245   \n",
       "0                        Bronze              Drama   tt8143990   \n",
       "0                      Platinum              Drama   tt1321510   \n",
       "0                        Silver              Drama   tt9340860   \n",
       "\n",
       "  theatrical_release_date offering_start_date  days_from_theatrical2  \\\n",
       "0              2022-09-23          2022-11-07                     45   \n",
       "0              2021-09-17          2021-09-17                      0   \n",
       "0              2020-09-25          2021-06-01                    249   \n",
       "0              2021-06-10          2021-06-10                      0   \n",
       "0              2020-11-06          2021-07-04                    237   \n",
       "\n",
       "   pct_actives  days_from_max_launch  cumulative_viewing_subs  \\\n",
       "0         0.21                  -856                  6373492   \n",
       "0         0.17                  -485                  4826766   \n",
       "0         0.02                  -128                   589660   \n",
       "0         0.21                  -386                  5657876   \n",
       "0         0.10                  -170                  2608832   \n",
       "\n",
       "   cumulative_first_views    area_gross        budget  \\\n",
       "0                   77468 19,353,213.00 20,000,000.00   \n",
       "0                  140629  4,426,161.00          0.00   \n",
       "0                    2482    215,675.00          0.00   \n",
       "0                  203752 11,504,710.00 55,000,000.00   \n",
       "0                   26191  4,000,470.00          0.00   \n",
       "\n",
       "   genre_Action/Adventure   genre_Comedy  genre_Drama  genre_Horror   \\\n",
       "0                        0             0            0              0   \n",
       "0                        0             0            1              0   \n",
       "0                        0             0            1              0   \n",
       "0                        0             0            1              0   \n",
       "0                        0             0            1              0   \n",
       "\n",
       "   genre_Kids/Family  genre_Romance  genre_Sci-Fi  genre_Suspense/Thriller  \\\n",
       "0                  0              0             0                        1   \n",
       "0                  0              0             0                        0   \n",
       "0                  0              0             0                        0   \n",
       "0                  0              0             0                        0   \n",
       "0                  0              0             0                        0   \n",
       "\n",
       "   medal_Bronze  medal_Gold  medal_Platinum  medal_Silver  medal_number  \\\n",
       "0             0           1               0             0             1   \n",
       "0             0           1               0             0             1   \n",
       "0             1           0               0             0             3   \n",
       "0             0           0               1             0             0   \n",
       "0             0           0               0             1             2   \n",
       "\n",
       "   log_cumulative_first_views  platform  pred  pred_antilog  pct_error  \n",
       "0                       16.42      1.00 16.59     88,837.85       0.15  \n",
       "0                       17.20      1.00 17.42    165,459.23       0.18  \n",
       "0                       13.61      1.00 14.03      6,713.21       1.70  \n",
       "0                       17.71      1.00 18.50    361,571.79       0.77  \n",
       "0                       15.14      1.00 14.87     19,898.57       0.24  "
      ]
     },
     "execution_count": 116,
     "metadata": {},
     "output_type": "execute_result"
    }
   ],
   "source": [
    "validation_set.head()"
   ]
  },
  {
   "cell_type": "markdown",
   "id": "77a9319a",
   "metadata": {},
   "source": [
    "### 2.13 GAM Scoring"
   ]
  },
  {
   "cell_type": "markdown",
   "id": "41f400a3",
   "metadata": {},
   "source": [
    "##### 2.131 Scoring 1"
   ]
  },
  {
   "cell_type": "code",
   "execution_count": 117,
   "id": "1e29ab5b",
   "metadata": {},
   "outputs": [
    {
     "data": {
      "text/html": [
       "<div>\n",
       "<style scoped>\n",
       "    .dataframe tbody tr th:only-of-type {\n",
       "        vertical-align: middle;\n",
       "    }\n",
       "\n",
       "    .dataframe tbody tr th {\n",
       "        vertical-align: top;\n",
       "    }\n",
       "\n",
       "    .dataframe thead th {\n",
       "        text-align: right;\n",
       "    }\n",
       "</style>\n",
       "<table border=\"1\" class=\"dataframe\">\n",
       "  <thead>\n",
       "    <tr style=\"text-align: right;\">\n",
       "      <th></th>\n",
       "      <th>Unnamed: 0</th>\n",
       "      <th>title_id</th>\n",
       "      <th>title</th>\n",
       "      <th>home_territory_observed_medal</th>\n",
       "      <th>pillar_genres</th>\n",
       "      <th>imdb_id</th>\n",
       "      <th>theatrical_release_date</th>\n",
       "      <th>offering_start_date</th>\n",
       "      <th>days_from_theatrical2</th>\n",
       "      <th>pct_actives</th>\n",
       "      <th>days_from_max_launch</th>\n",
       "      <th>cumulative_viewing_subs</th>\n",
       "      <th>cumulative_first_views</th>\n",
       "      <th>area_gross</th>\n",
       "      <th>budget</th>\n",
       "      <th>genre_Action/Adventure</th>\n",
       "      <th>genre_Comedy</th>\n",
       "      <th>genre_Drama</th>\n",
       "      <th>genre_Horror</th>\n",
       "      <th>genre_Kids/Family</th>\n",
       "      <th>genre_Romance</th>\n",
       "      <th>genre_Sci-Fi</th>\n",
       "      <th>genre_Suspense/Thriller</th>\n",
       "      <th>medal_Bronze</th>\n",
       "      <th>medal_Gold</th>\n",
       "      <th>medal_Platinum</th>\n",
       "      <th>medal_Silver</th>\n",
       "      <th>medal_number</th>\n",
       "      <th>log_cumulative_first_views</th>\n",
       "      <th>platform</th>\n",
       "    </tr>\n",
       "  </thead>\n",
       "  <tbody>\n",
       "    <tr>\n",
       "      <th>0</th>\n",
       "      <td>0</td>\n",
       "      <td>GYPXEhQg3DFbCwwEAAADm</td>\n",
       "      <td>News of the World</td>\n",
       "      <td>Silver</td>\n",
       "      <td>Action/Adventure</td>\n",
       "      <td>tt6878306</td>\n",
       "      <td>2020-12-25</td>\n",
       "      <td>2021-09-05</td>\n",
       "      <td>250</td>\n",
       "      <td>0.09</td>\n",
       "      <td>-219</td>\n",
       "      <td>2557041</td>\n",
       "      <td>25362</td>\n",
       "      <td>2,250,430.00</td>\n",
       "      <td>38,000,000.00</td>\n",
       "      <td>1</td>\n",
       "      <td>0</td>\n",
       "      <td>0</td>\n",
       "      <td>0</td>\n",
       "      <td>0</td>\n",
       "      <td>0</td>\n",
       "      <td>0</td>\n",
       "      <td>0</td>\n",
       "      <td>0</td>\n",
       "      <td>0</td>\n",
       "      <td>0</td>\n",
       "      <td>1</td>\n",
       "      <td>2</td>\n",
       "      <td>15.11</td>\n",
       "      <td>1.00</td>\n",
       "    </tr>\n",
       "    <tr>\n",
       "      <th>2</th>\n",
       "      <td>2</td>\n",
       "      <td>GYXB0OgEQO5OhegEAAAAl</td>\n",
       "      <td>King Richard</td>\n",
       "      <td>Platinum</td>\n",
       "      <td>Drama</td>\n",
       "      <td>tt9620288</td>\n",
       "      <td>2021-11-19</td>\n",
       "      <td>2021-11-19</td>\n",
       "      <td>0</td>\n",
       "      <td>0.24</td>\n",
       "      <td>-548</td>\n",
       "      <td>7612114</td>\n",
       "      <td>236213</td>\n",
       "      <td>5,406,033.00</td>\n",
       "      <td>50,000,000.00</td>\n",
       "      <td>0</td>\n",
       "      <td>0</td>\n",
       "      <td>1</td>\n",
       "      <td>0</td>\n",
       "      <td>0</td>\n",
       "      <td>0</td>\n",
       "      <td>0</td>\n",
       "      <td>0</td>\n",
       "      <td>0</td>\n",
       "      <td>0</td>\n",
       "      <td>1</td>\n",
       "      <td>0</td>\n",
       "      <td>0</td>\n",
       "      <td>17.91</td>\n",
       "      <td>1.00</td>\n",
       "    </tr>\n",
       "    <tr>\n",
       "      <th>4</th>\n",
       "      <td>4</td>\n",
       "      <td>GYbzvWABDj8LDwgEAAAAp</td>\n",
       "      <td>The Last Duel</td>\n",
       "      <td>Gold</td>\n",
       "      <td>Drama</td>\n",
       "      <td>tt4244994</td>\n",
       "      <td>2021-10-15</td>\n",
       "      <td>2022-01-14</td>\n",
       "      <td>91</td>\n",
       "      <td>0.16</td>\n",
       "      <td>-513</td>\n",
       "      <td>5012315</td>\n",
       "      <td>33314</td>\n",
       "      <td>4,759,151.00</td>\n",
       "      <td>100,000,000.00</td>\n",
       "      <td>0</td>\n",
       "      <td>0</td>\n",
       "      <td>1</td>\n",
       "      <td>0</td>\n",
       "      <td>0</td>\n",
       "      <td>0</td>\n",
       "      <td>0</td>\n",
       "      <td>0</td>\n",
       "      <td>0</td>\n",
       "      <td>1</td>\n",
       "      <td>0</td>\n",
       "      <td>0</td>\n",
       "      <td>1</td>\n",
       "      <td>15.40</td>\n",
       "      <td>1.00</td>\n",
       "    </tr>\n",
       "    <tr>\n",
       "      <th>5</th>\n",
       "      <td>5</td>\n",
       "      <td>GYm0w5wSRXaTDYQEAAAD4</td>\n",
       "      <td>Last Night in Soho</td>\n",
       "      <td>Silver</td>\n",
       "      <td>Suspense/Thriller</td>\n",
       "      <td>tt9639470</td>\n",
       "      <td>2021-10-29</td>\n",
       "      <td>2022-07-01</td>\n",
       "      <td>245</td>\n",
       "      <td>0.07</td>\n",
       "      <td>-527</td>\n",
       "      <td>2005376</td>\n",
       "      <td>8975</td>\n",
       "      <td>4,178,460.00</td>\n",
       "      <td>43,000,000.00</td>\n",
       "      <td>0</td>\n",
       "      <td>0</td>\n",
       "      <td>0</td>\n",
       "      <td>0</td>\n",
       "      <td>0</td>\n",
       "      <td>0</td>\n",
       "      <td>0</td>\n",
       "      <td>1</td>\n",
       "      <td>0</td>\n",
       "      <td>0</td>\n",
       "      <td>0</td>\n",
       "      <td>1</td>\n",
       "      <td>2</td>\n",
       "      <td>14.21</td>\n",
       "      <td>1.00</td>\n",
       "    </tr>\n",
       "    <tr>\n",
       "      <th>6</th>\n",
       "      <td>6</td>\n",
       "      <td>GYd9P0QTRLMLDJwEAAAAP</td>\n",
       "      <td>Antlers</td>\n",
       "      <td>Silver</td>\n",
       "      <td>Horror</td>\n",
       "      <td>tt7740510</td>\n",
       "      <td>2021-10-11</td>\n",
       "      <td>2022-02-11</td>\n",
       "      <td>123</td>\n",
       "      <td>0.09</td>\n",
       "      <td>-509</td>\n",
       "      <td>2614867</td>\n",
       "      <td>14444</td>\n",
       "      <td>4,271,346.00</td>\n",
       "      <td>0.00</td>\n",
       "      <td>0</td>\n",
       "      <td>0</td>\n",
       "      <td>0</td>\n",
       "      <td>1</td>\n",
       "      <td>0</td>\n",
       "      <td>0</td>\n",
       "      <td>0</td>\n",
       "      <td>0</td>\n",
       "      <td>0</td>\n",
       "      <td>0</td>\n",
       "      <td>0</td>\n",
       "      <td>1</td>\n",
       "      <td>2</td>\n",
       "      <td>14.58</td>\n",
       "      <td>1.00</td>\n",
       "    </tr>\n",
       "  </tbody>\n",
       "</table>\n",
       "</div>"
      ],
      "text/plain": [
       "   Unnamed: 0               title_id               title  \\\n",
       "0           0  GYPXEhQg3DFbCwwEAAADm   News of the World   \n",
       "2           2  GYXB0OgEQO5OhegEAAAAl        King Richard   \n",
       "4           4  GYbzvWABDj8LDwgEAAAAp       The Last Duel   \n",
       "5           5  GYm0w5wSRXaTDYQEAAAD4  Last Night in Soho   \n",
       "6           6  GYd9P0QTRLMLDJwEAAAAP             Antlers   \n",
       "\n",
       "  home_territory_observed_medal      pillar_genres    imdb_id  \\\n",
       "0                        Silver  Action/Adventure   tt6878306   \n",
       "2                      Platinum              Drama  tt9620288   \n",
       "4                          Gold              Drama  tt4244994   \n",
       "5                        Silver  Suspense/Thriller  tt9639470   \n",
       "6                        Silver            Horror   tt7740510   \n",
       "\n",
       "  theatrical_release_date offering_start_date  days_from_theatrical2  \\\n",
       "0              2020-12-25          2021-09-05                    250   \n",
       "2              2021-11-19          2021-11-19                      0   \n",
       "4              2021-10-15          2022-01-14                     91   \n",
       "5              2021-10-29          2022-07-01                    245   \n",
       "6              2021-10-11          2022-02-11                    123   \n",
       "\n",
       "   pct_actives  days_from_max_launch  cumulative_viewing_subs  \\\n",
       "0         0.09                  -219                  2557041   \n",
       "2         0.24                  -548                  7612114   \n",
       "4         0.16                  -513                  5012315   \n",
       "5         0.07                  -527                  2005376   \n",
       "6         0.09                  -509                  2614867   \n",
       "\n",
       "   cumulative_first_views   area_gross         budget  \\\n",
       "0                   25362 2,250,430.00  38,000,000.00   \n",
       "2                  236213 5,406,033.00  50,000,000.00   \n",
       "4                   33314 4,759,151.00 100,000,000.00   \n",
       "5                    8975 4,178,460.00  43,000,000.00   \n",
       "6                   14444 4,271,346.00           0.00   \n",
       "\n",
       "   genre_Action/Adventure   genre_Comedy  genre_Drama  genre_Horror   \\\n",
       "0                        1             0            0              0   \n",
       "2                        0             0            1              0   \n",
       "4                        0             0            1              0   \n",
       "5                        0             0            0              0   \n",
       "6                        0             0            0              1   \n",
       "\n",
       "   genre_Kids/Family  genre_Romance  genre_Sci-Fi  genre_Suspense/Thriller  \\\n",
       "0                  0              0             0                        0   \n",
       "2                  0              0             0                        0   \n",
       "4                  0              0             0                        0   \n",
       "5                  0              0             0                        1   \n",
       "6                  0              0             0                        0   \n",
       "\n",
       "   medal_Bronze  medal_Gold  medal_Platinum  medal_Silver  medal_number  \\\n",
       "0             0           0               0             1             2   \n",
       "2             0           0               1             0             0   \n",
       "4             0           1               0             0             1   \n",
       "5             0           0               0             1             2   \n",
       "6             0           0               0             1             2   \n",
       "\n",
       "   log_cumulative_first_views  platform  \n",
       "0                       15.11      1.00  \n",
       "2                       17.91      1.00  \n",
       "4                       15.40      1.00  \n",
       "5                       14.21      1.00  \n",
       "6                       14.58      1.00  "
      ]
     },
     "execution_count": 117,
     "metadata": {},
     "output_type": "execute_result"
    }
   ],
   "source": [
    "training_data.head()"
   ]
  },
  {
   "cell_type": "code",
   "execution_count": 118,
   "id": "558bfe20",
   "metadata": {},
   "outputs": [],
   "source": [
    "X = training_data[FEATURE_COLS]\n",
    "y = training_data[TARGET_COL]\n",
    "gam = LinearGAM(n_splines=10).fit(X, y)"
   ]
  },
  {
   "cell_type": "code",
   "execution_count": 119,
   "id": "9b45c696",
   "metadata": {},
   "outputs": [],
   "source": [
    "pred_day = [*range(0, 200, 15)]\n",
    "df = pd.DataFrame(pred_day, columns =['days_from_theatrical2'])"
   ]
  },
  {
   "cell_type": "code",
   "execution_count": 120,
   "id": "e16b49f4",
   "metadata": {},
   "outputs": [],
   "source": [
    "scoring_data = training_data[META_COLS+FEATURE_COLS].copy()\n",
    "scoring_data.drop(['days_from_theatrical2'], axis = 1, inplace = True)"
   ]
  },
  {
   "cell_type": "code",
   "execution_count": 121,
   "id": "a60debe9",
   "metadata": {},
   "outputs": [],
   "source": [
    "def cartesian_product_basic(left, right):\n",
    "    return (\n",
    "       left.assign(key=1).merge(right.assign(key=1), on='key').drop('key', 1))"
   ]
  },
  {
   "cell_type": "code",
   "execution_count": 122,
   "id": "2515a113",
   "metadata": {},
   "outputs": [],
   "source": [
    "scoring_data=cartesian_product_basic(scoring_data, df)"
   ]
  },
  {
   "cell_type": "code",
   "execution_count": 123,
   "id": "b4e3f586",
   "metadata": {},
   "outputs": [],
   "source": [
    "pred = gam.predict(scoring_data[FEATURE_COLS])\n",
    "pred = pd.DataFrame(pred)\n",
    "pred.columns = ['pred']\n",
    "scoring_data = pd.concat([scoring_data, pred], axis = 1)"
   ]
  },
  {
   "cell_type": "code",
   "execution_count": 124,
   "id": "3bcd89b6",
   "metadata": {},
   "outputs": [
    {
     "data": {
      "text/html": [
       "<div>\n",
       "<style scoped>\n",
       "    .dataframe tbody tr th:only-of-type {\n",
       "        vertical-align: middle;\n",
       "    }\n",
       "\n",
       "    .dataframe tbody tr th {\n",
       "        vertical-align: top;\n",
       "    }\n",
       "\n",
       "    .dataframe thead th {\n",
       "        text-align: right;\n",
       "    }\n",
       "</style>\n",
       "<table border=\"1\" class=\"dataframe\">\n",
       "  <thead>\n",
       "    <tr style=\"text-align: right;\">\n",
       "      <th></th>\n",
       "      <th>title_id</th>\n",
       "      <th>title</th>\n",
       "      <th>home_territory_observed_medal</th>\n",
       "      <th>pillar_genres</th>\n",
       "      <th>imdb_id</th>\n",
       "      <th>area_gross</th>\n",
       "      <th>budget</th>\n",
       "      <th>genre_Action/Adventure</th>\n",
       "      <th>genre_Comedy</th>\n",
       "      <th>genre_Drama</th>\n",
       "      <th>medal_number</th>\n",
       "      <th>days_from_theatrical2</th>\n",
       "      <th>pred</th>\n",
       "    </tr>\n",
       "  </thead>\n",
       "  <tbody>\n",
       "    <tr>\n",
       "      <th>0</th>\n",
       "      <td>GYPXEhQg3DFbCwwEAAADm</td>\n",
       "      <td>News of the World</td>\n",
       "      <td>Silver</td>\n",
       "      <td>Action/Adventure</td>\n",
       "      <td>tt6878306</td>\n",
       "      <td>2,250,430.00</td>\n",
       "      <td>38,000,000.00</td>\n",
       "      <td>1</td>\n",
       "      <td>0</td>\n",
       "      <td>0</td>\n",
       "      <td>2</td>\n",
       "      <td>0</td>\n",
       "      <td>17.41</td>\n",
       "    </tr>\n",
       "    <tr>\n",
       "      <th>1</th>\n",
       "      <td>GYPXEhQg3DFbCwwEAAADm</td>\n",
       "      <td>News of the World</td>\n",
       "      <td>Silver</td>\n",
       "      <td>Action/Adventure</td>\n",
       "      <td>tt6878306</td>\n",
       "      <td>2,250,430.00</td>\n",
       "      <td>38,000,000.00</td>\n",
       "      <td>1</td>\n",
       "      <td>0</td>\n",
       "      <td>0</td>\n",
       "      <td>2</td>\n",
       "      <td>15</td>\n",
       "      <td>16.94</td>\n",
       "    </tr>\n",
       "    <tr>\n",
       "      <th>2</th>\n",
       "      <td>GYPXEhQg3DFbCwwEAAADm</td>\n",
       "      <td>News of the World</td>\n",
       "      <td>Silver</td>\n",
       "      <td>Action/Adventure</td>\n",
       "      <td>tt6878306</td>\n",
       "      <td>2,250,430.00</td>\n",
       "      <td>38,000,000.00</td>\n",
       "      <td>1</td>\n",
       "      <td>0</td>\n",
       "      <td>0</td>\n",
       "      <td>2</td>\n",
       "      <td>30</td>\n",
       "      <td>16.50</td>\n",
       "    </tr>\n",
       "    <tr>\n",
       "      <th>3</th>\n",
       "      <td>GYPXEhQg3DFbCwwEAAADm</td>\n",
       "      <td>News of the World</td>\n",
       "      <td>Silver</td>\n",
       "      <td>Action/Adventure</td>\n",
       "      <td>tt6878306</td>\n",
       "      <td>2,250,430.00</td>\n",
       "      <td>38,000,000.00</td>\n",
       "      <td>1</td>\n",
       "      <td>0</td>\n",
       "      <td>0</td>\n",
       "      <td>2</td>\n",
       "      <td>45</td>\n",
       "      <td>16.11</td>\n",
       "    </tr>\n",
       "    <tr>\n",
       "      <th>4</th>\n",
       "      <td>GYPXEhQg3DFbCwwEAAADm</td>\n",
       "      <td>News of the World</td>\n",
       "      <td>Silver</td>\n",
       "      <td>Action/Adventure</td>\n",
       "      <td>tt6878306</td>\n",
       "      <td>2,250,430.00</td>\n",
       "      <td>38,000,000.00</td>\n",
       "      <td>1</td>\n",
       "      <td>0</td>\n",
       "      <td>0</td>\n",
       "      <td>2</td>\n",
       "      <td>60</td>\n",
       "      <td>15.77</td>\n",
       "    </tr>\n",
       "  </tbody>\n",
       "</table>\n",
       "</div>"
      ],
      "text/plain": [
       "                title_id              title home_territory_observed_medal  \\\n",
       "0  GYPXEhQg3DFbCwwEAAADm  News of the World                        Silver   \n",
       "1  GYPXEhQg3DFbCwwEAAADm  News of the World                        Silver   \n",
       "2  GYPXEhQg3DFbCwwEAAADm  News of the World                        Silver   \n",
       "3  GYPXEhQg3DFbCwwEAAADm  News of the World                        Silver   \n",
       "4  GYPXEhQg3DFbCwwEAAADm  News of the World                        Silver   \n",
       "\n",
       "       pillar_genres    imdb_id   area_gross        budget  \\\n",
       "0  Action/Adventure   tt6878306 2,250,430.00 38,000,000.00   \n",
       "1  Action/Adventure   tt6878306 2,250,430.00 38,000,000.00   \n",
       "2  Action/Adventure   tt6878306 2,250,430.00 38,000,000.00   \n",
       "3  Action/Adventure   tt6878306 2,250,430.00 38,000,000.00   \n",
       "4  Action/Adventure   tt6878306 2,250,430.00 38,000,000.00   \n",
       "\n",
       "   genre_Action/Adventure   genre_Comedy  genre_Drama  medal_number  \\\n",
       "0                        1             0            0             2   \n",
       "1                        1             0            0             2   \n",
       "2                        1             0            0             2   \n",
       "3                        1             0            0             2   \n",
       "4                        1             0            0             2   \n",
       "\n",
       "   days_from_theatrical2  pred  \n",
       "0                      0 17.41  \n",
       "1                     15 16.94  \n",
       "2                     30 16.50  \n",
       "3                     45 16.11  \n",
       "4                     60 15.77  "
      ]
     },
     "execution_count": 124,
     "metadata": {},
     "output_type": "execute_result"
    }
   ],
   "source": [
    "scoring_data.head()"
   ]
  },
  {
   "cell_type": "code",
   "execution_count": 125,
   "id": "6ce5488c",
   "metadata": {},
   "outputs": [],
   "source": [
    "scoring_data['pred'] = 2**(scoring_data['pred']) - 10000"
   ]
  },
  {
   "cell_type": "code",
   "execution_count": 126,
   "id": "8a6ea47a",
   "metadata": {},
   "outputs": [],
   "source": [
    "scoring_data['kpi'] = 'first_views'"
   ]
  },
  {
   "cell_type": "code",
   "execution_count": 132,
   "id": "ae5264cc",
   "metadata": {},
   "outputs": [],
   "source": [
    "scoring_data_45 = scoring_data[scoring_data['days_from_theatrical2'] == 45][['title_id', 'pred']].rename(columns = {'pred':'base'}).copy()\n",
    "scoring_data = scoring_data.merge(scoring_data_45, on = ['title_id'])\n",
    "scoring_data['multipler'] = scoring_data['pred']/scoring_data['base']"
   ]
  },
  {
   "cell_type": "code",
   "execution_count": 128,
   "id": "585376d6",
   "metadata": {},
   "outputs": [
    {
     "name": "stderr",
     "output_type": "stream",
     "text": [
      "/home/ec2-user/anaconda3/envs/python3/lib/python3.6/site-packages/boto3/compat.py:88: PythonDeprecationWarning:\n",
      "\n",
      "Boto3 will no longer support Python 3.6 starting May 30, 2022. To continue receiving service updates, bug fixes, and security updates please upgrade to Python 3.7 or later. More information can be found here: https://aws.amazon.com/blogs/developer/python-support-policy-updates-for-aws-sdks-and-tools/\n",
      "\n"
     ]
    }
   ],
   "source": [
    "write_to_sf(scoring_data[OUTPUT_COLS], 'title_level_first_views')"
   ]
  },
  {
   "cell_type": "code",
   "execution_count": 129,
   "id": "e3d7ddb7",
   "metadata": {},
   "outputs": [],
   "source": [
    "import plotly.express as px"
   ]
  },
  {
   "cell_type": "code",
   "execution_count": 133,
   "id": "af9cb2e9",
   "metadata": {},
   "outputs": [
    {
     "data": {
      "application/vnd.plotly.v1+json": {
       "config": {
        "plotlyServerURL": "https://plot.ly"
       },
       "data": [
        {
         "hovertemplate": "title=News of the World<br>days_from_theatrical2=%{x}<br>multipler=%{y}<extra></extra>",
         "legendgroup": "News of the World",
         "line": {
          "color": "#636efa",
          "dash": "solid"
         },
         "marker": {
          "symbol": "circle"
         },
         "mode": "lines",
         "name": "News of the World",
         "showlegend": true,
         "type": "scattergl",
         "x": [
          0,
          15,
          30,
          45,
          60,
          75,
          90,
          105,
          120,
          135,
          150,
          165,
          180,
          195
         ],
         "xaxis": "x",
         "y": [
          2.7006049277429396,
          1.8978687116569957,
          1.3611364923543083,
          1,
          0.7563224796773852,
          0.5928632268787754,
          0.4860307890461109,
          0.42020655375502197,
          0.38213511465515076,
          0.3628002179081026,
          0.35613221222587527,
          0.35744990011038147,
          0.3625641011381791,
          0.3680220340320726
         ],
         "yaxis": "y"
        },
        {
         "hovertemplate": "title=King Richard<br>days_from_theatrical2=%{x}<br>multipler=%{y}<extra></extra>",
         "legendgroup": "King Richard",
         "line": {
          "color": "#EF553B",
          "dash": "solid"
         },
         "marker": {
          "symbol": "circle"
         },
         "mode": "lines",
         "name": "King Richard",
         "showlegend": true,
         "type": "scattergl",
         "x": [
          0,
          15,
          30,
          45,
          60,
          75,
          90,
          105,
          120,
          135,
          150,
          165,
          180,
          195
         ],
         "xaxis": "x",
         "y": [
          2.60842972257208,
          1.8492029508072216,
          1.3415623809693522,
          1,
          0.769530147763517,
          0.6149306188890197,
          0.5138886510917428,
          0.45163218294879753,
          0.41562426998185253,
          0.39733735213075105,
          0.3910307618377262,
          0.3922770291652729,
          0.39711403322549155,
          0.40227613839591003
         ],
         "yaxis": "y"
        },
        {
         "hovertemplate": "title=The Last Duel<br>days_from_theatrical2=%{x}<br>multipler=%{y}<extra></extra>",
         "legendgroup": "The Last Duel",
         "line": {
          "color": "#00cc96",
          "dash": "solid"
         },
         "marker": {
          "symbol": "circle"
         },
         "mode": "lines",
         "name": "The Last Duel",
         "showlegend": true,
         "type": "scattergl",
         "x": [
          0,
          15,
          30,
          45,
          60,
          75,
          90,
          105,
          120,
          135,
          150,
          165,
          180,
          195
         ],
         "xaxis": "x",
         "y": [
          2.828645829002423,
          1.9654704909872647,
          1.388326959231352,
          1,
          0.7379756615482683,
          0.562209335127736,
          0.4473333350304389,
          0.3765531018624223,
          0.3356152113633642,
          0.3148245634510318,
          0.30765451438222624,
          0.30907141281326067,
          0.31457066912235254,
          0.32043953734599023
         ],
         "yaxis": "y"
        },
        {
         "hovertemplate": "title=Last Night in Soho<br>days_from_theatrical2=%{x}<br>multipler=%{y}<extra></extra>",
         "legendgroup": "Last Night in Soho",
         "line": {
          "color": "#ab63fa",
          "dash": "solid"
         },
         "marker": {
          "symbol": "circle"
         },
         "mode": "lines",
         "name": "Last Night in Soho",
         "showlegend": true,
         "type": "scattergl",
         "x": [
          0,
          15,
          30,
          45,
          60,
          75,
          90,
          105,
          120,
          135,
          150,
          165,
          180,
          195
         ],
         "xaxis": "x",
         "y": [
          2.820393679744644,
          1.9611136021522368,
          1.3865745520798032,
          1,
          0.7391581015351573,
          0.5641849576637609,
          0.44982735969983684,
          0.37936653723417635,
          0.3386133875839686,
          0.31791656184705075,
          0.3107788691340594,
          0.3121893735126469,
          0.3176638132699778,
          0.3235061969902804
         ],
         "yaxis": "y"
        },
        {
         "hovertemplate": "title=Antlers<br>days_from_theatrical2=%{x}<br>multipler=%{y}<extra></extra>",
         "legendgroup": "Antlers",
         "line": {
          "color": "#FFA15A",
          "dash": "solid"
         },
         "marker": {
          "symbol": "circle"
         },
         "mode": "lines",
         "name": "Antlers",
         "showlegend": true,
         "type": "scattergl",
         "x": [
          0,
          15,
          30,
          45,
          60,
          75,
          90,
          105,
          120,
          135,
          150,
          165,
          180,
          195
         ],
         "xaxis": "x",
         "y": [
          2.7759730456623,
          1.937660831409392,
          1.3771414899270635,
          1,
          0.7455230777784708,
          0.5748195696922525,
          0.46325248735701635,
          0.39451102617387135,
          0.3547523211695981,
          0.3345605324106458,
          0.3275970112736844,
          0.3289730969990048,
          0.33431395131931063,
          0.3400137711578024
         ],
         "yaxis": "y"
        },
        {
         "hovertemplate": "title=Halloween Kills<br>days_from_theatrical2=%{x}<br>multipler=%{y}<extra></extra>",
         "legendgroup": "Halloween Kills",
         "line": {
          "color": "#19d3f3",
          "dash": "solid"
         },
         "marker": {
          "symbol": "circle"
         },
         "mode": "lines",
         "name": "Halloween Kills",
         "showlegend": true,
         "type": "scattergl",
         "x": [
          0,
          15,
          30,
          45,
          60,
          75,
          90,
          105,
          120,
          135,
          150,
          165,
          180,
          195
         ],
         "xaxis": "x",
         "y": [
          2.6381887135683737,
          1.8649148110224703,
          1.34788193082428,
          1,
          0.7652660197376681,
          0.6078061072708738,
          0.5048946720248622,
          0.4414863415102332,
          0.4048122140716573,
          0.3861869536644312,
          0.37976367952683804,
          0.381033005156318,
          0.38595950293718545,
          0.39121711681347626
         ],
         "yaxis": "y"
        },
        {
         "hovertemplate": "title=Those Who Wish Me Dead<br>days_from_theatrical2=%{x}<br>multipler=%{y}<extra></extra>",
         "legendgroup": "Those Who Wish Me Dead",
         "line": {
          "color": "#FF6692",
          "dash": "solid"
         },
         "marker": {
          "symbol": "circle"
         },
         "mode": "lines",
         "name": "Those Who Wish Me Dead",
         "showlegend": true,
         "type": "scattergl",
         "x": [
          0,
          15,
          30,
          45,
          60,
          75,
          90,
          105,
          120,
          135,
          150,
          165,
          180,
          195
         ],
         "xaxis": "x",
         "y": [
          2.638486926808953,
          1.865072258724605,
          1.3479452586918625,
          1,
          0.7652232891411604,
          0.6077347129249632,
          0.5048045438466754,
          0.44138467058146813,
          0.40470386704367406,
          0.38607521612397805,
          0.37965077270388425,
          0.3809203293993611,
          0.3858477239919675,
          0.39110629495583854
         ],
         "yaxis": "y"
        },
        {
         "hovertemplate": "title=Space Jam: A New Legacy<br>days_from_theatrical2=%{x}<br>multipler=%{y}<extra></extra>",
         "legendgroup": "Space Jam: A New Legacy",
         "line": {
          "color": "#B6E880",
          "dash": "solid"
         },
         "marker": {
          "symbol": "circle"
         },
         "mode": "lines",
         "name": "Space Jam: A New Legacy",
         "showlegend": true,
         "type": "scattergl",
         "x": [
          0,
          15,
          30,
          45,
          60,
          75,
          90,
          105,
          120,
          135,
          150,
          165,
          180,
          195
         ],
         "xaxis": "x",
         "y": [
          2.5440071434733222,
          1.8151897492967484,
          1.3278817524679258,
          1,
          0.778761177305694,
          0.6303538371465488,
          0.5333589122951728,
          0.4735960080220469,
          0.43903032320392305,
          0.4214758529041204,
          0.4154218610344485,
          0.41661821150559775,
          0.4212614786108873,
          0.42621682552261947
         ],
         "yaxis": "y"
        },
        {
         "hovertemplate": "title=The Many Saints of Newark<br>days_from_theatrical2=%{x}<br>multipler=%{y}<extra></extra>",
         "legendgroup": "The Many Saints of Newark",
         "line": {
          "color": "#FF97FF",
          "dash": "solid"
         },
         "marker": {
          "symbol": "circle"
         },
         "mode": "lines",
         "name": "The Many Saints of Newark",
         "showlegend": true,
         "type": "scattergl",
         "x": [
          0,
          15,
          30,
          45,
          60,
          75,
          90,
          105,
          120,
          135,
          150,
          165,
          180,
          195
         ],
         "xaxis": "x",
         "y": [
          2.9912741780691294,
          2.051333411806401,
          1.4228623357795491,
          1,
          0.7146728519490186,
          0.5232749652591673,
          0.39818261055295034,
          0.3211076251239389,
          0.27652897410113975,
          0.2538893356995688,
          0.246081627208532,
          0.24762453574440993,
          0.2536128615936279,
          0.260003670334649
         ],
         "yaxis": "y"
        },
        {
         "hovertemplate": "title=Tom & Jerry<br>days_from_theatrical2=%{x}<br>multipler=%{y}<extra></extra>",
         "legendgroup": "Tom & Jerry",
         "line": {
          "color": "#FECB52",
          "dash": "solid"
         },
         "marker": {
          "symbol": "circle"
         },
         "mode": "lines",
         "name": "Tom & Jerry",
         "showlegend": true,
         "type": "scattergl",
         "x": [
          0,
          15,
          30,
          45,
          60,
          75,
          90,
          105,
          120,
          135,
          150,
          165,
          180,
          195
         ],
         "xaxis": "x",
         "y": [
          2.7236312051109377,
          1.910025899759526,
          1.3660262988608043,
          1,
          0.7530230736367703,
          0.5873505742269667,
          0.4790716197429014,
          0.41235612095220553,
          0.3737691926271702,
          0.3541725003930479,
          0.3474142095741462,
          0.3487497390197453,
          0.35393318659003076,
          0.35946502017338966
         ],
         "yaxis": "y"
        },
        {
         "hovertemplate": "title=Boogie<br>days_from_theatrical2=%{x}<br>multipler=%{y}<extra></extra>",
         "legendgroup": "Boogie",
         "line": {
          "color": "#636efa",
          "dash": "solid"
         },
         "marker": {
          "symbol": "circle"
         },
         "mode": "lines",
         "name": "Boogie",
         "showlegend": true,
         "type": "scattergl",
         "x": [
          0,
          15,
          30,
          45,
          60,
          75,
          90,
          105,
          120,
          135,
          150,
          165,
          180,
          195
         ],
         "xaxis": "x",
         "y": [
          3.0180764817749064,
          2.0654842292626845,
          1.4285540104239167,
          1,
          0.7108323838900306,
          0.5168583053607013,
          0.3900822230598445,
          0.311969817877021,
          0.26679114373502216,
          0.2438467786057556,
          0.23593397932585233,
          0.23749765521944657,
          0.2435665831926049,
          0.25004341142742054
         ],
         "yaxis": "y"
        },
        {
         "hovertemplate": "title=The King of Staten Island<br>days_from_theatrical2=%{x}<br>multipler=%{y}<extra></extra>",
         "legendgroup": "The King of Staten Island",
         "line": {
          "color": "#EF553B",
          "dash": "solid"
         },
         "marker": {
          "symbol": "circle"
         },
         "mode": "lines",
         "name": "The King of Staten Island",
         "showlegend": true,
         "type": "scattergl",
         "x": [
          0,
          15,
          30,
          45,
          60,
          75,
          90,
          105,
          120,
          135,
          150,
          165,
          180,
          195
         ],
         "xaxis": "x",
         "y": [
          2.9411018120586045,
          2.0248438980482337,
          1.4122078492620944,
          1,
          0.7218619865556022,
          0.5352865823397395,
          0.4133460685374829,
          0.3382130730271827,
          0.29475763066143557,
          0.2726884231109956,
          0.2650774385128461,
          0.26658147175338026,
          0.2724189150774261,
          0.2786487002894973
         ],
         "yaxis": "y"
        },
        {
         "hovertemplate": "title=Cry Macho<br>days_from_theatrical2=%{x}<br>multipler=%{y}<extra></extra>",
         "legendgroup": "Cry Macho",
         "line": {
          "color": "#00cc96",
          "dash": "solid"
         },
         "marker": {
          "symbol": "circle"
         },
         "mode": "lines",
         "name": "Cry Macho",
         "showlegend": true,
         "type": "scattergl",
         "x": [
          0,
          15,
          30,
          45,
          60,
          75,
          90,
          105,
          120,
          135,
          150,
          165,
          180,
          195
         ],
         "xaxis": "x",
         "y": [
          2.713131474082177,
          1.9044823547434258,
          1.3637966004913977,
          1,
          0.7545275667611929,
          0.5898642836370471,
          0.4822449249498007,
          0.41593583258217054,
          0.37758396171457603,
          0.35810664536370623,
          0.35138952358119835,
          0.35271691746977085,
          0.357868789372867,
          0.36336692504883905
         ],
         "yaxis": "y"
        },
        {
         "hovertemplate": "title=Death on the Nile<br>days_from_theatrical2=%{x}<br>multipler=%{y}<extra></extra>",
         "legendgroup": "Death on the Nile",
         "line": {
          "color": "#ab63fa",
          "dash": "solid"
         },
         "marker": {
          "symbol": "circle"
         },
         "mode": "lines",
         "name": "Death on the Nile",
         "showlegend": true,
         "type": "scattergl",
         "x": [
          0,
          15,
          30,
          45,
          60,
          75,
          90,
          105,
          120,
          135,
          150,
          165,
          180,
          195
         ],
         "xaxis": "x",
         "y": [
          2.696616458865427,
          1.895762918974566,
          1.3602895104146482,
          1,
          0.7568939823174758,
          0.5938180943626891,
          0.4872362131681078,
          0.4215663570097397,
          0.3835842077546142,
          0.3642946575972809,
          0.3576422905461694,
          0.3589568880261766,
          0.3640590945975912,
          0.36950422687264156
         ],
         "yaxis": "y"
        },
        {
         "hovertemplate": "title=In The Heights<br>days_from_theatrical2=%{x}<br>multipler=%{y}<extra></extra>",
         "legendgroup": "In The Heights",
         "line": {
          "color": "#FFA15A",
          "dash": "solid"
         },
         "marker": {
          "symbol": "circle"
         },
         "mode": "lines",
         "name": "In The Heights",
         "showlegend": true,
         "type": "scattergl",
         "x": [
          0,
          15,
          30,
          45,
          60,
          75,
          90,
          105,
          120,
          135,
          150,
          165,
          180,
          195
         ],
         "xaxis": "x",
         "y": [
          2.5740576938069237,
          1.8310555441515395,
          1.3342632171830728,
          1,
          0.7744552721126902,
          0.6231595241737089,
          0.5242768160412333,
          0.46335076419425514,
          0.42811233776620083,
          0.41021621004884495,
          0.4040443911417997,
          0.40526402582520327,
          0.4099976634527069,
          0.41504945480280964
         ],
         "yaxis": "y"
        },
        {
         "hovertemplate": "title=Belfast<br>days_from_theatrical2=%{x}<br>multipler=%{y}<extra></extra>",
         "legendgroup": "Belfast",
         "line": {
          "color": "#19d3f3",
          "dash": "solid"
         },
         "marker": {
          "symbol": "circle"
         },
         "mode": "lines",
         "name": "Belfast",
         "showlegend": true,
         "type": "scattergl",
         "x": [
          0,
          15,
          30,
          45,
          60,
          75,
          90,
          105,
          120,
          135,
          150,
          165,
          180,
          195
         ],
         "xaxis": "x",
         "y": [
          3.010204435445666,
          2.061328023444134,
          1.4268823210429125,
          1,
          0.7119603594110215,
          0.5187429285839198,
          0.3924613702529553,
          0.31465366336974476,
          0.269651220713099,
          0.24679635620827617,
          0.23891442291540949,
          0.2404719992735354,
          0.24651725377217237,
          0.2529688174085484
         ],
         "yaxis": "y"
        },
        {
         "hovertemplate": "title=DC League of Super-Pets<br>days_from_theatrical2=%{x}<br>multipler=%{y}<extra></extra>",
         "legendgroup": "DC League of Super-Pets",
         "line": {
          "color": "#FF6692",
          "dash": "solid"
         },
         "marker": {
          "symbol": "circle"
         },
         "mode": "lines",
         "name": "DC League of Super-Pets",
         "showlegend": true,
         "type": "scattergl",
         "x": [
          0,
          15,
          30,
          45,
          60,
          75,
          90,
          105,
          120,
          135,
          150,
          165,
          180,
          195
         ],
         "xaxis": "x",
         "y": [
          2.6715005458807997,
          1.8825024655525455,
          1.3549559537669094,
          1,
          0.7604928095917558,
          0.5998310204690072,
          0.49482692737133716,
          0.4301292169117611,
          0.39270933755015003,
          0.3737053408310933,
          0.36715145229651586,
          0.3684465890930297,
          0.37347326499538375,
          0.37883779009036256
         ],
         "yaxis": "y"
        },
        {
         "hovertemplate": "title=The King's Man<br>days_from_theatrical2=%{x}<br>multipler=%{y}<extra></extra>",
         "legendgroup": "The King's Man",
         "line": {
          "color": "#B6E880",
          "dash": "solid"
         },
         "marker": {
          "symbol": "circle"
         },
         "mode": "lines",
         "name": "The King's Man",
         "showlegend": true,
         "type": "scattergl",
         "x": [
          0,
          15,
          30,
          45,
          60,
          75,
          90,
          105,
          120,
          135,
          150,
          165,
          180,
          195
         ],
         "xaxis": "x",
         "y": [
          2.5985073409035664,
          1.843964229044195,
          1.3394552871622545,
          1,
          0.7709519132313419,
          0.6173061068041097,
          0.5168874655687294,
          0.45501505675369813,
          0.4192292761252256,
          0.4010551700282923,
          0.39478748500730765,
          0.3960260641282069,
          0.40083322877440325,
          0.4059634889863538
         ],
         "yaxis": "y"
        },
        {
         "hovertemplate": "title=Tenet<br>days_from_theatrical2=%{x}<br>multipler=%{y}<extra></extra>",
         "legendgroup": "Tenet",
         "line": {
          "color": "#FF97FF",
          "dash": "solid"
         },
         "marker": {
          "symbol": "circle"
         },
         "mode": "lines",
         "name": "Tenet",
         "showlegend": true,
         "type": "scattergl",
         "x": [
          0,
          15,
          30,
          45,
          60,
          75,
          90,
          105,
          120,
          135,
          150,
          165,
          180,
          195
         ],
         "xaxis": "x",
         "y": [
          2.5496965639352958,
          1.818193593715244,
          1.3290899445151478,
          1,
          0.7779459474732823,
          0.628991749897461,
          0.5316394141931041,
          0.47165629313414403,
          0.4369632392715713,
          0.41934408354402103,
          0.4132677836783237,
          0.41446854251045684,
          0.4191289193156523,
          0.42410252589168396
         ],
         "yaxis": "y"
        },
        {
         "hovertemplate": "title=Black Adam<br>days_from_theatrical2=%{x}<br>multipler=%{y}<extra></extra>",
         "legendgroup": "Black Adam",
         "line": {
          "color": "#FECB52",
          "dash": "solid"
         },
         "marker": {
          "symbol": "circle"
         },
         "mode": "lines",
         "name": "Black Adam",
         "showlegend": true,
         "type": "scattergl",
         "x": [
          0,
          15,
          30,
          45,
          60,
          75,
          90,
          105,
          120,
          135,
          150,
          165,
          180,
          195
         ],
         "xaxis": "x",
         "y": [
          2.51224516084832,
          1.7984203692050245,
          1.3211368519867588,
          1,
          0.7833123114582148,
          0.6379578790394778,
          0.5429582500848003,
          0.4844247367087091,
          0.4505701073317829,
          0.43337675244715845,
          0.4274472980742134,
          0.42861903825580616,
          0.4331667880769001,
          0.4380201978679559
         ],
         "yaxis": "y"
        },
        {
         "hovertemplate": "title=The Empty Man<br>days_from_theatrical2=%{x}<br>multipler=%{y}<extra></extra>",
         "legendgroup": "The Empty Man",
         "line": {
          "color": "#636efa",
          "dash": "solid"
         },
         "marker": {
          "symbol": "circle"
         },
         "mode": "lines",
         "name": "The Empty Man",
         "showlegend": true,
         "type": "scattergl",
         "x": [
          0,
          15,
          30,
          45,
          60,
          75,
          90,
          105,
          120,
          135,
          150,
          165,
          180,
          195
         ],
         "xaxis": "x",
         "y": [
          2.8364579840261044,
          1.9695950759816685,
          1.3899859302345259,
          1,
          0.736856267776388,
          0.5603390503040395,
          0.4449722886240304,
          0.37388967533114137,
          0.3327768941332672,
          0.3118974265260769,
          0.30469674630171106,
          0.30611969786234494,
          0.31164244753582787,
          0.31753638814234625
         ],
         "yaxis": "y"
        },
        {
         "hovertemplate": "title=The High Note<br>days_from_theatrical2=%{x}<br>multipler=%{y}<extra></extra>",
         "legendgroup": "The High Note",
         "line": {
          "color": "#EF553B",
          "dash": "solid"
         },
         "marker": {
          "symbol": "circle"
         },
         "mode": "lines",
         "name": "The High Note",
         "showlegend": true,
         "type": "scattergl",
         "x": [
          0,
          15,
          30,
          45,
          60,
          75,
          90,
          105,
          120,
          135,
          150,
          165,
          180,
          195
         ],
         "xaxis": "x",
         "y": [
          2.8954947380552536,
          2.000764722391499,
          1.4025228374975007,
          1,
          0.728396966268417,
          0.5462052364247162,
          0.4271297707113515,
          0.35376205926036686,
          0.3113276223686815,
          0.2897769409335098,
          0.2823447798961081,
          0.2838134751884317,
          0.28951376511433197,
          0.29559717867633095
         ],
         "yaxis": "y"
        },
        {
         "hovertemplate": "title=The Banshees of Inisherin<br>days_from_theatrical2=%{x}<br>multipler=%{y}<extra></extra>",
         "legendgroup": "The Banshees of Inisherin",
         "line": {
          "color": "#00cc96",
          "dash": "solid"
         },
         "marker": {
          "symbol": "circle"
         },
         "mode": "lines",
         "name": "The Banshees of Inisherin",
         "showlegend": true,
         "type": "scattergl",
         "x": [
          0,
          15,
          30,
          45,
          60,
          75,
          90,
          105,
          120,
          135,
          150,
          165,
          180,
          195
         ],
         "xaxis": "x",
         "y": [
          2.8904510870545987,
          1.9981018250000302,
          1.4014517795455206,
          1,
          0.7291196646148479,
          0.5474127219257008,
          0.42865409966209367,
          0.355481609608376,
          0.3131600849215052,
          0.29166674688792976,
          0.2842543618096488,
          0.28571914910564195,
          0.29140427134343866,
          0.29747149777799103
         ],
         "yaxis": "y"
        },
        {
         "hovertemplate": "title=The Forever Purge<br>days_from_theatrical2=%{x}<br>multipler=%{y}<extra></extra>",
         "legendgroup": "The Forever Purge",
         "line": {
          "color": "#ab63fa",
          "dash": "solid"
         },
         "marker": {
          "symbol": "circle"
         },
         "mode": "lines",
         "name": "The Forever Purge",
         "showlegend": true,
         "type": "scattergl",
         "x": [
          0,
          15,
          30,
          45,
          60,
          75,
          90,
          105,
          120,
          135,
          150,
          165,
          180,
          195
         ],
         "xaxis": "x",
         "y": [
          2.674272421525773,
          1.8839659332713699,
          1.355544582807869,
          1,
          0.7600956310508783,
          0.5991674139563025,
          0.49398919091952037,
          0.429184191229109,
          0.3917022578930042,
          0.3726667465472896,
          0.3661019895962749,
          0.36739927413850737,
          0.37243428585657107,
          0.3778077070278892
         ],
         "yaxis": "y"
        },
        {
         "hovertemplate": "title=Don't Worry Darling<br>days_from_theatrical2=%{x}<br>multipler=%{y}<extra></extra>",
         "legendgroup": "Don't Worry Darling",
         "line": {
          "color": "#FFA15A",
          "dash": "solid"
         },
         "marker": {
          "symbol": "circle"
         },
         "mode": "lines",
         "name": "Don't Worry Darling",
         "showlegend": true,
         "type": "scattergl",
         "x": [
          0,
          15,
          30,
          45,
          60,
          75,
          90,
          105,
          120,
          135,
          150,
          165,
          180,
          195
         ],
         "xaxis": "x",
         "y": [
          2.6294208055508,
          1.8602856169355642,
          1.346019998346549,
          1,
          0.7665223621422382,
          0.6099052060792268,
          0.50754457306419,
          0.4444756163987996,
          0.4079977760993921,
          0.38947220174707736,
          0.38308330623530656,
          0.384345838184502,
          0.38924596838083436,
          0.3944754424741574
         ],
         "yaxis": "y"
        },
        {
         "hovertemplate": "title=Free Guy<br>days_from_theatrical2=%{x}<br>multipler=%{y}<extra></extra>",
         "legendgroup": "Free Guy",
         "line": {
          "color": "#19d3f3",
          "dash": "solid"
         },
         "marker": {
          "symbol": "circle"
         },
         "mode": "lines",
         "name": "Free Guy",
         "showlegend": true,
         "type": "scattergl",
         "x": [
          0,
          15,
          30,
          45,
          60,
          75,
          90,
          105,
          120,
          135,
          150,
          165,
          180,
          195
         ],
         "xaxis": "x",
         "y": [
          2.585092326388278,
          1.8368815012435131,
          1.3366065059974468,
          1,
          0.7728741336241264,
          0.6205177555721615,
          0.5209418489901075,
          0.45958868662525626,
          0.4241032278997795,
          0.40608164277716574,
          0.39986655750557376,
          0.4010947422063418,
          0.40586156410161295,
          0.41094877007574465
         ],
         "yaxis": "y"
        },
        {
         "hovertemplate": "title=Hitman's Wife's Bodyguard<br>days_from_theatrical2=%{x}<br>multipler=%{y}<extra></extra>",
         "legendgroup": "Hitman's Wife's Bodyguard",
         "line": {
          "color": "#FF6692",
          "dash": "solid"
         },
         "marker": {
          "symbol": "circle"
         },
         "mode": "lines",
         "name": "Hitman's Wife's Bodyguard",
         "showlegend": true,
         "type": "scattergl",
         "x": [
          0,
          15,
          30,
          45,
          60,
          75,
          90,
          105,
          120,
          135,
          150,
          165,
          180,
          195
         ],
         "xaxis": "x",
         "y": [
          2.758793639981449,
          1.9285906172790754,
          1.3734933114423968,
          1,
          0.7479846930005808,
          0.5789324401649525,
          0.46844457250177673,
          0.4003680636677941,
          0.3609939539839745,
          0.34099748515476824,
          0.3341013237983346,
          0.3354640983222359,
          0.3407532893004234,
          0.3463979734387698
         ],
         "yaxis": "y"
        },
        {
         "hovertemplate": "title=Judas and the Black Messiah<br>days_from_theatrical2=%{x}<br>multipler=%{y}<extra></extra>",
         "legendgroup": "Judas and the Black Messiah",
         "line": {
          "color": "#B6E880",
          "dash": "solid"
         },
         "marker": {
          "symbol": "circle"
         },
         "mode": "lines",
         "name": "Judas and the Black Messiah",
         "showlegend": true,
         "type": "scattergl",
         "x": [
          0,
          15,
          30,
          45,
          60,
          75,
          90,
          105,
          120,
          135,
          150,
          165,
          180,
          195
         ],
         "xaxis": "x",
         "y": [
          2.622380164314154,
          1.8565683682240839,
          1.3445248642100744,
          1,
          0.7675312066833975,
          0.6115907850793962,
          0.5096724469530466,
          0.4468760079181765,
          0.41055578643998547,
          0.39211026011594685,
          0.38574897068422836,
          0.38700604729955734,
          0.39188500429213063,
          0.39709188210411117
         ],
         "yaxis": "y"
        },
        {
         "hovertemplate": "title=F9: The Fast Saga<br>days_from_theatrical2=%{x}<br>multipler=%{y}<extra></extra>",
         "legendgroup": "F9: The Fast Saga",
         "line": {
          "color": "#FF97FF",
          "dash": "solid"
         },
         "marker": {
          "symbol": "circle"
         },
         "mode": "lines",
         "name": "F9: The Fast Saga",
         "showlegend": true,
         "type": "scattergl",
         "x": [
          0,
          15,
          30,
          45,
          60,
          75,
          90,
          105,
          120,
          135,
          150,
          165,
          180,
          195
         ],
         "xaxis": "x",
         "y": [
          2.5496184444711596,
          1.818152348966699,
          1.3290733552481155,
          1,
          0.7779571411120862,
          0.629010452246269,
          0.5316630240266915,
          0.47168292668823464,
          0.4369916216859486,
          0.41937335413162796,
          0.4132973605693067,
          0.4144980588717614,
          0.41915820074958526,
          0.4241315566084845
         ],
         "yaxis": "y"
        },
        {
         "hovertemplate": "title=Old<br>days_from_theatrical2=%{x}<br>multipler=%{y}<extra></extra>",
         "legendgroup": "Old",
         "line": {
          "color": "#FECB52",
          "dash": "solid"
         },
         "marker": {
          "symbol": "circle"
         },
         "mode": "lines",
         "name": "Old",
         "showlegend": true,
         "type": "scattergl",
         "x": [
          0,
          15,
          30,
          45,
          60,
          75,
          90,
          105,
          120,
          135,
          150,
          165,
          180,
          195
         ],
         "xaxis": "x",
         "y": [
          2.641683548537164,
          1.8667599797149066,
          1.3486240858194802,
          1,
          0.7647652492734417,
          0.6069694192144226,
          0.5038384375391092,
          0.4402948346660764,
          0.4035424683640773,
          0.3848774736998429,
          0.37844049645046285,
          0.3797125299997074,
          0.38464953773988336,
          0.3899183679630297
         ],
         "yaxis": "y"
        },
        {
         "hovertemplate": "title=Amsterdam<br>days_from_theatrical2=%{x}<br>multipler=%{y}<extra></extra>",
         "legendgroup": "Amsterdam",
         "line": {
          "color": "#636efa",
          "dash": "solid"
         },
         "marker": {
          "symbol": "circle"
         },
         "mode": "lines",
         "name": "Amsterdam",
         "showlegend": true,
         "type": "scattergl",
         "x": [
          0,
          15,
          30,
          45,
          60,
          75,
          90,
          105,
          120,
          135,
          150,
          165,
          180,
          195
         ],
         "xaxis": "x",
         "y": [
          2.8713783929415917,
          1.9880320110110732,
          1.3974015467493246,
          1,
          0.7318525667319165,
          0.5519788589568358,
          0.4344183882303005,
          0.3619841328391122,
          0.3200895885170225,
          0.2988130960102033,
          0.2914754942226479,
          0.2929255033314523,
          0.29855326857219205,
          0.3045592829739685
         ],
         "yaxis": "y"
        },
        {
         "hovertemplate": "title=Profile<br>days_from_theatrical2=%{x}<br>multipler=%{y}<extra></extra>",
         "legendgroup": "Profile",
         "line": {
          "color": "#EF553B",
          "dash": "solid"
         },
         "marker": {
          "symbol": "circle"
         },
         "mode": "lines",
         "name": "Profile",
         "showlegend": true,
         "type": "scattergl",
         "x": [
          0,
          15,
          30,
          45,
          60,
          75,
          90,
          105,
          120,
          135,
          150,
          165,
          180,
          195
         ],
         "xaxis": "x",
         "y": [
          3.2010511369163392,
          2.16208939322382,
          1.467410081031224,
          1,
          0.6846141779332102,
          0.4730528868052447,
          0.33478228972823015,
          0.2495876007322462,
          0.20031267335329844,
          0.17528799197493175,
          0.16665775619917755,
          0.16836320722367845,
          0.17498239184617356,
          0.1820464601699426
         ],
         "yaxis": "y"
        },
        {
         "hovertemplate": "title=All My Life<br>days_from_theatrical2=%{x}<br>multipler=%{y}<extra></extra>",
         "legendgroup": "All My Life",
         "line": {
          "color": "#00cc96",
          "dash": "solid"
         },
         "marker": {
          "symbol": "circle"
         },
         "mode": "lines",
         "name": "All My Life",
         "showlegend": true,
         "type": "scattergl",
         "x": [
          0,
          15,
          30,
          45,
          60,
          75,
          90,
          105,
          120,
          135,
          150,
          165,
          180,
          195
         ],
         "xaxis": "x",
         "y": [
          3.0918009254250083,
          2.104408537994167,
          1.4442099611660477,
          1,
          0.7002685019896878,
          0.49920815534749663,
          0.3678006845833298,
          0.28683467416488634,
          0.24000553105104752,
          0.2162229615378872,
          0.20802109158603754,
          0.20964189174441825,
          0.21593253001568188,
          0.22264596997584077
         ],
         "yaxis": "y"
        },
        {
         "hovertemplate": "title=Dear Evan Hansen<br>days_from_theatrical2=%{x}<br>multipler=%{y}<extra></extra>",
         "legendgroup": "Dear Evan Hansen",
         "line": {
          "color": "#ab63fa",
          "dash": "solid"
         },
         "marker": {
          "symbol": "circle"
         },
         "mode": "lines",
         "name": "Dear Evan Hansen",
         "showlegend": true,
         "type": "scattergl",
         "x": [
          0,
          15,
          30,
          45,
          60,
          75,
          90,
          105,
          120,
          135,
          150,
          165,
          180,
          195
         ],
         "xaxis": "x",
         "y": [
          2.8674689984789006,
          1.9859679672626962,
          1.3965713568677993,
          1,
          0.7324127388995302,
          0.5529147954700313,
          0.4355999139065551,
          0.3633169769649135,
          0.32150995224880385,
          0.30027790730123033,
          0.29295563409709025,
          0.29440261407100543,
          0.3000186226545387,
          0.30601209021943093
         ],
         "yaxis": "y"
        },
        {
         "hovertemplate": "title=Nobody<br>days_from_theatrical2=%{x}<br>multipler=%{y}<extra></extra>",
         "legendgroup": "Nobody",
         "line": {
          "color": "#FFA15A",
          "dash": "solid"
         },
         "marker": {
          "symbol": "circle"
         },
         "mode": "lines",
         "name": "Nobody",
         "showlegend": true,
         "type": "scattergl",
         "x": [
          0,
          15,
          30,
          45,
          60,
          75,
          90,
          105,
          120,
          135,
          150,
          165,
          180,
          195
         ],
         "xaxis": "x",
         "y": [
          2.635566872482793,
          1.8635305570788985,
          1.3473251627720928,
          1,
          0.7656417000170778,
          0.6084337944554821,
          0.5056870639390718,
          0.44238021536283906,
          0.40576478307537733,
          0.3871693314884421,
          0.3807563374876235,
          0.38202363162338127,
          0.3869422447849854,
          0.3921914441068603
         ],
         "yaxis": "y"
        },
        {
         "hovertemplate": "title=Mortal Kombat<br>days_from_theatrical2=%{x}<br>multipler=%{y}<extra></extra>",
         "legendgroup": "Mortal Kombat",
         "line": {
          "color": "#19d3f3",
          "dash": "solid"
         },
         "marker": {
          "symbol": "circle"
         },
         "mode": "lines",
         "name": "Mortal Kombat",
         "showlegend": true,
         "type": "scattergl",
         "x": [
          0,
          15,
          30,
          45,
          60,
          75,
          90,
          105,
          120,
          135,
          150,
          165,
          180,
          195
         ],
         "xaxis": "x",
         "y": [
          2.522839184335382,
          1.8040136978285097,
          1.3233865740824806,
          1,
          0.7817943072871951,
          0.6354215953521092,
          0.539756447124192,
          0.48081287760671393,
          0.4467210798472713,
          0.42940727702855325,
          0.42343628390215815,
          0.42461623270185467,
          0.4291958417542857,
          0.43408325207557835
         ],
         "yaxis": "y"
        },
        {
         "hovertemplate": "title=Malignant<br>days_from_theatrical2=%{x}<br>multipler=%{y}<extra></extra>",
         "legendgroup": "Malignant",
         "line": {
          "color": "#FF6692",
          "dash": "solid"
         },
         "marker": {
          "symbol": "circle"
         },
         "mode": "lines",
         "name": "Malignant",
         "showlegend": true,
         "type": "scattergl",
         "x": [
          0,
          15,
          30,
          45,
          60,
          75,
          90,
          105,
          120,
          135,
          150,
          165,
          180,
          195
         ],
         "xaxis": "x",
         "y": [
          2.6324678012848013,
          1.8618943398608483,
          1.3466670512473402,
          1,
          0.7660857619932075,
          0.6091757338834105,
          0.5066236878146915,
          0.4434367930198419,
          0.406890739633061,
          0.38833052269742463,
          0.3819296800340629,
          0.38319457290159886,
          0.388103866277727,
          0.3933431194196537
         ],
         "yaxis": "y"
        },
        {
         "hovertemplate": "title=The Conjuring: The Devil Made Me Do It<br>days_from_theatrical2=%{x}<br>multipler=%{y}<extra></extra>",
         "legendgroup": "The Conjuring: The Devil Made Me Do It",
         "line": {
          "color": "#B6E880",
          "dash": "solid"
         },
         "marker": {
          "symbol": "circle"
         },
         "mode": "lines",
         "name": "The Conjuring: The Devil Made Me Do It",
         "showlegend": true,
         "type": "scattergl",
         "x": [
          0,
          15,
          30,
          45,
          60,
          75,
          90,
          105,
          120,
          135,
          150,
          165,
          180,
          195
         ],
         "xaxis": "x",
         "y": [
          2.623845340725711,
          1.85734193769665,
          1.3448360056523436,
          1,
          0.7673212634161671,
          0.6112400115478593,
          0.5092296306634617,
          0.4463764799754118,
          0.4100234575958405,
          0.39156127306143784,
          0.385194238730079,
          0.38645245061508393,
          0.39133581380840826,
          0.3965473939674186
         ],
         "yaxis": "y"
        },
        {
         "hovertemplate": "title=Let Him Go<br>days_from_theatrical2=%{x}<br>multipler=%{y}<extra></extra>",
         "legendgroup": "Let Him Go",
         "line": {
          "color": "#FF97FF",
          "dash": "solid"
         },
         "marker": {
          "symbol": "circle"
         },
         "mode": "lines",
         "name": "Let Him Go",
         "showlegend": true,
         "type": "scattergl",
         "x": [
          0,
          15,
          30,
          45,
          60,
          75,
          90,
          105,
          120,
          135,
          150,
          165,
          180,
          195
         ],
         "xaxis": "x",
         "y": [
          2.720592860496011,
          1.9084217443672438,
          1.3653810830914621,
          1,
          0.7534584341779392,
          0.5880779752840714,
          0.4799898903881689,
          0.4133919948735594,
          0.3748730859633113,
          0.3553109379542795,
          0.3485645603662679,
          0.3498977355967139,
          0.3550720460035706,
          0.36059412830328685
         ],
         "yaxis": "y"
        },
        {
         "hovertemplate": "title=See How They Run<br>days_from_theatrical2=%{x}<br>multipler=%{y}<extra></extra>",
         "legendgroup": "See How They Run",
         "line": {
          "color": "#FECB52",
          "dash": "solid"
         },
         "marker": {
          "symbol": "circle"
         },
         "mode": "lines",
         "name": "See How They Run",
         "showlegend": true,
         "type": "scattergl",
         "x": [
          0,
          15,
          30,
          45,
          60,
          75,
          90,
          105,
          120,
          135,
          150,
          165,
          180,
          195
         ],
         "xaxis": "x",
         "y": [
          2.8665528846043613,
          1.985484286443686,
          1.396376813064091,
          1,
          0.7325440076931454,
          0.553134119570889,
          0.43587678851603145,
          0.3636293110125278,
          0.3218427953358848,
          0.3006211660744511,
          0.29330248491713007,
          0.2947487550541308,
          0.30036200862358514,
          0.3063525360064455
         ],
         "yaxis": "y"
        },
        {
         "hovertemplate": "title=Greenland<br>days_from_theatrical2=%{x}<br>multipler=%{y}<extra></extra>",
         "legendgroup": "Greenland",
         "line": {
          "color": "#636efa",
          "dash": "solid"
         },
         "marker": {
          "symbol": "circle"
         },
         "mode": "lines",
         "name": "Greenland",
         "showlegend": true,
         "type": "scattergl",
         "x": [
          0,
          15,
          30,
          45,
          60,
          75,
          90,
          105,
          120,
          135,
          150,
          165,
          180,
          195
         ],
         "xaxis": "x",
         "y": [
          2.727963860379652,
          1.912313412597284,
          1.3669463714189825,
          1,
          0.7524022529658052,
          0.586313306101742,
          0.4777621731022003,
          0.41087897297465054,
          0.3721950495048214,
          0.35254909748031904,
          0.34577381848886785,
          0.3471127050265588,
          0.35230918211926116,
          0.35785492095558225
         ],
         "yaxis": "y"
        },
        {
         "hovertemplate": "title=Kajillionaire<br>days_from_theatrical2=%{x}<br>multipler=%{y}<extra></extra>",
         "legendgroup": "Kajillionaire",
         "line": {
          "color": "#EF553B",
          "dash": "solid"
         },
         "marker": {
          "symbol": "circle"
         },
         "mode": "lines",
         "name": "Kajillionaire",
         "showlegend": true,
         "type": "scattergl",
         "x": [
          0,
          15,
          30,
          45,
          60,
          75,
          90,
          105,
          120,
          135,
          150,
          165,
          180,
          195
         ],
         "xaxis": "x",
         "y": [
          3.056613492339435,
          2.085830622162186,
          1.4367376400218645,
          1,
          0.7053104645883677,
          0.5076322741579103,
          0.37843528696713563,
          0.29883125418202056,
          0.25278985206195626,
          0.22940734335915988,
          0.22134344196186984,
          0.22293697767246068,
          0.22912179735910412,
          0.23572230653483742
         ],
         "yaxis": "y"
        },
        {
         "hovertemplate": "title=The Night House<br>days_from_theatrical2=%{x}<br>multipler=%{y}<extra></extra>",
         "legendgroup": "The Night House",
         "line": {
          "color": "#00cc96",
          "dash": "solid"
         },
         "marker": {
          "symbol": "circle"
         },
         "mode": "lines",
         "name": "The Night House",
         "showlegend": true,
         "type": "scattergl",
         "x": [
          0,
          15,
          30,
          45,
          60,
          75,
          90,
          105,
          120,
          135,
          150,
          165,
          180,
          195
         ],
         "xaxis": "x",
         "y": [
          2.803028301376565,
          1.9519451999863773,
          1.3828868808694301,
          1,
          0.7416463645474346,
          0.5683423513049725,
          0.4550756508650322,
          0.3852869790752709,
          0.3449225881156922,
          0.32442319671066594,
          0.31735359296986526,
          0.31875064204892245,
          0.3241728591915535,
          0.3299595103497166
         ],
         "yaxis": "y"
        },
        {
         "hovertemplate": "title=Blue Bayou<br>days_from_theatrical2=%{x}<br>multipler=%{y}<extra></extra>",
         "legendgroup": "Blue Bayou",
         "line": {
          "color": "#ab63fa",
          "dash": "solid"
         },
         "marker": {
          "symbol": "circle"
         },
         "mode": "lines",
         "name": "Blue Bayou",
         "showlegend": true,
         "type": "scattergl",
         "x": [
          0,
          15,
          30,
          45,
          60,
          75,
          90,
          105,
          120,
          135,
          150,
          165,
          180,
          195
         ],
         "xaxis": "x",
         "y": [
          3.0519645646761684,
          2.0833761269272792,
          1.4357504045963216,
          1,
          0.7059766035290843,
          0.5087452601174456,
          0.3798403197551096,
          0.3004162300616358,
          0.2544789034758267,
          0.23114925039804277,
          0.22310357726504224,
          0.22469351082468197,
          0.2308643498681756,
          0.23744993874419548
         ],
         "yaxis": "y"
        },
        {
         "hovertemplate": "title=The Suicide Squad<br>days_from_theatrical2=%{x}<br>multipler=%{y}<extra></extra>",
         "legendgroup": "The Suicide Squad",
         "line": {
          "color": "#FFA15A",
          "dash": "solid"
         },
         "marker": {
          "symbol": "circle"
         },
         "mode": "lines",
         "name": "The Suicide Squad",
         "showlegend": true,
         "type": "scattergl",
         "x": [
          0,
          15,
          30,
          45,
          60,
          75,
          90,
          105,
          120,
          135,
          150,
          165,
          180,
          195
         ],
         "xaxis": "x",
         "y": [
          2.5001323587885413,
          1.7920251707656054,
          1.3185646056189582,
          1,
          0.7850479394820631,
          0.6408577689925307,
          0.5466190693706573,
          0.4885543985339532,
          0.45497093843239755,
          0.4379152991178755,
          0.4320333385700069,
          0.43319569333099955,
          0.4377070165231139,
          0.4425215514057646
         ],
         "yaxis": "y"
        },
        {
         "hovertemplate": "title=The Batman<br>days_from_theatrical2=%{x}<br>multipler=%{y}<extra></extra>",
         "legendgroup": "The Batman",
         "line": {
          "color": "#19d3f3",
          "dash": "solid"
         },
         "marker": {
          "symbol": "circle"
         },
         "mode": "lines",
         "name": "The Batman",
         "showlegend": true,
         "type": "scattergl",
         "x": [
          0,
          15,
          30,
          45,
          60,
          75,
          90,
          105,
          120,
          135,
          150,
          165,
          180,
          195
         ],
         "xaxis": "x",
         "y": [
          2.4948531909999736,
          1.7892379275302035,
          1.3174435338717194,
          1,
          0.7858043847299273,
          0.6421216388679748,
          0.5482145779208912,
          0.4903542444802437,
          0.45688896909736176,
          0.43989335087441556,
          0.43403208973781954,
          0.43519035401587763,
          0.43968580125415474,
          0.4444833931401943
         ],
         "yaxis": "y"
        },
        {
         "hovertemplate": "title=Voyagers<br>days_from_theatrical2=%{x}<br>multipler=%{y}<extra></extra>",
         "legendgroup": "Voyagers",
         "line": {
          "color": "#FF6692",
          "dash": "solid"
         },
         "marker": {
          "symbol": "circle"
         },
         "mode": "lines",
         "name": "Voyagers",
         "showlegend": true,
         "type": "scattergl",
         "x": [
          0,
          15,
          30,
          45,
          60,
          75,
          90,
          105,
          120,
          135,
          150,
          165,
          180,
          195
         ],
         "xaxis": "x",
         "y": [
          3.1669052389632806,
          2.1440613768966146,
          1.4601589378562956,
          1,
          0.6895069002855034,
          0.4812276547840616,
          0.3451021117762195,
          0.26122908637441894,
          0.21271858314432712,
          0.188082120922854,
          0.17958576988297306,
          0.18126476347735357,
          0.1877812617065789,
          0.1947357419557816
         ],
         "yaxis": "y"
        },
        {
         "hovertemplate": "title=Nightmare Alley<br>days_from_theatrical2=%{x}<br>multipler=%{y}<extra></extra>",
         "legendgroup": "Nightmare Alley",
         "line": {
          "color": "#B6E880",
          "dash": "solid"
         },
         "marker": {
          "symbol": "circle"
         },
         "mode": "lines",
         "name": "Nightmare Alley",
         "showlegend": true,
         "type": "scattergl",
         "x": [
          0,
          15,
          30,
          45,
          60,
          75,
          90,
          105,
          120,
          135,
          150,
          165,
          180,
          195
         ],
         "xaxis": "x",
         "y": [
          2.8876244260881316,
          1.9966094322644512,
          1.4008515164215862,
          1,
          0.7295246932748644,
          0.5480894444294526,
          0.4295083937329083,
          0.35644531345068403,
          0.31418706921718914,
          0.2927258686877653,
          0.28532456683703394,
          0.2867871639377334,
          0.2924637856048308,
          0.2985219401346643
         ],
         "yaxis": "y"
        },
        {
         "hovertemplate": "title=The Little Things<br>days_from_theatrical2=%{x}<br>multipler=%{y}<extra></extra>",
         "legendgroup": "The Little Things",
         "line": {
          "color": "#FF97FF",
          "dash": "solid"
         },
         "marker": {
          "symbol": "circle"
         },
         "mode": "lines",
         "name": "The Little Things",
         "showlegend": true,
         "type": "scattergl",
         "x": [
          0,
          15,
          30,
          45,
          60,
          75,
          90,
          105,
          120,
          135,
          150,
          165,
          180,
          195
         ],
         "xaxis": "x",
         "y": [
          2.6027825624694403,
          1.846221418598792,
          1.3403631632333821,
          1,
          0.7703393221627096,
          0.6162825887110382,
          0.5155953769601259,
          0.45355748985811395,
          0.41767599985303744,
          0.39945328695378424,
          0.39316883895556193,
          0.3944107306669225,
          0.3992307521161126,
          0.4043747332529132
         ],
         "yaxis": "y"
        },
        {
         "hovertemplate": "title=The Card Counter<br>days_from_theatrical2=%{x}<br>multipler=%{y}<extra></extra>",
         "legendgroup": "The Card Counter",
         "line": {
          "color": "#FECB52",
          "dash": "solid"
         },
         "marker": {
          "symbol": "circle"
         },
         "mode": "lines",
         "name": "The Card Counter",
         "showlegend": true,
         "type": "scattergl",
         "x": [
          0,
          15,
          30,
          45,
          60,
          75,
          90,
          105,
          120,
          135,
          150,
          165,
          180,
          195
         ],
         "xaxis": "x",
         "y": [
          2.6932253064284732,
          1.893972491568459,
          1.3595693731998635,
          1,
          0.7573798962433925,
          0.5946299600922419,
          0.4882611119637145,
          0.42272251498981384,
          0.3848162834574796,
          0.36556528874659494,
          0.3589262182721016,
          0.360238188169179,
          0.36533019658404614,
          0.3707644452716541
         ],
         "yaxis": "y"
        },
        {
         "hovertemplate": "title=Freaky<br>days_from_theatrical2=%{x}<br>multipler=%{y}<extra></extra>",
         "legendgroup": "Freaky",
         "line": {
          "color": "#636efa",
          "dash": "solid"
         },
         "marker": {
          "symbol": "circle"
         },
         "mode": "lines",
         "name": "Freaky",
         "showlegend": true,
         "type": "scattergl",
         "x": [
          0,
          15,
          30,
          45,
          60,
          75,
          90,
          105,
          120,
          135,
          150,
          165,
          180,
          195
         ],
         "xaxis": "x",
         "y": [
          2.810697458728464,
          1.9559942864724333,
          1.384515485220856,
          1,
          0.7405474607303366,
          0.5665063011290183,
          0.45275782225679223,
          0.3826723052622574,
          0.34213622489245293,
          0.3215496395935851,
          0.3144499653855254,
          0.31585295679461006,
          0.3212982372671018,
          0.32710950187045607
         ],
         "yaxis": "y"
        },
        {
         "hovertemplate": "title=Godzilla vs. Kong<br>days_from_theatrical2=%{x}<br>multipler=%{y}<extra></extra>",
         "legendgroup": "Godzilla vs. Kong",
         "line": {
          "color": "#EF553B",
          "dash": "solid"
         },
         "marker": {
          "symbol": "circle"
         },
         "mode": "lines",
         "name": "Godzilla vs. Kong",
         "showlegend": true,
         "type": "scattergl",
         "x": [
          0,
          15,
          30,
          45,
          60,
          75,
          90,
          105,
          120,
          135,
          150,
          165,
          180,
          195
         ],
         "xaxis": "x",
         "y": [
          2.4930231346212093,
          1.7882717123109868,
          1.3170549073714304,
          1,
          0.7860666111842609,
          0.6425597672283729,
          0.5487676708924861,
          0.4909781722822595,
          0.4575538663678501,
          0.4405790548299544,
          0.43472496927313786,
          0.4358818155598219,
          0.4403717592998659,
          0.44516347779065385
         ],
         "yaxis": "y"
        },
        {
         "hovertemplate": "title=Fatale<br>days_from_theatrical2=%{x}<br>multipler=%{y}<extra></extra>",
         "legendgroup": "Fatale",
         "line": {
          "color": "#00cc96",
          "dash": "solid"
         },
         "marker": {
          "symbol": "circle"
         },
         "mode": "lines",
         "name": "Fatale",
         "showlegend": true,
         "type": "scattergl",
         "x": [
          0,
          15,
          30,
          45,
          60,
          75,
          90,
          105,
          120,
          135,
          150,
          165,
          180,
          195
         ],
         "xaxis": "x",
         "y": [
          2.845596419542825,
          1.974419897543751,
          1.3919265470669697,
          1,
          0.7355468329570394,
          0.5581512446079853,
          0.44221040406444695,
          0.37077407514964655,
          0.32945671181422403,
          0.3084733454682598,
          0.30123683379417965,
          0.3026668661326987,
          0.30821709767192823,
          0.31414036723486194
         ],
         "yaxis": "y"
        },
        {
         "hovertemplate": "title=The Matrix: Resurrections<br>days_from_theatrical2=%{x}<br>multipler=%{y}<extra></extra>",
         "legendgroup": "The Matrix: Resurrections",
         "line": {
          "color": "#ab63fa",
          "dash": "solid"
         },
         "marker": {
          "symbol": "circle"
         },
         "mode": "lines",
         "name": "The Matrix: Resurrections",
         "showlegend": true,
         "type": "scattergl",
         "x": [
          0,
          15,
          30,
          45,
          60,
          75,
          90,
          105,
          120,
          135,
          150,
          165,
          180,
          195
         ],
         "xaxis": "x",
         "y": [
          2.516730391569323,
          1.800788437333751,
          1.3220893251117938,
          1,
          0.7826696284444573,
          0.6368840832785321,
          0.5416026909793237,
          0.4828955706252083,
          0.4489405303971446,
          0.431696181027287,
          0.425749140239387,
          0.42692435573384274,
          0.43148559391498376,
          0.4363533986356834
         ],
         "yaxis": "y"
        },
        {
         "hovertemplate": "title=The Eyes of Tammy Faye<br>days_from_theatrical2=%{x}<br>multipler=%{y}<extra></extra>",
         "legendgroup": "The Eyes of Tammy Faye",
         "line": {
          "color": "#FFA15A",
          "dash": "solid"
         },
         "marker": {
          "symbol": "circle"
         },
         "mode": "lines",
         "name": "The Eyes of Tammy Faye",
         "showlegend": true,
         "type": "scattergl",
         "x": [
          0,
          15,
          30,
          45,
          60,
          75,
          90,
          105,
          120,
          135,
          150,
          165,
          180,
          195
         ],
         "xaxis": "x",
         "y": [
          3.0390909791003247,
          2.076579257468168,
          1.433016600017117,
          1,
          0.7078212432567501,
          0.5118272869917316,
          0.3837310685778495,
          0.3048052685883274,
          0.2591561429369349,
          0.23597285509884294,
          0.22797765879345233,
          0.22955761745094597,
          0.235689741973795,
          0.24223401427767682
         ],
         "yaxis": "y"
        },
        {
         "hovertemplate": "title=Reminiscence<br>days_from_theatrical2=%{x}<br>multipler=%{y}<extra></extra>",
         "legendgroup": "Reminiscence",
         "line": {
          "color": "#19d3f3",
          "dash": "solid"
         },
         "marker": {
          "symbol": "circle"
         },
         "mode": "lines",
         "name": "Reminiscence",
         "showlegend": true,
         "type": "scattergl",
         "x": [
          0,
          15,
          30,
          45,
          60,
          75,
          90,
          105,
          120,
          135,
          150,
          165,
          180,
          195
         ],
         "xaxis": "x",
         "y": [
          2.680907399895972,
          1.8874690040810194,
          1.356953571325055,
          1,
          0.7591449134266585,
          0.5975789534977318,
          0.4919839194176023,
          0.4269221038317025,
          0.3892916332481568,
          0.3701806860268811,
          0.36358991358411274,
          0.3648923391385049,
          0.3699473041171094,
          0.37534201963263847
         ],
         "yaxis": "y"
        },
        {
         "hovertemplate": "title=The Personal History of David Copperfield<br>days_from_theatrical2=%{x}<br>multipler=%{y}<extra></extra>",
         "legendgroup": "The Personal History of David Copperfield",
         "line": {
          "color": "#FF6692",
          "dash": "solid"
         },
         "marker": {
          "symbol": "circle"
         },
         "mode": "lines",
         "name": "The Personal History of David Copperfield",
         "showlegend": true,
         "type": "scattergl",
         "x": [
          0,
          15,
          30,
          45,
          60,
          75,
          90,
          105,
          120,
          135,
          150,
          165,
          180,
          195
         ],
         "xaxis": "x",
         "y": [
          3.0684807303595676,
          2.092096170108236,
          1.4392577389834804,
          1,
          0.7036100231238928,
          0.5047911739619988,
          0.37484868383438635,
          0.2947853134012689,
          0.24847823944749609,
          0.2249608070960329,
          0.21685037472070104,
          0.21845310558032768,
          0.22467361341528214,
          0.23131220938453917
         ],
         "yaxis": "y"
        },
        {
         "hovertemplate": "title=Wolf<br>days_from_theatrical2=%{x}<br>multipler=%{y}<extra></extra>",
         "legendgroup": "Wolf",
         "line": {
          "color": "#B6E880",
          "dash": "solid"
         },
         "marker": {
          "symbol": "circle"
         },
         "mode": "lines",
         "name": "Wolf",
         "showlegend": true,
         "type": "scattergl",
         "x": [
          0,
          15,
          30,
          45,
          60,
          75,
          90,
          105,
          120,
          135,
          150,
          165,
          180,
          195
         ],
         "xaxis": "x",
         "y": [
          3.065530013345086,
          2.0905382794770637,
          1.438631131606802,
          1,
          0.704032827617478,
          0.505497596355626,
          0.3757404710278389,
          0.2957913121249059,
          0.2495502958670066,
          0.2260664114653782,
          0.21796754873652815,
          0.21956799327791762,
          0.2257796274704746,
          0.23240875338869862
         ],
         "yaxis": "y"
        },
        {
         "hovertemplate": "title=The French Dispatch<br>days_from_theatrical2=%{x}<br>multipler=%{y}<extra></extra>",
         "legendgroup": "The French Dispatch",
         "line": {
          "color": "#FF97FF",
          "dash": "solid"
         },
         "marker": {
          "symbol": "circle"
         },
         "mode": "lines",
         "name": "The French Dispatch",
         "showlegend": true,
         "type": "scattergl",
         "x": [
          0,
          15,
          30,
          45,
          60,
          75,
          90,
          105,
          120,
          135,
          150,
          165,
          180,
          195
         ],
         "xaxis": "x",
         "y": [
          2.8856281655145897,
          1.9955554661844659,
          1.400427595186505,
          1,
          0.72981073491719,
          0.5485673632423207,
          0.43011171814712507,
          0.357125905855572,
          0.31491235190352673,
          0.2934738477049423,
          0.28608037311416434,
          0.2875414234426967,
          0.2932120417884389,
          0.29926378950616034
         ],
         "yaxis": "y"
        },
        {
         "hovertemplate": "title=Barbarian<br>days_from_theatrical2=%{x}<br>multipler=%{y}<extra></extra>",
         "legendgroup": "Barbarian",
         "line": {
          "color": "#FECB52",
          "dash": "solid"
         },
         "marker": {
          "symbol": "circle"
         },
         "mode": "lines",
         "name": "Barbarian",
         "showlegend": true,
         "type": "scattergl",
         "x": [
          0,
          15,
          30,
          45,
          60,
          75,
          90,
          105,
          120,
          135,
          150,
          165,
          180,
          195
         ],
         "xaxis": "x",
         "y": [
          2.6879756732005573,
          1.8912008417007353,
          1.3584545733429725,
          1,
          0.7581321095215708,
          0.595886759186268,
          0.489847694363855,
          0.424512291610522,
          0.38672358360671155,
          0.3675322741964902,
          0.36091378732940804,
          0.3622216896279558,
          0.36729791090777886,
          0.3727153113871951
         ],
         "yaxis": "y"
        },
        {
         "hovertemplate": "title=Fantastic Beasts: The Secrets of Dumbledore<br>days_from_theatrical2=%{x}<br>multipler=%{y}<extra></extra>",
         "legendgroup": "Fantastic Beasts: The Secrets of Dumbledore",
         "line": {
          "color": "#636efa",
          "dash": "solid"
         },
         "marker": {
          "symbol": "circle"
         },
         "mode": "lines",
         "name": "Fantastic Beasts: The Secrets of Dumbledore",
         "showlegend": true,
         "type": "scattergl",
         "x": [
          0,
          15,
          30,
          45,
          60,
          75,
          90,
          105,
          120,
          135,
          150,
          165,
          180,
          195
         ],
         "xaxis": "x",
         "y": [
          2.4955325106655777,
          1.7895965880650575,
          1.3175877926100166,
          1,
          0.7857070458777808,
          0.6419590049651424,
          0.5480092689823949,
          0.49012264154672414,
          0.45664215823585225,
          0.4396388165402886,
          0.4337748918177447,
          0.43493368245632225,
          0.43943117260137415,
          0.444230944700519
         ],
         "yaxis": "y"
        },
        {
         "hovertemplate": "title=Wonder Woman 1984<br>days_from_theatrical2=%{x}<br>multipler=%{y}<extra></extra>",
         "legendgroup": "Wonder Woman 1984",
         "line": {
          "color": "#EF553B",
          "dash": "solid"
         },
         "marker": {
          "symbol": "circle"
         },
         "mode": "lines",
         "name": "Wonder Woman 1984",
         "showlegend": true,
         "type": "scattergl",
         "x": [
          0,
          15,
          30,
          45,
          60,
          75,
          90,
          105,
          120,
          135,
          150,
          165,
          180,
          195
         ],
         "xaxis": "x",
         "y": [
          2.5006404826175666,
          1.7922934450016095,
          1.3186725096090646,
          1,
          0.7849751310639184,
          0.6407361205762996,
          0.5464655004851311,
          0.48838116202196336,
          0.4547863265532683,
          0.43772491016400855,
          0.43184095728239685,
          0.4330037057554177,
          0.43751655701990577,
          0.4423327226785899
         ],
         "yaxis": "y"
        },
        {
         "hovertemplate": "title=Irresistible<br>days_from_theatrical2=%{x}<br>multipler=%{y}<extra></extra>",
         "legendgroup": "Irresistible",
         "line": {
          "color": "#00cc96",
          "dash": "solid"
         },
         "marker": {
          "symbol": "circle"
         },
         "mode": "lines",
         "name": "Irresistible",
         "showlegend": true,
         "type": "scattergl",
         "x": [
          0,
          15,
          30,
          45,
          60,
          75,
          90,
          105,
          120,
          135,
          150,
          165,
          180,
          195
         ],
         "xaxis": "x",
         "y": [
          2.8954947380552536,
          2.000764722391499,
          1.4025228374975007,
          1,
          0.728396966268417,
          0.5462052364247162,
          0.4271297707113515,
          0.35376205926036686,
          0.3113276223686815,
          0.2897769409335098,
          0.2823447798961081,
          0.2838134751884317,
          0.28951376511433197,
          0.29559717867633095
         ],
         "yaxis": "y"
        },
        {
         "hovertemplate": "title=ELVIS<br>days_from_theatrical2=%{x}<br>multipler=%{y}<extra></extra>",
         "legendgroup": "ELVIS",
         "line": {
          "color": "#ab63fa",
          "dash": "solid"
         },
         "marker": {
          "symbol": "circle"
         },
         "mode": "lines",
         "name": "ELVIS",
         "showlegend": true,
         "type": "scattergl",
         "x": [
          0,
          15,
          30,
          45,
          60,
          75,
          90,
          105,
          120,
          135,
          150,
          165,
          180,
          195
         ],
         "xaxis": "x",
         "y": [
          2.5474616114196875,
          1.817013605404576,
          1.3286153352164833,
          1,
          0.7782661909808478,
          0.6295268132390045,
          0.5323148778250332,
          0.4724182636542129,
          0.43777524366911463,
          0.4201814980620556,
          0.41411396135812056,
          0.4153129884712612,
          0.4199666441407796,
          0.4249330778451758
         ],
         "yaxis": "y"
        },
        {
         "hovertemplate": "title=Dune<br>days_from_theatrical2=%{x}<br>multipler=%{y}<extra></extra>",
         "legendgroup": "Dune",
         "line": {
          "color": "#FFA15A",
          "dash": "solid"
         },
         "marker": {
          "symbol": "circle"
         },
         "mode": "lines",
         "name": "Dune",
         "showlegend": true,
         "type": "scattergl",
         "x": [
          0,
          15,
          30,
          45,
          60,
          75,
          90,
          105,
          120,
          135,
          150,
          165,
          180,
          195
         ],
         "xaxis": "x",
         "y": [
          2.5109599130350873,
          1.7977417966692155,
          1.3208639197615812,
          1,
          0.7834964729851042,
          0.638265576399874,
          0.5433466870425387,
          0.48486292093760125,
          0.451037064400887,
          0.4338583220422865,
          0.42793390707595613,
          0.42910465140281245,
          0.43364853611944953,
          0.4384978210275274
         ],
         "yaxis": "y"
        },
        {
         "hovertemplate": "title=The Menu<br>days_from_theatrical2=%{x}<br>multipler=%{y}<extra></extra>",
         "legendgroup": "The Menu",
         "line": {
          "color": "#19d3f3",
          "dash": "solid"
         },
         "marker": {
          "symbol": "circle"
         },
         "mode": "lines",
         "name": "The Menu",
         "showlegend": true,
         "type": "scattergl",
         "x": [
          0,
          15,
          30,
          45,
          60,
          75,
          90,
          105,
          120,
          135,
          150,
          165,
          180,
          195
         ],
         "xaxis": "x",
         "y": [
          2.6101338586265603,
          1.8501026838485422,
          1.3419242673235388,
          1,
          0.7692859642725255,
          0.6145226367393338,
          0.5133736146779365,
          0.45105118562261926,
          0.41500512216524643,
          0.3966988292705245,
          0.39038555712640693,
          0.3916331448778781,
          0.39647527375822345,
          0.40164284819435775
         ],
         "yaxis": "y"
        },
        {
         "hovertemplate": "title=West Side Story (2021)<br>days_from_theatrical2=%{x}<br>multipler=%{y}<extra></extra>",
         "legendgroup": "West Side Story (2021)",
         "line": {
          "color": "#FF6692",
          "dash": "solid"
         },
         "marker": {
          "symbol": "circle"
         },
         "mode": "lines",
         "name": "West Side Story (2021)",
         "showlegend": true,
         "type": "scattergl",
         "x": [
          0,
          15,
          30,
          45,
          60,
          75,
          90,
          105,
          120,
          135,
          150,
          165,
          180,
          195
         ],
         "xaxis": "x",
         "y": [
          2.731450310034574,
          1.9141541540939455,
          1.3676867457285065,
          1,
          0.7519026840225539,
          0.5854786255483725,
          0.4767084728870957,
          0.4096903249661641,
          0.3709283503549151,
          0.3512427594095847,
          0.3444538101848358,
          0.3457953981450582,
          0.35100235998005297,
          0.35655928825134875
         ],
         "yaxis": "y"
        },
        {
         "hovertemplate": "title=Moonfall<br>days_from_theatrical2=%{x}<br>multipler=%{y}<extra></extra>",
         "legendgroup": "Moonfall",
         "line": {
          "color": "#B6E880",
          "dash": "solid"
         },
         "marker": {
          "symbol": "circle"
         },
         "mode": "lines",
         "name": "Moonfall",
         "showlegend": true,
         "type": "scattergl",
         "x": [
          0,
          15,
          30,
          45,
          60,
          75,
          90,
          105,
          120,
          135,
          150,
          165,
          180,
          195
         ],
         "xaxis": "x",
         "y": [
          2.619687087459528,
          1.8551465039178001,
          1.343952968696276,
          1,
          0.7679170942456828,
          0.6122355266078202,
          0.5104863682603589,
          0.44779416844157177,
          0.411534236869514,
          0.39311932927535587,
          0.38676859929308754,
          0.38802358921874136,
          0.3928944473659019,
          0.39809268199891074
         ],
         "yaxis": "y"
        },
        {
         "hovertemplate": "title=The New Mutants<br>days_from_theatrical2=%{x}<br>multipler=%{y}<extra></extra>",
         "legendgroup": "The New Mutants",
         "line": {
          "color": "#FF97FF",
          "dash": "solid"
         },
         "marker": {
          "symbol": "circle"
         },
         "mode": "lines",
         "name": "The New Mutants",
         "showlegend": true,
         "type": "scattergl",
         "x": [
          0,
          15,
          30,
          45,
          60,
          75,
          90,
          105,
          120,
          135,
          150,
          165,
          180,
          195
         ],
         "xaxis": "x",
         "y": [
          2.67242360355782,
          1.8829898124922906,
          1.3551519721403023,
          1,
          0.7603605458295019,
          0.5996100339730271,
          0.4945479541552871,
          0.42981451548821953,
          0.39237397163624793,
          0.3733594802840246,
          0.36680197247624985,
          0.3680978244899773,
          0.37312727628839254,
          0.37849476385088865
         ],
         "yaxis": "y"
        },
        {
         "hovertemplate": "title=The Bob's Burgers Movie<br>days_from_theatrical2=%{x}<br>multipler=%{y}<extra></extra>",
         "legendgroup": "The Bob's Burgers Movie",
         "line": {
          "color": "#FECB52",
          "dash": "solid"
         },
         "marker": {
          "symbol": "circle"
         },
         "mode": "lines",
         "name": "The Bob's Burgers Movie",
         "showlegend": true,
         "type": "scattergl",
         "x": [
          0,
          15,
          30,
          45,
          60,
          75,
          90,
          105,
          120,
          135,
          150,
          165,
          180,
          195
         ],
         "xaxis": "x",
         "y": [
          2.7030793928766004,
          1.8991751554908076,
          1.361661963993397,
          1,
          0.7559679167109637,
          0.5922708225329552,
          0.48528293816579576,
          0.41936292532372016,
          0.3812360903778728,
          0.36187306039006967,
          0.35519535242643496,
          0.3565149576126448,
          0.3616366000584494,
          0.36710247451738554
         ],
         "yaxis": "y"
        },
        {
         "hovertemplate": "title=Half Brothers<br>days_from_theatrical2=%{x}<br>multipler=%{y}<extra></extra>",
         "legendgroup": "Half Brothers",
         "line": {
          "color": "#636efa",
          "dash": "solid"
         },
         "marker": {
          "symbol": "circle"
         },
         "mode": "lines",
         "name": "Half Brothers",
         "showlegend": true,
         "type": "scattergl",
         "x": [
          0,
          15,
          30,
          45,
          60,
          75,
          90,
          105,
          120,
          135,
          150,
          165,
          180,
          195
         ],
         "xaxis": "x",
         "y": [
          3.2621559273097285,
          2.194350901191693,
          1.4803861516686303,
          1,
          0.6758585501210211,
          0.45842397048425687,
          0.31631475479895343,
          0.2287549214742371,
          0.17811204127554772,
          0.15239263368903355,
          0.1435228084102105,
          0.14527560555295121,
          0.15207854959936296,
          0.159338728048432
         ],
         "yaxis": "y"
        },
        {
         "hovertemplate": "title=Promising Young Woman<br>days_from_theatrical2=%{x}<br>multipler=%{y}<extra></extra>",
         "legendgroup": "Promising Young Woman",
         "line": {
          "color": "#EF553B",
          "dash": "solid"
         },
         "marker": {
          "symbol": "circle"
         },
         "mode": "lines",
         "name": "Promising Young Woman",
         "showlegend": true,
         "type": "scattergl",
         "x": [
          0,
          15,
          30,
          45,
          60,
          75,
          90,
          105,
          120,
          135,
          150,
          165,
          180,
          195
         ],
         "xaxis": "x",
         "y": [
          3.0364660329141544,
          2.0751933641240434,
          1.4324591725730178,
          1,
          0.708197368462077,
          0.512455717559244,
          0.38452439893817886,
          0.30570020107421014,
          0.26010984008781163,
          0.23695639637321422,
          0.22897149237957656,
          0.23054941713740865,
          0.23667364770307558,
          0.24320949548701057
         ],
         "yaxis": "y"
        },
        {
         "hovertemplate": "title=Ron's Gone Wrong<br>days_from_theatrical2=%{x}<br>multipler=%{y}<extra></extra>",
         "legendgroup": "Ron's Gone Wrong",
         "line": {
          "color": "#00cc96",
          "dash": "solid"
         },
         "marker": {
          "symbol": "circle"
         },
         "mode": "lines",
         "name": "Ron's Gone Wrong",
         "showlegend": true,
         "type": "scattergl",
         "x": [
          0,
          15,
          30,
          45,
          60,
          75,
          90,
          105,
          120,
          135,
          150,
          165,
          180,
          195
         ],
         "xaxis": "x",
         "y": [
          2.939330981128494,
          2.023908952100565,
          1.4118317997398198,
          1,
          0.7221157266706204,
          0.5357105317114433,
          0.41388126196250347,
          0.3388168088807854,
          0.2954010101035114,
          0.27335193587894446,
          0.26574789463989723,
          0.2672505557789954,
          0.27308267371251976,
          0.27930677560789346
         ],
         "yaxis": "y"
        }
       ],
       "layout": {
        "autosize": true,
        "legend": {
         "title": {
          "text": "title"
         },
         "tracegroupgap": 0
        },
        "template": {
         "data": {
          "bar": [
           {
            "error_x": {
             "color": "#2a3f5f"
            },
            "error_y": {
             "color": "#2a3f5f"
            },
            "marker": {
             "line": {
              "color": "#E5ECF6",
              "width": 0.5
             },
             "pattern": {
              "fillmode": "overlay",
              "size": 10,
              "solidity": 0.2
             }
            },
            "type": "bar"
           }
          ],
          "barpolar": [
           {
            "marker": {
             "line": {
              "color": "#E5ECF6",
              "width": 0.5
             },
             "pattern": {
              "fillmode": "overlay",
              "size": 10,
              "solidity": 0.2
             }
            },
            "type": "barpolar"
           }
          ],
          "carpet": [
           {
            "aaxis": {
             "endlinecolor": "#2a3f5f",
             "gridcolor": "white",
             "linecolor": "white",
             "minorgridcolor": "white",
             "startlinecolor": "#2a3f5f"
            },
            "baxis": {
             "endlinecolor": "#2a3f5f",
             "gridcolor": "white",
             "linecolor": "white",
             "minorgridcolor": "white",
             "startlinecolor": "#2a3f5f"
            },
            "type": "carpet"
           }
          ],
          "choropleth": [
           {
            "colorbar": {
             "outlinewidth": 0,
             "ticks": ""
            },
            "type": "choropleth"
           }
          ],
          "contour": [
           {
            "colorbar": {
             "outlinewidth": 0,
             "ticks": ""
            },
            "colorscale": [
             [
              0,
              "#0d0887"
             ],
             [
              0.1111111111111111,
              "#46039f"
             ],
             [
              0.2222222222222222,
              "#7201a8"
             ],
             [
              0.3333333333333333,
              "#9c179e"
             ],
             [
              0.4444444444444444,
              "#bd3786"
             ],
             [
              0.5555555555555556,
              "#d8576b"
             ],
             [
              0.6666666666666666,
              "#ed7953"
             ],
             [
              0.7777777777777778,
              "#fb9f3a"
             ],
             [
              0.8888888888888888,
              "#fdca26"
             ],
             [
              1,
              "#f0f921"
             ]
            ],
            "type": "contour"
           }
          ],
          "contourcarpet": [
           {
            "colorbar": {
             "outlinewidth": 0,
             "ticks": ""
            },
            "type": "contourcarpet"
           }
          ],
          "heatmap": [
           {
            "colorbar": {
             "outlinewidth": 0,
             "ticks": ""
            },
            "colorscale": [
             [
              0,
              "#0d0887"
             ],
             [
              0.1111111111111111,
              "#46039f"
             ],
             [
              0.2222222222222222,
              "#7201a8"
             ],
             [
              0.3333333333333333,
              "#9c179e"
             ],
             [
              0.4444444444444444,
              "#bd3786"
             ],
             [
              0.5555555555555556,
              "#d8576b"
             ],
             [
              0.6666666666666666,
              "#ed7953"
             ],
             [
              0.7777777777777778,
              "#fb9f3a"
             ],
             [
              0.8888888888888888,
              "#fdca26"
             ],
             [
              1,
              "#f0f921"
             ]
            ],
            "type": "heatmap"
           }
          ],
          "heatmapgl": [
           {
            "colorbar": {
             "outlinewidth": 0,
             "ticks": ""
            },
            "colorscale": [
             [
              0,
              "#0d0887"
             ],
             [
              0.1111111111111111,
              "#46039f"
             ],
             [
              0.2222222222222222,
              "#7201a8"
             ],
             [
              0.3333333333333333,
              "#9c179e"
             ],
             [
              0.4444444444444444,
              "#bd3786"
             ],
             [
              0.5555555555555556,
              "#d8576b"
             ],
             [
              0.6666666666666666,
              "#ed7953"
             ],
             [
              0.7777777777777778,
              "#fb9f3a"
             ],
             [
              0.8888888888888888,
              "#fdca26"
             ],
             [
              1,
              "#f0f921"
             ]
            ],
            "type": "heatmapgl"
           }
          ],
          "histogram": [
           {
            "marker": {
             "pattern": {
              "fillmode": "overlay",
              "size": 10,
              "solidity": 0.2
             }
            },
            "type": "histogram"
           }
          ],
          "histogram2d": [
           {
            "colorbar": {
             "outlinewidth": 0,
             "ticks": ""
            },
            "colorscale": [
             [
              0,
              "#0d0887"
             ],
             [
              0.1111111111111111,
              "#46039f"
             ],
             [
              0.2222222222222222,
              "#7201a8"
             ],
             [
              0.3333333333333333,
              "#9c179e"
             ],
             [
              0.4444444444444444,
              "#bd3786"
             ],
             [
              0.5555555555555556,
              "#d8576b"
             ],
             [
              0.6666666666666666,
              "#ed7953"
             ],
             [
              0.7777777777777778,
              "#fb9f3a"
             ],
             [
              0.8888888888888888,
              "#fdca26"
             ],
             [
              1,
              "#f0f921"
             ]
            ],
            "type": "histogram2d"
           }
          ],
          "histogram2dcontour": [
           {
            "colorbar": {
             "outlinewidth": 0,
             "ticks": ""
            },
            "colorscale": [
             [
              0,
              "#0d0887"
             ],
             [
              0.1111111111111111,
              "#46039f"
             ],
             [
              0.2222222222222222,
              "#7201a8"
             ],
             [
              0.3333333333333333,
              "#9c179e"
             ],
             [
              0.4444444444444444,
              "#bd3786"
             ],
             [
              0.5555555555555556,
              "#d8576b"
             ],
             [
              0.6666666666666666,
              "#ed7953"
             ],
             [
              0.7777777777777778,
              "#fb9f3a"
             ],
             [
              0.8888888888888888,
              "#fdca26"
             ],
             [
              1,
              "#f0f921"
             ]
            ],
            "type": "histogram2dcontour"
           }
          ],
          "mesh3d": [
           {
            "colorbar": {
             "outlinewidth": 0,
             "ticks": ""
            },
            "type": "mesh3d"
           }
          ],
          "parcoords": [
           {
            "line": {
             "colorbar": {
              "outlinewidth": 0,
              "ticks": ""
             }
            },
            "type": "parcoords"
           }
          ],
          "pie": [
           {
            "automargin": true,
            "type": "pie"
           }
          ],
          "scatter": [
           {
            "marker": {
             "colorbar": {
              "outlinewidth": 0,
              "ticks": ""
             }
            },
            "type": "scatter"
           }
          ],
          "scatter3d": [
           {
            "line": {
             "colorbar": {
              "outlinewidth": 0,
              "ticks": ""
             }
            },
            "marker": {
             "colorbar": {
              "outlinewidth": 0,
              "ticks": ""
             }
            },
            "type": "scatter3d"
           }
          ],
          "scattercarpet": [
           {
            "marker": {
             "colorbar": {
              "outlinewidth": 0,
              "ticks": ""
             }
            },
            "type": "scattercarpet"
           }
          ],
          "scattergeo": [
           {
            "marker": {
             "colorbar": {
              "outlinewidth": 0,
              "ticks": ""
             }
            },
            "type": "scattergeo"
           }
          ],
          "scattergl": [
           {
            "marker": {
             "colorbar": {
              "outlinewidth": 0,
              "ticks": ""
             }
            },
            "type": "scattergl"
           }
          ],
          "scattermapbox": [
           {
            "marker": {
             "colorbar": {
              "outlinewidth": 0,
              "ticks": ""
             }
            },
            "type": "scattermapbox"
           }
          ],
          "scatterpolar": [
           {
            "marker": {
             "colorbar": {
              "outlinewidth": 0,
              "ticks": ""
             }
            },
            "type": "scatterpolar"
           }
          ],
          "scatterpolargl": [
           {
            "marker": {
             "colorbar": {
              "outlinewidth": 0,
              "ticks": ""
             }
            },
            "type": "scatterpolargl"
           }
          ],
          "scatterternary": [
           {
            "marker": {
             "colorbar": {
              "outlinewidth": 0,
              "ticks": ""
             }
            },
            "type": "scatterternary"
           }
          ],
          "surface": [
           {
            "colorbar": {
             "outlinewidth": 0,
             "ticks": ""
            },
            "colorscale": [
             [
              0,
              "#0d0887"
             ],
             [
              0.1111111111111111,
              "#46039f"
             ],
             [
              0.2222222222222222,
              "#7201a8"
             ],
             [
              0.3333333333333333,
              "#9c179e"
             ],
             [
              0.4444444444444444,
              "#bd3786"
             ],
             [
              0.5555555555555556,
              "#d8576b"
             ],
             [
              0.6666666666666666,
              "#ed7953"
             ],
             [
              0.7777777777777778,
              "#fb9f3a"
             ],
             [
              0.8888888888888888,
              "#fdca26"
             ],
             [
              1,
              "#f0f921"
             ]
            ],
            "type": "surface"
           }
          ],
          "table": [
           {
            "cells": {
             "fill": {
              "color": "#EBF0F8"
             },
             "line": {
              "color": "white"
             }
            },
            "header": {
             "fill": {
              "color": "#C8D4E3"
             },
             "line": {
              "color": "white"
             }
            },
            "type": "table"
           }
          ]
         },
         "layout": {
          "annotationdefaults": {
           "arrowcolor": "#2a3f5f",
           "arrowhead": 0,
           "arrowwidth": 1
          },
          "autotypenumbers": "strict",
          "coloraxis": {
           "colorbar": {
            "outlinewidth": 0,
            "ticks": ""
           }
          },
          "colorscale": {
           "diverging": [
            [
             0,
             "#8e0152"
            ],
            [
             0.1,
             "#c51b7d"
            ],
            [
             0.2,
             "#de77ae"
            ],
            [
             0.3,
             "#f1b6da"
            ],
            [
             0.4,
             "#fde0ef"
            ],
            [
             0.5,
             "#f7f7f7"
            ],
            [
             0.6,
             "#e6f5d0"
            ],
            [
             0.7,
             "#b8e186"
            ],
            [
             0.8,
             "#7fbc41"
            ],
            [
             0.9,
             "#4d9221"
            ],
            [
             1,
             "#276419"
            ]
           ],
           "sequential": [
            [
             0,
             "#0d0887"
            ],
            [
             0.1111111111111111,
             "#46039f"
            ],
            [
             0.2222222222222222,
             "#7201a8"
            ],
            [
             0.3333333333333333,
             "#9c179e"
            ],
            [
             0.4444444444444444,
             "#bd3786"
            ],
            [
             0.5555555555555556,
             "#d8576b"
            ],
            [
             0.6666666666666666,
             "#ed7953"
            ],
            [
             0.7777777777777778,
             "#fb9f3a"
            ],
            [
             0.8888888888888888,
             "#fdca26"
            ],
            [
             1,
             "#f0f921"
            ]
           ],
           "sequentialminus": [
            [
             0,
             "#0d0887"
            ],
            [
             0.1111111111111111,
             "#46039f"
            ],
            [
             0.2222222222222222,
             "#7201a8"
            ],
            [
             0.3333333333333333,
             "#9c179e"
            ],
            [
             0.4444444444444444,
             "#bd3786"
            ],
            [
             0.5555555555555556,
             "#d8576b"
            ],
            [
             0.6666666666666666,
             "#ed7953"
            ],
            [
             0.7777777777777778,
             "#fb9f3a"
            ],
            [
             0.8888888888888888,
             "#fdca26"
            ],
            [
             1,
             "#f0f921"
            ]
           ]
          },
          "colorway": [
           "#636efa",
           "#EF553B",
           "#00cc96",
           "#ab63fa",
           "#FFA15A",
           "#19d3f3",
           "#FF6692",
           "#B6E880",
           "#FF97FF",
           "#FECB52"
          ],
          "font": {
           "color": "#2a3f5f"
          },
          "geo": {
           "bgcolor": "white",
           "lakecolor": "white",
           "landcolor": "#E5ECF6",
           "showlakes": true,
           "showland": true,
           "subunitcolor": "white"
          },
          "hoverlabel": {
           "align": "left"
          },
          "hovermode": "closest",
          "mapbox": {
           "style": "light"
          },
          "paper_bgcolor": "white",
          "plot_bgcolor": "#E5ECF6",
          "polar": {
           "angularaxis": {
            "gridcolor": "white",
            "linecolor": "white",
            "ticks": ""
           },
           "bgcolor": "#E5ECF6",
           "radialaxis": {
            "gridcolor": "white",
            "linecolor": "white",
            "ticks": ""
           }
          },
          "scene": {
           "xaxis": {
            "backgroundcolor": "#E5ECF6",
            "gridcolor": "white",
            "gridwidth": 2,
            "linecolor": "white",
            "showbackground": true,
            "ticks": "",
            "zerolinecolor": "white"
           },
           "yaxis": {
            "backgroundcolor": "#E5ECF6",
            "gridcolor": "white",
            "gridwidth": 2,
            "linecolor": "white",
            "showbackground": true,
            "ticks": "",
            "zerolinecolor": "white"
           },
           "zaxis": {
            "backgroundcolor": "#E5ECF6",
            "gridcolor": "white",
            "gridwidth": 2,
            "linecolor": "white",
            "showbackground": true,
            "ticks": "",
            "zerolinecolor": "white"
           }
          },
          "shapedefaults": {
           "line": {
            "color": "#2a3f5f"
           }
          },
          "ternary": {
           "aaxis": {
            "gridcolor": "white",
            "linecolor": "white",
            "ticks": ""
           },
           "baxis": {
            "gridcolor": "white",
            "linecolor": "white",
            "ticks": ""
           },
           "bgcolor": "#E5ECF6",
           "caxis": {
            "gridcolor": "white",
            "linecolor": "white",
            "ticks": ""
           }
          },
          "title": {
           "x": 0.05
          },
          "xaxis": {
           "automargin": true,
           "gridcolor": "white",
           "linecolor": "white",
           "ticks": "",
           "title": {
            "standoff": 15
           },
           "zerolinecolor": "white",
           "zerolinewidth": 2
          },
          "yaxis": {
           "automargin": true,
           "gridcolor": "white",
           "linecolor": "white",
           "ticks": "",
           "title": {
            "standoff": 15
           },
           "zerolinecolor": "white",
           "zerolinewidth": 2
          }
         }
        },
        "title": {
         "text": "Release day V.S. cumulative viewership"
        },
        "xaxis": {
         "anchor": "y",
         "autorange": true,
         "domain": [
          0,
          1
         ],
         "range": [
          0,
          195
         ],
         "title": {
          "text": "days_from_theatrical2"
         },
         "type": "linear"
        },
        "yaxis": {
         "anchor": "x",
         "autorange": true,
         "domain": [
          0,
          1
         ],
         "range": [
          -0.029734587084207148,
          3.435413322804146
         ],
         "title": {
          "text": "multipler"
         },
         "type": "linear"
        }
       }
      },
      "image/png": "[encoded data removed]",
      "text/html": [
       "<div>                            <div id=\"39624502-7a70-4311-a03d-15ba8b16e4d1\" class=\"plotly-graph-div\" style=\"height:525px; width:100%;\"></div>            <script type=\"text/javascript\">                require([\"plotly\"], function(Plotly) {                    window.PLOTLYENV=window.PLOTLYENV || {};                                    if (document.getElementById(\"39624502-7a70-4311-a03d-15ba8b16e4d1\")) {                    Plotly.newPlot(                        \"39624502-7a70-4311-a03d-15ba8b16e4d1\",                        [{\"hovertemplate\":\"title=News of the World<br>days_from_theatrical2=%{x}<br>multipler=%{y}<extra></extra>\",\"legendgroup\":\"News of the World\",\"line\":{\"color\":\"#636efa\",\"dash\":\"solid\"},\"marker\":{\"symbol\":\"circle\"},\"mode\":\"lines\",\"name\":\"News of the World\",\"showlegend\":true,\"x\":[0,15,30,45,60,75,90,105,120,135,150,165,180,195],\"xaxis\":\"x\",\"y\":[2.7006049277429396,1.8978687116569957,1.3611364923543083,1.0,0.7563224796773852,0.5928632268787754,0.4860307890461109,0.42020655375502197,0.38213511465515076,0.3628002179081026,0.35613221222587527,0.35744990011038147,0.3625641011381791,0.3680220340320726],\"yaxis\":\"y\",\"type\":\"scattergl\"},{\"hovertemplate\":\"title=King Richard<br>days_from_theatrical2=%{x}<br>multipler=%{y}<extra></extra>\",\"legendgroup\":\"King Richard\",\"line\":{\"color\":\"#EF553B\",\"dash\":\"solid\"},\"marker\":{\"symbol\":\"circle\"},\"mode\":\"lines\",\"name\":\"King Richard\",\"showlegend\":true,\"x\":[0,15,30,45,60,75,90,105,120,135,150,165,180,195],\"xaxis\":\"x\",\"y\":[2.60842972257208,1.8492029508072216,1.3415623809693522,1.0,0.769530147763517,0.6149306188890197,0.5138886510917428,0.45163218294879753,0.41562426998185253,0.39733735213075105,0.3910307618377262,0.3922770291652729,0.39711403322549155,0.40227613839591003],\"yaxis\":\"y\",\"type\":\"scattergl\"},{\"hovertemplate\":\"title=The Last Duel<br>days_from_theatrical2=%{x}<br>multipler=%{y}<extra></extra>\",\"legendgroup\":\"The Last Duel\",\"line\":{\"color\":\"#00cc96\",\"dash\":\"solid\"},\"marker\":{\"symbol\":\"circle\"},\"mode\":\"lines\",\"name\":\"The Last Duel\",\"showlegend\":true,\"x\":[0,15,30,45,60,75,90,105,120,135,150,165,180,195],\"xaxis\":\"x\",\"y\":[2.828645829002423,1.9654704909872647,1.388326959231352,1.0,0.7379756615482683,0.562209335127736,0.4473333350304389,0.3765531018624223,0.3356152113633642,0.3148245634510318,0.30765451438222624,0.30907141281326067,0.31457066912235254,0.32043953734599023],\"yaxis\":\"y\",\"type\":\"scattergl\"},{\"hovertemplate\":\"title=Last Night in Soho<br>days_from_theatrical2=%{x}<br>multipler=%{y}<extra></extra>\",\"legendgroup\":\"Last Night in Soho\",\"line\":{\"color\":\"#ab63fa\",\"dash\":\"solid\"},\"marker\":{\"symbol\":\"circle\"},\"mode\":\"lines\",\"name\":\"Last Night in Soho\",\"showlegend\":true,\"x\":[0,15,30,45,60,75,90,105,120,135,150,165,180,195],\"xaxis\":\"x\",\"y\":[2.820393679744644,1.9611136021522368,1.3865745520798032,1.0,0.7391581015351573,0.5641849576637609,0.44982735969983684,0.37936653723417635,0.3386133875839686,0.31791656184705075,0.3107788691340594,0.3121893735126469,0.3176638132699778,0.3235061969902804],\"yaxis\":\"y\",\"type\":\"scattergl\"},{\"hovertemplate\":\"title=Antlers<br>days_from_theatrical2=%{x}<br>multipler=%{y}<extra></extra>\",\"legendgroup\":\"Antlers\",\"line\":{\"color\":\"#FFA15A\",\"dash\":\"solid\"},\"marker\":{\"symbol\":\"circle\"},\"mode\":\"lines\",\"name\":\"Antlers\",\"showlegend\":true,\"x\":[0,15,30,45,60,75,90,105,120,135,150,165,180,195],\"xaxis\":\"x\",\"y\":[2.7759730456623,1.937660831409392,1.3771414899270635,1.0,0.7455230777784708,0.5748195696922525,0.46325248735701635,0.39451102617387135,0.3547523211695981,0.3345605324106458,0.3275970112736844,0.3289730969990048,0.33431395131931063,0.3400137711578024],\"yaxis\":\"y\",\"type\":\"scattergl\"},{\"hovertemplate\":\"title=Halloween Kills<br>days_from_theatrical2=%{x}<br>multipler=%{y}<extra></extra>\",\"legendgroup\":\"Halloween Kills\",\"line\":{\"color\":\"#19d3f3\",\"dash\":\"solid\"},\"marker\":{\"symbol\":\"circle\"},\"mode\":\"lines\",\"name\":\"Halloween Kills\",\"showlegend\":true,\"x\":[0,15,30,45,60,75,90,105,120,135,150,165,180,195],\"xaxis\":\"x\",\"y\":[2.6381887135683737,1.8649148110224703,1.34788193082428,1.0,0.7652660197376681,0.6078061072708738,0.5048946720248622,0.4414863415102332,0.4048122140716573,0.3861869536644312,0.37976367952683804,0.381033005156318,0.38595950293718545,0.39121711681347626],\"yaxis\":\"y\",\"type\":\"scattergl\"},{\"hovertemplate\":\"title=Those Who Wish Me Dead<br>days_from_theatrical2=%{x}<br>multipler=%{y}<extra></extra>\",\"legendgroup\":\"Those Who Wish Me Dead\",\"line\":{\"color\":\"#FF6692\",\"dash\":\"solid\"},\"marker\":{\"symbol\":\"circle\"},\"mode\":\"lines\",\"name\":\"Those Who Wish Me Dead\",\"showlegend\":true,\"x\":[0,15,30,45,60,75,90,105,120,135,150,165,180,195],\"xaxis\":\"x\",\"y\":[2.638486926808953,1.865072258724605,1.3479452586918625,1.0,0.7652232891411604,0.6077347129249632,0.5048045438466754,0.44138467058146813,0.40470386704367406,0.38607521612397805,0.37965077270388425,0.3809203293993611,0.3858477239919675,0.39110629495583854],\"yaxis\":\"y\",\"type\":\"scattergl\"},{\"hovertemplate\":\"title=Space Jam: A New Legacy<br>days_from_theatrical2=%{x}<br>multipler=%{y}<extra></extra>\",\"legendgroup\":\"Space Jam: A New Legacy\",\"line\":{\"color\":\"#B6E880\",\"dash\":\"solid\"},\"marker\":{\"symbol\":\"circle\"},\"mode\":\"lines\",\"name\":\"Space Jam: A New Legacy\",\"showlegend\":true,\"x\":[0,15,30,45,60,75,90,105,120,135,150,165,180,195],\"xaxis\":\"x\",\"y\":[2.5440071434733222,1.8151897492967484,1.3278817524679258,1.0,0.778761177305694,0.6303538371465488,0.5333589122951728,0.4735960080220469,0.43903032320392305,0.4214758529041204,0.4154218610344485,0.41661821150559775,0.4212614786108873,0.42621682552261947],\"yaxis\":\"y\",\"type\":\"scattergl\"},{\"hovertemplate\":\"title=The Many Saints of Newark<br>days_from_theatrical2=%{x}<br>multipler=%{y}<extra></extra>\",\"legendgroup\":\"The Many Saints of Newark\",\"line\":{\"color\":\"#FF97FF\",\"dash\":\"solid\"},\"marker\":{\"symbol\":\"circle\"},\"mode\":\"lines\",\"name\":\"The Many Saints of Newark\",\"showlegend\":true,\"x\":[0,15,30,45,60,75,90,105,120,135,150,165,180,195],\"xaxis\":\"x\",\"y\":[2.9912741780691294,2.051333411806401,1.4228623357795491,1.0,0.7146728519490186,0.5232749652591673,0.39818261055295034,0.3211076251239389,0.27652897410113975,0.2538893356995688,0.246081627208532,0.24762453574440993,0.2536128615936279,0.260003670334649],\"yaxis\":\"y\",\"type\":\"scattergl\"},{\"hovertemplate\":\"title=Tom & Jerry<br>days_from_theatrical2=%{x}<br>multipler=%{y}<extra></extra>\",\"legendgroup\":\"Tom & Jerry\",\"line\":{\"color\":\"#FECB52\",\"dash\":\"solid\"},\"marker\":{\"symbol\":\"circle\"},\"mode\":\"lines\",\"name\":\"Tom & Jerry\",\"showlegend\":true,\"x\":[0,15,30,45,60,75,90,105,120,135,150,165,180,195],\"xaxis\":\"x\",\"y\":[2.7236312051109377,1.910025899759526,1.3660262988608043,1.0,0.7530230736367703,0.5873505742269667,0.4790716197429014,0.41235612095220553,0.3737691926271702,0.3541725003930479,0.3474142095741462,0.3487497390197453,0.35393318659003076,0.35946502017338966],\"yaxis\":\"y\",\"type\":\"scattergl\"},{\"hovertemplate\":\"title=Boogie<br>days_from_theatrical2=%{x}<br>multipler=%{y}<extra></extra>\",\"legendgroup\":\"Boogie\",\"line\":{\"color\":\"#636efa\",\"dash\":\"solid\"},\"marker\":{\"symbol\":\"circle\"},\"mode\":\"lines\",\"name\":\"Boogie\",\"showlegend\":true,\"x\":[0,15,30,45,60,75,90,105,120,135,150,165,180,195],\"xaxis\":\"x\",\"y\":[3.0180764817749064,2.0654842292626845,1.4285540104239167,1.0,0.7108323838900306,0.5168583053607013,0.3900822230598445,0.311969817877021,0.26679114373502216,0.2438467786057556,0.23593397932585233,0.23749765521944657,0.2435665831926049,0.25004341142742054],\"yaxis\":\"y\",\"type\":\"scattergl\"},{\"hovertemplate\":\"title=The King of Staten Island<br>days_from_theatrical2=%{x}<br>multipler=%{y}<extra></extra>\",\"legendgroup\":\"The King of Staten Island\",\"line\":{\"color\":\"#EF553B\",\"dash\":\"solid\"},\"marker\":{\"symbol\":\"circle\"},\"mode\":\"lines\",\"name\":\"The King of Staten Island\",\"showlegend\":true,\"x\":[0,15,30,45,60,75,90,105,120,135,150,165,180,195],\"xaxis\":\"x\",\"y\":[2.9411018120586045,2.0248438980482337,1.4122078492620944,1.0,0.7218619865556022,0.5352865823397395,0.4133460685374829,0.3382130730271827,0.29475763066143557,0.2726884231109956,0.2650774385128461,0.26658147175338026,0.2724189150774261,0.2786487002894973],\"yaxis\":\"y\",\"type\":\"scattergl\"},{\"hovertemplate\":\"title=Cry Macho<br>days_from_theatrical2=%{x}<br>multipler=%{y}<extra></extra>\",\"legendgroup\":\"Cry Macho\",\"line\":{\"color\":\"#00cc96\",\"dash\":\"solid\"},\"marker\":{\"symbol\":\"circle\"},\"mode\":\"lines\",\"name\":\"Cry Macho\",\"showlegend\":true,\"x\":[0,15,30,45,60,75,90,105,120,135,150,165,180,195],\"xaxis\":\"x\",\"y\":[2.713131474082177,1.9044823547434258,1.3637966004913977,1.0,0.7545275667611929,0.5898642836370471,0.4822449249498007,0.41593583258217054,0.37758396171457603,0.35810664536370623,0.35138952358119835,0.35271691746977085,0.357868789372867,0.36336692504883905],\"yaxis\":\"y\",\"type\":\"scattergl\"},{\"hovertemplate\":\"title=Death on the Nile<br>days_from_theatrical2=%{x}<br>multipler=%{y}<extra></extra>\",\"legendgroup\":\"Death on the Nile\",\"line\":{\"color\":\"#ab63fa\",\"dash\":\"solid\"},\"marker\":{\"symbol\":\"circle\"},\"mode\":\"lines\",\"name\":\"Death on the Nile\",\"showlegend\":true,\"x\":[0,15,30,45,60,75,90,105,120,135,150,165,180,195],\"xaxis\":\"x\",\"y\":[2.696616458865427,1.895762918974566,1.3602895104146482,1.0,0.7568939823174758,0.5938180943626891,0.4872362131681078,0.4215663570097397,0.3835842077546142,0.3642946575972809,0.3576422905461694,0.3589568880261766,0.3640590945975912,0.36950422687264156],\"yaxis\":\"y\",\"type\":\"scattergl\"},{\"hovertemplate\":\"title=In The Heights<br>days_from_theatrical2=%{x}<br>multipler=%{y}<extra></extra>\",\"legendgroup\":\"In The Heights\",\"line\":{\"color\":\"#FFA15A\",\"dash\":\"solid\"},\"marker\":{\"symbol\":\"circle\"},\"mode\":\"lines\",\"name\":\"In The Heights\",\"showlegend\":true,\"x\":[0,15,30,45,60,75,90,105,120,135,150,165,180,195],\"xaxis\":\"x\",\"y\":[2.5740576938069237,1.8310555441515395,1.3342632171830728,1.0,0.7744552721126902,0.6231595241737089,0.5242768160412333,0.46335076419425514,0.42811233776620083,0.41021621004884495,0.4040443911417997,0.40526402582520327,0.4099976634527069,0.41504945480280964],\"yaxis\":\"y\",\"type\":\"scattergl\"},{\"hovertemplate\":\"title=Belfast<br>days_from_theatrical2=%{x}<br>multipler=%{y}<extra></extra>\",\"legendgroup\":\"Belfast\",\"line\":{\"color\":\"#19d3f3\",\"dash\":\"solid\"},\"marker\":{\"symbol\":\"circle\"},\"mode\":\"lines\",\"name\":\"Belfast\",\"showlegend\":true,\"x\":[0,15,30,45,60,75,90,105,120,135,150,165,180,195],\"xaxis\":\"x\",\"y\":[3.010204435445666,2.061328023444134,1.4268823210429125,1.0,0.7119603594110215,0.5187429285839198,0.3924613702529553,0.31465366336974476,0.269651220713099,0.24679635620827617,0.23891442291540949,0.2404719992735354,0.24651725377217237,0.2529688174085484],\"yaxis\":\"y\",\"type\":\"scattergl\"},{\"hovertemplate\":\"title=DC League of Super-Pets<br>days_from_theatrical2=%{x}<br>multipler=%{y}<extra></extra>\",\"legendgroup\":\"DC League of Super-Pets\",\"line\":{\"color\":\"#FF6692\",\"dash\":\"solid\"},\"marker\":{\"symbol\":\"circle\"},\"mode\":\"lines\",\"name\":\"DC League of Super-Pets\",\"showlegend\":true,\"x\":[0,15,30,45,60,75,90,105,120,135,150,165,180,195],\"xaxis\":\"x\",\"y\":[2.6715005458807997,1.8825024655525455,1.3549559537669094,1.0,0.7604928095917558,0.5998310204690072,0.49482692737133716,0.4301292169117611,0.39270933755015003,0.3737053408310933,0.36715145229651586,0.3684465890930297,0.37347326499538375,0.37883779009036256],\"yaxis\":\"y\",\"type\":\"scattergl\"},{\"hovertemplate\":\"title=The King's Man<br>days_from_theatrical2=%{x}<br>multipler=%{y}<extra></extra>\",\"legendgroup\":\"The King's Man\",\"line\":{\"color\":\"#B6E880\",\"dash\":\"solid\"},\"marker\":{\"symbol\":\"circle\"},\"mode\":\"lines\",\"name\":\"The King's Man\",\"showlegend\":true,\"x\":[0,15,30,45,60,75,90,105,120,135,150,165,180,195],\"xaxis\":\"x\",\"y\":[2.5985073409035664,1.843964229044195,1.3394552871622545,1.0,0.7709519132313419,0.6173061068041097,0.5168874655687294,0.45501505675369813,0.4192292761252256,0.4010551700282923,0.39478748500730765,0.3960260641282069,0.40083322877440325,0.4059634889863538],\"yaxis\":\"y\",\"type\":\"scattergl\"},{\"hovertemplate\":\"title=Tenet<br>days_from_theatrical2=%{x}<br>multipler=%{y}<extra></extra>\",\"legendgroup\":\"Tenet\",\"line\":{\"color\":\"#FF97FF\",\"dash\":\"solid\"},\"marker\":{\"symbol\":\"circle\"},\"mode\":\"lines\",\"name\":\"Tenet\",\"showlegend\":true,\"x\":[0,15,30,45,60,75,90,105,120,135,150,165,180,195],\"xaxis\":\"x\",\"y\":[2.5496965639352958,1.818193593715244,1.3290899445151478,1.0,0.7779459474732823,0.628991749897461,0.5316394141931041,0.47165629313414403,0.4369632392715713,0.41934408354402103,0.4132677836783237,0.41446854251045684,0.4191289193156523,0.42410252589168396],\"yaxis\":\"y\",\"type\":\"scattergl\"},{\"hovertemplate\":\"title=Black Adam<br>days_from_theatrical2=%{x}<br>multipler=%{y}<extra></extra>\",\"legendgroup\":\"Black Adam\",\"line\":{\"color\":\"#FECB52\",\"dash\":\"solid\"},\"marker\":{\"symbol\":\"circle\"},\"mode\":\"lines\",\"name\":\"Black Adam\",\"showlegend\":true,\"x\":[0,15,30,45,60,75,90,105,120,135,150,165,180,195],\"xaxis\":\"x\",\"y\":[2.51224516084832,1.7984203692050245,1.3211368519867588,1.0,0.7833123114582148,0.6379578790394778,0.5429582500848003,0.4844247367087091,0.4505701073317829,0.43337675244715845,0.4274472980742134,0.42861903825580616,0.4331667880769001,0.4380201978679559],\"yaxis\":\"y\",\"type\":\"scattergl\"},{\"hovertemplate\":\"title=The Empty Man<br>days_from_theatrical2=%{x}<br>multipler=%{y}<extra></extra>\",\"legendgroup\":\"The Empty Man\",\"line\":{\"color\":\"#636efa\",\"dash\":\"solid\"},\"marker\":{\"symbol\":\"circle\"},\"mode\":\"lines\",\"name\":\"The Empty Man\",\"showlegend\":true,\"x\":[0,15,30,45,60,75,90,105,120,135,150,165,180,195],\"xaxis\":\"x\",\"y\":[2.8364579840261044,1.9695950759816685,1.3899859302345259,1.0,0.736856267776388,0.5603390503040395,0.4449722886240304,0.37388967533114137,0.3327768941332672,0.3118974265260769,0.30469674630171106,0.30611969786234494,0.31164244753582787,0.31753638814234625],\"yaxis\":\"y\",\"type\":\"scattergl\"},{\"hovertemplate\":\"title=The High Note<br>days_from_theatrical2=%{x}<br>multipler=%{y}<extra></extra>\",\"legendgroup\":\"The High Note\",\"line\":{\"color\":\"#EF553B\",\"dash\":\"solid\"},\"marker\":{\"symbol\":\"circle\"},\"mode\":\"lines\",\"name\":\"The High Note\",\"showlegend\":true,\"x\":[0,15,30,45,60,75,90,105,120,135,150,165,180,195],\"xaxis\":\"x\",\"y\":[2.8954947380552536,2.000764722391499,1.4025228374975007,1.0,0.728396966268417,0.5462052364247162,0.4271297707113515,0.35376205926036686,0.3113276223686815,0.2897769409335098,0.2823447798961081,0.2838134751884317,0.28951376511433197,0.29559717867633095],\"yaxis\":\"y\",\"type\":\"scattergl\"},{\"hovertemplate\":\"title=The Banshees of Inisherin<br>days_from_theatrical2=%{x}<br>multipler=%{y}<extra></extra>\",\"legendgroup\":\"The Banshees of Inisherin\",\"line\":{\"color\":\"#00cc96\",\"dash\":\"solid\"},\"marker\":{\"symbol\":\"circle\"},\"mode\":\"lines\",\"name\":\"The Banshees of Inisherin\",\"showlegend\":true,\"x\":[0,15,30,45,60,75,90,105,120,135,150,165,180,195],\"xaxis\":\"x\",\"y\":[2.8904510870545987,1.9981018250000302,1.4014517795455206,1.0,0.7291196646148479,0.5474127219257008,0.42865409966209367,0.355481609608376,0.3131600849215052,0.29166674688792976,0.2842543618096488,0.28571914910564195,0.29140427134343866,0.29747149777799103],\"yaxis\":\"y\",\"type\":\"scattergl\"},{\"hovertemplate\":\"title=The Forever Purge<br>days_from_theatrical2=%{x}<br>multipler=%{y}<extra></extra>\",\"legendgroup\":\"The Forever Purge\",\"line\":{\"color\":\"#ab63fa\",\"dash\":\"solid\"},\"marker\":{\"symbol\":\"circle\"},\"mode\":\"lines\",\"name\":\"The Forever Purge\",\"showlegend\":true,\"x\":[0,15,30,45,60,75,90,105,120,135,150,165,180,195],\"xaxis\":\"x\",\"y\":[2.674272421525773,1.8839659332713699,1.355544582807869,1.0,0.7600956310508783,0.5991674139563025,0.49398919091952037,0.429184191229109,0.3917022578930042,0.3726667465472896,0.3661019895962749,0.36739927413850737,0.37243428585657107,0.3778077070278892],\"yaxis\":\"y\",\"type\":\"scattergl\"},{\"hovertemplate\":\"title=Don't Worry Darling<br>days_from_theatrical2=%{x}<br>multipler=%{y}<extra></extra>\",\"legendgroup\":\"Don't Worry Darling\",\"line\":{\"color\":\"#FFA15A\",\"dash\":\"solid\"},\"marker\":{\"symbol\":\"circle\"},\"mode\":\"lines\",\"name\":\"Don't Worry Darling\",\"showlegend\":true,\"x\":[0,15,30,45,60,75,90,105,120,135,150,165,180,195],\"xaxis\":\"x\",\"y\":[2.6294208055508,1.8602856169355642,1.346019998346549,1.0,0.7665223621422382,0.6099052060792268,0.50754457306419,0.4444756163987996,0.4079977760993921,0.38947220174707736,0.38308330623530656,0.384345838184502,0.38924596838083436,0.3944754424741574],\"yaxis\":\"y\",\"type\":\"scattergl\"},{\"hovertemplate\":\"title=Free Guy<br>days_from_theatrical2=%{x}<br>multipler=%{y}<extra></extra>\",\"legendgroup\":\"Free Guy\",\"line\":{\"color\":\"#19d3f3\",\"dash\":\"solid\"},\"marker\":{\"symbol\":\"circle\"},\"mode\":\"lines\",\"name\":\"Free Guy\",\"showlegend\":true,\"x\":[0,15,30,45,60,75,90,105,120,135,150,165,180,195],\"xaxis\":\"x\",\"y\":[2.585092326388278,1.8368815012435131,1.3366065059974468,1.0,0.7728741336241264,0.6205177555721615,0.5209418489901075,0.45958868662525626,0.4241032278997795,0.40608164277716574,0.39986655750557376,0.4010947422063418,0.40586156410161295,0.41094877007574465],\"yaxis\":\"y\",\"type\":\"scattergl\"},{\"hovertemplate\":\"title=Hitman's Wife's Bodyguard<br>days_from_theatrical2=%{x}<br>multipler=%{y}<extra></extra>\",\"legendgroup\":\"Hitman's Wife's Bodyguard\",\"line\":{\"color\":\"#FF6692\",\"dash\":\"solid\"},\"marker\":{\"symbol\":\"circle\"},\"mode\":\"lines\",\"name\":\"Hitman's Wife's Bodyguard\",\"showlegend\":true,\"x\":[0,15,30,45,60,75,90,105,120,135,150,165,180,195],\"xaxis\":\"x\",\"y\":[2.758793639981449,1.9285906172790754,1.3734933114423968,1.0,0.7479846930005808,0.5789324401649525,0.46844457250177673,0.4003680636677941,0.3609939539839745,0.34099748515476824,0.3341013237983346,0.3354640983222359,0.3407532893004234,0.3463979734387698],\"yaxis\":\"y\",\"type\":\"scattergl\"},{\"hovertemplate\":\"title=Judas and the Black Messiah<br>days_from_theatrical2=%{x}<br>multipler=%{y}<extra></extra>\",\"legendgroup\":\"Judas and the Black Messiah\",\"line\":{\"color\":\"#B6E880\",\"dash\":\"solid\"},\"marker\":{\"symbol\":\"circle\"},\"mode\":\"lines\",\"name\":\"Judas and the Black Messiah\",\"showlegend\":true,\"x\":[0,15,30,45,60,75,90,105,120,135,150,165,180,195],\"xaxis\":\"x\",\"y\":[2.622380164314154,1.8565683682240839,1.3445248642100744,1.0,0.7675312066833975,0.6115907850793962,0.5096724469530466,0.4468760079181765,0.41055578643998547,0.39211026011594685,0.38574897068422836,0.38700604729955734,0.39188500429213063,0.39709188210411117],\"yaxis\":\"y\",\"type\":\"scattergl\"},{\"hovertemplate\":\"title=F9: The Fast Saga<br>days_from_theatrical2=%{x}<br>multipler=%{y}<extra></extra>\",\"legendgroup\":\"F9: The Fast Saga\",\"line\":{\"color\":\"#FF97FF\",\"dash\":\"solid\"},\"marker\":{\"symbol\":\"circle\"},\"mode\":\"lines\",\"name\":\"F9: The Fast Saga\",\"showlegend\":true,\"x\":[0,15,30,45,60,75,90,105,120,135,150,165,180,195],\"xaxis\":\"x\",\"y\":[2.5496184444711596,1.818152348966699,1.3290733552481155,1.0,0.7779571411120862,0.629010452246269,0.5316630240266915,0.47168292668823464,0.4369916216859486,0.41937335413162796,0.4132973605693067,0.4144980588717614,0.41915820074958526,0.4241315566084845],\"yaxis\":\"y\",\"type\":\"scattergl\"},{\"hovertemplate\":\"title=Old<br>days_from_theatrical2=%{x}<br>multipler=%{y}<extra></extra>\",\"legendgroup\":\"Old\",\"line\":{\"color\":\"#FECB52\",\"dash\":\"solid\"},\"marker\":{\"symbol\":\"circle\"},\"mode\":\"lines\",\"name\":\"Old\",\"showlegend\":true,\"x\":[0,15,30,45,60,75,90,105,120,135,150,165,180,195],\"xaxis\":\"x\",\"y\":[2.641683548537164,1.8667599797149066,1.3486240858194802,1.0,0.7647652492734417,0.6069694192144226,0.5038384375391092,0.4402948346660764,0.4035424683640773,0.3848774736998429,0.37844049645046285,0.3797125299997074,0.38464953773988336,0.3899183679630297],\"yaxis\":\"y\",\"type\":\"scattergl\"},{\"hovertemplate\":\"title=Amsterdam<br>days_from_theatrical2=%{x}<br>multipler=%{y}<extra></extra>\",\"legendgroup\":\"Amsterdam\",\"line\":{\"color\":\"#636efa\",\"dash\":\"solid\"},\"marker\":{\"symbol\":\"circle\"},\"mode\":\"lines\",\"name\":\"Amsterdam\",\"showlegend\":true,\"x\":[0,15,30,45,60,75,90,105,120,135,150,165,180,195],\"xaxis\":\"x\",\"y\":[2.8713783929415917,1.9880320110110732,1.3974015467493246,1.0,0.7318525667319165,0.5519788589568358,0.4344183882303005,0.3619841328391122,0.3200895885170225,0.2988130960102033,0.2914754942226479,0.2929255033314523,0.29855326857219205,0.3045592829739685],\"yaxis\":\"y\",\"type\":\"scattergl\"},{\"hovertemplate\":\"title=Profile<br>days_from_theatrical2=%{x}<br>multipler=%{y}<extra></extra>\",\"legendgroup\":\"Profile\",\"line\":{\"color\":\"#EF553B\",\"dash\":\"solid\"},\"marker\":{\"symbol\":\"circle\"},\"mode\":\"lines\",\"name\":\"Profile\",\"showlegend\":true,\"x\":[0,15,30,45,60,75,90,105,120,135,150,165,180,195],\"xaxis\":\"x\",\"y\":[3.2010511369163392,2.16208939322382,1.467410081031224,1.0,0.6846141779332102,0.4730528868052447,0.33478228972823015,0.2495876007322462,0.20031267335329844,0.17528799197493175,0.16665775619917755,0.16836320722367845,0.17498239184617356,0.1820464601699426],\"yaxis\":\"y\",\"type\":\"scattergl\"},{\"hovertemplate\":\"title=All My Life<br>days_from_theatrical2=%{x}<br>multipler=%{y}<extra></extra>\",\"legendgroup\":\"All My Life\",\"line\":{\"color\":\"#00cc96\",\"dash\":\"solid\"},\"marker\":{\"symbol\":\"circle\"},\"mode\":\"lines\",\"name\":\"All My Life\",\"showlegend\":true,\"x\":[0,15,30,45,60,75,90,105,120,135,150,165,180,195],\"xaxis\":\"x\",\"y\":[3.0918009254250083,2.104408537994167,1.4442099611660477,1.0,0.7002685019896878,0.49920815534749663,0.3678006845833298,0.28683467416488634,0.24000553105104752,0.2162229615378872,0.20802109158603754,0.20964189174441825,0.21593253001568188,0.22264596997584077],\"yaxis\":\"y\",\"type\":\"scattergl\"},{\"hovertemplate\":\"title=Dear Evan Hansen<br>days_from_theatrical2=%{x}<br>multipler=%{y}<extra></extra>\",\"legendgroup\":\"Dear Evan Hansen\",\"line\":{\"color\":\"#ab63fa\",\"dash\":\"solid\"},\"marker\":{\"symbol\":\"circle\"},\"mode\":\"lines\",\"name\":\"Dear Evan Hansen\",\"showlegend\":true,\"x\":[0,15,30,45,60,75,90,105,120,135,150,165,180,195],\"xaxis\":\"x\",\"y\":[2.8674689984789006,1.9859679672626962,1.3965713568677993,1.0,0.7324127388995302,0.5529147954700313,0.4355999139065551,0.3633169769649135,0.32150995224880385,0.30027790730123033,0.29295563409709025,0.29440261407100543,0.3000186226545387,0.30601209021943093],\"yaxis\":\"y\",\"type\":\"scattergl\"},{\"hovertemplate\":\"title=Nobody<br>days_from_theatrical2=%{x}<br>multipler=%{y}<extra></extra>\",\"legendgroup\":\"Nobody\",\"line\":{\"color\":\"#FFA15A\",\"dash\":\"solid\"},\"marker\":{\"symbol\":\"circle\"},\"mode\":\"lines\",\"name\":\"Nobody\",\"showlegend\":true,\"x\":[0,15,30,45,60,75,90,105,120,135,150,165,180,195],\"xaxis\":\"x\",\"y\":[2.635566872482793,1.8635305570788985,1.3473251627720928,1.0,0.7656417000170778,0.6084337944554821,0.5056870639390718,0.44238021536283906,0.40576478307537733,0.3871693314884421,0.3807563374876235,0.38202363162338127,0.3869422447849854,0.3921914441068603],\"yaxis\":\"y\",\"type\":\"scattergl\"},{\"hovertemplate\":\"title=Mortal Kombat<br>days_from_theatrical2=%{x}<br>multipler=%{y}<extra></extra>\",\"legendgroup\":\"Mortal Kombat\",\"line\":{\"color\":\"#19d3f3\",\"dash\":\"solid\"},\"marker\":{\"symbol\":\"circle\"},\"mode\":\"lines\",\"name\":\"Mortal Kombat\",\"showlegend\":true,\"x\":[0,15,30,45,60,75,90,105,120,135,150,165,180,195],\"xaxis\":\"x\",\"y\":[2.522839184335382,1.8040136978285097,1.3233865740824806,1.0,0.7817943072871951,0.6354215953521092,0.539756447124192,0.48081287760671393,0.4467210798472713,0.42940727702855325,0.42343628390215815,0.42461623270185467,0.4291958417542857,0.43408325207557835],\"yaxis\":\"y\",\"type\":\"scattergl\"},{\"hovertemplate\":\"title=Malignant<br>days_from_theatrical2=%{x}<br>multipler=%{y}<extra></extra>\",\"legendgroup\":\"Malignant\",\"line\":{\"color\":\"#FF6692\",\"dash\":\"solid\"},\"marker\":{\"symbol\":\"circle\"},\"mode\":\"lines\",\"name\":\"Malignant\",\"showlegend\":true,\"x\":[0,15,30,45,60,75,90,105,120,135,150,165,180,195],\"xaxis\":\"x\",\"y\":[2.6324678012848013,1.8618943398608483,1.3466670512473402,1.0,0.7660857619932075,0.6091757338834105,0.5066236878146915,0.4434367930198419,0.406890739633061,0.38833052269742463,0.3819296800340629,0.38319457290159886,0.388103866277727,0.3933431194196537],\"yaxis\":\"y\",\"type\":\"scattergl\"},{\"hovertemplate\":\"title=The Conjuring: The Devil Made Me Do It<br>days_from_theatrical2=%{x}<br>multipler=%{y}<extra></extra>\",\"legendgroup\":\"The Conjuring: The Devil Made Me Do It\",\"line\":{\"color\":\"#B6E880\",\"dash\":\"solid\"},\"marker\":{\"symbol\":\"circle\"},\"mode\":\"lines\",\"name\":\"The Conjuring: The Devil Made Me Do It\",\"showlegend\":true,\"x\":[0,15,30,45,60,75,90,105,120,135,150,165,180,195],\"xaxis\":\"x\",\"y\":[2.623845340725711,1.85734193769665,1.3448360056523436,1.0,0.7673212634161671,0.6112400115478593,0.5092296306634617,0.4463764799754118,0.4100234575958405,0.39156127306143784,0.385194238730079,0.38645245061508393,0.39133581380840826,0.3965473939674186],\"yaxis\":\"y\",\"type\":\"scattergl\"},{\"hovertemplate\":\"title=Let Him Go<br>days_from_theatrical2=%{x}<br>multipler=%{y}<extra></extra>\",\"legendgroup\":\"Let Him Go\",\"line\":{\"color\":\"#FF97FF\",\"dash\":\"solid\"},\"marker\":{\"symbol\":\"circle\"},\"mode\":\"lines\",\"name\":\"Let Him Go\",\"showlegend\":true,\"x\":[0,15,30,45,60,75,90,105,120,135,150,165,180,195],\"xaxis\":\"x\",\"y\":[2.720592860496011,1.9084217443672438,1.3653810830914621,1.0,0.7534584341779392,0.5880779752840714,0.4799898903881689,0.4133919948735594,0.3748730859633113,0.3553109379542795,0.3485645603662679,0.3498977355967139,0.3550720460035706,0.36059412830328685],\"yaxis\":\"y\",\"type\":\"scattergl\"},{\"hovertemplate\":\"title=See How They Run<br>days_from_theatrical2=%{x}<br>multipler=%{y}<extra></extra>\",\"legendgroup\":\"See How They Run\",\"line\":{\"color\":\"#FECB52\",\"dash\":\"solid\"},\"marker\":{\"symbol\":\"circle\"},\"mode\":\"lines\",\"name\":\"See How They Run\",\"showlegend\":true,\"x\":[0,15,30,45,60,75,90,105,120,135,150,165,180,195],\"xaxis\":\"x\",\"y\":[2.8665528846043613,1.985484286443686,1.396376813064091,1.0,0.7325440076931454,0.553134119570889,0.43587678851603145,0.3636293110125278,0.3218427953358848,0.3006211660744511,0.29330248491713007,0.2947487550541308,0.30036200862358514,0.3063525360064455],\"yaxis\":\"y\",\"type\":\"scattergl\"},{\"hovertemplate\":\"title=Greenland<br>days_from_theatrical2=%{x}<br>multipler=%{y}<extra></extra>\",\"legendgroup\":\"Greenland\",\"line\":{\"color\":\"#636efa\",\"dash\":\"solid\"},\"marker\":{\"symbol\":\"circle\"},\"mode\":\"lines\",\"name\":\"Greenland\",\"showlegend\":true,\"x\":[0,15,30,45,60,75,90,105,120,135,150,165,180,195],\"xaxis\":\"x\",\"y\":[2.727963860379652,1.912313412597284,1.3669463714189825,1.0,0.7524022529658052,0.586313306101742,0.4777621731022003,0.41087897297465054,0.3721950495048214,0.35254909748031904,0.34577381848886785,0.3471127050265588,0.35230918211926116,0.35785492095558225],\"yaxis\":\"y\",\"type\":\"scattergl\"},{\"hovertemplate\":\"title=Kajillionaire<br>days_from_theatrical2=%{x}<br>multipler=%{y}<extra></extra>\",\"legendgroup\":\"Kajillionaire\",\"line\":{\"color\":\"#EF553B\",\"dash\":\"solid\"},\"marker\":{\"symbol\":\"circle\"},\"mode\":\"lines\",\"name\":\"Kajillionaire\",\"showlegend\":true,\"x\":[0,15,30,45,60,75,90,105,120,135,150,165,180,195],\"xaxis\":\"x\",\"y\":[3.056613492339435,2.085830622162186,1.4367376400218645,1.0,0.7053104645883677,0.5076322741579103,0.37843528696713563,0.29883125418202056,0.25278985206195626,0.22940734335915988,0.22134344196186984,0.22293697767246068,0.22912179735910412,0.23572230653483742],\"yaxis\":\"y\",\"type\":\"scattergl\"},{\"hovertemplate\":\"title=The Night House<br>days_from_theatrical2=%{x}<br>multipler=%{y}<extra></extra>\",\"legendgroup\":\"The Night House\",\"line\":{\"color\":\"#00cc96\",\"dash\":\"solid\"},\"marker\":{\"symbol\":\"circle\"},\"mode\":\"lines\",\"name\":\"The Night House\",\"showlegend\":true,\"x\":[0,15,30,45,60,75,90,105,120,135,150,165,180,195],\"xaxis\":\"x\",\"y\":[2.803028301376565,1.9519451999863773,1.3828868808694301,1.0,0.7416463645474346,0.5683423513049725,0.4550756508650322,0.3852869790752709,0.3449225881156922,0.32442319671066594,0.31735359296986526,0.31875064204892245,0.3241728591915535,0.3299595103497166],\"yaxis\":\"y\",\"type\":\"scattergl\"},{\"hovertemplate\":\"title=Blue Bayou<br>days_from_theatrical2=%{x}<br>multipler=%{y}<extra></extra>\",\"legendgroup\":\"Blue Bayou\",\"line\":{\"color\":\"#ab63fa\",\"dash\":\"solid\"},\"marker\":{\"symbol\":\"circle\"},\"mode\":\"lines\",\"name\":\"Blue Bayou\",\"showlegend\":true,\"x\":[0,15,30,45,60,75,90,105,120,135,150,165,180,195],\"xaxis\":\"x\",\"y\":[3.0519645646761684,2.0833761269272792,1.4357504045963216,1.0,0.7059766035290843,0.5087452601174456,0.3798403197551096,0.3004162300616358,0.2544789034758267,0.23114925039804277,0.22310357726504224,0.22469351082468197,0.2308643498681756,0.23744993874419548],\"yaxis\":\"y\",\"type\":\"scattergl\"},{\"hovertemplate\":\"title=The Suicide Squad<br>days_from_theatrical2=%{x}<br>multipler=%{y}<extra></extra>\",\"legendgroup\":\"The Suicide Squad\",\"line\":{\"color\":\"#FFA15A\",\"dash\":\"solid\"},\"marker\":{\"symbol\":\"circle\"},\"mode\":\"lines\",\"name\":\"The Suicide Squad\",\"showlegend\":true,\"x\":[0,15,30,45,60,75,90,105,120,135,150,165,180,195],\"xaxis\":\"x\",\"y\":[2.5001323587885413,1.7920251707656054,1.3185646056189582,1.0,0.7850479394820631,0.6408577689925307,0.5466190693706573,0.4885543985339532,0.45497093843239755,0.4379152991178755,0.4320333385700069,0.43319569333099955,0.4377070165231139,0.4425215514057646],\"yaxis\":\"y\",\"type\":\"scattergl\"},{\"hovertemplate\":\"title=The Batman<br>days_from_theatrical2=%{x}<br>multipler=%{y}<extra></extra>\",\"legendgroup\":\"The Batman\",\"line\":{\"color\":\"#19d3f3\",\"dash\":\"solid\"},\"marker\":{\"symbol\":\"circle\"},\"mode\":\"lines\",\"name\":\"The Batman\",\"showlegend\":true,\"x\":[0,15,30,45,60,75,90,105,120,135,150,165,180,195],\"xaxis\":\"x\",\"y\":[2.4948531909999736,1.7892379275302035,1.3174435338717194,1.0,0.7858043847299273,0.6421216388679748,0.5482145779208912,0.4903542444802437,0.45688896909736176,0.43989335087441556,0.43403208973781954,0.43519035401587763,0.43968580125415474,0.4444833931401943],\"yaxis\":\"y\",\"type\":\"scattergl\"},{\"hovertemplate\":\"title=Voyagers<br>days_from_theatrical2=%{x}<br>multipler=%{y}<extra></extra>\",\"legendgroup\":\"Voyagers\",\"line\":{\"color\":\"#FF6692\",\"dash\":\"solid\"},\"marker\":{\"symbol\":\"circle\"},\"mode\":\"lines\",\"name\":\"Voyagers\",\"showlegend\":true,\"x\":[0,15,30,45,60,75,90,105,120,135,150,165,180,195],\"xaxis\":\"x\",\"y\":[3.1669052389632806,2.1440613768966146,1.4601589378562956,1.0,0.6895069002855034,0.4812276547840616,0.3451021117762195,0.26122908637441894,0.21271858314432712,0.188082120922854,0.17958576988297306,0.18126476347735357,0.1877812617065789,0.1947357419557816],\"yaxis\":\"y\",\"type\":\"scattergl\"},{\"hovertemplate\":\"title=Nightmare Alley<br>days_from_theatrical2=%{x}<br>multipler=%{y}<extra></extra>\",\"legendgroup\":\"Nightmare Alley\",\"line\":{\"color\":\"#B6E880\",\"dash\":\"solid\"},\"marker\":{\"symbol\":\"circle\"},\"mode\":\"lines\",\"name\":\"Nightmare Alley\",\"showlegend\":true,\"x\":[0,15,30,45,60,75,90,105,120,135,150,165,180,195],\"xaxis\":\"x\",\"y\":[2.8876244260881316,1.9966094322644512,1.4008515164215862,1.0,0.7295246932748644,0.5480894444294526,0.4295083937329083,0.35644531345068403,0.31418706921718914,0.2927258686877653,0.28532456683703394,0.2867871639377334,0.2924637856048308,0.2985219401346643],\"yaxis\":\"y\",\"type\":\"scattergl\"},{\"hovertemplate\":\"title=The Little Things<br>days_from_theatrical2=%{x}<br>multipler=%{y}<extra></extra>\",\"legendgroup\":\"The Little Things\",\"line\":{\"color\":\"#FF97FF\",\"dash\":\"solid\"},\"marker\":{\"symbol\":\"circle\"},\"mode\":\"lines\",\"name\":\"The Little Things\",\"showlegend\":true,\"x\":[0,15,30,45,60,75,90,105,120,135,150,165,180,195],\"xaxis\":\"x\",\"y\":[2.6027825624694403,1.846221418598792,1.3403631632333821,1.0,0.7703393221627096,0.6162825887110382,0.5155953769601259,0.45355748985811395,0.41767599985303744,0.39945328695378424,0.39316883895556193,0.3944107306669225,0.3992307521161126,0.4043747332529132],\"yaxis\":\"y\",\"type\":\"scattergl\"},{\"hovertemplate\":\"title=The Card Counter<br>days_from_theatrical2=%{x}<br>multipler=%{y}<extra></extra>\",\"legendgroup\":\"The Card Counter\",\"line\":{\"color\":\"#FECB52\",\"dash\":\"solid\"},\"marker\":{\"symbol\":\"circle\"},\"mode\":\"lines\",\"name\":\"The Card Counter\",\"showlegend\":true,\"x\":[0,15,30,45,60,75,90,105,120,135,150,165,180,195],\"xaxis\":\"x\",\"y\":[2.6932253064284732,1.893972491568459,1.3595693731998635,1.0,0.7573798962433925,0.5946299600922419,0.4882611119637145,0.42272251498981384,0.3848162834574796,0.36556528874659494,0.3589262182721016,0.360238188169179,0.36533019658404614,0.3707644452716541],\"yaxis\":\"y\",\"type\":\"scattergl\"},{\"hovertemplate\":\"title=Freaky<br>days_from_theatrical2=%{x}<br>multipler=%{y}<extra></extra>\",\"legendgroup\":\"Freaky\",\"line\":{\"color\":\"#636efa\",\"dash\":\"solid\"},\"marker\":{\"symbol\":\"circle\"},\"mode\":\"lines\",\"name\":\"Freaky\",\"showlegend\":true,\"x\":[0,15,30,45,60,75,90,105,120,135,150,165,180,195],\"xaxis\":\"x\",\"y\":[2.810697458728464,1.9559942864724333,1.384515485220856,1.0,0.7405474607303366,0.5665063011290183,0.45275782225679223,0.3826723052622574,0.34213622489245293,0.3215496395935851,0.3144499653855254,0.31585295679461006,0.3212982372671018,0.32710950187045607],\"yaxis\":\"y\",\"type\":\"scattergl\"},{\"hovertemplate\":\"title=Godzilla vs. Kong<br>days_from_theatrical2=%{x}<br>multipler=%{y}<extra></extra>\",\"legendgroup\":\"Godzilla vs. Kong\",\"line\":{\"color\":\"#EF553B\",\"dash\":\"solid\"},\"marker\":{\"symbol\":\"circle\"},\"mode\":\"lines\",\"name\":\"Godzilla vs. Kong\",\"showlegend\":true,\"x\":[0,15,30,45,60,75,90,105,120,135,150,165,180,195],\"xaxis\":\"x\",\"y\":[2.4930231346212093,1.7882717123109868,1.3170549073714304,1.0,0.7860666111842609,0.6425597672283729,0.5487676708924861,0.4909781722822595,0.4575538663678501,0.4405790548299544,0.43472496927313786,0.4358818155598219,0.4403717592998659,0.44516347779065385],\"yaxis\":\"y\",\"type\":\"scattergl\"},{\"hovertemplate\":\"title=Fatale<br>days_from_theatrical2=%{x}<br>multipler=%{y}<extra></extra>\",\"legendgroup\":\"Fatale\",\"line\":{\"color\":\"#00cc96\",\"dash\":\"solid\"},\"marker\":{\"symbol\":\"circle\"},\"mode\":\"lines\",\"name\":\"Fatale\",\"showlegend\":true,\"x\":[0,15,30,45,60,75,90,105,120,135,150,165,180,195],\"xaxis\":\"x\",\"y\":[2.845596419542825,1.974419897543751,1.3919265470669697,1.0,0.7355468329570394,0.5581512446079853,0.44221040406444695,0.37077407514964655,0.32945671181422403,0.3084733454682598,0.30123683379417965,0.3026668661326987,0.30821709767192823,0.31414036723486194],\"yaxis\":\"y\",\"type\":\"scattergl\"},{\"hovertemplate\":\"title=The Matrix: Resurrections<br>days_from_theatrical2=%{x}<br>multipler=%{y}<extra></extra>\",\"legendgroup\":\"The Matrix: Resurrections\",\"line\":{\"color\":\"#ab63fa\",\"dash\":\"solid\"},\"marker\":{\"symbol\":\"circle\"},\"mode\":\"lines\",\"name\":\"The Matrix: Resurrections\",\"showlegend\":true,\"x\":[0,15,30,45,60,75,90,105,120,135,150,165,180,195],\"xaxis\":\"x\",\"y\":[2.516730391569323,1.800788437333751,1.3220893251117938,1.0,0.7826696284444573,0.6368840832785321,0.5416026909793237,0.4828955706252083,0.4489405303971446,0.431696181027287,0.425749140239387,0.42692435573384274,0.43148559391498376,0.4363533986356834],\"yaxis\":\"y\",\"type\":\"scattergl\"},{\"hovertemplate\":\"title=The Eyes of Tammy Faye<br>days_from_theatrical2=%{x}<br>multipler=%{y}<extra></extra>\",\"legendgroup\":\"The Eyes of Tammy Faye\",\"line\":{\"color\":\"#FFA15A\",\"dash\":\"solid\"},\"marker\":{\"symbol\":\"circle\"},\"mode\":\"lines\",\"name\":\"The Eyes of Tammy Faye\",\"showlegend\":true,\"x\":[0,15,30,45,60,75,90,105,120,135,150,165,180,195],\"xaxis\":\"x\",\"y\":[3.0390909791003247,2.076579257468168,1.433016600017117,1.0,0.7078212432567501,0.5118272869917316,0.3837310685778495,0.3048052685883274,0.2591561429369349,0.23597285509884294,0.22797765879345233,0.22955761745094597,0.235689741973795,0.24223401427767682],\"yaxis\":\"y\",\"type\":\"scattergl\"},{\"hovertemplate\":\"title=Reminiscence<br>days_from_theatrical2=%{x}<br>multipler=%{y}<extra></extra>\",\"legendgroup\":\"Reminiscence\",\"line\":{\"color\":\"#19d3f3\",\"dash\":\"solid\"},\"marker\":{\"symbol\":\"circle\"},\"mode\":\"lines\",\"name\":\"Reminiscence\",\"showlegend\":true,\"x\":[0,15,30,45,60,75,90,105,120,135,150,165,180,195],\"xaxis\":\"x\",\"y\":[2.680907399895972,1.8874690040810194,1.356953571325055,1.0,0.7591449134266585,0.5975789534977318,0.4919839194176023,0.4269221038317025,0.3892916332481568,0.3701806860268811,0.36358991358411274,0.3648923391385049,0.3699473041171094,0.37534201963263847],\"yaxis\":\"y\",\"type\":\"scattergl\"},{\"hovertemplate\":\"title=The Personal History of David Copperfield<br>days_from_theatrical2=%{x}<br>multipler=%{y}<extra></extra>\",\"legendgroup\":\"The Personal History of David Copperfield\",\"line\":{\"color\":\"#FF6692\",\"dash\":\"solid\"},\"marker\":{\"symbol\":\"circle\"},\"mode\":\"lines\",\"name\":\"The Personal History of David Copperfield\",\"showlegend\":true,\"x\":[0,15,30,45,60,75,90,105,120,135,150,165,180,195],\"xaxis\":\"x\",\"y\":[3.0684807303595676,2.092096170108236,1.4392577389834804,1.0,0.7036100231238928,0.5047911739619988,0.37484868383438635,0.2947853134012689,0.24847823944749609,0.2249608070960329,0.21685037472070104,0.21845310558032768,0.22467361341528214,0.23131220938453917],\"yaxis\":\"y\",\"type\":\"scattergl\"},{\"hovertemplate\":\"title=Wolf<br>days_from_theatrical2=%{x}<br>multipler=%{y}<extra></extra>\",\"legendgroup\":\"Wolf\",\"line\":{\"color\":\"#B6E880\",\"dash\":\"solid\"},\"marker\":{\"symbol\":\"circle\"},\"mode\":\"lines\",\"name\":\"Wolf\",\"showlegend\":true,\"x\":[0,15,30,45,60,75,90,105,120,135,150,165,180,195],\"xaxis\":\"x\",\"y\":[3.065530013345086,2.0905382794770637,1.438631131606802,1.0,0.704032827617478,0.505497596355626,0.3757404710278389,0.2957913121249059,0.2495502958670066,0.2260664114653782,0.21796754873652815,0.21956799327791762,0.2257796274704746,0.23240875338869862],\"yaxis\":\"y\",\"type\":\"scattergl\"},{\"hovertemplate\":\"title=The French Dispatch<br>days_from_theatrical2=%{x}<br>multipler=%{y}<extra></extra>\",\"legendgroup\":\"The French Dispatch\",\"line\":{\"color\":\"#FF97FF\",\"dash\":\"solid\"},\"marker\":{\"symbol\":\"circle\"},\"mode\":\"lines\",\"name\":\"The French Dispatch\",\"showlegend\":true,\"x\":[0,15,30,45,60,75,90,105,120,135,150,165,180,195],\"xaxis\":\"x\",\"y\":[2.8856281655145897,1.9955554661844659,1.400427595186505,1.0,0.72981073491719,0.5485673632423207,0.43011171814712507,0.357125905855572,0.31491235190352673,0.2934738477049423,0.28608037311416434,0.2875414234426967,0.2932120417884389,0.29926378950616034],\"yaxis\":\"y\",\"type\":\"scattergl\"},{\"hovertemplate\":\"title=Barbarian<br>days_from_theatrical2=%{x}<br>multipler=%{y}<extra></extra>\",\"legendgroup\":\"Barbarian\",\"line\":{\"color\":\"#FECB52\",\"dash\":\"solid\"},\"marker\":{\"symbol\":\"circle\"},\"mode\":\"lines\",\"name\":\"Barbarian\",\"showlegend\":true,\"x\":[0,15,30,45,60,75,90,105,120,135,150,165,180,195],\"xaxis\":\"x\",\"y\":[2.6879756732005573,1.8912008417007353,1.3584545733429725,1.0,0.7581321095215708,0.595886759186268,0.489847694363855,0.424512291610522,0.38672358360671155,0.3675322741964902,0.36091378732940804,0.3622216896279558,0.36729791090777886,0.3727153113871951],\"yaxis\":\"y\",\"type\":\"scattergl\"},{\"hovertemplate\":\"title=Fantastic Beasts: The Secrets of Dumbledore<br>days_from_theatrical2=%{x}<br>multipler=%{y}<extra></extra>\",\"legendgroup\":\"Fantastic Beasts: The Secrets of Dumbledore\",\"line\":{\"color\":\"#636efa\",\"dash\":\"solid\"},\"marker\":{\"symbol\":\"circle\"},\"mode\":\"lines\",\"name\":\"Fantastic Beasts: The Secrets of Dumbledore\",\"showlegend\":true,\"x\":[0,15,30,45,60,75,90,105,120,135,150,165,180,195],\"xaxis\":\"x\",\"y\":[2.4955325106655777,1.7895965880650575,1.3175877926100166,1.0,0.7857070458777808,0.6419590049651424,0.5480092689823949,0.49012264154672414,0.45664215823585225,0.4396388165402886,0.4337748918177447,0.43493368245632225,0.43943117260137415,0.444230944700519],\"yaxis\":\"y\",\"type\":\"scattergl\"},{\"hovertemplate\":\"title=Wonder Woman 1984<br>days_from_theatrical2=%{x}<br>multipler=%{y}<extra></extra>\",\"legendgroup\":\"Wonder Woman 1984\",\"line\":{\"color\":\"#EF553B\",\"dash\":\"solid\"},\"marker\":{\"symbol\":\"circle\"},\"mode\":\"lines\",\"name\":\"Wonder Woman 1984\",\"showlegend\":true,\"x\":[0,15,30,45,60,75,90,105,120,135,150,165,180,195],\"xaxis\":\"x\",\"y\":[2.5006404826175666,1.7922934450016095,1.3186725096090646,1.0,0.7849751310639184,0.6407361205762996,0.5464655004851311,0.48838116202196336,0.4547863265532683,0.43772491016400855,0.43184095728239685,0.4330037057554177,0.43751655701990577,0.4423327226785899],\"yaxis\":\"y\",\"type\":\"scattergl\"},{\"hovertemplate\":\"title=Irresistible<br>days_from_theatrical2=%{x}<br>multipler=%{y}<extra></extra>\",\"legendgroup\":\"Irresistible\",\"line\":{\"color\":\"#00cc96\",\"dash\":\"solid\"},\"marker\":{\"symbol\":\"circle\"},\"mode\":\"lines\",\"name\":\"Irresistible\",\"showlegend\":true,\"x\":[0,15,30,45,60,75,90,105,120,135,150,165,180,195],\"xaxis\":\"x\",\"y\":[2.8954947380552536,2.000764722391499,1.4025228374975007,1.0,0.728396966268417,0.5462052364247162,0.4271297707113515,0.35376205926036686,0.3113276223686815,0.2897769409335098,0.2823447798961081,0.2838134751884317,0.28951376511433197,0.29559717867633095],\"yaxis\":\"y\",\"type\":\"scattergl\"},{\"hovertemplate\":\"title=ELVIS<br>days_from_theatrical2=%{x}<br>multipler=%{y}<extra></extra>\",\"legendgroup\":\"ELVIS\",\"line\":{\"color\":\"#ab63fa\",\"dash\":\"solid\"},\"marker\":{\"symbol\":\"circle\"},\"mode\":\"lines\",\"name\":\"ELVIS\",\"showlegend\":true,\"x\":[0,15,30,45,60,75,90,105,120,135,150,165,180,195],\"xaxis\":\"x\",\"y\":[2.5474616114196875,1.817013605404576,1.3286153352164833,1.0,0.7782661909808478,0.6295268132390045,0.5323148778250332,0.4724182636542129,0.43777524366911463,0.4201814980620556,0.41411396135812056,0.4153129884712612,0.4199666441407796,0.4249330778451758],\"yaxis\":\"y\",\"type\":\"scattergl\"},{\"hovertemplate\":\"title=Dune<br>days_from_theatrical2=%{x}<br>multipler=%{y}<extra></extra>\",\"legendgroup\":\"Dune\",\"line\":{\"color\":\"#FFA15A\",\"dash\":\"solid\"},\"marker\":{\"symbol\":\"circle\"},\"mode\":\"lines\",\"name\":\"Dune\",\"showlegend\":true,\"x\":[0,15,30,45,60,75,90,105,120,135,150,165,180,195],\"xaxis\":\"x\",\"y\":[2.5109599130350873,1.7977417966692155,1.3208639197615812,1.0,0.7834964729851042,0.638265576399874,0.5433466870425387,0.48486292093760125,0.451037064400887,0.4338583220422865,0.42793390707595613,0.42910465140281245,0.43364853611944953,0.4384978210275274],\"yaxis\":\"y\",\"type\":\"scattergl\"},{\"hovertemplate\":\"title=The Menu<br>days_from_theatrical2=%{x}<br>multipler=%{y}<extra></extra>\",\"legendgroup\":\"The Menu\",\"line\":{\"color\":\"#19d3f3\",\"dash\":\"solid\"},\"marker\":{\"symbol\":\"circle\"},\"mode\":\"lines\",\"name\":\"The Menu\",\"showlegend\":true,\"x\":[0,15,30,45,60,75,90,105,120,135,150,165,180,195],\"xaxis\":\"x\",\"y\":[2.6101338586265603,1.8501026838485422,1.3419242673235388,1.0,0.7692859642725255,0.6145226367393338,0.5133736146779365,0.45105118562261926,0.41500512216524643,0.3966988292705245,0.39038555712640693,0.3916331448778781,0.39647527375822345,0.40164284819435775],\"yaxis\":\"y\",\"type\":\"scattergl\"},{\"hovertemplate\":\"title=West Side Story (2021)<br>days_from_theatrical2=%{x}<br>multipler=%{y}<extra></extra>\",\"legendgroup\":\"West Side Story (2021)\",\"line\":{\"color\":\"#FF6692\",\"dash\":\"solid\"},\"marker\":{\"symbol\":\"circle\"},\"mode\":\"lines\",\"name\":\"West Side Story (2021)\",\"showlegend\":true,\"x\":[0,15,30,45,60,75,90,105,120,135,150,165,180,195],\"xaxis\":\"x\",\"y\":[2.731450310034574,1.9141541540939455,1.3676867457285065,1.0,0.7519026840225539,0.5854786255483725,0.4767084728870957,0.4096903249661641,0.3709283503549151,0.3512427594095847,0.3444538101848358,0.3457953981450582,0.35100235998005297,0.35655928825134875],\"yaxis\":\"y\",\"type\":\"scattergl\"},{\"hovertemplate\":\"title=Moonfall<br>days_from_theatrical2=%{x}<br>multipler=%{y}<extra></extra>\",\"legendgroup\":\"Moonfall\",\"line\":{\"color\":\"#B6E880\",\"dash\":\"solid\"},\"marker\":{\"symbol\":\"circle\"},\"mode\":\"lines\",\"name\":\"Moonfall\",\"showlegend\":true,\"x\":[0,15,30,45,60,75,90,105,120,135,150,165,180,195],\"xaxis\":\"x\",\"y\":[2.619687087459528,1.8551465039178001,1.343952968696276,1.0,0.7679170942456828,0.6122355266078202,0.5104863682603589,0.44779416844157177,0.411534236869514,0.39311932927535587,0.38676859929308754,0.38802358921874136,0.3928944473659019,0.39809268199891074],\"yaxis\":\"y\",\"type\":\"scattergl\"},{\"hovertemplate\":\"title=The New Mutants<br>days_from_theatrical2=%{x}<br>multipler=%{y}<extra></extra>\",\"legendgroup\":\"The New Mutants\",\"line\":{\"color\":\"#FF97FF\",\"dash\":\"solid\"},\"marker\":{\"symbol\":\"circle\"},\"mode\":\"lines\",\"name\":\"The New Mutants\",\"showlegend\":true,\"x\":[0,15,30,45,60,75,90,105,120,135,150,165,180,195],\"xaxis\":\"x\",\"y\":[2.67242360355782,1.8829898124922906,1.3551519721403023,1.0,0.7603605458295019,0.5996100339730271,0.4945479541552871,0.42981451548821953,0.39237397163624793,0.3733594802840246,0.36680197247624985,0.3680978244899773,0.37312727628839254,0.37849476385088865],\"yaxis\":\"y\",\"type\":\"scattergl\"},{\"hovertemplate\":\"title=The Bob's Burgers Movie<br>days_from_theatrical2=%{x}<br>multipler=%{y}<extra></extra>\",\"legendgroup\":\"The Bob's Burgers Movie\",\"line\":{\"color\":\"#FECB52\",\"dash\":\"solid\"},\"marker\":{\"symbol\":\"circle\"},\"mode\":\"lines\",\"name\":\"The Bob's Burgers Movie\",\"showlegend\":true,\"x\":[0,15,30,45,60,75,90,105,120,135,150,165,180,195],\"xaxis\":\"x\",\"y\":[2.7030793928766004,1.8991751554908076,1.361661963993397,1.0,0.7559679167109637,0.5922708225329552,0.48528293816579576,0.41936292532372016,0.3812360903778728,0.36187306039006967,0.35519535242643496,0.3565149576126448,0.3616366000584494,0.36710247451738554],\"yaxis\":\"y\",\"type\":\"scattergl\"},{\"hovertemplate\":\"title=Half Brothers<br>days_from_theatrical2=%{x}<br>multipler=%{y}<extra></extra>\",\"legendgroup\":\"Half Brothers\",\"line\":{\"color\":\"#636efa\",\"dash\":\"solid\"},\"marker\":{\"symbol\":\"circle\"},\"mode\":\"lines\",\"name\":\"Half Brothers\",\"showlegend\":true,\"x\":[0,15,30,45,60,75,90,105,120,135,150,165,180,195],\"xaxis\":\"x\",\"y\":[3.2621559273097285,2.194350901191693,1.4803861516686303,1.0,0.6758585501210211,0.45842397048425687,0.31631475479895343,0.2287549214742371,0.17811204127554772,0.15239263368903355,0.1435228084102105,0.14527560555295121,0.15207854959936296,0.159338728048432],\"yaxis\":\"y\",\"type\":\"scattergl\"},{\"hovertemplate\":\"title=Promising Young Woman<br>days_from_theatrical2=%{x}<br>multipler=%{y}<extra></extra>\",\"legendgroup\":\"Promising Young Woman\",\"line\":{\"color\":\"#EF553B\",\"dash\":\"solid\"},\"marker\":{\"symbol\":\"circle\"},\"mode\":\"lines\",\"name\":\"Promising Young Woman\",\"showlegend\":true,\"x\":[0,15,30,45,60,75,90,105,120,135,150,165,180,195],\"xaxis\":\"x\",\"y\":[3.0364660329141544,2.0751933641240434,1.4324591725730178,1.0,0.708197368462077,0.512455717559244,0.38452439893817886,0.30570020107421014,0.26010984008781163,0.23695639637321422,0.22897149237957656,0.23054941713740865,0.23667364770307558,0.24320949548701057],\"yaxis\":\"y\",\"type\":\"scattergl\"},{\"hovertemplate\":\"title=Ron's Gone Wrong<br>days_from_theatrical2=%{x}<br>multipler=%{y}<extra></extra>\",\"legendgroup\":\"Ron's Gone Wrong\",\"line\":{\"color\":\"#00cc96\",\"dash\":\"solid\"},\"marker\":{\"symbol\":\"circle\"},\"mode\":\"lines\",\"name\":\"Ron's Gone Wrong\",\"showlegend\":true,\"x\":[0,15,30,45,60,75,90,105,120,135,150,165,180,195],\"xaxis\":\"x\",\"y\":[2.939330981128494,2.023908952100565,1.4118317997398198,1.0,0.7221157266706204,0.5357105317114433,0.41388126196250347,0.3388168088807854,0.2954010101035114,0.27335193587894446,0.26574789463989723,0.2672505557789954,0.27308267371251976,0.27930677560789346],\"yaxis\":\"y\",\"type\":\"scattergl\"}],                        {\"template\":{\"data\":{\"bar\":[{\"error_x\":{\"color\":\"#2a3f5f\"},\"error_y\":{\"color\":\"#2a3f5f\"},\"marker\":{\"line\":{\"color\":\"#E5ECF6\",\"width\":0.5},\"pattern\":{\"fillmode\":\"overlay\",\"size\":10,\"solidity\":0.2}},\"type\":\"bar\"}],\"barpolar\":[{\"marker\":{\"line\":{\"color\":\"#E5ECF6\",\"width\":0.5},\"pattern\":{\"fillmode\":\"overlay\",\"size\":10,\"solidity\":0.2}},\"type\":\"barpolar\"}],\"carpet\":[{\"aaxis\":{\"endlinecolor\":\"#2a3f5f\",\"gridcolor\":\"white\",\"linecolor\":\"white\",\"minorgridcolor\":\"white\",\"startlinecolor\":\"#2a3f5f\"},\"baxis\":{\"endlinecolor\":\"#2a3f5f\",\"gridcolor\":\"white\",\"linecolor\":\"white\",\"minorgridcolor\":\"white\",\"startlinecolor\":\"#2a3f5f\"},\"type\":\"carpet\"}],\"choropleth\":[{\"colorbar\":{\"outlinewidth\":0,\"ticks\":\"\"},\"type\":\"choropleth\"}],\"contour\":[{\"colorbar\":{\"outlinewidth\":0,\"ticks\":\"\"},\"colorscale\":[[0.0,\"#0d0887\"],[0.1111111111111111,\"#46039f\"],[0.2222222222222222,\"#7201a8\"],[0.3333333333333333,\"#9c179e\"],[0.4444444444444444,\"#bd3786\"],[0.5555555555555556,\"#d8576b\"],[0.6666666666666666,\"#ed7953\"],[0.7777777777777778,\"#fb9f3a\"],[0.8888888888888888,\"#fdca26\"],[1.0,\"#f0f921\"]],\"type\":\"contour\"}],\"contourcarpet\":[{\"colorbar\":{\"outlinewidth\":0,\"ticks\":\"\"},\"type\":\"contourcarpet\"}],\"heatmap\":[{\"colorbar\":{\"outlinewidth\":0,\"ticks\":\"\"},\"colorscale\":[[0.0,\"#0d0887\"],[0.1111111111111111,\"#46039f\"],[0.2222222222222222,\"#7201a8\"],[0.3333333333333333,\"#9c179e\"],[0.4444444444444444,\"#bd3786\"],[0.5555555555555556,\"#d8576b\"],[0.6666666666666666,\"#ed7953\"],[0.7777777777777778,\"#fb9f3a\"],[0.8888888888888888,\"#fdca26\"],[1.0,\"#f0f921\"]],\"type\":\"heatmap\"}],\"heatmapgl\":[{\"colorbar\":{\"outlinewidth\":0,\"ticks\":\"\"},\"colorscale\":[[0.0,\"#0d0887\"],[0.1111111111111111,\"#46039f\"],[0.2222222222222222,\"#7201a8\"],[0.3333333333333333,\"#9c179e\"],[0.4444444444444444,\"#bd3786\"],[0.5555555555555556,\"#d8576b\"],[0.6666666666666666,\"#ed7953\"],[0.7777777777777778,\"#fb9f3a\"],[0.8888888888888888,\"#fdca26\"],[1.0,\"#f0f921\"]],\"type\":\"heatmapgl\"}],\"histogram\":[{\"marker\":{\"pattern\":{\"fillmode\":\"overlay\",\"size\":10,\"solidity\":0.2}},\"type\":\"histogram\"}],\"histogram2d\":[{\"colorbar\":{\"outlinewidth\":0,\"ticks\":\"\"},\"colorscale\":[[0.0,\"#0d0887\"],[0.1111111111111111,\"#46039f\"],[0.2222222222222222,\"#7201a8\"],[0.3333333333333333,\"#9c179e\"],[0.4444444444444444,\"#bd3786\"],[0.5555555555555556,\"#d8576b\"],[0.6666666666666666,\"#ed7953\"],[0.7777777777777778,\"#fb9f3a\"],[0.8888888888888888,\"#fdca26\"],[1.0,\"#f0f921\"]],\"type\":\"histogram2d\"}],\"histogram2dcontour\":[{\"colorbar\":{\"outlinewidth\":0,\"ticks\":\"\"},\"colorscale\":[[0.0,\"#0d0887\"],[0.1111111111111111,\"#46039f\"],[0.2222222222222222,\"#7201a8\"],[0.3333333333333333,\"#9c179e\"],[0.4444444444444444,\"#bd3786\"],[0.5555555555555556,\"#d8576b\"],[0.6666666666666666,\"#ed7953\"],[0.7777777777777778,\"#fb9f3a\"],[0.8888888888888888,\"#fdca26\"],[1.0,\"#f0f921\"]],\"type\":\"histogram2dcontour\"}],\"mesh3d\":[{\"colorbar\":{\"outlinewidth\":0,\"ticks\":\"\"},\"type\":\"mesh3d\"}],\"parcoords\":[{\"line\":{\"colorbar\":{\"outlinewidth\":0,\"ticks\":\"\"}},\"type\":\"parcoords\"}],\"pie\":[{\"automargin\":true,\"type\":\"pie\"}],\"scatter\":[{\"marker\":{\"colorbar\":{\"outlinewidth\":0,\"ticks\":\"\"}},\"type\":\"scatter\"}],\"scatter3d\":[{\"line\":{\"colorbar\":{\"outlinewidth\":0,\"ticks\":\"\"}},\"marker\":{\"colorbar\":{\"outlinewidth\":0,\"ticks\":\"\"}},\"type\":\"scatter3d\"}],\"scattercarpet\":[{\"marker\":{\"colorbar\":{\"outlinewidth\":0,\"ticks\":\"\"}},\"type\":\"scattercarpet\"}],\"scattergeo\":[{\"marker\":{\"colorbar\":{\"outlinewidth\":0,\"ticks\":\"\"}},\"type\":\"scattergeo\"}],\"scattergl\":[{\"marker\":{\"colorbar\":{\"outlinewidth\":0,\"ticks\":\"\"}},\"type\":\"scattergl\"}],\"scattermapbox\":[{\"marker\":{\"colorbar\":{\"outlinewidth\":0,\"ticks\":\"\"}},\"type\":\"scattermapbox\"}],\"scatterpolar\":[{\"marker\":{\"colorbar\":{\"outlinewidth\":0,\"ticks\":\"\"}},\"type\":\"scatterpolar\"}],\"scatterpolargl\":[{\"marker\":{\"colorbar\":{\"outlinewidth\":0,\"ticks\":\"\"}},\"type\":\"scatterpolargl\"}],\"scatterternary\":[{\"marker\":{\"colorbar\":{\"outlinewidth\":0,\"ticks\":\"\"}},\"type\":\"scatterternary\"}],\"surface\":[{\"colorbar\":{\"outlinewidth\":0,\"ticks\":\"\"},\"colorscale\":[[0.0,\"#0d0887\"],[0.1111111111111111,\"#46039f\"],[0.2222222222222222,\"#7201a8\"],[0.3333333333333333,\"#9c179e\"],[0.4444444444444444,\"#bd3786\"],[0.5555555555555556,\"#d8576b\"],[0.6666666666666666,\"#ed7953\"],[0.7777777777777778,\"#fb9f3a\"],[0.8888888888888888,\"#fdca26\"],[1.0,\"#f0f921\"]],\"type\":\"surface\"}],\"table\":[{\"cells\":{\"fill\":{\"color\":\"#EBF0F8\"},\"line\":{\"color\":\"white\"}},\"header\":{\"fill\":{\"color\":\"#C8D4E3\"},\"line\":{\"color\":\"white\"}},\"type\":\"table\"}]},\"layout\":{\"annotationdefaults\":{\"arrowcolor\":\"#2a3f5f\",\"arrowhead\":0,\"arrowwidth\":1},\"autotypenumbers\":\"strict\",\"coloraxis\":{\"colorbar\":{\"outlinewidth\":0,\"ticks\":\"\"}},\"colorscale\":{\"diverging\":[[0,\"#8e0152\"],[0.1,\"#c51b7d\"],[0.2,\"#de77ae\"],[0.3,\"#f1b6da\"],[0.4,\"#fde0ef\"],[0.5,\"#f7f7f7\"],[0.6,\"#e6f5d0\"],[0.7,\"#b8e186\"],[0.8,\"#7fbc41\"],[0.9,\"#4d9221\"],[1,\"#276419\"]],\"sequential\":[[0.0,\"#0d0887\"],[0.1111111111111111,\"#46039f\"],[0.2222222222222222,\"#7201a8\"],[0.3333333333333333,\"#9c179e\"],[0.4444444444444444,\"#bd3786\"],[0.5555555555555556,\"#d8576b\"],[0.6666666666666666,\"#ed7953\"],[0.7777777777777778,\"#fb9f3a\"],[0.8888888888888888,\"#fdca26\"],[1.0,\"#f0f921\"]],\"sequentialminus\":[[0.0,\"#0d0887\"],[0.1111111111111111,\"#46039f\"],[0.2222222222222222,\"#7201a8\"],[0.3333333333333333,\"#9c179e\"],[0.4444444444444444,\"#bd3786\"],[0.5555555555555556,\"#d8576b\"],[0.6666666666666666,\"#ed7953\"],[0.7777777777777778,\"#fb9f3a\"],[0.8888888888888888,\"#fdca26\"],[1.0,\"#f0f921\"]]},\"colorway\":[\"#636efa\",\"#EF553B\",\"#00cc96\",\"#ab63fa\",\"#FFA15A\",\"#19d3f3\",\"#FF6692\",\"#B6E880\",\"#FF97FF\",\"#FECB52\"],\"font\":{\"color\":\"#2a3f5f\"},\"geo\":{\"bgcolor\":\"white\",\"lakecolor\":\"white\",\"landcolor\":\"#E5ECF6\",\"showlakes\":true,\"showland\":true,\"subunitcolor\":\"white\"},\"hoverlabel\":{\"align\":\"left\"},\"hovermode\":\"closest\",\"mapbox\":{\"style\":\"light\"},\"paper_bgcolor\":\"white\",\"plot_bgcolor\":\"#E5ECF6\",\"polar\":{\"angularaxis\":{\"gridcolor\":\"white\",\"linecolor\":\"white\",\"ticks\":\"\"},\"bgcolor\":\"#E5ECF6\",\"radialaxis\":{\"gridcolor\":\"white\",\"linecolor\":\"white\",\"ticks\":\"\"}},\"scene\":{\"xaxis\":{\"backgroundcolor\":\"#E5ECF6\",\"gridcolor\":\"white\",\"gridwidth\":2,\"linecolor\":\"white\",\"showbackground\":true,\"ticks\":\"\",\"zerolinecolor\":\"white\"},\"yaxis\":{\"backgroundcolor\":\"#E5ECF6\",\"gridcolor\":\"white\",\"gridwidth\":2,\"linecolor\":\"white\",\"showbackground\":true,\"ticks\":\"\",\"zerolinecolor\":\"white\"},\"zaxis\":{\"backgroundcolor\":\"#E5ECF6\",\"gridcolor\":\"white\",\"gridwidth\":2,\"linecolor\":\"white\",\"showbackground\":true,\"ticks\":\"\",\"zerolinecolor\":\"white\"}},\"shapedefaults\":{\"line\":{\"color\":\"#2a3f5f\"}},\"ternary\":{\"aaxis\":{\"gridcolor\":\"white\",\"linecolor\":\"white\",\"ticks\":\"\"},\"baxis\":{\"gridcolor\":\"white\",\"linecolor\":\"white\",\"ticks\":\"\"},\"bgcolor\":\"#E5ECF6\",\"caxis\":{\"gridcolor\":\"white\",\"linecolor\":\"white\",\"ticks\":\"\"}},\"title\":{\"x\":0.05},\"xaxis\":{\"automargin\":true,\"gridcolor\":\"white\",\"linecolor\":\"white\",\"ticks\":\"\",\"title\":{\"standoff\":15},\"zerolinecolor\":\"white\",\"zerolinewidth\":2},\"yaxis\":{\"automargin\":true,\"gridcolor\":\"white\",\"linecolor\":\"white\",\"ticks\":\"\",\"title\":{\"standoff\":15},\"zerolinecolor\":\"white\",\"zerolinewidth\":2}}},\"xaxis\":{\"anchor\":\"y\",\"domain\":[0.0,1.0],\"title\":{\"text\":\"days_from_theatrical2\"}},\"yaxis\":{\"anchor\":\"x\",\"domain\":[0.0,1.0],\"title\":{\"text\":\"multipler\"}},\"legend\":{\"title\":{\"text\":\"title\"},\"tracegroupgap\":0},\"title\":{\"text\":\"Release day V.S. cumulative viewership\"}},                        {\"responsive\": true}                    ).then(function(){\n",
       "                            \n",
       "var gd = document.getElementById('39624502-7a70-4311-a03d-15ba8b16e4d1');\n",
       "var x = new MutationObserver(function (mutations, observer) {{\n",
       "        var display = window.getComputedStyle(gd).display;\n",
       "        if (!display || display === 'none') {{\n",
       "            console.log([gd, 'removed!']);\n",
       "            Plotly.purge(gd);\n",
       "            observer.disconnect();\n",
       "        }}\n",
       "}});\n",
       "\n",
       "// Listen for the removal of the full notebook cells\n",
       "var notebookContainer = gd.closest('#notebook-container');\n",
       "if (notebookContainer) {{\n",
       "    x.observe(notebookContainer, {childList: true});\n",
       "}}\n",
       "\n",
       "// Listen for the clearing of the current output cell\n",
       "var outputEl = gd.closest('.output');\n",
       "if (outputEl) {{\n",
       "    x.observe(outputEl, {childList: true});\n",
       "}}\n",
       "\n",
       "                        })                };                });            </script>        </div>"
      ]
     },
     "metadata": {},
     "output_type": "display_data"
    }
   ],
   "source": [
    "plot_df = scoring_data\n",
    "fig = px.line(plot_df, x=\"days_from_theatrical2\", y=\"multipler\", color = 'title',\n",
    "              title='Release day V.S. cumulative viewership')\n",
    "fig.show()"
   ]
  },
  {
   "cell_type": "markdown",
   "id": "57bf7368",
   "metadata": {},
   "source": [
    "##### 1.132 Scoring2"
   ]
  },
  {
   "cell_type": "code",
   "execution_count": 134,
   "id": "875d50a4",
   "metadata": {},
   "outputs": [],
   "source": [
    "scoring_data = training_data[META_COLS+FEATURE_COLS].copy()\n",
    "scoring_data.drop(['days_from_theatrical2'], axis = 1, inplace = True)"
   ]
  },
  {
   "cell_type": "code",
   "execution_count": 135,
   "id": "e6fe47ee",
   "metadata": {},
   "outputs": [
    {
     "data": {
      "text/html": [
       "<div>\n",
       "<style scoped>\n",
       "    .dataframe tbody tr th:only-of-type {\n",
       "        vertical-align: middle;\n",
       "    }\n",
       "\n",
       "    .dataframe tbody tr th {\n",
       "        vertical-align: top;\n",
       "    }\n",
       "\n",
       "    .dataframe thead th {\n",
       "        text-align: right;\n",
       "    }\n",
       "</style>\n",
       "<table border=\"1\" class=\"dataframe\">\n",
       "  <thead>\n",
       "    <tr style=\"text-align: right;\">\n",
       "      <th></th>\n",
       "      <th>title_id</th>\n",
       "      <th>title</th>\n",
       "      <th>home_territory_observed_medal</th>\n",
       "      <th>pillar_genres</th>\n",
       "      <th>imdb_id</th>\n",
       "      <th>area_gross</th>\n",
       "      <th>budget</th>\n",
       "      <th>genre_Action/Adventure</th>\n",
       "      <th>genre_Comedy</th>\n",
       "      <th>genre_Drama</th>\n",
       "      <th>medal_number</th>\n",
       "    </tr>\n",
       "  </thead>\n",
       "  <tbody>\n",
       "    <tr>\n",
       "      <th>0</th>\n",
       "      <td>GYPXEhQg3DFbCwwEAAADm</td>\n",
       "      <td>News of the World</td>\n",
       "      <td>Silver</td>\n",
       "      <td>Action/Adventure</td>\n",
       "      <td>tt6878306</td>\n",
       "      <td>2,250,430.00</td>\n",
       "      <td>38,000,000.00</td>\n",
       "      <td>1</td>\n",
       "      <td>0</td>\n",
       "      <td>0</td>\n",
       "      <td>2</td>\n",
       "    </tr>\n",
       "    <tr>\n",
       "      <th>2</th>\n",
       "      <td>GYXB0OgEQO5OhegEAAAAl</td>\n",
       "      <td>King Richard</td>\n",
       "      <td>Platinum</td>\n",
       "      <td>Drama</td>\n",
       "      <td>tt9620288</td>\n",
       "      <td>5,406,033.00</td>\n",
       "      <td>50,000,000.00</td>\n",
       "      <td>0</td>\n",
       "      <td>0</td>\n",
       "      <td>1</td>\n",
       "      <td>0</td>\n",
       "    </tr>\n",
       "    <tr>\n",
       "      <th>4</th>\n",
       "      <td>GYbzvWABDj8LDwgEAAAAp</td>\n",
       "      <td>The Last Duel</td>\n",
       "      <td>Gold</td>\n",
       "      <td>Drama</td>\n",
       "      <td>tt4244994</td>\n",
       "      <td>4,759,151.00</td>\n",
       "      <td>100,000,000.00</td>\n",
       "      <td>0</td>\n",
       "      <td>0</td>\n",
       "      <td>1</td>\n",
       "      <td>1</td>\n",
       "    </tr>\n",
       "    <tr>\n",
       "      <th>5</th>\n",
       "      <td>GYm0w5wSRXaTDYQEAAAD4</td>\n",
       "      <td>Last Night in Soho</td>\n",
       "      <td>Silver</td>\n",
       "      <td>Suspense/Thriller</td>\n",
       "      <td>tt9639470</td>\n",
       "      <td>4,178,460.00</td>\n",
       "      <td>43,000,000.00</td>\n",
       "      <td>0</td>\n",
       "      <td>0</td>\n",
       "      <td>0</td>\n",
       "      <td>2</td>\n",
       "    </tr>\n",
       "    <tr>\n",
       "      <th>6</th>\n",
       "      <td>GYd9P0QTRLMLDJwEAAAAP</td>\n",
       "      <td>Antlers</td>\n",
       "      <td>Silver</td>\n",
       "      <td>Horror</td>\n",
       "      <td>tt7740510</td>\n",
       "      <td>4,271,346.00</td>\n",
       "      <td>0.00</td>\n",
       "      <td>0</td>\n",
       "      <td>0</td>\n",
       "      <td>0</td>\n",
       "      <td>2</td>\n",
       "    </tr>\n",
       "  </tbody>\n",
       "</table>\n",
       "</div>"
      ],
      "text/plain": [
       "                title_id               title home_territory_observed_medal  \\\n",
       "0  GYPXEhQg3DFbCwwEAAADm   News of the World                        Silver   \n",
       "2  GYXB0OgEQO5OhegEAAAAl        King Richard                      Platinum   \n",
       "4  GYbzvWABDj8LDwgEAAAAp       The Last Duel                          Gold   \n",
       "5  GYm0w5wSRXaTDYQEAAAD4  Last Night in Soho                        Silver   \n",
       "6  GYd9P0QTRLMLDJwEAAAAP             Antlers                        Silver   \n",
       "\n",
       "       pillar_genres    imdb_id   area_gross         budget  \\\n",
       "0  Action/Adventure   tt6878306 2,250,430.00  38,000,000.00   \n",
       "2              Drama  tt9620288 5,406,033.00  50,000,000.00   \n",
       "4              Drama  tt4244994 4,759,151.00 100,000,000.00   \n",
       "5  Suspense/Thriller  tt9639470 4,178,460.00  43,000,000.00   \n",
       "6            Horror   tt7740510 4,271,346.00           0.00   \n",
       "\n",
       "   genre_Action/Adventure   genre_Comedy  genre_Drama  medal_number  \n",
       "0                        1             0            0             2  \n",
       "2                        0             0            1             0  \n",
       "4                        0             0            1             1  \n",
       "5                        0             0            0             2  \n",
       "6                        0             0            0             2  "
      ]
     },
     "execution_count": 135,
     "metadata": {},
     "output_type": "execute_result"
    }
   ],
   "source": [
    "scoring_data.head()"
   ]
  },
  {
   "cell_type": "code",
   "execution_count": 136,
   "id": "2c67f4ec",
   "metadata": {},
   "outputs": [],
   "source": [
    "scoring_data = scoring_data.groupby(['home_territory_observed_medal', 'pillar_genres']).mean().reset_index()"
   ]
  },
  {
   "cell_type": "code",
   "execution_count": 137,
   "id": "6999db37",
   "metadata": {},
   "outputs": [],
   "source": [
    "pred_day = [*range(0, 200, 15)]\n",
    "df = pd.DataFrame(pred_day, columns =['days_from_theatrical2'])"
   ]
  },
  {
   "cell_type": "code",
   "execution_count": 138,
   "id": "48af7e9f",
   "metadata": {},
   "outputs": [],
   "source": [
    "scoring_data=cartesian_product_basic(scoring_data, df)"
   ]
  },
  {
   "cell_type": "code",
   "execution_count": 139,
   "id": "3a1e4083",
   "metadata": {},
   "outputs": [],
   "source": [
    "pred = gam.predict(scoring_data[FEATURE_COLS])\n",
    "pred = pd.DataFrame(pred)\n",
    "pred.columns = ['pred']\n",
    "scoring_data = pd.concat([scoring_data, pred], axis = 1)"
   ]
  },
  {
   "cell_type": "code",
   "execution_count": 140,
   "id": "2a5640f7",
   "metadata": {},
   "outputs": [
    {
     "data": {
      "text/html": [
       "<div>\n",
       "<style scoped>\n",
       "    .dataframe tbody tr th:only-of-type {\n",
       "        vertical-align: middle;\n",
       "    }\n",
       "\n",
       "    .dataframe tbody tr th {\n",
       "        vertical-align: top;\n",
       "    }\n",
       "\n",
       "    .dataframe thead th {\n",
       "        text-align: right;\n",
       "    }\n",
       "</style>\n",
       "<table border=\"1\" class=\"dataframe\">\n",
       "  <thead>\n",
       "    <tr style=\"text-align: right;\">\n",
       "      <th></th>\n",
       "      <th>home_territory_observed_medal</th>\n",
       "      <th>pillar_genres</th>\n",
       "      <th>area_gross</th>\n",
       "      <th>budget</th>\n",
       "      <th>genre_Action/Adventure</th>\n",
       "      <th>genre_Comedy</th>\n",
       "      <th>genre_Drama</th>\n",
       "      <th>medal_number</th>\n",
       "      <th>days_from_theatrical2</th>\n",
       "      <th>pred</th>\n",
       "    </tr>\n",
       "  </thead>\n",
       "  <tbody>\n",
       "    <tr>\n",
       "      <th>0</th>\n",
       "      <td>Bronze</td>\n",
       "      <td>Comedy</td>\n",
       "      <td>700,160.00</td>\n",
       "      <td>0.00</td>\n",
       "      <td>0</td>\n",
       "      <td>1</td>\n",
       "      <td>0</td>\n",
       "      <td>3</td>\n",
       "      <td>0</td>\n",
       "      <td>16.08</td>\n",
       "    </tr>\n",
       "    <tr>\n",
       "      <th>1</th>\n",
       "      <td>Bronze</td>\n",
       "      <td>Comedy</td>\n",
       "      <td>700,160.00</td>\n",
       "      <td>0.00</td>\n",
       "      <td>0</td>\n",
       "      <td>1</td>\n",
       "      <td>0</td>\n",
       "      <td>3</td>\n",
       "      <td>15</td>\n",
       "      <td>15.61</td>\n",
       "    </tr>\n",
       "    <tr>\n",
       "      <th>2</th>\n",
       "      <td>Bronze</td>\n",
       "      <td>Comedy</td>\n",
       "      <td>700,160.00</td>\n",
       "      <td>0.00</td>\n",
       "      <td>0</td>\n",
       "      <td>1</td>\n",
       "      <td>0</td>\n",
       "      <td>3</td>\n",
       "      <td>30</td>\n",
       "      <td>15.17</td>\n",
       "    </tr>\n",
       "    <tr>\n",
       "      <th>3</th>\n",
       "      <td>Bronze</td>\n",
       "      <td>Comedy</td>\n",
       "      <td>700,160.00</td>\n",
       "      <td>0.00</td>\n",
       "      <td>0</td>\n",
       "      <td>1</td>\n",
       "      <td>0</td>\n",
       "      <td>3</td>\n",
       "      <td>45</td>\n",
       "      <td>14.78</td>\n",
       "    </tr>\n",
       "    <tr>\n",
       "      <th>4</th>\n",
       "      <td>Bronze</td>\n",
       "      <td>Comedy</td>\n",
       "      <td>700,160.00</td>\n",
       "      <td>0.00</td>\n",
       "      <td>0</td>\n",
       "      <td>1</td>\n",
       "      <td>0</td>\n",
       "      <td>3</td>\n",
       "      <td>60</td>\n",
       "      <td>14.45</td>\n",
       "    </tr>\n",
       "  </tbody>\n",
       "</table>\n",
       "</div>"
      ],
      "text/plain": [
       "  home_territory_observed_medal pillar_genres  area_gross  budget  \\\n",
       "0                        Bronze        Comedy  700,160.00    0.00   \n",
       "1                        Bronze        Comedy  700,160.00    0.00   \n",
       "2                        Bronze        Comedy  700,160.00    0.00   \n",
       "3                        Bronze        Comedy  700,160.00    0.00   \n",
       "4                        Bronze        Comedy  700,160.00    0.00   \n",
       "\n",
       "   genre_Action/Adventure   genre_Comedy  genre_Drama  medal_number  \\\n",
       "0                        0             1            0             3   \n",
       "1                        0             1            0             3   \n",
       "2                        0             1            0             3   \n",
       "3                        0             1            0             3   \n",
       "4                        0             1            0             3   \n",
       "\n",
       "   days_from_theatrical2  pred  \n",
       "0                      0 16.08  \n",
       "1                     15 15.61  \n",
       "2                     30 15.17  \n",
       "3                     45 14.78  \n",
       "4                     60 14.45  "
      ]
     },
     "execution_count": 140,
     "metadata": {},
     "output_type": "execute_result"
    }
   ],
   "source": [
    "scoring_data.head()"
   ]
  },
  {
   "cell_type": "code",
   "execution_count": 141,
   "id": "64e7b40f",
   "metadata": {},
   "outputs": [],
   "source": [
    "scoring_data['title_id'] = np.NAN\n",
    "scoring_data['imdb_id'] = np.NAN\n",
    "scoring_data['title'] = np.NAN\n",
    "scoring_data['kpi'] = 'first_views'"
   ]
  },
  {
   "cell_type": "code",
   "execution_count": 142,
   "id": "75f98f0d",
   "metadata": {},
   "outputs": [],
   "source": [
    "scoring_data['pred'] = 2**scoring_data['pred'] - 10000"
   ]
  },
  {
   "cell_type": "code",
   "execution_count": 143,
   "id": "943e2620",
   "metadata": {},
   "outputs": [
    {
     "name": "stderr",
     "output_type": "stream",
     "text": [
      "/home/ec2-user/anaconda3/envs/python3/lib/python3.6/site-packages/boto3/compat.py:88: PythonDeprecationWarning:\n",
      "\n",
      "Boto3 will no longer support Python 3.6 starting May 30, 2022. To continue receiving service updates, bug fixes, and security updates please upgrade to Python 3.7 or later. More information can be found here: https://aws.amazon.com/blogs/developer/python-support-policy-updates-for-aws-sdks-and-tools/\n",
      "\n"
     ]
    }
   ],
   "source": [
    "write_to_sf(scoring_data[OUTPUT_COLS], 'genre_level_first_views')"
   ]
  },
  {
   "cell_type": "markdown",
   "id": "364b4fa5",
   "metadata": {},
   "source": [
    "# WRITE TO SF"
   ]
  },
  {
   "cell_type": "code",
   "execution_count": 5,
   "id": "6cd2d120",
   "metadata": {},
   "outputs": [],
   "source": [
    "import boto3\n",
    "import io"
   ]
  },
  {
   "cell_type": "code",
   "execution_count": 6,
   "id": "def4f9f6",
   "metadata": {},
   "outputs": [],
   "source": [
    "def to_s3(filename, output_bucket, content):\n",
    "    client = boto3.client('s3')\n",
    "    client.put_object(Bucket=output_bucket, Key=filename, Body=content)"
   ]
  },
  {
   "cell_type": "code",
   "execution_count": 7,
   "id": "c205f30c",
   "metadata": {},
   "outputs": [
    {
     "name": "stderr",
     "output_type": "stream",
     "text": [
      "/home/ec2-user/anaconda3/envs/python3/lib/python3.6/site-packages/boto3/compat.py:88: PythonDeprecationWarning: Boto3 will no longer support Python 3.6 starting May 30, 2022. To continue receiving service updates, bug fixes, and security updates please upgrade to Python 3.7 or later. More information can be found here: https://aws.amazon.com/blogs/developer/python-support-policy-updates-for-aws-sdks-and-tools/\n",
      "  warnings.warn(warning, PythonDeprecationWarning)\n"
     ]
    }
   ],
   "source": [
    "output_bucket = 'hbo-outbound-datascience-content-dev'\n",
    "s3 = boto3.resource('s3')\n",
    "bucket = s3.Bucket(output_bucket)"
   ]
  },
  {
   "cell_type": "code",
   "execution_count": 8,
   "id": "a677dae7",
   "metadata": {},
   "outputs": [],
   "source": [
    "def write_to_sf(df, file_name):\n",
    "    csv_buffer = io.StringIO()\n",
    "    df.to_csv(csv_buffer, index = False)\n",
    "    content = csv_buffer.getvalue()\n",
    "    filename = 'movie_windowing/movie_window_prediction_{}.csv'.format(file_name)\n",
    "    to_s3(filename, output_bucket, content)"
   ]
  },
  {
   "cell_type": "code",
   "execution_count": 9,
   "id": "b045d43a",
   "metadata": {},
   "outputs": [],
   "source": [
    "OUTPUT_COLS = ['title_id', 'imdb_id', 'title', 'home_territory_observed_medal', 'pillar_genres', 'area_gross', 'medal_number', 'budget', 'days_from_theatrical2', 'kpi', 'pred']"
   ]
  },
  {
   "cell_type": "code",
   "execution_count": 10,
   "id": "71901a79",
   "metadata": {},
   "outputs": [],
   "source": [
    "from abc import ABCMeta, abstractmethod\n",
    "\n",
    "class Credentials(metaclass=ABCMeta):\n",
    "    pass\n",
    "    \n",
    "    \n",
    "class SSMPSCredentials(Credentials):\n",
    "    def __init__(self, secretid: str):\n",
    "        self._secretid = secretid\n",
    "        self._secrets = {}\n",
    "        \n",
    "    def get_keys(self):\n",
    "        \"\"\"\n",
    "        credential fetching \n",
    "        \"\"\"\n",
    "        _aws_sm_args = {'service_name': 'secretsmanager', 'region_name': 'us-east-1'}\n",
    "        secrets_client = boto3.client(**_aws_sm_args)\n",
    "        get_secret_value_response = secrets_client.get_secret_value(SecretId=self._secretid)\n",
    "        return get_secret_value_response\n",
    "    \n",
    "    \n",
    "class BaseConnector(metaclass=ABCMeta):\n",
    "    @abstractmethod\n",
    "    def connect(self):\n",
    "        raise NotImplementedError\n",
    "    \n",
    "\n",
    "class SnowflakeConnector(BaseConnector):\n",
    "    def __init__(self, credentials: Credentials):\n",
    "        keys = credentials.get_keys()\n",
    "        self._secrets = json.loads(keys.get('SecretString', \"{}\"))\n",
    "\n",
    "    def connect(self, dbname: str, schema: str = 'DEFAULT'):\n",
    "        ctx = snowflake.connector.connect(\n",
    "            user=self._secrets['login_name'],\n",
    "            password=self._secrets['login_password'],\n",
    "            account=self._secrets['account'],\n",
    "            warehouse=self._secrets['warehouse'],\n",
    "            database=dbname,\n",
    "            schema=schema\n",
    "        )\n",
    "\n",
    "        return ctx\n",
    "    \n",
    "## Credentials\n",
    "SF_CREDS = 'datascience-max-dev-sagemaker-notebooks'\n",
    "\n",
    "## Snowflake connection \n",
    "conn=SnowflakeConnector(SSMPSCredentials(SF_CREDS))\n",
    "ctx=conn.connect(\"MAX_DEV\",\"WORKSPACE\")\n",
    "\n",
    "def run_query(query):\n",
    "    cursor = ctx.cursor()\n",
    "    cursor.execute(query)\n",
    "    df = pd.DataFrame(cursor.fetchall(), columns = [desc[0] for desc in cursor.description])\n",
    "    df.columns= df.columns.str.lower()\n",
    "    return df"
   ]
  },
  {
   "cell_type": "code",
   "execution_count": 154,
   "id": "2b9a1cd0",
   "metadata": {},
   "outputs": [
    {
     "data": {
      "text/html": [
       "<div>\n",
       "<style scoped>\n",
       "    .dataframe tbody tr th:only-of-type {\n",
       "        vertical-align: middle;\n",
       "    }\n",
       "\n",
       "    .dataframe tbody tr th {\n",
       "        vertical-align: top;\n",
       "    }\n",
       "\n",
       "    .dataframe thead th {\n",
       "        text-align: right;\n",
       "    }\n",
       "</style>\n",
       "<table border=\"1\" class=\"dataframe\">\n",
       "  <thead>\n",
       "    <tr style=\"text-align: right;\">\n",
       "      <th></th>\n",
       "      <th>status</th>\n",
       "    </tr>\n",
       "  </thead>\n",
       "  <tbody>\n",
       "    <tr>\n",
       "      <th>0</th>\n",
       "      <td>Table MOVIE_WINDOW_PREDICTION_TITLE_LEVEL_SUBS...</td>\n",
       "    </tr>\n",
       "  </tbody>\n",
       "</table>\n",
       "</div>"
      ],
      "text/plain": [
       "                                              status\n",
       "0  Table MOVIE_WINDOW_PREDICTION_TITLE_LEVEL_SUBS..."
      ]
     },
     "execution_count": 154,
     "metadata": {},
     "output_type": "execute_result"
    }
   ],
   "source": [
    "run_query('''\n",
    "create or replace table max_dev.workspace.movie_window_prediction_title_level_subs\n",
    "(\n",
    "title_id\tVARCHAR,\n",
    "imdb_id\tVARCHAR,\n",
    "title\tVARCHAR,\n",
    "home_territory_observed_medal\tVARCHAR,\n",
    "pillar_genres\tVARCHAR,\n",
    "area_gross\tFLOAT,\n",
    "medal_number\tINT,\n",
    "budget\tFLOAT,\n",
    "days_from_theatrical2\tINT,\n",
    "kpi\tVARCHAR,\n",
    "pred FLOAT\n",
    ");\n",
    "\n",
    "''')\n"
   ]
  },
  {
   "cell_type": "code",
   "execution_count": 18,
   "id": "54085725",
   "metadata": {},
   "outputs": [
    {
     "data": {
      "text/html": [
       "<div>\n",
       "<style scoped>\n",
       "    .dataframe tbody tr th:only-of-type {\n",
       "        vertical-align: middle;\n",
       "    }\n",
       "\n",
       "    .dataframe tbody tr th {\n",
       "        vertical-align: top;\n",
       "    }\n",
       "\n",
       "    .dataframe thead th {\n",
       "        text-align: right;\n",
       "    }\n",
       "</style>\n",
       "<table border=\"1\" class=\"dataframe\">\n",
       "  <thead>\n",
       "    <tr style=\"text-align: right;\">\n",
       "      <th></th>\n",
       "      <th>status</th>\n",
       "    </tr>\n",
       "  </thead>\n",
       "  <tbody>\n",
       "    <tr>\n",
       "      <th>0</th>\n",
       "      <td>Table MOVIE_WINDOW_PREDICTION_ACTUAL_VALUE suc...</td>\n",
       "    </tr>\n",
       "  </tbody>\n",
       "</table>\n",
       "</div>"
      ],
      "text/plain": [
       "                                              status\n",
       "0  Table MOVIE_WINDOW_PREDICTION_ACTUAL_VALUE suc..."
      ]
     },
     "execution_count": 18,
     "metadata": {},
     "output_type": "execute_result"
    }
   ],
   "source": [
    "# run_query('''\n",
    "# create or replace table max_dev.workspace.movie_window_prediction_actual_value\n",
    "# (\n",
    "# title_id\tVARCHAR,\n",
    "# days_from_theatrical2 int,\n",
    "# value FLOAT,\n",
    "# kpi\tVARCHAR\n",
    "# );\n",
    "\n",
    "# ''')"
   ]
  },
  {
   "cell_type": "code",
   "execution_count": null,
   "id": "c22cb0f2",
   "metadata": {},
   "outputs": [],
   "source": [
    "#first_views #genre_level_first_views"
   ]
  },
  {
   "cell_type": "code",
   "execution_count": 155,
   "id": "9ed64094",
   "metadata": {},
   "outputs": [
    {
     "data": {
      "text/html": [
       "<div>\n",
       "<style scoped>\n",
       "    .dataframe tbody tr th:only-of-type {\n",
       "        vertical-align: middle;\n",
       "    }\n",
       "\n",
       "    .dataframe tbody tr th {\n",
       "        vertical-align: top;\n",
       "    }\n",
       "\n",
       "    .dataframe thead th {\n",
       "        text-align: right;\n",
       "    }\n",
       "</style>\n",
       "<table border=\"1\" class=\"dataframe\">\n",
       "  <thead>\n",
       "    <tr style=\"text-align: right;\">\n",
       "      <th></th>\n",
       "      <th>file</th>\n",
       "      <th>status</th>\n",
       "      <th>rows_parsed</th>\n",
       "      <th>rows_loaded</th>\n",
       "      <th>error_limit</th>\n",
       "      <th>errors_seen</th>\n",
       "      <th>first_error</th>\n",
       "      <th>first_error_line</th>\n",
       "      <th>first_error_character</th>\n",
       "      <th>first_error_column_name</th>\n",
       "    </tr>\n",
       "  </thead>\n",
       "  <tbody>\n",
       "    <tr>\n",
       "      <th>0</th>\n",
       "      <td>s3://hbo-outbound-datascience-content-dev/movi...</td>\n",
       "      <td>LOADED</td>\n",
       "      <td>1022</td>\n",
       "      <td>1022</td>\n",
       "      <td>1022</td>\n",
       "      <td>0</td>\n",
       "      <td>None</td>\n",
       "      <td>None</td>\n",
       "      <td>None</td>\n",
       "      <td>None</td>\n",
       "    </tr>\n",
       "  </tbody>\n",
       "</table>\n",
       "</div>"
      ],
      "text/plain": [
       "                                                file  status  rows_parsed  \\\n",
       "0  s3://hbo-outbound-datascience-content-dev/movi...  LOADED         1022   \n",
       "\n",
       "   rows_loaded  error_limit  errors_seen first_error first_error_line  \\\n",
       "0         1022         1022            0        None             None   \n",
       "\n",
       "  first_error_character first_error_column_name  \n",
       "0                  None                    None  "
      ]
     },
     "execution_count": 155,
     "metadata": {},
     "output_type": "execute_result"
    }
   ],
   "source": [
    "run_query('''\n",
    "copy into max_dev.workspace.movie_window_prediction_title_level_subs\n",
    "    from(\n",
    "        select\n",
    "              $1, $2, $3, $4, $5, $6, $7, $8, $9, $10, $11\n",
    "        from @HBO_OUTBOUND_DATASCIENCE_CONTENT_DEV/movie_windowing/movie_window_prediction_title_level_subs.csv\n",
    "        )\n",
    "    file_format = (type = csv null_if=('') skip_header = 1  FIELD_OPTIONALLY_ENCLOSED_BY='\"')\n",
    "    on_error = 'CONTINUE';\n",
    "\n",
    "''')"
   ]
  },
  {
   "cell_type": "code",
   "execution_count": 19,
   "id": "0bbb80aa",
   "metadata": {},
   "outputs": [
    {
     "data": {
      "text/html": [
       "<div>\n",
       "<style scoped>\n",
       "    .dataframe tbody tr th:only-of-type {\n",
       "        vertical-align: middle;\n",
       "    }\n",
       "\n",
       "    .dataframe tbody tr th {\n",
       "        vertical-align: top;\n",
       "    }\n",
       "\n",
       "    .dataframe thead th {\n",
       "        text-align: right;\n",
       "    }\n",
       "</style>\n",
       "<table border=\"1\" class=\"dataframe\">\n",
       "  <thead>\n",
       "    <tr style=\"text-align: right;\">\n",
       "      <th></th>\n",
       "      <th>file</th>\n",
       "      <th>status</th>\n",
       "      <th>rows_parsed</th>\n",
       "      <th>rows_loaded</th>\n",
       "      <th>error_limit</th>\n",
       "      <th>errors_seen</th>\n",
       "      <th>first_error</th>\n",
       "      <th>first_error_line</th>\n",
       "      <th>first_error_character</th>\n",
       "      <th>first_error_column_name</th>\n",
       "    </tr>\n",
       "  </thead>\n",
       "  <tbody>\n",
       "    <tr>\n",
       "      <th>0</th>\n",
       "      <td>s3://hbo-outbound-datascience-content-dev/movi...</td>\n",
       "      <td>LOADED</td>\n",
       "      <td>206</td>\n",
       "      <td>206</td>\n",
       "      <td>206</td>\n",
       "      <td>0</td>\n",
       "      <td>None</td>\n",
       "      <td>None</td>\n",
       "      <td>None</td>\n",
       "      <td>None</td>\n",
       "    </tr>\n",
       "  </tbody>\n",
       "</table>\n",
       "</div>"
      ],
      "text/plain": [
       "                                                file  status  rows_parsed  \\\n",
       "0  s3://hbo-outbound-datascience-content-dev/movi...  LOADED          206   \n",
       "\n",
       "   rows_loaded  error_limit  errors_seen first_error first_error_line  \\\n",
       "0          206          206            0        None             None   \n",
       "\n",
       "  first_error_character first_error_column_name  \n",
       "0                  None                    None  "
      ]
     },
     "execution_count": 19,
     "metadata": {},
     "output_type": "execute_result"
    }
   ],
   "source": [
    "# run_query('''\n",
    "# copy into max_dev.workspace.movie_window_prediction_actual_value\n",
    "#     from(\n",
    "#         select\n",
    "#               $1, $2, $3, $4\n",
    "#         from @HBO_OUTBOUND_DATASCIENCE_CONTENT_DEV/movie_windowing/movie_window_prediction_actual_value.csv\n",
    "#         )\n",
    "#     file_format = (type = csv null_if=('') skip_header = 1  FIELD_OPTIONALLY_ENCLOSED_BY='\"')\n",
    "#     on_error = 'CONTINUE';\n",
    "\n",
    "# ''')"
   ]
  },
  {
   "cell_type": "code",
   "execution_count": 189,
   "id": "144e8946",
   "metadata": {},
   "outputs": [
    {
     "data": {
      "text/html": [
       "<div>\n",
       "<style scoped>\n",
       "    .dataframe tbody tr th:only-of-type {\n",
       "        vertical-align: middle;\n",
       "    }\n",
       "\n",
       "    .dataframe tbody tr th {\n",
       "        vertical-align: top;\n",
       "    }\n",
       "\n",
       "    .dataframe thead th {\n",
       "        text-align: right;\n",
       "    }\n",
       "</style>\n",
       "<table border=\"1\" class=\"dataframe\">\n",
       "  <thead>\n",
       "    <tr style=\"text-align: right;\">\n",
       "      <th></th>\n",
       "      <th>Unnamed: 0</th>\n",
       "      <th>title_id</th>\n",
       "      <th>title</th>\n",
       "      <th>home_territory_observed_medal</th>\n",
       "      <th>pillar_genres</th>\n",
       "      <th>imdb_id</th>\n",
       "      <th>theatrical_release_date</th>\n",
       "      <th>offering_start_date</th>\n",
       "      <th>days_from_theatrical2</th>\n",
       "      <th>pct_actives</th>\n",
       "      <th>days_from_max_launch</th>\n",
       "      <th>cumulative_viewing_subs</th>\n",
       "      <th>cumulative_first_views</th>\n",
       "      <th>area_gross</th>\n",
       "      <th>budget</th>\n",
       "      <th>genre_Action/Adventure</th>\n",
       "      <th>genre_Comedy</th>\n",
       "      <th>genre_Drama</th>\n",
       "      <th>genre_Horror</th>\n",
       "      <th>genre_Kids/Family</th>\n",
       "      <th>genre_Romance</th>\n",
       "      <th>genre_Sci-Fi</th>\n",
       "      <th>genre_Suspense/Thriller</th>\n",
       "      <th>medal_number</th>\n",
       "      <th>platform</th>\n",
       "      <th>medal_Bronze</th>\n",
       "      <th>medal_Gold</th>\n",
       "      <th>medal_Platinum</th>\n",
       "      <th>medal_Silver</th>\n",
       "      <th>log_cumulative_first_views</th>\n",
       "    </tr>\n",
       "  </thead>\n",
       "  <tbody>\n",
       "    <tr>\n",
       "      <th>0</th>\n",
       "      <td>0</td>\n",
       "      <td>GYPXEhQg3DFbCwwEAAADm</td>\n",
       "      <td>News of the World</td>\n",
       "      <td>Silver</td>\n",
       "      <td>Action/Adventure</td>\n",
       "      <td>tt6878306</td>\n",
       "      <td>2020-12-25</td>\n",
       "      <td>2021-09-05</td>\n",
       "      <td>250</td>\n",
       "      <td>0.09</td>\n",
       "      <td>-219</td>\n",
       "      <td>2557041</td>\n",
       "      <td>25362</td>\n",
       "      <td>2,250,430.00</td>\n",
       "      <td>38,000,000.00</td>\n",
       "      <td>1</td>\n",
       "      <td>0</td>\n",
       "      <td>0</td>\n",
       "      <td>0</td>\n",
       "      <td>0</td>\n",
       "      <td>0</td>\n",
       "      <td>0</td>\n",
       "      <td>0</td>\n",
       "      <td>2</td>\n",
       "      <td>1.00</td>\n",
       "      <td>0</td>\n",
       "      <td>0</td>\n",
       "      <td>0</td>\n",
       "      <td>1</td>\n",
       "      <td>14.63</td>\n",
       "    </tr>\n",
       "    <tr>\n",
       "      <th>3</th>\n",
       "      <td>3</td>\n",
       "      <td>GYbzvWABDj8LDwgEAAAAp</td>\n",
       "      <td>The Last Duel</td>\n",
       "      <td>Gold</td>\n",
       "      <td>Drama</td>\n",
       "      <td>tt4244994</td>\n",
       "      <td>2021-10-15</td>\n",
       "      <td>2022-01-14</td>\n",
       "      <td>91</td>\n",
       "      <td>0.16</td>\n",
       "      <td>-513</td>\n",
       "      <td>5012315</td>\n",
       "      <td>33314</td>\n",
       "      <td>4,759,151.00</td>\n",
       "      <td>100,000,000.00</td>\n",
       "      <td>0</td>\n",
       "      <td>0</td>\n",
       "      <td>1</td>\n",
       "      <td>0</td>\n",
       "      <td>0</td>\n",
       "      <td>0</td>\n",
       "      <td>0</td>\n",
       "      <td>0</td>\n",
       "      <td>1</td>\n",
       "      <td>1.00</td>\n",
       "      <td>0</td>\n",
       "      <td>1</td>\n",
       "      <td>0</td>\n",
       "      <td>0</td>\n",
       "      <td>15.02</td>\n",
       "    </tr>\n",
       "    <tr>\n",
       "      <th>4</th>\n",
       "      <td>4</td>\n",
       "      <td>GYm0w5wSRXaTDYQEAAAD4</td>\n",
       "      <td>Last Night in Soho</td>\n",
       "      <td>Silver</td>\n",
       "      <td>Suspense/Thriller</td>\n",
       "      <td>tt9639470</td>\n",
       "      <td>2021-10-29</td>\n",
       "      <td>2022-07-01</td>\n",
       "      <td>245</td>\n",
       "      <td>0.07</td>\n",
       "      <td>-527</td>\n",
       "      <td>2005376</td>\n",
       "      <td>8975</td>\n",
       "      <td>4,178,460.00</td>\n",
       "      <td>43,000,000.00</td>\n",
       "      <td>0</td>\n",
       "      <td>0</td>\n",
       "      <td>0</td>\n",
       "      <td>0</td>\n",
       "      <td>0</td>\n",
       "      <td>0</td>\n",
       "      <td>0</td>\n",
       "      <td>1</td>\n",
       "      <td>2</td>\n",
       "      <td>1.00</td>\n",
       "      <td>0</td>\n",
       "      <td>0</td>\n",
       "      <td>0</td>\n",
       "      <td>1</td>\n",
       "      <td>13.13</td>\n",
       "    </tr>\n",
       "    <tr>\n",
       "      <th>6</th>\n",
       "      <td>6</td>\n",
       "      <td>GYd9P0QTRLMLDJwEAAAAP</td>\n",
       "      <td>Antlers</td>\n",
       "      <td>Silver</td>\n",
       "      <td>Horror</td>\n",
       "      <td>tt7740510</td>\n",
       "      <td>2021-10-11</td>\n",
       "      <td>2022-02-11</td>\n",
       "      <td>123</td>\n",
       "      <td>0.09</td>\n",
       "      <td>-509</td>\n",
       "      <td>2614867</td>\n",
       "      <td>14444</td>\n",
       "      <td>4,271,346.00</td>\n",
       "      <td>0.00</td>\n",
       "      <td>0</td>\n",
       "      <td>0</td>\n",
       "      <td>0</td>\n",
       "      <td>1</td>\n",
       "      <td>0</td>\n",
       "      <td>0</td>\n",
       "      <td>0</td>\n",
       "      <td>0</td>\n",
       "      <td>2</td>\n",
       "      <td>1.00</td>\n",
       "      <td>0</td>\n",
       "      <td>0</td>\n",
       "      <td>0</td>\n",
       "      <td>1</td>\n",
       "      <td>13.82</td>\n",
       "    </tr>\n",
       "    <tr>\n",
       "      <th>7</th>\n",
       "      <td>7</td>\n",
       "      <td>GYfinBwyKBImYsgEAAACn</td>\n",
       "      <td>Halloween Kills</td>\n",
       "      <td>Silver</td>\n",
       "      <td>Horror</td>\n",
       "      <td>tt10665338</td>\n",
       "      <td>2021-10-15</td>\n",
       "      <td>2022-03-18</td>\n",
       "      <td>137</td>\n",
       "      <td>0.10</td>\n",
       "      <td>-513</td>\n",
       "      <td>2838005</td>\n",
       "      <td>28030</td>\n",
       "      <td>49,404,980.00</td>\n",
       "      <td>20,000,000.00</td>\n",
       "      <td>0</td>\n",
       "      <td>0</td>\n",
       "      <td>0</td>\n",
       "      <td>1</td>\n",
       "      <td>0</td>\n",
       "      <td>0</td>\n",
       "      <td>0</td>\n",
       "      <td>0</td>\n",
       "      <td>2</td>\n",
       "      <td>1.00</td>\n",
       "      <td>0</td>\n",
       "      <td>0</td>\n",
       "      <td>0</td>\n",
       "      <td>1</td>\n",
       "      <td>14.77</td>\n",
       "    </tr>\n",
       "  </tbody>\n",
       "</table>\n",
       "</div>"
      ],
      "text/plain": [
       "   Unnamed: 0               title_id               title  \\\n",
       "0           0  GYPXEhQg3DFbCwwEAAADm   News of the World   \n",
       "3           3  GYbzvWABDj8LDwgEAAAAp       The Last Duel   \n",
       "4           4  GYm0w5wSRXaTDYQEAAAD4  Last Night in Soho   \n",
       "6           6  GYd9P0QTRLMLDJwEAAAAP             Antlers   \n",
       "7           7  GYfinBwyKBImYsgEAAACn     Halloween Kills   \n",
       "\n",
       "  home_territory_observed_medal      pillar_genres     imdb_id  \\\n",
       "0                        Silver  Action/Adventure    tt6878306   \n",
       "3                          Gold              Drama   tt4244994   \n",
       "4                        Silver  Suspense/Thriller   tt9639470   \n",
       "6                        Silver            Horror    tt7740510   \n",
       "7                        Silver            Horror   tt10665338   \n",
       "\n",
       "  theatrical_release_date offering_start_date  days_from_theatrical2  \\\n",
       "0              2020-12-25          2021-09-05                    250   \n",
       "3              2021-10-15          2022-01-14                     91   \n",
       "4              2021-10-29          2022-07-01                    245   \n",
       "6              2021-10-11          2022-02-11                    123   \n",
       "7              2021-10-15          2022-03-18                    137   \n",
       "\n",
       "   pct_actives  days_from_max_launch  cumulative_viewing_subs  \\\n",
       "0         0.09                  -219                  2557041   \n",
       "3         0.16                  -513                  5012315   \n",
       "4         0.07                  -527                  2005376   \n",
       "6         0.09                  -509                  2614867   \n",
       "7         0.10                  -513                  2838005   \n",
       "\n",
       "   cumulative_first_views    area_gross         budget  \\\n",
       "0                   25362  2,250,430.00  38,000,000.00   \n",
       "3                   33314  4,759,151.00 100,000,000.00   \n",
       "4                    8975  4,178,460.00  43,000,000.00   \n",
       "6                   14444  4,271,346.00           0.00   \n",
       "7                   28030 49,404,980.00  20,000,000.00   \n",
       "\n",
       "   genre_Action/Adventure   genre_Comedy  genre_Drama  genre_Horror   \\\n",
       "0                        1             0            0              0   \n",
       "3                        0             0            1              0   \n",
       "4                        0             0            0              0   \n",
       "6                        0             0            0              1   \n",
       "7                        0             0            0              1   \n",
       "\n",
       "   genre_Kids/Family  genre_Romance  genre_Sci-Fi  genre_Suspense/Thriller  \\\n",
       "0                  0              0             0                        0   \n",
       "3                  0              0             0                        0   \n",
       "4                  0              0             0                        1   \n",
       "6                  0              0             0                        0   \n",
       "7                  0              0             0                        0   \n",
       "\n",
       "   medal_number  platform  medal_Bronze  medal_Gold  medal_Platinum  \\\n",
       "0             2      1.00             0           0               0   \n",
       "3             1      1.00             0           1               0   \n",
       "4             2      1.00             0           0               0   \n",
       "6             2      1.00             0           0               0   \n",
       "7             2      1.00             0           0               0   \n",
       "\n",
       "   medal_Silver  log_cumulative_first_views  \n",
       "0             1                       14.63  \n",
       "3             0                       15.02  \n",
       "4             1                       13.13  \n",
       "6             1                       13.82  \n",
       "7             1                       14.77  "
      ]
     },
     "execution_count": 189,
     "metadata": {},
     "output_type": "execute_result"
    }
   ],
   "source": [
    "training_data.head()"
   ]
  },
  {
   "cell_type": "code",
   "execution_count": 15,
   "id": "457fb868",
   "metadata": {},
   "outputs": [],
   "source": [
    "df1 = training_data[['title_id', 'days_from_theatrical2', 'cumulative_viewing_subs']].rename(columns = {'cumulative_viewing_subs':'value'})\n",
    "df1['kpi'] = 'viewing_subs'\n",
    "df2 = training_data[['title_id', 'days_from_theatrical2', 'cumulative_first_views']].rename(columns = {'cumulative_first_views':'value'})\n",
    "df2['kpi'] = 'first_views'\n",
    "actual_data = pd.concat([df1, df2], axis = 0)"
   ]
  },
  {
   "cell_type": "code",
   "execution_count": 16,
   "id": "f313c00e",
   "metadata": {},
   "outputs": [
    {
     "name": "stderr",
     "output_type": "stream",
     "text": [
      "/home/ec2-user/anaconda3/envs/python3/lib/python3.6/site-packages/boto3/compat.py:88: PythonDeprecationWarning: Boto3 will no longer support Python 3.6 starting May 30, 2022. To continue receiving service updates, bug fixes, and security updates please upgrade to Python 3.7 or later. More information can be found here: https://aws.amazon.com/blogs/developer/python-support-policy-updates-for-aws-sdks-and-tools/\n",
      "  warnings.warn(warning, PythonDeprecationWarning)\n"
     ]
    }
   ],
   "source": [
    "write_to_sf(actual_data, 'actual_value')"
   ]
  },
  {
   "cell_type": "code",
   "execution_count": 1,
   "id": "3be337a0",
   "metadata": {},
   "outputs": [
    {
     "ename": "NameError",
     "evalue": "name 'actual_data' is not defined",
     "output_type": "error",
     "traceback": [
      "\u001b[0;31m---------------------------------------------------------------------------\u001b[0m",
      "\u001b[0;31mNameError\u001b[0m                                 Traceback (most recent call last)",
      "\u001b[0;32m<ipython-input-1-36e23ef02cd4>\u001b[0m in \u001b[0;36m<module>\u001b[0;34m\u001b[0m\n\u001b[0;32m----> 1\u001b[0;31m \u001b[0mactual_data\u001b[0m\u001b[0;34m.\u001b[0m\u001b[0mtail\u001b[0m\u001b[0;34m(\u001b[0m\u001b[0;34m)\u001b[0m\u001b[0;34m\u001b[0m\u001b[0;34m\u001b[0m\u001b[0m\n\u001b[0m",
      "\u001b[0;31mNameError\u001b[0m: name 'actual_data' is not defined"
     ]
    }
   ],
   "source": [
    "actual_data.tail()"
   ]
  },
  {
   "cell_type": "code",
   "execution_count": null,
   "id": "65022f4d",
   "metadata": {},
   "outputs": [],
   "source": []
  }
 ],
 "metadata": {
  "kernelspec": {
   "display_name": "conda_python3",
   "language": "python",
   "name": "conda_python3"
  },
  "language_info": {
   "codemirror_mode": {
    "name": "ipython",
    "version": 3
   },
   "file_extension": ".py",
   "mimetype": "text/x-python",
   "name": "python",
   "nbconvert_exporter": "python",
   "pygments_lexer": "ipython3",
   "version": "3.6.13"
  }
 },
 "nbformat": 4,
 "nbformat_minor": 5
}
