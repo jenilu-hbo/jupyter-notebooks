{
 "cells": [
  {
   "cell_type": "code",
   "execution_count": 9,
   "id": "b3eaac46",
   "metadata": {},
   "outputs": [],
   "source": [
    "# general\n",
    "import boto3\n",
    "import datetime as dt\n",
    "import json\n",
    "import numpy as np\n",
    "import pandas as pd\n",
    "import snowflake.connector"
   ]
  },
  {
   "cell_type": "code",
   "execution_count": 2,
   "id": "26cba4a9",
   "metadata": {},
   "outputs": [],
   "source": [
    "pd.set_option('display.max_rows', 1000)\n",
    "pd.set_option('display.max_columns', 1000)"
   ]
  },
  {
   "cell_type": "code",
   "execution_count": 3,
   "id": "a12e35ca",
   "metadata": {},
   "outputs": [],
   "source": [
    "pd.options.display.float_format = '{:,.2f}'.format"
   ]
  },
  {
   "cell_type": "markdown",
   "id": "e2789302",
   "metadata": {},
   "source": [
    "## 1. \"The Northman\" Does not have viewership data --- 26 titls in total missing that"
   ]
  },
  {
   "cell_type": "markdown",
   "id": "e4a878dc",
   "metadata": {},
   "source": [
    "### 0.2 : Connection to Snowflake"
   ]
  },
  {
   "cell_type": "code",
   "execution_count": 9,
   "id": "16ca258e",
   "metadata": {},
   "outputs": [
    {
     "name": "stdout",
     "output_type": "stream",
     "text": [
      "datascience-max-dev-sagemaker-notebooks\n"
     ]
    }
   ],
   "source": [
    "from abc import ABCMeta, abstractmethod\n",
    "\n",
    "class Credentials(metaclass=ABCMeta):\n",
    "    pass\n",
    "    \n",
    "    \n",
    "class SSMPSCredentials(Credentials):\n",
    "    def __init__(self, secretid: str):\n",
    "        self._secretid = secretid\n",
    "        self._secrets = {}\n",
    "        \n",
    "    def get_keys(self):\n",
    "        \"\"\"\n",
    "        credential fetching \n",
    "        \"\"\"\n",
    "        _aws_sm_args = {'service_name': 'secretsmanager', 'region_name': 'us-east-1'}\n",
    "        secrets_client = boto3.client(**_aws_sm_args)\n",
    "        get_secret_value_response = secrets_client.get_secret_value(SecretId=self._secretid)\n",
    "        return get_secret_value_response\n",
    "    \n",
    "    \n",
    "class BaseConnector(metaclass=ABCMeta):\n",
    "    @abstractmethod\n",
    "    def connect(self):\n",
    "        raise NotImplementedError\n",
    "    \n",
    "\n",
    "class SnowflakeConnector(BaseConnector):\n",
    "    def __init__(self, credentials: Credentials):\n",
    "        keys = credentials.get_keys()\n",
    "        self._secrets = json.loads(keys.get('SecretString', \"{}\"))\n",
    "\n",
    "    def connect(self, dbname: str, schema: str = 'DEFAULT'):\n",
    "        ctx = snowflake.connector.connect(\n",
    "            user=self._secrets['login_name'],\n",
    "            password=self._secrets['login_password'],\n",
    "            account=self._secrets['account'],\n",
    "            warehouse=self._secrets['warehouse'],\n",
    "            database=dbname,\n",
    "            schema=schema\n",
    "        )\n",
    "\n",
    "        return ctx\n",
    "    \n",
    "## Credentials\n",
    "SF_CREDS = 'datascience-max-dev-sagemaker-notebooks'\n",
    "\n",
    "## Snowflake connection \n",
    "conn=SnowflakeConnector(SSMPSCredentials(SF_CREDS))\n",
    "ctx=conn.connect(\"MAX_PROD\",\"WORKSPACE\")\n",
    "\n",
    "def run_query(query):\n",
    "    cursor = ctx.cursor()\n",
    "    cursor.execute(query)\n",
    "    df = pd.DataFrame(cursor.fetchall(), columns = [desc[0] for desc in cursor.description])\n",
    "    df.columns= df.columns.str.lower()\n",
    "    return df"
   ]
  },
  {
   "cell_type": "code",
   "execution_count": 24,
   "id": "d8713cc0",
   "metadata": {},
   "outputs": [
    {
     "data": {
      "text/plain": [
       "{'ARN': 'arn:aws:secretsmanager:us-east-1:613630599026:secret:datascience-max-dev-sagemaker-notebooks-6P450a',\n",
       " 'Name': 'datascience-max-dev-sagemaker-notebooks',\n",
       " 'VersionId': 'c7acdf78-4842-4a9e-840b-9823979d9ceb',\n",
       " 'SecretString': '{\"login_name\":\"max.glue.dev\",\"login_password\":\"2p6R3teB8wm@9G\",\"warehouse\":\"MAX_DATASCIENCE_DEV\",\"role\":\"MAX_GLUE_DEV\",\"snowflake_url\":\"https://hbomax.us-east-1.snowflakecomputing.com/\",\"account\":\"hbomax.us-east-1\"}',\n",
       " 'VersionStages': ['AWSCURRENT'],\n",
       " 'CreatedDate': datetime.datetime(2021, 3, 24, 5, 43, 21, 52000, tzinfo=tzlocal()),\n",
       " 'ResponseMetadata': {'RequestId': 'b83aade1-13af-4408-8561-ace790e3d39f',\n",
       "  'HTTPStatusCode': 200,\n",
       "  'HTTPHeaders': {'x-amzn-requestid': 'b83aade1-13af-4408-8561-ace790e3d39f',\n",
       "   'content-type': 'application/x-amz-json-1.1',\n",
       "   'content-length': '528',\n",
       "   'date': 'Thu, 15 Feb 2024 00:40:49 GMT'},\n",
       "  'RetryAttempts': 0}}"
      ]
     },
     "execution_count": 24,
     "metadata": {},
     "output_type": "execute_result"
    }
   ],
   "source": [
    "get_secret_value_response"
   ]
  },
  {
   "cell_type": "code",
   "execution_count": 5,
   "id": "4846a86a",
   "metadata": {},
   "outputs": [],
   "source": [
    "original_movies = pd.read_csv('Pay-1 Titles Theatrical Window_v0.2.csv')"
   ]
  },
  {
   "cell_type": "code",
   "execution_count": 6,
   "id": "b5b39d89",
   "metadata": {},
   "outputs": [
    {
     "data": {
      "text/html": [
       "<div>\n",
       "<style scoped>\n",
       "    .dataframe tbody tr th:only-of-type {\n",
       "        vertical-align: middle;\n",
       "    }\n",
       "\n",
       "    .dataframe tbody tr th {\n",
       "        vertical-align: top;\n",
       "    }\n",
       "\n",
       "    .dataframe thead th {\n",
       "        text-align: right;\n",
       "    }\n",
       "</style>\n",
       "<table border=\"1\" class=\"dataframe\">\n",
       "  <thead>\n",
       "    <tr style=\"text-align: right;\">\n",
       "      <th></th>\n",
       "      <th>Title Name</th>\n",
       "      <th>Hbomax Title ID</th>\n",
       "      <th>Reporting Content Category</th>\n",
       "      <th>Net Studio</th>\n",
       "      <th>Wbd Max Content Category</th>\n",
       "      <th>Reporting Primary Genre</th>\n",
       "      <th>Title First Offered Date</th>\n",
       "    </tr>\n",
       "  </thead>\n",
       "  <tbody>\n",
       "    <tr>\n",
       "      <th>0</th>\n",
       "      <td>5000 Blankets</td>\n",
       "      <td>GZK1izABA6sNYwwEAAACn</td>\n",
       "      <td>Pay 1</td>\n",
       "      <td>Other 3rd Party</td>\n",
       "      <td>Movie</td>\n",
       "      <td>Drama</td>\n",
       "      <td>2023-08-18</td>\n",
       "    </tr>\n",
       "    <tr>\n",
       "      <th>1</th>\n",
       "      <td>65</td>\n",
       "      <td>GZGUWBgT7UMN_dwEAAApT</td>\n",
       "      <td>Pay 1</td>\n",
       "      <td>Sony / Columbia</td>\n",
       "      <td>Movie</td>\n",
       "      <td>Fantasy &amp; Sci-Fi</td>\n",
       "      <td>2023-06-16</td>\n",
       "    </tr>\n",
       "    <tr>\n",
       "      <th>2</th>\n",
       "      <td>A Man Called Otto</td>\n",
       "      <td>GZDZ4jASL83SfmgEAAAdO</td>\n",
       "      <td>Pay 1</td>\n",
       "      <td>Sony / Columbia</td>\n",
       "      <td>Movie</td>\n",
       "      <td>Comedy</td>\n",
       "      <td>2023-05-12</td>\n",
       "    </tr>\n",
       "    <tr>\n",
       "      <th>3</th>\n",
       "      <td>Amor Bandido</td>\n",
       "      <td>GY9cisQTgx7iWtQEAAAAf</td>\n",
       "      <td>Pay 1</td>\n",
       "      <td>Other 3rd Party</td>\n",
       "      <td>Movie</td>\n",
       "      <td>drama</td>\n",
       "      <td>2023-02-24</td>\n",
       "    </tr>\n",
       "    <tr>\n",
       "      <th>4</th>\n",
       "      <td>Are You There God? It's Me, Margaret.</td>\n",
       "      <td>GZTACwwALO8JMRAEAABM9</td>\n",
       "      <td>Pay 1</td>\n",
       "      <td>Sony / Columbia</td>\n",
       "      <td>Movie</td>\n",
       "      <td>Comedy</td>\n",
       "      <td>2023-11-10</td>\n",
       "    </tr>\n",
       "  </tbody>\n",
       "</table>\n",
       "</div>"
      ],
      "text/plain": [
       "                              Title Name        Hbomax Title ID  \\\n",
       "0                          5000 Blankets  GZK1izABA6sNYwwEAAACn   \n",
       "1                                     65  GZGUWBgT7UMN_dwEAAApT   \n",
       "2                      A Man Called Otto  GZDZ4jASL83SfmgEAAAdO   \n",
       "3                           Amor Bandido  GY9cisQTgx7iWtQEAAAAf   \n",
       "4  Are You There God? It's Me, Margaret.  GZTACwwALO8JMRAEAABM9   \n",
       "\n",
       "  Reporting Content Category       Net Studio Wbd Max Content Category  \\\n",
       "0                      Pay 1  Other 3rd Party                    Movie   \n",
       "1                      Pay 1  Sony / Columbia                    Movie   \n",
       "2                      Pay 1  Sony / Columbia                    Movie   \n",
       "3                      Pay 1  Other 3rd Party                    Movie   \n",
       "4                      Pay 1  Sony / Columbia                    Movie   \n",
       "\n",
       "  Reporting Primary Genre Title First Offered Date  \n",
       "0                   Drama               2023-08-18  \n",
       "1        Fantasy & Sci-Fi               2023-06-16  \n",
       "2                  Comedy               2023-05-12  \n",
       "3                   drama               2023-02-24  \n",
       "4                  Comedy               2023-11-10  "
      ]
     },
     "execution_count": 6,
     "metadata": {},
     "output_type": "execute_result"
    }
   ],
   "source": [
    "original_movies.head()"
   ]
  },
  {
   "cell_type": "code",
   "execution_count": 7,
   "id": "365b7e94",
   "metadata": {},
   "outputs": [
    {
     "data": {
      "text/plain": [
       "62"
      ]
     },
     "execution_count": 7,
     "metadata": {},
     "output_type": "execute_result"
    }
   ],
   "source": [
    "len(original_movies)"
   ]
  },
  {
   "cell_type": "code",
   "execution_count": 8,
   "id": "e80bed60",
   "metadata": {},
   "outputs": [],
   "source": [
    "title_info = run_query('''\n",
    "SELECT m.TITLE_SERIES, m.LEGACY_SERIES_ID, m.CKG_SERIES_ID, m.FIRST_RELEASE_DATE, o.start_date AS THEATRICAL_DATE\n",
    ", PROGRAM_TYPE, PRIMARY_GENRE, LATAM_HOME_MEDAL\n",
    ", O.TITLE_ID as imdb_id, c.AREA_NAME, m.GEO_VALUE, o.area_gross ,bdg.AMOUNT as budget\n",
    "FROM max_prod.content_datascience.all_titles_season_metadata m\n",
    "JOIN max_prod.ckg.imdb_boxoffice_opening_weekends o \n",
    "    ON m.imdb_series_id = o.title_id\n",
    "JOIN MAX_PROD.CKG.IMDB_AREA_CODES c \n",
    "    ON c.AREA_CODE= o.AREA_CODE and UPPER(c.AREA_NAME) = m.GEO_VALUE\n",
    "left join \"MAX_PROD\".\"CKG\".IMDB_BOXOFFICE_TITLE_BUDGET bdg -- budget title_id to imdb_id\n",
    "    on m.imdb_series_id=bdg.title_id\n",
    "WHERE m.GEO_VALUE IN ('LATAM', 'BRAZIL', 'ARGENTINA', 'COLOMBIA', 'MEXICO', 'CARIBBEAN', 'REST OF LATAM')\n",
    "and m.ever_pay_1_title = 1\n",
    "order by title_series, area_name\n",
    "''')"
   ]
  },
  {
   "cell_type": "code",
   "execution_count": 9,
   "id": "7ea9c2fb",
   "metadata": {},
   "outputs": [
    {
     "data": {
      "text/html": [
       "<div>\n",
       "<style scoped>\n",
       "    .dataframe tbody tr th:only-of-type {\n",
       "        vertical-align: middle;\n",
       "    }\n",
       "\n",
       "    .dataframe tbody tr th {\n",
       "        vertical-align: top;\n",
       "    }\n",
       "\n",
       "    .dataframe thead th {\n",
       "        text-align: right;\n",
       "    }\n",
       "</style>\n",
       "<table border=\"1\" class=\"dataframe\">\n",
       "  <thead>\n",
       "    <tr style=\"text-align: right;\">\n",
       "      <th></th>\n",
       "      <th>title_series</th>\n",
       "      <th>legacy_series_id</th>\n",
       "      <th>ckg_series_id</th>\n",
       "      <th>first_release_date</th>\n",
       "      <th>theatrical_date</th>\n",
       "      <th>program_type</th>\n",
       "      <th>primary_genre</th>\n",
       "      <th>latam_home_medal</th>\n",
       "      <th>imdb_id</th>\n",
       "      <th>area_name</th>\n",
       "      <th>geo_value</th>\n",
       "      <th>area_gross</th>\n",
       "      <th>budget</th>\n",
       "    </tr>\n",
       "  </thead>\n",
       "  <tbody>\n",
       "    <tr>\n",
       "      <th>0</th>\n",
       "      <td>65</td>\n",
       "      <td>GZGUWBgT7UMN_dwEAAApT</td>\n",
       "      <td>3d467c4e-90f7-4e71-b226-f4a8e1e97c40</td>\n",
       "      <td>2023-06-15</td>\n",
       "      <td>2023-03-09</td>\n",
       "      <td>Acquired</td>\n",
       "      <td>Action</td>\n",
       "      <td>Gold</td>\n",
       "      <td>tt12261776</td>\n",
       "      <td>Colombia</td>\n",
       "      <td>COLOMBIA</td>\n",
       "      <td>160,117.00</td>\n",
       "      <td>45,000,000.00</td>\n",
       "    </tr>\n",
       "    <tr>\n",
       "      <th>1</th>\n",
       "      <td>65</td>\n",
       "      <td>GZGUWBgT7UMN_dwEAAApT</td>\n",
       "      <td>3d467c4e-90f7-4e71-b226-f4a8e1e97c40</td>\n",
       "      <td>2023-06-15</td>\n",
       "      <td>2023-03-10</td>\n",
       "      <td>Acquired</td>\n",
       "      <td>Action</td>\n",
       "      <td>Gold</td>\n",
       "      <td>tt12261776</td>\n",
       "      <td>Mexico</td>\n",
       "      <td>MEXICO</td>\n",
       "      <td>1,048,370.00</td>\n",
       "      <td>45,000,000.00</td>\n",
       "    </tr>\n",
       "    <tr>\n",
       "      <th>2</th>\n",
       "      <td>A Man Called Otto</td>\n",
       "      <td>GZDZ4jASL83SfmgEAAAdO</td>\n",
       "      <td>266e3ad8-d836-47c9-99cd-4648c2e86c60</td>\n",
       "      <td>2023-05-11</td>\n",
       "      <td>2023-01-12</td>\n",
       "      <td>Acquired</td>\n",
       "      <td>Drama</td>\n",
       "      <td>Silver</td>\n",
       "      <td>tt7405458</td>\n",
       "      <td>Colombia</td>\n",
       "      <td>COLOMBIA</td>\n",
       "      <td>57,910.00</td>\n",
       "      <td>50,000,000.00</td>\n",
       "    </tr>\n",
       "    <tr>\n",
       "      <th>3</th>\n",
       "      <td>A Man Called Otto</td>\n",
       "      <td>GZDZ4jASL83SfmgEAAAdO</td>\n",
       "      <td>266e3ad8-d836-47c9-99cd-4648c2e86c60</td>\n",
       "      <td>2023-05-11</td>\n",
       "      <td>2022-12-23</td>\n",
       "      <td>Acquired</td>\n",
       "      <td>Drama</td>\n",
       "      <td>Silver</td>\n",
       "      <td>tt7405458</td>\n",
       "      <td>Mexico</td>\n",
       "      <td>MEXICO</td>\n",
       "      <td>294,207.00</td>\n",
       "      <td>50,000,000.00</td>\n",
       "    </tr>\n",
       "    <tr>\n",
       "      <th>4</th>\n",
       "      <td>Ambulance</td>\n",
       "      <td>GYyRIgQNLUhu1wwEAAAAF</td>\n",
       "      <td>GYyRIgQNLUhu1wwEAAAAF</td>\n",
       "      <td>2022-11-24</td>\n",
       "      <td>2022-03-17</td>\n",
       "      <td>Acquired</td>\n",
       "      <td>Action</td>\n",
       "      <td>None</td>\n",
       "      <td>tt4998632</td>\n",
       "      <td>Argentina</td>\n",
       "      <td>ARGENTINA</td>\n",
       "      <td>64,000.00</td>\n",
       "      <td>40,000,000.00</td>\n",
       "    </tr>\n",
       "  </tbody>\n",
       "</table>\n",
       "</div>"
      ],
      "text/plain": [
       "        title_series       legacy_series_id  \\\n",
       "0                 65  GZGUWBgT7UMN_dwEAAApT   \n",
       "1                 65  GZGUWBgT7UMN_dwEAAApT   \n",
       "2  A Man Called Otto  GZDZ4jASL83SfmgEAAAdO   \n",
       "3  A Man Called Otto  GZDZ4jASL83SfmgEAAAdO   \n",
       "4          Ambulance  GYyRIgQNLUhu1wwEAAAAF   \n",
       "\n",
       "                          ckg_series_id first_release_date theatrical_date  \\\n",
       "0  3d467c4e-90f7-4e71-b226-f4a8e1e97c40         2023-06-15      2023-03-09   \n",
       "1  3d467c4e-90f7-4e71-b226-f4a8e1e97c40         2023-06-15      2023-03-10   \n",
       "2  266e3ad8-d836-47c9-99cd-4648c2e86c60         2023-05-11      2023-01-12   \n",
       "3  266e3ad8-d836-47c9-99cd-4648c2e86c60         2023-05-11      2022-12-23   \n",
       "4                 GYyRIgQNLUhu1wwEAAAAF         2022-11-24      2022-03-17   \n",
       "\n",
       "  program_type primary_genre latam_home_medal     imdb_id  area_name  \\\n",
       "0     Acquired        Action             Gold  tt12261776   Colombia   \n",
       "1     Acquired        Action             Gold  tt12261776     Mexico   \n",
       "2     Acquired         Drama           Silver   tt7405458   Colombia   \n",
       "3     Acquired         Drama           Silver   tt7405458     Mexico   \n",
       "4     Acquired        Action             None   tt4998632  Argentina   \n",
       "\n",
       "   geo_value   area_gross        budget  \n",
       "0   COLOMBIA   160,117.00 45,000,000.00  \n",
       "1     MEXICO 1,048,370.00 45,000,000.00  \n",
       "2   COLOMBIA    57,910.00 50,000,000.00  \n",
       "3     MEXICO   294,207.00 50,000,000.00  \n",
       "4  ARGENTINA    64,000.00 40,000,000.00  "
      ]
     },
     "execution_count": 9,
     "metadata": {},
     "output_type": "execute_result"
    }
   ],
   "source": [
    "title_info.head()"
   ]
  },
  {
   "cell_type": "code",
   "execution_count": 10,
   "id": "018b4ff6",
   "metadata": {},
   "outputs": [
    {
     "data": {
      "text/plain": [
       "97"
      ]
     },
     "execution_count": 10,
     "metadata": {},
     "output_type": "execute_result"
    }
   ],
   "source": [
    "len(title_info.legacy_series_id.unique())"
   ]
  },
  {
   "cell_type": "code",
   "execution_count": 11,
   "id": "ba33d5af",
   "metadata": {},
   "outputs": [
    {
     "data": {
      "text/plain": [
       "222"
      ]
     },
     "execution_count": 11,
     "metadata": {},
     "output_type": "execute_result"
    }
   ],
   "source": [
    "len(title_info)"
   ]
  },
  {
   "cell_type": "code",
   "execution_count": 12,
   "id": "e59903fd",
   "metadata": {},
   "outputs": [],
   "source": [
    "# title_info['latam_home_medal'] = title_info['latam_home_medal'].replace('No Medal', np.NaN)\n",
    "\n",
    "# title_info['latam_home_medal'] = title_info.groupby(['ckg_series_id'])['latam_home_medal'].bfill()\n",
    "# title_info['latam_home_medal'] = title_info.groupby(['ckg_series_id'])['latam_home_medal'].ffill()\n",
    "\n",
    "# title_info['latam_home_medal'] = title_info['latam_home_medal'].fillna('None')"
   ]
  },
  {
   "cell_type": "code",
   "execution_count": null,
   "id": "8a079d23",
   "metadata": {},
   "outputs": [],
   "source": []
  },
  {
   "cell_type": "code",
   "execution_count": 13,
   "id": "816f4cbd",
   "metadata": {},
   "outputs": [],
   "source": [
    "area_gross = title_info.groupby(['ckg_series_id'])['area_gross'].sum().reset_index()\n",
    "budget = title_info.groupby(['ckg_series_id'])['budget'].first().reset_index()"
   ]
  },
  {
   "cell_type": "code",
   "execution_count": 14,
   "id": "6359e963",
   "metadata": {},
   "outputs": [],
   "source": [
    "title_info = title_info.groupby(['title_series', 'legacy_series_id', 'ckg_series_id', 'imdb_id', 'program_type', \n",
    "                                 'primary_genre', 'first_release_date'])['theatrical_date'].first().reset_index()"
   ]
  },
  {
   "cell_type": "code",
   "execution_count": 15,
   "id": "580e2682",
   "metadata": {},
   "outputs": [],
   "source": [
    "title_info = title_info.merge(area_gross, on = ['ckg_series_id'], how = 'left')\\\n",
    "                       .merge(budget, on = ['ckg_series_id'], how = 'left')"
   ]
  },
  {
   "cell_type": "code",
   "execution_count": 16,
   "id": "269417af",
   "metadata": {},
   "outputs": [
    {
     "data": {
      "text/html": [
       "<div>\n",
       "<style scoped>\n",
       "    .dataframe tbody tr th:only-of-type {\n",
       "        vertical-align: middle;\n",
       "    }\n",
       "\n",
       "    .dataframe tbody tr th {\n",
       "        vertical-align: top;\n",
       "    }\n",
       "\n",
       "    .dataframe thead th {\n",
       "        text-align: right;\n",
       "    }\n",
       "</style>\n",
       "<table border=\"1\" class=\"dataframe\">\n",
       "  <thead>\n",
       "    <tr style=\"text-align: right;\">\n",
       "      <th></th>\n",
       "      <th>title_series</th>\n",
       "      <th>legacy_series_id</th>\n",
       "      <th>ckg_series_id</th>\n",
       "      <th>imdb_id</th>\n",
       "      <th>program_type</th>\n",
       "      <th>primary_genre</th>\n",
       "      <th>first_release_date</th>\n",
       "      <th>theatrical_date</th>\n",
       "      <th>area_gross</th>\n",
       "      <th>budget</th>\n",
       "    </tr>\n",
       "  </thead>\n",
       "  <tbody>\n",
       "    <tr>\n",
       "      <th>0</th>\n",
       "      <td>65</td>\n",
       "      <td>GZGUWBgT7UMN_dwEAAApT</td>\n",
       "      <td>3d467c4e-90f7-4e71-b226-f4a8e1e97c40</td>\n",
       "      <td>tt12261776</td>\n",
       "      <td>Acquired</td>\n",
       "      <td>Action</td>\n",
       "      <td>2023-06-15</td>\n",
       "      <td>2023-03-09</td>\n",
       "      <td>1,208,487.00</td>\n",
       "      <td>45,000,000.00</td>\n",
       "    </tr>\n",
       "    <tr>\n",
       "      <th>1</th>\n",
       "      <td>A Man Called Otto</td>\n",
       "      <td>GZDZ4jASL83SfmgEAAAdO</td>\n",
       "      <td>266e3ad8-d836-47c9-99cd-4648c2e86c60</td>\n",
       "      <td>tt7405458</td>\n",
       "      <td>Acquired</td>\n",
       "      <td>Drama</td>\n",
       "      <td>2023-05-11</td>\n",
       "      <td>2023-01-12</td>\n",
       "      <td>352,117.00</td>\n",
       "      <td>50,000,000.00</td>\n",
       "    </tr>\n",
       "    <tr>\n",
       "      <th>2</th>\n",
       "      <td>Ambulance</td>\n",
       "      <td>GYyRIgQNLUhu1wwEAAAAF</td>\n",
       "      <td>GYyRIgQNLUhu1wwEAAAAF</td>\n",
       "      <td>tt4998632</td>\n",
       "      <td>Acquired</td>\n",
       "      <td>Action</td>\n",
       "      <td>2022-11-24</td>\n",
       "      <td>2022-03-17</td>\n",
       "      <td>1,218,886.00</td>\n",
       "      <td>40,000,000.00</td>\n",
       "    </tr>\n",
       "    <tr>\n",
       "      <th>3</th>\n",
       "      <td>Armageddon Time</td>\n",
       "      <td>GZK1nDg0nFaXCwgEAABAp</td>\n",
       "      <td>1e047963-2433-4a1a-8095-830022a0ce57</td>\n",
       "      <td>tt10343028</td>\n",
       "      <td>Acquired</td>\n",
       "      <td>Drama</td>\n",
       "      <td>2023-08-10</td>\n",
       "      <td>2023-03-16</td>\n",
       "      <td>3,967.00</td>\n",
       "      <td>15,000,000.00</td>\n",
       "    </tr>\n",
       "    <tr>\n",
       "      <th>4</th>\n",
       "      <td>Asteroid City</td>\n",
       "      <td>GZa6EDAQ-Y5aQVgEAACX0</td>\n",
       "      <td>GZa6EDAQ-Y5aQVgEAACX0</td>\n",
       "      <td>tt14230388</td>\n",
       "      <td>Acquired</td>\n",
       "      <td>Comedy</td>\n",
       "      <td>2024-02-15</td>\n",
       "      <td>2023-08-10</td>\n",
       "      <td>285,952.00</td>\n",
       "      <td>25,000,000.00</td>\n",
       "    </tr>\n",
       "  </tbody>\n",
       "</table>\n",
       "</div>"
      ],
      "text/plain": [
       "        title_series       legacy_series_id  \\\n",
       "0                 65  GZGUWBgT7UMN_dwEAAApT   \n",
       "1  A Man Called Otto  GZDZ4jASL83SfmgEAAAdO   \n",
       "2          Ambulance  GYyRIgQNLUhu1wwEAAAAF   \n",
       "3    Armageddon Time  GZK1nDg0nFaXCwgEAABAp   \n",
       "4      Asteroid City  GZa6EDAQ-Y5aQVgEAACX0   \n",
       "\n",
       "                          ckg_series_id     imdb_id program_type  \\\n",
       "0  3d467c4e-90f7-4e71-b226-f4a8e1e97c40  tt12261776     Acquired   \n",
       "1  266e3ad8-d836-47c9-99cd-4648c2e86c60   tt7405458     Acquired   \n",
       "2                 GYyRIgQNLUhu1wwEAAAAF   tt4998632     Acquired   \n",
       "3  1e047963-2433-4a1a-8095-830022a0ce57  tt10343028     Acquired   \n",
       "4                 GZa6EDAQ-Y5aQVgEAACX0  tt14230388     Acquired   \n",
       "\n",
       "  primary_genre first_release_date theatrical_date   area_gross        budget  \n",
       "0        Action         2023-06-15      2023-03-09 1,208,487.00 45,000,000.00  \n",
       "1         Drama         2023-05-11      2023-01-12   352,117.00 50,000,000.00  \n",
       "2        Action         2022-11-24      2022-03-17 1,218,886.00 40,000,000.00  \n",
       "3         Drama         2023-08-10      2023-03-16     3,967.00 15,000,000.00  \n",
       "4        Comedy         2024-02-15      2023-08-10   285,952.00 25,000,000.00  "
      ]
     },
     "execution_count": 16,
     "metadata": {},
     "output_type": "execute_result"
    }
   ],
   "source": [
    "title_info.head()"
   ]
  },
  {
   "cell_type": "code",
   "execution_count": 17,
   "id": "52a700b8",
   "metadata": {},
   "outputs": [
    {
     "data": {
      "text/plain": [
       "97"
      ]
     },
     "execution_count": 17,
     "metadata": {},
     "output_type": "execute_result"
    }
   ],
   "source": [
    "len(title_info)"
   ]
  },
  {
   "cell_type": "code",
   "execution_count": 18,
   "id": "46cf1395",
   "metadata": {},
   "outputs": [],
   "source": [
    "# title_info.to_csv('latam_title_release_info.csv')"
   ]
  },
  {
   "cell_type": "code",
   "execution_count": 19,
   "id": "0d63e3f0",
   "metadata": {},
   "outputs": [],
   "source": [
    "medal= run_query('''\n",
    "WITH TEMP AS (\n",
    "select\n",
    "WBD_MAX_SERIES_ID_OR_HBOMAX_TITLE_ID AS ckg_series_id, DAYS_ON_HBO_MAX_AND_WBD_MAX as day_on_max,\n",
    "OFFERING_START_DATE_PST, REQUEST_DATE_PST,  DAYS_ON_HBO_MAX_AND_WBD_MAX, \n",
    "c.CUMULATIVE_VIEWING_SUBSCRIBERS/plt.viewing_subscribers*100 as percent_cumulative_viewing_subscribers,\n",
    "       c.CUMULATIVE_SUBSCRIPTION_FIRST_VIEWS/plt.subscription_first_views*100 as percent_cumulative_first_views\n",
    "from max_prod.content_analytics.cumulative_content_viewership_pst  c\n",
    "JOIN max_prod.content_analytics.cumulative_platform_viewership_pst plt\n",
    "ON to_char(c.OFFERING_START_DATE_PST, 'YYYY-MM-DD') = plt.start_date\n",
    "AND c.DAYS_ON_HBO_MAX_AND_WBD_MAX = plt.DAYS_SINCE_RELEASE\n",
    "AND c.GEO_VALUE = plt.GEO_VALUE\n",
    "where c.geo_value = 'LATAM' \n",
    "and day_on_max = 28\n",
    "and title_level = 'Seasons and Movies'\n",
    "and OFFERING_WINDOW_NUM = 1\n",
    "order by DAYS_ON_HBO_MAX_AND_WBD_MAX\n",
    ")\n",
    "\n",
    "SELECT ckg_series_id,\n",
    "    case when percent_cumulative_viewing_subscribers > 20 or percent_cumulative_first_views > 10 then 'Platinum'\n",
    "\t\t when percent_cumulative_viewing_subscribers > 10 or percent_cumulative_first_views > 5 then 'Gold'\n",
    "\t\t when percent_cumulative_viewing_subscribers > 5 or percent_cumulative_first_views > 2.5 then 'Silver'\n",
    "\t\t else 'Bronze'\n",
    "\t\t end as observed_medal\n",
    "FROM TEMP\n",
    "''')"
   ]
  },
  {
   "cell_type": "code",
   "execution_count": 20,
   "id": "a850cd4f",
   "metadata": {},
   "outputs": [],
   "source": [
    "title_info = title_info.merge(medal, on = ['ckg_series_id'], how = 'left')"
   ]
  },
  {
   "cell_type": "code",
   "execution_count": 21,
   "id": "ccb23a67",
   "metadata": {},
   "outputs": [],
   "source": [
    "# title_info.loc[title_info['latam_home_medal'] == 'None', 'latam_home_medal'] = title_info['observed_medal']\n",
    "title_info['latam_home_medal'] = title_info['observed_medal']"
   ]
  },
  {
   "cell_type": "code",
   "execution_count": 22,
   "id": "0d23e866",
   "metadata": {},
   "outputs": [],
   "source": [
    "# final_title_info = title_info[title_info['observed_medal'].notnull()]"
   ]
  },
  {
   "cell_type": "code",
   "execution_count": 23,
   "id": "35952351",
   "metadata": {},
   "outputs": [
    {
     "data": {
      "text/plain": [
       "97"
      ]
     },
     "execution_count": 23,
     "metadata": {},
     "output_type": "execute_result"
    }
   ],
   "source": [
    "len(title_info)"
   ]
  },
  {
   "cell_type": "code",
   "execution_count": 24,
   "id": "a5b4f310",
   "metadata": {},
   "outputs": [],
   "source": [
    "viewership = run_query('''\n",
    "select\n",
    "WBD_MAX_SERIES_ID_OR_HBOMAX_TITLE_ID AS ckg_series_id, DAYS_ON_HBO_MAX_AND_WBD_MAX as day_on_max,\n",
    "c.CUMULATIVE_VIEWING_SUBSCRIBERS, c.CUMULATIVE_SUBSCRIPTION_FIRST_VIEWS as CUMULATIVE_FIRST_VIEWS,\n",
    "c.CUMULATIVE_VIEWING_SUBSCRIBERS/plt.viewing_subscribers*100 as percent_cumulative_viewing_subscribers,\n",
    "c.CUMULATIVE_SUBSCRIPTION_FIRST_VIEWS/plt.subscription_first_views*100 as percent_cumulative_first_views\n",
    "from max_prod.content_analytics.cumulative_content_viewership_pst  c\n",
    "JOIN max_prod.content_analytics.cumulative_platform_viewership_pst plt\n",
    "ON to_char(c.OFFERING_START_DATE_PST, 'YYYY-MM-DD') = plt.start_date\n",
    "AND c.DAYS_ON_HBO_MAX_AND_WBD_MAX = plt.DAYS_SINCE_RELEASE\n",
    "AND c.GEO_VALUE = plt.GEO_VALUE\n",
    "where c.geo_value = 'LATAM' \n",
    "and title_level = 'Seasons and Movies'\n",
    "and OFFERING_WINDOW_NUM = 1\n",
    "and DAYS_ON_HBO_MAX_AND_WBD_MAX = 90\n",
    "order by DAYS_ON_HBO_MAX_AND_WBD_MAX\n",
    "''')"
   ]
  },
  {
   "cell_type": "code",
   "execution_count": 25,
   "id": "850d598a",
   "metadata": {},
   "outputs": [],
   "source": [
    "title_info = title_info.merge(viewership, on = ['ckg_series_id'], how = 'left')"
   ]
  },
  {
   "cell_type": "code",
   "execution_count": 26,
   "id": "34e11bb0",
   "metadata": {},
   "outputs": [
    {
     "data": {
      "text/plain": [
       "97"
      ]
     },
     "execution_count": 26,
     "metadata": {},
     "output_type": "execute_result"
    }
   ],
   "source": [
    "len(title_info.legacy_series_id.unique())"
   ]
  },
  {
   "cell_type": "code",
   "execution_count": 27,
   "id": "f5307369",
   "metadata": {},
   "outputs": [
    {
     "data": {
      "text/html": [
       "<div>\n",
       "<style scoped>\n",
       "    .dataframe tbody tr th:only-of-type {\n",
       "        vertical-align: middle;\n",
       "    }\n",
       "\n",
       "    .dataframe tbody tr th {\n",
       "        vertical-align: top;\n",
       "    }\n",
       "\n",
       "    .dataframe thead th {\n",
       "        text-align: right;\n",
       "    }\n",
       "</style>\n",
       "<table border=\"1\" class=\"dataframe\">\n",
       "  <thead>\n",
       "    <tr style=\"text-align: right;\">\n",
       "      <th></th>\n",
       "      <th>title_series</th>\n",
       "      <th>legacy_series_id</th>\n",
       "      <th>ckg_series_id</th>\n",
       "      <th>imdb_id</th>\n",
       "      <th>program_type</th>\n",
       "      <th>primary_genre</th>\n",
       "      <th>first_release_date</th>\n",
       "      <th>theatrical_date</th>\n",
       "      <th>area_gross</th>\n",
       "      <th>budget</th>\n",
       "      <th>observed_medal</th>\n",
       "      <th>latam_home_medal</th>\n",
       "      <th>day_on_max</th>\n",
       "      <th>cumulative_viewing_subscribers</th>\n",
       "      <th>cumulative_first_views</th>\n",
       "      <th>percent_cumulative_viewing_subscribers</th>\n",
       "      <th>percent_cumulative_first_views</th>\n",
       "    </tr>\n",
       "  </thead>\n",
       "  <tbody>\n",
       "    <tr>\n",
       "      <th>0</th>\n",
       "      <td>65</td>\n",
       "      <td>GZGUWBgT7UMN_dwEAAApT</td>\n",
       "      <td>3d467c4e-90f7-4e71-b226-f4a8e1e97c40</td>\n",
       "      <td>tt12261776</td>\n",
       "      <td>Acquired</td>\n",
       "      <td>Action</td>\n",
       "      <td>2023-06-15</td>\n",
       "      <td>2023-03-09</td>\n",
       "      <td>1,208,487.00</td>\n",
       "      <td>45,000,000.00</td>\n",
       "      <td>NaN</td>\n",
       "      <td>NaN</td>\n",
       "      <td>90.00</td>\n",
       "      <td>0.00</td>\n",
       "      <td>2,593.00</td>\n",
       "      <td>0.000000</td>\n",
       "      <td>0.099100</td>\n",
       "    </tr>\n",
       "    <tr>\n",
       "      <th>1</th>\n",
       "      <td>A Man Called Otto</td>\n",
       "      <td>GZDZ4jASL83SfmgEAAAdO</td>\n",
       "      <td>266e3ad8-d836-47c9-99cd-4648c2e86c60</td>\n",
       "      <td>tt7405458</td>\n",
       "      <td>Acquired</td>\n",
       "      <td>Drama</td>\n",
       "      <td>2023-05-11</td>\n",
       "      <td>2023-01-12</td>\n",
       "      <td>352,117.00</td>\n",
       "      <td>50,000,000.00</td>\n",
       "      <td>NaN</td>\n",
       "      <td>NaN</td>\n",
       "      <td>nan</td>\n",
       "      <td>nan</td>\n",
       "      <td>nan</td>\n",
       "      <td>NaN</td>\n",
       "      <td>NaN</td>\n",
       "    </tr>\n",
       "    <tr>\n",
       "      <th>2</th>\n",
       "      <td>Ambulance</td>\n",
       "      <td>GYyRIgQNLUhu1wwEAAAAF</td>\n",
       "      <td>GYyRIgQNLUhu1wwEAAAAF</td>\n",
       "      <td>tt4998632</td>\n",
       "      <td>Acquired</td>\n",
       "      <td>Action</td>\n",
       "      <td>2022-11-24</td>\n",
       "      <td>2022-03-17</td>\n",
       "      <td>1,218,886.00</td>\n",
       "      <td>40,000,000.00</td>\n",
       "      <td>Silver</td>\n",
       "      <td>Silver</td>\n",
       "      <td>90.00</td>\n",
       "      <td>1,107,532.00</td>\n",
       "      <td>7,058.00</td>\n",
       "      <td>8.839600</td>\n",
       "      <td>0.199500</td>\n",
       "    </tr>\n",
       "    <tr>\n",
       "      <th>3</th>\n",
       "      <td>Armageddon Time</td>\n",
       "      <td>GZK1nDg0nFaXCwgEAABAp</td>\n",
       "      <td>1e047963-2433-4a1a-8095-830022a0ce57</td>\n",
       "      <td>tt10343028</td>\n",
       "      <td>Acquired</td>\n",
       "      <td>Drama</td>\n",
       "      <td>2023-08-10</td>\n",
       "      <td>2023-03-16</td>\n",
       "      <td>3,967.00</td>\n",
       "      <td>15,000,000.00</td>\n",
       "      <td>Bronze</td>\n",
       "      <td>Bronze</td>\n",
       "      <td>90.00</td>\n",
       "      <td>34,968.00</td>\n",
       "      <td>226.00</td>\n",
       "      <td>0.295300</td>\n",
       "      <td>0.008600</td>\n",
       "    </tr>\n",
       "    <tr>\n",
       "      <th>4</th>\n",
       "      <td>Asteroid City</td>\n",
       "      <td>GZa6EDAQ-Y5aQVgEAACX0</td>\n",
       "      <td>GZa6EDAQ-Y5aQVgEAACX0</td>\n",
       "      <td>tt14230388</td>\n",
       "      <td>Acquired</td>\n",
       "      <td>Comedy</td>\n",
       "      <td>2024-02-15</td>\n",
       "      <td>2023-08-10</td>\n",
       "      <td>285,952.00</td>\n",
       "      <td>25,000,000.00</td>\n",
       "      <td>NaN</td>\n",
       "      <td>NaN</td>\n",
       "      <td>nan</td>\n",
       "      <td>nan</td>\n",
       "      <td>nan</td>\n",
       "      <td>NaN</td>\n",
       "      <td>NaN</td>\n",
       "    </tr>\n",
       "  </tbody>\n",
       "</table>\n",
       "</div>"
      ],
      "text/plain": [
       "        title_series       legacy_series_id  \\\n",
       "0                 65  GZGUWBgT7UMN_dwEAAApT   \n",
       "1  A Man Called Otto  GZDZ4jASL83SfmgEAAAdO   \n",
       "2          Ambulance  GYyRIgQNLUhu1wwEAAAAF   \n",
       "3    Armageddon Time  GZK1nDg0nFaXCwgEAABAp   \n",
       "4      Asteroid City  GZa6EDAQ-Y5aQVgEAACX0   \n",
       "\n",
       "                          ckg_series_id     imdb_id program_type  \\\n",
       "0  3d467c4e-90f7-4e71-b226-f4a8e1e97c40  tt12261776     Acquired   \n",
       "1  266e3ad8-d836-47c9-99cd-4648c2e86c60   tt7405458     Acquired   \n",
       "2                 GYyRIgQNLUhu1wwEAAAAF   tt4998632     Acquired   \n",
       "3  1e047963-2433-4a1a-8095-830022a0ce57  tt10343028     Acquired   \n",
       "4                 GZa6EDAQ-Y5aQVgEAACX0  tt14230388     Acquired   \n",
       "\n",
       "  primary_genre first_release_date theatrical_date   area_gross        budget  \\\n",
       "0        Action         2023-06-15      2023-03-09 1,208,487.00 45,000,000.00   \n",
       "1         Drama         2023-05-11      2023-01-12   352,117.00 50,000,000.00   \n",
       "2        Action         2022-11-24      2022-03-17 1,218,886.00 40,000,000.00   \n",
       "3         Drama         2023-08-10      2023-03-16     3,967.00 15,000,000.00   \n",
       "4        Comedy         2024-02-15      2023-08-10   285,952.00 25,000,000.00   \n",
       "\n",
       "  observed_medal latam_home_medal  day_on_max  cumulative_viewing_subscribers  \\\n",
       "0            NaN              NaN       90.00                            0.00   \n",
       "1            NaN              NaN         nan                             nan   \n",
       "2         Silver           Silver       90.00                    1,107,532.00   \n",
       "3         Bronze           Bronze       90.00                       34,968.00   \n",
       "4            NaN              NaN         nan                             nan   \n",
       "\n",
       "   cumulative_first_views percent_cumulative_viewing_subscribers  \\\n",
       "0                2,593.00                               0.000000   \n",
       "1                     nan                                    NaN   \n",
       "2                7,058.00                               8.839600   \n",
       "3                  226.00                               0.295300   \n",
       "4                     nan                                    NaN   \n",
       "\n",
       "  percent_cumulative_first_views  \n",
       "0                       0.099100  \n",
       "1                            NaN  \n",
       "2                       0.199500  \n",
       "3                       0.008600  \n",
       "4                            NaN  "
      ]
     },
     "execution_count": 27,
     "metadata": {},
     "output_type": "execute_result"
    }
   ],
   "source": [
    "title_info.head()"
   ]
  },
  {
   "cell_type": "code",
   "execution_count": 28,
   "id": "09e0cc13",
   "metadata": {},
   "outputs": [],
   "source": [
    "final_title_info = title_info[(title_info['cumulative_viewing_subscribers'].notnull())\n",
    "                             &(title_info['cumulative_viewing_subscribers']>0)]"
   ]
  },
  {
   "cell_type": "code",
   "execution_count": 29,
   "id": "7bc1338b",
   "metadata": {},
   "outputs": [
    {
     "data": {
      "text/plain": [
       "63"
      ]
     },
     "execution_count": 29,
     "metadata": {},
     "output_type": "execute_result"
    }
   ],
   "source": [
    "len(final_title_info.legacy_series_id.unique())"
   ]
  },
  {
   "cell_type": "code",
   "execution_count": 30,
   "id": "717ad2fe",
   "metadata": {},
   "outputs": [
    {
     "data": {
      "text/plain": [
       "63"
      ]
     },
     "execution_count": 30,
     "metadata": {},
     "output_type": "execute_result"
    }
   ],
   "source": [
    "len(final_title_info)"
   ]
  },
  {
   "cell_type": "code",
   "execution_count": 31,
   "id": "16ff78d3",
   "metadata": {},
   "outputs": [
    {
     "name": "stderr",
     "output_type": "stream",
     "text": [
      "/home/ec2-user/anaconda3/envs/python3/lib/python3.6/site-packages/ipykernel/__main__.py:1: SettingWithCopyWarning: \n",
      "A value is trying to be set on a copy of a slice from a DataFrame.\n",
      "Try using .loc[row_indexer,col_indexer] = value instead\n",
      "\n",
      "See the caveats in the documentation: https://pandas.pydata.org/pandas-docs/stable/user_guide/indexing.html#returning-a-view-versus-a-copy\n",
      "  if __name__ == '__main__':\n"
     ]
    }
   ],
   "source": [
    "final_title_info['latam_home_medal'] = final_title_info['latam_home_medal'].fillna('Bronze')"
   ]
  },
  {
   "cell_type": "code",
   "execution_count": 32,
   "id": "51af1400",
   "metadata": {},
   "outputs": [
    {
     "data": {
      "text/plain": [
       "latam_home_medal   0.00\n",
       "imdb_id            0.00\n",
       "area_gross         0.00\n",
       "budget             0.08\n",
       "theatrical_date    0.00\n",
       "dtype: float64"
      ]
     },
     "execution_count": 32,
     "metadata": {},
     "output_type": "execute_result"
    }
   ],
   "source": [
    "final_title_info[['latam_home_medal', 'imdb_id', 'area_gross', 'budget', 'theatrical_date']].isnull().sum()/len(final_title_info)"
   ]
  },
  {
   "cell_type": "code",
   "execution_count": 33,
   "id": "1f94726c",
   "metadata": {},
   "outputs": [
    {
     "name": "stderr",
     "output_type": "stream",
     "text": [
      "/home/ec2-user/anaconda3/envs/python3/lib/python3.6/site-packages/ipykernel/__main__.py:2: SettingWithCopyWarning: \n",
      "A value is trying to be set on a copy of a slice from a DataFrame.\n",
      "Try using .loc[row_indexer,col_indexer] = value instead\n",
      "\n",
      "See the caveats in the documentation: https://pandas.pydata.org/pandas-docs/stable/user_guide/indexing.html#returning-a-view-versus-a-copy\n",
      "  from ipykernel import kernelapp as app\n"
     ]
    }
   ],
   "source": [
    "final_title_info['days_from_theatrical'] = (final_title_info['first_release_date'].apply(pd.to_datetime)\n",
    "                                    - final_title_info['theatrical_date'].apply(pd.to_datetime)).dt.days"
   ]
  },
  {
   "cell_type": "code",
   "execution_count": 34,
   "id": "b0dddbad",
   "metadata": {},
   "outputs": [],
   "source": [
    "final_title_info.to_csv('latam_title_release_info.csv')"
   ]
  },
  {
   "cell_type": "code",
   "execution_count": 94,
   "id": "232923ae",
   "metadata": {},
   "outputs": [],
   "source": [
    "movie_hbo = final_title_info.copy()"
   ]
  },
  {
   "cell_type": "code",
   "execution_count": 102,
   "id": "6c57f4fe",
   "metadata": {},
   "outputs": [
    {
     "data": {
      "text/html": [
       "<div>\n",
       "<style scoped>\n",
       "    .dataframe tbody tr th:only-of-type {\n",
       "        vertical-align: middle;\n",
       "    }\n",
       "\n",
       "    .dataframe tbody tr th {\n",
       "        vertical-align: top;\n",
       "    }\n",
       "\n",
       "    .dataframe thead th {\n",
       "        text-align: right;\n",
       "    }\n",
       "</style>\n",
       "<table border=\"1\" class=\"dataframe\">\n",
       "  <thead>\n",
       "    <tr style=\"text-align: right;\">\n",
       "      <th></th>\n",
       "      <th>title_series</th>\n",
       "      <th>legacy_series_id</th>\n",
       "      <th>ckg_series_id</th>\n",
       "      <th>imdb_id</th>\n",
       "      <th>program_type</th>\n",
       "      <th>primary_genre</th>\n",
       "      <th>first_release_date</th>\n",
       "      <th>theatrical_date</th>\n",
       "      <th>area_gross</th>\n",
       "      <th>budget</th>\n",
       "      <th>observed_medal</th>\n",
       "      <th>latam_home_medal</th>\n",
       "      <th>day_on_max</th>\n",
       "      <th>cumulative_viewing_subscribers</th>\n",
       "      <th>cumulative_first_views</th>\n",
       "      <th>percent_cumulative_viewing_subscribers</th>\n",
       "      <th>percent_cumulative_first_views</th>\n",
       "      <th>days_from_theatrical</th>\n",
       "      <th>genre_Action</th>\n",
       "      <th>genre_Comedy</th>\n",
       "      <th>genre_Drama</th>\n",
       "      <th>genre_Fantasy &amp; Sci-Fi</th>\n",
       "      <th>genre_Horror</th>\n",
       "      <th>genre_Kids &amp; Family</th>\n",
       "      <th>genre_Music</th>\n",
       "      <th>genre_Not A Genre</th>\n",
       "      <th>medal_Bronze</th>\n",
       "      <th>medal_Gold</th>\n",
       "      <th>medal_Platinum</th>\n",
       "      <th>medal_Silver</th>\n",
       "      <th>medal_number</th>\n",
       "      <th>log_cumulative_first_views</th>\n",
       "      <th>log_cumulative_viewing_subs</th>\n",
       "    </tr>\n",
       "  </thead>\n",
       "  <tbody>\n",
       "    <tr>\n",
       "      <th>2</th>\n",
       "      <td>Ambulance</td>\n",
       "      <td>GYyRIgQNLUhu1wwEAAAAF</td>\n",
       "      <td>GYyRIgQNLUhu1wwEAAAAF</td>\n",
       "      <td>tt4998632</td>\n",
       "      <td>Acquired</td>\n",
       "      <td>Action</td>\n",
       "      <td>2022-11-24</td>\n",
       "      <td>2022-03-17</td>\n",
       "      <td>1,218,886.00</td>\n",
       "      <td>40,000,000.00</td>\n",
       "      <td>Silver</td>\n",
       "      <td>Silver</td>\n",
       "      <td>90.00</td>\n",
       "      <td>1,107,532.00</td>\n",
       "      <td>7,058.00</td>\n",
       "      <td>8.839600</td>\n",
       "      <td>0.199500</td>\n",
       "      <td>252</td>\n",
       "      <td>1</td>\n",
       "      <td>0</td>\n",
       "      <td>0</td>\n",
       "      <td>0</td>\n",
       "      <td>0</td>\n",
       "      <td>0</td>\n",
       "      <td>0</td>\n",
       "      <td>0</td>\n",
       "      <td>0</td>\n",
       "      <td>0</td>\n",
       "      <td>0</td>\n",
       "      <td>1</td>\n",
       "      <td>2</td>\n",
       "      <td>12.79</td>\n",
       "      <td>20.08</td>\n",
       "    </tr>\n",
       "    <tr>\n",
       "      <th>3</th>\n",
       "      <td>Armageddon Time</td>\n",
       "      <td>GZK1nDg0nFaXCwgEAABAp</td>\n",
       "      <td>1e047963-2433-4a1a-8095-830022a0ce57</td>\n",
       "      <td>tt10343028</td>\n",
       "      <td>Acquired</td>\n",
       "      <td>Drama</td>\n",
       "      <td>2023-08-10</td>\n",
       "      <td>2023-03-16</td>\n",
       "      <td>3,967.00</td>\n",
       "      <td>15,000,000.00</td>\n",
       "      <td>Bronze</td>\n",
       "      <td>Bronze</td>\n",
       "      <td>90.00</td>\n",
       "      <td>34,968.00</td>\n",
       "      <td>226.00</td>\n",
       "      <td>0.295300</td>\n",
       "      <td>0.008600</td>\n",
       "      <td>147</td>\n",
       "      <td>0</td>\n",
       "      <td>0</td>\n",
       "      <td>1</td>\n",
       "      <td>0</td>\n",
       "      <td>0</td>\n",
       "      <td>0</td>\n",
       "      <td>0</td>\n",
       "      <td>0</td>\n",
       "      <td>1</td>\n",
       "      <td>0</td>\n",
       "      <td>0</td>\n",
       "      <td>0</td>\n",
       "      <td>3</td>\n",
       "      <td>7.82</td>\n",
       "      <td>15.09</td>\n",
       "    </tr>\n",
       "    <tr>\n",
       "      <th>7</th>\n",
       "      <td>Belfast</td>\n",
       "      <td>GYpn_UA8YyZ3DZgEAAAAW</td>\n",
       "      <td>0b926c5b-b8e4-401c-ba69-783ce07ad098</td>\n",
       "      <td>tt12789558</td>\n",
       "      <td>Acquired</td>\n",
       "      <td>Drama</td>\n",
       "      <td>2022-10-27</td>\n",
       "      <td>2022-03-10</td>\n",
       "      <td>109,066.00</td>\n",
       "      <td>11,000,000.00</td>\n",
       "      <td>Bronze</td>\n",
       "      <td>Bronze</td>\n",
       "      <td>90.00</td>\n",
       "      <td>137,179.00</td>\n",
       "      <td>522.00</td>\n",
       "      <td>1.133700</td>\n",
       "      <td>0.017100</td>\n",
       "      <td>231</td>\n",
       "      <td>0</td>\n",
       "      <td>0</td>\n",
       "      <td>1</td>\n",
       "      <td>0</td>\n",
       "      <td>0</td>\n",
       "      <td>0</td>\n",
       "      <td>0</td>\n",
       "      <td>0</td>\n",
       "      <td>1</td>\n",
       "      <td>0</td>\n",
       "      <td>0</td>\n",
       "      <td>0</td>\n",
       "      <td>3</td>\n",
       "      <td>9.03</td>\n",
       "      <td>17.07</td>\n",
       "    </tr>\n",
       "    <tr>\n",
       "      <th>8</th>\n",
       "      <td>Black Adam</td>\n",
       "      <td>GYzcHIw5407mRsAEAAAA4</td>\n",
       "      <td>0c730836-253b-4338-a3d1-a6a44a3384e0</td>\n",
       "      <td>tt6443346</td>\n",
       "      <td>Acquired</td>\n",
       "      <td>Action</td>\n",
       "      <td>2022-12-16</td>\n",
       "      <td>2022-10-20</td>\n",
       "      <td>9,282,592.00</td>\n",
       "      <td>195,000,000.00</td>\n",
       "      <td>Platinum</td>\n",
       "      <td>Platinum</td>\n",
       "      <td>90.00</td>\n",
       "      <td>5,705,318.00</td>\n",
       "      <td>208,837.00</td>\n",
       "      <td>44.638400</td>\n",
       "      <td>5.419500</td>\n",
       "      <td>57</td>\n",
       "      <td>1</td>\n",
       "      <td>0</td>\n",
       "      <td>0</td>\n",
       "      <td>0</td>\n",
       "      <td>0</td>\n",
       "      <td>0</td>\n",
       "      <td>0</td>\n",
       "      <td>0</td>\n",
       "      <td>0</td>\n",
       "      <td>0</td>\n",
       "      <td>1</td>\n",
       "      <td>0</td>\n",
       "      <td>0</td>\n",
       "      <td>17.67</td>\n",
       "      <td>22.44</td>\n",
       "    </tr>\n",
       "    <tr>\n",
       "      <th>15</th>\n",
       "      <td>Cry Macho</td>\n",
       "      <td>GYSbJuAuzchDCwgEAAAAC</td>\n",
       "      <td>b0598032-1cfd-4605-af5b-52ee492ce717</td>\n",
       "      <td>tt1924245</td>\n",
       "      <td>Acquired</td>\n",
       "      <td>Drama</td>\n",
       "      <td>2021-10-21</td>\n",
       "      <td>2021-10-21</td>\n",
       "      <td>102,285.00</td>\n",
       "      <td>33,000,000.00</td>\n",
       "      <td>Silver</td>\n",
       "      <td>Silver</td>\n",
       "      <td>90.00</td>\n",
       "      <td>672,638.00</td>\n",
       "      <td>8,395.00</td>\n",
       "      <td>7.853500</td>\n",
       "      <td>0.298500</td>\n",
       "      <td>0</td>\n",
       "      <td>0</td>\n",
       "      <td>0</td>\n",
       "      <td>1</td>\n",
       "      <td>0</td>\n",
       "      <td>0</td>\n",
       "      <td>0</td>\n",
       "      <td>0</td>\n",
       "      <td>0</td>\n",
       "      <td>0</td>\n",
       "      <td>0</td>\n",
       "      <td>0</td>\n",
       "      <td>1</td>\n",
       "      <td>2</td>\n",
       "      <td>13.04</td>\n",
       "      <td>19.36</td>\n",
       "    </tr>\n",
       "  </tbody>\n",
       "</table>\n",
       "</div>"
      ],
      "text/plain": [
       "       title_series       legacy_series_id  \\\n",
       "2         Ambulance  GYyRIgQNLUhu1wwEAAAAF   \n",
       "3   Armageddon Time  GZK1nDg0nFaXCwgEAABAp   \n",
       "7           Belfast  GYpn_UA8YyZ3DZgEAAAAW   \n",
       "8        Black Adam  GYzcHIw5407mRsAEAAAA4   \n",
       "15        Cry Macho  GYSbJuAuzchDCwgEAAAAC   \n",
       "\n",
       "                           ckg_series_id     imdb_id program_type  \\\n",
       "2                  GYyRIgQNLUhu1wwEAAAAF   tt4998632     Acquired   \n",
       "3   1e047963-2433-4a1a-8095-830022a0ce57  tt10343028     Acquired   \n",
       "7   0b926c5b-b8e4-401c-ba69-783ce07ad098  tt12789558     Acquired   \n",
       "8   0c730836-253b-4338-a3d1-a6a44a3384e0   tt6443346     Acquired   \n",
       "15  b0598032-1cfd-4605-af5b-52ee492ce717   tt1924245     Acquired   \n",
       "\n",
       "   primary_genre first_release_date theatrical_date   area_gross  \\\n",
       "2         Action         2022-11-24      2022-03-17 1,218,886.00   \n",
       "3          Drama         2023-08-10      2023-03-16     3,967.00   \n",
       "7          Drama         2022-10-27      2022-03-10   109,066.00   \n",
       "8         Action         2022-12-16      2022-10-20 9,282,592.00   \n",
       "15         Drama         2021-10-21      2021-10-21   102,285.00   \n",
       "\n",
       "           budget observed_medal latam_home_medal  day_on_max  \\\n",
       "2   40,000,000.00         Silver           Silver       90.00   \n",
       "3   15,000,000.00         Bronze           Bronze       90.00   \n",
       "7   11,000,000.00         Bronze           Bronze       90.00   \n",
       "8  195,000,000.00       Platinum         Platinum       90.00   \n",
       "15  33,000,000.00         Silver           Silver       90.00   \n",
       "\n",
       "    cumulative_viewing_subscribers  cumulative_first_views  \\\n",
       "2                     1,107,532.00                7,058.00   \n",
       "3                        34,968.00                  226.00   \n",
       "7                       137,179.00                  522.00   \n",
       "8                     5,705,318.00              208,837.00   \n",
       "15                      672,638.00                8,395.00   \n",
       "\n",
       "   percent_cumulative_viewing_subscribers percent_cumulative_first_views  \\\n",
       "2                                8.839600                       0.199500   \n",
       "3                                0.295300                       0.008600   \n",
       "7                                1.133700                       0.017100   \n",
       "8                               44.638400                       5.419500   \n",
       "15                               7.853500                       0.298500   \n",
       "\n",
       "    days_from_theatrical  genre_Action  genre_Comedy  genre_Drama  \\\n",
       "2                    252             1             0            0   \n",
       "3                    147             0             0            1   \n",
       "7                    231             0             0            1   \n",
       "8                     57             1             0            0   \n",
       "15                     0             0             0            1   \n",
       "\n",
       "    genre_Fantasy & Sci-Fi  genre_Horror  genre_Kids & Family  genre_Music  \\\n",
       "2                        0             0                    0            0   \n",
       "3                        0             0                    0            0   \n",
       "7                        0             0                    0            0   \n",
       "8                        0             0                    0            0   \n",
       "15                       0             0                    0            0   \n",
       "\n",
       "    genre_Not A Genre  medal_Bronze  medal_Gold  medal_Platinum  medal_Silver  \\\n",
       "2                   0             0           0               0             1   \n",
       "3                   0             1           0               0             0   \n",
       "7                   0             1           0               0             0   \n",
       "8                   0             0           0               1             0   \n",
       "15                  0             0           0               0             1   \n",
       "\n",
       "    medal_number  log_cumulative_first_views  log_cumulative_viewing_subs  \n",
       "2              2                       12.79                        20.08  \n",
       "3              3                        7.82                        15.09  \n",
       "7              3                        9.03                        17.07  \n",
       "8              0                       17.67                        22.44  \n",
       "15             2                       13.04                        19.36  "
      ]
     },
     "execution_count": 102,
     "metadata": {},
     "output_type": "execute_result"
    }
   ],
   "source": [
    "movie_hbo.head()"
   ]
  },
  {
   "cell_type": "code",
   "execution_count": 96,
   "id": "9609df68",
   "metadata": {},
   "outputs": [],
   "source": [
    "# Catigorical feature \n",
    "category_onehot = pd.get_dummies(movie_hbo['primary_genre'], prefix='genre')\n",
    "movie_hbo=pd.concat([movie_hbo, category_onehot], axis = 1)"
   ]
  },
  {
   "cell_type": "code",
   "execution_count": 97,
   "id": "f612e475",
   "metadata": {},
   "outputs": [],
   "source": [
    "medal_onehot = pd.get_dummies(movie_hbo['latam_home_medal'], prefix='medal')\n",
    "movie_hbo=pd.concat([movie_hbo, medal_onehot], axis = 1)"
   ]
  },
  {
   "cell_type": "code",
   "execution_count": 98,
   "id": "f7e78490",
   "metadata": {},
   "outputs": [],
   "source": [
    "# Medal Data\n",
    "medal_dict = {'Silver':2, 'Bronze':3, 'Gold':1 , 'Platinum':0,}\n",
    "movie_hbo['medal_number'] = movie_hbo['latam_home_medal'].replace(medal_dict)"
   ]
  },
  {
   "cell_type": "code",
   "execution_count": 99,
   "id": "e29aa8b8",
   "metadata": {},
   "outputs": [
    {
     "data": {
      "text/plain": [
       "array([2, 3, 0, 1])"
      ]
     },
     "execution_count": 99,
     "metadata": {},
     "output_type": "execute_result"
    }
   ],
   "source": [
    "movie_hbo.medal_number.unique()"
   ]
  },
  {
   "cell_type": "code",
   "execution_count": 100,
   "id": "f7875171",
   "metadata": {},
   "outputs": [
    {
     "name": "stderr",
     "output_type": "stream",
     "text": [
      "/home/ec2-user/anaconda3/envs/python3/lib/python3.6/site-packages/pandas/core/series.py:726: RuntimeWarning: divide by zero encountered in log2\n",
      "  result = getattr(ufunc, method)(*inputs, **kwargs)\n"
     ]
    }
   ],
   "source": [
    "movie_hbo['log_cumulative_first_views'] = np.log2(movie_hbo['cumulative_first_views'])\n",
    "movie_hbo['log_cumulative_viewing_subs'] = np.log2(movie_hbo['cumulative_viewing_subscribers'])"
   ]
  },
  {
   "cell_type": "code",
   "execution_count": 101,
   "id": "87b0967b",
   "metadata": {},
   "outputs": [],
   "source": [
    "movie_hbo.to_csv('latam_training_data.csv')"
   ]
  },
  {
   "cell_type": "markdown",
   "id": "7331795e",
   "metadata": {},
   "source": [
    "# Correlation"
   ]
  },
  {
   "cell_type": "code",
   "execution_count": 49,
   "id": "4a04cefe",
   "metadata": {},
   "outputs": [],
   "source": [
    "import matplotlib.pyplot as plt \n",
    "import seaborn as sns"
   ]
  },
  {
   "cell_type": "code",
   "execution_count": 50,
   "id": "b7e4350e",
   "metadata": {},
   "outputs": [],
   "source": [
    "data = movie_hbo.copy()"
   ]
  },
  {
   "cell_type": "code",
   "execution_count": 51,
   "id": "e46485e6",
   "metadata": {},
   "outputs": [],
   "source": [
    "data['percent_cumulative_viewing_subscribers'] = data['percent_cumulative_viewing_subscribers'].astype(float)"
   ]
  },
  {
   "cell_type": "code",
   "execution_count": 52,
   "id": "730fd1f2",
   "metadata": {},
   "outputs": [],
   "source": [
    "FEATURE_COLS = ['days_from_theatrical', 'area_gross', 'budget', 'genre_Action', 'genre_Comedy', \n",
    "                'genre_Drama', 'genre_Fantasy & Sci-Fi', 'genre_Horror', 'genre_Kids & Family',\n",
    "                'medal_number', 'medal_Bronze', 'medal_Gold', 'medal_Platinum', 'medal_Silver',\n",
    "               ]"
   ]
  },
  {
   "cell_type": "code",
   "execution_count": 53,
   "id": "d3faef79",
   "metadata": {},
   "outputs": [],
   "source": [
    "TARGET_COL = ['cumulative_viewing_subscribers'] # cumulative_first_views"
   ]
  },
  {
   "cell_type": "code",
   "execution_count": 54,
   "id": "f8d4c991",
   "metadata": {},
   "outputs": [
    {
     "data": {
      "text/html": [
       "<div>\n",
       "<style scoped>\n",
       "    .dataframe tbody tr th:only-of-type {\n",
       "        vertical-align: middle;\n",
       "    }\n",
       "\n",
       "    .dataframe tbody tr th {\n",
       "        vertical-align: top;\n",
       "    }\n",
       "\n",
       "    .dataframe thead th {\n",
       "        text-align: right;\n",
       "    }\n",
       "</style>\n",
       "<table border=\"1\" class=\"dataframe\">\n",
       "  <thead>\n",
       "    <tr style=\"text-align: right;\">\n",
       "      <th></th>\n",
       "      <th>title_series</th>\n",
       "      <th>legacy_series_id</th>\n",
       "      <th>ckg_series_id</th>\n",
       "      <th>imdb_id</th>\n",
       "      <th>program_type</th>\n",
       "      <th>primary_genre</th>\n",
       "      <th>latam_home_medal</th>\n",
       "      <th>first_release_date</th>\n",
       "      <th>theatrical_date</th>\n",
       "      <th>area_gross</th>\n",
       "      <th>budget</th>\n",
       "      <th>observed_medal</th>\n",
       "      <th>day_on_max</th>\n",
       "      <th>cumulative_viewing_subscribers</th>\n",
       "      <th>cumulative_first_views</th>\n",
       "      <th>percent_cumulative_viewing_subscribers</th>\n",
       "      <th>percent_cumulative_first_views</th>\n",
       "      <th>days_from_theatrical</th>\n",
       "      <th>genre_Action</th>\n",
       "      <th>genre_Comedy</th>\n",
       "      <th>genre_Drama</th>\n",
       "      <th>genre_Fantasy &amp; Sci-Fi</th>\n",
       "      <th>genre_Horror</th>\n",
       "      <th>genre_Kids &amp; Family</th>\n",
       "      <th>genre_Music</th>\n",
       "      <th>genre_Not A Genre</th>\n",
       "      <th>medal_Bronze</th>\n",
       "      <th>medal_Gold</th>\n",
       "      <th>medal_Platinum</th>\n",
       "      <th>medal_Silver</th>\n",
       "      <th>medal_number</th>\n",
       "      <th>log_cumulative_first_views</th>\n",
       "      <th>log_cumulative_viewing_subs</th>\n",
       "    </tr>\n",
       "  </thead>\n",
       "  <tbody>\n",
       "    <tr>\n",
       "      <th>2</th>\n",
       "      <td>Ambulance</td>\n",
       "      <td>GYyRIgQNLUhu1wwEAAAAF</td>\n",
       "      <td>GYyRIgQNLUhu1wwEAAAAF</td>\n",
       "      <td>tt4998632</td>\n",
       "      <td>Acquired</td>\n",
       "      <td>Action</td>\n",
       "      <td>Silver</td>\n",
       "      <td>2022-11-24</td>\n",
       "      <td>2022-03-17</td>\n",
       "      <td>1,218,886.00</td>\n",
       "      <td>40,000,000.00</td>\n",
       "      <td>Silver</td>\n",
       "      <td>90.00</td>\n",
       "      <td>1,107,532.00</td>\n",
       "      <td>7,058.00</td>\n",
       "      <td>8.839600</td>\n",
       "      <td>0.199500</td>\n",
       "      <td>252</td>\n",
       "      <td>1</td>\n",
       "      <td>0</td>\n",
       "      <td>0</td>\n",
       "      <td>0</td>\n",
       "      <td>0</td>\n",
       "      <td>0</td>\n",
       "      <td>0</td>\n",
       "      <td>0</td>\n",
       "      <td>0</td>\n",
       "      <td>0</td>\n",
       "      <td>0</td>\n",
       "      <td>1</td>\n",
       "      <td>2</td>\n",
       "      <td>12.79</td>\n",
       "      <td>20.08</td>\n",
       "    </tr>\n",
       "    <tr>\n",
       "      <th>3</th>\n",
       "      <td>Armageddon Time</td>\n",
       "      <td>GZK1nDg0nFaXCwgEAABAp</td>\n",
       "      <td>1e047963-2433-4a1a-8095-830022a0ce57</td>\n",
       "      <td>tt10343028</td>\n",
       "      <td>Acquired</td>\n",
       "      <td>Drama</td>\n",
       "      <td>Silver</td>\n",
       "      <td>2023-08-10</td>\n",
       "      <td>2023-03-16</td>\n",
       "      <td>3,967.00</td>\n",
       "      <td>15,000,000.00</td>\n",
       "      <td>Bronze</td>\n",
       "      <td>90.00</td>\n",
       "      <td>34,968.00</td>\n",
       "      <td>226.00</td>\n",
       "      <td>0.295300</td>\n",
       "      <td>0.008600</td>\n",
       "      <td>147</td>\n",
       "      <td>0</td>\n",
       "      <td>0</td>\n",
       "      <td>1</td>\n",
       "      <td>0</td>\n",
       "      <td>0</td>\n",
       "      <td>0</td>\n",
       "      <td>0</td>\n",
       "      <td>0</td>\n",
       "      <td>0</td>\n",
       "      <td>0</td>\n",
       "      <td>0</td>\n",
       "      <td>1</td>\n",
       "      <td>2</td>\n",
       "      <td>7.82</td>\n",
       "      <td>15.09</td>\n",
       "    </tr>\n",
       "    <tr>\n",
       "      <th>7</th>\n",
       "      <td>Belfast</td>\n",
       "      <td>GYpn_UA8YyZ3DZgEAAAAW</td>\n",
       "      <td>0b926c5b-b8e4-401c-ba69-783ce07ad098</td>\n",
       "      <td>tt12789558</td>\n",
       "      <td>Acquired</td>\n",
       "      <td>Drama</td>\n",
       "      <td>Bronze</td>\n",
       "      <td>2022-10-27</td>\n",
       "      <td>2022-03-10</td>\n",
       "      <td>109,066.00</td>\n",
       "      <td>11,000,000.00</td>\n",
       "      <td>Bronze</td>\n",
       "      <td>90.00</td>\n",
       "      <td>137,179.00</td>\n",
       "      <td>522.00</td>\n",
       "      <td>1.133700</td>\n",
       "      <td>0.017100</td>\n",
       "      <td>231</td>\n",
       "      <td>0</td>\n",
       "      <td>0</td>\n",
       "      <td>1</td>\n",
       "      <td>0</td>\n",
       "      <td>0</td>\n",
       "      <td>0</td>\n",
       "      <td>0</td>\n",
       "      <td>0</td>\n",
       "      <td>1</td>\n",
       "      <td>0</td>\n",
       "      <td>0</td>\n",
       "      <td>0</td>\n",
       "      <td>3</td>\n",
       "      <td>9.03</td>\n",
       "      <td>17.07</td>\n",
       "    </tr>\n",
       "    <tr>\n",
       "      <th>8</th>\n",
       "      <td>Black Adam</td>\n",
       "      <td>GYzcHIw5407mRsAEAAAA4</td>\n",
       "      <td>0c730836-253b-4338-a3d1-a6a44a3384e0</td>\n",
       "      <td>tt6443346</td>\n",
       "      <td>Acquired</td>\n",
       "      <td>Action</td>\n",
       "      <td>Platinum</td>\n",
       "      <td>2022-12-16</td>\n",
       "      <td>2022-10-20</td>\n",
       "      <td>9,282,592.00</td>\n",
       "      <td>195,000,000.00</td>\n",
       "      <td>Platinum</td>\n",
       "      <td>90.00</td>\n",
       "      <td>5,705,318.00</td>\n",
       "      <td>208,837.00</td>\n",
       "      <td>44.638400</td>\n",
       "      <td>5.419500</td>\n",
       "      <td>57</td>\n",
       "      <td>1</td>\n",
       "      <td>0</td>\n",
       "      <td>0</td>\n",
       "      <td>0</td>\n",
       "      <td>0</td>\n",
       "      <td>0</td>\n",
       "      <td>0</td>\n",
       "      <td>0</td>\n",
       "      <td>0</td>\n",
       "      <td>0</td>\n",
       "      <td>1</td>\n",
       "      <td>0</td>\n",
       "      <td>0</td>\n",
       "      <td>17.67</td>\n",
       "      <td>22.44</td>\n",
       "    </tr>\n",
       "    <tr>\n",
       "      <th>15</th>\n",
       "      <td>Cry Macho</td>\n",
       "      <td>GYSbJuAuzchDCwgEAAAAC</td>\n",
       "      <td>b0598032-1cfd-4605-af5b-52ee492ce717</td>\n",
       "      <td>tt1924245</td>\n",
       "      <td>Acquired</td>\n",
       "      <td>Drama</td>\n",
       "      <td>Silver</td>\n",
       "      <td>2021-10-21</td>\n",
       "      <td>2021-10-21</td>\n",
       "      <td>102,285.00</td>\n",
       "      <td>33,000,000.00</td>\n",
       "      <td>Silver</td>\n",
       "      <td>90.00</td>\n",
       "      <td>672,638.00</td>\n",
       "      <td>8,395.00</td>\n",
       "      <td>7.853500</td>\n",
       "      <td>0.298500</td>\n",
       "      <td>0</td>\n",
       "      <td>0</td>\n",
       "      <td>0</td>\n",
       "      <td>1</td>\n",
       "      <td>0</td>\n",
       "      <td>0</td>\n",
       "      <td>0</td>\n",
       "      <td>0</td>\n",
       "      <td>0</td>\n",
       "      <td>0</td>\n",
       "      <td>0</td>\n",
       "      <td>0</td>\n",
       "      <td>1</td>\n",
       "      <td>2</td>\n",
       "      <td>13.04</td>\n",
       "      <td>19.36</td>\n",
       "    </tr>\n",
       "  </tbody>\n",
       "</table>\n",
       "</div>"
      ],
      "text/plain": [
       "       title_series       legacy_series_id  \\\n",
       "2         Ambulance  GYyRIgQNLUhu1wwEAAAAF   \n",
       "3   Armageddon Time  GZK1nDg0nFaXCwgEAABAp   \n",
       "7           Belfast  GYpn_UA8YyZ3DZgEAAAAW   \n",
       "8        Black Adam  GYzcHIw5407mRsAEAAAA4   \n",
       "15        Cry Macho  GYSbJuAuzchDCwgEAAAAC   \n",
       "\n",
       "                           ckg_series_id     imdb_id program_type  \\\n",
       "2                  GYyRIgQNLUhu1wwEAAAAF   tt4998632     Acquired   \n",
       "3   1e047963-2433-4a1a-8095-830022a0ce57  tt10343028     Acquired   \n",
       "7   0b926c5b-b8e4-401c-ba69-783ce07ad098  tt12789558     Acquired   \n",
       "8   0c730836-253b-4338-a3d1-a6a44a3384e0   tt6443346     Acquired   \n",
       "15  b0598032-1cfd-4605-af5b-52ee492ce717   tt1924245     Acquired   \n",
       "\n",
       "   primary_genre latam_home_medal first_release_date theatrical_date  \\\n",
       "2         Action           Silver         2022-11-24      2022-03-17   \n",
       "3          Drama           Silver         2023-08-10      2023-03-16   \n",
       "7          Drama           Bronze         2022-10-27      2022-03-10   \n",
       "8         Action         Platinum         2022-12-16      2022-10-20   \n",
       "15         Drama           Silver         2021-10-21      2021-10-21   \n",
       "\n",
       "     area_gross         budget observed_medal  day_on_max  \\\n",
       "2  1,218,886.00  40,000,000.00         Silver       90.00   \n",
       "3      3,967.00  15,000,000.00         Bronze       90.00   \n",
       "7    109,066.00  11,000,000.00         Bronze       90.00   \n",
       "8  9,282,592.00 195,000,000.00       Platinum       90.00   \n",
       "15   102,285.00  33,000,000.00         Silver       90.00   \n",
       "\n",
       "    cumulative_viewing_subscribers  cumulative_first_views  \\\n",
       "2                     1,107,532.00                7,058.00   \n",
       "3                        34,968.00                  226.00   \n",
       "7                       137,179.00                  522.00   \n",
       "8                     5,705,318.00              208,837.00   \n",
       "15                      672,638.00                8,395.00   \n",
       "\n",
       "   percent_cumulative_viewing_subscribers percent_cumulative_first_views  \\\n",
       "2                                8.839600                       0.199500   \n",
       "3                                0.295300                       0.008600   \n",
       "7                                1.133700                       0.017100   \n",
       "8                               44.638400                       5.419500   \n",
       "15                               7.853500                       0.298500   \n",
       "\n",
       "    days_from_theatrical  genre_Action  genre_Comedy  genre_Drama  \\\n",
       "2                    252             1             0            0   \n",
       "3                    147             0             0            1   \n",
       "7                    231             0             0            1   \n",
       "8                     57             1             0            0   \n",
       "15                     0             0             0            1   \n",
       "\n",
       "    genre_Fantasy & Sci-Fi  genre_Horror  genre_Kids & Family  genre_Music  \\\n",
       "2                        0             0                    0            0   \n",
       "3                        0             0                    0            0   \n",
       "7                        0             0                    0            0   \n",
       "8                        0             0                    0            0   \n",
       "15                       0             0                    0            0   \n",
       "\n",
       "    genre_Not A Genre  medal_Bronze  medal_Gold  medal_Platinum  medal_Silver  \\\n",
       "2                   0             0           0               0             1   \n",
       "3                   0             0           0               0             1   \n",
       "7                   0             1           0               0             0   \n",
       "8                   0             0           0               1             0   \n",
       "15                  0             0           0               0             1   \n",
       "\n",
       "    medal_number  log_cumulative_first_views  log_cumulative_viewing_subs  \n",
       "2              2                       12.79                        20.08  \n",
       "3              2                        7.82                        15.09  \n",
       "7              3                        9.03                        17.07  \n",
       "8              0                       17.67                        22.44  \n",
       "15             2                       13.04                        19.36  "
      ]
     },
     "execution_count": 54,
     "metadata": {},
     "output_type": "execute_result"
    }
   ],
   "source": [
    "movie_hbo.head()"
   ]
  },
  {
   "cell_type": "code",
   "execution_count": 55,
   "id": "dc4c5cc5",
   "metadata": {},
   "outputs": [
    {
     "data": {
      "text/html": [
       "<div>\n",
       "<style scoped>\n",
       "    .dataframe tbody tr th:only-of-type {\n",
       "        vertical-align: middle;\n",
       "    }\n",
       "\n",
       "    .dataframe tbody tr th {\n",
       "        vertical-align: top;\n",
       "    }\n",
       "\n",
       "    .dataframe thead th {\n",
       "        text-align: right;\n",
       "    }\n",
       "</style>\n",
       "<table border=\"1\" class=\"dataframe\">\n",
       "  <thead>\n",
       "    <tr style=\"text-align: right;\">\n",
       "      <th></th>\n",
       "      <th>cumulative_viewing_subscribers</th>\n",
       "    </tr>\n",
       "  </thead>\n",
       "  <tbody>\n",
       "    <tr>\n",
       "      <th>dummy_value</th>\n",
       "      <td>-1.00</td>\n",
       "    </tr>\n",
       "    <tr>\n",
       "      <th>medal_number</th>\n",
       "      <td>-0.79</td>\n",
       "    </tr>\n",
       "    <tr>\n",
       "      <th>days_from_theatrical</th>\n",
       "      <td>-0.43</td>\n",
       "    </tr>\n",
       "    <tr>\n",
       "      <th>medal_Silver</th>\n",
       "      <td>-0.42</td>\n",
       "    </tr>\n",
       "    <tr>\n",
       "      <th>medal_Bronze</th>\n",
       "      <td>-0.40</td>\n",
       "    </tr>\n",
       "    <tr>\n",
       "      <th>genre_Drama</th>\n",
       "      <td>-0.30</td>\n",
       "    </tr>\n",
       "    <tr>\n",
       "      <th>medal_Gold</th>\n",
       "      <td>-0.14</td>\n",
       "    </tr>\n",
       "    <tr>\n",
       "      <th>genre_Horror</th>\n",
       "      <td>-0.13</td>\n",
       "    </tr>\n",
       "    <tr>\n",
       "      <th>genre_Comedy</th>\n",
       "      <td>-0.11</td>\n",
       "    </tr>\n",
       "    <tr>\n",
       "      <th>genre_Kids &amp; Family</th>\n",
       "      <td>0.02</td>\n",
       "    </tr>\n",
       "    <tr>\n",
       "      <th>genre_Fantasy &amp; Sci-Fi</th>\n",
       "      <td>0.10</td>\n",
       "    </tr>\n",
       "    <tr>\n",
       "      <th>genre_Action</th>\n",
       "      <td>0.50</td>\n",
       "    </tr>\n",
       "    <tr>\n",
       "      <th>area_gross</th>\n",
       "      <td>0.57</td>\n",
       "    </tr>\n",
       "    <tr>\n",
       "      <th>budget</th>\n",
       "      <td>0.65</td>\n",
       "    </tr>\n",
       "    <tr>\n",
       "      <th>medal_Platinum</th>\n",
       "      <td>0.79</td>\n",
       "    </tr>\n",
       "    <tr>\n",
       "      <th>cumulative_viewing_subscribers</th>\n",
       "      <td>1.00</td>\n",
       "    </tr>\n",
       "  </tbody>\n",
       "</table>\n",
       "</div>"
      ],
      "text/plain": [
       "                                cumulative_viewing_subscribers\n",
       "dummy_value                                              -1.00\n",
       "medal_number                                             -0.79\n",
       "days_from_theatrical                                     -0.43\n",
       "medal_Silver                                             -0.42\n",
       "medal_Bronze                                             -0.40\n",
       "genre_Drama                                              -0.30\n",
       "medal_Gold                                               -0.14\n",
       "genre_Horror                                             -0.13\n",
       "genre_Comedy                                             -0.11\n",
       "genre_Kids & Family                                       0.02\n",
       "genre_Fantasy & Sci-Fi                                    0.10\n",
       "genre_Action                                              0.50\n",
       "area_gross                                                0.57\n",
       "budget                                                    0.65\n",
       "medal_Platinum                                            0.79\n",
       "cumulative_viewing_subscribers                            1.00"
      ]
     },
     "execution_count": 55,
     "metadata": {},
     "output_type": "execute_result"
    }
   ],
   "source": [
    "plot_data=data[FEATURE_COLS+TARGET_COL]\n",
    "corr = plot_data.corr()[TARGET_COL]\n",
    "mask=np.zeros_like(corr, dtype=np.bool)\n",
    "corr.loc['dummy_value'] = -1\n",
    "corr.sort_values(by = TARGET_COL)"
   ]
  },
  {
   "cell_type": "code",
   "execution_count": 56,
   "id": "9fa01056",
   "metadata": {},
   "outputs": [
    {
     "data": {
      "text/plain": [
       "<AxesSubplot:>"
      ]
     },
     "execution_count": 56,
     "metadata": {},
     "output_type": "execute_result"
    },
    {
     "data": {
      "image/png": "[encoded data removed]",
      "text/plain": [
       "<Figure size 720x576 with 2 Axes>"
      ]
     },
     "metadata": {
      "needs_background": "light"
     },
     "output_type": "display_data"
    }
   ],
   "source": [
    "f, ax = plt.subplots(figsize=(10, 8))\n",
    "sns.heatmap(corr, mask=np.zeros_like(corr, dtype=np.bool), cmap=sns.diverging_palette(220, 10, as_cmap=True),\n",
    "            square=True, ax=ax)"
   ]
  },
  {
   "cell_type": "code",
   "execution_count": 57,
   "id": "c331b362",
   "metadata": {},
   "outputs": [],
   "source": [
    "TARGET_COL = ['log_cumulative_viewing_subs'] # cumulative_first_views"
   ]
  },
  {
   "cell_type": "code",
   "execution_count": 58,
   "id": "47280972",
   "metadata": {},
   "outputs": [
    {
     "data": {
      "text/html": [
       "<div>\n",
       "<style scoped>\n",
       "    .dataframe tbody tr th:only-of-type {\n",
       "        vertical-align: middle;\n",
       "    }\n",
       "\n",
       "    .dataframe tbody tr th {\n",
       "        vertical-align: top;\n",
       "    }\n",
       "\n",
       "    .dataframe thead th {\n",
       "        text-align: right;\n",
       "    }\n",
       "</style>\n",
       "<table border=\"1\" class=\"dataframe\">\n",
       "  <thead>\n",
       "    <tr style=\"text-align: right;\">\n",
       "      <th></th>\n",
       "      <th>log_cumulative_viewing_subs</th>\n",
       "    </tr>\n",
       "  </thead>\n",
       "  <tbody>\n",
       "    <tr>\n",
       "      <th>dummy_value</th>\n",
       "      <td>-1.00</td>\n",
       "    </tr>\n",
       "    <tr>\n",
       "      <th>medal_number</th>\n",
       "      <td>-0.69</td>\n",
       "    </tr>\n",
       "    <tr>\n",
       "      <th>medal_Bronze</th>\n",
       "      <td>-0.41</td>\n",
       "    </tr>\n",
       "    <tr>\n",
       "      <th>days_from_theatrical</th>\n",
       "      <td>-0.40</td>\n",
       "    </tr>\n",
       "    <tr>\n",
       "      <th>medal_Silver</th>\n",
       "      <td>-0.39</td>\n",
       "    </tr>\n",
       "    <tr>\n",
       "      <th>genre_Comedy</th>\n",
       "      <td>-0.29</td>\n",
       "    </tr>\n",
       "    <tr>\n",
       "      <th>genre_Drama</th>\n",
       "      <td>-0.26</td>\n",
       "    </tr>\n",
       "    <tr>\n",
       "      <th>genre_Horror</th>\n",
       "      <td>0.02</td>\n",
       "    </tr>\n",
       "    <tr>\n",
       "      <th>genre_Kids &amp; Family</th>\n",
       "      <td>0.06</td>\n",
       "    </tr>\n",
       "    <tr>\n",
       "      <th>medal_Gold</th>\n",
       "      <td>0.07</td>\n",
       "    </tr>\n",
       "    <tr>\n",
       "      <th>genre_Fantasy &amp; Sci-Fi</th>\n",
       "      <td>0.14</td>\n",
       "    </tr>\n",
       "    <tr>\n",
       "      <th>genre_Action</th>\n",
       "      <td>0.32</td>\n",
       "    </tr>\n",
       "    <tr>\n",
       "      <th>area_gross</th>\n",
       "      <td>0.40</td>\n",
       "    </tr>\n",
       "    <tr>\n",
       "      <th>budget</th>\n",
       "      <td>0.52</td>\n",
       "    </tr>\n",
       "    <tr>\n",
       "      <th>medal_Platinum</th>\n",
       "      <td>0.59</td>\n",
       "    </tr>\n",
       "    <tr>\n",
       "      <th>log_cumulative_viewing_subs</th>\n",
       "      <td>1.00</td>\n",
       "    </tr>\n",
       "  </tbody>\n",
       "</table>\n",
       "</div>"
      ],
      "text/plain": [
       "                             log_cumulative_viewing_subs\n",
       "dummy_value                                        -1.00\n",
       "medal_number                                       -0.69\n",
       "medal_Bronze                                       -0.41\n",
       "days_from_theatrical                               -0.40\n",
       "medal_Silver                                       -0.39\n",
       "genre_Comedy                                       -0.29\n",
       "genre_Drama                                        -0.26\n",
       "genre_Horror                                        0.02\n",
       "genre_Kids & Family                                 0.06\n",
       "medal_Gold                                          0.07\n",
       "genre_Fantasy & Sci-Fi                              0.14\n",
       "genre_Action                                        0.32\n",
       "area_gross                                          0.40\n",
       "budget                                              0.52\n",
       "medal_Platinum                                      0.59\n",
       "log_cumulative_viewing_subs                         1.00"
      ]
     },
     "execution_count": 58,
     "metadata": {},
     "output_type": "execute_result"
    }
   ],
   "source": [
    "plot_data=data[FEATURE_COLS+TARGET_COL]\n",
    "corr = plot_data.corr()[TARGET_COL]\n",
    "mask=np.zeros_like(corr, dtype=np.bool)\n",
    "corr.loc['dummy_value'] = -1\n",
    "corr.sort_values(by = TARGET_COL)"
   ]
  },
  {
   "cell_type": "code",
   "execution_count": 59,
   "id": "64d59ba7",
   "metadata": {},
   "outputs": [
    {
     "data": {
      "text/plain": [
       "<AxesSubplot:>"
      ]
     },
     "execution_count": 59,
     "metadata": {},
     "output_type": "execute_result"
    },
    {
     "data": {
      "image/png": "[encoded data removed]",
      "text/plain": [
       "<Figure size 720x576 with 2 Axes>"
      ]
     },
     "metadata": {
      "needs_background": "light"
     },
     "output_type": "display_data"
    }
   ],
   "source": [
    "f, ax = plt.subplots(figsize=(10, 8))\n",
    "sns.heatmap(corr, mask=np.zeros_like(corr, dtype=np.bool), cmap=sns.diverging_palette(220, 10, as_cmap=True),\n",
    "            square=True, ax=ax)"
   ]
  },
  {
   "cell_type": "code",
   "execution_count": 60,
   "id": "0ae59251",
   "metadata": {},
   "outputs": [],
   "source": [
    "TARGET_COL = ['log_cumulative_first_views']"
   ]
  },
  {
   "cell_type": "code",
   "execution_count": 61,
   "id": "463c415d",
   "metadata": {},
   "outputs": [
    {
     "data": {
      "text/html": [
       "<div>\n",
       "<style scoped>\n",
       "    .dataframe tbody tr th:only-of-type {\n",
       "        vertical-align: middle;\n",
       "    }\n",
       "\n",
       "    .dataframe tbody tr th {\n",
       "        vertical-align: top;\n",
       "    }\n",
       "\n",
       "    .dataframe thead th {\n",
       "        text-align: right;\n",
       "    }\n",
       "</style>\n",
       "<table border=\"1\" class=\"dataframe\">\n",
       "  <thead>\n",
       "    <tr style=\"text-align: right;\">\n",
       "      <th></th>\n",
       "      <th>log_cumulative_first_views</th>\n",
       "    </tr>\n",
       "  </thead>\n",
       "  <tbody>\n",
       "    <tr>\n",
       "      <th>dummy_value</th>\n",
       "      <td>-1.00</td>\n",
       "    </tr>\n",
       "    <tr>\n",
       "      <th>medal_number</th>\n",
       "      <td>-0.80</td>\n",
       "    </tr>\n",
       "    <tr>\n",
       "      <th>medal_Silver</th>\n",
       "      <td>-0.48</td>\n",
       "    </tr>\n",
       "    <tr>\n",
       "      <th>medal_Bronze</th>\n",
       "      <td>-0.47</td>\n",
       "    </tr>\n",
       "    <tr>\n",
       "      <th>days_from_theatrical</th>\n",
       "      <td>-0.43</td>\n",
       "    </tr>\n",
       "    <tr>\n",
       "      <th>genre_Drama</th>\n",
       "      <td>-0.37</td>\n",
       "    </tr>\n",
       "    <tr>\n",
       "      <th>genre_Comedy</th>\n",
       "      <td>-0.27</td>\n",
       "    </tr>\n",
       "    <tr>\n",
       "      <th>genre_Horror</th>\n",
       "      <td>-0.01</td>\n",
       "    </tr>\n",
       "    <tr>\n",
       "      <th>medal_Gold</th>\n",
       "      <td>0.13</td>\n",
       "    </tr>\n",
       "    <tr>\n",
       "      <th>genre_Kids &amp; Family</th>\n",
       "      <td>0.18</td>\n",
       "    </tr>\n",
       "    <tr>\n",
       "      <th>genre_Fantasy &amp; Sci-Fi</th>\n",
       "      <td>0.21</td>\n",
       "    </tr>\n",
       "    <tr>\n",
       "      <th>genre_Action</th>\n",
       "      <td>0.35</td>\n",
       "    </tr>\n",
       "    <tr>\n",
       "      <th>area_gross</th>\n",
       "      <td>0.46</td>\n",
       "    </tr>\n",
       "    <tr>\n",
       "      <th>medal_Platinum</th>\n",
       "      <td>0.65</td>\n",
       "    </tr>\n",
       "    <tr>\n",
       "      <th>budget</th>\n",
       "      <td>0.66</td>\n",
       "    </tr>\n",
       "    <tr>\n",
       "      <th>log_cumulative_first_views</th>\n",
       "      <td>1.00</td>\n",
       "    </tr>\n",
       "  </tbody>\n",
       "</table>\n",
       "</div>"
      ],
      "text/plain": [
       "                            log_cumulative_first_views\n",
       "dummy_value                                      -1.00\n",
       "medal_number                                     -0.80\n",
       "medal_Silver                                     -0.48\n",
       "medal_Bronze                                     -0.47\n",
       "days_from_theatrical                             -0.43\n",
       "genre_Drama                                      -0.37\n",
       "genre_Comedy                                     -0.27\n",
       "genre_Horror                                     -0.01\n",
       "medal_Gold                                        0.13\n",
       "genre_Kids & Family                               0.18\n",
       "genre_Fantasy & Sci-Fi                            0.21\n",
       "genre_Action                                      0.35\n",
       "area_gross                                        0.46\n",
       "medal_Platinum                                    0.65\n",
       "budget                                            0.66\n",
       "log_cumulative_first_views                        1.00"
      ]
     },
     "execution_count": 61,
     "metadata": {},
     "output_type": "execute_result"
    }
   ],
   "source": [
    "plot_data=data[FEATURE_COLS+TARGET_COL]\n",
    "corr = plot_data.corr()[TARGET_COL]\n",
    "mask=np.zeros_like(corr, dtype=np.bool)\n",
    "corr.loc['dummy_value'] = -1\n",
    "corr.sort_values(by = TARGET_COL)"
   ]
  },
  {
   "cell_type": "code",
   "execution_count": 91,
   "id": "4dca99e9",
   "metadata": {},
   "outputs": [
    {
     "data": {
      "text/plain": [
       "<AxesSubplot:>"
      ]
     },
     "execution_count": 91,
     "metadata": {},
     "output_type": "execute_result"
    },
    {
     "data": {
      "image/png": "[encoded data removed]",
      "text/plain": [
       "<Figure size 720x576 with 2 Axes>"
      ]
     },
     "metadata": {
      "needs_background": "light"
     },
     "output_type": "display_data"
    }
   ],
   "source": [
    "f, ax = plt.subplots(figsize=(10, 8))\n",
    "sns.heatmap(corr, mask=np.zeros_like(corr, dtype=np.bool), cmap=sns.diverging_palette(220, 10, as_cmap=True),\n",
    "            square=True, ax=ax)"
   ]
  },
  {
   "cell_type": "code",
   "execution_count": 92,
   "id": "ad1c7997",
   "metadata": {},
   "outputs": [],
   "source": [
    "TARGET_COL = ['cumulative_first_views'] # cumulative_first_views"
   ]
  },
  {
   "cell_type": "code",
   "execution_count": 93,
   "id": "afb8140e",
   "metadata": {},
   "outputs": [
    {
     "data": {
      "text/html": [
       "<div>\n",
       "<style scoped>\n",
       "    .dataframe tbody tr th:only-of-type {\n",
       "        vertical-align: middle;\n",
       "    }\n",
       "\n",
       "    .dataframe tbody tr th {\n",
       "        vertical-align: top;\n",
       "    }\n",
       "\n",
       "    .dataframe thead th {\n",
       "        text-align: right;\n",
       "    }\n",
       "</style>\n",
       "<table border=\"1\" class=\"dataframe\">\n",
       "  <thead>\n",
       "    <tr style=\"text-align: right;\">\n",
       "      <th></th>\n",
       "      <th>cumulative_first_views</th>\n",
       "    </tr>\n",
       "  </thead>\n",
       "  <tbody>\n",
       "    <tr>\n",
       "      <th>dummy_value</th>\n",
       "      <td>-1.00</td>\n",
       "    </tr>\n",
       "    <tr>\n",
       "      <th>medal_Silver</th>\n",
       "      <td>-0.38</td>\n",
       "    </tr>\n",
       "    <tr>\n",
       "      <th>genre_Drama</th>\n",
       "      <td>-0.27</td>\n",
       "    </tr>\n",
       "    <tr>\n",
       "      <th>medal_Bronze</th>\n",
       "      <td>-0.26</td>\n",
       "    </tr>\n",
       "    <tr>\n",
       "      <th>days_from_theatrical</th>\n",
       "      <td>-0.25</td>\n",
       "    </tr>\n",
       "    <tr>\n",
       "      <th>genre_Horror</th>\n",
       "      <td>-0.17</td>\n",
       "    </tr>\n",
       "    <tr>\n",
       "      <th>genre_Comedy</th>\n",
       "      <td>-0.12</td>\n",
       "    </tr>\n",
       "    <tr>\n",
       "      <th>medal_Gold</th>\n",
       "      <td>-0.11</td>\n",
       "    </tr>\n",
       "    <tr>\n",
       "      <th>genre_Kids &amp; Family</th>\n",
       "      <td>0.14</td>\n",
       "    </tr>\n",
       "    <tr>\n",
       "      <th>genre_Fantasy &amp; Sci-Fi</th>\n",
       "      <td>0.22</td>\n",
       "    </tr>\n",
       "    <tr>\n",
       "      <th>genre_Action</th>\n",
       "      <td>0.35</td>\n",
       "    </tr>\n",
       "    <tr>\n",
       "      <th>area_gross</th>\n",
       "      <td>0.45</td>\n",
       "    </tr>\n",
       "    <tr>\n",
       "      <th>medal_Platinum</th>\n",
       "      <td>0.60</td>\n",
       "    </tr>\n",
       "    <tr>\n",
       "      <th>budget</th>\n",
       "      <td>0.64</td>\n",
       "    </tr>\n",
       "    <tr>\n",
       "      <th>cumulative_first_views</th>\n",
       "      <td>1.00</td>\n",
       "    </tr>\n",
       "  </tbody>\n",
       "</table>\n",
       "</div>"
      ],
      "text/plain": [
       "                        cumulative_first_views\n",
       "dummy_value                              -1.00\n",
       "medal_Silver                             -0.38\n",
       "genre_Drama                              -0.27\n",
       "medal_Bronze                             -0.26\n",
       "days_from_theatrical                     -0.25\n",
       "genre_Horror                             -0.17\n",
       "genre_Comedy                             -0.12\n",
       "medal_Gold                               -0.11\n",
       "genre_Kids & Family                       0.14\n",
       "genre_Fantasy & Sci-Fi                    0.22\n",
       "genre_Action                              0.35\n",
       "area_gross                                0.45\n",
       "medal_Platinum                            0.60\n",
       "budget                                    0.64\n",
       "cumulative_first_views                    1.00"
      ]
     },
     "execution_count": 93,
     "metadata": {},
     "output_type": "execute_result"
    }
   ],
   "source": [
    "plot_data=data[FEATURE_COLS+TARGET_COL]\n",
    "corr = plot_data.corr()[TARGET_COL]\n",
    "mask=np.zeros_like(corr, dtype=np.bool)\n",
    "corr.loc['dummy_value'] = -1\n",
    "corr.sort_values(by = TARGET_COL)"
   ]
  },
  {
   "cell_type": "code",
   "execution_count": 94,
   "id": "d7f947e5",
   "metadata": {},
   "outputs": [
    {
     "data": {
      "text/plain": [
       "<AxesSubplot:>"
      ]
     },
     "execution_count": 94,
     "metadata": {},
     "output_type": "execute_result"
    },
    {
     "data": {
      "image/png": "[encoded data removed]",
      "text/plain": [
       "<Figure size 720x576 with 2 Axes>"
      ]
     },
     "metadata": {
      "needs_background": "light"
     },
     "output_type": "display_data"
    }
   ],
   "source": [
    "f, ax = plt.subplots(figsize=(10, 8))\n",
    "sns.heatmap(corr, mask=np.zeros_like(corr, dtype=np.bool), cmap=sns.diverging_palette(220, 10, as_cmap=True),\n",
    "            square=True, ax=ax)"
   ]
  },
  {
   "cell_type": "markdown",
   "id": "95cae027",
   "metadata": {},
   "source": [
    "## Only movies after launch"
   ]
  },
  {
   "cell_type": "code",
   "execution_count": 51,
   "id": "129fb437",
   "metadata": {},
   "outputs": [],
   "source": [
    "data = movie_hbo[movie_hbo['days_from_max_launch'] < 0].copy()"
   ]
  },
  {
   "cell_type": "code",
   "execution_count": 52,
   "id": "4a1beeec",
   "metadata": {},
   "outputs": [],
   "source": [
    "data['pct_actives'] = data['pct_actives'].astype(float)"
   ]
  },
  {
   "cell_type": "code",
   "execution_count": 53,
   "id": "23deff19",
   "metadata": {},
   "outputs": [
    {
     "data": {
      "text/plain": [
       "72"
      ]
     },
     "execution_count": 53,
     "metadata": {},
     "output_type": "execute_result"
    }
   ],
   "source": [
    "data.title_id.count()"
   ]
  },
  {
   "cell_type": "code",
   "execution_count": 54,
   "id": "ad5f1efe",
   "metadata": {},
   "outputs": [],
   "source": [
    "TARGET_COL = ['cumulative_viewing_subs'] # cumulative_first_views"
   ]
  },
  {
   "cell_type": "code",
   "execution_count": 55,
   "id": "4c573f7e",
   "metadata": {},
   "outputs": [
    {
     "data": {
      "text/html": [
       "<div>\n",
       "<style scoped>\n",
       "    .dataframe tbody tr th:only-of-type {\n",
       "        vertical-align: middle;\n",
       "    }\n",
       "\n",
       "    .dataframe tbody tr th {\n",
       "        vertical-align: top;\n",
       "    }\n",
       "\n",
       "    .dataframe thead th {\n",
       "        text-align: right;\n",
       "    }\n",
       "</style>\n",
       "<table border=\"1\" class=\"dataframe\">\n",
       "  <thead>\n",
       "    <tr style=\"text-align: right;\">\n",
       "      <th></th>\n",
       "      <th>cumulative_viewing_subs</th>\n",
       "    </tr>\n",
       "  </thead>\n",
       "  <tbody>\n",
       "    <tr>\n",
       "      <th>dummy_value</th>\n",
       "      <td>-1.00</td>\n",
       "    </tr>\n",
       "    <tr>\n",
       "      <th>medal_number</th>\n",
       "      <td>-0.55</td>\n",
       "    </tr>\n",
       "    <tr>\n",
       "      <th>days_from_theatrical2</th>\n",
       "      <td>-0.54</td>\n",
       "    </tr>\n",
       "    <tr>\n",
       "      <th>medal_Bronze</th>\n",
       "      <td>-0.38</td>\n",
       "    </tr>\n",
       "    <tr>\n",
       "      <th>genre_Drama</th>\n",
       "      <td>-0.27</td>\n",
       "    </tr>\n",
       "    <tr>\n",
       "      <th>genre_Comedy</th>\n",
       "      <td>-0.19</td>\n",
       "    </tr>\n",
       "    <tr>\n",
       "      <th>medal_Silver</th>\n",
       "      <td>-0.19</td>\n",
       "    </tr>\n",
       "    <tr>\n",
       "      <th>genre_Horror</th>\n",
       "      <td>-0.13</td>\n",
       "    </tr>\n",
       "    <tr>\n",
       "      <th>genre_Sci-Fi</th>\n",
       "      <td>-0.11</td>\n",
       "    </tr>\n",
       "    <tr>\n",
       "      <th>genre_Suspense/Thriller</th>\n",
       "      <td>-0.08</td>\n",
       "    </tr>\n",
       "    <tr>\n",
       "      <th>genre_Kids/Family</th>\n",
       "      <td>0.11</td>\n",
       "    </tr>\n",
       "    <tr>\n",
       "      <th>medal_Gold</th>\n",
       "      <td>0.34</td>\n",
       "    </tr>\n",
       "    <tr>\n",
       "      <th>medal_Platinum</th>\n",
       "      <td>0.36</td>\n",
       "    </tr>\n",
       "    <tr>\n",
       "      <th>genre_Action/Adventure</th>\n",
       "      <td>0.57</td>\n",
       "    </tr>\n",
       "    <tr>\n",
       "      <th>cumulative_viewing_subs</th>\n",
       "      <td>1.00</td>\n",
       "    </tr>\n",
       "    <tr>\n",
       "      <th>genre_Romance</th>\n",
       "      <td>nan</td>\n",
       "    </tr>\n",
       "  </tbody>\n",
       "</table>\n",
       "</div>"
      ],
      "text/plain": [
       "                         cumulative_viewing_subs\n",
       "dummy_value                                -1.00\n",
       "medal_number                               -0.55\n",
       "days_from_theatrical2                      -0.54\n",
       "medal_Bronze                               -0.38\n",
       "genre_Drama                                -0.27\n",
       "genre_Comedy                               -0.19\n",
       "medal_Silver                               -0.19\n",
       "genre_Horror                               -0.13\n",
       "genre_Sci-Fi                               -0.11\n",
       "genre_Suspense/Thriller                    -0.08\n",
       "genre_Kids/Family                           0.11\n",
       "medal_Gold                                  0.34\n",
       "medal_Platinum                              0.36\n",
       "genre_Action/Adventure                      0.57\n",
       "cumulative_viewing_subs                     1.00\n",
       "genre_Romance                                nan"
      ]
     },
     "execution_count": 55,
     "metadata": {},
     "output_type": "execute_result"
    }
   ],
   "source": [
    "plot_data=data[FEATURE_COLS+TARGET_COL]\n",
    "corr = plot_data.corr()[TARGET_COL]\n",
    "mask=np.zeros_like(corr, dtype=np.bool)\n",
    "corr.loc['dummy_value'] = -1\n",
    "corr.sort_values(by = TARGET_COL)"
   ]
  },
  {
   "cell_type": "code",
   "execution_count": 56,
   "id": "4491f606",
   "metadata": {},
   "outputs": [
    {
     "data": {
      "text/plain": [
       "<AxesSubplot:>"
      ]
     },
     "execution_count": 56,
     "metadata": {},
     "output_type": "execute_result"
    },
    {
     "data": {
      "image/png": "[encoded data removed]",
      "text/plain": [
       "<Figure size 720x576 with 2 Axes>"
      ]
     },
     "metadata": {
      "needs_background": "light"
     },
     "output_type": "display_data"
    }
   ],
   "source": [
    "f, ax = plt.subplots(figsize=(10, 8))\n",
    "sns.heatmap(corr, mask=np.zeros_like(corr, dtype=np.bool), cmap=sns.diverging_palette(220, 10, as_cmap=True),\n",
    "            square=True, ax=ax)"
   ]
  },
  {
   "cell_type": "code",
   "execution_count": 128,
   "id": "9c8dd5f4",
   "metadata": {},
   "outputs": [],
   "source": [
    "TARGET_COL = ['log_cumulative_first_views']"
   ]
  },
  {
   "cell_type": "code",
   "execution_count": 129,
   "id": "5e08d0c9",
   "metadata": {},
   "outputs": [],
   "source": [
    "plot_data=data[FEATURE_COLS+TARGET_COL]\n",
    "corr = plot_data.corr()[TARGET_COL]\n",
    "mask=np.zeros_like(corr, dtype=np.bool)\n",
    "corr.loc['dummy_value'] = -1\n",
    "# corr.sort_values(by = TARGET_COL)"
   ]
  },
  {
   "cell_type": "code",
   "execution_count": 130,
   "id": "2f88e635",
   "metadata": {},
   "outputs": [
    {
     "data": {
      "text/plain": [
       "<AxesSubplot:>"
      ]
     },
     "execution_count": 130,
     "metadata": {},
     "output_type": "execute_result"
    },
    {
     "data": {
      "image/png": "[encoded data removed]",
      "text/plain": [
       "<Figure size 720x576 with 2 Axes>"
      ]
     },
     "metadata": {
      "needs_background": "light"
     },
     "output_type": "display_data"
    }
   ],
   "source": [
    "f, ax = plt.subplots(figsize=(10, 8))\n",
    "sns.heatmap(corr, mask=np.zeros_like(corr, dtype=np.bool), cmap=sns.diverging_palette(220, 10, as_cmap=True),\n",
    "            square=True, ax=ax)"
   ]
  },
  {
   "cell_type": "code",
   "execution_count": 131,
   "id": "e9f1b41d",
   "metadata": {},
   "outputs": [],
   "source": [
    "TARGET_COL = ['cumulative_first_views'] # cumulative_first_views"
   ]
  },
  {
   "cell_type": "code",
   "execution_count": 130,
   "id": "6685d5a0",
   "metadata": {},
   "outputs": [
    {
     "data": {
      "text/html": [
       "<div>\n",
       "<style scoped>\n",
       "    .dataframe tbody tr th:only-of-type {\n",
       "        vertical-align: middle;\n",
       "    }\n",
       "\n",
       "    .dataframe tbody tr th {\n",
       "        vertical-align: top;\n",
       "    }\n",
       "\n",
       "    .dataframe thead th {\n",
       "        text-align: right;\n",
       "    }\n",
       "</style>\n",
       "<table border=\"1\" class=\"dataframe\">\n",
       "  <thead>\n",
       "    <tr style=\"text-align: right;\">\n",
       "      <th></th>\n",
       "      <th>cumulative_first_views</th>\n",
       "    </tr>\n",
       "  </thead>\n",
       "  <tbody>\n",
       "    <tr>\n",
       "      <th>dummy_value</th>\n",
       "      <td>-1.00</td>\n",
       "    </tr>\n",
       "    <tr>\n",
       "      <th>medal_number</th>\n",
       "      <td>-0.68</td>\n",
       "    </tr>\n",
       "    <tr>\n",
       "      <th>medal_Bronze</th>\n",
       "      <td>-0.46</td>\n",
       "    </tr>\n",
       "    <tr>\n",
       "      <th>budget</th>\n",
       "      <td>-0.31</td>\n",
       "    </tr>\n",
       "    <tr>\n",
       "      <th>area_gross</th>\n",
       "      <td>-0.27</td>\n",
       "    </tr>\n",
       "    <tr>\n",
       "      <th>days_from_theatrical</th>\n",
       "      <td>-0.19</td>\n",
       "    </tr>\n",
       "    <tr>\n",
       "      <th>genre_horror</th>\n",
       "      <td>-0.12</td>\n",
       "    </tr>\n",
       "    <tr>\n",
       "      <th>genre_action</th>\n",
       "      <td>-0.11</td>\n",
       "    </tr>\n",
       "    <tr>\n",
       "      <th>medal_Silver</th>\n",
       "      <td>-0.08</td>\n",
       "    </tr>\n",
       "    <tr>\n",
       "      <th>genre_fantasy &amp; sci-fi</th>\n",
       "      <td>-0.07</td>\n",
       "    </tr>\n",
       "    <tr>\n",
       "      <th>genre_crime</th>\n",
       "      <td>-0.06</td>\n",
       "    </tr>\n",
       "    <tr>\n",
       "      <th>genre_drama</th>\n",
       "      <td>-0.04</td>\n",
       "    </tr>\n",
       "    <tr>\n",
       "      <th>medal_Gold</th>\n",
       "      <td>0.12</td>\n",
       "    </tr>\n",
       "    <tr>\n",
       "      <th>genre_comedy</th>\n",
       "      <td>0.26</td>\n",
       "    </tr>\n",
       "    <tr>\n",
       "      <th>medal_Platinum</th>\n",
       "      <td>0.96</td>\n",
       "    </tr>\n",
       "    <tr>\n",
       "      <th>cumulative_first_views</th>\n",
       "      <td>1.00</td>\n",
       "    </tr>\n",
       "  </tbody>\n",
       "</table>\n",
       "</div>"
      ],
      "text/plain": [
       "                        cumulative_first_views\n",
       "dummy_value                              -1.00\n",
       "medal_number                             -0.68\n",
       "medal_Bronze                             -0.46\n",
       "budget                                   -0.31\n",
       "area_gross                               -0.27\n",
       "days_from_theatrical                     -0.19\n",
       "genre_horror                             -0.12\n",
       "genre_action                             -0.11\n",
       "medal_Silver                             -0.08\n",
       "genre_fantasy & sci-fi                   -0.07\n",
       "genre_crime                              -0.06\n",
       "genre_drama                              -0.04\n",
       "medal_Gold                                0.12\n",
       "genre_comedy                              0.26\n",
       "medal_Platinum                            0.96\n",
       "cumulative_first_views                    1.00"
      ]
     },
     "execution_count": 130,
     "metadata": {},
     "output_type": "execute_result"
    }
   ],
   "source": [
    "plot_data=data[FEATURE_COLS+TARGET_COL]\n",
    "corr = plot_data.corr()[TARGET_COL]\n",
    "mask=np.zeros_like(corr, dtype=np.bool)\n",
    "corr.loc['dummy_value'] = -1\n",
    "corr.sort_values(by = TARGET_COL)"
   ]
  },
  {
   "cell_type": "code",
   "execution_count": 131,
   "id": "75810f6c",
   "metadata": {},
   "outputs": [
    {
     "data": {
      "text/plain": [
       "<AxesSubplot:>"
      ]
     },
     "execution_count": 131,
     "metadata": {},
     "output_type": "execute_result"
    },
    {
     "data": {
      "image/png": "[encoded data removed]",
      "text/plain": [
       "<Figure size 720x576 with 2 Axes>"
      ]
     },
     "metadata": {
      "needs_background": "light"
     },
     "output_type": "display_data"
    }
   ],
   "source": [
    "f, ax = plt.subplots(figsize=(10, 8))\n",
    "sns.heatmap(corr, mask=np.zeros_like(corr, dtype=np.bool), cmap=sns.diverging_palette(220, 8, as_cmap=False),\n",
    "            square=True, ax=ax)"
   ]
  },
  {
   "cell_type": "markdown",
   "id": "fb2cf3e9",
   "metadata": {},
   "source": [
    "### correlation between features"
   ]
  },
  {
   "cell_type": "code",
   "execution_count": 95,
   "id": "8f38f6e5",
   "metadata": {},
   "outputs": [],
   "source": [
    "# FEATURE_COLS = ['days_from_theatrical','area_gross','budget',\n",
    "#  'genre_action',\n",
    "#  'genre_comedy',\n",
    "#  'genre_crime',\n",
    "#  'genre_drama',\n",
    "#  'genre_fantasy & sci-fi',\n",
    "#  'genre_horror',\n",
    "#  'medal_number',\n",
    "#  'is_direct_to_max_title']"
   ]
  },
  {
   "cell_type": "code",
   "execution_count": 96,
   "id": "feb390be",
   "metadata": {},
   "outputs": [],
   "source": [
    "plot_data=data[FEATURE_COLS]\n",
    "corr = plot_data.corr()\n",
    "mask=np.zeros_like(corr, dtype=np.bool)"
   ]
  },
  {
   "cell_type": "code",
   "execution_count": 97,
   "id": "56f727ae",
   "metadata": {},
   "outputs": [
    {
     "data": {
      "text/plain": [
       "<AxesSubplot:>"
      ]
     },
     "execution_count": 97,
     "metadata": {},
     "output_type": "execute_result"
    },
    {
     "data": {
      "image/png": "[encoded data removed]",
      "text/plain": [
       "<Figure size 720x576 with 2 Axes>"
      ]
     },
     "metadata": {
      "needs_background": "light"
     },
     "output_type": "display_data"
    }
   ],
   "source": [
    "f, ax = plt.subplots(figsize=(10, 8))\n",
    "sns.heatmap(corr, mask=np.zeros_like(corr, dtype=np.bool), cmap=sns.diverging_palette(220, 10, as_cmap=True),\n",
    "            square=True, ax=ax)"
   ]
  },
  {
   "cell_type": "code",
   "execution_count": 48,
   "id": "775f2e4a",
   "metadata": {},
   "outputs": [],
   "source": [
    "movie_hbo.to_csv('latam_training_data.csv')"
   ]
  },
  {
   "cell_type": "code",
   "execution_count": null,
   "id": "e9cbf619",
   "metadata": {},
   "outputs": [],
   "source": []
  }
 ],
 "metadata": {
  "kernelspec": {
   "display_name": "conda_python3",
   "language": "python",
   "name": "conda_python3"
  },
  "language_info": {
   "codemirror_mode": {
    "name": "ipython",
    "version": 3
   },
   "file_extension": ".py",
   "mimetype": "text/x-python",
   "name": "python",
   "nbconvert_exporter": "python",
   "pygments_lexer": "ipython3",
   "version": "3.6.13"
  }
 },
 "nbformat": 4,
 "nbformat_minor": 5
}
