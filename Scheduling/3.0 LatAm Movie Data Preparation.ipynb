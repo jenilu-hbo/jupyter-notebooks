{
 "cells": [
  {
   "cell_type": "code",
   "execution_count": 0,
   "metadata": {
    "application/vnd.databricks.v1+cell": {
     "cellMetadata": {},
     "inputWidgets": {},
     "nuid": "8e5eca3b-b411-4423-a732-8aefb29280c8",
     "showTitle": false,
     "title": ""
    }
   },
   "outputs": [],
   "source": [
    "# general\n",
    "import boto3\n",
    "import datetime as dt\n",
    "import json\n",
    "import numpy as np\n",
    "import pandas as pd\n",
    "import snowflake.connector"
   ]
  },
  {
   "cell_type": "code",
   "execution_count": 0,
   "metadata": {
    "application/vnd.databricks.v1+cell": {
     "cellMetadata": {},
     "inputWidgets": {},
     "nuid": "9b4e01c9-1397-49e2-878c-67f22a2e6285",
     "showTitle": false,
     "title": ""
    }
   },
   "outputs": [],
   "source": [
    "pd.set_option('display.max_rows', 1000)\n",
    "pd.set_option('display.max_columns', 1000)"
   ]
  },
  {
   "cell_type": "code",
   "execution_count": 0,
   "metadata": {
    "application/vnd.databricks.v1+cell": {
     "cellMetadata": {},
     "inputWidgets": {},
     "nuid": "cf0e960c-da64-4bcd-b4b9-557a59978c7c",
     "showTitle": false,
     "title": ""
    }
   },
   "outputs": [],
   "source": [
    "pd.options.display.float_format = '{:,.2f}'.format"
   ]
  },
  {
   "cell_type": "markdown",
   "metadata": {
    "application/vnd.databricks.v1+cell": {
     "cellMetadata": {},
     "inputWidgets": {},
     "nuid": "a0408a86-a096-49b6-a054-d7a297557f12",
     "showTitle": false,
     "title": ""
    }
   },
   "source": [
    "## 1. \"The Northman\" Does not have viewership data --- 26 titls in total missing that"
   ]
  },
  {
   "cell_type": "markdown",
   "metadata": {
    "application/vnd.databricks.v1+cell": {
     "cellMetadata": {},
     "inputWidgets": {},
     "nuid": "267be63b-02c2-40be-b88e-805dc6eb86fe",
     "showTitle": false,
     "title": ""
    }
   },
   "source": [
    "### 0.2 : Connection to Snowflake"
   ]
  },
  {
   "cell_type": "code",
   "execution_count": 0,
   "metadata": {
    "application/vnd.databricks.v1+cell": {
     "cellMetadata": {},
     "inputWidgets": {},
     "nuid": "4b0d0228-bd83-47c4-8b57-8791f6fb6e66",
     "showTitle": false,
     "title": ""
    }
   },
   "outputs": [],
   "source": [
    "from abc import ABCMeta, abstractmethod\n",
    "\n",
    "class Credentials(metaclass=ABCMeta):\n",
    "    pass\n",
    "    \n",
    "    \n",
    "class SSMPSCredentials(Credentials):\n",
    "    def __init__(self, secretid: str):\n",
    "        self._secretid = secretid\n",
    "        self._secrets = {}\n",
    "        \n",
    "    def get_keys(self):\n",
    "        \"\"\"\n",
    "        credential fetching \n",
    "        \"\"\"\n",
    "        _aws_sm_args = {'service_name': 'secretsmanager', 'region_name': 'us-east-1'}\n",
    "        secrets_client = boto3.client(**_aws_sm_args)\n",
    "        get_secret_value_response = secrets_client.get_secret_value(SecretId=self._secretid)\n",
    "        return get_secret_value_response\n",
    "    \n",
    "    \n",
    "class BaseConnector(metaclass=ABCMeta):\n",
    "    @abstractmethod\n",
    "    def connect(self):\n",
    "        raise NotImplementedError\n",
    "    \n",
    "\n",
    "class SnowflakeConnector(BaseConnector):\n",
    "    def __init__(self, credentials: Credentials):\n",
    "        keys = credentials.get_keys()\n",
    "        self._secrets = json.loads(keys.get('SecretString', \"{}\"))\n",
    "\n",
    "    def connect(self, dbname: str, schema: str = 'DEFAULT'):\n",
    "        ctx = snowflake.connector.connect(\n",
    "            user=self._secrets['login_name'],\n",
    "            password=self._secrets['login_password'],\n",
    "            account=self._secrets['account'],\n",
    "            warehouse=self._secrets['warehouse'],\n",
    "            database=dbname,\n",
    "            schema=schema\n",
    "        )\n",
    "\n",
    "        return ctx\n",
    "    \n",
    "## Credentials\n",
    "SF_CREDS = 'datascience-max-dev-sagemaker-notebooks'\n",
    "\n",
    "## Snowflake connection \n",
    "conn=SnowflakeConnector(SSMPSCredentials(SF_CREDS))\n",
    "ctx=conn.connect(\"MAX_PROD\",\"WORKSPACE\")\n",
    "\n",
    "def run_query(query):\n",
    "    cursor = ctx.cursor()\n",
    "    cursor.execute(query)\n",
    "    df = pd.DataFrame(cursor.fetchall(), columns = [desc[0] for desc in cursor.description])\n",
    "    df.columns= df.columns.str.lower()\n",
    "    return df"
   ]
  },
  {
   "cell_type": "code",
   "execution_count": 0,
   "metadata": {
    "application/vnd.databricks.v1+cell": {
     "cellMetadata": {},
     "inputWidgets": {},
     "nuid": "fd07f451-23c6-4275-b24e-839ca7e28862",
     "showTitle": false,
     "title": ""
    }
   },
   "outputs": [],
   "source": [
    "original_movies = pd.read_csv('Pay-1 Titles Theatrical Window_v0.2.csv')"
   ]
  },
  {
   "cell_type": "code",
   "execution_count": 0,
   "metadata": {
    "application/vnd.databricks.v1+cell": {
     "cellMetadata": {},
     "inputWidgets": {},
     "nuid": "1b76b83c-a986-48f0-ba7e-beb010bc1f28",
     "showTitle": false,
     "title": ""
    }
   },
   "outputs": [],
   "source": [
    "original_movies.head()"
   ]
  },
  {
   "cell_type": "code",
   "execution_count": 0,
   "metadata": {
    "application/vnd.databricks.v1+cell": {
     "cellMetadata": {},
     "inputWidgets": {},
     "nuid": "c5972eae-ab8f-4c92-a54c-6a9ac0e9420e",
     "showTitle": false,
     "title": ""
    }
   },
   "outputs": [],
   "source": [
    "len(original_movies)"
   ]
  },
  {
   "cell_type": "code",
   "execution_count": 0,
   "metadata": {
    "application/vnd.databricks.v1+cell": {
     "cellMetadata": {},
     "inputWidgets": {},
     "nuid": "2ff5f5b7-fec5-4ecf-94cc-3cd47c9df6bb",
     "showTitle": false,
     "title": ""
    }
   },
   "outputs": [],
   "source": [
    "title_info = run_query('''\n",
    "SELECT m.TITLE_SERIES, m.LEGACY_SERIES_ID, m.CKG_SERIES_ID, m.FIRST_RELEASE_DATE, o.start_date AS THEATRICAL_DATE\n",
    ", PROGRAM_TYPE, PRIMARY_GENRE, LATAM_HOME_MEDAL\n",
    ", O.TITLE_ID as imdb_id, c.AREA_NAME, m.GEO_VALUE, o.area_gross ,bdg.AMOUNT as budget\n",
    "FROM max_prod.content_datascience.all_titles_season_metadata m\n",
    "JOIN max_prod.ckg.imdb_boxoffice_opening_weekends o \n",
    "    ON m.imdb_series_id = o.title_id\n",
    "JOIN MAX_PROD.CKG.IMDB_AREA_CODES c \n",
    "    ON c.AREA_CODE= o.AREA_CODE and UPPER(c.AREA_NAME) = m.GEO_VALUE\n",
    "left join \"MAX_PROD\".\"CKG\".IMDB_BOXOFFICE_TITLE_BUDGET bdg -- budget title_id to imdb_id\n",
    "    on m.imdb_series_id=bdg.title_id\n",
    "WHERE m.GEO_VALUE IN ('LATAM', 'BRAZIL', 'ARGENTINA', 'COLOMBIA', 'MEXICO', 'CARIBBEAN', 'REST OF LATAM')\n",
    "and m.ever_pay_1_title = 1\n",
    "order by title_series, area_name\n",
    "''')"
   ]
  },
  {
   "cell_type": "code",
   "execution_count": 0,
   "metadata": {
    "application/vnd.databricks.v1+cell": {
     "cellMetadata": {},
     "inputWidgets": {},
     "nuid": "a22a4856-4fa6-463f-898a-a5be2e3cdf53",
     "showTitle": false,
     "title": ""
    }
   },
   "outputs": [],
   "source": [
    "title_info.head()"
   ]
  },
  {
   "cell_type": "code",
   "execution_count": 0,
   "metadata": {
    "application/vnd.databricks.v1+cell": {
     "cellMetadata": {},
     "inputWidgets": {},
     "nuid": "2116e940-5962-412d-9aad-94afb617b2e5",
     "showTitle": false,
     "title": ""
    }
   },
   "outputs": [],
   "source": [
    "len(title_info.legacy_series_id.unique())"
   ]
  },
  {
   "cell_type": "code",
   "execution_count": 0,
   "metadata": {
    "application/vnd.databricks.v1+cell": {
     "cellMetadata": {},
     "inputWidgets": {},
     "nuid": "c8c557eb-6fda-40b6-b4f3-d9b5a881ade2",
     "showTitle": false,
     "title": ""
    }
   },
   "outputs": [],
   "source": [
    "len(title_info)"
   ]
  },
  {
   "cell_type": "code",
   "execution_count": 0,
   "metadata": {
    "application/vnd.databricks.v1+cell": {
     "cellMetadata": {},
     "inputWidgets": {},
     "nuid": "2c9dfd7b-7c5f-4a0d-96c6-2ce6bcd93259",
     "showTitle": false,
     "title": ""
    }
   },
   "outputs": [],
   "source": [
    "# title_info['latam_home_medal'] = title_info['latam_home_medal'].replace('No Medal', np.NaN)\n",
    "\n",
    "# title_info['latam_home_medal'] = title_info.groupby(['ckg_series_id'])['latam_home_medal'].bfill()\n",
    "# title_info['latam_home_medal'] = title_info.groupby(['ckg_series_id'])['latam_home_medal'].ffill()\n",
    "\n",
    "# title_info['latam_home_medal'] = title_info['latam_home_medal'].fillna('None')"
   ]
  },
  {
   "cell_type": "code",
   "execution_count": 0,
   "metadata": {
    "application/vnd.databricks.v1+cell": {
     "cellMetadata": {},
     "inputWidgets": {},
     "nuid": "70b2dada-0f49-461a-be59-04c9b377f4b6",
     "showTitle": false,
     "title": ""
    }
   },
   "outputs": [],
   "source": []
  },
  {
   "cell_type": "code",
   "execution_count": 0,
   "metadata": {
    "application/vnd.databricks.v1+cell": {
     "cellMetadata": {},
     "inputWidgets": {},
     "nuid": "ab35ba27-9023-406c-ad4f-29d343ec8b40",
     "showTitle": false,
     "title": ""
    }
   },
   "outputs": [],
   "source": [
    "area_gross = title_info.groupby(['ckg_series_id'])['area_gross'].sum().reset_index()\n",
    "budget = title_info.groupby(['ckg_series_id'])['budget'].first().reset_index()"
   ]
  },
  {
   "cell_type": "code",
   "execution_count": 0,
   "metadata": {
    "application/vnd.databricks.v1+cell": {
     "cellMetadata": {},
     "inputWidgets": {},
     "nuid": "da9e36a7-e8e4-43ca-9bd1-ec009603448f",
     "showTitle": false,
     "title": ""
    }
   },
   "outputs": [],
   "source": [
    "title_info = title_info.groupby(['title_series', 'legacy_series_id', 'ckg_series_id', 'imdb_id', 'program_type', \n",
    "                                 'primary_genre', 'first_release_date'])['theatrical_date'].first().reset_index()"
   ]
  },
  {
   "cell_type": "code",
   "execution_count": 0,
   "metadata": {
    "application/vnd.databricks.v1+cell": {
     "cellMetadata": {},
     "inputWidgets": {},
     "nuid": "d0369f0b-4551-4774-ade3-601580adbc98",
     "showTitle": false,
     "title": ""
    }
   },
   "outputs": [],
   "source": [
    "title_info = title_info.merge(area_gross, on = ['ckg_series_id'], how = 'left')\\\n",
    "                       .merge(budget, on = ['ckg_series_id'], how = 'left')"
   ]
  },
  {
   "cell_type": "code",
   "execution_count": 0,
   "metadata": {
    "application/vnd.databricks.v1+cell": {
     "cellMetadata": {},
     "inputWidgets": {},
     "nuid": "926dccc0-ec74-4e0a-8173-e87b85e484a6",
     "showTitle": false,
     "title": ""
    }
   },
   "outputs": [],
   "source": [
    "title_info.head()"
   ]
  },
  {
   "cell_type": "code",
   "execution_count": 0,
   "metadata": {
    "application/vnd.databricks.v1+cell": {
     "cellMetadata": {},
     "inputWidgets": {},
     "nuid": "79b53f7d-f1bd-4120-8f85-0f0e185fc872",
     "showTitle": false,
     "title": ""
    }
   },
   "outputs": [],
   "source": [
    "len(title_info)"
   ]
  },
  {
   "cell_type": "code",
   "execution_count": 0,
   "metadata": {
    "application/vnd.databricks.v1+cell": {
     "cellMetadata": {},
     "inputWidgets": {},
     "nuid": "e47e4414-93bb-496f-872b-af73a2899620",
     "showTitle": false,
     "title": ""
    }
   },
   "outputs": [],
   "source": [
    "# title_info.to_csv('latam_title_release_info.csv')"
   ]
  },
  {
   "cell_type": "code",
   "execution_count": 0,
   "metadata": {
    "application/vnd.databricks.v1+cell": {
     "cellMetadata": {},
     "inputWidgets": {},
     "nuid": "37933afe-3ae0-4737-9d39-bd006399b5a5",
     "showTitle": false,
     "title": ""
    }
   },
   "outputs": [],
   "source": [
    "medal= run_query('''\n",
    "WITH TEMP AS (\n",
    "select\n",
    "WBD_MAX_SERIES_ID_OR_HBOMAX_TITLE_ID AS ckg_series_id, DAYS_ON_HBO_MAX_AND_WBD_MAX as day_on_max,\n",
    "OFFERING_START_DATE_PST, REQUEST_DATE_PST,  DAYS_ON_HBO_MAX_AND_WBD_MAX, \n",
    "c.CUMULATIVE_VIEWING_SUBSCRIBERS/plt.viewing_subscribers*100 as percent_cumulative_viewing_subscribers,\n",
    "       c.CUMULATIVE_SUBSCRIPTION_FIRST_VIEWS/plt.subscription_first_views*100 as percent_cumulative_first_views\n",
    "from max_prod.content_analytics.cumulative_content_viewership_pst  c\n",
    "JOIN max_prod.content_analytics.cumulative_platform_viewership_pst plt\n",
    "ON to_char(c.OFFERING_START_DATE_PST, 'YYYY-MM-DD') = plt.start_date\n",
    "AND c.DAYS_ON_HBO_MAX_AND_WBD_MAX = plt.DAYS_SINCE_RELEASE\n",
    "AND c.GEO_VALUE = plt.GEO_VALUE\n",
    "where c.geo_value = 'LATAM' \n",
    "and day_on_max = 28\n",
    "and title_level = 'Seasons and Movies'\n",
    "and OFFERING_WINDOW_NUM = 1\n",
    "order by DAYS_ON_HBO_MAX_AND_WBD_MAX\n",
    ")\n",
    "\n",
    "SELECT ckg_series_id,\n",
    "    case when percent_cumulative_viewing_subscribers > 20 or percent_cumulative_first_views > 10 then 'Platinum'\n",
    "\t\t when percent_cumulative_viewing_subscribers > 10 or percent_cumulative_first_views > 5 then 'Gold'\n",
    "\t\t when percent_cumulative_viewing_subscribers > 5 or percent_cumulative_first_views > 2.5 then 'Silver'\n",
    "\t\t else 'Bronze'\n",
    "\t\t end as observed_medal\n",
    "FROM TEMP\n",
    "''')"
   ]
  },
  {
   "cell_type": "code",
   "execution_count": 0,
   "metadata": {
    "application/vnd.databricks.v1+cell": {
     "cellMetadata": {},
     "inputWidgets": {},
     "nuid": "5a7af1fd-29a7-4d07-a033-99b917c6a679",
     "showTitle": false,
     "title": ""
    }
   },
   "outputs": [],
   "source": [
    "title_info = title_info.merge(medal, on = ['ckg_series_id'], how = 'left')"
   ]
  },
  {
   "cell_type": "code",
   "execution_count": 0,
   "metadata": {
    "application/vnd.databricks.v1+cell": {
     "cellMetadata": {},
     "inputWidgets": {},
     "nuid": "fb796044-68ee-4452-b134-34ac3abf4c82",
     "showTitle": false,
     "title": ""
    }
   },
   "outputs": [],
   "source": [
    "# title_info.loc[title_info['latam_home_medal'] == 'None', 'latam_home_medal'] = title_info['observed_medal']\n",
    "title_info['latam_home_medal'] = title_info['observed_medal']"
   ]
  },
  {
   "cell_type": "code",
   "execution_count": 0,
   "metadata": {
    "application/vnd.databricks.v1+cell": {
     "cellMetadata": {},
     "inputWidgets": {},
     "nuid": "fc4ff4d8-f018-46b2-a595-3344161073d2",
     "showTitle": false,
     "title": ""
    }
   },
   "outputs": [],
   "source": [
    "# final_title_info = title_info[title_info['observed_medal'].notnull()]"
   ]
  },
  {
   "cell_type": "code",
   "execution_count": 0,
   "metadata": {
    "application/vnd.databricks.v1+cell": {
     "cellMetadata": {},
     "inputWidgets": {},
     "nuid": "c6c34099-e429-474a-a719-39a1fd654292",
     "showTitle": false,
     "title": ""
    }
   },
   "outputs": [],
   "source": [
    "len(title_info)"
   ]
  },
  {
   "cell_type": "code",
   "execution_count": 0,
   "metadata": {
    "application/vnd.databricks.v1+cell": {
     "cellMetadata": {},
     "inputWidgets": {},
     "nuid": "a40880fe-ef72-48f3-a9be-15ade64a043e",
     "showTitle": false,
     "title": ""
    }
   },
   "outputs": [],
   "source": [
    "viewership = run_query('''\n",
    "select\n",
    "WBD_MAX_SERIES_ID_OR_HBOMAX_TITLE_ID AS ckg_series_id, DAYS_ON_HBO_MAX_AND_WBD_MAX as day_on_max,\n",
    "c.CUMULATIVE_VIEWING_SUBSCRIBERS, c.CUMULATIVE_SUBSCRIPTION_FIRST_VIEWS as CUMULATIVE_FIRST_VIEWS,\n",
    "c.CUMULATIVE_VIEWING_SUBSCRIBERS/plt.viewing_subscribers*100 as percent_cumulative_viewing_subscribers,\n",
    "c.CUMULATIVE_SUBSCRIPTION_FIRST_VIEWS/plt.subscription_first_views*100 as percent_cumulative_first_views\n",
    "from max_prod.content_analytics.cumulative_content_viewership_pst  c\n",
    "JOIN max_prod.content_analytics.cumulative_platform_viewership_pst plt\n",
    "ON to_char(c.OFFERING_START_DATE_PST, 'YYYY-MM-DD') = plt.start_date\n",
    "AND c.DAYS_ON_HBO_MAX_AND_WBD_MAX = plt.DAYS_SINCE_RELEASE\n",
    "AND c.GEO_VALUE = plt.GEO_VALUE\n",
    "where c.geo_value = 'LATAM' \n",
    "and title_level = 'Seasons and Movies'\n",
    "and OFFERING_WINDOW_NUM = 1\n",
    "and DAYS_ON_HBO_MAX_AND_WBD_MAX = 90\n",
    "order by DAYS_ON_HBO_MAX_AND_WBD_MAX\n",
    "''')"
   ]
  },
  {
   "cell_type": "code",
   "execution_count": 0,
   "metadata": {
    "application/vnd.databricks.v1+cell": {
     "cellMetadata": {},
     "inputWidgets": {},
     "nuid": "eb051eaf-68b4-4ab8-a663-68610a2d2aac",
     "showTitle": false,
     "title": ""
    }
   },
   "outputs": [],
   "source": [
    "title_info = title_info.merge(viewership, on = ['ckg_series_id'], how = 'left')"
   ]
  },
  {
   "cell_type": "code",
   "execution_count": 0,
   "metadata": {
    "application/vnd.databricks.v1+cell": {
     "cellMetadata": {},
     "inputWidgets": {},
     "nuid": "0bdd2fb9-57b4-4267-9e60-f94f52535207",
     "showTitle": false,
     "title": ""
    }
   },
   "outputs": [],
   "source": [
    "len(title_info.legacy_series_id.unique())"
   ]
  },
  {
   "cell_type": "code",
   "execution_count": 0,
   "metadata": {
    "application/vnd.databricks.v1+cell": {
     "cellMetadata": {},
     "inputWidgets": {},
     "nuid": "93876b8d-7b53-4676-8457-34cf54d61b00",
     "showTitle": false,
     "title": ""
    }
   },
   "outputs": [],
   "source": [
    "title_info.head()"
   ]
  },
  {
   "cell_type": "code",
   "execution_count": 0,
   "metadata": {
    "application/vnd.databricks.v1+cell": {
     "cellMetadata": {},
     "inputWidgets": {},
     "nuid": "a1ca2ad5-f87a-41fd-a236-e78921bbbbbe",
     "showTitle": false,
     "title": ""
    }
   },
   "outputs": [],
   "source": [
    "final_title_info = title_info[(title_info['cumulative_viewing_subscribers'].notnull())\n",
    "                             &(title_info['cumulative_viewing_subscribers']>0)]"
   ]
  },
  {
   "cell_type": "code",
   "execution_count": 0,
   "metadata": {
    "application/vnd.databricks.v1+cell": {
     "cellMetadata": {},
     "inputWidgets": {},
     "nuid": "caadf9f9-f823-4f89-865f-1c9ab350e656",
     "showTitle": false,
     "title": ""
    }
   },
   "outputs": [],
   "source": [
    "len(final_title_info.legacy_series_id.unique())"
   ]
  },
  {
   "cell_type": "code",
   "execution_count": 0,
   "metadata": {
    "application/vnd.databricks.v1+cell": {
     "cellMetadata": {},
     "inputWidgets": {},
     "nuid": "1a956da3-9707-47f2-ae59-fec6ae8b91fa",
     "showTitle": false,
     "title": ""
    }
   },
   "outputs": [],
   "source": [
    "len(final_title_info)"
   ]
  },
  {
   "cell_type": "code",
   "execution_count": 0,
   "metadata": {
    "application/vnd.databricks.v1+cell": {
     "cellMetadata": {},
     "inputWidgets": {},
     "nuid": "e12b10ce-7510-4522-8e22-3715405a59d4",
     "showTitle": false,
     "title": ""
    }
   },
   "outputs": [],
   "source": [
    "final_title_info['latam_home_medal'] = final_title_info['latam_home_medal'].fillna('Bronze')"
   ]
  },
  {
   "cell_type": "code",
   "execution_count": 0,
   "metadata": {
    "application/vnd.databricks.v1+cell": {
     "cellMetadata": {},
     "inputWidgets": {},
     "nuid": "ce7db0e1-4236-4acb-9669-e05378c1e6ea",
     "showTitle": false,
     "title": ""
    }
   },
   "outputs": [],
   "source": [
    "final_title_info[['latam_home_medal', 'imdb_id', 'area_gross', 'budget', 'theatrical_date']].isnull().sum()/len(final_title_info)"
   ]
  },
  {
   "cell_type": "code",
   "execution_count": 0,
   "metadata": {
    "application/vnd.databricks.v1+cell": {
     "cellMetadata": {},
     "inputWidgets": {},
     "nuid": "19f6ca5c-13e2-4eba-bc38-71713d181767",
     "showTitle": false,
     "title": ""
    }
   },
   "outputs": [],
   "source": [
    "final_title_info['days_from_theatrical'] = (final_title_info['first_release_date'].apply(pd.to_datetime)\n",
    "                                    - final_title_info['theatrical_date'].apply(pd.to_datetime)).dt.days"
   ]
  },
  {
   "cell_type": "code",
   "execution_count": 0,
   "metadata": {
    "application/vnd.databricks.v1+cell": {
     "cellMetadata": {},
     "inputWidgets": {},
     "nuid": "f976144c-8d2e-477d-bd47-1d1c05736c5f",
     "showTitle": false,
     "title": ""
    }
   },
   "outputs": [],
   "source": [
    "final_title_info.to_csv('latam_title_release_info.csv')"
   ]
  },
  {
   "cell_type": "code",
   "execution_count": 0,
   "metadata": {
    "application/vnd.databricks.v1+cell": {
     "cellMetadata": {},
     "inputWidgets": {},
     "nuid": "b3b22adc-d518-481b-a736-7786fcc1fa7f",
     "showTitle": false,
     "title": ""
    }
   },
   "outputs": [],
   "source": [
    "movie_hbo = final_title_info.copy()"
   ]
  },
  {
   "cell_type": "code",
   "execution_count": 0,
   "metadata": {
    "application/vnd.databricks.v1+cell": {
     "cellMetadata": {},
     "inputWidgets": {},
     "nuid": "9d1da87a-8b55-4756-a30d-6a76dd389afc",
     "showTitle": false,
     "title": ""
    }
   },
   "outputs": [],
   "source": [
    "movie_hbo.head()"
   ]
  },
  {
   "cell_type": "code",
   "execution_count": 0,
   "metadata": {
    "application/vnd.databricks.v1+cell": {
     "cellMetadata": {},
     "inputWidgets": {},
     "nuid": "c70b3f48-98ba-4d0d-866c-0909d1a4b52f",
     "showTitle": false,
     "title": ""
    }
   },
   "outputs": [],
   "source": [
    "# Catigorical feature \n",
    "category_onehot = pd.get_dummies(movie_hbo['primary_genre'], prefix='genre')\n",
    "movie_hbo=pd.concat([movie_hbo, category_onehot], axis = 1)"
   ]
  },
  {
   "cell_type": "code",
   "execution_count": 0,
   "metadata": {
    "application/vnd.databricks.v1+cell": {
     "cellMetadata": {},
     "inputWidgets": {},
     "nuid": "94d0df15-fe0a-42e2-be7e-62b2a45eaf33",
     "showTitle": false,
     "title": ""
    }
   },
   "outputs": [],
   "source": [
    "medal_onehot = pd.get_dummies(movie_hbo['latam_home_medal'], prefix='medal')\n",
    "movie_hbo=pd.concat([movie_hbo, medal_onehot], axis = 1)"
   ]
  },
  {
   "cell_type": "code",
   "execution_count": 0,
   "metadata": {
    "application/vnd.databricks.v1+cell": {
     "cellMetadata": {},
     "inputWidgets": {},
     "nuid": "b1bb4187-dc6a-46eb-af8a-ae698698715f",
     "showTitle": false,
     "title": ""
    }
   },
   "outputs": [],
   "source": [
    "# Medal Data\n",
    "medal_dict = {'Silver':2, 'Bronze':3, 'Gold':1 , 'Platinum':0,}\n",
    "movie_hbo['medal_number'] = movie_hbo['latam_home_medal'].replace(medal_dict)"
   ]
  },
  {
   "cell_type": "code",
   "execution_count": 0,
   "metadata": {
    "application/vnd.databricks.v1+cell": {
     "cellMetadata": {},
     "inputWidgets": {},
     "nuid": "303a2b85-096d-4208-96dd-b6e8e36e12ef",
     "showTitle": false,
     "title": ""
    }
   },
   "outputs": [],
   "source": [
    "movie_hbo.medal_number.unique()"
   ]
  },
  {
   "cell_type": "code",
   "execution_count": 0,
   "metadata": {
    "application/vnd.databricks.v1+cell": {
     "cellMetadata": {},
     "inputWidgets": {},
     "nuid": "b99b0a97-f79a-4c01-a57a-442d8c0f0257",
     "showTitle": false,
     "title": ""
    }
   },
   "outputs": [],
   "source": [
    "movie_hbo['log_cumulative_first_views'] = np.log2(movie_hbo['cumulative_first_views'])\n",
    "movie_hbo['log_cumulative_viewing_subs'] = np.log2(movie_hbo['cumulative_viewing_subscribers'])"
   ]
  },
  {
   "cell_type": "code",
   "execution_count": 0,
   "metadata": {
    "application/vnd.databricks.v1+cell": {
     "cellMetadata": {},
     "inputWidgets": {},
     "nuid": "dc5b3f01-16a7-46df-ad9e-0ec1de346181",
     "showTitle": false,
     "title": ""
    }
   },
   "outputs": [],
   "source": [
    "movie_hbo.to_csv('latam_training_data.csv')"
   ]
  },
  {
   "cell_type": "markdown",
   "metadata": {
    "application/vnd.databricks.v1+cell": {
     "cellMetadata": {},
     "inputWidgets": {},
     "nuid": "9b7df50f-421a-40e4-aee9-e8cd7508c970",
     "showTitle": false,
     "title": ""
    }
   },
   "source": [
    "# Correlation"
   ]
  },
  {
   "cell_type": "code",
   "execution_count": 0,
   "metadata": {
    "application/vnd.databricks.v1+cell": {
     "cellMetadata": {},
     "inputWidgets": {},
     "nuid": "bafb99d3-befa-4a74-a7f3-6a16ae024bdc",
     "showTitle": false,
     "title": ""
    }
   },
   "outputs": [],
   "source": [
    "import matplotlib.pyplot as plt \n",
    "import seaborn as sns"
   ]
  },
  {
   "cell_type": "code",
   "execution_count": 0,
   "metadata": {
    "application/vnd.databricks.v1+cell": {
     "cellMetadata": {},
     "inputWidgets": {},
     "nuid": "067ee7be-c930-4035-8175-d5cf9695fdd9",
     "showTitle": false,
     "title": ""
    }
   },
   "outputs": [],
   "source": [
    "data = movie_hbo.copy()"
   ]
  },
  {
   "cell_type": "code",
   "execution_count": 0,
   "metadata": {
    "application/vnd.databricks.v1+cell": {
     "cellMetadata": {},
     "inputWidgets": {},
     "nuid": "36d2a954-0050-48e1-ba1c-b7e3e070bd17",
     "showTitle": false,
     "title": ""
    }
   },
   "outputs": [],
   "source": [
    "data['percent_cumulative_viewing_subscribers'] = data['percent_cumulative_viewing_subscribers'].astype(float)"
   ]
  },
  {
   "cell_type": "code",
   "execution_count": 0,
   "metadata": {
    "application/vnd.databricks.v1+cell": {
     "cellMetadata": {},
     "inputWidgets": {},
     "nuid": "1922b62a-6cfc-4302-ab21-dc6cc318e2f0",
     "showTitle": false,
     "title": ""
    }
   },
   "outputs": [],
   "source": [
    "FEATURE_COLS = ['days_from_theatrical', 'area_gross', 'budget', 'genre_Action', 'genre_Comedy', \n",
    "                'genre_Drama', 'genre_Fantasy & Sci-Fi', 'genre_Horror', 'genre_Kids & Family',\n",
    "                'medal_number', 'medal_Bronze', 'medal_Gold', 'medal_Platinum', 'medal_Silver',\n",
    "               ]"
   ]
  },
  {
   "cell_type": "code",
   "execution_count": 0,
   "metadata": {
    "application/vnd.databricks.v1+cell": {
     "cellMetadata": {},
     "inputWidgets": {},
     "nuid": "f70c5bca-1837-4fb2-893f-287531a8b9dc",
     "showTitle": false,
     "title": ""
    }
   },
   "outputs": [],
   "source": [
    "TARGET_COL = ['cumulative_viewing_subscribers'] # cumulative_first_views"
   ]
  },
  {
   "cell_type": "code",
   "execution_count": 0,
   "metadata": {
    "application/vnd.databricks.v1+cell": {
     "cellMetadata": {},
     "inputWidgets": {},
     "nuid": "2f3923dd-e866-4043-a831-188027df468b",
     "showTitle": false,
     "title": ""
    }
   },
   "outputs": [],
   "source": [
    "movie_hbo.head()"
   ]
  },
  {
   "cell_type": "code",
   "execution_count": 0,
   "metadata": {
    "application/vnd.databricks.v1+cell": {
     "cellMetadata": {},
     "inputWidgets": {},
     "nuid": "ac196a4a-7af8-4bc0-be75-3059026cca19",
     "showTitle": false,
     "title": ""
    }
   },
   "outputs": [],
   "source": [
    "plot_data=data[FEATURE_COLS+TARGET_COL]\n",
    "corr = plot_data.corr()[TARGET_COL]\n",
    "mask=np.zeros_like(corr, dtype=np.bool)\n",
    "corr.loc['dummy_value'] = -1\n",
    "corr.sort_values(by = TARGET_COL)"
   ]
  },
  {
   "cell_type": "code",
   "execution_count": 0,
   "metadata": {
    "application/vnd.databricks.v1+cell": {
     "cellMetadata": {},
     "inputWidgets": {},
     "nuid": "0282cd9a-67bd-4225-a50f-59d1db0e9150",
     "showTitle": false,
     "title": ""
    }
   },
   "outputs": [],
   "source": [
    "f, ax = plt.subplots(figsize=(10, 8))\n",
    "sns.heatmap(corr, mask=np.zeros_like(corr, dtype=np.bool), cmap=sns.diverging_palette(220, 10, as_cmap=True),\n",
    "            square=True, ax=ax)"
   ]
  },
  {
   "cell_type": "code",
   "execution_count": 0,
   "metadata": {
    "application/vnd.databricks.v1+cell": {
     "cellMetadata": {},
     "inputWidgets": {},
     "nuid": "b4242839-1851-4f2b-9165-e51a43aade2b",
     "showTitle": false,
     "title": ""
    }
   },
   "outputs": [],
   "source": [
    "TARGET_COL = ['log_cumulative_viewing_subs'] # cumulative_first_views"
   ]
  },
  {
   "cell_type": "code",
   "execution_count": 0,
   "metadata": {
    "application/vnd.databricks.v1+cell": {
     "cellMetadata": {},
     "inputWidgets": {},
     "nuid": "1f22e4c6-af4b-4008-bbbc-9e89b07b7042",
     "showTitle": false,
     "title": ""
    }
   },
   "outputs": [],
   "source": [
    "plot_data=data[FEATURE_COLS+TARGET_COL]\n",
    "corr = plot_data.corr()[TARGET_COL]\n",
    "mask=np.zeros_like(corr, dtype=np.bool)\n",
    "corr.loc['dummy_value'] = -1\n",
    "corr.sort_values(by = TARGET_COL)"
   ]
  },
  {
   "cell_type": "code",
   "execution_count": 0,
   "metadata": {
    "application/vnd.databricks.v1+cell": {
     "cellMetadata": {},
     "inputWidgets": {},
     "nuid": "61c8871e-cf9e-4cf2-9695-f2b4c6ac67a2",
     "showTitle": false,
     "title": ""
    }
   },
   "outputs": [],
   "source": [
    "f, ax = plt.subplots(figsize=(10, 8))\n",
    "sns.heatmap(corr, mask=np.zeros_like(corr, dtype=np.bool), cmap=sns.diverging_palette(220, 10, as_cmap=True),\n",
    "            square=True, ax=ax)"
   ]
  },
  {
   "cell_type": "code",
   "execution_count": 0,
   "metadata": {
    "application/vnd.databricks.v1+cell": {
     "cellMetadata": {},
     "inputWidgets": {},
     "nuid": "38e23472-e55d-40b3-b724-e49a93c384ff",
     "showTitle": false,
     "title": ""
    }
   },
   "outputs": [],
   "source": [
    "TARGET_COL = ['log_cumulative_first_views']"
   ]
  },
  {
   "cell_type": "code",
   "execution_count": 0,
   "metadata": {
    "application/vnd.databricks.v1+cell": {
     "cellMetadata": {},
     "inputWidgets": {},
     "nuid": "ca58705b-b3e0-4663-add5-b22b47e99586",
     "showTitle": false,
     "title": ""
    }
   },
   "outputs": [],
   "source": [
    "plot_data=data[FEATURE_COLS+TARGET_COL]\n",
    "corr = plot_data.corr()[TARGET_COL]\n",
    "mask=np.zeros_like(corr, dtype=np.bool)\n",
    "corr.loc['dummy_value'] = -1\n",
    "corr.sort_values(by = TARGET_COL)"
   ]
  },
  {
   "cell_type": "code",
   "execution_count": 0,
   "metadata": {
    "application/vnd.databricks.v1+cell": {
     "cellMetadata": {},
     "inputWidgets": {},
     "nuid": "4a9e9872-4644-4410-a114-d9d4f902abaa",
     "showTitle": false,
     "title": ""
    }
   },
   "outputs": [],
   "source": [
    "f, ax = plt.subplots(figsize=(10, 8))\n",
    "sns.heatmap(corr, mask=np.zeros_like(corr, dtype=np.bool), cmap=sns.diverging_palette(220, 10, as_cmap=True),\n",
    "            square=True, ax=ax)"
   ]
  },
  {
   "cell_type": "code",
   "execution_count": 0,
   "metadata": {
    "application/vnd.databricks.v1+cell": {
     "cellMetadata": {},
     "inputWidgets": {},
     "nuid": "b88d186e-f9e3-4e37-90c9-e6531ce98a8c",
     "showTitle": false,
     "title": ""
    }
   },
   "outputs": [],
   "source": [
    "TARGET_COL = ['cumulative_first_views'] # cumulative_first_views"
   ]
  },
  {
   "cell_type": "code",
   "execution_count": 0,
   "metadata": {
    "application/vnd.databricks.v1+cell": {
     "cellMetadata": {},
     "inputWidgets": {},
     "nuid": "b5d6e857-324e-4176-9644-af2409016ef1",
     "showTitle": false,
     "title": ""
    }
   },
   "outputs": [],
   "source": [
    "plot_data=data[FEATURE_COLS+TARGET_COL]\n",
    "corr = plot_data.corr()[TARGET_COL]\n",
    "mask=np.zeros_like(corr, dtype=np.bool)\n",
    "corr.loc['dummy_value'] = -1\n",
    "corr.sort_values(by = TARGET_COL)"
   ]
  },
  {
   "cell_type": "code",
   "execution_count": 0,
   "metadata": {
    "application/vnd.databricks.v1+cell": {
     "cellMetadata": {},
     "inputWidgets": {},
     "nuid": "5a0644c2-2f05-4fd7-a39b-feabf3e5e2cb",
     "showTitle": false,
     "title": ""
    }
   },
   "outputs": [],
   "source": [
    "f, ax = plt.subplots(figsize=(10, 8))\n",
    "sns.heatmap(corr, mask=np.zeros_like(corr, dtype=np.bool), cmap=sns.diverging_palette(220, 10, as_cmap=True),\n",
    "            square=True, ax=ax)"
   ]
  },
  {
   "cell_type": "markdown",
   "metadata": {
    "application/vnd.databricks.v1+cell": {
     "cellMetadata": {},
     "inputWidgets": {},
     "nuid": "e9ee4de7-e4c4-4d2a-a41b-39546a43125d",
     "showTitle": false,
     "title": ""
    }
   },
   "source": [
    "## Only movies after launch"
   ]
  },
  {
   "cell_type": "code",
   "execution_count": 0,
   "metadata": {
    "application/vnd.databricks.v1+cell": {
     "cellMetadata": {},
     "inputWidgets": {},
     "nuid": "e518885f-a4f0-4803-b724-cf347abaca6f",
     "showTitle": false,
     "title": ""
    }
   },
   "outputs": [],
   "source": [
    "data = movie_hbo[movie_hbo['days_from_max_launch'] < 0].copy()"
   ]
  },
  {
   "cell_type": "code",
   "execution_count": 0,
   "metadata": {
    "application/vnd.databricks.v1+cell": {
     "cellMetadata": {},
     "inputWidgets": {},
     "nuid": "9ee965d1-78e2-46b0-bd8b-99330750188f",
     "showTitle": false,
     "title": ""
    }
   },
   "outputs": [],
   "source": [
    "data['pct_actives'] = data['pct_actives'].astype(float)"
   ]
  },
  {
   "cell_type": "code",
   "execution_count": 0,
   "metadata": {
    "application/vnd.databricks.v1+cell": {
     "cellMetadata": {},
     "inputWidgets": {},
     "nuid": "2706bba4-d214-4cef-825c-84857f787373",
     "showTitle": false,
     "title": ""
    }
   },
   "outputs": [],
   "source": [
    "data.title_id.count()"
   ]
  },
  {
   "cell_type": "code",
   "execution_count": 0,
   "metadata": {
    "application/vnd.databricks.v1+cell": {
     "cellMetadata": {},
     "inputWidgets": {},
     "nuid": "6d24f9f0-7d20-4745-9ab6-a39d584c79ce",
     "showTitle": false,
     "title": ""
    }
   },
   "outputs": [],
   "source": [
    "TARGET_COL = ['cumulative_viewing_subs'] # cumulative_first_views"
   ]
  },
  {
   "cell_type": "code",
   "execution_count": 0,
   "metadata": {
    "application/vnd.databricks.v1+cell": {
     "cellMetadata": {},
     "inputWidgets": {},
     "nuid": "8c9e796b-abdb-422e-8529-a8ce68ea080d",
     "showTitle": false,
     "title": ""
    }
   },
   "outputs": [],
   "source": [
    "plot_data=data[FEATURE_COLS+TARGET_COL]\n",
    "corr = plot_data.corr()[TARGET_COL]\n",
    "mask=np.zeros_like(corr, dtype=np.bool)\n",
    "corr.loc['dummy_value'] = -1\n",
    "corr.sort_values(by = TARGET_COL)"
   ]
  },
  {
   "cell_type": "code",
   "execution_count": 0,
   "metadata": {
    "application/vnd.databricks.v1+cell": {
     "cellMetadata": {},
     "inputWidgets": {},
     "nuid": "028093eb-bf6b-41d6-8ecc-5248b6c76dd0",
     "showTitle": false,
     "title": ""
    }
   },
   "outputs": [],
   "source": [
    "f, ax = plt.subplots(figsize=(10, 8))\n",
    "sns.heatmap(corr, mask=np.zeros_like(corr, dtype=np.bool), cmap=sns.diverging_palette(220, 10, as_cmap=True),\n",
    "            square=True, ax=ax)"
   ]
  },
  {
   "cell_type": "code",
   "execution_count": 0,
   "metadata": {
    "application/vnd.databricks.v1+cell": {
     "cellMetadata": {},
     "inputWidgets": {},
     "nuid": "cd22a9b6-8e35-4be4-96bd-728d5917ea0f",
     "showTitle": false,
     "title": ""
    }
   },
   "outputs": [],
   "source": [
    "TARGET_COL = ['log_cumulative_first_views']"
   ]
  },
  {
   "cell_type": "code",
   "execution_count": 0,
   "metadata": {
    "application/vnd.databricks.v1+cell": {
     "cellMetadata": {},
     "inputWidgets": {},
     "nuid": "141de6c8-f0fa-476a-a895-1649075f48ba",
     "showTitle": false,
     "title": ""
    }
   },
   "outputs": [],
   "source": [
    "plot_data=data[FEATURE_COLS+TARGET_COL]\n",
    "corr = plot_data.corr()[TARGET_COL]\n",
    "mask=np.zeros_like(corr, dtype=np.bool)\n",
    "corr.loc['dummy_value'] = -1\n",
    "# corr.sort_values(by = TARGET_COL)"
   ]
  },
  {
   "cell_type": "code",
   "execution_count": 0,
   "metadata": {
    "application/vnd.databricks.v1+cell": {
     "cellMetadata": {},
     "inputWidgets": {},
     "nuid": "92638dd8-8692-4d1b-a99c-a2d9c4131a42",
     "showTitle": false,
     "title": ""
    }
   },
   "outputs": [],
   "source": [
    "f, ax = plt.subplots(figsize=(10, 8))\n",
    "sns.heatmap(corr, mask=np.zeros_like(corr, dtype=np.bool), cmap=sns.diverging_palette(220, 10, as_cmap=True),\n",
    "            square=True, ax=ax)"
   ]
  },
  {
   "cell_type": "code",
   "execution_count": 0,
   "metadata": {
    "application/vnd.databricks.v1+cell": {
     "cellMetadata": {},
     "inputWidgets": {},
     "nuid": "20d5fc90-e3c8-47f0-a123-e05b8ca40288",
     "showTitle": false,
     "title": ""
    }
   },
   "outputs": [],
   "source": [
    "TARGET_COL = ['cumulative_first_views'] # cumulative_first_views"
   ]
  },
  {
   "cell_type": "code",
   "execution_count": 0,
   "metadata": {
    "application/vnd.databricks.v1+cell": {
     "cellMetadata": {},
     "inputWidgets": {},
     "nuid": "20613b68-4745-47d4-898c-7979585ba641",
     "showTitle": false,
     "title": ""
    }
   },
   "outputs": [],
   "source": [
    "plot_data=data[FEATURE_COLS+TARGET_COL]\n",
    "corr = plot_data.corr()[TARGET_COL]\n",
    "mask=np.zeros_like(corr, dtype=np.bool)\n",
    "corr.loc['dummy_value'] = -1\n",
    "corr.sort_values(by = TARGET_COL)"
   ]
  },
  {
   "cell_type": "code",
   "execution_count": 0,
   "metadata": {
    "application/vnd.databricks.v1+cell": {
     "cellMetadata": {},
     "inputWidgets": {},
     "nuid": "b5065cef-fea9-43d2-b714-9eb4e716b8ff",
     "showTitle": false,
     "title": ""
    }
   },
   "outputs": [],
   "source": [
    "f, ax = plt.subplots(figsize=(10, 8))\n",
    "sns.heatmap(corr, mask=np.zeros_like(corr, dtype=np.bool), cmap=sns.diverging_palette(220, 8, as_cmap=False),\n",
    "            square=True, ax=ax)"
   ]
  },
  {
   "cell_type": "markdown",
   "metadata": {
    "application/vnd.databricks.v1+cell": {
     "cellMetadata": {},
     "inputWidgets": {},
     "nuid": "19178f4f-6323-45f0-9e0f-942a45d5b4b6",
     "showTitle": false,
     "title": ""
    }
   },
   "source": [
    "### correlation between features"
   ]
  },
  {
   "cell_type": "code",
   "execution_count": 0,
   "metadata": {
    "application/vnd.databricks.v1+cell": {
     "cellMetadata": {},
     "inputWidgets": {},
     "nuid": "84ce67ee-b9dc-47cb-a43a-5cf7372332a7",
     "showTitle": false,
     "title": ""
    }
   },
   "outputs": [],
   "source": [
    "# FEATURE_COLS = ['days_from_theatrical','area_gross','budget',\n",
    "#  'genre_action',\n",
    "#  'genre_comedy',\n",
    "#  'genre_crime',\n",
    "#  'genre_drama',\n",
    "#  'genre_fantasy & sci-fi',\n",
    "#  'genre_horror',\n",
    "#  'medal_number',\n",
    "#  'is_direct_to_max_title']"
   ]
  },
  {
   "cell_type": "code",
   "execution_count": 0,
   "metadata": {
    "application/vnd.databricks.v1+cell": {
     "cellMetadata": {},
     "inputWidgets": {},
     "nuid": "5642f8bb-c908-4e7b-9333-d16ad4235e53",
     "showTitle": false,
     "title": ""
    }
   },
   "outputs": [],
   "source": [
    "plot_data=data[FEATURE_COLS]\n",
    "corr = plot_data.corr()\n",
    "mask=np.zeros_like(corr, dtype=np.bool)"
   ]
  },
  {
   "cell_type": "code",
   "execution_count": 0,
   "metadata": {
    "application/vnd.databricks.v1+cell": {
     "cellMetadata": {},
     "inputWidgets": {},
     "nuid": "e53ac1ee-4f7e-4bcf-a0d6-853f63020311",
     "showTitle": false,
     "title": ""
    }
   },
   "outputs": [],
   "source": [
    "f, ax = plt.subplots(figsize=(10, 8))\n",
    "sns.heatmap(corr, mask=np.zeros_like(corr, dtype=np.bool), cmap=sns.diverging_palette(220, 10, as_cmap=True),\n",
    "            square=True, ax=ax)"
   ]
  },
  {
   "cell_type": "code",
   "execution_count": 0,
   "metadata": {
    "application/vnd.databricks.v1+cell": {
     "cellMetadata": {},
     "inputWidgets": {},
     "nuid": "9da2de21-f991-4de3-a424-49b5daf424e4",
     "showTitle": false,
     "title": ""
    }
   },
   "outputs": [],
   "source": [
    "movie_hbo.to_csv('latam_training_data.csv')"
   ]
  },
  {
   "cell_type": "code",
   "execution_count": 0,
   "metadata": {
    "application/vnd.databricks.v1+cell": {
     "cellMetadata": {},
     "inputWidgets": {},
     "nuid": "e0402341-1835-4c9c-8e63-1dd6ef4276b2",
     "showTitle": false,
     "title": ""
    }
   },
   "outputs": [],
   "source": []
  }
 ],
 "metadata": {
  "application/vnd.databricks.v1+notebook": {
   "dashboards": [],
   "environmentMetadata": null,
   "language": "python",
   "notebookMetadata": {
    "pythonIndentUnit": 4
   },
   "notebookName": "3.0 LatAm Movie Data Preparation",
   "widgets": {}
  },
  "kernelspec": {
   "display_name": "conda_python3",
   "language": "python",
   "name": "conda_python3"
  },
  "language_info": {
   "codemirror_mode": {
    "name": "ipython",
    "version": 3
   },
   "file_extension": ".py",
   "mimetype": "text/x-python",
   "name": "python",
   "nbconvert_exporter": "python",
   "pygments_lexer": "ipython3",
   "version": "3.6.13"
  }
 },
 "nbformat": 4,
 "nbformat_minor": 0
}
