{
 "cells": [
  {
   "cell_type": "code",
   "execution_count": 8,
   "id": "0bba0265",
   "metadata": {},
   "outputs": [],
   "source": [
    "# general\n",
    "import boto3\n",
    "import datetime as dt\n",
    "import json\n",
    "import numpy as np\n",
    "import pandas as pd\n",
    "import snowflake.connector"
   ]
  },
  {
   "cell_type": "code",
   "execution_count": 9,
   "id": "064814ff",
   "metadata": {},
   "outputs": [],
   "source": [
    "pd.set_option('display.max_rows', 1000)\n",
    "pd.set_option('display.max_columns', 1000)"
   ]
  },
  {
   "cell_type": "code",
   "execution_count": 10,
   "id": "e0ae2ebf",
   "metadata": {},
   "outputs": [],
   "source": [
    "pd.options.display.float_format = '{:,.2f}'.format"
   ]
  },
  {
   "cell_type": "markdown",
   "id": "5317a82b",
   "metadata": {},
   "source": [
    "### 0.2 : Connection to Snowflake"
   ]
  },
  {
   "cell_type": "code",
   "execution_count": 11,
   "id": "599a0115",
   "metadata": {},
   "outputs": [
    {
     "name": "stderr",
     "output_type": "stream",
     "text": [
      "/home/ec2-user/anaconda3/envs/python3/lib/python3.6/site-packages/boto3/compat.py:88: PythonDeprecationWarning: Boto3 will no longer support Python 3.6 starting May 30, 2022. To continue receiving service updates, bug fixes, and security updates please upgrade to Python 3.7 or later. More information can be found here: https://aws.amazon.com/blogs/developer/python-support-policy-updates-for-aws-sdks-and-tools/\n",
      "  warnings.warn(warning, PythonDeprecationWarning)\n"
     ]
    }
   ],
   "source": [
    "from abc import ABCMeta, abstractmethod\n",
    "\n",
    "class Credentials(metaclass=ABCMeta):\n",
    "    pass\n",
    "    \n",
    "    \n",
    "class SSMPSCredentials(Credentials):\n",
    "    def __init__(self, secretid: str):\n",
    "        self._secretid = secretid\n",
    "        self._secrets = {}\n",
    "        \n",
    "    def get_keys(self):\n",
    "        \"\"\"\n",
    "        credential fetching \n",
    "        \"\"\"\n",
    "        _aws_sm_args = {'service_name': 'secretsmanager', 'region_name': 'us-east-1'}\n",
    "        secrets_client = boto3.client(**_aws_sm_args)\n",
    "        get_secret_value_response = secrets_client.get_secret_value(SecretId=self._secretid)\n",
    "        return get_secret_value_response\n",
    "    \n",
    "    \n",
    "class BaseConnector(metaclass=ABCMeta):\n",
    "    @abstractmethod\n",
    "    def connect(self):\n",
    "        raise NotImplementedError\n",
    "    \n",
    "\n",
    "class SnowflakeConnector(BaseConnector):\n",
    "    def __init__(self, credentials: Credentials):\n",
    "        keys = credentials.get_keys()\n",
    "        self._secrets = json.loads(keys.get('SecretString', \"{}\"))\n",
    "\n",
    "    def connect(self, dbname: str, schema: str = 'DEFAULT'):\n",
    "        ctx = snowflake.connector.connect(\n",
    "            user=self._secrets['login_name'],\n",
    "            password=self._secrets['login_password'],\n",
    "            account=self._secrets['account'],\n",
    "            warehouse=self._secrets['warehouse'],\n",
    "            database=dbname,\n",
    "            schema=schema\n",
    "        )\n",
    "\n",
    "        return ctx\n",
    "    \n",
    "## Credentials\n",
    "SF_CREDS = 'datascience-max-dev-sagemaker-notebooks'\n",
    "\n",
    "## Snowflake connection \n",
    "conn=SnowflakeConnector(SSMPSCredentials(SF_CREDS))\n",
    "ctx=conn.connect(\"MAX_DEV\",\"WORKSPACE\")\n",
    "\n",
    "def run_query(query):\n",
    "    cursor = ctx.cursor()\n",
    "    cursor.execute(query)\n",
    "    df = pd.DataFrame(cursor.fetchall(), columns = [desc[0] for desc in cursor.description])\n",
    "    df.columns= df.columns.str.lower()\n",
    "    return df"
   ]
  },
  {
   "cell_type": "code",
   "execution_count": 16,
   "id": "740ed4c6",
   "metadata": {},
   "outputs": [],
   "source": [
    "genre_medal = run_query('''\n",
    "WITH TEMP AS (\n",
    "select max_prod.content_analytics.asset_medals.TITLE_ID, TITLE, OFFERING_START_DATE, OFFERING_END_DATE, PROGRAMMING_PROVIDED_GENRE, HOME_TERRITORY_OBSERVED_MEDAL, PILLAR_GENRES\n",
    "from max_prod.content_analytics.asset_medals\n",
    "inner join max_prod.catalog.vw_title_genres \n",
    "on max_prod.content_analytics.asset_medals.TITLE_ID=max_prod.catalog.vw_title_genres.TITLE_ID\n",
    "where PROGRAMMING_PROVIDED_GENRE = 'Pay1' or PROGRAMMING_PROVIDED_GENRE = 'Popcorn'\n",
    ")\n",
    "\n",
    ", first_window AS(\n",
    "SELECT title_id, MIN(offering_start_date) AS first_offer_window\n",
    "FROM TEMP\n",
    "GROUP BY 1\n",
    ")\n",
    "\n",
    "SELECT TEMP.*\n",
    "FROM TEMP\n",
    "JOIN first_window fw\n",
    "ON temp.title_id = fw.title_id\n",
    "and temp.offering_start_date = fw.first_offer_window\n",
    "''')"
   ]
  },
  {
   "cell_type": "code",
   "execution_count": 17,
   "id": "a2d90c85",
   "metadata": {},
   "outputs": [
    {
     "data": {
      "text/html": [
       "<div>\n",
       "<style scoped>\n",
       "    .dataframe tbody tr th:only-of-type {\n",
       "        vertical-align: middle;\n",
       "    }\n",
       "\n",
       "    .dataframe tbody tr th {\n",
       "        vertical-align: top;\n",
       "    }\n",
       "\n",
       "    .dataframe thead th {\n",
       "        text-align: right;\n",
       "    }\n",
       "</style>\n",
       "<table border=\"1\" class=\"dataframe\">\n",
       "  <thead>\n",
       "    <tr style=\"text-align: right;\">\n",
       "      <th></th>\n",
       "      <th>title_id</th>\n",
       "      <th>title</th>\n",
       "      <th>offering_start_date</th>\n",
       "      <th>offering_end_date</th>\n",
       "      <th>programming_provided_genre</th>\n",
       "      <th>home_territory_observed_medal</th>\n",
       "      <th>pillar_genres</th>\n",
       "    </tr>\n",
       "  </thead>\n",
       "  <tbody>\n",
       "    <tr>\n",
       "      <th>85</th>\n",
       "      <td>GX9KHPw1OIMPCJgEAAAAD</td>\n",
       "      <td>Wonder Woman 1984</td>\n",
       "      <td>2020-12-25</td>\n",
       "      <td>2021-01-25</td>\n",
       "      <td>Popcorn</td>\n",
       "      <td>Platinum</td>\n",
       "      <td>Action/Adventure</td>\n",
       "    </tr>\n",
       "  </tbody>\n",
       "</table>\n",
       "</div>"
      ],
      "text/plain": [
       "                 title_id              title offering_start_date  \\\n",
       "85  GX9KHPw1OIMPCJgEAAAAD  Wonder Woman 1984          2020-12-25   \n",
       "\n",
       "   offering_end_date programming_provided_genre home_territory_observed_medal  \\\n",
       "85        2021-01-25                    Popcorn                      Platinum   \n",
       "\n",
       "        pillar_genres  \n",
       "85  Action/Adventure   "
      ]
     },
     "execution_count": 17,
     "metadata": {},
     "output_type": "execute_result"
    }
   ],
   "source": [
    "genre_medal[genre_medal['title'] == 'Wonder Woman 1984']"
   ]
  },
  {
   "cell_type": "code",
   "execution_count": 18,
   "id": "8f122779",
   "metadata": {},
   "outputs": [],
   "source": [
    "launch_date = run_query('''\n",
    "--*************************************************** USE THIS\n",
    "-- building new table off of TAD\n",
    "with tentpole_ids as (\n",
    "select stg.asset_title_long\n",
    "  , offering_start_date as offering_start_date --limiting returning ID,\n",
    "  , stg.viewable_id\n",
    "  , rank() over (partition by stg.asset_title_long order by offering_start_date) as rank\n",
    "from max_prod.catalog.tentpole_asset_offering_dim tad\n",
    "inner join max_prod.staging.tentpole_titles_stg stg\n",
    "  on stg.viewable_id=tad.viewable_id\n",
    "  and stg.territory = tad.territory\n",
    "where stg.territory = 'HBO MAX DOMESTIC'\n",
    "  \n",
    "group by 1,2,3\n",
    ")\n",
    "select   \n",
    "    tid.asset_title_long\n",
    "    , tid.viewable_id as title_id\n",
    "    , map.imdb_id as imdb_id\n",
    "    , stg.theatrical_release_date\n",
    "    ,to_date(coalesce(pop.theatrical_release_date, tid.offering_start_date)) as offering_start_date --applying popcorn release dates overridding Pay-1 offering dates for popcorn titles\n",
    "    ,(case when pop.theatrical_release_date is not null\n",
    "        then datediff(day,pop.theatrical_release_date,stg.theatrical_release_date) --calculate window with new applied date (should be 0 for popcorn)\n",
    "      else days_from_theatrical end) as days_from_theatrical1\n",
    "    ,datediff(days,stg.theatrical_release_date,'2020-05-20') as days_from_max_launch --recalculating windows from titles that premiered before MAX launch\n",
    "    ,(case when days_from_theatrical1 = 0 then 0\n",
    "     when days_from_max_launch<=0 then days_from_theatrical1\n",
    "     else days_from_max_launch end) as days_from_theatrical2\n",
    "    ,days_on_hbo_max\n",
    "    ,cumulative_viewing_subs\n",
    "    ,cumulative_first_views\n",
    "    ,cumulative_viewing_subs/denom.viewing_subs as pct_actives\n",
    "    ,area_gross\n",
    "    ,bdg.AMOUNT as budget\n",
    "from tentpole_ids tid\n",
    "inner join max_prod.staging.tentpole_titles_stg stg\n",
    "    on tid.viewable_id=stg.viewable_id\n",
    "    and stg.territory = 'HBO MAX DOMESTIC'\n",
    "    and stg.theatrical_release_date is not null\n",
    "left join max_prod.catalog.popcorn_titles pop \n",
    "    on pop.viewable_id=stg.viewable_id\n",
    "left join max_prod.ckg.ed_wm_wb_imdb_mapping map --vid to imdb_id\n",
    "    on map.viewable_id=stg.viewable_id\n",
    "    and studio = 'HBO'\n",
    "left join \"MAX_PROD\".\"CKG\".imdb_boxoffice_opening_weekends bo --title_id to imdb_id\n",
    "    on bo.title_id=map.imdb_id\n",
    "    and (area_code='XDOM' or area_code is null)\n",
    "left join \"MAX_PROD\".\"CKG\".IMDB_BOXOFFICE_TITLE_BUDGET bdg -- budget title_id to imdb_id\n",
    "    on bdg.title_id=map.imdb_id\n",
    "left join max_prod.content_analytics.new_title_release_days_on_platform dop \n",
    "    on tid.viewable_id = dop.title_id\n",
    "JOIN \"MAX_PROD\".\"CONTENT_ANALYTICS\".\"CUMULATIVE_SUBS_DENOM\"  denom \n",
    "    on to_varchar(dop.FIRST_RELEASE_DATE, 'yyyy-mm-dd') = denom.start_date\n",
    "    and dop.days_on_hbo_max = denom.days_since_release+1\n",
    "where 1=1\n",
    "    --and area_gross is not null\n",
    "    and rank = 1\n",
    "    and title_level = 'Series and Movies'\n",
    "    and stg.is_pay_1 =1\n",
    "    and days_on_hbo_max = 90\n",
    "group by 1,2,3,4,5,6,7,8,9,10,11,12,13,14\n",
    "order by 2 desc\n",
    "''')"
   ]
  },
  {
   "cell_type": "code",
   "execution_count": 60,
   "id": "476cb27e",
   "metadata": {},
   "outputs": [
    {
     "data": {
      "text/plain": [
       "134008624.0"
      ]
     },
     "execution_count": 60,
     "metadata": {},
     "output_type": "execute_result"
    }
   ],
   "source": [
    "launch_date.area_gross.max()"
   ]
  },
  {
   "cell_type": "code",
   "execution_count": 19,
   "id": "990c77ac",
   "metadata": {},
   "outputs": [
    {
     "data": {
      "text/html": [
       "<div>\n",
       "<style scoped>\n",
       "    .dataframe tbody tr th:only-of-type {\n",
       "        vertical-align: middle;\n",
       "    }\n",
       "\n",
       "    .dataframe tbody tr th {\n",
       "        vertical-align: top;\n",
       "    }\n",
       "\n",
       "    .dataframe thead th {\n",
       "        text-align: right;\n",
       "    }\n",
       "</style>\n",
       "<table border=\"1\" class=\"dataframe\">\n",
       "  <thead>\n",
       "    <tr style=\"text-align: right;\">\n",
       "      <th></th>\n",
       "      <th>asset_title_long</th>\n",
       "      <th>title_id</th>\n",
       "      <th>imdb_id</th>\n",
       "      <th>theatrical_release_date</th>\n",
       "      <th>offering_start_date</th>\n",
       "      <th>days_from_theatrical1</th>\n",
       "      <th>days_from_max_launch</th>\n",
       "      <th>days_from_theatrical2</th>\n",
       "      <th>days_on_hbo_max</th>\n",
       "      <th>cumulative_viewing_subs</th>\n",
       "      <th>cumulative_first_views</th>\n",
       "      <th>pct_actives</th>\n",
       "      <th>area_gross</th>\n",
       "      <th>budget</th>\n",
       "    </tr>\n",
       "  </thead>\n",
       "  <tbody>\n",
       "    <tr>\n",
       "      <th>168</th>\n",
       "      <td>The Call of the Wild</td>\n",
       "      <td>GX1ozeARCl6vDcwEAAAF9</td>\n",
       "      <td>tt7504726</td>\n",
       "      <td>2019-12-25</td>\n",
       "      <td>2020-11-29</td>\n",
       "      <td>312</td>\n",
       "      <td>147</td>\n",
       "      <td>147</td>\n",
       "      <td>90</td>\n",
       "      <td>920407</td>\n",
       "      <td>26197</td>\n",
       "      <td>0.047031</td>\n",
       "      <td>24,791,624.00</td>\n",
       "      <td>135,000,000.00</td>\n",
       "    </tr>\n",
       "    <tr>\n",
       "      <th>169</th>\n",
       "      <td>Underwater</td>\n",
       "      <td>GX1oymw295cLCTQEAAAFt</td>\n",
       "      <td>tt5774060</td>\n",
       "      <td>2020-01-10</td>\n",
       "      <td>2020-11-22</td>\n",
       "      <td>296</td>\n",
       "      <td>131</td>\n",
       "      <td>131</td>\n",
       "      <td>90</td>\n",
       "      <td>1371037</td>\n",
       "      <td>34513</td>\n",
       "      <td>0.070896</td>\n",
       "      <td>7,008,297.00</td>\n",
       "      <td>80,000,000.00</td>\n",
       "    </tr>\n",
       "    <tr>\n",
       "      <th>170</th>\n",
       "      <td>Dolittle</td>\n",
       "      <td>GX1oycwoNEsMslAEAAAAI</td>\n",
       "      <td>tt6673612</td>\n",
       "      <td>2020-01-17</td>\n",
       "      <td>2020-11-15</td>\n",
       "      <td>289</td>\n",
       "      <td>124</td>\n",
       "      <td>124</td>\n",
       "      <td>90</td>\n",
       "      <td>1501877</td>\n",
       "      <td>37595</td>\n",
       "      <td>0.079144</td>\n",
       "      <td>21,844,045.00</td>\n",
       "      <td>175,000,000.00</td>\n",
       "    </tr>\n",
       "  </tbody>\n",
       "</table>\n",
       "</div>"
      ],
      "text/plain": [
       "         asset_title_long               title_id    imdb_id  \\\n",
       "168  The Call of the Wild  GX1ozeARCl6vDcwEAAAF9  tt7504726   \n",
       "169            Underwater  GX1oymw295cLCTQEAAAFt  tt5774060   \n",
       "170              Dolittle  GX1oycwoNEsMslAEAAAAI  tt6673612   \n",
       "\n",
       "    theatrical_release_date offering_start_date  days_from_theatrical1  \\\n",
       "168              2019-12-25          2020-11-29                    312   \n",
       "169              2020-01-10          2020-11-22                    296   \n",
       "170              2020-01-17          2020-11-15                    289   \n",
       "\n",
       "     days_from_max_launch  days_from_theatrical2  days_on_hbo_max  \\\n",
       "168                   147                    147               90   \n",
       "169                   131                    131               90   \n",
       "170                   124                    124               90   \n",
       "\n",
       "     cumulative_viewing_subs  cumulative_first_views pct_actives  \\\n",
       "168                   920407                   26197    0.047031   \n",
       "169                  1371037                   34513    0.070896   \n",
       "170                  1501877                   37595    0.079144   \n",
       "\n",
       "       area_gross         budget  \n",
       "168 24,791,624.00 135,000,000.00  \n",
       "169  7,008,297.00  80,000,000.00  \n",
       "170 21,844,045.00 175,000,000.00  "
      ]
     },
     "execution_count": 19,
     "metadata": {},
     "output_type": "execute_result"
    }
   ],
   "source": [
    "launch_date.tail(3)"
   ]
  },
  {
   "cell_type": "code",
   "execution_count": 20,
   "id": "041db40a",
   "metadata": {},
   "outputs": [
    {
     "data": {
      "text/plain": [
       "asset_title_long   0.00\n",
       "imdb_id            0.00\n",
       "area_gross         0.12\n",
       "budget             0.32\n",
       "dtype: float64"
      ]
     },
     "execution_count": 20,
     "metadata": {},
     "output_type": "execute_result"
    }
   ],
   "source": [
    "launch_date[['asset_title_long', 'imdb_id', 'area_gross', 'budget']].isnull().sum()/len(launch_date)"
   ]
  },
  {
   "cell_type": "code",
   "execution_count": 21,
   "id": "ff9dd395",
   "metadata": {},
   "outputs": [
    {
     "data": {
      "text/html": [
       "<div>\n",
       "<style scoped>\n",
       "    .dataframe tbody tr th:only-of-type {\n",
       "        vertical-align: middle;\n",
       "    }\n",
       "\n",
       "    .dataframe tbody tr th {\n",
       "        vertical-align: top;\n",
       "    }\n",
       "\n",
       "    .dataframe thead th {\n",
       "        text-align: right;\n",
       "    }\n",
       "</style>\n",
       "<table border=\"1\" class=\"dataframe\">\n",
       "  <thead>\n",
       "    <tr style=\"text-align: right;\">\n",
       "      <th></th>\n",
       "      <th>title_id</th>\n",
       "      <th>title</th>\n",
       "      <th>offering_start_date</th>\n",
       "      <th>offering_end_date</th>\n",
       "      <th>programming_provided_genre</th>\n",
       "      <th>home_territory_observed_medal</th>\n",
       "      <th>pillar_genres</th>\n",
       "    </tr>\n",
       "  </thead>\n",
       "  <tbody>\n",
       "    <tr>\n",
       "      <th>0</th>\n",
       "      <td>GYPXEhQg3DFbCwwEAAADm</td>\n",
       "      <td>News of the World</td>\n",
       "      <td>2021-09-05</td>\n",
       "      <td>2022-12-01</td>\n",
       "      <td>Pay1</td>\n",
       "      <td>Silver</td>\n",
       "      <td>Action/Adventure</td>\n",
       "    </tr>\n",
       "    <tr>\n",
       "      <th>1</th>\n",
       "      <td>GXpTQtgV6ax-auwEAABc3</td>\n",
       "      <td>The Good Liar</td>\n",
       "      <td>2020-06-14</td>\n",
       "      <td>2021-03-01</td>\n",
       "      <td>Pay1</td>\n",
       "      <td>Bronze</td>\n",
       "      <td>Drama</td>\n",
       "    </tr>\n",
       "    <tr>\n",
       "      <th>2</th>\n",
       "      <td>GYXB0OgEQO5OhegEAAAAl</td>\n",
       "      <td>King Richard</td>\n",
       "      <td>2021-11-19</td>\n",
       "      <td>2021-12-20</td>\n",
       "      <td>Popcorn</td>\n",
       "      <td>Platinum</td>\n",
       "      <td>Drama</td>\n",
       "    </tr>\n",
       "    <tr>\n",
       "      <th>3</th>\n",
       "      <td>GYK0lqgy8KZiWvwEAAAAH</td>\n",
       "      <td>Shiva Baby</td>\n",
       "      <td>2021-07-08</td>\n",
       "      <td>2024-07-01</td>\n",
       "      <td>Pay1</td>\n",
       "      <td>Bronze</td>\n",
       "      <td>Comedy</td>\n",
       "    </tr>\n",
       "    <tr>\n",
       "      <th>4</th>\n",
       "      <td>GYbzvWABDj8LDwgEAAAAp</td>\n",
       "      <td>The Last Duel</td>\n",
       "      <td>2022-01-14</td>\n",
       "      <td>2022-09-01</td>\n",
       "      <td>Pay1</td>\n",
       "      <td>Gold</td>\n",
       "      <td>Drama</td>\n",
       "    </tr>\n",
       "  </tbody>\n",
       "</table>\n",
       "</div>"
      ],
      "text/plain": [
       "                title_id              title offering_start_date  \\\n",
       "0  GYPXEhQg3DFbCwwEAAADm  News of the World          2021-09-05   \n",
       "1  GXpTQtgV6ax-auwEAABc3      The Good Liar          2020-06-14   \n",
       "2  GYXB0OgEQO5OhegEAAAAl       King Richard          2021-11-19   \n",
       "3  GYK0lqgy8KZiWvwEAAAAH         Shiva Baby          2021-07-08   \n",
       "4  GYbzvWABDj8LDwgEAAAAp      The Last Duel          2022-01-14   \n",
       "\n",
       "  offering_end_date programming_provided_genre home_territory_observed_medal  \\\n",
       "0        2022-12-01                       Pay1                        Silver   \n",
       "1        2021-03-01                       Pay1                        Bronze   \n",
       "2        2021-12-20                    Popcorn                      Platinum   \n",
       "3        2024-07-01                       Pay1                        Bronze   \n",
       "4        2022-09-01                       Pay1                          Gold   \n",
       "\n",
       "       pillar_genres  \n",
       "0  Action/Adventure   \n",
       "1              Drama  \n",
       "2              Drama  \n",
       "3             Comedy  \n",
       "4              Drama  "
      ]
     },
     "execution_count": 21,
     "metadata": {},
     "output_type": "execute_result"
    }
   ],
   "source": [
    "genre_medal.head()"
   ]
  },
  {
   "cell_type": "code",
   "execution_count": 22,
   "id": "c658057a",
   "metadata": {},
   "outputs": [],
   "source": [
    "movie_hbo = pd.merge(genre_medal[['title_id', 'title', 'home_territory_observed_medal', 'pillar_genres']],\n",
    "                    launch_date[['title_id','imdb_id', 'theatrical_release_date', 'offering_start_date', 'days_from_theatrical2', 'pct_actives',\n",
    "                                 'days_from_max_launch', 'cumulative_viewing_subs', 'cumulative_first_views', 'area_gross', 'budget']],\n",
    "                    on = 'title_id', how = 'inner')"
   ]
  },
  {
   "cell_type": "code",
   "execution_count": 23,
   "id": "d78ca678",
   "metadata": {},
   "outputs": [],
   "source": [
    "# Catigorical feature \n",
    "category_onehot = pd.get_dummies(movie_hbo['pillar_genres'], prefix='genre')\n",
    "movie_hbo=pd.concat([movie_hbo, category_onehot], axis = 1)"
   ]
  },
  {
   "cell_type": "code",
   "execution_count": 24,
   "id": "8acdbf9b",
   "metadata": {},
   "outputs": [],
   "source": [
    "medal_onehot = pd.get_dummies(movie_hbo['home_territory_observed_medal'], prefix='medal')\n",
    "movie_hbo=pd.concat([movie_hbo, medal_onehot], axis = 1)"
   ]
  },
  {
   "cell_type": "code",
   "execution_count": 25,
   "id": "cb5cfc8f",
   "metadata": {},
   "outputs": [],
   "source": [
    "# Medal Data\n",
    "medal_dict = {'Silver':2, 'Bronze':3, 'Gold':1 , 'Platinum':0}\n",
    "movie_hbo['medal_number'] = movie_hbo['home_territory_observed_medal'].replace(medal_dict)"
   ]
  },
  {
   "cell_type": "code",
   "execution_count": 26,
   "id": "ad5cdc27",
   "metadata": {},
   "outputs": [],
   "source": [
    "movie_hbo['log_cumulative_first_views'] = np.log2(movie_hbo['cumulative_first_views'])"
   ]
  },
  {
   "cell_type": "code",
   "execution_count": 27,
   "id": "6b7f8eef",
   "metadata": {},
   "outputs": [
    {
     "data": {
      "text/plain": [
       "103"
      ]
     },
     "execution_count": 27,
     "metadata": {},
     "output_type": "execute_result"
    }
   ],
   "source": [
    "movie_hbo.title_id.count()"
   ]
  },
  {
   "cell_type": "markdown",
   "id": "53dd27a5",
   "metadata": {},
   "source": [
    "# Correlation"
   ]
  },
  {
   "cell_type": "code",
   "execution_count": 28,
   "id": "324892d5",
   "metadata": {},
   "outputs": [
    {
     "name": "stderr",
     "output_type": "stream",
     "text": [
      "WARNING:matplotlib.font_manager:Matplotlib is building the font cache; this may take a moment.\n"
     ]
    }
   ],
   "source": [
    "import matplotlib.pyplot as plt \n",
    "import seaborn as sns"
   ]
  },
  {
   "cell_type": "code",
   "execution_count": 29,
   "id": "2671138a",
   "metadata": {},
   "outputs": [],
   "source": [
    "data = movie_hbo.copy()"
   ]
  },
  {
   "cell_type": "code",
   "execution_count": 30,
   "id": "4670efe5",
   "metadata": {},
   "outputs": [],
   "source": [
    "data['pct_actives'] = data['pct_actives'].astype(float)"
   ]
  },
  {
   "cell_type": "code",
   "execution_count": 32,
   "id": "58e212d7",
   "metadata": {},
   "outputs": [
    {
     "data": {
      "text/html": [
       "<div>\n",
       "<style scoped>\n",
       "    .dataframe tbody tr th:only-of-type {\n",
       "        vertical-align: middle;\n",
       "    }\n",
       "\n",
       "    .dataframe tbody tr th {\n",
       "        vertical-align: top;\n",
       "    }\n",
       "\n",
       "    .dataframe thead th {\n",
       "        text-align: right;\n",
       "    }\n",
       "</style>\n",
       "<table border=\"1\" class=\"dataframe\">\n",
       "  <thead>\n",
       "    <tr style=\"text-align: right;\">\n",
       "      <th></th>\n",
       "      <th>title_id</th>\n",
       "      <th>title</th>\n",
       "      <th>home_territory_observed_medal</th>\n",
       "      <th>pillar_genres</th>\n",
       "      <th>imdb_id</th>\n",
       "      <th>theatrical_release_date</th>\n",
       "      <th>offering_start_date</th>\n",
       "      <th>days_from_theatrical2</th>\n",
       "      <th>pct_actives</th>\n",
       "      <th>days_from_max_launch</th>\n",
       "      <th>cumulative_viewing_subs</th>\n",
       "      <th>cumulative_first_views</th>\n",
       "      <th>area_gross</th>\n",
       "      <th>budget</th>\n",
       "      <th>genre_Action/Adventure</th>\n",
       "      <th>genre_Comedy</th>\n",
       "      <th>genre_Drama</th>\n",
       "      <th>genre_Horror</th>\n",
       "      <th>genre_Kids/Family</th>\n",
       "      <th>genre_Romance</th>\n",
       "      <th>genre_Sci-Fi</th>\n",
       "      <th>genre_Suspense/Thriller</th>\n",
       "      <th>medal_Bronze</th>\n",
       "      <th>medal_Gold</th>\n",
       "      <th>medal_Platinum</th>\n",
       "      <th>medal_Silver</th>\n",
       "      <th>medal_number</th>\n",
       "      <th>log_cumulative_first_views</th>\n",
       "    </tr>\n",
       "  </thead>\n",
       "  <tbody>\n",
       "    <tr>\n",
       "      <th>0</th>\n",
       "      <td>GYPXEhQg3DFbCwwEAAADm</td>\n",
       "      <td>News of the World</td>\n",
       "      <td>Silver</td>\n",
       "      <td>Action/Adventure</td>\n",
       "      <td>tt6878306</td>\n",
       "      <td>2020-12-25</td>\n",
       "      <td>2021-09-05</td>\n",
       "      <td>250</td>\n",
       "      <td>0.09</td>\n",
       "      <td>-219</td>\n",
       "      <td>2557041</td>\n",
       "      <td>25362</td>\n",
       "      <td>2,250,430.00</td>\n",
       "      <td>38,000,000.00</td>\n",
       "      <td>1</td>\n",
       "      <td>0</td>\n",
       "      <td>0</td>\n",
       "      <td>0</td>\n",
       "      <td>0</td>\n",
       "      <td>0</td>\n",
       "      <td>0</td>\n",
       "      <td>0</td>\n",
       "      <td>0</td>\n",
       "      <td>0</td>\n",
       "      <td>0</td>\n",
       "      <td>1</td>\n",
       "      <td>2</td>\n",
       "      <td>14.63</td>\n",
       "    </tr>\n",
       "    <tr>\n",
       "      <th>1</th>\n",
       "      <td>GXpTQtgV6ax-auwEAABc3</td>\n",
       "      <td>The Good Liar</td>\n",
       "      <td>Bronze</td>\n",
       "      <td>Drama</td>\n",
       "      <td>tt5563334</td>\n",
       "      <td>2019-11-15</td>\n",
       "      <td>2020-06-14</td>\n",
       "      <td>187</td>\n",
       "      <td>0.02</td>\n",
       "      <td>187</td>\n",
       "      <td>186115</td>\n",
       "      <td>10519</td>\n",
       "      <td>5,605,051.00</td>\n",
       "      <td>10,000,000.00</td>\n",
       "      <td>0</td>\n",
       "      <td>0</td>\n",
       "      <td>1</td>\n",
       "      <td>0</td>\n",
       "      <td>0</td>\n",
       "      <td>0</td>\n",
       "      <td>0</td>\n",
       "      <td>0</td>\n",
       "      <td>1</td>\n",
       "      <td>0</td>\n",
       "      <td>0</td>\n",
       "      <td>0</td>\n",
       "      <td>3</td>\n",
       "      <td>13.36</td>\n",
       "    </tr>\n",
       "    <tr>\n",
       "      <th>2</th>\n",
       "      <td>GYXB0OgEQO5OhegEAAAAl</td>\n",
       "      <td>King Richard</td>\n",
       "      <td>Platinum</td>\n",
       "      <td>Drama</td>\n",
       "      <td>tt9620288</td>\n",
       "      <td>2021-11-19</td>\n",
       "      <td>2021-11-19</td>\n",
       "      <td>0</td>\n",
       "      <td>0.24</td>\n",
       "      <td>-548</td>\n",
       "      <td>7612114</td>\n",
       "      <td>236213</td>\n",
       "      <td>5,406,033.00</td>\n",
       "      <td>50,000,000.00</td>\n",
       "      <td>0</td>\n",
       "      <td>0</td>\n",
       "      <td>1</td>\n",
       "      <td>0</td>\n",
       "      <td>0</td>\n",
       "      <td>0</td>\n",
       "      <td>0</td>\n",
       "      <td>0</td>\n",
       "      <td>0</td>\n",
       "      <td>0</td>\n",
       "      <td>1</td>\n",
       "      <td>0</td>\n",
       "      <td>0</td>\n",
       "      <td>17.85</td>\n",
       "    </tr>\n",
       "    <tr>\n",
       "      <th>3</th>\n",
       "      <td>GYK0lqgy8KZiWvwEAAAAH</td>\n",
       "      <td>Shiva Baby</td>\n",
       "      <td>Bronze</td>\n",
       "      <td>Comedy</td>\n",
       "      <td>tt11317142</td>\n",
       "      <td>2020-03-15</td>\n",
       "      <td>2021-07-08</td>\n",
       "      <td>66</td>\n",
       "      <td>0.01</td>\n",
       "      <td>66</td>\n",
       "      <td>307494</td>\n",
       "      <td>1415</td>\n",
       "      <td>7,160.00</td>\n",
       "      <td>nan</td>\n",
       "      <td>0</td>\n",
       "      <td>1</td>\n",
       "      <td>0</td>\n",
       "      <td>0</td>\n",
       "      <td>0</td>\n",
       "      <td>0</td>\n",
       "      <td>0</td>\n",
       "      <td>0</td>\n",
       "      <td>1</td>\n",
       "      <td>0</td>\n",
       "      <td>0</td>\n",
       "      <td>0</td>\n",
       "      <td>3</td>\n",
       "      <td>10.47</td>\n",
       "    </tr>\n",
       "    <tr>\n",
       "      <th>4</th>\n",
       "      <td>GYbzvWABDj8LDwgEAAAAp</td>\n",
       "      <td>The Last Duel</td>\n",
       "      <td>Gold</td>\n",
       "      <td>Drama</td>\n",
       "      <td>tt4244994</td>\n",
       "      <td>2021-10-15</td>\n",
       "      <td>2022-01-14</td>\n",
       "      <td>91</td>\n",
       "      <td>0.16</td>\n",
       "      <td>-513</td>\n",
       "      <td>5012315</td>\n",
       "      <td>33314</td>\n",
       "      <td>4,759,151.00</td>\n",
       "      <td>100,000,000.00</td>\n",
       "      <td>0</td>\n",
       "      <td>0</td>\n",
       "      <td>1</td>\n",
       "      <td>0</td>\n",
       "      <td>0</td>\n",
       "      <td>0</td>\n",
       "      <td>0</td>\n",
       "      <td>0</td>\n",
       "      <td>0</td>\n",
       "      <td>1</td>\n",
       "      <td>0</td>\n",
       "      <td>0</td>\n",
       "      <td>1</td>\n",
       "      <td>15.02</td>\n",
       "    </tr>\n",
       "  </tbody>\n",
       "</table>\n",
       "</div>"
      ],
      "text/plain": [
       "                title_id              title home_territory_observed_medal  \\\n",
       "0  GYPXEhQg3DFbCwwEAAADm  News of the World                        Silver   \n",
       "1  GXpTQtgV6ax-auwEAABc3      The Good Liar                        Bronze   \n",
       "2  GYXB0OgEQO5OhegEAAAAl       King Richard                      Platinum   \n",
       "3  GYK0lqgy8KZiWvwEAAAAH         Shiva Baby                        Bronze   \n",
       "4  GYbzvWABDj8LDwgEAAAAp      The Last Duel                          Gold   \n",
       "\n",
       "       pillar_genres     imdb_id theatrical_release_date offering_start_date  \\\n",
       "0  Action/Adventure    tt6878306              2020-12-25          2021-09-05   \n",
       "1              Drama   tt5563334              2019-11-15          2020-06-14   \n",
       "2              Drama   tt9620288              2021-11-19          2021-11-19   \n",
       "3             Comedy  tt11317142              2020-03-15          2021-07-08   \n",
       "4              Drama   tt4244994              2021-10-15          2022-01-14   \n",
       "\n",
       "   days_from_theatrical2  pct_actives  days_from_max_launch  \\\n",
       "0                    250         0.09                  -219   \n",
       "1                    187         0.02                   187   \n",
       "2                      0         0.24                  -548   \n",
       "3                     66         0.01                    66   \n",
       "4                     91         0.16                  -513   \n",
       "\n",
       "   cumulative_viewing_subs  cumulative_first_views   area_gross  \\\n",
       "0                  2557041                   25362 2,250,430.00   \n",
       "1                   186115                   10519 5,605,051.00   \n",
       "2                  7612114                  236213 5,406,033.00   \n",
       "3                   307494                    1415     7,160.00   \n",
       "4                  5012315                   33314 4,759,151.00   \n",
       "\n",
       "          budget  genre_Action/Adventure   genre_Comedy  genre_Drama  \\\n",
       "0  38,000,000.00                        1             0            0   \n",
       "1  10,000,000.00                        0             0            1   \n",
       "2  50,000,000.00                        0             0            1   \n",
       "3            nan                        0             1            0   \n",
       "4 100,000,000.00                        0             0            1   \n",
       "\n",
       "   genre_Horror   genre_Kids/Family  genre_Romance  genre_Sci-Fi  \\\n",
       "0              0                  0              0             0   \n",
       "1              0                  0              0             0   \n",
       "2              0                  0              0             0   \n",
       "3              0                  0              0             0   \n",
       "4              0                  0              0             0   \n",
       "\n",
       "   genre_Suspense/Thriller  medal_Bronze  medal_Gold  medal_Platinum  \\\n",
       "0                        0             0           0               0   \n",
       "1                        0             1           0               0   \n",
       "2                        0             0           0               1   \n",
       "3                        0             1           0               0   \n",
       "4                        0             0           1               0   \n",
       "\n",
       "   medal_Silver  medal_number  log_cumulative_first_views  \n",
       "0             1             2                       14.63  \n",
       "1             0             3                       13.36  \n",
       "2             0             0                       17.85  \n",
       "3             0             3                       10.47  \n",
       "4             0             1                       15.02  "
      ]
     },
     "execution_count": 32,
     "metadata": {},
     "output_type": "execute_result"
    }
   ],
   "source": [
    "data.head()"
   ]
  },
  {
   "cell_type": "code",
   "execution_count": 33,
   "id": "2024a364",
   "metadata": {},
   "outputs": [],
   "source": [
    "FEATURE_COLS = ['days_from_theatrical2', 'area_gross', 'budget', 'genre_Action/Adventure ', 'genre_Comedy', 'genre_Drama', 'genre_Horror ', \n",
    "                'genre_Kids/Family', 'genre_Romance', 'genre_Sci-Fi', 'genre_Suspense/Thriller', 'medal_number', 'medal_Bronze', \n",
    "                'medal_Gold', 'medal_Platinum', 'medal_Silver']"
   ]
  },
  {
   "cell_type": "code",
   "execution_count": 34,
   "id": "6ebc94c2",
   "metadata": {},
   "outputs": [],
   "source": [
    "TARGET_COL = ['cumulative_viewing_subs'] # cumulative_first_views"
   ]
  },
  {
   "cell_type": "code",
   "execution_count": 35,
   "id": "5fbd1e97",
   "metadata": {},
   "outputs": [
    {
     "data": {
      "text/html": [
       "<div>\n",
       "<style scoped>\n",
       "    .dataframe tbody tr th:only-of-type {\n",
       "        vertical-align: middle;\n",
       "    }\n",
       "\n",
       "    .dataframe tbody tr th {\n",
       "        vertical-align: top;\n",
       "    }\n",
       "\n",
       "    .dataframe thead th {\n",
       "        text-align: right;\n",
       "    }\n",
       "</style>\n",
       "<table border=\"1\" class=\"dataframe\">\n",
       "  <thead>\n",
       "    <tr style=\"text-align: right;\">\n",
       "      <th></th>\n",
       "      <th>cumulative_viewing_subs</th>\n",
       "    </tr>\n",
       "  </thead>\n",
       "  <tbody>\n",
       "    <tr>\n",
       "      <th>dummy_value</th>\n",
       "      <td>-1.00</td>\n",
       "    </tr>\n",
       "    <tr>\n",
       "      <th>medal_number</th>\n",
       "      <td>-0.83</td>\n",
       "    </tr>\n",
       "    <tr>\n",
       "      <th>medal_Bronze</th>\n",
       "      <td>-0.51</td>\n",
       "    </tr>\n",
       "    <tr>\n",
       "      <th>days_from_theatrical2</th>\n",
       "      <td>-0.47</td>\n",
       "    </tr>\n",
       "    <tr>\n",
       "      <th>medal_Silver</th>\n",
       "      <td>-0.27</td>\n",
       "    </tr>\n",
       "    <tr>\n",
       "      <th>genre_Drama</th>\n",
       "      <td>-0.27</td>\n",
       "    </tr>\n",
       "    <tr>\n",
       "      <th>genre_Romance</th>\n",
       "      <td>-0.14</td>\n",
       "    </tr>\n",
       "    <tr>\n",
       "      <th>genre_Comedy</th>\n",
       "      <td>-0.12</td>\n",
       "    </tr>\n",
       "    <tr>\n",
       "      <th>genre_Sci-Fi</th>\n",
       "      <td>-0.10</td>\n",
       "    </tr>\n",
       "    <tr>\n",
       "      <th>genre_Horror</th>\n",
       "      <td>-0.09</td>\n",
       "    </tr>\n",
       "    <tr>\n",
       "      <th>genre_Suspense/Thriller</th>\n",
       "      <td>0.02</td>\n",
       "    </tr>\n",
       "    <tr>\n",
       "      <th>genre_Kids/Family</th>\n",
       "      <td>0.11</td>\n",
       "    </tr>\n",
       "    <tr>\n",
       "      <th>medal_Gold</th>\n",
       "      <td>0.11</td>\n",
       "    </tr>\n",
       "    <tr>\n",
       "      <th>genre_Action/Adventure</th>\n",
       "      <td>0.49</td>\n",
       "    </tr>\n",
       "    <tr>\n",
       "      <th>area_gross</th>\n",
       "      <td>0.50</td>\n",
       "    </tr>\n",
       "    <tr>\n",
       "      <th>budget</th>\n",
       "      <td>0.61</td>\n",
       "    </tr>\n",
       "    <tr>\n",
       "      <th>medal_Platinum</th>\n",
       "      <td>0.80</td>\n",
       "    </tr>\n",
       "    <tr>\n",
       "      <th>cumulative_viewing_subs</th>\n",
       "      <td>1.00</td>\n",
       "    </tr>\n",
       "  </tbody>\n",
       "</table>\n",
       "</div>"
      ],
      "text/plain": [
       "                         cumulative_viewing_subs\n",
       "dummy_value                                -1.00\n",
       "medal_number                               -0.83\n",
       "medal_Bronze                               -0.51\n",
       "days_from_theatrical2                      -0.47\n",
       "medal_Silver                               -0.27\n",
       "genre_Drama                                -0.27\n",
       "genre_Romance                              -0.14\n",
       "genre_Comedy                               -0.12\n",
       "genre_Sci-Fi                               -0.10\n",
       "genre_Horror                               -0.09\n",
       "genre_Suspense/Thriller                     0.02\n",
       "genre_Kids/Family                           0.11\n",
       "medal_Gold                                  0.11\n",
       "genre_Action/Adventure                      0.49\n",
       "area_gross                                  0.50\n",
       "budget                                      0.61\n",
       "medal_Platinum                              0.80\n",
       "cumulative_viewing_subs                     1.00"
      ]
     },
     "execution_count": 35,
     "metadata": {},
     "output_type": "execute_result"
    }
   ],
   "source": [
    "plot_data=data[FEATURE_COLS+TARGET_COL]\n",
    "corr = plot_data.corr()[TARGET_COL]\n",
    "mask=np.zeros_like(corr, dtype=np.bool)\n",
    "corr.loc['dummy_value'] = -1\n",
    "corr.sort_values(by = TARGET_COL)"
   ]
  },
  {
   "cell_type": "code",
   "execution_count": 36,
   "id": "6c9135de",
   "metadata": {},
   "outputs": [
    {
     "data": {
      "text/plain": [
       "<AxesSubplot:>"
      ]
     },
     "execution_count": 36,
     "metadata": {},
     "output_type": "execute_result"
    },
    {
     "data": {
      "image/png": "[encoded data removed]",
      "text/plain": [
       "<Figure size 720x576 with 2 Axes>"
      ]
     },
     "metadata": {
      "needs_background": "light"
     },
     "output_type": "display_data"
    }
   ],
   "source": [
    "f, ax = plt.subplots(figsize=(10, 8))\n",
    "sns.heatmap(corr, mask=np.zeros_like(corr, dtype=np.bool), cmap=sns.diverging_palette(220, 10, as_cmap=True),\n",
    "            square=True, ax=ax)"
   ]
  },
  {
   "cell_type": "code",
   "execution_count": 37,
   "id": "8b1c72a3",
   "metadata": {},
   "outputs": [],
   "source": [
    "TARGET_COL = ['log_cumulative_first_views']"
   ]
  },
  {
   "cell_type": "code",
   "execution_count": 38,
   "id": "718d0212",
   "metadata": {},
   "outputs": [],
   "source": [
    "plot_data=data[FEATURE_COLS+TARGET_COL]\n",
    "corr = plot_data.corr()[TARGET_COL]\n",
    "mask=np.zeros_like(corr, dtype=np.bool)\n",
    "corr.loc['dummy_value'] = -1\n",
    "# corr.sort_values(by = TARGET_COL)"
   ]
  },
  {
   "cell_type": "code",
   "execution_count": 39,
   "id": "9dbc77a6",
   "metadata": {},
   "outputs": [
    {
     "data": {
      "text/plain": [
       "<AxesSubplot:>"
      ]
     },
     "execution_count": 39,
     "metadata": {},
     "output_type": "execute_result"
    },
    {
     "data": {
      "image/png": "[encoded data removed]",
      "text/plain": [
       "<Figure size 720x576 with 2 Axes>"
      ]
     },
     "metadata": {
      "needs_background": "light"
     },
     "output_type": "display_data"
    }
   ],
   "source": [
    "f, ax = plt.subplots(figsize=(10, 8))\n",
    "sns.heatmap(corr, mask=np.zeros_like(corr, dtype=np.bool), cmap=sns.diverging_palette(220, 10, as_cmap=True),\n",
    "            square=True, ax=ax)"
   ]
  },
  {
   "cell_type": "code",
   "execution_count": 27,
   "id": "c7b38067",
   "metadata": {},
   "outputs": [],
   "source": [
    "TARGET_COL = ['cumulative_first_views'] # cumulative_first_views"
   ]
  },
  {
   "cell_type": "code",
   "execution_count": 28,
   "id": "d195deb9",
   "metadata": {},
   "outputs": [
    {
     "data": {
      "text/html": [
       "<div>\n",
       "<style scoped>\n",
       "    .dataframe tbody tr th:only-of-type {\n",
       "        vertical-align: middle;\n",
       "    }\n",
       "\n",
       "    .dataframe tbody tr th {\n",
       "        vertical-align: top;\n",
       "    }\n",
       "\n",
       "    .dataframe thead th {\n",
       "        text-align: right;\n",
       "    }\n",
       "</style>\n",
       "<table border=\"1\" class=\"dataframe\">\n",
       "  <thead>\n",
       "    <tr style=\"text-align: right;\">\n",
       "      <th></th>\n",
       "      <th>cumulative_first_views</th>\n",
       "    </tr>\n",
       "  </thead>\n",
       "  <tbody>\n",
       "    <tr>\n",
       "      <th>dummy_value</th>\n",
       "      <td>-1.00</td>\n",
       "    </tr>\n",
       "    <tr>\n",
       "      <th>days_from_theatrical2</th>\n",
       "      <td>-0.38</td>\n",
       "    </tr>\n",
       "    <tr>\n",
       "      <th>medal_number</th>\n",
       "      <td>-0.25</td>\n",
       "    </tr>\n",
       "    <tr>\n",
       "      <th>medal_Bronze</th>\n",
       "      <td>-0.20</td>\n",
       "    </tr>\n",
       "    <tr>\n",
       "      <th>genre_Drama</th>\n",
       "      <td>-0.14</td>\n",
       "    </tr>\n",
       "    <tr>\n",
       "      <th>genre_Comedy</th>\n",
       "      <td>-0.13</td>\n",
       "    </tr>\n",
       "    <tr>\n",
       "      <th>genre_Horror</th>\n",
       "      <td>-0.09</td>\n",
       "    </tr>\n",
       "    <tr>\n",
       "      <th>genre_Suspense/Thriller</th>\n",
       "      <td>-0.07</td>\n",
       "    </tr>\n",
       "    <tr>\n",
       "      <th>medal_Silver</th>\n",
       "      <td>-0.06</td>\n",
       "    </tr>\n",
       "    <tr>\n",
       "      <th>genre_Romance</th>\n",
       "      <td>-0.06</td>\n",
       "    </tr>\n",
       "    <tr>\n",
       "      <th>genre_Sci-Fi</th>\n",
       "      <td>-0.04</td>\n",
       "    </tr>\n",
       "    <tr>\n",
       "      <th>medal_Platinum</th>\n",
       "      <td>0.03</td>\n",
       "    </tr>\n",
       "    <tr>\n",
       "      <th>genre_Kids/Family</th>\n",
       "      <td>0.09</td>\n",
       "    </tr>\n",
       "    <tr>\n",
       "      <th>medal_Gold</th>\n",
       "      <td>0.28</td>\n",
       "    </tr>\n",
       "    <tr>\n",
       "      <th>genre_Action/Adventure</th>\n",
       "      <td>0.36</td>\n",
       "    </tr>\n",
       "    <tr>\n",
       "      <th>cumulative_first_views</th>\n",
       "      <td>1.00</td>\n",
       "    </tr>\n",
       "  </tbody>\n",
       "</table>\n",
       "</div>"
      ],
      "text/plain": [
       "                         cumulative_first_views\n",
       "dummy_value                               -1.00\n",
       "days_from_theatrical2                     -0.38\n",
       "medal_number                              -0.25\n",
       "medal_Bronze                              -0.20\n",
       "genre_Drama                               -0.14\n",
       "genre_Comedy                              -0.13\n",
       "genre_Horror                              -0.09\n",
       "genre_Suspense/Thriller                   -0.07\n",
       "medal_Silver                              -0.06\n",
       "genre_Romance                             -0.06\n",
       "genre_Sci-Fi                              -0.04\n",
       "medal_Platinum                             0.03\n",
       "genre_Kids/Family                          0.09\n",
       "medal_Gold                                 0.28\n",
       "genre_Action/Adventure                     0.36\n",
       "cumulative_first_views                     1.00"
      ]
     },
     "execution_count": 28,
     "metadata": {},
     "output_type": "execute_result"
    }
   ],
   "source": [
    "plot_data=data[FEATURE_COLS+TARGET_COL]\n",
    "corr = plot_data.corr()[TARGET_COL]\n",
    "mask=np.zeros_like(corr, dtype=np.bool)\n",
    "corr.loc['dummy_value'] = -1\n",
    "corr.sort_values(by = TARGET_COL)"
   ]
  },
  {
   "cell_type": "code",
   "execution_count": 29,
   "id": "c4c1494c",
   "metadata": {},
   "outputs": [
    {
     "data": {
      "text/plain": [
       "<AxesSubplot:>"
      ]
     },
     "execution_count": 29,
     "metadata": {},
     "output_type": "execute_result"
    },
    {
     "data": {
      "image/png": "[encoded data removed]",
      "text/plain": [
       "<Figure size 720x576 with 2 Axes>"
      ]
     },
     "metadata": {
      "needs_background": "light"
     },
     "output_type": "display_data"
    }
   ],
   "source": [
    "f, ax = plt.subplots(figsize=(10, 8))\n",
    "sns.heatmap(corr, mask=np.zeros_like(corr, dtype=np.bool), cmap=sns.diverging_palette(220, 10, as_cmap=True),\n",
    "            square=True, ax=ax)"
   ]
  },
  {
   "cell_type": "markdown",
   "id": "a9c7cc38",
   "metadata": {},
   "source": [
    "## Only movies after launch"
   ]
  },
  {
   "cell_type": "code",
   "execution_count": 51,
   "id": "5e34e486",
   "metadata": {},
   "outputs": [],
   "source": [
    "data = movie_hbo[movie_hbo['days_from_max_launch'] < 0].copy()"
   ]
  },
  {
   "cell_type": "code",
   "execution_count": 52,
   "id": "914cbc7c",
   "metadata": {},
   "outputs": [],
   "source": [
    "data['pct_actives'] = data['pct_actives'].astype(float)"
   ]
  },
  {
   "cell_type": "code",
   "execution_count": 53,
   "id": "799059a0",
   "metadata": {},
   "outputs": [
    {
     "data": {
      "text/plain": [
       "72"
      ]
     },
     "execution_count": 53,
     "metadata": {},
     "output_type": "execute_result"
    }
   ],
   "source": [
    "data.title_id.count()"
   ]
  },
  {
   "cell_type": "code",
   "execution_count": 54,
   "id": "ccaa22ac",
   "metadata": {},
   "outputs": [],
   "source": [
    "TARGET_COL = ['cumulative_viewing_subs'] # cumulative_first_views"
   ]
  },
  {
   "cell_type": "code",
   "execution_count": 55,
   "id": "80811df4",
   "metadata": {},
   "outputs": [
    {
     "data": {
      "text/html": [
       "<div>\n",
       "<style scoped>\n",
       "    .dataframe tbody tr th:only-of-type {\n",
       "        vertical-align: middle;\n",
       "    }\n",
       "\n",
       "    .dataframe tbody tr th {\n",
       "        vertical-align: top;\n",
       "    }\n",
       "\n",
       "    .dataframe thead th {\n",
       "        text-align: right;\n",
       "    }\n",
       "</style>\n",
       "<table border=\"1\" class=\"dataframe\">\n",
       "  <thead>\n",
       "    <tr style=\"text-align: right;\">\n",
       "      <th></th>\n",
       "      <th>cumulative_viewing_subs</th>\n",
       "    </tr>\n",
       "  </thead>\n",
       "  <tbody>\n",
       "    <tr>\n",
       "      <th>dummy_value</th>\n",
       "      <td>-1.00</td>\n",
       "    </tr>\n",
       "    <tr>\n",
       "      <th>medal_number</th>\n",
       "      <td>-0.55</td>\n",
       "    </tr>\n",
       "    <tr>\n",
       "      <th>days_from_theatrical2</th>\n",
       "      <td>-0.54</td>\n",
       "    </tr>\n",
       "    <tr>\n",
       "      <th>medal_Bronze</th>\n",
       "      <td>-0.38</td>\n",
       "    </tr>\n",
       "    <tr>\n",
       "      <th>genre_Drama</th>\n",
       "      <td>-0.27</td>\n",
       "    </tr>\n",
       "    <tr>\n",
       "      <th>genre_Comedy</th>\n",
       "      <td>-0.19</td>\n",
       "    </tr>\n",
       "    <tr>\n",
       "      <th>medal_Silver</th>\n",
       "      <td>-0.19</td>\n",
       "    </tr>\n",
       "    <tr>\n",
       "      <th>genre_Horror</th>\n",
       "      <td>-0.13</td>\n",
       "    </tr>\n",
       "    <tr>\n",
       "      <th>genre_Sci-Fi</th>\n",
       "      <td>-0.11</td>\n",
       "    </tr>\n",
       "    <tr>\n",
       "      <th>genre_Suspense/Thriller</th>\n",
       "      <td>-0.08</td>\n",
       "    </tr>\n",
       "    <tr>\n",
       "      <th>genre_Kids/Family</th>\n",
       "      <td>0.11</td>\n",
       "    </tr>\n",
       "    <tr>\n",
       "      <th>medal_Gold</th>\n",
       "      <td>0.34</td>\n",
       "    </tr>\n",
       "    <tr>\n",
       "      <th>medal_Platinum</th>\n",
       "      <td>0.36</td>\n",
       "    </tr>\n",
       "    <tr>\n",
       "      <th>genre_Action/Adventure</th>\n",
       "      <td>0.57</td>\n",
       "    </tr>\n",
       "    <tr>\n",
       "      <th>cumulative_viewing_subs</th>\n",
       "      <td>1.00</td>\n",
       "    </tr>\n",
       "    <tr>\n",
       "      <th>genre_Romance</th>\n",
       "      <td>nan</td>\n",
       "    </tr>\n",
       "  </tbody>\n",
       "</table>\n",
       "</div>"
      ],
      "text/plain": [
       "                         cumulative_viewing_subs\n",
       "dummy_value                                -1.00\n",
       "medal_number                               -0.55\n",
       "days_from_theatrical2                      -0.54\n",
       "medal_Bronze                               -0.38\n",
       "genre_Drama                                -0.27\n",
       "genre_Comedy                               -0.19\n",
       "medal_Silver                               -0.19\n",
       "genre_Horror                               -0.13\n",
       "genre_Sci-Fi                               -0.11\n",
       "genre_Suspense/Thriller                    -0.08\n",
       "genre_Kids/Family                           0.11\n",
       "medal_Gold                                  0.34\n",
       "medal_Platinum                              0.36\n",
       "genre_Action/Adventure                      0.57\n",
       "cumulative_viewing_subs                     1.00\n",
       "genre_Romance                                nan"
      ]
     },
     "execution_count": 55,
     "metadata": {},
     "output_type": "execute_result"
    }
   ],
   "source": [
    "plot_data=data[FEATURE_COLS+TARGET_COL]\n",
    "corr = plot_data.corr()[TARGET_COL]\n",
    "mask=np.zeros_like(corr, dtype=np.bool)\n",
    "corr.loc['dummy_value'] = -1\n",
    "corr.sort_values(by = TARGET_COL)"
   ]
  },
  {
   "cell_type": "code",
   "execution_count": 56,
   "id": "cdf5d3ca",
   "metadata": {},
   "outputs": [
    {
     "data": {
      "text/plain": [
       "<AxesSubplot:>"
      ]
     },
     "execution_count": 56,
     "metadata": {},
     "output_type": "execute_result"
    },
    {
     "data": {
      "image/png": "[encoded data removed]",
      "text/plain": [
       "<Figure size 720x576 with 2 Axes>"
      ]
     },
     "metadata": {
      "needs_background": "light"
     },
     "output_type": "display_data"
    }
   ],
   "source": [
    "f, ax = plt.subplots(figsize=(10, 8))\n",
    "sns.heatmap(corr, mask=np.zeros_like(corr, dtype=np.bool), cmap=sns.diverging_palette(220, 10, as_cmap=True),\n",
    "            square=True, ax=ax)"
   ]
  },
  {
   "cell_type": "code",
   "execution_count": 128,
   "id": "78098f0b",
   "metadata": {},
   "outputs": [],
   "source": [
    "TARGET_COL = ['log_cumulative_first_views']"
   ]
  },
  {
   "cell_type": "code",
   "execution_count": 129,
   "id": "f986a767",
   "metadata": {},
   "outputs": [],
   "source": [
    "plot_data=data[FEATURE_COLS+TARGET_COL]\n",
    "corr = plot_data.corr()[TARGET_COL]\n",
    "mask=np.zeros_like(corr, dtype=np.bool)\n",
    "corr.loc['dummy_value'] = -1\n",
    "# corr.sort_values(by = TARGET_COL)"
   ]
  },
  {
   "cell_type": "code",
   "execution_count": 130,
   "id": "a54d852c",
   "metadata": {},
   "outputs": [
    {
     "data": {
      "text/plain": [
       "<AxesSubplot:>"
      ]
     },
     "execution_count": 130,
     "metadata": {},
     "output_type": "execute_result"
    },
    {
     "data": {
      "image/png": "[encoded data removed]",
      "text/plain": [
       "<Figure size 720x576 with 2 Axes>"
      ]
     },
     "metadata": {
      "needs_background": "light"
     },
     "output_type": "display_data"
    }
   ],
   "source": [
    "f, ax = plt.subplots(figsize=(10, 8))\n",
    "sns.heatmap(corr, mask=np.zeros_like(corr, dtype=np.bool), cmap=sns.diverging_palette(220, 10, as_cmap=True),\n",
    "            square=True, ax=ax)"
   ]
  },
  {
   "cell_type": "code",
   "execution_count": 131,
   "id": "63f60a31",
   "metadata": {},
   "outputs": [],
   "source": [
    "TARGET_COL = ['cumulative_first_views'] # cumulative_first_views"
   ]
  },
  {
   "cell_type": "code",
   "execution_count": 132,
   "id": "a507f8a4",
   "metadata": {},
   "outputs": [
    {
     "data": {
      "text/html": [
       "<div>\n",
       "<style scoped>\n",
       "    .dataframe tbody tr th:only-of-type {\n",
       "        vertical-align: middle;\n",
       "    }\n",
       "\n",
       "    .dataframe tbody tr th {\n",
       "        vertical-align: top;\n",
       "    }\n",
       "\n",
       "    .dataframe thead th {\n",
       "        text-align: right;\n",
       "    }\n",
       "</style>\n",
       "<table border=\"1\" class=\"dataframe\">\n",
       "  <thead>\n",
       "    <tr style=\"text-align: right;\">\n",
       "      <th></th>\n",
       "      <th>cumulative_first_views</th>\n",
       "    </tr>\n",
       "  </thead>\n",
       "  <tbody>\n",
       "    <tr>\n",
       "      <th>dummy_value</th>\n",
       "      <td>-1.00</td>\n",
       "    </tr>\n",
       "    <tr>\n",
       "      <th>days_from_theatrical2</th>\n",
       "      <td>-0.38</td>\n",
       "    </tr>\n",
       "    <tr>\n",
       "      <th>medal_number</th>\n",
       "      <td>-0.25</td>\n",
       "    </tr>\n",
       "    <tr>\n",
       "      <th>medal_Bronze</th>\n",
       "      <td>-0.20</td>\n",
       "    </tr>\n",
       "    <tr>\n",
       "      <th>genre_Drama</th>\n",
       "      <td>-0.14</td>\n",
       "    </tr>\n",
       "    <tr>\n",
       "      <th>genre_Comedy</th>\n",
       "      <td>-0.13</td>\n",
       "    </tr>\n",
       "    <tr>\n",
       "      <th>genre_Horror</th>\n",
       "      <td>-0.09</td>\n",
       "    </tr>\n",
       "    <tr>\n",
       "      <th>genre_Suspense/Thriller</th>\n",
       "      <td>-0.07</td>\n",
       "    </tr>\n",
       "    <tr>\n",
       "      <th>medal_Silver</th>\n",
       "      <td>-0.06</td>\n",
       "    </tr>\n",
       "    <tr>\n",
       "      <th>genre_Romance</th>\n",
       "      <td>-0.06</td>\n",
       "    </tr>\n",
       "    <tr>\n",
       "      <th>genre_Sci-Fi</th>\n",
       "      <td>-0.04</td>\n",
       "    </tr>\n",
       "    <tr>\n",
       "      <th>medal_Platinum</th>\n",
       "      <td>0.03</td>\n",
       "    </tr>\n",
       "    <tr>\n",
       "      <th>genre_Kids/Family</th>\n",
       "      <td>0.09</td>\n",
       "    </tr>\n",
       "    <tr>\n",
       "      <th>medal_Gold</th>\n",
       "      <td>0.28</td>\n",
       "    </tr>\n",
       "    <tr>\n",
       "      <th>genre_Action/Adventure</th>\n",
       "      <td>0.36</td>\n",
       "    </tr>\n",
       "    <tr>\n",
       "      <th>cumulative_first_views</th>\n",
       "      <td>1.00</td>\n",
       "    </tr>\n",
       "  </tbody>\n",
       "</table>\n",
       "</div>"
      ],
      "text/plain": [
       "                         cumulative_first_views\n",
       "dummy_value                               -1.00\n",
       "days_from_theatrical2                     -0.38\n",
       "medal_number                              -0.25\n",
       "medal_Bronze                              -0.20\n",
       "genre_Drama                               -0.14\n",
       "genre_Comedy                              -0.13\n",
       "genre_Horror                              -0.09\n",
       "genre_Suspense/Thriller                   -0.07\n",
       "medal_Silver                              -0.06\n",
       "genre_Romance                             -0.06\n",
       "genre_Sci-Fi                              -0.04\n",
       "medal_Platinum                             0.03\n",
       "genre_Kids/Family                          0.09\n",
       "medal_Gold                                 0.28\n",
       "genre_Action/Adventure                     0.36\n",
       "cumulative_first_views                     1.00"
      ]
     },
     "execution_count": 132,
     "metadata": {},
     "output_type": "execute_result"
    }
   ],
   "source": [
    "plot_data=data[FEATURE_COLS+TARGET_COL]\n",
    "corr = plot_data.corr()[TARGET_COL]\n",
    "mask=np.zeros_like(corr, dtype=np.bool)\n",
    "corr.loc['dummy_value'] = -1\n",
    "corr.sort_values(by = TARGET_COL)"
   ]
  },
  {
   "cell_type": "code",
   "execution_count": 133,
   "id": "634b0996",
   "metadata": {},
   "outputs": [
    {
     "data": {
      "text/plain": [
       "<AxesSubplot:>"
      ]
     },
     "execution_count": 133,
     "metadata": {},
     "output_type": "execute_result"
    },
    {
     "data": {
      "image/png": "[encoded data removed]",
      "text/plain": [
       "<Figure size 720x576 with 2 Axes>"
      ]
     },
     "metadata": {
      "needs_background": "light"
     },
     "output_type": "display_data"
    }
   ],
   "source": [
    "f, ax = plt.subplots(figsize=(10, 8))\n",
    "sns.heatmap(corr, mask=np.zeros_like(corr, dtype=np.bool), cmap=sns.diverging_palette(220, 8, as_cmap=False),\n",
    "            square=True, ax=ax)"
   ]
  },
  {
   "cell_type": "markdown",
   "id": "ff55e247",
   "metadata": {},
   "source": [
    "# Other Platform"
   ]
  },
  {
   "cell_type": "code",
   "execution_count": 42,
   "id": "9a7841d3",
   "metadata": {},
   "outputs": [],
   "source": [
    "debut_data = pd.read_csv('Theatrical to Svod Debut.csv')"
   ]
  },
  {
   "cell_type": "code",
   "execution_count": 43,
   "id": "d9b738c5",
   "metadata": {},
   "outputs": [
    {
     "data": {
      "text/html": [
       "<div>\n",
       "<style scoped>\n",
       "    .dataframe tbody tr th:only-of-type {\n",
       "        vertical-align: middle;\n",
       "    }\n",
       "\n",
       "    .dataframe tbody tr th {\n",
       "        vertical-align: top;\n",
       "    }\n",
       "\n",
       "    .dataframe thead th {\n",
       "        text-align: right;\n",
       "    }\n",
       "</style>\n",
       "<table border=\"1\" class=\"dataframe\">\n",
       "  <thead>\n",
       "    <tr style=\"text-align: right;\">\n",
       "      <th></th>\n",
       "      <th>Title</th>\n",
       "      <th>SVoD Debut</th>\n",
       "      <th>SVoD Debut After</th>\n",
       "    </tr>\n",
       "  </thead>\n",
       "  <tbody>\n",
       "    <tr>\n",
       "      <th>0</th>\n",
       "      <td>20.000 especies de abejas / 20,000 Species of ...</td>\n",
       "      <td>Movistar+</td>\n",
       "      <td>-</td>\n",
       "    </tr>\n",
       "    <tr>\n",
       "      <th>1</th>\n",
       "      <td>80 for Brady</td>\n",
       "      <td>Paramount+</td>\n",
       "      <td>-</td>\n",
       "    </tr>\n",
       "    <tr>\n",
       "      <th>2</th>\n",
       "      <td>100 domeniche / 100 Sundays</td>\n",
       "      <td>NOW</td>\n",
       "      <td>-</td>\n",
       "    </tr>\n",
       "    <tr>\n",
       "      <th>3</th>\n",
       "      <td>A Boyfriend for My Wife / Un Novio para mi Mujer</td>\n",
       "      <td>Amazon</td>\n",
       "      <td>-</td>\n",
       "    </tr>\n",
       "    <tr>\n",
       "      <th>4</th>\n",
       "      <td>A Complete Unknown</td>\n",
       "      <td>Hulu</td>\n",
       "      <td>-</td>\n",
       "    </tr>\n",
       "  </tbody>\n",
       "</table>\n",
       "</div>"
      ],
      "text/plain": [
       "                                               Title  SVoD Debut  \\\n",
       "0  20.000 especies de abejas / 20,000 Species of ...   Movistar+   \n",
       "1                                       80 for Brady  Paramount+   \n",
       "2                        100 domeniche / 100 Sundays         NOW   \n",
       "3   A Boyfriend for My Wife / Un Novio para mi Mujer      Amazon   \n",
       "4                                 A Complete Unknown        Hulu   \n",
       "\n",
       "  SVoD Debut After  \n",
       "0                -  \n",
       "1                -  \n",
       "2                -  \n",
       "3                -  \n",
       "4                -  "
      ]
     },
     "execution_count": 43,
     "metadata": {},
     "output_type": "execute_result"
    }
   ],
   "source": [
    "debut_data.head()"
   ]
  },
  {
   "cell_type": "code",
   "execution_count": 44,
   "id": "a6dee596",
   "metadata": {},
   "outputs": [],
   "source": [
    "debut_data.rename(columns = {'SVoD Debut After':'days_from_theatrical', 'SVoD Debut':'platform'}, inplace = True)\n",
    "debut_data = debut_data[debut_data['days_from_theatrical'] != '-']\n",
    "debut_data['days_from_theatrical'] = debut_data['days_from_theatrical'].replace('Day-and-Date', '0')\n",
    "debut_data['days_from_theatrical'] = debut_data['days_from_theatrical'].str.replace(' days', '')\n",
    "debut_data['days_from_theatrical'] = debut_data['days_from_theatrical'].astype(int)"
   ]
  },
  {
   "cell_type": "code",
   "execution_count": 45,
   "id": "cff620f5",
   "metadata": {},
   "outputs": [],
   "source": [
    "debut_data_hbo = debut_data[debut_data['platform'].str.contains('HBO')]"
   ]
  },
  {
   "cell_type": "code",
   "execution_count": 46,
   "id": "a9b21cdb",
   "metadata": {},
   "outputs": [
    {
     "data": {
      "text/html": [
       "<div>\n",
       "<style scoped>\n",
       "    .dataframe tbody tr th:only-of-type {\n",
       "        vertical-align: middle;\n",
       "    }\n",
       "\n",
       "    .dataframe tbody tr th {\n",
       "        vertical-align: top;\n",
       "    }\n",
       "\n",
       "    .dataframe thead th {\n",
       "        text-align: right;\n",
       "    }\n",
       "</style>\n",
       "<table border=\"1\" class=\"dataframe\">\n",
       "  <thead>\n",
       "    <tr style=\"text-align: right;\">\n",
       "      <th></th>\n",
       "      <th>Title</th>\n",
       "      <th>platform</th>\n",
       "      <th>days_from_theatrical</th>\n",
       "    </tr>\n",
       "  </thead>\n",
       "  <tbody>\n",
       "    <tr>\n",
       "      <th>483</th>\n",
       "      <td>Tom &amp; Jerry / Tom &amp; Jerry: The Movie</td>\n",
       "      <td>HBO Max</td>\n",
       "      <td>0</td>\n",
       "    </tr>\n",
       "    <tr>\n",
       "      <th>497</th>\n",
       "      <td>Un crimen argentino / An Argentine Crime</td>\n",
       "      <td>HBO Max</td>\n",
       "      <td>50</td>\n",
       "    </tr>\n",
       "    <tr>\n",
       "      <th>543</th>\n",
       "      <td>West Side Story</td>\n",
       "      <td>Disney+, HBO Max</td>\n",
       "      <td>90</td>\n",
       "    </tr>\n",
       "    <tr>\n",
       "      <th>545</th>\n",
       "      <td>What Went Wrong? / ¿Qué hicimos mal?</td>\n",
       "      <td>HBO Max</td>\n",
       "      <td>130</td>\n",
       "    </tr>\n",
       "    <tr>\n",
       "      <th>555</th>\n",
       "      <td>Wonka</td>\n",
       "      <td>HBO Max</td>\n",
       "      <td>45</td>\n",
       "    </tr>\n",
       "  </tbody>\n",
       "</table>\n",
       "</div>"
      ],
      "text/plain": [
       "                                        Title          platform  \\\n",
       "483      Tom & Jerry / Tom & Jerry: The Movie           HBO Max   \n",
       "497  Un crimen argentino / An Argentine Crime           HBO Max   \n",
       "543                           West Side Story  Disney+, HBO Max   \n",
       "545      What Went Wrong? / ¿Qué hicimos mal?           HBO Max   \n",
       "555                                     Wonka           HBO Max   \n",
       "\n",
       "     days_from_theatrical  \n",
       "483                     0  \n",
       "497                    50  \n",
       "543                    90  \n",
       "545                   130  \n",
       "555                    45  "
      ]
     },
     "execution_count": 46,
     "metadata": {},
     "output_type": "execute_result"
    }
   ],
   "source": [
    "debut_data_hbo.tail()"
   ]
  },
  {
   "cell_type": "code",
   "execution_count": 47,
   "id": "7b09a96a",
   "metadata": {},
   "outputs": [],
   "source": [
    "df2 = debut_data_hbo.platform.str.split(',').apply(pd.Series)\n",
    "df2.index = debut_data_hbo.set_index(['Title', 'days_from_theatrical']).index\n",
    "debut_data_hbo = df2.stack().reset_index(['Title', 'days_from_theatrical'])\n",
    "debut_data_hbo.rename(columns = {0:'platform'}, inplace = True)"
   ]
  },
  {
   "cell_type": "code",
   "execution_count": 48,
   "id": "4ff6881c",
   "metadata": {},
   "outputs": [],
   "source": [
    "df2 = debut_data_hbo.Title.str.split('/').apply(pd.Series)\n",
    "df2.index = debut_data_hbo.set_index(['platform', 'days_from_theatrical']).index\n",
    "debut_data_hbo = df2.stack().reset_index(['platform', 'days_from_theatrical'])\n",
    "debut_data_hbo.rename(columns = {0:'title'}, inplace = True)"
   ]
  },
  {
   "cell_type": "code",
   "execution_count": 49,
   "id": "88542d99",
   "metadata": {},
   "outputs": [],
   "source": [
    "debut_data_hbo['title'] = debut_data_hbo['title'].str.strip(' ')\n",
    "debut_data_hbo['title'] = debut_data_hbo['title'].replace('West Side Story', 'West Side Story (2021)')"
   ]
  },
  {
   "cell_type": "code",
   "execution_count": 50,
   "id": "7b326c65",
   "metadata": {},
   "outputs": [],
   "source": [
    "platform_count = debut_data_hbo.groupby(['title']).count()['platform'].reset_index()"
   ]
  },
  {
   "cell_type": "code",
   "execution_count": 51,
   "id": "de2ae063",
   "metadata": {},
   "outputs": [],
   "source": [
    "movie_hbo_platform = movie_hbo.merge(platform_count, on = ['title'], how = 'left')"
   ]
  },
  {
   "cell_type": "code",
   "execution_count": 52,
   "id": "a7ab536b",
   "metadata": {},
   "outputs": [
    {
     "data": {
      "text/plain": [
       "title      0.00\n",
       "imdb_id    0.00\n",
       "platform   0.36\n",
       "budget     0.16\n",
       "dtype: float64"
      ]
     },
     "execution_count": 52,
     "metadata": {},
     "output_type": "execute_result"
    }
   ],
   "source": [
    "movie_hbo_platform[['title', 'imdb_id', 'platform', 'budget']].isnull().sum()/len(launch_date)"
   ]
  },
  {
   "cell_type": "code",
   "execution_count": 53,
   "id": "079a4804",
   "metadata": {},
   "outputs": [],
   "source": [
    "movie_hbo_platform['platform'] =movie_hbo_platform['platform'].fillna(1)"
   ]
  },
  {
   "cell_type": "code",
   "execution_count": 54,
   "id": "c43dae8b",
   "metadata": {},
   "outputs": [],
   "source": [
    "data = movie_hbo_platform.copy()"
   ]
  },
  {
   "cell_type": "code",
   "execution_count": 55,
   "id": "53f6a5e9",
   "metadata": {},
   "outputs": [],
   "source": [
    "data['pct_actives'] = data['pct_actives'].astype(float)"
   ]
  },
  {
   "cell_type": "code",
   "execution_count": 56,
   "id": "26677336",
   "metadata": {},
   "outputs": [],
   "source": [
    "FEATURE_COLS = ['days_from_theatrical2', 'area_gross', 'budget', 'genre_Action/Adventure ', 'genre_Comedy', 'genre_Drama', 'genre_Horror ', \n",
    "                'genre_Kids/Family', 'genre_Romance', 'genre_Sci-Fi', 'genre_Suspense/Thriller', 'medal_number', 'medal_Bronze', \n",
    "                'medal_Gold', 'medal_Platinum', 'medal_Silver', 'platform']"
   ]
  },
  {
   "cell_type": "code",
   "execution_count": 57,
   "id": "dcdd9b9e",
   "metadata": {},
   "outputs": [],
   "source": [
    "TARGET_COL = ['cumulative_viewing_subs'] # cumulative_first_views"
   ]
  },
  {
   "cell_type": "code",
   "execution_count": 58,
   "id": "7742df58",
   "metadata": {},
   "outputs": [
    {
     "data": {
      "text/html": [
       "<div>\n",
       "<style scoped>\n",
       "    .dataframe tbody tr th:only-of-type {\n",
       "        vertical-align: middle;\n",
       "    }\n",
       "\n",
       "    .dataframe tbody tr th {\n",
       "        vertical-align: top;\n",
       "    }\n",
       "\n",
       "    .dataframe thead th {\n",
       "        text-align: right;\n",
       "    }\n",
       "</style>\n",
       "<table border=\"1\" class=\"dataframe\">\n",
       "  <thead>\n",
       "    <tr style=\"text-align: right;\">\n",
       "      <th></th>\n",
       "      <th>cumulative_viewing_subs</th>\n",
       "    </tr>\n",
       "  </thead>\n",
       "  <tbody>\n",
       "    <tr>\n",
       "      <th>dummy_value</th>\n",
       "      <td>-1.00</td>\n",
       "    </tr>\n",
       "    <tr>\n",
       "      <th>medal_number</th>\n",
       "      <td>-0.83</td>\n",
       "    </tr>\n",
       "    <tr>\n",
       "      <th>medal_Bronze</th>\n",
       "      <td>-0.51</td>\n",
       "    </tr>\n",
       "    <tr>\n",
       "      <th>days_from_theatrical2</th>\n",
       "      <td>-0.47</td>\n",
       "    </tr>\n",
       "    <tr>\n",
       "      <th>medal_Silver</th>\n",
       "      <td>-0.27</td>\n",
       "    </tr>\n",
       "    <tr>\n",
       "      <th>genre_Drama</th>\n",
       "      <td>-0.27</td>\n",
       "    </tr>\n",
       "    <tr>\n",
       "      <th>genre_Romance</th>\n",
       "      <td>-0.14</td>\n",
       "    </tr>\n",
       "    <tr>\n",
       "      <th>genre_Comedy</th>\n",
       "      <td>-0.12</td>\n",
       "    </tr>\n",
       "    <tr>\n",
       "      <th>genre_Sci-Fi</th>\n",
       "      <td>-0.10</td>\n",
       "    </tr>\n",
       "    <tr>\n",
       "      <th>genre_Horror</th>\n",
       "      <td>-0.09</td>\n",
       "    </tr>\n",
       "    <tr>\n",
       "      <th>platform</th>\n",
       "      <td>-0.00</td>\n",
       "    </tr>\n",
       "    <tr>\n",
       "      <th>genre_Suspense/Thriller</th>\n",
       "      <td>0.02</td>\n",
       "    </tr>\n",
       "    <tr>\n",
       "      <th>genre_Kids/Family</th>\n",
       "      <td>0.11</td>\n",
       "    </tr>\n",
       "    <tr>\n",
       "      <th>medal_Gold</th>\n",
       "      <td>0.11</td>\n",
       "    </tr>\n",
       "    <tr>\n",
       "      <th>genre_Action/Adventure</th>\n",
       "      <td>0.49</td>\n",
       "    </tr>\n",
       "    <tr>\n",
       "      <th>area_gross</th>\n",
       "      <td>0.50</td>\n",
       "    </tr>\n",
       "    <tr>\n",
       "      <th>budget</th>\n",
       "      <td>0.61</td>\n",
       "    </tr>\n",
       "    <tr>\n",
       "      <th>medal_Platinum</th>\n",
       "      <td>0.80</td>\n",
       "    </tr>\n",
       "    <tr>\n",
       "      <th>cumulative_viewing_subs</th>\n",
       "      <td>1.00</td>\n",
       "    </tr>\n",
       "  </tbody>\n",
       "</table>\n",
       "</div>"
      ],
      "text/plain": [
       "                         cumulative_viewing_subs\n",
       "dummy_value                                -1.00\n",
       "medal_number                               -0.83\n",
       "medal_Bronze                               -0.51\n",
       "days_from_theatrical2                      -0.47\n",
       "medal_Silver                               -0.27\n",
       "genre_Drama                                -0.27\n",
       "genre_Romance                              -0.14\n",
       "genre_Comedy                               -0.12\n",
       "genre_Sci-Fi                               -0.10\n",
       "genre_Horror                               -0.09\n",
       "platform                                   -0.00\n",
       "genre_Suspense/Thriller                     0.02\n",
       "genre_Kids/Family                           0.11\n",
       "medal_Gold                                  0.11\n",
       "genre_Action/Adventure                      0.49\n",
       "area_gross                                  0.50\n",
       "budget                                      0.61\n",
       "medal_Platinum                              0.80\n",
       "cumulative_viewing_subs                     1.00"
      ]
     },
     "execution_count": 58,
     "metadata": {},
     "output_type": "execute_result"
    }
   ],
   "source": [
    "plot_data=data[FEATURE_COLS+TARGET_COL]\n",
    "corr = plot_data.corr()[TARGET_COL]\n",
    "mask=np.zeros_like(corr, dtype=np.bool)\n",
    "corr.loc['dummy_value'] = -1\n",
    "corr.sort_values(by = TARGET_COL)"
   ]
  },
  {
   "cell_type": "code",
   "execution_count": 143,
   "id": "d684f6d9",
   "metadata": {},
   "outputs": [
    {
     "data": {
      "text/plain": [
       "<AxesSubplot:>"
      ]
     },
     "execution_count": 143,
     "metadata": {},
     "output_type": "execute_result"
    },
    {
     "data": {
      "image/png": "[encoded data removed]",
      "text/plain": [
       "<Figure size 720x576 with 2 Axes>"
      ]
     },
     "metadata": {
      "needs_background": "light"
     },
     "output_type": "display_data"
    }
   ],
   "source": [
    "f, ax = plt.subplots(figsize=(10, 8))\n",
    "sns.heatmap(corr, mask=np.zeros_like(corr, dtype=np.bool), cmap=sns.diverging_palette(220, 10, as_cmap=True),\n",
    "            square=True, ax=ax)"
   ]
  },
  {
   "cell_type": "code",
   "execution_count": 150,
   "id": "0ee7e16f",
   "metadata": {},
   "outputs": [],
   "source": [
    "TARGET_COL = ['log_cumulative_first_views']"
   ]
  },
  {
   "cell_type": "code",
   "execution_count": 151,
   "id": "25abf9fb",
   "metadata": {},
   "outputs": [
    {
     "data": {
      "text/html": [
       "<div>\n",
       "<style scoped>\n",
       "    .dataframe tbody tr th:only-of-type {\n",
       "        vertical-align: middle;\n",
       "    }\n",
       "\n",
       "    .dataframe tbody tr th {\n",
       "        vertical-align: top;\n",
       "    }\n",
       "\n",
       "    .dataframe thead th {\n",
       "        text-align: right;\n",
       "    }\n",
       "</style>\n",
       "<table border=\"1\" class=\"dataframe\">\n",
       "  <thead>\n",
       "    <tr style=\"text-align: right;\">\n",
       "      <th></th>\n",
       "      <th>log_cumulative_first_views</th>\n",
       "    </tr>\n",
       "  </thead>\n",
       "  <tbody>\n",
       "    <tr>\n",
       "      <th>dummy_value</th>\n",
       "      <td>-1.00</td>\n",
       "    </tr>\n",
       "    <tr>\n",
       "      <th>medal_number</th>\n",
       "      <td>-0.53</td>\n",
       "    </tr>\n",
       "    <tr>\n",
       "      <th>days_from_theatrical2</th>\n",
       "      <td>-0.50</td>\n",
       "    </tr>\n",
       "    <tr>\n",
       "      <th>medal_Bronze</th>\n",
       "      <td>-0.47</td>\n",
       "    </tr>\n",
       "    <tr>\n",
       "      <th>genre_Drama</th>\n",
       "      <td>-0.29</td>\n",
       "    </tr>\n",
       "    <tr>\n",
       "      <th>genre_Comedy</th>\n",
       "      <td>-0.14</td>\n",
       "    </tr>\n",
       "    <tr>\n",
       "      <th>genre_Romance</th>\n",
       "      <td>-0.07</td>\n",
       "    </tr>\n",
       "    <tr>\n",
       "      <th>platform</th>\n",
       "      <td>-0.04</td>\n",
       "    </tr>\n",
       "    <tr>\n",
       "      <th>genre_Suspense/Thriller</th>\n",
       "      <td>-0.03</td>\n",
       "    </tr>\n",
       "    <tr>\n",
       "      <th>genre_Sci-Fi</th>\n",
       "      <td>-0.03</td>\n",
       "    </tr>\n",
       "    <tr>\n",
       "      <th>genre_Horror</th>\n",
       "      <td>0.01</td>\n",
       "    </tr>\n",
       "    <tr>\n",
       "      <th>medal_Silver</th>\n",
       "      <td>0.03</td>\n",
       "    </tr>\n",
       "    <tr>\n",
       "      <th>genre_Kids/Family</th>\n",
       "      <td>0.17</td>\n",
       "    </tr>\n",
       "    <tr>\n",
       "      <th>medal_Platinum</th>\n",
       "      <td>0.24</td>\n",
       "    </tr>\n",
       "    <tr>\n",
       "      <th>medal_Gold</th>\n",
       "      <td>0.36</td>\n",
       "    </tr>\n",
       "    <tr>\n",
       "      <th>genre_Action/Adventure</th>\n",
       "      <td>0.42</td>\n",
       "    </tr>\n",
       "    <tr>\n",
       "      <th>log_cumulative_first_views</th>\n",
       "      <td>1.00</td>\n",
       "    </tr>\n",
       "  </tbody>\n",
       "</table>\n",
       "</div>"
      ],
      "text/plain": [
       "                            log_cumulative_first_views\n",
       "dummy_value                                      -1.00\n",
       "medal_number                                     -0.53\n",
       "days_from_theatrical2                            -0.50\n",
       "medal_Bronze                                     -0.47\n",
       "genre_Drama                                      -0.29\n",
       "genre_Comedy                                     -0.14\n",
       "genre_Romance                                    -0.07\n",
       "platform                                         -0.04\n",
       "genre_Suspense/Thriller                          -0.03\n",
       "genre_Sci-Fi                                     -0.03\n",
       "genre_Horror                                      0.01\n",
       "medal_Silver                                      0.03\n",
       "genre_Kids/Family                                 0.17\n",
       "medal_Platinum                                    0.24\n",
       "medal_Gold                                        0.36\n",
       "genre_Action/Adventure                            0.42\n",
       "log_cumulative_first_views                        1.00"
      ]
     },
     "execution_count": 151,
     "metadata": {},
     "output_type": "execute_result"
    }
   ],
   "source": [
    "plot_data=data[FEATURE_COLS+TARGET_COL]\n",
    "corr = plot_data.corr()[TARGET_COL]\n",
    "mask=np.zeros_like(corr, dtype=np.bool)\n",
    "corr.loc['dummy_value'] = -1\n",
    "corr.sort_values(by = TARGET_COL)"
   ]
  },
  {
   "cell_type": "code",
   "execution_count": 152,
   "id": "255ca0b2",
   "metadata": {},
   "outputs": [
    {
     "data": {
      "text/plain": [
       "<AxesSubplot:>"
      ]
     },
     "execution_count": 152,
     "metadata": {},
     "output_type": "execute_result"
    },
    {
     "data": {
      "image/png": "[encoded data removed]",
      "text/plain": [
       "<Figure size 720x576 with 2 Axes>"
      ]
     },
     "metadata": {
      "needs_background": "light"
     },
     "output_type": "display_data"
    }
   ],
   "source": [
    "f, ax = plt.subplots(figsize=(10, 8))\n",
    "sns.heatmap(corr, mask=np.zeros_like(corr, dtype=np.bool), cmap=sns.diverging_palette(220, 10, as_cmap=True),\n",
    "            square=True, ax=ax)"
   ]
  },
  {
   "cell_type": "code",
   "execution_count": 147,
   "id": "d28af896",
   "metadata": {},
   "outputs": [],
   "source": [
    "TARGET_COL = ['cumulative_first_views'] # cumulative_first_views"
   ]
  },
  {
   "cell_type": "code",
   "execution_count": 148,
   "id": "53124c5f",
   "metadata": {},
   "outputs": [
    {
     "data": {
      "text/html": [
       "<div>\n",
       "<style scoped>\n",
       "    .dataframe tbody tr th:only-of-type {\n",
       "        vertical-align: middle;\n",
       "    }\n",
       "\n",
       "    .dataframe tbody tr th {\n",
       "        vertical-align: top;\n",
       "    }\n",
       "\n",
       "    .dataframe thead th {\n",
       "        text-align: right;\n",
       "    }\n",
       "</style>\n",
       "<table border=\"1\" class=\"dataframe\">\n",
       "  <thead>\n",
       "    <tr style=\"text-align: right;\">\n",
       "      <th></th>\n",
       "      <th>cumulative_first_views</th>\n",
       "    </tr>\n",
       "  </thead>\n",
       "  <tbody>\n",
       "    <tr>\n",
       "      <th>dummy_value</th>\n",
       "      <td>-1.00</td>\n",
       "    </tr>\n",
       "    <tr>\n",
       "      <th>days_from_theatrical2</th>\n",
       "      <td>-0.38</td>\n",
       "    </tr>\n",
       "    <tr>\n",
       "      <th>medal_number</th>\n",
       "      <td>-0.25</td>\n",
       "    </tr>\n",
       "    <tr>\n",
       "      <th>medal_Bronze</th>\n",
       "      <td>-0.20</td>\n",
       "    </tr>\n",
       "    <tr>\n",
       "      <th>genre_Drama</th>\n",
       "      <td>-0.14</td>\n",
       "    </tr>\n",
       "    <tr>\n",
       "      <th>genre_Comedy</th>\n",
       "      <td>-0.13</td>\n",
       "    </tr>\n",
       "    <tr>\n",
       "      <th>genre_Horror</th>\n",
       "      <td>-0.09</td>\n",
       "    </tr>\n",
       "    <tr>\n",
       "      <th>platform</th>\n",
       "      <td>-0.08</td>\n",
       "    </tr>\n",
       "    <tr>\n",
       "      <th>genre_Suspense/Thriller</th>\n",
       "      <td>-0.07</td>\n",
       "    </tr>\n",
       "    <tr>\n",
       "      <th>medal_Silver</th>\n",
       "      <td>-0.06</td>\n",
       "    </tr>\n",
       "    <tr>\n",
       "      <th>genre_Romance</th>\n",
       "      <td>-0.06</td>\n",
       "    </tr>\n",
       "    <tr>\n",
       "      <th>genre_Sci-Fi</th>\n",
       "      <td>-0.04</td>\n",
       "    </tr>\n",
       "    <tr>\n",
       "      <th>medal_Platinum</th>\n",
       "      <td>0.03</td>\n",
       "    </tr>\n",
       "    <tr>\n",
       "      <th>genre_Kids/Family</th>\n",
       "      <td>0.09</td>\n",
       "    </tr>\n",
       "    <tr>\n",
       "      <th>medal_Gold</th>\n",
       "      <td>0.28</td>\n",
       "    </tr>\n",
       "    <tr>\n",
       "      <th>genre_Action/Adventure</th>\n",
       "      <td>0.36</td>\n",
       "    </tr>\n",
       "    <tr>\n",
       "      <th>cumulative_first_views</th>\n",
       "      <td>1.00</td>\n",
       "    </tr>\n",
       "  </tbody>\n",
       "</table>\n",
       "</div>"
      ],
      "text/plain": [
       "                         cumulative_first_views\n",
       "dummy_value                               -1.00\n",
       "days_from_theatrical2                     -0.38\n",
       "medal_number                              -0.25\n",
       "medal_Bronze                              -0.20\n",
       "genre_Drama                               -0.14\n",
       "genre_Comedy                              -0.13\n",
       "genre_Horror                              -0.09\n",
       "platform                                  -0.08\n",
       "genre_Suspense/Thriller                   -0.07\n",
       "medal_Silver                              -0.06\n",
       "genre_Romance                             -0.06\n",
       "genre_Sci-Fi                              -0.04\n",
       "medal_Platinum                             0.03\n",
       "genre_Kids/Family                          0.09\n",
       "medal_Gold                                 0.28\n",
       "genre_Action/Adventure                     0.36\n",
       "cumulative_first_views                     1.00"
      ]
     },
     "execution_count": 148,
     "metadata": {},
     "output_type": "execute_result"
    }
   ],
   "source": [
    "plot_data=data[FEATURE_COLS+TARGET_COL]\n",
    "corr = plot_data.corr()[TARGET_COL]\n",
    "mask=np.zeros_like(corr, dtype=np.bool)\n",
    "corr.loc['dummy_value'] = -1\n",
    "corr.sort_values(by = TARGET_COL)"
   ]
  },
  {
   "cell_type": "code",
   "execution_count": 149,
   "id": "0e5141a7",
   "metadata": {},
   "outputs": [
    {
     "data": {
      "text/plain": [
       "<AxesSubplot:>"
      ]
     },
     "execution_count": 149,
     "metadata": {},
     "output_type": "execute_result"
    },
    {
     "data": {
      "image/png": "[encoded data removed]",
      "text/plain": [
       "<Figure size 720x576 with 2 Axes>"
      ]
     },
     "metadata": {
      "needs_background": "light"
     },
     "output_type": "display_data"
    }
   ],
   "source": [
    "f, ax = plt.subplots(figsize=(10, 8))\n",
    "sns.heatmap(corr, mask=np.zeros_like(corr, dtype=np.bool), cmap=sns.diverging_palette(220, 10, as_cmap=True),\n",
    "            square=True, ax=ax)"
   ]
  },
  {
   "cell_type": "markdown",
   "id": "5ffb4b93",
   "metadata": {},
   "source": [
    "### correlation between features"
   ]
  },
  {
   "cell_type": "code",
   "execution_count": 40,
   "id": "b773a034",
   "metadata": {},
   "outputs": [],
   "source": [
    "plot_data=data[FEATURE_COLS]\n",
    "corr = plot_data.corr()\n",
    "mask=np.zeros_like(corr, dtype=np.bool)"
   ]
  },
  {
   "cell_type": "code",
   "execution_count": 41,
   "id": "0755843e",
   "metadata": {},
   "outputs": [
    {
     "data": {
      "text/plain": [
       "<AxesSubplot:>"
      ]
     },
     "execution_count": 41,
     "metadata": {},
     "output_type": "execute_result"
    },
    {
     "data": {
      "image/png": "[encoded data removed]",
      "text/plain": [
       "<Figure size 720x576 with 2 Axes>"
      ]
     },
     "metadata": {
      "needs_background": "light"
     },
     "output_type": "display_data"
    }
   ],
   "source": [
    "f, ax = plt.subplots(figsize=(10, 8))\n",
    "sns.heatmap(corr, mask=np.zeros_like(corr, dtype=np.bool), cmap=sns.diverging_palette(220, 10, as_cmap=True),\n",
    "            square=True, ax=ax)"
   ]
  },
  {
   "cell_type": "code",
   "execution_count": 63,
   "id": "66a683b6",
   "metadata": {},
   "outputs": [
    {
     "data": {
      "text/html": [
       "<div>\n",
       "<style scoped>\n",
       "    .dataframe tbody tr th:only-of-type {\n",
       "        vertical-align: middle;\n",
       "    }\n",
       "\n",
       "    .dataframe tbody tr th {\n",
       "        vertical-align: top;\n",
       "    }\n",
       "\n",
       "    .dataframe thead th {\n",
       "        text-align: right;\n",
       "    }\n",
       "</style>\n",
       "<table border=\"1\" class=\"dataframe\">\n",
       "  <thead>\n",
       "    <tr style=\"text-align: right;\">\n",
       "      <th></th>\n",
       "      <th>title_id</th>\n",
       "      <th>title</th>\n",
       "      <th>home_territory_observed_medal</th>\n",
       "      <th>pillar_genres</th>\n",
       "      <th>imdb_id</th>\n",
       "      <th>theatrical_release_date</th>\n",
       "      <th>offering_start_date</th>\n",
       "      <th>days_from_theatrical2</th>\n",
       "      <th>pct_actives</th>\n",
       "      <th>days_from_max_launch</th>\n",
       "      <th>cumulative_viewing_subs</th>\n",
       "      <th>cumulative_first_views</th>\n",
       "      <th>area_gross</th>\n",
       "      <th>budget</th>\n",
       "      <th>genre_Action/Adventure</th>\n",
       "      <th>genre_Comedy</th>\n",
       "      <th>genre_Drama</th>\n",
       "      <th>genre_Horror</th>\n",
       "      <th>genre_Kids/Family</th>\n",
       "      <th>genre_Romance</th>\n",
       "      <th>genre_Sci-Fi</th>\n",
       "      <th>genre_Suspense/Thriller</th>\n",
       "      <th>medal_number</th>\n",
       "      <th>platform</th>\n",
       "    </tr>\n",
       "  </thead>\n",
       "  <tbody>\n",
       "    <tr>\n",
       "      <th>0</th>\n",
       "      <td>GYPXEhQg3DFbCwwEAAADm</td>\n",
       "      <td>News of the World</td>\n",
       "      <td>Silver</td>\n",
       "      <td>Action/Adventure</td>\n",
       "      <td>tt6878306</td>\n",
       "      <td>2020-12-25</td>\n",
       "      <td>2021-09-05</td>\n",
       "      <td>250</td>\n",
       "      <td>0.093463</td>\n",
       "      <td>-219</td>\n",
       "      <td>2557041</td>\n",
       "      <td>25362</td>\n",
       "      <td>2,250,430.00</td>\n",
       "      <td>38,000,000.00</td>\n",
       "      <td>1</td>\n",
       "      <td>0</td>\n",
       "      <td>0</td>\n",
       "      <td>0</td>\n",
       "      <td>0</td>\n",
       "      <td>0</td>\n",
       "      <td>0</td>\n",
       "      <td>0</td>\n",
       "      <td>2</td>\n",
       "      <td>1.00</td>\n",
       "    </tr>\n",
       "    <tr>\n",
       "      <th>1</th>\n",
       "      <td>GXpTQtgV6ax-auwEAABc3</td>\n",
       "      <td>The Good Liar</td>\n",
       "      <td>Bronze</td>\n",
       "      <td>Drama</td>\n",
       "      <td>tt5563334</td>\n",
       "      <td>2019-11-15</td>\n",
       "      <td>2020-06-14</td>\n",
       "      <td>187</td>\n",
       "      <td>0.022345</td>\n",
       "      <td>187</td>\n",
       "      <td>186115</td>\n",
       "      <td>10519</td>\n",
       "      <td>5,605,051.00</td>\n",
       "      <td>10,000,000.00</td>\n",
       "      <td>0</td>\n",
       "      <td>0</td>\n",
       "      <td>1</td>\n",
       "      <td>0</td>\n",
       "      <td>0</td>\n",
       "      <td>0</td>\n",
       "      <td>0</td>\n",
       "      <td>0</td>\n",
       "      <td>3</td>\n",
       "      <td>1.00</td>\n",
       "    </tr>\n",
       "    <tr>\n",
       "      <th>2</th>\n",
       "      <td>GYK0lqgy8KZiWvwEAAAAH</td>\n",
       "      <td>Shiva Baby</td>\n",
       "      <td>Bronze</td>\n",
       "      <td>Comedy</td>\n",
       "      <td>tt11317142</td>\n",
       "      <td>2020-03-15</td>\n",
       "      <td>2021-07-08</td>\n",
       "      <td>66</td>\n",
       "      <td>0.011300</td>\n",
       "      <td>66</td>\n",
       "      <td>307494</td>\n",
       "      <td>1415</td>\n",
       "      <td>7,160.00</td>\n",
       "      <td>nan</td>\n",
       "      <td>0</td>\n",
       "      <td>1</td>\n",
       "      <td>0</td>\n",
       "      <td>0</td>\n",
       "      <td>0</td>\n",
       "      <td>0</td>\n",
       "      <td>0</td>\n",
       "      <td>0</td>\n",
       "      <td>3</td>\n",
       "      <td>1.00</td>\n",
       "    </tr>\n",
       "    <tr>\n",
       "      <th>3</th>\n",
       "      <td>GYbzvWABDj8LDwgEAAAAp</td>\n",
       "      <td>The Last Duel</td>\n",
       "      <td>Gold</td>\n",
       "      <td>Drama</td>\n",
       "      <td>tt4244994</td>\n",
       "      <td>2021-10-15</td>\n",
       "      <td>2022-01-14</td>\n",
       "      <td>91</td>\n",
       "      <td>0.162250</td>\n",
       "      <td>-513</td>\n",
       "      <td>5012315</td>\n",
       "      <td>33314</td>\n",
       "      <td>4,759,151.00</td>\n",
       "      <td>100,000,000.00</td>\n",
       "      <td>0</td>\n",
       "      <td>0</td>\n",
       "      <td>1</td>\n",
       "      <td>0</td>\n",
       "      <td>0</td>\n",
       "      <td>0</td>\n",
       "      <td>0</td>\n",
       "      <td>0</td>\n",
       "      <td>1</td>\n",
       "      <td>1.00</td>\n",
       "    </tr>\n",
       "    <tr>\n",
       "      <th>4</th>\n",
       "      <td>GYm0w5wSRXaTDYQEAAAD4</td>\n",
       "      <td>Last Night in Soho</td>\n",
       "      <td>Silver</td>\n",
       "      <td>Suspense/Thriller</td>\n",
       "      <td>tt9639470</td>\n",
       "      <td>2021-10-29</td>\n",
       "      <td>2022-07-01</td>\n",
       "      <td>245</td>\n",
       "      <td>0.067369</td>\n",
       "      <td>-527</td>\n",
       "      <td>2005376</td>\n",
       "      <td>8975</td>\n",
       "      <td>4,178,460.00</td>\n",
       "      <td>43,000,000.00</td>\n",
       "      <td>0</td>\n",
       "      <td>0</td>\n",
       "      <td>0</td>\n",
       "      <td>0</td>\n",
       "      <td>0</td>\n",
       "      <td>0</td>\n",
       "      <td>0</td>\n",
       "      <td>1</td>\n",
       "      <td>2</td>\n",
       "      <td>1.00</td>\n",
       "    </tr>\n",
       "  </tbody>\n",
       "</table>\n",
       "</div>"
      ],
      "text/plain": [
       "                title_id               title home_territory_observed_medal  \\\n",
       "0  GYPXEhQg3DFbCwwEAAADm   News of the World                        Silver   \n",
       "1  GXpTQtgV6ax-auwEAABc3       The Good Liar                        Bronze   \n",
       "2  GYK0lqgy8KZiWvwEAAAAH          Shiva Baby                        Bronze   \n",
       "3  GYbzvWABDj8LDwgEAAAAp       The Last Duel                          Gold   \n",
       "4  GYm0w5wSRXaTDYQEAAAD4  Last Night in Soho                        Silver   \n",
       "\n",
       "       pillar_genres     imdb_id theatrical_release_date offering_start_date  \\\n",
       "0  Action/Adventure    tt6878306              2020-12-25          2021-09-05   \n",
       "1              Drama   tt5563334              2019-11-15          2020-06-14   \n",
       "2             Comedy  tt11317142              2020-03-15          2021-07-08   \n",
       "3              Drama   tt4244994              2021-10-15          2022-01-14   \n",
       "4  Suspense/Thriller   tt9639470              2021-10-29          2022-07-01   \n",
       "\n",
       "   days_from_theatrical2 pct_actives  days_from_max_launch  \\\n",
       "0                    250    0.093463                  -219   \n",
       "1                    187    0.022345                   187   \n",
       "2                     66    0.011300                    66   \n",
       "3                     91    0.162250                  -513   \n",
       "4                    245    0.067369                  -527   \n",
       "\n",
       "   cumulative_viewing_subs  cumulative_first_views   area_gross  \\\n",
       "0                  2557041                   25362 2,250,430.00   \n",
       "1                   186115                   10519 5,605,051.00   \n",
       "2                   307494                    1415     7,160.00   \n",
       "3                  5012315                   33314 4,759,151.00   \n",
       "4                  2005376                    8975 4,178,460.00   \n",
       "\n",
       "          budget  genre_Action/Adventure   genre_Comedy  genre_Drama  \\\n",
       "0  38,000,000.00                        1             0            0   \n",
       "1  10,000,000.00                        0             0            1   \n",
       "2            nan                        0             1            0   \n",
       "3 100,000,000.00                        0             0            1   \n",
       "4  43,000,000.00                        0             0            0   \n",
       "\n",
       "   genre_Horror   genre_Kids/Family  genre_Romance  genre_Sci-Fi  \\\n",
       "0              0                  0              0             0   \n",
       "1              0                  0              0             0   \n",
       "2              0                  0              0             0   \n",
       "3              0                  0              0             0   \n",
       "4              0                  0              0             0   \n",
       "\n",
       "   genre_Suspense/Thriller  medal_number  platform  \n",
       "0                        0             2      1.00  \n",
       "1                        0             3      1.00  \n",
       "2                        0             3      1.00  \n",
       "3                        0             1      1.00  \n",
       "4                        1             2      1.00  "
      ]
     },
     "execution_count": 63,
     "metadata": {},
     "output_type": "execute_result"
    }
   ],
   "source": [
    "movie_hbo_platform.head()"
   ]
  },
  {
   "cell_type": "code",
   "execution_count": 59,
   "id": "30438f29",
   "metadata": {},
   "outputs": [],
   "source": [
    "movie_hbo_platform.to_csv('training_data.csv')"
   ]
  },
  {
   "cell_type": "code",
   "execution_count": null,
   "id": "fbb6a95c",
   "metadata": {},
   "outputs": [],
   "source": []
  }
 ],
 "metadata": {
  "kernelspec": {
   "display_name": "conda_python3",
   "language": "python",
   "name": "conda_python3"
  },
  "language_info": {
   "codemirror_mode": {
    "name": "ipython",
    "version": 3
   },
   "file_extension": ".py",
   "mimetype": "text/x-python",
   "name": "python",
   "nbconvert_exporter": "python",
   "pygments_lexer": "ipython3",
   "version": "3.6.13"
  }
 },
 "nbformat": 4,
 "nbformat_minor": 5
}
