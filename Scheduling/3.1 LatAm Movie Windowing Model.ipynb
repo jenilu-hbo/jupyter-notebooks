{
 "cells": [
  {
   "cell_type": "code",
   "execution_count": 1,
   "id": "c80b0f9e",
   "metadata": {},
   "outputs": [],
   "source": [
    "# !pip uninstall snowflake -y"
   ]
  },
  {
   "cell_type": "code",
   "execution_count": 1,
   "id": "cf469ccc",
   "metadata": {},
   "outputs": [],
   "source": [
    "# general\n",
    "import boto3\n",
    "import datetime as dt\n",
    "import json\n",
    "import numpy as np\n",
    "import pandas as pd\n",
    "import snowflake.connector\n",
    "from sklearn import preprocessing"
   ]
  },
  {
   "cell_type": "code",
   "execution_count": 2,
   "id": "e83fc3f0",
   "metadata": {},
   "outputs": [],
   "source": [
    "pd.set_option('display.max_rows', 1000)\n",
    "pd.set_option('display.max_columns', 1000)"
   ]
  },
  {
   "cell_type": "code",
   "execution_count": 3,
   "id": "80836a43",
   "metadata": {},
   "outputs": [],
   "source": [
    "pd.options.display.float_format = '{:,.2f}'.format"
   ]
  },
  {
   "cell_type": "code",
   "execution_count": 4,
   "id": "e3b76969",
   "metadata": {},
   "outputs": [],
   "source": [
    "import warnings\n",
    "warnings.filterwarnings('ignore')"
   ]
  },
  {
   "cell_type": "markdown",
   "id": "2cb4c20b",
   "metadata": {},
   "source": [
    "# 0. Read Training Data"
   ]
  },
  {
   "cell_type": "code",
   "execution_count": 5,
   "id": "915caf1a",
   "metadata": {},
   "outputs": [],
   "source": [
    "import xgboost  \n",
    "from xgboost import XGBRegressor\n",
    "from sklearn.ensemble import GradientBoostingRegressor\n",
    "from sklearn.model_selection import GroupKFold"
   ]
  },
  {
   "cell_type": "code",
   "execution_count": 6,
   "id": "56626790",
   "metadata": {},
   "outputs": [],
   "source": [
    "training_data = pd.read_csv('latam_training_data.csv')"
   ]
  },
  {
   "cell_type": "code",
   "execution_count": 7,
   "id": "3b42b112",
   "metadata": {},
   "outputs": [
    {
     "data": {
      "text/html": [
       "<div>\n",
       "<style scoped>\n",
       "    .dataframe tbody tr th:only-of-type {\n",
       "        vertical-align: middle;\n",
       "    }\n",
       "\n",
       "    .dataframe tbody tr th {\n",
       "        vertical-align: top;\n",
       "    }\n",
       "\n",
       "    .dataframe thead th {\n",
       "        text-align: right;\n",
       "    }\n",
       "</style>\n",
       "<table border=\"1\" class=\"dataframe\">\n",
       "  <thead>\n",
       "    <tr style=\"text-align: right;\">\n",
       "      <th></th>\n",
       "      <th>Unnamed: 0</th>\n",
       "      <th>title_series</th>\n",
       "      <th>legacy_series_id</th>\n",
       "      <th>ckg_series_id</th>\n",
       "      <th>imdb_id</th>\n",
       "      <th>program_type</th>\n",
       "      <th>primary_genre</th>\n",
       "      <th>first_release_date</th>\n",
       "      <th>theatrical_date</th>\n",
       "      <th>area_gross</th>\n",
       "      <th>budget</th>\n",
       "      <th>observed_medal</th>\n",
       "      <th>latam_home_medal</th>\n",
       "      <th>day_on_max</th>\n",
       "      <th>cumulative_viewing_subscribers</th>\n",
       "      <th>cumulative_first_views</th>\n",
       "      <th>percent_cumulative_viewing_subscribers</th>\n",
       "      <th>percent_cumulative_first_views</th>\n",
       "      <th>days_from_theatrical</th>\n",
       "      <th>genre_Action</th>\n",
       "      <th>genre_Comedy</th>\n",
       "      <th>genre_Drama</th>\n",
       "      <th>genre_Fantasy &amp; Sci-Fi</th>\n",
       "      <th>genre_Horror</th>\n",
       "      <th>genre_Kids &amp; Family</th>\n",
       "      <th>genre_Music</th>\n",
       "      <th>genre_Not A Genre</th>\n",
       "      <th>medal_Bronze</th>\n",
       "      <th>medal_Gold</th>\n",
       "      <th>medal_Platinum</th>\n",
       "      <th>medal_Silver</th>\n",
       "      <th>medal_number</th>\n",
       "      <th>log_cumulative_first_views</th>\n",
       "      <th>log_cumulative_viewing_subs</th>\n",
       "    </tr>\n",
       "  </thead>\n",
       "  <tbody>\n",
       "    <tr>\n",
       "      <th>0</th>\n",
       "      <td>2</td>\n",
       "      <td>Ambulance</td>\n",
       "      <td>GYyRIgQNLUhu1wwEAAAAF</td>\n",
       "      <td>GYyRIgQNLUhu1wwEAAAAF</td>\n",
       "      <td>tt4998632</td>\n",
       "      <td>Acquired</td>\n",
       "      <td>Action</td>\n",
       "      <td>2022-11-24</td>\n",
       "      <td>2022-03-17</td>\n",
       "      <td>1,218,886.00</td>\n",
       "      <td>40,000,000.00</td>\n",
       "      <td>Silver</td>\n",
       "      <td>Silver</td>\n",
       "      <td>90.00</td>\n",
       "      <td>1,107,532.00</td>\n",
       "      <td>7,058.00</td>\n",
       "      <td>8.84</td>\n",
       "      <td>0.20</td>\n",
       "      <td>252</td>\n",
       "      <td>1</td>\n",
       "      <td>0</td>\n",
       "      <td>0</td>\n",
       "      <td>0</td>\n",
       "      <td>0</td>\n",
       "      <td>0</td>\n",
       "      <td>0</td>\n",
       "      <td>0</td>\n",
       "      <td>0</td>\n",
       "      <td>0</td>\n",
       "      <td>0</td>\n",
       "      <td>1</td>\n",
       "      <td>2</td>\n",
       "      <td>12.79</td>\n",
       "      <td>20.08</td>\n",
       "    </tr>\n",
       "    <tr>\n",
       "      <th>1</th>\n",
       "      <td>3</td>\n",
       "      <td>Armageddon Time</td>\n",
       "      <td>GZK1nDg0nFaXCwgEAABAp</td>\n",
       "      <td>1e047963-2433-4a1a-8095-830022a0ce57</td>\n",
       "      <td>tt10343028</td>\n",
       "      <td>Acquired</td>\n",
       "      <td>Drama</td>\n",
       "      <td>2023-08-10</td>\n",
       "      <td>2023-03-16</td>\n",
       "      <td>3,967.00</td>\n",
       "      <td>15,000,000.00</td>\n",
       "      <td>Bronze</td>\n",
       "      <td>Bronze</td>\n",
       "      <td>90.00</td>\n",
       "      <td>34,968.00</td>\n",
       "      <td>226.00</td>\n",
       "      <td>0.30</td>\n",
       "      <td>0.01</td>\n",
       "      <td>147</td>\n",
       "      <td>0</td>\n",
       "      <td>0</td>\n",
       "      <td>1</td>\n",
       "      <td>0</td>\n",
       "      <td>0</td>\n",
       "      <td>0</td>\n",
       "      <td>0</td>\n",
       "      <td>0</td>\n",
       "      <td>1</td>\n",
       "      <td>0</td>\n",
       "      <td>0</td>\n",
       "      <td>0</td>\n",
       "      <td>3</td>\n",
       "      <td>7.82</td>\n",
       "      <td>15.09</td>\n",
       "    </tr>\n",
       "    <tr>\n",
       "      <th>2</th>\n",
       "      <td>7</td>\n",
       "      <td>Belfast</td>\n",
       "      <td>GYpn_UA8YyZ3DZgEAAAAW</td>\n",
       "      <td>0b926c5b-b8e4-401c-ba69-783ce07ad098</td>\n",
       "      <td>tt12789558</td>\n",
       "      <td>Acquired</td>\n",
       "      <td>Drama</td>\n",
       "      <td>2022-10-27</td>\n",
       "      <td>2022-03-10</td>\n",
       "      <td>109,066.00</td>\n",
       "      <td>11,000,000.00</td>\n",
       "      <td>Bronze</td>\n",
       "      <td>Bronze</td>\n",
       "      <td>90.00</td>\n",
       "      <td>137,179.00</td>\n",
       "      <td>522.00</td>\n",
       "      <td>1.13</td>\n",
       "      <td>0.02</td>\n",
       "      <td>231</td>\n",
       "      <td>0</td>\n",
       "      <td>0</td>\n",
       "      <td>1</td>\n",
       "      <td>0</td>\n",
       "      <td>0</td>\n",
       "      <td>0</td>\n",
       "      <td>0</td>\n",
       "      <td>0</td>\n",
       "      <td>1</td>\n",
       "      <td>0</td>\n",
       "      <td>0</td>\n",
       "      <td>0</td>\n",
       "      <td>3</td>\n",
       "      <td>9.03</td>\n",
       "      <td>17.07</td>\n",
       "    </tr>\n",
       "    <tr>\n",
       "      <th>3</th>\n",
       "      <td>8</td>\n",
       "      <td>Black Adam</td>\n",
       "      <td>GYzcHIw5407mRsAEAAAA4</td>\n",
       "      <td>0c730836-253b-4338-a3d1-a6a44a3384e0</td>\n",
       "      <td>tt6443346</td>\n",
       "      <td>Acquired</td>\n",
       "      <td>Action</td>\n",
       "      <td>2022-12-16</td>\n",
       "      <td>2022-10-20</td>\n",
       "      <td>9,282,592.00</td>\n",
       "      <td>195,000,000.00</td>\n",
       "      <td>Platinum</td>\n",
       "      <td>Platinum</td>\n",
       "      <td>90.00</td>\n",
       "      <td>5,705,318.00</td>\n",
       "      <td>208,837.00</td>\n",
       "      <td>44.64</td>\n",
       "      <td>5.42</td>\n",
       "      <td>57</td>\n",
       "      <td>1</td>\n",
       "      <td>0</td>\n",
       "      <td>0</td>\n",
       "      <td>0</td>\n",
       "      <td>0</td>\n",
       "      <td>0</td>\n",
       "      <td>0</td>\n",
       "      <td>0</td>\n",
       "      <td>0</td>\n",
       "      <td>0</td>\n",
       "      <td>1</td>\n",
       "      <td>0</td>\n",
       "      <td>0</td>\n",
       "      <td>17.67</td>\n",
       "      <td>22.44</td>\n",
       "    </tr>\n",
       "    <tr>\n",
       "      <th>4</th>\n",
       "      <td>15</td>\n",
       "      <td>Cry Macho</td>\n",
       "      <td>GYSbJuAuzchDCwgEAAAAC</td>\n",
       "      <td>b0598032-1cfd-4605-af5b-52ee492ce717</td>\n",
       "      <td>tt1924245</td>\n",
       "      <td>Acquired</td>\n",
       "      <td>Drama</td>\n",
       "      <td>2021-10-21</td>\n",
       "      <td>2021-10-21</td>\n",
       "      <td>102,285.00</td>\n",
       "      <td>33,000,000.00</td>\n",
       "      <td>Silver</td>\n",
       "      <td>Silver</td>\n",
       "      <td>90.00</td>\n",
       "      <td>672,638.00</td>\n",
       "      <td>8,395.00</td>\n",
       "      <td>7.85</td>\n",
       "      <td>0.30</td>\n",
       "      <td>0</td>\n",
       "      <td>0</td>\n",
       "      <td>0</td>\n",
       "      <td>1</td>\n",
       "      <td>0</td>\n",
       "      <td>0</td>\n",
       "      <td>0</td>\n",
       "      <td>0</td>\n",
       "      <td>0</td>\n",
       "      <td>0</td>\n",
       "      <td>0</td>\n",
       "      <td>0</td>\n",
       "      <td>1</td>\n",
       "      <td>2</td>\n",
       "      <td>13.04</td>\n",
       "      <td>19.36</td>\n",
       "    </tr>\n",
       "  </tbody>\n",
       "</table>\n",
       "</div>"
      ],
      "text/plain": [
       "   Unnamed: 0     title_series       legacy_series_id  \\\n",
       "0           2        Ambulance  GYyRIgQNLUhu1wwEAAAAF   \n",
       "1           3  Armageddon Time  GZK1nDg0nFaXCwgEAABAp   \n",
       "2           7          Belfast  GYpn_UA8YyZ3DZgEAAAAW   \n",
       "3           8       Black Adam  GYzcHIw5407mRsAEAAAA4   \n",
       "4          15        Cry Macho  GYSbJuAuzchDCwgEAAAAC   \n",
       "\n",
       "                          ckg_series_id     imdb_id program_type  \\\n",
       "0                 GYyRIgQNLUhu1wwEAAAAF   tt4998632     Acquired   \n",
       "1  1e047963-2433-4a1a-8095-830022a0ce57  tt10343028     Acquired   \n",
       "2  0b926c5b-b8e4-401c-ba69-783ce07ad098  tt12789558     Acquired   \n",
       "3  0c730836-253b-4338-a3d1-a6a44a3384e0   tt6443346     Acquired   \n",
       "4  b0598032-1cfd-4605-af5b-52ee492ce717   tt1924245     Acquired   \n",
       "\n",
       "  primary_genre first_release_date theatrical_date   area_gross  \\\n",
       "0        Action         2022-11-24      2022-03-17 1,218,886.00   \n",
       "1         Drama         2023-08-10      2023-03-16     3,967.00   \n",
       "2         Drama         2022-10-27      2022-03-10   109,066.00   \n",
       "3        Action         2022-12-16      2022-10-20 9,282,592.00   \n",
       "4         Drama         2021-10-21      2021-10-21   102,285.00   \n",
       "\n",
       "          budget observed_medal latam_home_medal  day_on_max  \\\n",
       "0  40,000,000.00         Silver           Silver       90.00   \n",
       "1  15,000,000.00         Bronze           Bronze       90.00   \n",
       "2  11,000,000.00         Bronze           Bronze       90.00   \n",
       "3 195,000,000.00       Platinum         Platinum       90.00   \n",
       "4  33,000,000.00         Silver           Silver       90.00   \n",
       "\n",
       "   cumulative_viewing_subscribers  cumulative_first_views  \\\n",
       "0                    1,107,532.00                7,058.00   \n",
       "1                       34,968.00                  226.00   \n",
       "2                      137,179.00                  522.00   \n",
       "3                    5,705,318.00              208,837.00   \n",
       "4                      672,638.00                8,395.00   \n",
       "\n",
       "   percent_cumulative_viewing_subscribers  percent_cumulative_first_views  \\\n",
       "0                                    8.84                            0.20   \n",
       "1                                    0.30                            0.01   \n",
       "2                                    1.13                            0.02   \n",
       "3                                   44.64                            5.42   \n",
       "4                                    7.85                            0.30   \n",
       "\n",
       "   days_from_theatrical  genre_Action  genre_Comedy  genre_Drama  \\\n",
       "0                   252             1             0            0   \n",
       "1                   147             0             0            1   \n",
       "2                   231             0             0            1   \n",
       "3                    57             1             0            0   \n",
       "4                     0             0             0            1   \n",
       "\n",
       "   genre_Fantasy & Sci-Fi  genre_Horror  genre_Kids & Family  genre_Music  \\\n",
       "0                       0             0                    0            0   \n",
       "1                       0             0                    0            0   \n",
       "2                       0             0                    0            0   \n",
       "3                       0             0                    0            0   \n",
       "4                       0             0                    0            0   \n",
       "\n",
       "   genre_Not A Genre  medal_Bronze  medal_Gold  medal_Platinum  medal_Silver  \\\n",
       "0                  0             0           0               0             1   \n",
       "1                  0             1           0               0             0   \n",
       "2                  0             1           0               0             0   \n",
       "3                  0             0           0               1             0   \n",
       "4                  0             0           0               0             1   \n",
       "\n",
       "   medal_number  log_cumulative_first_views  log_cumulative_viewing_subs  \n",
       "0             2                       12.79                        20.08  \n",
       "1             3                        7.82                        15.09  \n",
       "2             3                        9.03                        17.07  \n",
       "3             0                       17.67                        22.44  \n",
       "4             2                       13.04                        19.36  "
      ]
     },
     "execution_count": 7,
     "metadata": {},
     "output_type": "execute_result"
    }
   ],
   "source": [
    "training_data.head()"
   ]
  },
  {
   "cell_type": "code",
   "execution_count": 9,
   "id": "bef960c0",
   "metadata": {},
   "outputs": [],
   "source": [
    "training_data = training_data[training_data['first_release_date'] >= '2021-08-01']"
   ]
  },
  {
   "cell_type": "code",
   "execution_count": 10,
   "id": "d55c7703",
   "metadata": {},
   "outputs": [
    {
     "name": "stderr",
     "output_type": "stream",
     "text": [
      "Matplotlib is building the font cache; this may take a moment.\n"
     ]
    }
   ],
   "source": [
    "import matplotlib.pyplot as plt"
   ]
  },
  {
   "cell_type": "code",
   "execution_count": 11,
   "id": "c51db1c5",
   "metadata": {},
   "outputs": [
    {
     "data": {
      "image/png": "[encoded data removed]",
      "text/plain": [
       "<Figure size 864x576 with 1 Axes>"
      ]
     },
     "metadata": {
      "needs_background": "light"
     },
     "output_type": "display_data"
    }
   ],
   "source": [
    "fig, ax = plt.subplots(figsize=(12, 8))\n",
    "plot_df = training_data\n",
    "for i in training_data['latam_home_medal'].unique():\n",
    "    plot_df = training_data[training_data['latam_home_medal'] == i]\n",
    "    plt.scatter(plot_df['days_from_theatrical'], plot_df['cumulative_viewing_subscribers'], label=i, s = (5-plot_df['medal_number'])*30)\n",
    "\n",
    "for i in training_data['ckg_series_id'].unique():\n",
    "    plot_df = training_data[training_data['ckg_series_id'] == i]\n",
    "    ax.text(plot_df['days_from_theatrical'].values[0], \n",
    "            plot_df['cumulative_viewing_subscribers'].values[0], \n",
    "            plot_df['title_series'].values[0], size=12)\n",
    "\n",
    "ax.set_xlabel('days_from_theatrical')\n",
    "ax.set_ylabel('cumulative_viewing_subscribers')\n",
    "ax.legend()\n",
    "\n",
    "plt.show()"
   ]
  },
  {
   "cell_type": "code",
   "execution_count": 12,
   "id": "6d1074c8",
   "metadata": {},
   "outputs": [
    {
     "data": {
      "image/png": "[encoded data removed]",
      "text/plain": [
       "<Figure size 864x576 with 1 Axes>"
      ]
     },
     "metadata": {
      "needs_background": "light"
     },
     "output_type": "display_data"
    }
   ],
   "source": [
    "fig, ax = plt.subplots(figsize=(12, 8))\n",
    "plot_df = training_data\n",
    "for i in training_data['latam_home_medal'].unique():\n",
    "    plot_df = training_data[training_data['latam_home_medal'] == i]\n",
    "    plt.scatter(plot_df['days_from_theatrical'], plot_df['cumulative_first_views'], label=i, s = (5-plot_df['medal_number'])*30)\n",
    "\n",
    "for i in training_data['ckg_series_id'].unique():\n",
    "    plot_df = training_data[training_data['ckg_series_id'] == i]\n",
    "    ax.text(plot_df['days_from_theatrical'].values[0], \n",
    "            plot_df['cumulative_first_views'].values[0], \n",
    "            plot_df['title_series'].values[0], size=12)\n",
    "\n",
    "ax.set_xlabel('days_from_theatrical')\n",
    "ax.set_ylabel('cumulative_first_views')\n",
    "ax.legend()\n",
    "\n",
    "plt.show()"
   ]
  },
  {
   "cell_type": "markdown",
   "id": "77e20bb3",
   "metadata": {},
   "source": [
    "# 1. Viewing Subs"
   ]
  },
  {
   "cell_type": "code",
   "execution_count": 13,
   "id": "2268dd95",
   "metadata": {},
   "outputs": [],
   "source": [
    "META_COLS = ['title_series', 'legacy_series_id', 'ckg_series_id', 'imdb_id', 'primary_genre', 'latam_home_medal', 'first_release_date', 'theatrical_date']"
   ]
  },
  {
   "cell_type": "code",
   "execution_count": 14,
   "id": "4d36bb2e",
   "metadata": {},
   "outputs": [],
   "source": [
    "FEATURE_COLS = ['days_from_theatrical', 'area_gross', 'budget', 'genre_Action', 'medal_number'\n",
    "                , 'genre_Comedy', 'genre_Drama']\n",
    "                #, 'genre_Horror ', 'genre_Kids/Family', 'genre_Romance', 'genre_Sci-Fi', 'genre_Suspense/Thriller', "
   ]
  },
  {
   "cell_type": "code",
   "execution_count": 15,
   "id": "520a175a",
   "metadata": {},
   "outputs": [],
   "source": [
    "# training_data['log_cumulative_viewing_subs'] = np.log10(training_data['cumulative_viewing_subscribers'])"
   ]
  },
  {
   "cell_type": "code",
   "execution_count": 16,
   "id": "2fdc0502",
   "metadata": {},
   "outputs": [],
   "source": [
    "TARGET_COL = ['cumulative_viewing_subscribers'] # log_cumulative_viewing_subs"
   ]
  },
  {
   "cell_type": "code",
   "execution_count": 17,
   "id": "a5c851e5",
   "metadata": {},
   "outputs": [
    {
     "data": {
      "text/html": [
       "<div>\n",
       "<style scoped>\n",
       "    .dataframe tbody tr th:only-of-type {\n",
       "        vertical-align: middle;\n",
       "    }\n",
       "\n",
       "    .dataframe tbody tr th {\n",
       "        vertical-align: top;\n",
       "    }\n",
       "\n",
       "    .dataframe thead th {\n",
       "        text-align: right;\n",
       "    }\n",
       "</style>\n",
       "<table border=\"1\" class=\"dataframe\">\n",
       "  <thead>\n",
       "    <tr style=\"text-align: right;\">\n",
       "      <th></th>\n",
       "      <th>title_series</th>\n",
       "      <th>legacy_series_id</th>\n",
       "      <th>ckg_series_id</th>\n",
       "      <th>imdb_id</th>\n",
       "      <th>primary_genre</th>\n",
       "      <th>latam_home_medal</th>\n",
       "      <th>first_release_date</th>\n",
       "      <th>theatrical_date</th>\n",
       "      <th>days_from_theatrical</th>\n",
       "      <th>area_gross</th>\n",
       "      <th>budget</th>\n",
       "      <th>genre_Action</th>\n",
       "      <th>medal_number</th>\n",
       "      <th>genre_Comedy</th>\n",
       "      <th>genre_Drama</th>\n",
       "      <th>cumulative_viewing_subscribers</th>\n",
       "    </tr>\n",
       "  </thead>\n",
       "  <tbody>\n",
       "    <tr>\n",
       "      <th>0</th>\n",
       "      <td>Ambulance</td>\n",
       "      <td>GYyRIgQNLUhu1wwEAAAAF</td>\n",
       "      <td>GYyRIgQNLUhu1wwEAAAAF</td>\n",
       "      <td>tt4998632</td>\n",
       "      <td>Action</td>\n",
       "      <td>Silver</td>\n",
       "      <td>2022-11-24</td>\n",
       "      <td>2022-03-17</td>\n",
       "      <td>252</td>\n",
       "      <td>1,218,886.00</td>\n",
       "      <td>40,000,000.00</td>\n",
       "      <td>1</td>\n",
       "      <td>2</td>\n",
       "      <td>0</td>\n",
       "      <td>0</td>\n",
       "      <td>1,107,532.00</td>\n",
       "    </tr>\n",
       "    <tr>\n",
       "      <th>1</th>\n",
       "      <td>Armageddon Time</td>\n",
       "      <td>GZK1nDg0nFaXCwgEAABAp</td>\n",
       "      <td>1e047963-2433-4a1a-8095-830022a0ce57</td>\n",
       "      <td>tt10343028</td>\n",
       "      <td>Drama</td>\n",
       "      <td>Bronze</td>\n",
       "      <td>2023-08-10</td>\n",
       "      <td>2023-03-16</td>\n",
       "      <td>147</td>\n",
       "      <td>3,967.00</td>\n",
       "      <td>15,000,000.00</td>\n",
       "      <td>0</td>\n",
       "      <td>3</td>\n",
       "      <td>0</td>\n",
       "      <td>1</td>\n",
       "      <td>34,968.00</td>\n",
       "    </tr>\n",
       "    <tr>\n",
       "      <th>2</th>\n",
       "      <td>Belfast</td>\n",
       "      <td>GYpn_UA8YyZ3DZgEAAAAW</td>\n",
       "      <td>0b926c5b-b8e4-401c-ba69-783ce07ad098</td>\n",
       "      <td>tt12789558</td>\n",
       "      <td>Drama</td>\n",
       "      <td>Bronze</td>\n",
       "      <td>2022-10-27</td>\n",
       "      <td>2022-03-10</td>\n",
       "      <td>231</td>\n",
       "      <td>109,066.00</td>\n",
       "      <td>11,000,000.00</td>\n",
       "      <td>0</td>\n",
       "      <td>3</td>\n",
       "      <td>0</td>\n",
       "      <td>1</td>\n",
       "      <td>137,179.00</td>\n",
       "    </tr>\n",
       "    <tr>\n",
       "      <th>3</th>\n",
       "      <td>Black Adam</td>\n",
       "      <td>GYzcHIw5407mRsAEAAAA4</td>\n",
       "      <td>0c730836-253b-4338-a3d1-a6a44a3384e0</td>\n",
       "      <td>tt6443346</td>\n",
       "      <td>Action</td>\n",
       "      <td>Platinum</td>\n",
       "      <td>2022-12-16</td>\n",
       "      <td>2022-10-20</td>\n",
       "      <td>57</td>\n",
       "      <td>9,282,592.00</td>\n",
       "      <td>195,000,000.00</td>\n",
       "      <td>1</td>\n",
       "      <td>0</td>\n",
       "      <td>0</td>\n",
       "      <td>0</td>\n",
       "      <td>5,705,318.00</td>\n",
       "    </tr>\n",
       "    <tr>\n",
       "      <th>4</th>\n",
       "      <td>Cry Macho</td>\n",
       "      <td>GYSbJuAuzchDCwgEAAAAC</td>\n",
       "      <td>b0598032-1cfd-4605-af5b-52ee492ce717</td>\n",
       "      <td>tt1924245</td>\n",
       "      <td>Drama</td>\n",
       "      <td>Silver</td>\n",
       "      <td>2021-10-21</td>\n",
       "      <td>2021-10-21</td>\n",
       "      <td>0</td>\n",
       "      <td>102,285.00</td>\n",
       "      <td>33,000,000.00</td>\n",
       "      <td>0</td>\n",
       "      <td>2</td>\n",
       "      <td>0</td>\n",
       "      <td>1</td>\n",
       "      <td>672,638.00</td>\n",
       "    </tr>\n",
       "  </tbody>\n",
       "</table>\n",
       "</div>"
      ],
      "text/plain": [
       "      title_series       legacy_series_id  \\\n",
       "0        Ambulance  GYyRIgQNLUhu1wwEAAAAF   \n",
       "1  Armageddon Time  GZK1nDg0nFaXCwgEAABAp   \n",
       "2          Belfast  GYpn_UA8YyZ3DZgEAAAAW   \n",
       "3       Black Adam  GYzcHIw5407mRsAEAAAA4   \n",
       "4        Cry Macho  GYSbJuAuzchDCwgEAAAAC   \n",
       "\n",
       "                          ckg_series_id     imdb_id primary_genre  \\\n",
       "0                 GYyRIgQNLUhu1wwEAAAAF   tt4998632        Action   \n",
       "1  1e047963-2433-4a1a-8095-830022a0ce57  tt10343028         Drama   \n",
       "2  0b926c5b-b8e4-401c-ba69-783ce07ad098  tt12789558         Drama   \n",
       "3  0c730836-253b-4338-a3d1-a6a44a3384e0   tt6443346        Action   \n",
       "4  b0598032-1cfd-4605-af5b-52ee492ce717   tt1924245         Drama   \n",
       "\n",
       "  latam_home_medal first_release_date theatrical_date  days_from_theatrical  \\\n",
       "0           Silver         2022-11-24      2022-03-17                   252   \n",
       "1           Bronze         2023-08-10      2023-03-16                   147   \n",
       "2           Bronze         2022-10-27      2022-03-10                   231   \n",
       "3         Platinum         2022-12-16      2022-10-20                    57   \n",
       "4           Silver         2021-10-21      2021-10-21                     0   \n",
       "\n",
       "    area_gross         budget  genre_Action  medal_number  genre_Comedy  \\\n",
       "0 1,218,886.00  40,000,000.00             1             2             0   \n",
       "1     3,967.00  15,000,000.00             0             3             0   \n",
       "2   109,066.00  11,000,000.00             0             3             0   \n",
       "3 9,282,592.00 195,000,000.00             1             0             0   \n",
       "4   102,285.00  33,000,000.00             0             2             0   \n",
       "\n",
       "   genre_Drama  cumulative_viewing_subscribers  \n",
       "0            0                    1,107,532.00  \n",
       "1            1                       34,968.00  \n",
       "2            1                      137,179.00  \n",
       "3            0                    5,705,318.00  \n",
       "4            1                      672,638.00  "
      ]
     },
     "execution_count": 17,
     "metadata": {},
     "output_type": "execute_result"
    }
   ],
   "source": [
    "training_data[META_COLS+FEATURE_COLS+TARGET_COL].head()"
   ]
  },
  {
   "cell_type": "code",
   "execution_count": 18,
   "id": "0a55c546",
   "metadata": {},
   "outputs": [
    {
     "data": {
      "text/html": [
       "<div>\n",
       "<style scoped>\n",
       "    .dataframe tbody tr th:only-of-type {\n",
       "        vertical-align: middle;\n",
       "    }\n",
       "\n",
       "    .dataframe tbody tr th {\n",
       "        vertical-align: top;\n",
       "    }\n",
       "\n",
       "    .dataframe thead th {\n",
       "        text-align: right;\n",
       "    }\n",
       "</style>\n",
       "<table border=\"1\" class=\"dataframe\">\n",
       "  <thead>\n",
       "    <tr style=\"text-align: right;\">\n",
       "      <th></th>\n",
       "      <th>Unnamed: 0</th>\n",
       "      <th>title_series</th>\n",
       "      <th>legacy_series_id</th>\n",
       "      <th>ckg_series_id</th>\n",
       "      <th>imdb_id</th>\n",
       "      <th>program_type</th>\n",
       "      <th>primary_genre</th>\n",
       "      <th>first_release_date</th>\n",
       "      <th>theatrical_date</th>\n",
       "      <th>area_gross</th>\n",
       "      <th>budget</th>\n",
       "      <th>observed_medal</th>\n",
       "      <th>latam_home_medal</th>\n",
       "      <th>day_on_max</th>\n",
       "      <th>cumulative_viewing_subscribers</th>\n",
       "      <th>cumulative_first_views</th>\n",
       "      <th>percent_cumulative_viewing_subscribers</th>\n",
       "      <th>percent_cumulative_first_views</th>\n",
       "      <th>days_from_theatrical</th>\n",
       "      <th>genre_Action</th>\n",
       "      <th>genre_Comedy</th>\n",
       "      <th>genre_Drama</th>\n",
       "      <th>genre_Fantasy &amp; Sci-Fi</th>\n",
       "      <th>genre_Horror</th>\n",
       "      <th>genre_Kids &amp; Family</th>\n",
       "      <th>genre_Music</th>\n",
       "      <th>genre_Not A Genre</th>\n",
       "      <th>medal_Bronze</th>\n",
       "      <th>medal_Gold</th>\n",
       "      <th>medal_Platinum</th>\n",
       "      <th>medal_Silver</th>\n",
       "      <th>medal_number</th>\n",
       "      <th>log_cumulative_first_views</th>\n",
       "      <th>log_cumulative_viewing_subs</th>\n",
       "    </tr>\n",
       "  </thead>\n",
       "  <tbody>\n",
       "    <tr>\n",
       "      <th>28</th>\n",
       "      <td>49</td>\n",
       "      <td>Mrs. Harris Goes to Paris</td>\n",
       "      <td>GZIHoeQqXaZOmPwEAAAyV</td>\n",
       "      <td>44d70775-f7a0-47d4-ad78-1a9fdc11a63a</td>\n",
       "      <td>tt5151570</td>\n",
       "      <td>Acquired</td>\n",
       "      <td>Comedy</td>\n",
       "      <td>2023-07-06</td>\n",
       "      <td>2022-10-27</td>\n",
       "      <td>198,659.00</td>\n",
       "      <td>13,000,000.00</td>\n",
       "      <td>NaN</td>\n",
       "      <td>Bronze</td>\n",
       "      <td>90.00</td>\n",
       "      <td>3,499.00</td>\n",
       "      <td>166.00</td>\n",
       "      <td>0.03</td>\n",
       "      <td>0.01</td>\n",
       "      <td>252</td>\n",
       "      <td>0</td>\n",
       "      <td>1</td>\n",
       "      <td>0</td>\n",
       "      <td>0</td>\n",
       "      <td>0</td>\n",
       "      <td>0</td>\n",
       "      <td>0</td>\n",
       "      <td>0</td>\n",
       "      <td>1</td>\n",
       "      <td>0</td>\n",
       "      <td>0</td>\n",
       "      <td>0</td>\n",
       "      <td>3</td>\n",
       "      <td>7.38</td>\n",
       "      <td>11.77</td>\n",
       "    </tr>\n",
       "  </tbody>\n",
       "</table>\n",
       "</div>"
      ],
      "text/plain": [
       "    Unnamed: 0               title_series       legacy_series_id  \\\n",
       "28          49  Mrs. Harris Goes to Paris  GZIHoeQqXaZOmPwEAAAyV   \n",
       "\n",
       "                           ckg_series_id    imdb_id program_type  \\\n",
       "28  44d70775-f7a0-47d4-ad78-1a9fdc11a63a  tt5151570     Acquired   \n",
       "\n",
       "   primary_genre first_release_date theatrical_date  area_gross        budget  \\\n",
       "28        Comedy         2023-07-06      2022-10-27  198,659.00 13,000,000.00   \n",
       "\n",
       "   observed_medal latam_home_medal  day_on_max  \\\n",
       "28            NaN           Bronze       90.00   \n",
       "\n",
       "    cumulative_viewing_subscribers  cumulative_first_views  \\\n",
       "28                        3,499.00                  166.00   \n",
       "\n",
       "    percent_cumulative_viewing_subscribers  percent_cumulative_first_views  \\\n",
       "28                                    0.03                            0.01   \n",
       "\n",
       "    days_from_theatrical  genre_Action  genre_Comedy  genre_Drama  \\\n",
       "28                   252             0             1            0   \n",
       "\n",
       "    genre_Fantasy & Sci-Fi  genre_Horror  genre_Kids & Family  genre_Music  \\\n",
       "28                       0             0                    0            0   \n",
       "\n",
       "    genre_Not A Genre  medal_Bronze  medal_Gold  medal_Platinum  medal_Silver  \\\n",
       "28                  0             1           0               0             0   \n",
       "\n",
       "    medal_number  log_cumulative_first_views  log_cumulative_viewing_subs  \n",
       "28             3                        7.38                        11.77  "
      ]
     },
     "execution_count": 18,
     "metadata": {},
     "output_type": "execute_result"
    }
   ],
   "source": [
    "training_data[training_data['title_series'].str.contains('Harris')]"
   ]
  },
  {
   "cell_type": "code",
   "execution_count": 19,
   "id": "c32bdc4e",
   "metadata": {},
   "outputs": [],
   "source": [
    "training_data = training_data[training_data['ckg_series_id']!= '44d70775-f7a0-47d4-ad78-1a9fdc11a63a'] \n",
    "#Excluding <Mrs. Harris Goes to Paris> cuz it has extremely low viewership"
   ]
  },
  {
   "cell_type": "code",
   "execution_count": 20,
   "id": "ee454556",
   "metadata": {},
   "outputs": [],
   "source": [
    "# training_data[np.isinf(training_data['cumulative_viewing_subscribers'])]\n",
    "# training_data[FEATURE_COLS].isnull()"
   ]
  },
  {
   "cell_type": "markdown",
   "id": "8d105b97",
   "metadata": {},
   "source": [
    "## 1.1 Cross Validation"
   ]
  },
  {
   "cell_type": "code",
   "execution_count": 21,
   "id": "fba4734d",
   "metadata": {},
   "outputs": [],
   "source": [
    "def cal_error(validation_set):\n",
    "    error_col = (validation_set['pred']-validation_set[TARGET_COL[0]]).abs()/validation_set[TARGET_COL[0]]\n",
    "    return error_col.mean()"
   ]
  },
  {
   "cell_type": "code",
   "execution_count": 22,
   "id": "a43d4dbb",
   "metadata": {},
   "outputs": [],
   "source": [
    "def cal_true_error(validation_set):\n",
    "    error_col = (validation_set['pred_antilog']-validation_set['cumulative_viewing_subscribers']).abs()/validation_set['cumulative_viewing_subscribers']\n",
    "    return error_col.mean()"
   ]
  },
  {
   "cell_type": "markdown",
   "id": "6d3474a4",
   "metadata": {},
   "source": [
    "### 1.11 Random Forest CV - Benchmarking"
   ]
  },
  {
   "cell_type": "code",
   "execution_count": 23,
   "id": "e7baf7b7",
   "metadata": {},
   "outputs": [],
   "source": [
    "num_folds = len(training_data['ckg_series_id'].unique())\n",
    "group_kfold = GroupKFold(n_splits=num_folds)"
   ]
  },
  {
   "cell_type": "code",
   "execution_count": 24,
   "id": "9ead7f9b",
   "metadata": {},
   "outputs": [
    {
     "data": {
      "text/plain": [
       "55"
      ]
     },
     "execution_count": 24,
     "metadata": {},
     "output_type": "execute_result"
    }
   ],
   "source": [
    "num_folds"
   ]
  },
  {
   "cell_type": "code",
   "execution_count": null,
   "id": "8cf2f0e4",
   "metadata": {},
   "outputs": [],
   "source": []
  },
  {
   "cell_type": "code",
   "execution_count": 27,
   "id": "08c89e88",
   "metadata": {
    "collapsed": true,
    "jupyter": {
     "outputs_hidden": true
    }
   },
   "outputs": [
    {
     "name": "stdout",
     "output_type": "stream",
     "text": [
      "Validation Title: Love Again\n",
      "Validation Title: Space Jam: A New Legacy\n",
      "Validation Title: Where The Crawdads Sing\n",
      "Validation Title: The Fabelmans\n",
      "Validation Title: Tár\n",
      "Validation Title: Evil Dead Rise\n",
      "Validation Title: The Nun II\n",
      "Validation Title: Those Who Wish Me Dead\n",
      "Validation Title: Halloween Kills\n",
      "Validation Title: Elvis\n",
      "Validation Title: Puss in Boots: The Last Wish\n",
      "Validation Title: The Flash\n",
      "Validation Title: Jesus Revolution\n",
      "Validation Title: Violent Night\n",
      "Validation Title: The Boss Baby: Family Business\n",
      "Validation Title: Mortal Kombat\n",
      "Validation Title: Fantastic Beasts: The Secrets of Dumbledore\n",
      "Validation Title: F9: The Fast Saga\n",
      "Validation Title: Armageddon Time\n",
      "Validation Title: Knock at the Cabin\n",
      "Validation Title: The Suicide Squad\n",
      "Validation Title: Last Night In Soho\n",
      "Validation Title: Insidious: The Red Door\n",
      "Validation Title: Black Adam\n",
      "Validation Title: Belfast\n",
      "Validation Title: Spider-Man: Across The Spider-Verse\n",
      "Validation Title: Spirit Untamed\n",
      "Validation Title: Venom: Let There Be Carnage\n",
      "Validation Title: Shazam! Fury of the Gods\n",
      "Validation Title: The Many Saints Of Newark\n",
      "Validation Title: Malignant\n",
      "Validation Title: The Pope's Exorcist\n",
      "Validation Title: King Richard\n",
      "Validation Title: Meg 2: The Trench\n",
      "Validation Title: Reminiscence\n",
      "Validation Title: Dune\n",
      "Validation Title: No Hard Feelings\n",
      "Validation Title: The Batman\n",
      "Validation Title: The Forever Purge\n",
      "Validation Title: Don't Worry Darling\n",
      "Validation Title: M3GAN\n",
      "Validation Title: Old\n",
      "Validation Title: Ghostbusters: Afterlife\n",
      "Validation Title: Cry Macho\n",
      "Validation Title: The Grandmother\n",
      "Validation Title: Ambulance\n",
      "Validation Title: Studio 666\n",
      "Validation Title: Marry Me\n",
      "Validation Title: Sing 2\n",
      "Validation Title: Father Stu\n",
      "Validation Title: Uncharted\n",
      "Validation Title: Morbius\n",
      "Validation Title: Spider-Man: No Way Home\n",
      "Validation Title: Resident Evil: Welcome to Raccoon City\n",
      "Validation Title: DC League of Super-Pets\n"
     ]
    }
   ],
   "source": [
    "validation_set = pd.DataFrame()\n",
    "feature_importances = pd.DataFrame()\n",
    "model = GradientBoostingRegressor(random_state=0)\n",
    "\n",
    "for train_index, test_index in group_kfold.split(training_data, groups=training_data['ckg_series_id'].values):\n",
    "    train_df, test_df = training_data.iloc[train_index], training_data.iloc[test_index]\n",
    "    print (\"Validation Title: \" + test_df['title_series'].values[0])\n",
    "    try:\n",
    "        ## fit_predict prelaunch model\n",
    "        X_train, X_test = train_df[FEATURE_COLS], test_df[FEATURE_COLS]\n",
    "        y_train, y_test = train_df[TARGET_COL], test_df[TARGET_COL]\n",
    "\n",
    "        model.fit(X_train, y_train)\n",
    "        pred = model.predict(X_test)\n",
    "        pred = pd.DataFrame(pred)\n",
    "        pred.columns = ['pred']\n",
    "        test_df.reset_index(inplace = True, drop = True)\n",
    "        test_df = pd.concat([test_df, pred], axis = 1)\n",
    "        validation_set = pd.concat([validation_set, test_df], axis = 0)\n",
    "\n",
    "#         fi = model.feature_importances_\n",
    "#         fi_df = pd.DataFrame([fi])\n",
    "#         fi_df.columns = FEATURE_COLS\n",
    "#         fi_df['match_id'] = test_df['match_id'].values[0]\n",
    "#         fi_df['title_name'] = test_df['title_name'].values[0]\n",
    "#         fi_df['days_on_hbo_max'] = day\n",
    "#         feature_importances=pd.concat([feature_importances, fi_df], axis = 0)\n",
    "\n",
    "    except (KeyboardInterrupt, SystemExit):\n",
    "        raise\n",
    "\n",
    "    except Exception as ex:\n",
    "        print(ex)\n",
    "        print (test_df['title_series'].values[0] + \" Failed!!\")\n",
    "        # raise"
   ]
  },
  {
   "cell_type": "code",
   "execution_count": 58,
   "id": "b0203906",
   "metadata": {},
   "outputs": [],
   "source": [
    "# validation_set.to_csv('validation_set.csv')"
   ]
  },
  {
   "cell_type": "code",
   "execution_count": 28,
   "id": "dee2e9c7",
   "metadata": {},
   "outputs": [],
   "source": [
    "import shap"
   ]
  },
  {
   "cell_type": "code",
   "execution_count": 29,
   "id": "cb329a10",
   "metadata": {},
   "outputs": [],
   "source": [
    "explainer = shap.Explainer(model)\n",
    "shap_values = explainer.shap_values(X_train)"
   ]
  },
  {
   "cell_type": "code",
   "execution_count": 30,
   "id": "acda0a19",
   "metadata": {},
   "outputs": [
    {
     "data": {
      "image/png": "[encoded data removed]",
      "text/plain": [
       "<Figure size 576x309.6 with 2 Axes>"
      ]
     },
     "metadata": {
      "needs_background": "light"
     },
     "output_type": "display_data"
    }
   ],
   "source": [
    "shap.summary_plot(shap_values, X_train)"
   ]
  },
  {
   "cell_type": "code",
   "execution_count": 31,
   "id": "43f50fae",
   "metadata": {},
   "outputs": [
    {
     "data": {
      "text/plain": [
       "0.5982061419754576"
      ]
     },
     "execution_count": 31,
     "metadata": {},
     "output_type": "execute_result"
    }
   ],
   "source": [
    "cal_error(validation_set)"
   ]
  },
  {
   "cell_type": "code",
   "execution_count": 32,
   "id": "d6cfbdb8",
   "metadata": {},
   "outputs": [],
   "source": [
    "# validation_set['pred_antilog'] = 2**(validation_set['pred'])"
   ]
  },
  {
   "cell_type": "code",
   "execution_count": 33,
   "id": "2f6139b5",
   "metadata": {},
   "outputs": [],
   "source": [
    "# cal_true_error(validation_set)"
   ]
  },
  {
   "cell_type": "code",
   "execution_count": 34,
   "id": "46d07b37",
   "metadata": {},
   "outputs": [],
   "source": [
    "# validation_set['pct_error'] = (validation_set['pred_antilog']-validation_set['cumulative_viewing_subscribers']).abs()/validation_set['cumulative_viewing_subscribers']\n",
    "validation_set['pct_error'] = (validation_set['pred']-validation_set[TARGET_COL[0]]).abs()/validation_set[TARGET_COL[0]]"
   ]
  },
  {
   "cell_type": "code",
   "execution_count": 35,
   "id": "56f4afbe",
   "metadata": {},
   "outputs": [
    {
     "data": {
      "text/html": [
       "<div>\n",
       "<style scoped>\n",
       "    .dataframe tbody tr th:only-of-type {\n",
       "        vertical-align: middle;\n",
       "    }\n",
       "\n",
       "    .dataframe tbody tr th {\n",
       "        vertical-align: top;\n",
       "    }\n",
       "\n",
       "    .dataframe thead th {\n",
       "        text-align: right;\n",
       "    }\n",
       "</style>\n",
       "<table border=\"1\" class=\"dataframe\">\n",
       "  <thead>\n",
       "    <tr style=\"text-align: right;\">\n",
       "      <th></th>\n",
       "      <th>Unnamed: 0</th>\n",
       "      <th>title_series</th>\n",
       "      <th>legacy_series_id</th>\n",
       "      <th>ckg_series_id</th>\n",
       "      <th>imdb_id</th>\n",
       "      <th>program_type</th>\n",
       "      <th>primary_genre</th>\n",
       "      <th>first_release_date</th>\n",
       "      <th>theatrical_date</th>\n",
       "      <th>area_gross</th>\n",
       "      <th>budget</th>\n",
       "      <th>observed_medal</th>\n",
       "      <th>latam_home_medal</th>\n",
       "      <th>day_on_max</th>\n",
       "      <th>cumulative_viewing_subscribers</th>\n",
       "      <th>cumulative_first_views</th>\n",
       "      <th>percent_cumulative_viewing_subscribers</th>\n",
       "      <th>percent_cumulative_first_views</th>\n",
       "      <th>days_from_theatrical</th>\n",
       "      <th>genre_Action</th>\n",
       "      <th>genre_Comedy</th>\n",
       "      <th>genre_Drama</th>\n",
       "      <th>genre_Fantasy &amp; Sci-Fi</th>\n",
       "      <th>genre_Horror</th>\n",
       "      <th>genre_Kids &amp; Family</th>\n",
       "      <th>genre_Music</th>\n",
       "      <th>genre_Not A Genre</th>\n",
       "      <th>medal_Bronze</th>\n",
       "      <th>medal_Gold</th>\n",
       "      <th>medal_Platinum</th>\n",
       "      <th>medal_Silver</th>\n",
       "      <th>medal_number</th>\n",
       "      <th>log_cumulative_first_views</th>\n",
       "      <th>log_cumulative_viewing_subs</th>\n",
       "      <th>pred</th>\n",
       "      <th>pct_error</th>\n",
       "    </tr>\n",
       "  </thead>\n",
       "  <tbody>\n",
       "    <tr>\n",
       "      <th>0</th>\n",
       "      <td>94</td>\n",
       "      <td>Violent Night</td>\n",
       "      <td>GZKSpngBMw6d9XQEAAA8l</td>\n",
       "      <td>4b0ffcd7-1ebf-4b03-87c8-d5ac46d6aa0a</td>\n",
       "      <td>tt12003946</td>\n",
       "      <td>Acquired</td>\n",
       "      <td>Action</td>\n",
       "      <td>2023-07-27</td>\n",
       "      <td>2022-12-01</td>\n",
       "      <td>728,319.00</td>\n",
       "      <td>20,000,000.00</td>\n",
       "      <td>Bronze</td>\n",
       "      <td>Bronze</td>\n",
       "      <td>90.00</td>\n",
       "      <td>83,186.00</td>\n",
       "      <td>2,127.00</td>\n",
       "      <td>0.70</td>\n",
       "      <td>0.08</td>\n",
       "      <td>238</td>\n",
       "      <td>1</td>\n",
       "      <td>0</td>\n",
       "      <td>0</td>\n",
       "      <td>0</td>\n",
       "      <td>0</td>\n",
       "      <td>0</td>\n",
       "      <td>0</td>\n",
       "      <td>0</td>\n",
       "      <td>1</td>\n",
       "      <td>0</td>\n",
       "      <td>0</td>\n",
       "      <td>0</td>\n",
       "      <td>3</td>\n",
       "      <td>11.05</td>\n",
       "      <td>16.34</td>\n",
       "      <td>412,123.17</td>\n",
       "      <td>3.95</td>\n",
       "    </tr>\n",
       "    <tr>\n",
       "      <th>0</th>\n",
       "      <td>3</td>\n",
       "      <td>Armageddon Time</td>\n",
       "      <td>GZK1nDg0nFaXCwgEAABAp</td>\n",
       "      <td>1e047963-2433-4a1a-8095-830022a0ce57</td>\n",
       "      <td>tt10343028</td>\n",
       "      <td>Acquired</td>\n",
       "      <td>Drama</td>\n",
       "      <td>2023-08-10</td>\n",
       "      <td>2023-03-16</td>\n",
       "      <td>3,967.00</td>\n",
       "      <td>15,000,000.00</td>\n",
       "      <td>Bronze</td>\n",
       "      <td>Bronze</td>\n",
       "      <td>90.00</td>\n",
       "      <td>34,968.00</td>\n",
       "      <td>226.00</td>\n",
       "      <td>0.30</td>\n",
       "      <td>0.01</td>\n",
       "      <td>147</td>\n",
       "      <td>0</td>\n",
       "      <td>0</td>\n",
       "      <td>1</td>\n",
       "      <td>0</td>\n",
       "      <td>0</td>\n",
       "      <td>0</td>\n",
       "      <td>0</td>\n",
       "      <td>0</td>\n",
       "      <td>1</td>\n",
       "      <td>0</td>\n",
       "      <td>0</td>\n",
       "      <td>0</td>\n",
       "      <td>3</td>\n",
       "      <td>7.82</td>\n",
       "      <td>15.09</td>\n",
       "      <td>374,595.17</td>\n",
       "      <td>9.71</td>\n",
       "    </tr>\n",
       "    <tr>\n",
       "      <th>0</th>\n",
       "      <td>64</td>\n",
       "      <td>Spirit Untamed</td>\n",
       "      <td>GYfPcDwo9ccPDwwEAAAAD</td>\n",
       "      <td>GYfPcDwo9ccPDwwEAAAAD</td>\n",
       "      <td>tt11084896</td>\n",
       "      <td>Acquired</td>\n",
       "      <td>Comedy</td>\n",
       "      <td>2022-02-03</td>\n",
       "      <td>2021-08-19</td>\n",
       "      <td>401,606.00</td>\n",
       "      <td>30,000,000.00</td>\n",
       "      <td>Bronze</td>\n",
       "      <td>Bronze</td>\n",
       "      <td>90.00</td>\n",
       "      <td>67,563.00</td>\n",
       "      <td>387.00</td>\n",
       "      <td>0.68</td>\n",
       "      <td>0.01</td>\n",
       "      <td>168</td>\n",
       "      <td>0</td>\n",
       "      <td>1</td>\n",
       "      <td>0</td>\n",
       "      <td>0</td>\n",
       "      <td>0</td>\n",
       "      <td>0</td>\n",
       "      <td>0</td>\n",
       "      <td>0</td>\n",
       "      <td>1</td>\n",
       "      <td>0</td>\n",
       "      <td>0</td>\n",
       "      <td>0</td>\n",
       "      <td>3</td>\n",
       "      <td>8.60</td>\n",
       "      <td>16.04</td>\n",
       "      <td>221,230.44</td>\n",
       "      <td>2.27</td>\n",
       "    </tr>\n",
       "  </tbody>\n",
       "</table>\n",
       "</div>"
      ],
      "text/plain": [
       "   Unnamed: 0     title_series       legacy_series_id  \\\n",
       "0          94    Violent Night  GZKSpngBMw6d9XQEAAA8l   \n",
       "0           3  Armageddon Time  GZK1nDg0nFaXCwgEAABAp   \n",
       "0          64   Spirit Untamed  GYfPcDwo9ccPDwwEAAAAD   \n",
       "\n",
       "                          ckg_series_id     imdb_id program_type  \\\n",
       "0  4b0ffcd7-1ebf-4b03-87c8-d5ac46d6aa0a  tt12003946     Acquired   \n",
       "0  1e047963-2433-4a1a-8095-830022a0ce57  tt10343028     Acquired   \n",
       "0                 GYfPcDwo9ccPDwwEAAAAD  tt11084896     Acquired   \n",
       "\n",
       "  primary_genre first_release_date theatrical_date  area_gross        budget  \\\n",
       "0        Action         2023-07-27      2022-12-01  728,319.00 20,000,000.00   \n",
       "0         Drama         2023-08-10      2023-03-16    3,967.00 15,000,000.00   \n",
       "0        Comedy         2022-02-03      2021-08-19  401,606.00 30,000,000.00   \n",
       "\n",
       "  observed_medal latam_home_medal  day_on_max  cumulative_viewing_subscribers  \\\n",
       "0         Bronze           Bronze       90.00                       83,186.00   \n",
       "0         Bronze           Bronze       90.00                       34,968.00   \n",
       "0         Bronze           Bronze       90.00                       67,563.00   \n",
       "\n",
       "   cumulative_first_views  percent_cumulative_viewing_subscribers  \\\n",
       "0                2,127.00                                    0.70   \n",
       "0                  226.00                                    0.30   \n",
       "0                  387.00                                    0.68   \n",
       "\n",
       "   percent_cumulative_first_views  days_from_theatrical  genre_Action  \\\n",
       "0                            0.08                   238             1   \n",
       "0                            0.01                   147             0   \n",
       "0                            0.01                   168             0   \n",
       "\n",
       "   genre_Comedy  genre_Drama  genre_Fantasy & Sci-Fi  genre_Horror  \\\n",
       "0             0            0                       0             0   \n",
       "0             0            1                       0             0   \n",
       "0             1            0                       0             0   \n",
       "\n",
       "   genre_Kids & Family  genre_Music  genre_Not A Genre  medal_Bronze  \\\n",
       "0                    0            0                  0             1   \n",
       "0                    0            0                  0             1   \n",
       "0                    0            0                  0             1   \n",
       "\n",
       "   medal_Gold  medal_Platinum  medal_Silver  medal_number  \\\n",
       "0           0               0             0             3   \n",
       "0           0               0             0             3   \n",
       "0           0               0             0             3   \n",
       "\n",
       "   log_cumulative_first_views  log_cumulative_viewing_subs       pred  \\\n",
       "0                       11.05                        16.34 412,123.17   \n",
       "0                        7.82                        15.09 374,595.17   \n",
       "0                        8.60                        16.04 221,230.44   \n",
       "\n",
       "   pct_error  \n",
       "0       3.95  \n",
       "0       9.71  \n",
       "0       2.27  "
      ]
     },
     "execution_count": 35,
     "metadata": {},
     "output_type": "execute_result"
    }
   ],
   "source": [
    "validation_set[validation_set['pct_error']>2]"
   ]
  },
  {
   "cell_type": "code",
   "execution_count": 36,
   "id": "5df3970a",
   "metadata": {},
   "outputs": [
    {
     "data": {
      "text/plain": [
       "0.5982061419754576"
      ]
     },
     "execution_count": 36,
     "metadata": {},
     "output_type": "execute_result"
    }
   ],
   "source": [
    "cal_error(validation_set)"
   ]
  },
  {
   "cell_type": "code",
   "execution_count": 37,
   "id": "df4c25d5",
   "metadata": {},
   "outputs": [
    {
     "data": {
      "text/plain": [
       "latam_home_medal\n",
       "Bronze     1.63\n",
       "Gold       0.27\n",
       "Platinum   0.24\n",
       "Silver     0.23\n",
       "Name: pct_error, dtype: float64"
      ]
     },
     "execution_count": 37,
     "metadata": {},
     "output_type": "execute_result"
    }
   ],
   "source": [
    "validation_set.groupby(['latam_home_medal']).pct_error.mean()"
   ]
  },
  {
   "cell_type": "markdown",
   "id": "51dfef3f",
   "metadata": {},
   "source": [
    "### 1.12 Bayesian Regression CV"
   ]
  },
  {
   "cell_type": "code",
   "execution_count": 40,
   "id": "1ea28099",
   "metadata": {
    "collapsed": true,
    "jupyter": {
     "outputs_hidden": true
    }
   },
   "outputs": [
    {
     "name": "stdout",
     "output_type": "stream",
     "text": [
      "Collecting pygam\n",
      "  Downloading pygam-0.8.0-py2.py3-none-any.whl (1.8 MB)\n",
      "     |████████████████████████████████| 1.8 MB 21.4 MB/s            \n",
      "\u001b[?25hCollecting progressbar2\n",
      "  Downloading progressbar2-3.55.0-py2.py3-none-any.whl (26 kB)\n",
      "Requirement already satisfied: scipy in /home/ec2-user/anaconda3/envs/python3/lib/python3.6/site-packages (from pygam) (1.5.3)\n",
      "Requirement already satisfied: numpy in /home/ec2-user/anaconda3/envs/python3/lib/python3.6/site-packages (from pygam) (1.19.5)\n",
      "Requirement already satisfied: future in /home/ec2-user/anaconda3/envs/python3/lib/python3.6/site-packages (from pygam) (0.18.2)\n",
      "Collecting python-utils>=2.3.0\n",
      "  Downloading python_utils-3.5.2-py2.py3-none-any.whl (24 kB)\n",
      "Requirement already satisfied: six in /home/ec2-user/anaconda3/envs/python3/lib/python3.6/site-packages (from progressbar2->pygam) (1.15.0)\n",
      "Requirement already satisfied: typing-extensions in /home/ec2-user/anaconda3/envs/python3/lib/python3.6/site-packages (from python-utils>=2.3.0->progressbar2->pygam) (4.0.1)\n",
      "Installing collected packages: python-utils, progressbar2, pygam\n",
      "Successfully installed progressbar2-3.55.0 pygam-0.8.0 python-utils-3.5.2\n"
     ]
    }
   ],
   "source": [
    "!pip install pygam"
   ]
  },
  {
   "cell_type": "code",
   "execution_count": 42,
   "id": "a6471e9f",
   "metadata": {},
   "outputs": [],
   "source": [
    "from pygam import LinearGAM, s, f\n",
    "from pygam import PoissonGAM\n",
    "from pygam import LogisticGAM"
   ]
  },
  {
   "cell_type": "code",
   "execution_count": 43,
   "id": "d897c073",
   "metadata": {},
   "outputs": [],
   "source": [
    "FEATURE_COLS = ['days_from_theatrical', 'area_gross' , 'medal_number'\n",
    "                 ,'genre_Comedy','genre_Action', 'budget', 'genre_Drama'\n",
    "               ]\n",
    "                #,'genre_Horror ', 'genre_Kids/Family', 'genre_Romance', 'genre_Sci-Fi', 'genre_Suspense/Thriller', ]"
   ]
  },
  {
   "cell_type": "code",
   "execution_count": 44,
   "id": "154918cd",
   "metadata": {},
   "outputs": [],
   "source": [
    "TARGET_COL = ['log_cumulative_viewing_subs'] # cumulative_first_views"
   ]
  },
  {
   "cell_type": "code",
   "execution_count": 45,
   "id": "dd137490",
   "metadata": {},
   "outputs": [],
   "source": [
    "num_folds = len(training_data['ckg_series_id'].unique())\n",
    "group_kfold = GroupKFold(n_splits=num_folds)"
   ]
  },
  {
   "cell_type": "code",
   "execution_count": 46,
   "id": "ef6a40a8",
   "metadata": {},
   "outputs": [
    {
     "data": {
      "text/plain": [
       "55"
      ]
     },
     "execution_count": 46,
     "metadata": {},
     "output_type": "execute_result"
    }
   ],
   "source": [
    "num_folds"
   ]
  },
  {
   "cell_type": "code",
   "execution_count": 47,
   "id": "5344919c",
   "metadata": {},
   "outputs": [
    {
     "data": {
      "text/plain": [
       "days_from_theatrical   0.00\n",
       "area_gross             0.00\n",
       "medal_number           0.00\n",
       "genre_Comedy           0.00\n",
       "genre_Action           0.00\n",
       "budget                 0.00\n",
       "genre_Drama            0.00\n",
       "dtype: float64"
      ]
     },
     "execution_count": 47,
     "metadata": {},
     "output_type": "execute_result"
    }
   ],
   "source": [
    "training_data[FEATURE_COLS].isnull().sum()/len(training_data)"
   ]
  },
  {
   "cell_type": "code",
   "execution_count": 48,
   "id": "8be3fc57",
   "metadata": {},
   "outputs": [],
   "source": [
    "training_data['area_gross'] = training_data['area_gross'].fillna(0)\n",
    "training_data['budget'] = training_data['budget'].fillna(0)"
   ]
  },
  {
   "cell_type": "code",
   "execution_count": 49,
   "id": "2d8e98bd",
   "metadata": {},
   "outputs": [],
   "source": [
    "### DOWNSIDE --- DO NOT TAKE NULL ####\n",
    "validation_set = pd.DataFrame()\n",
    "# feature_importances = pd.DataFrame()\n",
    "# gam = LinearGAM(s(0))\n",
    "\n",
    "for train_index, test_index in group_kfold.split(training_data, groups=training_data['ckg_series_id'].values):\n",
    "    train_df, test_df = training_data.iloc[train_index], training_data.iloc[test_index]\n",
    "#     print (\"Validation Title: \" + test_df['title'].values[0])\n",
    "    try:\n",
    "        ## fit_predict prelaunch model\n",
    "        X_train, X_test = train_df[FEATURE_COLS], test_df[FEATURE_COLS]\n",
    "        y_train, y_test = train_df[TARGET_COL], test_df[TARGET_COL]\n",
    "\n",
    "#         gam = LinearGAM(n_splines=10).fit(X_train, y_train)\n",
    "        gam = LinearGAM(s(0) + s(1) + s(2)).fit(X_train, y_train)\n",
    "        pred = gam.predict(X_test)\n",
    "        pred = pd.DataFrame(pred)\n",
    "        pred.columns = ['pred']\n",
    "        test_df.reset_index(inplace = True, drop = True)\n",
    "        test_df = pd.concat([test_df, pred], axis = 1)\n",
    "        validation_set = pd.concat([validation_set, test_df], axis = 0)\n",
    "\n",
    "    except Exception as e:\n",
    "        print (e)\n",
    "        raise "
   ]
  },
  {
   "cell_type": "code",
   "execution_count": 50,
   "id": "02f4f7ac",
   "metadata": {},
   "outputs": [
    {
     "data": {
      "text/plain": [
       "0.04220717586110839"
      ]
     },
     "execution_count": 50,
     "metadata": {},
     "output_type": "execute_result"
    }
   ],
   "source": [
    "cal_error(validation_set)"
   ]
  },
  {
   "cell_type": "code",
   "execution_count": 51,
   "id": "e2ce06b1",
   "metadata": {},
   "outputs": [],
   "source": [
    "validation_set['pred_antilog'] = 2**(validation_set['pred'])# - 10000"
   ]
  },
  {
   "cell_type": "code",
   "execution_count": 52,
   "id": "15e62c00",
   "metadata": {},
   "outputs": [
    {
     "data": {
      "text/plain": [
       "973.9273431002227"
      ]
     },
     "execution_count": 52,
     "metadata": {},
     "output_type": "execute_result"
    }
   ],
   "source": [
    "cal_true_error(validation_set)"
   ]
  },
  {
   "cell_type": "code",
   "execution_count": 161,
   "id": "858eb410",
   "metadata": {},
   "outputs": [],
   "source": [
    "# validation_set['pct_error'] = (validation_set['pred']-validation_set[TARGET_COL[0]]).abs()/validation_set[TARGET_COL[0]]\n",
    "validation_set['pct_error'] = (validation_set['pred_antilog']-validation_set['cumulative_viewing_subscribers']).abs()/validation_set['cumulative_viewing_subscribers']"
   ]
  },
  {
   "cell_type": "code",
   "execution_count": 162,
   "id": "8e7a0d17",
   "metadata": {},
   "outputs": [
    {
     "data": {
      "text/html": [
       "<div>\n",
       "<style scoped>\n",
       "    .dataframe tbody tr th:only-of-type {\n",
       "        vertical-align: middle;\n",
       "    }\n",
       "\n",
       "    .dataframe tbody tr th {\n",
       "        vertical-align: top;\n",
       "    }\n",
       "\n",
       "    .dataframe thead th {\n",
       "        text-align: right;\n",
       "    }\n",
       "</style>\n",
       "<table border=\"1\" class=\"dataframe\">\n",
       "  <thead>\n",
       "    <tr style=\"text-align: right;\">\n",
       "      <th></th>\n",
       "      <th>title_series</th>\n",
       "      <th>legacy_series_id</th>\n",
       "      <th>ckg_series_id</th>\n",
       "      <th>imdb_id</th>\n",
       "      <th>primary_genre</th>\n",
       "      <th>latam_home_medal</th>\n",
       "      <th>first_release_date</th>\n",
       "      <th>theatrical_date</th>\n",
       "      <th>days_from_theatrical</th>\n",
       "      <th>area_gross</th>\n",
       "      <th>genre_Drama</th>\n",
       "      <th>medal_number</th>\n",
       "      <th>log_cumulative_viewing_subs</th>\n",
       "      <th>pred</th>\n",
       "      <th>cumulative_viewing_subscribers</th>\n",
       "      <th>percent_cumulative_viewing_subscribers</th>\n",
       "      <th>pct_error</th>\n",
       "    </tr>\n",
       "  </thead>\n",
       "  <tbody>\n",
       "    <tr>\n",
       "      <th>0</th>\n",
       "      <td>Spirit Untamed</td>\n",
       "      <td>GYfPcDwo9ccPDwwEAAAAD</td>\n",
       "      <td>GYfPcDwo9ccPDwwEAAAAD</td>\n",
       "      <td>tt11084896</td>\n",
       "      <td>Comedy</td>\n",
       "      <td>Bronze</td>\n",
       "      <td>2022-02-03</td>\n",
       "      <td>2021-08-19</td>\n",
       "      <td>168</td>\n",
       "      <td>401,606.00</td>\n",
       "      <td>0</td>\n",
       "      <td>3</td>\n",
       "      <td>16.04</td>\n",
       "      <td>17.45</td>\n",
       "      <td>67,563.00</td>\n",
       "      <td>0.68</td>\n",
       "      <td>1.65</td>\n",
       "    </tr>\n",
       "    <tr>\n",
       "      <th>0</th>\n",
       "      <td>Violent Night</td>\n",
       "      <td>GZKSpngBMw6d9XQEAAA8l</td>\n",
       "      <td>4b0ffcd7-1ebf-4b03-87c8-d5ac46d6aa0a</td>\n",
       "      <td>tt12003946</td>\n",
       "      <td>Action</td>\n",
       "      <td>Bronze</td>\n",
       "      <td>2023-07-27</td>\n",
       "      <td>2022-12-01</td>\n",
       "      <td>238</td>\n",
       "      <td>728,319.00</td>\n",
       "      <td>0</td>\n",
       "      <td>3</td>\n",
       "      <td>16.34</td>\n",
       "      <td>18.00</td>\n",
       "      <td>83,186.00</td>\n",
       "      <td>0.70</td>\n",
       "      <td>2.16</td>\n",
       "    </tr>\n",
       "    <tr>\n",
       "      <th>0</th>\n",
       "      <td>Armageddon Time</td>\n",
       "      <td>GZK1nDg0nFaXCwgEAABAp</td>\n",
       "      <td>1e047963-2433-4a1a-8095-830022a0ce57</td>\n",
       "      <td>tt10343028</td>\n",
       "      <td>Drama</td>\n",
       "      <td>Bronze</td>\n",
       "      <td>2023-08-10</td>\n",
       "      <td>2023-03-16</td>\n",
       "      <td>147</td>\n",
       "      <td>3,967.00</td>\n",
       "      <td>1</td>\n",
       "      <td>3</td>\n",
       "      <td>15.09</td>\n",
       "      <td>17.71</td>\n",
       "      <td>34,968.00</td>\n",
       "      <td>0.30</td>\n",
       "      <td>5.13</td>\n",
       "    </tr>\n",
       "    <tr>\n",
       "      <th>0</th>\n",
       "      <td>Reminiscence</td>\n",
       "      <td>GYQBEaQwta8PCAAEAAAA-</td>\n",
       "      <td>e96a64f5-d1cd-491e-ad4b-8eb9200b7437</td>\n",
       "      <td>tt3272066</td>\n",
       "      <td>Fantasy &amp; Sci-Fi</td>\n",
       "      <td>Gold</td>\n",
       "      <td>2021-09-23</td>\n",
       "      <td>2021-08-19</td>\n",
       "      <td>35</td>\n",
       "      <td>354,800.00</td>\n",
       "      <td>0</td>\n",
       "      <td>1</td>\n",
       "      <td>19.62</td>\n",
       "      <td>20.71</td>\n",
       "      <td>806,082.00</td>\n",
       "      <td>10.49</td>\n",
       "      <td>1.13</td>\n",
       "    </tr>\n",
       "    <tr>\n",
       "      <th>0</th>\n",
       "      <td>Spider-Man: No Way Home</td>\n",
       "      <td>GYqeASQeezEo8igEAAACK</td>\n",
       "      <td>GYqeASQeezEo8igEAAACK</td>\n",
       "      <td>tt10872600</td>\n",
       "      <td>Action</td>\n",
       "      <td>Platinum</td>\n",
       "      <td>2022-07-21</td>\n",
       "      <td>2021-12-16</td>\n",
       "      <td>217</td>\n",
       "      <td>46,191,154.00</td>\n",
       "      <td>0</td>\n",
       "      <td>0</td>\n",
       "      <td>22.13</td>\n",
       "      <td>23.95</td>\n",
       "      <td>4,582,838.00</td>\n",
       "      <td>38.38</td>\n",
       "      <td>2.54</td>\n",
       "    </tr>\n",
       "  </tbody>\n",
       "</table>\n",
       "</div>"
      ],
      "text/plain": [
       "              title_series       legacy_series_id  \\\n",
       "0           Spirit Untamed  GYfPcDwo9ccPDwwEAAAAD   \n",
       "0            Violent Night  GZKSpngBMw6d9XQEAAA8l   \n",
       "0          Armageddon Time  GZK1nDg0nFaXCwgEAABAp   \n",
       "0             Reminiscence  GYQBEaQwta8PCAAEAAAA-   \n",
       "0  Spider-Man: No Way Home  GYqeASQeezEo8igEAAACK   \n",
       "\n",
       "                          ckg_series_id     imdb_id     primary_genre  \\\n",
       "0                 GYfPcDwo9ccPDwwEAAAAD  tt11084896            Comedy   \n",
       "0  4b0ffcd7-1ebf-4b03-87c8-d5ac46d6aa0a  tt12003946            Action   \n",
       "0  1e047963-2433-4a1a-8095-830022a0ce57  tt10343028             Drama   \n",
       "0  e96a64f5-d1cd-491e-ad4b-8eb9200b7437   tt3272066  Fantasy & Sci-Fi   \n",
       "0                 GYqeASQeezEo8igEAAACK  tt10872600            Action   \n",
       "\n",
       "  latam_home_medal first_release_date theatrical_date  days_from_theatrical  \\\n",
       "0           Bronze         2022-02-03      2021-08-19                   168   \n",
       "0           Bronze         2023-07-27      2022-12-01                   238   \n",
       "0           Bronze         2023-08-10      2023-03-16                   147   \n",
       "0             Gold         2021-09-23      2021-08-19                    35   \n",
       "0         Platinum         2022-07-21      2021-12-16                   217   \n",
       "\n",
       "     area_gross  genre_Drama  medal_number  log_cumulative_viewing_subs  pred  \\\n",
       "0    401,606.00            0             3                        16.04 17.45   \n",
       "0    728,319.00            0             3                        16.34 18.00   \n",
       "0      3,967.00            1             3                        15.09 17.71   \n",
       "0    354,800.00            0             1                        19.62 20.71   \n",
       "0 46,191,154.00            0             0                        22.13 23.95   \n",
       "\n",
       "   cumulative_viewing_subscribers  percent_cumulative_viewing_subscribers  \\\n",
       "0                       67,563.00                                    0.68   \n",
       "0                       83,186.00                                    0.70   \n",
       "0                       34,968.00                                    0.30   \n",
       "0                      806,082.00                                   10.49   \n",
       "0                    4,582,838.00                                   38.38   \n",
       "\n",
       "   pct_error  \n",
       "0       1.65  \n",
       "0       2.16  \n",
       "0       5.13  \n",
       "0       1.13  \n",
       "0       2.54  "
      ]
     },
     "execution_count": 162,
     "metadata": {},
     "output_type": "execute_result"
    }
   ],
   "source": [
    "validation_set[validation_set['pct_error']>1][META_COLS+FEATURE_COLS+TARGET_COL+\n",
    "                                              ['pred', 'cumulative_viewing_subscribers', 'percent_cumulative_viewing_subscribers'\n",
    "                                               , 'pct_error']]"
   ]
  },
  {
   "cell_type": "code",
   "execution_count": 163,
   "id": "7d2eeb8a",
   "metadata": {},
   "outputs": [
    {
     "data": {
      "text/plain": [
       "['days_from_theatrical', 'area_gross', 'genre_Drama', 'medal_number']"
      ]
     },
     "execution_count": 163,
     "metadata": {},
     "output_type": "execute_result"
    }
   ],
   "source": [
    "FEATURE_COLS"
   ]
  },
  {
   "cell_type": "code",
   "execution_count": 51,
   "id": "eb5f5013",
   "metadata": {},
   "outputs": [],
   "source": [
    "X = training_data[FEATURE_COLS]\n",
    "y = training_data[TARGET_COL]\n",
    "gam = LinearGAM(n_splines=10).fit(X, y)"
   ]
  },
  {
   "cell_type": "code",
   "execution_count": 52,
   "id": "10ea02b2",
   "metadata": {},
   "outputs": [
    {
     "name": "stdout",
     "output_type": "stream",
     "text": [
      "LinearGAM                                                                                                 \n",
      "=============================================== ==========================================================\n",
      "Distribution:                        NormalDist Effective DoF:                                     10.4964\n",
      "Link Function:                     IdentityLink Log Likelihood:                                   -63.2564\n",
      "Number of Samples:                           61 AIC:                                              149.5055\n",
      "                                                AICc:                                             155.4294\n",
      "                                                GCV:                                                0.5992\n",
      "                                                Scale:                                              0.4171\n",
      "                                                Pseudo R-Squared:                                   0.8739\n",
      "==========================================================================================================\n",
      "Feature Function                  Lambda               Rank         EDoF         P > x        Sig. Code   \n",
      "================================= ==================== ============ ============ ============ ============\n",
      "s(0)                              [0.6]                10           5.4          2.39e-01                 \n",
      "s(1)                              [0.6]                10           3.0          4.82e-02     *           \n",
      "s(2)                              [0.6]                10           2.1          2.22e-16     ***         \n",
      "intercept                                              1            0.0          1.11e-16     ***         \n",
      "==========================================================================================================\n",
      "Significance codes:  0 '***' 0.001 '**' 0.01 '*' 0.05 '.' 0.1 ' ' 1\n",
      "\n",
      "WARNING: Fitting splines and a linear function to a feature introduces a model identifiability problem\n",
      "         which can cause p-values to appear significant when they are not.\n",
      "\n",
      "WARNING: p-values calculated in this manner behave correctly for un-penalized models or models with\n",
      "         known smoothing parameters, but when smoothing parameters have been estimated, the p-values\n",
      "         are typically lower than they should be, meaning that the tests reject the null too readily.\n"
     ]
    }
   ],
   "source": [
    "gam.summary()"
   ]
  },
  {
   "cell_type": "code",
   "execution_count": 54,
   "id": "64d71e51",
   "metadata": {},
   "outputs": [
    {
     "data": {
      "image/png": "[encoded data removed]",
      "text/plain": [
       "<Figure size 1440x576 with 3 Axes>"
      ]
     },
     "metadata": {
      "needs_background": "light"
     },
     "output_type": "display_data"
    }
   ],
   "source": [
    "plt.rcParams['figure.figsize'] = (20, 8)\n",
    "fig, axs = plt.subplots(1, 3)\n",
    "titles = FEATURE_COLS\n",
    "for i, ax in enumerate(axs):\n",
    "    XX = gam.generate_X_grid(term=i)\n",
    "    pdep, confi = gam.partial_dependence(term=i, width=.95)\n",
    "\n",
    "    ax.plot(XX[:, i], pdep)\n",
    "    ax.plot(XX[:, i], confi, c='r', ls='--')\n",
    "    ax.set_title(titles[i]);"
   ]
  },
  {
   "cell_type": "code",
   "execution_count": null,
   "id": "25e88c03",
   "metadata": {},
   "outputs": [],
   "source": [
    "validation_set.groupby(['latam_home_medal']).pct_error.mean()"
   ]
  },
  {
   "cell_type": "markdown",
   "id": "41d24604",
   "metadata": {},
   "source": [
    "### 1.13 Bayesian Regression Scoring"
   ]
  },
  {
   "cell_type": "markdown",
   "id": "2e02fa73",
   "metadata": {},
   "source": [
    "#####1.131 Scoring 1"
   ]
  },
  {
   "cell_type": "code",
   "execution_count": 53,
   "id": "ccfe3c86",
   "metadata": {},
   "outputs": [
    {
     "data": {
      "text/html": [
       "<div>\n",
       "<style scoped>\n",
       "    .dataframe tbody tr th:only-of-type {\n",
       "        vertical-align: middle;\n",
       "    }\n",
       "\n",
       "    .dataframe tbody tr th {\n",
       "        vertical-align: top;\n",
       "    }\n",
       "\n",
       "    .dataframe thead th {\n",
       "        text-align: right;\n",
       "    }\n",
       "</style>\n",
       "<table border=\"1\" class=\"dataframe\">\n",
       "  <thead>\n",
       "    <tr style=\"text-align: right;\">\n",
       "      <th></th>\n",
       "      <th>Unnamed: 0</th>\n",
       "      <th>title_series</th>\n",
       "      <th>legacy_series_id</th>\n",
       "      <th>ckg_series_id</th>\n",
       "      <th>imdb_id</th>\n",
       "      <th>program_type</th>\n",
       "      <th>primary_genre</th>\n",
       "      <th>first_release_date</th>\n",
       "      <th>theatrical_date</th>\n",
       "      <th>area_gross</th>\n",
       "      <th>budget</th>\n",
       "      <th>observed_medal</th>\n",
       "      <th>latam_home_medal</th>\n",
       "      <th>day_on_max</th>\n",
       "      <th>cumulative_viewing_subscribers</th>\n",
       "      <th>cumulative_first_views</th>\n",
       "      <th>percent_cumulative_viewing_subscribers</th>\n",
       "      <th>percent_cumulative_first_views</th>\n",
       "      <th>days_from_theatrical</th>\n",
       "      <th>genre_Action</th>\n",
       "      <th>genre_Comedy</th>\n",
       "      <th>genre_Drama</th>\n",
       "      <th>genre_Fantasy &amp; Sci-Fi</th>\n",
       "      <th>genre_Horror</th>\n",
       "      <th>genre_Kids &amp; Family</th>\n",
       "      <th>genre_Music</th>\n",
       "      <th>genre_Not A Genre</th>\n",
       "      <th>medal_Bronze</th>\n",
       "      <th>medal_Gold</th>\n",
       "      <th>medal_Platinum</th>\n",
       "      <th>medal_Silver</th>\n",
       "      <th>medal_number</th>\n",
       "      <th>log_cumulative_first_views</th>\n",
       "      <th>log_cumulative_viewing_subs</th>\n",
       "    </tr>\n",
       "  </thead>\n",
       "  <tbody>\n",
       "    <tr>\n",
       "      <th>0</th>\n",
       "      <td>2</td>\n",
       "      <td>Ambulance</td>\n",
       "      <td>GYyRIgQNLUhu1wwEAAAAF</td>\n",
       "      <td>GYyRIgQNLUhu1wwEAAAAF</td>\n",
       "      <td>tt4998632</td>\n",
       "      <td>Acquired</td>\n",
       "      <td>Action</td>\n",
       "      <td>2022-11-24</td>\n",
       "      <td>2022-03-17</td>\n",
       "      <td>1,218,886.00</td>\n",
       "      <td>40,000,000.00</td>\n",
       "      <td>Silver</td>\n",
       "      <td>Silver</td>\n",
       "      <td>90.00</td>\n",
       "      <td>1,107,532.00</td>\n",
       "      <td>7,058.00</td>\n",
       "      <td>8.84</td>\n",
       "      <td>0.20</td>\n",
       "      <td>252</td>\n",
       "      <td>1</td>\n",
       "      <td>0</td>\n",
       "      <td>0</td>\n",
       "      <td>0</td>\n",
       "      <td>0</td>\n",
       "      <td>0</td>\n",
       "      <td>0</td>\n",
       "      <td>0</td>\n",
       "      <td>0</td>\n",
       "      <td>0</td>\n",
       "      <td>0</td>\n",
       "      <td>1</td>\n",
       "      <td>2</td>\n",
       "      <td>12.79</td>\n",
       "      <td>20.08</td>\n",
       "    </tr>\n",
       "    <tr>\n",
       "      <th>1</th>\n",
       "      <td>3</td>\n",
       "      <td>Armageddon Time</td>\n",
       "      <td>GZK1nDg0nFaXCwgEAABAp</td>\n",
       "      <td>1e047963-2433-4a1a-8095-830022a0ce57</td>\n",
       "      <td>tt10343028</td>\n",
       "      <td>Acquired</td>\n",
       "      <td>Drama</td>\n",
       "      <td>2023-08-10</td>\n",
       "      <td>2023-03-16</td>\n",
       "      <td>3,967.00</td>\n",
       "      <td>15,000,000.00</td>\n",
       "      <td>Bronze</td>\n",
       "      <td>Bronze</td>\n",
       "      <td>90.00</td>\n",
       "      <td>34,968.00</td>\n",
       "      <td>226.00</td>\n",
       "      <td>0.30</td>\n",
       "      <td>0.01</td>\n",
       "      <td>147</td>\n",
       "      <td>0</td>\n",
       "      <td>0</td>\n",
       "      <td>1</td>\n",
       "      <td>0</td>\n",
       "      <td>0</td>\n",
       "      <td>0</td>\n",
       "      <td>0</td>\n",
       "      <td>0</td>\n",
       "      <td>1</td>\n",
       "      <td>0</td>\n",
       "      <td>0</td>\n",
       "      <td>0</td>\n",
       "      <td>3</td>\n",
       "      <td>7.82</td>\n",
       "      <td>15.09</td>\n",
       "    </tr>\n",
       "    <tr>\n",
       "      <th>2</th>\n",
       "      <td>7</td>\n",
       "      <td>Belfast</td>\n",
       "      <td>GYpn_UA8YyZ3DZgEAAAAW</td>\n",
       "      <td>0b926c5b-b8e4-401c-ba69-783ce07ad098</td>\n",
       "      <td>tt12789558</td>\n",
       "      <td>Acquired</td>\n",
       "      <td>Drama</td>\n",
       "      <td>2022-10-27</td>\n",
       "      <td>2022-03-10</td>\n",
       "      <td>109,066.00</td>\n",
       "      <td>11,000,000.00</td>\n",
       "      <td>Bronze</td>\n",
       "      <td>Bronze</td>\n",
       "      <td>90.00</td>\n",
       "      <td>137,179.00</td>\n",
       "      <td>522.00</td>\n",
       "      <td>1.13</td>\n",
       "      <td>0.02</td>\n",
       "      <td>231</td>\n",
       "      <td>0</td>\n",
       "      <td>0</td>\n",
       "      <td>1</td>\n",
       "      <td>0</td>\n",
       "      <td>0</td>\n",
       "      <td>0</td>\n",
       "      <td>0</td>\n",
       "      <td>0</td>\n",
       "      <td>1</td>\n",
       "      <td>0</td>\n",
       "      <td>0</td>\n",
       "      <td>0</td>\n",
       "      <td>3</td>\n",
       "      <td>9.03</td>\n",
       "      <td>17.07</td>\n",
       "    </tr>\n",
       "    <tr>\n",
       "      <th>3</th>\n",
       "      <td>8</td>\n",
       "      <td>Black Adam</td>\n",
       "      <td>GYzcHIw5407mRsAEAAAA4</td>\n",
       "      <td>0c730836-253b-4338-a3d1-a6a44a3384e0</td>\n",
       "      <td>tt6443346</td>\n",
       "      <td>Acquired</td>\n",
       "      <td>Action</td>\n",
       "      <td>2022-12-16</td>\n",
       "      <td>2022-10-20</td>\n",
       "      <td>9,282,592.00</td>\n",
       "      <td>195,000,000.00</td>\n",
       "      <td>Platinum</td>\n",
       "      <td>Platinum</td>\n",
       "      <td>90.00</td>\n",
       "      <td>5,705,318.00</td>\n",
       "      <td>208,837.00</td>\n",
       "      <td>44.64</td>\n",
       "      <td>5.42</td>\n",
       "      <td>57</td>\n",
       "      <td>1</td>\n",
       "      <td>0</td>\n",
       "      <td>0</td>\n",
       "      <td>0</td>\n",
       "      <td>0</td>\n",
       "      <td>0</td>\n",
       "      <td>0</td>\n",
       "      <td>0</td>\n",
       "      <td>0</td>\n",
       "      <td>0</td>\n",
       "      <td>1</td>\n",
       "      <td>0</td>\n",
       "      <td>0</td>\n",
       "      <td>17.67</td>\n",
       "      <td>22.44</td>\n",
       "    </tr>\n",
       "    <tr>\n",
       "      <th>4</th>\n",
       "      <td>15</td>\n",
       "      <td>Cry Macho</td>\n",
       "      <td>GYSbJuAuzchDCwgEAAAAC</td>\n",
       "      <td>b0598032-1cfd-4605-af5b-52ee492ce717</td>\n",
       "      <td>tt1924245</td>\n",
       "      <td>Acquired</td>\n",
       "      <td>Drama</td>\n",
       "      <td>2021-10-21</td>\n",
       "      <td>2021-10-21</td>\n",
       "      <td>102,285.00</td>\n",
       "      <td>33,000,000.00</td>\n",
       "      <td>Silver</td>\n",
       "      <td>Silver</td>\n",
       "      <td>90.00</td>\n",
       "      <td>672,638.00</td>\n",
       "      <td>8,395.00</td>\n",
       "      <td>7.85</td>\n",
       "      <td>0.30</td>\n",
       "      <td>0</td>\n",
       "      <td>0</td>\n",
       "      <td>0</td>\n",
       "      <td>1</td>\n",
       "      <td>0</td>\n",
       "      <td>0</td>\n",
       "      <td>0</td>\n",
       "      <td>0</td>\n",
       "      <td>0</td>\n",
       "      <td>0</td>\n",
       "      <td>0</td>\n",
       "      <td>0</td>\n",
       "      <td>1</td>\n",
       "      <td>2</td>\n",
       "      <td>13.04</td>\n",
       "      <td>19.36</td>\n",
       "    </tr>\n",
       "  </tbody>\n",
       "</table>\n",
       "</div>"
      ],
      "text/plain": [
       "   Unnamed: 0     title_series       legacy_series_id  \\\n",
       "0           2        Ambulance  GYyRIgQNLUhu1wwEAAAAF   \n",
       "1           3  Armageddon Time  GZK1nDg0nFaXCwgEAABAp   \n",
       "2           7          Belfast  GYpn_UA8YyZ3DZgEAAAAW   \n",
       "3           8       Black Adam  GYzcHIw5407mRsAEAAAA4   \n",
       "4          15        Cry Macho  GYSbJuAuzchDCwgEAAAAC   \n",
       "\n",
       "                          ckg_series_id     imdb_id program_type  \\\n",
       "0                 GYyRIgQNLUhu1wwEAAAAF   tt4998632     Acquired   \n",
       "1  1e047963-2433-4a1a-8095-830022a0ce57  tt10343028     Acquired   \n",
       "2  0b926c5b-b8e4-401c-ba69-783ce07ad098  tt12789558     Acquired   \n",
       "3  0c730836-253b-4338-a3d1-a6a44a3384e0   tt6443346     Acquired   \n",
       "4  b0598032-1cfd-4605-af5b-52ee492ce717   tt1924245     Acquired   \n",
       "\n",
       "  primary_genre first_release_date theatrical_date   area_gross  \\\n",
       "0        Action         2022-11-24      2022-03-17 1,218,886.00   \n",
       "1         Drama         2023-08-10      2023-03-16     3,967.00   \n",
       "2         Drama         2022-10-27      2022-03-10   109,066.00   \n",
       "3        Action         2022-12-16      2022-10-20 9,282,592.00   \n",
       "4         Drama         2021-10-21      2021-10-21   102,285.00   \n",
       "\n",
       "          budget observed_medal latam_home_medal  day_on_max  \\\n",
       "0  40,000,000.00         Silver           Silver       90.00   \n",
       "1  15,000,000.00         Bronze           Bronze       90.00   \n",
       "2  11,000,000.00         Bronze           Bronze       90.00   \n",
       "3 195,000,000.00       Platinum         Platinum       90.00   \n",
       "4  33,000,000.00         Silver           Silver       90.00   \n",
       "\n",
       "   cumulative_viewing_subscribers  cumulative_first_views  \\\n",
       "0                    1,107,532.00                7,058.00   \n",
       "1                       34,968.00                  226.00   \n",
       "2                      137,179.00                  522.00   \n",
       "3                    5,705,318.00              208,837.00   \n",
       "4                      672,638.00                8,395.00   \n",
       "\n",
       "   percent_cumulative_viewing_subscribers  percent_cumulative_first_views  \\\n",
       "0                                    8.84                            0.20   \n",
       "1                                    0.30                            0.01   \n",
       "2                                    1.13                            0.02   \n",
       "3                                   44.64                            5.42   \n",
       "4                                    7.85                            0.30   \n",
       "\n",
       "   days_from_theatrical  genre_Action  genre_Comedy  genre_Drama  \\\n",
       "0                   252             1             0            0   \n",
       "1                   147             0             0            1   \n",
       "2                   231             0             0            1   \n",
       "3                    57             1             0            0   \n",
       "4                     0             0             0            1   \n",
       "\n",
       "   genre_Fantasy & Sci-Fi  genre_Horror  genre_Kids & Family  genre_Music  \\\n",
       "0                       0             0                    0            0   \n",
       "1                       0             0                    0            0   \n",
       "2                       0             0                    0            0   \n",
       "3                       0             0                    0            0   \n",
       "4                       0             0                    0            0   \n",
       "\n",
       "   genre_Not A Genre  medal_Bronze  medal_Gold  medal_Platinum  medal_Silver  \\\n",
       "0                  0             0           0               0             1   \n",
       "1                  0             1           0               0             0   \n",
       "2                  0             1           0               0             0   \n",
       "3                  0             0           0               1             0   \n",
       "4                  0             0           0               0             1   \n",
       "\n",
       "   medal_number  log_cumulative_first_views  log_cumulative_viewing_subs  \n",
       "0             2                       12.79                        20.08  \n",
       "1             3                        7.82                        15.09  \n",
       "2             3                        9.03                        17.07  \n",
       "3             0                       17.67                        22.44  \n",
       "4             2                       13.04                        19.36  "
      ]
     },
     "execution_count": 53,
     "metadata": {},
     "output_type": "execute_result"
    }
   ],
   "source": [
    "training_data.head()"
   ]
  },
  {
   "cell_type": "code",
   "execution_count": 54,
   "id": "751dd881",
   "metadata": {},
   "outputs": [],
   "source": [
    "X = training_data[FEATURE_COLS]\n",
    "y = training_data[TARGET_COL]\n",
    "gam = LinearGAM(n_splines=7).fit(X, y)\n",
    "# gam = GradientBoostingRegressor(random_state=0).fit(X, y)"
   ]
  },
  {
   "cell_type": "code",
   "execution_count": 55,
   "id": "5d781390",
   "metadata": {},
   "outputs": [],
   "source": [
    "# explainer = shap.Explainer(gam)\n",
    "# shap_values = explainer.shap_values(X)\n",
    "# shap.summary_plot(shap_values, X)"
   ]
  },
  {
   "cell_type": "code",
   "execution_count": 56,
   "id": "dd95b97b",
   "metadata": {},
   "outputs": [],
   "source": [
    "# gam.summary()"
   ]
  },
  {
   "cell_type": "code",
   "execution_count": 57,
   "id": "19c356bc",
   "metadata": {},
   "outputs": [],
   "source": [
    "pred_day = [*range(0, 200, 15)]\n",
    "df = pd.DataFrame(pred_day, columns =['days_from_theatrical'])"
   ]
  },
  {
   "cell_type": "code",
   "execution_count": 58,
   "id": "ab43b314",
   "metadata": {},
   "outputs": [],
   "source": [
    "scoring_data = training_data[META_COLS+FEATURE_COLS].copy()\n",
    "scoring_data.drop(['days_from_theatrical'], axis = 1, inplace = True)"
   ]
  },
  {
   "cell_type": "code",
   "execution_count": 59,
   "id": "c6b4d314",
   "metadata": {},
   "outputs": [],
   "source": [
    "def cartesian_product_basic(left, right):\n",
    "    return (\n",
    "       left.assign(key=1).merge(right.assign(key=1), on='key').drop('key', 1))"
   ]
  },
  {
   "cell_type": "code",
   "execution_count": 60,
   "id": "cee988f0",
   "metadata": {},
   "outputs": [],
   "source": [
    "scoring_data=cartesian_product_basic(scoring_data, df)"
   ]
  },
  {
   "cell_type": "code",
   "execution_count": 61,
   "id": "c1cef5a3",
   "metadata": {},
   "outputs": [
    {
     "data": {
      "text/html": [
       "<div>\n",
       "<style scoped>\n",
       "    .dataframe tbody tr th:only-of-type {\n",
       "        vertical-align: middle;\n",
       "    }\n",
       "\n",
       "    .dataframe tbody tr th {\n",
       "        vertical-align: top;\n",
       "    }\n",
       "\n",
       "    .dataframe thead th {\n",
       "        text-align: right;\n",
       "    }\n",
       "</style>\n",
       "<table border=\"1\" class=\"dataframe\">\n",
       "  <thead>\n",
       "    <tr style=\"text-align: right;\">\n",
       "      <th></th>\n",
       "      <th>title_series</th>\n",
       "      <th>legacy_series_id</th>\n",
       "      <th>ckg_series_id</th>\n",
       "      <th>imdb_id</th>\n",
       "      <th>primary_genre</th>\n",
       "      <th>latam_home_medal</th>\n",
       "      <th>first_release_date</th>\n",
       "      <th>theatrical_date</th>\n",
       "      <th>area_gross</th>\n",
       "      <th>medal_number</th>\n",
       "      <th>genre_Comedy</th>\n",
       "      <th>genre_Action</th>\n",
       "      <th>budget</th>\n",
       "      <th>genre_Drama</th>\n",
       "      <th>days_from_theatrical</th>\n",
       "    </tr>\n",
       "  </thead>\n",
       "  <tbody>\n",
       "    <tr>\n",
       "      <th>0</th>\n",
       "      <td>Ambulance</td>\n",
       "      <td>GYyRIgQNLUhu1wwEAAAAF</td>\n",
       "      <td>GYyRIgQNLUhu1wwEAAAAF</td>\n",
       "      <td>tt4998632</td>\n",
       "      <td>Action</td>\n",
       "      <td>Silver</td>\n",
       "      <td>2022-11-24</td>\n",
       "      <td>2022-03-17</td>\n",
       "      <td>1,218,886.00</td>\n",
       "      <td>2</td>\n",
       "      <td>0</td>\n",
       "      <td>1</td>\n",
       "      <td>40,000,000.00</td>\n",
       "      <td>0</td>\n",
       "      <td>0</td>\n",
       "    </tr>\n",
       "    <tr>\n",
       "      <th>1</th>\n",
       "      <td>Ambulance</td>\n",
       "      <td>GYyRIgQNLUhu1wwEAAAAF</td>\n",
       "      <td>GYyRIgQNLUhu1wwEAAAAF</td>\n",
       "      <td>tt4998632</td>\n",
       "      <td>Action</td>\n",
       "      <td>Silver</td>\n",
       "      <td>2022-11-24</td>\n",
       "      <td>2022-03-17</td>\n",
       "      <td>1,218,886.00</td>\n",
       "      <td>2</td>\n",
       "      <td>0</td>\n",
       "      <td>1</td>\n",
       "      <td>40,000,000.00</td>\n",
       "      <td>0</td>\n",
       "      <td>15</td>\n",
       "    </tr>\n",
       "    <tr>\n",
       "      <th>2</th>\n",
       "      <td>Ambulance</td>\n",
       "      <td>GYyRIgQNLUhu1wwEAAAAF</td>\n",
       "      <td>GYyRIgQNLUhu1wwEAAAAF</td>\n",
       "      <td>tt4998632</td>\n",
       "      <td>Action</td>\n",
       "      <td>Silver</td>\n",
       "      <td>2022-11-24</td>\n",
       "      <td>2022-03-17</td>\n",
       "      <td>1,218,886.00</td>\n",
       "      <td>2</td>\n",
       "      <td>0</td>\n",
       "      <td>1</td>\n",
       "      <td>40,000,000.00</td>\n",
       "      <td>0</td>\n",
       "      <td>30</td>\n",
       "    </tr>\n",
       "    <tr>\n",
       "      <th>3</th>\n",
       "      <td>Ambulance</td>\n",
       "      <td>GYyRIgQNLUhu1wwEAAAAF</td>\n",
       "      <td>GYyRIgQNLUhu1wwEAAAAF</td>\n",
       "      <td>tt4998632</td>\n",
       "      <td>Action</td>\n",
       "      <td>Silver</td>\n",
       "      <td>2022-11-24</td>\n",
       "      <td>2022-03-17</td>\n",
       "      <td>1,218,886.00</td>\n",
       "      <td>2</td>\n",
       "      <td>0</td>\n",
       "      <td>1</td>\n",
       "      <td>40,000,000.00</td>\n",
       "      <td>0</td>\n",
       "      <td>45</td>\n",
       "    </tr>\n",
       "    <tr>\n",
       "      <th>4</th>\n",
       "      <td>Ambulance</td>\n",
       "      <td>GYyRIgQNLUhu1wwEAAAAF</td>\n",
       "      <td>GYyRIgQNLUhu1wwEAAAAF</td>\n",
       "      <td>tt4998632</td>\n",
       "      <td>Action</td>\n",
       "      <td>Silver</td>\n",
       "      <td>2022-11-24</td>\n",
       "      <td>2022-03-17</td>\n",
       "      <td>1,218,886.00</td>\n",
       "      <td>2</td>\n",
       "      <td>0</td>\n",
       "      <td>1</td>\n",
       "      <td>40,000,000.00</td>\n",
       "      <td>0</td>\n",
       "      <td>60</td>\n",
       "    </tr>\n",
       "  </tbody>\n",
       "</table>\n",
       "</div>"
      ],
      "text/plain": [
       "  title_series       legacy_series_id          ckg_series_id    imdb_id  \\\n",
       "0    Ambulance  GYyRIgQNLUhu1wwEAAAAF  GYyRIgQNLUhu1wwEAAAAF  tt4998632   \n",
       "1    Ambulance  GYyRIgQNLUhu1wwEAAAAF  GYyRIgQNLUhu1wwEAAAAF  tt4998632   \n",
       "2    Ambulance  GYyRIgQNLUhu1wwEAAAAF  GYyRIgQNLUhu1wwEAAAAF  tt4998632   \n",
       "3    Ambulance  GYyRIgQNLUhu1wwEAAAAF  GYyRIgQNLUhu1wwEAAAAF  tt4998632   \n",
       "4    Ambulance  GYyRIgQNLUhu1wwEAAAAF  GYyRIgQNLUhu1wwEAAAAF  tt4998632   \n",
       "\n",
       "  primary_genre latam_home_medal first_release_date theatrical_date  \\\n",
       "0        Action           Silver         2022-11-24      2022-03-17   \n",
       "1        Action           Silver         2022-11-24      2022-03-17   \n",
       "2        Action           Silver         2022-11-24      2022-03-17   \n",
       "3        Action           Silver         2022-11-24      2022-03-17   \n",
       "4        Action           Silver         2022-11-24      2022-03-17   \n",
       "\n",
       "    area_gross  medal_number  genre_Comedy  genre_Action        budget  \\\n",
       "0 1,218,886.00             2             0             1 40,000,000.00   \n",
       "1 1,218,886.00             2             0             1 40,000,000.00   \n",
       "2 1,218,886.00             2             0             1 40,000,000.00   \n",
       "3 1,218,886.00             2             0             1 40,000,000.00   \n",
       "4 1,218,886.00             2             0             1 40,000,000.00   \n",
       "\n",
       "   genre_Drama  days_from_theatrical  \n",
       "0            0                     0  \n",
       "1            0                    15  \n",
       "2            0                    30  \n",
       "3            0                    45  \n",
       "4            0                    60  "
      ]
     },
     "execution_count": 61,
     "metadata": {},
     "output_type": "execute_result"
    }
   ],
   "source": [
    "scoring_data.head()"
   ]
  },
  {
   "cell_type": "code",
   "execution_count": 62,
   "id": "b24b5bd0",
   "metadata": {},
   "outputs": [],
   "source": [
    "pred = gam.predict(scoring_data[FEATURE_COLS])\n",
    "pred = pd.DataFrame(pred)\n",
    "pred.columns = ['pred']\n",
    "scoring_data = pd.concat([scoring_data, pred], axis = 1)"
   ]
  },
  {
   "cell_type": "code",
   "execution_count": 63,
   "id": "97730f9b",
   "metadata": {},
   "outputs": [],
   "source": [
    "# scoring_data"
   ]
  },
  {
   "cell_type": "code",
   "execution_count": 64,
   "id": "e3153caf",
   "metadata": {},
   "outputs": [],
   "source": [
    "scoring_data['kpi'] = 'viewing_subs'"
   ]
  },
  {
   "cell_type": "code",
   "execution_count": 65,
   "id": "0674d17a",
   "metadata": {},
   "outputs": [],
   "source": [
    "scoring_data_45 = scoring_data[scoring_data['days_from_theatrical'] == 45][['ckg_series_id', 'pred']].rename(columns = {'pred':'pred_45'})"
   ]
  },
  {
   "cell_type": "code",
   "execution_count": 66,
   "id": "3eddc954",
   "metadata": {},
   "outputs": [],
   "source": [
    "scoring_data = scoring_data.merge(scoring_data_45, on = ['ckg_series_id'])"
   ]
  },
  {
   "cell_type": "code",
   "execution_count": 67,
   "id": "8c219a73",
   "metadata": {},
   "outputs": [],
   "source": [
    "scoring_data['multiplier'] = scoring_data['pred']/scoring_data['pred_45']"
   ]
  },
  {
   "cell_type": "code",
   "execution_count": 68,
   "id": "2d465193",
   "metadata": {},
   "outputs": [],
   "source": [
    "score_multi = scoring_data.groupby(['latam_home_medal', 'days_from_theatrical']).mean()[['multiplier']].reset_index()"
   ]
  },
  {
   "cell_type": "code",
   "execution_count": 69,
   "id": "2af9d69d",
   "metadata": {},
   "outputs": [
    {
     "data": {
      "image/png": "[encoded data removed]",
      "text/plain": [
       "<Figure size 864x576 with 1 Axes>"
      ]
     },
     "metadata": {
      "needs_background": "light"
     },
     "output_type": "display_data"
    }
   ],
   "source": [
    "fig, ax = plt.subplots(figsize=(12, 8))\n",
    "for i in training_data['latam_home_medal'].unique():\n",
    "    plot_df = score_multi[score_multi['latam_home_medal'] == i]\n",
    "    plt.plot(plot_df['days_from_theatrical'], plot_df['multiplier'], label=i)\n",
    "\n",
    "\n",
    "ax.set_xlabel('days_from_theatrical')\n",
    "ax.set_ylabel('cumulative_first_views')\n",
    "ax.legend()\n",
    "\n",
    "plt.show()"
   ]
  },
  {
   "cell_type": "code",
   "execution_count": 70,
   "id": "9f9875d9",
   "metadata": {},
   "outputs": [],
   "source": [
    "OUTPUT_COLS = ['title_id', 'imdb_id', 'title', 'home_territory_observed_medal', 'pillar_genres', 'area_gross', 'medal_number', 'budget', \n",
    "              'days_from_theatrical2', 'kpi', 'pred']"
   ]
  },
  {
   "cell_type": "code",
   "execution_count": 74,
   "id": "153ba96b",
   "metadata": {},
   "outputs": [],
   "source": [
    "# write_to_sf(scoring_data[OUTPUT_COLS], 'title_level_subs')"
   ]
  },
  {
   "cell_type": "code",
   "execution_count": 73,
   "id": "415a2f9a",
   "metadata": {},
   "outputs": [],
   "source": [
    "# import plotly.express as px"
   ]
  },
  {
   "cell_type": "code",
   "execution_count": 1,
   "id": "57d31d50",
   "metadata": {},
   "outputs": [],
   "source": [
    "# plot_df = scoring_data\n",
    "# fig = px.line(plot_df, x=\"days_from_theatrical2\", y=\"pred\", color = 'title',\n",
    "#               title='Release day V.S. cumulative viewership')\n",
    "# fig.show()"
   ]
  },
  {
   "cell_type": "markdown",
   "id": "402e2ac4",
   "metadata": {},
   "source": [
    "##### 1.132 Scoring2"
   ]
  },
  {
   "cell_type": "code",
   "execution_count": 115,
   "id": "8a65f722",
   "metadata": {},
   "outputs": [],
   "source": [
    "scoring_data = training_data[META_COLS+FEATURE_COLS].copy()\n",
    "scoring_data.drop(['days_from_theatrical'], axis = 1, inplace = True)"
   ]
  },
  {
   "cell_type": "code",
   "execution_count": 116,
   "id": "d271877e",
   "metadata": {},
   "outputs": [],
   "source": [
    "scoring_data = scoring_data.groupby(['latam_home_medal', 'primary_genre']).mean().reset_index()"
   ]
  },
  {
   "cell_type": "code",
   "execution_count": 118,
   "id": "988e7934",
   "metadata": {},
   "outputs": [],
   "source": [
    "pred_day = [*range(0, 200, 15)]\n",
    "df = pd.DataFrame(pred_day, columns =['days_from_theatrical'])"
   ]
  },
  {
   "cell_type": "code",
   "execution_count": 119,
   "id": "da89045f",
   "metadata": {},
   "outputs": [],
   "source": [
    "scoring_data=cartesian_product_basic(scoring_data, df)"
   ]
  },
  {
   "cell_type": "code",
   "execution_count": 120,
   "id": "77bebfab",
   "metadata": {},
   "outputs": [],
   "source": [
    "pred = gam.predict(scoring_data[FEATURE_COLS])\n",
    "pred = pd.DataFrame(pred)\n",
    "pred.columns = ['pred']\n",
    "scoring_data = pd.concat([scoring_data, pred], axis = 1)"
   ]
  },
  {
   "cell_type": "code",
   "execution_count": 121,
   "id": "4ba26fd8",
   "metadata": {},
   "outputs": [
    {
     "data": {
      "text/html": [
       "<div>\n",
       "<style scoped>\n",
       "    .dataframe tbody tr th:only-of-type {\n",
       "        vertical-align: middle;\n",
       "    }\n",
       "\n",
       "    .dataframe tbody tr th {\n",
       "        vertical-align: top;\n",
       "    }\n",
       "\n",
       "    .dataframe thead th {\n",
       "        text-align: right;\n",
       "    }\n",
       "</style>\n",
       "<table border=\"1\" class=\"dataframe\">\n",
       "  <thead>\n",
       "    <tr style=\"text-align: right;\">\n",
       "      <th></th>\n",
       "      <th>latam_home_medal</th>\n",
       "      <th>primary_genre</th>\n",
       "      <th>area_gross</th>\n",
       "      <th>budget</th>\n",
       "      <th>genre_Action</th>\n",
       "      <th>medal_number</th>\n",
       "      <th>genre_Comedy</th>\n",
       "      <th>genre_Drama</th>\n",
       "      <th>days_from_theatrical</th>\n",
       "      <th>pred</th>\n",
       "    </tr>\n",
       "  </thead>\n",
       "  <tbody>\n",
       "    <tr>\n",
       "      <th>0</th>\n",
       "      <td>Bronze</td>\n",
       "      <td>Action</td>\n",
       "      <td>728,319.00</td>\n",
       "      <td>20,000,000.00</td>\n",
       "      <td>1</td>\n",
       "      <td>3</td>\n",
       "      <td>0</td>\n",
       "      <td>0</td>\n",
       "      <td>0</td>\n",
       "      <td>-37,234.15</td>\n",
       "    </tr>\n",
       "    <tr>\n",
       "      <th>1</th>\n",
       "      <td>Bronze</td>\n",
       "      <td>Action</td>\n",
       "      <td>728,319.00</td>\n",
       "      <td>20,000,000.00</td>\n",
       "      <td>1</td>\n",
       "      <td>3</td>\n",
       "      <td>0</td>\n",
       "      <td>0</td>\n",
       "      <td>15</td>\n",
       "      <td>-37,234.15</td>\n",
       "    </tr>\n",
       "    <tr>\n",
       "      <th>2</th>\n",
       "      <td>Bronze</td>\n",
       "      <td>Action</td>\n",
       "      <td>728,319.00</td>\n",
       "      <td>20,000,000.00</td>\n",
       "      <td>1</td>\n",
       "      <td>3</td>\n",
       "      <td>0</td>\n",
       "      <td>0</td>\n",
       "      <td>30</td>\n",
       "      <td>-35,660.81</td>\n",
       "    </tr>\n",
       "    <tr>\n",
       "      <th>3</th>\n",
       "      <td>Bronze</td>\n",
       "      <td>Action</td>\n",
       "      <td>728,319.00</td>\n",
       "      <td>20,000,000.00</td>\n",
       "      <td>1</td>\n",
       "      <td>3</td>\n",
       "      <td>0</td>\n",
       "      <td>0</td>\n",
       "      <td>45</td>\n",
       "      <td>277,473.85</td>\n",
       "    </tr>\n",
       "    <tr>\n",
       "      <th>4</th>\n",
       "      <td>Bronze</td>\n",
       "      <td>Action</td>\n",
       "      <td>728,319.00</td>\n",
       "      <td>20,000,000.00</td>\n",
       "      <td>1</td>\n",
       "      <td>3</td>\n",
       "      <td>0</td>\n",
       "      <td>0</td>\n",
       "      <td>60</td>\n",
       "      <td>4,334.91</td>\n",
       "    </tr>\n",
       "  </tbody>\n",
       "</table>\n",
       "</div>"
      ],
      "text/plain": [
       "  latam_home_medal primary_genre  area_gross        budget  genre_Action  \\\n",
       "0           Bronze        Action  728,319.00 20,000,000.00             1   \n",
       "1           Bronze        Action  728,319.00 20,000,000.00             1   \n",
       "2           Bronze        Action  728,319.00 20,000,000.00             1   \n",
       "3           Bronze        Action  728,319.00 20,000,000.00             1   \n",
       "4           Bronze        Action  728,319.00 20,000,000.00             1   \n",
       "\n",
       "   medal_number  genre_Comedy  genre_Drama  days_from_theatrical       pred  \n",
       "0             3             0            0                     0 -37,234.15  \n",
       "1             3             0            0                    15 -37,234.15  \n",
       "2             3             0            0                    30 -35,660.81  \n",
       "3             3             0            0                    45 277,473.85  \n",
       "4             3             0            0                    60   4,334.91  "
      ]
     },
     "execution_count": 121,
     "metadata": {},
     "output_type": "execute_result"
    }
   ],
   "source": [
    "scoring_data.head()"
   ]
  },
  {
   "cell_type": "code",
   "execution_count": 90,
   "id": "f4ed75c4",
   "metadata": {},
   "outputs": [],
   "source": [
    "scoring_data['title_id'] = np.NAN\n",
    "scoring_data['imdb_id'] = np.NAN\n",
    "scoring_data['title'] = np.NAN\n",
    "scoring_data['kpi'] = 'viewing_subs'"
   ]
  },
  {
   "cell_type": "code",
   "execution_count": 91,
   "id": "5b77265a",
   "metadata": {},
   "outputs": [
    {
     "name": "stderr",
     "output_type": "stream",
     "text": [
      "/home/ec2-user/anaconda3/envs/python3/lib/python3.6/site-packages/boto3/compat.py:88: PythonDeprecationWarning:\n",
      "\n",
      "Boto3 will no longer support Python 3.6 starting May 30, 2022. To continue receiving service updates, bug fixes, and security updates please upgrade to Python 3.7 or later. More information can be found here: https://aws.amazon.com/blogs/developer/python-support-policy-updates-for-aws-sdks-and-tools/\n",
      "\n"
     ]
    }
   ],
   "source": [
    "write_to_sf(scoring_data[OUTPUT_COLS], 'genre_level_subs')"
   ]
  },
  {
   "cell_type": "markdown",
   "id": "738091a0",
   "metadata": {},
   "source": [
    "# 2. First Views"
   ]
  },
  {
   "cell_type": "code",
   "execution_count": 92,
   "id": "cffc672d",
   "metadata": {},
   "outputs": [],
   "source": [
    "# medal_onehot = pd.get_dummies(training_data['home_territory_observed_medal'], prefix='medal')\n",
    "# training_data=pd.concat([training_data, medal_onehot], axis = 1)"
   ]
  },
  {
   "cell_type": "code",
   "execution_count": 75,
   "id": "b103e452",
   "metadata": {},
   "outputs": [
    {
     "data": {
      "text/html": [
       "<div>\n",
       "<style scoped>\n",
       "    .dataframe tbody tr th:only-of-type {\n",
       "        vertical-align: middle;\n",
       "    }\n",
       "\n",
       "    .dataframe tbody tr th {\n",
       "        vertical-align: top;\n",
       "    }\n",
       "\n",
       "    .dataframe thead th {\n",
       "        text-align: right;\n",
       "    }\n",
       "</style>\n",
       "<table border=\"1\" class=\"dataframe\">\n",
       "  <thead>\n",
       "    <tr style=\"text-align: right;\">\n",
       "      <th></th>\n",
       "      <th>Unnamed: 0</th>\n",
       "      <th>title_series</th>\n",
       "      <th>legacy_series_id</th>\n",
       "      <th>ckg_series_id</th>\n",
       "      <th>imdb_id</th>\n",
       "      <th>program_type</th>\n",
       "      <th>primary_genre</th>\n",
       "      <th>first_release_date</th>\n",
       "      <th>theatrical_date</th>\n",
       "      <th>area_gross</th>\n",
       "      <th>budget</th>\n",
       "      <th>observed_medal</th>\n",
       "      <th>latam_home_medal</th>\n",
       "      <th>day_on_max</th>\n",
       "      <th>cumulative_viewing_subscribers</th>\n",
       "      <th>cumulative_first_views</th>\n",
       "      <th>percent_cumulative_viewing_subscribers</th>\n",
       "      <th>percent_cumulative_first_views</th>\n",
       "      <th>days_from_theatrical</th>\n",
       "      <th>genre_Action</th>\n",
       "      <th>genre_Comedy</th>\n",
       "      <th>genre_Drama</th>\n",
       "      <th>genre_Fantasy &amp; Sci-Fi</th>\n",
       "      <th>genre_Horror</th>\n",
       "      <th>genre_Kids &amp; Family</th>\n",
       "      <th>genre_Music</th>\n",
       "      <th>genre_Not A Genre</th>\n",
       "      <th>medal_Bronze</th>\n",
       "      <th>medal_Gold</th>\n",
       "      <th>medal_Platinum</th>\n",
       "      <th>medal_Silver</th>\n",
       "      <th>medal_number</th>\n",
       "      <th>log_cumulative_first_views</th>\n",
       "      <th>log_cumulative_viewing_subs</th>\n",
       "    </tr>\n",
       "  </thead>\n",
       "  <tbody>\n",
       "  </tbody>\n",
       "</table>\n",
       "</div>"
      ],
      "text/plain": [
       "Empty DataFrame\n",
       "Columns: [Unnamed: 0, title_series, legacy_series_id, ckg_series_id, imdb_id, program_type, primary_genre, first_release_date, theatrical_date, area_gross, budget, observed_medal, latam_home_medal, day_on_max, cumulative_viewing_subscribers, cumulative_first_views, percent_cumulative_viewing_subscribers, percent_cumulative_first_views, days_from_theatrical, genre_Action, genre_Comedy, genre_Drama, genre_Fantasy & Sci-Fi, genre_Horror, genre_Kids & Family, genre_Music, genre_Not A Genre, medal_Bronze, medal_Gold, medal_Platinum, medal_Silver, medal_number, log_cumulative_first_views, log_cumulative_viewing_subs]\n",
       "Index: []"
      ]
     },
     "execution_count": 75,
     "metadata": {},
     "output_type": "execute_result"
    }
   ],
   "source": [
    "training_data[training_data['title_series'].str.contains('Wonder')]"
   ]
  },
  {
   "cell_type": "code",
   "execution_count": 76,
   "id": "c2fd665e",
   "metadata": {},
   "outputs": [],
   "source": [
    "training_data = training_data[(training_data['cumulative_first_views'].notnull())\n",
    "                             &(training_data['cumulative_first_views']>0)\n",
    "                             &(training_data['days_from_theatrical']>0)\n",
    "                             &~(training_data['ckg_series_id'].isin(['f1c6ef16-40b2-4ef5-89ed-547decd9e620',\n",
    "                                                                    '4296565c-c6c9-4b81-9398-fdf996e7d925']))]\n",
    "training_data['log_cumulative_first_views'] = np.log2(training_data['cumulative_first_views']+10000)"
   ]
  },
  {
   "cell_type": "code",
   "execution_count": 77,
   "id": "bd5a2636",
   "metadata": {},
   "outputs": [],
   "source": [
    "# training_data['power_cumulative_first_views'] = np.power(training_data['cumulative_first_views'], (1/4))"
   ]
  },
  {
   "cell_type": "code",
   "execution_count": 78,
   "id": "6878a8fe",
   "metadata": {},
   "outputs": [],
   "source": [
    "META_COLS = ['title_series', 'legacy_series_id', 'ckg_series_id', 'imdb_id', 'primary_genre', 'latam_home_medal', 'first_release_date', 'theatrical_date']"
   ]
  },
  {
   "cell_type": "code",
   "execution_count": 79,
   "id": "ad8a5de8",
   "metadata": {},
   "outputs": [],
   "source": [
    "FEATURE_COLS = ['days_from_theatrical', 'area_gross', 'budget' , 'genre_Action', 'genre_Comedy', 'genre_Drama', 'medal_number']\n",
    "                #, 'genre_Horror ', 'genre_Kids/Family', 'genre_Romance', 'genre_Sci-Fi', 'genre_Suspense/Thriller', 'medal_Bronze', 'medal_Gold'"
   ]
  },
  {
   "cell_type": "code",
   "execution_count": 80,
   "id": "a2d8f137",
   "metadata": {},
   "outputs": [],
   "source": [
    "TARGET_COL = ['log_cumulative_first_views'] # cumulative_first_views"
   ]
  },
  {
   "cell_type": "code",
   "execution_count": 81,
   "id": "8f76f481",
   "metadata": {},
   "outputs": [
    {
     "data": {
      "text/plain": [
       "['log_cumulative_first_views']"
      ]
     },
     "execution_count": 81,
     "metadata": {},
     "output_type": "execute_result"
    }
   ],
   "source": [
    "TARGET_COL"
   ]
  },
  {
   "cell_type": "markdown",
   "id": "05a9b76e",
   "metadata": {},
   "source": [
    "## 2.1 Cross Validation"
   ]
  },
  {
   "cell_type": "code",
   "execution_count": 82,
   "id": "92abeec5",
   "metadata": {},
   "outputs": [],
   "source": [
    "def cal_error(validation_set):\n",
    "    error_col = (validation_set['pred']-validation_set[TARGET_COL[0]]).abs()/validation_set[TARGET_COL[0]].abs()\n",
    "    return error_col.mean()"
   ]
  },
  {
   "cell_type": "markdown",
   "id": "40d937a8",
   "metadata": {},
   "source": [
    "### 2.11 Random Forest CV"
   ]
  },
  {
   "cell_type": "code",
   "execution_count": 83,
   "id": "94a88da0",
   "metadata": {},
   "outputs": [],
   "source": [
    "num_folds = len(training_data['ckg_series_id'].unique())\n",
    "group_kfold = GroupKFold(n_splits=num_folds)"
   ]
  },
  {
   "cell_type": "code",
   "execution_count": 84,
   "id": "579b44a2",
   "metadata": {},
   "outputs": [
    {
     "data": {
      "text/plain": [
       "53"
      ]
     },
     "execution_count": 84,
     "metadata": {},
     "output_type": "execute_result"
    }
   ],
   "source": [
    "num_folds"
   ]
  },
  {
   "cell_type": "code",
   "execution_count": 85,
   "id": "a2e3c4b9",
   "metadata": {},
   "outputs": [],
   "source": [
    "validation_set = pd.DataFrame()\n",
    "feature_importances = pd.DataFrame()\n",
    "# model = XGBRegressor(n_estimators=1000, max_depth=7, eta=0.1, subsample=0.7, colsample_bytree=0.8)\n",
    "model = GradientBoostingRegressor(random_state=0)\n",
    "\n",
    "\n",
    "for train_index, test_index in group_kfold.split(training_data, groups=training_data['ckg_series_id'].values):\n",
    "    train_df, test_df = training_data.iloc[train_index], training_data.iloc[test_index]\n",
    "#     print (\"Validation Title: \" + test_df['title_series'].values[0])\n",
    "    try:\n",
    "        ## fit_predict prelaunch model\n",
    "        X_train, X_test = train_df[FEATURE_COLS], test_df[FEATURE_COLS]\n",
    "        y_train, y_test = train_df[TARGET_COL], test_df[TARGET_COL]\n",
    "\n",
    "        model.fit(X_train, y_train)\n",
    "        pred = model.predict(X_test)\n",
    "        pred = pd.DataFrame(pred)\n",
    "        pred.columns = ['pred']\n",
    "        test_df.reset_index(inplace = True, drop = True)\n",
    "        test_df = pd.concat([test_df, pred], axis = 1)\n",
    "        validation_set = pd.concat([validation_set, test_df], axis = 0)\n",
    "\n",
    "        fi = model.feature_importances_\n",
    "        fi_df = pd.DataFrame([fi])\n",
    "        fi_df.columns = FEATURE_COLS\n",
    "        fi_df['ckg_series_id'] = test_df['ckg_series_id'].values[0]\n",
    "        fi_df['title_series'] = test_df['title_series'].values[0]\n",
    "        feature_importances=pd.concat([feature_importances, fi_df], axis = 0)\n",
    "\n",
    "    except Exception as e:\n",
    "        print (e)"
   ]
  },
  {
   "cell_type": "code",
   "execution_count": 86,
   "id": "895e30aa",
   "metadata": {},
   "outputs": [],
   "source": [
    "# validation_set.to_csv('validation_set.csv')"
   ]
  },
  {
   "cell_type": "code",
   "execution_count": 87,
   "id": "12039cd8",
   "metadata": {},
   "outputs": [],
   "source": [
    "validation_set['pct_error'] = (validation_set['pred']-validation_set[TARGET_COL[0]]).abs()/validation_set[TARGET_COL[0]]"
   ]
  },
  {
   "cell_type": "code",
   "execution_count": 89,
   "id": "f3d7afdd",
   "metadata": {},
   "outputs": [
    {
     "data": {
      "text/html": [
       "<div>\n",
       "<style scoped>\n",
       "    .dataframe tbody tr th:only-of-type {\n",
       "        vertical-align: middle;\n",
       "    }\n",
       "\n",
       "    .dataframe tbody tr th {\n",
       "        vertical-align: top;\n",
       "    }\n",
       "\n",
       "    .dataframe thead th {\n",
       "        text-align: right;\n",
       "    }\n",
       "</style>\n",
       "<table border=\"1\" class=\"dataframe\">\n",
       "  <thead>\n",
       "    <tr style=\"text-align: right;\">\n",
       "      <th></th>\n",
       "      <th>title_series</th>\n",
       "      <th>legacy_series_id</th>\n",
       "      <th>ckg_series_id</th>\n",
       "      <th>imdb_id</th>\n",
       "      <th>primary_genre</th>\n",
       "      <th>latam_home_medal</th>\n",
       "      <th>first_release_date</th>\n",
       "      <th>theatrical_date</th>\n",
       "      <th>days_from_theatrical</th>\n",
       "      <th>budget</th>\n",
       "      <th>area_gross</th>\n",
       "      <th>pred</th>\n",
       "      <th>log_cumulative_first_views</th>\n",
       "    </tr>\n",
       "  </thead>\n",
       "  <tbody>\n",
       "  </tbody>\n",
       "</table>\n",
       "</div>"
      ],
      "text/plain": [
       "Empty DataFrame\n",
       "Columns: [title_series, legacy_series_id, ckg_series_id, imdb_id, primary_genre, latam_home_medal, first_release_date, theatrical_date, days_from_theatrical, budget, area_gross, pred, log_cumulative_first_views]\n",
       "Index: []"
      ]
     },
     "execution_count": 89,
     "metadata": {},
     "output_type": "execute_result"
    }
   ],
   "source": [
    "validation_set[validation_set['pct_error']>2][META_COLS + ['days_from_theatrical', 'budget', 'area_gross', 'pred'] + TARGET_COL]"
   ]
  },
  {
   "cell_type": "code",
   "execution_count": 90,
   "id": "0925e101",
   "metadata": {},
   "outputs": [
    {
     "data": {
      "text/plain": [
       "0.02603523016936181"
      ]
     },
     "execution_count": 90,
     "metadata": {},
     "output_type": "execute_result"
    }
   ],
   "source": [
    "cal_error(validation_set) #0.062"
   ]
  },
  {
   "cell_type": "code",
   "execution_count": 91,
   "id": "d56555cc",
   "metadata": {},
   "outputs": [],
   "source": [
    "def cal_true_error(validation_set):\n",
    "    error_col = (validation_set['pred_antilog']-validation_set['cumulative_first_views']).abs()/validation_set['cumulative_first_views']\n",
    "    return error_col.mean()"
   ]
  },
  {
   "cell_type": "code",
   "execution_count": 92,
   "id": "991faf4b",
   "metadata": {},
   "outputs": [],
   "source": [
    "validation_set['pred_antilog'] = 2**validation_set['pred'] - 10000"
   ]
  },
  {
   "cell_type": "code",
   "execution_count": 93,
   "id": "90bfd028",
   "metadata": {},
   "outputs": [],
   "source": [
    "validation_set['pct_error'] = (validation_set['pred_antilog']-validation_set['cumulative_first_views']).abs()/validation_set['cumulative_first_views']"
   ]
  },
  {
   "cell_type": "code",
   "execution_count": 94,
   "id": "516816ef",
   "metadata": {},
   "outputs": [
    {
     "data": {
      "text/plain": [
       "0.7354200021132263"
      ]
     },
     "execution_count": 94,
     "metadata": {},
     "output_type": "execute_result"
    }
   ],
   "source": [
    "cal_true_error(validation_set)"
   ]
  },
  {
   "cell_type": "code",
   "execution_count": 95,
   "id": "64bbac9b",
   "metadata": {},
   "outputs": [
    {
     "data": {
      "text/plain": [
       "days_from_theatrical   0.03\n",
       "area_gross             0.11\n",
       "budget                 0.13\n",
       "genre_Action           0.00\n",
       "genre_Comedy           0.00\n",
       "genre_Drama            0.00\n",
       "medal_number           0.73\n",
       "dtype: float64"
      ]
     },
     "execution_count": 95,
     "metadata": {},
     "output_type": "execute_result"
    }
   ],
   "source": [
    "feature_importances.mean()"
   ]
  },
  {
   "cell_type": "markdown",
   "id": "0982ab8f",
   "metadata": {},
   "source": [
    "### 2.12 Bayesian Regression CV"
   ]
  },
  {
   "cell_type": "code",
   "execution_count": 96,
   "id": "c403ad8f",
   "metadata": {},
   "outputs": [],
   "source": [
    "# !pip install pygam"
   ]
  },
  {
   "cell_type": "code",
   "execution_count": 97,
   "id": "5f0cf0b5",
   "metadata": {},
   "outputs": [],
   "source": [
    "from pygam import LinearGAM, s, PoissonGAM"
   ]
  },
  {
   "cell_type": "code",
   "execution_count": 98,
   "id": "3bc9884a",
   "metadata": {},
   "outputs": [
    {
     "data": {
      "text/plain": [
       "days_from_theatrical   0.00\n",
       "area_gross             0.00\n",
       "budget                 0.00\n",
       "genre_Action           0.00\n",
       "genre_Comedy           0.00\n",
       "genre_Drama            0.00\n",
       "medal_number           0.00\n",
       "dtype: float64"
      ]
     },
     "execution_count": 98,
     "metadata": {},
     "output_type": "execute_result"
    }
   ],
   "source": [
    "training_data[FEATURE_COLS].isnull().sum()/len(training_data)"
   ]
  },
  {
   "cell_type": "code",
   "execution_count": 99,
   "id": "59ec9822",
   "metadata": {},
   "outputs": [],
   "source": [
    "training_data['area_gross'] = training_data['area_gross'].fillna(0)\n",
    "training_data['budget'] = training_data['budget'].fillna(0)"
   ]
  },
  {
   "cell_type": "code",
   "execution_count": 152,
   "id": "eca37252",
   "metadata": {},
   "outputs": [],
   "source": [
    "### DOWNSIDE --- DO NOT TAKE NULL ####\n",
    "validation_set = pd.DataFrame()\n",
    "# feature_importances = pd.DataFrame()\n",
    "# gam = LinearGAM(s(0))\n",
    "\n",
    "for train_index, test_index in group_kfold.split(training_data, groups=training_data['ckg_series_id'].values):\n",
    "    train_df, test_df = training_data.iloc[train_index], training_data.iloc[test_index]\n",
    "#     print (\"Validation Title: \" + test_df['title'].values[0])\n",
    "    try:\n",
    "        ## fit_predict prelaunch model|\n",
    "        X_train, X_test = train_df[FEATURE_COLS], test_df[FEATURE_COLS]\n",
    "        y_train, y_test = train_df[TARGET_COL], test_df[TARGET_COL]\n",
    "\n",
    "        gam = LinearGAM(n_splines=4).fit(X_train, y_train)\n",
    "        pred = gam.predict(X_test)\n",
    "        pred = pd.DataFrame(pred)\n",
    "        pred.columns = ['pred']\n",
    "        test_df.reset_index(inplace = True, drop = True)\n",
    "        test_df = pd.concat([test_df, pred], axis = 1)\n",
    "        validation_set = pd.concat([validation_set, test_df], axis = 0)\n",
    "\n",
    "    except Exception as e:\n",
    "        print (e)\n",
    "        raise "
   ]
  },
  {
   "cell_type": "code",
   "execution_count": 153,
   "id": "434b6568",
   "metadata": {},
   "outputs": [
    {
     "data": {
      "text/plain": [
       "0.030053734450991017"
      ]
     },
     "execution_count": 153,
     "metadata": {},
     "output_type": "execute_result"
    }
   ],
   "source": [
    "cal_error(validation_set) # 0.035"
   ]
  },
  {
   "cell_type": "code",
   "execution_count": 154,
   "id": "63a29a4c",
   "metadata": {},
   "outputs": [],
   "source": [
    "def cal_true_error(validation_set):\n",
    "    error_col = (validation_set['pred_antilog']-validation_set['cumulative_first_views']).abs()/validation_set['cumulative_first_views']\n",
    "    return error_col.mean()"
   ]
  },
  {
   "cell_type": "code",
   "execution_count": 155,
   "id": "61900a94",
   "metadata": {},
   "outputs": [],
   "source": [
    "validation_set['pred_antilog'] = 2**(validation_set['pred']) - 10000"
   ]
  },
  {
   "cell_type": "code",
   "execution_count": 156,
   "id": "a0f4bc0f",
   "metadata": {},
   "outputs": [
    {
     "data": {
      "text/plain": [
       "0.9560660287546167"
      ]
     },
     "execution_count": 156,
     "metadata": {},
     "output_type": "execute_result"
    }
   ],
   "source": [
    "cal_true_error(validation_set)"
   ]
  },
  {
   "cell_type": "code",
   "execution_count": 105,
   "id": "a0422c3d",
   "metadata": {},
   "outputs": [],
   "source": [
    "validation_set['pct_error'] = (validation_set['pred_antilog']-validation_set['cumulative_first_views']).abs()/validation_set['cumulative_first_views']"
   ]
  },
  {
   "cell_type": "code",
   "execution_count": 106,
   "id": "353ee29e",
   "metadata": {},
   "outputs": [
    {
     "data": {
      "text/html": [
       "<div>\n",
       "<style scoped>\n",
       "    .dataframe tbody tr th:only-of-type {\n",
       "        vertical-align: middle;\n",
       "    }\n",
       "\n",
       "    .dataframe tbody tr th {\n",
       "        vertical-align: top;\n",
       "    }\n",
       "\n",
       "    .dataframe thead th {\n",
       "        text-align: right;\n",
       "    }\n",
       "</style>\n",
       "<table border=\"1\" class=\"dataframe\">\n",
       "  <thead>\n",
       "    <tr style=\"text-align: right;\">\n",
       "      <th></th>\n",
       "      <th>days_from_theatrical</th>\n",
       "      <th>budget</th>\n",
       "      <th>area_gross</th>\n",
       "      <th>pred</th>\n",
       "      <th>log_cumulative_first_views</th>\n",
       "    </tr>\n",
       "  </thead>\n",
       "  <tbody>\n",
       "    <tr>\n",
       "      <th>0</th>\n",
       "      <td>231</td>\n",
       "      <td>40,000,000.00</td>\n",
       "      <td>418,272.00</td>\n",
       "      <td>13.75</td>\n",
       "      <td>13.45</td>\n",
       "    </tr>\n",
       "    <tr>\n",
       "      <th>0</th>\n",
       "      <td>147</td>\n",
       "      <td>15,000,000.00</td>\n",
       "      <td>3,967.00</td>\n",
       "      <td>13.86</td>\n",
       "      <td>13.32</td>\n",
       "    </tr>\n",
       "    <tr>\n",
       "      <th>0</th>\n",
       "      <td>168</td>\n",
       "      <td>30,000,000.00</td>\n",
       "      <td>401,606.00</td>\n",
       "      <td>13.99</td>\n",
       "      <td>13.34</td>\n",
       "    </tr>\n",
       "    <tr>\n",
       "      <th>0</th>\n",
       "      <td>35</td>\n",
       "      <td>54,000,000.00</td>\n",
       "      <td>354,800.00</td>\n",
       "      <td>15.70</td>\n",
       "      <td>14.24</td>\n",
       "    </tr>\n",
       "    <tr>\n",
       "      <th>0</th>\n",
       "      <td>217</td>\n",
       "      <td>200,000,000.00</td>\n",
       "      <td>46,191,154.00</td>\n",
       "      <td>21.24</td>\n",
       "      <td>17.30</td>\n",
       "    </tr>\n",
       "  </tbody>\n",
       "</table>\n",
       "</div>"
      ],
      "text/plain": [
       "   days_from_theatrical         budget    area_gross  pred  \\\n",
       "0                   231  40,000,000.00    418,272.00 13.75   \n",
       "0                   147  15,000,000.00      3,967.00 13.86   \n",
       "0                   168  30,000,000.00    401,606.00 13.99   \n",
       "0                    35  54,000,000.00    354,800.00 15.70   \n",
       "0                   217 200,000,000.00 46,191,154.00 21.24   \n",
       "\n",
       "   log_cumulative_first_views  \n",
       "0                       13.45  \n",
       "0                       13.32  \n",
       "0                       13.34  \n",
       "0                       14.24  \n",
       "0                       17.30  "
      ]
     },
     "execution_count": 106,
     "metadata": {},
     "output_type": "execute_result"
    }
   ],
   "source": [
    "validation_set[validation_set['pct_error']>2][['days_from_theatrical', 'budget', 'area_gross', 'pred'] + TARGET_COL]"
   ]
  },
  {
   "cell_type": "code",
   "execution_count": 107,
   "id": "e5344ef8",
   "metadata": {},
   "outputs": [],
   "source": [
    "X = training_data[FEATURE_COLS]\n",
    "y = training_data[TARGET_COL]\n",
    "gam = LinearGAM(n_splines=10).fit(X, y)"
   ]
  },
  {
   "cell_type": "code",
   "execution_count": 108,
   "id": "9f493440",
   "metadata": {},
   "outputs": [
    {
     "name": "stdout",
     "output_type": "stream",
     "text": [
      "LinearGAM                                                                                                 \n",
      "=============================================== ==========================================================\n",
      "Distribution:                        NormalDist Effective DoF:                                     14.1987\n",
      "Link Function:                     IdentityLink Log Likelihood:                                   -49.0718\n",
      "Number of Samples:                           53 AIC:                                               128.541\n",
      "                                                AICc:                                              141.921\n",
      "                                                GCV:                                                0.5902\n",
      "                                                Scale:                                              0.3149\n",
      "                                                Pseudo R-Squared:                                   0.8694\n",
      "==========================================================================================================\n",
      "Feature Function                  Lambda               Rank         EDoF         P > x        Sig. Code   \n",
      "================================= ==================== ============ ============ ============ ============\n",
      "s(0)                              [0.6]                10                        4.16e-12     ***         \n",
      "s(1)                              [0.6]                10                        1.11e-16     ***         \n",
      "s(2)                              [0.6]                10                        1.89e-10     ***         \n",
      "s(3)                              [0.6]                10                        1.11e-16     ***         \n",
      "s(4)                              [0.6]                10                        1.11e-16     ***         \n",
      "s(5)                              [0.6]                10                        1.11e-16     ***         \n",
      "s(6)                              [0.6]                10                        1.54e-07     ***         \n",
      "intercept                                              1                         1.11e-16     ***         \n",
      "==========================================================================================================\n",
      "Significance codes:  0 '***' 0.001 '**' 0.01 '*' 0.05 '.' 0.1 ' ' 1\n",
      "\n",
      "WARNING: Fitting splines and a linear function to a feature introduces a model identifiability problem\n",
      "         which can cause p-values to appear significant when they are not.\n",
      "\n",
      "WARNING: p-values calculated in this manner behave correctly for un-penalized models or models with\n",
      "         known smoothing parameters, but when smoothing parameters have been estimated, the p-values\n",
      "         are typically lower than they should be, meaning that the tests reject the null too readily.\n"
     ]
    }
   ],
   "source": [
    "gam.summary()"
   ]
  },
  {
   "cell_type": "code",
   "execution_count": 109,
   "id": "14bd5748",
   "metadata": {},
   "outputs": [],
   "source": [
    "import matplotlib.pyplot as plt"
   ]
  },
  {
   "cell_type": "code",
   "execution_count": 110,
   "id": "fe05f852",
   "metadata": {},
   "outputs": [
    {
     "data": {
      "image/png": "[encoded data removed]",
      "text/plain": [
       "<Figure size 1440x576 with 7 Axes>"
      ]
     },
     "metadata": {
      "needs_background": "light"
     },
     "output_type": "display_data"
    }
   ],
   "source": [
    "plt.rcParams['figure.figsize'] = (20, 8)\n",
    "fig, axs = plt.subplots(1, 7)\n",
    "titles = FEATURE_COLS\n",
    "for i, ax in enumerate(axs):\n",
    "    XX = gam.generate_X_grid(term=i)\n",
    "    pdep, confi = gam.partial_dependence(term=i, width=.95)\n",
    "\n",
    "    ax.plot(XX[:, i], pdep)\n",
    "    ax.plot(XX[:, i], confi, c='r', ls='--')\n",
    "    ax.set_title(titles[i]);"
   ]
  },
  {
   "cell_type": "markdown",
   "id": "feb0064f",
   "metadata": {},
   "source": [
    "### 2.13 GAM Scoring"
   ]
  },
  {
   "cell_type": "markdown",
   "id": "1f1f313f",
   "metadata": {},
   "source": [
    "##### 2.131 Scoring 1"
   ]
  },
  {
   "cell_type": "code",
   "execution_count": 113,
   "id": "32aae43a",
   "metadata": {},
   "outputs": [
    {
     "data": {
      "text/html": [
       "<div>\n",
       "<style scoped>\n",
       "    .dataframe tbody tr th:only-of-type {\n",
       "        vertical-align: middle;\n",
       "    }\n",
       "\n",
       "    .dataframe tbody tr th {\n",
       "        vertical-align: top;\n",
       "    }\n",
       "\n",
       "    .dataframe thead th {\n",
       "        text-align: right;\n",
       "    }\n",
       "</style>\n",
       "<table border=\"1\" class=\"dataframe\">\n",
       "  <thead>\n",
       "    <tr style=\"text-align: right;\">\n",
       "      <th></th>\n",
       "      <th>Unnamed: 0</th>\n",
       "      <th>title_series</th>\n",
       "      <th>legacy_series_id</th>\n",
       "      <th>ckg_series_id</th>\n",
       "      <th>imdb_id</th>\n",
       "      <th>program_type</th>\n",
       "      <th>primary_genre</th>\n",
       "      <th>first_release_date</th>\n",
       "      <th>theatrical_date</th>\n",
       "      <th>area_gross</th>\n",
       "      <th>budget</th>\n",
       "      <th>observed_medal</th>\n",
       "      <th>latam_home_medal</th>\n",
       "      <th>day_on_max</th>\n",
       "      <th>cumulative_viewing_subscribers</th>\n",
       "      <th>cumulative_first_views</th>\n",
       "      <th>percent_cumulative_viewing_subscribers</th>\n",
       "      <th>percent_cumulative_first_views</th>\n",
       "      <th>days_from_theatrical</th>\n",
       "      <th>genre_Action</th>\n",
       "      <th>genre_Comedy</th>\n",
       "      <th>genre_Drama</th>\n",
       "      <th>genre_Fantasy &amp; Sci-Fi</th>\n",
       "      <th>genre_Horror</th>\n",
       "      <th>genre_Kids &amp; Family</th>\n",
       "      <th>genre_Music</th>\n",
       "      <th>genre_Not A Genre</th>\n",
       "      <th>medal_Bronze</th>\n",
       "      <th>medal_Gold</th>\n",
       "      <th>medal_Platinum</th>\n",
       "      <th>medal_Silver</th>\n",
       "      <th>medal_number</th>\n",
       "      <th>log_cumulative_first_views</th>\n",
       "      <th>log_cumulative_viewing_subs</th>\n",
       "    </tr>\n",
       "  </thead>\n",
       "  <tbody>\n",
       "    <tr>\n",
       "      <th>0</th>\n",
       "      <td>2</td>\n",
       "      <td>Ambulance</td>\n",
       "      <td>GYyRIgQNLUhu1wwEAAAAF</td>\n",
       "      <td>GYyRIgQNLUhu1wwEAAAAF</td>\n",
       "      <td>tt4998632</td>\n",
       "      <td>Acquired</td>\n",
       "      <td>Action</td>\n",
       "      <td>2022-11-24</td>\n",
       "      <td>2022-03-17</td>\n",
       "      <td>1,218,886.00</td>\n",
       "      <td>40,000,000.00</td>\n",
       "      <td>Silver</td>\n",
       "      <td>Silver</td>\n",
       "      <td>90.00</td>\n",
       "      <td>1,107,532.00</td>\n",
       "      <td>7,058.00</td>\n",
       "      <td>8.84</td>\n",
       "      <td>0.20</td>\n",
       "      <td>252</td>\n",
       "      <td>1</td>\n",
       "      <td>0</td>\n",
       "      <td>0</td>\n",
       "      <td>0</td>\n",
       "      <td>0</td>\n",
       "      <td>0</td>\n",
       "      <td>0</td>\n",
       "      <td>0</td>\n",
       "      <td>0</td>\n",
       "      <td>0</td>\n",
       "      <td>0</td>\n",
       "      <td>1</td>\n",
       "      <td>2</td>\n",
       "      <td>14.06</td>\n",
       "      <td>20.08</td>\n",
       "    </tr>\n",
       "    <tr>\n",
       "      <th>1</th>\n",
       "      <td>3</td>\n",
       "      <td>Armageddon Time</td>\n",
       "      <td>GZK1nDg0nFaXCwgEAABAp</td>\n",
       "      <td>1e047963-2433-4a1a-8095-830022a0ce57</td>\n",
       "      <td>tt10343028</td>\n",
       "      <td>Acquired</td>\n",
       "      <td>Drama</td>\n",
       "      <td>2023-08-10</td>\n",
       "      <td>2023-03-16</td>\n",
       "      <td>3,967.00</td>\n",
       "      <td>15,000,000.00</td>\n",
       "      <td>Bronze</td>\n",
       "      <td>Bronze</td>\n",
       "      <td>90.00</td>\n",
       "      <td>34,968.00</td>\n",
       "      <td>226.00</td>\n",
       "      <td>0.30</td>\n",
       "      <td>0.01</td>\n",
       "      <td>147</td>\n",
       "      <td>0</td>\n",
       "      <td>0</td>\n",
       "      <td>1</td>\n",
       "      <td>0</td>\n",
       "      <td>0</td>\n",
       "      <td>0</td>\n",
       "      <td>0</td>\n",
       "      <td>0</td>\n",
       "      <td>1</td>\n",
       "      <td>0</td>\n",
       "      <td>0</td>\n",
       "      <td>0</td>\n",
       "      <td>3</td>\n",
       "      <td>13.32</td>\n",
       "      <td>15.09</td>\n",
       "    </tr>\n",
       "    <tr>\n",
       "      <th>2</th>\n",
       "      <td>7</td>\n",
       "      <td>Belfast</td>\n",
       "      <td>GYpn_UA8YyZ3DZgEAAAAW</td>\n",
       "      <td>0b926c5b-b8e4-401c-ba69-783ce07ad098</td>\n",
       "      <td>tt12789558</td>\n",
       "      <td>Acquired</td>\n",
       "      <td>Drama</td>\n",
       "      <td>2022-10-27</td>\n",
       "      <td>2022-03-10</td>\n",
       "      <td>109,066.00</td>\n",
       "      <td>11,000,000.00</td>\n",
       "      <td>Bronze</td>\n",
       "      <td>Bronze</td>\n",
       "      <td>90.00</td>\n",
       "      <td>137,179.00</td>\n",
       "      <td>522.00</td>\n",
       "      <td>1.13</td>\n",
       "      <td>0.02</td>\n",
       "      <td>231</td>\n",
       "      <td>0</td>\n",
       "      <td>0</td>\n",
       "      <td>1</td>\n",
       "      <td>0</td>\n",
       "      <td>0</td>\n",
       "      <td>0</td>\n",
       "      <td>0</td>\n",
       "      <td>0</td>\n",
       "      <td>1</td>\n",
       "      <td>0</td>\n",
       "      <td>0</td>\n",
       "      <td>0</td>\n",
       "      <td>3</td>\n",
       "      <td>13.36</td>\n",
       "      <td>17.07</td>\n",
       "    </tr>\n",
       "    <tr>\n",
       "      <th>3</th>\n",
       "      <td>8</td>\n",
       "      <td>Black Adam</td>\n",
       "      <td>GYzcHIw5407mRsAEAAAA4</td>\n",
       "      <td>0c730836-253b-4338-a3d1-a6a44a3384e0</td>\n",
       "      <td>tt6443346</td>\n",
       "      <td>Acquired</td>\n",
       "      <td>Action</td>\n",
       "      <td>2022-12-16</td>\n",
       "      <td>2022-10-20</td>\n",
       "      <td>9,282,592.00</td>\n",
       "      <td>195,000,000.00</td>\n",
       "      <td>Platinum</td>\n",
       "      <td>Platinum</td>\n",
       "      <td>90.00</td>\n",
       "      <td>5,705,318.00</td>\n",
       "      <td>208,837.00</td>\n",
       "      <td>44.64</td>\n",
       "      <td>5.42</td>\n",
       "      <td>57</td>\n",
       "      <td>1</td>\n",
       "      <td>0</td>\n",
       "      <td>0</td>\n",
       "      <td>0</td>\n",
       "      <td>0</td>\n",
       "      <td>0</td>\n",
       "      <td>0</td>\n",
       "      <td>0</td>\n",
       "      <td>0</td>\n",
       "      <td>0</td>\n",
       "      <td>1</td>\n",
       "      <td>0</td>\n",
       "      <td>0</td>\n",
       "      <td>17.74</td>\n",
       "      <td>22.44</td>\n",
       "    </tr>\n",
       "    <tr>\n",
       "      <th>5</th>\n",
       "      <td>16</td>\n",
       "      <td>DC League of Super-Pets</td>\n",
       "      <td>GYw48owR8pBbDwwEAAAh0</td>\n",
       "      <td>01eec62a-f4cd-43b9-a07b-a4ead7ffc089</td>\n",
       "      <td>tt8912936</td>\n",
       "      <td>Acquired</td>\n",
       "      <td>Kids &amp; Family</td>\n",
       "      <td>2022-09-26</td>\n",
       "      <td>2022-07-28</td>\n",
       "      <td>4,649,313.00</td>\n",
       "      <td>90,000,000.00</td>\n",
       "      <td>Platinum</td>\n",
       "      <td>Platinum</td>\n",
       "      <td>90.00</td>\n",
       "      <td>2,859,293.00</td>\n",
       "      <td>42,193.00</td>\n",
       "      <td>24.41</td>\n",
       "      <td>1.52</td>\n",
       "      <td>60</td>\n",
       "      <td>0</td>\n",
       "      <td>0</td>\n",
       "      <td>0</td>\n",
       "      <td>0</td>\n",
       "      <td>0</td>\n",
       "      <td>1</td>\n",
       "      <td>0</td>\n",
       "      <td>0</td>\n",
       "      <td>0</td>\n",
       "      <td>0</td>\n",
       "      <td>1</td>\n",
       "      <td>0</td>\n",
       "      <td>0</td>\n",
       "      <td>15.67</td>\n",
       "      <td>21.45</td>\n",
       "    </tr>\n",
       "  </tbody>\n",
       "</table>\n",
       "</div>"
      ],
      "text/plain": [
       "   Unnamed: 0             title_series       legacy_series_id  \\\n",
       "0           2                Ambulance  GYyRIgQNLUhu1wwEAAAAF   \n",
       "1           3          Armageddon Time  GZK1nDg0nFaXCwgEAABAp   \n",
       "2           7                  Belfast  GYpn_UA8YyZ3DZgEAAAAW   \n",
       "3           8               Black Adam  GYzcHIw5407mRsAEAAAA4   \n",
       "5          16  DC League of Super-Pets  GYw48owR8pBbDwwEAAAh0   \n",
       "\n",
       "                          ckg_series_id     imdb_id program_type  \\\n",
       "0                 GYyRIgQNLUhu1wwEAAAAF   tt4998632     Acquired   \n",
       "1  1e047963-2433-4a1a-8095-830022a0ce57  tt10343028     Acquired   \n",
       "2  0b926c5b-b8e4-401c-ba69-783ce07ad098  tt12789558     Acquired   \n",
       "3  0c730836-253b-4338-a3d1-a6a44a3384e0   tt6443346     Acquired   \n",
       "5  01eec62a-f4cd-43b9-a07b-a4ead7ffc089   tt8912936     Acquired   \n",
       "\n",
       "   primary_genre first_release_date theatrical_date   area_gross  \\\n",
       "0         Action         2022-11-24      2022-03-17 1,218,886.00   \n",
       "1          Drama         2023-08-10      2023-03-16     3,967.00   \n",
       "2          Drama         2022-10-27      2022-03-10   109,066.00   \n",
       "3         Action         2022-12-16      2022-10-20 9,282,592.00   \n",
       "5  Kids & Family         2022-09-26      2022-07-28 4,649,313.00   \n",
       "\n",
       "          budget observed_medal latam_home_medal  day_on_max  \\\n",
       "0  40,000,000.00         Silver           Silver       90.00   \n",
       "1  15,000,000.00         Bronze           Bronze       90.00   \n",
       "2  11,000,000.00         Bronze           Bronze       90.00   \n",
       "3 195,000,000.00       Platinum         Platinum       90.00   \n",
       "5  90,000,000.00       Platinum         Platinum       90.00   \n",
       "\n",
       "   cumulative_viewing_subscribers  cumulative_first_views  \\\n",
       "0                    1,107,532.00                7,058.00   \n",
       "1                       34,968.00                  226.00   \n",
       "2                      137,179.00                  522.00   \n",
       "3                    5,705,318.00              208,837.00   \n",
       "5                    2,859,293.00               42,193.00   \n",
       "\n",
       "   percent_cumulative_viewing_subscribers  percent_cumulative_first_views  \\\n",
       "0                                    8.84                            0.20   \n",
       "1                                    0.30                            0.01   \n",
       "2                                    1.13                            0.02   \n",
       "3                                   44.64                            5.42   \n",
       "5                                   24.41                            1.52   \n",
       "\n",
       "   days_from_theatrical  genre_Action  genre_Comedy  genre_Drama  \\\n",
       "0                   252             1             0            0   \n",
       "1                   147             0             0            1   \n",
       "2                   231             0             0            1   \n",
       "3                    57             1             0            0   \n",
       "5                    60             0             0            0   \n",
       "\n",
       "   genre_Fantasy & Sci-Fi  genre_Horror  genre_Kids & Family  genre_Music  \\\n",
       "0                       0             0                    0            0   \n",
       "1                       0             0                    0            0   \n",
       "2                       0             0                    0            0   \n",
       "3                       0             0                    0            0   \n",
       "5                       0             0                    1            0   \n",
       "\n",
       "   genre_Not A Genre  medal_Bronze  medal_Gold  medal_Platinum  medal_Silver  \\\n",
       "0                  0             0           0               0             1   \n",
       "1                  0             1           0               0             0   \n",
       "2                  0             1           0               0             0   \n",
       "3                  0             0           0               1             0   \n",
       "5                  0             0           0               1             0   \n",
       "\n",
       "   medal_number  log_cumulative_first_views  log_cumulative_viewing_subs  \n",
       "0             2                       14.06                        20.08  \n",
       "1             3                       13.32                        15.09  \n",
       "2             3                       13.36                        17.07  \n",
       "3             0                       17.74                        22.44  \n",
       "5             0                       15.67                        21.45  "
      ]
     },
     "execution_count": 113,
     "metadata": {},
     "output_type": "execute_result"
    }
   ],
   "source": [
    "training_data.head()"
   ]
  },
  {
   "cell_type": "code",
   "execution_count": 114,
   "id": "32fb4104",
   "metadata": {},
   "outputs": [],
   "source": [
    "def cartesian_product_basic(left, right):\n",
    "    return (\n",
    "       left.assign(key=1).merge(right.assign(key=1), on='key').drop('key', 1))"
   ]
  },
  {
   "cell_type": "code",
   "execution_count": 157,
   "id": "01d1b25b",
   "metadata": {},
   "outputs": [],
   "source": [
    "X = training_data[FEATURE_COLS]\n",
    "y = training_data[TARGET_COL]\n",
    "gam = LinearGAM(n_splines=4).fit(X, y)\n",
    "# gam = GradientBoostingRegressor(random_state=0).fit(X, y)"
   ]
  },
  {
   "cell_type": "code",
   "execution_count": 172,
   "id": "ebbc8e24",
   "metadata": {},
   "outputs": [],
   "source": [
    "pred_day = [*range(0, 200, 15)]\n",
    "df = pd.DataFrame(pred_day, columns =['days_from_theatrical'])\n",
    "\n",
    "scoring_data = training_data[META_COLS+FEATURE_COLS].copy()\n",
    "scoring_data.drop(['days_from_theatrical'], axis = 1, inplace = True)\n",
    "\n",
    "scoring_data=cartesian_product_basic(scoring_data, df)"
   ]
  },
  {
   "cell_type": "code",
   "execution_count": 173,
   "id": "7cc010ab",
   "metadata": {},
   "outputs": [],
   "source": [
    "pred = gam.predict(scoring_data[FEATURE_COLS])\n",
    "pred = pd.DataFrame(pred)\n",
    "pred.columns = ['pred']\n",
    "scoring_data = pd.concat([scoring_data, pred], axis = 1)"
   ]
  },
  {
   "cell_type": "code",
   "execution_count": 174,
   "id": "29ab2634",
   "metadata": {},
   "outputs": [],
   "source": [
    "scoring_data['pred'] = 2**(scoring_data['pred']) - 10000\n",
    "scoring_data['kpi'] = 'first_views'\n",
    "\n",
    "scoring_data_45 = scoring_data[scoring_data['days_from_theatrical'] == 45][['ckg_series_id', 'pred']].rename(columns = {'pred':'base'}).copy()\n",
    "scoring_data = scoring_data.merge(scoring_data_45, on = ['ckg_series_id'])\n",
    "scoring_data['multiplier'] = scoring_data['pred']/scoring_data['base']\n",
    "\n",
    "score_multi = scoring_data.groupby(['latam_home_medal', 'days_from_theatrical']).mean()[['multiplier']].reset_index()"
   ]
  },
  {
   "cell_type": "code",
   "execution_count": 175,
   "id": "c4290dc5",
   "metadata": {},
   "outputs": [
    {
     "data": {
      "image/png": "[encoded data removed]",
      "text/plain": [
       "<Figure size 864x576 with 1 Axes>"
      ]
     },
     "metadata": {
      "needs_background": "light"
     },
     "output_type": "display_data"
    }
   ],
   "source": [
    "fig, ax = plt.subplots(figsize=(12, 8))\n",
    "for i in training_data['latam_home_medal'].unique():\n",
    "    plot_df = score_multi[score_multi['latam_home_medal'] == i]\n",
    "    plt.plot(plot_df['days_from_theatrical'], plot_df['multiplier'], label=i)\n",
    "\n",
    "\n",
    "ax.set_xlabel('days_from_theatrical')\n",
    "ax.set_ylabel('cumulative_first_views')\n",
    "ax.legend()\n",
    "\n",
    "plt.show()"
   ]
  },
  {
   "cell_type": "code",
   "execution_count": 167,
   "id": "2d09d8cf",
   "metadata": {},
   "outputs": [],
   "source": [
    "# write_to_sf(scoring_data[OUTPUT_COLS], 'title_level_first_views')\n",
    "scoring_data.to_csv('latam_results_table.csv')"
   ]
  },
  {
   "cell_type": "markdown",
   "id": "ef3a991e",
   "metadata": {},
   "source": [
    "##### 1.132 Scoring2"
   ]
  },
  {
   "cell_type": "code",
   "execution_count": 118,
   "id": "86f1c122",
   "metadata": {},
   "outputs": [],
   "source": [
    "scoring_data = training_data[META_COLS+FEATURE_COLS].copy()\n",
    "scoring_data.drop(['days_from_theatrical'], axis = 1, inplace = True)"
   ]
  },
  {
   "cell_type": "code",
   "execution_count": 119,
   "id": "f8244eb3",
   "metadata": {},
   "outputs": [
    {
     "data": {
      "text/html": [
       "<div>\n",
       "<style scoped>\n",
       "    .dataframe tbody tr th:only-of-type {\n",
       "        vertical-align: middle;\n",
       "    }\n",
       "\n",
       "    .dataframe tbody tr th {\n",
       "        vertical-align: top;\n",
       "    }\n",
       "\n",
       "    .dataframe thead th {\n",
       "        text-align: right;\n",
       "    }\n",
       "</style>\n",
       "<table border=\"1\" class=\"dataframe\">\n",
       "  <thead>\n",
       "    <tr style=\"text-align: right;\">\n",
       "      <th></th>\n",
       "      <th>title_series</th>\n",
       "      <th>legacy_series_id</th>\n",
       "      <th>ckg_series_id</th>\n",
       "      <th>imdb_id</th>\n",
       "      <th>primary_genre</th>\n",
       "      <th>latam_home_medal</th>\n",
       "      <th>first_release_date</th>\n",
       "      <th>theatrical_date</th>\n",
       "      <th>area_gross</th>\n",
       "      <th>budget</th>\n",
       "      <th>genre_Action</th>\n",
       "      <th>genre_Comedy</th>\n",
       "      <th>genre_Drama</th>\n",
       "      <th>medal_number</th>\n",
       "    </tr>\n",
       "  </thead>\n",
       "  <tbody>\n",
       "    <tr>\n",
       "      <th>0</th>\n",
       "      <td>Ambulance</td>\n",
       "      <td>GYyRIgQNLUhu1wwEAAAAF</td>\n",
       "      <td>GYyRIgQNLUhu1wwEAAAAF</td>\n",
       "      <td>tt4998632</td>\n",
       "      <td>Action</td>\n",
       "      <td>Silver</td>\n",
       "      <td>2022-11-24</td>\n",
       "      <td>2022-03-17</td>\n",
       "      <td>1,218,886.00</td>\n",
       "      <td>40,000,000.00</td>\n",
       "      <td>1</td>\n",
       "      <td>0</td>\n",
       "      <td>0</td>\n",
       "      <td>2</td>\n",
       "    </tr>\n",
       "    <tr>\n",
       "      <th>1</th>\n",
       "      <td>Armageddon Time</td>\n",
       "      <td>GZK1nDg0nFaXCwgEAABAp</td>\n",
       "      <td>1e047963-2433-4a1a-8095-830022a0ce57</td>\n",
       "      <td>tt10343028</td>\n",
       "      <td>Drama</td>\n",
       "      <td>Bronze</td>\n",
       "      <td>2023-08-10</td>\n",
       "      <td>2023-03-16</td>\n",
       "      <td>3,967.00</td>\n",
       "      <td>15,000,000.00</td>\n",
       "      <td>0</td>\n",
       "      <td>0</td>\n",
       "      <td>1</td>\n",
       "      <td>3</td>\n",
       "    </tr>\n",
       "    <tr>\n",
       "      <th>2</th>\n",
       "      <td>Belfast</td>\n",
       "      <td>GYpn_UA8YyZ3DZgEAAAAW</td>\n",
       "      <td>0b926c5b-b8e4-401c-ba69-783ce07ad098</td>\n",
       "      <td>tt12789558</td>\n",
       "      <td>Drama</td>\n",
       "      <td>Bronze</td>\n",
       "      <td>2022-10-27</td>\n",
       "      <td>2022-03-10</td>\n",
       "      <td>109,066.00</td>\n",
       "      <td>11,000,000.00</td>\n",
       "      <td>0</td>\n",
       "      <td>0</td>\n",
       "      <td>1</td>\n",
       "      <td>3</td>\n",
       "    </tr>\n",
       "    <tr>\n",
       "      <th>3</th>\n",
       "      <td>Black Adam</td>\n",
       "      <td>GYzcHIw5407mRsAEAAAA4</td>\n",
       "      <td>0c730836-253b-4338-a3d1-a6a44a3384e0</td>\n",
       "      <td>tt6443346</td>\n",
       "      <td>Action</td>\n",
       "      <td>Platinum</td>\n",
       "      <td>2022-12-16</td>\n",
       "      <td>2022-10-20</td>\n",
       "      <td>9,282,592.00</td>\n",
       "      <td>195,000,000.00</td>\n",
       "      <td>1</td>\n",
       "      <td>0</td>\n",
       "      <td>0</td>\n",
       "      <td>0</td>\n",
       "    </tr>\n",
       "    <tr>\n",
       "      <th>5</th>\n",
       "      <td>DC League of Super-Pets</td>\n",
       "      <td>GYw48owR8pBbDwwEAAAh0</td>\n",
       "      <td>01eec62a-f4cd-43b9-a07b-a4ead7ffc089</td>\n",
       "      <td>tt8912936</td>\n",
       "      <td>Kids &amp; Family</td>\n",
       "      <td>Platinum</td>\n",
       "      <td>2022-09-26</td>\n",
       "      <td>2022-07-28</td>\n",
       "      <td>4,649,313.00</td>\n",
       "      <td>90,000,000.00</td>\n",
       "      <td>0</td>\n",
       "      <td>0</td>\n",
       "      <td>0</td>\n",
       "      <td>0</td>\n",
       "    </tr>\n",
       "  </tbody>\n",
       "</table>\n",
       "</div>"
      ],
      "text/plain": [
       "              title_series       legacy_series_id  \\\n",
       "0                Ambulance  GYyRIgQNLUhu1wwEAAAAF   \n",
       "1          Armageddon Time  GZK1nDg0nFaXCwgEAABAp   \n",
       "2                  Belfast  GYpn_UA8YyZ3DZgEAAAAW   \n",
       "3               Black Adam  GYzcHIw5407mRsAEAAAA4   \n",
       "5  DC League of Super-Pets  GYw48owR8pBbDwwEAAAh0   \n",
       "\n",
       "                          ckg_series_id     imdb_id  primary_genre  \\\n",
       "0                 GYyRIgQNLUhu1wwEAAAAF   tt4998632         Action   \n",
       "1  1e047963-2433-4a1a-8095-830022a0ce57  tt10343028          Drama   \n",
       "2  0b926c5b-b8e4-401c-ba69-783ce07ad098  tt12789558          Drama   \n",
       "3  0c730836-253b-4338-a3d1-a6a44a3384e0   tt6443346         Action   \n",
       "5  01eec62a-f4cd-43b9-a07b-a4ead7ffc089   tt8912936  Kids & Family   \n",
       "\n",
       "  latam_home_medal first_release_date theatrical_date   area_gross  \\\n",
       "0           Silver         2022-11-24      2022-03-17 1,218,886.00   \n",
       "1           Bronze         2023-08-10      2023-03-16     3,967.00   \n",
       "2           Bronze         2022-10-27      2022-03-10   109,066.00   \n",
       "3         Platinum         2022-12-16      2022-10-20 9,282,592.00   \n",
       "5         Platinum         2022-09-26      2022-07-28 4,649,313.00   \n",
       "\n",
       "          budget  genre_Action  genre_Comedy  genre_Drama  medal_number  \n",
       "0  40,000,000.00             1             0            0             2  \n",
       "1  15,000,000.00             0             0            1             3  \n",
       "2  11,000,000.00             0             0            1             3  \n",
       "3 195,000,000.00             1             0            0             0  \n",
       "5  90,000,000.00             0             0            0             0  "
      ]
     },
     "execution_count": 119,
     "metadata": {},
     "output_type": "execute_result"
    }
   ],
   "source": [
    "scoring_data.head()"
   ]
  },
  {
   "cell_type": "code",
   "execution_count": 120,
   "id": "15a03e69",
   "metadata": {},
   "outputs": [],
   "source": [
    "scoring_data = scoring_data.groupby(['latam_home_medal', 'primary_genre']).mean().reset_index()"
   ]
  },
  {
   "cell_type": "code",
   "execution_count": 121,
   "id": "08b54143",
   "metadata": {},
   "outputs": [],
   "source": [
    "pred_day = [*range(0, 200, 15)]\n",
    "df = pd.DataFrame(pred_day, columns =['days_from_theatrical'])"
   ]
  },
  {
   "cell_type": "code",
   "execution_count": 122,
   "id": "90489add",
   "metadata": {},
   "outputs": [],
   "source": [
    "scoring_data=cartesian_product_basic(scoring_data, df)"
   ]
  },
  {
   "cell_type": "code",
   "execution_count": 123,
   "id": "f8984446",
   "metadata": {},
   "outputs": [],
   "source": [
    "pred = gam.predict(scoring_data[FEATURE_COLS])\n",
    "pred = pd.DataFrame(pred)\n",
    "pred.columns = ['pred']\n",
    "scoring_data = pd.concat([scoring_data, pred], axis = 1)"
   ]
  },
  {
   "cell_type": "code",
   "execution_count": 127,
   "id": "6024d9c6",
   "metadata": {},
   "outputs": [
    {
     "data": {
      "text/html": [
       "<div>\n",
       "<style scoped>\n",
       "    .dataframe tbody tr th:only-of-type {\n",
       "        vertical-align: middle;\n",
       "    }\n",
       "\n",
       "    .dataframe tbody tr th {\n",
       "        vertical-align: top;\n",
       "    }\n",
       "\n",
       "    .dataframe thead th {\n",
       "        text-align: right;\n",
       "    }\n",
       "</style>\n",
       "<table border=\"1\" class=\"dataframe\">\n",
       "  <thead>\n",
       "    <tr style=\"text-align: right;\">\n",
       "      <th></th>\n",
       "      <th>latam_home_medal</th>\n",
       "      <th>primary_genre</th>\n",
       "      <th>area_gross</th>\n",
       "      <th>budget</th>\n",
       "      <th>genre_Action</th>\n",
       "      <th>genre_Comedy</th>\n",
       "      <th>genre_Drama</th>\n",
       "      <th>medal_number</th>\n",
       "      <th>days_from_theatrical</th>\n",
       "      <th>pred</th>\n",
       "      <th>title_id</th>\n",
       "      <th>imdb_id</th>\n",
       "      <th>title</th>\n",
       "      <th>kpi</th>\n",
       "    </tr>\n",
       "  </thead>\n",
       "  <tbody>\n",
       "    <tr>\n",
       "      <th>0</th>\n",
       "      <td>Bronze</td>\n",
       "      <td>Action</td>\n",
       "      <td>728,319.00</td>\n",
       "      <td>20,000,000.00</td>\n",
       "      <td>1</td>\n",
       "      <td>0</td>\n",
       "      <td>0</td>\n",
       "      <td>3</td>\n",
       "      <td>0</td>\n",
       "      <td>8,282.70</td>\n",
       "      <td>nan</td>\n",
       "      <td>nan</td>\n",
       "      <td>nan</td>\n",
       "      <td>first_views</td>\n",
       "    </tr>\n",
       "    <tr>\n",
       "      <th>1</th>\n",
       "      <td>Bronze</td>\n",
       "      <td>Action</td>\n",
       "      <td>728,319.00</td>\n",
       "      <td>20,000,000.00</td>\n",
       "      <td>1</td>\n",
       "      <td>0</td>\n",
       "      <td>0</td>\n",
       "      <td>3</td>\n",
       "      <td>15</td>\n",
       "      <td>8,238.79</td>\n",
       "      <td>nan</td>\n",
       "      <td>nan</td>\n",
       "      <td>nan</td>\n",
       "      <td>first_views</td>\n",
       "    </tr>\n",
       "    <tr>\n",
       "      <th>2</th>\n",
       "      <td>Bronze</td>\n",
       "      <td>Action</td>\n",
       "      <td>728,319.00</td>\n",
       "      <td>20,000,000.00</td>\n",
       "      <td>1</td>\n",
       "      <td>0</td>\n",
       "      <td>0</td>\n",
       "      <td>3</td>\n",
       "      <td>30</td>\n",
       "      <td>8,194.98</td>\n",
       "      <td>nan</td>\n",
       "      <td>nan</td>\n",
       "      <td>nan</td>\n",
       "      <td>first_views</td>\n",
       "    </tr>\n",
       "    <tr>\n",
       "      <th>3</th>\n",
       "      <td>Bronze</td>\n",
       "      <td>Action</td>\n",
       "      <td>728,319.00</td>\n",
       "      <td>20,000,000.00</td>\n",
       "      <td>1</td>\n",
       "      <td>0</td>\n",
       "      <td>0</td>\n",
       "      <td>3</td>\n",
       "      <td>45</td>\n",
       "      <td>8,141.46</td>\n",
       "      <td>nan</td>\n",
       "      <td>nan</td>\n",
       "      <td>nan</td>\n",
       "      <td>first_views</td>\n",
       "    </tr>\n",
       "    <tr>\n",
       "      <th>4</th>\n",
       "      <td>Bronze</td>\n",
       "      <td>Action</td>\n",
       "      <td>728,319.00</td>\n",
       "      <td>20,000,000.00</td>\n",
       "      <td>1</td>\n",
       "      <td>0</td>\n",
       "      <td>0</td>\n",
       "      <td>3</td>\n",
       "      <td>60</td>\n",
       "      <td>8,057.86</td>\n",
       "      <td>nan</td>\n",
       "      <td>nan</td>\n",
       "      <td>nan</td>\n",
       "      <td>first_views</td>\n",
       "    </tr>\n",
       "  </tbody>\n",
       "</table>\n",
       "</div>"
      ],
      "text/plain": [
       "  latam_home_medal primary_genre  area_gross        budget  genre_Action  \\\n",
       "0           Bronze        Action  728,319.00 20,000,000.00             1   \n",
       "1           Bronze        Action  728,319.00 20,000,000.00             1   \n",
       "2           Bronze        Action  728,319.00 20,000,000.00             1   \n",
       "3           Bronze        Action  728,319.00 20,000,000.00             1   \n",
       "4           Bronze        Action  728,319.00 20,000,000.00             1   \n",
       "\n",
       "   genre_Comedy  genre_Drama  medal_number  days_from_theatrical     pred  \\\n",
       "0             0            0             3                     0 8,282.70   \n",
       "1             0            0             3                    15 8,238.79   \n",
       "2             0            0             3                    30 8,194.98   \n",
       "3             0            0             3                    45 8,141.46   \n",
       "4             0            0             3                    60 8,057.86   \n",
       "\n",
       "   title_id  imdb_id  title          kpi  \n",
       "0       nan      nan    nan  first_views  \n",
       "1       nan      nan    nan  first_views  \n",
       "2       nan      nan    nan  first_views  \n",
       "3       nan      nan    nan  first_views  \n",
       "4       nan      nan    nan  first_views  "
      ]
     },
     "execution_count": 127,
     "metadata": {},
     "output_type": "execute_result"
    }
   ],
   "source": [
    "scoring_data.head()"
   ]
  },
  {
   "cell_type": "code",
   "execution_count": 125,
   "id": "42f1197a",
   "metadata": {},
   "outputs": [],
   "source": [
    "scoring_data['title_id'] = np.NAN\n",
    "scoring_data['imdb_id'] = np.NAN\n",
    "scoring_data['title'] = np.NAN\n",
    "scoring_data['kpi'] = 'first_views'"
   ]
  },
  {
   "cell_type": "code",
   "execution_count": 126,
   "id": "5e0aa683",
   "metadata": {},
   "outputs": [],
   "source": [
    "scoring_data['pred'] = 2**scoring_data['pred'] - 10000"
   ]
  },
  {
   "cell_type": "code",
   "execution_count": 129,
   "id": "50f694c9",
   "metadata": {},
   "outputs": [],
   "source": [
    "scoring_data_45 = scoring_data[scoring_data['days_from_theatrical'] == 45][['latam_home_medal', 'primary_genre', 'pred']].rename(columns = {'pred':'base'}).copy()\n",
    "scoring_data = scoring_data.merge(scoring_data_45, on = ['latam_home_medal', 'primary_genre'])\n",
    "scoring_data['multiplier'] = scoring_data['pred']/scoring_data['base']"
   ]
  },
  {
   "cell_type": "code",
   "execution_count": 135,
   "id": "075bd344",
   "metadata": {},
   "outputs": [],
   "source": [
    "score_multi = scoring_data.groupby(['primary_genre', 'days_from_theatrical']).mean()[['multiplier']].reset_index()"
   ]
  },
  {
   "cell_type": "code",
   "execution_count": 136,
   "id": "94cae9cb",
   "metadata": {},
   "outputs": [
    {
     "data": {
      "image/png": "[encoded data removed]",
      "text/plain": [
       "<Figure size 864x576 with 1 Axes>"
      ]
     },
     "metadata": {
      "needs_background": "light"
     },
     "output_type": "display_data"
    }
   ],
   "source": [
    "fig, ax = plt.subplots(figsize=(12, 8))\n",
    "for i in score_multi['primary_genre'].unique():\n",
    "    plot_df = score_multi[score_multi['primary_genre'] == i]\n",
    "    plt.plot(plot_df['days_from_theatrical'], plot_df['multiplier'], label=i)\n",
    "\n",
    "\n",
    "ax.set_xlabel('days_from_theatrical')\n",
    "ax.set_ylabel('cumulative_first_views')\n",
    "ax.legend()\n",
    "\n",
    "plt.show()"
   ]
  },
  {
   "cell_type": "code",
   "execution_count": 143,
   "id": "cdbfcee9",
   "metadata": {},
   "outputs": [
    {
     "name": "stderr",
     "output_type": "stream",
     "text": [
      "/home/ec2-user/anaconda3/envs/python3/lib/python3.6/site-packages/boto3/compat.py:88: PythonDeprecationWarning:\n",
      "\n",
      "Boto3 will no longer support Python 3.6 starting May 30, 2022. To continue receiving service updates, bug fixes, and security updates please upgrade to Python 3.7 or later. More information can be found here: https://aws.amazon.com/blogs/developer/python-support-policy-updates-for-aws-sdks-and-tools/\n",
      "\n"
     ]
    }
   ],
   "source": [
    "write_to_sf(scoring_data[OUTPUT_COLS], 'genre_level_first_views')"
   ]
  },
  {
   "cell_type": "markdown",
   "id": "a8e199e9",
   "metadata": {},
   "source": [
    "# WRITE TO SF"
   ]
  },
  {
   "cell_type": "code",
   "execution_count": 5,
   "id": "853eecf1",
   "metadata": {},
   "outputs": [],
   "source": [
    "import boto3\n",
    "import io"
   ]
  },
  {
   "cell_type": "code",
   "execution_count": 6,
   "id": "59941ad8",
   "metadata": {},
   "outputs": [],
   "source": [
    "def to_s3(filename, output_bucket, content):\n",
    "    client = boto3.client('s3')\n",
    "    client.put_object(Bucket=output_bucket, Key=filename, Body=content)"
   ]
  },
  {
   "cell_type": "code",
   "execution_count": 7,
   "id": "789c73b5",
   "metadata": {},
   "outputs": [
    {
     "name": "stderr",
     "output_type": "stream",
     "text": [
      "/home/ec2-user/anaconda3/envs/python3/lib/python3.6/site-packages/boto3/compat.py:88: PythonDeprecationWarning: Boto3 will no longer support Python 3.6 starting May 30, 2022. To continue receiving service updates, bug fixes, and security updates please upgrade to Python 3.7 or later. More information can be found here: https://aws.amazon.com/blogs/developer/python-support-policy-updates-for-aws-sdks-and-tools/\n",
      "  warnings.warn(warning, PythonDeprecationWarning)\n"
     ]
    }
   ],
   "source": [
    "output_bucket = 'hbo-outbound-datascience-content-dev'\n",
    "s3 = boto3.resource('s3')\n",
    "bucket = s3.Bucket(output_bucket)"
   ]
  },
  {
   "cell_type": "code",
   "execution_count": 8,
   "id": "723e4a86",
   "metadata": {},
   "outputs": [],
   "source": [
    "def write_to_sf(df, file_name):\n",
    "    csv_buffer = io.StringIO()\n",
    "    df.to_csv(csv_buffer, index = False)\n",
    "    content = csv_buffer.getvalue()\n",
    "    filename = 'movie_windowing/movie_window_prediction_{}.csv'.format(file_name)\n",
    "    to_s3(filename, output_bucket, content)"
   ]
  },
  {
   "cell_type": "code",
   "execution_count": 9,
   "id": "247505de",
   "metadata": {},
   "outputs": [],
   "source": [
    "OUTPUT_COLS = ['title_id', 'imdb_id', 'title', 'home_territory_observed_medal', 'pillar_genres', 'area_gross', 'medal_number', 'budget', 'days_from_theatrical2', 'kpi', 'pred']"
   ]
  },
  {
   "cell_type": "code",
   "execution_count": 10,
   "id": "d04b09c2",
   "metadata": {},
   "outputs": [],
   "source": [
    "from abc import ABCMeta, abstractmethod\n",
    "\n",
    "class Credentials(metaclass=ABCMeta):\n",
    "    pass\n",
    "    \n",
    "    \n",
    "class SSMPSCredentials(Credentials):\n",
    "    def __init__(self, secretid: str):\n",
    "        self._secretid = secretid\n",
    "        self._secrets = {}\n",
    "        \n",
    "    def get_keys(self):\n",
    "        \"\"\"\n",
    "        credential fetching \n",
    "        \"\"\"\n",
    "        _aws_sm_args = {'service_name': 'secretsmanager', 'region_name': 'us-east-1'}\n",
    "        secrets_client = boto3.client(**_aws_sm_args)\n",
    "        get_secret_value_response = secrets_client.get_secret_value(SecretId=self._secretid)\n",
    "        return get_secret_value_response\n",
    "    \n",
    "    \n",
    "class BaseConnector(metaclass=ABCMeta):\n",
    "    @abstractmethod\n",
    "    def connect(self):\n",
    "        raise NotImplementedError\n",
    "    \n",
    "\n",
    "class SnowflakeConnector(BaseConnector):\n",
    "    def __init__(self, credentials: Credentials):\n",
    "        keys = credentials.get_keys()\n",
    "        self._secrets = json.loads(keys.get('SecretString', \"{}\"))\n",
    "\n",
    "    def connect(self, dbname: str, schema: str = 'DEFAULT'):\n",
    "        ctx = snowflake.connector.connect(\n",
    "            user=self._secrets['login_name'],\n",
    "            password=self._secrets['login_password'],\n",
    "            account=self._secrets['account'],\n",
    "            warehouse=self._secrets['warehouse'],\n",
    "            database=dbname,\n",
    "            schema=schema\n",
    "        )\n",
    "\n",
    "        return ctx\n",
    "    \n",
    "## Credentials\n",
    "SF_CREDS = 'datascience-max-dev-sagemaker-notebooks'\n",
    "\n",
    "## Snowflake connection \n",
    "conn=SnowflakeConnector(SSMPSCredentials(SF_CREDS))\n",
    "ctx=conn.connect(\"MAX_DEV\",\"WORKSPACE\")\n",
    "\n",
    "def run_query(query):\n",
    "    cursor = ctx.cursor()\n",
    "    cursor.execute(query)\n",
    "    df = pd.DataFrame(cursor.fetchall(), columns = [desc[0] for desc in cursor.description])\n",
    "    df.columns= df.columns.str.lower()\n",
    "    return df"
   ]
  },
  {
   "cell_type": "code",
   "execution_count": 154,
   "id": "463c2b80",
   "metadata": {},
   "outputs": [
    {
     "data": {
      "text/html": [
       "<div>\n",
       "<style scoped>\n",
       "    .dataframe tbody tr th:only-of-type {\n",
       "        vertical-align: middle;\n",
       "    }\n",
       "\n",
       "    .dataframe tbody tr th {\n",
       "        vertical-align: top;\n",
       "    }\n",
       "\n",
       "    .dataframe thead th {\n",
       "        text-align: right;\n",
       "    }\n",
       "</style>\n",
       "<table border=\"1\" class=\"dataframe\">\n",
       "  <thead>\n",
       "    <tr style=\"text-align: right;\">\n",
       "      <th></th>\n",
       "      <th>status</th>\n",
       "    </tr>\n",
       "  </thead>\n",
       "  <tbody>\n",
       "    <tr>\n",
       "      <th>0</th>\n",
       "      <td>Table MOVIE_WINDOW_PREDICTION_TITLE_LEVEL_SUBS...</td>\n",
       "    </tr>\n",
       "  </tbody>\n",
       "</table>\n",
       "</div>"
      ],
      "text/plain": [
       "                                              status\n",
       "0  Table MOVIE_WINDOW_PREDICTION_TITLE_LEVEL_SUBS..."
      ]
     },
     "execution_count": 154,
     "metadata": {},
     "output_type": "execute_result"
    }
   ],
   "source": [
    "run_query('''\n",
    "create or replace table max_dev.workspace.movie_window_prediction_title_level_subs\n",
    "(\n",
    "title_id\tVARCHAR,\n",
    "imdb_id\tVARCHAR,\n",
    "title\tVARCHAR,\n",
    "home_territory_observed_medal\tVARCHAR,\n",
    "pillar_genres\tVARCHAR,\n",
    "area_gross\tFLOAT,\n",
    "medal_number\tINT,\n",
    "budget\tFLOAT,\n",
    "days_from_theatrical2\tINT,\n",
    "kpi\tVARCHAR,\n",
    "pred FLOAT\n",
    ");\n",
    "\n",
    "''')\n"
   ]
  },
  {
   "cell_type": "code",
   "execution_count": 18,
   "id": "eff451d0",
   "metadata": {},
   "outputs": [
    {
     "data": {
      "text/html": [
       "<div>\n",
       "<style scoped>\n",
       "    .dataframe tbody tr th:only-of-type {\n",
       "        vertical-align: middle;\n",
       "    }\n",
       "\n",
       "    .dataframe tbody tr th {\n",
       "        vertical-align: top;\n",
       "    }\n",
       "\n",
       "    .dataframe thead th {\n",
       "        text-align: right;\n",
       "    }\n",
       "</style>\n",
       "<table border=\"1\" class=\"dataframe\">\n",
       "  <thead>\n",
       "    <tr style=\"text-align: right;\">\n",
       "      <th></th>\n",
       "      <th>status</th>\n",
       "    </tr>\n",
       "  </thead>\n",
       "  <tbody>\n",
       "    <tr>\n",
       "      <th>0</th>\n",
       "      <td>Table MOVIE_WINDOW_PREDICTION_ACTUAL_VALUE suc...</td>\n",
       "    </tr>\n",
       "  </tbody>\n",
       "</table>\n",
       "</div>"
      ],
      "text/plain": [
       "                                              status\n",
       "0  Table MOVIE_WINDOW_PREDICTION_ACTUAL_VALUE suc..."
      ]
     },
     "execution_count": 18,
     "metadata": {},
     "output_type": "execute_result"
    }
   ],
   "source": [
    "# run_query('''\n",
    "# create or replace table max_dev.workspace.movie_window_prediction_actual_value\n",
    "# (\n",
    "# title_id\tVARCHAR,\n",
    "# days_from_theatrical2 int,\n",
    "# value FLOAT,\n",
    "# kpi\tVARCHAR\n",
    "# );\n",
    "\n",
    "# ''')"
   ]
  },
  {
   "cell_type": "code",
   "execution_count": null,
   "id": "96bd0f02",
   "metadata": {},
   "outputs": [],
   "source": [
    "#first_views #genre_level_first_views"
   ]
  },
  {
   "cell_type": "code",
   "execution_count": 155,
   "id": "e5ab6a4a",
   "metadata": {},
   "outputs": [
    {
     "data": {
      "text/html": [
       "<div>\n",
       "<style scoped>\n",
       "    .dataframe tbody tr th:only-of-type {\n",
       "        vertical-align: middle;\n",
       "    }\n",
       "\n",
       "    .dataframe tbody tr th {\n",
       "        vertical-align: top;\n",
       "    }\n",
       "\n",
       "    .dataframe thead th {\n",
       "        text-align: right;\n",
       "    }\n",
       "</style>\n",
       "<table border=\"1\" class=\"dataframe\">\n",
       "  <thead>\n",
       "    <tr style=\"text-align: right;\">\n",
       "      <th></th>\n",
       "      <th>file</th>\n",
       "      <th>status</th>\n",
       "      <th>rows_parsed</th>\n",
       "      <th>rows_loaded</th>\n",
       "      <th>error_limit</th>\n",
       "      <th>errors_seen</th>\n",
       "      <th>first_error</th>\n",
       "      <th>first_error_line</th>\n",
       "      <th>first_error_character</th>\n",
       "      <th>first_error_column_name</th>\n",
       "    </tr>\n",
       "  </thead>\n",
       "  <tbody>\n",
       "    <tr>\n",
       "      <th>0</th>\n",
       "      <td>s3://hbo-outbound-datascience-content-dev/movi...</td>\n",
       "      <td>LOADED</td>\n",
       "      <td>1022</td>\n",
       "      <td>1022</td>\n",
       "      <td>1022</td>\n",
       "      <td>0</td>\n",
       "      <td>None</td>\n",
       "      <td>None</td>\n",
       "      <td>None</td>\n",
       "      <td>None</td>\n",
       "    </tr>\n",
       "  </tbody>\n",
       "</table>\n",
       "</div>"
      ],
      "text/plain": [
       "                                                file  status  rows_parsed  \\\n",
       "0  s3://hbo-outbound-datascience-content-dev/movi...  LOADED         1022   \n",
       "\n",
       "   rows_loaded  error_limit  errors_seen first_error first_error_line  \\\n",
       "0         1022         1022            0        None             None   \n",
       "\n",
       "  first_error_character first_error_column_name  \n",
       "0                  None                    None  "
      ]
     },
     "execution_count": 155,
     "metadata": {},
     "output_type": "execute_result"
    }
   ],
   "source": [
    "run_query('''\n",
    "copy into max_dev.workspace.movie_window_prediction_title_level_subs\n",
    "    from(\n",
    "        select\n",
    "              $1, $2, $3, $4, $5, $6, $7, $8, $9, $10, $11\n",
    "        from @HBO_OUTBOUND_DATASCIENCE_CONTENT_DEV/movie_windowing/movie_window_prediction_title_level_subs.csv\n",
    "        )\n",
    "    file_format = (type = csv null_if=('') skip_header = 1  FIELD_OPTIONALLY_ENCLOSED_BY='\"')\n",
    "    on_error = 'CONTINUE';\n",
    "\n",
    "''')"
   ]
  },
  {
   "cell_type": "code",
   "execution_count": 19,
   "id": "0ff23973",
   "metadata": {},
   "outputs": [
    {
     "data": {
      "text/html": [
       "<div>\n",
       "<style scoped>\n",
       "    .dataframe tbody tr th:only-of-type {\n",
       "        vertical-align: middle;\n",
       "    }\n",
       "\n",
       "    .dataframe tbody tr th {\n",
       "        vertical-align: top;\n",
       "    }\n",
       "\n",
       "    .dataframe thead th {\n",
       "        text-align: right;\n",
       "    }\n",
       "</style>\n",
       "<table border=\"1\" class=\"dataframe\">\n",
       "  <thead>\n",
       "    <tr style=\"text-align: right;\">\n",
       "      <th></th>\n",
       "      <th>file</th>\n",
       "      <th>status</th>\n",
       "      <th>rows_parsed</th>\n",
       "      <th>rows_loaded</th>\n",
       "      <th>error_limit</th>\n",
       "      <th>errors_seen</th>\n",
       "      <th>first_error</th>\n",
       "      <th>first_error_line</th>\n",
       "      <th>first_error_character</th>\n",
       "      <th>first_error_column_name</th>\n",
       "    </tr>\n",
       "  </thead>\n",
       "  <tbody>\n",
       "    <tr>\n",
       "      <th>0</th>\n",
       "      <td>s3://hbo-outbound-datascience-content-dev/movi...</td>\n",
       "      <td>LOADED</td>\n",
       "      <td>206</td>\n",
       "      <td>206</td>\n",
       "      <td>206</td>\n",
       "      <td>0</td>\n",
       "      <td>None</td>\n",
       "      <td>None</td>\n",
       "      <td>None</td>\n",
       "      <td>None</td>\n",
       "    </tr>\n",
       "  </tbody>\n",
       "</table>\n",
       "</div>"
      ],
      "text/plain": [
       "                                                file  status  rows_parsed  \\\n",
       "0  s3://hbo-outbound-datascience-content-dev/movi...  LOADED          206   \n",
       "\n",
       "   rows_loaded  error_limit  errors_seen first_error first_error_line  \\\n",
       "0          206          206            0        None             None   \n",
       "\n",
       "  first_error_character first_error_column_name  \n",
       "0                  None                    None  "
      ]
     },
     "execution_count": 19,
     "metadata": {},
     "output_type": "execute_result"
    }
   ],
   "source": [
    "# run_query('''\n",
    "# copy into max_dev.workspace.movie_window_prediction_actual_value\n",
    "#     from(\n",
    "#         select\n",
    "#               $1, $2, $3, $4\n",
    "#         from @HBO_OUTBOUND_DATASCIENCE_CONTENT_DEV/movie_windowing/movie_window_prediction_actual_value.csv\n",
    "#         )\n",
    "#     file_format = (type = csv null_if=('') skip_header = 1  FIELD_OPTIONALLY_ENCLOSED_BY='\"')\n",
    "#     on_error = 'CONTINUE';\n",
    "\n",
    "# ''')"
   ]
  },
  {
   "cell_type": "code",
   "execution_count": 189,
   "id": "1e17413f",
   "metadata": {},
   "outputs": [
    {
     "data": {
      "text/html": [
       "<div>\n",
       "<style scoped>\n",
       "    .dataframe tbody tr th:only-of-type {\n",
       "        vertical-align: middle;\n",
       "    }\n",
       "\n",
       "    .dataframe tbody tr th {\n",
       "        vertical-align: top;\n",
       "    }\n",
       "\n",
       "    .dataframe thead th {\n",
       "        text-align: right;\n",
       "    }\n",
       "</style>\n",
       "<table border=\"1\" class=\"dataframe\">\n",
       "  <thead>\n",
       "    <tr style=\"text-align: right;\">\n",
       "      <th></th>\n",
       "      <th>Unnamed: 0</th>\n",
       "      <th>title_id</th>\n",
       "      <th>title</th>\n",
       "      <th>home_territory_observed_medal</th>\n",
       "      <th>pillar_genres</th>\n",
       "      <th>imdb_id</th>\n",
       "      <th>theatrical_release_date</th>\n",
       "      <th>offering_start_date</th>\n",
       "      <th>days_from_theatrical2</th>\n",
       "      <th>pct_actives</th>\n",
       "      <th>days_from_max_launch</th>\n",
       "      <th>cumulative_viewing_subs</th>\n",
       "      <th>cumulative_first_views</th>\n",
       "      <th>area_gross</th>\n",
       "      <th>budget</th>\n",
       "      <th>genre_Action/Adventure</th>\n",
       "      <th>genre_Comedy</th>\n",
       "      <th>genre_Drama</th>\n",
       "      <th>genre_Horror</th>\n",
       "      <th>genre_Kids/Family</th>\n",
       "      <th>genre_Romance</th>\n",
       "      <th>genre_Sci-Fi</th>\n",
       "      <th>genre_Suspense/Thriller</th>\n",
       "      <th>medal_number</th>\n",
       "      <th>platform</th>\n",
       "      <th>medal_Bronze</th>\n",
       "      <th>medal_Gold</th>\n",
       "      <th>medal_Platinum</th>\n",
       "      <th>medal_Silver</th>\n",
       "      <th>log_cumulative_first_views</th>\n",
       "    </tr>\n",
       "  </thead>\n",
       "  <tbody>\n",
       "    <tr>\n",
       "      <th>0</th>\n",
       "      <td>0</td>\n",
       "      <td>GYPXEhQg3DFbCwwEAAADm</td>\n",
       "      <td>News of the World</td>\n",
       "      <td>Silver</td>\n",
       "      <td>Action/Adventure</td>\n",
       "      <td>tt6878306</td>\n",
       "      <td>2020-12-25</td>\n",
       "      <td>2021-09-05</td>\n",
       "      <td>250</td>\n",
       "      <td>0.09</td>\n",
       "      <td>-219</td>\n",
       "      <td>2557041</td>\n",
       "      <td>25362</td>\n",
       "      <td>2,250,430.00</td>\n",
       "      <td>38,000,000.00</td>\n",
       "      <td>1</td>\n",
       "      <td>0</td>\n",
       "      <td>0</td>\n",
       "      <td>0</td>\n",
       "      <td>0</td>\n",
       "      <td>0</td>\n",
       "      <td>0</td>\n",
       "      <td>0</td>\n",
       "      <td>2</td>\n",
       "      <td>1.00</td>\n",
       "      <td>0</td>\n",
       "      <td>0</td>\n",
       "      <td>0</td>\n",
       "      <td>1</td>\n",
       "      <td>14.63</td>\n",
       "    </tr>\n",
       "    <tr>\n",
       "      <th>3</th>\n",
       "      <td>3</td>\n",
       "      <td>GYbzvWABDj8LDwgEAAAAp</td>\n",
       "      <td>The Last Duel</td>\n",
       "      <td>Gold</td>\n",
       "      <td>Drama</td>\n",
       "      <td>tt4244994</td>\n",
       "      <td>2021-10-15</td>\n",
       "      <td>2022-01-14</td>\n",
       "      <td>91</td>\n",
       "      <td>0.16</td>\n",
       "      <td>-513</td>\n",
       "      <td>5012315</td>\n",
       "      <td>33314</td>\n",
       "      <td>4,759,151.00</td>\n",
       "      <td>100,000,000.00</td>\n",
       "      <td>0</td>\n",
       "      <td>0</td>\n",
       "      <td>1</td>\n",
       "      <td>0</td>\n",
       "      <td>0</td>\n",
       "      <td>0</td>\n",
       "      <td>0</td>\n",
       "      <td>0</td>\n",
       "      <td>1</td>\n",
       "      <td>1.00</td>\n",
       "      <td>0</td>\n",
       "      <td>1</td>\n",
       "      <td>0</td>\n",
       "      <td>0</td>\n",
       "      <td>15.02</td>\n",
       "    </tr>\n",
       "    <tr>\n",
       "      <th>4</th>\n",
       "      <td>4</td>\n",
       "      <td>GYm0w5wSRXaTDYQEAAAD4</td>\n",
       "      <td>Last Night in Soho</td>\n",
       "      <td>Silver</td>\n",
       "      <td>Suspense/Thriller</td>\n",
       "      <td>tt9639470</td>\n",
       "      <td>2021-10-29</td>\n",
       "      <td>2022-07-01</td>\n",
       "      <td>245</td>\n",
       "      <td>0.07</td>\n",
       "      <td>-527</td>\n",
       "      <td>2005376</td>\n",
       "      <td>8975</td>\n",
       "      <td>4,178,460.00</td>\n",
       "      <td>43,000,000.00</td>\n",
       "      <td>0</td>\n",
       "      <td>0</td>\n",
       "      <td>0</td>\n",
       "      <td>0</td>\n",
       "      <td>0</td>\n",
       "      <td>0</td>\n",
       "      <td>0</td>\n",
       "      <td>1</td>\n",
       "      <td>2</td>\n",
       "      <td>1.00</td>\n",
       "      <td>0</td>\n",
       "      <td>0</td>\n",
       "      <td>0</td>\n",
       "      <td>1</td>\n",
       "      <td>13.13</td>\n",
       "    </tr>\n",
       "    <tr>\n",
       "      <th>6</th>\n",
       "      <td>6</td>\n",
       "      <td>GYd9P0QTRLMLDJwEAAAAP</td>\n",
       "      <td>Antlers</td>\n",
       "      <td>Silver</td>\n",
       "      <td>Horror</td>\n",
       "      <td>tt7740510</td>\n",
       "      <td>2021-10-11</td>\n",
       "      <td>2022-02-11</td>\n",
       "      <td>123</td>\n",
       "      <td>0.09</td>\n",
       "      <td>-509</td>\n",
       "      <td>2614867</td>\n",
       "      <td>14444</td>\n",
       "      <td>4,271,346.00</td>\n",
       "      <td>0.00</td>\n",
       "      <td>0</td>\n",
       "      <td>0</td>\n",
       "      <td>0</td>\n",
       "      <td>1</td>\n",
       "      <td>0</td>\n",
       "      <td>0</td>\n",
       "      <td>0</td>\n",
       "      <td>0</td>\n",
       "      <td>2</td>\n",
       "      <td>1.00</td>\n",
       "      <td>0</td>\n",
       "      <td>0</td>\n",
       "      <td>0</td>\n",
       "      <td>1</td>\n",
       "      <td>13.82</td>\n",
       "    </tr>\n",
       "    <tr>\n",
       "      <th>7</th>\n",
       "      <td>7</td>\n",
       "      <td>GYfinBwyKBImYsgEAAACn</td>\n",
       "      <td>Halloween Kills</td>\n",
       "      <td>Silver</td>\n",
       "      <td>Horror</td>\n",
       "      <td>tt10665338</td>\n",
       "      <td>2021-10-15</td>\n",
       "      <td>2022-03-18</td>\n",
       "      <td>137</td>\n",
       "      <td>0.10</td>\n",
       "      <td>-513</td>\n",
       "      <td>2838005</td>\n",
       "      <td>28030</td>\n",
       "      <td>49,404,980.00</td>\n",
       "      <td>20,000,000.00</td>\n",
       "      <td>0</td>\n",
       "      <td>0</td>\n",
       "      <td>0</td>\n",
       "      <td>1</td>\n",
       "      <td>0</td>\n",
       "      <td>0</td>\n",
       "      <td>0</td>\n",
       "      <td>0</td>\n",
       "      <td>2</td>\n",
       "      <td>1.00</td>\n",
       "      <td>0</td>\n",
       "      <td>0</td>\n",
       "      <td>0</td>\n",
       "      <td>1</td>\n",
       "      <td>14.77</td>\n",
       "    </tr>\n",
       "  </tbody>\n",
       "</table>\n",
       "</div>"
      ],
      "text/plain": [
       "   Unnamed: 0               title_id               title  \\\n",
       "0           0  GYPXEhQg3DFbCwwEAAADm   News of the World   \n",
       "3           3  GYbzvWABDj8LDwgEAAAAp       The Last Duel   \n",
       "4           4  GYm0w5wSRXaTDYQEAAAD4  Last Night in Soho   \n",
       "6           6  GYd9P0QTRLMLDJwEAAAAP             Antlers   \n",
       "7           7  GYfinBwyKBImYsgEAAACn     Halloween Kills   \n",
       "\n",
       "  home_territory_observed_medal      pillar_genres     imdb_id  \\\n",
       "0                        Silver  Action/Adventure    tt6878306   \n",
       "3                          Gold              Drama   tt4244994   \n",
       "4                        Silver  Suspense/Thriller   tt9639470   \n",
       "6                        Silver            Horror    tt7740510   \n",
       "7                        Silver            Horror   tt10665338   \n",
       "\n",
       "  theatrical_release_date offering_start_date  days_from_theatrical2  \\\n",
       "0              2020-12-25          2021-09-05                    250   \n",
       "3              2021-10-15          2022-01-14                     91   \n",
       "4              2021-10-29          2022-07-01                    245   \n",
       "6              2021-10-11          2022-02-11                    123   \n",
       "7              2021-10-15          2022-03-18                    137   \n",
       "\n",
       "   pct_actives  days_from_max_launch  cumulative_viewing_subs  \\\n",
       "0         0.09                  -219                  2557041   \n",
       "3         0.16                  -513                  5012315   \n",
       "4         0.07                  -527                  2005376   \n",
       "6         0.09                  -509                  2614867   \n",
       "7         0.10                  -513                  2838005   \n",
       "\n",
       "   cumulative_first_views    area_gross         budget  \\\n",
       "0                   25362  2,250,430.00  38,000,000.00   \n",
       "3                   33314  4,759,151.00 100,000,000.00   \n",
       "4                    8975  4,178,460.00  43,000,000.00   \n",
       "6                   14444  4,271,346.00           0.00   \n",
       "7                   28030 49,404,980.00  20,000,000.00   \n",
       "\n",
       "   genre_Action/Adventure   genre_Comedy  genre_Drama  genre_Horror   \\\n",
       "0                        1             0            0              0   \n",
       "3                        0             0            1              0   \n",
       "4                        0             0            0              0   \n",
       "6                        0             0            0              1   \n",
       "7                        0             0            0              1   \n",
       "\n",
       "   genre_Kids/Family  genre_Romance  genre_Sci-Fi  genre_Suspense/Thriller  \\\n",
       "0                  0              0             0                        0   \n",
       "3                  0              0             0                        0   \n",
       "4                  0              0             0                        1   \n",
       "6                  0              0             0                        0   \n",
       "7                  0              0             0                        0   \n",
       "\n",
       "   medal_number  platform  medal_Bronze  medal_Gold  medal_Platinum  \\\n",
       "0             2      1.00             0           0               0   \n",
       "3             1      1.00             0           1               0   \n",
       "4             2      1.00             0           0               0   \n",
       "6             2      1.00             0           0               0   \n",
       "7             2      1.00             0           0               0   \n",
       "\n",
       "   medal_Silver  log_cumulative_first_views  \n",
       "0             1                       14.63  \n",
       "3             0                       15.02  \n",
       "4             1                       13.13  \n",
       "6             1                       13.82  \n",
       "7             1                       14.77  "
      ]
     },
     "execution_count": 189,
     "metadata": {},
     "output_type": "execute_result"
    }
   ],
   "source": [
    "training_data.head()"
   ]
  },
  {
   "cell_type": "code",
   "execution_count": 15,
   "id": "0c36e7cf",
   "metadata": {},
   "outputs": [],
   "source": [
    "df1 = training_data[['title_id', 'days_from_theatrical2', 'cumulative_viewing_subs']].rename(columns = {'cumulative_viewing_subs':'value'})\n",
    "df1['kpi'] = 'viewing_subs'\n",
    "df2 = training_data[['title_id', 'days_from_theatrical2', 'cumulative_first_views']].rename(columns = {'cumulative_first_views':'value'})\n",
    "df2['kpi'] = 'first_views'\n",
    "actual_data = pd.concat([df1, df2], axis = 0)"
   ]
  },
  {
   "cell_type": "code",
   "execution_count": 16,
   "id": "1fc96650",
   "metadata": {},
   "outputs": [
    {
     "name": "stderr",
     "output_type": "stream",
     "text": [
      "/home/ec2-user/anaconda3/envs/python3/lib/python3.6/site-packages/boto3/compat.py:88: PythonDeprecationWarning: Boto3 will no longer support Python 3.6 starting May 30, 2022. To continue receiving service updates, bug fixes, and security updates please upgrade to Python 3.7 or later. More information can be found here: https://aws.amazon.com/blogs/developer/python-support-policy-updates-for-aws-sdks-and-tools/\n",
      "  warnings.warn(warning, PythonDeprecationWarning)\n"
     ]
    }
   ],
   "source": [
    "write_to_sf(actual_data, 'actual_value')"
   ]
  },
  {
   "cell_type": "code",
   "execution_count": 1,
   "id": "ce283226",
   "metadata": {},
   "outputs": [
    {
     "ename": "NameError",
     "evalue": "name 'actual_data' is not defined",
     "output_type": "error",
     "traceback": [
      "\u001b[0;31m---------------------------------------------------------------------------\u001b[0m",
      "\u001b[0;31mNameError\u001b[0m                                 Traceback (most recent call last)",
      "\u001b[0;32m<ipython-input-1-36e23ef02cd4>\u001b[0m in \u001b[0;36m<module>\u001b[0;34m\u001b[0m\n\u001b[0;32m----> 1\u001b[0;31m \u001b[0mactual_data\u001b[0m\u001b[0;34m.\u001b[0m\u001b[0mtail\u001b[0m\u001b[0;34m(\u001b[0m\u001b[0;34m)\u001b[0m\u001b[0;34m\u001b[0m\u001b[0;34m\u001b[0m\u001b[0m\n\u001b[0m",
      "\u001b[0;31mNameError\u001b[0m: name 'actual_data' is not defined"
     ]
    }
   ],
   "source": [
    "actual_data.tail()"
   ]
  },
  {
   "cell_type": "code",
   "execution_count": null,
   "id": "086564a4",
   "metadata": {},
   "outputs": [],
   "source": []
  }
 ],
 "metadata": {
  "kernelspec": {
   "display_name": "conda_python3",
   "language": "python",
   "name": "conda_python3"
  },
  "language_info": {
   "codemirror_mode": {
    "name": "ipython",
    "version": 3
   },
   "file_extension": ".py",
   "mimetype": "text/x-python",
   "name": "python",
   "nbconvert_exporter": "python",
   "pygments_lexer": "ipython3",
   "version": "3.6.13"
  }
 },
 "nbformat": 4,
 "nbformat_minor": 5
}
