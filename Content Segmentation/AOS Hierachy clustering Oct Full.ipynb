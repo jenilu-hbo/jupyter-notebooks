{
 "cells": [
  {
   "cell_type": "markdown",
   "metadata": {},
   "source": [
    "# 0 : Environment_Setup\n",
    "\n",
    "### 0.1 : Load_packages"
   ]
  },
  {
   "cell_type": "code",
   "execution_count": 1,
   "metadata": {},
   "outputs": [],
   "source": [
    "# !pip install urllib2 --user\n",
    "# !pip install IMDbPY BeautifulSoup4  --user\n",
    "# !pip install snowflake-connector-python"
   ]
  },
  {
   "cell_type": "code",
   "execution_count": 2,
   "metadata": {},
   "outputs": [],
   "source": [
    "# general\n",
    "import boto3\n",
    "import datetime as dt\n",
    "import json\n",
    "import numpy as np\n",
    "import pandas as pd\n",
    "import snowflake.connector\n",
    "\n",
    "from scipy.spatial.distance import squareform\n",
    "#from scipy.cluster.hierarchy import ward\n",
    "from scipy.cluster.hierarchy import  linkage\n",
    "from scipy.cluster.hierarchy import fcluster"
   ]
  },
  {
   "cell_type": "code",
   "execution_count": 3,
   "metadata": {},
   "outputs": [],
   "source": [
    "pd.set_option('display.max_rows', 1000)"
   ]
  },
  {
   "cell_type": "markdown",
   "metadata": {},
   "source": [
    "### 0.2 : Connection to Snowflake"
   ]
  },
  {
   "cell_type": "code",
   "execution_count": 4,
   "metadata": {},
   "outputs": [
    {
     "name": "stderr",
     "output_type": "stream",
     "text": [
      "/home/ec2-user/anaconda3/envs/python3/lib/python3.6/site-packages/boto3/compat.py:88: PythonDeprecationWarning: Boto3 will no longer support Python 3.6 starting May 30, 2022. To continue receiving service updates, bug fixes, and security updates please upgrade to Python 3.7 or later. More information can be found here: https://aws.amazon.com/blogs/developer/python-support-policy-updates-for-aws-sdks-and-tools/\n",
      "  warnings.warn(warning, PythonDeprecationWarning)\n"
     ]
    }
   ],
   "source": [
    "from abc import ABCMeta, abstractmethod\n",
    "\n",
    "class Credentials(metaclass=ABCMeta):\n",
    "    pass\n",
    "    \n",
    "    \n",
    "class SSMPSCredentials(Credentials):\n",
    "    def __init__(self, secretid: str):\n",
    "        self._secretid = secretid\n",
    "        self._secrets = {}\n",
    "        \n",
    "    def get_keys(self):\n",
    "        \"\"\"\n",
    "        credential fetching \n",
    "        \"\"\"\n",
    "        _aws_sm_args = {'service_name': 'secretsmanager', 'region_name': 'us-east-1'}\n",
    "        secrets_client = boto3.client(**_aws_sm_args)\n",
    "        get_secret_value_response = secrets_client.get_secret_value(SecretId=self._secretid)\n",
    "        return get_secret_value_response\n",
    "    \n",
    "    \n",
    "class BaseConnector(metaclass=ABCMeta):\n",
    "    @abstractmethod\n",
    "    def connect(self):\n",
    "        raise NotImplementedError\n",
    "    \n",
    "\n",
    "class SnowflakeConnector(BaseConnector):\n",
    "    def __init__(self, credentials: Credentials):\n",
    "        keys = credentials.get_keys()\n",
    "        self._secrets = json.loads(keys.get('SecretString', \"{}\"))\n",
    "\n",
    "    def connect(self, dbname: str, schema: str = 'DEFAULT'):\n",
    "        ctx = snowflake.connector.connect(\n",
    "            user=self._secrets['login_name'],\n",
    "            password=self._secrets['login_password'],\n",
    "            account=self._secrets['account'],\n",
    "            warehouse=self._secrets['warehouse'],\n",
    "            database=dbname,\n",
    "            schema=schema\n",
    "        )\n",
    "\n",
    "        return ctx\n",
    "    \n",
    "## Credentials\n",
    "SF_CREDS = 'datascience-max-dev-sagemaker-notebooks'\n",
    "\n",
    "## Snowflake connection \n",
    "conn=SnowflakeConnector(SSMPSCredentials(SF_CREDS))\n",
    "ctx=conn.connect(\"MAX_DEV\",\"WORKSPACE\")\n",
    "\n",
    "def run_query(query):\n",
    "    cursor = ctx.cursor()\n",
    "    cursor.execute(query)\n",
    "    df = pd.DataFrame(cursor.fetchall(), columns = [desc[0] for desc in cursor.description])\n",
    "    df.columns= df.columns.str.lower()\n",
    "    return df"
   ]
  },
  {
   "cell_type": "markdown",
   "metadata": {},
   "source": [
    "# 1 : Data Load"
   ]
  },
  {
   "cell_type": "code",
   "execution_count": 5,
   "metadata": {},
   "outputs": [],
   "source": [
    "import itertools as it\n",
    "import os\n",
    "import io\n",
    "import logging\n",
    "\n",
    "import boto3\n",
    "import sys"
   ]
  },
  {
   "cell_type": "code",
   "execution_count": 6,
   "metadata": {},
   "outputs": [
    {
     "name": "stderr",
     "output_type": "stream",
     "text": [
      "/home/ec2-user/anaconda3/envs/python3/lib/python3.6/site-packages/boto3/compat.py:88: PythonDeprecationWarning: Boto3 will no longer support Python 3.6 starting May 30, 2022. To continue receiving service updates, bug fixes, and security updates please upgrade to Python 3.7 or later. More information can be found here: https://aws.amazon.com/blogs/developer/python-support-policy-updates-for-aws-sdks-and-tools/\n",
      "  warnings.warn(warning, PythonDeprecationWarning)\n"
     ]
    }
   ],
   "source": [
    "logger = logging.getLogger()\n",
    "logger.info(f'Loading inputs')\n",
    "data_list ={}\n",
    "\n",
    "s3 = boto3.resource('s3')\n",
    "bucket = s3.Bucket('hbo-ingest-datascience-content-dev')"
   ]
  },
  {
   "cell_type": "code",
   "execution_count": 7,
   "metadata": {},
   "outputs": [
    {
     "name": "stdout",
     "output_type": "stream",
     "text": [
      "Reading AOS_all_US_prod_22_10_30 features\n"
     ]
    }
   ],
   "source": [
    "for obj in bucket.objects.filter(Prefix='content_segmentation/AOS_all_US_prod_22_10_30.csv'):\n",
    "    key = obj.key\n",
    "    logger.info('Loading csv file {}'.format(key))\n",
    "    body = obj.get()['Body']\n",
    "    var_name = key.split('.')[0].split('/')[1]\n",
    "    print('Reading {0} features'.format(var_name))\n",
    "    df = pd.read_csv(body, na_values = [np.NaN])\n",
    "    df.columns = df.columns.str.lower()"
   ]
  },
  {
   "cell_type": "code",
   "execution_count": 8,
   "metadata": {},
   "outputs": [],
   "source": [
    "aos_master = df[(df['consolidated_id_1'].notnull()) & (df['consolidated_id_2'].notnull())].copy()"
   ]
  },
  {
   "cell_type": "code",
   "execution_count": 9,
   "metadata": {},
   "outputs": [],
   "source": [
    "power_df=run_query('''\n",
    "select distinct TITLE_ID, MAX(CUMULATIVE_VIEWING_SUBS) AS  ACQUIRING_POWER\n",
    "from max_prod.content_analytics.new_title_release_days_on_platform a\n",
    "where 1=1\n",
    "and title_level = 'Series and Movies'\n",
    "GROUP BY 1\n",
    "''')"
   ]
  },
  {
   "cell_type": "code",
   "execution_count": 10,
   "metadata": {},
   "outputs": [
    {
     "data": {
      "text/plain": [
       "array(['series', 'movies', 'trailer', 'special'], dtype=object)"
      ]
     },
     "execution_count": 10,
     "metadata": {},
     "output_type": "execute_result"
    }
   ],
   "source": [
    "aos_master.level_1_catg_name_1.unique()"
   ]
  },
  {
   "cell_type": "code",
   "execution_count": 11,
   "metadata": {},
   "outputs": [],
   "source": [
    "input_index = aos_master[aos_master['level_1_catg_name_1'].isin(['series', 'movies', 'special'])]\\\n",
    "            [['consolidated_id_1']].drop_duplicates().reset_index(drop = True).reset_index()"
   ]
  },
  {
   "cell_type": "code",
   "execution_count": 12,
   "metadata": {},
   "outputs": [],
   "source": [
    "input_index = input_index[input_index['index']<= 1000]"
   ]
  },
  {
   "cell_type": "code",
   "execution_count": 13,
   "metadata": {},
   "outputs": [
    {
     "data": {
      "text/html": [
       "<div>\n",
       "<style scoped>\n",
       "    .dataframe tbody tr th:only-of-type {\n",
       "        vertical-align: middle;\n",
       "    }\n",
       "\n",
       "    .dataframe tbody tr th {\n",
       "        vertical-align: top;\n",
       "    }\n",
       "\n",
       "    .dataframe thead th {\n",
       "        text-align: right;\n",
       "    }\n",
       "</style>\n",
       "<table border=\"1\" class=\"dataframe\">\n",
       "  <thead>\n",
       "    <tr style=\"text-align: right;\">\n",
       "      <th></th>\n",
       "      <th>index</th>\n",
       "      <th>consolidated_id_1</th>\n",
       "    </tr>\n",
       "  </thead>\n",
       "  <tbody>\n",
       "    <tr>\n",
       "      <th>0</th>\n",
       "      <td>0</td>\n",
       "      <td>GYsYeoAxKH8LCwgEAAAOR</td>\n",
       "    </tr>\n",
       "    <tr>\n",
       "      <th>1</th>\n",
       "      <td>1</td>\n",
       "      <td>GXKN_xQX5csPDwwEAAABj</td>\n",
       "    </tr>\n",
       "    <tr>\n",
       "      <th>2</th>\n",
       "      <td>2</td>\n",
       "      <td>GXr7SEgRi2sLCAAEAAAQu</td>\n",
       "    </tr>\n",
       "    <tr>\n",
       "      <th>3</th>\n",
       "      <td>3</td>\n",
       "      <td>GXdbR_gOXWJuAuwEAACVH</td>\n",
       "    </tr>\n",
       "    <tr>\n",
       "      <th>4</th>\n",
       "      <td>4</td>\n",
       "      <td>GVU2cggagzYNJjhsJATwo</td>\n",
       "    </tr>\n",
       "  </tbody>\n",
       "</table>\n",
       "</div>"
      ],
      "text/plain": [
       "   index      consolidated_id_1\n",
       "0      0  GYsYeoAxKH8LCwgEAAAOR\n",
       "1      1  GXKN_xQX5csPDwwEAAABj\n",
       "2      2  GXr7SEgRi2sLCAAEAAAQu\n",
       "3      3  GXdbR_gOXWJuAuwEAACVH\n",
       "4      4  GVU2cggagzYNJjhsJATwo"
      ]
     },
     "execution_count": 13,
     "metadata": {},
     "output_type": "execute_result"
    }
   ],
   "source": [
    "input_index.head()"
   ]
  },
  {
   "cell_type": "code",
   "execution_count": 14,
   "metadata": {},
   "outputs": [],
   "source": [
    "input_master = aos_master.copy()"
   ]
  },
  {
   "cell_type": "code",
   "execution_count": 15,
   "metadata": {},
   "outputs": [],
   "source": [
    "input_master.rename({'aos':'score',},axis=1, inplace = True)"
   ]
  },
  {
   "cell_type": "code",
   "execution_count": 16,
   "metadata": {},
   "outputs": [],
   "source": [
    "input_master = input_master.merge(input_index.rename(columns={'index': 'index_1'}), on = 'consolidated_id_1', how = 'inner')"
   ]
  },
  {
   "cell_type": "code",
   "execution_count": 17,
   "metadata": {},
   "outputs": [],
   "source": [
    "input_master = input_master.merge(input_index.rename(columns={'index': 'index_2', 'consolidated_id_1':'consolidated_id_2'}), on = 'consolidated_id_2', how = 'inner')"
   ]
  },
  {
   "cell_type": "code",
   "execution_count": 18,
   "metadata": {},
   "outputs": [
    {
     "data": {
      "text/plain": [
       "(1002001, 11)"
      ]
     },
     "execution_count": 18,
     "metadata": {},
     "output_type": "execute_result"
    }
   ],
   "source": [
    "input_master.shape"
   ]
  },
  {
   "cell_type": "code",
   "execution_count": 19,
   "metadata": {},
   "outputs": [],
   "source": [
    "input_index=input_index.rename({'consolidated_id_1':'consolidated_id',},axis=1)"
   ]
  },
  {
   "cell_type": "code",
   "execution_count": 20,
   "metadata": {},
   "outputs": [
    {
     "data": {
      "text/plain": [
       "(1001, 2)"
      ]
     },
     "execution_count": 20,
     "metadata": {},
     "output_type": "execute_result"
    }
   ],
   "source": [
    "input_index.shape"
   ]
  },
  {
   "cell_type": "code",
   "execution_count": 21,
   "metadata": {},
   "outputs": [
    {
     "data": {
      "text/plain": [
       "(6978, 2)"
      ]
     },
     "execution_count": 21,
     "metadata": {},
     "output_type": "execute_result"
    }
   ],
   "source": [
    "power_df.shape"
   ]
  },
  {
   "cell_type": "code",
   "execution_count": 22,
   "metadata": {},
   "outputs": [],
   "source": [
    "# from sklearn.preprocessing import quantile_transform\n",
    "\n",
    "# power_df['title']=power_df['INDEX'].str.lower()\n",
    "# power_df['ACQUIRING_POWER_std']= quantile_transform(power_df['ACQUIRING_POWER'].values.reshape(-1, 1), n_quantiles=100, random_state=0, copy=True).ravel()\n",
    "# power_df['RETENTION_POWER_std']= quantile_transform(power_df['RETENTION_POWER'].values.reshape(-1, 1), n_quantiles=100, random_state=0, copy=True).ravel()\n",
    "all_index=input_index.merge(power_df.drop_duplicates(subset = [\"title_id\"]),left_on='consolidated_id',right_on='title_id',how='left')"
   ]
  },
  {
   "cell_type": "markdown",
   "metadata": {},
   "source": [
    "# 2 : Data Processing"
   ]
  },
  {
   "cell_type": "code",
   "execution_count": 23,
   "metadata": {},
   "outputs": [],
   "source": [
    "# Turn input row-based table into a pivoted, square matrix\n",
    "audience_overlap = pd.pivot_table(\n",
    "    input_master, \n",
    "    values='score', \n",
    "    index=['index_1'], \n",
    "    columns=['index_2'], \n",
    "    aggfunc=np.sum\n",
    ")\n",
    "audience_overlap = audience_overlap.reset_index()\n",
    "audience_overlap = audience_overlap.set_index('index_1')"
   ]
  },
  {
   "cell_type": "code",
   "execution_count": 24,
   "metadata": {},
   "outputs": [
    {
     "data": {
      "text/html": [
       "<div>\n",
       "<style scoped>\n",
       "    .dataframe tbody tr th:only-of-type {\n",
       "        vertical-align: middle;\n",
       "    }\n",
       "\n",
       "    .dataframe tbody tr th {\n",
       "        vertical-align: top;\n",
       "    }\n",
       "\n",
       "    .dataframe thead th {\n",
       "        text-align: right;\n",
       "    }\n",
       "</style>\n",
       "<table border=\"1\" class=\"dataframe\">\n",
       "  <thead>\n",
       "    <tr style=\"text-align: right;\">\n",
       "      <th>index_2</th>\n",
       "      <th>0</th>\n",
       "      <th>1</th>\n",
       "      <th>2</th>\n",
       "    </tr>\n",
       "    <tr>\n",
       "      <th>index_1</th>\n",
       "      <th></th>\n",
       "      <th></th>\n",
       "      <th></th>\n",
       "    </tr>\n",
       "  </thead>\n",
       "  <tbody>\n",
       "    <tr>\n",
       "      <th>0</th>\n",
       "      <td>1.000000</td>\n",
       "      <td>0.482156</td>\n",
       "      <td>0.516615</td>\n",
       "    </tr>\n",
       "    <tr>\n",
       "      <th>1</th>\n",
       "      <td>0.482156</td>\n",
       "      <td>1.000000</td>\n",
       "      <td>0.745912</td>\n",
       "    </tr>\n",
       "    <tr>\n",
       "      <th>2</th>\n",
       "      <td>0.516615</td>\n",
       "      <td>0.745912</td>\n",
       "      <td>1.000000</td>\n",
       "    </tr>\n",
       "  </tbody>\n",
       "</table>\n",
       "</div>"
      ],
      "text/plain": [
       "index_2         0         1         2\n",
       "index_1                              \n",
       "0        1.000000  0.482156  0.516615\n",
       "1        0.482156  1.000000  0.745912\n",
       "2        0.516615  0.745912  1.000000"
      ]
     },
     "execution_count": 24,
     "metadata": {},
     "output_type": "execute_result"
    }
   ],
   "source": [
    "audience_overlap.iloc[0:3, 0:3]"
   ]
  },
  {
   "cell_type": "code",
   "execution_count": 25,
   "metadata": {},
   "outputs": [],
   "source": [
    "audience_overlap=audience_overlap.fillna(0)"
   ]
  },
  {
   "cell_type": "code",
   "execution_count": 26,
   "metadata": {},
   "outputs": [
    {
     "data": {
      "text/plain": [
       "(1001, 1001)"
      ]
     },
     "execution_count": 26,
     "metadata": {},
     "output_type": "execute_result"
    }
   ],
   "source": [
    "audience_overlap.shape"
   ]
  },
  {
   "cell_type": "code",
   "execution_count": 27,
   "metadata": {},
   "outputs": [],
   "source": [
    "# Calculating the distance matrix from similarity score\n",
    "# i.e., higher similarity = smaller distance\n",
    "\n",
    "distance_matrix = 1 - audience_overlap.iloc[:, :]"
   ]
  },
  {
   "cell_type": "code",
   "execution_count": 28,
   "metadata": {},
   "outputs": [],
   "source": [
    "# convert the redundant n*n square matrix form into a condensed nC2 array\n",
    "# distance_matrix[{n choose 2}-{n-i choose 2} + (j-i-1)] is the distance between points i and j\n",
    "distance_matrix = squareform(distance_matrix)"
   ]
  },
  {
   "cell_type": "code",
   "execution_count": 29,
   "metadata": {},
   "outputs": [
    {
     "data": {
      "text/plain": [
       "500500"
      ]
     },
     "execution_count": 29,
     "metadata": {},
     "output_type": "execute_result"
    }
   ],
   "source": [
    "len(distance_matrix)"
   ]
  },
  {
   "cell_type": "markdown",
   "metadata": {},
   "source": [
    "# 3 : Clustering"
   ]
  },
  {
   "cell_type": "code",
   "execution_count": null,
   "metadata": {},
   "outputs": [],
   "source": [
    "# Graph based clustering => "
   ]
  },
  {
   "cell_type": "code",
   "execution_count": 30,
   "metadata": {},
   "outputs": [],
   "source": [
    "import matplotlib.pyplot as plt\n",
    "from scipy.cluster import hierarchy"
   ]
  },
  {
   "cell_type": "code",
   "execution_count": 31,
   "metadata": {},
   "outputs": [],
   "source": [
    "# Clusters have been defined by an elbow curve approach and also silhouette to confirm\n",
    "z = linkage(distance_matrix, method='ward', optimal_ordering=True)"
   ]
  },
  {
   "cell_type": "code",
   "execution_count": 32,
   "metadata": {},
   "outputs": [],
   "source": [
    "# number_of_clusters = 7"
   ]
  },
  {
   "cell_type": "code",
   "execution_count": 33,
   "metadata": {},
   "outputs": [],
   "source": [
    "# Generating results for K number of clusters (1 - 16)\n",
    "final_result = pd.DataFrame()\n",
    "# for i in range (1, 17): ### Defining the number of clusters \n",
    "for i in range(7, 8): \n",
    "    number_of_clusters = i\n",
    "    clusters = fcluster(z, number_of_clusters, criterion='maxclust')\n",
    "    result = all_index.copy()\n",
    "    result['cluster'] = clusters\n",
    "    result['number_of_cluster'] = number_of_clusters\n",
    "    final_result = pd.concat([final_result, result], axis = 0)"
   ]
  },
  {
   "cell_type": "code",
   "execution_count": 34,
   "metadata": {},
   "outputs": [
    {
     "data": {
      "text/plain": [
       "array([1, 3, 6, 7, 2, 5, 4], dtype=int32)"
      ]
     },
     "execution_count": 34,
     "metadata": {},
     "output_type": "execute_result"
    }
   ],
   "source": [
    "final_result[final_result['number_of_cluster'] == 7].cluster.unique()"
   ]
  },
  {
   "cell_type": "code",
   "execution_count": 36,
   "metadata": {},
   "outputs": [],
   "source": [
    "imdb_title_mapping = run_query('''\n",
    "            select               \n",
    "                asset.viewable_id as title_id\n",
    "                , imdb_title_id as imdb_id\n",
    "                , min(asset_title_long) as title_name\n",
    "            from max_prod.catalog.asset_dim as asset\n",
    "            join enterprise_data.catalog.wm_catalog as c\n",
    "                on asset.viewable_id = c.viewable_id\n",
    "            where 1=1\n",
    "                and asset.content_category in ('movies', 'special')\n",
    "                and length(imdb_title_id) in (9,10)\n",
    "            GROUP BY 1, 2\n",
    "            \n",
    "            union\n",
    "            \n",
    "            select                \n",
    "                asset.series_id as title_id\n",
    "                , imdb_series_id as imdb_id\n",
    "                , min(SERIES_TITLE_LONG) as title_name\n",
    "            from max_prod.catalog.asset_dim as asset\n",
    "            join enterprise_data.catalog.wm_catalog as c\n",
    "                on asset.viewable_id = c.viewable_id\n",
    "            where 1=1\n",
    "                and asset.content_category in ('series')\n",
    "                and length(imdb_series_id) in (9,10)\n",
    "            group by 1, 2\n",
    "''')"
   ]
  },
  {
   "cell_type": "code",
   "execution_count": 37,
   "metadata": {},
   "outputs": [],
   "source": [
    "final_result = final_result.merge(imdb_title_mapping, on=['title_id'], how='left')"
   ]
  },
  {
   "cell_type": "code",
   "execution_count": 38,
   "metadata": {},
   "outputs": [
    {
     "data": {
      "text/html": [
       "<div>\n",
       "<style scoped>\n",
       "    .dataframe tbody tr th:only-of-type {\n",
       "        vertical-align: middle;\n",
       "    }\n",
       "\n",
       "    .dataframe tbody tr th {\n",
       "        vertical-align: top;\n",
       "    }\n",
       "\n",
       "    .dataframe thead th {\n",
       "        text-align: right;\n",
       "    }\n",
       "</style>\n",
       "<table border=\"1\" class=\"dataframe\">\n",
       "  <thead>\n",
       "    <tr style=\"text-align: right;\">\n",
       "      <th></th>\n",
       "      <th>index</th>\n",
       "      <th>consolidated_id</th>\n",
       "      <th>title_id</th>\n",
       "      <th>acquiring_power</th>\n",
       "      <th>cluster</th>\n",
       "      <th>number_of_cluster</th>\n",
       "      <th>imdb_id</th>\n",
       "      <th>title_name</th>\n",
       "    </tr>\n",
       "  </thead>\n",
       "  <tbody>\n",
       "    <tr>\n",
       "      <th>0</th>\n",
       "      <td>0</td>\n",
       "      <td>GYsYeoAxKH8LCwgEAAAOR</td>\n",
       "      <td>GYsYeoAxKH8LCwgEAAAOR</td>\n",
       "      <td>17681380.0</td>\n",
       "      <td>1</td>\n",
       "      <td>1</td>\n",
       "      <td>tt11198330</td>\n",
       "      <td>House of the Dragon</td>\n",
       "    </tr>\n",
       "    <tr>\n",
       "      <th>1</th>\n",
       "      <td>1</td>\n",
       "      <td>GXKN_xQX5csPDwwEAAABj</td>\n",
       "      <td>GXKN_xQX5csPDwwEAAABj</td>\n",
       "      <td>19335854.0</td>\n",
       "      <td>1</td>\n",
       "      <td>1</td>\n",
       "      <td>tt8772296</td>\n",
       "      <td>Euphoria</td>\n",
       "    </tr>\n",
       "    <tr>\n",
       "      <th>2</th>\n",
       "      <td>2</td>\n",
       "      <td>GXr7SEgRi2sLCAAEAAAQu</td>\n",
       "      <td>GXr7SEgRi2sLCAAEAAAQu</td>\n",
       "      <td>12875283.0</td>\n",
       "      <td>1</td>\n",
       "      <td>1</td>\n",
       "      <td>tt0121955</td>\n",
       "      <td>South Park</td>\n",
       "    </tr>\n",
       "    <tr>\n",
       "      <th>3</th>\n",
       "      <td>3</td>\n",
       "      <td>GXdbR_gOXWJuAuwEAACVH</td>\n",
       "      <td>GXdbR_gOXWJuAuwEAACVH</td>\n",
       "      <td>11580371.0</td>\n",
       "      <td>1</td>\n",
       "      <td>1</td>\n",
       "      <td>tt0108778</td>\n",
       "      <td>Friends</td>\n",
       "    </tr>\n",
       "    <tr>\n",
       "      <th>4</th>\n",
       "      <td>4</td>\n",
       "      <td>GVU2cggagzYNJjhsJATwo</td>\n",
       "      <td>GVU2cggagzYNJjhsJATwo</td>\n",
       "      <td>15931116.0</td>\n",
       "      <td>1</td>\n",
       "      <td>1</td>\n",
       "      <td>tt0944947</td>\n",
       "      <td>Game of Thrones</td>\n",
       "    </tr>\n",
       "  </tbody>\n",
       "</table>\n",
       "</div>"
      ],
      "text/plain": [
       "   index        consolidated_id               title_id  acquiring_power  \\\n",
       "0      0  GYsYeoAxKH8LCwgEAAAOR  GYsYeoAxKH8LCwgEAAAOR       17681380.0   \n",
       "1      1  GXKN_xQX5csPDwwEAAABj  GXKN_xQX5csPDwwEAAABj       19335854.0   \n",
       "2      2  GXr7SEgRi2sLCAAEAAAQu  GXr7SEgRi2sLCAAEAAAQu       12875283.0   \n",
       "3      3  GXdbR_gOXWJuAuwEAACVH  GXdbR_gOXWJuAuwEAACVH       11580371.0   \n",
       "4      4  GVU2cggagzYNJjhsJATwo  GVU2cggagzYNJjhsJATwo       15931116.0   \n",
       "\n",
       "   cluster  number_of_cluster     imdb_id           title_name  \n",
       "0        1                  1  tt11198330  House of the Dragon  \n",
       "1        1                  1   tt8772296             Euphoria  \n",
       "2        1                  1   tt0121955           South Park  \n",
       "3        1                  1   tt0108778              Friends  \n",
       "4        1                  1   tt0944947      Game of Thrones  "
      ]
     },
     "execution_count": 38,
     "metadata": {},
     "output_type": "execute_result"
    }
   ],
   "source": [
    "final_result.head()"
   ]
  },
  {
   "cell_type": "code",
   "execution_count": 39,
   "metadata": {},
   "outputs": [],
   "source": [
    "# test.to_csv('clustering_results.csv')"
   ]
  },
  {
   "cell_type": "code",
   "execution_count": 40,
   "metadata": {},
   "outputs": [],
   "source": [
    "from bs4 import BeautifulSoup\n",
    "import imdb\n",
    "import urllib.request  as urllib2 "
   ]
  },
  {
   "cell_type": "code",
   "execution_count": 41,
   "metadata": {},
   "outputs": [],
   "source": [
    "access = imdb.IMDb()"
   ]
  },
  {
   "cell_type": "code",
   "execution_count": 42,
   "metadata": {},
   "outputs": [],
   "source": [
    "def get_imdb_url(row):\n",
    "    try:\n",
    "        movie_id=row[2::]\n",
    "        movie = access.get_movie(movie_id)\n",
    "        imgurl=movie['full-size cover url']\n",
    "        return imgurl\n",
    "    except Exception as e:\n",
    "        print (e)\n",
    "        print (row)\n",
    "        return np.nan\n",
    "\n",
    "test = final_result.sort_values(by = ['acquiring_power'], ascending = False)\\\n",
    "               .groupby(['number_of_cluster', 'cluster']).head(15)\\\n",
    "               .sort_values(by = ['number_of_cluster', 'cluster']).copy()\n",
    "test['imdb_url'] = test['imdb_id'].apply(lambda row: get_imdb_url(row))"
   ]
  },
  {
   "cell_type": "code",
   "execution_count": 43,
   "metadata": {},
   "outputs": [
    {
     "data": {
      "text/html": [
       "<div>\n",
       "<style scoped>\n",
       "    .dataframe tbody tr th:only-of-type {\n",
       "        vertical-align: middle;\n",
       "    }\n",
       "\n",
       "    .dataframe tbody tr th {\n",
       "        vertical-align: top;\n",
       "    }\n",
       "\n",
       "    .dataframe thead th {\n",
       "        text-align: right;\n",
       "    }\n",
       "</style>\n",
       "<table border=\"1\" class=\"dataframe\">\n",
       "  <thead>\n",
       "    <tr style=\"text-align: right;\">\n",
       "      <th></th>\n",
       "      <th>index</th>\n",
       "      <th>consolidated_id</th>\n",
       "      <th>title_id</th>\n",
       "      <th>acquiring_power</th>\n",
       "      <th>cluster</th>\n",
       "      <th>number_of_cluster</th>\n",
       "      <th>imdb_id</th>\n",
       "      <th>title_name</th>\n",
       "      <th>imdb_url</th>\n",
       "    </tr>\n",
       "  </thead>\n",
       "  <tbody>\n",
       "    <tr>\n",
       "      <th>1</th>\n",
       "      <td>1</td>\n",
       "      <td>GXKN_xQX5csPDwwEAAABj</td>\n",
       "      <td>GXKN_xQX5csPDwwEAAABj</td>\n",
       "      <td>19335854.0</td>\n",
       "      <td>1</td>\n",
       "      <td>1</td>\n",
       "      <td>tt8772296</td>\n",
       "      <td>Euphoria</td>\n",
       "      <td>https://m.media-amazon.com/images/M/MV5BMDMzZD...</td>\n",
       "    </tr>\n",
       "    <tr>\n",
       "      <th>61</th>\n",
       "      <td>61</td>\n",
       "      <td>GYFEzmwNES16GkQEAAAAC</td>\n",
       "      <td>GYFEzmwNES16GkQEAAAAC</td>\n",
       "      <td>18089729.0</td>\n",
       "      <td>1</td>\n",
       "      <td>1</td>\n",
       "      <td>tt5034838</td>\n",
       "      <td>Godzilla vs. Kong</td>\n",
       "      <td>https://m.media-amazon.com/images/M/MV5BZmYzMz...</td>\n",
       "    </tr>\n",
       "    <tr>\n",
       "      <th>0</th>\n",
       "      <td>0</td>\n",
       "      <td>GYsYeoAxKH8LCwgEAAAOR</td>\n",
       "      <td>GYsYeoAxKH8LCwgEAAAOR</td>\n",
       "      <td>17681380.0</td>\n",
       "      <td>1</td>\n",
       "      <td>1</td>\n",
       "      <td>tt11198330</td>\n",
       "      <td>House of the Dragon</td>\n",
       "      <td>https://m.media-amazon.com/images/M/MV5BZjBiOG...</td>\n",
       "    </tr>\n",
       "    <tr>\n",
       "      <th>108</th>\n",
       "      <td>94</td>\n",
       "      <td>GYGYKfQwaKLheqwEAAAEC</td>\n",
       "      <td>GYGYKfQwaKLheqwEAAAEC</td>\n",
       "      <td>16653954.0</td>\n",
       "      <td>1</td>\n",
       "      <td>1</td>\n",
       "      <td>tt0293429</td>\n",
       "      <td>Mortal Kombat</td>\n",
       "      <td>https://m.media-amazon.com/images/M/MV5BY2ZlNW...</td>\n",
       "    </tr>\n",
       "    <tr>\n",
       "      <th>72</th>\n",
       "      <td>65</td>\n",
       "      <td>GYOxtow3Wz8PDwgEAAAdw</td>\n",
       "      <td>GYOxtow3Wz8PDwgEAAAdw</td>\n",
       "      <td>16550315.0</td>\n",
       "      <td>1</td>\n",
       "      <td>1</td>\n",
       "      <td>tt6334354</td>\n",
       "      <td>The Suicide Squad</td>\n",
       "      <td>https://m.media-amazon.com/images/M/MV5BMWU4ND...</td>\n",
       "    </tr>\n",
       "  </tbody>\n",
       "</table>\n",
       "</div>"
      ],
      "text/plain": [
       "     index        consolidated_id               title_id  acquiring_power  \\\n",
       "1        1  GXKN_xQX5csPDwwEAAABj  GXKN_xQX5csPDwwEAAABj       19335854.0   \n",
       "61      61  GYFEzmwNES16GkQEAAAAC  GYFEzmwNES16GkQEAAAAC       18089729.0   \n",
       "0        0  GYsYeoAxKH8LCwgEAAAOR  GYsYeoAxKH8LCwgEAAAOR       17681380.0   \n",
       "108     94  GYGYKfQwaKLheqwEAAAEC  GYGYKfQwaKLheqwEAAAEC       16653954.0   \n",
       "72      65  GYOxtow3Wz8PDwgEAAAdw  GYOxtow3Wz8PDwgEAAAdw       16550315.0   \n",
       "\n",
       "     cluster  number_of_cluster     imdb_id           title_name  \\\n",
       "1          1                  1   tt8772296             Euphoria   \n",
       "61         1                  1   tt5034838    Godzilla vs. Kong   \n",
       "0          1                  1  tt11198330  House of the Dragon   \n",
       "108        1                  1   tt0293429        Mortal Kombat   \n",
       "72         1                  1   tt6334354    The Suicide Squad   \n",
       "\n",
       "                                              imdb_url  \n",
       "1    https://m.media-amazon.com/images/M/MV5BMDMzZD...  \n",
       "61   https://m.media-amazon.com/images/M/MV5BZmYzMz...  \n",
       "0    https://m.media-amazon.com/images/M/MV5BZjBiOG...  \n",
       "108  https://m.media-amazon.com/images/M/MV5BY2ZlNW...  \n",
       "72   https://m.media-amazon.com/images/M/MV5BMWU4ND...  "
      ]
     },
     "execution_count": 43,
     "metadata": {},
     "output_type": "execute_result"
    }
   ],
   "source": [
    "test.head()"
   ]
  },
  {
   "cell_type": "code",
   "execution_count": 44,
   "metadata": {},
   "outputs": [],
   "source": [
    "pd.set_option('display.max_colwidth', None)"
   ]
  },
  {
   "cell_type": "code",
   "execution_count": 45,
   "metadata": {},
   "outputs": [],
   "source": [
    "test.drop(['index'], axis = 1, inplace = True)"
   ]
  },
  {
   "cell_type": "code",
   "execution_count": 46,
   "metadata": {},
   "outputs": [],
   "source": [
    "test.to_csv('clustering_results.csv')"
   ]
  },
  {
   "cell_type": "markdown",
   "metadata": {},
   "source": [
    "# 4: Cluster Results Analysis"
   ]
  },
  {
   "cell_type": "code",
   "execution_count": 46,
   "metadata": {},
   "outputs": [
    {
     "name": "stdout",
     "output_type": "stream",
     "text": [
      "Collecting imdbpy\n",
      "  Downloading IMDbPY-2022.7.9-py3-none-any.whl (1.2 kB)\n",
      "Collecting cinemagoer\n",
      "  Downloading cinemagoer-2022.12.27-py3-none-any.whl (297 kB)\n",
      "     |████████████████████████████████| 297 kB 32.2 MB/s            \n",
      "\u001b[?25hRequirement already satisfied: SQLAlchemy in /home/ec2-user/anaconda3/envs/python3/lib/python3.6/site-packages (from cinemagoer->imdbpy) (1.3.23)\n",
      "Requirement already satisfied: lxml in /home/ec2-user/anaconda3/envs/python3/lib/python3.6/site-packages (from cinemagoer->imdbpy) (4.6.4)\n",
      "Installing collected packages: cinemagoer, imdbpy\n",
      "Successfully installed cinemagoer-2022.12.27 imdbpy-2022.7.9\n"
     ]
    }
   ],
   "source": [
    "# !pip install imdbpy"
   ]
  },
  {
   "cell_type": "code",
   "execution_count": 43,
   "metadata": {},
   "outputs": [],
   "source": [
    "from bs4 import BeautifulSoup\n",
    "import imdb\n",
    "import urllib.request  as urllib2 "
   ]
  },
  {
   "cell_type": "code",
   "execution_count": 44,
   "metadata": {},
   "outputs": [],
   "source": [
    "def get_movie_id(name):\n",
    "    ia = imdb.IMDb()\n",
    "    # searching the name \n",
    "    search = ia.search_movie(name)\n",
    "    # loop for printing the name and id\n",
    "    for i in range(len(search)):\n",
    "        # getting the id\n",
    "        id = search[i].movieID\n",
    "        # printing it\n",
    "        print(search[i]['title'] + \" : \" + id )\n",
    "        return id"
   ]
  },
  {
   "cell_type": "code",
   "execution_count": 45,
   "metadata": {},
   "outputs": [
    {
     "data": {
      "text/html": [
       "<div>\n",
       "<style scoped>\n",
       "    .dataframe tbody tr th:only-of-type {\n",
       "        vertical-align: middle;\n",
       "    }\n",
       "\n",
       "    .dataframe tbody tr th {\n",
       "        vertical-align: top;\n",
       "    }\n",
       "\n",
       "    .dataframe thead th {\n",
       "        text-align: right;\n",
       "    }\n",
       "</style>\n",
       "<table border=\"1\" class=\"dataframe\">\n",
       "  <thead>\n",
       "    <tr style=\"text-align: right;\">\n",
       "      <th></th>\n",
       "      <th>index</th>\n",
       "      <th>consolidated_id</th>\n",
       "      <th>title_id</th>\n",
       "      <th>acquiring_power</th>\n",
       "      <th>imdb_id</th>\n",
       "      <th>title_name</th>\n",
       "    </tr>\n",
       "    <tr>\n",
       "      <th>cluster</th>\n",
       "      <th></th>\n",
       "      <th></th>\n",
       "      <th></th>\n",
       "      <th></th>\n",
       "      <th></th>\n",
       "      <th></th>\n",
       "    </tr>\n",
       "  </thead>\n",
       "  <tbody>\n",
       "    <tr>\n",
       "      <th>1</th>\n",
       "      <td>85</td>\n",
       "      <td>85</td>\n",
       "      <td>76</td>\n",
       "      <td>76</td>\n",
       "      <td>85</td>\n",
       "      <td>76</td>\n",
       "    </tr>\n",
       "    <tr>\n",
       "      <th>2</th>\n",
       "      <td>154</td>\n",
       "      <td>154</td>\n",
       "      <td>136</td>\n",
       "      <td>136</td>\n",
       "      <td>149</td>\n",
       "      <td>131</td>\n",
       "    </tr>\n",
       "    <tr>\n",
       "      <th>3</th>\n",
       "      <td>131</td>\n",
       "      <td>131</td>\n",
       "      <td>104</td>\n",
       "      <td>104</td>\n",
       "      <td>130</td>\n",
       "      <td>103</td>\n",
       "    </tr>\n",
       "    <tr>\n",
       "      <th>4</th>\n",
       "      <td>193</td>\n",
       "      <td>193</td>\n",
       "      <td>166</td>\n",
       "      <td>166</td>\n",
       "      <td>193</td>\n",
       "      <td>166</td>\n",
       "    </tr>\n",
       "    <tr>\n",
       "      <th>5</th>\n",
       "      <td>302</td>\n",
       "      <td>302</td>\n",
       "      <td>248</td>\n",
       "      <td>248</td>\n",
       "      <td>302</td>\n",
       "      <td>248</td>\n",
       "    </tr>\n",
       "    <tr>\n",
       "      <th>6</th>\n",
       "      <td>71</td>\n",
       "      <td>71</td>\n",
       "      <td>62</td>\n",
       "      <td>62</td>\n",
       "      <td>70</td>\n",
       "      <td>61</td>\n",
       "    </tr>\n",
       "    <tr>\n",
       "      <th>7</th>\n",
       "      <td>209</td>\n",
       "      <td>209</td>\n",
       "      <td>191</td>\n",
       "      <td>191</td>\n",
       "      <td>207</td>\n",
       "      <td>189</td>\n",
       "    </tr>\n",
       "  </tbody>\n",
       "</table>\n",
       "</div>"
      ],
      "text/plain": [
       "         index  consolidated_id  title_id  acquiring_power  imdb_id  \\\n",
       "cluster                                                               \n",
       "1           85               85        76               76       85   \n",
       "2          154              154       136              136      149   \n",
       "3          131              131       104              104      130   \n",
       "4          193              193       166              166      193   \n",
       "5          302              302       248              248      302   \n",
       "6           71               71        62               62       70   \n",
       "7          209              209       191              191      207   \n",
       "\n",
       "         title_name  \n",
       "cluster              \n",
       "1                76  \n",
       "2               131  \n",
       "3               103  \n",
       "4               166  \n",
       "5               248  \n",
       "6                61  \n",
       "7               189  "
      ]
     },
     "execution_count": 45,
     "metadata": {},
     "output_type": "execute_result"
    }
   ],
   "source": [
    "result.groupby(['cluster']).count()"
   ]
  },
  {
   "cell_type": "code",
   "execution_count": 133,
   "metadata": {
    "collapsed": true,
    "jupyter": {
     "outputs_hidden": true
    }
   },
   "outputs": [
    {
     "name": "stdout",
     "output_type": "stream",
     "text": [
      "Mortal Kombat 7\n",
      "The Batman 7\n",
      "Space Jam: A New Legacy 7\n",
      "Tom & Jerry 7\n",
      "Scoob! 7\n",
      "The Boondocks 7\n",
      "The Fresh Prince of Bel-Air 7\n",
      "Space Jam 7\n",
      "The Dark Knight 7\n",
      "DC League of Super-Pets 7\n",
      "Looney Tunes 7\n",
      "Insecure 7\n",
      "Harley Quinn 7\n",
      "Lovecraft Country 7\n",
      "Teen Titans 7\n",
      "Courage the Cowardly Dog 7\n",
      "Scooby-Doo 7\n",
      "Adventure Time 7\n",
      "The Amazing World of Gumball 7\n",
      "Regular Show 7\n",
      "South Park 6\n",
      "Rick and Morty 6\n",
      "The Righteous Gemstones 6\n",
      "South ParQ Vaccination Special 6\n",
      "Impractical Jokers 6\n",
      "Spirited Away 6\n",
      "JUJUTSU KAISEN 6\n",
      "Howl's Moving Castle 6\n",
      "The Bob's Burgers Movie 6\n",
      "Robot Chicken 6\n",
      "My Neighbor Totoro 6\n",
      "Reno 911! 6\n",
      "Ponyo 6\n",
      "American Psycho 6\n",
      "Chappelle's Show 6\n",
      "Kill Bill: Vol. 1 6\n",
      "Pulp Fiction 6\n",
      "Kiki's Delivery Service 6\n",
      "The Prince 6\n",
      "Close Enough 6\n",
      "Godzilla vs. Kong 5\n",
      "The Suicide Squad 5\n",
      "Wonder Woman 1984 5\n",
      "Zack Snyder's Justice League 5\n",
      "The Matrix: Resurrections 5\n",
      "Harry Potter and the Sorcerer's Stone 5\n",
      "Harry Potter and the Chamber of Secrets 5\n",
      "Peacemaker 5\n",
      "Harry Potter and the Prisoner of Azkaban 5\n",
      "Fantastic Beasts: The Secrets of Dumbledore 5\n",
      "Harry Potter and the Goblet of Fire 5\n",
      "Free Guy 5\n",
      "Harry Potter 20th Anniversary: Return to Hogwarts 5\n",
      "Harry Potter and the Order of the Phoenix 5\n",
      "Aquaman 5\n",
      "Suicide Squad 5\n",
      "The King's Man 5\n",
      "Harry Potter and the Half-Blood Prince 5\n",
      "Ready Player One 5\n",
      "The Matrix 5\n",
      "Get Hard 4\n",
      "F9: The Fast Saga 4\n",
      "White Chicks (Unrated & Uncut) 4\n",
      "We're the Millers 4\n",
      "Friday 4\n",
      "Cry Macho 4\n",
      "Rush Hour 4\n",
      "The Fast and the Furious 4\n",
      "Ted 4\n",
      "Freaky 4\n",
      "Identity Thief 4\n",
      "The Hangover 4\n",
      "Horrible Bosses 4\n",
      "Norbit 4\n",
      "2 Fast 2 Furious 4\n",
      "Rush Hour 2 4\n",
      "The Hangover Part II 4\n",
      "Next Friday 4\n",
      "Vacation 4\n",
      "Ocean's 8 4\n",
      "Euphoria 3\n",
      "Friends 3\n",
      "Friends: The Reunion 3\n",
      "And Just Like That... 3\n",
      "The Big Bang Theory 3\n",
      "King Richard 3\n",
      "In the Heights 3\n",
      "Father of the Bride 3\n",
      "Crazy Rich Asians 3\n",
      "The Fallout 3\n",
      "Sex and the City 3\n",
      "Pitch Perfect 3\n",
      "Pretty Little Liars 3\n",
      "The King of Staten Island 3\n",
      "Euphoria Special Episode Part 1: Rue 3\n",
      "Gossip Girl 3\n",
      "Young Sheldon 3\n",
      "Gossip Girl (2007) 3\n",
      "The Great Gatsby 3\n",
      "Clueless 3\n",
      "The Flight Attendant 2\n",
      "The White Lotus 2\n",
      "Succession 2\n",
      "Mare of Easttown 2\n",
      "The Sopranos 2\n",
      "The Many Saints of Newark 2\n",
      "The Staircase 2\n",
      "Curb Your Enthusiasm 2\n",
      "Barry 2\n",
      "Hacks 2\n",
      "The Gilded Age 2\n",
      "Winning Time: The Rise of the Lakers Dynasty 2\n",
      "Last Week Tonight with John Oliver 2\n",
      "The Undoing 2\n",
      "The Sex Lives of College Girls 2\n",
      "The Wire 2\n",
      "Our Flag Means Death 2\n",
      "Love Life 2\n",
      "What Happened, Brittany Murphy? 2\n",
      "We Own This City 2\n",
      "House of the Dragon 1\n",
      "Game of Thrones 1\n",
      "The Little Things 1\n",
      "Those Who Wish Me Dead 1\n",
      "Titans 1\n",
      "Westworld 1\n",
      "ELVIS 1\n",
      "Raised by Wolves 1\n",
      "Old 1\n",
      "THE NEVERS 1\n",
      "Death on the Nile 1\n",
      "The Last Duel 1\n",
      "Doom Patrol 1\n",
      "No Sudden Move 1\n",
      "Station Eleven 1\n",
      "Kimi 1\n",
      "His Dark Materials 1\n",
      "Doctor Who 1\n",
      "Nightmare Alley 1\n",
      "Let Him Go 1\n"
     ]
    }
   ],
   "source": [
    "from IPython.display import HTML, display,IFrame\n",
    "import imdb\n",
    "import urllib.request  as urllib2 \n",
    "\n",
    "access = imdb.IMDb()\n",
    "num_titles = 20\n",
    "\n",
    "topmovies_df=result.drop_duplicates(subset='title_name').sort_values(by=['cluster','acquiring_power'], ascending=False).groupby('cluster').head(20)\n",
    "topmovies_df.head()\n",
    "htmlstr=f'''<table>'''\n",
    "n=num_titles\n",
    "for index, row in topmovies_df.iterrows():    \n",
    "    if (n>0):\n",
    "        if (n==num_titles):\n",
    "            htmlstr=htmlstr+'<tr>'\n",
    "        try:\n",
    "            movie_id=row['imdb_id'][2::]\n",
    "            cluster_id=row['cluster']\n",
    "            movie = access.get_movie(movie_id)\n",
    "            imgurl=movie['full-size cover url']\n",
    "            htmlstr=htmlstr+f'''<td><img src={imgurl} width=\"120\"\"></td>'''\n",
    "        except Exception as e:\n",
    "            htmlstr=htmlstr+f'''<td>Missing</td>'''\n",
    "            print (e)\n",
    "        print(row['title_name'], row['cluster'])\n",
    "        if (n==1):\n",
    "            htmlstr=htmlstr+'</tr>'\n",
    "            n=num_titles\n",
    "        else:\n",
    "            n=n-1  \n",
    "htmlstr=htmlstr+'</table>'"
   ]
  },
  {
   "cell_type": "code",
   "execution_count": null,
   "metadata": {},
   "outputs": [],
   "source": []
  },
  {
   "cell_type": "code",
   "execution_count": null,
   "metadata": {},
   "outputs": [],
   "source": []
  },
  {
   "cell_type": "code",
   "execution_count": null,
   "metadata": {},
   "outputs": [],
   "source": []
  },
  {
   "cell_type": "code",
   "execution_count": 134,
   "metadata": {},
   "outputs": [
    {
     "data": {
      "application/javascript": [
       "IPython.OutputArea.prototype._should_scroll = function(lines) {\n",
       "    return false;\n",
       "}\n"
      ],
      "text/plain": [
       "<IPython.core.display.Javascript object>"
      ]
     },
     "metadata": {},
     "output_type": "display_data"
    }
   ],
   "source": [
    "%%javascript\n",
    "IPython.OutputArea.prototype._should_scroll = function(lines) {\n",
    "    return false;\n",
    "}"
   ]
  },
  {
   "cell_type": "code",
   "execution_count": 135,
   "metadata": {},
   "outputs": [],
   "source": [
    "# result.groupby(['cluster']).count()"
   ]
  },
  {
   "cell_type": "code",
   "execution_count": 136,
   "metadata": {
    "collapsed": true,
    "jupyter": {
     "outputs_hidden": true
    }
   },
   "outputs": [
    {
     "data": {
      "text/html": [
       "<table><tr><td><img src=https://m.media-amazon.com/images/M/MV5BY2ZlNWIxODMtN2YwZi00ZjNmLWIyN2UtZTFkYmZkNDQyNTAyXkEyXkFqcGdeQXVyODkzNTgxMDg@.jpg width=\"120\"\"></td><td><img src=https://m.media-amazon.com/images/M/MV5BMDdmMTBiNTYtMDIzNi00NGVlLWIzMDYtZTk3MTQ3NGQxZGEwXkEyXkFqcGdeQXVyMzMwOTU5MDk@.jpg width=\"120\"\"></td><td><img src=https://m.media-amazon.com/images/M/MV5BNWMyMDc3ODYtODMwZS00MGVjLWJhY2QtYWI1NDM0Y2RjOTMzXkEyXkFqcGdeQXVyODE5NzE3OTE@.jpg width=\"120\"\"></td><td><img src=https://m.media-amazon.com/images/M/MV5BYzE3ODhiNzAtOWY4MS00NTdiLThmNDctNDM4NjRiNGFmYjI1XkEyXkFqcGdeQXVyMTI2ODM1ODUw.jpg width=\"120\"\"></td><td><img src=https://m.media-amazon.com/images/M/MV5BZTJmODM0MDQtMTRjYy00YWZjLThjODItMzQ5N2I2NDBjYzA1XkEyXkFqcGdeQXVyMDA4NzMyOA@@.jpg width=\"120\"\"></td><td><img src=https://m.media-amazon.com/images/M/MV5BMjA5OTNhNDQtODU0ZS00MmMyLWJkZmMtZmIyNjRhOTFlODMwXkEyXkFqcGdeQXVyNTAyODkwOQ@@.jpg width=\"120\"\"></td><td><img src=https://m.media-amazon.com/images/M/MV5BOGUxOWQ4MzAtMmJjYS00M2U5LWEwZTAtYTc1YmZhNjg2NDRlXkEyXkFqcGdeQXVyMTYzMDM0NTU@.jpg width=\"120\"\"></td><td><img src=https://m.media-amazon.com/images/M/MV5BYjA3ZmMwNTUtNGM2Ni00YjUyLWE5ZDYtY2Y4YzhmYzlhYWI2XkEyXkFqcGdeQXVyMjUzOTY1NTc@.jpg width=\"120\"\"></td><td><img src=https://m.media-amazon.com/images/M/MV5BMTMxNTMwODM0NF5BMl5BanBnXkFtZTcwODAyMTk2Mw@@.jpg width=\"120\"\"></td><td><img src=https://m.media-amazon.com/images/M/MV5BZTIyNzc3NzMtNGE5YS00Yjg5LTk5MDMtOTUxMzk1ZTBkOTgwXkEyXkFqcGdeQXVyODE5NzE3OTE@.jpg width=\"120\"\"></td><td><img src=https://m.media-amazon.com/images/M/MV5BMjIwY2FlMGItNWUwOS00NTc0LWE2NGQtZGVmYzRlMzRkZWM0XkEyXkFqcGdeQXVyNjg3MDM4Mzc@.jpg width=\"120\"\"></td><td><img src=https://m.media-amazon.com/images/M/MV5BYmJlZGEyZDctZTA1Yy00MzExLTk0ZWMtMjgwNjAwMGU1ZjRjXkEyXkFqcGdeQXVyMTkxNjUyNQ@@.jpg width=\"120\"\"></td><td><img src=https://m.media-amazon.com/images/M/MV5BNWRhMTVhNjgtZjcyMS00N2YzLWI2N2QtNTYwMGFlOTdmMGY1XkEyXkFqcGdeQXVyMjkyNzYwMTc@.jpg width=\"120\"\"></td><td><img src=https://m.media-amazon.com/images/M/MV5BNDliM2ZhZWMtM2YwMy00NjAzLTk1YmEtODJmZDhhMTIxOGRmXkEyXkFqcGdeQXVyNTc4MjczMTM@.jpg width=\"120\"\"></td><td><img src=https://m.media-amazon.com/images/M/MV5BN2E5ZjM1MzItYzFjZC00YzYyLWFmZjgtZTVhZGMzMWUwNDcyXkEyXkFqcGdeQXVyNTAyODkwOQ@@.jpg width=\"120\"\"></td><td><img src=https://m.media-amazon.com/images/M/MV5BMTU4MGEyNTItNzg5ZS00ZGU0LTk4NmEtODM0Y2UxYTY2YTUyXkEyXkFqcGdeQXVyNTAyODkwOQ@@.jpg width=\"120\"\"></td><td><img src=https://m.media-amazon.com/images/M/MV5BMTg4MzMzMTY0OF5BMl5BanBnXkFtZTYwNzM3MTg2.jpg width=\"120\"\"></td><td><img src=https://m.media-amazon.com/images/M/MV5BMGFkNGY4NGMtZjY0NC00YTI0LThiZjMtMjBmZGMzOGU3YTdmXkEyXkFqcGdeQXVyMTM0NTUzNDIy.jpg width=\"120\"\"></td><td><img src=https://m.media-amazon.com/images/M/MV5BYWU1YTA4OGUtNjcxMC00ZTllLTgxYWUtY2U5NmViZTU0MmNjXkEyXkFqcGdeQXVyMTM0NTUzNDIy.jpg width=\"120\"\"></td><td><img src=https://m.media-amazon.com/images/M/MV5BNWJjZjQ5NWUtMTkwZC00NGY2LWEyMDEtMGIyZThkMmMyZTZlXkEyXkFqcGdeQXVyMTI2MzY3NTA3.jpg width=\"120\"\"></td></tr><tr><td><img src=https://m.media-amazon.com/images/M/MV5BZjNhODYzZGItZWQ3Ny00ZjViLTkxMTUtM2EzN2RjYjU2OGZiXkEyXkFqcGdeQXVyMTI5MTc0OTIy.jpg width=\"120\"\"></td><td><img src=https://m.media-amazon.com/images/M/MV5BZjRjOTFkOTktZWUzMi00YzMyLThkMmYtMjEwNmQyNzliYTNmXkEyXkFqcGdeQXVyNzQ1ODk3MTQ@.jpg width=\"120\"\"></td><td><img src=https://m.media-amazon.com/images/M/MV5BNDViYzhjZjItNjBkYS00NjE5LWI1M2ItODhkZGM2NzI4YzE0XkEyXkFqcGdeQXVyMDM2NDM2MQ@@.jpg width=\"120\"\"></td><td><img src=https://m.media-amazon.com/images/M/MV5BNGU3MDAwM2QtNzk2Ny00N2JkLWE3YjctMmMzMGEyNmRkOWM5XkEyXkFqcGdeQXVyNjc0NTEzOTA@.jpg width=\"120\"\"></td><td><img src=https://m.media-amazon.com/images/M/MV5BZjhlYTllNzgtOTQ5Ni00MTI1LWJmZjktOTc2NTZkYWVlYjllXkEyXkFqcGdeQXVyMDA4NzMyOA@@.jpg width=\"120\"\"></td><td><img src=https://m.media-amazon.com/images/M/MV5BMjlmZmI5MDctNDE2YS00YWE0LWE5ZWItZDBhYWQ0NTcxNWRhXkEyXkFqcGdeQXVyMTMxODk2OTU@.jpg width=\"120\"\"></td><td><img src=https://m.media-amazon.com/images/M/MV5BNGY4MTg3NzgtMmFkZi00NTg5LWExMmEtMWI3YzI1ODdmMWQ1XkEyXkFqcGdeQXVyMjQwMDg0Ng@@.jpg width=\"120\"\"></td><td><img src=https://m.media-amazon.com/images/M/MV5BMTY1OTg0MjE3MV5BMl5BanBnXkFtZTcwNTUxMTkyMQ@@.jpg width=\"120\"\"></td><td><img src=https://m.media-amazon.com/images/M/MV5BYzFhNDNkY2UtYjc3ZS00NzVkLTlhNzEtYmZiZGMzYmRjMjVhXkEyXkFqcGdeQXVyMjQwMDg0Ng@@.jpg width=\"120\"\"></td><td><img src=https://m.media-amazon.com/images/M/MV5BY2I0MjFhNmUtMzI4OS00ODI0LWExZGItMTdjNDExM2YwOGJmXkEyXkFqcGdeQXVyNTAyODkwOQ@@.jpg width=\"120\"\"></td><td><img src=https://m.media-amazon.com/images/M/MV5BYzJjMTYyMjQtZDI0My00ZjE2LTkyNGYtOTllNGQxNDMyZjE0XkEyXkFqcGdeQXVyMTMxODk2OTU@.jpg width=\"120\"\"></td><td><img src=https://m.media-amazon.com/images/M/MV5BMzlhZjBmYzAtOGVhNi00NDJiLWFjMzYtNDNmY2RmNTQyNTY5XkEyXkFqcGdeQXVyMTQxNzMzNDI@.jpg width=\"120\"\"></td><td><img src=https://m.media-amazon.com/images/M/MV5BOTc3YmM3N2QtODZkMC00ZDE5LThjMTQtYTljN2Y1YTYwYWJkXkEyXkFqcGdeQXVyODEzNjM5OTQ@.jpg width=\"120\"\"></td><td><img src=https://m.media-amazon.com/images/M/MV5BZTM2ZGJmNjQtN2UyOS00NjcxLWFjMDktMDE2NzMyNTZlZTBiXkEyXkFqcGdeQXVyNzkwMjQ5NzM@.jpg width=\"120\"\"></td><td><img src=https://m.media-amazon.com/images/M/MV5BOWNjYTg5NGMtOWRjNy00ZGNlLTg2MmYtZjQ5NTM0MTQxOGM2XkEyXkFqcGdeQXVyNTA4NzY1MzY@.jpg width=\"120\"\"></td><td><img src=https://m.media-amazon.com/images/M/MV5BNzM3NDFhYTAtYmU5Mi00NGRmLTljYjgtMDkyODQ4MjNkMGY2XkEyXkFqcGdeQXVyNzkwMjQ5NzM@.jpg width=\"120\"\"></td><td><img src=https://m.media-amazon.com/images/M/MV5BNGNhMDIzZTUtNTBlZi00MTRlLWFjM2ItYzViMjE3YzI5MjljXkEyXkFqcGdeQXVyNzkwMjQ5NzM@.jpg width=\"120\"\"></td><td><img src=https://m.media-amazon.com/images/M/MV5BYTQ1ZTM1ZTgtN2Q2Ny00YjFkLTliNjEtN2I1ZmY5ZTY1OTEzXkEyXkFqcGdeQXVyMTMxODk2OTU@.jpg width=\"120\"\"></td><td><img src=https://m.media-amazon.com/images/M/MV5BMWZiYjBkYzQtMzczYi00Nzc2LWIyOTctN2U1NDdmZmUxZTEzXkEyXkFqcGdeQXVyMTkxNjUyNQ@@.jpg width=\"120\"\"></td><td><img src=https://m.media-amazon.com/images/M/MV5BYjczZTBmNmEtMGM0Ni00MGVhLTgyOTMtY2UxYmM5YTY4YjU4XkEyXkFqcGdeQXVyMTI2MzY3NTA3.jpg width=\"120\"\"></td></tr><tr><td><img src=https://m.media-amazon.com/images/M/MV5BZmYzMzU4NjctNDI0Mi00MGExLWI3ZDQtYzQzYThmYzc2ZmNjXkEyXkFqcGdeQXVyMTEyMjM2NDc2.jpg width=\"120\"\"></td><td><img src=https://m.media-amazon.com/images/M/MV5BMWU4NDQ2NjEtNjhkOS00Y2MwLWJkODItZmJhZGE0MDU1OWM4XkEyXkFqcGdeQXVyODE5NzE3OTE@.jpg width=\"120\"\"></td><td><img src=https://m.media-amazon.com/images/M/MV5BYTlhNzJjYzYtNGU3My00ZDI5LTgzZDUtYzllYjU1ZmU0YTgwXkEyXkFqcGdeQXVyMjQwMDg0Ng@@.jpg width=\"120\"\"></td><td><img src=https://m.media-amazon.com/images/M/MV5BYjI3NDg0ZTEtMDEwYS00YWMyLThjYjktMTNlM2NmYjc1OGRiXkEyXkFqcGdeQXVyMTEyMjM2NDc2.jpg width=\"120\"\"></td><td><img src=https://m.media-amazon.com/images/M/MV5BMGJkNDJlZWUtOGM1Ny00YjNkLThiM2QtY2ZjMzQxMTIxNWNmXkEyXkFqcGdeQXVyMDM2NDM2MQ@@.jpg width=\"120\"\"></td><td><img src=https://m.media-amazon.com/images/M/MV5BMzkyZGFlOWQtZjFlMi00N2YwLWE2OWQtYTgxY2NkNmM1NjMwXkEyXkFqcGdeQXVyNjY1NTM1MzA@.jpg width=\"120\"\"></td><td><img src=https://m.media-amazon.com/images/M/MV5BMjE0YjUzNDUtMjc5OS00MTU3LTgxMmUtODhkOThkMzdjNWI4XkEyXkFqcGdeQXVyMTA3MzQ4MTc0.jpg width=\"120\"\"></td><td><img src=https://m.media-amazon.com/images/M/MV5BODk2NjAyOWMtM2FjZC00MjZhLTkxMjQtZTM3NjJlYTE5MDdlXkEyXkFqcGdeQXVyMTkxNjUyNQ@@.jpg width=\"120\"\"></td><td><img src=https://m.media-amazon.com/images/M/MV5BMTY4NTIwODg0N15BMl5BanBnXkFtZTcwOTc0MjEzMw@@.jpg width=\"120\"\"></td><td><img src=https://m.media-amazon.com/images/M/MV5BZGQ1NjQyNDMtNzFlZS00ZGIzLTliMWUtNGJkMGMzNTBjNDg0XkEyXkFqcGdeQXVyMTE1NDI5MDQx.jpg width=\"120\"\"></td><td><img src=https://m.media-amazon.com/images/M/MV5BMTI1NDMyMjExOF5BMl5BanBnXkFtZTcwOTc4MjQzMQ@@.jpg width=\"120\"\"></td><td><img src=https://m.media-amazon.com/images/M/MV5BOTY2NzFjODctOWUzMC00MGZhLTlhNjMtM2Y2ODBiNGY1ZWRiXkEyXkFqcGdeQXVyMDM2NDM2MQ@@.jpg width=\"120\"\"></td><td><img src=https://m.media-amazon.com/images/M/MV5BNTZkNWEyZTgtYzJlOS00OWNiLTgwZjMtZGU5NTRhNDNjOTRhXkEyXkFqcGdeQXVyNjk1Njg5NTA@.jpg width=\"120\"\"></td><td><img src=https://m.media-amazon.com/images/M/MV5BMTM0NTczMTUzOV5BMl5BanBnXkFtZTYwMzIxNTg3.jpg width=\"120\"\"></td><td><img src=https://m.media-amazon.com/images/M/MV5BOTk5ODg0OTU5M15BMl5BanBnXkFtZTgwMDQ3MDY3NjM@.jpg width=\"120\"\"></td><td><img src=https://m.media-amazon.com/images/M/MV5BMjM1OTMxNzUyM15BMl5BanBnXkFtZTgwNjYzMTIzOTE@.jpg width=\"120\"\"></td><td><img src=https://m.media-amazon.com/images/M/MV5BMDEzZDY2ZDktNTlmOS00NThjLThkNTEtMjE5MzI5NWEwZmRjXkEyXkFqcGdeQXVyMDA4NzMyOA@@.jpg width=\"120\"\"></td><td><img src=https://m.media-amazon.com/images/M/MV5BNzU3NDg4NTAyNV5BMl5BanBnXkFtZTcwOTg2ODg1Mg@@.jpg width=\"120\"\"></td><td><img src=https://m.media-amazon.com/images/M/MV5BY2JiYTNmZTctYTQ1OC00YjU4LWEwMjYtZjkwY2Y5MDI0OTU3XkEyXkFqcGdeQXVyNTI4MzE4MDU@.jpg width=\"120\"\"></td><td><img src=https://m.media-amazon.com/images/M/MV5BNzQzOTk3OTAtNDQ0Zi00ZTVkLWI0MTEtMDllZjNkYzNjNTc4L2ltYWdlXkEyXkFqcGdeQXVyNjU0OTQ0OTY@.jpg width=\"120\"\"></td></tr><tr><td><img src=https://m.media-amazon.com/images/M/MV5BMTc3OTc1NjM0M15BMl5BanBnXkFtZTgwNjAyMzE1MzE@.jpg width=\"120\"\"></td><td><img src=https://m.media-amazon.com/images/M/MV5BMjI0NmFkYzEtNzU2YS00NTg5LWIwYmMtNmQ1MTU0OGJjOTMxXkEyXkFqcGdeQXVyMjMxOTE0ODA@.jpg width=\"120\"\"></td><td><img src=https://m.media-amazon.com/images/M/MV5BMTY3OTg2OTM3OV5BMl5BanBnXkFtZTYwNzY5OTA3.jpg width=\"120\"\"></td><td><img src=https://m.media-amazon.com/images/M/MV5BMjA5Njc0NDUxNV5BMl5BanBnXkFtZTcwMjYzNzU1OQ@@.jpg width=\"120\"\"></td><td><img src=https://m.media-amazon.com/images/M/MV5BYmEwNjNlZTUtNzkwMS00ZTlhLTkyY2MtMjM2MzlmODQyZGVhXkEyXkFqcGdeQXVyNTI4MjkwNjA@.jpg width=\"120\"\"></td><td><img src=https://m.media-amazon.com/images/M/MV5BOGQ5OTBkNzAtYWQxYy00YjIxLWJkNTAtNTM2NDMxYzdkZDVmXkEyXkFqcGdeQXVyMTEyMjM2NDc2.jpg width=\"120\"\"></td><td><img src=https://m.media-amazon.com/images/M/MV5BYWM2NDZmYmYtNzlmZC00M2MyLWJmOGUtMjhiYmQ2OGU1YTE1L2ltYWdlL2ltYWdlXkEyXkFqcGdeQXVyMTQxNzMzNDI@.jpg width=\"120\"\"></td><td><img src=https://m.media-amazon.com/images/M/MV5BNzlkNzVjMDMtOTdhZC00MGE1LTkxODctMzFmMjkwZmMxZjFhXkEyXkFqcGdeQXVyNjU0OTQ0OTY@.jpg width=\"120\"\"></td><td><img src=https://m.media-amazon.com/images/M/MV5BMTQ1OTU0ODcxMV5BMl5BanBnXkFtZTcwOTMxNTUwOA@@.jpg width=\"120\"\"></td><td><img src=https://m.media-amazon.com/images/M/MV5BMTRkYmJlY2ItNmFlZi00OWVhLTg1ZTctOGE0MjM5ZGMwMmY4XkEyXkFqcGdeQXVyNjY1MTg4Mzc@.jpg width=\"120\"\"></td><td><img src=https://m.media-amazon.com/images/M/MV5BMTY3NzM5MTk2Nl5BMl5BanBnXkFtZTcwMDQ4MjQ3OA@@.jpg width=\"120\"\"></td><td><img src=https://m.media-amazon.com/images/M/MV5BNGQwZjg5YmYtY2VkNC00NzliLTljYTctNzI5NmU3MjE2ODQzXkEyXkFqcGdeQXVyNzkwMjQ5NzM@.jpg width=\"120\"\"></td><td><img src=https://m.media-amazon.com/images/M/MV5BNzYxNDI5Njc5NF5BMl5BanBnXkFtZTcwMDUxODE1NQ@@.jpg width=\"120\"\"></td><td><img src=https://m.media-amazon.com/images/M/MV5BMTI4NDE4MjgyNV5BMl5BanBnXkFtZTcwMTQwODc0MQ@@.jpg width=\"120\"\"></td><td><img src=https://m.media-amazon.com/images/M/MV5BMzExYjcyYWMtY2JkOC00NDUwLTg2OTgtMDI3MGY2OWQzMDE2XkEyXkFqcGdeQXVyMTQxNzMzNDI@.jpg width=\"120\"\"></td><td><img src=https://m.media-amazon.com/images/M/MV5BODhlNGJjMWQtZGMyYS00MzJhLWJhZGMtY2NlNDI5Nzg5NTU2XkEyXkFqcGdeQXVyNDk3NzU2MTQ@.jpg width=\"120\"\"></td><td><img src=https://m.media-amazon.com/images/M/MV5BMTM2MTM4MzY2OV5BMl5BanBnXkFtZTcwNjQ3NzI4NA@@.jpg width=\"120\"\"></td><td><img src=https://m.media-amazon.com/images/M/MV5BZTg4NTkzMDEtM2MzOS00MDE1LWJmYWItYzdiMGRiNTdmZmFkXkEyXkFqcGdeQXVyNjUwNzk3NDc@.jpg width=\"120\"\"></td><td><img src=https://m.media-amazon.com/images/M/MV5BYTliYWU3ZGEtNjkwYi00ZWQ3LTlhOTgtNTQ4YzhmMjVjY2EwXkEyXkFqcGdeQXVyMjMwNDgzNjc@.jpg width=\"120\"\"></td><td><img src=https://m.media-amazon.com/images/M/MV5BMjAyNDEyMzc4Ml5BMl5BanBnXkFtZTgwMjEzNjM0NTM@.jpg width=\"120\"\"></td></tr><tr><td><img src=https://m.media-amazon.com/images/M/MV5BMDMzZDkyNzEtYTY5Ni00NzlhLWI4MzUtY2UzNjNmMjI1YzIzXkEyXkFqcGdeQXVyMDM2NDM2MQ@@.jpg width=\"120\"\"></td><td><img src=https://m.media-amazon.com/images/M/MV5BNDVkYjU0MzctMWRmZi00NTkxLTgwZWEtOWVhYjZlYjllYmU4XkEyXkFqcGdeQXVyNTA4NzY1MzY@.jpg width=\"120\"\"></td><td><img src=https://m.media-amazon.com/images/M/MV5BODI0MzdhODAtNDMwNi00NGZlLTg1Y2YtN2M5ZGFmOThkZGM3XkEyXkFqcGdeQXVyMTkxNjUyNQ@@.jpg width=\"120\"\"></td><td><img src=https://m.media-amazon.com/images/M/MV5BZjFmOGUzMGYtMGYyMS00MzQyLTg2MGEtNzJjMjFlNDkyZGYxXkEyXkFqcGdeQXVyMTEyMjM2NDc2.jpg width=\"120\"\"></td><td><img src=https://m.media-amazon.com/images/M/MV5BY2FmZTY5YTktOWRlYy00NmIyLWE0ZmQtZDg2YjlmMzczZDZiXkEyXkFqcGdeQXVyNjg4NzAyOTA@.jpg width=\"120\"\"></td><td><img src=https://m.media-amazon.com/images/M/MV5BYTcyNmY4ZGEtYmE4Zi00ZDViLTlmYzMtMmQ4ZTM4OWNmZjQxXkEyXkFqcGdeQXVyMTkxNjUyNQ@@.jpg width=\"120\"\"></td><td><img src=https://m.media-amazon.com/images/M/MV5BMzM1ZDY0YTktZTYzZi00MjZjLTllMDMtMmNlMmM5NmY4ZjllXkEyXkFqcGdeQXVyMTA1OTcyNDQ4.jpg width=\"120\"\"></td><td><img src=https://m.media-amazon.com/images/M/MV5BOGQwMjA2NzItNmJjYS00MDQ4LWJiZmYtNjgyZjFlNTY0MjQ0XkEyXkFqcGdeQXVyODk4OTc3MTY@.jpg width=\"120\"\"></td><td><img src=https://m.media-amazon.com/images/M/MV5BMTYxNDMyOTAxN15BMl5BanBnXkFtZTgwMDg1ODYzNTM@.jpg width=\"120\"\"></td><td><img src=https://m.media-amazon.com/images/M/MV5BMjM2MTg0MDUtZTMwOS00MTk3LTkzZWQtOTQ0ODY4MTI3MTMxXkEyXkFqcGdeQXVyMTM1MTE1NDMx.jpg width=\"120\"\"></td><td><img src=https://m.media-amazon.com/images/M/MV5BNGEyNDRjM2QtY2VlYy00OWRhLWI4N2UtZTM4NDc0MGM0YzBkXkEyXkFqcGdeQXVyNjk1Njg5NTA@.jpg width=\"120\"\"></td><td><img src=https://m.media-amazon.com/images/M/MV5BMTcyMTMzNzE5N15BMl5BanBnXkFtZTcwNzg5NjM5Nw@@.jpg width=\"120\"\"></td><td><img src=https://m.media-amazon.com/images/M/MV5BMTU5MDYzMzQ2Nl5BMl5BanBnXkFtZTgwMDE3MzU4MTI@.jpg width=\"120\"\"></td><td><img src=https://m.media-amazon.com/images/M/MV5BYzkxMzMzOTgtNmZhMS00MGM0LTk3MzUtMjE1MzI4MzU5ZjkzXkEyXkFqcGdeQXVyMDA4NzMyOA@@.jpg width=\"120\"\"></td><td><img src=https://m.media-amazon.com/images/M/MV5BY2U2OTQxODUtZTUyMy00NzJhLWI5ZTktY2FiYjE5MmFiNWRlXkEyXkFqcGdeQXVyODExNTExMTM@.jpg width=\"120\"\"></td><td><img src=https://m.media-amazon.com/images/M/MV5BYTdjN2JkMGMtMGY5OC00ZDIwLWJiMDAtNzhmOTMyZTRmNGU3XkEyXkFqcGdeQXVyMTkxNjUyNQ@@.jpg width=\"120\"\"></td><td><img src=https://m.media-amazon.com/images/M/MV5BZDg3MGNhYjItZGU2Yi00MzU4LWE4NGUtYjA2OTVjNGUyMjE4XkEyXkFqcGdeQXVyNjg4NzAyOTA@.jpg width=\"120\"\"></td><td><img src=https://m.media-amazon.com/images/M/MV5BNmQ4Zjg1YWYtMTA1Mi00ZGY1LTlmN2ItYTc5ODkzNTFmYWVhXkEyXkFqcGdeQXVyNjQ0OTk1ODg@.jpg width=\"120\"\"></td><td><img src=https://m.media-amazon.com/images/M/MV5BMTkxNTk1ODcxNl5BMl5BanBnXkFtZTcwMDI1OTMzOQ@@.jpg width=\"120\"\"></td><td><img src=https://m.media-amazon.com/images/M/MV5BMzBmOGQ0NWItOTZjZC00ZDAxLTgyOTEtODJiYWQ2YWNiYWVjXkEyXkFqcGdeQXVyNTE1NjY5Mg@@.jpg width=\"120\"\"></td></tr><tr><td><img src=https://m.media-amazon.com/images/M/MV5BOWYzN2Q0NTYtODEzMi00YWMxLWE3MDMtZGUwNGM4NjMxMzQ4XkEyXkFqcGdeQXVyODk4OTc3MTY@.jpg width=\"120\"\"></td><td><img src=https://m.media-amazon.com/images/M/MV5BYjdjNzBmYjEtM2Y5My00YjI0LWJjY2YtOGQ4MjNkNmE2MDVjXkEyXkFqcGdeQXVyMTEyMjM2NDc2.jpg width=\"120\"\"></td><td><img src=https://m.media-amazon.com/images/M/MV5BZDE0ODVlYjktNjJiMC00ODk4LWIwNTktMWRhZmZiOGFhYmUwXkEyXkFqcGdeQXVyMTkxNjUyNQ@@.jpg width=\"120\"\"></td><td><img src=https://m.media-amazon.com/images/M/MV5BYjIyOGU1NzAtODZmYi00NGMzLWJiMjItNGNjNTFjOTM5ZDJhXkEyXkFqcGdeQXVyMTEyMjM2NDc2.jpg width=\"120\"\"></td><td><img src=https://m.media-amazon.com/images/M/MV5BZGJjYzhjYTYtMDBjYy00OWU1LTg5OTYtNmYwOTZmZjE3ZDdhXkEyXkFqcGdeQXVyNTAyODkwOQ@@.jpg width=\"120\"\"></td><td><img src=https://m.media-amazon.com/images/M/MV5BYmQzNmY3YzItOTE3OC00NGZjLTkwZDYtOWVmM2QyMzhiYTgwXkEyXkFqcGdeQXVyMTkxNjUyNQ@@.jpg width=\"120\"\"></td><td><img src=https://m.media-amazon.com/images/M/MV5BMTNkNGYyMTYtZjQ3NC00YWRkLWFjMzctOWIzMjg1OTZlMzVmXkEyXkFqcGdeQXVyMTEyMjM2NDc2.jpg width=\"120\"\"></td><td><img src=https://m.media-amazon.com/images/M/MV5BMzE3ZDA4OWItOGY2ZC00MzVmLTk0Y2QtNzEzMjc5YWI5ZWFiXkEyXkFqcGdeQXVyMTEyMjM2NDc2.jpg width=\"120\"\"></td><td><img src=https://m.media-amazon.com/images/M/MV5BMzE0MDNiNDMtZTQ4Ni00MmQ4LTk4YzktZjFkYTVmODEzMDc2XkEyXkFqcGdeQXVyNTE1NjY5Mg@@.jpg width=\"120\"\"></td><td><img src=https://m.media-amazon.com/images/M/MV5BZjgxODgwNTEtYjMyNC00NmM3LWEzN2QtN2RmOWY0ZDI2NmJmXkEyXkFqcGdeQXVyMTEyMjM2NDc2.jpg width=\"120\"\"></td><td><img src=https://m.media-amazon.com/images/M/MV5BZTcyODBlMjktYzgyMy00YTczLWI3ZDktYmY3Y2JjODE2MzZhXkEyXkFqcGdeQXVyMTkxNjUyNQ@@.jpg width=\"120\"\"></td><td><img src=https://m.media-amazon.com/images/M/MV5BMTI1NTdiZDgtM2RiZC00OGI0LWI5NDAtNzJmMjYzYjE5NmNiXkEyXkFqcGdeQXVyMzQ2MDI5NjU@.jpg width=\"120\"\"></td><td><img src=https://m.media-amazon.com/images/M/MV5BYTE2MTcwZmYtNDk2OC00YzkwLTllYjgtMmJkODczZTkxNjllXkEyXkFqcGdeQXVyMTMxNjUyMDkx.jpg width=\"120\"\"></td><td><img src=https://m.media-amazon.com/images/M/MV5BNzY5YTcxMWYtYjFkZi00ZmI3LThmYjgtMzY0YjQzZWFkNzQ4XkEyXkFqcGdeQXVyMTkxNjUyNQ@@.jpg width=\"120\"\"></td><td><img src=https://m.media-amazon.com/images/M/MV5BYjNmOWIyYTUtODcyOC00YzA5LWJhYzQtOGNhNmE4NjVlYjg0XkEyXkFqcGdeQXVyMTEyMjM2NDc2.jpg width=\"120\"\"></td><td><img src=https://m.media-amazon.com/images/M/MV5BNTllYzFhMjAtZjExNS00MjM4LWE5YmMtOGFiZGRlOTU5YzJiXkEyXkFqcGdeQXVyNDIzMzcwNjc@.jpg width=\"120\"\"></td><td><img src=https://m.media-amazon.com/images/M/MV5BZTNiYjcxM2UtOGE3NC00OGU1LTk2ZTgtYTYxODFiMDQzYjI1XkEyXkFqcGdeQXVyODc0OTEyNDU@.jpg width=\"120\"\"></td><td><img src=https://m.media-amazon.com/images/M/MV5BN2Y4ODk2ZTQtMzFjOS00MzlhLWFhN2YtYzBiYmRmNzFhYjY0XkEyXkFqcGdeQXVyMTEyMjM2NDc2.jpg width=\"120\"\"></td><td><img src=https://m.media-amazon.com/images/M/MV5BODJjMmFiYjMtNjJjMS00MzZlLTkwMDgtMzFkMjAyN2ZlMDdjXkEyXkFqcGdeQXVyMTAyMjQ3NzQ1.jpg width=\"120\"\"></td><td><img src=https://m.media-amazon.com/images/M/MV5BYjE3NzQ4NzctYThlYi00MmQ2LWIwOTktY2NlN2I1NGE5MTBhXkEyXkFqcGdeQXVyNTE1NjY5Mg@@.jpg width=\"120\"\"></td></tr><tr><td><img src=https://m.media-amazon.com/images/M/MV5BZjBiOGIyY2YtOTA3OC00YzY1LThkYjktMGRkYTNhNTExY2I2XkEyXkFqcGdeQXVyMTEyMjM2NDc2.jpg width=\"120\"\"></td><td><img src=https://m.media-amazon.com/images/M/MV5BYTRiNDQwYzAtMzVlZS00NTI5LWJjYjUtMzkwNTUzMWMxZTllXkEyXkFqcGdeQXVyNDIzMzcwNjc@.jpg width=\"120\"\"></td><td><img src=https://m.media-amazon.com/images/M/MV5BOGFlNTdmYWQtM2IzMi00YTY3LTlmMDQtZDI5NGQ5MjYzZmEwXkEyXkFqcGdeQXVyNjY1MTg4Mzc@.jpg width=\"120\"\"></td><td><img src=https://m.media-amazon.com/images/M/MV5BMDAxMmQ0NTAtNDllNC00ZjE2LTlkNjUtMmExNmY0MmNkMDQ0XkEyXkFqcGdeQXVyNzYyOTM1ODI@.jpg width=\"120\"\"></td><td><img src=https://m.media-amazon.com/images/M/MV5BMjA2ZTIxYjktMWUwMi00MDU5LTlmMDYtMTI4ODc1MDY4YzNjXkEyXkFqcGdeQXVyMTkxNjUyNQ@@.jpg width=\"120\"\"></td><td><img src=https://m.media-amazon.com/images/M/MV5BZDg1OWRiMTktZDdiNy00NTZlLTg2Y2EtNWRiMTcxMGE5YTUxXkEyXkFqcGdeQXVyMTM2MDY0OTYx.jpg width=\"120\"\"></td><td><img src=https://m.media-amazon.com/images/M/MV5BYzMzNTJjYmMtZTkxNS00MjI4LWI3YmQtOTQ4MDZjZDJlZjQyXkEyXkFqcGdeQXVyNjc0NzQzNTM@.jpg width=\"120\"\"></td><td><img src=https://m.media-amazon.com/images/M/MV5BNTRlMTg4NWYtZmRiNS00YWE0LWFkZTMtNjk5Yzc3NGE0ZTE0XkEyXkFqcGdeQXVyMzY0MTE3NzU@.jpg width=\"120\"\"></td><td><img src=https://m.media-amazon.com/images/M/MV5BMjJjZGRhM2YtNTU4NC00OWMwLThhYWUtMWUxNDNhMDZlOTNmXkEyXkFqcGdeQXVyODE5NzE3OTE@.jpg width=\"120\"\"></td><td><img src=https://m.media-amazon.com/images/M/MV5BODEyOWY2ZDctOGI3Zi00YjYwLWIwZDEtMzJlY2VhYTA2N2ViXkEyXkFqcGdeQXVyMTEyMjM2NDc2.jpg width=\"120\"\"></td><td><img src=https://m.media-amazon.com/images/M/MV5BNjI4ZTQ1OTYtNTI0Yi00M2EyLThiNjMtMzk1MmZlOWMyMDQwXkEyXkFqcGdeQXVyMTEyMjM2NDc2.jpg width=\"120\"\"></td><td><img src=https://m.media-amazon.com/images/M/MV5BZGExZTUzYWQtYWJjZi00OTI4LTk4OGYtNTA2YzcwMmNiZTMxXkEyXkFqcGdeQXVyMTEyMjM2NDc2.jpg width=\"120\"\"></td><td><img src=https://m.media-amazon.com/images/M/MV5BZWMxZWMxOTktYjU1Yi00ZmQyLTk0NzctYmM0MmU1YmYwZjc5XkEyXkFqcGdeQXVyMDM2NDM2MQ@@.jpg width=\"120\"\"></td><td><img src=https://m.media-amazon.com/images/M/MV5BNWI2ZDQxZDQtZDMxZi00ZWFhLTg1OGYtYmFkMjRkMDc2NDNkXkEyXkFqcGdeQXVyMTkxNjUyNQ@@.jpg width=\"120\"\"></td><td><img src=https://m.media-amazon.com/images/M/MV5BZDBmZWUwZTctMTI5My00ZjFiLTgyOWEtMzJiOTZhNmRhYTZhXkEyXkFqcGdeQXVyMTA1OTAyOTI@.jpg width=\"120\"\"></td><td><img src=https://m.media-amazon.com/images/M/MV5BYjFmOWUwYjgtM2UyYS00M2FmLTgwNmUtMWIwNTc2ZTgzNmRhXkEyXkFqcGdeQXVyMTEyMjM2NDc2.jpg width=\"120\"\"></td><td><img src=https://m.media-amazon.com/images/M/MV5BM2FlYzgyZDYtYzI0ZS00YThiLTg4N2EtNmViMDdmMTcyNWU0XkEyXkFqcGdeQXVyMTkxNjUyNQ@@.jpg width=\"120\"\"></td><td><img src=https://m.media-amazon.com/images/M/MV5BZWJhYjFmZDEtNTVlYy00NGExLWJhZWItNTAxODY5YTc3MDFmXkEyXkFqcGdeQXVyMTkxNjUyNQ@@.jpg width=\"120\"\"></td><td><img src=https://m.media-amazon.com/images/M/MV5BOTI4NDhhNGEtZjQxZC00ZTRmLThmZTctOGJmY2ZlOTc0ZGY0XkEyXkFqcGdeQXVyMTkxNjUyNQ@@.jpg width=\"120\"\"></td><td><img src=https://m.media-amazon.com/images/M/MV5BNGNhN2I2NzEtMzFiMy00Y2IzLTk0OTctNjcxZmYwYjIyMzEzXkEyXkFqcGdeQXVyNjY1MTg4Mzc@.jpg width=\"120\"\"></td></tr></table>"
      ],
      "text/plain": [
       "<IPython.core.display.HTML object>"
      ]
     },
     "metadata": {},
     "output_type": "display_data"
    }
   ],
   "source": [
    "\n",
    "from IPython.display import HTML, display,IFrame\n",
    "display(HTML(htmlstr))"
   ]
  },
  {
   "cell_type": "markdown",
   "metadata": {},
   "source": [
    "# Assgining the rest titles "
   ]
  },
  {
   "cell_type": "code",
   "execution_count": 51,
   "metadata": {},
   "outputs": [],
   "source": [
    "input_master_full = aos_master.copy()"
   ]
  },
  {
   "cell_type": "code",
   "execution_count": 52,
   "metadata": {},
   "outputs": [],
   "source": [
    "input_master_full.drop(['unnamed: 0', 'dt'], axis = 1, inplace = True)\n",
    "input_master_full.drop_duplicates(inplace = True)\n",
    "input_master_full=input_master_full[(input_master_full['level_1_catg_name_1'].isin(['series', 'movies', 'special']))\n",
    "                                   &(input_master_full['level_1_catg_name_2'].isin(['series', 'movies', 'special']))]\n",
    "input_master_full = input_master_full.rename(columns = {'consolidated_title_1':'title_1', 'consolidated_title_2':'title_2'})"
   ]
  },
  {
   "cell_type": "code",
   "execution_count": 56,
   "metadata": {},
   "outputs": [],
   "source": [
    "input_index_full = input_master_full[['consolidated_id_1', 'title_1']].drop_duplicates()\n",
    "input_index_full = input_index_full.reset_index(drop=True).reset_index()\n",
    "input_index_full = input_index_full.rename(columns = {'consolidated_id_1':'title_id', 'title_1':'title'})"
   ]
  },
  {
   "cell_type": "code",
   "execution_count": 57,
   "metadata": {},
   "outputs": [],
   "source": [
    "input_master_full = input_master_full.merge(input_index_full.drop(['title'], axis = 1).rename(columns = {'index':'index_1', 'title_id':'consolidated_id_1'}), \n",
    "                                            on = ['consolidated_id_1'])\n",
    "input_master_full = input_master_full.merge(input_index_full.drop(['title'], axis = 1).rename(columns = {'index':'index_2', 'title_id':'consolidated_id_2'}), \n",
    "                                            on = ['consolidated_id_2'])"
   ]
  },
  {
   "cell_type": "code",
   "execution_count": 58,
   "metadata": {},
   "outputs": [],
   "source": [
    "input_master_full = input_master_full.groupby(['title_1', 'title_2', 'consolidated_id_1', 'consolidated_id_2']).first().reset_index()"
   ]
  },
  {
   "cell_type": "code",
   "execution_count": 59,
   "metadata": {},
   "outputs": [
    {
     "data": {
      "text/html": [
       "<div>\n",
       "<style scoped>\n",
       "    .dataframe tbody tr th:only-of-type {\n",
       "        vertical-align: middle;\n",
       "    }\n",
       "\n",
       "    .dataframe tbody tr th {\n",
       "        vertical-align: top;\n",
       "    }\n",
       "\n",
       "    .dataframe thead th {\n",
       "        text-align: right;\n",
       "    }\n",
       "</style>\n",
       "<table border=\"1\" class=\"dataframe\">\n",
       "  <thead>\n",
       "    <tr style=\"text-align: right;\">\n",
       "      <th></th>\n",
       "      <th>title_1</th>\n",
       "      <th>title_2</th>\n",
       "      <th>consolidated_id_1</th>\n",
       "      <th>consolidated_id_2</th>\n",
       "      <th>aos</th>\n",
       "      <th>level_1_catg_name_1</th>\n",
       "      <th>level_1_catg_name_2</th>\n",
       "      <th>index_1</th>\n",
       "      <th>index_2</th>\n",
       "    </tr>\n",
       "  </thead>\n",
       "  <tbody>\n",
       "    <tr>\n",
       "      <th>5018628</th>\n",
       "      <td>euphoria</td>\n",
       "      <td>the batman</td>\n",
       "      <td>GXKN_xQX5csPDwwEAAABj</td>\n",
       "      <td>GYBrk8w7eqcNxrgEAAAAC</td>\n",
       "      <td>0.257515</td>\n",
       "      <td>series</td>\n",
       "      <td>series</td>\n",
       "      <td>1</td>\n",
       "      <td>549</td>\n",
       "    </tr>\n",
       "    <tr>\n",
       "      <th>5018629</th>\n",
       "      <td>euphoria</td>\n",
       "      <td>the batman</td>\n",
       "      <td>GXKN_xQX5csPDwwEAAABj</td>\n",
       "      <td>GYiDbSAmIpMNvYAEAAAAI</td>\n",
       "      <td>0.606992</td>\n",
       "      <td>series</td>\n",
       "      <td>movies</td>\n",
       "      <td>1</td>\n",
       "      <td>5</td>\n",
       "    </tr>\n",
       "  </tbody>\n",
       "</table>\n",
       "</div>"
      ],
      "text/plain": [
       "          title_1     title_2      consolidated_id_1      consolidated_id_2  \\\n",
       "5018628  euphoria  the batman  GXKN_xQX5csPDwwEAAABj  GYBrk8w7eqcNxrgEAAAAC   \n",
       "5018629  euphoria  the batman  GXKN_xQX5csPDwwEAAABj  GYiDbSAmIpMNvYAEAAAAI   \n",
       "\n",
       "              aos level_1_catg_name_1 level_1_catg_name_2  index_1  index_2  \n",
       "5018628  0.257515              series              series        1      549  \n",
       "5018629  0.606992              series              movies        1        5  "
      ]
     },
     "execution_count": 59,
     "metadata": {},
     "output_type": "execute_result"
    }
   ],
   "source": [
    "input_master_full[(input_master_full['title_1'] == 'euphoria')\n",
    "                 &(input_master_full['title_2'] == 'the batman')]"
   ]
  },
  {
   "cell_type": "code",
   "execution_count": 29,
   "metadata": {},
   "outputs": [],
   "source": [
    "# Turn input row-based table into a pivoted, square matrix\n",
    "audience_overlap_all_titles = pd.pivot_table(\n",
    "    input_master_full, \n",
    "    values='aos', \n",
    "    index=['index_1'],\n",
    "    columns=['index_2'], \n",
    "    aggfunc=np.sum\n",
    ")\n",
    "audience_overlap_all_titles = audience_overlap_all_titles.reset_index()\n",
    "audience_overlap_all_titles = audience_overlap_all_titles.set_index('index_1')"
   ]
  },
  {
   "cell_type": "code",
   "execution_count": 30,
   "metadata": {},
   "outputs": [
    {
     "data": {
      "text/plain": [
       "(4356, 4356)"
      ]
     },
     "execution_count": 30,
     "metadata": {},
     "output_type": "execute_result"
    }
   ],
   "source": [
    "audience_overlap_all_titles.shape"
   ]
  },
  {
   "cell_type": "code",
   "execution_count": 89,
   "metadata": {},
   "outputs": [
    {
     "data": {
      "text/html": [
       "<div>\n",
       "<style scoped>\n",
       "    .dataframe tbody tr th:only-of-type {\n",
       "        vertical-align: middle;\n",
       "    }\n",
       "\n",
       "    .dataframe tbody tr th {\n",
       "        vertical-align: top;\n",
       "    }\n",
       "\n",
       "    .dataframe thead th {\n",
       "        text-align: right;\n",
       "    }\n",
       "</style>\n",
       "<table border=\"1\" class=\"dataframe\">\n",
       "  <thead>\n",
       "    <tr style=\"text-align: right;\">\n",
       "      <th>index_2</th>\n",
       "      <th>0</th>\n",
       "      <th>1</th>\n",
       "      <th>2</th>\n",
       "    </tr>\n",
       "    <tr>\n",
       "      <th>index_1</th>\n",
       "      <th></th>\n",
       "      <th></th>\n",
       "      <th></th>\n",
       "    </tr>\n",
       "  </thead>\n",
       "  <tbody>\n",
       "    <tr>\n",
       "      <th>0</th>\n",
       "      <td>1.000000</td>\n",
       "      <td>0.482156</td>\n",
       "      <td>0.516615</td>\n",
       "    </tr>\n",
       "    <tr>\n",
       "      <th>1</th>\n",
       "      <td>0.482156</td>\n",
       "      <td>1.000000</td>\n",
       "      <td>0.745912</td>\n",
       "    </tr>\n",
       "    <tr>\n",
       "      <th>2</th>\n",
       "      <td>0.516615</td>\n",
       "      <td>0.745912</td>\n",
       "      <td>1.000000</td>\n",
       "    </tr>\n",
       "  </tbody>\n",
       "</table>\n",
       "</div>"
      ],
      "text/plain": [
       "index_2         0         1         2\n",
       "index_1                              \n",
       "0        1.000000  0.482156  0.516615\n",
       "1        0.482156  1.000000  0.745912\n",
       "2        0.516615  0.745912  1.000000"
      ]
     },
     "execution_count": 89,
     "metadata": {},
     "output_type": "execute_result"
    }
   ],
   "source": [
    "audience_overlap_all_titles.iloc[0:3, 0:3]"
   ]
  },
  {
   "cell_type": "code",
   "execution_count": 90,
   "metadata": {},
   "outputs": [],
   "source": [
    "distance_matrix_all_titles = 1 - audience_overlap_all_titles.iloc[:, :]"
   ]
  },
  {
   "cell_type": "code",
   "execution_count": 91,
   "metadata": {},
   "outputs": [],
   "source": [
    "distance_matrix_all_titles = distance_matrix_all_titles.fillna(0)"
   ]
  },
  {
   "cell_type": "code",
   "execution_count": 69,
   "metadata": {},
   "outputs": [],
   "source": [
    "# convert the redundant n*n square matrix form into a condensed nC2 array\n",
    "# distance_matrix[{n choose 2}-{n-i choose 2} + (j-i-1)] is the distance between points i and j\n",
    "# distance_matrix_all_titles = squareform(distance_matrix_all_titles)"
   ]
  },
  {
   "cell_type": "code",
   "execution_count": 70,
   "metadata": {},
   "outputs": [],
   "source": [
    "import matplotlib.pyplot as plt\n",
    "from scipy.cluster import hierarchy"
   ]
  },
  {
   "cell_type": "code",
   "execution_count": 71,
   "metadata": {},
   "outputs": [],
   "source": [
    "# Clusters have been defined by an elbow curve approach and also silhouette to confirm\n",
    "z = linkage(distance_matrix_all_titles, method='ward', optimal_ordering=True)"
   ]
  },
  {
   "cell_type": "code",
   "execution_count": 86,
   "metadata": {},
   "outputs": [
    {
     "data": {
      "text/html": [
       "<div>\n",
       "<style scoped>\n",
       "    .dataframe tbody tr th:only-of-type {\n",
       "        vertical-align: middle;\n",
       "    }\n",
       "\n",
       "    .dataframe tbody tr th {\n",
       "        vertical-align: top;\n",
       "    }\n",
       "\n",
       "    .dataframe thead th {\n",
       "        text-align: right;\n",
       "    }\n",
       "</style>\n",
       "<table border=\"1\" class=\"dataframe\">\n",
       "  <thead>\n",
       "    <tr style=\"text-align: right;\">\n",
       "      <th></th>\n",
       "      <th>index</th>\n",
       "      <th>consolidated_id</th>\n",
       "      <th>title_id</th>\n",
       "      <th>acquiring_power</th>\n",
       "      <th>cluster</th>\n",
       "      <th>imdb_id</th>\n",
       "      <th>title_name</th>\n",
       "    </tr>\n",
       "  </thead>\n",
       "  <tbody>\n",
       "    <tr>\n",
       "      <th>0</th>\n",
       "      <td>0</td>\n",
       "      <td>GYsYeoAxKH8LCwgEAAAOR</td>\n",
       "      <td>GYsYeoAxKH8LCwgEAAAOR</td>\n",
       "      <td>16441734.0</td>\n",
       "      <td>1</td>\n",
       "      <td>tt11198330</td>\n",
       "      <td>House of the Dragon</td>\n",
       "    </tr>\n",
       "    <tr>\n",
       "      <th>1</th>\n",
       "      <td>1</td>\n",
       "      <td>GXKN_xQX5csPDwwEAAABj</td>\n",
       "      <td>GXKN_xQX5csPDwwEAAABj</td>\n",
       "      <td>18618036.0</td>\n",
       "      <td>3</td>\n",
       "      <td>tt8772296</td>\n",
       "      <td>Euphoria</td>\n",
       "    </tr>\n",
       "    <tr>\n",
       "      <th>2</th>\n",
       "      <td>2</td>\n",
       "      <td>GXr7SEgRi2sLCAAEAAAQu</td>\n",
       "      <td>GXr7SEgRi2sLCAAEAAAQu</td>\n",
       "      <td>11799606.0</td>\n",
       "      <td>6</td>\n",
       "      <td>tt0121955</td>\n",
       "      <td>South Park</td>\n",
       "    </tr>\n",
       "    <tr>\n",
       "      <th>3</th>\n",
       "      <td>3</td>\n",
       "      <td>GXdbR_gOXWJuAuwEAACVH</td>\n",
       "      <td>GXdbR_gOXWJuAuwEAACVH</td>\n",
       "      <td>10537954.0</td>\n",
       "      <td>3</td>\n",
       "      <td>tt0108778</td>\n",
       "      <td>Friends</td>\n",
       "    </tr>\n",
       "    <tr>\n",
       "      <th>4</th>\n",
       "      <td>4</td>\n",
       "      <td>GVU2cggagzYNJjhsJATwo</td>\n",
       "      <td>GVU2cggagzYNJjhsJATwo</td>\n",
       "      <td>14870897.0</td>\n",
       "      <td>1</td>\n",
       "      <td>tt0944947</td>\n",
       "      <td>Game of Thrones</td>\n",
       "    </tr>\n",
       "  </tbody>\n",
       "</table>\n",
       "</div>"
      ],
      "text/plain": [
       "   index        consolidated_id               title_id  acquiring_power  \\\n",
       "0      0  GYsYeoAxKH8LCwgEAAAOR  GYsYeoAxKH8LCwgEAAAOR       16441734.0   \n",
       "1      1  GXKN_xQX5csPDwwEAAABj  GXKN_xQX5csPDwwEAAABj       18618036.0   \n",
       "2      2  GXr7SEgRi2sLCAAEAAAQu  GXr7SEgRi2sLCAAEAAAQu       11799606.0   \n",
       "3      3  GXdbR_gOXWJuAuwEAACVH  GXdbR_gOXWJuAuwEAACVH       10537954.0   \n",
       "4      4  GVU2cggagzYNJjhsJATwo  GVU2cggagzYNJjhsJATwo       14870897.0   \n",
       "\n",
       "   cluster     imdb_id           title_name  \n",
       "0        1  tt11198330  House of the Dragon  \n",
       "1        3   tt8772296             Euphoria  \n",
       "2        6   tt0121955           South Park  \n",
       "3        3   tt0108778              Friends  \n",
       "4        1   tt0944947      Game of Thrones  "
      ]
     },
     "execution_count": 86,
     "metadata": {},
     "output_type": "execute_result"
    }
   ],
   "source": [
    "result.head()"
   ]
  },
  {
   "cell_type": "code",
   "execution_count": 75,
   "metadata": {},
   "outputs": [],
   "source": [
    "result_map = result[['index', 'cluster']].set_index('index').to_dict()['cluster']"
   ]
  },
  {
   "cell_type": "code",
   "execution_count": 88,
   "metadata": {},
   "outputs": [
    {
     "data": {
      "text/plain": [
       "array([0.51784365, 0.48338509, 0.34205906, ..., 0.        , 0.        ,\n",
       "       0.        ])"
      ]
     },
     "execution_count": 88,
     "metadata": {},
     "output_type": "execute_result"
    }
   ],
   "source": [
    "distance_matrix_all_titles"
   ]
  },
  {
   "cell_type": "code",
   "execution_count": 92,
   "metadata": {},
   "outputs": [
    {
     "name": "stdout",
     "output_type": "stream",
     "text": [
      "Cluster list: [1 3 6 7 2 5 4]\n",
      "Number of titles given a cluster assignment: 3569\n"
     ]
    }
   ],
   "source": [
    "cluster_list = result['cluster'].unique()\n",
    "print(f'Cluster list: {cluster_list}')\n",
    "\n",
    "count = 0\n",
    "cluster_assignment = {}\n",
    "temp_dict = {}\n",
    "verbose = False\n",
    "\n",
    "for i in range(audience_overlap_all_titles.shape[0]):\n",
    "\n",
    "    if i not in result_map:\n",
    "        \n",
    "        for cluster_number in cluster_list:\n",
    "            \n",
    "            cluster_members_index = result[result.cluster == cluster_number]['index'].tolist()\n",
    "            distance = [float(distance_matrix_all_titles[i][index]) for index in cluster_members_index]\n",
    "            \n",
    "            # Average distance (similarity) to the cluster members\n",
    "            temp_dict[cluster_number] = sum(distance) / (1.0*len(distance))\n",
    "            \n",
    "        cluster_assignment[i] = min(temp_dict.keys(), key=(lambda k: temp_dict[k]))\n",
    "        if verbose:\n",
    "            print(f'Cluster with minimum distance: {cluster_assignment[i]}')\n",
    "        \n",
    "        count += 1\n",
    "    else:\n",
    "        cluster_assignment[i] = result_map[i]\n",
    "print(f'Number of titles given a cluster assignment: {count}')"
   ]
  },
  {
   "cell_type": "code",
   "execution_count": 93,
   "metadata": {},
   "outputs": [],
   "source": [
    "scoring_df = pd.DataFrame(cluster_assignment.items(), columns=['index', 'cluster'])\n",
    "assignments = input_index_full.merge(scoring_df, on='index', how='inner')"
   ]
  },
  {
   "cell_type": "code",
   "execution_count": 96,
   "metadata": {},
   "outputs": [
    {
     "data": {
      "text/html": [
       "<div>\n",
       "<style scoped>\n",
       "    .dataframe tbody tr th:only-of-type {\n",
       "        vertical-align: middle;\n",
       "    }\n",
       "\n",
       "    .dataframe tbody tr th {\n",
       "        vertical-align: top;\n",
       "    }\n",
       "\n",
       "    .dataframe thead th {\n",
       "        text-align: right;\n",
       "    }\n",
       "</style>\n",
       "<table border=\"1\" class=\"dataframe\">\n",
       "  <thead>\n",
       "    <tr style=\"text-align: right;\">\n",
       "      <th></th>\n",
       "      <th>index</th>\n",
       "      <th>title_id</th>\n",
       "      <th>title</th>\n",
       "      <th>cluster</th>\n",
       "    </tr>\n",
       "  </thead>\n",
       "  <tbody>\n",
       "    <tr>\n",
       "      <th>4565</th>\n",
       "      <td>4565</td>\n",
       "      <td>GXmlR3Qgp2Z4_wwEAAC_l</td>\n",
       "      <td>l'amore</td>\n",
       "      <td>1</td>\n",
       "    </tr>\n",
       "    <tr>\n",
       "      <th>4566</th>\n",
       "      <td>4566</td>\n",
       "      <td>GXnAoSQIkkg4eoAEAABbr</td>\n",
       "      <td>senso</td>\n",
       "      <td>1</td>\n",
       "    </tr>\n",
       "    <tr>\n",
       "      <th>4567</th>\n",
       "      <td>4567</td>\n",
       "      <td>GXmlR8QlPaJ4_wwEAADAK</td>\n",
       "      <td>the grand olympics</td>\n",
       "      <td>1</td>\n",
       "    </tr>\n",
       "    <tr>\n",
       "      <th>4568</th>\n",
       "      <td>4568</td>\n",
       "      <td>GYMdjFgMVoLqjfwEAAAAQ</td>\n",
       "      <td>the white stadium</td>\n",
       "      <td>1</td>\n",
       "    </tr>\n",
       "    <tr>\n",
       "      <th>4569</th>\n",
       "      <td>4569</td>\n",
       "      <td>GWSMFhAH5XYqXwgEAAACj</td>\n",
       "      <td>hacksaw ridge</td>\n",
       "      <td>1</td>\n",
       "    </tr>\n",
       "  </tbody>\n",
       "</table>\n",
       "</div>"
      ],
      "text/plain": [
       "      index               title_id               title  cluster\n",
       "4565   4565  GXmlR3Qgp2Z4_wwEAAC_l             l'amore        1\n",
       "4566   4566  GXnAoSQIkkg4eoAEAABbr               senso        1\n",
       "4567   4567  GXmlR8QlPaJ4_wwEAADAK  the grand olympics        1\n",
       "4568   4568  GYMdjFgMVoLqjfwEAAAAQ   the white stadium        1\n",
       "4569   4569  GWSMFhAH5XYqXwgEAAACj       hacksaw ridge        1"
      ]
     },
     "execution_count": 96,
     "metadata": {},
     "output_type": "execute_result"
    }
   ],
   "source": [
    "assignments.tail()"
   ]
  },
  {
   "cell_type": "code",
   "execution_count": 98,
   "metadata": {},
   "outputs": [
    {
     "data": {
      "text/html": [
       "<div>\n",
       "<style scoped>\n",
       "    .dataframe tbody tr th:only-of-type {\n",
       "        vertical-align: middle;\n",
       "    }\n",
       "\n",
       "    .dataframe tbody tr th {\n",
       "        vertical-align: top;\n",
       "    }\n",
       "\n",
       "    .dataframe thead th {\n",
       "        text-align: right;\n",
       "    }\n",
       "</style>\n",
       "<table border=\"1\" class=\"dataframe\">\n",
       "  <thead>\n",
       "    <tr style=\"text-align: right;\">\n",
       "      <th></th>\n",
       "      <th>index</th>\n",
       "      <th>consolidated_id</th>\n",
       "      <th>title_id</th>\n",
       "      <th>acquiring_power</th>\n",
       "      <th>cluster</th>\n",
       "      <th>imdb_id</th>\n",
       "      <th>title_name</th>\n",
       "    </tr>\n",
       "  </thead>\n",
       "  <tbody>\n",
       "    <tr>\n",
       "      <th>0</th>\n",
       "      <td>0</td>\n",
       "      <td>GYsYeoAxKH8LCwgEAAAOR</td>\n",
       "      <td>GYsYeoAxKH8LCwgEAAAOR</td>\n",
       "      <td>16441734.0</td>\n",
       "      <td>1</td>\n",
       "      <td>tt11198330</td>\n",
       "      <td>House of the Dragon</td>\n",
       "    </tr>\n",
       "    <tr>\n",
       "      <th>1</th>\n",
       "      <td>1</td>\n",
       "      <td>GXKN_xQX5csPDwwEAAABj</td>\n",
       "      <td>GXKN_xQX5csPDwwEAAABj</td>\n",
       "      <td>18618036.0</td>\n",
       "      <td>3</td>\n",
       "      <td>tt8772296</td>\n",
       "      <td>Euphoria</td>\n",
       "    </tr>\n",
       "    <tr>\n",
       "      <th>2</th>\n",
       "      <td>2</td>\n",
       "      <td>GXr7SEgRi2sLCAAEAAAQu</td>\n",
       "      <td>GXr7SEgRi2sLCAAEAAAQu</td>\n",
       "      <td>11799606.0</td>\n",
       "      <td>6</td>\n",
       "      <td>tt0121955</td>\n",
       "      <td>South Park</td>\n",
       "    </tr>\n",
       "    <tr>\n",
       "      <th>3</th>\n",
       "      <td>3</td>\n",
       "      <td>GXdbR_gOXWJuAuwEAACVH</td>\n",
       "      <td>GXdbR_gOXWJuAuwEAACVH</td>\n",
       "      <td>10537954.0</td>\n",
       "      <td>3</td>\n",
       "      <td>tt0108778</td>\n",
       "      <td>Friends</td>\n",
       "    </tr>\n",
       "    <tr>\n",
       "      <th>4</th>\n",
       "      <td>4</td>\n",
       "      <td>GVU2cggagzYNJjhsJATwo</td>\n",
       "      <td>GVU2cggagzYNJjhsJATwo</td>\n",
       "      <td>14870897.0</td>\n",
       "      <td>1</td>\n",
       "      <td>tt0944947</td>\n",
       "      <td>Game of Thrones</td>\n",
       "    </tr>\n",
       "  </tbody>\n",
       "</table>\n",
       "</div>"
      ],
      "text/plain": [
       "   index        consolidated_id               title_id  acquiring_power  \\\n",
       "0      0  GYsYeoAxKH8LCwgEAAAOR  GYsYeoAxKH8LCwgEAAAOR       16441734.0   \n",
       "1      1  GXKN_xQX5csPDwwEAAABj  GXKN_xQX5csPDwwEAAABj       18618036.0   \n",
       "2      2  GXr7SEgRi2sLCAAEAAAQu  GXr7SEgRi2sLCAAEAAAQu       11799606.0   \n",
       "3      3  GXdbR_gOXWJuAuwEAACVH  GXdbR_gOXWJuAuwEAACVH       10537954.0   \n",
       "4      4  GVU2cggagzYNJjhsJATwo  GVU2cggagzYNJjhsJATwo       14870897.0   \n",
       "\n",
       "   cluster     imdb_id           title_name  \n",
       "0        1  tt11198330  House of the Dragon  \n",
       "1        3   tt8772296             Euphoria  \n",
       "2        6   tt0121955           South Park  \n",
       "3        3   tt0108778              Friends  \n",
       "4        1   tt0944947      Game of Thrones  "
      ]
     },
     "execution_count": 98,
     "metadata": {},
     "output_type": "execute_result"
    }
   ],
   "source": [
    "result.head()"
   ]
  },
  {
   "cell_type": "code",
   "execution_count": 97,
   "metadata": {},
   "outputs": [
    {
     "data": {
      "text/plain": [
       "index       4570\n",
       "title_id    4570\n",
       "title       4570\n",
       "cluster     4570\n",
       "dtype: int64"
      ]
     },
     "execution_count": 97,
     "metadata": {},
     "output_type": "execute_result"
    }
   ],
   "source": [
    "assignments.count()"
   ]
  },
  {
   "cell_type": "code",
   "execution_count": 95,
   "metadata": {},
   "outputs": [
    {
     "data": {
      "text/html": [
       "<div>\n",
       "<style scoped>\n",
       "    .dataframe tbody tr th:only-of-type {\n",
       "        vertical-align: middle;\n",
       "    }\n",
       "\n",
       "    .dataframe tbody tr th {\n",
       "        vertical-align: top;\n",
       "    }\n",
       "\n",
       "    .dataframe thead th {\n",
       "        text-align: right;\n",
       "    }\n",
       "</style>\n",
       "<table border=\"1\" class=\"dataframe\">\n",
       "  <thead>\n",
       "    <tr style=\"text-align: right;\">\n",
       "      <th></th>\n",
       "      <th>index</th>\n",
       "      <th>title_id</th>\n",
       "      <th>title</th>\n",
       "    </tr>\n",
       "    <tr>\n",
       "      <th>cluster</th>\n",
       "      <th></th>\n",
       "      <th></th>\n",
       "      <th></th>\n",
       "    </tr>\n",
       "  </thead>\n",
       "  <tbody>\n",
       "    <tr>\n",
       "      <th>1</th>\n",
       "      <td>682</td>\n",
       "      <td>682</td>\n",
       "      <td>682</td>\n",
       "    </tr>\n",
       "    <tr>\n",
       "      <th>2</th>\n",
       "      <td>1478</td>\n",
       "      <td>1478</td>\n",
       "      <td>1478</td>\n",
       "    </tr>\n",
       "    <tr>\n",
       "      <th>3</th>\n",
       "      <td>318</td>\n",
       "      <td>318</td>\n",
       "      <td>318</td>\n",
       "    </tr>\n",
       "    <tr>\n",
       "      <th>4</th>\n",
       "      <td>734</td>\n",
       "      <td>734</td>\n",
       "      <td>734</td>\n",
       "    </tr>\n",
       "    <tr>\n",
       "      <th>5</th>\n",
       "      <td>553</td>\n",
       "      <td>553</td>\n",
       "      <td>553</td>\n",
       "    </tr>\n",
       "    <tr>\n",
       "      <th>6</th>\n",
       "      <td>276</td>\n",
       "      <td>276</td>\n",
       "      <td>276</td>\n",
       "    </tr>\n",
       "    <tr>\n",
       "      <th>7</th>\n",
       "      <td>529</td>\n",
       "      <td>529</td>\n",
       "      <td>529</td>\n",
       "    </tr>\n",
       "  </tbody>\n",
       "</table>\n",
       "</div>"
      ],
      "text/plain": [
       "         index  title_id  title\n",
       "cluster                        \n",
       "1          682       682    682\n",
       "2         1478      1478   1478\n",
       "3          318       318    318\n",
       "4          734       734    734\n",
       "5          553       553    553\n",
       "6          276       276    276\n",
       "7          529       529    529"
      ]
     },
     "execution_count": 95,
     "metadata": {},
     "output_type": "execute_result"
    }
   ],
   "source": [
    "assignments.groupby(['cluster']).count()"
   ]
  },
  {
   "cell_type": "markdown",
   "metadata": {},
   "source": [
    "# Sankey Diagram"
   ]
  },
  {
   "cell_type": "code",
   "execution_count": 7,
   "metadata": {},
   "outputs": [],
   "source": [
    "assignments = pd.read_csv('clustering_results.csv')"
   ]
  },
  {
   "cell_type": "code",
   "execution_count": 8,
   "metadata": {},
   "outputs": [],
   "source": [
    "original_genre = run_query('''\n",
    "SELECT  title_id, min(PILLAR_GENRE) as genre\n",
    "FROM max_prod.catalog.airtable_content_strategy c\n",
    "GROUP BY 1\n",
    "''')"
   ]
  },
  {
   "cell_type": "code",
   "execution_count": 17,
   "metadata": {},
   "outputs": [],
   "source": [
    "original_genre.to_csv('original_genre.csv')"
   ]
  },
  {
   "cell_type": "code",
   "execution_count": 9,
   "metadata": {},
   "outputs": [],
   "source": [
    "assignments_genre = assignments.merge(original_genre, on = ['title_id'])\n",
    "assignments_genre = assignments_genre.groupby(['genre', 'cluster'])['title_id'].count().reset_index()\n",
    "label = list(assignments_genre.genre.unique()) + list(assignments_genre.cluster.unique())\n",
    "\n",
    "label_dict = {}\n",
    "for i in range(len(assignments_genre.genre.unique())):\n",
    "    label_dict[label[i]] = i\n",
    "    \n",
    "assignments_genre = assignments_genre.replace({'genre':label_dict})\n",
    "number_of_genre = len(assignments_genre.genre.unique())\n",
    "assignments_genre['cluster'] = assignments_genre['cluster'] + number_of_genre\n",
    "\n",
    "source = list(assignments_genre.genre.values)\n",
    "target = list(assignments_genre.cluster.values)\n",
    "value = list(assignments_genre.title_id.values)"
   ]
  },
  {
   "cell_type": "code",
   "execution_count": 32,
   "metadata": {},
   "outputs": [],
   "source": [
    "import plotly.graph_objects as go"
   ]
  },
  {
   "cell_type": "code",
   "execution_count": 19,
   "metadata": {},
   "outputs": [
    {
     "data": {
      "text/html": [
       "<div>\n",
       "<style scoped>\n",
       "    .dataframe tbody tr th:only-of-type {\n",
       "        vertical-align: middle;\n",
       "    }\n",
       "\n",
       "    .dataframe tbody tr th {\n",
       "        vertical-align: top;\n",
       "    }\n",
       "\n",
       "    .dataframe thead th {\n",
       "        text-align: right;\n",
       "    }\n",
       "</style>\n",
       "<table border=\"1\" class=\"dataframe\">\n",
       "  <thead>\n",
       "    <tr style=\"text-align: right;\">\n",
       "      <th></th>\n",
       "      <th>genre</th>\n",
       "      <th>cluster</th>\n",
       "      <th>title_id</th>\n",
       "    </tr>\n",
       "  </thead>\n",
       "  <tbody>\n",
       "    <tr>\n",
       "      <th>0</th>\n",
       "      <td>0</td>\n",
       "      <td>1</td>\n",
       "      <td>7</td>\n",
       "    </tr>\n",
       "    <tr>\n",
       "      <th>1</th>\n",
       "      <td>0</td>\n",
       "      <td>2</td>\n",
       "      <td>1</td>\n",
       "    </tr>\n",
       "    <tr>\n",
       "      <th>2</th>\n",
       "      <td>0</td>\n",
       "      <td>3</td>\n",
       "      <td>1</td>\n",
       "    </tr>\n",
       "    <tr>\n",
       "      <th>3</th>\n",
       "      <td>0</td>\n",
       "      <td>4</td>\n",
       "      <td>50</td>\n",
       "    </tr>\n",
       "    <tr>\n",
       "      <th>4</th>\n",
       "      <td>0</td>\n",
       "      <td>5</td>\n",
       "      <td>133</td>\n",
       "    </tr>\n",
       "    <tr>\n",
       "      <th>5</th>\n",
       "      <td>0</td>\n",
       "      <td>6</td>\n",
       "      <td>4</td>\n",
       "    </tr>\n",
       "    <tr>\n",
       "      <th>6</th>\n",
       "      <td>0</td>\n",
       "      <td>7</td>\n",
       "      <td>45</td>\n",
       "    </tr>\n",
       "    <tr>\n",
       "      <th>7</th>\n",
       "      <td>1</td>\n",
       "      <td>2</td>\n",
       "      <td>1</td>\n",
       "    </tr>\n",
       "    <tr>\n",
       "      <th>8</th>\n",
       "      <td>1</td>\n",
       "      <td>6</td>\n",
       "      <td>17</td>\n",
       "    </tr>\n",
       "    <tr>\n",
       "      <th>9</th>\n",
       "      <td>1</td>\n",
       "      <td>7</td>\n",
       "      <td>7</td>\n",
       "    </tr>\n",
       "    <tr>\n",
       "      <th>10</th>\n",
       "      <td>2</td>\n",
       "      <td>3</td>\n",
       "      <td>2</td>\n",
       "    </tr>\n",
       "    <tr>\n",
       "      <th>11</th>\n",
       "      <td>2</td>\n",
       "      <td>4</td>\n",
       "      <td>2</td>\n",
       "    </tr>\n",
       "    <tr>\n",
       "      <th>12</th>\n",
       "      <td>2</td>\n",
       "      <td>5</td>\n",
       "      <td>2</td>\n",
       "    </tr>\n",
       "    <tr>\n",
       "      <th>13</th>\n",
       "      <td>3</td>\n",
       "      <td>1</td>\n",
       "      <td>3</td>\n",
       "    </tr>\n",
       "    <tr>\n",
       "      <th>14</th>\n",
       "      <td>3</td>\n",
       "      <td>2</td>\n",
       "      <td>32</td>\n",
       "    </tr>\n",
       "    <tr>\n",
       "      <th>15</th>\n",
       "      <td>3</td>\n",
       "      <td>3</td>\n",
       "      <td>46</td>\n",
       "    </tr>\n",
       "    <tr>\n",
       "      <th>16</th>\n",
       "      <td>3</td>\n",
       "      <td>4</td>\n",
       "      <td>72</td>\n",
       "    </tr>\n",
       "    <tr>\n",
       "      <th>17</th>\n",
       "      <td>3</td>\n",
       "      <td>5</td>\n",
       "      <td>15</td>\n",
       "    </tr>\n",
       "    <tr>\n",
       "      <th>18</th>\n",
       "      <td>3</td>\n",
       "      <td>6</td>\n",
       "      <td>18</td>\n",
       "    </tr>\n",
       "    <tr>\n",
       "      <th>19</th>\n",
       "      <td>3</td>\n",
       "      <td>7</td>\n",
       "      <td>36</td>\n",
       "    </tr>\n",
       "    <tr>\n",
       "      <th>20</th>\n",
       "      <td>4</td>\n",
       "      <td>2</td>\n",
       "      <td>40</td>\n",
       "    </tr>\n",
       "    <tr>\n",
       "      <th>21</th>\n",
       "      <td>4</td>\n",
       "      <td>3</td>\n",
       "      <td>4</td>\n",
       "    </tr>\n",
       "    <tr>\n",
       "      <th>22</th>\n",
       "      <td>4</td>\n",
       "      <td>5</td>\n",
       "      <td>1</td>\n",
       "    </tr>\n",
       "    <tr>\n",
       "      <th>23</th>\n",
       "      <td>4</td>\n",
       "      <td>6</td>\n",
       "      <td>1</td>\n",
       "    </tr>\n",
       "    <tr>\n",
       "      <th>24</th>\n",
       "      <td>4</td>\n",
       "      <td>7</td>\n",
       "      <td>1</td>\n",
       "    </tr>\n",
       "    <tr>\n",
       "      <th>25</th>\n",
       "      <td>5</td>\n",
       "      <td>1</td>\n",
       "      <td>50</td>\n",
       "    </tr>\n",
       "    <tr>\n",
       "      <th>26</th>\n",
       "      <td>5</td>\n",
       "      <td>2</td>\n",
       "      <td>44</td>\n",
       "    </tr>\n",
       "    <tr>\n",
       "      <th>27</th>\n",
       "      <td>5</td>\n",
       "      <td>3</td>\n",
       "      <td>30</td>\n",
       "    </tr>\n",
       "    <tr>\n",
       "      <th>28</th>\n",
       "      <td>5</td>\n",
       "      <td>4</td>\n",
       "      <td>29</td>\n",
       "    </tr>\n",
       "    <tr>\n",
       "      <th>29</th>\n",
       "      <td>5</td>\n",
       "      <td>5</td>\n",
       "      <td>13</td>\n",
       "    </tr>\n",
       "    <tr>\n",
       "      <th>30</th>\n",
       "      <td>5</td>\n",
       "      <td>6</td>\n",
       "      <td>5</td>\n",
       "    </tr>\n",
       "    <tr>\n",
       "      <th>31</th>\n",
       "      <td>5</td>\n",
       "      <td>7</td>\n",
       "      <td>7</td>\n",
       "    </tr>\n",
       "    <tr>\n",
       "      <th>32</th>\n",
       "      <td>6</td>\n",
       "      <td>5</td>\n",
       "      <td>55</td>\n",
       "    </tr>\n",
       "    <tr>\n",
       "      <th>33</th>\n",
       "      <td>6</td>\n",
       "      <td>6</td>\n",
       "      <td>1</td>\n",
       "    </tr>\n",
       "    <tr>\n",
       "      <th>34</th>\n",
       "      <td>7</td>\n",
       "      <td>3</td>\n",
       "      <td>3</td>\n",
       "    </tr>\n",
       "    <tr>\n",
       "      <th>35</th>\n",
       "      <td>7</td>\n",
       "      <td>5</td>\n",
       "      <td>18</td>\n",
       "    </tr>\n",
       "    <tr>\n",
       "      <th>36</th>\n",
       "      <td>7</td>\n",
       "      <td>6</td>\n",
       "      <td>9</td>\n",
       "    </tr>\n",
       "    <tr>\n",
       "      <th>37</th>\n",
       "      <td>7</td>\n",
       "      <td>7</td>\n",
       "      <td>89</td>\n",
       "    </tr>\n",
       "    <tr>\n",
       "      <th>38</th>\n",
       "      <td>8</td>\n",
       "      <td>3</td>\n",
       "      <td>3</td>\n",
       "    </tr>\n",
       "    <tr>\n",
       "      <th>39</th>\n",
       "      <td>8</td>\n",
       "      <td>7</td>\n",
       "      <td>1</td>\n",
       "    </tr>\n",
       "    <tr>\n",
       "      <th>40</th>\n",
       "      <td>9</td>\n",
       "      <td>3</td>\n",
       "      <td>11</td>\n",
       "    </tr>\n",
       "    <tr>\n",
       "      <th>41</th>\n",
       "      <td>9</td>\n",
       "      <td>4</td>\n",
       "      <td>4</td>\n",
       "    </tr>\n",
       "    <tr>\n",
       "      <th>42</th>\n",
       "      <td>10</td>\n",
       "      <td>1</td>\n",
       "      <td>5</td>\n",
       "    </tr>\n",
       "    <tr>\n",
       "      <th>43</th>\n",
       "      <td>10</td>\n",
       "      <td>5</td>\n",
       "      <td>3</td>\n",
       "    </tr>\n",
       "    <tr>\n",
       "      <th>44</th>\n",
       "      <td>11</td>\n",
       "      <td>1</td>\n",
       "      <td>7</td>\n",
       "    </tr>\n",
       "    <tr>\n",
       "      <th>45</th>\n",
       "      <td>11</td>\n",
       "      <td>4</td>\n",
       "      <td>8</td>\n",
       "    </tr>\n",
       "    <tr>\n",
       "      <th>46</th>\n",
       "      <td>11</td>\n",
       "      <td>5</td>\n",
       "      <td>6</td>\n",
       "    </tr>\n",
       "    <tr>\n",
       "      <th>47</th>\n",
       "      <td>12</td>\n",
       "      <td>2</td>\n",
       "      <td>8</td>\n",
       "    </tr>\n",
       "    <tr>\n",
       "      <th>48</th>\n",
       "      <td>12</td>\n",
       "      <td>3</td>\n",
       "      <td>2</td>\n",
       "    </tr>\n",
       "    <tr>\n",
       "      <th>49</th>\n",
       "      <td>12</td>\n",
       "      <td>5</td>\n",
       "      <td>1</td>\n",
       "    </tr>\n",
       "    <tr>\n",
       "      <th>50</th>\n",
       "      <td>12</td>\n",
       "      <td>6</td>\n",
       "      <td>4</td>\n",
       "    </tr>\n",
       "    <tr>\n",
       "      <th>51</th>\n",
       "      <td>12</td>\n",
       "      <td>7</td>\n",
       "      <td>2</td>\n",
       "    </tr>\n",
       "  </tbody>\n",
       "</table>\n",
       "</div>"
      ],
      "text/plain": [
       "    genre  cluster  title_id\n",
       "0       0        1         7\n",
       "1       0        2         1\n",
       "2       0        3         1\n",
       "3       0        4        50\n",
       "4       0        5       133\n",
       "5       0        6         4\n",
       "6       0        7        45\n",
       "7       1        2         1\n",
       "8       1        6        17\n",
       "9       1        7         7\n",
       "10      2        3         2\n",
       "11      2        4         2\n",
       "12      2        5         2\n",
       "13      3        1         3\n",
       "14      3        2        32\n",
       "15      3        3        46\n",
       "16      3        4        72\n",
       "17      3        5        15\n",
       "18      3        6        18\n",
       "19      3        7        36\n",
       "20      4        2        40\n",
       "21      4        3         4\n",
       "22      4        5         1\n",
       "23      4        6         1\n",
       "24      4        7         1\n",
       "25      5        1        50\n",
       "26      5        2        44\n",
       "27      5        3        30\n",
       "28      5        4        29\n",
       "29      5        5        13\n",
       "30      5        6         5\n",
       "31      5        7         7\n",
       "32      6        5        55\n",
       "33      6        6         1\n",
       "34      7        3         3\n",
       "35      7        5        18\n",
       "36      7        6         9\n",
       "37      7        7        89\n",
       "38      8        3         3\n",
       "39      8        7         1\n",
       "40      9        3        11\n",
       "41      9        4         4\n",
       "42     10        1         5\n",
       "43     10        5         3\n",
       "44     11        1         7\n",
       "45     11        4         8\n",
       "46     11        5         6\n",
       "47     12        2         8\n",
       "48     12        3         2\n",
       "49     12        5         1\n",
       "50     12        6         4\n",
       "51     12        7         2"
      ]
     },
     "execution_count": 19,
     "metadata": {},
     "output_type": "execute_result"
    }
   ],
   "source": [
    "assignments_genre"
   ]
  },
  {
   "cell_type": "code",
   "execution_count": 33,
   "metadata": {},
   "outputs": [
    {
     "data": {
      "application/vnd.plotly.v1+json": {
       "config": {
        "plotlyServerURL": "https://plot.ly"
       },
       "data": [
        {
         "link": {
          "source": [
           0,
           0,
           0,
           0,
           0,
           0,
           0,
           1,
           1,
           1,
           2,
           2,
           2,
           3,
           3,
           3,
           3,
           3,
           3,
           3,
           4,
           4,
           4,
           4,
           4,
           5,
           5,
           5,
           5,
           5,
           5,
           5,
           6,
           6,
           7,
           7,
           7,
           7,
           8,
           8,
           9,
           9,
           10,
           10,
           11,
           11,
           11,
           12,
           12,
           12,
           12,
           12
          ],
          "target": [
           14,
           15,
           16,
           17,
           18,
           19,
           20,
           15,
           19,
           20,
           16,
           17,
           18,
           14,
           15,
           16,
           17,
           18,
           19,
           20,
           15,
           16,
           18,
           19,
           20,
           14,
           15,
           16,
           17,
           18,
           19,
           20,
           18,
           19,
           16,
           18,
           19,
           20,
           16,
           20,
           16,
           17,
           14,
           18,
           14,
           17,
           18,
           15,
           16,
           18,
           19,
           20
          ],
          "value": [
           7,
           1,
           1,
           50,
           133,
           4,
           45,
           1,
           17,
           7,
           2,
           2,
           2,
           3,
           32,
           46,
           72,
           15,
           18,
           36,
           40,
           4,
           1,
           1,
           1,
           50,
           44,
           30,
           29,
           13,
           5,
           7,
           55,
           1,
           3,
           18,
           9,
           89,
           3,
           1,
           11,
           4,
           5,
           3,
           7,
           8,
           6,
           8,
           2,
           1,
           4,
           2
          ]
         },
         "node": {
          "label": [
           "Action/Adventure ",
           "Adult Animation",
           "Classics",
           "Comedy",
           "Documentary",
           "Drama",
           "Horror ",
           "Kids/Family",
           "Other",
           "Romance",
           "Sci-Fi",
           "Suspense/Thriller",
           "Unscripted",
           1,
           2,
           3,
           4,
           5,
           6,
           7
          ],
          "pad": 50,
          "thickness": 5
         },
         "type": "sankey"
        }
       ],
       "layout": {
        "autosize": true,
        "template": {
         "data": {
          "bar": [
           {
            "error_x": {
             "color": "#2a3f5f"
            },
            "error_y": {
             "color": "#2a3f5f"
            },
            "marker": {
             "line": {
              "color": "#E5ECF6",
              "width": 0.5
             },
             "pattern": {
              "fillmode": "overlay",
              "size": 10,
              "solidity": 0.2
             }
            },
            "type": "bar"
           }
          ],
          "barpolar": [
           {
            "marker": {
             "line": {
              "color": "#E5ECF6",
              "width": 0.5
             },
             "pattern": {
              "fillmode": "overlay",
              "size": 10,
              "solidity": 0.2
             }
            },
            "type": "barpolar"
           }
          ],
          "carpet": [
           {
            "aaxis": {
             "endlinecolor": "#2a3f5f",
             "gridcolor": "white",
             "linecolor": "white",
             "minorgridcolor": "white",
             "startlinecolor": "#2a3f5f"
            },
            "baxis": {
             "endlinecolor": "#2a3f5f",
             "gridcolor": "white",
             "linecolor": "white",
             "minorgridcolor": "white",
             "startlinecolor": "#2a3f5f"
            },
            "type": "carpet"
           }
          ],
          "choropleth": [
           {
            "colorbar": {
             "outlinewidth": 0,
             "ticks": ""
            },
            "type": "choropleth"
           }
          ],
          "contour": [
           {
            "colorbar": {
             "outlinewidth": 0,
             "ticks": ""
            },
            "colorscale": [
             [
              0,
              "#0d0887"
             ],
             [
              0.1111111111111111,
              "#46039f"
             ],
             [
              0.2222222222222222,
              "#7201a8"
             ],
             [
              0.3333333333333333,
              "#9c179e"
             ],
             [
              0.4444444444444444,
              "#bd3786"
             ],
             [
              0.5555555555555556,
              "#d8576b"
             ],
             [
              0.6666666666666666,
              "#ed7953"
             ],
             [
              0.7777777777777778,
              "#fb9f3a"
             ],
             [
              0.8888888888888888,
              "#fdca26"
             ],
             [
              1,
              "#f0f921"
             ]
            ],
            "type": "contour"
           }
          ],
          "contourcarpet": [
           {
            "colorbar": {
             "outlinewidth": 0,
             "ticks": ""
            },
            "type": "contourcarpet"
           }
          ],
          "heatmap": [
           {
            "colorbar": {
             "outlinewidth": 0,
             "ticks": ""
            },
            "colorscale": [
             [
              0,
              "#0d0887"
             ],
             [
              0.1111111111111111,
              "#46039f"
             ],
             [
              0.2222222222222222,
              "#7201a8"
             ],
             [
              0.3333333333333333,
              "#9c179e"
             ],
             [
              0.4444444444444444,
              "#bd3786"
             ],
             [
              0.5555555555555556,
              "#d8576b"
             ],
             [
              0.6666666666666666,
              "#ed7953"
             ],
             [
              0.7777777777777778,
              "#fb9f3a"
             ],
             [
              0.8888888888888888,
              "#fdca26"
             ],
             [
              1,
              "#f0f921"
             ]
            ],
            "type": "heatmap"
           }
          ],
          "heatmapgl": [
           {
            "colorbar": {
             "outlinewidth": 0,
             "ticks": ""
            },
            "colorscale": [
             [
              0,
              "#0d0887"
             ],
             [
              0.1111111111111111,
              "#46039f"
             ],
             [
              0.2222222222222222,
              "#7201a8"
             ],
             [
              0.3333333333333333,
              "#9c179e"
             ],
             [
              0.4444444444444444,
              "#bd3786"
             ],
             [
              0.5555555555555556,
              "#d8576b"
             ],
             [
              0.6666666666666666,
              "#ed7953"
             ],
             [
              0.7777777777777778,
              "#fb9f3a"
             ],
             [
              0.8888888888888888,
              "#fdca26"
             ],
             [
              1,
              "#f0f921"
             ]
            ],
            "type": "heatmapgl"
           }
          ],
          "histogram": [
           {
            "marker": {
             "pattern": {
              "fillmode": "overlay",
              "size": 10,
              "solidity": 0.2
             }
            },
            "type": "histogram"
           }
          ],
          "histogram2d": [
           {
            "colorbar": {
             "outlinewidth": 0,
             "ticks": ""
            },
            "colorscale": [
             [
              0,
              "#0d0887"
             ],
             [
              0.1111111111111111,
              "#46039f"
             ],
             [
              0.2222222222222222,
              "#7201a8"
             ],
             [
              0.3333333333333333,
              "#9c179e"
             ],
             [
              0.4444444444444444,
              "#bd3786"
             ],
             [
              0.5555555555555556,
              "#d8576b"
             ],
             [
              0.6666666666666666,
              "#ed7953"
             ],
             [
              0.7777777777777778,
              "#fb9f3a"
             ],
             [
              0.8888888888888888,
              "#fdca26"
             ],
             [
              1,
              "#f0f921"
             ]
            ],
            "type": "histogram2d"
           }
          ],
          "histogram2dcontour": [
           {
            "colorbar": {
             "outlinewidth": 0,
             "ticks": ""
            },
            "colorscale": [
             [
              0,
              "#0d0887"
             ],
             [
              0.1111111111111111,
              "#46039f"
             ],
             [
              0.2222222222222222,
              "#7201a8"
             ],
             [
              0.3333333333333333,
              "#9c179e"
             ],
             [
              0.4444444444444444,
              "#bd3786"
             ],
             [
              0.5555555555555556,
              "#d8576b"
             ],
             [
              0.6666666666666666,
              "#ed7953"
             ],
             [
              0.7777777777777778,
              "#fb9f3a"
             ],
             [
              0.8888888888888888,
              "#fdca26"
             ],
             [
              1,
              "#f0f921"
             ]
            ],
            "type": "histogram2dcontour"
           }
          ],
          "mesh3d": [
           {
            "colorbar": {
             "outlinewidth": 0,
             "ticks": ""
            },
            "type": "mesh3d"
           }
          ],
          "parcoords": [
           {
            "line": {
             "colorbar": {
              "outlinewidth": 0,
              "ticks": ""
             }
            },
            "type": "parcoords"
           }
          ],
          "pie": [
           {
            "automargin": true,
            "type": "pie"
           }
          ],
          "scatter": [
           {
            "marker": {
             "colorbar": {
              "outlinewidth": 0,
              "ticks": ""
             }
            },
            "type": "scatter"
           }
          ],
          "scatter3d": [
           {
            "line": {
             "colorbar": {
              "outlinewidth": 0,
              "ticks": ""
             }
            },
            "marker": {
             "colorbar": {
              "outlinewidth": 0,
              "ticks": ""
             }
            },
            "type": "scatter3d"
           }
          ],
          "scattercarpet": [
           {
            "marker": {
             "colorbar": {
              "outlinewidth": 0,
              "ticks": ""
             }
            },
            "type": "scattercarpet"
           }
          ],
          "scattergeo": [
           {
            "marker": {
             "colorbar": {
              "outlinewidth": 0,
              "ticks": ""
             }
            },
            "type": "scattergeo"
           }
          ],
          "scattergl": [
           {
            "marker": {
             "colorbar": {
              "outlinewidth": 0,
              "ticks": ""
             }
            },
            "type": "scattergl"
           }
          ],
          "scattermapbox": [
           {
            "marker": {
             "colorbar": {
              "outlinewidth": 0,
              "ticks": ""
             }
            },
            "type": "scattermapbox"
           }
          ],
          "scatterpolar": [
           {
            "marker": {
             "colorbar": {
              "outlinewidth": 0,
              "ticks": ""
             }
            },
            "type": "scatterpolar"
           }
          ],
          "scatterpolargl": [
           {
            "marker": {
             "colorbar": {
              "outlinewidth": 0,
              "ticks": ""
             }
            },
            "type": "scatterpolargl"
           }
          ],
          "scatterternary": [
           {
            "marker": {
             "colorbar": {
              "outlinewidth": 0,
              "ticks": ""
             }
            },
            "type": "scatterternary"
           }
          ],
          "surface": [
           {
            "colorbar": {
             "outlinewidth": 0,
             "ticks": ""
            },
            "colorscale": [
             [
              0,
              "#0d0887"
             ],
             [
              0.1111111111111111,
              "#46039f"
             ],
             [
              0.2222222222222222,
              "#7201a8"
             ],
             [
              0.3333333333333333,
              "#9c179e"
             ],
             [
              0.4444444444444444,
              "#bd3786"
             ],
             [
              0.5555555555555556,
              "#d8576b"
             ],
             [
              0.6666666666666666,
              "#ed7953"
             ],
             [
              0.7777777777777778,
              "#fb9f3a"
             ],
             [
              0.8888888888888888,
              "#fdca26"
             ],
             [
              1,
              "#f0f921"
             ]
            ],
            "type": "surface"
           }
          ],
          "table": [
           {
            "cells": {
             "fill": {
              "color": "#EBF0F8"
             },
             "line": {
              "color": "white"
             }
            },
            "header": {
             "fill": {
              "color": "#C8D4E3"
             },
             "line": {
              "color": "white"
             }
            },
            "type": "table"
           }
          ]
         },
         "layout": {
          "annotationdefaults": {
           "arrowcolor": "#2a3f5f",
           "arrowhead": 0,
           "arrowwidth": 1
          },
          "autotypenumbers": "strict",
          "coloraxis": {
           "colorbar": {
            "outlinewidth": 0,
            "ticks": ""
           }
          },
          "colorscale": {
           "diverging": [
            [
             0,
             "#8e0152"
            ],
            [
             0.1,
             "#c51b7d"
            ],
            [
             0.2,
             "#de77ae"
            ],
            [
             0.3,
             "#f1b6da"
            ],
            [
             0.4,
             "#fde0ef"
            ],
            [
             0.5,
             "#f7f7f7"
            ],
            [
             0.6,
             "#e6f5d0"
            ],
            [
             0.7,
             "#b8e186"
            ],
            [
             0.8,
             "#7fbc41"
            ],
            [
             0.9,
             "#4d9221"
            ],
            [
             1,
             "#276419"
            ]
           ],
           "sequential": [
            [
             0,
             "#0d0887"
            ],
            [
             0.1111111111111111,
             "#46039f"
            ],
            [
             0.2222222222222222,
             "#7201a8"
            ],
            [
             0.3333333333333333,
             "#9c179e"
            ],
            [
             0.4444444444444444,
             "#bd3786"
            ],
            [
             0.5555555555555556,
             "#d8576b"
            ],
            [
             0.6666666666666666,
             "#ed7953"
            ],
            [
             0.7777777777777778,
             "#fb9f3a"
            ],
            [
             0.8888888888888888,
             "#fdca26"
            ],
            [
             1,
             "#f0f921"
            ]
           ],
           "sequentialminus": [
            [
             0,
             "#0d0887"
            ],
            [
             0.1111111111111111,
             "#46039f"
            ],
            [
             0.2222222222222222,
             "#7201a8"
            ],
            [
             0.3333333333333333,
             "#9c179e"
            ],
            [
             0.4444444444444444,
             "#bd3786"
            ],
            [
             0.5555555555555556,
             "#d8576b"
            ],
            [
             0.6666666666666666,
             "#ed7953"
            ],
            [
             0.7777777777777778,
             "#fb9f3a"
            ],
            [
             0.8888888888888888,
             "#fdca26"
            ],
            [
             1,
             "#f0f921"
            ]
           ]
          },
          "colorway": [
           "#636efa",
           "#EF553B",
           "#00cc96",
           "#ab63fa",
           "#FFA15A",
           "#19d3f3",
           "#FF6692",
           "#B6E880",
           "#FF97FF",
           "#FECB52"
          ],
          "font": {
           "color": "#2a3f5f"
          },
          "geo": {
           "bgcolor": "white",
           "lakecolor": "white",
           "landcolor": "#E5ECF6",
           "showlakes": true,
           "showland": true,
           "subunitcolor": "white"
          },
          "hoverlabel": {
           "align": "left"
          },
          "hovermode": "closest",
          "mapbox": {
           "style": "light"
          },
          "paper_bgcolor": "white",
          "plot_bgcolor": "#E5ECF6",
          "polar": {
           "angularaxis": {
            "gridcolor": "white",
            "linecolor": "white",
            "ticks": ""
           },
           "bgcolor": "#E5ECF6",
           "radialaxis": {
            "gridcolor": "white",
            "linecolor": "white",
            "ticks": ""
           }
          },
          "scene": {
           "xaxis": {
            "backgroundcolor": "#E5ECF6",
            "gridcolor": "white",
            "gridwidth": 2,
            "linecolor": "white",
            "showbackground": true,
            "ticks": "",
            "zerolinecolor": "white"
           },
           "yaxis": {
            "backgroundcolor": "#E5ECF6",
            "gridcolor": "white",
            "gridwidth": 2,
            "linecolor": "white",
            "showbackground": true,
            "ticks": "",
            "zerolinecolor": "white"
           },
           "zaxis": {
            "backgroundcolor": "#E5ECF6",
            "gridcolor": "white",
            "gridwidth": 2,
            "linecolor": "white",
            "showbackground": true,
            "ticks": "",
            "zerolinecolor": "white"
           }
          },
          "shapedefaults": {
           "line": {
            "color": "#2a3f5f"
           }
          },
          "ternary": {
           "aaxis": {
            "gridcolor": "white",
            "linecolor": "white",
            "ticks": ""
           },
           "baxis": {
            "gridcolor": "white",
            "linecolor": "white",
            "ticks": ""
           },
           "bgcolor": "#E5ECF6",
           "caxis": {
            "gridcolor": "white",
            "linecolor": "white",
            "ticks": ""
           }
          },
          "title": {
           "x": 0.05
          },
          "xaxis": {
           "automargin": true,
           "gridcolor": "white",
           "linecolor": "white",
           "ticks": "",
           "title": {
            "standoff": 15
           },
           "zerolinecolor": "white",
           "zerolinewidth": 2
          },
          "yaxis": {
           "automargin": true,
           "gridcolor": "white",
           "linecolor": "white",
           "ticks": "",
           "title": {
            "standoff": 15
           },
           "zerolinecolor": "white",
           "zerolinewidth": 2
          }
         }
        }
       }
      },
      "image/png": "[encoded data removed]",
      "text/html": [
       "<div>                            <div id=\"8cf0899a-210c-458d-a7e2-15d4e079c026\" class=\"plotly-graph-div\" style=\"height:525px; width:100%;\"></div>            <script type=\"text/javascript\">                require([\"plotly\"], function(Plotly) {                    window.PLOTLYENV=window.PLOTLYENV || {};                                    if (document.getElementById(\"8cf0899a-210c-458d-a7e2-15d4e079c026\")) {                    Plotly.newPlot(                        \"8cf0899a-210c-458d-a7e2-15d4e079c026\",                        [{\"link\":{\"source\":[0,0,0,0,0,0,0,1,1,1,2,2,2,3,3,3,3,3,3,3,4,4,4,4,4,5,5,5,5,5,5,5,6,6,7,7,7,7,8,8,9,9,10,10,11,11,11,12,12,12,12,12],\"target\":[14,15,16,17,18,19,20,15,19,20,16,17,18,14,15,16,17,18,19,20,15,16,18,19,20,14,15,16,17,18,19,20,18,19,16,18,19,20,16,20,16,17,14,18,14,17,18,15,16,18,19,20],\"value\":[7,1,1,50,133,4,45,1,17,7,2,2,2,3,32,46,72,15,18,36,40,4,1,1,1,50,44,30,29,13,5,7,55,1,3,18,9,89,3,1,11,4,5,3,7,8,6,8,2,1,4,2]},\"node\":{\"label\":[\"Action/Adventure \",\"Adult Animation\",\"Classics\",\"Comedy\",\"Documentary\",\"Drama\",\"Horror \",\"Kids/Family\",\"Other\",\"Romance\",\"Sci-Fi\",\"Suspense/Thriller\",\"Unscripted\",1,2,3,4,5,6,7],\"pad\":50,\"thickness\":5},\"type\":\"sankey\"}],                        {\"template\":{\"data\":{\"bar\":[{\"error_x\":{\"color\":\"#2a3f5f\"},\"error_y\":{\"color\":\"#2a3f5f\"},\"marker\":{\"line\":{\"color\":\"#E5ECF6\",\"width\":0.5},\"pattern\":{\"fillmode\":\"overlay\",\"size\":10,\"solidity\":0.2}},\"type\":\"bar\"}],\"barpolar\":[{\"marker\":{\"line\":{\"color\":\"#E5ECF6\",\"width\":0.5},\"pattern\":{\"fillmode\":\"overlay\",\"size\":10,\"solidity\":0.2}},\"type\":\"barpolar\"}],\"carpet\":[{\"aaxis\":{\"endlinecolor\":\"#2a3f5f\",\"gridcolor\":\"white\",\"linecolor\":\"white\",\"minorgridcolor\":\"white\",\"startlinecolor\":\"#2a3f5f\"},\"baxis\":{\"endlinecolor\":\"#2a3f5f\",\"gridcolor\":\"white\",\"linecolor\":\"white\",\"minorgridcolor\":\"white\",\"startlinecolor\":\"#2a3f5f\"},\"type\":\"carpet\"}],\"choropleth\":[{\"colorbar\":{\"outlinewidth\":0,\"ticks\":\"\"},\"type\":\"choropleth\"}],\"contour\":[{\"colorbar\":{\"outlinewidth\":0,\"ticks\":\"\"},\"colorscale\":[[0.0,\"#0d0887\"],[0.1111111111111111,\"#46039f\"],[0.2222222222222222,\"#7201a8\"],[0.3333333333333333,\"#9c179e\"],[0.4444444444444444,\"#bd3786\"],[0.5555555555555556,\"#d8576b\"],[0.6666666666666666,\"#ed7953\"],[0.7777777777777778,\"#fb9f3a\"],[0.8888888888888888,\"#fdca26\"],[1.0,\"#f0f921\"]],\"type\":\"contour\"}],\"contourcarpet\":[{\"colorbar\":{\"outlinewidth\":0,\"ticks\":\"\"},\"type\":\"contourcarpet\"}],\"heatmap\":[{\"colorbar\":{\"outlinewidth\":0,\"ticks\":\"\"},\"colorscale\":[[0.0,\"#0d0887\"],[0.1111111111111111,\"#46039f\"],[0.2222222222222222,\"#7201a8\"],[0.3333333333333333,\"#9c179e\"],[0.4444444444444444,\"#bd3786\"],[0.5555555555555556,\"#d8576b\"],[0.6666666666666666,\"#ed7953\"],[0.7777777777777778,\"#fb9f3a\"],[0.8888888888888888,\"#fdca26\"],[1.0,\"#f0f921\"]],\"type\":\"heatmap\"}],\"heatmapgl\":[{\"colorbar\":{\"outlinewidth\":0,\"ticks\":\"\"},\"colorscale\":[[0.0,\"#0d0887\"],[0.1111111111111111,\"#46039f\"],[0.2222222222222222,\"#7201a8\"],[0.3333333333333333,\"#9c179e\"],[0.4444444444444444,\"#bd3786\"],[0.5555555555555556,\"#d8576b\"],[0.6666666666666666,\"#ed7953\"],[0.7777777777777778,\"#fb9f3a\"],[0.8888888888888888,\"#fdca26\"],[1.0,\"#f0f921\"]],\"type\":\"heatmapgl\"}],\"histogram\":[{\"marker\":{\"pattern\":{\"fillmode\":\"overlay\",\"size\":10,\"solidity\":0.2}},\"type\":\"histogram\"}],\"histogram2d\":[{\"colorbar\":{\"outlinewidth\":0,\"ticks\":\"\"},\"colorscale\":[[0.0,\"#0d0887\"],[0.1111111111111111,\"#46039f\"],[0.2222222222222222,\"#7201a8\"],[0.3333333333333333,\"#9c179e\"],[0.4444444444444444,\"#bd3786\"],[0.5555555555555556,\"#d8576b\"],[0.6666666666666666,\"#ed7953\"],[0.7777777777777778,\"#fb9f3a\"],[0.8888888888888888,\"#fdca26\"],[1.0,\"#f0f921\"]],\"type\":\"histogram2d\"}],\"histogram2dcontour\":[{\"colorbar\":{\"outlinewidth\":0,\"ticks\":\"\"},\"colorscale\":[[0.0,\"#0d0887\"],[0.1111111111111111,\"#46039f\"],[0.2222222222222222,\"#7201a8\"],[0.3333333333333333,\"#9c179e\"],[0.4444444444444444,\"#bd3786\"],[0.5555555555555556,\"#d8576b\"],[0.6666666666666666,\"#ed7953\"],[0.7777777777777778,\"#fb9f3a\"],[0.8888888888888888,\"#fdca26\"],[1.0,\"#f0f921\"]],\"type\":\"histogram2dcontour\"}],\"mesh3d\":[{\"colorbar\":{\"outlinewidth\":0,\"ticks\":\"\"},\"type\":\"mesh3d\"}],\"parcoords\":[{\"line\":{\"colorbar\":{\"outlinewidth\":0,\"ticks\":\"\"}},\"type\":\"parcoords\"}],\"pie\":[{\"automargin\":true,\"type\":\"pie\"}],\"scatter\":[{\"marker\":{\"colorbar\":{\"outlinewidth\":0,\"ticks\":\"\"}},\"type\":\"scatter\"}],\"scatter3d\":[{\"line\":{\"colorbar\":{\"outlinewidth\":0,\"ticks\":\"\"}},\"marker\":{\"colorbar\":{\"outlinewidth\":0,\"ticks\":\"\"}},\"type\":\"scatter3d\"}],\"scattercarpet\":[{\"marker\":{\"colorbar\":{\"outlinewidth\":0,\"ticks\":\"\"}},\"type\":\"scattercarpet\"}],\"scattergeo\":[{\"marker\":{\"colorbar\":{\"outlinewidth\":0,\"ticks\":\"\"}},\"type\":\"scattergeo\"}],\"scattergl\":[{\"marker\":{\"colorbar\":{\"outlinewidth\":0,\"ticks\":\"\"}},\"type\":\"scattergl\"}],\"scattermapbox\":[{\"marker\":{\"colorbar\":{\"outlinewidth\":0,\"ticks\":\"\"}},\"type\":\"scattermapbox\"}],\"scatterpolar\":[{\"marker\":{\"colorbar\":{\"outlinewidth\":0,\"ticks\":\"\"}},\"type\":\"scatterpolar\"}],\"scatterpolargl\":[{\"marker\":{\"colorbar\":{\"outlinewidth\":0,\"ticks\":\"\"}},\"type\":\"scatterpolargl\"}],\"scatterternary\":[{\"marker\":{\"colorbar\":{\"outlinewidth\":0,\"ticks\":\"\"}},\"type\":\"scatterternary\"}],\"surface\":[{\"colorbar\":{\"outlinewidth\":0,\"ticks\":\"\"},\"colorscale\":[[0.0,\"#0d0887\"],[0.1111111111111111,\"#46039f\"],[0.2222222222222222,\"#7201a8\"],[0.3333333333333333,\"#9c179e\"],[0.4444444444444444,\"#bd3786\"],[0.5555555555555556,\"#d8576b\"],[0.6666666666666666,\"#ed7953\"],[0.7777777777777778,\"#fb9f3a\"],[0.8888888888888888,\"#fdca26\"],[1.0,\"#f0f921\"]],\"type\":\"surface\"}],\"table\":[{\"cells\":{\"fill\":{\"color\":\"#EBF0F8\"},\"line\":{\"color\":\"white\"}},\"header\":{\"fill\":{\"color\":\"#C8D4E3\"},\"line\":{\"color\":\"white\"}},\"type\":\"table\"}]},\"layout\":{\"annotationdefaults\":{\"arrowcolor\":\"#2a3f5f\",\"arrowhead\":0,\"arrowwidth\":1},\"autotypenumbers\":\"strict\",\"coloraxis\":{\"colorbar\":{\"outlinewidth\":0,\"ticks\":\"\"}},\"colorscale\":{\"diverging\":[[0,\"#8e0152\"],[0.1,\"#c51b7d\"],[0.2,\"#de77ae\"],[0.3,\"#f1b6da\"],[0.4,\"#fde0ef\"],[0.5,\"#f7f7f7\"],[0.6,\"#e6f5d0\"],[0.7,\"#b8e186\"],[0.8,\"#7fbc41\"],[0.9,\"#4d9221\"],[1,\"#276419\"]],\"sequential\":[[0.0,\"#0d0887\"],[0.1111111111111111,\"#46039f\"],[0.2222222222222222,\"#7201a8\"],[0.3333333333333333,\"#9c179e\"],[0.4444444444444444,\"#bd3786\"],[0.5555555555555556,\"#d8576b\"],[0.6666666666666666,\"#ed7953\"],[0.7777777777777778,\"#fb9f3a\"],[0.8888888888888888,\"#fdca26\"],[1.0,\"#f0f921\"]],\"sequentialminus\":[[0.0,\"#0d0887\"],[0.1111111111111111,\"#46039f\"],[0.2222222222222222,\"#7201a8\"],[0.3333333333333333,\"#9c179e\"],[0.4444444444444444,\"#bd3786\"],[0.5555555555555556,\"#d8576b\"],[0.6666666666666666,\"#ed7953\"],[0.7777777777777778,\"#fb9f3a\"],[0.8888888888888888,\"#fdca26\"],[1.0,\"#f0f921\"]]},\"colorway\":[\"#636efa\",\"#EF553B\",\"#00cc96\",\"#ab63fa\",\"#FFA15A\",\"#19d3f3\",\"#FF6692\",\"#B6E880\",\"#FF97FF\",\"#FECB52\"],\"font\":{\"color\":\"#2a3f5f\"},\"geo\":{\"bgcolor\":\"white\",\"lakecolor\":\"white\",\"landcolor\":\"#E5ECF6\",\"showlakes\":true,\"showland\":true,\"subunitcolor\":\"white\"},\"hoverlabel\":{\"align\":\"left\"},\"hovermode\":\"closest\",\"mapbox\":{\"style\":\"light\"},\"paper_bgcolor\":\"white\",\"plot_bgcolor\":\"#E5ECF6\",\"polar\":{\"angularaxis\":{\"gridcolor\":\"white\",\"linecolor\":\"white\",\"ticks\":\"\"},\"bgcolor\":\"#E5ECF6\",\"radialaxis\":{\"gridcolor\":\"white\",\"linecolor\":\"white\",\"ticks\":\"\"}},\"scene\":{\"xaxis\":{\"backgroundcolor\":\"#E5ECF6\",\"gridcolor\":\"white\",\"gridwidth\":2,\"linecolor\":\"white\",\"showbackground\":true,\"ticks\":\"\",\"zerolinecolor\":\"white\"},\"yaxis\":{\"backgroundcolor\":\"#E5ECF6\",\"gridcolor\":\"white\",\"gridwidth\":2,\"linecolor\":\"white\",\"showbackground\":true,\"ticks\":\"\",\"zerolinecolor\":\"white\"},\"zaxis\":{\"backgroundcolor\":\"#E5ECF6\",\"gridcolor\":\"white\",\"gridwidth\":2,\"linecolor\":\"white\",\"showbackground\":true,\"ticks\":\"\",\"zerolinecolor\":\"white\"}},\"shapedefaults\":{\"line\":{\"color\":\"#2a3f5f\"}},\"ternary\":{\"aaxis\":{\"gridcolor\":\"white\",\"linecolor\":\"white\",\"ticks\":\"\"},\"baxis\":{\"gridcolor\":\"white\",\"linecolor\":\"white\",\"ticks\":\"\"},\"bgcolor\":\"#E5ECF6\",\"caxis\":{\"gridcolor\":\"white\",\"linecolor\":\"white\",\"ticks\":\"\"}},\"title\":{\"x\":0.05},\"xaxis\":{\"automargin\":true,\"gridcolor\":\"white\",\"linecolor\":\"white\",\"ticks\":\"\",\"title\":{\"standoff\":15},\"zerolinecolor\":\"white\",\"zerolinewidth\":2},\"yaxis\":{\"automargin\":true,\"gridcolor\":\"white\",\"linecolor\":\"white\",\"ticks\":\"\",\"title\":{\"standoff\":15},\"zerolinecolor\":\"white\",\"zerolinewidth\":2}}}},                        {\"responsive\": true}                    ).then(function(){\n",
       "                            \n",
       "var gd = document.getElementById('8cf0899a-210c-458d-a7e2-15d4e079c026');\n",
       "var x = new MutationObserver(function (mutations, observer) {{\n",
       "        var display = window.getComputedStyle(gd).display;\n",
       "        if (!display || display === 'none') {{\n",
       "            console.log([gd, 'removed!']);\n",
       "            Plotly.purge(gd);\n",
       "            observer.disconnect();\n",
       "        }}\n",
       "}});\n",
       "\n",
       "// Listen for the removal of the full notebook cells\n",
       "var notebookContainer = gd.closest('#notebook-container');\n",
       "if (notebookContainer) {{\n",
       "    x.observe(notebookContainer, {childList: true});\n",
       "}}\n",
       "\n",
       "// Listen for the clearing of the current output cell\n",
       "var outputEl = gd.closest('.output');\n",
       "if (outputEl) {{\n",
       "    x.observe(outputEl, {childList: true});\n",
       "}}\n",
       "\n",
       "                        })                };                });            </script>        </div>"
      ]
     },
     "metadata": {},
     "output_type": "display_data"
    }
   ],
   "source": [
    "link = dict(source = source, target = target, value = value)\n",
    "node = dict(label = label, pad=50, thickness=5)\n",
    "data = go.Sankey(link = link, node=node)\n",
    "# plot\n",
    "fig = go.Figure(data)\n",
    "fig.show()"
   ]
  },
  {
   "cell_type": "code",
   "execution_count": null,
   "metadata": {},
   "outputs": [],
   "source": []
  }
 ],
 "metadata": {
  "kernelspec": {
   "display_name": "conda_python3",
   "language": "python",
   "name": "conda_python3"
  },
  "language_info": {
   "codemirror_mode": {
    "name": "ipython",
    "version": 3
   },
   "file_extension": ".py",
   "mimetype": "text/x-python",
   "name": "python",
   "nbconvert_exporter": "python",
   "pygments_lexer": "ipython3",
   "version": "3.6.13"
  }
 },
 "nbformat": 4,
 "nbformat_minor": 4
}
