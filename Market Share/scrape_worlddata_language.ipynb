{
 "cells": [
  {
   "cell_type": "code",
   "execution_count": 1,
   "id": "909f54a6",
   "metadata": {},
   "outputs": [],
   "source": [
    "# import selenium\n",
    "# from selenium.webdriver.common.keys import Keys\n",
    "# import json\n",
    "# from selenium import webdriver"
   ]
  },
  {
   "cell_type": "code",
   "execution_count": 2,
   "id": "3f624c28",
   "metadata": {},
   "outputs": [],
   "source": [
    "from PIL import Image as im\n",
    "from tqdm import tqdm\n",
    "import os\n",
    "import time\n",
    "import imageio as iio\n",
    "import requests\n",
    "import pandas as pd"
   ]
  },
  {
   "cell_type": "markdown",
   "id": "9d4514fa",
   "metadata": {},
   "source": [
    "# Download language data from https://www.worlddata.info/languages/index.php"
   ]
  },
  {
   "cell_type": "code",
   "execution_count": 3,
   "id": "c2d01223",
   "metadata": {},
   "outputs": [],
   "source": [
    "# scraping website html data\n",
    "from bs4 import BeautifulSoup\n",
    "url = \"https://www.worlddata.info/languages/index.php\"\n",
    "html = requests.get(url).content\n",
    "\n",
    "soup = BeautifulSoup(html)\n",
    "table = soup.select(\"td , th\")\n",
    "\n",
    "th_all = soup.find_all('th')"
   ]
  },
  {
   "cell_type": "code",
   "execution_count": 4,
   "id": "3b918f60",
   "metadata": {},
   "outputs": [],
   "source": [
    "# getting headers\n",
    "col_names = []\n",
    "for x in th_all:\n",
    "    col_names.append(x.text)\n",
    "\n",
    "df = pd.DataFrame(columns=col_names)\n",
    "\n",
    "# adding data in row by row\n",
    "ratio = soup.findAll('tr')\n",
    "ind = 0\n",
    "\n",
    "# everything past the header row\n",
    "for x in ratio[1:]:\n",
    "    row = []\n",
    "    \n",
    "    # get each value for each column\n",
    "    for y in x:\n",
    "        row.append(y.text)\n",
    "        \n",
    "    # append row to dataframe\n",
    "    df.loc[ind] = row\n",
    "    ind += 1\n",
    "    \n",
    "# df.to_csv('worlddata_main_table.csv')"
   ]
  },
  {
   "cell_type": "code",
   "execution_count": 5,
   "id": "1339cb00",
   "metadata": {},
   "outputs": [],
   "source": [
    "df_total = df.copy()"
   ]
  },
  {
   "cell_type": "code",
   "execution_count": 6,
   "id": "65a954d3",
   "metadata": {},
   "outputs": [
    {
     "data": {
      "text/plain": [
       "array(['Chinese', 'Hindi', 'Spanish', 'English', 'Arabic', 'Bengali',\n",
       "       'Portuguese', 'Russian', 'Punjabi', 'Japanese', 'Javanese',\n",
       "       'Telugu', 'Marathi', 'French', 'German', 'Urdu', 'Tamil',\n",
       "       'Vietnamese', 'Korean', 'Turkish', 'Gujarati', 'Italian',\n",
       "       'Persian', 'Hausa', 'Malay', 'Kannada', 'Pashto', 'Yoruba',\n",
       "       'Oriya', 'Malayalam'], dtype=object)"
      ]
     },
     "execution_count": 6,
     "metadata": {},
     "output_type": "execute_result"
    }
   ],
   "source": [
    "df_total['Mother tongue'].unique()"
   ]
  },
  {
   "cell_type": "markdown",
   "id": "f95e1e21",
   "metadata": {},
   "source": [
    "# getting individual page tables"
   ]
  },
  {
   "cell_type": "code",
   "execution_count": 7,
   "id": "a4de980d",
   "metadata": {},
   "outputs": [],
   "source": [
    " # getting hyperlinks to all lanague pages\n",
    "urls = soup.select('td:nth-child(1) a')\n",
    "links = []\n",
    "for url in urls:\n",
    "    links.append(url['href'])"
   ]
  },
  {
   "cell_type": "code",
   "execution_count": 15,
   "id": "d018c63e",
   "metadata": {
    "collapsed": true,
    "jupyter": {
     "outputs_hidden": true
    }
   },
   "outputs": [
    {
     "data": {
      "text/plain": [
       "['/languages/chinese.php',\n",
       " '/languages/hindi.php',\n",
       " '/languages/spanish.php',\n",
       " '/languages/english.php',\n",
       " '/languages/arabic.php',\n",
       " '/languages/bengali.php',\n",
       " '/languages/portuguese.php',\n",
       " '/languages/russian.php',\n",
       " '/languages/punjabi.php',\n",
       " '/languages/japanese.php',\n",
       " '/languages/javanese.php',\n",
       " '/languages/telugu.php',\n",
       " '/languages/marathi.php',\n",
       " '/languages/french.php',\n",
       " '/languages/german.php',\n",
       " '/languages/urdu.php',\n",
       " '/languages/tamil.php',\n",
       " '/languages/vietnamese.php',\n",
       " '/languages/korean.php',\n",
       " '/languages/turkish.php',\n",
       " '/languages/gujarati.php',\n",
       " '/languages/italian.php',\n",
       " '/languages/persian.php',\n",
       " '/languages/hausa.php',\n",
       " '/languages/malay.php',\n",
       " '/languages/kannada.php',\n",
       " '/languages/pashto.php',\n",
       " '/languages/yoruba.php',\n",
       " '/languages/oriya.php',\n",
       " '/languages/malayalam.php']"
      ]
     },
     "execution_count": 15,
     "metadata": {},
     "output_type": "execute_result"
    }
   ],
   "source": [
    "links"
   ]
  },
  {
   "cell_type": "code",
   "execution_count": 8,
   "id": "03a3bd36",
   "metadata": {},
   "outputs": [],
   "source": [
    "def get_table(link):\n",
    "\n",
    "    url = 'https://www.worlddata.info/languages/' + link + '.php'\n",
    "    print (url)\n",
    "    html = requests.get(url).content\n",
    "\n",
    "    soup = BeautifulSoup(html)\n",
    "    table = soup.select(\"td , th\")\n",
    "\n",
    "    th_all = soup.find_all('th')\n",
    "    \n",
    "    # getting headers\n",
    "    col_names = []\n",
    "    for x in th_all:\n",
    "        col_names.append(x.text)\n",
    "\n",
    "    df = pd.DataFrame(columns=col_names)\n",
    "    # adding data in row by row\n",
    "    ratio = soup.findAll('tr')\n",
    "    ind = 0\n",
    "\n",
    "    # everything past the header row\n",
    "    for x in ratio[1:]:\n",
    "        row = []\n",
    "\n",
    "        # get each value for each column\n",
    "        for y in x:\n",
    "            row.append(y.text)\n",
    "\n",
    "        # append row to dataframe\n",
    "        df.loc[ind] = row\n",
    "        ind += 1\n",
    "    \n",
    "    # adding in base page name\n",
    "    lang = link.replace('/languages/', '').replace('.php', '').capitalize()\n",
    "    df['Language'] = lang\n",
    "    \n",
    "    time.sleep(0.5)\n",
    "    \n",
    "    return df"
   ]
  },
  {
   "cell_type": "code",
   "execution_count": 12,
   "id": "cb42d70d",
   "metadata": {},
   "outputs": [
    {
     "ename": "NameError",
     "evalue": "name 'language_mapping' is not defined",
     "output_type": "error",
     "traceback": [
      "\u001b[0;31m---------------------------------------------------------------------------\u001b[0m",
      "\u001b[0;31mNameError\u001b[0m                                 Traceback (most recent call last)",
      "\u001b[0;32m<ipython-input-12-a5b3da8f8f1e>\u001b[0m in \u001b[0;36m<module>\u001b[0;34m\u001b[0m\n\u001b[1;32m      1\u001b[0m \u001b[0;31m# getting hyperlinks to all lanague pages\u001b[0m\u001b[0;34m\u001b[0m\u001b[0;34m\u001b[0m\u001b[0;34m\u001b[0m\u001b[0m\n\u001b[0;32m----> 2\u001b[0;31m \u001b[0murls\u001b[0m \u001b[0;34m=\u001b[0m \u001b[0mlanguage_mapping\u001b[0m\u001b[0;34m[\u001b[0m\u001b[0;34m'Englishlanguage name'\u001b[0m\u001b[0;34m]\u001b[0m\u001b[0;34m.\u001b[0m\u001b[0mstr\u001b[0m\u001b[0;34m.\u001b[0m\u001b[0mlower\u001b[0m\u001b[0;34m(\u001b[0m\u001b[0;34m)\u001b[0m\u001b[0;34m.\u001b[0m\u001b[0munique\u001b[0m\u001b[0;34m(\u001b[0m\u001b[0;34m)\u001b[0m\u001b[0;34m\u001b[0m\u001b[0;34m\u001b[0m\u001b[0m\n\u001b[0m\u001b[1;32m      3\u001b[0m \u001b[0mlinks\u001b[0m \u001b[0;34m=\u001b[0m \u001b[0;34m[\u001b[0m\u001b[0;34m]\u001b[0m\u001b[0;34m\u001b[0m\u001b[0;34m\u001b[0m\u001b[0m\n\u001b[1;32m      4\u001b[0m \u001b[0;32mfor\u001b[0m \u001b[0murl\u001b[0m \u001b[0;32min\u001b[0m \u001b[0murls\u001b[0m\u001b[0;34m:\u001b[0m\u001b[0;34m\u001b[0m\u001b[0;34m\u001b[0m\u001b[0m\n\u001b[1;32m      5\u001b[0m    \u001b[0;32mif\u001b[0m \u001b[0;34m'/'\u001b[0m \u001b[0;32mnot\u001b[0m \u001b[0;32min\u001b[0m \u001b[0murl\u001b[0m\u001b[0;34m:\u001b[0m\u001b[0;34m\u001b[0m\u001b[0;34m\u001b[0m\u001b[0m\n",
      "\u001b[0;31mNameError\u001b[0m: name 'language_mapping' is not defined"
     ]
    }
   ],
   "source": [
    " # getting hyperlinks to all lanague pages\n",
    "urls = language_mapping['Englishlanguage name'].str.lower().unique()\n",
    "links = []\n",
    "for url in urls:\n",
    "    if '/' not in url: \n",
    "        links.append(url)"
   ]
  },
  {
   "cell_type": "code",
   "execution_count": 10,
   "id": "0e534102",
   "metadata": {},
   "outputs": [
    {
     "name": "stdout",
     "output_type": "stream",
     "text": [
      "https://www.worlddata.info/languages//languages/chinese.php.php\n",
      "https://www.worlddata.info/languages//languages/hindi.php.php\n",
      "https://www.worlddata.info/languages//languages/spanish.php.php\n",
      "https://www.worlddata.info/languages//languages/english.php.php\n",
      "https://www.worlddata.info/languages//languages/arabic.php.php\n",
      "https://www.worlddata.info/languages//languages/bengali.php.php\n",
      "https://www.worlddata.info/languages//languages/portuguese.php.php\n",
      "https://www.worlddata.info/languages//languages/russian.php.php\n",
      "https://www.worlddata.info/languages//languages/punjabi.php.php\n",
      "https://www.worlddata.info/languages//languages/japanese.php.php\n",
      "https://www.worlddata.info/languages//languages/javanese.php.php\n",
      "https://www.worlddata.info/languages//languages/telugu.php.php\n",
      "https://www.worlddata.info/languages//languages/marathi.php.php\n",
      "https://www.worlddata.info/languages//languages/french.php.php\n",
      "https://www.worlddata.info/languages//languages/german.php.php\n",
      "https://www.worlddata.info/languages//languages/urdu.php.php\n",
      "https://www.worlddata.info/languages//languages/tamil.php.php\n",
      "https://www.worlddata.info/languages//languages/vietnamese.php.php\n",
      "https://www.worlddata.info/languages//languages/korean.php.php\n",
      "https://www.worlddata.info/languages//languages/turkish.php.php\n",
      "https://www.worlddata.info/languages//languages/gujarati.php.php\n",
      "https://www.worlddata.info/languages//languages/italian.php.php\n",
      "https://www.worlddata.info/languages//languages/persian.php.php\n",
      "https://www.worlddata.info/languages//languages/hausa.php.php\n",
      "https://www.worlddata.info/languages//languages/malay.php.php\n",
      "https://www.worlddata.info/languages//languages/kannada.php.php\n",
      "https://www.worlddata.info/languages//languages/pashto.php.php\n",
      "https://www.worlddata.info/languages//languages/yoruba.php.php\n",
      "https://www.worlddata.info/languages//languages/oriya.php.php\n",
      "https://www.worlddata.info/languages//languages/malayalam.php.php\n"
     ]
    }
   ],
   "source": [
    "df = pd.DataFrame()\n",
    "for link in links:\n",
    "    df1= get_table(link)\n",
    "    df = df.append(df1, ignore_index=True)"
   ]
  },
  {
   "cell_type": "code",
   "execution_count": 11,
   "id": "33f6fc4f",
   "metadata": {},
   "outputs": [
    {
     "data": {
      "text/html": [
       "<div>\n",
       "<style scoped>\n",
       "    .dataframe tbody tr th:only-of-type {\n",
       "        vertical-align: middle;\n",
       "    }\n",
       "\n",
       "    .dataframe tbody tr th {\n",
       "        vertical-align: top;\n",
       "    }\n",
       "\n",
       "    .dataframe thead th {\n",
       "        text-align: right;\n",
       "    }\n",
       "</style>\n",
       "<table border=\"1\" class=\"dataframe\">\n",
       "  <thead>\n",
       "    <tr style=\"text-align: right;\">\n",
       "      <th></th>\n",
       "      <th>Language</th>\n",
       "    </tr>\n",
       "  </thead>\n",
       "  <tbody>\n",
       "  </tbody>\n",
       "</table>\n",
       "</div>"
      ],
      "text/plain": [
       "Empty DataFrame\n",
       "Columns: [Language]\n",
       "Index: []"
      ]
     },
     "execution_count": 11,
     "metadata": {},
     "output_type": "execute_result"
    }
   ],
   "source": [
    "df.head()"
   ]
  },
  {
   "cell_type": "code",
   "execution_count": 13,
   "id": "736e0901",
   "metadata": {},
   "outputs": [],
   "source": [
    "df_language = df.copy()"
   ]
  },
  {
   "cell_type": "markdown",
   "id": "65b8d185",
   "metadata": {},
   "source": [
    "## Join Tables"
   ]
  },
  {
   "cell_type": "code",
   "execution_count": 14,
   "id": "c14fca74",
   "metadata": {},
   "outputs": [
    {
     "data": {
      "text/html": [
       "<div>\n",
       "<style scoped>\n",
       "    .dataframe tbody tr th:only-of-type {\n",
       "        vertical-align: middle;\n",
       "    }\n",
       "\n",
       "    .dataframe tbody tr th {\n",
       "        vertical-align: top;\n",
       "    }\n",
       "\n",
       "    .dataframe thead th {\n",
       "        text-align: right;\n",
       "    }\n",
       "</style>\n",
       "<table border=\"1\" class=\"dataframe\">\n",
       "  <thead>\n",
       "    <tr style=\"text-align: right;\">\n",
       "      <th></th>\n",
       "      <th>Language</th>\n",
       "    </tr>\n",
       "  </thead>\n",
       "  <tbody>\n",
       "  </tbody>\n",
       "</table>\n",
       "</div>"
      ],
      "text/plain": [
       "Empty DataFrame\n",
       "Columns: [Language]\n",
       "Index: []"
      ]
     },
     "execution_count": 14,
     "metadata": {},
     "output_type": "execute_result"
    }
   ],
   "source": [
    "df_language[df_language['Language'] == 'Afar']"
   ]
  },
  {
   "cell_type": "code",
   "execution_count": 16,
   "id": "8a2cb533",
   "metadata": {},
   "outputs": [
    {
     "data": {
      "text/html": [
       "<div>\n",
       "<style scoped>\n",
       "    .dataframe tbody tr th:only-of-type {\n",
       "        vertical-align: middle;\n",
       "    }\n",
       "\n",
       "    .dataframe tbody tr th {\n",
       "        vertical-align: top;\n",
       "    }\n",
       "\n",
       "    .dataframe thead th {\n",
       "        text-align: right;\n",
       "    }\n",
       "</style>\n",
       "<table border=\"1\" class=\"dataframe\">\n",
       "  <thead>\n",
       "    <tr style=\"text-align: right;\">\n",
       "      <th></th>\n",
       "      <th>Language</th>\n",
       "      <th>Worldwide total</th>\n",
       "    </tr>\n",
       "  </thead>\n",
       "  <tbody>\n",
       "    <tr>\n",
       "      <th>28</th>\n",
       "      <td>Chinese</td>\n",
       "      <td>1,299,371,00020,633,0008,604,0007,028,0002,987...</td>\n",
       "    </tr>\n",
       "  </tbody>\n",
       "</table>\n",
       "</div>"
      ],
      "text/plain": [
       "   Language                                    Worldwide total\n",
       "28  Chinese  1,299,371,00020,633,0008,604,0007,028,0002,987..."
      ]
     },
     "execution_count": 16,
     "metadata": {},
     "output_type": "execute_result"
    }
   ],
   "source": [
    "df_total = df_language.groupby(['Language'])['Total'].sum().reset_index()\n",
    "df_total.rename(columns = {'Total' : 'Worldwide total'}, inplace = True)\n",
    "df_total[df_total['Language'] == 'Chinese']"
   ]
  },
  {
   "cell_type": "code",
   "execution_count": 17,
   "id": "afd4b68b",
   "metadata": {},
   "outputs": [
    {
     "data": {
      "text/html": [
       "<div>\n",
       "<style scoped>\n",
       "    .dataframe tbody tr th:only-of-type {\n",
       "        vertical-align: middle;\n",
       "    }\n",
       "\n",
       "    .dataframe tbody tr th {\n",
       "        vertical-align: top;\n",
       "    }\n",
       "\n",
       "    .dataframe thead th {\n",
       "        text-align: right;\n",
       "    }\n",
       "</style>\n",
       "<table border=\"1\" class=\"dataframe\">\n",
       "  <thead>\n",
       "    <tr style=\"text-align: right;\">\n",
       "      <th></th>\n",
       "      <th>code</th>\n",
       "      <th>Englishlanguage name</th>\n",
       "      <th>directionality</th>\n",
       "      <th>locallanguage name</th>\n",
       "      <th>local or EnglishWikipedia article</th>\n",
       "      <th>comment\\n</th>\n",
       "    </tr>\n",
       "  </thead>\n",
       "  <tbody>\n",
       "    <tr>\n",
       "      <th>0</th>\n",
       "      <td>aa</td>\n",
       "      <td>Afar</td>\n",
       "      <td>ltr</td>\n",
       "      <td>Afar</td>\n",
       "      <td>None</td>\n",
       "      <td>None</td>\n",
       "    </tr>\n",
       "    <tr>\n",
       "      <th>1</th>\n",
       "      <td>ab</td>\n",
       "      <td>Abkhazian</td>\n",
       "      <td>ltr</td>\n",
       "      <td>Аҧсуа</td>\n",
       "      <td>None</td>\n",
       "      <td>None</td>\n",
       "    </tr>\n",
       "    <tr>\n",
       "      <th>2</th>\n",
       "      <td>af</td>\n",
       "      <td>Afrikaans</td>\n",
       "      <td>ltr</td>\n",
       "      <td>Afrikaans</td>\n",
       "      <td>None</td>\n",
       "      <td>None</td>\n",
       "    </tr>\n",
       "    <tr>\n",
       "      <th>3</th>\n",
       "      <td>ak</td>\n",
       "      <td>Akan</td>\n",
       "      <td>ltr</td>\n",
       "      <td>Akana</td>\n",
       "      <td>None</td>\n",
       "      <td>None</td>\n",
       "    </tr>\n",
       "    <tr>\n",
       "      <th>4</th>\n",
       "      <td>als</td>\n",
       "      <td>Alemannic</td>\n",
       "      <td>ltr</td>\n",
       "      <td>Alemannisch</td>\n",
       "      <td>None</td>\n",
       "      <td>None</td>\n",
       "    </tr>\n",
       "  </tbody>\n",
       "</table>\n",
       "</div>"
      ],
      "text/plain": [
       "  code Englishlanguage name directionality locallanguage name  \\\n",
       "0   aa                 Afar            ltr               Afar   \n",
       "1   ab            Abkhazian            ltr              Аҧсуа   \n",
       "2   af            Afrikaans            ltr          Afrikaans   \n",
       "3   ak                 Akan            ltr              Akana   \n",
       "4  als            Alemannic            ltr        Alemannisch   \n",
       "\n",
       "  local or EnglishWikipedia article comment\\n  \n",
       "0                              None      None  \n",
       "1                              None      None  \n",
       "2                              None      None  \n",
       "3                              None      None  \n",
       "4                              None      None  "
      ]
     },
     "execution_count": 17,
     "metadata": {},
     "output_type": "execute_result"
    }
   ],
   "source": [
    "language_mapping.head()"
   ]
  },
  {
   "cell_type": "code",
   "execution_count": 18,
   "id": "170d38b2",
   "metadata": {},
   "outputs": [],
   "source": [
    "language_output = pd.merge(df_language[['Country', 'Language', 'Official language', 'Total']], \n",
    "                           df_total[['Language', 'Worldwide total']], on = ['Language'])\n",
    "language_output = language_output.merge(language_mapping[['code', 'Englishlanguage name']],\n",
    "                                                        left_on = 'Language',  right_on = 'Englishlanguage name')"
   ]
  },
  {
   "cell_type": "code",
   "execution_count": 19,
   "id": "4ef713aa",
   "metadata": {},
   "outputs": [
    {
     "data": {
      "text/html": [
       "<div>\n",
       "<style scoped>\n",
       "    .dataframe tbody tr th:only-of-type {\n",
       "        vertical-align: middle;\n",
       "    }\n",
       "\n",
       "    .dataframe tbody tr th {\n",
       "        vertical-align: top;\n",
       "    }\n",
       "\n",
       "    .dataframe thead th {\n",
       "        text-align: right;\n",
       "    }\n",
       "</style>\n",
       "<table border=\"1\" class=\"dataframe\">\n",
       "  <thead>\n",
       "    <tr style=\"text-align: right;\">\n",
       "      <th></th>\n",
       "      <th>Country</th>\n",
       "      <th>Language</th>\n",
       "      <th>Official language</th>\n",
       "      <th>Total</th>\n",
       "      <th>Worldwide total</th>\n",
       "      <th>code</th>\n",
       "      <th>Englishlanguage name</th>\n",
       "    </tr>\n",
       "  </thead>\n",
       "  <tbody>\n",
       "    <tr>\n",
       "      <th>255</th>\n",
       "      <td>Finland</td>\n",
       "      <td>Finnish</td>\n",
       "      <td>yes</td>\n",
       "      <td>5,165,000</td>\n",
       "      <td>5,165,000250,0009,0001,000</td>\n",
       "      <td>fi</td>\n",
       "      <td>Finnish</td>\n",
       "    </tr>\n",
       "    <tr>\n",
       "      <th>256</th>\n",
       "      <td>Sweden</td>\n",
       "      <td>Finnish</td>\n",
       "      <td>no</td>\n",
       "      <td>250,000</td>\n",
       "      <td>5,165,000250,0009,0001,000</td>\n",
       "      <td>fi</td>\n",
       "      <td>Finnish</td>\n",
       "    </tr>\n",
       "    <tr>\n",
       "      <th>257</th>\n",
       "      <td>Estonia</td>\n",
       "      <td>Finnish</td>\n",
       "      <td>no</td>\n",
       "      <td>9,000</td>\n",
       "      <td>5,165,000250,0009,0001,000</td>\n",
       "      <td>fi</td>\n",
       "      <td>Finnish</td>\n",
       "    </tr>\n",
       "    <tr>\n",
       "      <th>258</th>\n",
       "      <td>Åland Islands</td>\n",
       "      <td>Finnish</td>\n",
       "      <td>no</td>\n",
       "      <td>1,000</td>\n",
       "      <td>5,165,000250,0009,0001,000</td>\n",
       "      <td>fi</td>\n",
       "      <td>Finnish</td>\n",
       "    </tr>\n",
       "  </tbody>\n",
       "</table>\n",
       "</div>"
      ],
      "text/plain": [
       "           Country Language Official language      Total  \\\n",
       "255        Finland  Finnish               yes  5,165,000   \n",
       "256         Sweden  Finnish                no    250,000   \n",
       "257        Estonia  Finnish                no      9,000   \n",
       "258  Åland Islands  Finnish                no      1,000   \n",
       "\n",
       "                Worldwide total code Englishlanguage name  \n",
       "255  5,165,000250,0009,0001,000   fi              Finnish  \n",
       "256  5,165,000250,0009,0001,000   fi              Finnish  \n",
       "257  5,165,000250,0009,0001,000   fi              Finnish  \n",
       "258  5,165,000250,0009,0001,000   fi              Finnish  "
      ]
     },
     "execution_count": 19,
     "metadata": {},
     "output_type": "execute_result"
    }
   ],
   "source": [
    "language_output[language_output['Language'] == 'Finnish']"
   ]
  },
  {
   "cell_type": "code",
   "execution_count": 20,
   "id": "d91fb3e2",
   "metadata": {},
   "outputs": [],
   "source": [
    "language_output = language_output[['code', 'Language', 'Country', 'Official language', 'Total', 'Worldwide total']]"
   ]
  },
  {
   "cell_type": "code",
   "execution_count": 21,
   "id": "65b78f6a",
   "metadata": {},
   "outputs": [],
   "source": [
    "import boto3\n",
    "import io"
   ]
  },
  {
   "cell_type": "code",
   "execution_count": 22,
   "id": "e0c62325",
   "metadata": {},
   "outputs": [],
   "source": [
    "def to_s3(filename, output_bucket, content):\n",
    "    client = boto3.client('s3')\n",
    "    client.put_object(Bucket=output_bucket, Key=filename, Body=content)"
   ]
  },
  {
   "cell_type": "code",
   "execution_count": 23,
   "id": "4e1edb66",
   "metadata": {},
   "outputs": [
    {
     "name": "stderr",
     "output_type": "stream",
     "text": [
      "/home/ec2-user/anaconda3/envs/python3/lib/python3.6/site-packages/boto3/compat.py:88: PythonDeprecationWarning: Boto3 will no longer support Python 3.6 starting May 30, 2022. To continue receiving service updates, bug fixes, and security updates please upgrade to Python 3.7 or later. More information can be found here: https://aws.amazon.com/blogs/developer/python-support-policy-updates-for-aws-sdks-and-tools/\n",
      "  warnings.warn(warning, PythonDeprecationWarning)\n"
     ]
    }
   ],
   "source": [
    "output_bucket = 'hbo-outbound-datascience-content-dev'\n",
    "s3 = boto3.resource('s3')\n",
    "bucket = s3.Bucket(output_bucket)"
   ]
  },
  {
   "cell_type": "code",
   "execution_count": 24,
   "id": "2729db16",
   "metadata": {},
   "outputs": [],
   "source": [
    "csv_buffer = io.StringIO()\n",
    "language_output.to_csv(csv_buffer, index = False)\n",
    "content = csv_buffer.getvalue()\n",
    "filename = 'market_share_of_demand/Language_Country_Mapping_all.csv'\n",
    "to_s3(filename, output_bucket, content)"
   ]
  },
  {
   "cell_type": "code",
   "execution_count": null,
   "id": "1984eae1",
   "metadata": {},
   "outputs": [],
   "source": []
  }
 ],
 "metadata": {
  "kernelspec": {
   "display_name": "conda_python3",
   "language": "python",
   "name": "conda_python3"
  },
  "language_info": {
   "codemirror_mode": {
    "name": "ipython",
    "version": 3
   },
   "file_extension": ".py",
   "mimetype": "text/x-python",
   "name": "python",
   "nbconvert_exporter": "python",
   "pygments_lexer": "ipython3",
   "version": "3.6.13"
  }
 },
 "nbformat": 4,
 "nbformat_minor": 5
}
