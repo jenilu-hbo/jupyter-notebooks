{
 "cells": [
  {
   "cell_type": "code",
   "execution_count": 1,
   "id": "fbad9708",
   "metadata": {
    "scrolled": true
   },
   "outputs": [],
   "source": [
    "# !pip install snowflake --user\n",
    "# !pip install snowflake-connector-python --user\n",
    "# !pip install matplotlib\n",
    "# !pip install seaborn"
   ]
  },
  {
   "cell_type": "markdown",
   "id": "6ab4bb39",
   "metadata": {},
   "source": [
    "# Data"
   ]
  },
  {
   "cell_type": "code",
   "execution_count": 1,
   "id": "916ee6c2",
   "metadata": {},
   "outputs": [],
   "source": [
    "import os\n",
    "import sys\n",
    "path=!pwd\n",
    "sys.path.append(os.path.join(path[0], '..'))\n",
    "from utils import *\n",
    "import snowflake.connector"
   ]
  },
  {
   "cell_type": "code",
   "execution_count": 2,
   "id": "dc013059",
   "metadata": {},
   "outputs": [],
   "source": [
    "pd.set_option('display.max_rows', 1000)"
   ]
  },
  {
   "cell_type": "code",
   "execution_count": 3,
   "id": "4b34ee4a",
   "metadata": {
    "scrolled": true
   },
   "outputs": [],
   "source": [
    "class SnowflakeConnector(BaseConnector):\n",
    "    def __init__(self, credentials: Credentials):\n",
    "        keys = credentials.get_keys()\n",
    "        self._secrets = json.loads(keys.get('SecretString', \"{}\"))\n",
    "\n",
    "    def connect(self, dbname: str, schema: str = 'DEFAULT'):\n",
    "        ctx = snowflake.connector.connect(\n",
    "            user=self._secrets['login_name'],\n",
    "            password=self._secrets['login_password'],\n",
    "            account=self._secrets['account'],\n",
    "            warehouse=self._secrets['warehouse'],\n",
    "            database=dbname,\n",
    "            schema=schema\n",
    "        )\n",
    "\n",
    "        return ctx\n",
    "    \n",
    "## Credentials\n",
    "SF_CREDS = 'datascience-max-dev-sagemaker-notebooks'\n",
    "\n",
    "## Snowflake connection \n",
    "conn=SnowflakeConnector(SSMPSCredentials(SF_CREDS))\n",
    "ctx=conn.connect(\"MAX_PROD\",\"DATASCIENCE_STAGE\")"
   ]
  },
  {
   "cell_type": "code",
   "execution_count": 4,
   "id": "dc6b0ddf",
   "metadata": {},
   "outputs": [],
   "source": [
    "def run_query(query):\n",
    "    cursor = ctx.cursor()\n",
    "    cursor.execute(query)\n",
    "    df = pd.DataFrame(cursor.fetchall(), columns = [desc[0] for desc in cursor.description])\n",
    "    df.columns= df.columns.str.lower()\n",
    "    return df"
   ]
  },
  {
   "cell_type": "markdown",
   "id": "641f4812",
   "metadata": {},
   "source": [
    "# Input Data"
   ]
  },
  {
   "cell_type": "code",
   "execution_count": 13,
   "id": "0596e09e",
   "metadata": {},
   "outputs": [],
   "source": [
    "import itertools as it\n",
    "import os\n",
    "import io\n",
    "import logging\n",
    "\n",
    "import boto3\n",
    "import sys"
   ]
  },
  {
   "cell_type": "code",
   "execution_count": 49,
   "id": "0d737bcd",
   "metadata": {},
   "outputs": [],
   "source": [
    "logger = logging.getLogger()\n",
    "logger.info(f'Loading inputs')\n",
    "data_list ={}\n",
    "\n",
    "s3 = boto3.resource('s3')\n",
    "bucket = s3.Bucket('hbo-ingest-datascience-content-dev')"
   ]
  },
  {
   "cell_type": "code",
   "execution_count": 50,
   "id": "d0d4401a",
   "metadata": {},
   "outputs": [
    {
     "name": "stdout",
     "output_type": "stream",
     "text": [
      "Reading cost_feature features\n",
      "Reading funnel_metric_feature features\n",
      "Reading media_cost_postlaunch_feature features\n",
      "Reading media_cost_prelaunch_feature features\n",
      "Reading metadata_feature features\n",
      "Reading prelaunch_trailer_feature features\n",
      "Reading production_budget_imdb_feature features\n",
      "Reading sub_total_feature features\n",
      "Reading trailer_feature features\n",
      "Reading vtp_feature features\n"
     ]
    }
   ],
   "source": [
    "for obj in bucket.objects.filter(Prefix='input_percent_view'):\n",
    "    key = obj.key\n",
    "    logger.info('Loading csv file {}'.format(key))\n",
    "    body = obj.get()['Body']\n",
    "    var_name = key.split('.')[0].split('/')[1]\n",
    "    print('Reading {0} features'.format(var_name))\n",
    "    df = pd.read_csv(body, na_values = [np.NaN])\n",
    "#     exec(\"{0}=pd.read_csv(body, na_values = [r'\\\\\\\\N'])\".format(var_name))\n",
    "    df.columns = df.columns.str.lower()\n",
    "    #     exec(\"{0}.columns = {0}.columns.str.lower()\".format(var_name))\n",
    "\n",
    "    # exclude the full null columns\n",
    "    df = df.loc[:, df.isnull().sum()!=df.shape[0]]\n",
    "    #     exec(\"{0} = {0}.loc[:,{0}.isnull().sum()!={0}.shape[0]]\".format(var_name))\n",
    "\n",
    "    # exclude the old Mortal Kombat movie because the trailer percent view \n",
    "    # matching matches the trailer of the new movie to the old movie\n",
    "    df = df.loc[df['match_id_platform'].\\\n",
    "    isin(['1-GYGQBcwsaCIW2XgEAAAAL', '0-GYGQBcwsaCIW2XgEAAAAL'])==False,:]\\\n",
    "    .reset_index(drop = True)\n",
    "    #     exec(\"{0} = {0}.loc[{0}['match_id_platform'].\\\n",
    "    #     isin(['1-GYGQBcwsaCIW2XgEAAAAL', '0-GYGQBcwsaCIW2XgEAAAAL'])==False,:]\\\n",
    "    #     .reset_index(drop = True)\".format(var_name))\n",
    "\n",
    "    # append the feature df\n",
    "    data_list[var_name] = df\n",
    "    #     exec(\"data_list.append({0})\".format(var_name))"
   ]
  },
  {
   "cell_type": "code",
   "execution_count": 54,
   "id": "1a99ee05",
   "metadata": {},
   "outputs": [
    {
     "data": {
      "text/plain": [
       "dict_keys(['cost_feature', 'funnel_metric_feature', 'media_cost_postlaunch_feature', 'media_cost_prelaunch_feature', 'metadata_feature', 'prelaunch_trailer_feature', 'production_budget_imdb_feature', 'sub_total_feature', 'trailer_feature', 'vtp_feature'])"
      ]
     },
     "execution_count": 54,
     "metadata": {},
     "output_type": "execute_result"
    }
   ],
   "source": [
    "data_list.keys()"
   ]
  },
  {
   "cell_type": "code",
   "execution_count": 69,
   "id": "72eacaac",
   "metadata": {},
   "outputs": [],
   "source": []
  },
  {
   "cell_type": "code",
   "execution_count": 70,
   "id": "28adb1d4",
   "metadata": {},
   "outputs": [],
   "source": [
    "metadata_feature = data_list['metadata_feature']"
   ]
  },
  {
   "cell_type": "code",
   "execution_count": 71,
   "id": "583fce7b",
   "metadata": {},
   "outputs": [
    {
     "data": {
      "text/html": [
       "<div>\n",
       "<style scoped>\n",
       "    .dataframe tbody tr th:only-of-type {\n",
       "        vertical-align: middle;\n",
       "    }\n",
       "\n",
       "    .dataframe tbody tr th {\n",
       "        vertical-align: top;\n",
       "    }\n",
       "\n",
       "    .dataframe thead th {\n",
       "        text-align: right;\n",
       "    }\n",
       "</style>\n",
       "<table border=\"1\" class=\"dataframe\">\n",
       "  <thead>\n",
       "    <tr style=\"text-align: right;\">\n",
       "      <th></th>\n",
       "      <th>title_name</th>\n",
       "      <th>match_id</th>\n",
       "      <th>match_id_platform</th>\n",
       "      <th>season_number_adj</th>\n",
       "      <th>earliest_offered_timestamp</th>\n",
       "      <th>platform_name</th>\n",
       "      <th>program_type</th>\n",
       "      <th>content_category</th>\n",
       "      <th>single_episode_ind</th>\n",
       "      <th>in_sequantial_releasing_period</th>\n",
       "      <th>at_release_year</th>\n",
       "      <th>dayofweek_earliest_date</th>\n",
       "      <th>total_hours</th>\n",
       "      <th>prod_release_year</th>\n",
       "      <th>title_age_approx</th>\n",
       "      <th>licensor_agg</th>\n",
       "      <th>descriptive_genre_desc_agg</th>\n",
       "      <th>wm_enterprise_genres_agg</th>\n",
       "      <th>navigation_genre_desc_agg</th>\n",
       "    </tr>\n",
       "  </thead>\n",
       "  <tbody>\n",
       "    <tr>\n",
       "      <th>9094</th>\n",
       "      <td>Malignant</td>\n",
       "      <td>GYSaKIQwrHruinAEAAABN</td>\n",
       "      <td>1-GYSaKIQwrHruinAEAAABN</td>\n",
       "      <td>-1</td>\n",
       "      <td>2021-09-10 07:01:00.000</td>\n",
       "      <td>1</td>\n",
       "      <td>acquired</td>\n",
       "      <td>movies</td>\n",
       "      <td>1</td>\n",
       "      <td>0</td>\n",
       "      <td>1</td>\n",
       "      <td>5</td>\n",
       "      <td>1.791111</td>\n",
       "      <td>2021</td>\n",
       "      <td>0.0</td>\n",
       "      <td>warner bros. inc., warner media direct, llc</td>\n",
       "      <td>horror|thriller</td>\n",
       "      <td>crime | horror | suspense</td>\n",
       "      <td>horror|thriller</td>\n",
       "    </tr>\n",
       "  </tbody>\n",
       "</table>\n",
       "</div>"
      ],
      "text/plain": [
       "     title_name               match_id        match_id_platform  \\\n",
       "9094  Malignant  GYSaKIQwrHruinAEAAABN  1-GYSaKIQwrHruinAEAAABN   \n",
       "\n",
       "      season_number_adj earliest_offered_timestamp  platform_name  \\\n",
       "9094                 -1    2021-09-10 07:01:00.000              1   \n",
       "\n",
       "     program_type content_category  single_episode_ind  \\\n",
       "9094     acquired           movies                   1   \n",
       "\n",
       "      in_sequantial_releasing_period  at_release_year  \\\n",
       "9094                               0                1   \n",
       "\n",
       "      dayofweek_earliest_date  total_hours  prod_release_year  \\\n",
       "9094                        5     1.791111               2021   \n",
       "\n",
       "      title_age_approx                                 licensor_agg  \\\n",
       "9094               0.0  warner bros. inc., warner media direct, llc   \n",
       "\n",
       "     descriptive_genre_desc_agg   wm_enterprise_genres_agg  \\\n",
       "9094            horror|thriller  crime | horror | suspense   \n",
       "\n",
       "     navigation_genre_desc_agg  \n",
       "9094           horror|thriller  "
      ]
     },
     "execution_count": 71,
     "metadata": {},
     "output_type": "execute_result"
    }
   ],
   "source": [
    "metadata_feature[metadata_feature['title_name'] == 'Malignant']"
   ]
  },
  {
   "cell_type": "code",
   "execution_count": 73,
   "id": "4f75fd56",
   "metadata": {},
   "outputs": [
    {
     "data": {
      "text/html": [
       "<div>\n",
       "<style scoped>\n",
       "    .dataframe tbody tr th:only-of-type {\n",
       "        vertical-align: middle;\n",
       "    }\n",
       "\n",
       "    .dataframe tbody tr th {\n",
       "        vertical-align: top;\n",
       "    }\n",
       "\n",
       "    .dataframe thead th {\n",
       "        text-align: right;\n",
       "    }\n",
       "</style>\n",
       "<table border=\"1\" class=\"dataframe\">\n",
       "  <thead>\n",
       "    <tr style=\"text-align: right;\">\n",
       "      <th></th>\n",
       "      <th>match_id_platform</th>\n",
       "      <th>day000_trailer_metric_d28</th>\n",
       "      <th>day001_trailer_metric_d28</th>\n",
       "      <th>day002_trailer_metric_d28</th>\n",
       "      <th>day003_trailer_metric_d28</th>\n",
       "      <th>day004_trailer_metric_d28</th>\n",
       "      <th>day005_trailer_metric_d28</th>\n",
       "      <th>day006_trailer_metric_d28</th>\n",
       "      <th>day007_trailer_metric_d28</th>\n",
       "      <th>day008_trailer_metric_d28</th>\n",
       "      <th>...</th>\n",
       "      <th>day018_trailer_metric_d28</th>\n",
       "      <th>day019_trailer_metric_d28</th>\n",
       "      <th>day020_trailer_metric_d28</th>\n",
       "      <th>day021_trailer_metric_d28</th>\n",
       "      <th>day022_trailer_metric_d28</th>\n",
       "      <th>day023_trailer_metric_d28</th>\n",
       "      <th>day024_trailer_metric_d28</th>\n",
       "      <th>day025_trailer_metric_d28</th>\n",
       "      <th>day026_trailer_metric_d28</th>\n",
       "      <th>day027_trailer_metric_d28</th>\n",
       "    </tr>\n",
       "  </thead>\n",
       "  <tbody>\n",
       "    <tr>\n",
       "      <th>4656</th>\n",
       "      <td>1-GYSaKIQwrHruinAEAAABN</td>\n",
       "      <td>0.012449</td>\n",
       "      <td>0.009662</td>\n",
       "      <td>0.007358</td>\n",
       "      <td>0.004263</td>\n",
       "      <td>0.003988</td>\n",
       "      <td>0.003767</td>\n",
       "      <td>0.003562</td>\n",
       "      <td>0.003408</td>\n",
       "      <td>0.003304</td>\n",
       "      <td>...</td>\n",
       "      <td>0.002518</td>\n",
       "      <td>0.002415</td>\n",
       "      <td>0.002321</td>\n",
       "      <td>0.002239</td>\n",
       "      <td>0.002141</td>\n",
       "      <td>0.001518</td>\n",
       "      <td>0.000824</td>\n",
       "      <td>0.000246</td>\n",
       "      <td>0.000169</td>\n",
       "      <td>0.000094</td>\n",
       "    </tr>\n",
       "  </tbody>\n",
       "</table>\n",
       "<p>1 rows × 29 columns</p>\n",
       "</div>"
      ],
      "text/plain": [
       "            match_id_platform  day000_trailer_metric_d28  \\\n",
       "4656  1-GYSaKIQwrHruinAEAAABN                   0.012449   \n",
       "\n",
       "      day001_trailer_metric_d28  day002_trailer_metric_d28  \\\n",
       "4656                   0.009662                   0.007358   \n",
       "\n",
       "      day003_trailer_metric_d28  day004_trailer_metric_d28  \\\n",
       "4656                   0.004263                   0.003988   \n",
       "\n",
       "      day005_trailer_metric_d28  day006_trailer_metric_d28  \\\n",
       "4656                   0.003767                   0.003562   \n",
       "\n",
       "      day007_trailer_metric_d28  day008_trailer_metric_d28  ...  \\\n",
       "4656                   0.003408                   0.003304  ...   \n",
       "\n",
       "      day018_trailer_metric_d28  day019_trailer_metric_d28  \\\n",
       "4656                   0.002518                   0.002415   \n",
       "\n",
       "      day020_trailer_metric_d28  day021_trailer_metric_d28  \\\n",
       "4656                   0.002321                   0.002239   \n",
       "\n",
       "      day022_trailer_metric_d28  day023_trailer_metric_d28  \\\n",
       "4656                   0.002141                   0.001518   \n",
       "\n",
       "      day024_trailer_metric_d28  day025_trailer_metric_d28  \\\n",
       "4656                   0.000824                   0.000246   \n",
       "\n",
       "      day026_trailer_metric_d28  day027_trailer_metric_d28  \n",
       "4656                   0.000169                   0.000094  \n",
       "\n",
       "[1 rows x 29 columns]"
      ]
     },
     "execution_count": 73,
     "metadata": {},
     "output_type": "execute_result"
    }
   ],
   "source": [
    "prelaunch_trailer_feature = data_list['prelaunch_trailer_feature']\n",
    "prelaunch_trailer_feature[prelaunch_trailer_feature['match_id_platform'] == '1-GYSaKIQwrHruinAEAAABN']"
   ]
  },
  {
   "cell_type": "code",
   "execution_count": 74,
   "id": "ca6671e6",
   "metadata": {},
   "outputs": [
    {
     "data": {
      "text/html": [
       "<div>\n",
       "<style scoped>\n",
       "    .dataframe tbody tr th:only-of-type {\n",
       "        vertical-align: middle;\n",
       "    }\n",
       "\n",
       "    .dataframe tbody tr th {\n",
       "        vertical-align: top;\n",
       "    }\n",
       "\n",
       "    .dataframe thead th {\n",
       "        text-align: right;\n",
       "    }\n",
       "</style>\n",
       "<table border=\"1\" class=\"dataframe\">\n",
       "  <thead>\n",
       "    <tr style=\"text-align: right;\">\n",
       "      <th></th>\n",
       "      <th>match_id_platform</th>\n",
       "      <th>cumulative_day_num</th>\n",
       "      <th>total_trailer_num</th>\n",
       "      <th>retail_trailer_view_metric</th>\n",
       "      <th>avg_trail_metric_per_day</th>\n",
       "    </tr>\n",
       "  </thead>\n",
       "  <tbody>\n",
       "    <tr>\n",
       "      <th>19</th>\n",
       "      <td>1-GYSaKIQwrHruinAEAAABN</td>\n",
       "      <td>52</td>\n",
       "      <td>5</td>\n",
       "      <td>0.012954</td>\n",
       "      <td>0.000249</td>\n",
       "    </tr>\n",
       "  </tbody>\n",
       "</table>\n",
       "</div>"
      ],
      "text/plain": [
       "          match_id_platform  cumulative_day_num  total_trailer_num  \\\n",
       "19  1-GYSaKIQwrHruinAEAAABN                  52                  5   \n",
       "\n",
       "    retail_trailer_view_metric  avg_trail_metric_per_day  \n",
       "19                    0.012954                  0.000249  "
      ]
     },
     "execution_count": 74,
     "metadata": {},
     "output_type": "execute_result"
    }
   ],
   "source": [
    "trailer_feature = data_list['trailer_feature']\n",
    "trailer_feature[trailer_feature['match_id_platform'] == '1-GYSaKIQwrHruinAEAAABN']"
   ]
  },
  {
   "cell_type": "code",
   "execution_count": null,
   "id": "bd8e15b1",
   "metadata": {},
   "outputs": [],
   "source": []
  },
  {
   "cell_type": "code",
   "execution_count": 75,
   "id": "1096ea35",
   "metadata": {},
   "outputs": [
    {
     "name": "stdout",
     "output_type": "stream",
     "text": [
      "Current Time = 21:26:20\n"
     ]
    }
   ],
   "source": [
    "from datetime import datetime\n",
    "\n",
    "now = datetime.now()\n",
    "\n",
    "current_time = now.strftime(\"%H:%M:%S\")\n",
    "print(\"Current Time =\", current_time)"
   ]
  },
  {
   "cell_type": "code",
   "execution_count": 76,
   "id": "0c3a07a6",
   "metadata": {},
   "outputs": [
    {
     "data": {
      "text/plain": [
       "datetime.datetime(2021, 9, 22, 21, 26, 20, 510647)"
      ]
     },
     "execution_count": 76,
     "metadata": {},
     "output_type": "execute_result"
    }
   ],
   "source": [
    "now"
   ]
  }
 ],
 "metadata": {
  "kernelspec": {
   "display_name": "conda_python3",
   "language": "python",
   "name": "conda_python3"
  },
  "language_info": {
   "codemirror_mode": {
    "name": "ipython",
    "version": 3
   },
   "file_extension": ".py",
   "mimetype": "text/x-python",
   "name": "python",
   "nbconvert_exporter": "python",
   "pygments_lexer": "ipython3",
   "version": "3.6.13"
  }
 },
 "nbformat": 4,
 "nbformat_minor": 5
}
