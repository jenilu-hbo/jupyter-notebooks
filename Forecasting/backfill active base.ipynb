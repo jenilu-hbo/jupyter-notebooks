{
 "cells": [
  {
   "cell_type": "code",
   "execution_count": 2,
   "id": "8fdebc46",
   "metadata": {},
   "outputs": [],
   "source": [
    "import os\n",
    "import sys\n",
    "path=!pwd\n",
    "sys.path.append(os.path.join(path[0], '..'))\n",
    "from utils import *\n",
    "import snowflake.connector"
   ]
  },
  {
   "cell_type": "code",
   "execution_count": 3,
   "id": "26d92b9d",
   "metadata": {},
   "outputs": [],
   "source": [
    "class SnowflakeConnector(BaseConnector):\n",
    "    def __init__(self, credentials: Credentials):\n",
    "        keys = credentials.get_keys()\n",
    "        self._secrets = json.loads(keys.get('SecretString', \"{}\"))\n",
    "\n",
    "    def connect(self, dbname: str, schema: str = 'DEFAULT'):\n",
    "        ctx = snowflake.connector.connect(\n",
    "            user=self._secrets['login_name'],\n",
    "            password=self._secrets['login_password'],\n",
    "            account=self._secrets['account'],\n",
    "            warehouse=self._secrets['warehouse'],\n",
    "            database=dbname,\n",
    "            schema=schema\n",
    "        )\n",
    "\n",
    "        return ctx\n",
    "    \n",
    "## Credentials\n",
    "SF_CREDS = 'datascience-max-dev-sagemaker-notebooks'\n",
    "\n",
    "## Snowflake connection \n",
    "conn=SnowflakeConnector(SSMPSCredentials(SF_CREDS))\n",
    "ctx=conn.connect(\"MAX_PROD\",\"DATASCIENCE_STAGE\")\n",
    "\n",
    "def run_query(query):\n",
    "    cursor = ctx.cursor()\n",
    "    cursor.execute(query)\n",
    "    df = pd.DataFrame(cursor.fetchall(), columns = [desc[0] for desc in cursor.description])\n",
    "    df.columns= df.columns.str.lower()\n",
    "    return df"
   ]
  },
  {
   "cell_type": "code",
   "execution_count": 8,
   "id": "2ac1640b",
   "metadata": {},
   "outputs": [],
   "source": [
    "qry = '''\n",
    "--INSERT INTO max_dev.workspace.{table}\n",
    "WITH date AS\n",
    "    (\n",
    "    select seq_date from \"MAX_PROD\".\"STAGING\".\"DATE_RANGE\" \n",
    "    where seq_date <= CURRENT_DATE()\n",
    "    and seq_date >= '2020-05-23'\n",
    "    ), \n",
    "    \n",
    "date_range AS \n",
    "    (SELECT \n",
    "        d1.seq_date as start_date,\n",
    "        d2.seq_date as end_date\n",
    "    from date d1\n",
    "    join date d2\n",
    "    ON d2.seq_date >= d1.seq_date\n",
    "    and d2.seq_date <= dateadd(day, 28, d1.seq_date)\n",
    "    where d1.seq_date = '{date}'\n",
    "     )\n",
    "\n",
    "SELECT \n",
    "    dr.start_date, dr.end_date,\n",
    "    count(distinct hbo_uuid) as total_viewing_accounts\n",
    "from max_prod.viewership.max_user_stream_heartbeat a\n",
    " left join date_range dr on 1=1\n",
    " left join max_prod.catalog.reporting_asset_dim b on a.viewable_id=b.viewable_id\n",
    " left join max_prod.core.geo_map c on a.country_iso_code=c.country_iso_code\n",
    " left join max_prod.catalog.reporting_asset_offering_dim d on a.viewable_id=d.viewable_id and brand='HBO MAX' and c.territory=d.territory and d.channel='HBO MAX SUBSCRIPTION'\n",
    "where a.stream_elapsed_play_seconds>=120\n",
    " and first_offered_date<=a.request_time_gmt\n",
    " and region='NORTH AMERICA'\n",
    " and asset_type='FEATURE'\n",
    " and video_type='main'\n",
    " and a.request_date between dr.start_date and dr.end_date\n",
    "group by 1, 2\n",
    "order by 1, 2;\n",
    "\n",
    "'''"
   ]
  },
  {
   "cell_type": "code",
   "execution_count": 10,
   "id": "3f1afa2a",
   "metadata": {},
   "outputs": [
    {
     "name": "stdout",
     "output_type": "stream",
     "text": [
      "\n",
      "--INSERT INTO max_dev.workspace.\n",
      "WITH date AS\n",
      "    (\n",
      "    select seq_date from \"MAX_PROD\".\"STAGING\".\"DATE_RANGE\" \n",
      "    where seq_date <= CURRENT_DATE()\n",
      "    and seq_date >= '2020-05-23'\n",
      "    ), \n",
      "    \n",
      "date_range AS \n",
      "    (SELECT \n",
      "        d1.seq_date as start_date,\n",
      "        d2.seq_date as end_date\n",
      "    from date d1\n",
      "    join date d2\n",
      "    ON d2.seq_date >= d1.seq_date\n",
      "    and d2.seq_date <= dateadd(day, 28, d1.seq_date)\n",
      "    where d1.seq_date = '2021-05-23'\n",
      "     )\n",
      "\n",
      "SELECT \n",
      "    dr.start_date, dr.end_date,\n",
      "    count(distinct hbo_uuid) as total_viewing_accounts\n",
      "from max_prod.viewership.max_user_stream_heartbeat a\n",
      " left join date_range dr on 1=1\n",
      " left join max_prod.catalog.reporting_asset_dim b on a.viewable_id=b.viewable_id\n",
      " left join max_prod.core.geo_map c on a.country_iso_code=c.country_iso_code\n",
      " left join max_prod.catalog.reporting_asset_offering_dim d on a.viewable_id=d.viewable_id and brand='HBO MAX' and c.territory=d.territory and d.channel='HBO MAX SUBSCRIPTION'\n",
      "where a.stream_elapsed_play_seconds>=120\n",
      " and first_offered_date<=a.request_time_gmt\n",
      " and region='NORTH AMERICA'\n",
      " and asset_type='FEATURE'\n",
      " and video_type='main'\n",
      " and a.request_date between dr.start_date and dr.end_date\n",
      "group by 1, 2\n",
      "order by 1, 2;\n",
      "\n",
      "\n"
     ]
    },
    {
     "ename": "NameError",
     "evalue": "name 'timedelta' is not defined",
     "output_type": "error",
     "traceback": [
      "\u001b[0;31m---------------------------------------------------------------------------\u001b[0m",
      "\u001b[0;31mNameError\u001b[0m                                 Traceback (most recent call last)",
      "\u001b[0;32m<ipython-input-10-90dc0d13bd07>\u001b[0m in \u001b[0;36m<module>\u001b[0;34m\u001b[0m\n\u001b[1;32m      8\u001b[0m     \u001b[0mprint\u001b[0m \u001b[0;34m(\u001b[0m\u001b[0mquery\u001b[0m\u001b[0;34m)\u001b[0m\u001b[0;34m\u001b[0m\u001b[0;34m\u001b[0m\u001b[0m\n\u001b[1;32m      9\u001b[0m     \u001b[0mdf\u001b[0m \u001b[0;34m=\u001b[0m \u001b[0mrun_query\u001b[0m\u001b[0;34m(\u001b[0m\u001b[0mquery\u001b[0m\u001b[0;34m)\u001b[0m\u001b[0;34m\u001b[0m\u001b[0;34m\u001b[0m\u001b[0m\n\u001b[0;32m---> 10\u001b[0;31m     \u001b[0mt\u001b[0m\u001b[0;34m=\u001b[0m\u001b[0mt\u001b[0m\u001b[0;34m+\u001b[0m \u001b[0mtimedelta\u001b[0m\u001b[0;34m(\u001b[0m\u001b[0mdays\u001b[0m\u001b[0;34m=\u001b[0m\u001b[0;36m1\u001b[0m\u001b[0;34m)\u001b[0m\u001b[0;34m\u001b[0m\u001b[0;34m\u001b[0m\u001b[0m\n\u001b[0m\u001b[1;32m     11\u001b[0m     \u001b[0mprint\u001b[0m \u001b[0;34m(\u001b[0m\u001b[0mdf\u001b[0m\u001b[0;34m)\u001b[0m\u001b[0;34m\u001b[0m\u001b[0;34m\u001b[0m\u001b[0m\n\u001b[1;32m     12\u001b[0m     \u001b[0mprint\u001b[0m \u001b[0;34m(\u001b[0m\u001b[0mt\u001b[0m\u001b[0;34m)\u001b[0m\u001b[0;34m\u001b[0m\u001b[0;34m\u001b[0m\u001b[0m\n",
      "\u001b[0;31mNameError\u001b[0m: name 'timedelta' is not defined"
     ]
    }
   ],
   "source": [
    "t=date(2020,5,23)\n",
    "\n",
    "while (t>=date(2020,5,23) and t<date(2021,9,20)):\n",
    "    print (t)\n",
    "    query = qry.format(\n",
    "                    date=t.strftime('%Y-%m-%d'),\n",
    "                    table = 'actives_base_28days'\n",
    "                    )\n",
    "    print (query)\n",
    "    df = run_query(query)\n",
    "    t=t+ timedelta(days=1)\n",
    "    print (df)\n",
    "    \n",
    "    break"
   ]
  },
  {
   "cell_type": "code",
   "execution_count": 12,
   "id": "bf9c11b8",
   "metadata": {},
   "outputs": [],
   "source": [
    "from datetime import timedelta"
   ]
  },
  {
   "cell_type": "code",
   "execution_count": 14,
   "id": "4c26e6fb",
   "metadata": {},
   "outputs": [
    {
     "name": "stdout",
     "output_type": "stream",
     "text": [
      "2021-05-25\n"
     ]
    }
   ],
   "source": [
    "t=t+ timedelta(days=1)\n",
    "print (t)"
   ]
  },
  {
   "cell_type": "code",
   "execution_count": 15,
   "id": "43944e6a",
   "metadata": {},
   "outputs": [
    {
     "name": "stdout",
     "output_type": "stream",
     "text": [
      "    start_date    end_date  total_viewing_accounts\n",
      "0   2021-05-23  2021-05-23                 6824545\n",
      "1   2021-05-23  2021-05-24                 9576452\n",
      "2   2021-05-23  2021-05-25                10942277\n",
      "3   2021-05-23  2021-05-26                11904898\n",
      "4   2021-05-23  2021-05-27                13113136\n",
      "5   2021-05-23  2021-05-28                14534234\n",
      "6   2021-05-23  2021-05-29                15638264\n",
      "7   2021-05-23  2021-05-30                16479242\n",
      "8   2021-05-23  2021-05-31                17155579\n",
      "9   2021-05-23  2021-06-01                17600552\n",
      "10  2021-05-23  2021-06-02                17933787\n",
      "11  2021-05-23  2021-06-03                18225406\n",
      "12  2021-05-23  2021-06-04                18566651\n",
      "13  2021-05-23  2021-06-05                19102327\n",
      "14  2021-05-23  2021-06-06                19608439\n",
      "15  2021-05-23  2021-06-07                19932227\n",
      "16  2021-05-23  2021-06-08                20181420\n",
      "17  2021-05-23  2021-06-09                20383137\n",
      "18  2021-05-23  2021-06-10                20574613\n",
      "19  2021-05-23  2021-06-11                20787011\n",
      "20  2021-05-23  2021-06-12                21064684\n",
      "21  2021-05-23  2021-06-13                21337217\n",
      "22  2021-05-23  2021-06-14                21513762\n",
      "23  2021-05-23  2021-06-15                21642708\n",
      "24  2021-05-23  2021-06-16                21753834\n",
      "25  2021-05-23  2021-06-17                21854791\n",
      "26  2021-05-23  2021-06-18                21961343\n",
      "27  2021-05-23  2021-06-19                22103112\n",
      "28  2021-05-23  2021-06-20                22251521\n"
     ]
    }
   ],
   "source": [
    "print (df)"
   ]
  },
  {
   "cell_type": "code",
   "execution_count": null,
   "id": "c89d9ac5",
   "metadata": {},
   "outputs": [],
   "source": []
  }
 ],
 "metadata": {
  "kernelspec": {
   "display_name": "conda_python3",
   "language": "python",
   "name": "conda_python3"
  },
  "language_info": {
   "codemirror_mode": {
    "name": "ipython",
    "version": 3
   },
   "file_extension": ".py",
   "mimetype": "text/x-python",
   "name": "python",
   "nbconvert_exporter": "python",
   "pygments_lexer": "ipython3",
   "version": "3.6.13"
  }
 },
 "nbformat": 4,
 "nbformat_minor": 5
}
