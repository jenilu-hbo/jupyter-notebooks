{
 "cells": [
  {
   "cell_type": "code",
   "execution_count": 1,
   "id": "ad41afa0",
   "metadata": {},
   "outputs": [],
   "source": [
    "# general\n",
    "import boto3\n",
    "import datetime as dt\n",
    "import json\n",
    "import numpy as np\n",
    "import pandas as pd\n",
    "import snowflake.connector"
   ]
  },
  {
   "cell_type": "code",
   "execution_count": 2,
   "id": "cbe26ac5",
   "metadata": {},
   "outputs": [],
   "source": [
    "pd.set_option('display.max_rows', 1000)\n",
    "pd.set_option('display.max_columns', 1000)"
   ]
  },
  {
   "cell_type": "code",
   "execution_count": 3,
   "id": "937e92b9",
   "metadata": {},
   "outputs": [],
   "source": [
    "pd.options.display.float_format = '{:,.2f}'.format"
   ]
  },
  {
   "cell_type": "markdown",
   "id": "4ee27995",
   "metadata": {},
   "source": [
    "### 0.2 : Connection to Snowflake"
   ]
  },
  {
   "cell_type": "code",
   "execution_count": 4,
   "id": "ac94e5ea",
   "metadata": {},
   "outputs": [
    {
     "name": "stderr",
     "output_type": "stream",
     "text": [
      "/home/ec2-user/anaconda3/envs/python3/lib/python3.6/site-packages/boto3/compat.py:88: PythonDeprecationWarning: Boto3 will no longer support Python 3.6 starting May 30, 2022. To continue receiving service updates, bug fixes, and security updates please upgrade to Python 3.7 or later. More information can be found here: https://aws.amazon.com/blogs/developer/python-support-policy-updates-for-aws-sdks-and-tools/\n",
      "  warnings.warn(warning, PythonDeprecationWarning)\n"
     ]
    }
   ],
   "source": [
    "from abc import ABCMeta, abstractmethod\n",
    "\n",
    "class Credentials(metaclass=ABCMeta):\n",
    "    pass\n",
    "    \n",
    "    \n",
    "class SSMPSCredentials(Credentials):\n",
    "    def __init__(self, secretid: str):\n",
    "        self._secretid = secretid\n",
    "        self._secrets = {}\n",
    "        \n",
    "    def get_keys(self):\n",
    "        \"\"\"\n",
    "        credential fetching \n",
    "        \"\"\"\n",
    "        _aws_sm_args = {'service_name': 'secretsmanager', 'region_name': 'us-east-1'}\n",
    "        secrets_client = boto3.client(**_aws_sm_args)\n",
    "        get_secret_value_response = secrets_client.get_secret_value(SecretId=self._secretid)\n",
    "        return get_secret_value_response\n",
    "    \n",
    "    \n",
    "class BaseConnector(metaclass=ABCMeta):\n",
    "    @abstractmethod\n",
    "    def connect(self):\n",
    "        raise NotImplementedError\n",
    "    \n",
    "\n",
    "class SnowflakeConnector(BaseConnector):\n",
    "    def __init__(self, credentials: Credentials):\n",
    "        keys = credentials.get_keys()\n",
    "        self._secrets = json.loads(keys.get('SecretString', \"{}\"))\n",
    "\n",
    "    def connect(self, dbname: str, schema: str = 'DEFAULT'):\n",
    "        ctx = snowflake.connector.connect(\n",
    "            user=self._secrets['login_name'],\n",
    "            password=self._secrets['login_password'],\n",
    "            account=self._secrets['account'],\n",
    "            warehouse=self._secrets['warehouse'],\n",
    "            database=dbname,\n",
    "            schema=schema\n",
    "        )\n",
    "\n",
    "        return ctx\n",
    "    \n",
    "## Credentials\n",
    "SF_CREDS = 'datascience-max-dev-sagemaker-notebooks'\n",
    "\n",
    "## Snowflake connection \n",
    "conn=SnowflakeConnector(SSMPSCredentials(SF_CREDS))\n",
    "ctx=conn.connect(\"MAX_DEV\",\"WORKSPACE\")\n",
    "\n",
    "def run_query(query):\n",
    "    cursor = ctx.cursor()\n",
    "    cursor.execute(query)\n",
    "    df = pd.DataFrame(cursor.fetchall(), columns = [desc[0] for desc in cursor.description])\n",
    "    df.columns= df.columns.str.lower()\n",
    "    return df"
   ]
  },
  {
   "cell_type": "code",
   "execution_count": 121,
   "id": "96251672",
   "metadata": {},
   "outputs": [],
   "source": [
    "query = run_query('''\n",
    "WITH cds_time_turner_prediction AS (with base_meta_data as ( --https://github.com/HBOCodeLabs/hbomax-ci-analytics-airflow/blob/release/prod/dags/ci_analytics/resources/sql/psi/create_movie_and_season_offering_window_table.sql\n",
    "            select distinct match_id, title_name, EARLIEST_OFFERED_TIMESTAMP as effective_start_date\n",
    "            from max_prod.workspace.title_retail_funnel_metrics\n",
    "            WHERE 1=1\n",
    "            AND (( title_name  IN ('And Just Like That... S1', 'The Flight Attendant S2', 'The White Lotus S2', 'The Sex Lives of College Girls S2', 'Hacks S2', 'The Gilded Age S1', 'Euphoria S2')))\n",
    "            OR  ((title_name LIKE '%And Just Like That S2%'))\n",
    "\n",
    "        )\n",
    "\n",
    "        , future_meta_data as(\n",
    "        select distinct CASE when season_number>0 then concat(title_name, ' S', season_number) else title_name end as title_name_long\n",
    "               , HOME_TERRITORY_OBSERVED_MEDAL as medal,\n",
    "              season_number, PREMIERE_DATE as effective_start_date\n",
    "        , case when season_number > 0 then concat(title_name, ' S', season_number) else title_name end as title_name_season\n",
    "        from max_prod.content_datascience.firstview_postgl\n",
    "        where ((title_name LIKE '%And Just Like That S2%'))\n",
    "        OR ((title_name_long LIKE '%And Just Like That S2%'))\n",
    "        )\n",
    "\n",
    "        , launched as (\n",
    "    --- % active actual\n",
    "            select distinct match_id, days_on_hbo_max,'pct_active' as kpi, 'actual' as data_type, 'postlaunch' as phase, NULL as pred_day, pct_actives as value\n",
    "            from max_prod.content_datascience.activepct_us_snapshot_v2\n",
    "\n",
    "            union\n",
    "\n",
    "    --- % view actual\n",
    "            select distinct match_id, DAYS_SINCE_FIRST_OFFERED as days_on_hbo_max,'retail_view' as kpi, 'actual' as data_type, 'postlaunch' as phase, NULL as pred_day, retail_viewed_count_percent * 100 as value\n",
    "            from max_prod.workspace.title_retail_funnel_metrics\n",
    "\n",
    "            union\n",
    "\n",
    "    --- first view actuals+postlaunch\n",
    "            select distinct case when season_number > 0 then concat(title_id, '-', season_number) else title_id end as match_id, DAYS_SINCE_PREMIERE as days_on_hbo_max\n",
    "            , 'first_views' as kpi\n",
    "            , CASE WHEN DAYS_SINCE_PREMIERE < DATEDIFF(day, EFFECTIVE_START_DATE, GETDATE()) THEN 'actual' ELSE 'prediction' END as data_type\n",
    "            , 'postlaunch' as phase, DATEDIFF(day, EFFECTIVE_START_DATE, GETDATE()) as pred_day\n",
    "            , SUM(PREDICTED_FIRST_VIEWS) OVER (PARTITION BY match_id ORDER BY days_on_hbo_max) AS value\n",
    "          from max_prod.content_analytics.psi_daily_rw_mean_forecast\n",
    "          where schedule_label='past'\n",
    "\n",
    "            union\n",
    "\n",
    "    --- Pre/Post-Launch for %active\n",
    "        select distinct match_id, target_day as days_on_hbo_max,'pct_active' as kpi, 'prediction' as data_type\n",
    "        , case when phase = 'Post-Launch' then 'postlaunch' else 'prelaunch' end as phase\n",
    "        , pred_day, prediction as value\n",
    "        from max_prod.content_datascience.activepct_postlaunch_us_pred_v2\n",
    "        where phase !='Post-GreenLight'\n",
    "        and prediction IS NOT NULL\n",
    "        qualify row_number() over(partition by match_id, target_day order by pred_day desc) = 1\n",
    "\n",
    "            union\n",
    "\n",
    "    --- Pre/Post-Launch for % view\n",
    "        select distinct match_id, target_day as days_on_hbo_max,'retail_view' as kpi, 'prediction' as data_type\n",
    "        , case when phase = 'Post-Launch' then 'postlaunch' else 'prelaunch' end as phase\n",
    "        , pred_day, prediction as value\n",
    "        from max_prod.content_datascience.viewpct_retail_postlaunch_us_pred\n",
    "        where phase !='Post-GreenLight'\n",
    "        and prediction IS NOT NULL\n",
    "        qualify row_number() over(partition by match_id, target_day order by pred_day desc) = 1\n",
    "        )\n",
    "\n",
    "        , future as (\n",
    "    --- pre-Launch for %active\n",
    "        select distinct title_name, target_day as days_on_hbo_max,'pct_active' as kpi, 'prediction' as data_type, pred_day, prediction as value, 'postgreenlight' as phase\n",
    "        from max_prod.content_datascience.activepct_postlaunch_us_pred_v2\n",
    "        where phase ='Post-GreenLight'\n",
    "        and prediction IS NOT NULL\n",
    "\n",
    "            union\n",
    "    --- pre-Launch for % view\n",
    "        select distinct title_name, target_day as days_on_hbo_max,'retail_view' as kpi, 'prediction' as data_type, pred_day, prediction as value, 'postgreenlight' as phase\n",
    "        from max_prod.content_datascience.viewpct_retail_postlaunch_us_pred\n",
    "        where phase ='Post-GreenLight'\n",
    "        and prediction IS NOT NULL\n",
    "\n",
    "            union\n",
    "    --- pre-Launch for first view\n",
    "        select case when season_number > 0 then concat(title_name, ' S', season_number) else title_name end as title_name\n",
    "        , CASE WHEN DATEDIFF(day, PREMIERE_DATE, DATEADD(month, 1, FIRST_VIEW_MONTH)) > 90 THEN 90 else DATEDIFF(day, PREMIERE_DATE, DATEADD(month, 1, FIRST_VIEW_MONTH)) end as days_on_hbo_max\n",
    "        , 'first_views' as kpi, 'prediction' as data_type, DATEDIFF(day, PREMIERE_DATE, GETDATE()) AS pred_day\n",
    "        , SUM(FIRST_VIEWS_PRED) OVER (PARTITION BY title_name ORDER BY days_on_hbo_max) AS value, 'postgreenlight' as phase\n",
    "        from max_prod.content_datascience.firstview_postgl\n",
    "        --where schedule_label='alpha'\n",
    "        )\n",
    "\n",
    "        select m.match_id, m.title_name, m.effective_start_date, days_on_hbo_max, kpi, data_type, phase, pred_day, value\n",
    "        from base_meta_data m\n",
    "        left join launched l on m.match_id = l.match_id\n",
    "\n",
    "        union\n",
    "\n",
    "        select NULL AS match_id, fm.title_name_long as title_name, fm.effective_start_date, days_on_hbo_max, kpi, data_type, phase, pred_day, value\n",
    "        from future_meta_data fm\n",
    "        left join future f on UPPER(fm.title_name_season) = UPPER(f.title_name)\n",
    "        order by effective_start_date, match_id, DAYS_ON_HBO_MAX\n",
    "\n",
    "\n",
    "          )\n",
    "SELECT * FROM (\n",
    "SELECT *, DENSE_RANK() OVER (ORDER BY z___min_rank) as z___pivot_row_rank, RANK() OVER (PARTITION BY z__pivot_col_rank ORDER BY z___min_rank) as z__pivot_col_ordering, CASE WHEN z___min_rank = z___rank THEN 1 ELSE 0 END AS z__is_highest_ranked_cell FROM (\n",
    "SELECT *, MIN(z___rank) OVER (PARTITION BY \"cds_time_turner_prediction.days_on_hbo_max\") as z___min_rank FROM (\n",
    "SELECT *, RANK() OVER (ORDER BY \"cds_time_turner_prediction.days_on_hbo_max\" ASC, z__pivot_col_rank) AS z___rank FROM (\n",
    "SELECT *, DENSE_RANK() OVER (ORDER BY CASE WHEN \"cds_time_turner_prediction.titles\" IS NULL THEN 1 ELSE 0 END, \"cds_time_turner_prediction.titles\", CASE WHEN \"cds_time_turner_prediction.data_type\" IS NULL THEN 1 ELSE 0 END, \"cds_time_turner_prediction.data_type\") AS z__pivot_col_rank FROM (\n",
    "SELECT\n",
    "    cds_time_turner_prediction.\"TITLE_NAME\"  AS \"cds_time_turner_prediction.titles\",\n",
    "    cds_time_turner_prediction.\"DATA_TYPE\"  AS \"cds_time_turner_prediction.data_type\",\n",
    "    cds_time_turner_prediction.\"DAYS_ON_HBO_MAX\"  AS \"cds_time_turner_prediction.days_on_hbo_max\",\n",
    "    MAX(( cds_time_turner_prediction.\"VALUE\"  ) ) AS \"cds_time_turner_prediction.target_value\"\n",
    "FROM cds_time_turner_prediction\n",
    "WHERE (cds_time_turner_prediction.\"KPI\" ) = 'pct_active'\n",
    "GROUP BY\n",
    "    1,\n",
    "    2,\n",
    "    3) ww\n",
    ") bb WHERE z__pivot_col_rank <= 16384\n",
    ") aa\n",
    ") xx\n",
    ") zz\n",
    " WHERE (z__pivot_col_rank <= 50 OR z__is_highest_ranked_cell = 1) AND (z___pivot_row_rank <= 500 OR z__pivot_col_ordering = 1) ORDER BY z___pivot_row_rank\n",
    "\n",
    "''')"
   ]
  },
  {
   "cell_type": "code",
   "execution_count": 122,
   "id": "5ab2e503",
   "metadata": {},
   "outputs": [
    {
     "data": {
      "text/html": [
       "<div>\n",
       "<style scoped>\n",
       "    .dataframe tbody tr th:only-of-type {\n",
       "        vertical-align: middle;\n",
       "    }\n",
       "\n",
       "    .dataframe tbody tr th {\n",
       "        vertical-align: top;\n",
       "    }\n",
       "\n",
       "    .dataframe thead th {\n",
       "        text-align: right;\n",
       "    }\n",
       "</style>\n",
       "<table border=\"1\" class=\"dataframe\">\n",
       "  <thead>\n",
       "    <tr style=\"text-align: right;\">\n",
       "      <th></th>\n",
       "      <th>cds_time_turner_prediction.titles</th>\n",
       "      <th>cds_time_turner_prediction.data_type</th>\n",
       "      <th>cds_time_turner_prediction.days_on_hbo_max</th>\n",
       "      <th>cds_time_turner_prediction.target_value</th>\n",
       "      <th>z__pivot_col_rank</th>\n",
       "      <th>z___rank</th>\n",
       "      <th>z___min_rank</th>\n",
       "      <th>z___pivot_row_rank</th>\n",
       "      <th>z__pivot_col_ordering</th>\n",
       "      <th>z__is_highest_ranked_cell</th>\n",
       "    </tr>\n",
       "  </thead>\n",
       "  <tbody>\n",
       "    <tr>\n",
       "      <th>0</th>\n",
       "      <td>The White Lotus S2</td>\n",
       "      <td>actual</td>\n",
       "      <td>1</td>\n",
       "      <td>12.42</td>\n",
       "      <td>8</td>\n",
       "      <td>7</td>\n",
       "      <td>1</td>\n",
       "      <td>1</td>\n",
       "      <td>1</td>\n",
       "      <td>0</td>\n",
       "    </tr>\n",
       "    <tr>\n",
       "      <th>1</th>\n",
       "      <td>The Sex Lives of College Girls S2</td>\n",
       "      <td>actual</td>\n",
       "      <td>1</td>\n",
       "      <td>6.60</td>\n",
       "      <td>7</td>\n",
       "      <td>6</td>\n",
       "      <td>1</td>\n",
       "      <td>1</td>\n",
       "      <td>1</td>\n",
       "      <td>0</td>\n",
       "    </tr>\n",
       "    <tr>\n",
       "      <th>2</th>\n",
       "      <td>Hacks S2</td>\n",
       "      <td>actual</td>\n",
       "      <td>1</td>\n",
       "      <td>3.96</td>\n",
       "      <td>4</td>\n",
       "      <td>3</td>\n",
       "      <td>1</td>\n",
       "      <td>1</td>\n",
       "      <td>1</td>\n",
       "      <td>0</td>\n",
       "    </tr>\n",
       "    <tr>\n",
       "      <th>3</th>\n",
       "      <td>And Just Like That... S1</td>\n",
       "      <td>actual</td>\n",
       "      <td>1</td>\n",
       "      <td>24.19</td>\n",
       "      <td>2</td>\n",
       "      <td>1</td>\n",
       "      <td>1</td>\n",
       "      <td>1</td>\n",
       "      <td>1</td>\n",
       "      <td>1</td>\n",
       "    </tr>\n",
       "    <tr>\n",
       "      <th>4</th>\n",
       "      <td>The Gilded Age S1</td>\n",
       "      <td>actual</td>\n",
       "      <td>1</td>\n",
       "      <td>8.21</td>\n",
       "      <td>6</td>\n",
       "      <td>5</td>\n",
       "      <td>1</td>\n",
       "      <td>1</td>\n",
       "      <td>1</td>\n",
       "      <td>0</td>\n",
       "    </tr>\n",
       "  </tbody>\n",
       "</table>\n",
       "</div>"
      ],
      "text/plain": [
       "   cds_time_turner_prediction.titles cds_time_turner_prediction.data_type  \\\n",
       "0                 The White Lotus S2                               actual   \n",
       "1  The Sex Lives of College Girls S2                               actual   \n",
       "2                           Hacks S2                               actual   \n",
       "3           And Just Like That... S1                               actual   \n",
       "4                  The Gilded Age S1                               actual   \n",
       "\n",
       "   cds_time_turner_prediction.days_on_hbo_max  \\\n",
       "0                                           1   \n",
       "1                                           1   \n",
       "2                                           1   \n",
       "3                                           1   \n",
       "4                                           1   \n",
       "\n",
       "   cds_time_turner_prediction.target_value  z__pivot_col_rank  z___rank  \\\n",
       "0                                    12.42                  8         7   \n",
       "1                                     6.60                  7         6   \n",
       "2                                     3.96                  4         3   \n",
       "3                                    24.19                  2         1   \n",
       "4                                     8.21                  6         5   \n",
       "\n",
       "   z___min_rank  z___pivot_row_rank  z__pivot_col_ordering  \\\n",
       "0             1                   1                      1   \n",
       "1             1                   1                      1   \n",
       "2             1                   1                      1   \n",
       "3             1                   1                      1   \n",
       "4             1                   1                      1   \n",
       "\n",
       "   z__is_highest_ranked_cell  \n",
       "0                          0  \n",
       "1                          0  \n",
       "2                          0  \n",
       "3                          1  \n",
       "4                          0  "
      ]
     },
     "execution_count": 122,
     "metadata": {},
     "output_type": "execute_result"
    }
   ],
   "source": [
    "query.head()"
   ]
  },
  {
   "cell_type": "code",
   "execution_count": 7,
   "id": "4afd4c4d",
   "metadata": {},
   "outputs": [],
   "source": [
    "import plotly.express as px"
   ]
  },
  {
   "cell_type": "code",
   "execution_count": 123,
   "id": "8a5deb9b",
   "metadata": {},
   "outputs": [
    {
     "data": {
      "text/plain": [
       "array(['The White Lotus S2', 'The Sex Lives of College Girls S2',\n",
       "       'Hacks S2', 'And Just Like That... S1', 'The Gilded Age S1',\n",
       "       'The Flight Attendant S2', 'Euphoria S2', 'And Just Like That S2'],\n",
       "      dtype=object)"
      ]
     },
     "execution_count": 123,
     "metadata": {},
     "output_type": "execute_result"
    }
   ],
   "source": [
    "query['cds_time_turner_prediction.titles'].unique()"
   ]
  },
  {
   "cell_type": "code",
   "execution_count": 124,
   "id": "e61360bc",
   "metadata": {},
   "outputs": [],
   "source": [
    "query = query.rename(columns = {'cds_time_turner_prediction.days_on_hbo_max':'Days Since Launch',\n",
    "                               'cds_time_turner_prediction.target_value': '% of Actives (Reach)',\n",
    "                               'cds_time_turner_prediction.titles':'Title Names'},\n",
    "                    )"
   ]
  },
  {
   "cell_type": "code",
   "execution_count": 125,
   "id": "69ddf4d9",
   "metadata": {},
   "outputs": [],
   "source": [
    "query = query[query['Days Since Launch']<=28]"
   ]
  },
  {
   "cell_type": "code",
   "execution_count": 126,
   "id": "c7c21f33",
   "metadata": {},
   "outputs": [],
   "source": [
    "plot_df = query[query['Title Names'] != 'And Just Like That S2']"
   ]
  },
  {
   "cell_type": "code",
   "execution_count": 127,
   "id": "7df1b1f0",
   "metadata": {},
   "outputs": [
    {
     "data": {
      "application/vnd.plotly.v1+json": {
       "config": {
        "plotlyServerURL": "https://plot.ly"
       },
       "data": [
        {
         "hovertemplate": "Title Names=The White Lotus S2<br>Days Since Launch=%{x}<br>% of Actives (Reach)=%{y}<extra></extra>",
         "legendgroup": "The White Lotus S2",
         "line": {
          "color": "#636efa",
          "dash": "solid"
         },
         "marker": {
          "symbol": "circle"
         },
         "mode": "lines",
         "name": "The White Lotus S2",
         "orientation": "v",
         "showlegend": true,
         "type": "scatter",
         "x": [
          1,
          2,
          3,
          4,
          5,
          6,
          7,
          8,
          9,
          10,
          11,
          12,
          13,
          14,
          15,
          16,
          17,
          18,
          19,
          20,
          21,
          22,
          23,
          24,
          25,
          26,
          27,
          28
         ],
         "xaxis": "x",
         "y": [
          12.416304012238335,
          13.070453690263758,
          13.796805788126248,
          13.959179857602585,
          13.732790791789947,
          13.787251074520624,
          13.999228879612872,
          14.692606556390603,
          15.030698049220682,
          15.296623926375169,
          15.478462150574558,
          15.545983598551782,
          15.649239807945511,
          15.869372466978435,
          16.265818540922066,
          16.54664368378117,
          16.80043864004365,
          16.937617557626886,
          16.980467748018594,
          17.029334981087683,
          17.14753799705775,
          17.412310512332752,
          17.58423771363799,
          17.71051775374385,
          17.717343704782813,
          17.68893336327362,
          17.738782068882088,
          17.831476724637774
         ],
         "yaxis": "y"
        },
        {
         "hovertemplate": "Title Names=The Sex Lives of College Girls S2<br>Days Since Launch=%{x}<br>% of Actives (Reach)=%{y}<extra></extra>",
         "legendgroup": "The Sex Lives of College Girls S2",
         "line": {
          "color": "#EF553B",
          "dash": "solid"
         },
         "marker": {
          "symbol": "circle"
         },
         "mode": "lines",
         "name": "The Sex Lives of College Girls S2",
         "orientation": "v",
         "showlegend": true,
         "type": "scatter",
         "x": [
          1,
          2,
          3,
          4,
          5,
          6,
          7,
          8,
          9,
          10,
          11,
          12,
          13,
          14,
          15,
          16,
          17,
          18,
          19,
          20,
          21,
          22,
          23,
          24,
          25,
          26,
          27,
          28
         ],
         "xaxis": "x",
         "y": [
          6.603129924128911,
          7.045038777963984,
          7.147055192297184,
          7.4656171382245935,
          7.5875449504338945,
          7.705130391096906,
          7.7272725239310756,
          7.698266752709845,
          7.752448488287124,
          7.909937304620926,
          8.05715941234527,
          8.185829770719497,
          8.29436812507643,
          8.394517853578485,
          8.52074906670046,
          8.660712333807501,
          8.766905275818116,
          8.878788807926057,
          8.975911853622073,
          9.059804346778469,
          9.133299696952816,
          9.232433941119107,
          9.315268071054867,
          9.383672921376803,
          9.46766488886159,
          9.547385556775346,
          9.619927510681316,
          9.686759348475077
         ],
         "yaxis": "y"
        },
        {
         "hovertemplate": "Title Names=Hacks S2<br>Days Since Launch=%{x}<br>% of Actives (Reach)=%{y}<extra></extra>",
         "legendgroup": "Hacks S2",
         "line": {
          "color": "#00cc96",
          "dash": "solid"
         },
         "marker": {
          "symbol": "circle"
         },
         "mode": "lines",
         "name": "Hacks S2",
         "orientation": "v",
         "showlegend": true,
         "type": "scatter",
         "x": [
          1,
          2,
          3,
          4,
          5,
          6,
          7,
          8,
          9,
          10,
          11,
          12,
          13,
          14,
          15,
          16,
          17,
          18,
          19,
          20,
          21,
          22,
          23,
          24,
          25,
          26,
          27,
          28
         ],
         "xaxis": "x",
         "y": [
          3.9635821576896344,
          4.747463724947638,
          5.266805486876349,
          5.534421680739757,
          5.707398481118545,
          5.818307689886669,
          5.91378369143661,
          5.994718700329495,
          6.060499544950017,
          6.126493589796304,
          6.217044314848825,
          6.31146963422274,
          6.379485293074047,
          6.445374484956525,
          6.5008610618860905,
          6.556360739015298,
          6.635382682115665,
          6.707694408161223,
          6.771675213191049,
          6.837187738497587,
          6.896637333816383,
          6.964999303107307,
          7.03907320057357,
          7.1760486517088635,
          7.325580183031236,
          7.423302923460386,
          7.502371132477717,
          7.566791365696359
         ],
         "yaxis": "y"
        },
        {
         "hovertemplate": "Title Names=And Just Like That... S1<br>Days Since Launch=%{x}<br>% of Actives (Reach)=%{y}<extra></extra>",
         "legendgroup": "And Just Like That... S1",
         "line": {
          "color": "#ab63fa",
          "dash": "solid"
         },
         "marker": {
          "symbol": "circle"
         },
         "mode": "lines",
         "name": "And Just Like That... S1",
         "orientation": "v",
         "showlegend": true,
         "type": "scatter",
         "x": [
          1,
          2,
          3,
          4,
          5,
          6,
          7,
          8,
          9,
          10,
          11,
          12,
          13,
          14,
          15,
          16,
          17,
          18,
          19,
          20,
          21,
          22,
          23,
          24,
          25,
          26,
          27,
          28
         ],
         "xaxis": "x",
         "y": [
          24.18562973744418,
          27.058330806690318,
          27.95694529206081,
          28.297244125132625,
          28.745023278484194,
          28.928954393079692,
          29.01022728270733,
          29.320807544708394,
          29.37293289390604,
          29.334662252036033,
          29.244707329232693,
          29.18108804429396,
          29.07005719587889,
          28.36091889009344,
          28.071503497834883,
          27.674220873225174,
          27.390702919183113,
          27.334245417767495,
          27.33251306223951,
          27.35584249487339,
          27.402419729383805,
          27.599361816026747,
          27.6906665590452,
          27.534520632722526,
          27.620449877258636,
          27.71380493393794,
          27.74598227546432,
          27.78654724478044
         ],
         "yaxis": "y"
        },
        {
         "hovertemplate": "Title Names=The Gilded Age S1<br>Days Since Launch=%{x}<br>% of Actives (Reach)=%{y}<extra></extra>",
         "legendgroup": "The Gilded Age S1",
         "line": {
          "color": "#FFA15A",
          "dash": "solid"
         },
         "marker": {
          "symbol": "circle"
         },
         "mode": "lines",
         "name": "The Gilded Age S1",
         "orientation": "v",
         "showlegend": true,
         "type": "scatter",
         "x": [
          1,
          2,
          3,
          4,
          5,
          6,
          7,
          8,
          9,
          10,
          11,
          12,
          13,
          14,
          15,
          16,
          17,
          18,
          19,
          20,
          21,
          22,
          23,
          24,
          25,
          26,
          27,
          28
         ],
         "xaxis": "x",
         "y": [
          8.212853821324389,
          9.356526298526369,
          9.343543096016568,
          9.416322499210567,
          9.790229402938564,
          10.019065241653417,
          10.155371631471692,
          10.576347675349416,
          10.87629450278074,
          11.043948658646434,
          11.12897219449652,
          11.26023995585382,
          11.399586061611908,
          11.520495809275888,
          11.862286501696012,
          12.13719845999969,
          12.274214985992959,
          12.311527499832293,
          12.353978285436014,
          12.395078198335767,
          12.436954455131149,
          12.601410279203398,
          12.784378920988585,
          12.880119589466727,
          12.919291101473693,
          12.970171052529581,
          13.0367372836155,
          13.10260699052958
         ],
         "yaxis": "y"
        },
        {
         "hovertemplate": "Title Names=The Flight Attendant S2<br>Days Since Launch=%{x}<br>% of Actives (Reach)=%{y}<extra></extra>",
         "legendgroup": "The Flight Attendant S2",
         "line": {
          "color": "#19d3f3",
          "dash": "solid"
         },
         "marker": {
          "symbol": "circle"
         },
         "mode": "lines",
         "name": "The Flight Attendant S2",
         "orientation": "v",
         "showlegend": true,
         "type": "scatter",
         "x": [
          1,
          2,
          3,
          4,
          5,
          6,
          7,
          8,
          9,
          10,
          11,
          12,
          13,
          14,
          15,
          16,
          17,
          18,
          19,
          20,
          21,
          22,
          23,
          24,
          25,
          26,
          27,
          28
         ],
         "xaxis": "x",
         "y": [
          6.475833799722941,
          7.878931919160796,
          8.795431221125488,
          9.602212021452006,
          9.96265821366278,
          10.208605387232378,
          10.42689771329422,
          10.670257017013238,
          10.865481489836915,
          11.015228574868829,
          11.218250866209795,
          11.339050606043136,
          11.450044529458193,
          11.553605884956196,
          11.679660792789747,
          11.800222378696716,
          11.9370737302848,
          12.057852098912688,
          12.160184058988646,
          12.236811005890404,
          12.311687945172316,
          12.39210816432095,
          12.462783631378654,
          12.547645698020272,
          12.66579983306606,
          12.746243785348495,
          12.808482632398164,
          12.869992462051009
         ],
         "yaxis": "y"
        },
        {
         "hovertemplate": "Title Names=Euphoria S2<br>Days Since Launch=%{x}<br>% of Actives (Reach)=%{y}<extra></extra>",
         "legendgroup": "Euphoria S2",
         "line": {
          "color": "#FF6692",
          "dash": "solid"
         },
         "marker": {
          "symbol": "circle"
         },
         "mode": "lines",
         "name": "Euphoria S2",
         "orientation": "v",
         "showlegend": true,
         "type": "scatter",
         "x": [
          1,
          2,
          3,
          4,
          5,
          6,
          7,
          8,
          9,
          10,
          11,
          12,
          13,
          14,
          15,
          16,
          17,
          18,
          19,
          20,
          21,
          22,
          23,
          24,
          25,
          26,
          27,
          28
         ],
         "xaxis": "x",
         "y": [
          26.90950873529379,
          25.69968846909343,
          25.42149010335471,
          24.147626178034116,
          23.321708342804246,
          22.831357944036522,
          22.661496657975317,
          23.887532141584426,
          24.477110469538957,
          24.899226775229856,
          25.206162960840313,
          25.348184515396945,
          25.463235232215943,
          25.681578875657173,
          26.372728688309127,
          26.747979690206424,
          27.0950007072332,
          27.38209075157888,
          27.592281209122856,
          27.746029622255175,
          28.03938869894806,
          28.646159103705727,
          29.03230189343966,
          29.385197239377998,
          29.646498557056557,
          29.873747375112846,
          30.089250016452045,
          30.310509282948807
         ],
         "yaxis": "y"
        },
        {
         "line": {
          "color": "purple",
          "dash": "dash",
          "width": 2
         },
         "mode": "lines",
         "name": "And Just Like That S2",
         "showlegend": true,
         "type": "scattergl",
         "x": [
          7,
          28
         ],
         "y": [
          21.151768718397257,
          26.773555755615234
         ]
        }
       ],
       "layout": {
        "annotations": [
         {
          "showarrow": false,
          "text": "Silver Target",
          "x": 1,
          "xanchor": "right",
          "xref": "x domain",
          "y": 5,
          "yanchor": "bottom",
          "yref": "y"
         },
         {
          "showarrow": false,
          "text": "Gold Target",
          "x": 1,
          "xanchor": "right",
          "xref": "x domain",
          "y": 10,
          "yanchor": "bottom",
          "yref": "y"
         },
         {
          "showarrow": false,
          "text": "Platinum Target",
          "x": 1,
          "xanchor": "right",
          "xref": "x domain",
          "y": 20,
          "yanchor": "bottom",
          "yref": "y"
         }
        ],
        "autosize": true,
        "legend": {
         "orientation": "h",
         "title": {
          "text": "Title Names"
         },
         "tracegroupgap": 0,
         "x": 0.5,
         "xanchor": "center",
         "y": -0.3,
         "yanchor": "top"
        },
        "margin": {
         "t": 60
        },
        "plot_bgcolor": "rgb(255,255,255)",
        "shapes": [
         {
          "line": {
           "color": "silver",
           "dash": "dot",
           "width": 2
          },
          "type": "line",
          "x0": 0,
          "x1": 1,
          "xref": "x domain",
          "y0": 5,
          "y1": 5,
          "yref": "y"
         },
         {
          "line": {
           "color": "gold",
           "dash": "dot",
           "width": 2
          },
          "type": "line",
          "x0": 0,
          "x1": 1,
          "xref": "x domain",
          "y0": 10,
          "y1": 10,
          "yref": "y"
         },
         {
          "line": {
           "color": "grey",
           "dash": "dot",
           "width": 2
          },
          "type": "line",
          "x0": 0,
          "x1": 1,
          "xref": "x domain",
          "y0": 20,
          "y1": 20,
          "yref": "y"
         },
         {
          "fillcolor": "silver",
          "line": {
           "width": 0
          },
          "opacity": 0.15,
          "type": "rect",
          "x0": 0,
          "x1": 1,
          "xref": "x domain",
          "y0": 5,
          "y1": 10,
          "yref": "y"
         },
         {
          "fillcolor": "gold",
          "line": {
           "width": 0
          },
          "opacity": 0.15,
          "type": "rect",
          "x0": 0,
          "x1": 1,
          "xref": "x domain",
          "y0": 10,
          "y1": 20,
          "yref": "y"
         },
         {
          "fillcolor": "grey",
          "line": {
           "width": 0
          },
          "opacity": 0.15,
          "type": "rect",
          "x0": 0,
          "x1": 1,
          "xref": "x domain",
          "y0": 20,
          "y1": 30,
          "yref": "y"
         }
        ],
        "template": {
         "data": {
          "bar": [
           {
            "error_x": {
             "color": "#2a3f5f"
            },
            "error_y": {
             "color": "#2a3f5f"
            },
            "marker": {
             "line": {
              "color": "#E5ECF6",
              "width": 0.5
             },
             "pattern": {
              "fillmode": "overlay",
              "size": 10,
              "solidity": 0.2
             }
            },
            "type": "bar"
           }
          ],
          "barpolar": [
           {
            "marker": {
             "line": {
              "color": "#E5ECF6",
              "width": 0.5
             },
             "pattern": {
              "fillmode": "overlay",
              "size": 10,
              "solidity": 0.2
             }
            },
            "type": "barpolar"
           }
          ],
          "carpet": [
           {
            "aaxis": {
             "endlinecolor": "#2a3f5f",
             "gridcolor": "white",
             "linecolor": "white",
             "minorgridcolor": "white",
             "startlinecolor": "#2a3f5f"
            },
            "baxis": {
             "endlinecolor": "#2a3f5f",
             "gridcolor": "white",
             "linecolor": "white",
             "minorgridcolor": "white",
             "startlinecolor": "#2a3f5f"
            },
            "type": "carpet"
           }
          ],
          "choropleth": [
           {
            "colorbar": {
             "outlinewidth": 0,
             "ticks": ""
            },
            "type": "choropleth"
           }
          ],
          "contour": [
           {
            "colorbar": {
             "outlinewidth": 0,
             "ticks": ""
            },
            "colorscale": [
             [
              0,
              "#0d0887"
             ],
             [
              0.1111111111111111,
              "#46039f"
             ],
             [
              0.2222222222222222,
              "#7201a8"
             ],
             [
              0.3333333333333333,
              "#9c179e"
             ],
             [
              0.4444444444444444,
              "#bd3786"
             ],
             [
              0.5555555555555556,
              "#d8576b"
             ],
             [
              0.6666666666666666,
              "#ed7953"
             ],
             [
              0.7777777777777778,
              "#fb9f3a"
             ],
             [
              0.8888888888888888,
              "#fdca26"
             ],
             [
              1,
              "#f0f921"
             ]
            ],
            "type": "contour"
           }
          ],
          "contourcarpet": [
           {
            "colorbar": {
             "outlinewidth": 0,
             "ticks": ""
            },
            "type": "contourcarpet"
           }
          ],
          "heatmap": [
           {
            "colorbar": {
             "outlinewidth": 0,
             "ticks": ""
            },
            "colorscale": [
             [
              0,
              "#0d0887"
             ],
             [
              0.1111111111111111,
              "#46039f"
             ],
             [
              0.2222222222222222,
              "#7201a8"
             ],
             [
              0.3333333333333333,
              "#9c179e"
             ],
             [
              0.4444444444444444,
              "#bd3786"
             ],
             [
              0.5555555555555556,
              "#d8576b"
             ],
             [
              0.6666666666666666,
              "#ed7953"
             ],
             [
              0.7777777777777778,
              "#fb9f3a"
             ],
             [
              0.8888888888888888,
              "#fdca26"
             ],
             [
              1,
              "#f0f921"
             ]
            ],
            "type": "heatmap"
           }
          ],
          "heatmapgl": [
           {
            "colorbar": {
             "outlinewidth": 0,
             "ticks": ""
            },
            "colorscale": [
             [
              0,
              "#0d0887"
             ],
             [
              0.1111111111111111,
              "#46039f"
             ],
             [
              0.2222222222222222,
              "#7201a8"
             ],
             [
              0.3333333333333333,
              "#9c179e"
             ],
             [
              0.4444444444444444,
              "#bd3786"
             ],
             [
              0.5555555555555556,
              "#d8576b"
             ],
             [
              0.6666666666666666,
              "#ed7953"
             ],
             [
              0.7777777777777778,
              "#fb9f3a"
             ],
             [
              0.8888888888888888,
              "#fdca26"
             ],
             [
              1,
              "#f0f921"
             ]
            ],
            "type": "heatmapgl"
           }
          ],
          "histogram": [
           {
            "marker": {
             "pattern": {
              "fillmode": "overlay",
              "size": 10,
              "solidity": 0.2
             }
            },
            "type": "histogram"
           }
          ],
          "histogram2d": [
           {
            "colorbar": {
             "outlinewidth": 0,
             "ticks": ""
            },
            "colorscale": [
             [
              0,
              "#0d0887"
             ],
             [
              0.1111111111111111,
              "#46039f"
             ],
             [
              0.2222222222222222,
              "#7201a8"
             ],
             [
              0.3333333333333333,
              "#9c179e"
             ],
             [
              0.4444444444444444,
              "#bd3786"
             ],
             [
              0.5555555555555556,
              "#d8576b"
             ],
             [
              0.6666666666666666,
              "#ed7953"
             ],
             [
              0.7777777777777778,
              "#fb9f3a"
             ],
             [
              0.8888888888888888,
              "#fdca26"
             ],
             [
              1,
              "#f0f921"
             ]
            ],
            "type": "histogram2d"
           }
          ],
          "histogram2dcontour": [
           {
            "colorbar": {
             "outlinewidth": 0,
             "ticks": ""
            },
            "colorscale": [
             [
              0,
              "#0d0887"
             ],
             [
              0.1111111111111111,
              "#46039f"
             ],
             [
              0.2222222222222222,
              "#7201a8"
             ],
             [
              0.3333333333333333,
              "#9c179e"
             ],
             [
              0.4444444444444444,
              "#bd3786"
             ],
             [
              0.5555555555555556,
              "#d8576b"
             ],
             [
              0.6666666666666666,
              "#ed7953"
             ],
             [
              0.7777777777777778,
              "#fb9f3a"
             ],
             [
              0.8888888888888888,
              "#fdca26"
             ],
             [
              1,
              "#f0f921"
             ]
            ],
            "type": "histogram2dcontour"
           }
          ],
          "mesh3d": [
           {
            "colorbar": {
             "outlinewidth": 0,
             "ticks": ""
            },
            "type": "mesh3d"
           }
          ],
          "parcoords": [
           {
            "line": {
             "colorbar": {
              "outlinewidth": 0,
              "ticks": ""
             }
            },
            "type": "parcoords"
           }
          ],
          "pie": [
           {
            "automargin": true,
            "type": "pie"
           }
          ],
          "scatter": [
           {
            "marker": {
             "colorbar": {
              "outlinewidth": 0,
              "ticks": ""
             }
            },
            "type": "scatter"
           }
          ],
          "scatter3d": [
           {
            "line": {
             "colorbar": {
              "outlinewidth": 0,
              "ticks": ""
             }
            },
            "marker": {
             "colorbar": {
              "outlinewidth": 0,
              "ticks": ""
             }
            },
            "type": "scatter3d"
           }
          ],
          "scattercarpet": [
           {
            "marker": {
             "colorbar": {
              "outlinewidth": 0,
              "ticks": ""
             }
            },
            "type": "scattercarpet"
           }
          ],
          "scattergeo": [
           {
            "marker": {
             "colorbar": {
              "outlinewidth": 0,
              "ticks": ""
             }
            },
            "type": "scattergeo"
           }
          ],
          "scattergl": [
           {
            "marker": {
             "colorbar": {
              "outlinewidth": 0,
              "ticks": ""
             }
            },
            "type": "scattergl"
           }
          ],
          "scattermapbox": [
           {
            "marker": {
             "colorbar": {
              "outlinewidth": 0,
              "ticks": ""
             }
            },
            "type": "scattermapbox"
           }
          ],
          "scatterpolar": [
           {
            "marker": {
             "colorbar": {
              "outlinewidth": 0,
              "ticks": ""
             }
            },
            "type": "scatterpolar"
           }
          ],
          "scatterpolargl": [
           {
            "marker": {
             "colorbar": {
              "outlinewidth": 0,
              "ticks": ""
             }
            },
            "type": "scatterpolargl"
           }
          ],
          "scatterternary": [
           {
            "marker": {
             "colorbar": {
              "outlinewidth": 0,
              "ticks": ""
             }
            },
            "type": "scatterternary"
           }
          ],
          "surface": [
           {
            "colorbar": {
             "outlinewidth": 0,
             "ticks": ""
            },
            "colorscale": [
             [
              0,
              "#0d0887"
             ],
             [
              0.1111111111111111,
              "#46039f"
             ],
             [
              0.2222222222222222,
              "#7201a8"
             ],
             [
              0.3333333333333333,
              "#9c179e"
             ],
             [
              0.4444444444444444,
              "#bd3786"
             ],
             [
              0.5555555555555556,
              "#d8576b"
             ],
             [
              0.6666666666666666,
              "#ed7953"
             ],
             [
              0.7777777777777778,
              "#fb9f3a"
             ],
             [
              0.8888888888888888,
              "#fdca26"
             ],
             [
              1,
              "#f0f921"
             ]
            ],
            "type": "surface"
           }
          ],
          "table": [
           {
            "cells": {
             "fill": {
              "color": "#EBF0F8"
             },
             "line": {
              "color": "white"
             }
            },
            "header": {
             "fill": {
              "color": "#C8D4E3"
             },
             "line": {
              "color": "white"
             }
            },
            "type": "table"
           }
          ]
         },
         "layout": {
          "annotationdefaults": {
           "arrowcolor": "#2a3f5f",
           "arrowhead": 0,
           "arrowwidth": 1
          },
          "autotypenumbers": "strict",
          "coloraxis": {
           "colorbar": {
            "outlinewidth": 0,
            "ticks": ""
           }
          },
          "colorscale": {
           "diverging": [
            [
             0,
             "#8e0152"
            ],
            [
             0.1,
             "#c51b7d"
            ],
            [
             0.2,
             "#de77ae"
            ],
            [
             0.3,
             "#f1b6da"
            ],
            [
             0.4,
             "#fde0ef"
            ],
            [
             0.5,
             "#f7f7f7"
            ],
            [
             0.6,
             "#e6f5d0"
            ],
            [
             0.7,
             "#b8e186"
            ],
            [
             0.8,
             "#7fbc41"
            ],
            [
             0.9,
             "#4d9221"
            ],
            [
             1,
             "#276419"
            ]
           ],
           "sequential": [
            [
             0,
             "#0d0887"
            ],
            [
             0.1111111111111111,
             "#46039f"
            ],
            [
             0.2222222222222222,
             "#7201a8"
            ],
            [
             0.3333333333333333,
             "#9c179e"
            ],
            [
             0.4444444444444444,
             "#bd3786"
            ],
            [
             0.5555555555555556,
             "#d8576b"
            ],
            [
             0.6666666666666666,
             "#ed7953"
            ],
            [
             0.7777777777777778,
             "#fb9f3a"
            ],
            [
             0.8888888888888888,
             "#fdca26"
            ],
            [
             1,
             "#f0f921"
            ]
           ],
           "sequentialminus": [
            [
             0,
             "#0d0887"
            ],
            [
             0.1111111111111111,
             "#46039f"
            ],
            [
             0.2222222222222222,
             "#7201a8"
            ],
            [
             0.3333333333333333,
             "#9c179e"
            ],
            [
             0.4444444444444444,
             "#bd3786"
            ],
            [
             0.5555555555555556,
             "#d8576b"
            ],
            [
             0.6666666666666666,
             "#ed7953"
            ],
            [
             0.7777777777777778,
             "#fb9f3a"
            ],
            [
             0.8888888888888888,
             "#fdca26"
            ],
            [
             1,
             "#f0f921"
            ]
           ]
          },
          "colorway": [
           "#636efa",
           "#EF553B",
           "#00cc96",
           "#ab63fa",
           "#FFA15A",
           "#19d3f3",
           "#FF6692",
           "#B6E880",
           "#FF97FF",
           "#FECB52"
          ],
          "font": {
           "color": "#2a3f5f"
          },
          "geo": {
           "bgcolor": "white",
           "lakecolor": "white",
           "landcolor": "#E5ECF6",
           "showlakes": true,
           "showland": true,
           "subunitcolor": "white"
          },
          "hoverlabel": {
           "align": "left"
          },
          "hovermode": "closest",
          "mapbox": {
           "style": "light"
          },
          "paper_bgcolor": "white",
          "plot_bgcolor": "#E5ECF6",
          "polar": {
           "angularaxis": {
            "gridcolor": "white",
            "linecolor": "white",
            "ticks": ""
           },
           "bgcolor": "#E5ECF6",
           "radialaxis": {
            "gridcolor": "white",
            "linecolor": "white",
            "ticks": ""
           }
          },
          "scene": {
           "xaxis": {
            "backgroundcolor": "#E5ECF6",
            "gridcolor": "white",
            "gridwidth": 2,
            "linecolor": "white",
            "showbackground": true,
            "ticks": "",
            "zerolinecolor": "white"
           },
           "yaxis": {
            "backgroundcolor": "#E5ECF6",
            "gridcolor": "white",
            "gridwidth": 2,
            "linecolor": "white",
            "showbackground": true,
            "ticks": "",
            "zerolinecolor": "white"
           },
           "zaxis": {
            "backgroundcolor": "#E5ECF6",
            "gridcolor": "white",
            "gridwidth": 2,
            "linecolor": "white",
            "showbackground": true,
            "ticks": "",
            "zerolinecolor": "white"
           }
          },
          "shapedefaults": {
           "line": {
            "color": "#2a3f5f"
           }
          },
          "ternary": {
           "aaxis": {
            "gridcolor": "white",
            "linecolor": "white",
            "ticks": ""
           },
           "baxis": {
            "gridcolor": "white",
            "linecolor": "white",
            "ticks": ""
           },
           "bgcolor": "#E5ECF6",
           "caxis": {
            "gridcolor": "white",
            "linecolor": "white",
            "ticks": ""
           }
          },
          "title": {
           "x": 0.05
          },
          "xaxis": {
           "automargin": true,
           "gridcolor": "white",
           "linecolor": "white",
           "ticks": "",
           "title": {
            "standoff": 15
           },
           "zerolinecolor": "white",
           "zerolinewidth": 2
          },
          "yaxis": {
           "automargin": true,
           "gridcolor": "white",
           "linecolor": "white",
           "ticks": "",
           "title": {
            "standoff": 15
           },
           "zerolinecolor": "white",
           "zerolinewidth": 2
          }
         }
        },
        "xaxis": {
         "anchor": "y",
         "autorange": true,
         "domain": [
          0,
          1
         ],
         "linecolor": "black",
         "linewidth": 0.5,
         "range": [
          1,
          28
         ],
         "showline": true,
         "title": {
          "text": "Days Since Launch"
         },
         "type": "linear"
        },
        "yaxis": {
         "anchor": "x",
         "autorange": true,
         "domain": [
          0,
          1
         ],
         "linecolor": "black",
         "linewidth": 0.5,
         "range": [
          2.499863984064125,
          31.774227456574316
         ],
         "showline": true,
         "title": {
          "text": "% of Actives (Reach)"
         },
         "type": "linear"
        }
       }
      },
      "image/png": "[encoded data removed]",
      "text/html": [
       "<div>                            <div id=\"e359abfe-59cb-4324-b197-9f8ff4ce3e89\" class=\"plotly-graph-div\" style=\"height:525px; width:100%;\"></div>            <script type=\"text/javascript\">                require([\"plotly\"], function(Plotly) {                    window.PLOTLYENV=window.PLOTLYENV || {};                                    if (document.getElementById(\"e359abfe-59cb-4324-b197-9f8ff4ce3e89\")) {                    Plotly.newPlot(                        \"e359abfe-59cb-4324-b197-9f8ff4ce3e89\",                        [{\"hovertemplate\":\"Title Names=The White Lotus S2<br>Days Since Launch=%{x}<br>% of Actives (Reach)=%{y}<extra></extra>\",\"legendgroup\":\"The White Lotus S2\",\"line\":{\"color\":\"#636efa\",\"dash\":\"solid\"},\"marker\":{\"symbol\":\"circle\"},\"mode\":\"lines\",\"name\":\"The White Lotus S2\",\"orientation\":\"v\",\"showlegend\":true,\"x\":[1,2,3,4,5,6,7,8,9,10,11,12,13,14,15,16,17,18,19,20,21,22,23,24,25,26,27,28],\"xaxis\":\"x\",\"y\":[12.416304012238335,13.070453690263758,13.796805788126248,13.959179857602585,13.732790791789947,13.787251074520624,13.999228879612872,14.692606556390603,15.030698049220682,15.296623926375169,15.478462150574558,15.545983598551782,15.649239807945511,15.869372466978435,16.265818540922066,16.54664368378117,16.80043864004365,16.937617557626886,16.980467748018594,17.029334981087683,17.14753799705775,17.412310512332752,17.58423771363799,17.71051775374385,17.717343704782813,17.68893336327362,17.738782068882088,17.831476724637774],\"yaxis\":\"y\",\"type\":\"scatter\"},{\"hovertemplate\":\"Title Names=The Sex Lives of College Girls S2<br>Days Since Launch=%{x}<br>% of Actives (Reach)=%{y}<extra></extra>\",\"legendgroup\":\"The Sex Lives of College Girls S2\",\"line\":{\"color\":\"#EF553B\",\"dash\":\"solid\"},\"marker\":{\"symbol\":\"circle\"},\"mode\":\"lines\",\"name\":\"The Sex Lives of College Girls S2\",\"orientation\":\"v\",\"showlegend\":true,\"x\":[1,2,3,4,5,6,7,8,9,10,11,12,13,14,15,16,17,18,19,20,21,22,23,24,25,26,27,28],\"xaxis\":\"x\",\"y\":[6.603129924128911,7.045038777963984,7.147055192297184,7.4656171382245935,7.5875449504338945,7.705130391096906,7.7272725239310756,7.698266752709845,7.752448488287124,7.909937304620926,8.05715941234527,8.185829770719497,8.29436812507643,8.394517853578485,8.52074906670046,8.660712333807501,8.766905275818116,8.878788807926057,8.975911853622073,9.059804346778469,9.133299696952816,9.232433941119107,9.315268071054867,9.383672921376803,9.46766488886159,9.547385556775346,9.619927510681316,9.686759348475077],\"yaxis\":\"y\",\"type\":\"scatter\"},{\"hovertemplate\":\"Title Names=Hacks S2<br>Days Since Launch=%{x}<br>% of Actives (Reach)=%{y}<extra></extra>\",\"legendgroup\":\"Hacks S2\",\"line\":{\"color\":\"#00cc96\",\"dash\":\"solid\"},\"marker\":{\"symbol\":\"circle\"},\"mode\":\"lines\",\"name\":\"Hacks S2\",\"orientation\":\"v\",\"showlegend\":true,\"x\":[1,2,3,4,5,6,7,8,9,10,11,12,13,14,15,16,17,18,19,20,21,22,23,24,25,26,27,28],\"xaxis\":\"x\",\"y\":[3.9635821576896344,4.747463724947638,5.266805486876349,5.534421680739757,5.707398481118545,5.818307689886669,5.91378369143661,5.994718700329495,6.060499544950017,6.126493589796304,6.217044314848825,6.31146963422274,6.379485293074047,6.445374484956525,6.5008610618860905,6.556360739015298,6.635382682115665,6.707694408161223,6.771675213191049,6.837187738497587,6.896637333816383,6.964999303107307,7.03907320057357,7.1760486517088635,7.325580183031236,7.423302923460386,7.502371132477717,7.566791365696359],\"yaxis\":\"y\",\"type\":\"scatter\"},{\"hovertemplate\":\"Title Names=And Just Like That... S1<br>Days Since Launch=%{x}<br>% of Actives (Reach)=%{y}<extra></extra>\",\"legendgroup\":\"And Just Like That... S1\",\"line\":{\"color\":\"#ab63fa\",\"dash\":\"solid\"},\"marker\":{\"symbol\":\"circle\"},\"mode\":\"lines\",\"name\":\"And Just Like That... S1\",\"orientation\":\"v\",\"showlegend\":true,\"x\":[1,2,3,4,5,6,7,8,9,10,11,12,13,14,15,16,17,18,19,20,21,22,23,24,25,26,27,28],\"xaxis\":\"x\",\"y\":[24.18562973744418,27.058330806690318,27.95694529206081,28.297244125132625,28.745023278484194,28.928954393079692,29.01022728270733,29.320807544708394,29.37293289390604,29.334662252036033,29.244707329232693,29.18108804429396,29.07005719587889,28.36091889009344,28.071503497834883,27.674220873225174,27.390702919183113,27.334245417767495,27.33251306223951,27.35584249487339,27.402419729383805,27.599361816026747,27.6906665590452,27.534520632722526,27.620449877258636,27.71380493393794,27.74598227546432,27.78654724478044],\"yaxis\":\"y\",\"type\":\"scatter\"},{\"hovertemplate\":\"Title Names=The Gilded Age S1<br>Days Since Launch=%{x}<br>% of Actives (Reach)=%{y}<extra></extra>\",\"legendgroup\":\"The Gilded Age S1\",\"line\":{\"color\":\"#FFA15A\",\"dash\":\"solid\"},\"marker\":{\"symbol\":\"circle\"},\"mode\":\"lines\",\"name\":\"The Gilded Age S1\",\"orientation\":\"v\",\"showlegend\":true,\"x\":[1,2,3,4,5,6,7,8,9,10,11,12,13,14,15,16,17,18,19,20,21,22,23,24,25,26,27,28],\"xaxis\":\"x\",\"y\":[8.212853821324389,9.356526298526369,9.343543096016568,9.416322499210567,9.790229402938564,10.019065241653417,10.155371631471692,10.576347675349416,10.87629450278074,11.043948658646434,11.12897219449652,11.26023995585382,11.399586061611908,11.520495809275888,11.862286501696012,12.13719845999969,12.274214985992959,12.311527499832293,12.353978285436014,12.395078198335767,12.436954455131149,12.601410279203398,12.784378920988585,12.880119589466727,12.919291101473693,12.970171052529581,13.0367372836155,13.10260699052958],\"yaxis\":\"y\",\"type\":\"scatter\"},{\"hovertemplate\":\"Title Names=The Flight Attendant S2<br>Days Since Launch=%{x}<br>% of Actives (Reach)=%{y}<extra></extra>\",\"legendgroup\":\"The Flight Attendant S2\",\"line\":{\"color\":\"#19d3f3\",\"dash\":\"solid\"},\"marker\":{\"symbol\":\"circle\"},\"mode\":\"lines\",\"name\":\"The Flight Attendant S2\",\"orientation\":\"v\",\"showlegend\":true,\"x\":[1,2,3,4,5,6,7,8,9,10,11,12,13,14,15,16,17,18,19,20,21,22,23,24,25,26,27,28],\"xaxis\":\"x\",\"y\":[6.475833799722941,7.878931919160796,8.795431221125488,9.602212021452006,9.96265821366278,10.208605387232378,10.42689771329422,10.670257017013238,10.865481489836915,11.015228574868829,11.218250866209795,11.339050606043136,11.450044529458193,11.553605884956196,11.679660792789747,11.800222378696716,11.9370737302848,12.057852098912688,12.160184058988646,12.236811005890404,12.311687945172316,12.39210816432095,12.462783631378654,12.547645698020272,12.66579983306606,12.746243785348495,12.808482632398164,12.869992462051009],\"yaxis\":\"y\",\"type\":\"scatter\"},{\"hovertemplate\":\"Title Names=Euphoria S2<br>Days Since Launch=%{x}<br>% of Actives (Reach)=%{y}<extra></extra>\",\"legendgroup\":\"Euphoria S2\",\"line\":{\"color\":\"#FF6692\",\"dash\":\"solid\"},\"marker\":{\"symbol\":\"circle\"},\"mode\":\"lines\",\"name\":\"Euphoria S2\",\"orientation\":\"v\",\"showlegend\":true,\"x\":[1,2,3,4,5,6,7,8,9,10,11,12,13,14,15,16,17,18,19,20,21,22,23,24,25,26,27,28],\"xaxis\":\"x\",\"y\":[26.90950873529379,25.69968846909343,25.42149010335471,24.147626178034116,23.321708342804246,22.831357944036522,22.661496657975317,23.887532141584426,24.477110469538957,24.899226775229856,25.206162960840313,25.348184515396945,25.463235232215943,25.681578875657173,26.372728688309127,26.747979690206424,27.0950007072332,27.38209075157888,27.592281209122856,27.746029622255175,28.03938869894806,28.646159103705727,29.03230189343966,29.385197239377998,29.646498557056557,29.873747375112846,30.089250016452045,30.310509282948807],\"yaxis\":\"y\",\"type\":\"scatter\"},{\"line\":{\"color\":\"purple\",\"dash\":\"dash\",\"width\":2},\"mode\":\"lines\",\"name\":\"And Just Like That S2\",\"showlegend\":true,\"x\":[7,28],\"y\":[21.151768718397257,26.773555755615234],\"type\":\"scattergl\"}],                        {\"template\":{\"data\":{\"bar\":[{\"error_x\":{\"color\":\"#2a3f5f\"},\"error_y\":{\"color\":\"#2a3f5f\"},\"marker\":{\"line\":{\"color\":\"#E5ECF6\",\"width\":0.5},\"pattern\":{\"fillmode\":\"overlay\",\"size\":10,\"solidity\":0.2}},\"type\":\"bar\"}],\"barpolar\":[{\"marker\":{\"line\":{\"color\":\"#E5ECF6\",\"width\":0.5},\"pattern\":{\"fillmode\":\"overlay\",\"size\":10,\"solidity\":0.2}},\"type\":\"barpolar\"}],\"carpet\":[{\"aaxis\":{\"endlinecolor\":\"#2a3f5f\",\"gridcolor\":\"white\",\"linecolor\":\"white\",\"minorgridcolor\":\"white\",\"startlinecolor\":\"#2a3f5f\"},\"baxis\":{\"endlinecolor\":\"#2a3f5f\",\"gridcolor\":\"white\",\"linecolor\":\"white\",\"minorgridcolor\":\"white\",\"startlinecolor\":\"#2a3f5f\"},\"type\":\"carpet\"}],\"choropleth\":[{\"colorbar\":{\"outlinewidth\":0,\"ticks\":\"\"},\"type\":\"choropleth\"}],\"contour\":[{\"colorbar\":{\"outlinewidth\":0,\"ticks\":\"\"},\"colorscale\":[[0.0,\"#0d0887\"],[0.1111111111111111,\"#46039f\"],[0.2222222222222222,\"#7201a8\"],[0.3333333333333333,\"#9c179e\"],[0.4444444444444444,\"#bd3786\"],[0.5555555555555556,\"#d8576b\"],[0.6666666666666666,\"#ed7953\"],[0.7777777777777778,\"#fb9f3a\"],[0.8888888888888888,\"#fdca26\"],[1.0,\"#f0f921\"]],\"type\":\"contour\"}],\"contourcarpet\":[{\"colorbar\":{\"outlinewidth\":0,\"ticks\":\"\"},\"type\":\"contourcarpet\"}],\"heatmap\":[{\"colorbar\":{\"outlinewidth\":0,\"ticks\":\"\"},\"colorscale\":[[0.0,\"#0d0887\"],[0.1111111111111111,\"#46039f\"],[0.2222222222222222,\"#7201a8\"],[0.3333333333333333,\"#9c179e\"],[0.4444444444444444,\"#bd3786\"],[0.5555555555555556,\"#d8576b\"],[0.6666666666666666,\"#ed7953\"],[0.7777777777777778,\"#fb9f3a\"],[0.8888888888888888,\"#fdca26\"],[1.0,\"#f0f921\"]],\"type\":\"heatmap\"}],\"heatmapgl\":[{\"colorbar\":{\"outlinewidth\":0,\"ticks\":\"\"},\"colorscale\":[[0.0,\"#0d0887\"],[0.1111111111111111,\"#46039f\"],[0.2222222222222222,\"#7201a8\"],[0.3333333333333333,\"#9c179e\"],[0.4444444444444444,\"#bd3786\"],[0.5555555555555556,\"#d8576b\"],[0.6666666666666666,\"#ed7953\"],[0.7777777777777778,\"#fb9f3a\"],[0.8888888888888888,\"#fdca26\"],[1.0,\"#f0f921\"]],\"type\":\"heatmapgl\"}],\"histogram\":[{\"marker\":{\"pattern\":{\"fillmode\":\"overlay\",\"size\":10,\"solidity\":0.2}},\"type\":\"histogram\"}],\"histogram2d\":[{\"colorbar\":{\"outlinewidth\":0,\"ticks\":\"\"},\"colorscale\":[[0.0,\"#0d0887\"],[0.1111111111111111,\"#46039f\"],[0.2222222222222222,\"#7201a8\"],[0.3333333333333333,\"#9c179e\"],[0.4444444444444444,\"#bd3786\"],[0.5555555555555556,\"#d8576b\"],[0.6666666666666666,\"#ed7953\"],[0.7777777777777778,\"#fb9f3a\"],[0.8888888888888888,\"#fdca26\"],[1.0,\"#f0f921\"]],\"type\":\"histogram2d\"}],\"histogram2dcontour\":[{\"colorbar\":{\"outlinewidth\":0,\"ticks\":\"\"},\"colorscale\":[[0.0,\"#0d0887\"],[0.1111111111111111,\"#46039f\"],[0.2222222222222222,\"#7201a8\"],[0.3333333333333333,\"#9c179e\"],[0.4444444444444444,\"#bd3786\"],[0.5555555555555556,\"#d8576b\"],[0.6666666666666666,\"#ed7953\"],[0.7777777777777778,\"#fb9f3a\"],[0.8888888888888888,\"#fdca26\"],[1.0,\"#f0f921\"]],\"type\":\"histogram2dcontour\"}],\"mesh3d\":[{\"colorbar\":{\"outlinewidth\":0,\"ticks\":\"\"},\"type\":\"mesh3d\"}],\"parcoords\":[{\"line\":{\"colorbar\":{\"outlinewidth\":0,\"ticks\":\"\"}},\"type\":\"parcoords\"}],\"pie\":[{\"automargin\":true,\"type\":\"pie\"}],\"scatter\":[{\"marker\":{\"colorbar\":{\"outlinewidth\":0,\"ticks\":\"\"}},\"type\":\"scatter\"}],\"scatter3d\":[{\"line\":{\"colorbar\":{\"outlinewidth\":0,\"ticks\":\"\"}},\"marker\":{\"colorbar\":{\"outlinewidth\":0,\"ticks\":\"\"}},\"type\":\"scatter3d\"}],\"scattercarpet\":[{\"marker\":{\"colorbar\":{\"outlinewidth\":0,\"ticks\":\"\"}},\"type\":\"scattercarpet\"}],\"scattergeo\":[{\"marker\":{\"colorbar\":{\"outlinewidth\":0,\"ticks\":\"\"}},\"type\":\"scattergeo\"}],\"scattergl\":[{\"marker\":{\"colorbar\":{\"outlinewidth\":0,\"ticks\":\"\"}},\"type\":\"scattergl\"}],\"scattermapbox\":[{\"marker\":{\"colorbar\":{\"outlinewidth\":0,\"ticks\":\"\"}},\"type\":\"scattermapbox\"}],\"scatterpolar\":[{\"marker\":{\"colorbar\":{\"outlinewidth\":0,\"ticks\":\"\"}},\"type\":\"scatterpolar\"}],\"scatterpolargl\":[{\"marker\":{\"colorbar\":{\"outlinewidth\":0,\"ticks\":\"\"}},\"type\":\"scatterpolargl\"}],\"scatterternary\":[{\"marker\":{\"colorbar\":{\"outlinewidth\":0,\"ticks\":\"\"}},\"type\":\"scatterternary\"}],\"surface\":[{\"colorbar\":{\"outlinewidth\":0,\"ticks\":\"\"},\"colorscale\":[[0.0,\"#0d0887\"],[0.1111111111111111,\"#46039f\"],[0.2222222222222222,\"#7201a8\"],[0.3333333333333333,\"#9c179e\"],[0.4444444444444444,\"#bd3786\"],[0.5555555555555556,\"#d8576b\"],[0.6666666666666666,\"#ed7953\"],[0.7777777777777778,\"#fb9f3a\"],[0.8888888888888888,\"#fdca26\"],[1.0,\"#f0f921\"]],\"type\":\"surface\"}],\"table\":[{\"cells\":{\"fill\":{\"color\":\"#EBF0F8\"},\"line\":{\"color\":\"white\"}},\"header\":{\"fill\":{\"color\":\"#C8D4E3\"},\"line\":{\"color\":\"white\"}},\"type\":\"table\"}]},\"layout\":{\"annotationdefaults\":{\"arrowcolor\":\"#2a3f5f\",\"arrowhead\":0,\"arrowwidth\":1},\"autotypenumbers\":\"strict\",\"coloraxis\":{\"colorbar\":{\"outlinewidth\":0,\"ticks\":\"\"}},\"colorscale\":{\"diverging\":[[0,\"#8e0152\"],[0.1,\"#c51b7d\"],[0.2,\"#de77ae\"],[0.3,\"#f1b6da\"],[0.4,\"#fde0ef\"],[0.5,\"#f7f7f7\"],[0.6,\"#e6f5d0\"],[0.7,\"#b8e186\"],[0.8,\"#7fbc41\"],[0.9,\"#4d9221\"],[1,\"#276419\"]],\"sequential\":[[0.0,\"#0d0887\"],[0.1111111111111111,\"#46039f\"],[0.2222222222222222,\"#7201a8\"],[0.3333333333333333,\"#9c179e\"],[0.4444444444444444,\"#bd3786\"],[0.5555555555555556,\"#d8576b\"],[0.6666666666666666,\"#ed7953\"],[0.7777777777777778,\"#fb9f3a\"],[0.8888888888888888,\"#fdca26\"],[1.0,\"#f0f921\"]],\"sequentialminus\":[[0.0,\"#0d0887\"],[0.1111111111111111,\"#46039f\"],[0.2222222222222222,\"#7201a8\"],[0.3333333333333333,\"#9c179e\"],[0.4444444444444444,\"#bd3786\"],[0.5555555555555556,\"#d8576b\"],[0.6666666666666666,\"#ed7953\"],[0.7777777777777778,\"#fb9f3a\"],[0.8888888888888888,\"#fdca26\"],[1.0,\"#f0f921\"]]},\"colorway\":[\"#636efa\",\"#EF553B\",\"#00cc96\",\"#ab63fa\",\"#FFA15A\",\"#19d3f3\",\"#FF6692\",\"#B6E880\",\"#FF97FF\",\"#FECB52\"],\"font\":{\"color\":\"#2a3f5f\"},\"geo\":{\"bgcolor\":\"white\",\"lakecolor\":\"white\",\"landcolor\":\"#E5ECF6\",\"showlakes\":true,\"showland\":true,\"subunitcolor\":\"white\"},\"hoverlabel\":{\"align\":\"left\"},\"hovermode\":\"closest\",\"mapbox\":{\"style\":\"light\"},\"paper_bgcolor\":\"white\",\"plot_bgcolor\":\"#E5ECF6\",\"polar\":{\"angularaxis\":{\"gridcolor\":\"white\",\"linecolor\":\"white\",\"ticks\":\"\"},\"bgcolor\":\"#E5ECF6\",\"radialaxis\":{\"gridcolor\":\"white\",\"linecolor\":\"white\",\"ticks\":\"\"}},\"scene\":{\"xaxis\":{\"backgroundcolor\":\"#E5ECF6\",\"gridcolor\":\"white\",\"gridwidth\":2,\"linecolor\":\"white\",\"showbackground\":true,\"ticks\":\"\",\"zerolinecolor\":\"white\"},\"yaxis\":{\"backgroundcolor\":\"#E5ECF6\",\"gridcolor\":\"white\",\"gridwidth\":2,\"linecolor\":\"white\",\"showbackground\":true,\"ticks\":\"\",\"zerolinecolor\":\"white\"},\"zaxis\":{\"backgroundcolor\":\"#E5ECF6\",\"gridcolor\":\"white\",\"gridwidth\":2,\"linecolor\":\"white\",\"showbackground\":true,\"ticks\":\"\",\"zerolinecolor\":\"white\"}},\"shapedefaults\":{\"line\":{\"color\":\"#2a3f5f\"}},\"ternary\":{\"aaxis\":{\"gridcolor\":\"white\",\"linecolor\":\"white\",\"ticks\":\"\"},\"baxis\":{\"gridcolor\":\"white\",\"linecolor\":\"white\",\"ticks\":\"\"},\"bgcolor\":\"#E5ECF6\",\"caxis\":{\"gridcolor\":\"white\",\"linecolor\":\"white\",\"ticks\":\"\"}},\"title\":{\"x\":0.05},\"xaxis\":{\"automargin\":true,\"gridcolor\":\"white\",\"linecolor\":\"white\",\"ticks\":\"\",\"title\":{\"standoff\":15},\"zerolinecolor\":\"white\",\"zerolinewidth\":2},\"yaxis\":{\"automargin\":true,\"gridcolor\":\"white\",\"linecolor\":\"white\",\"ticks\":\"\",\"title\":{\"standoff\":15},\"zerolinecolor\":\"white\",\"zerolinewidth\":2}}},\"xaxis\":{\"anchor\":\"y\",\"domain\":[0.0,1.0],\"title\":{\"text\":\"Days Since Launch\"},\"showline\":true,\"linewidth\":0.5,\"linecolor\":\"black\"},\"yaxis\":{\"anchor\":\"x\",\"domain\":[0.0,1.0],\"title\":{\"text\":\"% of Actives (Reach)\"},\"showline\":true,\"linewidth\":0.5,\"linecolor\":\"black\"},\"legend\":{\"title\":{\"text\":\"Title Names\"},\"tracegroupgap\":0,\"orientation\":\"h\",\"yanchor\":\"top\",\"y\":-0.3,\"xanchor\":\"center\",\"x\":0.5},\"margin\":{\"t\":60},\"shapes\":[{\"line\":{\"color\":\"silver\",\"dash\":\"dot\",\"width\":2},\"type\":\"line\",\"x0\":0,\"x1\":1,\"xref\":\"x domain\",\"y0\":5,\"y1\":5,\"yref\":\"y\"},{\"line\":{\"color\":\"gold\",\"dash\":\"dot\",\"width\":2},\"type\":\"line\",\"x0\":0,\"x1\":1,\"xref\":\"x domain\",\"y0\":10,\"y1\":10,\"yref\":\"y\"},{\"line\":{\"color\":\"grey\",\"dash\":\"dot\",\"width\":2},\"type\":\"line\",\"x0\":0,\"x1\":1,\"xref\":\"x domain\",\"y0\":20,\"y1\":20,\"yref\":\"y\"},{\"fillcolor\":\"silver\",\"line\":{\"width\":0},\"opacity\":0.15,\"type\":\"rect\",\"x0\":0,\"x1\":1,\"xref\":\"x domain\",\"y0\":5,\"y1\":10,\"yref\":\"y\"},{\"fillcolor\":\"gold\",\"line\":{\"width\":0},\"opacity\":0.15,\"type\":\"rect\",\"x0\":0,\"x1\":1,\"xref\":\"x domain\",\"y0\":10,\"y1\":20,\"yref\":\"y\"},{\"fillcolor\":\"grey\",\"line\":{\"width\":0},\"opacity\":0.15,\"type\":\"rect\",\"x0\":0,\"x1\":1,\"xref\":\"x domain\",\"y0\":20,\"y1\":30,\"yref\":\"y\"}],\"annotations\":[{\"showarrow\":false,\"text\":\"Silver Target\",\"x\":1,\"xanchor\":\"right\",\"xref\":\"x domain\",\"y\":5,\"yanchor\":\"bottom\",\"yref\":\"y\"},{\"showarrow\":false,\"text\":\"Gold Target\",\"x\":1,\"xanchor\":\"right\",\"xref\":\"x domain\",\"y\":10,\"yanchor\":\"bottom\",\"yref\":\"y\"},{\"showarrow\":false,\"text\":\"Platinum Target\",\"x\":1,\"xanchor\":\"right\",\"xref\":\"x domain\",\"y\":20,\"yanchor\":\"bottom\",\"yref\":\"y\"}],\"plot_bgcolor\":\"rgb(255,255,255)\"},                        {\"responsive\": true}                    ).then(function(){\n",
       "                            \n",
       "var gd = document.getElementById('e359abfe-59cb-4324-b197-9f8ff4ce3e89');\n",
       "var x = new MutationObserver(function (mutations, observer) {{\n",
       "        var display = window.getComputedStyle(gd).display;\n",
       "        if (!display || display === 'none') {{\n",
       "            console.log([gd, 'removed!']);\n",
       "            Plotly.purge(gd);\n",
       "            observer.disconnect();\n",
       "        }}\n",
       "}});\n",
       "\n",
       "// Listen for the removal of the full notebook cells\n",
       "var notebookContainer = gd.closest('#notebook-container');\n",
       "if (notebookContainer) {{\n",
       "    x.observe(notebookContainer, {childList: true});\n",
       "}}\n",
       "\n",
       "// Listen for the clearing of the current output cell\n",
       "var outputEl = gd.closest('.output');\n",
       "if (outputEl) {{\n",
       "    x.observe(outputEl, {childList: true});\n",
       "}}\n",
       "\n",
       "                        })                };                });            </script>        </div>"
      ]
     },
     "metadata": {},
     "output_type": "display_data"
    }
   ],
   "source": [
    "fig = px.line(plot_df, x=\"Days Since Launch\", y=\"% of Actives (Reach)\", color = 'Title Names',)\n",
    "fig.add_scattergl(x = query[query['Title Names'] == 'And Just Like That S2']['Days Since Launch'], \n",
    "                  y = query[query['Title Names'] == 'And Just Like That S2']['% of Actives (Reach)'], \n",
    "                  line ={'color': 'purple', 'width' : 2, \"dash\": 'dash'},\n",
    "#                   marker ={'opacity':0},\n",
    "                   mode='lines',\n",
    "                  name='And Just Like That S2', showlegend = True)\n",
    "\n",
    "\n",
    "fig.add_hline(y = 5, line_width=2, line_dash=\"dot\", line_color=\"silver\", annotation_text = 'Silver Target')\n",
    "fig.add_hline(y = 10, line_width=2, line_dash=\"dot\", line_color=\"gold\", annotation_text = 'Gold Target')\n",
    "fig.add_hline(y = 20, line_width=2, line_dash=\"dot\", line_color=\"grey\", annotation_text = 'Platinum Target')\n",
    "\n",
    "fig.add_hrect(y0=5, y1=10, fillcolor=\"silver\", opacity=0.15, line_width=0)\n",
    "fig.add_hrect(y0=10, y1=20, fillcolor=\"gold\", opacity=0.15, line_width=0)\n",
    "fig.add_hrect(y0=20, y1=30, fillcolor=\"grey\", opacity=0.15, line_width=0)\n",
    "# fig.add_hrect(y0=5, y1=5, fillcolor=\"silver\", opacity=0.15, line_width=0)\n",
    "\n",
    "# fig.update_layout(xaxis_showgrid=False, yaxis_showgrid=False, xaxis_zeroline=True, yaxis_zeroline=True,)\n",
    "fig.update_layout(plot_bgcolor='rgb(255,255,255)')\n",
    "fig.update_xaxes(showline=True, linewidth=0.5, linecolor='black')\n",
    "fig.update_yaxes(showline=True, linewidth=0.5, linecolor='black')\n",
    "\n",
    "fig.update_layout(legend=dict( orientation=\"h\",\n",
    "    yanchor=\"top\",\n",
    "    y=-0.3,\n",
    "    xanchor=\"center\",\n",
    "    x=0.5\n",
    "))\n",
    "\n",
    "fig.show()"
   ]
  },
  {
   "cell_type": "code",
   "execution_count": null,
   "id": "ae0c943e",
   "metadata": {},
   "outputs": [],
   "source": []
  },
  {
   "cell_type": "code",
   "execution_count": null,
   "id": "f999ae0a",
   "metadata": {},
   "outputs": [],
   "source": []
  }
 ],
 "metadata": {
  "kernelspec": {
   "display_name": "conda_python3",
   "language": "python",
   "name": "conda_python3"
  },
  "language_info": {
   "codemirror_mode": {
    "name": "ipython",
    "version": 3
   },
   "file_extension": ".py",
   "mimetype": "text/x-python",
   "name": "python",
   "nbconvert_exporter": "python",
   "pygments_lexer": "ipython3",
   "version": "3.6.13"
  }
 },
 "nbformat": 4,
 "nbformat_minor": 5
}
