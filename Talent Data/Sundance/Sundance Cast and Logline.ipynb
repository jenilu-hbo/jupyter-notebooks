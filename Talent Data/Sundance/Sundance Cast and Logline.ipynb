{
 "cells": [
  {
   "cell_type": "code",
   "execution_count": 47,
   "id": "3cb61395",
   "metadata": {},
   "outputs": [],
   "source": [
    "import os\n",
    "import sys\n",
    "import logging\n",
    "import boto3\n",
    "import itertools as it\n",
    "import io\n",
    "from utils import *\n",
    "import snowflake.connector"
   ]
  },
  {
   "cell_type": "code",
   "execution_count": 48,
   "id": "b4e15dba",
   "metadata": {},
   "outputs": [],
   "source": [
    "from matplotlib.pyplot import figure\n",
    "import matplotlib.pyplot as plt\n",
    "from sklearn.model_selection import GroupKFold\n",
    "import datetime\n",
    "from datetime import timedelta\n",
    "import scipy.stats as st"
   ]
  },
  {
   "cell_type": "code",
   "execution_count": 49,
   "id": "aa1375bd",
   "metadata": {},
   "outputs": [],
   "source": [
    "pd.set_option('display.max_rows', 1000)\n",
    "pd.set_option('display.max_columns', None)\n",
    "pd.options.mode.chained_assignment = None  # default='warn'"
   ]
  },
  {
   "cell_type": "code",
   "execution_count": 50,
   "id": "4f674a13",
   "metadata": {
    "scrolled": true
   },
   "outputs": [],
   "source": [
    "class SnowflakeConnector(BaseConnector):\n",
    "    def __init__(self, credentials: Credentials):\n",
    "        keys = credentials.get_keys()\n",
    "        self._secrets = json.loads(keys.get('SecretString', \"{}\"))\n",
    "\n",
    "    def connect(self, dbname: str, schema: str = 'DEFAULT'):\n",
    "        ctx = snowflake.connector.connect(\n",
    "            user=self._secrets['login_name'],\n",
    "            password=self._secrets['login_password'],\n",
    "            account=self._secrets['account'],\n",
    "            warehouse=self._secrets['warehouse'],\n",
    "            database=dbname,\n",
    "            schema=schema\n",
    "        )\n",
    "\n",
    "        return ctx\n",
    "    \n",
    "## Credentials\n",
    "SF_CREDS = 'datascience-max-dev-sagemaker-notebooks'\n",
    "\n",
    "## Snowflake connection \n",
    "conn=SnowflakeConnector(SSMPSCredentials(SF_CREDS))\n",
    "ctx=conn.connect(\"MAX_PROD\",\"DATASCIENCE_STAGE\")"
   ]
  },
  {
   "cell_type": "code",
   "execution_count": 51,
   "id": "4a14e1ef",
   "metadata": {},
   "outputs": [],
   "source": [
    "def run_query(query):\n",
    "    cursor = ctx.cursor()\n",
    "    cursor.execute(query)\n",
    "    df = pd.DataFrame(cursor.fetchall(), columns = [desc[0] for desc in cursor.description])\n",
    "    df.columns= df.columns.str.lower()\n",
    "    return df"
   ]
  },
  {
   "cell_type": "code",
   "execution_count": 52,
   "id": "b4c55566",
   "metadata": {},
   "outputs": [],
   "source": [
    "logger = logging.getLogger()\n",
    "logger.info(f'Loading inputs')\n",
    "data_list ={}\n",
    "\n",
    "s3 = boto3.resource('s3')\n",
    "bucket = s3.Bucket('hbo-ingest-datascience-content-dev')"
   ]
  },
  {
   "cell_type": "code",
   "execution_count": 53,
   "id": "36f8ea9b",
   "metadata": {},
   "outputs": [],
   "source": [
    "cast = pd.read_csv('Sundance Cast List.csv')\n",
    "log_line = pd.read_csv('Sundance Loglines.csv')\n",
    "log_comps = pd.read_csv('Sundance Loglines Dups.csv')"
   ]
  },
  {
   "cell_type": "markdown",
   "id": "baa4638a",
   "metadata": {},
   "source": [
    "# Cast Ranking"
   ]
  },
  {
   "cell_type": "code",
   "execution_count": 54,
   "id": "1ee3b339",
   "metadata": {},
   "outputs": [],
   "source": [
    "imdb_cast = run_query(''' with\n",
    "      imdb_contributor AS (\n",
    "          SELECT distinct name as contributor_name,\n",
    "                 t.title_id, c.category,\n",
    "                 t.ORIGINAL_TITLE, t.TITLE_TYPE,\n",
    "                 production_release_date,\n",
    "                 YEAR as release_year,\n",
    "                 min(c.logged_order) as logged_order,\n",
    "                 min(c.billingorder) as billingorder,\n",
    "                 max(number_of_votes) as number_of_votes,\n",
    "                 max(imdb_rating) as imdb_rating,\n",
    "                case when hbo_titles IS NULL THEN 'No' ELSE 'Yes' END AS is_hbo_titles\n",
    "          FROM max_prod.workspace.imdb_title_contributor_billing_logged c\n",
    "          JOIN \"ENTERPRISE_DATA\".\"CATALOG\".\"IMDB_TITLE\" t  ON c.titleid = t.title_id\n",
    "          LEFT JOIN  (select distinct title_name , release_year, 1 as hbo_titles from max_prod.catalog.reporting_asset_dim) rad\n",
    "                    ON LOWER(t.ORIGINAL_TITLE) = LOWER(rad.title_name )\n",
    "                    and t.year = rad.release_year\n",
    "          where 1=1\n",
    "          and title_type IN ('tvEpisode', 'movie')\n",
    "          and category NOT IN ('archive_footage')\n",
    "\n",
    "          GROUP BY 1, 2, 3, 4, 5, 6, 7, 12\n",
    "      ),\n",
    "      yearly_sum as (\n",
    "      select YEAR as release_year, sum(number_of_votes) as yearly_sum\n",
    "      from\n",
    "      \"ENTERPRISE_DATA\".\"CATALOG\".\"IMDB_TITLE\"\n",
    "      GROUP BY YEAR\n",
    "      having yearly_sum > 0\n",
    "      )\n",
    "\n",
    "      SELECT c.contributor_name, c.ORIGINAL_TITLE as title_name, c.category, c.title_type,\n",
    "             number_of_votes, yearly_sum,\n",
    "             number_of_votes/yearly_sum * 10000 as standardized_votes,\n",
    "             imdb_rating,\n",
    "             production_release_date,\n",
    "             c.release_year,\n",
    "             billingOrder,\n",
    "             number_of_votes/yearly_sum *logged_order * 10000  AS standardized_score,\n",
    "             c.is_hbo_titles\n",
    "      FROM imdb_contributor c\n",
    "      JOIN yearly_sum s ON c.release_year = s. release_year\n",
    "      order by STANDARDIZED_SCORE desc\n",
    "''')"
   ]
  },
  {
   "cell_type": "code",
   "execution_count": 55,
   "id": "d3a77e32",
   "metadata": {},
   "outputs": [],
   "source": [
    "imdb_cast_2021 = imdb_cast[imdb_cast['release_year'] == '2021']\n",
    "imdb_cast_2021 = imdb_cast_2021.groupby(['contributor_name', 'release_year']).sum().reset_index()\n",
    "imdb_cast_2021['ranking'] = imdb_cast_2021.groupby(\"release_year\")[\"standardized_score\"].rank(\"dense\", ascending=False)"
   ]
  },
  {
   "cell_type": "code",
   "execution_count": 56,
   "id": "52b2abce",
   "metadata": {},
   "outputs": [],
   "source": [
    "imdb_cast_2020 = imdb_cast[imdb_cast['release_year'] == '2020']\n",
    "imdb_cast_2020 = imdb_cast_2020.groupby(['contributor_name', 'release_year']).sum().reset_index()\n",
    "imdb_cast_2020['ranking'] = imdb_cast_2020.groupby(\"release_year\")[\"standardized_score\"].rank(\"dense\", ascending=False)"
   ]
  },
  {
   "cell_type": "code",
   "execution_count": 57,
   "id": "f4f9498c",
   "metadata": {},
   "outputs": [],
   "source": [
    "imdb_cast_overall = imdb_cast.groupby(['contributor_name']).sum().reset_index()\n",
    "imdb_cast_overall['ranking'] = imdb_cast_overall[\"standardized_score\"].rank(ascending=False)"
   ]
  },
  {
   "cell_type": "code",
   "execution_count": 58,
   "id": "2017ad74",
   "metadata": {},
   "outputs": [],
   "source": [
    "imdb_cast_average = imdb_cast.groupby(['release_year', 'contributor_name']).sum().reset_index()\n",
    "imdb_cast_average['ranking'] = imdb_cast_average.groupby(\"release_year\")[\"standardized_score\"].rank(\"dense\", ascending=False)\n",
    "imdb_cast_average = imdb_cast_average.groupby(['contributor_name']).mean().reset_index()"
   ]
  },
  {
   "cell_type": "code",
   "execution_count": 59,
   "id": "c7815216",
   "metadata": {},
   "outputs": [],
   "source": [
    "imdb_cast_2021 = imdb_cast_2021[['contributor_name', 'standardized_score', 'ranking']]\\\n",
    "                .rename(columns = {'ranking': '2021_ranking', 'standardized_score': '2021_score'})\n",
    "imdb_cast_2020 = imdb_cast_2020[['contributor_name', 'standardized_score', 'ranking']]\\\n",
    "                .rename(columns = {'ranking': '2020_ranking', 'standardized_score': '2020_score'})\n",
    "imdb_cast_overall = imdb_cast_overall[['contributor_name', 'standardized_score', 'ranking']]\\\n",
    "                .rename(columns = {'ranking': 'overall_ranking', 'standardized_score': 'overall_score'})\n",
    "imdb_cast_average = imdb_cast_average[['contributor_name', 'standardized_score', 'ranking']]\\\n",
    "                .rename(columns = {'ranking': 'average_ranking', 'standardized_score': 'average_score'})"
   ]
  },
  {
   "cell_type": "code",
   "execution_count": 102,
   "id": "0f9ab89e",
   "metadata": {},
   "outputs": [],
   "source": [
    "cast = pd.merge(cast, imdb_cast_2021, on = ['contributor_name'], how = 'left')\n",
    "cast = pd.merge(cast, imdb_cast_2020, on = ['contributor_name'], how = 'left')\n",
    "cast = pd.merge(cast, imdb_cast_overall, on = ['contributor_name'], how = 'left')\n",
    "cast = pd.merge(cast, imdb_cast_average, on = ['contributor_name'], how = 'left')"
   ]
  },
  {
   "cell_type": "code",
   "execution_count": 103,
   "id": "3059c22f",
   "metadata": {},
   "outputs": [
    {
     "data": {
      "text/html": [
       "<div>\n",
       "<style scoped>\n",
       "    .dataframe tbody tr th:only-of-type {\n",
       "        vertical-align: middle;\n",
       "    }\n",
       "\n",
       "    .dataframe tbody tr th {\n",
       "        vertical-align: top;\n",
       "    }\n",
       "\n",
       "    .dataframe thead th {\n",
       "        text-align: right;\n",
       "    }\n",
       "</style>\n",
       "<table border=\"1\" class=\"dataframe\">\n",
       "  <thead>\n",
       "    <tr style=\"text-align: right;\">\n",
       "      <th></th>\n",
       "      <th>Sundance Movie</th>\n",
       "      <th>Cast</th>\n",
       "      <th>contributor_name</th>\n",
       "      <th>2021_score</th>\n",
       "      <th>2021_ranking</th>\n",
       "      <th>2020_score</th>\n",
       "      <th>2020_ranking</th>\n",
       "      <th>overall_score</th>\n",
       "      <th>overall_ranking</th>\n",
       "      <th>average_score</th>\n",
       "      <th>average_ranking</th>\n",
       "    </tr>\n",
       "  </thead>\n",
       "  <tbody>\n",
       "    <tr>\n",
       "      <th>0</th>\n",
       "      <td>892</td>\n",
       "      <td>Connie Britton</td>\n",
       "      <td>Connie Britton</td>\n",
       "      <td>NaN</td>\n",
       "      <td>NaN</td>\n",
       "      <td>4.588167</td>\n",
       "      <td>735.0</td>\n",
       "      <td>23.647116</td>\n",
       "      <td>20479.0</td>\n",
       "      <td>1.391007</td>\n",
       "      <td>8596.882353</td>\n",
       "    </tr>\n",
       "    <tr>\n",
       "      <th>1</th>\n",
       "      <td>892</td>\n",
       "      <td>John Boyega</td>\n",
       "      <td>John Boyega</td>\n",
       "      <td>0.552929</td>\n",
       "      <td>5457.0</td>\n",
       "      <td>NaN</td>\n",
       "      <td>NaN</td>\n",
       "      <td>72.675222</td>\n",
       "      <td>7069.0</td>\n",
       "      <td>8.075025</td>\n",
       "      <td>7667.888889</td>\n",
       "    </tr>\n",
       "    <tr>\n",
       "      <th>2</th>\n",
       "      <td>892</td>\n",
       "      <td>Michael K. Williams</td>\n",
       "      <td>Michael Kenneth Williams</td>\n",
       "      <td>0.076767</td>\n",
       "      <td>12109.0</td>\n",
       "      <td>0.652104</td>\n",
       "      <td>4825.0</td>\n",
       "      <td>53.598087</td>\n",
       "      <td>9478.0</td>\n",
       "      <td>3.349880</td>\n",
       "      <td>7855.937500</td>\n",
       "    </tr>\n",
       "    <tr>\n",
       "      <th>3</th>\n",
       "      <td>Alice</td>\n",
       "      <td>Common</td>\n",
       "      <td>Common</td>\n",
       "      <td>NaN</td>\n",
       "      <td>NaN</td>\n",
       "      <td>4.850961</td>\n",
       "      <td>665.0</td>\n",
       "      <td>84.285555</td>\n",
       "      <td>5967.0</td>\n",
       "      <td>5.267847</td>\n",
       "      <td>2438.875000</td>\n",
       "    </tr>\n",
       "    <tr>\n",
       "      <th>4</th>\n",
       "      <td>Alice</td>\n",
       "      <td>Keke Palmer</td>\n",
       "      <td>Keke Palmer</td>\n",
       "      <td>NaN</td>\n",
       "      <td>NaN</td>\n",
       "      <td>0.051736</td>\n",
       "      <td>17333.0</td>\n",
       "      <td>14.264930</td>\n",
       "      <td>31540.0</td>\n",
       "      <td>1.188744</td>\n",
       "      <td>8703.333333</td>\n",
       "    </tr>\n",
       "  </tbody>\n",
       "</table>\n",
       "</div>"
      ],
      "text/plain": [
       "  Sundance Movie                Cast           contributor_name  2021_score  \\\n",
       "0            892       Connie Britton            Connie Britton         NaN   \n",
       "1            892          John Boyega               John Boyega    0.552929   \n",
       "2            892  Michael K. Williams  Michael Kenneth Williams    0.076767   \n",
       "3          Alice               Common                    Common         NaN   \n",
       "4          Alice          Keke Palmer               Keke Palmer         NaN   \n",
       "\n",
       "   2021_ranking  2020_score  2020_ranking  overall_score  overall_ranking  \\\n",
       "0           NaN    4.588167         735.0      23.647116          20479.0   \n",
       "1        5457.0         NaN           NaN      72.675222           7069.0   \n",
       "2       12109.0    0.652104        4825.0      53.598087           9478.0   \n",
       "3           NaN    4.850961         665.0      84.285555           5967.0   \n",
       "4           NaN    0.051736       17333.0      14.264930          31540.0   \n",
       "\n",
       "   average_score  average_ranking  \n",
       "0       1.391007      8596.882353  \n",
       "1       8.075025      7667.888889  \n",
       "2       3.349880      7855.937500  \n",
       "3       5.267847      2438.875000  \n",
       "4       1.188744      8703.333333  "
      ]
     },
     "execution_count": 103,
     "metadata": {},
     "output_type": "execute_result"
    }
   ],
   "source": [
    "cast.head()"
   ]
  },
  {
   "cell_type": "code",
   "execution_count": 104,
   "id": "46c8c220",
   "metadata": {},
   "outputs": [],
   "source": [
    "cast.to_csv('Sundance Cast List with Ranking.csv')"
   ]
  },
  {
   "cell_type": "code",
   "execution_count": 108,
   "id": "64bed07c",
   "metadata": {},
   "outputs": [
    {
     "data": {
      "text/html": [
       "<div>\n",
       "<style scoped>\n",
       "    .dataframe tbody tr th:only-of-type {\n",
       "        vertical-align: middle;\n",
       "    }\n",
       "\n",
       "    .dataframe tbody tr th {\n",
       "        vertical-align: top;\n",
       "    }\n",
       "\n",
       "    .dataframe thead th {\n",
       "        text-align: right;\n",
       "    }\n",
       "</style>\n",
       "<table border=\"1\" class=\"dataframe\">\n",
       "  <thead>\n",
       "    <tr style=\"text-align: right;\">\n",
       "      <th></th>\n",
       "      <th>contributor_name</th>\n",
       "      <th>2021_score</th>\n",
       "      <th>2021_ranking</th>\n",
       "    </tr>\n",
       "  </thead>\n",
       "  <tbody>\n",
       "    <tr>\n",
       "      <th>59813</th>\n",
       "      <td>Timothée Chalamet</td>\n",
       "      <td>152.416027</td>\n",
       "      <td>1.0</td>\n",
       "    </tr>\n",
       "    <tr>\n",
       "      <th>60053</th>\n",
       "      <td>Tom Holland</td>\n",
       "      <td>143.182191</td>\n",
       "      <td>2.0</td>\n",
       "    </tr>\n",
       "    <tr>\n",
       "      <th>52745</th>\n",
       "      <td>Ryan Reynolds</td>\n",
       "      <td>139.066890</td>\n",
       "      <td>3.0</td>\n",
       "    </tr>\n",
       "    <tr>\n",
       "      <th>16801</th>\n",
       "      <td>Dwayne Johnson</td>\n",
       "      <td>127.409478</td>\n",
       "      <td>4.0</td>\n",
       "    </tr>\n",
       "    <tr>\n",
       "      <th>7274</th>\n",
       "      <td>Ben Affleck</td>\n",
       "      <td>120.017024</td>\n",
       "      <td>5.0</td>\n",
       "    </tr>\n",
       "  </tbody>\n",
       "</table>\n",
       "</div>"
      ],
      "text/plain": [
       "        contributor_name  2021_score  2021_ranking\n",
       "59813  Timothée Chalamet  152.416027           1.0\n",
       "60053        Tom Holland  143.182191           2.0\n",
       "52745      Ryan Reynolds  139.066890           3.0\n",
       "16801     Dwayne Johnson  127.409478           4.0\n",
       "7274         Ben Affleck  120.017024           5.0"
      ]
     },
     "execution_count": 108,
     "metadata": {},
     "output_type": "execute_result"
    }
   ],
   "source": [
    "imdb_cast_2021.sort_values(by = ['2021_ranking']).head(5)"
   ]
  },
  {
   "cell_type": "code",
   "execution_count": 112,
   "id": "61cb5f4a",
   "metadata": {},
   "outputs": [],
   "source": [
    "imdb_cast_2020['contributor_name'] = imdb_cast_2020['contributor_name'].str.replace('Juhan Ulfsak', 'John David Washington')"
   ]
  },
  {
   "cell_type": "code",
   "execution_count": 113,
   "id": "900a58c9",
   "metadata": {},
   "outputs": [
    {
     "data": {
      "text/html": [
       "<div>\n",
       "<style scoped>\n",
       "    .dataframe tbody tr th:only-of-type {\n",
       "        vertical-align: middle;\n",
       "    }\n",
       "\n",
       "    .dataframe tbody tr th {\n",
       "        vertical-align: top;\n",
       "    }\n",
       "\n",
       "    .dataframe thead th {\n",
       "        text-align: right;\n",
       "    }\n",
       "</style>\n",
       "<table border=\"1\" class=\"dataframe\">\n",
       "  <thead>\n",
       "    <tr style=\"text-align: right;\">\n",
       "      <th></th>\n",
       "      <th>contributor_name</th>\n",
       "      <th>2020_score</th>\n",
       "      <th>2020_ranking</th>\n",
       "    </tr>\n",
       "  </thead>\n",
       "  <tbody>\n",
       "    <tr>\n",
       "      <th>34545</th>\n",
       "      <td>John David Washington</td>\n",
       "      <td>153.494216</td>\n",
       "      <td>1.0</td>\n",
       "    </tr>\n",
       "    <tr>\n",
       "      <th>29081</th>\n",
       "      <td>Jamie Foxx</td>\n",
       "      <td>129.123699</td>\n",
       "      <td>2.0</td>\n",
       "    </tr>\n",
       "    <tr>\n",
       "      <th>66482</th>\n",
       "      <td>Tom Holland</td>\n",
       "      <td>88.440886</td>\n",
       "      <td>3.0</td>\n",
       "    </tr>\n",
       "    <tr>\n",
       "      <th>23030</th>\n",
       "      <td>Gal Gadot</td>\n",
       "      <td>84.027742</td>\n",
       "      <td>4.0</td>\n",
       "    </tr>\n",
       "    <tr>\n",
       "      <th>30491</th>\n",
       "      <td>Jefferson Hall</td>\n",
       "      <td>76.735955</td>\n",
       "      <td>5.0</td>\n",
       "    </tr>\n",
       "  </tbody>\n",
       "</table>\n",
       "</div>"
      ],
      "text/plain": [
       "            contributor_name  2020_score  2020_ranking\n",
       "34545  John David Washington  153.494216           1.0\n",
       "29081             Jamie Foxx  129.123699           2.0\n",
       "66482            Tom Holland   88.440886           3.0\n",
       "23030              Gal Gadot   84.027742           4.0\n",
       "30491         Jefferson Hall   76.735955           5.0"
      ]
     },
     "execution_count": 113,
     "metadata": {},
     "output_type": "execute_result"
    }
   ],
   "source": [
    "imdb_cast_2020.sort_values(by = ['2020_ranking']).head(5)"
   ]
  },
  {
   "cell_type": "markdown",
   "id": "196b1ba4",
   "metadata": {},
   "source": [
    "# Logline"
   ]
  },
  {
   "cell_type": "code",
   "execution_count": 127,
   "id": "2b8deb18",
   "metadata": {},
   "outputs": [],
   "source": [
    "log_line = log_line[log_line['Sundance Movie'].notnull()]"
   ]
  },
  {
   "cell_type": "code",
   "execution_count": 128,
   "id": "6f6c2f4b",
   "metadata": {},
   "outputs": [],
   "source": [
    "log_line_2 = log_line.copy()"
   ]
  },
  {
   "cell_type": "code",
   "execution_count": 129,
   "id": "23d6fc93",
   "metadata": {},
   "outputs": [],
   "source": [
    "for i in range(0, 5):\n",
    "    log_line = pd.concat([log_line, log_line_2], axis = 0)"
   ]
  },
  {
   "cell_type": "code",
   "execution_count": 131,
   "id": "ff4db950",
   "metadata": {},
   "outputs": [],
   "source": [
    "log_line.to_csv('Sundance Loglines Dups.csv')"
   ]
  },
  {
   "cell_type": "code",
   "execution_count": 19,
   "id": "f826e22e",
   "metadata": {},
   "outputs": [],
   "source": [
    "log_comps = pd.read_csv('Sundance Loglines Comps.csv')\n",
    "log_comps = log_comps[['Sundance Movie', 'Comps']]"
   ]
  },
  {
   "cell_type": "code",
   "execution_count": 18,
   "id": "60e1e987",
   "metadata": {},
   "outputs": [],
   "source": [
    "contributor = run_query('''\n",
    "SELECT t.ORIGINAL_TITLE,\n",
    "       max(imdb_rating) as imdb_rating,\n",
    "       max(NUMBER_OF_VOTES) as number_of_votes,\n",
    "       max(box.AREA_GROSS_TO_DATE) as box_office_ww\n",
    "FROM \"ENTERPRISE_DATA\".\"CATALOG\".\"IMDB_TITLE\" t  \n",
    "LEFT JOIN \n",
    "        (select * from \"ENTERPRISE_DATA\".\"CATALOG\".\"IMDB_BOXOFFICE_TITLE_GROSS\"\n",
    "        where area_code IN ('XWW')\n",
    "        ) box \n",
    "ON t.title_id = box.title_id\n",
    "where 1=1\n",
    "--AND box.area_code IN ('XWW')\n",
    "and title_type = 'movie'\n",
    "group by 1\n",
    "''')"
   ]
  },
  {
   "cell_type": "code",
   "execution_count": 20,
   "id": "28ead5d6",
   "metadata": {},
   "outputs": [],
   "source": [
    "log_comps = pd.merge(log_comps, contributor,\n",
    "                    left_on = ['Comps'], right_on = ['original_title'],\n",
    "                    how = 'left')"
   ]
  },
  {
   "cell_type": "code",
   "execution_count": 26,
   "id": "1f80ba5a",
   "metadata": {},
   "outputs": [],
   "source": [
    "from statistics import mean"
   ]
  },
  {
   "cell_type": "code",
   "execution_count": 28,
   "id": "ea4adabb",
   "metadata": {},
   "outputs": [
    {
     "data": {
      "text/plain": [
       "Sundance Movie      object\n",
       "Comps               object\n",
       "original_title      object\n",
       "imdb_rating         object\n",
       "number_of_votes     object\n",
       "box_office_ww      float64\n",
       "dtype: object"
      ]
     },
     "execution_count": 28,
     "metadata": {},
     "output_type": "execute_result"
    }
   ],
   "source": [
    "log_comps.dtypes"
   ]
  },
  {
   "cell_type": "code",
   "execution_count": 29,
   "id": "3a90b7ae",
   "metadata": {},
   "outputs": [],
   "source": [
    "log_comps['imdb_rating'] = log_comps['imdb_rating'].astype(float)\n",
    "log_comps['number_of_votes'] = log_comps['number_of_votes'].astype(float)\n",
    "log_comps['box_office_ww'] = log_comps['box_office_ww'].astype(float)\n"
   ]
  },
  {
   "cell_type": "code",
   "execution_count": 31,
   "id": "9b3da1e0",
   "metadata": {},
   "outputs": [],
   "source": [
    "log_comps['average_rating'] = log_comps.groupby(['Sundance Movie'])['imdb_rating'].transform(mean)\n",
    "log_comps['average_votes'] = log_comps.groupby(['Sundance Movie'])['number_of_votes'].transform(mean)\n"
   ]
  },
  {
   "cell_type": "code",
   "execution_count": 38,
   "id": "0df04860",
   "metadata": {},
   "outputs": [],
   "source": [
    "log_comps['average_boxoffice'] = log_comps[log_comps['box_office_ww'].notnull()].groupby(['Sundance Movie'])['box_office_ww'].transform(mean)"
   ]
  },
  {
   "cell_type": "code",
   "execution_count": 40,
   "id": "04b62f5d",
   "metadata": {},
   "outputs": [],
   "source": [
    "log_comps['average_boxoffice'] = log_comps['average_boxoffice'].fillna(method=\"bfill\")"
   ]
  },
  {
   "cell_type": "code",
   "execution_count": 43,
   "id": "3364a396",
   "metadata": {},
   "outputs": [],
   "source": [
    "log_comps.to_csv('logline Comps.csv')"
   ]
  },
  {
   "cell_type": "markdown",
   "id": "3c776531",
   "metadata": {},
   "source": [
    "# Holiday"
   ]
  },
  {
   "cell_type": "code",
   "execution_count": 66,
   "id": "0b2278d7",
   "metadata": {},
   "outputs": [],
   "source": [
    "holiday = pd.read_csv('''Holiday Movie Talent List.csv''')\n",
    "holiday['Cast'] = holiday['Cast'].str.replace('Remi Hii', 'Remy Hii')"
   ]
  },
  {
   "cell_type": "code",
   "execution_count": 67,
   "id": "c45e5f0c",
   "metadata": {},
   "outputs": [],
   "source": [
    "holiday = pd.merge(holiday, imdb_cast_2021, \n",
    "                   left_on = ['Cast'], right_on = ['contributor_name'], how = 'left')\n",
    "holiday = pd.merge(holiday, imdb_cast_2020, \n",
    "                   left_on = ['Cast'], right_on = ['contributor_name'], how = 'left')\n",
    "holiday = pd.merge(holiday, imdb_cast_overall, \n",
    "                   left_on = ['Cast'], right_on = ['contributor_name'], how = 'left')\n",
    "holiday = pd.merge(holiday, imdb_cast_average, \n",
    "                   left_on = ['Cast'], right_on = ['contributor_name'], how = 'left')"
   ]
  },
  {
   "cell_type": "code",
   "execution_count": 70,
   "id": "c4a29ee1",
   "metadata": {},
   "outputs": [],
   "source": [
    "holiday.drop(['contributor_name_x', 'contributor_name_y', 'contributor_name_x', 'contributor_name_y'], axis = 1, inplace= True)"
   ]
  },
  {
   "cell_type": "code",
   "execution_count": 72,
   "id": "9d299218",
   "metadata": {},
   "outputs": [],
   "source": [
    "holiday.to_csv('Holiday Movie Talent List Ranking.csv')"
   ]
  },
  {
   "cell_type": "code",
   "execution_count": null,
   "id": "d643b69e",
   "metadata": {},
   "outputs": [],
   "source": []
  }
 ],
 "metadata": {
  "kernelspec": {
   "display_name": "conda_python3",
   "language": "python",
   "name": "conda_python3"
  },
  "language_info": {
   "codemirror_mode": {
    "name": "ipython",
    "version": 3
   },
   "file_extension": ".py",
   "mimetype": "text/x-python",
   "name": "python",
   "nbconvert_exporter": "python",
   "pygments_lexer": "ipython3",
   "version": "3.6.13"
  }
 },
 "nbformat": 4,
 "nbformat_minor": 5
}
