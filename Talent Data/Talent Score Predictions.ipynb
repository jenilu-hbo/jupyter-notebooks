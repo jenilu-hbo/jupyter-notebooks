{
 "cells": [
  {
   "cell_type": "code",
   "execution_count": 2,
   "id": "aa2148b6",
   "metadata": {},
   "outputs": [],
   "source": [
    "# !pip install snowflake-connector-python"
   ]
  },
  {
   "cell_type": "code",
   "execution_count": 1,
   "id": "83e2f7cc",
   "metadata": {},
   "outputs": [],
   "source": [
    "import os\n",
    "import sys\n",
    "import logging\n",
    "import boto3\n",
    "import itertools as it\n",
    "import io\n",
    "from utils import *\n",
    "import snowflake.connector"
   ]
  },
  {
   "cell_type": "code",
   "execution_count": 2,
   "id": "42a67932",
   "metadata": {},
   "outputs": [],
   "source": [
    "from matplotlib.pyplot import figure\n",
    "import matplotlib.pyplot as plt\n",
    "from sklearn.model_selection import GroupKFold\n",
    "import datetime\n",
    "from datetime import timedelta\n",
    "import scipy.stats as st"
   ]
  },
  {
   "cell_type": "code",
   "execution_count": 3,
   "id": "0ae9a9be",
   "metadata": {},
   "outputs": [],
   "source": [
    "pd.set_option('display.max_rows', 1000)\n",
    "pd.set_option('display.max_columns', None)\n",
    "pd.options.mode.chained_assignment = None  # default='warn'"
   ]
  },
  {
   "cell_type": "code",
   "execution_count": 4,
   "id": "814498fe",
   "metadata": {},
   "outputs": [],
   "source": [
    "class SnowflakeConnector(BaseConnector):\n",
    "    def __init__(self, credentials: Credentials):\n",
    "        keys = credentials.get_keys()\n",
    "        self._secrets = json.loads(keys.get('SecretString', \"{}\"))\n",
    "\n",
    "    def connect(self, dbname: str, schema: str = 'DEFAULT'):\n",
    "        ctx = snowflake.connector.connect(\n",
    "            user=self._secrets['login_name'],\n",
    "            password=self._secrets['login_password'],\n",
    "            account=self._secrets['account'],\n",
    "            warehouse=self._secrets['warehouse'],\n",
    "            database=dbname,\n",
    "            schema=schema\n",
    "        )\n",
    "\n",
    "        return ctx\n",
    "    \n",
    "## Credentials\n",
    "SF_CREDS = 'datascience-max-dev-sagemaker-notebooks'\n",
    "\n",
    "## Snowflake connection \n",
    "conn=SnowflakeConnector(SSMPSCredentials(SF_CREDS))\n",
    "ctx=conn.connect(\"MAX_DEV\",\"WORKSPACE\")"
   ]
  },
  {
   "cell_type": "code",
   "execution_count": 5,
   "id": "52fae8e6",
   "metadata": {},
   "outputs": [],
   "source": [
    "def run_query(query):\n",
    "    cursor = ctx.cursor()\n",
    "    cursor.execute(query)\n",
    "    df = pd.DataFrame(cursor.fetchall(), columns = [desc[0] for desc in cursor.description])\n",
    "    df.columns= df.columns.str.lower()\n",
    "    return df"
   ]
  },
  {
   "cell_type": "markdown",
   "id": "fa76695e",
   "metadata": {},
   "source": [
    "# Data Featuring"
   ]
  },
  {
   "cell_type": "code",
   "execution_count": 6,
   "id": "8c3cb152",
   "metadata": {},
   "outputs": [],
   "source": [
    "imdb_votes = run_query('''\n",
    " WITH\n",
    "      imdb_contributor AS (\n",
    "          SELECT distinct name as contributor_name, \n",
    "                 t.title_id, c.category,\n",
    "                 t.ORIGINAL_TITLE, t.TITLE_TYPE,\n",
    "                 production_release_date,\n",
    "                 YEAR as release_year,\n",
    "                c.billingorder, c.logged_order,\n",
    "                 max(number_of_votes) as number_of_votes,\n",
    "                 max(imdb_rating) as imdb_rating\n",
    "          FROM max_prod.workspace.imdb_title_contributor_billing_logged c\n",
    "          JOIN \"ENTERPRISE_DATA\".\"CATALOG\".\"IMDB_TITLE\" t  ON c.titleid = t.title_id\n",
    "          where 1=1\n",
    "          and title_type IN ('tvEpisode', 'movie')\n",
    "          and category NOT IN ('archive_footage')\n",
    "\n",
    "          GROUP BY 1, 2, 3, 4, 5, 6, 7, 8, 9\n",
    "      ),\n",
    "      yearly_sum as (\n",
    "      select YEAR as release_year, sum(number_of_votes) as yearly_sum\n",
    "      from\n",
    "      \"ENTERPRISE_DATA\".\"CATALOG\".\"IMDB_TITLE\"\n",
    "      GROUP BY YEAR\n",
    "      having yearly_sum > 0\n",
    "      )\n",
    "\n",
    "      SELECT c.contributor_name, c.ORIGINAL_TITLE as title_name, c.category, c.title_type,\n",
    "             number_of_votes, yearly_sum,\n",
    "             number_of_votes/yearly_sum * 10000 as standardized_votes,\n",
    "             imdb_rating,\n",
    "             production_release_date,\n",
    "             c.release_year,\n",
    "             billingOrder,\n",
    "             number_of_votes/yearly_sum *logged_order * 10000  AS standardized_score\n",
    "      FROM imdb_contributor c\n",
    "      JOIN yearly_sum s ON c.release_year = s. release_year\n",
    "      order by STANDARDIZED_SCORE desc\n",
    "\n",
    "''')"
   ]
  },
  {
   "cell_type": "code",
   "execution_count": 7,
   "id": "758743c6",
   "metadata": {},
   "outputs": [],
   "source": [
    "yearly_sum = run_query('''\n",
    "      select YEAR as release_year, sum(number_of_votes) as yearly_sum\n",
    "      from\n",
    "      \"ENTERPRISE_DATA\".\"CATALOG\".\"IMDB_TITLE\"\n",
    "      where year is not null\n",
    "      GROUP BY YEAR\n",
    "      having yearly_sum > 0\n",
    "''')"
   ]
  },
  {
   "cell_type": "code",
   "execution_count": 34,
   "id": "751c0b1b",
   "metadata": {},
   "outputs": [
    {
     "data": {
      "text/plain": [
       "array(['movie', 'tvEpisode'], dtype=object)"
      ]
     },
     "execution_count": 34,
     "metadata": {},
     "output_type": "execute_result"
    }
   ],
   "source": [
    "imdb_votes.title_type.unique()"
   ]
  },
  {
   "cell_type": "markdown",
   "id": "7a9ad10f",
   "metadata": {},
   "source": [
    "#### Yearly Trend"
   ]
  },
  {
   "cell_type": "code",
   "execution_count": 19,
   "id": "8e9918da",
   "metadata": {},
   "outputs": [
    {
     "name": "stderr",
     "output_type": "stream",
     "text": [
      "No handles with labels found to put in legend.\n"
     ]
    },
    {
     "data": {
      "image/png": "[encoded data removed]",
      "text/plain": [
       "<Figure size 1440x480 with 1 Axes>"
      ]
     },
     "metadata": {
      "needs_background": "light"
     },
     "output_type": "display_data"
    }
   ],
   "source": [
    "yearly_sum['release_year'] = pd.to_datetime(yearly_sum['release_year'], format='%Y')\n",
    "yearly_sum.sort_values(by = ['release_year'], inplace = True)\n",
    "\n",
    "figure(figsize=(18, 6), dpi=80)\n",
    "plt.plot(yearly_sum['release_year'], yearly_sum['yearly_sum'],\n",
    "                linewidth=2)\n",
    "# plt.fill_between(plot_df['days_after_launch'], plot_df['lower_bound'], plot_df['upper_bound'], color='b', alpha=.1)\n",
    "plt.title('votes sum by year')\n",
    "# plt.ylim(0, 18)\n",
    "# plt.xlabel('date')\n",
    "# plt.ylabel('total actives')\n",
    "plt.legend()\n",
    "plt.show()"
   ]
  },
  {
   "cell_type": "markdown",
   "id": "59db6d57",
   "metadata": {},
   "source": [
    "#### Monthly Trend"
   ]
  },
  {
   "cell_type": "code",
   "execution_count": 20,
   "id": "0f167ea6",
   "metadata": {},
   "outputs": [],
   "source": [
    "monthly_sum = run_query('''\n",
    "      select date_trunc('MONTH', to_timestamp(production_release_date)) as release_month, \n",
    "      sum(number_of_votes) as monthly_sum\n",
    "      from\n",
    "      \"ENTERPRISE_DATA\".\"CATALOG\".\"IMDB_TITLE\"\n",
    "      where year is not null\n",
    "      GROUP BY release_month\n",
    "      having monthly_sum > 0\n",
    "''')"
   ]
  },
  {
   "cell_type": "code",
   "execution_count": 21,
   "id": "47f2fb6e",
   "metadata": {},
   "outputs": [],
   "source": [
    "monthly_sum['release_month'] = pd.to_datetime(monthly_sum['release_month'], format='%Y%m')\n",
    "monthly_sum.sort_values(by = ['release_month'], inplace = True)\n",
    "monthly_sum = monthly_sum[(monthly_sum['release_month']>= '2016-01-01')\n",
    "                         &(monthly_sum['release_month']<= '2022-01-01')]\n"
   ]
  },
  {
   "cell_type": "code",
   "execution_count": 22,
   "id": "633cec87",
   "metadata": {},
   "outputs": [
    {
     "name": "stderr",
     "output_type": "stream",
     "text": [
      "No handles with labels found to put in legend.\n"
     ]
    },
    {
     "data": {
      "image/png": "[encoded data removed]",
      "text/plain": [
       "<Figure size 1440x480 with 1 Axes>"
      ]
     },
     "metadata": {
      "needs_background": "light"
     },
     "output_type": "display_data"
    }
   ],
   "source": [
    "figure(figsize=(18, 6), dpi=80)\n",
    "plt.plot(monthly_sum['release_month'], monthly_sum['monthly_sum'],\n",
    "                linewidth=2)\n",
    "# plt.fill_between(plot_df['days_after_launch'], plot_df['lower_bound'], plot_df['upper_bound'], color='b', alpha=.1)\n",
    "plt.title('votes sum by year')\n",
    "# plt.ylim(0, 18)\n",
    "# plt.xlabel('date')\n",
    "# plt.ylabel('total actives')\n",
    "plt.legend()\n",
    "plt.show()"
   ]
  },
  {
   "cell_type": "markdown",
   "id": "0a991abb",
   "metadata": {},
   "source": [
    "## Feature Engineering"
   ]
  },
  {
   "cell_type": "code",
   "execution_count": 7,
   "id": "3be9dc86",
   "metadata": {},
   "outputs": [],
   "source": [
    "train_data = imdb_votes[['contributor_name','title_name' ,'release_year','billingorder', 'standardized_score']]"
   ]
  },
  {
   "cell_type": "code",
   "execution_count": 9,
   "id": "7ec8fc20",
   "metadata": {},
   "outputs": [],
   "source": [
    "data = train_data.copy()\n",
    "data['release_year'] = data['release_year'].astype(int)\n",
    "data['billingorder'] = data['billingorder'].astype(str)\n",
    "data = data.groupby(['contributor_name', 'release_year']).sum().reset_index()"
   ]
  },
  {
   "cell_type": "code",
   "execution_count": 10,
   "id": "d68ca459",
   "metadata": {},
   "outputs": [],
   "source": [
    "data1 = data[data['release_year'] > 2000]\n",
    "data2 = data[data['release_year'] > 1997]\n",
    "data2.columns = ['contributor_name', 'release_year_before', 'standardized_score_before_']"
   ]
  },
  {
   "cell_type": "code",
   "execution_count": 11,
   "id": "e72052e8",
   "metadata": {},
   "outputs": [],
   "source": [
    "data = pd.merge(data1, data2, on = ['contributor_name'], how = 'outer')\n",
    "data=data[(data['release_year'] > data['release_year_before'])\n",
    "         &(data['release_year'] - 3 <= data['release_year_before'])]"
   ]
  },
  {
   "cell_type": "code",
   "execution_count": 12,
   "id": "e359e528",
   "metadata": {},
   "outputs": [],
   "source": [
    "data['years_before'] = data['release_year_before'] - data['release_year']\n",
    "data['years_before'] = data['years_before'].astype(int).astype(str)\n",
    "data = data.pivot(index=['contributor_name', 'release_year', 'standardized_score'], \n",
    "           columns='years_before', values=['standardized_score_before_']).reset_index()\n",
    "data.columns = [''.join(col).strip() for col in data.columns.values]"
   ]
  },
  {
   "cell_type": "code",
   "execution_count": 13,
   "id": "a334385f",
   "metadata": {},
   "outputs": [],
   "source": [
    "data_order = train_data.copy()\n",
    "data_order = data_order.groupby(['contributor_name', 'release_year', 'billingorder']).count().reset_index()\n",
    "data_order = data_order.drop(['title_name'], axis = 1).rename(columns = {'standardized_score': 'count_billingorder_'})\n",
    "data_order['billingorder'] = data_order['billingorder'].astype(str)\n",
    "data_order = data_order[(data_order['billingorder'].astype(int)<=3)].pivot(index=['contributor_name', 'release_year'], \n",
    "           columns='billingorder', values=['count_billingorder_']).reset_index()\n",
    "data_order.columns = [''.join(col).strip() for col in data_order.columns.values]\n",
    "data_order['release_year'] = data_order['release_year'].astype(int)"
   ]
  },
  {
   "cell_type": "code",
   "execution_count": 14,
   "id": "bfb53a5c",
   "metadata": {},
   "outputs": [],
   "source": [
    "final_data = pd.merge(data, data_order, how = 'left', on = ['contributor_name', 'release_year'])\n",
    "final_data = final_data.fillna(0)"
   ]
  },
  {
   "cell_type": "code",
   "execution_count": 1,
   "id": "4f3241f4",
   "metadata": {},
   "outputs": [
    {
     "ename": "NameError",
     "evalue": "name 'final_data' is not defined",
     "output_type": "error",
     "traceback": [
      "\u001b[0;31m---------------------------------------------------------------------------\u001b[0m",
      "\u001b[0;31mNameError\u001b[0m                                 Traceback (most recent call last)",
      "\u001b[0;32m<ipython-input-1-c3c4c7ff6e78>\u001b[0m in \u001b[0;36m<module>\u001b[0;34m\u001b[0m\n\u001b[0;32m----> 1\u001b[0;31m \u001b[0mfinal_data\u001b[0m\u001b[0;34m.\u001b[0m\u001b[0mhead\u001b[0m\u001b[0;34m(\u001b[0m\u001b[0;34m)\u001b[0m\u001b[0;34m\u001b[0m\u001b[0;34m\u001b[0m\u001b[0m\n\u001b[0m",
      "\u001b[0;31mNameError\u001b[0m: name 'final_data' is not defined"
     ]
    }
   ],
   "source": [
    "final_data.head()"
   ]
  },
  {
   "cell_type": "markdown",
   "id": "80372c61",
   "metadata": {},
   "source": [
    "## Train"
   ]
  },
  {
   "cell_type": "code",
   "execution_count": 18,
   "id": "f507dc8f",
   "metadata": {},
   "outputs": [],
   "source": [
    "from sklearn import datasets, linear_model\n",
    "from xgboost import XGBRegressor\n",
    "from sklearn.ensemble import RandomForestRegressor"
   ]
  },
  {
   "cell_type": "code",
   "execution_count": 19,
   "id": "dcd33217",
   "metadata": {},
   "outputs": [],
   "source": [
    "year = 2020"
   ]
  },
  {
   "cell_type": "code",
   "execution_count": 20,
   "id": "60090c25",
   "metadata": {},
   "outputs": [],
   "source": [
    "feature_cols = ['standardized_score_before_-1', 'standardized_score_before_-2', 'standardized_score_before_-3', \n",
    "                'count_billingorder_1', 'count_billingorder_2', 'count_billingorder_3']\n",
    "target_col = ['standardized_score']"
   ]
  },
  {
   "cell_type": "code",
   "execution_count": 21,
   "id": "f48df5d0",
   "metadata": {},
   "outputs": [],
   "source": [
    "train_X = final_data[final_data['release_year'] < year][feature_cols]\n",
    "train_Y = final_data[final_data['release_year'] < year][target_col]\n",
    "test_X = final_data[final_data['release_year'] == year][feature_cols]\n",
    "test_Y = final_data[final_data['release_year'] == year][target_col]"
   ]
  },
  {
   "cell_type": "markdown",
   "id": "a7273f4b",
   "metadata": {},
   "source": [
    "### xgboost"
   ]
  },
  {
   "cell_type": "code",
   "execution_count": 64,
   "id": "f8adefcd",
   "metadata": {},
   "outputs": [],
   "source": [
    "model_xgb = XGBRegressor(n_estimators=1000, max_depth=7, eta=0.1)"
   ]
  },
  {
   "cell_type": "code",
   "execution_count": 65,
   "id": "486e3c61",
   "metadata": {},
   "outputs": [
    {
     "data": {
      "text/plain": [
       "XGBRegressor(base_score=0.5, booster='gbtree', colsample_bylevel=1,\n",
       "             colsample_bynode=1, colsample_bytree=1, enable_categorical=False,\n",
       "             eta=0.1, gamma=0, gpu_id=-1, importance_type=None,\n",
       "             interaction_constraints='', learning_rate=0.100000001,\n",
       "             max_delta_step=0, max_depth=7, min_child_weight=1, missing=nan,\n",
       "             monotone_constraints='()', n_estimators=1000, n_jobs=2,\n",
       "             num_parallel_tree=1, predictor='auto', random_state=0, reg_alpha=0,\n",
       "             reg_lambda=1, scale_pos_weight=1, subsample=1, tree_method='exact',\n",
       "             validate_parameters=1, verbosity=None)"
      ]
     },
     "execution_count": 65,
     "metadata": {},
     "output_type": "execute_result"
    }
   ],
   "source": [
    "model_xgb.fit(train_X, train_Y)"
   ]
  },
  {
   "cell_type": "code",
   "execution_count": 66,
   "id": "ffd1896f",
   "metadata": {},
   "outputs": [],
   "source": [
    "predition_xgb = model_xgb.predict(test_X)"
   ]
  },
  {
   "cell_type": "code",
   "execution_count": 67,
   "id": "746d0b20",
   "metadata": {},
   "outputs": [],
   "source": [
    "test_X['prediction'] = predition_xgb\n",
    "test_X['actuals'] = test_Y\n",
    "test_X['mape'] = abs(test_X['prediction']-test_X['actuals'])/test_X['actuals']"
   ]
  },
  {
   "cell_type": "code",
   "execution_count": 68,
   "id": "16333649",
   "metadata": {},
   "outputs": [
    {
     "data": {
      "text/plain": [
       "61.01746777935752"
      ]
     },
     "execution_count": 68,
     "metadata": {},
     "output_type": "execute_result"
    }
   ],
   "source": [
    "test_X[test_X['actuals'] > 0]['mape'].mean()"
   ]
  },
  {
   "cell_type": "code",
   "execution_count": 45,
   "id": "1ae35e6e",
   "metadata": {},
   "outputs": [
    {
     "name": "stdout",
     "output_type": "stream",
     "text": [
      "[0.07949356 0.15106441 0.15819466 0.32801196 0.23750657 0.04572882]\n"
     ]
    }
   ],
   "source": [
    "print(model_xgb.feature_importances_)"
   ]
  },
  {
   "cell_type": "markdown",
   "id": "5fae1510",
   "metadata": {},
   "source": [
    "### linear regression"
   ]
  },
  {
   "cell_type": "code",
   "execution_count": 48,
   "id": "68f4b58a",
   "metadata": {},
   "outputs": [],
   "source": [
    "model_lr = linear_model.LinearRegression()"
   ]
  },
  {
   "cell_type": "code",
   "execution_count": 49,
   "id": "4440623b",
   "metadata": {},
   "outputs": [
    {
     "data": {
      "text/plain": [
       "LinearRegression()"
      ]
     },
     "execution_count": 49,
     "metadata": {},
     "output_type": "execute_result"
    }
   ],
   "source": [
    "model_lr.fit(train_X, train_Y)"
   ]
  },
  {
   "cell_type": "code",
   "execution_count": 51,
   "id": "f288bd41",
   "metadata": {},
   "outputs": [],
   "source": [
    "prediction_lr = model_lr.predict(test_X)"
   ]
  },
  {
   "cell_type": "code",
   "execution_count": 53,
   "id": "18a1d486",
   "metadata": {},
   "outputs": [
    {
     "data": {
      "text/plain": [
       "301.70609699082405"
      ]
     },
     "execution_count": 53,
     "metadata": {},
     "output_type": "execute_result"
    }
   ],
   "source": [
    "test_X['prediction'] = prediction_lr\n",
    "test_X['actuals'] = test_Y\n",
    "test_X['mape'] = abs(test_X['prediction']-test_X['actuals'])/test_X['actuals']\n",
    "test_X[test_X['actuals'] > 0]['mape'].mean()"
   ]
  },
  {
   "cell_type": "markdown",
   "id": "2eeacbc4",
   "metadata": {},
   "source": [
    "### random forest"
   ]
  },
  {
   "cell_type": "code",
   "execution_count": 15,
   "id": "c9cecc16",
   "metadata": {},
   "outputs": [
    {
     "ename": "NameError",
     "evalue": "name 'RandomForestRegressor' is not defined",
     "output_type": "error",
     "traceback": [
      "\u001b[0;31m---------------------------------------------------------------------------\u001b[0m",
      "\u001b[0;31mNameError\u001b[0m                                 Traceback (most recent call last)",
      "\u001b[0;32m<ipython-input-15-ef3bc31be39f>\u001b[0m in \u001b[0;36m<module>\u001b[0;34m\u001b[0m\n\u001b[0;32m----> 1\u001b[0;31m \u001b[0mmodel_rf\u001b[0m \u001b[0;34m=\u001b[0m \u001b[0mRandomForestRegressor\u001b[0m\u001b[0;34m(\u001b[0m\u001b[0mn_estimators\u001b[0m \u001b[0;34m=\u001b[0m \u001b[0;36m1000\u001b[0m\u001b[0;34m,\u001b[0m \u001b[0mrandom_state\u001b[0m \u001b[0;34m=\u001b[0m \u001b[0;36m42\u001b[0m\u001b[0;34m)\u001b[0m\u001b[0;34m\u001b[0m\u001b[0;34m\u001b[0m\u001b[0m\n\u001b[0m\u001b[1;32m      2\u001b[0m \u001b[0mmodel_rf\u001b[0m\u001b[0;34m.\u001b[0m\u001b[0mfit\u001b[0m\u001b[0;34m(\u001b[0m\u001b[0mtrain_X\u001b[0m\u001b[0;34m,\u001b[0m \u001b[0mtrain_Y\u001b[0m\u001b[0;34m)\u001b[0m\u001b[0;34m\u001b[0m\u001b[0;34m\u001b[0m\u001b[0m\n\u001b[1;32m      3\u001b[0m \u001b[0mprediction_rf\u001b[0m \u001b[0;34m=\u001b[0m \u001b[0mmodel_rf\u001b[0m\u001b[0;34m.\u001b[0m\u001b[0mpredict\u001b[0m\u001b[0;34m(\u001b[0m\u001b[0mtest_X\u001b[0m\u001b[0;34m)\u001b[0m\u001b[0;34m\u001b[0m\u001b[0;34m\u001b[0m\u001b[0m\n",
      "\u001b[0;31mNameError\u001b[0m: name 'RandomForestRegressor' is not defined"
     ]
    }
   ],
   "source": [
    "model_rf = RandomForestRegressor(n_estimators = 1000, random_state = 42)\n",
    "model_rf.fit(train_X, train_Y)\n",
    "prediction_rf = model_rf.predict(test_X)"
   ]
  },
  {
   "cell_type": "code",
   "execution_count": 1,
   "id": "08498f1d",
   "metadata": {},
   "outputs": [
    {
     "ename": "NameError",
     "evalue": "name 'prediction_rf' is not defined",
     "output_type": "error",
     "traceback": [
      "\u001b[0;31m---------------------------------------------------------------------------\u001b[0m",
      "\u001b[0;31mNameError\u001b[0m                                 Traceback (most recent call last)",
      "\u001b[0;32m<ipython-input-1-32756ddfaa21>\u001b[0m in \u001b[0;36m<module>\u001b[0;34m\u001b[0m\n\u001b[0;32m----> 1\u001b[0;31m \u001b[0mtest_X\u001b[0m\u001b[0;34m[\u001b[0m\u001b[0;34m'prediction'\u001b[0m\u001b[0;34m]\u001b[0m \u001b[0;34m=\u001b[0m \u001b[0mprediction_rf\u001b[0m\u001b[0;34m\u001b[0m\u001b[0;34m\u001b[0m\u001b[0m\n\u001b[0m\u001b[1;32m      2\u001b[0m \u001b[0mtest_X\u001b[0m\u001b[0;34m[\u001b[0m\u001b[0;34m'actuals'\u001b[0m\u001b[0;34m]\u001b[0m \u001b[0;34m=\u001b[0m \u001b[0mtest_Y\u001b[0m\u001b[0;34m\u001b[0m\u001b[0;34m\u001b[0m\u001b[0m\n\u001b[1;32m      3\u001b[0m \u001b[0mtest_X\u001b[0m\u001b[0;34m[\u001b[0m\u001b[0;34m'mape'\u001b[0m\u001b[0;34m]\u001b[0m \u001b[0;34m=\u001b[0m \u001b[0mabs\u001b[0m\u001b[0;34m(\u001b[0m\u001b[0mtest_X\u001b[0m\u001b[0;34m[\u001b[0m\u001b[0;34m'prediction'\u001b[0m\u001b[0;34m]\u001b[0m\u001b[0;34m-\u001b[0m\u001b[0mtest_X\u001b[0m\u001b[0;34m[\u001b[0m\u001b[0;34m'actuals'\u001b[0m\u001b[0;34m]\u001b[0m\u001b[0;34m)\u001b[0m\u001b[0;34m/\u001b[0m\u001b[0mtest_X\u001b[0m\u001b[0;34m[\u001b[0m\u001b[0;34m'actuals'\u001b[0m\u001b[0;34m]\u001b[0m\u001b[0;34m\u001b[0m\u001b[0;34m\u001b[0m\u001b[0m\n\u001b[1;32m      4\u001b[0m \u001b[0mtest_X\u001b[0m\u001b[0;34m[\u001b[0m\u001b[0mtest_X\u001b[0m\u001b[0;34m[\u001b[0m\u001b[0;34m'actuals'\u001b[0m\u001b[0;34m]\u001b[0m \u001b[0;34m>\u001b[0m \u001b[0;36m0\u001b[0m\u001b[0;34m]\u001b[0m\u001b[0;34m[\u001b[0m\u001b[0;34m'mape'\u001b[0m\u001b[0;34m]\u001b[0m\u001b[0;34m.\u001b[0m\u001b[0mmean\u001b[0m\u001b[0;34m(\u001b[0m\u001b[0;34m)\u001b[0m\u001b[0;34m\u001b[0m\u001b[0;34m\u001b[0m\u001b[0m\n",
      "\u001b[0;31mNameError\u001b[0m: name 'prediction_rf' is not defined"
     ]
    }
   ],
   "source": [
    "test_X['prediction'] = prediction_rf\n",
    "test_X['actuals'] = test_Y\n",
    "test_X['mape'] = abs(test_X['prediction']-test_X['actuals'])/test_X['actuals']\n",
    "test_X[test_X['actuals'] > 0]['mape'].mean()"
   ]
  },
  {
   "cell_type": "code",
   "execution_count": null,
   "id": "7e7fa8f9",
   "metadata": {},
   "outputs": [],
   "source": [
    "print(model_rf.feature_importances_)"
   ]
  },
  {
   "cell_type": "code",
   "execution_count": null,
   "id": "664043ad",
   "metadata": {},
   "outputs": [],
   "source": [
    "test_X = test_X.sort_values(by = ['prediction'], ascending = False).reset_index(drop = True).reset_index().rename(columns = {'index': 'prediction_ranking'})\n",
    "test_X = test_X.sort_values(by = ['actuals'], ascending = False).reset_index(drop = True).reset_index().rename(columns = {'index': 'actuals_ranking'})"
   ]
  },
  {
   "cell_type": "code",
   "execution_count": null,
   "id": "fb85305d",
   "metadata": {},
   "outputs": [],
   "source": [
    "def top_k_precision(df, k):\n",
    "    top_k_df = df[df['actuals_ranking'] < k][['actuals_ranking', 'prediction_ranking']]\n",
    "    top_k_df['hit'] = 0\n",
    "    top_k_df.loc[top_k_df['prediction_ranking'] < k, 'hit'] = 1\n",
    "    return (top_k_df['hit'].sum())"
   ]
  },
  {
   "cell_type": "code",
   "execution_count": null,
   "id": "25899b82",
   "metadata": {},
   "outputs": [],
   "source": [
    "top_k_precision(test_X, 50)"
   ]
  },
  {
   "cell_type": "markdown",
   "id": "d70a6b0a",
   "metadata": {},
   "source": [
    "## Cross Validation"
   ]
  },
  {
   "cell_type": "code",
   "execution_count": 22,
   "id": "0632114e",
   "metadata": {},
   "outputs": [],
   "source": [
    "feature_cols = ['standardized_score_before_-1', 'standardized_score_before_-2', 'standardized_score_before_-3', \n",
    "                'count_billingorder_1', 'count_billingorder_2', 'count_billingorder_3']\n",
    "target_col = ['standardized_score']"
   ]
  },
  {
   "cell_type": "code",
   "execution_count": 25,
   "id": "ff1784ef",
   "metadata": {},
   "outputs": [],
   "source": [
    "def predict_score(train, test):\n",
    "    train_X = train[feature_cols]\n",
    "    train_Y = train[target_col]\n",
    "    test_X = test[feature_cols]\n",
    "    test_Y = test[target_col]\n",
    "    \n",
    "    model_rf = RandomForestRegressor(n_estimators = 1000, random_state = 42)\n",
    "    model_rf.fit(train_X, train_Y)\n",
    "    prediction_rf = model_rf.predict(test_X)\n",
    "    \n",
    "    test['prediction'] = prediction_rf\n",
    "    test['mape'] = abs(test['prediction']-test['standardized_score'])/test['standardized_score']\n",
    "    return test"
   ]
  },
  {
   "cell_type": "code",
   "execution_count": 26,
   "id": "173fe2ba",
   "metadata": {},
   "outputs": [],
   "source": [
    "start_year = final_data.release_year.astype(int).min()+3\n",
    "end_year = final_data.release_year.astype(int).max() + 1"
   ]
  },
  {
   "cell_type": "code",
   "execution_count": null,
   "id": "bd6b892e",
   "metadata": {},
   "outputs": [
    {
     "name": "stdout",
     "output_type": "stream",
     "text": [
      "cross validation for year: 2004\n"
     ]
    },
    {
     "name": "stderr",
     "output_type": "stream",
     "text": [
      "/home/ec2-user/anaconda3/envs/python3/lib/python3.6/site-packages/ipykernel/__main__.py:8: DataConversionWarning: A column-vector y was passed when a 1d array was expected. Please change the shape of y to (n_samples,), for example using ravel().\n"
     ]
    },
    {
     "name": "stdout",
     "output_type": "stream",
     "text": [
      "cross validation for year: 2005\n"
     ]
    },
    {
     "name": "stderr",
     "output_type": "stream",
     "text": [
      "/home/ec2-user/anaconda3/envs/python3/lib/python3.6/site-packages/ipykernel/__main__.py:8: DataConversionWarning: A column-vector y was passed when a 1d array was expected. Please change the shape of y to (n_samples,), for example using ravel().\n"
     ]
    },
    {
     "name": "stdout",
     "output_type": "stream",
     "text": [
      "cross validation for year: 2006\n"
     ]
    },
    {
     "name": "stderr",
     "output_type": "stream",
     "text": [
      "/home/ec2-user/anaconda3/envs/python3/lib/python3.6/site-packages/ipykernel/__main__.py:8: DataConversionWarning: A column-vector y was passed when a 1d array was expected. Please change the shape of y to (n_samples,), for example using ravel().\n"
     ]
    },
    {
     "name": "stdout",
     "output_type": "stream",
     "text": [
      "cross validation for year: 2007\n"
     ]
    },
    {
     "name": "stderr",
     "output_type": "stream",
     "text": [
      "/home/ec2-user/anaconda3/envs/python3/lib/python3.6/site-packages/ipykernel/__main__.py:8: DataConversionWarning: A column-vector y was passed when a 1d array was expected. Please change the shape of y to (n_samples,), for example using ravel().\n"
     ]
    },
    {
     "name": "stdout",
     "output_type": "stream",
     "text": [
      "cross validation for year: 2008\n"
     ]
    },
    {
     "name": "stderr",
     "output_type": "stream",
     "text": [
      "/home/ec2-user/anaconda3/envs/python3/lib/python3.6/site-packages/ipykernel/__main__.py:8: DataConversionWarning: A column-vector y was passed when a 1d array was expected. Please change the shape of y to (n_samples,), for example using ravel().\n"
     ]
    },
    {
     "name": "stdout",
     "output_type": "stream",
     "text": [
      "cross validation for year: 2009\n"
     ]
    },
    {
     "name": "stderr",
     "output_type": "stream",
     "text": [
      "/home/ec2-user/anaconda3/envs/python3/lib/python3.6/site-packages/ipykernel/__main__.py:8: DataConversionWarning: A column-vector y was passed when a 1d array was expected. Please change the shape of y to (n_samples,), for example using ravel().\n"
     ]
    },
    {
     "name": "stdout",
     "output_type": "stream",
     "text": [
      "cross validation for year: 2010\n"
     ]
    },
    {
     "name": "stderr",
     "output_type": "stream",
     "text": [
      "/home/ec2-user/anaconda3/envs/python3/lib/python3.6/site-packages/ipykernel/__main__.py:8: DataConversionWarning: A column-vector y was passed when a 1d array was expected. Please change the shape of y to (n_samples,), for example using ravel().\n"
     ]
    },
    {
     "name": "stdout",
     "output_type": "stream",
     "text": [
      "cross validation for year: 2011\n"
     ]
    },
    {
     "name": "stderr",
     "output_type": "stream",
     "text": [
      "/home/ec2-user/anaconda3/envs/python3/lib/python3.6/site-packages/ipykernel/__main__.py:8: DataConversionWarning: A column-vector y was passed when a 1d array was expected. Please change the shape of y to (n_samples,), for example using ravel().\n"
     ]
    },
    {
     "name": "stdout",
     "output_type": "stream",
     "text": [
      "cross validation for year: 2012\n"
     ]
    },
    {
     "name": "stderr",
     "output_type": "stream",
     "text": [
      "/home/ec2-user/anaconda3/envs/python3/lib/python3.6/site-packages/ipykernel/__main__.py:8: DataConversionWarning: A column-vector y was passed when a 1d array was expected. Please change the shape of y to (n_samples,), for example using ravel().\n"
     ]
    },
    {
     "name": "stdout",
     "output_type": "stream",
     "text": [
      "cross validation for year: 2013\n"
     ]
    },
    {
     "name": "stderr",
     "output_type": "stream",
     "text": [
      "/home/ec2-user/anaconda3/envs/python3/lib/python3.6/site-packages/ipykernel/__main__.py:8: DataConversionWarning: A column-vector y was passed when a 1d array was expected. Please change the shape of y to (n_samples,), for example using ravel().\n"
     ]
    },
    {
     "name": "stdout",
     "output_type": "stream",
     "text": [
      "cross validation for year: 2014\n"
     ]
    },
    {
     "name": "stderr",
     "output_type": "stream",
     "text": [
      "/home/ec2-user/anaconda3/envs/python3/lib/python3.6/site-packages/ipykernel/__main__.py:8: DataConversionWarning: A column-vector y was passed when a 1d array was expected. Please change the shape of y to (n_samples,), for example using ravel().\n"
     ]
    },
    {
     "name": "stdout",
     "output_type": "stream",
     "text": [
      "cross validation for year: 2015\n"
     ]
    },
    {
     "name": "stderr",
     "output_type": "stream",
     "text": [
      "/home/ec2-user/anaconda3/envs/python3/lib/python3.6/site-packages/ipykernel/__main__.py:8: DataConversionWarning: A column-vector y was passed when a 1d array was expected. Please change the shape of y to (n_samples,), for example using ravel().\n"
     ]
    },
    {
     "name": "stdout",
     "output_type": "stream",
     "text": [
      "cross validation for year: 2016\n"
     ]
    },
    {
     "name": "stderr",
     "output_type": "stream",
     "text": [
      "/home/ec2-user/anaconda3/envs/python3/lib/python3.6/site-packages/ipykernel/__main__.py:8: DataConversionWarning: A column-vector y was passed when a 1d array was expected. Please change the shape of y to (n_samples,), for example using ravel().\n"
     ]
    },
    {
     "name": "stdout",
     "output_type": "stream",
     "text": [
      "cross validation for year: 2017\n"
     ]
    },
    {
     "name": "stderr",
     "output_type": "stream",
     "text": [
      "/home/ec2-user/anaconda3/envs/python3/lib/python3.6/site-packages/ipykernel/__main__.py:8: DataConversionWarning: A column-vector y was passed when a 1d array was expected. Please change the shape of y to (n_samples,), for example using ravel().\n"
     ]
    },
    {
     "name": "stdout",
     "output_type": "stream",
     "text": [
      "cross validation for year: 2018\n"
     ]
    },
    {
     "name": "stderr",
     "output_type": "stream",
     "text": [
      "/home/ec2-user/anaconda3/envs/python3/lib/python3.6/site-packages/ipykernel/__main__.py:8: DataConversionWarning: A column-vector y was passed when a 1d array was expected. Please change the shape of y to (n_samples,), for example using ravel().\n"
     ]
    },
    {
     "name": "stdout",
     "output_type": "stream",
     "text": [
      "cross validation for year: 2019\n"
     ]
    },
    {
     "name": "stderr",
     "output_type": "stream",
     "text": [
      "/home/ec2-user/anaconda3/envs/python3/lib/python3.6/site-packages/ipykernel/__main__.py:8: DataConversionWarning: A column-vector y was passed when a 1d array was expected. Please change the shape of y to (n_samples,), for example using ravel().\n"
     ]
    },
    {
     "name": "stdout",
     "output_type": "stream",
     "text": [
      "cross validation for year: 2020\n"
     ]
    },
    {
     "name": "stderr",
     "output_type": "stream",
     "text": [
      "/home/ec2-user/anaconda3/envs/python3/lib/python3.6/site-packages/ipykernel/__main__.py:8: DataConversionWarning: A column-vector y was passed when a 1d array was expected. Please change the shape of y to (n_samples,), for example using ravel().\n"
     ]
    }
   ],
   "source": [
    "train_df = pd.DataFrame()\n",
    "for year in range(start_year, end_year):\n",
    "    print ('cross validation for year: ' + str(year))\n",
    "    train = final_data[(final_data['release_year'] < year)\n",
    "                      &(final_data['release_year'] >= year - 3)]\n",
    "    test = final_data[final_data['release_year'] == year]\n",
    "    \n",
    "    output = predict_score(train, test)\n",
    "    train_df = pd.concat([train_df, output])"
   ]
  },
  {
   "cell_type": "code",
   "execution_count": 30,
   "id": "4b42ce79",
   "metadata": {},
   "outputs": [],
   "source": [
    "# train_df.to_csv('train_df.csv')\n",
    "train_df = pd.read_csv('train_df.csv')\n",
    "train_df.drop(['Unnamed: 0'], inplace = True, axis =1)"
   ]
  },
  {
   "cell_type": "code",
   "execution_count": 31,
   "id": "dd3b5942",
   "metadata": {},
   "outputs": [],
   "source": [
    "train_df= train_df[train_df['release_year'] < 2022]"
   ]
  },
  {
   "cell_type": "code",
   "execution_count": 32,
   "id": "8b261595",
   "metadata": {},
   "outputs": [],
   "source": [
    "mape_df = pd.DataFrame(train_df[train_df['standardized_score']>0].groupby(['release_year']).mape.mean()).reset_index()"
   ]
  },
  {
   "cell_type": "code",
   "execution_count": 33,
   "id": "170893eb",
   "metadata": {},
   "outputs": [
    {
     "name": "stderr",
     "output_type": "stream",
     "text": [
      "No handles with labels found to put in legend.\n"
     ]
    },
    {
     "data": {
      "image/png": "[encoded data removed]",
      "text/plain": [
       "<Figure size 640x480 with 1 Axes>"
      ]
     },
     "metadata": {
      "needs_background": "light"
     },
     "output_type": "display_data"
    }
   ],
   "source": [
    "figure(figsize=(8, 6), dpi=80)\n",
    "plt.plot(mape_df['release_year'], mape_df['mape'],\n",
    "                linewidth=2)\n",
    "# plt.fill_between(plot_df['days_after_launch'], plot_df['lower_bound'], plot_df['upper_bound'], color='b', alpha=.1)\n",
    "plt.title('% error rates by year')\n",
    "# plt.ylim(0, 18)\n",
    "# plt.xlabel('date')\n",
    "# plt.ylabel('total actives')\n",
    "plt.legend()\n",
    "plt.show()"
   ]
  },
  {
   "cell_type": "code",
   "execution_count": 34,
   "id": "a89203b4",
   "metadata": {},
   "outputs": [],
   "source": [
    "train_df['prediction_ranking'] = train_df.groupby(\"release_year\")[\"prediction\"].rank(\"dense\", ascending=False)\n",
    "train_df['actuals_ranking'] = train_df.groupby(\"release_year\")[\"standardized_score\"].rank(\"dense\", ascending=False)"
   ]
  },
  {
   "cell_type": "code",
   "execution_count": 35,
   "id": "9d4db86e",
   "metadata": {},
   "outputs": [],
   "source": [
    "def top_k_precision(df, k):\n",
    "    top_k_df = df[df['actuals_ranking'] < k][['actuals_ranking', 'prediction_ranking']]\n",
    "    top_k_df['hit'] = 0\n",
    "    top_k_df.loc[top_k_df['prediction_ranking'] < k, 'hit'] = 1\n",
    "    return (top_k_df['hit'].sum())"
   ]
  },
  {
   "cell_type": "code",
   "execution_count": 36,
   "id": "eabdfdc7",
   "metadata": {},
   "outputs": [],
   "source": [
    "top_hit_50 = pd.DataFrame(train_df.groupby(['release_year']).apply(lambda df: top_k_precision(df, 50)))\n",
    "top_hit_50 = top_hit_50.reset_index().rename(columns = {0:'hits'})"
   ]
  },
  {
   "cell_type": "code",
   "execution_count": 37,
   "id": "8b4a7542",
   "metadata": {},
   "outputs": [
    {
     "name": "stderr",
     "output_type": "stream",
     "text": [
      "No handles with labels found to put in legend.\n"
     ]
    },
    {
     "data": {
      "image/png": "[encoded data removed]",
      "text/plain": [
       "<Figure size 640x480 with 1 Axes>"
      ]
     },
     "metadata": {
      "needs_background": "light"
     },
     "output_type": "display_data"
    }
   ],
   "source": [
    "figure(figsize=(8, 6), dpi=80)\n",
    "plt.plot(top_hit_50['release_year'], top_hit_50['hits'],\n",
    "                linewidth=2)\n",
    "plt.title('hits in top 50')\n",
    "plt.legend()\n",
    "plt.show()"
   ]
  },
  {
   "cell_type": "markdown",
   "id": "bc7c3997",
   "metadata": {},
   "source": [
    "## Prediction"
   ]
  },
  {
   "cell_type": "code",
   "execution_count": 38,
   "id": "89d7c7e4",
   "metadata": {},
   "outputs": [],
   "source": [
    "prediction_year = 2022"
   ]
  },
  {
   "cell_type": "code",
   "execution_count": 39,
   "id": "ad0c227b",
   "metadata": {},
   "outputs": [],
   "source": [
    "test_data = imdb_votes[['contributor_name','title_name' ,'release_year','billingorder', 'standardized_score']]"
   ]
  },
  {
   "cell_type": "code",
   "execution_count": 40,
   "id": "e390c02a",
   "metadata": {},
   "outputs": [],
   "source": [
    "data = test_data.copy()\n",
    "data['release_year'] = data['release_year'].astype(int)\n",
    "data = data[data['release_year'] >= prediction_year - 3]\n",
    "data['billingorder'] = data['billingorder'].astype('str')\n",
    "data = data.groupby(['contributor_name', 'release_year']).sum().reset_index()"
   ]
  },
  {
   "cell_type": "code",
   "execution_count": 41,
   "id": "12967812",
   "metadata": {},
   "outputs": [],
   "source": [
    "data.columns = ['contributor_name', 'release_year_before', 'standardized_score_before_']"
   ]
  },
  {
   "cell_type": "code",
   "execution_count": 42,
   "id": "d76c0b52",
   "metadata": {},
   "outputs": [],
   "source": [
    "data['release_year'] = prediction_year"
   ]
  },
  {
   "cell_type": "code",
   "execution_count": 43,
   "id": "94a685a5",
   "metadata": {},
   "outputs": [],
   "source": [
    "data['years_before'] = data['release_year_before'] - data['release_year']\n",
    "data = data[data['years_before'] < 0]\n",
    "data['years_before'] = data['years_before'].astype(str)\n",
    "data = data.pivot(index=['contributor_name', 'release_year'], \n",
    "           columns='years_before', values=['standardized_score_before_']).reset_index()\n",
    "data.columns = [''.join(col).strip() for col in data.columns.values]"
   ]
  },
  {
   "cell_type": "code",
   "execution_count": 44,
   "id": "bb5034ae",
   "metadata": {},
   "outputs": [],
   "source": [
    "data_order = test_data[test_data['release_year'].astype(int) == prediction_year].copy()\n",
    "data_order = data_order.groupby(['contributor_name', 'release_year', 'billingorder']).count().reset_index()\n",
    "data_order = data_order.drop(['title_name'], axis = 1).rename(columns = {'standardized_score': 'count_billingorder_'})\n",
    "data_order['billingorder'] = data_order['billingorder'].astype(str)\n",
    "data_order = data_order[(data_order['billingorder'].astype(int)<=3)].pivot(index=['contributor_name', 'release_year'], \n",
    "           columns='billingorder', values=['count_billingorder_']).reset_index()\n",
    "data_order.columns = [''.join(col).strip() for col in data_order.columns.values]\n",
    "data_order['release_year'] = data_order['release_year'].astype(int)"
   ]
  },
  {
   "cell_type": "code",
   "execution_count": 45,
   "id": "6233cac4",
   "metadata": {},
   "outputs": [],
   "source": [
    "final_test_data = pd.merge(data, data_order, how = 'left', on = ['contributor_name', 'release_year'])\n",
    "final_test_data = final_test_data.fillna(0)"
   ]
  },
  {
   "cell_type": "code",
   "execution_count": 46,
   "id": "80b70e82",
   "metadata": {},
   "outputs": [],
   "source": [
    "final_train_data = final_data[final_data['release_year'] >= 2016]"
   ]
  },
  {
   "cell_type": "code",
   "execution_count": null,
   "id": "ae953332",
   "metadata": {},
   "outputs": [
    {
     "name": "stderr",
     "output_type": "stream",
     "text": [
      "/home/ec2-user/anaconda3/envs/python3/lib/python3.6/site-packages/ipykernel/__main__.py:2: DataConversionWarning: A column-vector y was passed when a 1d array was expected. Please change the shape of y to (n_samples,), for example using ravel().\n",
      "  from ipykernel import kernelapp as app\n"
     ]
    }
   ],
   "source": [
    "model_rf = RandomForestRegressor(n_estimators = 1000, random_state = 42)\n",
    "model_rf.fit(final_train_data[feature_cols], final_train_data[target_col])\n",
    "prediction_rf = model_rf.predict(final_test_data[feature_cols])"
   ]
  },
  {
   "cell_type": "code",
   "execution_count": null,
   "id": "fc4768ff",
   "metadata": {},
   "outputs": [],
   "source": [
    "final_test_data['prediction'] = prediction_rf"
   ]
  },
  {
   "cell_type": "code",
   "execution_count": null,
   "id": "27ee7033",
   "metadata": {},
   "outputs": [],
   "source": [
    "final_test_data.sort_values(by = ['prediction'], ascending = False).head(20)"
   ]
  },
  {
   "cell_type": "markdown",
   "id": "ea225c90",
   "metadata": {},
   "source": [
    "# Caveats"
   ]
  },
  {
   "cell_type": "markdown",
   "id": "e8135ef1",
   "metadata": {},
   "source": [
    "#### 1. Can only use by year (becuase of yearly standarization)\n",
    "#### 1. Can only use by year (becuase of yearly standarization)"
   ]
  },
  {
   "cell_type": "code",
   "execution_count": null,
   "id": "987b2f72",
   "metadata": {},
   "outputs": [],
   "source": []
  },
  {
   "cell_type": "code",
   "execution_count": null,
   "id": "18e9c71d",
   "metadata": {},
   "outputs": [],
   "source": []
  }
 ],
 "metadata": {
  "kernelspec": {
   "display_name": "conda_python3",
   "language": "python",
   "name": "conda_python3"
  },
  "language_info": {
   "codemirror_mode": {
    "name": "ipython",
    "version": 3
   },
   "file_extension": ".py",
   "mimetype": "text/x-python",
   "name": "python",
   "nbconvert_exporter": "python",
   "pygments_lexer": "ipython3",
   "version": "3.6.13"
  }
 },
 "nbformat": 4,
 "nbformat_minor": 5
}
