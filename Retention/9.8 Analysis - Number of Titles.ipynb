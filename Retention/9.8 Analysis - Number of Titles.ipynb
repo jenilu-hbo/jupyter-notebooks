{
 "cells": [
  {
   "cell_type": "code",
   "execution_count": 2,
   "id": "c54af3ee",
   "metadata": {},
   "outputs": [],
   "source": [
    "import boto3\n",
    "import datetime as dt\n",
    "import json\n",
    "import numpy as np\n",
    "import pandas as pd\n",
    "import snowflake.connector\n",
    "pd.set_option('display.max_rows', 1000)\n",
    "pd.set_option('display.max_columns', 1000)"
   ]
  },
  {
   "cell_type": "code",
   "execution_count": 3,
   "id": "aeefbce3",
   "metadata": {},
   "outputs": [],
   "source": [
    "pd.options.display.float_format = '{:,.4f}'.format"
   ]
  },
  {
   "cell_type": "code",
   "execution_count": 4,
   "id": "3ae6b31a",
   "metadata": {},
   "outputs": [
    {
     "name": "stderr",
     "output_type": "stream",
     "text": [
      "/home/ec2-user/anaconda3/envs/python3/lib/python3.6/site-packages/boto3/compat.py:88: PythonDeprecationWarning: Boto3 will no longer support Python 3.6 starting May 30, 2022. To continue receiving service updates, bug fixes, and security updates please upgrade to Python 3.7 or later. More information can be found here: https://aws.amazon.com/blogs/developer/python-support-policy-updates-for-aws-sdks-and-tools/\n",
      "  warnings.warn(warning, PythonDeprecationWarning)\n"
     ]
    }
   ],
   "source": [
    "from abc import ABCMeta, abstractmethod\n",
    "\n",
    "class Credentials(metaclass=ABCMeta):\n",
    "    pass\n",
    "    \n",
    "    \n",
    "class SSMPSCredentials(Credentials):\n",
    "    def __init__(self, secretid: str):\n",
    "        self._secretid = secretid\n",
    "        self._secrets = {}\n",
    "        \n",
    "    def get_keys(self):\n",
    "        \"\"\"\n",
    "        credential fetching \n",
    "        \"\"\"\n",
    "        _aws_sm_args = {'service_name': 'secretsmanager', 'region_name': 'us-east-1'}\n",
    "        secrets_client = boto3.client(**_aws_sm_args)\n",
    "        get_secret_value_response = secrets_client.get_secret_value(SecretId=self._secretid)\n",
    "        return get_secret_value_response\n",
    "    \n",
    "    \n",
    "class BaseConnector(metaclass=ABCMeta):\n",
    "    @abstractmethod\n",
    "    def connect(self):\n",
    "        raise NotImplementedError\n",
    "    \n",
    "\n",
    "class SnowflakeConnector(BaseConnector):\n",
    "    def __init__(self, credentials: Credentials):\n",
    "        keys = credentials.get_keys()\n",
    "        self._secrets = json.loads(keys.get('SecretString', \"{}\"))\n",
    "\n",
    "    def connect(self, dbname: str, schema: str = 'DEFAULT'):\n",
    "        ctx = snowflake.connector.connect(\n",
    "            user=self._secrets['login_name'],\n",
    "            password=self._secrets['login_password'],\n",
    "            account=self._secrets['account'],\n",
    "            warehouse=self._secrets['warehouse'],\n",
    "            database=dbname,\n",
    "            schema=schema\n",
    "        )\n",
    "\n",
    "        return ctx\n",
    "    \n",
    "## Credentials\n",
    "SF_CREDS = 'datascience-max-dev-sagemaker-notebooks'\n",
    "\n",
    "## Snowflake connection \n",
    "conn=SnowflakeConnector(SSMPSCredentials(SF_CREDS))\n",
    "ctx=conn.connect(\"MAX_DEV\",\"WORKSPACE\")\n",
    "\n",
    "def run_query(query):\n",
    "    cursor = ctx.cursor()\n",
    "    cursor.execute(query)\n",
    "    df = pd.DataFrame(cursor.fetchall(), columns = [desc[0] for desc in cursor.description])\n",
    "    df.columns= df.columns.str.lower()\n",
    "    return df"
   ]
  },
  {
   "cell_type": "code",
   "execution_count": 5,
   "id": "b90d433d",
   "metadata": {},
   "outputs": [],
   "source": [
    "import plotly.express as px\n",
    "import plotly.graph_objects as go\n",
    "from plotly.subplots import make_subplots"
   ]
  },
  {
   "cell_type": "markdown",
   "id": "0fd85f17",
   "metadata": {},
   "source": [
    "# Retail Hours"
   ]
  },
  {
   "cell_type": "code",
   "execution_count": 6,
   "id": "57dab2d8",
   "metadata": {},
   "outputs": [],
   "source": [
    "# churn_genpop = run_query('''\n",
    "# with pvc as (\n",
    "# select\n",
    "#     wholesale_user_activation.user_id,\n",
    "#     hbo_uuid,\n",
    "#     affiliate_code\n",
    "# from max_prod.bi_analytics.wholesale_user_activation\n",
    "#     left join max_prod.bi_analytics.dimension_user\n",
    "#         on wholesale_user_activation.user_id = dimension_user.user_id\n",
    "#     left join max_prod.core.geo_map\n",
    "#         on wholesale_user_activation.country_code = geo_map.country_iso_code\n",
    "# where\n",
    "#     wholesale_user_activation.country_code = 'US'\n",
    "#     and geo_map.territory = 'HBO MAX DOMESTIC'\n",
    "#     and geo_map.region = 'NORTH AMERICA'\n",
    "#     and affiliate_code = 'amazon_hbonow'\n",
    "#     and convert_timezone('UTC', 'America/Los_Angeles', wholesale_user_activation.first_auth_time_utc::timestamp) >= '2020-11-17'\n",
    "# )\n",
    "\n",
    "# , subs as \n",
    "# (\n",
    "# select \n",
    "#       c.hbo_uuid\n",
    "#     , c.hurley_user_id\n",
    "#     , up.hurley_profile_id\n",
    "#     , is_cancel\n",
    "#     , sub_month\n",
    "#     , min(cycle_start_date) AS cycle_start_date\n",
    "#     , min(cycle_expire_date) AS cycle_expire_date\n",
    "# from max_dev.workspace.user_retain_churn_list_test as c \n",
    "# left join max_prod.identity.user_profile_dim_current up \n",
    "#     on up.hurley_user_id = c.hurley_user_id\n",
    "# where cycle_expire_date between '2022-10-01' and '2022-10-31'\n",
    "#         and up.is_primary_profile=1\n",
    "# GROUP BY 1, 2, 3, 4, 5\n",
    "# limit 3000000\n",
    "# )\n",
    "\n",
    "# , streaming_subset as\n",
    "# (\n",
    "# select\n",
    "#       ss.hbo_uuid\n",
    "#     , ss.hurley_user_id\n",
    "#     , ss.hurley_profile_id\n",
    "#     , ss.is_cancel\n",
    "#     , ss.sub_month\n",
    "#     , ss.cycle_start_date\n",
    "#     , ss.cycle_expire_date\n",
    "#     , hb.viewable_id\n",
    "#     , hb.stream_elapsed_play_seconds/3600 as hours_viewed\n",
    "# from subs ss\n",
    "# left join max_prod.viewership.max_user_stream_heartbeat hb\n",
    "#     on hb.hurley_profile_id = ss.hurley_profile_id\n",
    "# where 1=1\n",
    "#     and hb.request_date between '2022-08-01' and '2022-10-31'\n",
    "#     and hb.request_date >= ss.cycle_start_date\n",
    "#     and hb.request_date <= ss.cycle_expire_date\n",
    "#     and hb.viewable_id IS NOT NULL \n",
    "#     and hb.stream_elapsed_play_seconds >= 900\n",
    "#     and hb.video_type = 'main'\n",
    "#     and hb.channel = 'HBO MAX SUBSCRIPTION'\n",
    "#     and hb.country_iso_code in ('US')\n",
    "#     and hb.is_primary_profile=1\n",
    "# )\n",
    "\n",
    "# select\n",
    "#       s.hbo_uuid\n",
    "#     , s.is_cancel\n",
    "#     , s.sub_month\n",
    "#     , rad.title_id\n",
    "#     , sum(s.hours_viewed) as hours_viewed\n",
    "# from streaming_subset s\n",
    "# left join max_prod.catalog.reporting_asset_dim rad\n",
    "#      on s.viewable_id = rad.viewable_id\n",
    "# left join pvc \n",
    "#     on pvc.hbo_uuid = s.hbo_uuid\n",
    "# left join  max_prod.bi_analytics.fact_common_receipt a\n",
    "#     on s.hurley_user_id=a.hurley_user_id\n",
    "#     and a.subscription_start_date = s.cycle_start_date\n",
    "# where rad.asset_type!='PROMOTION'\n",
    "# and affiliate_code is NULL\n",
    "# and (a.signup_offer is NULL or a.signup_offer='no_free_trial')\n",
    "# group by 1,2,3,4\n",
    "# ''')"
   ]
  },
  {
   "cell_type": "code",
   "execution_count": null,
   "id": "ae531d7d",
   "metadata": {},
   "outputs": [],
   "source": [
    "churn_genpop = "
   ]
  },
  {
   "cell_type": "code",
   "execution_count": 6,
   "id": "2d96588a",
   "metadata": {},
   "outputs": [
    {
     "data": {
      "text/html": [
       "<div>\n",
       "<style scoped>\n",
       "    .dataframe tbody tr th:only-of-type {\n",
       "        vertical-align: middle;\n",
       "    }\n",
       "\n",
       "    .dataframe tbody tr th {\n",
       "        vertical-align: top;\n",
       "    }\n",
       "\n",
       "    .dataframe thead th {\n",
       "        text-align: right;\n",
       "    }\n",
       "</style>\n",
       "<table border=\"1\" class=\"dataframe\">\n",
       "  <thead>\n",
       "    <tr style=\"text-align: right;\">\n",
       "      <th></th>\n",
       "      <th>hbo_uuid</th>\n",
       "      <th>is_cancel</th>\n",
       "      <th>sub_month</th>\n",
       "      <th>title_id</th>\n",
       "      <th>hours_viewed</th>\n",
       "    </tr>\n",
       "  </thead>\n",
       "  <tbody>\n",
       "    <tr>\n",
       "      <th>0</th>\n",
       "      <td>a4a8e153a6fa655baedde4671b135a9632710b068d6eda...</td>\n",
       "      <td>False</td>\n",
       "      <td>28</td>\n",
       "      <td>GXuOrbQniO6UJwwEAAAOx</td>\n",
       "      <td>1.682777778</td>\n",
       "    </tr>\n",
       "    <tr>\n",
       "      <th>1</th>\n",
       "      <td>4a9c51d3e0c2fcda54d2653d914ad0f7c02d8299bd1b32...</td>\n",
       "      <td>False</td>\n",
       "      <td>9</td>\n",
       "      <td>GXkRjxwjR68PDwwEAABKJ</td>\n",
       "      <td>1.450833333</td>\n",
       "    </tr>\n",
       "    <tr>\n",
       "      <th>2</th>\n",
       "      <td>a4a8e153a6fa655baedde4671b135a9632710b068d6eda...</td>\n",
       "      <td>False</td>\n",
       "      <td>28</td>\n",
       "      <td>GYGLWjQCNPQS0wgEAAAD0</td>\n",
       "      <td>4.227500000</td>\n",
       "    </tr>\n",
       "    <tr>\n",
       "      <th>3</th>\n",
       "      <td>105da4c3639990b65591c2dbee46e8acdcd495145bb8d4...</td>\n",
       "      <td>False</td>\n",
       "      <td>9</td>\n",
       "      <td>GYdeRFQy2mcNNwwEAAAAT</td>\n",
       "      <td>1.840833334</td>\n",
       "    </tr>\n",
       "    <tr>\n",
       "      <th>4</th>\n",
       "      <td>4777299cc64dd4069ac9ca7d3ae40c37446ee3ec89c5ba...</td>\n",
       "      <td>False</td>\n",
       "      <td>6</td>\n",
       "      <td>GX8VcRQca5sLDbAEAAAD-</td>\n",
       "      <td>1.005000000</td>\n",
       "    </tr>\n",
       "  </tbody>\n",
       "</table>\n",
       "</div>"
      ],
      "text/plain": [
       "                                            hbo_uuid  is_cancel  sub_month  \\\n",
       "0  a4a8e153a6fa655baedde4671b135a9632710b068d6eda...      False         28   \n",
       "1  4a9c51d3e0c2fcda54d2653d914ad0f7c02d8299bd1b32...      False          9   \n",
       "2  a4a8e153a6fa655baedde4671b135a9632710b068d6eda...      False         28   \n",
       "3  105da4c3639990b65591c2dbee46e8acdcd495145bb8d4...      False          9   \n",
       "4  4777299cc64dd4069ac9ca7d3ae40c37446ee3ec89c5ba...      False          6   \n",
       "\n",
       "                title_id hours_viewed  \n",
       "0  GXuOrbQniO6UJwwEAAAOx  1.682777778  \n",
       "1  GXkRjxwjR68PDwwEAABKJ  1.450833333  \n",
       "2  GYGLWjQCNPQS0wgEAAAD0  4.227500000  \n",
       "3  GYdeRFQy2mcNNwwEAAAAT  1.840833334  \n",
       "4  GX8VcRQca5sLDbAEAAAD-  1.005000000  "
      ]
     },
     "execution_count": 6,
     "metadata": {},
     "output_type": "execute_result"
    }
   ],
   "source": [
    "churn_genpop.head()"
   ]
  },
  {
   "cell_type": "code",
   "execution_count": 7,
   "id": "c94abcce",
   "metadata": {},
   "outputs": [
    {
     "name": "stderr",
     "output_type": "stream",
     "text": [
      "/home/ec2-user/anaconda3/envs/python3/lib/python3.6/site-packages/boto3/compat.py:88: PythonDeprecationWarning:\n",
      "\n",
      "Boto3 will no longer support Python 3.6 starting May 30, 2022. To continue receiving service updates, bug fixes, and security updates please upgrade to Python 3.7 or later. More information can be found here: https://aws.amazon.com/blogs/developer/python-support-policy-updates-for-aws-sdks-and-tools/\n",
      "\n"
     ]
    }
   ],
   "source": [
    "import boto3\n",
    "import io\n",
    "\n",
    "def to_s3(filename, output_bucket, content):\n",
    "    client = boto3.client('s3')\n",
    "    client.put_object(Bucket=output_bucket, Key=filename, Body=content)\n",
    "    \n",
    "output_bucket = 'hbo-outbound-datascience-content-dev'\n",
    "s3 = boto3.resource('s3')\n",
    "bucket = s3.Bucket(output_bucket)\n",
    "\n",
    "def write_to_sf(df, file_name):\n",
    "    csv_buffer = io.StringIO()\n",
    "    df.to_csv(csv_buffer, index = False)\n",
    "    content = csv_buffer.getvalue()\n",
    "    filename = 'title_hours_viewed_retention/{}.csv'.format(file_name)\n",
    "    to_s3(filename, output_bucket, content)"
   ]
  },
  {
   "cell_type": "code",
   "execution_count": 8,
   "id": "b176da54",
   "metadata": {},
   "outputs": [],
   "source": [
    "filename = 'churn_user_stream_title_hours_'+pd.Timestamp.today().strftime('%Y-%m-%d')\n",
    "write_to_sf(churn_genpop,  filename)"
   ]
  },
  {
   "cell_type": "code",
   "execution_count": 9,
   "id": "c64e522d",
   "metadata": {},
   "outputs": [
    {
     "data": {
      "text/plain": [
       "'hbo-outbound-datascience-content-dev/title_hours_viewed_retention/churn_user_stream_title_hours_2023-10-19.csv'"
      ]
     },
     "execution_count": 9,
     "metadata": {},
     "output_type": "execute_result"
    }
   ],
   "source": [
    "output_bucket+'/title_hours_viewed_retention/{}.csv'.format(filename)"
   ]
  },
  {
   "cell_type": "code",
   "execution_count": null,
   "id": "34481818",
   "metadata": {},
   "outputs": [],
   "source": []
  }
 ],
 "metadata": {
  "kernelspec": {
   "display_name": "conda_python3",
   "language": "python",
   "name": "conda_python3"
  },
  "language_info": {
   "codemirror_mode": {
    "name": "ipython",
    "version": 3
   },
   "file_extension": ".py",
   "mimetype": "text/x-python",
   "name": "python",
   "nbconvert_exporter": "python",
   "pygments_lexer": "ipython3",
   "version": "3.6.13"
  }
 },
 "nbformat": 4,
 "nbformat_minor": 5
}
