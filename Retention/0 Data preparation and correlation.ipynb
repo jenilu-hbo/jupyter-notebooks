{
 "cells": [
  {
   "cell_type": "code",
   "execution_count": 1,
   "id": "cc0c20b1",
   "metadata": {},
   "outputs": [],
   "source": [
    "import boto3\n",
    "import datetime as dt\n",
    "import json\n",
    "import numpy as np\n",
    "import pandas as pd\n",
    "import snowflake.connector\n",
    "pd.set_option('display.max_rows', 1000)\n",
    "pd.set_option('display.max_columns', 1000)\n",
    "pd.options.display.float_format = '{:,.2f}'.format"
   ]
  },
  {
   "cell_type": "code",
   "execution_count": 2,
   "id": "78007d2e",
   "metadata": {},
   "outputs": [
    {
     "name": "stderr",
     "output_type": "stream",
     "text": [
      "/home/ec2-user/anaconda3/envs/python3/lib/python3.6/site-packages/boto3/compat.py:88: PythonDeprecationWarning: Boto3 will no longer support Python 3.6 starting May 30, 2022. To continue receiving service updates, bug fixes, and security updates please upgrade to Python 3.7 or later. More information can be found here: https://aws.amazon.com/blogs/developer/python-support-policy-updates-for-aws-sdks-and-tools/\n",
      "  warnings.warn(warning, PythonDeprecationWarning)\n"
     ]
    }
   ],
   "source": [
    "from abc import ABCMeta, abstractmethod\n",
    "\n",
    "class Credentials(metaclass=ABCMeta):\n",
    "    pass\n",
    "    \n",
    "    \n",
    "class SSMPSCredentials(Credentials):\n",
    "    def __init__(self, secretid: str):\n",
    "        self._secretid = secretid\n",
    "        self._secrets = {}\n",
    "        \n",
    "    def get_keys(self):\n",
    "        \"\"\"\n",
    "        credential fetching \n",
    "        \"\"\"\n",
    "        _aws_sm_args = {'service_name': 'secretsmanager', 'region_name': 'us-east-1'}\n",
    "        secrets_client = boto3.client(**_aws_sm_args)\n",
    "        get_secret_value_response = secrets_client.get_secret_value(SecretId=self._secretid)\n",
    "        return get_secret_value_response\n",
    "    \n",
    "    \n",
    "class BaseConnector(metaclass=ABCMeta):\n",
    "    @abstractmethod\n",
    "    def connect(self):\n",
    "        raise NotImplementedError\n",
    "    \n",
    "\n",
    "class SnowflakeConnector(BaseConnector):\n",
    "    def __init__(self, credentials: Credentials):\n",
    "        keys = credentials.get_keys()\n",
    "        self._secrets = json.loads(keys.get('SecretString', \"{}\"))\n",
    "\n",
    "    def connect(self, dbname: str, schema: str = 'DEFAULT'):\n",
    "        ctx = snowflake.connector.connect(\n",
    "            user=self._secrets['login_name'],\n",
    "            password=self._secrets['login_password'],\n",
    "            account=self._secrets['account'],\n",
    "            warehouse=self._secrets['warehouse'],\n",
    "            database=dbname,\n",
    "            schema=schema\n",
    "        )\n",
    "\n",
    "        return ctx\n",
    "    \n",
    "## Credentials\n",
    "SF_CREDS = 'datascience-max-dev-sagemaker-notebooks'\n",
    "\n",
    "## Snowflake connection \n",
    "conn=SnowflakeConnector(SSMPSCredentials(SF_CREDS))\n",
    "ctx=conn.connect(\"MAX_DEV\",\"WORKSPACE\")\n",
    "\n",
    "def run_query(query):\n",
    "    cursor = ctx.cursor()\n",
    "    cursor.execute(query)\n",
    "    df = pd.DataFrame(cursor.fetchall(), columns = [desc[0] for desc in cursor.description])\n",
    "    df.columns= df.columns.str.lower()\n",
    "    return df"
   ]
  },
  {
   "cell_type": "code",
   "execution_count": 3,
   "id": "3047444a",
   "metadata": {},
   "outputs": [],
   "source": [
    "# Medal Genre slice\n",
    "# Content Core Seg"
   ]
  },
  {
   "cell_type": "code",
   "execution_count": 4,
   "id": "a6299029",
   "metadata": {},
   "outputs": [],
   "source": [
    "# run_query('''\n",
    "# create or replace table max_dev.workspace.user_title_hours_watched_test2\n",
    "# (\n",
    "# request_date\tVARCHAR, \n",
    "# viewable_id VARCHAR,\n",
    "# hours_viewed\tfloat\n",
    "# );\n",
    "# ''')"
   ]
  },
  {
   "cell_type": "code",
   "execution_count": 5,
   "id": "8808c6bb",
   "metadata": {},
   "outputs": [],
   "source": [
    "# run_query('''\n",
    "# create or replace table max_dev.workspace.user_title_hours_watched_subs \n",
    "# (\n",
    "# start_date VARCHAR,\n",
    "# end_date VARCHAR,\n",
    "# DAYS_ON_HBO_MAX int,\n",
    "# subs \tbigint\n",
    "# );\n",
    "# ''')"
   ]
  },
  {
   "cell_type": "code",
   "execution_count": 6,
   "id": "9e38fea3",
   "metadata": {},
   "outputs": [],
   "source": [
    "title_info = run_query('''\n",
    "with offerings as (select DISTINCT\n",
    "            case when season_number is not null then concat(title_name, ' S', season_number, ('E'), EPISODE_NUMBER_IN_SEASON)\n",
    "            else title_name end as title_episode_name\n",
    "    , title_name\n",
    "    , rad.VIEWABLE_ID\n",
    "    , concat(coalesce(rad.series_id, rad.viewable_id)) as title_id\n",
    "    , rad.SERIES_ID\n",
    "    , rad.SEASON_NUMBER\n",
    "    , EPISODE_NUMBER_IN_SEASON\n",
    "    , content_category\n",
    "    , PRIMARY_GENRE_DESC\n",
    "    , program_type\n",
    "    , aod.air_date\n",
    "    , ASSET_RUN_TIME\n",
    "    , offering_start_date\n",
    "    , offering_end_date\n",
    "     FROM \"MAX_PROD\".\"CATALOG\".\"ASSET_OFFERING_DIM\" aod\n",
    "LEFT JOIN \"MAX_PROD\".\"CATALOG\".\"REPORTING_ASSET_DIM\" rad ON aod.VIEWABLE_ID = rad.VIEWABLE_ID\n",
    "where territory='HBO MAX DOMESTIC'\n",
    "    and channel = 'HBO MAX SUBSCRIPTION'\n",
    "    and OFFERING_TYPE = 'FEATURE')\n",
    "\n",
    ", airtable as (\n",
    "    select DISTINCT title_id \n",
    "    , MIN(PILLAR_GENRE) as PILLAR_GENRE -- multiple PILLAR GENRE assignments for a single VIEWABLE_ID, taking at random.\n",
    "    from max_prod.catalog.airtable_content_strategy group by title_id)\n",
    "\n",
    ", pay1 as (\n",
    "    SELECT DISTINCT viewable_id, is_pay_1\n",
    "    FROM max_prod.staging.tentpole_titles_stg stg\n",
    "    WHERE stg.territory = 'HBO MAX DOMESTIC'\n",
    "    and stg.theatrical_release_date is not null\n",
    "    and stg.is_pay_1 =1\n",
    ")\n",
    "\n",
    ", budget as (\n",
    "    SELECT DISTINCT map.viewable_id, bdg.AMOUNT as budget\n",
    "    FROM \"MAX_PROD\".\"CKG\".IMDB_BOXOFFICE_TITLE_BUDGET bdg\n",
    "    JOIN max_prod.ckg.ed_wm_wb_imdb_mapping map --vid to imdb_id\n",
    "    ON map.imdb_id=bdg.title_id\n",
    ")\n",
    "\n",
    ",offerings_by_date as (\n",
    "select\n",
    "     TITLE_NAME, title_episode_name\n",
    "    , offerings.VIEWABLE_ID\n",
    "    , offerings.title_id, offerings.SEASON_NUMBER\n",
    "    , CONTENT_CATEGORY, program_type, air_date\n",
    "    , am.home_territory_observed_medal as medal\n",
    "    , CAST(FLOOR(COALESCE( (ASSET_RUN_TIME)/60/60 ,0)*(1000000*1.0)) AS DECIMAL(38,0))\n",
    "          / CAST((1000000*1.0) AS DOUBLE PRECISION) as ASSET_RUN_TIME_HOURS -- to prevent floating point errors\n",
    "    , case when to_date(offerings.offering_start_date) < '2020-05-27' THEN to_date('2020-05-27')\n",
    "           ELSE to_date(offerings.offering_start_date)\n",
    "           end as offering_start_date\n",
    "    , to_date(offerings.offering_end_date) as offering_end_date\n",
    "    , PRIMARY_GENRE_DESC\n",
    "    , aos.PILLAR_GENRE as PILLAR_GENRE\n",
    "    , EPISODE_NUMBER_IN_SEASON\n",
    "    , CASE WHEN pay1.is_pay_1 IS NOT NULL THEN 1 ELSE 0 END AS is_pay_1\n",
    "    , CASE WHEN pop.THEATRICAL_RELEASE_DATE IS NOT NULL THEN 1 ELSE 0 END AS is_popcorn\n",
    "    , MAX(budget) AS budget \n",
    "FROM offerings\n",
    "LEFT JOIN airtable aos ON (offerings.title_id = aos.title_id)\n",
    "LEFT JOIN max_prod.content_analytics.asset_medals am \n",
    "        on offerings.title_id = am.title_id\n",
    "        and coalesce(offerings.season_number,0) = coalesce(am.season,0)\n",
    "LEFT JOIN pay1\n",
    "        on pay1.viewable_id = offerings.viewable_id\n",
    "LEFT JOIN max_prod.catalog.popcorn_titles pop \n",
    "        on pop.viewable_id = offerings.viewable_id\n",
    "LEFT JOIN budget\n",
    "        on budget.viewable_id = offerings.viewable_id\n",
    "WHERE 1=1\n",
    "-- offerings.OFFERING_START_DATE > '2020-05-01'\n",
    "-- and CURRENT_DATE() between (OFFERING_START_DATE) and (OFFERING_END_DATE)\n",
    "GROUP BY 1,2,3,4,5,6,7,8,9,10,11,12,13,14,15,16,17\n",
    ")\n",
    "\n",
    "SELECT * FROM offerings_by_date\n",
    "''')"
   ]
  },
  {
   "cell_type": "code",
   "execution_count": 7,
   "id": "e4bbce56",
   "metadata": {},
   "outputs": [],
   "source": [
    "### DE-DUPTE THE TITLES\n",
    "\n",
    "title_test_dedup = title_info.groupby(['viewable_id'])['offering_start_date'].min().reset_index()\n",
    "title_info = title_info.merge(title_test_dedup, on = ['viewable_id', 'offering_start_date'])\n",
    "\n",
    "title_test_dedup = title_info.groupby(['viewable_id'])['offering_end_date'].max().reset_index()\n",
    "title_info = title_info.merge(title_test_dedup, on = ['viewable_id', 'offering_end_date'])\n",
    "\n",
    "title_info['medal'] = title_info['medal'].fillna('None')\n",
    "title_test_dedup = title_info.groupby(['viewable_id'])['medal'].max().reset_index()\n",
    "title_info = title_info.merge(title_test_dedup, on = ['viewable_id', 'medal'])\n",
    "\n",
    "\n",
    "title_info = title_info.drop_duplicates()\n",
    "title_info['season_number'] = title_info['season_number'].fillna(0)"
   ]
  },
  {
   "cell_type": "code",
   "execution_count": 8,
   "id": "2dcf7f8a",
   "metadata": {},
   "outputs": [
    {
     "data": {
      "text/plain": [
       "title_name                  42562\n",
       "title_episode_name          42562\n",
       "viewable_id                 42562\n",
       "title_id                    42562\n",
       "season_number               42562\n",
       "content_category            42195\n",
       "program_type                42210\n",
       "air_date                    42295\n",
       "medal                       42562\n",
       "asset_run_time_hours        42562\n",
       "offering_start_date         42562\n",
       "offering_end_date           42562\n",
       "primary_genre_desc          41289\n",
       "pillar_genre                37028\n",
       "episode_number_in_season    35517\n",
       "is_pay_1                    42562\n",
       "is_popcorn                  42562\n",
       "budget                       3646\n",
       "dtype: int64"
      ]
     },
     "execution_count": 8,
     "metadata": {},
     "output_type": "execute_result"
    }
   ],
   "source": [
    "title_info.count()"
   ]
  },
  {
   "cell_type": "code",
   "execution_count": 9,
   "id": "62380177",
   "metadata": {},
   "outputs": [
    {
     "data": {
      "text/html": [
       "<div>\n",
       "<style scoped>\n",
       "    .dataframe tbody tr th:only-of-type {\n",
       "        vertical-align: middle;\n",
       "    }\n",
       "\n",
       "    .dataframe tbody tr th {\n",
       "        vertical-align: top;\n",
       "    }\n",
       "\n",
       "    .dataframe thead th {\n",
       "        text-align: right;\n",
       "    }\n",
       "</style>\n",
       "<table border=\"1\" class=\"dataframe\">\n",
       "  <thead>\n",
       "    <tr style=\"text-align: right;\">\n",
       "      <th></th>\n",
       "      <th>title_name</th>\n",
       "      <th>title_episode_name</th>\n",
       "      <th>title_id</th>\n",
       "      <th>season_number</th>\n",
       "      <th>content_category</th>\n",
       "      <th>program_type</th>\n",
       "      <th>air_date</th>\n",
       "      <th>medal</th>\n",
       "      <th>asset_run_time_hours</th>\n",
       "      <th>offering_start_date</th>\n",
       "      <th>offering_end_date</th>\n",
       "      <th>primary_genre_desc</th>\n",
       "      <th>pillar_genre</th>\n",
       "      <th>episode_number_in_season</th>\n",
       "      <th>is_pay_1</th>\n",
       "      <th>is_popcorn</th>\n",
       "      <th>budget</th>\n",
       "    </tr>\n",
       "    <tr>\n",
       "      <th>viewable_id</th>\n",
       "      <th></th>\n",
       "      <th></th>\n",
       "      <th></th>\n",
       "      <th></th>\n",
       "      <th></th>\n",
       "      <th></th>\n",
       "      <th></th>\n",
       "      <th></th>\n",
       "      <th></th>\n",
       "      <th></th>\n",
       "      <th></th>\n",
       "      <th></th>\n",
       "      <th></th>\n",
       "      <th></th>\n",
       "      <th></th>\n",
       "      <th></th>\n",
       "      <th></th>\n",
       "    </tr>\n",
       "  </thead>\n",
       "  <tbody>\n",
       "  </tbody>\n",
       "</table>\n",
       "</div>"
      ],
      "text/plain": [
       "Empty DataFrame\n",
       "Columns: [title_name, title_episode_name, title_id, season_number, content_category, program_type, air_date, medal, asset_run_time_hours, offering_start_date, offering_end_date, primary_genre_desc, pillar_genre, episode_number_in_season, is_pay_1, is_popcorn, budget]\n",
       "Index: []"
      ]
     },
     "execution_count": 9,
     "metadata": {},
     "output_type": "execute_result"
    }
   ],
   "source": [
    "### SANITY CHECK\n",
    "title_test = title_info.groupby(['viewable_id']).count()\n",
    "title_test[title_test['title_name'] == 2]"
   ]
  },
  {
   "cell_type": "code",
   "execution_count": 10,
   "id": "c20e03a8",
   "metadata": {},
   "outputs": [],
   "source": [
    "title_series_info = title_info.groupby(['title_id', 'season_number'])['offering_start_date'].min().reset_index()\n",
    "\n",
    "title_series_test = title_info.groupby(['title_id', 'season_number'])['asset_run_time_hours'].sum().reset_index()\n",
    "title_series_info = title_series_info.merge(title_series_test, on = ['title_id', 'season_number'])\n",
    "\n",
    "title_series_test = title_info.groupby(['title_id', 'season_number'])[['content_category', 'program_type', 'air_date', 'medal', 'episode_number_in_season',\n",
    "                                                                       'pillar_genre', 'is_pay_1', 'is_popcorn', 'budget']].max().reset_index()\n",
    "title_series_info = title_series_info.merge(title_series_test, on = ['title_id', 'season_number'])"
   ]
  },
  {
   "cell_type": "code",
   "execution_count": 11,
   "id": "ee717f27",
   "metadata": {},
   "outputs": [],
   "source": [
    "# title_info = title_info[['title_name', 'viewable_id', 'title_id', 'season_number']].merge(\n",
    "#                         title_series_info,  on = ['title_id', 'season_number'])"
   ]
  },
  {
   "cell_type": "code",
   "execution_count": 12,
   "id": "b66a19ee",
   "metadata": {},
   "outputs": [
    {
     "name": "stderr",
     "output_type": "stream",
     "text": [
      "/home/ec2-user/anaconda3/envs/python3/lib/python3.6/site-packages/boto3/compat.py:88: PythonDeprecationWarning: Boto3 will no longer support Python 3.6 starting May 30, 2022. To continue receiving service updates, bug fixes, and security updates please upgrade to Python 3.7 or later. More information can be found here: https://aws.amazon.com/blogs/developer/python-support-policy-updates-for-aws-sdks-and-tools/\n",
      "  warnings.warn(warning, PythonDeprecationWarning)\n"
     ]
    }
   ],
   "source": [
    "import boto3\n",
    "import io\n",
    "\n",
    "def to_s3(filename, output_bucket, content):\n",
    "    client = boto3.client('s3')\n",
    "    client.put_object(Bucket=output_bucket, Key=filename, Body=content)\n",
    "    \n",
    "output_bucket = 'hbo-outbound-datascience-content-dev'\n",
    "s3 = boto3.resource('s3')\n",
    "bucket = s3.Bucket(output_bucket)\n",
    "\n",
    "def write_to_sf(df, file_name):\n",
    "    csv_buffer = io.StringIO()\n",
    "    df.to_csv(csv_buffer, index = False)\n",
    "    content = csv_buffer.getvalue()\n",
    "    filename = 'title_hours_viewed_retention/{}.csv'.format(file_name)\n",
    "    to_s3(filename, output_bucket, content)"
   ]
  },
  {
   "cell_type": "code",
   "execution_count": 13,
   "id": "a6e37300",
   "metadata": {},
   "outputs": [],
   "source": [
    "write_to_sf(title_series_info, 'title_series_info')\n",
    "# table max_dev.workspace.user_title_hours_watched_title_series_info \n",
    "# table max_dev.workspace.user_title_hours_watched_episodic_info "
   ]
  },
  {
   "cell_type": "code",
   "execution_count": 14,
   "id": "571821d2",
   "metadata": {},
   "outputs": [],
   "source": [
    "# run_query('''\n",
    "# create or replace table max_dev.workspace.user_title_hours_watched_title_series_info \n",
    "# (\n",
    "# title_id\tVARCHAR,\n",
    "# season_number\tint,\n",
    "# offering_start_date\tVARCHAR,\n",
    "# asset_run_time_hours\tfloat,\n",
    "# content_category\tVARCHAR,\n",
    "# program_type\tVARCHAR,\n",
    "# air_date\tVARCHAR,\n",
    "# medal\tVARCHAR,\n",
    "# episode_number_in_season int,\n",
    "# pillar_genre VARCHAR,\n",
    "# is_pay_1    int,            \n",
    "# is_popcorn    int,     \n",
    "# budget    int\n",
    "# );\n",
    "\n",
    "# ''')"
   ]
  },
  {
   "cell_type": "code",
   "execution_count": 15,
   "id": "f5af2619",
   "metadata": {},
   "outputs": [],
   "source": [
    "# run_query('''\n",
    "# copy into max_dev.workspace.user_title_hours_watched_title_series_info\n",
    "#     from(\n",
    "#         select\n",
    "#               $1, $2, $3, $4, $5, $6, $7, $8, $9, $10, $11, $12,$13\n",
    "#         from @HBO_OUTBOUND_DATASCIENCE_CONTENT_DEV/title_hours_viewed_retention/title_series_info.csv\n",
    "#         )\n",
    "#     file_format = (type = csv null_if=('') skip_header = 1  FIELD_OPTIONALLY_ENCLOSED_BY='\"')\n",
    "#     on_error = 'CONTINUE';\n",
    "\n",
    "# ''')"
   ]
  },
  {
   "cell_type": "code",
   "execution_count": 16,
   "id": "15606c27",
   "metadata": {},
   "outputs": [],
   "source": [
    "# run_query('''\n",
    "# create or replace table max_dev.workspace.user_title_hours_watched_episodic_info \n",
    "# (\n",
    "# title_name\tVARCHAR,\n",
    "# title_episode_name\tVARCHAR, \n",
    "# viewable_id\tVARCHAR,\n",
    "# title_id\tVARCHAR,\n",
    "# season_number\tint,\n",
    "# content_category\tVARCHAR,\n",
    "# program_type\tVARCHAR,\n",
    "# air_date\tVARCHAR, \n",
    "# medal\tVARCHAR,\n",
    "# asset_run_time_hours\tfloat,\n",
    "# offering_start_date\tVARCHAR,\n",
    "# offering_end_date\tVARCHAR,\n",
    "# primary_genre_desc\tVARCHAR,\n",
    "# pillar_genre\tVARCHAR,\n",
    "# episode_number_in_season int,\n",
    "# is_pay_1\tint,            \n",
    "# is_popcorn\tint,     \n",
    "# budget\tint\n",
    "# );\n",
    "\n",
    "# ''')"
   ]
  },
  {
   "cell_type": "code",
   "execution_count": 17,
   "id": "b8ea3600",
   "metadata": {},
   "outputs": [],
   "source": [
    "# write_to_sf(title_info, 'title_episodic_info')"
   ]
  },
  {
   "cell_type": "code",
   "execution_count": 18,
   "id": "050df011",
   "metadata": {},
   "outputs": [],
   "source": [
    "# run_query('''\n",
    "# copy into max_dev.workspace.user_title_hours_watched_episodic_info\n",
    "#     from(\n",
    "#         select\n",
    "#               $1, $2, $3, $4, $5, $6, $7, $8, $9, $10, $11, $12,$13, $14, $15, $16,$17, $18\n",
    "#         from @HBO_OUTBOUND_DATASCIENCE_CONTENT_DEV/title_hours_viewed_retention/title_episodic_info.csv\n",
    "#         )\n",
    "#     file_format = (type = csv null_if=('') skip_header = 1  FIELD_OPTIONALLY_ENCLOSED_BY='\"')\n",
    "#     on_error = 'CONTINUE' FORCE = True; \n",
    "\n",
    "# ''')"
   ]
  },
  {
   "cell_type": "code",
   "execution_count": 36,
   "id": "591bac69",
   "metadata": {},
   "outputs": [],
   "source": [
    "title_hours_viewed = run_query('''\n",
    "WITH viewing_hours AS (\n",
    "SELECT e.title_name, t.title_id, t.season_number, h.request_date, t.offering_start_date, t.asset_run_time_hours\n",
    ",DATEDIFF('DAY', t.offering_start_date::DATE, h.request_date::DATE) as days_on_hbo_max\n",
    ",SUM(h.hours_viewed) AS daily_hours_viewed\n",
    ",SUM(daily_hours_viewed) OVER (PARTITION BY t.title_id, t.season_number order by DAYS_ON_HBO_MAX) as cumulative_hours_viewed\n",
    "FROM MAX_DEV.WORKSPACE.user_title_hours_watched_test2 h\n",
    "JOIN (SELECT DISTINCT viewable_id, title_id, season_number, title_name FROM\n",
    "    max_dev.workspace.user_title_hours_watched_episodic_info)  e\n",
    "    on h.viewable_id = e.viewable_id\n",
    "JOIN max_dev.workspace.user_title_hours_watched_title_series_info    t\n",
    "    on e.title_id = t.title_id\n",
    "    and e.season_number = t.season_number\n",
    "WHERE 1=1\n",
    "AND DATEDIFF('DAY', t.offering_start_date::DATE, h.request_date::DATE) >= 0\n",
    "GROUP BY 1,2,3,4,5,6,7\n",
    "ORDER BY t.TITLE_ID, t.SEASON_NUMBER, DAYS_ON_HBO_MAX\n",
    ")\n",
    "select v.*,subs\n",
    ",cumulative_hours_viewed/subs as average_hours_viewed\n",
    "from viewing_hours v\n",
    "JOIN max_dev.workspace.user_title_hours_watched_subs s\n",
    "    on v.offering_start_date = s.start_date\n",
    "    and v.days_on_hbo_max = s.days_on_hbo_max\n",
    "''')"
   ]
  },
  {
   "cell_type": "code",
   "execution_count": 22,
   "id": "73cb2377",
   "metadata": {},
   "outputs": [],
   "source": [
    "content_cost = pd.read_csv('Content Cost.csv')"
   ]
  },
  {
   "cell_type": "code",
   "execution_count": 23,
   "id": "1c264a66",
   "metadata": {},
   "outputs": [],
   "source": [
    "content_cost.columns = [i.lower() for i in content_cost.columns]"
   ]
  },
  {
   "cell_type": "code",
   "execution_count": 24,
   "id": "e7d06b71",
   "metadata": {},
   "outputs": [
    {
     "data": {
      "text/html": [
       "<div>\n",
       "<style scoped>\n",
       "    .dataframe tbody tr th:only-of-type {\n",
       "        vertical-align: middle;\n",
       "    }\n",
       "\n",
       "    .dataframe tbody tr th {\n",
       "        vertical-align: top;\n",
       "    }\n",
       "\n",
       "    .dataframe thead th {\n",
       "        text-align: right;\n",
       "    }\n",
       "</style>\n",
       "<table border=\"1\" class=\"dataframe\">\n",
       "  <thead>\n",
       "    <tr style=\"text-align: right;\">\n",
       "      <th></th>\n",
       "      <th>title_id</th>\n",
       "      <th>season_number</th>\n",
       "      <th>title_name</th>\n",
       "      <th>gross_cost_1</th>\n",
       "      <th>adj_gross_cost_1</th>\n",
       "      <th>amortized_cost</th>\n",
       "      <th>efc</th>\n",
       "      <th>content_cost</th>\n",
       "    </tr>\n",
       "  </thead>\n",
       "  <tbody>\n",
       "    <tr>\n",
       "      <th>0</th>\n",
       "      <td>GXdu2SAeB7puAuwEAADZ8</td>\n",
       "      <td>0</td>\n",
       "      <td>Final Destination 3</td>\n",
       "      <td>nan</td>\n",
       "      <td>nan</td>\n",
       "      <td>300,000.00</td>\n",
       "      <td>nan</td>\n",
       "      <td>300,000.00</td>\n",
       "    </tr>\n",
       "    <tr>\n",
       "      <th>1</th>\n",
       "      <td>GVU3T5wTXyoNJjhsJAXsL</td>\n",
       "      <td>0</td>\n",
       "      <td>Coma</td>\n",
       "      <td>nan</td>\n",
       "      <td>nan</td>\n",
       "      <td>80,000.00</td>\n",
       "      <td>nan</td>\n",
       "      <td>80,000.00</td>\n",
       "    </tr>\n",
       "    <tr>\n",
       "      <th>2</th>\n",
       "      <td>GYK0ljAlihwmgpgEAAAAM</td>\n",
       "      <td>0</td>\n",
       "      <td>Set Up</td>\n",
       "      <td>nan</td>\n",
       "      <td>nan</td>\n",
       "      <td>150,000.00</td>\n",
       "      <td>nan</td>\n",
       "      <td>150,000.00</td>\n",
       "    </tr>\n",
       "    <tr>\n",
       "      <th>3</th>\n",
       "      <td>GYnQshQAwncM-owEAAAAD</td>\n",
       "      <td>0</td>\n",
       "      <td>Unfinished Song</td>\n",
       "      <td>nan</td>\n",
       "      <td>nan</td>\n",
       "      <td>173,864.00</td>\n",
       "      <td>nan</td>\n",
       "      <td>173,864.00</td>\n",
       "    </tr>\n",
       "    <tr>\n",
       "      <th>4</th>\n",
       "      <td>GYrGCXQAmMQCdrAEAAAHD</td>\n",
       "      <td>0</td>\n",
       "      <td>Infinitely Polar Bear</td>\n",
       "      <td>nan</td>\n",
       "      <td>nan</td>\n",
       "      <td>95,498.00</td>\n",
       "      <td>nan</td>\n",
       "      <td>95,498.00</td>\n",
       "    </tr>\n",
       "  </tbody>\n",
       "</table>\n",
       "</div>"
      ],
      "text/plain": [
       "                title_id  season_number             title_name  gross_cost_1  \\\n",
       "0  GXdu2SAeB7puAuwEAADZ8              0    Final Destination 3           nan   \n",
       "1  GVU3T5wTXyoNJjhsJAXsL              0                   Coma           nan   \n",
       "2  GYK0ljAlihwmgpgEAAAAM              0                 Set Up           nan   \n",
       "3  GYnQshQAwncM-owEAAAAD              0        Unfinished Song           nan   \n",
       "4  GYrGCXQAmMQCdrAEAAAHD              0  Infinitely Polar Bear           nan   \n",
       "\n",
       "   adj_gross_cost_1  amortized_cost  efc  content_cost  \n",
       "0               nan      300,000.00  nan    300,000.00  \n",
       "1               nan       80,000.00  nan     80,000.00  \n",
       "2               nan      150,000.00  nan    150,000.00  \n",
       "3               nan      173,864.00  nan    173,864.00  \n",
       "4               nan       95,498.00  nan     95,498.00  "
      ]
     },
     "execution_count": 24,
     "metadata": {},
     "output_type": "execute_result"
    }
   ],
   "source": [
    "content_cost.head()"
   ]
  },
  {
   "cell_type": "markdown",
   "id": "af1978b8",
   "metadata": {},
   "source": [
    "### Catigorical feature "
   ]
  },
  {
   "cell_type": "code",
   "execution_count": 25,
   "id": "5510c3bd",
   "metadata": {},
   "outputs": [],
   "source": [
    "content_category_onehot = pd.get_dummies(title_series_info['content_category'], prefix='content_category')\n",
    "title_series_info=pd.concat([title_series_info, content_category_onehot], axis = 1)"
   ]
  },
  {
   "cell_type": "code",
   "execution_count": 26,
   "id": "b8c4089b",
   "metadata": {},
   "outputs": [],
   "source": [
    "program_type_onehot = pd.get_dummies(title_series_info['program_type'], prefix='program_type')\n",
    "title_series_info=pd.concat([title_series_info, program_type_onehot], axis = 1)"
   ]
  },
  {
   "cell_type": "code",
   "execution_count": 27,
   "id": "5ee25627",
   "metadata": {},
   "outputs": [],
   "source": [
    "genre_onehot = pd.get_dummies(title_series_info['pillar_genre'], prefix='genre')\n",
    "title_series_info=pd.concat([title_series_info, genre_onehot], axis = 1)"
   ]
  },
  {
   "cell_type": "code",
   "execution_count": 28,
   "id": "194cbc6f",
   "metadata": {},
   "outputs": [
    {
     "data": {
      "text/plain": [
       "array(['None', 'Gold', 'Silver', 'Bronze', 'Platinum'], dtype=object)"
      ]
     },
     "execution_count": 28,
     "metadata": {},
     "output_type": "execute_result"
    }
   ],
   "source": [
    "title_series_info.medal.unique()"
   ]
  },
  {
   "cell_type": "code",
   "execution_count": 29,
   "id": "011408b7",
   "metadata": {},
   "outputs": [],
   "source": [
    "# Medal Data\n",
    "medal_dict = {'Silver':2, 'Bronze':3, 'Gold':1 , 'Platinum':0, 'None':np.NaN}\n",
    "title_series_info['medal_number'] = title_series_info['medal'].replace(medal_dict)"
   ]
  },
  {
   "cell_type": "code",
   "execution_count": 30,
   "id": "05e5770e",
   "metadata": {},
   "outputs": [],
   "source": [
    "title_series_info['is_new_content'] = 0"
   ]
  },
  {
   "cell_type": "code",
   "execution_count": 31,
   "id": "3fc93ba4",
   "metadata": {},
   "outputs": [],
   "source": [
    "### Air date and Release date < 1 year\n",
    "title_series_info.loc[(pd.to_datetime(title_series_info['offering_start_date'])-\n",
    "                      pd.to_datetime(title_series_info['air_date']))/np.timedelta64(1, 'Y') <= 1,\n",
    "                      'is_new_content']=1"
   ]
  },
  {
   "cell_type": "code",
   "execution_count": 32,
   "id": "80223640",
   "metadata": {},
   "outputs": [],
   "source": [
    "title_series_info['age_of_content'] = (pd.to_datetime(title_series_info['offering_start_date'])-\n",
    "                      pd.to_datetime(title_series_info['air_date']))/np.timedelta64(1, 'Y')"
   ]
  },
  {
   "cell_type": "code",
   "execution_count": 34,
   "id": "16da5105",
   "metadata": {},
   "outputs": [
    {
     "data": {
      "text/html": [
       "<div>\n",
       "<style scoped>\n",
       "    .dataframe tbody tr th:only-of-type {\n",
       "        vertical-align: middle;\n",
       "    }\n",
       "\n",
       "    .dataframe tbody tr th {\n",
       "        vertical-align: top;\n",
       "    }\n",
       "\n",
       "    .dataframe thead th {\n",
       "        text-align: right;\n",
       "    }\n",
       "</style>\n",
       "<table border=\"1\" class=\"dataframe\">\n",
       "  <thead>\n",
       "    <tr style=\"text-align: right;\">\n",
       "      <th></th>\n",
       "      <th>title_name</th>\n",
       "      <th>title_id</th>\n",
       "      <th>season_number</th>\n",
       "      <th>days_on_hbo_max</th>\n",
       "      <th>days_on_hbo_max</th>\n",
       "      <th>cumulative_hours_viewed</th>\n",
       "      <th>average_hours_viewed</th>\n",
       "      <th>offering_start_date</th>\n",
       "      <th>asset_run_time_hours</th>\n",
       "      <th>content_category</th>\n",
       "      <th>program_type</th>\n",
       "      <th>air_date</th>\n",
       "      <th>medal</th>\n",
       "      <th>episode_number_in_season</th>\n",
       "      <th>pillar_genre</th>\n",
       "      <th>is_pay_1</th>\n",
       "      <th>is_popcorn</th>\n",
       "      <th>budget</th>\n",
       "      <th>content_category_livesports</th>\n",
       "      <th>content_category_movies</th>\n",
       "      <th>content_category_series</th>\n",
       "      <th>content_category_special</th>\n",
       "      <th>program_type_acquired</th>\n",
       "      <th>program_type_original</th>\n",
       "      <th>genre_Action/Adventure</th>\n",
       "      <th>genre_Adult Animation</th>\n",
       "      <th>genre_Classics</th>\n",
       "      <th>genre_Comedy</th>\n",
       "      <th>genre_Documentary</th>\n",
       "      <th>genre_Drama</th>\n",
       "      <th>genre_Horror</th>\n",
       "      <th>genre_Kids/Family</th>\n",
       "      <th>genre_Music</th>\n",
       "      <th>genre_Other</th>\n",
       "      <th>genre_Romance</th>\n",
       "      <th>genre_Sci-Fi</th>\n",
       "      <th>genre_Suspense/Thriller</th>\n",
       "      <th>genre_Unscripted</th>\n",
       "      <th>medal_number</th>\n",
       "      <th>is_new_content</th>\n",
       "      <th>age_of_content</th>\n",
       "    </tr>\n",
       "  </thead>\n",
       "  <tbody>\n",
       "    <tr>\n",
       "      <th>0</th>\n",
       "      <td>VICE Special Report: Killing Cancer</td>\n",
       "      <td>GV-54_wnG7qbCwwEAAAAY</td>\n",
       "      <td>0</td>\n",
       "      <td>5</td>\n",
       "      <td>5</td>\n",
       "      <td>1.58</td>\n",
       "      <td>0.00</td>\n",
       "      <td>2020-05-27</td>\n",
       "      <td>0.64</td>\n",
       "      <td>movies</td>\n",
       "      <td>acquired</td>\n",
       "      <td>2015-01-01</td>\n",
       "      <td>None</td>\n",
       "      <td>nan</td>\n",
       "      <td>Documentary</td>\n",
       "      <td>0</td>\n",
       "      <td>0</td>\n",
       "      <td>nan</td>\n",
       "      <td>0</td>\n",
       "      <td>1</td>\n",
       "      <td>0</td>\n",
       "      <td>0</td>\n",
       "      <td>1</td>\n",
       "      <td>0</td>\n",
       "      <td>0</td>\n",
       "      <td>0</td>\n",
       "      <td>0</td>\n",
       "      <td>0</td>\n",
       "      <td>1</td>\n",
       "      <td>0</td>\n",
       "      <td>0</td>\n",
       "      <td>0</td>\n",
       "      <td>0</td>\n",
       "      <td>0</td>\n",
       "      <td>0</td>\n",
       "      <td>0</td>\n",
       "      <td>0</td>\n",
       "      <td>0</td>\n",
       "      <td>nan</td>\n",
       "      <td>0</td>\n",
       "      <td>5.40</td>\n",
       "    </tr>\n",
       "    <tr>\n",
       "      <th>1</th>\n",
       "      <td>VICE Special Report: Killing Cancer</td>\n",
       "      <td>GV-54_wnG7qbCwwEAAAAY</td>\n",
       "      <td>0</td>\n",
       "      <td>8</td>\n",
       "      <td>8</td>\n",
       "      <td>2.24</td>\n",
       "      <td>0.00</td>\n",
       "      <td>2020-05-27</td>\n",
       "      <td>0.64</td>\n",
       "      <td>movies</td>\n",
       "      <td>acquired</td>\n",
       "      <td>2015-01-01</td>\n",
       "      <td>None</td>\n",
       "      <td>nan</td>\n",
       "      <td>Documentary</td>\n",
       "      <td>0</td>\n",
       "      <td>0</td>\n",
       "      <td>nan</td>\n",
       "      <td>0</td>\n",
       "      <td>1</td>\n",
       "      <td>0</td>\n",
       "      <td>0</td>\n",
       "      <td>1</td>\n",
       "      <td>0</td>\n",
       "      <td>0</td>\n",
       "      <td>0</td>\n",
       "      <td>0</td>\n",
       "      <td>0</td>\n",
       "      <td>1</td>\n",
       "      <td>0</td>\n",
       "      <td>0</td>\n",
       "      <td>0</td>\n",
       "      <td>0</td>\n",
       "      <td>0</td>\n",
       "      <td>0</td>\n",
       "      <td>0</td>\n",
       "      <td>0</td>\n",
       "      <td>0</td>\n",
       "      <td>nan</td>\n",
       "      <td>0</td>\n",
       "      <td>5.40</td>\n",
       "    </tr>\n",
       "    <tr>\n",
       "      <th>2</th>\n",
       "      <td>VICE Special Report: Killing Cancer</td>\n",
       "      <td>GV-54_wnG7qbCwwEAAAAY</td>\n",
       "      <td>0</td>\n",
       "      <td>15</td>\n",
       "      <td>15</td>\n",
       "      <td>2.82</td>\n",
       "      <td>0.00</td>\n",
       "      <td>2020-05-27</td>\n",
       "      <td>0.64</td>\n",
       "      <td>movies</td>\n",
       "      <td>acquired</td>\n",
       "      <td>2015-01-01</td>\n",
       "      <td>None</td>\n",
       "      <td>nan</td>\n",
       "      <td>Documentary</td>\n",
       "      <td>0</td>\n",
       "      <td>0</td>\n",
       "      <td>nan</td>\n",
       "      <td>0</td>\n",
       "      <td>1</td>\n",
       "      <td>0</td>\n",
       "      <td>0</td>\n",
       "      <td>1</td>\n",
       "      <td>0</td>\n",
       "      <td>0</td>\n",
       "      <td>0</td>\n",
       "      <td>0</td>\n",
       "      <td>0</td>\n",
       "      <td>1</td>\n",
       "      <td>0</td>\n",
       "      <td>0</td>\n",
       "      <td>0</td>\n",
       "      <td>0</td>\n",
       "      <td>0</td>\n",
       "      <td>0</td>\n",
       "      <td>0</td>\n",
       "      <td>0</td>\n",
       "      <td>0</td>\n",
       "      <td>nan</td>\n",
       "      <td>0</td>\n",
       "      <td>5.40</td>\n",
       "    </tr>\n",
       "    <tr>\n",
       "      <th>3</th>\n",
       "      <td>VICE Special Report: Killing Cancer</td>\n",
       "      <td>GV-54_wnG7qbCwwEAAAAY</td>\n",
       "      <td>0</td>\n",
       "      <td>16</td>\n",
       "      <td>16</td>\n",
       "      <td>3.48</td>\n",
       "      <td>0.00</td>\n",
       "      <td>2020-05-27</td>\n",
       "      <td>0.64</td>\n",
       "      <td>movies</td>\n",
       "      <td>acquired</td>\n",
       "      <td>2015-01-01</td>\n",
       "      <td>None</td>\n",
       "      <td>nan</td>\n",
       "      <td>Documentary</td>\n",
       "      <td>0</td>\n",
       "      <td>0</td>\n",
       "      <td>nan</td>\n",
       "      <td>0</td>\n",
       "      <td>1</td>\n",
       "      <td>0</td>\n",
       "      <td>0</td>\n",
       "      <td>1</td>\n",
       "      <td>0</td>\n",
       "      <td>0</td>\n",
       "      <td>0</td>\n",
       "      <td>0</td>\n",
       "      <td>0</td>\n",
       "      <td>1</td>\n",
       "      <td>0</td>\n",
       "      <td>0</td>\n",
       "      <td>0</td>\n",
       "      <td>0</td>\n",
       "      <td>0</td>\n",
       "      <td>0</td>\n",
       "      <td>0</td>\n",
       "      <td>0</td>\n",
       "      <td>0</td>\n",
       "      <td>nan</td>\n",
       "      <td>0</td>\n",
       "      <td>5.40</td>\n",
       "    </tr>\n",
       "    <tr>\n",
       "      <th>4</th>\n",
       "      <td>VICE Special Report: Killing Cancer</td>\n",
       "      <td>GV-54_wnG7qbCwwEAAAAY</td>\n",
       "      <td>0</td>\n",
       "      <td>18</td>\n",
       "      <td>18</td>\n",
       "      <td>4.13</td>\n",
       "      <td>0.00</td>\n",
       "      <td>2020-05-27</td>\n",
       "      <td>0.64</td>\n",
       "      <td>movies</td>\n",
       "      <td>acquired</td>\n",
       "      <td>2015-01-01</td>\n",
       "      <td>None</td>\n",
       "      <td>nan</td>\n",
       "      <td>Documentary</td>\n",
       "      <td>0</td>\n",
       "      <td>0</td>\n",
       "      <td>nan</td>\n",
       "      <td>0</td>\n",
       "      <td>1</td>\n",
       "      <td>0</td>\n",
       "      <td>0</td>\n",
       "      <td>1</td>\n",
       "      <td>0</td>\n",
       "      <td>0</td>\n",
       "      <td>0</td>\n",
       "      <td>0</td>\n",
       "      <td>0</td>\n",
       "      <td>1</td>\n",
       "      <td>0</td>\n",
       "      <td>0</td>\n",
       "      <td>0</td>\n",
       "      <td>0</td>\n",
       "      <td>0</td>\n",
       "      <td>0</td>\n",
       "      <td>0</td>\n",
       "      <td>0</td>\n",
       "      <td>0</td>\n",
       "      <td>nan</td>\n",
       "      <td>0</td>\n",
       "      <td>5.40</td>\n",
       "    </tr>\n",
       "  </tbody>\n",
       "</table>\n",
       "</div>"
      ],
      "text/plain": [
       "                            title_name               title_id  season_number  \\\n",
       "0  VICE Special Report: Killing Cancer  GV-54_wnG7qbCwwEAAAAY              0   \n",
       "1  VICE Special Report: Killing Cancer  GV-54_wnG7qbCwwEAAAAY              0   \n",
       "2  VICE Special Report: Killing Cancer  GV-54_wnG7qbCwwEAAAAY              0   \n",
       "3  VICE Special Report: Killing Cancer  GV-54_wnG7qbCwwEAAAAY              0   \n",
       "4  VICE Special Report: Killing Cancer  GV-54_wnG7qbCwwEAAAAY              0   \n",
       "\n",
       "   days_on_hbo_max  days_on_hbo_max  cumulative_hours_viewed  \\\n",
       "0                5                5                     1.58   \n",
       "1                8                8                     2.24   \n",
       "2               15               15                     2.82   \n",
       "3               16               16                     3.48   \n",
       "4               18               18                     4.13   \n",
       "\n",
       "   average_hours_viewed offering_start_date  asset_run_time_hours  \\\n",
       "0                  0.00          2020-05-27                  0.64   \n",
       "1                  0.00          2020-05-27                  0.64   \n",
       "2                  0.00          2020-05-27                  0.64   \n",
       "3                  0.00          2020-05-27                  0.64   \n",
       "4                  0.00          2020-05-27                  0.64   \n",
       "\n",
       "  content_category program_type    air_date medal  episode_number_in_season  \\\n",
       "0           movies     acquired  2015-01-01  None                       nan   \n",
       "1           movies     acquired  2015-01-01  None                       nan   \n",
       "2           movies     acquired  2015-01-01  None                       nan   \n",
       "3           movies     acquired  2015-01-01  None                       nan   \n",
       "4           movies     acquired  2015-01-01  None                       nan   \n",
       "\n",
       "  pillar_genre  is_pay_1  is_popcorn  budget  content_category_livesports  \\\n",
       "0  Documentary         0           0     nan                            0   \n",
       "1  Documentary         0           0     nan                            0   \n",
       "2  Documentary         0           0     nan                            0   \n",
       "3  Documentary         0           0     nan                            0   \n",
       "4  Documentary         0           0     nan                            0   \n",
       "\n",
       "   content_category_movies  content_category_series  content_category_special  \\\n",
       "0                        1                        0                         0   \n",
       "1                        1                        0                         0   \n",
       "2                        1                        0                         0   \n",
       "3                        1                        0                         0   \n",
       "4                        1                        0                         0   \n",
       "\n",
       "   program_type_acquired  program_type_original  genre_Action/Adventure   \\\n",
       "0                      1                      0                        0   \n",
       "1                      1                      0                        0   \n",
       "2                      1                      0                        0   \n",
       "3                      1                      0                        0   \n",
       "4                      1                      0                        0   \n",
       "\n",
       "   genre_Adult Animation  genre_Classics  genre_Comedy  genre_Documentary  \\\n",
       "0                      0               0             0                  1   \n",
       "1                      0               0             0                  1   \n",
       "2                      0               0             0                  1   \n",
       "3                      0               0             0                  1   \n",
       "4                      0               0             0                  1   \n",
       "\n",
       "   genre_Drama  genre_Horror   genre_Kids/Family  genre_Music  genre_Other  \\\n",
       "0            0              0                  0            0            0   \n",
       "1            0              0                  0            0            0   \n",
       "2            0              0                  0            0            0   \n",
       "3            0              0                  0            0            0   \n",
       "4            0              0                  0            0            0   \n",
       "\n",
       "   genre_Romance  genre_Sci-Fi  genre_Suspense/Thriller  genre_Unscripted  \\\n",
       "0              0             0                        0                 0   \n",
       "1              0             0                        0                 0   \n",
       "2              0             0                        0                 0   \n",
       "3              0             0                        0                 0   \n",
       "4              0             0                        0                 0   \n",
       "\n",
       "   medal_number  is_new_content  age_of_content  \n",
       "0           nan               0            5.40  \n",
       "1           nan               0            5.40  \n",
       "2           nan               0            5.40  \n",
       "3           nan               0            5.40  \n",
       "4           nan               0            5.40  "
      ]
     },
     "execution_count": 34,
     "metadata": {},
     "output_type": "execute_result"
    }
   ],
   "source": [
    "data.head()"
   ]
  },
  {
   "cell_type": "code",
   "execution_count": 38,
   "id": "c8ba64ac",
   "metadata": {},
   "outputs": [
    {
     "data": {
      "text/html": [
       "<div>\n",
       "<style scoped>\n",
       "    .dataframe tbody tr th:only-of-type {\n",
       "        vertical-align: middle;\n",
       "    }\n",
       "\n",
       "    .dataframe tbody tr th {\n",
       "        vertical-align: top;\n",
       "    }\n",
       "\n",
       "    .dataframe thead th {\n",
       "        text-align: right;\n",
       "    }\n",
       "</style>\n",
       "<table border=\"1\" class=\"dataframe\">\n",
       "  <thead>\n",
       "    <tr style=\"text-align: right;\">\n",
       "      <th></th>\n",
       "      <th>title_id</th>\n",
       "      <th>season_number</th>\n",
       "      <th>offering_start_date</th>\n",
       "      <th>asset_run_time_hours</th>\n",
       "      <th>content_category</th>\n",
       "      <th>program_type</th>\n",
       "      <th>air_date</th>\n",
       "      <th>medal</th>\n",
       "      <th>episode_number_in_season</th>\n",
       "      <th>pillar_genre</th>\n",
       "      <th>is_pay_1</th>\n",
       "      <th>is_popcorn</th>\n",
       "      <th>budget</th>\n",
       "      <th>content_category_livesports</th>\n",
       "      <th>content_category_movies</th>\n",
       "      <th>content_category_series</th>\n",
       "      <th>content_category_special</th>\n",
       "      <th>program_type_acquired</th>\n",
       "      <th>program_type_original</th>\n",
       "      <th>genre_Action/Adventure</th>\n",
       "      <th>genre_Adult Animation</th>\n",
       "      <th>genre_Classics</th>\n",
       "      <th>genre_Comedy</th>\n",
       "      <th>genre_Documentary</th>\n",
       "      <th>genre_Drama</th>\n",
       "      <th>genre_Horror</th>\n",
       "      <th>genre_Kids/Family</th>\n",
       "      <th>genre_Music</th>\n",
       "      <th>genre_Other</th>\n",
       "      <th>genre_Romance</th>\n",
       "      <th>genre_Sci-Fi</th>\n",
       "      <th>genre_Suspense/Thriller</th>\n",
       "      <th>genre_Unscripted</th>\n",
       "      <th>medal_number</th>\n",
       "      <th>is_new_content</th>\n",
       "      <th>age_of_content</th>\n",
       "    </tr>\n",
       "  </thead>\n",
       "  <tbody>\n",
       "    <tr>\n",
       "      <th>0</th>\n",
       "      <td>GV-54_wnG7qbCwwEAAAAY</td>\n",
       "      <td>0.00</td>\n",
       "      <td>2020-05-27</td>\n",
       "      <td>0.64</td>\n",
       "      <td>movies</td>\n",
       "      <td>acquired</td>\n",
       "      <td>2015-01-01</td>\n",
       "      <td>None</td>\n",
       "      <td>nan</td>\n",
       "      <td>Documentary</td>\n",
       "      <td>0</td>\n",
       "      <td>0</td>\n",
       "      <td>nan</td>\n",
       "      <td>0</td>\n",
       "      <td>1</td>\n",
       "      <td>0</td>\n",
       "      <td>0</td>\n",
       "      <td>1</td>\n",
       "      <td>0</td>\n",
       "      <td>0</td>\n",
       "      <td>0</td>\n",
       "      <td>0</td>\n",
       "      <td>0</td>\n",
       "      <td>1</td>\n",
       "      <td>0</td>\n",
       "      <td>0</td>\n",
       "      <td>0</td>\n",
       "      <td>0</td>\n",
       "      <td>0</td>\n",
       "      <td>0</td>\n",
       "      <td>0</td>\n",
       "      <td>0</td>\n",
       "      <td>0</td>\n",
       "      <td>nan</td>\n",
       "      <td>0</td>\n",
       "      <td>5.40</td>\n",
       "    </tr>\n",
       "    <tr>\n",
       "      <th>1</th>\n",
       "      <td>GV-55HghKlqbCwwEAAAAb</td>\n",
       "      <td>0.00</td>\n",
       "      <td>2020-05-27</td>\n",
       "      <td>0.81</td>\n",
       "      <td>movies</td>\n",
       "      <td>acquired</td>\n",
       "      <td>2015-01-01</td>\n",
       "      <td>None</td>\n",
       "      <td>nan</td>\n",
       "      <td>Documentary</td>\n",
       "      <td>0</td>\n",
       "      <td>0</td>\n",
       "      <td>nan</td>\n",
       "      <td>0</td>\n",
       "      <td>1</td>\n",
       "      <td>0</td>\n",
       "      <td>0</td>\n",
       "      <td>1</td>\n",
       "      <td>0</td>\n",
       "      <td>0</td>\n",
       "      <td>0</td>\n",
       "      <td>0</td>\n",
       "      <td>0</td>\n",
       "      <td>1</td>\n",
       "      <td>0</td>\n",
       "      <td>0</td>\n",
       "      <td>0</td>\n",
       "      <td>0</td>\n",
       "      <td>0</td>\n",
       "      <td>0</td>\n",
       "      <td>0</td>\n",
       "      <td>0</td>\n",
       "      <td>0</td>\n",
       "      <td>nan</td>\n",
       "      <td>0</td>\n",
       "      <td>5.40</td>\n",
       "    </tr>\n",
       "    <tr>\n",
       "      <th>2</th>\n",
       "      <td>GV-55Hwvj4IaDwwEAAAAY</td>\n",
       "      <td>0.00</td>\n",
       "      <td>2020-05-27</td>\n",
       "      <td>1.11</td>\n",
       "      <td>movies</td>\n",
       "      <td>acquired</td>\n",
       "      <td>2015-01-01</td>\n",
       "      <td>None</td>\n",
       "      <td>nan</td>\n",
       "      <td>Documentary</td>\n",
       "      <td>0</td>\n",
       "      <td>0</td>\n",
       "      <td>nan</td>\n",
       "      <td>0</td>\n",
       "      <td>1</td>\n",
       "      <td>0</td>\n",
       "      <td>0</td>\n",
       "      <td>1</td>\n",
       "      <td>0</td>\n",
       "      <td>0</td>\n",
       "      <td>0</td>\n",
       "      <td>0</td>\n",
       "      <td>0</td>\n",
       "      <td>1</td>\n",
       "      <td>0</td>\n",
       "      <td>0</td>\n",
       "      <td>0</td>\n",
       "      <td>0</td>\n",
       "      <td>0</td>\n",
       "      <td>0</td>\n",
       "      <td>0</td>\n",
       "      <td>0</td>\n",
       "      <td>0</td>\n",
       "      <td>nan</td>\n",
       "      <td>0</td>\n",
       "      <td>5.40</td>\n",
       "    </tr>\n",
       "    <tr>\n",
       "      <th>3</th>\n",
       "      <td>GV-55JASHjruwgwEAAAAU</td>\n",
       "      <td>0.00</td>\n",
       "      <td>2020-05-27</td>\n",
       "      <td>0.79</td>\n",
       "      <td>movies</td>\n",
       "      <td>original</td>\n",
       "      <td>2016-01-31</td>\n",
       "      <td>None</td>\n",
       "      <td>nan</td>\n",
       "      <td>Documentary</td>\n",
       "      <td>0</td>\n",
       "      <td>0</td>\n",
       "      <td>nan</td>\n",
       "      <td>0</td>\n",
       "      <td>1</td>\n",
       "      <td>0</td>\n",
       "      <td>0</td>\n",
       "      <td>0</td>\n",
       "      <td>1</td>\n",
       "      <td>0</td>\n",
       "      <td>0</td>\n",
       "      <td>0</td>\n",
       "      <td>0</td>\n",
       "      <td>1</td>\n",
       "      <td>0</td>\n",
       "      <td>0</td>\n",
       "      <td>0</td>\n",
       "      <td>0</td>\n",
       "      <td>0</td>\n",
       "      <td>0</td>\n",
       "      <td>0</td>\n",
       "      <td>0</td>\n",
       "      <td>0</td>\n",
       "      <td>nan</td>\n",
       "      <td>0</td>\n",
       "      <td>4.32</td>\n",
       "    </tr>\n",
       "    <tr>\n",
       "      <th>4</th>\n",
       "      <td>GV-BGGgFkwMJMwwEAAAAT</td>\n",
       "      <td>0.00</td>\n",
       "      <td>2023-05-01</td>\n",
       "      <td>1.71</td>\n",
       "      <td>movies</td>\n",
       "      <td>acquired</td>\n",
       "      <td>1973-05-09</td>\n",
       "      <td>None</td>\n",
       "      <td>nan</td>\n",
       "      <td>Comedy</td>\n",
       "      <td>0</td>\n",
       "      <td>0</td>\n",
       "      <td>2,500,000.00</td>\n",
       "      <td>0</td>\n",
       "      <td>1</td>\n",
       "      <td>0</td>\n",
       "      <td>0</td>\n",
       "      <td>1</td>\n",
       "      <td>0</td>\n",
       "      <td>0</td>\n",
       "      <td>0</td>\n",
       "      <td>0</td>\n",
       "      <td>1</td>\n",
       "      <td>0</td>\n",
       "      <td>0</td>\n",
       "      <td>0</td>\n",
       "      <td>0</td>\n",
       "      <td>0</td>\n",
       "      <td>0</td>\n",
       "      <td>0</td>\n",
       "      <td>0</td>\n",
       "      <td>0</td>\n",
       "      <td>0</td>\n",
       "      <td>nan</td>\n",
       "      <td>0</td>\n",
       "      <td>49.98</td>\n",
       "    </tr>\n",
       "  </tbody>\n",
       "</table>\n",
       "</div>"
      ],
      "text/plain": [
       "                title_id  season_number offering_start_date  \\\n",
       "0  GV-54_wnG7qbCwwEAAAAY           0.00          2020-05-27   \n",
       "1  GV-55HghKlqbCwwEAAAAb           0.00          2020-05-27   \n",
       "2  GV-55Hwvj4IaDwwEAAAAY           0.00          2020-05-27   \n",
       "3  GV-55JASHjruwgwEAAAAU           0.00          2020-05-27   \n",
       "4  GV-BGGgFkwMJMwwEAAAAT           0.00          2023-05-01   \n",
       "\n",
       "   asset_run_time_hours content_category program_type    air_date medal  \\\n",
       "0                  0.64           movies     acquired  2015-01-01  None   \n",
       "1                  0.81           movies     acquired  2015-01-01  None   \n",
       "2                  1.11           movies     acquired  2015-01-01  None   \n",
       "3                  0.79           movies     original  2016-01-31  None   \n",
       "4                  1.71           movies     acquired  1973-05-09  None   \n",
       "\n",
       "   episode_number_in_season pillar_genre  is_pay_1  is_popcorn       budget  \\\n",
       "0                       nan  Documentary         0           0          nan   \n",
       "1                       nan  Documentary         0           0          nan   \n",
       "2                       nan  Documentary         0           0          nan   \n",
       "3                       nan  Documentary         0           0          nan   \n",
       "4                       nan       Comedy         0           0 2,500,000.00   \n",
       "\n",
       "   content_category_livesports  content_category_movies  \\\n",
       "0                            0                        1   \n",
       "1                            0                        1   \n",
       "2                            0                        1   \n",
       "3                            0                        1   \n",
       "4                            0                        1   \n",
       "\n",
       "   content_category_series  content_category_special  program_type_acquired  \\\n",
       "0                        0                         0                      1   \n",
       "1                        0                         0                      1   \n",
       "2                        0                         0                      1   \n",
       "3                        0                         0                      0   \n",
       "4                        0                         0                      1   \n",
       "\n",
       "   program_type_original  genre_Action/Adventure   genre_Adult Animation  \\\n",
       "0                      0                        0                      0   \n",
       "1                      0                        0                      0   \n",
       "2                      0                        0                      0   \n",
       "3                      1                        0                      0   \n",
       "4                      0                        0                      0   \n",
       "\n",
       "   genre_Classics  genre_Comedy  genre_Documentary  genre_Drama  \\\n",
       "0               0             0                  1            0   \n",
       "1               0             0                  1            0   \n",
       "2               0             0                  1            0   \n",
       "3               0             0                  1            0   \n",
       "4               0             1                  0            0   \n",
       "\n",
       "   genre_Horror   genre_Kids/Family  genre_Music  genre_Other  genre_Romance  \\\n",
       "0              0                  0            0            0              0   \n",
       "1              0                  0            0            0              0   \n",
       "2              0                  0            0            0              0   \n",
       "3              0                  0            0            0              0   \n",
       "4              0                  0            0            0              0   \n",
       "\n",
       "   genre_Sci-Fi  genre_Suspense/Thriller  genre_Unscripted  medal_number  \\\n",
       "0             0                        0                 0           nan   \n",
       "1             0                        0                 0           nan   \n",
       "2             0                        0                 0           nan   \n",
       "3             0                        0                 0           nan   \n",
       "4             0                        0                 0           nan   \n",
       "\n",
       "   is_new_content  age_of_content  \n",
       "0               0            5.40  \n",
       "1               0            5.40  \n",
       "2               0            5.40  \n",
       "3               0            4.32  \n",
       "4               0           49.98  "
      ]
     },
     "execution_count": 38,
     "metadata": {},
     "output_type": "execute_result"
    }
   ],
   "source": [
    "title_series_info.head()"
   ]
  },
  {
   "cell_type": "code",
   "execution_count": 37,
   "id": "4216ef38",
   "metadata": {},
   "outputs": [],
   "source": [
    "data = title_hours_viewed[['title_name', 'title_id', 'season_number', 'days_on_hbo_max', 'cumulative_hours_viewed', 'average_hours_viewed']].merge(\n",
    "       title_series_info, on = ['title_id', 'season_number'])\n",
    "data = data[data['days_on_hbo_max'] == 60]\n",
    "data['hvr'] = data['cumulative_hours_viewed']/data['asset_run_time_hours']\n",
    "data['ahvr'] = data['average_hours_viewed']/data['asset_run_time_hours']"
   ]
  },
  {
   "cell_type": "code",
   "execution_count": 39,
   "id": "7a947c07",
   "metadata": {},
   "outputs": [],
   "source": [
    "data = data.merge(content_cost[['title_id', 'season_number', 'content_cost']], on = ['title_id', 'season_number'], how = 'left')"
   ]
  },
  {
   "cell_type": "code",
   "execution_count": 40,
   "id": "2d2f10d2",
   "metadata": {},
   "outputs": [
    {
     "data": {
      "text/plain": [
       "asset_run_time_hours       0.00\n",
       "content_category           0.00\n",
       "program_type               0.00\n",
       "air_date                   0.00\n",
       "episode_number_in_season   0.70\n",
       "content_cost               0.46\n",
       "medal                      0.00\n",
       "pillar_genre               0.04\n",
       "is_pay_1                   0.00\n",
       "is_popcorn                 0.00\n",
       "budget                     0.61\n",
       "dtype: float64"
      ]
     },
     "execution_count": 40,
     "metadata": {},
     "output_type": "execute_result"
    }
   ],
   "source": [
    "data[['asset_run_time_hours', 'content_category', 'program_type', 'air_date', 'episode_number_in_season', 'content_cost',\n",
    "                   'medal', 'pillar_genre', 'is_pay_1', 'is_popcorn', 'budget']]\\\n",
    ".isnull().sum()/len(data)"
   ]
  },
  {
   "cell_type": "code",
   "execution_count": 41,
   "id": "22960615",
   "metadata": {},
   "outputs": [],
   "source": [
    "data.to_csv('validation_data.csv')"
   ]
  },
  {
   "cell_type": "code",
   "execution_count": 43,
   "id": "ada44ab4",
   "metadata": {},
   "outputs": [
    {
     "data": {
      "text/html": [
       "<div>\n",
       "<style scoped>\n",
       "    .dataframe tbody tr th:only-of-type {\n",
       "        vertical-align: middle;\n",
       "    }\n",
       "\n",
       "    .dataframe tbody tr th {\n",
       "        vertical-align: top;\n",
       "    }\n",
       "\n",
       "    .dataframe thead th {\n",
       "        text-align: right;\n",
       "    }\n",
       "</style>\n",
       "<table border=\"1\" class=\"dataframe\">\n",
       "  <thead>\n",
       "    <tr style=\"text-align: right;\">\n",
       "      <th></th>\n",
       "      <th>title_name</th>\n",
       "      <th>title_id</th>\n",
       "      <th>season_number</th>\n",
       "      <th>days_on_hbo_max</th>\n",
       "      <th>cumulative_hours_viewed</th>\n",
       "      <th>average_hours_viewed</th>\n",
       "      <th>offering_start_date</th>\n",
       "      <th>asset_run_time_hours</th>\n",
       "      <th>content_category</th>\n",
       "      <th>program_type</th>\n",
       "      <th>air_date</th>\n",
       "      <th>medal</th>\n",
       "      <th>episode_number_in_season</th>\n",
       "      <th>pillar_genre</th>\n",
       "      <th>is_pay_1</th>\n",
       "      <th>is_popcorn</th>\n",
       "      <th>budget</th>\n",
       "      <th>content_category_livesports</th>\n",
       "      <th>content_category_movies</th>\n",
       "      <th>content_category_series</th>\n",
       "      <th>content_category_special</th>\n",
       "      <th>program_type_acquired</th>\n",
       "      <th>program_type_original</th>\n",
       "      <th>genre_Action/Adventure</th>\n",
       "      <th>genre_Adult Animation</th>\n",
       "      <th>genre_Classics</th>\n",
       "      <th>genre_Comedy</th>\n",
       "      <th>genre_Documentary</th>\n",
       "      <th>genre_Drama</th>\n",
       "      <th>genre_Horror</th>\n",
       "      <th>genre_Kids/Family</th>\n",
       "      <th>genre_Music</th>\n",
       "      <th>genre_Other</th>\n",
       "      <th>genre_Romance</th>\n",
       "      <th>genre_Sci-Fi</th>\n",
       "      <th>genre_Suspense/Thriller</th>\n",
       "      <th>genre_Unscripted</th>\n",
       "      <th>medal_number</th>\n",
       "      <th>is_new_content</th>\n",
       "      <th>age_of_content</th>\n",
       "      <th>hvr</th>\n",
       "      <th>ahvr</th>\n",
       "      <th>content_cost</th>\n",
       "    </tr>\n",
       "  </thead>\n",
       "  <tbody>\n",
       "    <tr>\n",
       "      <th>0</th>\n",
       "      <td>VICE Special Report: Killing Cancer</td>\n",
       "      <td>GV-54_wnG7qbCwwEAAAAY</td>\n",
       "      <td>0</td>\n",
       "      <td>60</td>\n",
       "      <td>23.94</td>\n",
       "      <td>0.00</td>\n",
       "      <td>2020-05-27</td>\n",
       "      <td>0.64</td>\n",
       "      <td>movies</td>\n",
       "      <td>acquired</td>\n",
       "      <td>2015-01-01</td>\n",
       "      <td>None</td>\n",
       "      <td>nan</td>\n",
       "      <td>Documentary</td>\n",
       "      <td>0</td>\n",
       "      <td>0</td>\n",
       "      <td>nan</td>\n",
       "      <td>0</td>\n",
       "      <td>1</td>\n",
       "      <td>0</td>\n",
       "      <td>0</td>\n",
       "      <td>1</td>\n",
       "      <td>0</td>\n",
       "      <td>0</td>\n",
       "      <td>0</td>\n",
       "      <td>0</td>\n",
       "      <td>0</td>\n",
       "      <td>1</td>\n",
       "      <td>0</td>\n",
       "      <td>0</td>\n",
       "      <td>0</td>\n",
       "      <td>0</td>\n",
       "      <td>0</td>\n",
       "      <td>0</td>\n",
       "      <td>0</td>\n",
       "      <td>0</td>\n",
       "      <td>0</td>\n",
       "      <td>nan</td>\n",
       "      <td>0</td>\n",
       "      <td>5.40</td>\n",
       "      <td>37.40</td>\n",
       "      <td>0.00</td>\n",
       "      <td>nan</td>\n",
       "    </tr>\n",
       "    <tr>\n",
       "      <th>1</th>\n",
       "      <td>VICE Special Report: Countdown to Zero</td>\n",
       "      <td>GV-55HghKlqbCwwEAAAAb</td>\n",
       "      <td>0</td>\n",
       "      <td>60</td>\n",
       "      <td>11.88</td>\n",
       "      <td>0.00</td>\n",
       "      <td>2020-05-27</td>\n",
       "      <td>0.81</td>\n",
       "      <td>movies</td>\n",
       "      <td>acquired</td>\n",
       "      <td>2015-01-01</td>\n",
       "      <td>None</td>\n",
       "      <td>nan</td>\n",
       "      <td>Documentary</td>\n",
       "      <td>0</td>\n",
       "      <td>0</td>\n",
       "      <td>nan</td>\n",
       "      <td>0</td>\n",
       "      <td>1</td>\n",
       "      <td>0</td>\n",
       "      <td>0</td>\n",
       "      <td>1</td>\n",
       "      <td>0</td>\n",
       "      <td>0</td>\n",
       "      <td>0</td>\n",
       "      <td>0</td>\n",
       "      <td>0</td>\n",
       "      <td>1</td>\n",
       "      <td>0</td>\n",
       "      <td>0</td>\n",
       "      <td>0</td>\n",
       "      <td>0</td>\n",
       "      <td>0</td>\n",
       "      <td>0</td>\n",
       "      <td>0</td>\n",
       "      <td>0</td>\n",
       "      <td>0</td>\n",
       "      <td>nan</td>\n",
       "      <td>0</td>\n",
       "      <td>5.40</td>\n",
       "      <td>14.68</td>\n",
       "      <td>0.00</td>\n",
       "      <td>nan</td>\n",
       "    </tr>\n",
       "    <tr>\n",
       "      <th>2</th>\n",
       "      <td>VICE Special Report: Fixing the System</td>\n",
       "      <td>GV-55Hwvj4IaDwwEAAAAY</td>\n",
       "      <td>0</td>\n",
       "      <td>60</td>\n",
       "      <td>65.80</td>\n",
       "      <td>0.00</td>\n",
       "      <td>2020-05-27</td>\n",
       "      <td>1.11</td>\n",
       "      <td>movies</td>\n",
       "      <td>acquired</td>\n",
       "      <td>2015-01-01</td>\n",
       "      <td>None</td>\n",
       "      <td>nan</td>\n",
       "      <td>Documentary</td>\n",
       "      <td>0</td>\n",
       "      <td>0</td>\n",
       "      <td>nan</td>\n",
       "      <td>0</td>\n",
       "      <td>1</td>\n",
       "      <td>0</td>\n",
       "      <td>0</td>\n",
       "      <td>1</td>\n",
       "      <td>0</td>\n",
       "      <td>0</td>\n",
       "      <td>0</td>\n",
       "      <td>0</td>\n",
       "      <td>0</td>\n",
       "      <td>1</td>\n",
       "      <td>0</td>\n",
       "      <td>0</td>\n",
       "      <td>0</td>\n",
       "      <td>0</td>\n",
       "      <td>0</td>\n",
       "      <td>0</td>\n",
       "      <td>0</td>\n",
       "      <td>0</td>\n",
       "      <td>0</td>\n",
       "      <td>nan</td>\n",
       "      <td>0</td>\n",
       "      <td>5.40</td>\n",
       "      <td>59.38</td>\n",
       "      <td>0.00</td>\n",
       "      <td>nan</td>\n",
       "    </tr>\n",
       "    <tr>\n",
       "      <th>3</th>\n",
       "      <td>VICE Special Report: Fighting ISIS</td>\n",
       "      <td>GV-55JASHjruwgwEAAAAU</td>\n",
       "      <td>0</td>\n",
       "      <td>60</td>\n",
       "      <td>80.67</td>\n",
       "      <td>0.00</td>\n",
       "      <td>2020-05-27</td>\n",
       "      <td>0.79</td>\n",
       "      <td>movies</td>\n",
       "      <td>original</td>\n",
       "      <td>2016-01-31</td>\n",
       "      <td>None</td>\n",
       "      <td>nan</td>\n",
       "      <td>Documentary</td>\n",
       "      <td>0</td>\n",
       "      <td>0</td>\n",
       "      <td>nan</td>\n",
       "      <td>0</td>\n",
       "      <td>1</td>\n",
       "      <td>0</td>\n",
       "      <td>0</td>\n",
       "      <td>0</td>\n",
       "      <td>1</td>\n",
       "      <td>0</td>\n",
       "      <td>0</td>\n",
       "      <td>0</td>\n",
       "      <td>0</td>\n",
       "      <td>1</td>\n",
       "      <td>0</td>\n",
       "      <td>0</td>\n",
       "      <td>0</td>\n",
       "      <td>0</td>\n",
       "      <td>0</td>\n",
       "      <td>0</td>\n",
       "      <td>0</td>\n",
       "      <td>0</td>\n",
       "      <td>0</td>\n",
       "      <td>nan</td>\n",
       "      <td>0</td>\n",
       "      <td>4.32</td>\n",
       "      <td>102.58</td>\n",
       "      <td>0.00</td>\n",
       "      <td>nan</td>\n",
       "    </tr>\n",
       "    <tr>\n",
       "      <th>4</th>\n",
       "      <td>Heartbreakers</td>\n",
       "      <td>GV-BGJA11hsLDwwEAAAAZ</td>\n",
       "      <td>0</td>\n",
       "      <td>60</td>\n",
       "      <td>3,961.83</td>\n",
       "      <td>0.00</td>\n",
       "      <td>2020-09-01</td>\n",
       "      <td>2.06</td>\n",
       "      <td>movies</td>\n",
       "      <td>acquired</td>\n",
       "      <td>2001-03-23</td>\n",
       "      <td>None</td>\n",
       "      <td>nan</td>\n",
       "      <td>Comedy</td>\n",
       "      <td>0</td>\n",
       "      <td>0</td>\n",
       "      <td>35,000,000.00</td>\n",
       "      <td>0</td>\n",
       "      <td>1</td>\n",
       "      <td>0</td>\n",
       "      <td>0</td>\n",
       "      <td>1</td>\n",
       "      <td>0</td>\n",
       "      <td>0</td>\n",
       "      <td>0</td>\n",
       "      <td>0</td>\n",
       "      <td>1</td>\n",
       "      <td>0</td>\n",
       "      <td>0</td>\n",
       "      <td>0</td>\n",
       "      <td>0</td>\n",
       "      <td>0</td>\n",
       "      <td>0</td>\n",
       "      <td>0</td>\n",
       "      <td>0</td>\n",
       "      <td>0</td>\n",
       "      <td>0</td>\n",
       "      <td>nan</td>\n",
       "      <td>0</td>\n",
       "      <td>19.44</td>\n",
       "      <td>1,925.30</td>\n",
       "      <td>0.00</td>\n",
       "      <td>259,000.00</td>\n",
       "    </tr>\n",
       "  </tbody>\n",
       "</table>\n",
       "</div>"
      ],
      "text/plain": [
       "                               title_name               title_id  \\\n",
       "0     VICE Special Report: Killing Cancer  GV-54_wnG7qbCwwEAAAAY   \n",
       "1  VICE Special Report: Countdown to Zero  GV-55HghKlqbCwwEAAAAb   \n",
       "2  VICE Special Report: Fixing the System  GV-55Hwvj4IaDwwEAAAAY   \n",
       "3      VICE Special Report: Fighting ISIS  GV-55JASHjruwgwEAAAAU   \n",
       "4                           Heartbreakers  GV-BGJA11hsLDwwEAAAAZ   \n",
       "\n",
       "   season_number  days_on_hbo_max  cumulative_hours_viewed  \\\n",
       "0              0               60                    23.94   \n",
       "1              0               60                    11.88   \n",
       "2              0               60                    65.80   \n",
       "3              0               60                    80.67   \n",
       "4              0               60                 3,961.83   \n",
       "\n",
       "   average_hours_viewed offering_start_date  asset_run_time_hours  \\\n",
       "0                  0.00          2020-05-27                  0.64   \n",
       "1                  0.00          2020-05-27                  0.81   \n",
       "2                  0.00          2020-05-27                  1.11   \n",
       "3                  0.00          2020-05-27                  0.79   \n",
       "4                  0.00          2020-09-01                  2.06   \n",
       "\n",
       "  content_category program_type    air_date medal  episode_number_in_season  \\\n",
       "0           movies     acquired  2015-01-01  None                       nan   \n",
       "1           movies     acquired  2015-01-01  None                       nan   \n",
       "2           movies     acquired  2015-01-01  None                       nan   \n",
       "3           movies     original  2016-01-31  None                       nan   \n",
       "4           movies     acquired  2001-03-23  None                       nan   \n",
       "\n",
       "  pillar_genre  is_pay_1  is_popcorn        budget  \\\n",
       "0  Documentary         0           0           nan   \n",
       "1  Documentary         0           0           nan   \n",
       "2  Documentary         0           0           nan   \n",
       "3  Documentary         0           0           nan   \n",
       "4       Comedy         0           0 35,000,000.00   \n",
       "\n",
       "   content_category_livesports  content_category_movies  \\\n",
       "0                            0                        1   \n",
       "1                            0                        1   \n",
       "2                            0                        1   \n",
       "3                            0                        1   \n",
       "4                            0                        1   \n",
       "\n",
       "   content_category_series  content_category_special  program_type_acquired  \\\n",
       "0                        0                         0                      1   \n",
       "1                        0                         0                      1   \n",
       "2                        0                         0                      1   \n",
       "3                        0                         0                      0   \n",
       "4                        0                         0                      1   \n",
       "\n",
       "   program_type_original  genre_Action/Adventure   genre_Adult Animation  \\\n",
       "0                      0                        0                      0   \n",
       "1                      0                        0                      0   \n",
       "2                      0                        0                      0   \n",
       "3                      1                        0                      0   \n",
       "4                      0                        0                      0   \n",
       "\n",
       "   genre_Classics  genre_Comedy  genre_Documentary  genre_Drama  \\\n",
       "0               0             0                  1            0   \n",
       "1               0             0                  1            0   \n",
       "2               0             0                  1            0   \n",
       "3               0             0                  1            0   \n",
       "4               0             1                  0            0   \n",
       "\n",
       "   genre_Horror   genre_Kids/Family  genre_Music  genre_Other  genre_Romance  \\\n",
       "0              0                  0            0            0              0   \n",
       "1              0                  0            0            0              0   \n",
       "2              0                  0            0            0              0   \n",
       "3              0                  0            0            0              0   \n",
       "4              0                  0            0            0              0   \n",
       "\n",
       "   genre_Sci-Fi  genre_Suspense/Thriller  genre_Unscripted  medal_number  \\\n",
       "0             0                        0                 0           nan   \n",
       "1             0                        0                 0           nan   \n",
       "2             0                        0                 0           nan   \n",
       "3             0                        0                 0           nan   \n",
       "4             0                        0                 0           nan   \n",
       "\n",
       "   is_new_content  age_of_content      hvr  ahvr  content_cost  \n",
       "0               0            5.40    37.40  0.00           nan  \n",
       "1               0            5.40    14.68  0.00           nan  \n",
       "2               0            5.40    59.38  0.00           nan  \n",
       "3               0            4.32   102.58  0.00           nan  \n",
       "4               0           19.44 1,925.30  0.00    259,000.00  "
      ]
     },
     "execution_count": 43,
     "metadata": {},
     "output_type": "execute_result"
    }
   ],
   "source": [
    "data.head()"
   ]
  },
  {
   "cell_type": "markdown",
   "id": "3e151e1f",
   "metadata": {},
   "source": [
    "# CORRELATION"
   ]
  },
  {
   "cell_type": "markdown",
   "id": "fe6ee148",
   "metadata": {},
   "source": [
    "## 1. HVR"
   ]
  },
  {
   "cell_type": "code",
   "execution_count": 35,
   "id": "be0c6f3d",
   "metadata": {},
   "outputs": [],
   "source": [
    "import matplotlib.pyplot as plt \n",
    "import seaborn as sns"
   ]
  },
  {
   "cell_type": "code",
   "execution_count": 36,
   "id": "d913a636",
   "metadata": {},
   "outputs": [],
   "source": [
    "META_COLS = ['title_name', 'title_id', 'season_number', 'offering_start_date', 'asset_run_time_hours']\n",
    "FEATURE_COLS = ['is_pay_1', 'is_popcorn', 'is_new_content', 'medal_number', 'age_of_content', 'episode_number_in_season', 'content_cost',\n",
    "               'budget', 'content_category_livesports', 'content_category_movies',\n",
    "               'content_category_series', 'content_category_special',\n",
    "               'program_type_acquired', 'program_type_original',\n",
    "               'genre_Action/Adventure ', 'genre_Adult Animation', 'genre_Classics',\n",
    "               'genre_Comedy', 'genre_Documentary', 'genre_Drama', 'genre_Horror ',\n",
    "               'genre_Kids/Family', 'genre_Music', 'genre_Other', 'genre_Romance',\n",
    "               'genre_Sci-Fi', 'genre_Suspense/Thriller', 'genre_Unscripted',\n",
    "               ]"
   ]
  },
  {
   "cell_type": "code",
   "execution_count": 37,
   "id": "08aa9bc6",
   "metadata": {},
   "outputs": [],
   "source": [
    "TARGET_COL = ['hvr'] #cumulative_hours_viewed"
   ]
  },
  {
   "cell_type": "code",
   "execution_count": 109,
   "id": "9b3428d9",
   "metadata": {
    "collapsed": true,
    "jupyter": {
     "outputs_hidden": true
    }
   },
   "outputs": [
    {
     "data": {
      "text/html": [
       "<div>\n",
       "<style scoped>\n",
       "    .dataframe tbody tr th:only-of-type {\n",
       "        vertical-align: middle;\n",
       "    }\n",
       "\n",
       "    .dataframe tbody tr th {\n",
       "        vertical-align: top;\n",
       "    }\n",
       "\n",
       "    .dataframe thead th {\n",
       "        text-align: right;\n",
       "    }\n",
       "</style>\n",
       "<table border=\"1\" class=\"dataframe\">\n",
       "  <thead>\n",
       "    <tr style=\"text-align: right;\">\n",
       "      <th></th>\n",
       "      <th>hvr</th>\n",
       "    </tr>\n",
       "  </thead>\n",
       "  <tbody>\n",
       "    <tr>\n",
       "      <th>dummy_value</th>\n",
       "      <td>-1.00</td>\n",
       "    </tr>\n",
       "    <tr>\n",
       "      <th>medal_number</th>\n",
       "      <td>-0.52</td>\n",
       "    </tr>\n",
       "    <tr>\n",
       "      <th>age_of_content</th>\n",
       "      <td>-0.09</td>\n",
       "    </tr>\n",
       "    <tr>\n",
       "      <th>genre_Classics</th>\n",
       "      <td>-0.04</td>\n",
       "    </tr>\n",
       "    <tr>\n",
       "      <th>genre_Documentary</th>\n",
       "      <td>-0.03</td>\n",
       "    </tr>\n",
       "    <tr>\n",
       "      <th>episode_number_in_season</th>\n",
       "      <td>-0.03</td>\n",
       "    </tr>\n",
       "    <tr>\n",
       "      <th>program_type_acquired</th>\n",
       "      <td>-0.03</td>\n",
       "    </tr>\n",
       "    <tr>\n",
       "      <th>genre_Unscripted</th>\n",
       "      <td>-0.02</td>\n",
       "    </tr>\n",
       "    <tr>\n",
       "      <th>genre_Comedy</th>\n",
       "      <td>-0.01</td>\n",
       "    </tr>\n",
       "    <tr>\n",
       "      <th>content_category_series</th>\n",
       "      <td>-0.01</td>\n",
       "    </tr>\n",
       "    <tr>\n",
       "      <th>genre_Romance</th>\n",
       "      <td>-0.01</td>\n",
       "    </tr>\n",
       "    <tr>\n",
       "      <th>genre_Kids/Family</th>\n",
       "      <td>-0.01</td>\n",
       "    </tr>\n",
       "    <tr>\n",
       "      <th>genre_Music</th>\n",
       "      <td>-0.01</td>\n",
       "    </tr>\n",
       "    <tr>\n",
       "      <th>genre_Adult Animation</th>\n",
       "      <td>-0.01</td>\n",
       "    </tr>\n",
       "    <tr>\n",
       "      <th>genre_Sci-Fi</th>\n",
       "      <td>-0.00</td>\n",
       "    </tr>\n",
       "    <tr>\n",
       "      <th>genre_Suspense/Thriller</th>\n",
       "      <td>-0.00</td>\n",
       "    </tr>\n",
       "    <tr>\n",
       "      <th>content_category_livesports</th>\n",
       "      <td>-0.00</td>\n",
       "    </tr>\n",
       "    <tr>\n",
       "      <th>content_category_movies</th>\n",
       "      <td>0.00</td>\n",
       "    </tr>\n",
       "    <tr>\n",
       "      <th>genre_Horror</th>\n",
       "      <td>0.01</td>\n",
       "    </tr>\n",
       "    <tr>\n",
       "      <th>genre_Drama</th>\n",
       "      <td>0.01</td>\n",
       "    </tr>\n",
       "    <tr>\n",
       "      <th>content_category_special</th>\n",
       "      <td>0.02</td>\n",
       "    </tr>\n",
       "    <tr>\n",
       "      <th>genre_Other</th>\n",
       "      <td>0.03</td>\n",
       "    </tr>\n",
       "    <tr>\n",
       "      <th>program_type_original</th>\n",
       "      <td>0.03</td>\n",
       "    </tr>\n",
       "    <tr>\n",
       "      <th>genre_Action/Adventure</th>\n",
       "      <td>0.10</td>\n",
       "    </tr>\n",
       "    <tr>\n",
       "      <th>is_new_content</th>\n",
       "      <td>0.14</td>\n",
       "    </tr>\n",
       "    <tr>\n",
       "      <th>content_cost</th>\n",
       "      <td>0.18</td>\n",
       "    </tr>\n",
       "    <tr>\n",
       "      <th>is_pay_1</th>\n",
       "      <td>0.23</td>\n",
       "    </tr>\n",
       "    <tr>\n",
       "      <th>is_popcorn</th>\n",
       "      <td>0.25</td>\n",
       "    </tr>\n",
       "    <tr>\n",
       "      <th>budget</th>\n",
       "      <td>0.25</td>\n",
       "    </tr>\n",
       "    <tr>\n",
       "      <th>hvr</th>\n",
       "      <td>1.00</td>\n",
       "    </tr>\n",
       "  </tbody>\n",
       "</table>\n",
       "</div>"
      ],
      "text/plain": [
       "                              hvr\n",
       "dummy_value                 -1.00\n",
       "medal_number                -0.52\n",
       "age_of_content              -0.09\n",
       "genre_Classics              -0.04\n",
       "genre_Documentary           -0.03\n",
       "episode_number_in_season    -0.03\n",
       "program_type_acquired       -0.03\n",
       "genre_Unscripted            -0.02\n",
       "genre_Comedy                -0.01\n",
       "content_category_series     -0.01\n",
       "genre_Romance               -0.01\n",
       "genre_Kids/Family           -0.01\n",
       "genre_Music                 -0.01\n",
       "genre_Adult Animation       -0.01\n",
       "genre_Sci-Fi                -0.00\n",
       "genre_Suspense/Thriller     -0.00\n",
       "content_category_livesports -0.00\n",
       "content_category_movies      0.00\n",
       "genre_Horror                 0.01\n",
       "genre_Drama                  0.01\n",
       "content_category_special     0.02\n",
       "genre_Other                  0.03\n",
       "program_type_original        0.03\n",
       "genre_Action/Adventure       0.10\n",
       "is_new_content               0.14\n",
       "content_cost                 0.18\n",
       "is_pay_1                     0.23\n",
       "is_popcorn                   0.25\n",
       "budget                       0.25\n",
       "hvr                          1.00"
      ]
     },
     "execution_count": 109,
     "metadata": {},
     "output_type": "execute_result"
    }
   ],
   "source": [
    "plot_data=data[FEATURE_COLS+TARGET_COL]\n",
    "corr = plot_data.corr()[TARGET_COL]\n",
    "mask=np.zeros_like(corr, dtype=np.bool)\n",
    "corr.loc['dummy_value'] = -1\n",
    "corr.sort_values(by = TARGET_COL)"
   ]
  },
  {
   "cell_type": "code",
   "execution_count": 110,
   "id": "cdcd5801",
   "metadata": {},
   "outputs": [
    {
     "data": {
      "text/plain": [
       "<AxesSubplot:>"
      ]
     },
     "execution_count": 110,
     "metadata": {},
     "output_type": "execute_result"
    },
    {
     "data": {
      "image/png": "[encoded data removed]",
      "text/plain": [
       "<Figure size 720x576 with 2 Axes>"
      ]
     },
     "metadata": {
      "needs_background": "light"
     },
     "output_type": "display_data"
    }
   ],
   "source": [
    "f, ax = plt.subplots(figsize=(10, 8))\n",
    "sns.heatmap(corr, mask=np.zeros_like(corr, dtype=np.bool), cmap=sns.diverging_palette(220, 10, as_cmap=True),\n",
    "            square=True, ax=ax)"
   ]
  },
  {
   "cell_type": "markdown",
   "id": "33b6cf2f",
   "metadata": {},
   "source": [
    "## 2. Log HVR"
   ]
  },
  {
   "cell_type": "code",
   "execution_count": 111,
   "id": "85cace41",
   "metadata": {},
   "outputs": [],
   "source": [
    "data['log_hvr'] = np.log2(data['hvr'])"
   ]
  },
  {
   "cell_type": "code",
   "execution_count": 112,
   "id": "db218daa",
   "metadata": {},
   "outputs": [],
   "source": [
    "TARGET_COL = ['log_hvr'] #cumulative_hours_viewed"
   ]
  },
  {
   "cell_type": "code",
   "execution_count": 113,
   "id": "d73d92aa",
   "metadata": {
    "collapsed": true,
    "jupyter": {
     "outputs_hidden": true
    }
   },
   "outputs": [
    {
     "data": {
      "text/html": [
       "<div>\n",
       "<style scoped>\n",
       "    .dataframe tbody tr th:only-of-type {\n",
       "        vertical-align: middle;\n",
       "    }\n",
       "\n",
       "    .dataframe tbody tr th {\n",
       "        vertical-align: top;\n",
       "    }\n",
       "\n",
       "    .dataframe thead th {\n",
       "        text-align: right;\n",
       "    }\n",
       "</style>\n",
       "<table border=\"1\" class=\"dataframe\">\n",
       "  <thead>\n",
       "    <tr style=\"text-align: right;\">\n",
       "      <th></th>\n",
       "      <th>log_hvr</th>\n",
       "    </tr>\n",
       "  </thead>\n",
       "  <tbody>\n",
       "    <tr>\n",
       "      <th>dummy_value</th>\n",
       "      <td>-1.00</td>\n",
       "    </tr>\n",
       "    <tr>\n",
       "      <th>medal_number</th>\n",
       "      <td>-0.64</td>\n",
       "    </tr>\n",
       "    <tr>\n",
       "      <th>genre_Classics</th>\n",
       "      <td>-0.25</td>\n",
       "    </tr>\n",
       "    <tr>\n",
       "      <th>age_of_content</th>\n",
       "      <td>-0.22</td>\n",
       "    </tr>\n",
       "    <tr>\n",
       "      <th>genre_Documentary</th>\n",
       "      <td>-0.13</td>\n",
       "    </tr>\n",
       "    <tr>\n",
       "      <th>content_category_series</th>\n",
       "      <td>-0.09</td>\n",
       "    </tr>\n",
       "    <tr>\n",
       "      <th>episode_number_in_season</th>\n",
       "      <td>-0.09</td>\n",
       "    </tr>\n",
       "    <tr>\n",
       "      <th>program_type_original</th>\n",
       "      <td>-0.08</td>\n",
       "    </tr>\n",
       "    <tr>\n",
       "      <th>genre_Unscripted</th>\n",
       "      <td>-0.08</td>\n",
       "    </tr>\n",
       "    <tr>\n",
       "      <th>content_category_special</th>\n",
       "      <td>-0.07</td>\n",
       "    </tr>\n",
       "    <tr>\n",
       "      <th>genre_Kids/Family</th>\n",
       "      <td>-0.06</td>\n",
       "    </tr>\n",
       "    <tr>\n",
       "      <th>genre_Music</th>\n",
       "      <td>-0.02</td>\n",
       "    </tr>\n",
       "    <tr>\n",
       "      <th>genre_Adult Animation</th>\n",
       "      <td>-0.00</td>\n",
       "    </tr>\n",
       "    <tr>\n",
       "      <th>content_category_livesports</th>\n",
       "      <td>0.00</td>\n",
       "    </tr>\n",
       "    <tr>\n",
       "      <th>genre_Other</th>\n",
       "      <td>0.01</td>\n",
       "    </tr>\n",
       "    <tr>\n",
       "      <th>genre_Romance</th>\n",
       "      <td>0.02</td>\n",
       "    </tr>\n",
       "    <tr>\n",
       "      <th>genre_Suspense/Thriller</th>\n",
       "      <td>0.04</td>\n",
       "    </tr>\n",
       "    <tr>\n",
       "      <th>genre_Drama</th>\n",
       "      <td>0.05</td>\n",
       "    </tr>\n",
       "    <tr>\n",
       "      <th>genre_Sci-Fi</th>\n",
       "      <td>0.05</td>\n",
       "    </tr>\n",
       "    <tr>\n",
       "      <th>program_type_acquired</th>\n",
       "      <td>0.09</td>\n",
       "    </tr>\n",
       "    <tr>\n",
       "      <th>genre_Comedy</th>\n",
       "      <td>0.10</td>\n",
       "    </tr>\n",
       "    <tr>\n",
       "      <th>content_category_movies</th>\n",
       "      <td>0.12</td>\n",
       "    </tr>\n",
       "    <tr>\n",
       "      <th>is_popcorn</th>\n",
       "      <td>0.12</td>\n",
       "    </tr>\n",
       "    <tr>\n",
       "      <th>genre_Horror</th>\n",
       "      <td>0.13</td>\n",
       "    </tr>\n",
       "    <tr>\n",
       "      <th>is_new_content</th>\n",
       "      <td>0.15</td>\n",
       "    </tr>\n",
       "    <tr>\n",
       "      <th>content_cost</th>\n",
       "      <td>0.21</td>\n",
       "    </tr>\n",
       "    <tr>\n",
       "      <th>is_pay_1</th>\n",
       "      <td>0.23</td>\n",
       "    </tr>\n",
       "    <tr>\n",
       "      <th>genre_Action/Adventure</th>\n",
       "      <td>0.24</td>\n",
       "    </tr>\n",
       "    <tr>\n",
       "      <th>budget</th>\n",
       "      <td>0.46</td>\n",
       "    </tr>\n",
       "    <tr>\n",
       "      <th>log_hvr</th>\n",
       "      <td>1.00</td>\n",
       "    </tr>\n",
       "  </tbody>\n",
       "</table>\n",
       "</div>"
      ],
      "text/plain": [
       "                             log_hvr\n",
       "dummy_value                    -1.00\n",
       "medal_number                   -0.64\n",
       "genre_Classics                 -0.25\n",
       "age_of_content                 -0.22\n",
       "genre_Documentary              -0.13\n",
       "content_category_series        -0.09\n",
       "episode_number_in_season       -0.09\n",
       "program_type_original          -0.08\n",
       "genre_Unscripted               -0.08\n",
       "content_category_special       -0.07\n",
       "genre_Kids/Family              -0.06\n",
       "genre_Music                    -0.02\n",
       "genre_Adult Animation          -0.00\n",
       "content_category_livesports     0.00\n",
       "genre_Other                     0.01\n",
       "genre_Romance                   0.02\n",
       "genre_Suspense/Thriller         0.04\n",
       "genre_Drama                     0.05\n",
       "genre_Sci-Fi                    0.05\n",
       "program_type_acquired           0.09\n",
       "genre_Comedy                    0.10\n",
       "content_category_movies         0.12\n",
       "is_popcorn                      0.12\n",
       "genre_Horror                    0.13\n",
       "is_new_content                  0.15\n",
       "content_cost                    0.21\n",
       "is_pay_1                        0.23\n",
       "genre_Action/Adventure          0.24\n",
       "budget                          0.46\n",
       "log_hvr                         1.00"
      ]
     },
     "execution_count": 113,
     "metadata": {},
     "output_type": "execute_result"
    }
   ],
   "source": [
    "plot_data=data[FEATURE_COLS+TARGET_COL]\n",
    "corr = plot_data.corr()[TARGET_COL]\n",
    "mask=np.zeros_like(corr, dtype=np.bool)\n",
    "corr.loc['dummy_value'] = -1\n",
    "corr.sort_values(by = TARGET_COL)"
   ]
  },
  {
   "cell_type": "code",
   "execution_count": 114,
   "id": "119e7439",
   "metadata": {},
   "outputs": [
    {
     "data": {
      "text/plain": [
       "<AxesSubplot:>"
      ]
     },
     "execution_count": 114,
     "metadata": {},
     "output_type": "execute_result"
    },
    {
     "data": {
      "image/png": "[encoded data removed]",
      "text/plain": [
       "<Figure size 720x576 with 2 Axes>"
      ]
     },
     "metadata": {
      "needs_background": "light"
     },
     "output_type": "display_data"
    }
   ],
   "source": [
    "f, ax = plt.subplots(figsize=(10, 8))\n",
    "sns.heatmap(corr, mask=np.zeros_like(corr, dtype=np.bool), cmap=sns.diverging_palette(220, 10, as_cmap=True),\n",
    "            square=True, ax=ax)"
   ]
  },
  {
   "cell_type": "markdown",
   "id": "33df45fd",
   "metadata": {},
   "source": [
    "## 2. HV per Subsciber"
   ]
  },
  {
   "cell_type": "code",
   "execution_count": 115,
   "id": "64f0291c",
   "metadata": {},
   "outputs": [],
   "source": [
    "TARGET_COL = ['ahvr'] #cumulative_hours_viewed"
   ]
  },
  {
   "cell_type": "code",
   "execution_count": 116,
   "id": "63080e16",
   "metadata": {
    "collapsed": true,
    "jupyter": {
     "outputs_hidden": true
    }
   },
   "outputs": [
    {
     "data": {
      "text/html": [
       "<div>\n",
       "<style scoped>\n",
       "    .dataframe tbody tr th:only-of-type {\n",
       "        vertical-align: middle;\n",
       "    }\n",
       "\n",
       "    .dataframe tbody tr th {\n",
       "        vertical-align: top;\n",
       "    }\n",
       "\n",
       "    .dataframe thead th {\n",
       "        text-align: right;\n",
       "    }\n",
       "</style>\n",
       "<table border=\"1\" class=\"dataframe\">\n",
       "  <thead>\n",
       "    <tr style=\"text-align: right;\">\n",
       "      <th></th>\n",
       "      <th>ahvr</th>\n",
       "    </tr>\n",
       "  </thead>\n",
       "  <tbody>\n",
       "    <tr>\n",
       "      <th>dummy_value</th>\n",
       "      <td>-1.00</td>\n",
       "    </tr>\n",
       "    <tr>\n",
       "      <th>medal_number</th>\n",
       "      <td>-0.57</td>\n",
       "    </tr>\n",
       "    <tr>\n",
       "      <th>age_of_content</th>\n",
       "      <td>-0.11</td>\n",
       "    </tr>\n",
       "    <tr>\n",
       "      <th>genre_Classics</th>\n",
       "      <td>-0.07</td>\n",
       "    </tr>\n",
       "    <tr>\n",
       "      <th>genre_Documentary</th>\n",
       "      <td>-0.04</td>\n",
       "    </tr>\n",
       "    <tr>\n",
       "      <th>program_type_acquired</th>\n",
       "      <td>-0.04</td>\n",
       "    </tr>\n",
       "    <tr>\n",
       "      <th>genre_Unscripted</th>\n",
       "      <td>-0.03</td>\n",
       "    </tr>\n",
       "    <tr>\n",
       "      <th>episode_number_in_season</th>\n",
       "      <td>-0.02</td>\n",
       "    </tr>\n",
       "    <tr>\n",
       "      <th>genre_Music</th>\n",
       "      <td>-0.01</td>\n",
       "    </tr>\n",
       "    <tr>\n",
       "      <th>genre_Suspense/Thriller</th>\n",
       "      <td>-0.01</td>\n",
       "    </tr>\n",
       "    <tr>\n",
       "      <th>content_category_movies</th>\n",
       "      <td>-0.01</td>\n",
       "    </tr>\n",
       "    <tr>\n",
       "      <th>genre_Romance</th>\n",
       "      <td>-0.01</td>\n",
       "    </tr>\n",
       "    <tr>\n",
       "      <th>content_category_livesports</th>\n",
       "      <td>-0.00</td>\n",
       "    </tr>\n",
       "    <tr>\n",
       "      <th>genre_Comedy</th>\n",
       "      <td>0.00</td>\n",
       "    </tr>\n",
       "    <tr>\n",
       "      <th>genre_Kids/Family</th>\n",
       "      <td>0.00</td>\n",
       "    </tr>\n",
       "    <tr>\n",
       "      <th>genre_Drama</th>\n",
       "      <td>0.01</td>\n",
       "    </tr>\n",
       "    <tr>\n",
       "      <th>content_category_special</th>\n",
       "      <td>0.01</td>\n",
       "    </tr>\n",
       "    <tr>\n",
       "      <th>content_category_series</th>\n",
       "      <td>0.01</td>\n",
       "    </tr>\n",
       "    <tr>\n",
       "      <th>genre_Horror</th>\n",
       "      <td>0.01</td>\n",
       "    </tr>\n",
       "    <tr>\n",
       "      <th>genre_Sci-Fi</th>\n",
       "      <td>0.01</td>\n",
       "    </tr>\n",
       "    <tr>\n",
       "      <th>genre_Adult Animation</th>\n",
       "      <td>0.01</td>\n",
       "    </tr>\n",
       "    <tr>\n",
       "      <th>genre_Other</th>\n",
       "      <td>0.03</td>\n",
       "    </tr>\n",
       "    <tr>\n",
       "      <th>program_type_original</th>\n",
       "      <td>0.04</td>\n",
       "    </tr>\n",
       "    <tr>\n",
       "      <th>genre_Action/Adventure</th>\n",
       "      <td>0.11</td>\n",
       "    </tr>\n",
       "    <tr>\n",
       "      <th>is_new_content</th>\n",
       "      <td>0.15</td>\n",
       "    </tr>\n",
       "    <tr>\n",
       "      <th>content_cost</th>\n",
       "      <td>0.24</td>\n",
       "    </tr>\n",
       "    <tr>\n",
       "      <th>is_popcorn</th>\n",
       "      <td>0.25</td>\n",
       "    </tr>\n",
       "    <tr>\n",
       "      <th>is_pay_1</th>\n",
       "      <td>0.27</td>\n",
       "    </tr>\n",
       "    <tr>\n",
       "      <th>budget</th>\n",
       "      <td>0.33</td>\n",
       "    </tr>\n",
       "    <tr>\n",
       "      <th>ahvr</th>\n",
       "      <td>1.00</td>\n",
       "    </tr>\n",
       "  </tbody>\n",
       "</table>\n",
       "</div>"
      ],
      "text/plain": [
       "                             ahvr\n",
       "dummy_value                 -1.00\n",
       "medal_number                -0.57\n",
       "age_of_content              -0.11\n",
       "genre_Classics              -0.07\n",
       "genre_Documentary           -0.04\n",
       "program_type_acquired       -0.04\n",
       "genre_Unscripted            -0.03\n",
       "episode_number_in_season    -0.02\n",
       "genre_Music                 -0.01\n",
       "genre_Suspense/Thriller     -0.01\n",
       "content_category_movies     -0.01\n",
       "genre_Romance               -0.01\n",
       "content_category_livesports -0.00\n",
       "genre_Comedy                 0.00\n",
       "genre_Kids/Family            0.00\n",
       "genre_Drama                  0.01\n",
       "content_category_special     0.01\n",
       "content_category_series      0.01\n",
       "genre_Horror                 0.01\n",
       "genre_Sci-Fi                 0.01\n",
       "genre_Adult Animation        0.01\n",
       "genre_Other                  0.03\n",
       "program_type_original        0.04\n",
       "genre_Action/Adventure       0.11\n",
       "is_new_content               0.15\n",
       "content_cost                 0.24\n",
       "is_popcorn                   0.25\n",
       "is_pay_1                     0.27\n",
       "budget                       0.33\n",
       "ahvr                         1.00"
      ]
     },
     "execution_count": 116,
     "metadata": {},
     "output_type": "execute_result"
    }
   ],
   "source": [
    "plot_data=data[FEATURE_COLS+TARGET_COL]\n",
    "corr = plot_data.corr()[TARGET_COL]\n",
    "mask=np.zeros_like(corr, dtype=np.bool)\n",
    "corr.loc['dummy_value'] = -1\n",
    "corr.sort_values(by = TARGET_COL)"
   ]
  },
  {
   "cell_type": "code",
   "execution_count": 117,
   "id": "278c184a",
   "metadata": {},
   "outputs": [
    {
     "data": {
      "text/plain": [
       "<AxesSubplot:>"
      ]
     },
     "execution_count": 117,
     "metadata": {},
     "output_type": "execute_result"
    },
    {
     "data": {
      "image/png": "[encoded data removed]",
      "text/plain": [
       "<Figure size 720x576 with 2 Axes>"
      ]
     },
     "metadata": {
      "needs_background": "light"
     },
     "output_type": "display_data"
    }
   ],
   "source": [
    "f, ax = plt.subplots(figsize=(10, 8))\n",
    "sns.heatmap(corr, mask=np.zeros_like(corr, dtype=np.bool), cmap=sns.diverging_palette(220, 10, as_cmap=True),\n",
    "            square=True, ax=ax)"
   ]
  },
  {
   "cell_type": "markdown",
   "id": "be0b41ae",
   "metadata": {},
   "source": [
    "## Content Goups"
   ]
  },
  {
   "cell_type": "code",
   "execution_count": 71,
   "id": "f4329c68",
   "metadata": {},
   "outputs": [],
   "source": [
    "imdb_mapping = run_query(''' \n",
    "SELECT DISTINCT COALESCE(viewable_series_id, viewable_id) as title_id\n",
    ", COALESCE(imdb_series_id, imdb_id) as imdb_id\n",
    "FROM max_prod.ckg.ed_wm_wb_imdb_mapping map\n",
    "WHERE title_id is not null''')"
   ]
  },
  {
   "cell_type": "code",
   "execution_count": 72,
   "id": "62d15438",
   "metadata": {},
   "outputs": [],
   "source": [
    "content_groups = pd.read_csv('8_clusters_data.csv')"
   ]
  },
  {
   "cell_type": "code",
   "execution_count": 73,
   "id": "b6d67941",
   "metadata": {},
   "outputs": [],
   "source": [
    "content_groups = pd.merge(content_groups[['new_imdb_id', 'Dominant_Topic']],\n",
    "                         imdb_mapping, left_on = ['new_imdb_id'], right_on = ['imdb_id'])"
   ]
  },
  {
   "cell_type": "code",
   "execution_count": 74,
   "id": "ff6256f1",
   "metadata": {},
   "outputs": [],
   "source": [
    "data = data.merge(content_groups[['title_id', 'Dominant_Topic']], on = ['title_id'], how = 'left')"
   ]
  },
  {
   "cell_type": "code",
   "execution_count": 75,
   "id": "7b2c59bc",
   "metadata": {},
   "outputs": [
    {
     "data": {
      "text/plain": [
       "Dominant_Topic   0.29\n",
       "content_cost     0.47\n",
       "medal            0.00\n",
       "pillar_genre     0.05\n",
       "is_pay_1         0.00\n",
       "is_popcorn       0.00\n",
       "budget           0.62\n",
       "dtype: float64"
      ]
     },
     "execution_count": 75,
     "metadata": {},
     "output_type": "execute_result"
    }
   ],
   "source": [
    "data[['Dominant_Topic', 'content_cost','medal', 'pillar_genre', 'is_pay_1', 'is_popcorn', 'budget']]\\\n",
    ".isnull().sum()/len(data)"
   ]
  },
  {
   "cell_type": "code",
   "execution_count": 76,
   "id": "4b1dc04f",
   "metadata": {},
   "outputs": [],
   "source": [
    "# data['Dominant_Topic'] = data['Dominant_Topic'].astype(str)\n",
    "topic_onehot = pd.get_dummies(data['Dominant_Topic'], prefix='Dominant_Topic')\n",
    "data=pd.concat([data, topic_onehot], axis = 1)"
   ]
  },
  {
   "cell_type": "code",
   "execution_count": 77,
   "id": "5853408d",
   "metadata": {},
   "outputs": [
    {
     "data": {
      "text/plain": [
       "Index(['title_name', 'title_id', 'season_number', 'days_on_hbo_max',\n",
       "       'cumulative_hours_viewed', 'average_hours_viewed',\n",
       "       'offering_start_date', 'asset_run_time_hours', 'content_category',\n",
       "       'program_type', 'air_date', 'medal', 'episode_number_in_season',\n",
       "       'pillar_genre', 'is_pay_1', 'is_popcorn', 'budget',\n",
       "       'content_category_livesports', 'content_category_movies',\n",
       "       'content_category_series', 'content_category_special',\n",
       "       'program_type_acquired', 'program_type_original',\n",
       "       'genre_Action/Adventure ', 'genre_Adult Animation', 'genre_Classics',\n",
       "       'genre_Comedy', 'genre_Documentary', 'genre_Drama', 'genre_Horror ',\n",
       "       'genre_Kids/Family', 'genre_Music', 'genre_Other', 'genre_Romance',\n",
       "       'genre_Sci-Fi', 'genre_Suspense/Thriller', 'genre_Unscripted',\n",
       "       'medal_number', 'is_new_content', 'age_of_content', 'hvr', 'ahvr',\n",
       "       'content_cost', 'Dominant_Topic', 'Dominant_Topic_0.0',\n",
       "       'Dominant_Topic_1.0', 'Dominant_Topic_2.0', 'Dominant_Topic_3.0',\n",
       "       'Dominant_Topic_4.0', 'Dominant_Topic_5.0', 'Dominant_Topic_6.0',\n",
       "       'Dominant_Topic_7.0'],\n",
       "      dtype='object')"
      ]
     },
     "execution_count": 77,
     "metadata": {},
     "output_type": "execute_result"
    }
   ],
   "source": [
    "data.columns"
   ]
  },
  {
   "cell_type": "code",
   "execution_count": 103,
   "id": "cd7bdb12",
   "metadata": {},
   "outputs": [],
   "source": [
    "FEATURE_COLS = ['is_pay_1', 'is_popcorn', 'is_new_content', 'medal_number', 'age_of_content', 'episode_number_in_season', 'content_cost',\n",
    "               'budget', 'content_category_livesports', 'content_category_movies',\n",
    "               'content_category_series', 'content_category_special',\n",
    "               'program_type_acquired', 'program_type_original',\n",
    "               'genre_Action/Adventure ', 'genre_Adult Animation', 'genre_Classics',\n",
    "               'genre_Comedy', 'genre_Documentary', 'genre_Drama', 'genre_Horror ',\n",
    "               'genre_Kids/Family', 'genre_Music', 'genre_Other', 'genre_Romance',\n",
    "               'genre_Sci-Fi', 'genre_Suspense/Thriller', 'genre_Unscripted',\n",
    "                'Dominant_Topic', 'Dominant_Topic_0.0',\n",
    "               'Dominant_Topic_1.0', 'Dominant_Topic_2.0', 'Dominant_Topic_3.0',\n",
    "               'Dominant_Topic_4.0', 'Dominant_Topic_5.0', 'Dominant_Topic_6.0',\n",
    "               'Dominant_Topic_7.0'\n",
    "               ]"
   ]
  },
  {
   "cell_type": "code",
   "execution_count": 181,
   "id": "23dc67ed",
   "metadata": {},
   "outputs": [],
   "source": [
    "TARGET_COL = ['ahvr'] #cumulative_hours_viewed"
   ]
  },
  {
   "cell_type": "code",
   "execution_count": 184,
   "id": "9c199d1c",
   "metadata": {},
   "outputs": [],
   "source": [
    "plot_data['Dominant_Topic'] = plot_data['Dominant_Topic'].astype(float)"
   ]
  },
  {
   "cell_type": "code",
   "execution_count": 185,
   "id": "e09cc9d8",
   "metadata": {},
   "outputs": [
    {
     "data": {
      "text/html": [
       "<div>\n",
       "<style scoped>\n",
       "    .dataframe tbody tr th:only-of-type {\n",
       "        vertical-align: middle;\n",
       "    }\n",
       "\n",
       "    .dataframe tbody tr th {\n",
       "        vertical-align: top;\n",
       "    }\n",
       "\n",
       "    .dataframe thead th {\n",
       "        text-align: right;\n",
       "    }\n",
       "</style>\n",
       "<table border=\"1\" class=\"dataframe\">\n",
       "  <thead>\n",
       "    <tr style=\"text-align: right;\">\n",
       "      <th></th>\n",
       "      <th>ahvr</th>\n",
       "    </tr>\n",
       "  </thead>\n",
       "  <tbody>\n",
       "    <tr>\n",
       "      <th>dummy_value</th>\n",
       "      <td>-1.00</td>\n",
       "    </tr>\n",
       "    <tr>\n",
       "      <th>medal_number</th>\n",
       "      <td>-0.58</td>\n",
       "    </tr>\n",
       "    <tr>\n",
       "      <th>age_of_content</th>\n",
       "      <td>-0.11</td>\n",
       "    </tr>\n",
       "    <tr>\n",
       "      <th>genre_Classics</th>\n",
       "      <td>-0.07</td>\n",
       "    </tr>\n",
       "    <tr>\n",
       "      <th>genre_Documentary</th>\n",
       "      <td>-0.05</td>\n",
       "    </tr>\n",
       "    <tr>\n",
       "      <th>genre_Unscripted</th>\n",
       "      <td>-0.04</td>\n",
       "    </tr>\n",
       "    <tr>\n",
       "      <th>Dominant_Topic_6.0</th>\n",
       "      <td>-0.03</td>\n",
       "    </tr>\n",
       "    <tr>\n",
       "      <th>program_type_acquired</th>\n",
       "      <td>-0.03</td>\n",
       "    </tr>\n",
       "    <tr>\n",
       "      <th>episode_number_in_season</th>\n",
       "      <td>-0.03</td>\n",
       "    </tr>\n",
       "    <tr>\n",
       "      <th>Dominant_Topic_1.0</th>\n",
       "      <td>-0.02</td>\n",
       "    </tr>\n",
       "    <tr>\n",
       "      <th>Dominant_Topic_2.0</th>\n",
       "      <td>-0.02</td>\n",
       "    </tr>\n",
       "    <tr>\n",
       "      <th>Dominant_Topic_4.0</th>\n",
       "      <td>-0.01</td>\n",
       "    </tr>\n",
       "    <tr>\n",
       "      <th>genre_Music</th>\n",
       "      <td>-0.01</td>\n",
       "    </tr>\n",
       "    <tr>\n",
       "      <th>genre_Suspense/Thriller</th>\n",
       "      <td>-0.01</td>\n",
       "    </tr>\n",
       "    <tr>\n",
       "      <th>content_category_movies</th>\n",
       "      <td>-0.01</td>\n",
       "    </tr>\n",
       "    <tr>\n",
       "      <th>genre_Romance</th>\n",
       "      <td>-0.01</td>\n",
       "    </tr>\n",
       "    <tr>\n",
       "      <th>genre_Kids/Family</th>\n",
       "      <td>-0.01</td>\n",
       "    </tr>\n",
       "    <tr>\n",
       "      <th>Dominant_Topic_5.0</th>\n",
       "      <td>-0.00</td>\n",
       "    </tr>\n",
       "    <tr>\n",
       "      <th>content_category_livesports</th>\n",
       "      <td>-0.00</td>\n",
       "    </tr>\n",
       "    <tr>\n",
       "      <th>genre_Comedy</th>\n",
       "      <td>-0.00</td>\n",
       "    </tr>\n",
       "    <tr>\n",
       "      <th>genre_Drama</th>\n",
       "      <td>0.00</td>\n",
       "    </tr>\n",
       "    <tr>\n",
       "      <th>content_category_special</th>\n",
       "      <td>0.00</td>\n",
       "    </tr>\n",
       "    <tr>\n",
       "      <th>genre_Horror</th>\n",
       "      <td>0.01</td>\n",
       "    </tr>\n",
       "    <tr>\n",
       "      <th>content_category_series</th>\n",
       "      <td>0.01</td>\n",
       "    </tr>\n",
       "    <tr>\n",
       "      <th>genre_Sci-Fi</th>\n",
       "      <td>0.01</td>\n",
       "    </tr>\n",
       "    <tr>\n",
       "      <th>genre_Other</th>\n",
       "      <td>0.03</td>\n",
       "    </tr>\n",
       "    <tr>\n",
       "      <th>program_type_original</th>\n",
       "      <td>0.03</td>\n",
       "    </tr>\n",
       "    <tr>\n",
       "      <th>Dominant_Topic_3.0</th>\n",
       "      <td>0.03</td>\n",
       "    </tr>\n",
       "    <tr>\n",
       "      <th>Dominant_Topic_0.0</th>\n",
       "      <td>0.04</td>\n",
       "    </tr>\n",
       "    <tr>\n",
       "      <th>genre_Adult Animation</th>\n",
       "      <td>0.04</td>\n",
       "    </tr>\n",
       "    <tr>\n",
       "      <th>Dominant_Topic</th>\n",
       "      <td>0.04</td>\n",
       "    </tr>\n",
       "    <tr>\n",
       "      <th>genre_Action/Adventure</th>\n",
       "      <td>0.12</td>\n",
       "    </tr>\n",
       "    <tr>\n",
       "      <th>Dominant_Topic_7.0</th>\n",
       "      <td>0.12</td>\n",
       "    </tr>\n",
       "    <tr>\n",
       "      <th>is_new_content</th>\n",
       "      <td>0.15</td>\n",
       "    </tr>\n",
       "    <tr>\n",
       "      <th>content_cost</th>\n",
       "      <td>0.23</td>\n",
       "    </tr>\n",
       "    <tr>\n",
       "      <th>is_popcorn</th>\n",
       "      <td>0.24</td>\n",
       "    </tr>\n",
       "    <tr>\n",
       "      <th>is_pay_1</th>\n",
       "      <td>0.27</td>\n",
       "    </tr>\n",
       "    <tr>\n",
       "      <th>budget</th>\n",
       "      <td>0.34</td>\n",
       "    </tr>\n",
       "    <tr>\n",
       "      <th>ahvr</th>\n",
       "      <td>1.00</td>\n",
       "    </tr>\n",
       "  </tbody>\n",
       "</table>\n",
       "</div>"
      ],
      "text/plain": [
       "                             ahvr\n",
       "dummy_value                 -1.00\n",
       "medal_number                -0.58\n",
       "age_of_content              -0.11\n",
       "genre_Classics              -0.07\n",
       "genre_Documentary           -0.05\n",
       "genre_Unscripted            -0.04\n",
       "Dominant_Topic_6.0          -0.03\n",
       "program_type_acquired       -0.03\n",
       "episode_number_in_season    -0.03\n",
       "Dominant_Topic_1.0          -0.02\n",
       "Dominant_Topic_2.0          -0.02\n",
       "Dominant_Topic_4.0          -0.01\n",
       "genre_Music                 -0.01\n",
       "genre_Suspense/Thriller     -0.01\n",
       "content_category_movies     -0.01\n",
       "genre_Romance               -0.01\n",
       "genre_Kids/Family           -0.01\n",
       "Dominant_Topic_5.0          -0.00\n",
       "content_category_livesports -0.00\n",
       "genre_Comedy                -0.00\n",
       "genre_Drama                  0.00\n",
       "content_category_special     0.00\n",
       "genre_Horror                 0.01\n",
       "content_category_series      0.01\n",
       "genre_Sci-Fi                 0.01\n",
       "genre_Other                  0.03\n",
       "program_type_original        0.03\n",
       "Dominant_Topic_3.0           0.03\n",
       "Dominant_Topic_0.0           0.04\n",
       "genre_Adult Animation        0.04\n",
       "Dominant_Topic               0.04\n",
       "genre_Action/Adventure       0.12\n",
       "Dominant_Topic_7.0           0.12\n",
       "is_new_content               0.15\n",
       "content_cost                 0.23\n",
       "is_popcorn                   0.24\n",
       "is_pay_1                     0.27\n",
       "budget                       0.34\n",
       "ahvr                         1.00"
      ]
     },
     "execution_count": 185,
     "metadata": {},
     "output_type": "execute_result"
    }
   ],
   "source": [
    "plot_data=data[FEATURE_COLS+TARGET_COL]\n",
    "corr = plot_data.corr()[TARGET_COL]\n",
    "mask=np.zeros_like(corr, dtype=np.bool)\n",
    "corr.loc['dummy_value'] = -1\n",
    "corr.sort_values(by = TARGET_COL)"
   ]
  },
  {
   "cell_type": "code",
   "execution_count": 108,
   "id": "f8db508c",
   "metadata": {},
   "outputs": [
    {
     "data": {
      "text/plain": [
       "<AxesSubplot:>"
      ]
     },
     "execution_count": 108,
     "metadata": {},
     "output_type": "execute_result"
    },
    {
     "data": {
      "image/png": "[encoded data removed]",
      "text/plain": [
       "<Figure size 720x576 with 2 Axes>"
      ]
     },
     "metadata": {
      "needs_background": "light"
     },
     "output_type": "display_data"
    }
   ],
   "source": [
    "f, ax = plt.subplots(figsize=(10, 8))\n",
    "sns.heatmap(corr, mask=np.zeros_like(corr, dtype=np.bool), cmap=sns.diverging_palette(220, 10, as_cmap=True),\n",
    "            square=True, ax=ax)"
   ]
  },
  {
   "cell_type": "code",
   "execution_count": 187,
   "id": "73975d28",
   "metadata": {},
   "outputs": [],
   "source": [
    "# Cluster 7 (Violence and Crime Dramas)"
   ]
  },
  {
   "cell_type": "markdown",
   "id": "6964a006",
   "metadata": {},
   "source": [
    "## 4. Scaler"
   ]
  },
  {
   "cell_type": "code",
   "execution_count": 109,
   "id": "180f6653",
   "metadata": {},
   "outputs": [],
   "source": [
    "# from sklearn.preprocessing import StandardScaler\n",
    "# scaler = StandardScaler()\n",
    "# scaler.fit(data['ahvr'].to_numpy().reshape(-1, 1))\n",
    "# scaler.mean_"
   ]
  },
  {
   "cell_type": "code",
   "execution_count": 38,
   "id": "4e176468",
   "metadata": {},
   "outputs": [],
   "source": [
    "data['log_ahvr'] = np.log2(data['ahvr'])"
   ]
  },
  {
   "cell_type": "code",
   "execution_count": 39,
   "id": "64910c75",
   "metadata": {},
   "outputs": [
    {
     "data": {
      "text/html": [
       "<div>\n",
       "<style scoped>\n",
       "    .dataframe tbody tr th:only-of-type {\n",
       "        vertical-align: middle;\n",
       "    }\n",
       "\n",
       "    .dataframe tbody tr th {\n",
       "        vertical-align: top;\n",
       "    }\n",
       "\n",
       "    .dataframe thead th {\n",
       "        text-align: right;\n",
       "    }\n",
       "</style>\n",
       "<table border=\"1\" class=\"dataframe\">\n",
       "  <thead>\n",
       "    <tr style=\"text-align: right;\">\n",
       "      <th></th>\n",
       "      <th>title_name</th>\n",
       "      <th>title_id</th>\n",
       "      <th>season_number</th>\n",
       "      <th>days_on_hbo_max</th>\n",
       "      <th>cumulative_hours_viewed</th>\n",
       "      <th>average_hours_viewed</th>\n",
       "      <th>offering_start_date</th>\n",
       "      <th>asset_run_time_hours</th>\n",
       "      <th>content_category</th>\n",
       "      <th>program_type</th>\n",
       "      <th>air_date</th>\n",
       "      <th>medal</th>\n",
       "      <th>episode_number_in_season</th>\n",
       "      <th>pillar_genre</th>\n",
       "      <th>is_pay_1</th>\n",
       "      <th>is_popcorn</th>\n",
       "      <th>budget</th>\n",
       "      <th>content_category_livesports</th>\n",
       "      <th>content_category_movies</th>\n",
       "      <th>content_category_series</th>\n",
       "      <th>content_category_special</th>\n",
       "      <th>program_type_acquired</th>\n",
       "      <th>program_type_original</th>\n",
       "      <th>genre_Action/Adventure</th>\n",
       "      <th>genre_Adult Animation</th>\n",
       "      <th>genre_Classics</th>\n",
       "      <th>genre_Comedy</th>\n",
       "      <th>genre_Documentary</th>\n",
       "      <th>genre_Drama</th>\n",
       "      <th>genre_Horror</th>\n",
       "      <th>genre_Kids/Family</th>\n",
       "      <th>genre_Music</th>\n",
       "      <th>genre_Other</th>\n",
       "      <th>genre_Romance</th>\n",
       "      <th>genre_Sci-Fi</th>\n",
       "      <th>genre_Suspense/Thriller</th>\n",
       "      <th>genre_Unscripted</th>\n",
       "      <th>medal_number</th>\n",
       "      <th>is_new_content</th>\n",
       "      <th>age_of_content</th>\n",
       "      <th>hvr</th>\n",
       "      <th>ahvr</th>\n",
       "      <th>content_cost</th>\n",
       "      <th>log_ahvr</th>\n",
       "    </tr>\n",
       "  </thead>\n",
       "  <tbody>\n",
       "    <tr>\n",
       "      <th>0</th>\n",
       "      <td>VICE Special Report: Killing Cancer</td>\n",
       "      <td>GV-54_wnG7qbCwwEAAAAY</td>\n",
       "      <td>0</td>\n",
       "      <td>60</td>\n",
       "      <td>17.00</td>\n",
       "      <td>0.00</td>\n",
       "      <td>2020-05-27</td>\n",
       "      <td>0.64</td>\n",
       "      <td>movies</td>\n",
       "      <td>acquired</td>\n",
       "      <td>2015-01-01</td>\n",
       "      <td>None</td>\n",
       "      <td>nan</td>\n",
       "      <td>Documentary</td>\n",
       "      <td>0</td>\n",
       "      <td>0</td>\n",
       "      <td>nan</td>\n",
       "      <td>0</td>\n",
       "      <td>1</td>\n",
       "      <td>0</td>\n",
       "      <td>0</td>\n",
       "      <td>1</td>\n",
       "      <td>0</td>\n",
       "      <td>0</td>\n",
       "      <td>0</td>\n",
       "      <td>0</td>\n",
       "      <td>0</td>\n",
       "      <td>1</td>\n",
       "      <td>0</td>\n",
       "      <td>0</td>\n",
       "      <td>0</td>\n",
       "      <td>0</td>\n",
       "      <td>0</td>\n",
       "      <td>0</td>\n",
       "      <td>0</td>\n",
       "      <td>0</td>\n",
       "      <td>0</td>\n",
       "      <td>nan</td>\n",
       "      <td>0</td>\n",
       "      <td>5.40</td>\n",
       "      <td>26.57</td>\n",
       "      <td>0.00</td>\n",
       "      <td>nan</td>\n",
       "      <td>-15.60</td>\n",
       "    </tr>\n",
       "    <tr>\n",
       "      <th>1</th>\n",
       "      <td>VICE Special Report: Countdown to Zero</td>\n",
       "      <td>GV-55HghKlqbCwwEAAAAb</td>\n",
       "      <td>0</td>\n",
       "      <td>60</td>\n",
       "      <td>10.24</td>\n",
       "      <td>0.00</td>\n",
       "      <td>2020-05-27</td>\n",
       "      <td>0.81</td>\n",
       "      <td>movies</td>\n",
       "      <td>acquired</td>\n",
       "      <td>2015-01-01</td>\n",
       "      <td>None</td>\n",
       "      <td>nan</td>\n",
       "      <td>Documentary</td>\n",
       "      <td>0</td>\n",
       "      <td>0</td>\n",
       "      <td>nan</td>\n",
       "      <td>0</td>\n",
       "      <td>1</td>\n",
       "      <td>0</td>\n",
       "      <td>0</td>\n",
       "      <td>1</td>\n",
       "      <td>0</td>\n",
       "      <td>0</td>\n",
       "      <td>0</td>\n",
       "      <td>0</td>\n",
       "      <td>0</td>\n",
       "      <td>1</td>\n",
       "      <td>0</td>\n",
       "      <td>0</td>\n",
       "      <td>0</td>\n",
       "      <td>0</td>\n",
       "      <td>0</td>\n",
       "      <td>0</td>\n",
       "      <td>0</td>\n",
       "      <td>0</td>\n",
       "      <td>0</td>\n",
       "      <td>nan</td>\n",
       "      <td>0</td>\n",
       "      <td>5.40</td>\n",
       "      <td>12.64</td>\n",
       "      <td>0.00</td>\n",
       "      <td>nan</td>\n",
       "      <td>-16.67</td>\n",
       "    </tr>\n",
       "    <tr>\n",
       "      <th>2</th>\n",
       "      <td>VICE Special Report: Fixing the System</td>\n",
       "      <td>GV-55Hwvj4IaDwwEAAAAY</td>\n",
       "      <td>0</td>\n",
       "      <td>60</td>\n",
       "      <td>46.85</td>\n",
       "      <td>0.00</td>\n",
       "      <td>2020-05-27</td>\n",
       "      <td>1.11</td>\n",
       "      <td>movies</td>\n",
       "      <td>acquired</td>\n",
       "      <td>2015-01-01</td>\n",
       "      <td>None</td>\n",
       "      <td>nan</td>\n",
       "      <td>Documentary</td>\n",
       "      <td>0</td>\n",
       "      <td>0</td>\n",
       "      <td>nan</td>\n",
       "      <td>0</td>\n",
       "      <td>1</td>\n",
       "      <td>0</td>\n",
       "      <td>0</td>\n",
       "      <td>1</td>\n",
       "      <td>0</td>\n",
       "      <td>0</td>\n",
       "      <td>0</td>\n",
       "      <td>0</td>\n",
       "      <td>0</td>\n",
       "      <td>1</td>\n",
       "      <td>0</td>\n",
       "      <td>0</td>\n",
       "      <td>0</td>\n",
       "      <td>0</td>\n",
       "      <td>0</td>\n",
       "      <td>0</td>\n",
       "      <td>0</td>\n",
       "      <td>0</td>\n",
       "      <td>0</td>\n",
       "      <td>nan</td>\n",
       "      <td>0</td>\n",
       "      <td>5.40</td>\n",
       "      <td>42.28</td>\n",
       "      <td>0.00</td>\n",
       "      <td>nan</td>\n",
       "      <td>-14.93</td>\n",
       "    </tr>\n",
       "    <tr>\n",
       "      <th>3</th>\n",
       "      <td>VICE Special Report: Fighting ISIS</td>\n",
       "      <td>GV-55JASHjruwgwEAAAAU</td>\n",
       "      <td>0</td>\n",
       "      <td>60</td>\n",
       "      <td>57.65</td>\n",
       "      <td>0.00</td>\n",
       "      <td>2020-05-27</td>\n",
       "      <td>0.79</td>\n",
       "      <td>movies</td>\n",
       "      <td>original</td>\n",
       "      <td>2016-01-31</td>\n",
       "      <td>None</td>\n",
       "      <td>nan</td>\n",
       "      <td>Documentary</td>\n",
       "      <td>0</td>\n",
       "      <td>0</td>\n",
       "      <td>nan</td>\n",
       "      <td>0</td>\n",
       "      <td>1</td>\n",
       "      <td>0</td>\n",
       "      <td>0</td>\n",
       "      <td>0</td>\n",
       "      <td>1</td>\n",
       "      <td>0</td>\n",
       "      <td>0</td>\n",
       "      <td>0</td>\n",
       "      <td>0</td>\n",
       "      <td>1</td>\n",
       "      <td>0</td>\n",
       "      <td>0</td>\n",
       "      <td>0</td>\n",
       "      <td>0</td>\n",
       "      <td>0</td>\n",
       "      <td>0</td>\n",
       "      <td>0</td>\n",
       "      <td>0</td>\n",
       "      <td>0</td>\n",
       "      <td>nan</td>\n",
       "      <td>0</td>\n",
       "      <td>4.32</td>\n",
       "      <td>73.31</td>\n",
       "      <td>0.00</td>\n",
       "      <td>nan</td>\n",
       "      <td>-14.13</td>\n",
       "    </tr>\n",
       "    <tr>\n",
       "      <th>4</th>\n",
       "      <td>Heartbreakers</td>\n",
       "      <td>GV-BGJA11hsLDwwEAAAAZ</td>\n",
       "      <td>0</td>\n",
       "      <td>60</td>\n",
       "      <td>3,799.47</td>\n",
       "      <td>0.00</td>\n",
       "      <td>2020-09-01</td>\n",
       "      <td>2.06</td>\n",
       "      <td>movies</td>\n",
       "      <td>acquired</td>\n",
       "      <td>2001-03-23</td>\n",
       "      <td>None</td>\n",
       "      <td>nan</td>\n",
       "      <td>Comedy</td>\n",
       "      <td>0</td>\n",
       "      <td>0</td>\n",
       "      <td>35,000,000.00</td>\n",
       "      <td>0</td>\n",
       "      <td>1</td>\n",
       "      <td>0</td>\n",
       "      <td>0</td>\n",
       "      <td>1</td>\n",
       "      <td>0</td>\n",
       "      <td>0</td>\n",
       "      <td>0</td>\n",
       "      <td>0</td>\n",
       "      <td>1</td>\n",
       "      <td>0</td>\n",
       "      <td>0</td>\n",
       "      <td>0</td>\n",
       "      <td>0</td>\n",
       "      <td>0</td>\n",
       "      <td>0</td>\n",
       "      <td>0</td>\n",
       "      <td>0</td>\n",
       "      <td>0</td>\n",
       "      <td>0</td>\n",
       "      <td>nan</td>\n",
       "      <td>0</td>\n",
       "      <td>19.44</td>\n",
       "      <td>1,846.39</td>\n",
       "      <td>0.00</td>\n",
       "      <td>259,000.00</td>\n",
       "      <td>-10.69</td>\n",
       "    </tr>\n",
       "  </tbody>\n",
       "</table>\n",
       "</div>"
      ],
      "text/plain": [
       "                               title_name               title_id  \\\n",
       "0     VICE Special Report: Killing Cancer  GV-54_wnG7qbCwwEAAAAY   \n",
       "1  VICE Special Report: Countdown to Zero  GV-55HghKlqbCwwEAAAAb   \n",
       "2  VICE Special Report: Fixing the System  GV-55Hwvj4IaDwwEAAAAY   \n",
       "3      VICE Special Report: Fighting ISIS  GV-55JASHjruwgwEAAAAU   \n",
       "4                           Heartbreakers  GV-BGJA11hsLDwwEAAAAZ   \n",
       "\n",
       "   season_number  days_on_hbo_max  cumulative_hours_viewed  \\\n",
       "0              0               60                    17.00   \n",
       "1              0               60                    10.24   \n",
       "2              0               60                    46.85   \n",
       "3              0               60                    57.65   \n",
       "4              0               60                 3,799.47   \n",
       "\n",
       "   average_hours_viewed offering_start_date  asset_run_time_hours  \\\n",
       "0                  0.00          2020-05-27                  0.64   \n",
       "1                  0.00          2020-05-27                  0.81   \n",
       "2                  0.00          2020-05-27                  1.11   \n",
       "3                  0.00          2020-05-27                  0.79   \n",
       "4                  0.00          2020-09-01                  2.06   \n",
       "\n",
       "  content_category program_type    air_date medal  episode_number_in_season  \\\n",
       "0           movies     acquired  2015-01-01  None                       nan   \n",
       "1           movies     acquired  2015-01-01  None                       nan   \n",
       "2           movies     acquired  2015-01-01  None                       nan   \n",
       "3           movies     original  2016-01-31  None                       nan   \n",
       "4           movies     acquired  2001-03-23  None                       nan   \n",
       "\n",
       "  pillar_genre  is_pay_1  is_popcorn        budget  \\\n",
       "0  Documentary         0           0           nan   \n",
       "1  Documentary         0           0           nan   \n",
       "2  Documentary         0           0           nan   \n",
       "3  Documentary         0           0           nan   \n",
       "4       Comedy         0           0 35,000,000.00   \n",
       "\n",
       "   content_category_livesports  content_category_movies  \\\n",
       "0                            0                        1   \n",
       "1                            0                        1   \n",
       "2                            0                        1   \n",
       "3                            0                        1   \n",
       "4                            0                        1   \n",
       "\n",
       "   content_category_series  content_category_special  program_type_acquired  \\\n",
       "0                        0                         0                      1   \n",
       "1                        0                         0                      1   \n",
       "2                        0                         0                      1   \n",
       "3                        0                         0                      0   \n",
       "4                        0                         0                      1   \n",
       "\n",
       "   program_type_original  genre_Action/Adventure   genre_Adult Animation  \\\n",
       "0                      0                        0                      0   \n",
       "1                      0                        0                      0   \n",
       "2                      0                        0                      0   \n",
       "3                      1                        0                      0   \n",
       "4                      0                        0                      0   \n",
       "\n",
       "   genre_Classics  genre_Comedy  genre_Documentary  genre_Drama  \\\n",
       "0               0             0                  1            0   \n",
       "1               0             0                  1            0   \n",
       "2               0             0                  1            0   \n",
       "3               0             0                  1            0   \n",
       "4               0             1                  0            0   \n",
       "\n",
       "   genre_Horror   genre_Kids/Family  genre_Music  genre_Other  genre_Romance  \\\n",
       "0              0                  0            0            0              0   \n",
       "1              0                  0            0            0              0   \n",
       "2              0                  0            0            0              0   \n",
       "3              0                  0            0            0              0   \n",
       "4              0                  0            0            0              0   \n",
       "\n",
       "   genre_Sci-Fi  genre_Suspense/Thriller  genre_Unscripted  medal_number  \\\n",
       "0             0                        0                 0           nan   \n",
       "1             0                        0                 0           nan   \n",
       "2             0                        0                 0           nan   \n",
       "3             0                        0                 0           nan   \n",
       "4             0                        0                 0           nan   \n",
       "\n",
       "   is_new_content  age_of_content      hvr  ahvr  content_cost  log_ahvr  \n",
       "0               0            5.40    26.57  0.00           nan    -15.60  \n",
       "1               0            5.40    12.64  0.00           nan    -16.67  \n",
       "2               0            5.40    42.28  0.00           nan    -14.93  \n",
       "3               0            4.32    73.31  0.00           nan    -14.13  \n",
       "4               0           19.44 1,846.39  0.00    259,000.00    -10.69  "
      ]
     },
     "execution_count": 39,
     "metadata": {},
     "output_type": "execute_result"
    }
   ],
   "source": [
    "data.head()"
   ]
  },
  {
   "cell_type": "code",
   "execution_count": 40,
   "id": "31487756",
   "metadata": {},
   "outputs": [],
   "source": [
    "TARGET_COL = ['log_ahvr'] #cumulative_hours_viewed"
   ]
  },
  {
   "cell_type": "code",
   "execution_count": 41,
   "id": "82c3e3cc",
   "metadata": {},
   "outputs": [
    {
     "data": {
      "text/html": [
       "<div>\n",
       "<style scoped>\n",
       "    .dataframe tbody tr th:only-of-type {\n",
       "        vertical-align: middle;\n",
       "    }\n",
       "\n",
       "    .dataframe tbody tr th {\n",
       "        vertical-align: top;\n",
       "    }\n",
       "\n",
       "    .dataframe thead th {\n",
       "        text-align: right;\n",
       "    }\n",
       "</style>\n",
       "<table border=\"1\" class=\"dataframe\">\n",
       "  <thead>\n",
       "    <tr style=\"text-align: right;\">\n",
       "      <th></th>\n",
       "      <th>log_ahvr</th>\n",
       "    </tr>\n",
       "  </thead>\n",
       "  <tbody>\n",
       "    <tr>\n",
       "      <th>dummy_value</th>\n",
       "      <td>-1.00</td>\n",
       "    </tr>\n",
       "    <tr>\n",
       "      <th>medal_number</th>\n",
       "      <td>-0.61</td>\n",
       "    </tr>\n",
       "    <tr>\n",
       "      <th>genre_Classics</th>\n",
       "      <td>-0.21</td>\n",
       "    </tr>\n",
       "    <tr>\n",
       "      <th>age_of_content</th>\n",
       "      <td>-0.21</td>\n",
       "    </tr>\n",
       "    <tr>\n",
       "      <th>episode_number_in_season</th>\n",
       "      <td>-0.09</td>\n",
       "    </tr>\n",
       "    <tr>\n",
       "      <th>genre_Documentary</th>\n",
       "      <td>-0.09</td>\n",
       "    </tr>\n",
       "    <tr>\n",
       "      <th>genre_Unscripted</th>\n",
       "      <td>-0.08</td>\n",
       "    </tr>\n",
       "    <tr>\n",
       "      <th>content_category_series</th>\n",
       "      <td>-0.06</td>\n",
       "    </tr>\n",
       "    <tr>\n",
       "      <th>genre_Kids/Family</th>\n",
       "      <td>-0.04</td>\n",
       "    </tr>\n",
       "    <tr>\n",
       "      <th>content_category_special</th>\n",
       "      <td>-0.04</td>\n",
       "    </tr>\n",
       "    <tr>\n",
       "      <th>genre_Music</th>\n",
       "      <td>-0.03</td>\n",
       "    </tr>\n",
       "    <tr>\n",
       "      <th>program_type_acquired</th>\n",
       "      <td>-0.01</td>\n",
       "    </tr>\n",
       "    <tr>\n",
       "      <th>content_category_livesports</th>\n",
       "      <td>-0.01</td>\n",
       "    </tr>\n",
       "    <tr>\n",
       "      <th>program_type_original</th>\n",
       "      <td>0.01</td>\n",
       "    </tr>\n",
       "    <tr>\n",
       "      <th>genre_Other</th>\n",
       "      <td>0.01</td>\n",
       "    </tr>\n",
       "    <tr>\n",
       "      <th>genre_Adult Animation</th>\n",
       "      <td>0.02</td>\n",
       "    </tr>\n",
       "    <tr>\n",
       "      <th>genre_Drama</th>\n",
       "      <td>0.03</td>\n",
       "    </tr>\n",
       "    <tr>\n",
       "      <th>genre_Romance</th>\n",
       "      <td>0.03</td>\n",
       "    </tr>\n",
       "    <tr>\n",
       "      <th>genre_Suspense/Thriller</th>\n",
       "      <td>0.04</td>\n",
       "    </tr>\n",
       "    <tr>\n",
       "      <th>genre_Sci-Fi</th>\n",
       "      <td>0.06</td>\n",
       "    </tr>\n",
       "    <tr>\n",
       "      <th>content_category_movies</th>\n",
       "      <td>0.07</td>\n",
       "    </tr>\n",
       "    <tr>\n",
       "      <th>genre_Comedy</th>\n",
       "      <td>0.08</td>\n",
       "    </tr>\n",
       "    <tr>\n",
       "      <th>is_new_content</th>\n",
       "      <td>0.09</td>\n",
       "    </tr>\n",
       "    <tr>\n",
       "      <th>genre_Horror</th>\n",
       "      <td>0.11</td>\n",
       "    </tr>\n",
       "    <tr>\n",
       "      <th>is_popcorn</th>\n",
       "      <td>0.11</td>\n",
       "    </tr>\n",
       "    <tr>\n",
       "      <th>genre_Action/Adventure</th>\n",
       "      <td>0.20</td>\n",
       "    </tr>\n",
       "    <tr>\n",
       "      <th>is_pay_1</th>\n",
       "      <td>0.24</td>\n",
       "    </tr>\n",
       "    <tr>\n",
       "      <th>content_cost</th>\n",
       "      <td>0.24</td>\n",
       "    </tr>\n",
       "    <tr>\n",
       "      <th>budget</th>\n",
       "      <td>0.46</td>\n",
       "    </tr>\n",
       "    <tr>\n",
       "      <th>log_ahvr</th>\n",
       "      <td>1.00</td>\n",
       "    </tr>\n",
       "  </tbody>\n",
       "</table>\n",
       "</div>"
      ],
      "text/plain": [
       "                             log_ahvr\n",
       "dummy_value                     -1.00\n",
       "medal_number                    -0.61\n",
       "genre_Classics                  -0.21\n",
       "age_of_content                  -0.21\n",
       "episode_number_in_season        -0.09\n",
       "genre_Documentary               -0.09\n",
       "genre_Unscripted                -0.08\n",
       "content_category_series         -0.06\n",
       "genre_Kids/Family               -0.04\n",
       "content_category_special        -0.04\n",
       "genre_Music                     -0.03\n",
       "program_type_acquired           -0.01\n",
       "content_category_livesports     -0.01\n",
       "program_type_original            0.01\n",
       "genre_Other                      0.01\n",
       "genre_Adult Animation            0.02\n",
       "genre_Drama                      0.03\n",
       "genre_Romance                    0.03\n",
       "genre_Suspense/Thriller          0.04\n",
       "genre_Sci-Fi                     0.06\n",
       "content_category_movies          0.07\n",
       "genre_Comedy                     0.08\n",
       "is_new_content                   0.09\n",
       "genre_Horror                     0.11\n",
       "is_popcorn                       0.11\n",
       "genre_Action/Adventure           0.20\n",
       "is_pay_1                         0.24\n",
       "content_cost                     0.24\n",
       "budget                           0.46\n",
       "log_ahvr                         1.00"
      ]
     },
     "execution_count": 41,
     "metadata": {},
     "output_type": "execute_result"
    }
   ],
   "source": [
    "plot_data=data[FEATURE_COLS+TARGET_COL]\n",
    "corr = plot_data.corr()[TARGET_COL]\n",
    "mask=np.zeros_like(corr, dtype=np.bool)\n",
    "corr.loc['dummy_value'] = -1\n",
    "corr.sort_values(by = TARGET_COL)"
   ]
  },
  {
   "cell_type": "code",
   "execution_count": 42,
   "id": "bee80999",
   "metadata": {},
   "outputs": [
    {
     "data": {
      "text/plain": [
       "<AxesSubplot:>"
      ]
     },
     "execution_count": 42,
     "metadata": {},
     "output_type": "execute_result"
    },
    {
     "data": {
      "image/png": "[encoded data removed]",
      "text/plain": [
       "<Figure size 720x576 with 2 Axes>"
      ]
     },
     "metadata": {
      "needs_background": "light"
     },
     "output_type": "display_data"
    }
   ],
   "source": [
    "f, ax = plt.subplots(figsize=(10, 8))\n",
    "sns.heatmap(corr, mask=np.zeros_like(corr, dtype=np.bool), cmap=sns.diverging_palette(220, 10, as_cmap=True),\n",
    "            square=True, ax=ax)"
   ]
  },
  {
   "cell_type": "markdown",
   "id": "cf21e49d",
   "metadata": {},
   "source": [
    "# Distribution"
   ]
  },
  {
   "cell_type": "code",
   "execution_count": 43,
   "id": "0fa2c6cd",
   "metadata": {},
   "outputs": [],
   "source": [
    "import plotly.express as px\n",
    "import plotly.graph_objects as go\n",
    "from plotly.subplots import make_subplots"
   ]
  },
  {
   "cell_type": "code",
   "execution_count": 44,
   "id": "edb4cbe8",
   "metadata": {},
   "outputs": [],
   "source": [
    "plot_df = title_hours_viewed[['title_name', 'title_id', 'season_number', 'days_on_hbo_max', 'cumulative_hours_viewed', 'average_hours_viewed']].merge(\n",
    "       title_series_info, on = ['title_id', 'season_number'])\n",
    "plot_df['average hours viewed'] = plot_df['average_hours_viewed']/plot_df['asset_run_time_hours']"
   ]
  },
  {
   "cell_type": "code",
   "execution_count": 45,
   "id": "99091745",
   "metadata": {},
   "outputs": [],
   "source": [
    "plot_df = plot_df[plot_df['days_on_hbo_max'] == 60]"
   ]
  },
  {
   "cell_type": "code",
   "execution_count": 49,
   "id": "d617de22",
   "metadata": {},
   "outputs": [],
   "source": [
    "plot_df = plot_df[(plot_df['average hours viewed'] > 0.0001)\n",
    "                 &(plot_df['average hours viewed'] < 1.5)]"
   ]
  },
  {
   "cell_type": "code",
   "execution_count": 50,
   "id": "e7fa35ef",
   "metadata": {},
   "outputs": [
    {
     "data": {
      "application/vnd.plotly.v1+json": {
       "config": {
        "plotlyServerURL": "https://plot.ly"
       },
       "data": [
        {
         "alignmentgroup": "True",
         "bingroup": "x",
         "hovertemplate": "average hours viewed=%{x}<br>count=%{y}<extra></extra>",
         "legendgroup": "",
         "marker": {
          "color": "#636efa",
          "pattern": {
           "shape": ""
          }
         },
         "name": "",
         "nbinsx": 10,
         "offsetgroup": "",
         "orientation": "v",
         "showlegend": false,
         "type": "histogram",
         "x": [
          0.03249792025575151,
          0.04482528937564238,
          0.0322021593432704,
          0.03192204556206904,
          0.04603347260933214,
          0.04856857603352579,
          0.0729234971603969,
          0.11629122716493508,
          0.13128178772378396,
          0.03939055085436962,
          0.1447479383111607,
          0.03240167630149917,
          0.04561892393181289,
          0.052458249007816364,
          0.03226029025736666,
          0.031343155986124936,
          0.03526547733105368,
          0.03635085033388749,
          0.13575350567802819,
          0.1495100473512857,
          0.03526666319392767,
          0.06399087112549873,
          0.06589082888335804,
          0.03603539035262261,
          0.031033839947546275,
          0.03433461655585572,
          0.07109753840615224,
          0.0555315877215883,
          0.04682017390879068,
          0.04455919027651278,
          0.48138885230915957,
          0.06527321423796144,
          0.08918598109228669,
          0.23259729951788624,
          0.037569281003978126,
          0.06423401592582113,
          0.031183621857392423,
          0.036025921195317376,
          0.05410646699437346,
          0.043120295628725075,
          0.03581491050405324,
          0.08129684068984613,
          0.08124906691359772,
          0.03320873046873949,
          0.03672741616011292,
          0.04184393244113089,
          0.049799299102594924,
          0.05558113724364109,
          0.05822867788221233,
          0.05799594949456962,
          0.05650712921203267,
          0.05489938787231287,
          0.052273748817925965,
          0.04912477869311695,
          0.04716161239781033,
          0.043715630269556244,
          0.04051509073102444,
          0.043779926872228224,
          0.05274201677563779,
          0.057303212885140606,
          0.06005313848660432,
          0.06227418878102723,
          0.05922395242695176,
          0.05315282760171475,
          0.0477396382143756,
          0.04003047509771827,
          0.04077533995312477,
          0.030758725935899515,
          0.03483475608016689,
          0.03075739969794891,
          0.07306581139394859,
          0.05720599699580385,
          0.03896638543798555,
          0.0541747157467049,
          0.049221073989545845,
          0.05133445055968431,
          0.03213635713360026,
          0.03705180241868496,
          0.08461629834556869,
          0.06824722861212992,
          0.12703806509983578,
          0.1018106370782875,
          0.07497041973492855,
          0.13442714497175495,
          0.033881632755983854,
          0.05644485288883577,
          0.031871830457368175,
          0.03681953434421012,
          0.054706727049113966,
          0.08668615176466776,
          0.03480186276897714,
          0.037197061180975086,
          0.03595757745563415,
          0.06233912671591486,
          0.054578532466150124,
          0.1024038085457997,
          0.08747195880162523,
          0.09031269163081894,
          0.08836030926811766,
          0.08860302187192719,
          0.09047000529185735,
          0.07633318185013122,
          0.0803057005133411,
          0.06347662878600953,
          0.03399370311600398,
          0.15880603955067085,
          0.090911092210677,
          0.1483714522924169,
          0.037554635217460254,
          0.04847719141292522,
          0.03563466283090042,
          0.04590856068632016,
          0.05306404253652194,
          0.05225187705612049,
          0.07154707365600528,
          0.03657481889101839,
          0.057724272202559074,
          0.0376915783905119,
          0.03218691274045073,
          0.15511579553577204,
          0.03499418742868918,
          0.06755198219309842,
          0.3070594514273243,
          0.04391201535186681,
          0.08016660250127626,
          0.12489338954605278,
          0.03526643603483244,
          0.07238109270214965,
          0.03479369221642581,
          0.03546950956074002,
          0.12204741865700754,
          0.0378098407133175,
          0.11860855002555984,
          0.030321130030665614,
          0.03037430034438999,
          0.03835665124505644,
          0.041188196302301604,
          0.053677095403638735,
          0.0361690017105333,
          0.06920796829776829,
          0.05538534686384697,
          0.03359694596647995,
          0.03293668483364037,
          0.06668357389805571,
          0.11159892228400345,
          0.03256008447713583,
          0.1133295698654305,
          0.15582867065951758,
          0.05359884789976644,
          0.047891241349273375,
          0.15164548360107172,
          0.0890142529718667,
          0.06599074782092501,
          0.054866193433040916,
          0.06056623110846513,
          0.16396140746662063,
          0.0794558882330368,
          0.15811647197600107,
          0.07339569757036292,
          0.04492269251602379,
          0.1676124292584545,
          0.1425249167432045,
          0.03989191868503172
         ],
         "xaxis": "x",
         "yaxis": "y"
        }
       ],
       "layout": {
        "autosize": true,
        "barmode": "relative",
        "legend": {
         "tracegroupgap": 0
        },
        "margin": {
         "t": 60
        },
        "template": {
         "data": {
          "bar": [
           {
            "error_x": {
             "color": "#2a3f5f"
            },
            "error_y": {
             "color": "#2a3f5f"
            },
            "marker": {
             "line": {
              "color": "#E5ECF6",
              "width": 0.5
             },
             "pattern": {
              "fillmode": "overlay",
              "size": 10,
              "solidity": 0.2
             }
            },
            "type": "bar"
           }
          ],
          "barpolar": [
           {
            "marker": {
             "line": {
              "color": "#E5ECF6",
              "width": 0.5
             },
             "pattern": {
              "fillmode": "overlay",
              "size": 10,
              "solidity": 0.2
             }
            },
            "type": "barpolar"
           }
          ],
          "carpet": [
           {
            "aaxis": {
             "endlinecolor": "#2a3f5f",
             "gridcolor": "white",
             "linecolor": "white",
             "minorgridcolor": "white",
             "startlinecolor": "#2a3f5f"
            },
            "baxis": {
             "endlinecolor": "#2a3f5f",
             "gridcolor": "white",
             "linecolor": "white",
             "minorgridcolor": "white",
             "startlinecolor": "#2a3f5f"
            },
            "type": "carpet"
           }
          ],
          "choropleth": [
           {
            "colorbar": {
             "outlinewidth": 0,
             "ticks": ""
            },
            "type": "choropleth"
           }
          ],
          "contour": [
           {
            "colorbar": {
             "outlinewidth": 0,
             "ticks": ""
            },
            "colorscale": [
             [
              0,
              "#0d0887"
             ],
             [
              0.1111111111111111,
              "#46039f"
             ],
             [
              0.2222222222222222,
              "#7201a8"
             ],
             [
              0.3333333333333333,
              "#9c179e"
             ],
             [
              0.4444444444444444,
              "#bd3786"
             ],
             [
              0.5555555555555556,
              "#d8576b"
             ],
             [
              0.6666666666666666,
              "#ed7953"
             ],
             [
              0.7777777777777778,
              "#fb9f3a"
             ],
             [
              0.8888888888888888,
              "#fdca26"
             ],
             [
              1,
              "#f0f921"
             ]
            ],
            "type": "contour"
           }
          ],
          "contourcarpet": [
           {
            "colorbar": {
             "outlinewidth": 0,
             "ticks": ""
            },
            "type": "contourcarpet"
           }
          ],
          "heatmap": [
           {
            "colorbar": {
             "outlinewidth": 0,
             "ticks": ""
            },
            "colorscale": [
             [
              0,
              "#0d0887"
             ],
             [
              0.1111111111111111,
              "#46039f"
             ],
             [
              0.2222222222222222,
              "#7201a8"
             ],
             [
              0.3333333333333333,
              "#9c179e"
             ],
             [
              0.4444444444444444,
              "#bd3786"
             ],
             [
              0.5555555555555556,
              "#d8576b"
             ],
             [
              0.6666666666666666,
              "#ed7953"
             ],
             [
              0.7777777777777778,
              "#fb9f3a"
             ],
             [
              0.8888888888888888,
              "#fdca26"
             ],
             [
              1,
              "#f0f921"
             ]
            ],
            "type": "heatmap"
           }
          ],
          "heatmapgl": [
           {
            "colorbar": {
             "outlinewidth": 0,
             "ticks": ""
            },
            "colorscale": [
             [
              0,
              "#0d0887"
             ],
             [
              0.1111111111111111,
              "#46039f"
             ],
             [
              0.2222222222222222,
              "#7201a8"
             ],
             [
              0.3333333333333333,
              "#9c179e"
             ],
             [
              0.4444444444444444,
              "#bd3786"
             ],
             [
              0.5555555555555556,
              "#d8576b"
             ],
             [
              0.6666666666666666,
              "#ed7953"
             ],
             [
              0.7777777777777778,
              "#fb9f3a"
             ],
             [
              0.8888888888888888,
              "#fdca26"
             ],
             [
              1,
              "#f0f921"
             ]
            ],
            "type": "heatmapgl"
           }
          ],
          "histogram": [
           {
            "marker": {
             "pattern": {
              "fillmode": "overlay",
              "size": 10,
              "solidity": 0.2
             }
            },
            "type": "histogram"
           }
          ],
          "histogram2d": [
           {
            "colorbar": {
             "outlinewidth": 0,
             "ticks": ""
            },
            "colorscale": [
             [
              0,
              "#0d0887"
             ],
             [
              0.1111111111111111,
              "#46039f"
             ],
             [
              0.2222222222222222,
              "#7201a8"
             ],
             [
              0.3333333333333333,
              "#9c179e"
             ],
             [
              0.4444444444444444,
              "#bd3786"
             ],
             [
              0.5555555555555556,
              "#d8576b"
             ],
             [
              0.6666666666666666,
              "#ed7953"
             ],
             [
              0.7777777777777778,
              "#fb9f3a"
             ],
             [
              0.8888888888888888,
              "#fdca26"
             ],
             [
              1,
              "#f0f921"
             ]
            ],
            "type": "histogram2d"
           }
          ],
          "histogram2dcontour": [
           {
            "colorbar": {
             "outlinewidth": 0,
             "ticks": ""
            },
            "colorscale": [
             [
              0,
              "#0d0887"
             ],
             [
              0.1111111111111111,
              "#46039f"
             ],
             [
              0.2222222222222222,
              "#7201a8"
             ],
             [
              0.3333333333333333,
              "#9c179e"
             ],
             [
              0.4444444444444444,
              "#bd3786"
             ],
             [
              0.5555555555555556,
              "#d8576b"
             ],
             [
              0.6666666666666666,
              "#ed7953"
             ],
             [
              0.7777777777777778,
              "#fb9f3a"
             ],
             [
              0.8888888888888888,
              "#fdca26"
             ],
             [
              1,
              "#f0f921"
             ]
            ],
            "type": "histogram2dcontour"
           }
          ],
          "mesh3d": [
           {
            "colorbar": {
             "outlinewidth": 0,
             "ticks": ""
            },
            "type": "mesh3d"
           }
          ],
          "parcoords": [
           {
            "line": {
             "colorbar": {
              "outlinewidth": 0,
              "ticks": ""
             }
            },
            "type": "parcoords"
           }
          ],
          "pie": [
           {
            "automargin": true,
            "type": "pie"
           }
          ],
          "scatter": [
           {
            "marker": {
             "colorbar": {
              "outlinewidth": 0,
              "ticks": ""
             }
            },
            "type": "scatter"
           }
          ],
          "scatter3d": [
           {
            "line": {
             "colorbar": {
              "outlinewidth": 0,
              "ticks": ""
             }
            },
            "marker": {
             "colorbar": {
              "outlinewidth": 0,
              "ticks": ""
             }
            },
            "type": "scatter3d"
           }
          ],
          "scattercarpet": [
           {
            "marker": {
             "colorbar": {
              "outlinewidth": 0,
              "ticks": ""
             }
            },
            "type": "scattercarpet"
           }
          ],
          "scattergeo": [
           {
            "marker": {
             "colorbar": {
              "outlinewidth": 0,
              "ticks": ""
             }
            },
            "type": "scattergeo"
           }
          ],
          "scattergl": [
           {
            "marker": {
             "colorbar": {
              "outlinewidth": 0,
              "ticks": ""
             }
            },
            "type": "scattergl"
           }
          ],
          "scattermapbox": [
           {
            "marker": {
             "colorbar": {
              "outlinewidth": 0,
              "ticks": ""
             }
            },
            "type": "scattermapbox"
           }
          ],
          "scatterpolar": [
           {
            "marker": {
             "colorbar": {
              "outlinewidth": 0,
              "ticks": ""
             }
            },
            "type": "scatterpolar"
           }
          ],
          "scatterpolargl": [
           {
            "marker": {
             "colorbar": {
              "outlinewidth": 0,
              "ticks": ""
             }
            },
            "type": "scatterpolargl"
           }
          ],
          "scatterternary": [
           {
            "marker": {
             "colorbar": {
              "outlinewidth": 0,
              "ticks": ""
             }
            },
            "type": "scatterternary"
           }
          ],
          "surface": [
           {
            "colorbar": {
             "outlinewidth": 0,
             "ticks": ""
            },
            "colorscale": [
             [
              0,
              "#0d0887"
             ],
             [
              0.1111111111111111,
              "#46039f"
             ],
             [
              0.2222222222222222,
              "#7201a8"
             ],
             [
              0.3333333333333333,
              "#9c179e"
             ],
             [
              0.4444444444444444,
              "#bd3786"
             ],
             [
              0.5555555555555556,
              "#d8576b"
             ],
             [
              0.6666666666666666,
              "#ed7953"
             ],
             [
              0.7777777777777778,
              "#fb9f3a"
             ],
             [
              0.8888888888888888,
              "#fdca26"
             ],
             [
              1,
              "#f0f921"
             ]
            ],
            "type": "surface"
           }
          ],
          "table": [
           {
            "cells": {
             "fill": {
              "color": "#EBF0F8"
             },
             "line": {
              "color": "white"
             }
            },
            "header": {
             "fill": {
              "color": "#C8D4E3"
             },
             "line": {
              "color": "white"
             }
            },
            "type": "table"
           }
          ]
         },
         "layout": {
          "annotationdefaults": {
           "arrowcolor": "#2a3f5f",
           "arrowhead": 0,
           "arrowwidth": 1
          },
          "autotypenumbers": "strict",
          "coloraxis": {
           "colorbar": {
            "outlinewidth": 0,
            "ticks": ""
           }
          },
          "colorscale": {
           "diverging": [
            [
             0,
             "#8e0152"
            ],
            [
             0.1,
             "#c51b7d"
            ],
            [
             0.2,
             "#de77ae"
            ],
            [
             0.3,
             "#f1b6da"
            ],
            [
             0.4,
             "#fde0ef"
            ],
            [
             0.5,
             "#f7f7f7"
            ],
            [
             0.6,
             "#e6f5d0"
            ],
            [
             0.7,
             "#b8e186"
            ],
            [
             0.8,
             "#7fbc41"
            ],
            [
             0.9,
             "#4d9221"
            ],
            [
             1,
             "#276419"
            ]
           ],
           "sequential": [
            [
             0,
             "#0d0887"
            ],
            [
             0.1111111111111111,
             "#46039f"
            ],
            [
             0.2222222222222222,
             "#7201a8"
            ],
            [
             0.3333333333333333,
             "#9c179e"
            ],
            [
             0.4444444444444444,
             "#bd3786"
            ],
            [
             0.5555555555555556,
             "#d8576b"
            ],
            [
             0.6666666666666666,
             "#ed7953"
            ],
            [
             0.7777777777777778,
             "#fb9f3a"
            ],
            [
             0.8888888888888888,
             "#fdca26"
            ],
            [
             1,
             "#f0f921"
            ]
           ],
           "sequentialminus": [
            [
             0,
             "#0d0887"
            ],
            [
             0.1111111111111111,
             "#46039f"
            ],
            [
             0.2222222222222222,
             "#7201a8"
            ],
            [
             0.3333333333333333,
             "#9c179e"
            ],
            [
             0.4444444444444444,
             "#bd3786"
            ],
            [
             0.5555555555555556,
             "#d8576b"
            ],
            [
             0.6666666666666666,
             "#ed7953"
            ],
            [
             0.7777777777777778,
             "#fb9f3a"
            ],
            [
             0.8888888888888888,
             "#fdca26"
            ],
            [
             1,
             "#f0f921"
            ]
           ]
          },
          "colorway": [
           "#636efa",
           "#EF553B",
           "#00cc96",
           "#ab63fa",
           "#FFA15A",
           "#19d3f3",
           "#FF6692",
           "#B6E880",
           "#FF97FF",
           "#FECB52"
          ],
          "font": {
           "color": "#2a3f5f"
          },
          "geo": {
           "bgcolor": "white",
           "lakecolor": "white",
           "landcolor": "#E5ECF6",
           "showlakes": true,
           "showland": true,
           "subunitcolor": "white"
          },
          "hoverlabel": {
           "align": "left"
          },
          "hovermode": "closest",
          "mapbox": {
           "style": "light"
          },
          "paper_bgcolor": "white",
          "plot_bgcolor": "#E5ECF6",
          "polar": {
           "angularaxis": {
            "gridcolor": "white",
            "linecolor": "white",
            "ticks": ""
           },
           "bgcolor": "#E5ECF6",
           "radialaxis": {
            "gridcolor": "white",
            "linecolor": "white",
            "ticks": ""
           }
          },
          "scene": {
           "xaxis": {
            "backgroundcolor": "#E5ECF6",
            "gridcolor": "white",
            "gridwidth": 2,
            "linecolor": "white",
            "showbackground": true,
            "ticks": "",
            "zerolinecolor": "white"
           },
           "yaxis": {
            "backgroundcolor": "#E5ECF6",
            "gridcolor": "white",
            "gridwidth": 2,
            "linecolor": "white",
            "showbackground": true,
            "ticks": "",
            "zerolinecolor": "white"
           },
           "zaxis": {
            "backgroundcolor": "#E5ECF6",
            "gridcolor": "white",
            "gridwidth": 2,
            "linecolor": "white",
            "showbackground": true,
            "ticks": "",
            "zerolinecolor": "white"
           }
          },
          "shapedefaults": {
           "line": {
            "color": "#2a3f5f"
           }
          },
          "ternary": {
           "aaxis": {
            "gridcolor": "white",
            "linecolor": "white",
            "ticks": ""
           },
           "baxis": {
            "gridcolor": "white",
            "linecolor": "white",
            "ticks": ""
           },
           "bgcolor": "#E5ECF6",
           "caxis": {
            "gridcolor": "white",
            "linecolor": "white",
            "ticks": ""
           }
          },
          "title": {
           "x": 0.05
          },
          "xaxis": {
           "automargin": true,
           "gridcolor": "white",
           "linecolor": "white",
           "ticks": "",
           "title": {
            "standoff": 15
           },
           "zerolinecolor": "white",
           "zerolinewidth": 2
          },
          "yaxis": {
           "automargin": true,
           "gridcolor": "white",
           "linecolor": "white",
           "ticks": "",
           "title": {
            "standoff": 15
           },
           "zerolinecolor": "white",
           "zerolinewidth": 2
          }
         }
        },
        "xaxis": {
         "anchor": "y",
         "autorange": true,
         "domain": [
          0,
          1
         ],
         "range": [
          3.469446951953614e-17,
          0.49999999999999994
         ],
         "title": {
          "text": "average hours viewed"
         },
         "type": "linear"
        },
        "yaxis": {
         "anchor": "x",
         "autorange": true,
         "domain": [
          0,
          1
         ],
         "range": [
          0,
          77.89473684210526
         ],
         "title": {
          "text": "count"
         }
        }
       }
      },
      "image/png": "[encoded data removed]",
      "text/html": [
       "<div>                            <div id=\"2e81a1bc-806c-49b9-b0ce-e5a0e5fea2dc\" class=\"plotly-graph-div\" style=\"height:525px; width:100%;\"></div>            <script type=\"text/javascript\">                require([\"plotly\"], function(Plotly) {                    window.PLOTLYENV=window.PLOTLYENV || {};                                    if (document.getElementById(\"2e81a1bc-806c-49b9-b0ce-e5a0e5fea2dc\")) {                    Plotly.newPlot(                        \"2e81a1bc-806c-49b9-b0ce-e5a0e5fea2dc\",                        [{\"alignmentgroup\":\"True\",\"bingroup\":\"x\",\"hovertemplate\":\"average hours viewed=%{x}<br>count=%{y}<extra></extra>\",\"legendgroup\":\"\",\"marker\":{\"color\":\"#636efa\",\"pattern\":{\"shape\":\"\"}},\"name\":\"\",\"nbinsx\":10,\"offsetgroup\":\"\",\"orientation\":\"v\",\"showlegend\":false,\"x\":[0.03249792025575151,0.04482528937564238,0.0322021593432704,0.03192204556206904,0.04603347260933214,0.04856857603352579,0.0729234971603969,0.11629122716493508,0.13128178772378396,0.03939055085436962,0.1447479383111607,0.03240167630149917,0.04561892393181289,0.052458249007816364,0.03226029025736666,0.031343155986124936,0.03526547733105368,0.03635085033388749,0.13575350567802819,0.1495100473512857,0.03526666319392767,0.06399087112549873,0.06589082888335804,0.03603539035262261,0.031033839947546275,0.03433461655585572,0.07109753840615224,0.0555315877215883,0.04682017390879068,0.04455919027651278,0.48138885230915957,0.06527321423796144,0.08918598109228669,0.23259729951788624,0.037569281003978126,0.06423401592582113,0.031183621857392423,0.036025921195317376,0.05410646699437346,0.043120295628725075,0.03581491050405324,0.08129684068984613,0.08124906691359772,0.03320873046873949,0.03672741616011292,0.04184393244113089,0.049799299102594924,0.05558113724364109,0.05822867788221233,0.05799594949456962,0.05650712921203267,0.05489938787231287,0.052273748817925965,0.04912477869311695,0.04716161239781033,0.043715630269556244,0.04051509073102444,0.043779926872228224,0.05274201677563779,0.057303212885140606,0.06005313848660432,0.06227418878102723,0.05922395242695176,0.05315282760171475,0.0477396382143756,0.04003047509771827,0.04077533995312477,0.030758725935899515,0.03483475608016689,0.03075739969794891,0.07306581139394859,0.05720599699580385,0.03896638543798555,0.0541747157467049,0.049221073989545845,0.05133445055968431,0.03213635713360026,0.03705180241868496,0.08461629834556869,0.06824722861212992,0.12703806509983578,0.1018106370782875,0.07497041973492855,0.13442714497175495,0.033881632755983854,0.05644485288883577,0.031871830457368175,0.03681953434421012,0.054706727049113966,0.08668615176466776,0.03480186276897714,0.037197061180975086,0.03595757745563415,0.06233912671591486,0.054578532466150124,0.1024038085457997,0.08747195880162523,0.09031269163081894,0.08836030926811766,0.08860302187192719,0.09047000529185735,0.07633318185013122,0.0803057005133411,0.06347662878600953,0.03399370311600398,0.15880603955067085,0.090911092210677,0.1483714522924169,0.037554635217460254,0.04847719141292522,0.03563466283090042,0.04590856068632016,0.05306404253652194,0.05225187705612049,0.07154707365600528,0.03657481889101839,0.057724272202559074,0.0376915783905119,0.03218691274045073,0.15511579553577204,0.03499418742868918,0.06755198219309842,0.3070594514273243,0.04391201535186681,0.08016660250127626,0.12489338954605278,0.03526643603483244,0.07238109270214965,0.03479369221642581,0.03546950956074002,0.12204741865700754,0.0378098407133175,0.11860855002555984,0.030321130030665614,0.03037430034438999,0.03835665124505644,0.041188196302301604,0.053677095403638735,0.0361690017105333,0.06920796829776829,0.05538534686384697,0.03359694596647995,0.03293668483364037,0.06668357389805571,0.11159892228400345,0.03256008447713583,0.1133295698654305,0.15582867065951758,0.05359884789976644,0.047891241349273375,0.15164548360107172,0.0890142529718667,0.06599074782092501,0.054866193433040916,0.06056623110846513,0.16396140746662063,0.0794558882330368,0.15811647197600107,0.07339569757036292,0.04492269251602379,0.1676124292584545,0.1425249167432045,0.03989191868503172],\"xaxis\":\"x\",\"yaxis\":\"y\",\"type\":\"histogram\"}],                        {\"template\":{\"data\":{\"bar\":[{\"error_x\":{\"color\":\"#2a3f5f\"},\"error_y\":{\"color\":\"#2a3f5f\"},\"marker\":{\"line\":{\"color\":\"#E5ECF6\",\"width\":0.5},\"pattern\":{\"fillmode\":\"overlay\",\"size\":10,\"solidity\":0.2}},\"type\":\"bar\"}],\"barpolar\":[{\"marker\":{\"line\":{\"color\":\"#E5ECF6\",\"width\":0.5},\"pattern\":{\"fillmode\":\"overlay\",\"size\":10,\"solidity\":0.2}},\"type\":\"barpolar\"}],\"carpet\":[{\"aaxis\":{\"endlinecolor\":\"#2a3f5f\",\"gridcolor\":\"white\",\"linecolor\":\"white\",\"minorgridcolor\":\"white\",\"startlinecolor\":\"#2a3f5f\"},\"baxis\":{\"endlinecolor\":\"#2a3f5f\",\"gridcolor\":\"white\",\"linecolor\":\"white\",\"minorgridcolor\":\"white\",\"startlinecolor\":\"#2a3f5f\"},\"type\":\"carpet\"}],\"choropleth\":[{\"colorbar\":{\"outlinewidth\":0,\"ticks\":\"\"},\"type\":\"choropleth\"}],\"contour\":[{\"colorbar\":{\"outlinewidth\":0,\"ticks\":\"\"},\"colorscale\":[[0.0,\"#0d0887\"],[0.1111111111111111,\"#46039f\"],[0.2222222222222222,\"#7201a8\"],[0.3333333333333333,\"#9c179e\"],[0.4444444444444444,\"#bd3786\"],[0.5555555555555556,\"#d8576b\"],[0.6666666666666666,\"#ed7953\"],[0.7777777777777778,\"#fb9f3a\"],[0.8888888888888888,\"#fdca26\"],[1.0,\"#f0f921\"]],\"type\":\"contour\"}],\"contourcarpet\":[{\"colorbar\":{\"outlinewidth\":0,\"ticks\":\"\"},\"type\":\"contourcarpet\"}],\"heatmap\":[{\"colorbar\":{\"outlinewidth\":0,\"ticks\":\"\"},\"colorscale\":[[0.0,\"#0d0887\"],[0.1111111111111111,\"#46039f\"],[0.2222222222222222,\"#7201a8\"],[0.3333333333333333,\"#9c179e\"],[0.4444444444444444,\"#bd3786\"],[0.5555555555555556,\"#d8576b\"],[0.6666666666666666,\"#ed7953\"],[0.7777777777777778,\"#fb9f3a\"],[0.8888888888888888,\"#fdca26\"],[1.0,\"#f0f921\"]],\"type\":\"heatmap\"}],\"heatmapgl\":[{\"colorbar\":{\"outlinewidth\":0,\"ticks\":\"\"},\"colorscale\":[[0.0,\"#0d0887\"],[0.1111111111111111,\"#46039f\"],[0.2222222222222222,\"#7201a8\"],[0.3333333333333333,\"#9c179e\"],[0.4444444444444444,\"#bd3786\"],[0.5555555555555556,\"#d8576b\"],[0.6666666666666666,\"#ed7953\"],[0.7777777777777778,\"#fb9f3a\"],[0.8888888888888888,\"#fdca26\"],[1.0,\"#f0f921\"]],\"type\":\"heatmapgl\"}],\"histogram\":[{\"marker\":{\"pattern\":{\"fillmode\":\"overlay\",\"size\":10,\"solidity\":0.2}},\"type\":\"histogram\"}],\"histogram2d\":[{\"colorbar\":{\"outlinewidth\":0,\"ticks\":\"\"},\"colorscale\":[[0.0,\"#0d0887\"],[0.1111111111111111,\"#46039f\"],[0.2222222222222222,\"#7201a8\"],[0.3333333333333333,\"#9c179e\"],[0.4444444444444444,\"#bd3786\"],[0.5555555555555556,\"#d8576b\"],[0.6666666666666666,\"#ed7953\"],[0.7777777777777778,\"#fb9f3a\"],[0.8888888888888888,\"#fdca26\"],[1.0,\"#f0f921\"]],\"type\":\"histogram2d\"}],\"histogram2dcontour\":[{\"colorbar\":{\"outlinewidth\":0,\"ticks\":\"\"},\"colorscale\":[[0.0,\"#0d0887\"],[0.1111111111111111,\"#46039f\"],[0.2222222222222222,\"#7201a8\"],[0.3333333333333333,\"#9c179e\"],[0.4444444444444444,\"#bd3786\"],[0.5555555555555556,\"#d8576b\"],[0.6666666666666666,\"#ed7953\"],[0.7777777777777778,\"#fb9f3a\"],[0.8888888888888888,\"#fdca26\"],[1.0,\"#f0f921\"]],\"type\":\"histogram2dcontour\"}],\"mesh3d\":[{\"colorbar\":{\"outlinewidth\":0,\"ticks\":\"\"},\"type\":\"mesh3d\"}],\"parcoords\":[{\"line\":{\"colorbar\":{\"outlinewidth\":0,\"ticks\":\"\"}},\"type\":\"parcoords\"}],\"pie\":[{\"automargin\":true,\"type\":\"pie\"}],\"scatter\":[{\"marker\":{\"colorbar\":{\"outlinewidth\":0,\"ticks\":\"\"}},\"type\":\"scatter\"}],\"scatter3d\":[{\"line\":{\"colorbar\":{\"outlinewidth\":0,\"ticks\":\"\"}},\"marker\":{\"colorbar\":{\"outlinewidth\":0,\"ticks\":\"\"}},\"type\":\"scatter3d\"}],\"scattercarpet\":[{\"marker\":{\"colorbar\":{\"outlinewidth\":0,\"ticks\":\"\"}},\"type\":\"scattercarpet\"}],\"scattergeo\":[{\"marker\":{\"colorbar\":{\"outlinewidth\":0,\"ticks\":\"\"}},\"type\":\"scattergeo\"}],\"scattergl\":[{\"marker\":{\"colorbar\":{\"outlinewidth\":0,\"ticks\":\"\"}},\"type\":\"scattergl\"}],\"scattermapbox\":[{\"marker\":{\"colorbar\":{\"outlinewidth\":0,\"ticks\":\"\"}},\"type\":\"scattermapbox\"}],\"scatterpolar\":[{\"marker\":{\"colorbar\":{\"outlinewidth\":0,\"ticks\":\"\"}},\"type\":\"scatterpolar\"}],\"scatterpolargl\":[{\"marker\":{\"colorbar\":{\"outlinewidth\":0,\"ticks\":\"\"}},\"type\":\"scatterpolargl\"}],\"scatterternary\":[{\"marker\":{\"colorbar\":{\"outlinewidth\":0,\"ticks\":\"\"}},\"type\":\"scatterternary\"}],\"surface\":[{\"colorbar\":{\"outlinewidth\":0,\"ticks\":\"\"},\"colorscale\":[[0.0,\"#0d0887\"],[0.1111111111111111,\"#46039f\"],[0.2222222222222222,\"#7201a8\"],[0.3333333333333333,\"#9c179e\"],[0.4444444444444444,\"#bd3786\"],[0.5555555555555556,\"#d8576b\"],[0.6666666666666666,\"#ed7953\"],[0.7777777777777778,\"#fb9f3a\"],[0.8888888888888888,\"#fdca26\"],[1.0,\"#f0f921\"]],\"type\":\"surface\"}],\"table\":[{\"cells\":{\"fill\":{\"color\":\"#EBF0F8\"},\"line\":{\"color\":\"white\"}},\"header\":{\"fill\":{\"color\":\"#C8D4E3\"},\"line\":{\"color\":\"white\"}},\"type\":\"table\"}]},\"layout\":{\"annotationdefaults\":{\"arrowcolor\":\"#2a3f5f\",\"arrowhead\":0,\"arrowwidth\":1},\"autotypenumbers\":\"strict\",\"coloraxis\":{\"colorbar\":{\"outlinewidth\":0,\"ticks\":\"\"}},\"colorscale\":{\"diverging\":[[0,\"#8e0152\"],[0.1,\"#c51b7d\"],[0.2,\"#de77ae\"],[0.3,\"#f1b6da\"],[0.4,\"#fde0ef\"],[0.5,\"#f7f7f7\"],[0.6,\"#e6f5d0\"],[0.7,\"#b8e186\"],[0.8,\"#7fbc41\"],[0.9,\"#4d9221\"],[1,\"#276419\"]],\"sequential\":[[0.0,\"#0d0887\"],[0.1111111111111111,\"#46039f\"],[0.2222222222222222,\"#7201a8\"],[0.3333333333333333,\"#9c179e\"],[0.4444444444444444,\"#bd3786\"],[0.5555555555555556,\"#d8576b\"],[0.6666666666666666,\"#ed7953\"],[0.7777777777777778,\"#fb9f3a\"],[0.8888888888888888,\"#fdca26\"],[1.0,\"#f0f921\"]],\"sequentialminus\":[[0.0,\"#0d0887\"],[0.1111111111111111,\"#46039f\"],[0.2222222222222222,\"#7201a8\"],[0.3333333333333333,\"#9c179e\"],[0.4444444444444444,\"#bd3786\"],[0.5555555555555556,\"#d8576b\"],[0.6666666666666666,\"#ed7953\"],[0.7777777777777778,\"#fb9f3a\"],[0.8888888888888888,\"#fdca26\"],[1.0,\"#f0f921\"]]},\"colorway\":[\"#636efa\",\"#EF553B\",\"#00cc96\",\"#ab63fa\",\"#FFA15A\",\"#19d3f3\",\"#FF6692\",\"#B6E880\",\"#FF97FF\",\"#FECB52\"],\"font\":{\"color\":\"#2a3f5f\"},\"geo\":{\"bgcolor\":\"white\",\"lakecolor\":\"white\",\"landcolor\":\"#E5ECF6\",\"showlakes\":true,\"showland\":true,\"subunitcolor\":\"white\"},\"hoverlabel\":{\"align\":\"left\"},\"hovermode\":\"closest\",\"mapbox\":{\"style\":\"light\"},\"paper_bgcolor\":\"white\",\"plot_bgcolor\":\"#E5ECF6\",\"polar\":{\"angularaxis\":{\"gridcolor\":\"white\",\"linecolor\":\"white\",\"ticks\":\"\"},\"bgcolor\":\"#E5ECF6\",\"radialaxis\":{\"gridcolor\":\"white\",\"linecolor\":\"white\",\"ticks\":\"\"}},\"scene\":{\"xaxis\":{\"backgroundcolor\":\"#E5ECF6\",\"gridcolor\":\"white\",\"gridwidth\":2,\"linecolor\":\"white\",\"showbackground\":true,\"ticks\":\"\",\"zerolinecolor\":\"white\"},\"yaxis\":{\"backgroundcolor\":\"#E5ECF6\",\"gridcolor\":\"white\",\"gridwidth\":2,\"linecolor\":\"white\",\"showbackground\":true,\"ticks\":\"\",\"zerolinecolor\":\"white\"},\"zaxis\":{\"backgroundcolor\":\"#E5ECF6\",\"gridcolor\":\"white\",\"gridwidth\":2,\"linecolor\":\"white\",\"showbackground\":true,\"ticks\":\"\",\"zerolinecolor\":\"white\"}},\"shapedefaults\":{\"line\":{\"color\":\"#2a3f5f\"}},\"ternary\":{\"aaxis\":{\"gridcolor\":\"white\",\"linecolor\":\"white\",\"ticks\":\"\"},\"baxis\":{\"gridcolor\":\"white\",\"linecolor\":\"white\",\"ticks\":\"\"},\"bgcolor\":\"#E5ECF6\",\"caxis\":{\"gridcolor\":\"white\",\"linecolor\":\"white\",\"ticks\":\"\"}},\"title\":{\"x\":0.05},\"xaxis\":{\"automargin\":true,\"gridcolor\":\"white\",\"linecolor\":\"white\",\"ticks\":\"\",\"title\":{\"standoff\":15},\"zerolinecolor\":\"white\",\"zerolinewidth\":2},\"yaxis\":{\"automargin\":true,\"gridcolor\":\"white\",\"linecolor\":\"white\",\"ticks\":\"\",\"title\":{\"standoff\":15},\"zerolinecolor\":\"white\",\"zerolinewidth\":2}}},\"xaxis\":{\"anchor\":\"y\",\"domain\":[0.0,1.0],\"title\":{\"text\":\"average hours viewed\"}},\"yaxis\":{\"anchor\":\"x\",\"domain\":[0.0,1.0],\"title\":{\"text\":\"count\"}},\"legend\":{\"tracegroupgap\":0},\"margin\":{\"t\":60},\"barmode\":\"relative\"},                        {\"responsive\": true}                    ).then(function(){\n",
       "                            \n",
       "var gd = document.getElementById('2e81a1bc-806c-49b9-b0ce-e5a0e5fea2dc');\n",
       "var x = new MutationObserver(function (mutations, observer) {{\n",
       "        var display = window.getComputedStyle(gd).display;\n",
       "        if (!display || display === 'none') {{\n",
       "            console.log([gd, 'removed!']);\n",
       "            Plotly.purge(gd);\n",
       "            observer.disconnect();\n",
       "        }}\n",
       "}});\n",
       "\n",
       "// Listen for the removal of the full notebook cells\n",
       "var notebookContainer = gd.closest('#notebook-container');\n",
       "if (notebookContainer) {{\n",
       "    x.observe(notebookContainer, {childList: true});\n",
       "}}\n",
       "\n",
       "// Listen for the clearing of the current output cell\n",
       "var outputEl = gd.closest('.output');\n",
       "if (outputEl) {{\n",
       "    x.observe(outputEl, {childList: true});\n",
       "}}\n",
       "\n",
       "                        })                };                });            </script>        </div>"
      ]
     },
     "metadata": {},
     "output_type": "display_data"
    }
   ],
   "source": [
    "fig = px.histogram(plot_df, x=\"average hours viewed\", nbins=10)\n",
    "fig.show()"
   ]
  },
  {
   "cell_type": "code",
   "execution_count": null,
   "id": "b1331ae4",
   "metadata": {},
   "outputs": [],
   "source": []
  }
 ],
 "metadata": {
  "kernelspec": {
   "display_name": "conda_python3",
   "language": "python",
   "name": "conda_python3"
  },
  "language_info": {
   "codemirror_mode": {
    "name": "ipython",
    "version": 3
   },
   "file_extension": ".py",
   "mimetype": "text/x-python",
   "name": "python",
   "nbconvert_exporter": "python",
   "pygments_lexer": "ipython3",
   "version": "3.6.13"
  }
 },
 "nbformat": 4,
 "nbformat_minor": 5
}
