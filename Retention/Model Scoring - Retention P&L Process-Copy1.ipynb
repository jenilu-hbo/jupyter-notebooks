{
 "cells": [
  {
   "cell_type": "code",
   "execution_count": 1,
   "id": "e4006722",
   "metadata": {},
   "outputs": [],
   "source": [
    "import pandas as pd\n",
    "import numpy as np\n",
    "import itertools as it\n",
    "import os\n",
    "import io\n",
    "import logging\n",
    "\n",
    "import boto3\n",
    "import sys\n",
    "import json\n",
    "import snowflake.connector"
   ]
  },
  {
   "cell_type": "markdown",
   "id": "ed47b639",
   "metadata": {},
   "source": [
    "# Reading Data "
   ]
  },
  {
   "cell_type": "code",
   "execution_count": 2,
   "id": "e67882c5",
   "metadata": {},
   "outputs": [],
   "source": [
    "input_bucket = \"hbo-ingest-datascience-content-dev\""
   ]
  },
  {
   "cell_type": "code",
   "execution_count": 3,
   "id": "1f20f99f",
   "metadata": {},
   "outputs": [
    {
     "name": "stderr",
     "output_type": "stream",
     "text": [
      "/home/ec2-user/anaconda3/envs/python3/lib/python3.6/site-packages/boto3/compat.py:88: PythonDeprecationWarning: Boto3 will no longer support Python 3.6 starting May 30, 2022. To continue receiving service updates, bug fixes, and security updates please upgrade to Python 3.7 or later. More information can be found here: https://aws.amazon.com/blogs/developer/python-support-policy-updates-for-aws-sdks-and-tools/\n",
      "  warnings.warn(warning, PythonDeprecationWarning)\n"
     ]
    },
    {
     "name": "stdout",
     "output_type": "stream",
     "text": [
      "Reading cost_allocation/dev/churn_metric_0906.csv features\n"
     ]
    }
   ],
   "source": [
    "logger = logging.getLogger()\n",
    "logger.info(f'Loading inputs')\n",
    "data_list =[]\n",
    "\n",
    "s3 = boto3.resource('s3')\n",
    "bucket = s3.Bucket(input_bucket)\n",
    "\n",
    "for obj in bucket.objects.filter(Prefix='cost_allocation/dev/churn_metric_0906'): #churn_metric_0811\n",
    "            key = obj.key\n",
    "            logger.info('Loading csv file {}'.format(key))\n",
    "            body = obj.get()['Body']\n",
    "            print('Reading {0} features'.format(key))\n",
    "            churn_metric = pd.read_csv(body, na_values = [r'\\\\\\\\N'])"
   ]
  },
  {
   "cell_type": "code",
   "execution_count": 4,
   "id": "4378ca4d",
   "metadata": {},
   "outputs": [
    {
     "data": {
      "text/html": [
       "<div>\n",
       "<style scoped>\n",
       "    .dataframe tbody tr th:only-of-type {\n",
       "        vertical-align: middle;\n",
       "    }\n",
       "\n",
       "    .dataframe tbody tr th {\n",
       "        vertical-align: top;\n",
       "    }\n",
       "\n",
       "    .dataframe thead th {\n",
       "        text-align: right;\n",
       "    }\n",
       "</style>\n",
       "<table border=\"1\" class=\"dataframe\">\n",
       "  <thead>\n",
       "    <tr style=\"text-align: right;\">\n",
       "      <th></th>\n",
       "      <th>Unnamed: 0</th>\n",
       "      <th>genre</th>\n",
       "      <th>medal</th>\n",
       "      <th>category</th>\n",
       "      <th>churn_per_hr_person</th>\n",
       "    </tr>\n",
       "  </thead>\n",
       "  <tbody>\n",
       "    <tr>\n",
       "      <th>0</th>\n",
       "      <td>0</td>\n",
       "      <td>action</td>\n",
       "      <td>Platinum</td>\n",
       "      <td>movies</td>\n",
       "      <td>-0.028358</td>\n",
       "    </tr>\n",
       "    <tr>\n",
       "      <th>1</th>\n",
       "      <td>1</td>\n",
       "      <td>action</td>\n",
       "      <td>Gold</td>\n",
       "      <td>series</td>\n",
       "      <td>-0.020530</td>\n",
       "    </tr>\n",
       "    <tr>\n",
       "      <th>2</th>\n",
       "      <td>2</td>\n",
       "      <td>action</td>\n",
       "      <td>Gold</td>\n",
       "      <td>movies</td>\n",
       "      <td>-0.027117</td>\n",
       "    </tr>\n",
       "    <tr>\n",
       "      <th>3</th>\n",
       "      <td>3</td>\n",
       "      <td>action</td>\n",
       "      <td>Silver</td>\n",
       "      <td>series</td>\n",
       "      <td>-0.005406</td>\n",
       "    </tr>\n",
       "    <tr>\n",
       "      <th>4</th>\n",
       "      <td>4</td>\n",
       "      <td>action</td>\n",
       "      <td>Silver</td>\n",
       "      <td>movies</td>\n",
       "      <td>-0.019190</td>\n",
       "    </tr>\n",
       "  </tbody>\n",
       "</table>\n",
       "</div>"
      ],
      "text/plain": [
       "   Unnamed: 0   genre     medal category  churn_per_hr_person\n",
       "0           0  action  Platinum   movies            -0.028358\n",
       "1           1  action      Gold   series            -0.020530\n",
       "2           2  action      Gold   movies            -0.027117\n",
       "3           3  action    Silver   series            -0.005406\n",
       "4           4  action    Silver   movies            -0.019190"
      ]
     },
     "execution_count": 4,
     "metadata": {},
     "output_type": "execute_result"
    }
   ],
   "source": [
    "churn_metric.head()"
   ]
  },
  {
   "cell_type": "code",
   "execution_count": 89,
   "id": "2a2e7612",
   "metadata": {},
   "outputs": [],
   "source": [
    "hours_viewed = pd.read_csv('content_slate_prediction.csv')"
   ]
  },
  {
   "cell_type": "code",
   "execution_count": 90,
   "id": "0c149517",
   "metadata": {},
   "outputs": [],
   "source": [
    "hours_viewed = hours_viewed[['title_name', 'season_number', 'offering_start_date', 'prediction', 'Genre', \n",
    "                             'medal', 'content_category', 'asset_run_time_hours']]"
   ]
  },
  {
   "cell_type": "code",
   "execution_count": 91,
   "id": "bbc2d1f1",
   "metadata": {},
   "outputs": [],
   "source": [
    "hours_viewed.rename(columns = {'Genre': 'genre', 'content_category':'category'}, inplace = True)"
   ]
  },
  {
   "cell_type": "code",
   "execution_count": 92,
   "id": "09d8a3a7",
   "metadata": {},
   "outputs": [
    {
     "data": {
      "text/plain": [
       "array(['Docuseries', 'Special / Stand-Up', 'Documentary',\n",
       "       'Scripted Series - Live Action Drama', 'Sports - Talk',\n",
       "       'Scripted Limited Series - Live Action Drama', 'News / Talk',\n",
       "       'Scripted Series - Live Action Comedy',\n",
       "       'Sports - Special / Limited Series / Doc',\n",
       "       'Scripted - Movie - Drama / Romance',\n",
       "       'Unscripted Series - Docufollow / Reality',\n",
       "       'Kids - Animated Series',\n",
       "       'Scripted - Movie - Comedy / Rom Com / Holiday',\n",
       "       'Scripted Series - Animated Comedy',\n",
       "       'Unscripted Series - Format / Competition',\n",
       "       'Kids - Scripted Series', 'Pay 1 - Studio', 'Pay 1 - Indie'],\n",
       "      dtype=object)"
      ]
     },
     "execution_count": 92,
     "metadata": {},
     "output_type": "execute_result"
    }
   ],
   "source": [
    "hours_viewed.category.unique()"
   ]
  },
  {
   "cell_type": "code",
   "execution_count": 93,
   "id": "ed880883",
   "metadata": {},
   "outputs": [
    {
     "data": {
      "text/plain": [
       "array(['movies', 'series'], dtype=object)"
      ]
     },
     "execution_count": 93,
     "metadata": {},
     "output_type": "execute_result"
    }
   ],
   "source": [
    "churn_metric.category.unique()"
   ]
  },
  {
   "cell_type": "code",
   "execution_count": 94,
   "id": "6454d8aa",
   "metadata": {},
   "outputs": [],
   "source": [
    "hours_viewed.loc[hours_viewed['genre'] == 'Comedy', 'genre'] = 'comedy'\n",
    "hours_viewed.loc[hours_viewed['genre'] == 'Drama', 'genre'] = 'drama'\n",
    "hours_viewed.loc[(hours_viewed['category'].str.contains('Action')) &(hours_viewed['genre']!='drama'), \n",
    "                 'genre'] = 'action'\n",
    "hours_viewed.loc[~hours_viewed['genre'].isin(['action', 'comedy', 'drama']), 'genre'] = 'other'\n",
    "\n",
    "hours_viewed.loc[hours_viewed['medal'] == 'None', 'medal'] = 'Bronze'\n",
    "\n",
    "hours_viewed.loc[hours_viewed['category'].str.contains('Series|series'), 'category'] = 'series'\n",
    "hours_viewed.loc[hours_viewed['category']!='series', 'category'] = 'movies'"
   ]
  },
  {
   "cell_type": "code",
   "execution_count": 97,
   "id": "f5030b54",
   "metadata": {},
   "outputs": [],
   "source": [
    "hours_viewed = hours_viewed.merge(churn_metric[['genre','medal','category', 'churn_per_hr_person']], on = ['genre','medal','category'])"
   ]
  },
  {
   "cell_type": "code",
   "execution_count": 99,
   "id": "3d89b951",
   "metadata": {},
   "outputs": [],
   "source": [
    "hours_viewed['change_in_churn_60d_prediction'] = hours_viewed['prediction'] * hours_viewed['churn_per_hr_person']"
   ]
  },
  {
   "cell_type": "code",
   "execution_count": 100,
   "id": "6f229b68",
   "metadata": {},
   "outputs": [],
   "source": [
    "hours_viewed_thresh = hours_viewed"
   ]
  },
  {
   "cell_type": "markdown",
   "id": "dbcf12e3",
   "metadata": {},
   "source": [
    "# Allocate the 60-Day Churn to monthly"
   ]
  },
  {
   "cell_type": "code",
   "execution_count": 122,
   "id": "d73f6504",
   "metadata": {},
   "outputs": [],
   "source": [
    "ever_green_titles = pd.read_csv('final_evergreen_title_list.csv') #final_evergreen_title_list.csv # ever_green_titles.csv"
   ]
  },
  {
   "cell_type": "code",
   "execution_count": 123,
   "id": "6042f8ed",
   "metadata": {},
   "outputs": [
    {
     "data": {
      "text/plain": [
       "11"
      ]
     },
     "execution_count": 123,
     "metadata": {},
     "output_type": "execute_result"
    }
   ],
   "source": [
    "len(ever_green_titles.title_id.unique())"
   ]
  },
  {
   "cell_type": "code",
   "execution_count": 103,
   "id": "b838cb6e",
   "metadata": {},
   "outputs": [],
   "source": [
    "ever_green_title_name = ever_green_titles.title_name.unique()\n",
    "norm_title_name = hours_viewed_thresh[~hours_viewed_thresh['title_name'].isin(ever_green_title_id)].title_name.unique()"
   ]
  },
  {
   "cell_type": "code",
   "execution_count": 104,
   "id": "ccf7a629",
   "metadata": {},
   "outputs": [
    {
     "data": {
      "text/plain": [
       "array(['The Sopranos', 'Curb Your Enthusiasm', 'Sex and the City',\n",
       "       'Game of Thrones', 'American Pie', 'War Dogs',\n",
       "       'Pretty Little Liars', 'The Big Bang Theory', 'Friends',\n",
       "       'Annabelle Comes Home', 'X-Men: Dark Phoenix'], dtype=object)"
      ]
     },
     "execution_count": 104,
     "metadata": {},
     "output_type": "execute_result"
    }
   ],
   "source": [
    "ever_green_title_name"
   ]
  },
  {
   "cell_type": "markdown",
   "id": "5c05f0af",
   "metadata": {},
   "source": [
    "### 1. Normal Titles"
   ]
  },
  {
   "cell_type": "code",
   "execution_count": 126,
   "id": "670e46e6",
   "metadata": {},
   "outputs": [],
   "source": [
    "import matplotlib.pyplot as plt\n",
    "from matplotlib.pyplot import figure"
   ]
  },
  {
   "cell_type": "code",
   "execution_count": 127,
   "id": "5cfa4dbf",
   "metadata": {},
   "outputs": [],
   "source": [
    "from scipy.optimize import curve_fit"
   ]
  },
  {
   "cell_type": "code",
   "execution_count": 128,
   "id": "de876239",
   "metadata": {},
   "outputs": [],
   "source": [
    "historical_weekly_hours_viewed = pd.read_csv('historical_weekly_hours_viewed.csv')"
   ]
  },
  {
   "cell_type": "code",
   "execution_count": 129,
   "id": "deacb7b4",
   "metadata": {},
   "outputs": [
    {
     "name": "stderr",
     "output_type": "stream",
     "text": [
      "/home/ec2-user/anaconda3/envs/python3/lib/python3.6/site-packages/pandas/core/series.py:726: RuntimeWarning: overflow encountered in exp\n",
      "  result = getattr(ufunc, method)(*inputs, **kwargs)\n"
     ]
    }
   ],
   "source": [
    "def func(x, a, b, c):\n",
    "    return a * np.exp(-b * x) + c\n",
    "\n",
    "## 90% of the retention value deteriorates in the first year\n",
    "x = historical_weekly_hours_viewed['days_on_hbo_max']\n",
    "y = historical_weekly_hours_viewed['target']\n",
    "\n",
    "popt, pcov = curve_fit(func, x, y)"
   ]
  },
  {
   "cell_type": "code",
   "execution_count": 130,
   "id": "c41c2e77",
   "metadata": {},
   "outputs": [
    {
     "data": {
      "text/plain": [
       "9.668299515987423"
      ]
     },
     "execution_count": 130,
     "metadata": {},
     "output_type": "execute_result"
    }
   ],
   "source": [
    "func(0, *popt)"
   ]
  },
  {
   "cell_type": "code",
   "execution_count": 131,
   "id": "b403c768",
   "metadata": {},
   "outputs": [
    {
     "data": {
      "text/plain": [
       "array([9.10159297, 0.0671376 , 0.56670655])"
      ]
     },
     "execution_count": 131,
     "metadata": {},
     "output_type": "execute_result"
    }
   ],
   "source": [
    "popt #0.00059137, 0.03019112, 0.00055421"
   ]
  },
  {
   "cell_type": "code",
   "execution_count": 132,
   "id": "44d15abc",
   "metadata": {},
   "outputs": [],
   "source": [
    "x1 = pd.Series(np.arange(0,365,1))\n",
    "y1 = func(x1, *popt)"
   ]
  },
  {
   "cell_type": "code",
   "execution_count": 133,
   "id": "c631afbc",
   "metadata": {},
   "outputs": [
    {
     "data": {
      "image/png": "[encoded data removed]",
      "text/plain": [
       "<Figure size 1296x432 with 1 Axes>"
      ]
     },
     "metadata": {
      "needs_background": "light"
     },
     "output_type": "display_data"
    }
   ],
   "source": [
    "fig, ax = plt.subplots(figsize=(18, 6))\n",
    "plt.plot(x, y)\n",
    "plt.plot(x1, y1)\n",
    "plt.show()"
   ]
  },
  {
   "cell_type": "code",
   "execution_count": 145,
   "id": "6381c6c8",
   "metadata": {},
   "outputs": [],
   "source": [
    "dt_df = pd.DataFrame()\n",
    "dt_df['days_on_hbo_max'] = [i for i in range(0, 365*1, 1)]\n",
    "dt_df['factor'] = func(dt_df['days_on_hbo_max'], *popt)\n",
    "dt_df['key'] = 1"
   ]
  },
  {
   "cell_type": "code",
   "execution_count": 146,
   "id": "350aa6d8",
   "metadata": {},
   "outputs": [],
   "source": [
    "day_60_cum_sum = dt_df[dt_df['days_on_hbo_max']<60].factor.sum()"
   ]
  },
  {
   "cell_type": "code",
   "execution_count": 147,
   "id": "0e488fa2",
   "metadata": {},
   "outputs": [],
   "source": [
    "hours_viewed_decay_norm = hours_viewed_thresh\n",
    "hours_viewed_decay_norm['key'] = 1\n",
    "\n",
    "hours_viewed_decay_norm = hours_viewed_decay_norm.merge(dt_df, on = ['key']).drop(['key'], axis = 1)\n",
    "\n",
    "hours_viewed_decay_norm['change_in_churn_prediction'] = hours_viewed_decay_norm['change_in_churn_60d_prediction']/day_60_cum_sum*hours_viewed_decay_norm['factor']*hours_viewed_decay_norm['asset_run_time_hours']\n",
    "\n",
    "hours_viewed_decay_norm['request_date'] = pd.to_datetime(hours_viewed_decay_norm['offering_start_date']) \\\n",
    "                                        + pd.to_timedelta(hours_viewed_decay_norm['days_on_hbo_max'], unit='D')"
   ]
  },
  {
   "cell_type": "code",
   "execution_count": 148,
   "id": "4f7049c3",
   "metadata": {},
   "outputs": [
    {
     "data": {
      "image/png": "[encoded data removed]",
      "text/plain": [
       "<Figure size 576x288 with 1 Axes>"
      ]
     },
     "metadata": {
      "needs_background": "light"
     },
     "output_type": "display_data"
    }
   ],
   "source": [
    "fig, ax = plt.subplots(figsize=(8, 4))\n",
    "test = hours_viewed_decay_norm\n",
    "plot_df = test[test['title_name'].str.contains('EUPHORIA S3')]\n",
    "plt.plot(plot_df['days_on_hbo_max'], plot_df['change_in_churn_prediction'], label='Prediction - And Just Like That...')\n",
    "\n",
    "ax.set_xlabel('days_on_hbo_max')\n",
    "ax.set_ylabel('change_in_churn')\n",
    "ax.legend()\n",
    "\n",
    "plt.show()"
   ]
  },
  {
   "cell_type": "markdown",
   "id": "a78f11e2",
   "metadata": {},
   "source": [
    "### 2. Evergreen Titles"
   ]
  },
  {
   "cell_type": "markdown",
   "id": "bbd4dfff",
   "metadata": {},
   "source": [
    "#### 2.2 Keep the retention value all the way along"
   ]
  },
  {
   "cell_type": "code",
   "execution_count": 151,
   "id": "090860b5",
   "metadata": {},
   "outputs": [],
   "source": [
    "# dt_df = pd.DataFrame()\n",
    "# dt_df['days_on_hbo_max'] = [i for i in range(0, 365*3, 1)]\n",
    "# dt_df['key'] = 1\n",
    "\n",
    "# hours_viewed_decay_evergreen = hours_viewed_thresh[hours_viewed_thresh['title_id'].isin(ever_green_title_id)]\n",
    "# hours_viewed_decay_evergreen['key'] = 1\n",
    "\n",
    "# hours_viewed_decay_evergreen = hours_viewed_decay_evergreen.merge(dt_df, on = ['key']).drop(['key'], axis = 1)\n",
    "\n",
    "# hours_viewed_decay_evergreen['change_in_churn'] = hours_viewed_decay_evergreen['change_in_churn_60d']/60*hours_viewed_decay_evergreen['asset_run_time_hours']\n",
    "# hours_viewed_decay_evergreen['change_in_churn_prediction'] = hours_viewed_decay_evergreen['change_in_churn_60d_prediction']/60*hours_viewed_decay_evergreen['asset_run_time_hours']\n",
    "\n",
    "# hours_viewed_decay_evergreen['request_date'] = pd.to_datetime(hours_viewed_decay_evergreen['offering_start_date']) \\\n",
    "#                                         + pd.to_timedelta(hours_viewed_decay_evergreen['days_on_hbo_max'], unit='D')\n",
    "\n",
    "# hours_viewed_decay_evergreen = hours_viewed_decay_evergreen[hours_viewed_decay_evergreen['request_date'] <= '2023-03-01']\n"
   ]
  },
  {
   "cell_type": "code",
   "execution_count": 152,
   "id": "9e13d23d",
   "metadata": {},
   "outputs": [],
   "source": [
    "# fig, ax = plt.subplots(figsize=(8, 4))\n",
    "# test = hours_viewed_decay_evergreen\n",
    "\n",
    "\n",
    "# for i in range(1,2,1):\n",
    "#     plot_df = test[(test['title_name'] == 'Friends') &(test['season_number'] == i)]\n",
    "#     plt.plot(plot_df['days_on_hbo_max'], plot_df['change_in_churn'], label= 'Actual - Friends S' + str(i))\n",
    "#     plt.plot(plot_df['days_on_hbo_max'], plot_df['change_in_churn_prediction'], label= 'Prediction - Friends S' + str(i))\n",
    "\n",
    "# ax.set_xlabel('days_on_hbo_max')\n",
    "# ax.set_ylabel('change_in_churn')\n",
    "# ax.legend()\n",
    "\n",
    "# plt.show()"
   ]
  },
  {
   "cell_type": "markdown",
   "id": "0f65dcd0",
   "metadata": {},
   "source": [
    "## UNION ALL THE DFs"
   ]
  },
  {
   "cell_type": "code",
   "execution_count": 153,
   "id": "1482f5b1",
   "metadata": {},
   "outputs": [],
   "source": [
    "# data = pd.concat([hours_viewed_decay_norm[['title_name', 'title_id', 'season_number', 'request_date',  'days_on_hbo_max', 'change_in_churn', 'change_in_churn_prediction']],\n",
    "#                 hours_viewed_decay_evergreen[['title_name', 'title_id', 'season_number', 'request_date',  'days_on_hbo_max', 'change_in_churn', 'change_in_churn_prediction']] ],\n",
    "#                 axis = 0)\n",
    "data = hours_viewed_decay_norm"
   ]
  },
  {
   "cell_type": "code",
   "execution_count": 154,
   "id": "be68191d",
   "metadata": {},
   "outputs": [],
   "source": [
    "data['date_month'] = data['request_date'].dt.to_period('M')"
   ]
  },
  {
   "cell_type": "code",
   "execution_count": 155,
   "id": "43472661",
   "metadata": {},
   "outputs": [
    {
     "data": {
      "text/html": [
       "<div>\n",
       "<style scoped>\n",
       "    .dataframe tbody tr th:only-of-type {\n",
       "        vertical-align: middle;\n",
       "    }\n",
       "\n",
       "    .dataframe tbody tr th {\n",
       "        vertical-align: top;\n",
       "    }\n",
       "\n",
       "    .dataframe thead th {\n",
       "        text-align: right;\n",
       "    }\n",
       "</style>\n",
       "<table border=\"1\" class=\"dataframe\">\n",
       "  <thead>\n",
       "    <tr style=\"text-align: right;\">\n",
       "      <th></th>\n",
       "      <th>title_name</th>\n",
       "      <th>season_number</th>\n",
       "      <th>offering_start_date</th>\n",
       "      <th>prediction</th>\n",
       "      <th>genre</th>\n",
       "      <th>medal</th>\n",
       "      <th>category</th>\n",
       "      <th>asset_run_time_hours</th>\n",
       "      <th>churn_per_hr_person</th>\n",
       "      <th>change_in_churn_60d_prediction</th>\n",
       "      <th>days_on_hbo_max</th>\n",
       "      <th>factor</th>\n",
       "      <th>change_in_churn_prediction</th>\n",
       "      <th>request_date</th>\n",
       "      <th>date_month</th>\n",
       "    </tr>\n",
       "  </thead>\n",
       "  <tbody>\n",
       "    <tr>\n",
       "      <th>0</th>\n",
       "      <td>RAMY YOUSSEF SPECIAL</td>\n",
       "      <td>NaN</td>\n",
       "      <td>2023-11-01</td>\n",
       "      <td>0.03309</td>\n",
       "      <td>other</td>\n",
       "      <td>Gold</td>\n",
       "      <td>movies</td>\n",
       "      <td>1.0</td>\n",
       "      <td>-0.042203</td>\n",
       "      <td>-0.001397</td>\n",
       "      <td>0</td>\n",
       "      <td>9.668300</td>\n",
       "      <td>-0.000079</td>\n",
       "      <td>2023-11-01</td>\n",
       "      <td>2023-11</td>\n",
       "    </tr>\n",
       "    <tr>\n",
       "      <th>1</th>\n",
       "      <td>RAMY YOUSSEF SPECIAL</td>\n",
       "      <td>NaN</td>\n",
       "      <td>2023-11-01</td>\n",
       "      <td>0.03309</td>\n",
       "      <td>other</td>\n",
       "      <td>Gold</td>\n",
       "      <td>movies</td>\n",
       "      <td>1.0</td>\n",
       "      <td>-0.042203</td>\n",
       "      <td>-0.001397</td>\n",
       "      <td>1</td>\n",
       "      <td>9.077301</td>\n",
       "      <td>-0.000074</td>\n",
       "      <td>2023-11-02</td>\n",
       "      <td>2023-11</td>\n",
       "    </tr>\n",
       "    <tr>\n",
       "      <th>2</th>\n",
       "      <td>RAMY YOUSSEF SPECIAL</td>\n",
       "      <td>NaN</td>\n",
       "      <td>2023-11-01</td>\n",
       "      <td>0.03309</td>\n",
       "      <td>other</td>\n",
       "      <td>Gold</td>\n",
       "      <td>movies</td>\n",
       "      <td>1.0</td>\n",
       "      <td>-0.042203</td>\n",
       "      <td>-0.001397</td>\n",
       "      <td>2</td>\n",
       "      <td>8.524679</td>\n",
       "      <td>-0.000069</td>\n",
       "      <td>2023-11-03</td>\n",
       "      <td>2023-11</td>\n",
       "    </tr>\n",
       "    <tr>\n",
       "      <th>3</th>\n",
       "      <td>RAMY YOUSSEF SPECIAL</td>\n",
       "      <td>NaN</td>\n",
       "      <td>2023-11-01</td>\n",
       "      <td>0.03309</td>\n",
       "      <td>other</td>\n",
       "      <td>Gold</td>\n",
       "      <td>movies</td>\n",
       "      <td>1.0</td>\n",
       "      <td>-0.042203</td>\n",
       "      <td>-0.001397</td>\n",
       "      <td>3</td>\n",
       "      <td>8.007940</td>\n",
       "      <td>-0.000065</td>\n",
       "      <td>2023-11-04</td>\n",
       "      <td>2023-11</td>\n",
       "    </tr>\n",
       "    <tr>\n",
       "      <th>4</th>\n",
       "      <td>RAMY YOUSSEF SPECIAL</td>\n",
       "      <td>NaN</td>\n",
       "      <td>2023-11-01</td>\n",
       "      <td>0.03309</td>\n",
       "      <td>other</td>\n",
       "      <td>Gold</td>\n",
       "      <td>movies</td>\n",
       "      <td>1.0</td>\n",
       "      <td>-0.042203</td>\n",
       "      <td>-0.001397</td>\n",
       "      <td>4</td>\n",
       "      <td>7.524755</td>\n",
       "      <td>-0.000061</td>\n",
       "      <td>2023-11-05</td>\n",
       "      <td>2023-11</td>\n",
       "    </tr>\n",
       "  </tbody>\n",
       "</table>\n",
       "</div>"
      ],
      "text/plain": [
       "             title_name  season_number offering_start_date  prediction  genre  \\\n",
       "0  RAMY YOUSSEF SPECIAL            NaN          2023-11-01     0.03309  other   \n",
       "1  RAMY YOUSSEF SPECIAL            NaN          2023-11-01     0.03309  other   \n",
       "2  RAMY YOUSSEF SPECIAL            NaN          2023-11-01     0.03309  other   \n",
       "3  RAMY YOUSSEF SPECIAL            NaN          2023-11-01     0.03309  other   \n",
       "4  RAMY YOUSSEF SPECIAL            NaN          2023-11-01     0.03309  other   \n",
       "\n",
       "  medal category  asset_run_time_hours  churn_per_hr_person  \\\n",
       "0  Gold   movies                   1.0            -0.042203   \n",
       "1  Gold   movies                   1.0            -0.042203   \n",
       "2  Gold   movies                   1.0            -0.042203   \n",
       "3  Gold   movies                   1.0            -0.042203   \n",
       "4  Gold   movies                   1.0            -0.042203   \n",
       "\n",
       "   change_in_churn_60d_prediction  days_on_hbo_max    factor  \\\n",
       "0                       -0.001397                0  9.668300   \n",
       "1                       -0.001397                1  9.077301   \n",
       "2                       -0.001397                2  8.524679   \n",
       "3                       -0.001397                3  8.007940   \n",
       "4                       -0.001397                4  7.524755   \n",
       "\n",
       "   change_in_churn_prediction request_date date_month  \n",
       "0                   -0.000079   2023-11-01    2023-11  \n",
       "1                   -0.000074   2023-11-02    2023-11  \n",
       "2                   -0.000069   2023-11-03    2023-11  \n",
       "3                   -0.000065   2023-11-04    2023-11  \n",
       "4                   -0.000061   2023-11-05    2023-11  "
      ]
     },
     "execution_count": 155,
     "metadata": {},
     "output_type": "execute_result"
    }
   ],
   "source": [
    "data.head()"
   ]
  },
  {
   "cell_type": "markdown",
   "id": "1d8a5c19",
   "metadata": {},
   "source": [
    "#### Write to S3/SF"
   ]
  },
  {
   "cell_type": "code",
   "execution_count": 156,
   "id": "ba4e8ff7",
   "metadata": {},
   "outputs": [
    {
     "name": "stderr",
     "output_type": "stream",
     "text": [
      "/home/ec2-user/anaconda3/envs/python3/lib/python3.6/site-packages/boto3/compat.py:88: PythonDeprecationWarning: Boto3 will no longer support Python 3.6 starting May 30, 2022. To continue receiving service updates, bug fixes, and security updates please upgrade to Python 3.7 or later. More information can be found here: https://aws.amazon.com/blogs/developer/python-support-policy-updates-for-aws-sdks-and-tools/\n",
      "  warnings.warn(warning, PythonDeprecationWarning)\n"
     ]
    }
   ],
   "source": [
    "import boto3\n",
    "import io\n",
    "\n",
    "def to_s3(filename, output_bucket, content):\n",
    "    client = boto3.client('s3')\n",
    "    client.put_object(Bucket=output_bucket, Key=filename, Body=content)\n",
    "    \n",
    "output_bucket = 'hbo-outbound-datascience-content-dev'\n",
    "s3 = boto3.resource('s3')\n",
    "bucket = s3.Bucket(output_bucket)\n",
    "\n",
    "def write_to_sf(df, file_name):\n",
    "    csv_buffer = io.StringIO()\n",
    "    df.to_csv(csv_buffer, index = False)\n",
    "    content = csv_buffer.getvalue()\n",
    "    filename = 'title_hours_viewed_retention/{}.csv'.format(file_name)\n",
    "    to_s3(filename, output_bucket, content)"
   ]
  },
  {
   "cell_type": "code",
   "execution_count": 157,
   "id": "89339392",
   "metadata": {},
   "outputs": [
    {
     "data": {
      "text/html": [
       "<div>\n",
       "<style scoped>\n",
       "    .dataframe tbody tr th:only-of-type {\n",
       "        vertical-align: middle;\n",
       "    }\n",
       "\n",
       "    .dataframe tbody tr th {\n",
       "        vertical-align: top;\n",
       "    }\n",
       "\n",
       "    .dataframe thead th {\n",
       "        text-align: right;\n",
       "    }\n",
       "</style>\n",
       "<table border=\"1\" class=\"dataframe\">\n",
       "  <thead>\n",
       "    <tr style=\"text-align: right;\">\n",
       "      <th></th>\n",
       "      <th>title_name</th>\n",
       "      <th>season_number</th>\n",
       "      <th>offering_start_date</th>\n",
       "      <th>prediction</th>\n",
       "      <th>genre</th>\n",
       "      <th>medal</th>\n",
       "      <th>category</th>\n",
       "      <th>asset_run_time_hours</th>\n",
       "      <th>churn_per_hr_person</th>\n",
       "      <th>change_in_churn_60d_prediction</th>\n",
       "      <th>days_on_hbo_max</th>\n",
       "      <th>factor</th>\n",
       "      <th>change_in_churn_prediction</th>\n",
       "      <th>request_date</th>\n",
       "      <th>date_month</th>\n",
       "    </tr>\n",
       "  </thead>\n",
       "  <tbody>\n",
       "    <tr>\n",
       "      <th>0</th>\n",
       "      <td>RAMY YOUSSEF SPECIAL</td>\n",
       "      <td>NaN</td>\n",
       "      <td>2023-11-01</td>\n",
       "      <td>0.03309</td>\n",
       "      <td>other</td>\n",
       "      <td>Gold</td>\n",
       "      <td>movies</td>\n",
       "      <td>1.0</td>\n",
       "      <td>-0.042203</td>\n",
       "      <td>-0.001397</td>\n",
       "      <td>0</td>\n",
       "      <td>9.668300</td>\n",
       "      <td>-0.000079</td>\n",
       "      <td>2023-11-01</td>\n",
       "      <td>2023-11</td>\n",
       "    </tr>\n",
       "    <tr>\n",
       "      <th>1</th>\n",
       "      <td>RAMY YOUSSEF SPECIAL</td>\n",
       "      <td>NaN</td>\n",
       "      <td>2023-11-01</td>\n",
       "      <td>0.03309</td>\n",
       "      <td>other</td>\n",
       "      <td>Gold</td>\n",
       "      <td>movies</td>\n",
       "      <td>1.0</td>\n",
       "      <td>-0.042203</td>\n",
       "      <td>-0.001397</td>\n",
       "      <td>1</td>\n",
       "      <td>9.077301</td>\n",
       "      <td>-0.000074</td>\n",
       "      <td>2023-11-02</td>\n",
       "      <td>2023-11</td>\n",
       "    </tr>\n",
       "    <tr>\n",
       "      <th>2</th>\n",
       "      <td>RAMY YOUSSEF SPECIAL</td>\n",
       "      <td>NaN</td>\n",
       "      <td>2023-11-01</td>\n",
       "      <td>0.03309</td>\n",
       "      <td>other</td>\n",
       "      <td>Gold</td>\n",
       "      <td>movies</td>\n",
       "      <td>1.0</td>\n",
       "      <td>-0.042203</td>\n",
       "      <td>-0.001397</td>\n",
       "      <td>2</td>\n",
       "      <td>8.524679</td>\n",
       "      <td>-0.000069</td>\n",
       "      <td>2023-11-03</td>\n",
       "      <td>2023-11</td>\n",
       "    </tr>\n",
       "    <tr>\n",
       "      <th>3</th>\n",
       "      <td>RAMY YOUSSEF SPECIAL</td>\n",
       "      <td>NaN</td>\n",
       "      <td>2023-11-01</td>\n",
       "      <td>0.03309</td>\n",
       "      <td>other</td>\n",
       "      <td>Gold</td>\n",
       "      <td>movies</td>\n",
       "      <td>1.0</td>\n",
       "      <td>-0.042203</td>\n",
       "      <td>-0.001397</td>\n",
       "      <td>3</td>\n",
       "      <td>8.007940</td>\n",
       "      <td>-0.000065</td>\n",
       "      <td>2023-11-04</td>\n",
       "      <td>2023-11</td>\n",
       "    </tr>\n",
       "    <tr>\n",
       "      <th>4</th>\n",
       "      <td>RAMY YOUSSEF SPECIAL</td>\n",
       "      <td>NaN</td>\n",
       "      <td>2023-11-01</td>\n",
       "      <td>0.03309</td>\n",
       "      <td>other</td>\n",
       "      <td>Gold</td>\n",
       "      <td>movies</td>\n",
       "      <td>1.0</td>\n",
       "      <td>-0.042203</td>\n",
       "      <td>-0.001397</td>\n",
       "      <td>4</td>\n",
       "      <td>7.524755</td>\n",
       "      <td>-0.000061</td>\n",
       "      <td>2023-11-05</td>\n",
       "      <td>2023-11</td>\n",
       "    </tr>\n",
       "  </tbody>\n",
       "</table>\n",
       "</div>"
      ],
      "text/plain": [
       "             title_name  season_number offering_start_date  prediction  genre  \\\n",
       "0  RAMY YOUSSEF SPECIAL            NaN          2023-11-01     0.03309  other   \n",
       "1  RAMY YOUSSEF SPECIAL            NaN          2023-11-01     0.03309  other   \n",
       "2  RAMY YOUSSEF SPECIAL            NaN          2023-11-01     0.03309  other   \n",
       "3  RAMY YOUSSEF SPECIAL            NaN          2023-11-01     0.03309  other   \n",
       "4  RAMY YOUSSEF SPECIAL            NaN          2023-11-01     0.03309  other   \n",
       "\n",
       "  medal category  asset_run_time_hours  churn_per_hr_person  \\\n",
       "0  Gold   movies                   1.0            -0.042203   \n",
       "1  Gold   movies                   1.0            -0.042203   \n",
       "2  Gold   movies                   1.0            -0.042203   \n",
       "3  Gold   movies                   1.0            -0.042203   \n",
       "4  Gold   movies                   1.0            -0.042203   \n",
       "\n",
       "   change_in_churn_60d_prediction  days_on_hbo_max    factor  \\\n",
       "0                       -0.001397                0  9.668300   \n",
       "1                       -0.001397                1  9.077301   \n",
       "2                       -0.001397                2  8.524679   \n",
       "3                       -0.001397                3  8.007940   \n",
       "4                       -0.001397                4  7.524755   \n",
       "\n",
       "   change_in_churn_prediction request_date date_month  \n",
       "0                   -0.000079   2023-11-01    2023-11  \n",
       "1                   -0.000074   2023-11-02    2023-11  \n",
       "2                   -0.000069   2023-11-03    2023-11  \n",
       "3                   -0.000065   2023-11-04    2023-11  \n",
       "4                   -0.000061   2023-11-05    2023-11  "
      ]
     },
     "execution_count": 157,
     "metadata": {},
     "output_type": "execute_result"
    }
   ],
   "source": [
    "data.head()"
   ]
  },
  {
   "cell_type": "code",
   "execution_count": null,
   "id": "f4ecde00",
   "metadata": {},
   "outputs": [],
   "source": [
    "pivot_table = pd.pivot_table(data, values='D', index=['A', 'B'],\n",
    "                           columns=['C'], aggfunc=\"sum\", fill_value=0)"
   ]
  },
  {
   "cell_type": "code",
   "execution_count": 137,
   "id": "aa25f45c",
   "metadata": {},
   "outputs": [],
   "source": [
    "# data.to_csv('daily_monthly_retention_value.csv')"
   ]
  },
  {
   "cell_type": "code",
   "execution_count": 158,
   "id": "121bfc5f",
   "metadata": {},
   "outputs": [],
   "source": [
    "filename = 'content_slate_daily_monthly_retention_value_'+pd.Timestamp.today().strftime('%Y-%m-%d') "
   ]
  },
  {
   "cell_type": "code",
   "execution_count": 159,
   "id": "456203b5",
   "metadata": {},
   "outputs": [
    {
     "name": "stderr",
     "output_type": "stream",
     "text": [
      "/home/ec2-user/anaconda3/envs/python3/lib/python3.6/site-packages/boto3/compat.py:88: PythonDeprecationWarning: Boto3 will no longer support Python 3.6 starting May 30, 2022. To continue receiving service updates, bug fixes, and security updates please upgrade to Python 3.7 or later. More information can be found here: https://aws.amazon.com/blogs/developer/python-support-policy-updates-for-aws-sdks-and-tools/\n",
      "  warnings.warn(warning, PythonDeprecationWarning)\n"
     ]
    }
   ],
   "source": [
    "write_to_sf(data,  filename)"
   ]
  },
  {
   "cell_type": "code",
   "execution_count": 160,
   "id": "a96908b6",
   "metadata": {},
   "outputs": [
    {
     "data": {
      "text/plain": [
       "'hbo-outbound-datascience-content-dev/title_hours_viewed_retention/content_slate_daily_monthly_retention_value_2023-09-20.csv'"
      ]
     },
     "execution_count": 160,
     "metadata": {},
     "output_type": "execute_result"
    }
   ],
   "source": [
    "output_bucket+'/title_hours_viewed_retention/{}.csv'.format(filename)"
   ]
  },
  {
   "cell_type": "code",
   "execution_count": 141,
   "id": "4df6d29f",
   "metadata": {},
   "outputs": [],
   "source": [
    "data[data['date_month'] == '2023-01'].groupby(['title_name', 'title_id', 'season_number', 'offering_start_date']).mean().reset_index()\\\n",
    ".sort_values(by = ['change_in_churn']).to_csv('2023-01_rank.csv')"
   ]
  },
  {
   "cell_type": "code",
   "execution_count": null,
   "id": "366de494",
   "metadata": {},
   "outputs": [],
   "source": []
  }
 ],
 "metadata": {
  "kernelspec": {
   "display_name": "conda_python3",
   "language": "python",
   "name": "conda_python3"
  },
  "language_info": {
   "codemirror_mode": {
    "name": "ipython",
    "version": 3
   },
   "file_extension": ".py",
   "mimetype": "text/x-python",
   "name": "python",
   "nbconvert_exporter": "python",
   "pygments_lexer": "ipython3",
   "version": "3.6.13"
  }
 },
 "nbformat": 4,
 "nbformat_minor": 5
}
