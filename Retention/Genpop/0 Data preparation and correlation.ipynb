{
 "cells": [
  {
   "cell_type": "code",
   "execution_count": 1,
   "id": "5b17b22a",
   "metadata": {},
   "outputs": [],
   "source": [
    "import boto3\n",
    "import datetime as dt\n",
    "import json\n",
    "import numpy as np\n",
    "import pandas as pd\n",
    "import snowflake.connector\n",
    "pd.set_option('display.max_rows', 1000)\n",
    "pd.set_option('display.max_columns', 1000)\n",
    "pd.options.display.float_format = '{:,.2f}'.format"
   ]
  },
  {
   "cell_type": "code",
   "execution_count": 2,
   "id": "0477095e",
   "metadata": {},
   "outputs": [
    {
     "name": "stderr",
     "output_type": "stream",
     "text": [
      "/home/ec2-user/anaconda3/envs/python3/lib/python3.6/site-packages/boto3/compat.py:88: PythonDeprecationWarning: Boto3 will no longer support Python 3.6 starting May 30, 2022. To continue receiving service updates, bug fixes, and security updates please upgrade to Python 3.7 or later. More information can be found here: https://aws.amazon.com/blogs/developer/python-support-policy-updates-for-aws-sdks-and-tools/\n",
      "  warnings.warn(warning, PythonDeprecationWarning)\n"
     ]
    }
   ],
   "source": [
    "from abc import ABCMeta, abstractmethod\n",
    "\n",
    "class Credentials(metaclass=ABCMeta):\n",
    "    pass\n",
    "    \n",
    "    \n",
    "class SSMPSCredentials(Credentials):\n",
    "    def __init__(self, secretid: str):\n",
    "        self._secretid = secretid\n",
    "        self._secrets = {}\n",
    "        \n",
    "    def get_keys(self):\n",
    "        \"\"\"\n",
    "        credential fetching \n",
    "        \"\"\"\n",
    "        _aws_sm_args = {'service_name': 'secretsmanager', 'region_name': 'us-east-1'}\n",
    "        secrets_client = boto3.client(**_aws_sm_args)\n",
    "        get_secret_value_response = secrets_client.get_secret_value(SecretId=self._secretid)\n",
    "        return get_secret_value_response\n",
    "    \n",
    "    \n",
    "class BaseConnector(metaclass=ABCMeta):\n",
    "    @abstractmethod\n",
    "    def connect(self):\n",
    "        raise NotImplementedError\n",
    "    \n",
    "\n",
    "class SnowflakeConnector(BaseConnector):\n",
    "    def __init__(self, credentials: Credentials):\n",
    "        keys = credentials.get_keys()\n",
    "        self._secrets = json.loads(keys.get('SecretString', \"{}\"))\n",
    "\n",
    "    def connect(self, dbname: str, schema: str = 'DEFAULT'):\n",
    "        ctx = snowflake.connector.connect(\n",
    "            user=self._secrets['login_name'],\n",
    "            password=self._secrets['login_password'],\n",
    "            account=self._secrets['account'],\n",
    "            warehouse=self._secrets['warehouse'],\n",
    "            database=dbname,\n",
    "            schema=schema\n",
    "        )\n",
    "\n",
    "        return ctx\n",
    "    \n",
    "## Credentials\n",
    "SF_CREDS = 'datascience-max-dev-sagemaker-notebooks'\n",
    "\n",
    "## Snowflake connection \n",
    "conn=SnowflakeConnector(SSMPSCredentials(SF_CREDS))\n",
    "ctx=conn.connect(\"MAX_DEV\",\"WORKSPACE\")\n",
    "\n",
    "def run_query(query):\n",
    "    cursor = ctx.cursor()\n",
    "    cursor.execute(query)\n",
    "    df = pd.DataFrame(cursor.fetchall(), columns = [desc[0] for desc in cursor.description])\n",
    "    df.columns= df.columns.str.lower()\n",
    "    return df"
   ]
  },
  {
   "cell_type": "code",
   "execution_count": 3,
   "id": "4a9466ab",
   "metadata": {},
   "outputs": [],
   "source": [
    "# run_query('''\n",
    "# create or replace table max_dev.workspace.user_title_hours_watched_test2\n",
    "# (\n",
    "# request_date\tVARCHAR, \n",
    "# viewable_id VARCHAR,\n",
    "# hours_viewed\tfloat\n",
    "# );\n",
    "# ''')"
   ]
  },
  {
   "cell_type": "code",
   "execution_count": 4,
   "id": "f38c3f20",
   "metadata": {},
   "outputs": [],
   "source": [
    "# run_query('''\n",
    "# create or replace table max_dev.workspace.user_title_hours_watched_subs \n",
    "# (\n",
    "# start_date VARCHAR,\n",
    "# end_date VARCHAR,\n",
    "# DAYS_ON_HBO_MAX int,\n",
    "# subs \tbigint\n",
    "# );\n",
    "# ''')"
   ]
  },
  {
   "cell_type": "code",
   "execution_count": 6,
   "id": "17846120",
   "metadata": {},
   "outputs": [],
   "source": [
    "title_info = run_query('''\n",
    "with offerings as (select DISTINCT\n",
    "            case when season_number is not null then concat(title_name, ' S', season_number, ('E'), EPISODE_NUMBER_IN_SEASON)\n",
    "            else title_name end as title_episode_name\n",
    "    , title_name\n",
    "    , rad.VIEWABLE_ID\n",
    "    , concat(coalesce(rad.series_id, rad.viewable_id)) as title_id\n",
    "    , rad.SERIES_ID\n",
    "    , rad.SEASON_NUMBER\n",
    "    , EPISODE_NUMBER_IN_SEASON\n",
    "    , content_category\n",
    "    , PRIMARY_GENRE_DESC\n",
    "    , program_type\n",
    "    , aod.air_date\n",
    "    , ASSET_RUN_TIME\n",
    "    , offering_start_date\n",
    "    , offering_end_date\n",
    "     FROM \"MAX_PROD\".\"CATALOG\".\"ASSET_OFFERING_DIM\" aod\n",
    "LEFT JOIN \"MAX_PROD\".\"CATALOG\".\"REPORTING_ASSET_DIM\" rad ON aod.VIEWABLE_ID = rad.VIEWABLE_ID\n",
    "where territory='HBO MAX DOMESTIC'\n",
    "    and channel = 'HBO MAX SUBSCRIPTION'\n",
    "    and OFFERING_TYPE = 'FEATURE')\n",
    "\n",
    ", airtable as (\n",
    "    select DISTINCT title_id \n",
    "    , MIN(PILLAR_GENRE) as PILLAR_GENRE -- multiple PILLAR GENRE assignments for a single VIEWABLE_ID, taking at random.\n",
    "    from max_prod.catalog.airtable_content_strategy group by title_id)\n",
    "\n",
    ", pay1 as (\n",
    "    SELECT DISTINCT viewable_id, is_pay_1\n",
    "    FROM max_prod.staging.tentpole_titles_stg stg\n",
    "    WHERE stg.territory = 'HBO MAX DOMESTIC'\n",
    "    and stg.theatrical_release_date is not null\n",
    "    and stg.is_pay_1 =1\n",
    ")\n",
    "\n",
    ", budget as (\n",
    "    SELECT DISTINCT map.viewable_id, bdg.AMOUNT as budget\n",
    "    FROM \"MAX_PROD\".\"CKG\".IMDB_BOXOFFICE_TITLE_BUDGET bdg\n",
    "    JOIN max_prod.ckg.ed_wm_wb_imdb_mapping map --vid to imdb_id\n",
    "    ON map.imdb_id=bdg.title_id\n",
    ")\n",
    "\n",
    ",offerings_by_date as (\n",
    "select\n",
    "     TITLE_NAME, title_episode_name\n",
    "    , offerings.VIEWABLE_ID\n",
    "    , offerings.title_id, offerings.SEASON_NUMBER\n",
    "    , CONTENT_CATEGORY, program_type, air_date\n",
    "    , am.home_territory_observed_medal as medal\n",
    "    , CAST(FLOOR(COALESCE( (ASSET_RUN_TIME)/60/60 ,0)*(1000000*1.0)) AS DECIMAL(38,0))\n",
    "          / CAST((1000000*1.0) AS DOUBLE PRECISION) as ASSET_RUN_TIME_HOURS -- to prevent floating point errors\n",
    "    , case when to_date(offerings.offering_start_date) < '2020-05-27' THEN to_date('2020-05-27')\n",
    "           ELSE to_date(offerings.offering_start_date)\n",
    "           end as offering_start_date\n",
    "    , to_date(offerings.offering_end_date) as offering_end_date\n",
    "    , PRIMARY_GENRE_DESC\n",
    "    , aos.PILLAR_GENRE as PILLAR_GENRE\n",
    "    , EPISODE_NUMBER_IN_SEASON\n",
    "    , CASE WHEN pay1.is_pay_1 IS NOT NULL THEN 1 ELSE 0 END AS is_pay_1\n",
    "    , CASE WHEN pop.THEATRICAL_RELEASE_DATE IS NOT NULL THEN 1 ELSE 0 END AS is_popcorn\n",
    "    , MAX(budget) AS budget \n",
    "FROM offerings\n",
    "LEFT JOIN airtable aos ON (offerings.title_id = aos.title_id)\n",
    "LEFT JOIN max_prod.content_analytics.asset_medals am \n",
    "        on offerings.title_id = am.title_id\n",
    "        and coalesce(offerings.season_number,0) = coalesce(am.season,0)\n",
    "LEFT JOIN pay1\n",
    "        on pay1.viewable_id = offerings.viewable_id\n",
    "LEFT JOIN max_prod.catalog.popcorn_titles pop \n",
    "        on pop.viewable_id = offerings.viewable_id\n",
    "LEFT JOIN budget\n",
    "        on budget.viewable_id = offerings.viewable_id\n",
    "WHERE 1=1\n",
    "-- offerings.OFFERING_START_DATE > '2020-05-01'\n",
    "-- and CURRENT_DATE() between (OFFERING_START_DATE) and (OFFERING_END_DATE)\n",
    "GROUP BY 1,2,3,4,5,6,7,8,9,10,11,12,13,14,15,16,17\n",
    ")\n",
    "\n",
    "SELECT * FROM offerings_by_date\n",
    "''')"
   ]
  },
  {
   "cell_type": "code",
   "execution_count": 7,
   "id": "c932f0cc",
   "metadata": {},
   "outputs": [],
   "source": [
    "### DE-DUPTE THE TITLES\n",
    "\n",
    "title_test_dedup = title_info.groupby(['viewable_id'])['offering_start_date'].min().reset_index()\n",
    "title_info = title_info.merge(title_test_dedup, on = ['viewable_id', 'offering_start_date'])\n",
    "\n",
    "title_test_dedup = title_info.groupby(['viewable_id'])['offering_end_date'].max().reset_index()\n",
    "title_info = title_info.merge(title_test_dedup, on = ['viewable_id', 'offering_end_date'])\n",
    "\n",
    "title_info['medal'] = title_info['medal'].fillna('None')\n",
    "title_test_dedup = title_info.groupby(['viewable_id'])['medal'].max().reset_index()\n",
    "title_info = title_info.merge(title_test_dedup, on = ['viewable_id', 'medal'])\n",
    "\n",
    "\n",
    "title_info = title_info.drop_duplicates()\n",
    "title_info['season_number'] = title_info['season_number'].fillna(0)"
   ]
  },
  {
   "cell_type": "code",
   "execution_count": 8,
   "id": "e44276a2",
   "metadata": {},
   "outputs": [
    {
     "data": {
      "text/plain": [
       "title_name                  43360\n",
       "title_episode_name          43360\n",
       "viewable_id                 43360\n",
       "title_id                    43360\n",
       "season_number               43360\n",
       "content_category            42993\n",
       "program_type                42844\n",
       "air_date                    43094\n",
       "medal                       43360\n",
       "asset_run_time_hours        43360\n",
       "offering_start_date         43360\n",
       "offering_end_date           43360\n",
       "primary_genre_desc          43360\n",
       "pillar_genre                37238\n",
       "episode_number_in_season    36143\n",
       "is_pay_1                    43360\n",
       "is_popcorn                  43360\n",
       "budget                       3702\n",
       "dtype: int64"
      ]
     },
     "execution_count": 8,
     "metadata": {},
     "output_type": "execute_result"
    }
   ],
   "source": [
    "title_info.count()"
   ]
  },
  {
   "cell_type": "code",
   "execution_count": 9,
   "id": "218c747f",
   "metadata": {},
   "outputs": [
    {
     "data": {
      "text/html": [
       "<div>\n",
       "<style scoped>\n",
       "    .dataframe tbody tr th:only-of-type {\n",
       "        vertical-align: middle;\n",
       "    }\n",
       "\n",
       "    .dataframe tbody tr th {\n",
       "        vertical-align: top;\n",
       "    }\n",
       "\n",
       "    .dataframe thead th {\n",
       "        text-align: right;\n",
       "    }\n",
       "</style>\n",
       "<table border=\"1\" class=\"dataframe\">\n",
       "  <thead>\n",
       "    <tr style=\"text-align: right;\">\n",
       "      <th></th>\n",
       "      <th>title_name</th>\n",
       "      <th>title_episode_name</th>\n",
       "      <th>title_id</th>\n",
       "      <th>season_number</th>\n",
       "      <th>content_category</th>\n",
       "      <th>program_type</th>\n",
       "      <th>air_date</th>\n",
       "      <th>medal</th>\n",
       "      <th>asset_run_time_hours</th>\n",
       "      <th>offering_start_date</th>\n",
       "      <th>offering_end_date</th>\n",
       "      <th>primary_genre_desc</th>\n",
       "      <th>pillar_genre</th>\n",
       "      <th>episode_number_in_season</th>\n",
       "      <th>is_pay_1</th>\n",
       "      <th>is_popcorn</th>\n",
       "      <th>budget</th>\n",
       "    </tr>\n",
       "    <tr>\n",
       "      <th>viewable_id</th>\n",
       "      <th></th>\n",
       "      <th></th>\n",
       "      <th></th>\n",
       "      <th></th>\n",
       "      <th></th>\n",
       "      <th></th>\n",
       "      <th></th>\n",
       "      <th></th>\n",
       "      <th></th>\n",
       "      <th></th>\n",
       "      <th></th>\n",
       "      <th></th>\n",
       "      <th></th>\n",
       "      <th></th>\n",
       "      <th></th>\n",
       "      <th></th>\n",
       "      <th></th>\n",
       "    </tr>\n",
       "  </thead>\n",
       "  <tbody>\n",
       "  </tbody>\n",
       "</table>\n",
       "</div>"
      ],
      "text/plain": [
       "Empty DataFrame\n",
       "Columns: [title_name, title_episode_name, title_id, season_number, content_category, program_type, air_date, medal, asset_run_time_hours, offering_start_date, offering_end_date, primary_genre_desc, pillar_genre, episode_number_in_season, is_pay_1, is_popcorn, budget]\n",
       "Index: []"
      ]
     },
     "execution_count": 9,
     "metadata": {},
     "output_type": "execute_result"
    }
   ],
   "source": [
    "### SANITY CHECK\n",
    "title_test = title_info.groupby(['viewable_id']).count()\n",
    "title_test[title_test['title_name'] == 2]"
   ]
  },
  {
   "cell_type": "code",
   "execution_count": 10,
   "id": "a88d0e2c",
   "metadata": {},
   "outputs": [],
   "source": [
    "title_series_info = title_info.groupby(['title_id', 'season_number'])['offering_start_date'].min().reset_index()\n",
    "\n",
    "title_series_test = title_info.groupby(['title_id', 'season_number'])['asset_run_time_hours'].sum().reset_index()\n",
    "title_series_info = title_series_info.merge(title_series_test, on = ['title_id', 'season_number'])\n",
    "\n",
    "title_series_test = title_info.groupby(['title_id', 'season_number'])[['content_category', 'program_type', 'air_date', 'medal', 'episode_number_in_season',\n",
    "                                                                       'pillar_genre', 'is_pay_1', 'is_popcorn', 'budget']].first().reset_index()\n",
    "title_series_info = title_series_info.merge(title_series_test, on = ['title_id', 'season_number'])"
   ]
  },
  {
   "cell_type": "code",
   "execution_count": 11,
   "id": "ac3d98f4",
   "metadata": {},
   "outputs": [],
   "source": [
    "# title_info = title_info[['title_name', 'viewable_id', 'title_id', 'season_number']].merge(\n",
    "#                         title_series_info,  on = ['title_id', 'season_number'])"
   ]
  },
  {
   "cell_type": "code",
   "execution_count": 12,
   "id": "5dda5074",
   "metadata": {},
   "outputs": [
    {
     "name": "stderr",
     "output_type": "stream",
     "text": [
      "/home/ec2-user/anaconda3/envs/python3/lib/python3.6/site-packages/boto3/compat.py:88: PythonDeprecationWarning: Boto3 will no longer support Python 3.6 starting May 30, 2022. To continue receiving service updates, bug fixes, and security updates please upgrade to Python 3.7 or later. More information can be found here: https://aws.amazon.com/blogs/developer/python-support-policy-updates-for-aws-sdks-and-tools/\n",
      "  warnings.warn(warning, PythonDeprecationWarning)\n"
     ]
    }
   ],
   "source": [
    "## WRITE OR READ FROM S3 ####\n",
    "import boto3\n",
    "import io\n",
    "\n",
    "s3 = boto3.resource('s3')\n",
    "output_bucket = \"hbo-outbound-datascience-content-dev\"\n",
    "input_bucket = \"hbo-ingest-datascience-content-dev\"\n",
    "bucket = s3.Bucket(input_bucket)\n",
    "\n",
    "def write_to_sf(df, file_name):\n",
    "    csv_buffer = io.StringIO()\n",
    "    df.to_csv(csv_buffer, index = False)\n",
    "    content = csv_buffer.getvalue()\n",
    "    filename = 'title_hours_viewed_retention/{}.csv'.format(file_name)\n",
    "    client = boto3.client('s3')\n",
    "    client.put_object(Bucket=output_bucket, Key=filename, Body=content)\n",
    "    \n",
    "def write_to_input(df, file_name):\n",
    "    csv_buffer = io.StringIO()\n",
    "    df.to_csv(csv_buffer, index = False)\n",
    "    content = csv_buffer.getvalue()\n",
    "    filename = 'title_hours_viewed_retention/{}.csv'.format(file_name)\n",
    "    client = boto3.client('s3')\n",
    "    client.put_object(Bucket=input_bucket, Key=filename, Body=content)\n",
    "    \n",
    "def read_from_s3(filename, input_bucket = input_bucket):\n",
    "    for obj in bucket.objects.filter(Prefix='title_hours_viewed_retention/'+filename): #churn_metric_0811\n",
    "            key = obj.key \n",
    "            body = obj.get()['Body']\n",
    "            print('Reading {0} features'.format(key))\n",
    "            df = pd.read_csv(body, na_values = [r'\\\\\\\\N'])\n",
    "    return df"
   ]
  },
  {
   "cell_type": "code",
   "execution_count": 13,
   "id": "23a982c1",
   "metadata": {},
   "outputs": [],
   "source": [
    "write_to_sf(title_series_info, 'title_series_info')\n",
    "# table max_dev.workspace.user_title_hours_watched_title_series_info \n",
    "# table max_dev.workspace.user_title_hours_watched_episodic_info "
   ]
  },
  {
   "cell_type": "code",
   "execution_count": 14,
   "id": "7a7c0086",
   "metadata": {},
   "outputs": [],
   "source": [
    "# run_query('''\n",
    "# create or replace table max_dev.workspace.user_title_hours_watched_title_series_info \n",
    "# (\n",
    "# title_id\tVARCHAR,\n",
    "# season_number\tint,\n",
    "# offering_start_date\tVARCHAR,\n",
    "# asset_run_time_hours\tfloat,\n",
    "# content_category\tVARCHAR,\n",
    "# program_type\tVARCHAR,\n",
    "# air_date\tVARCHAR,\n",
    "# medal\tVARCHAR,\n",
    "# episode_number_in_season int,\n",
    "# pillar_genre VARCHAR,\n",
    "# is_pay_1    int,            \n",
    "# is_popcorn    int,     \n",
    "# budget    int\n",
    "# );\n",
    "\n",
    "# ''')"
   ]
  },
  {
   "cell_type": "code",
   "execution_count": 15,
   "id": "35c1a0a0",
   "metadata": {},
   "outputs": [],
   "source": [
    "# run_query('''\n",
    "# copy into max_dev.workspace.user_title_hours_watched_title_series_info\n",
    "#     from(\n",
    "#         select\n",
    "#               $1, $2, $3, $4, $5, $6, $7, $8, $9, $10, $11, $12,$13\n",
    "#         from @HBO_OUTBOUND_DATASCIENCE_CONTENT_DEV/title_hours_viewed_retention/title_series_info.csv\n",
    "#         )\n",
    "#     file_format = (type = csv null_if=('') skip_header = 1  FIELD_OPTIONALLY_ENCLOSED_BY='\"')\n",
    "#     on_error = 'CONTINUE';\n",
    "\n",
    "# ''')"
   ]
  },
  {
   "cell_type": "code",
   "execution_count": 16,
   "id": "75a9dc64",
   "metadata": {},
   "outputs": [],
   "source": [
    "# run_query('''\n",
    "# create or replace table max_dev.workspace.user_title_hours_watched_episodic_info \n",
    "# (\n",
    "# title_name\tVARCHAR,\n",
    "# title_episode_name\tVARCHAR, \n",
    "# viewable_id\tVARCHAR,\n",
    "# title_id\tVARCHAR,\n",
    "# season_number\tint,\n",
    "# content_category\tVARCHAR,\n",
    "# program_type\tVARCHAR,\n",
    "# air_date\tVARCHAR, \n",
    "# medal\tVARCHAR,\n",
    "# asset_run_time_hours\tfloat,\n",
    "# offering_start_date\tVARCHAR,\n",
    "# offering_end_date\tVARCHAR,\n",
    "# primary_genre_desc\tVARCHAR,\n",
    "# pillar_genre\tVARCHAR,\n",
    "# episode_number_in_season int,\n",
    "# is_pay_1\tint,            \n",
    "# is_popcorn\tint,     \n",
    "# budget\tint\n",
    "# );\n",
    "\n",
    "# ''')"
   ]
  },
  {
   "cell_type": "code",
   "execution_count": 17,
   "id": "1d74f76e",
   "metadata": {},
   "outputs": [],
   "source": [
    "# write_to_sf(title_info, 'title_episodic_info')"
   ]
  },
  {
   "cell_type": "code",
   "execution_count": 18,
   "id": "e585a15c",
   "metadata": {},
   "outputs": [],
   "source": [
    "# run_query('''\n",
    "# copy into max_dev.workspace.user_title_hours_watched_episodic_info\n",
    "#     from(\n",
    "#         select\n",
    "#               $1, $2, $3, $4, $5, $6, $7, $8, $9, $10, $11, $12,$13, $14, $15, $16,$17, $18\n",
    "#         from @HBO_OUTBOUND_DATASCIENCE_CONTENT_DEV/title_hours_viewed_retention/title_episodic_info.csv\n",
    "#         )\n",
    "#     file_format = (type = csv null_if=('') skip_header = 1  FIELD_OPTIONALLY_ENCLOSED_BY='\"')\n",
    "#     on_error = 'CONTINUE' FORCE = True; \n",
    "\n",
    "# ''')"
   ]
  },
  {
   "cell_type": "code",
   "execution_count": 19,
   "id": "97824220",
   "metadata": {},
   "outputs": [],
   "source": [
    "title_hours_viewed = run_query('''\n",
    "WITH viewing_hours AS (\n",
    "SELECT e.title_name, t.title_id, t.season_number, h.request_date, t.offering_start_date, t.asset_run_time_hours\n",
    ",DATEDIFF('DAY', t.offering_start_date::DATE, h.request_date::DATE) as days_on_hbo_max\n",
    ",SUM(h.hours_viewed) AS daily_hours_viewed\n",
    ",SUM(daily_hours_viewed) OVER (PARTITION BY t.title_id, t.season_number order by DAYS_ON_HBO_MAX) as cumulative_hours_viewed\n",
    "FROM MAX_DEV.WORKSPACE.user_title_hours_watched_test2 h\n",
    "JOIN (SELECT DISTINCT viewable_id, title_id, season_number, title_name FROM\n",
    "    max_dev.workspace.user_title_hours_watched_episodic_info)  e\n",
    "    on h.viewable_id = e.viewable_id\n",
    "JOIN max_dev.workspace.user_title_hours_watched_title_series_info    t\n",
    "    on e.title_id = t.title_id\n",
    "    and e.season_number = t.season_number\n",
    "WHERE 1=1\n",
    "AND DATEDIFF('DAY', t.offering_start_date::DATE, h.request_date::DATE) >= 0\n",
    "GROUP BY 1,2,3,4,5,6,7\n",
    "ORDER BY t.TITLE_ID, t.SEASON_NUMBER, DAYS_ON_HBO_MAX\n",
    ")\n",
    "select v.*,subs\n",
    ",cumulative_hours_viewed/subs as average_hours_viewed\n",
    "from viewing_hours v\n",
    "JOIN max_dev.workspace.user_title_hours_watched_subs s\n",
    "    on v.offering_start_date = s.start_date\n",
    "    and v.days_on_hbo_max = s.days_on_hbo_max\n",
    "''')"
   ]
  },
  {
   "cell_type": "code",
   "execution_count": 20,
   "id": "d6d2e491",
   "metadata": {},
   "outputs": [
    {
     "name": "stdout",
     "output_type": "stream",
     "text": [
      "Reading title_hours_viewed_retention/content_cost.csv features\n"
     ]
    }
   ],
   "source": [
    "content_cost = read_from_s3('content_cost.csv')"
   ]
  },
  {
   "cell_type": "code",
   "execution_count": 21,
   "id": "c30c72ae",
   "metadata": {},
   "outputs": [],
   "source": [
    "content_cost.columns = [i.lower() for i in content_cost.columns]"
   ]
  },
  {
   "cell_type": "code",
   "execution_count": 22,
   "id": "30c9b7cf",
   "metadata": {},
   "outputs": [
    {
     "data": {
      "text/html": [
       "<div>\n",
       "<style scoped>\n",
       "    .dataframe tbody tr th:only-of-type {\n",
       "        vertical-align: middle;\n",
       "    }\n",
       "\n",
       "    .dataframe tbody tr th {\n",
       "        vertical-align: top;\n",
       "    }\n",
       "\n",
       "    .dataframe thead th {\n",
       "        text-align: right;\n",
       "    }\n",
       "</style>\n",
       "<table border=\"1\" class=\"dataframe\">\n",
       "  <thead>\n",
       "    <tr style=\"text-align: right;\">\n",
       "      <th></th>\n",
       "      <th>title_id</th>\n",
       "      <th>season_number</th>\n",
       "      <th>title_name</th>\n",
       "      <th>gross_cost_1</th>\n",
       "      <th>adj_gross_cost_1</th>\n",
       "      <th>amortized_cost</th>\n",
       "      <th>efc</th>\n",
       "      <th>content_cost</th>\n",
       "    </tr>\n",
       "  </thead>\n",
       "  <tbody>\n",
       "    <tr>\n",
       "      <th>0</th>\n",
       "      <td>GXdu2SAeB7puAuwEAADZ8</td>\n",
       "      <td>0</td>\n",
       "      <td>Final Destination 3</td>\n",
       "      <td>nan</td>\n",
       "      <td>nan</td>\n",
       "      <td>300,000.00</td>\n",
       "      <td>nan</td>\n",
       "      <td>300,000.00</td>\n",
       "    </tr>\n",
       "    <tr>\n",
       "      <th>1</th>\n",
       "      <td>GVU3T5wTXyoNJjhsJAXsL</td>\n",
       "      <td>0</td>\n",
       "      <td>Coma</td>\n",
       "      <td>nan</td>\n",
       "      <td>nan</td>\n",
       "      <td>80,000.00</td>\n",
       "      <td>nan</td>\n",
       "      <td>80,000.00</td>\n",
       "    </tr>\n",
       "    <tr>\n",
       "      <th>2</th>\n",
       "      <td>GYK0ljAlihwmgpgEAAAAM</td>\n",
       "      <td>0</td>\n",
       "      <td>Set Up</td>\n",
       "      <td>nan</td>\n",
       "      <td>nan</td>\n",
       "      <td>150,000.00</td>\n",
       "      <td>nan</td>\n",
       "      <td>150,000.00</td>\n",
       "    </tr>\n",
       "    <tr>\n",
       "      <th>3</th>\n",
       "      <td>GYnQshQAwncM-owEAAAAD</td>\n",
       "      <td>0</td>\n",
       "      <td>Unfinished Song</td>\n",
       "      <td>nan</td>\n",
       "      <td>nan</td>\n",
       "      <td>173,864.00</td>\n",
       "      <td>nan</td>\n",
       "      <td>173,864.00</td>\n",
       "    </tr>\n",
       "    <tr>\n",
       "      <th>4</th>\n",
       "      <td>GYrGCXQAmMQCdrAEAAAHD</td>\n",
       "      <td>0</td>\n",
       "      <td>Infinitely Polar Bear</td>\n",
       "      <td>nan</td>\n",
       "      <td>nan</td>\n",
       "      <td>95,498.00</td>\n",
       "      <td>nan</td>\n",
       "      <td>95,498.00</td>\n",
       "    </tr>\n",
       "  </tbody>\n",
       "</table>\n",
       "</div>"
      ],
      "text/plain": [
       "                title_id  season_number             title_name  gross_cost_1  \\\n",
       "0  GXdu2SAeB7puAuwEAADZ8              0    Final Destination 3           nan   \n",
       "1  GVU3T5wTXyoNJjhsJAXsL              0                   Coma           nan   \n",
       "2  GYK0ljAlihwmgpgEAAAAM              0                 Set Up           nan   \n",
       "3  GYnQshQAwncM-owEAAAAD              0        Unfinished Song           nan   \n",
       "4  GYrGCXQAmMQCdrAEAAAHD              0  Infinitely Polar Bear           nan   \n",
       "\n",
       "   adj_gross_cost_1  amortized_cost  efc  content_cost  \n",
       "0               nan      300,000.00  nan    300,000.00  \n",
       "1               nan       80,000.00  nan     80,000.00  \n",
       "2               nan      150,000.00  nan    150,000.00  \n",
       "3               nan      173,864.00  nan    173,864.00  \n",
       "4               nan       95,498.00  nan     95,498.00  "
      ]
     },
     "execution_count": 22,
     "metadata": {},
     "output_type": "execute_result"
    }
   ],
   "source": [
    "content_cost.head()"
   ]
  },
  {
   "cell_type": "markdown",
   "id": "228c9eed",
   "metadata": {},
   "source": [
    "### Catigorical feature "
   ]
  },
  {
   "cell_type": "code",
   "execution_count": 23,
   "id": "399f1e3c",
   "metadata": {},
   "outputs": [],
   "source": [
    "content_category_onehot = pd.get_dummies(title_series_info['content_category'], prefix='content_category')\n",
    "title_series_info=pd.concat([title_series_info, content_category_onehot], axis = 1)"
   ]
  },
  {
   "cell_type": "code",
   "execution_count": 24,
   "id": "ccad6424",
   "metadata": {},
   "outputs": [],
   "source": [
    "program_type_onehot = pd.get_dummies(title_series_info['program_type'], prefix='program_type')\n",
    "title_series_info=pd.concat([title_series_info, program_type_onehot], axis = 1)"
   ]
  },
  {
   "cell_type": "code",
   "execution_count": 25,
   "id": "c4bbeae5",
   "metadata": {},
   "outputs": [],
   "source": [
    "genre_onehot = pd.get_dummies(title_series_info['pillar_genre'], prefix='genre')\n",
    "title_series_info=pd.concat([title_series_info, genre_onehot], axis = 1)"
   ]
  },
  {
   "cell_type": "code",
   "execution_count": 26,
   "id": "7aa5a8aa",
   "metadata": {},
   "outputs": [
    {
     "data": {
      "text/plain": [
       "array(['None', 'Gold', 'Silver', 'Bronze', 'Platinum'], dtype=object)"
      ]
     },
     "execution_count": 26,
     "metadata": {},
     "output_type": "execute_result"
    }
   ],
   "source": [
    "title_series_info.medal.unique()"
   ]
  },
  {
   "cell_type": "code",
   "execution_count": 27,
   "id": "133dcf0d",
   "metadata": {},
   "outputs": [],
   "source": [
    "# Medal Data\n",
    "medal_dict = {'Silver':2, 'Bronze':3, 'Gold':1 , 'Platinum':0, 'None':np.NaN}\n",
    "title_series_info['medal_number'] = title_series_info['medal'].replace(medal_dict)"
   ]
  },
  {
   "cell_type": "code",
   "execution_count": 28,
   "id": "c5497c78",
   "metadata": {},
   "outputs": [],
   "source": [
    "title_series_info['is_new_content'] = 0"
   ]
  },
  {
   "cell_type": "code",
   "execution_count": 29,
   "id": "5d89675c",
   "metadata": {},
   "outputs": [],
   "source": [
    "### Air date and Release date < 1 year\n",
    "title_series_info.loc[(pd.to_datetime(title_series_info['offering_start_date'])-\n",
    "                      pd.to_datetime(title_series_info['air_date']))/np.timedelta64(1, 'Y') <= 1,\n",
    "                      'is_new_content']=1"
   ]
  },
  {
   "cell_type": "code",
   "execution_count": 30,
   "id": "5276bd1d",
   "metadata": {},
   "outputs": [],
   "source": [
    "title_series_info['age_of_content'] = (pd.to_datetime(title_series_info['offering_start_date'])-\n",
    "                      pd.to_datetime(title_series_info['air_date']))/np.timedelta64(1, 'Y')"
   ]
  },
  {
   "cell_type": "code",
   "execution_count": 31,
   "id": "7cbca615",
   "metadata": {},
   "outputs": [],
   "source": [
    "data = title_hours_viewed[['title_name', 'title_id', 'season_number', 'days_on_hbo_max', 'cumulative_hours_viewed', 'average_hours_viewed']].merge(\n",
    "       title_series_info, on = ['title_id', 'season_number'])\n",
    "data = data[data['days_on_hbo_max'] == 60]\n",
    "data['hvr'] = data['cumulative_hours_viewed']/data['asset_run_time_hours']\n",
    "data['ahvr'] = data['average_hours_viewed']/data['asset_run_time_hours']"
   ]
  },
  {
   "cell_type": "code",
   "execution_count": 32,
   "id": "0d85cfb9",
   "metadata": {},
   "outputs": [],
   "source": [
    "data = data.merge(content_cost[['title_id', 'season_number', 'content_cost']], on = ['title_id', 'season_number'], how = 'left')"
   ]
  },
  {
   "cell_type": "code",
   "execution_count": 33,
   "id": "03edbf94",
   "metadata": {},
   "outputs": [
    {
     "data": {
      "text/plain": [
       "asset_run_time_hours       0.00\n",
       "content_category           0.00\n",
       "program_type               0.00\n",
       "air_date                   0.00\n",
       "episode_number_in_season   0.70\n",
       "content_cost               0.46\n",
       "medal                      0.00\n",
       "pillar_genre               0.04\n",
       "is_pay_1                   0.00\n",
       "is_popcorn                 0.00\n",
       "budget                     0.61\n",
       "dtype: float64"
      ]
     },
     "execution_count": 33,
     "metadata": {},
     "output_type": "execute_result"
    }
   ],
   "source": [
    "data[['asset_run_time_hours', 'content_category', 'program_type', 'air_date', 'episode_number_in_season', 'content_cost',\n",
    "                   'medal', 'pillar_genre', 'is_pay_1', 'is_popcorn', 'budget']]\\\n",
    ".isnull().sum()/len(data)"
   ]
  },
  {
   "cell_type": "code",
   "execution_count": 34,
   "id": "4d725b37",
   "metadata": {},
   "outputs": [],
   "source": [
    "# data.to_csv('validation_data.csv')\n",
    "# data = pd.read_csv('validation_data.csv')\n",
    "# data = data.drop(['Unnamed: 0'], axis = 1)"
   ]
  },
  {
   "cell_type": "code",
   "execution_count": 35,
   "id": "2e61fed3",
   "metadata": {},
   "outputs": [],
   "source": [
    "# write_to_sf(data, 'validation_data')"
   ]
  },
  {
   "cell_type": "code",
   "execution_count": 36,
   "id": "0279d5ac",
   "metadata": {},
   "outputs": [],
   "source": [
    "data = data[pd.to_datetime(data['offering_start_date']) >= pd.to_datetime('2021-01-01')]"
   ]
  },
  {
   "cell_type": "code",
   "execution_count": 37,
   "id": "96282ec1",
   "metadata": {},
   "outputs": [
    {
     "data": {
      "text/plain": [
       "3694"
      ]
     },
     "execution_count": 37,
     "metadata": {},
     "output_type": "execute_result"
    }
   ],
   "source": [
    "len(data)# 7416"
   ]
  },
  {
   "cell_type": "code",
   "execution_count": 38,
   "id": "8d5f5c92",
   "metadata": {},
   "outputs": [
    {
     "data": {
      "text/html": [
       "<div>\n",
       "<style scoped>\n",
       "    .dataframe tbody tr th:only-of-type {\n",
       "        vertical-align: middle;\n",
       "    }\n",
       "\n",
       "    .dataframe tbody tr th {\n",
       "        vertical-align: top;\n",
       "    }\n",
       "\n",
       "    .dataframe thead th {\n",
       "        text-align: right;\n",
       "    }\n",
       "</style>\n",
       "<table border=\"1\" class=\"dataframe\">\n",
       "  <thead>\n",
       "    <tr style=\"text-align: right;\">\n",
       "      <th></th>\n",
       "      <th>title_name</th>\n",
       "      <th>title_id</th>\n",
       "      <th>season_number</th>\n",
       "      <th>days_on_hbo_max</th>\n",
       "      <th>cumulative_hours_viewed</th>\n",
       "      <th>average_hours_viewed</th>\n",
       "      <th>offering_start_date</th>\n",
       "      <th>asset_run_time_hours</th>\n",
       "      <th>content_category</th>\n",
       "      <th>program_type</th>\n",
       "      <th>air_date</th>\n",
       "      <th>medal</th>\n",
       "      <th>episode_number_in_season</th>\n",
       "      <th>pillar_genre</th>\n",
       "      <th>is_pay_1</th>\n",
       "      <th>is_popcorn</th>\n",
       "      <th>budget</th>\n",
       "      <th>content_category_livesports</th>\n",
       "      <th>content_category_movies</th>\n",
       "      <th>content_category_series</th>\n",
       "      <th>content_category_special</th>\n",
       "      <th>program_type_acquired</th>\n",
       "      <th>program_type_original</th>\n",
       "      <th>genre_Action/Adventure</th>\n",
       "      <th>genre_Adult Animation</th>\n",
       "      <th>genre_Classics</th>\n",
       "      <th>genre_Comedy</th>\n",
       "      <th>genre_Documentary</th>\n",
       "      <th>genre_Drama</th>\n",
       "      <th>genre_Horror</th>\n",
       "      <th>genre_Kids/Family</th>\n",
       "      <th>genre_Music</th>\n",
       "      <th>genre_Other</th>\n",
       "      <th>genre_Romance</th>\n",
       "      <th>genre_Sci-Fi</th>\n",
       "      <th>genre_Suspense/Thriller</th>\n",
       "      <th>genre_Unscripted</th>\n",
       "      <th>medal_number</th>\n",
       "      <th>is_new_content</th>\n",
       "      <th>age_of_content</th>\n",
       "      <th>hvr</th>\n",
       "      <th>ahvr</th>\n",
       "      <th>content_cost</th>\n",
       "    </tr>\n",
       "  </thead>\n",
       "  <tbody>\n",
       "    <tr>\n",
       "      <th>5</th>\n",
       "      <td>Hitman</td>\n",
       "      <td>GV-BGQgMBlMLDwwEAAAAy</td>\n",
       "      <td>0</td>\n",
       "      <td>60</td>\n",
       "      <td>147,364.96</td>\n",
       "      <td>0.01</td>\n",
       "      <td>2021-10-01</td>\n",
       "      <td>1.54</td>\n",
       "      <td>movies</td>\n",
       "      <td>acquired</td>\n",
       "      <td>2007-11-21</td>\n",
       "      <td>None</td>\n",
       "      <td>nan</td>\n",
       "      <td>Action/Adventure</td>\n",
       "      <td>0</td>\n",
       "      <td>0</td>\n",
       "      <td>24,000,000.00</td>\n",
       "      <td>0</td>\n",
       "      <td>1</td>\n",
       "      <td>0</td>\n",
       "      <td>0</td>\n",
       "      <td>1</td>\n",
       "      <td>0</td>\n",
       "      <td>1</td>\n",
       "      <td>0</td>\n",
       "      <td>0</td>\n",
       "      <td>0</td>\n",
       "      <td>0</td>\n",
       "      <td>0</td>\n",
       "      <td>0</td>\n",
       "      <td>0</td>\n",
       "      <td>0</td>\n",
       "      <td>0</td>\n",
       "      <td>0</td>\n",
       "      <td>0</td>\n",
       "      <td>0</td>\n",
       "      <td>0</td>\n",
       "      <td>nan</td>\n",
       "      <td>0</td>\n",
       "      <td>13.86</td>\n",
       "      <td>95,399.02</td>\n",
       "      <td>0.01</td>\n",
       "      <td>285,000.00</td>\n",
       "    </tr>\n",
       "    <tr>\n",
       "      <th>7</th>\n",
       "      <td>Meet Dave</td>\n",
       "      <td>GV-BH1AH5lhgVsQEAAABJ</td>\n",
       "      <td>0</td>\n",
       "      <td>60</td>\n",
       "      <td>114,823.42</td>\n",
       "      <td>0.01</td>\n",
       "      <td>2022-09-01</td>\n",
       "      <td>1.51</td>\n",
       "      <td>movies</td>\n",
       "      <td>acquired</td>\n",
       "      <td>2008-07-11</td>\n",
       "      <td>None</td>\n",
       "      <td>nan</td>\n",
       "      <td>Comedy</td>\n",
       "      <td>0</td>\n",
       "      <td>0</td>\n",
       "      <td>60,000,000.00</td>\n",
       "      <td>0</td>\n",
       "      <td>1</td>\n",
       "      <td>0</td>\n",
       "      <td>0</td>\n",
       "      <td>1</td>\n",
       "      <td>0</td>\n",
       "      <td>0</td>\n",
       "      <td>0</td>\n",
       "      <td>0</td>\n",
       "      <td>1</td>\n",
       "      <td>0</td>\n",
       "      <td>0</td>\n",
       "      <td>0</td>\n",
       "      <td>0</td>\n",
       "      <td>0</td>\n",
       "      <td>0</td>\n",
       "      <td>0</td>\n",
       "      <td>0</td>\n",
       "      <td>0</td>\n",
       "      <td>0</td>\n",
       "      <td>nan</td>\n",
       "      <td>0</td>\n",
       "      <td>14.14</td>\n",
       "      <td>76,266.51</td>\n",
       "      <td>0.01</td>\n",
       "      <td>230,000.00</td>\n",
       "    </tr>\n",
       "    <tr>\n",
       "      <th>8</th>\n",
       "      <td>The Sand Pebbles</td>\n",
       "      <td>GV-BK7wNv6MLCwgEAAABw</td>\n",
       "      <td>0</td>\n",
       "      <td>60</td>\n",
       "      <td>6,272.51</td>\n",
       "      <td>0.00</td>\n",
       "      <td>2021-03-01</td>\n",
       "      <td>2.98</td>\n",
       "      <td>movies</td>\n",
       "      <td>acquired</td>\n",
       "      <td>1966-01-01</td>\n",
       "      <td>None</td>\n",
       "      <td>nan</td>\n",
       "      <td>Classics</td>\n",
       "      <td>0</td>\n",
       "      <td>0</td>\n",
       "      <td>12,000,000.00</td>\n",
       "      <td>0</td>\n",
       "      <td>1</td>\n",
       "      <td>0</td>\n",
       "      <td>0</td>\n",
       "      <td>1</td>\n",
       "      <td>0</td>\n",
       "      <td>0</td>\n",
       "      <td>0</td>\n",
       "      <td>1</td>\n",
       "      <td>0</td>\n",
       "      <td>0</td>\n",
       "      <td>0</td>\n",
       "      <td>0</td>\n",
       "      <td>0</td>\n",
       "      <td>0</td>\n",
       "      <td>0</td>\n",
       "      <td>0</td>\n",
       "      <td>0</td>\n",
       "      <td>0</td>\n",
       "      <td>0</td>\n",
       "      <td>nan</td>\n",
       "      <td>0</td>\n",
       "      <td>55.16</td>\n",
       "      <td>2,102.13</td>\n",
       "      <td>0.00</td>\n",
       "      <td>230,000.00</td>\n",
       "    </tr>\n",
       "    <tr>\n",
       "      <th>9</th>\n",
       "      <td>Matchstick Men</td>\n",
       "      <td>GV-BKigrJWcJMwwEAAABi</td>\n",
       "      <td>0</td>\n",
       "      <td>60</td>\n",
       "      <td>177,819.93</td>\n",
       "      <td>0.01</td>\n",
       "      <td>2021-06-01</td>\n",
       "      <td>1.89</td>\n",
       "      <td>movies</td>\n",
       "      <td>acquired</td>\n",
       "      <td>2003-09-12</td>\n",
       "      <td>None</td>\n",
       "      <td>nan</td>\n",
       "      <td>Drama</td>\n",
       "      <td>0</td>\n",
       "      <td>0</td>\n",
       "      <td>62,000,000.00</td>\n",
       "      <td>0</td>\n",
       "      <td>1</td>\n",
       "      <td>0</td>\n",
       "      <td>0</td>\n",
       "      <td>1</td>\n",
       "      <td>0</td>\n",
       "      <td>0</td>\n",
       "      <td>0</td>\n",
       "      <td>0</td>\n",
       "      <td>0</td>\n",
       "      <td>0</td>\n",
       "      <td>1</td>\n",
       "      <td>0</td>\n",
       "      <td>0</td>\n",
       "      <td>0</td>\n",
       "      <td>0</td>\n",
       "      <td>0</td>\n",
       "      <td>0</td>\n",
       "      <td>0</td>\n",
       "      <td>0</td>\n",
       "      <td>nan</td>\n",
       "      <td>0</td>\n",
       "      <td>17.72</td>\n",
       "      <td>93,850.14</td>\n",
       "      <td>0.01</td>\n",
       "      <td>175,000.00</td>\n",
       "    </tr>\n",
       "    <tr>\n",
       "      <th>10</th>\n",
       "      <td>Miracle on 34th Street</td>\n",
       "      <td>GV-BKvAt0FsJMwwEAAABv</td>\n",
       "      <td>0</td>\n",
       "      <td>60</td>\n",
       "      <td>2,531.15</td>\n",
       "      <td>0.00</td>\n",
       "      <td>2021-07-01</td>\n",
       "      <td>1.61</td>\n",
       "      <td>movies</td>\n",
       "      <td>acquired</td>\n",
       "      <td>1947-01-01</td>\n",
       "      <td>None</td>\n",
       "      <td>nan</td>\n",
       "      <td>Kids/Family</td>\n",
       "      <td>0</td>\n",
       "      <td>0</td>\n",
       "      <td>nan</td>\n",
       "      <td>0</td>\n",
       "      <td>1</td>\n",
       "      <td>0</td>\n",
       "      <td>0</td>\n",
       "      <td>1</td>\n",
       "      <td>0</td>\n",
       "      <td>0</td>\n",
       "      <td>0</td>\n",
       "      <td>0</td>\n",
       "      <td>0</td>\n",
       "      <td>0</td>\n",
       "      <td>0</td>\n",
       "      <td>0</td>\n",
       "      <td>1</td>\n",
       "      <td>0</td>\n",
       "      <td>0</td>\n",
       "      <td>0</td>\n",
       "      <td>0</td>\n",
       "      <td>0</td>\n",
       "      <td>0</td>\n",
       "      <td>nan</td>\n",
       "      <td>0</td>\n",
       "      <td>74.50</td>\n",
       "      <td>1,575.68</td>\n",
       "      <td>0.00</td>\n",
       "      <td>92,000.00</td>\n",
       "    </tr>\n",
       "  </tbody>\n",
       "</table>\n",
       "</div>"
      ],
      "text/plain": [
       "                title_name               title_id  season_number  \\\n",
       "5                   Hitman  GV-BGQgMBlMLDwwEAAAAy              0   \n",
       "7                Meet Dave  GV-BH1AH5lhgVsQEAAABJ              0   \n",
       "8         The Sand Pebbles  GV-BK7wNv6MLCwgEAAABw              0   \n",
       "9           Matchstick Men  GV-BKigrJWcJMwwEAAABi              0   \n",
       "10  Miracle on 34th Street  GV-BKvAt0FsJMwwEAAABv              0   \n",
       "\n",
       "    days_on_hbo_max  cumulative_hours_viewed  average_hours_viewed  \\\n",
       "5                60               147,364.96                  0.01   \n",
       "7                60               114,823.42                  0.01   \n",
       "8                60                 6,272.51                  0.00   \n",
       "9                60               177,819.93                  0.01   \n",
       "10               60                 2,531.15                  0.00   \n",
       "\n",
       "   offering_start_date  asset_run_time_hours content_category program_type  \\\n",
       "5           2021-10-01                  1.54           movies     acquired   \n",
       "7           2022-09-01                  1.51           movies     acquired   \n",
       "8           2021-03-01                  2.98           movies     acquired   \n",
       "9           2021-06-01                  1.89           movies     acquired   \n",
       "10          2021-07-01                  1.61           movies     acquired   \n",
       "\n",
       "      air_date medal  episode_number_in_season       pillar_genre  is_pay_1  \\\n",
       "5   2007-11-21  None                       nan  Action/Adventure          0   \n",
       "7   2008-07-11  None                       nan             Comedy         0   \n",
       "8   1966-01-01  None                       nan           Classics         0   \n",
       "9   2003-09-12  None                       nan              Drama         0   \n",
       "10  1947-01-01  None                       nan        Kids/Family         0   \n",
       "\n",
       "    is_popcorn        budget  content_category_livesports  \\\n",
       "5            0 24,000,000.00                            0   \n",
       "7            0 60,000,000.00                            0   \n",
       "8            0 12,000,000.00                            0   \n",
       "9            0 62,000,000.00                            0   \n",
       "10           0           nan                            0   \n",
       "\n",
       "    content_category_movies  content_category_series  \\\n",
       "5                         1                        0   \n",
       "7                         1                        0   \n",
       "8                         1                        0   \n",
       "9                         1                        0   \n",
       "10                        1                        0   \n",
       "\n",
       "    content_category_special  program_type_acquired  program_type_original  \\\n",
       "5                          0                      1                      0   \n",
       "7                          0                      1                      0   \n",
       "8                          0                      1                      0   \n",
       "9                          0                      1                      0   \n",
       "10                         0                      1                      0   \n",
       "\n",
       "    genre_Action/Adventure   genre_Adult Animation  genre_Classics  \\\n",
       "5                         1                      0               0   \n",
       "7                         0                      0               0   \n",
       "8                         0                      0               1   \n",
       "9                         0                      0               0   \n",
       "10                        0                      0               0   \n",
       "\n",
       "    genre_Comedy  genre_Documentary  genre_Drama  genre_Horror   \\\n",
       "5              0                  0            0              0   \n",
       "7              1                  0            0              0   \n",
       "8              0                  0            0              0   \n",
       "9              0                  0            1              0   \n",
       "10             0                  0            0              0   \n",
       "\n",
       "    genre_Kids/Family  genre_Music  genre_Other  genre_Romance  genre_Sci-Fi  \\\n",
       "5                   0            0            0              0             0   \n",
       "7                   0            0            0              0             0   \n",
       "8                   0            0            0              0             0   \n",
       "9                   0            0            0              0             0   \n",
       "10                  1            0            0              0             0   \n",
       "\n",
       "    genre_Suspense/Thriller  genre_Unscripted  medal_number  is_new_content  \\\n",
       "5                         0                 0           nan               0   \n",
       "7                         0                 0           nan               0   \n",
       "8                         0                 0           nan               0   \n",
       "9                         0                 0           nan               0   \n",
       "10                        0                 0           nan               0   \n",
       "\n",
       "    age_of_content       hvr  ahvr  content_cost  \n",
       "5            13.86 95,399.02  0.01    285,000.00  \n",
       "7            14.14 76,266.51  0.01    230,000.00  \n",
       "8            55.16  2,102.13  0.00    230,000.00  \n",
       "9            17.72 93,850.14  0.01    175,000.00  \n",
       "10           74.50  1,575.68  0.00     92,000.00  "
      ]
     },
     "execution_count": 38,
     "metadata": {},
     "output_type": "execute_result"
    }
   ],
   "source": [
    "data.head()"
   ]
  },
  {
   "cell_type": "code",
   "execution_count": 39,
   "id": "0119e50c",
   "metadata": {},
   "outputs": [
    {
     "data": {
      "text/plain": [
       "array(['None', 'Gold', 'Silver', 'Bronze', 'Platinum'], dtype=object)"
      ]
     },
     "execution_count": 39,
     "metadata": {},
     "output_type": "execute_result"
    }
   ],
   "source": [
    "data.medal.unique()"
   ]
  },
  {
   "cell_type": "code",
   "execution_count": 40,
   "id": "7036314c",
   "metadata": {},
   "outputs": [],
   "source": [
    "data.loc[data['medal'] == 'None', 'medal'] = 'Bronze'"
   ]
  },
  {
   "cell_type": "code",
   "execution_count": 41,
   "id": "a8ad9a45",
   "metadata": {},
   "outputs": [
    {
     "data": {
      "text/plain": [
       "array(['Bronze', 'Gold', 'Silver', 'Platinum'], dtype=object)"
      ]
     },
     "execution_count": 41,
     "metadata": {},
     "output_type": "execute_result"
    }
   ],
   "source": [
    "data.medal.unique()"
   ]
  },
  {
   "cell_type": "code",
   "execution_count": 42,
   "id": "d4464dec",
   "metadata": {},
   "outputs": [],
   "source": [
    "data_cannibal = data[['title_id','title_name', 'season_number', 'offering_start_date','medal', 'medal_number', 'pillar_genre']].copy()\n",
    "data_aird = data[['title_id','title_name', 'season_number', 'offering_start_date', 'content_category', 'program_type', 'air_date', 'medal', 'pillar_genre', 'is_pay_1', 'is_popcorn']].copy()"
   ]
  },
  {
   "cell_type": "code",
   "execution_count": 43,
   "id": "1f26d50b",
   "metadata": {},
   "outputs": [],
   "source": [
    "data_cannibal['date_start'] = data_cannibal['offering_start_date'] - pd.DateOffset(days=31)\n",
    "data_cannibal['date_end'] = data_cannibal['offering_start_date'] + pd.DateOffset(days=31)"
   ]
  },
  {
   "cell_type": "code",
   "execution_count": 44,
   "id": "2267485e",
   "metadata": {},
   "outputs": [],
   "source": [
    "data_aird.columns = [i+'_2' for i in data_aird.columns]"
   ]
  },
  {
   "cell_type": "code",
   "execution_count": 47,
   "id": "31326194",
   "metadata": {},
   "outputs": [
    {
     "name": "stdout",
     "output_type": "stream",
     "text": [
      "Collecting sqldf\n",
      "  Downloading sqldf-0.4.2-py3-none-any.whl (4.3 kB)\n",
      "Installing collected packages: sqldf\n",
      "Successfully installed sqldf-0.4.2\n"
     ]
    }
   ],
   "source": [
    "# !pip install sqldf "
   ]
  },
  {
   "cell_type": "code",
   "execution_count": 48,
   "id": "f6d0231e",
   "metadata": {},
   "outputs": [],
   "source": [
    "import sqldf "
   ]
  },
  {
   "cell_type": "code",
   "execution_count": 49,
   "id": "45ef3821",
   "metadata": {},
   "outputs": [],
   "source": [
    "data_cannibal = sqldf.run(\n",
    "        \"\"\"\n",
    "            select * \n",
    "            from data_cannibal\n",
    "            join data_aird\n",
    "            on data_cannibal.offering_start_date <= data_aird.offering_start_date_2\n",
    "            and data_cannibal.date_end >= data_aird.offering_start_date_2\n",
    "        \"\"\"\n",
    "    )"
   ]
  },
  {
   "cell_type": "code",
   "execution_count": 50,
   "id": "14aff303",
   "metadata": {},
   "outputs": [],
   "source": [
    "data_cannibal = data_cannibal.drop(['index'], axis = 1)"
   ]
  },
  {
   "cell_type": "code",
   "execution_count": 51,
   "id": "1102f443",
   "metadata": {},
   "outputs": [],
   "source": [
    "data_cannibal['is_movie_2'] = 1\n",
    "data_cannibal.loc[data_cannibal['content_category_2']!= 'movies', 'is_movie_2'] = 0\n",
    "\n",
    "data_cannibal['is_series_2'] = 1\n",
    "data_cannibal.loc[data_cannibal['content_category_2']!= 'series', 'is_series_2'] = 0\n",
    "\n",
    "data_cannibal['is_acquired_2'] = 1\n",
    "data_cannibal.loc[data_cannibal['program_type_2']!= 'acquired', 'is_acquired_2'] = 0\n",
    "\n",
    "data_cannibal['is_original_2'] = 1\n",
    "data_cannibal.loc[data_cannibal['program_type_2']!= 'original', 'is_original_2'] = 0\n",
    "\n",
    "data_cannibal['is_medal_Platinum'] = 1\n",
    "data_cannibal.loc[data_cannibal['medal_2']!= 'Platinum', 'is_medal_Platinum'] = 0\n",
    "\n",
    "data_cannibal['is_medal_same'] = 1\n",
    "data_cannibal.loc[data_cannibal['medal_2']!= data_cannibal['medal'], 'is_medal_same'] = 0\n",
    "\n",
    "data_cannibal['is_genre_same'] = 1\n",
    "data_cannibal.loc[data_cannibal['pillar_genre_2']!= data_cannibal['pillar_genre'], 'is_genre_same'] = 0\n",
    "\n",
    "data_cannibal['is_current'] = 1\n",
    "data_cannibal.loc[(pd.to_datetime(data_cannibal['offering_start_date_2']) - pd.to_datetime(data_cannibal['air_date_2'])).dt.days > 365, \n",
    "                  'is_current'] = 0"
   ]
  },
  {
   "cell_type": "code",
   "execution_count": 52,
   "id": "8fb0a081",
   "metadata": {},
   "outputs": [],
   "source": [
    "data_final = data_cannibal.groupby(['title_id', 'season_number'])\\\n",
    "[['is_pay_1_2', 'is_popcorn_2', 'is_movie_2', 'is_series_2', 'is_acquired_2', 'is_original_2', 'is_medal_Platinum', 'is_medal_same', 'is_genre_same', 'is_current']\\\n",
    "].sum().reset_index()"
   ]
  },
  {
   "cell_type": "code",
   "execution_count": 53,
   "id": "a39a5c8c",
   "metadata": {},
   "outputs": [
    {
     "data": {
      "text/html": [
       "<div>\n",
       "<style scoped>\n",
       "    .dataframe tbody tr th:only-of-type {\n",
       "        vertical-align: middle;\n",
       "    }\n",
       "\n",
       "    .dataframe tbody tr th {\n",
       "        vertical-align: top;\n",
       "    }\n",
       "\n",
       "    .dataframe thead th {\n",
       "        text-align: right;\n",
       "    }\n",
       "</style>\n",
       "<table border=\"1\" class=\"dataframe\">\n",
       "  <thead>\n",
       "    <tr style=\"text-align: right;\">\n",
       "      <th></th>\n",
       "      <th>title_id</th>\n",
       "      <th>title_name</th>\n",
       "      <th>season_number</th>\n",
       "      <th>offering_start_date</th>\n",
       "      <th>medal</th>\n",
       "      <th>medal_number</th>\n",
       "      <th>pillar_genre</th>\n",
       "      <th>date_start</th>\n",
       "      <th>date_end</th>\n",
       "      <th>title_id_2</th>\n",
       "      <th>title_name_2</th>\n",
       "      <th>season_number_2</th>\n",
       "      <th>offering_start_date_2</th>\n",
       "      <th>content_category_2</th>\n",
       "      <th>program_type_2</th>\n",
       "      <th>air_date_2</th>\n",
       "      <th>medal_2</th>\n",
       "      <th>pillar_genre_2</th>\n",
       "      <th>is_pay_1_2</th>\n",
       "      <th>is_popcorn_2</th>\n",
       "      <th>is_movie_2</th>\n",
       "      <th>is_series_2</th>\n",
       "      <th>is_acquired_2</th>\n",
       "      <th>is_original_2</th>\n",
       "      <th>is_medal_Platinum</th>\n",
       "      <th>is_medal_same</th>\n",
       "      <th>is_genre_same</th>\n",
       "      <th>is_current</th>\n",
       "    </tr>\n",
       "  </thead>\n",
       "  <tbody>\n",
       "    <tr>\n",
       "      <th>0</th>\n",
       "      <td>GV-BGQgMBlMLDwwEAAAAy</td>\n",
       "      <td>Hitman</td>\n",
       "      <td>0</td>\n",
       "      <td>2021-10-01</td>\n",
       "      <td>Bronze</td>\n",
       "      <td>nan</td>\n",
       "      <td>Action/Adventure</td>\n",
       "      <td>2021-08-31 00:00:00</td>\n",
       "      <td>2021-11-01 00:00:00</td>\n",
       "      <td>GV-BGQgMBlMLDwwEAAAAy</td>\n",
       "      <td>Hitman</td>\n",
       "      <td>0</td>\n",
       "      <td>2021-10-01</td>\n",
       "      <td>movies</td>\n",
       "      <td>acquired</td>\n",
       "      <td>2007-11-21</td>\n",
       "      <td>Bronze</td>\n",
       "      <td>Action/Adventure</td>\n",
       "      <td>0</td>\n",
       "      <td>0</td>\n",
       "      <td>1</td>\n",
       "      <td>0</td>\n",
       "      <td>1</td>\n",
       "      <td>0</td>\n",
       "      <td>0</td>\n",
       "      <td>1</td>\n",
       "      <td>1</td>\n",
       "      <td>0</td>\n",
       "    </tr>\n",
       "    <tr>\n",
       "      <th>1</th>\n",
       "      <td>GV-BGQgMBlMLDwwEAAAAy</td>\n",
       "      <td>Hitman</td>\n",
       "      <td>0</td>\n",
       "      <td>2021-10-01</td>\n",
       "      <td>Bronze</td>\n",
       "      <td>nan</td>\n",
       "      <td>Action/Adventure</td>\n",
       "      <td>2021-08-31 00:00:00</td>\n",
       "      <td>2021-11-01 00:00:00</td>\n",
       "      <td>GV-LJSA5eFZqOiQEAAAAq</td>\n",
       "      <td>Lucia, Lucia</td>\n",
       "      <td>0</td>\n",
       "      <td>2021-11-01</td>\n",
       "      <td>movies</td>\n",
       "      <td>acquired</td>\n",
       "      <td>2003-07-25</td>\n",
       "      <td>Bronze</td>\n",
       "      <td>Comedy</td>\n",
       "      <td>0</td>\n",
       "      <td>0</td>\n",
       "      <td>1</td>\n",
       "      <td>0</td>\n",
       "      <td>1</td>\n",
       "      <td>0</td>\n",
       "      <td>0</td>\n",
       "      <td>1</td>\n",
       "      <td>0</td>\n",
       "      <td>0</td>\n",
       "    </tr>\n",
       "    <tr>\n",
       "      <th>2</th>\n",
       "      <td>GV-BGQgMBlMLDwwEAAAAy</td>\n",
       "      <td>Hitman</td>\n",
       "      <td>0</td>\n",
       "      <td>2021-10-01</td>\n",
       "      <td>Bronze</td>\n",
       "      <td>nan</td>\n",
       "      <td>Action/Adventure</td>\n",
       "      <td>2021-08-31 00:00:00</td>\n",
       "      <td>2021-11-01 00:00:00</td>\n",
       "      <td>GV1nmIwfwNZSMwwEAAABt</td>\n",
       "      <td>Say Anything...</td>\n",
       "      <td>0</td>\n",
       "      <td>2021-10-01</td>\n",
       "      <td>movies</td>\n",
       "      <td>acquired</td>\n",
       "      <td>1989-04-14</td>\n",
       "      <td>Bronze</td>\n",
       "      <td>Comedy</td>\n",
       "      <td>0</td>\n",
       "      <td>0</td>\n",
       "      <td>1</td>\n",
       "      <td>0</td>\n",
       "      <td>1</td>\n",
       "      <td>0</td>\n",
       "      <td>0</td>\n",
       "      <td>1</td>\n",
       "      <td>0</td>\n",
       "      <td>0</td>\n",
       "    </tr>\n",
       "    <tr>\n",
       "      <th>3</th>\n",
       "      <td>GV-BGQgMBlMLDwwEAAAAy</td>\n",
       "      <td>Hitman</td>\n",
       "      <td>0</td>\n",
       "      <td>2021-10-01</td>\n",
       "      <td>Bronze</td>\n",
       "      <td>nan</td>\n",
       "      <td>Action/Adventure</td>\n",
       "      <td>2021-08-31 00:00:00</td>\n",
       "      <td>2021-11-01 00:00:00</td>\n",
       "      <td>GV40E6Qsrx7fDNQEAAAA-</td>\n",
       "      <td>The Conspirator</td>\n",
       "      <td>0</td>\n",
       "      <td>2021-11-01</td>\n",
       "      <td>movies</td>\n",
       "      <td>acquired</td>\n",
       "      <td>2010-01-01</td>\n",
       "      <td>Bronze</td>\n",
       "      <td>Drama</td>\n",
       "      <td>0</td>\n",
       "      <td>0</td>\n",
       "      <td>1</td>\n",
       "      <td>0</td>\n",
       "      <td>1</td>\n",
       "      <td>0</td>\n",
       "      <td>0</td>\n",
       "      <td>1</td>\n",
       "      <td>0</td>\n",
       "      <td>0</td>\n",
       "    </tr>\n",
       "    <tr>\n",
       "      <th>4</th>\n",
       "      <td>GV-BGQgMBlMLDwwEAAAAy</td>\n",
       "      <td>Hitman</td>\n",
       "      <td>0</td>\n",
       "      <td>2021-10-01</td>\n",
       "      <td>Bronze</td>\n",
       "      <td>nan</td>\n",
       "      <td>Action/Adventure</td>\n",
       "      <td>2021-08-31 00:00:00</td>\n",
       "      <td>2021-11-01 00:00:00</td>\n",
       "      <td>GV4ei9w3FJpubawEAAAAJ</td>\n",
       "      <td>Child 44</td>\n",
       "      <td>0</td>\n",
       "      <td>2021-10-01</td>\n",
       "      <td>movies</td>\n",
       "      <td>acquired</td>\n",
       "      <td>2015-04-17</td>\n",
       "      <td>Bronze</td>\n",
       "      <td>Drama</td>\n",
       "      <td>0</td>\n",
       "      <td>0</td>\n",
       "      <td>1</td>\n",
       "      <td>0</td>\n",
       "      <td>1</td>\n",
       "      <td>0</td>\n",
       "      <td>0</td>\n",
       "      <td>1</td>\n",
       "      <td>0</td>\n",
       "      <td>0</td>\n",
       "    </tr>\n",
       "  </tbody>\n",
       "</table>\n",
       "</div>"
      ],
      "text/plain": [
       "                title_id title_name  season_number offering_start_date  \\\n",
       "0  GV-BGQgMBlMLDwwEAAAAy     Hitman              0          2021-10-01   \n",
       "1  GV-BGQgMBlMLDwwEAAAAy     Hitman              0          2021-10-01   \n",
       "2  GV-BGQgMBlMLDwwEAAAAy     Hitman              0          2021-10-01   \n",
       "3  GV-BGQgMBlMLDwwEAAAAy     Hitman              0          2021-10-01   \n",
       "4  GV-BGQgMBlMLDwwEAAAAy     Hitman              0          2021-10-01   \n",
       "\n",
       "    medal  medal_number       pillar_genre           date_start  \\\n",
       "0  Bronze           nan  Action/Adventure   2021-08-31 00:00:00   \n",
       "1  Bronze           nan  Action/Adventure   2021-08-31 00:00:00   \n",
       "2  Bronze           nan  Action/Adventure   2021-08-31 00:00:00   \n",
       "3  Bronze           nan  Action/Adventure   2021-08-31 00:00:00   \n",
       "4  Bronze           nan  Action/Adventure   2021-08-31 00:00:00   \n",
       "\n",
       "              date_end             title_id_2     title_name_2  \\\n",
       "0  2021-11-01 00:00:00  GV-BGQgMBlMLDwwEAAAAy           Hitman   \n",
       "1  2021-11-01 00:00:00  GV-LJSA5eFZqOiQEAAAAq     Lucia, Lucia   \n",
       "2  2021-11-01 00:00:00  GV1nmIwfwNZSMwwEAAABt  Say Anything...   \n",
       "3  2021-11-01 00:00:00  GV40E6Qsrx7fDNQEAAAA-  The Conspirator   \n",
       "4  2021-11-01 00:00:00  GV4ei9w3FJpubawEAAAAJ         Child 44   \n",
       "\n",
       "   season_number_2 offering_start_date_2 content_category_2 program_type_2  \\\n",
       "0                0            2021-10-01             movies       acquired   \n",
       "1                0            2021-11-01             movies       acquired   \n",
       "2                0            2021-10-01             movies       acquired   \n",
       "3                0            2021-11-01             movies       acquired   \n",
       "4                0            2021-10-01             movies       acquired   \n",
       "\n",
       "   air_date_2 medal_2     pillar_genre_2  is_pay_1_2  is_popcorn_2  \\\n",
       "0  2007-11-21  Bronze  Action/Adventure            0             0   \n",
       "1  2003-07-25  Bronze             Comedy           0             0   \n",
       "2  1989-04-14  Bronze             Comedy           0             0   \n",
       "3  2010-01-01  Bronze              Drama           0             0   \n",
       "4  2015-04-17  Bronze              Drama           0             0   \n",
       "\n",
       "   is_movie_2  is_series_2  is_acquired_2  is_original_2  is_medal_Platinum  \\\n",
       "0           1            0              1              0                  0   \n",
       "1           1            0              1              0                  0   \n",
       "2           1            0              1              0                  0   \n",
       "3           1            0              1              0                  0   \n",
       "4           1            0              1              0                  0   \n",
       "\n",
       "   is_medal_same  is_genre_same  is_current  \n",
       "0              1              1           0  \n",
       "1              1              0           0  \n",
       "2              1              0           0  \n",
       "3              1              0           0  \n",
       "4              1              0           0  "
      ]
     },
     "execution_count": 53,
     "metadata": {},
     "output_type": "execute_result"
    }
   ],
   "source": [
    "data_cannibal.head()"
   ]
  },
  {
   "cell_type": "code",
   "execution_count": 59,
   "id": "aefdfefc",
   "metadata": {},
   "outputs": [
    {
     "data": {
      "text/html": [
       "<div>\n",
       "<style scoped>\n",
       "    .dataframe tbody tr th:only-of-type {\n",
       "        vertical-align: middle;\n",
       "    }\n",
       "\n",
       "    .dataframe tbody tr th {\n",
       "        vertical-align: top;\n",
       "    }\n",
       "\n",
       "    .dataframe thead th {\n",
       "        text-align: right;\n",
       "    }\n",
       "</style>\n",
       "<table border=\"1\" class=\"dataframe\">\n",
       "  <thead>\n",
       "    <tr style=\"text-align: right;\">\n",
       "      <th></th>\n",
       "      <th>title_name</th>\n",
       "      <th>title_id</th>\n",
       "      <th>season_number</th>\n",
       "      <th>days_on_hbo_max</th>\n",
       "      <th>cumulative_hours_viewed</th>\n",
       "      <th>average_hours_viewed</th>\n",
       "      <th>offering_start_date</th>\n",
       "      <th>asset_run_time_hours</th>\n",
       "      <th>content_category</th>\n",
       "      <th>program_type</th>\n",
       "      <th>air_date</th>\n",
       "      <th>medal</th>\n",
       "      <th>episode_number_in_season</th>\n",
       "      <th>pillar_genre</th>\n",
       "      <th>is_pay_1</th>\n",
       "      <th>is_popcorn</th>\n",
       "      <th>budget</th>\n",
       "      <th>content_category_livesports</th>\n",
       "      <th>content_category_movies</th>\n",
       "      <th>content_category_series</th>\n",
       "      <th>content_category_special</th>\n",
       "      <th>program_type_acquired</th>\n",
       "      <th>program_type_original</th>\n",
       "      <th>genre_Action/Adventure</th>\n",
       "      <th>genre_Adult Animation</th>\n",
       "      <th>genre_Classics</th>\n",
       "      <th>genre_Comedy</th>\n",
       "      <th>genre_Documentary</th>\n",
       "      <th>genre_Drama</th>\n",
       "      <th>genre_Horror</th>\n",
       "      <th>genre_Kids/Family</th>\n",
       "      <th>genre_Music</th>\n",
       "      <th>genre_Other</th>\n",
       "      <th>genre_Romance</th>\n",
       "      <th>genre_Sci-Fi</th>\n",
       "      <th>genre_Suspense/Thriller</th>\n",
       "      <th>genre_Unscripted</th>\n",
       "      <th>medal_number</th>\n",
       "      <th>is_new_content</th>\n",
       "      <th>age_of_content</th>\n",
       "      <th>hvr</th>\n",
       "      <th>ahvr</th>\n",
       "      <th>content_cost</th>\n",
       "      <th>pay_1_count</th>\n",
       "      <th>popcorn_count</th>\n",
       "      <th>movie_count</th>\n",
       "      <th>series_count</th>\n",
       "      <th>acquired_count</th>\n",
       "      <th>original_count</th>\n",
       "      <th>medal_Platinum_count</th>\n",
       "      <th>medal_same_count</th>\n",
       "      <th>genre_same_count</th>\n",
       "      <th>current_content_count</th>\n",
       "    </tr>\n",
       "  </thead>\n",
       "  <tbody>\n",
       "    <tr>\n",
       "      <th>0</th>\n",
       "      <td>Hitman</td>\n",
       "      <td>GV-BGQgMBlMLDwwEAAAAy</td>\n",
       "      <td>0</td>\n",
       "      <td>60</td>\n",
       "      <td>147,364.96</td>\n",
       "      <td>0.01</td>\n",
       "      <td>2021-10-01</td>\n",
       "      <td>1.54</td>\n",
       "      <td>movies</td>\n",
       "      <td>acquired</td>\n",
       "      <td>2007-11-21</td>\n",
       "      <td>Bronze</td>\n",
       "      <td>nan</td>\n",
       "      <td>Action/Adventure</td>\n",
       "      <td>0</td>\n",
       "      <td>0</td>\n",
       "      <td>24,000,000.00</td>\n",
       "      <td>0</td>\n",
       "      <td>1</td>\n",
       "      <td>0</td>\n",
       "      <td>0</td>\n",
       "      <td>1</td>\n",
       "      <td>0</td>\n",
       "      <td>1</td>\n",
       "      <td>0</td>\n",
       "      <td>0</td>\n",
       "      <td>0</td>\n",
       "      <td>0</td>\n",
       "      <td>0</td>\n",
       "      <td>0</td>\n",
       "      <td>0</td>\n",
       "      <td>0</td>\n",
       "      <td>0</td>\n",
       "      <td>0</td>\n",
       "      <td>0</td>\n",
       "      <td>0</td>\n",
       "      <td>0</td>\n",
       "      <td>nan</td>\n",
       "      <td>0</td>\n",
       "      <td>13.86</td>\n",
       "      <td>95,399.02</td>\n",
       "      <td>0.01</td>\n",
       "      <td>285,000.00</td>\n",
       "      <td>6</td>\n",
       "      <td>2</td>\n",
       "      <td>273</td>\n",
       "      <td>82</td>\n",
       "      <td>341</td>\n",
       "      <td>23</td>\n",
       "      <td>1</td>\n",
       "      <td>358</td>\n",
       "      <td>45</td>\n",
       "      <td>46</td>\n",
       "    </tr>\n",
       "    <tr>\n",
       "      <th>1</th>\n",
       "      <td>Meet Dave</td>\n",
       "      <td>GV-BH1AH5lhgVsQEAAABJ</td>\n",
       "      <td>0</td>\n",
       "      <td>60</td>\n",
       "      <td>114,823.42</td>\n",
       "      <td>0.01</td>\n",
       "      <td>2022-09-01</td>\n",
       "      <td>1.51</td>\n",
       "      <td>movies</td>\n",
       "      <td>acquired</td>\n",
       "      <td>2008-07-11</td>\n",
       "      <td>Bronze</td>\n",
       "      <td>nan</td>\n",
       "      <td>Comedy</td>\n",
       "      <td>0</td>\n",
       "      <td>0</td>\n",
       "      <td>60,000,000.00</td>\n",
       "      <td>0</td>\n",
       "      <td>1</td>\n",
       "      <td>0</td>\n",
       "      <td>0</td>\n",
       "      <td>1</td>\n",
       "      <td>0</td>\n",
       "      <td>0</td>\n",
       "      <td>0</td>\n",
       "      <td>0</td>\n",
       "      <td>1</td>\n",
       "      <td>0</td>\n",
       "      <td>0</td>\n",
       "      <td>0</td>\n",
       "      <td>0</td>\n",
       "      <td>0</td>\n",
       "      <td>0</td>\n",
       "      <td>0</td>\n",
       "      <td>0</td>\n",
       "      <td>0</td>\n",
       "      <td>0</td>\n",
       "      <td>nan</td>\n",
       "      <td>0</td>\n",
       "      <td>14.14</td>\n",
       "      <td>76,266.51</td>\n",
       "      <td>0.01</td>\n",
       "      <td>230,000.00</td>\n",
       "      <td>4</td>\n",
       "      <td>0</td>\n",
       "      <td>171</td>\n",
       "      <td>75</td>\n",
       "      <td>242</td>\n",
       "      <td>6</td>\n",
       "      <td>1</td>\n",
       "      <td>245</td>\n",
       "      <td>46</td>\n",
       "      <td>42</td>\n",
       "    </tr>\n",
       "    <tr>\n",
       "      <th>2</th>\n",
       "      <td>The Sand Pebbles</td>\n",
       "      <td>GV-BK7wNv6MLCwgEAAABw</td>\n",
       "      <td>0</td>\n",
       "      <td>60</td>\n",
       "      <td>6,272.51</td>\n",
       "      <td>0.00</td>\n",
       "      <td>2021-03-01</td>\n",
       "      <td>2.98</td>\n",
       "      <td>movies</td>\n",
       "      <td>acquired</td>\n",
       "      <td>1966-01-01</td>\n",
       "      <td>Bronze</td>\n",
       "      <td>nan</td>\n",
       "      <td>Classics</td>\n",
       "      <td>0</td>\n",
       "      <td>0</td>\n",
       "      <td>12,000,000.00</td>\n",
       "      <td>0</td>\n",
       "      <td>1</td>\n",
       "      <td>0</td>\n",
       "      <td>0</td>\n",
       "      <td>1</td>\n",
       "      <td>0</td>\n",
       "      <td>0</td>\n",
       "      <td>0</td>\n",
       "      <td>1</td>\n",
       "      <td>0</td>\n",
       "      <td>0</td>\n",
       "      <td>0</td>\n",
       "      <td>0</td>\n",
       "      <td>0</td>\n",
       "      <td>0</td>\n",
       "      <td>0</td>\n",
       "      <td>0</td>\n",
       "      <td>0</td>\n",
       "      <td>0</td>\n",
       "      <td>0</td>\n",
       "      <td>nan</td>\n",
       "      <td>0</td>\n",
       "      <td>55.16</td>\n",
       "      <td>2,102.13</td>\n",
       "      <td>0.00</td>\n",
       "      <td>230,000.00</td>\n",
       "      <td>1</td>\n",
       "      <td>1</td>\n",
       "      <td>221</td>\n",
       "      <td>29</td>\n",
       "      <td>237</td>\n",
       "      <td>16</td>\n",
       "      <td>2</td>\n",
       "      <td>249</td>\n",
       "      <td>11</td>\n",
       "      <td>32</td>\n",
       "    </tr>\n",
       "    <tr>\n",
       "      <th>3</th>\n",
       "      <td>Matchstick Men</td>\n",
       "      <td>GV-BKigrJWcJMwwEAAABi</td>\n",
       "      <td>0</td>\n",
       "      <td>60</td>\n",
       "      <td>177,819.93</td>\n",
       "      <td>0.01</td>\n",
       "      <td>2021-06-01</td>\n",
       "      <td>1.89</td>\n",
       "      <td>movies</td>\n",
       "      <td>acquired</td>\n",
       "      <td>2003-09-12</td>\n",
       "      <td>Bronze</td>\n",
       "      <td>nan</td>\n",
       "      <td>Drama</td>\n",
       "      <td>0</td>\n",
       "      <td>0</td>\n",
       "      <td>62,000,000.00</td>\n",
       "      <td>0</td>\n",
       "      <td>1</td>\n",
       "      <td>0</td>\n",
       "      <td>0</td>\n",
       "      <td>1</td>\n",
       "      <td>0</td>\n",
       "      <td>0</td>\n",
       "      <td>0</td>\n",
       "      <td>0</td>\n",
       "      <td>0</td>\n",
       "      <td>0</td>\n",
       "      <td>1</td>\n",
       "      <td>0</td>\n",
       "      <td>0</td>\n",
       "      <td>0</td>\n",
       "      <td>0</td>\n",
       "      <td>0</td>\n",
       "      <td>0</td>\n",
       "      <td>0</td>\n",
       "      <td>0</td>\n",
       "      <td>nan</td>\n",
       "      <td>0</td>\n",
       "      <td>17.72</td>\n",
       "      <td>93,850.14</td>\n",
       "      <td>0.01</td>\n",
       "      <td>175,000.00</td>\n",
       "      <td>5</td>\n",
       "      <td>2</td>\n",
       "      <td>196</td>\n",
       "      <td>51</td>\n",
       "      <td>234</td>\n",
       "      <td>13</td>\n",
       "      <td>2</td>\n",
       "      <td>243</td>\n",
       "      <td>55</td>\n",
       "      <td>20</td>\n",
       "    </tr>\n",
       "    <tr>\n",
       "      <th>4</th>\n",
       "      <td>Miracle on 34th Street</td>\n",
       "      <td>GV-BKvAt0FsJMwwEAAABv</td>\n",
       "      <td>0</td>\n",
       "      <td>60</td>\n",
       "      <td>2,531.15</td>\n",
       "      <td>0.00</td>\n",
       "      <td>2021-07-01</td>\n",
       "      <td>1.61</td>\n",
       "      <td>movies</td>\n",
       "      <td>acquired</td>\n",
       "      <td>1947-01-01</td>\n",
       "      <td>Bronze</td>\n",
       "      <td>nan</td>\n",
       "      <td>Kids/Family</td>\n",
       "      <td>0</td>\n",
       "      <td>0</td>\n",
       "      <td>nan</td>\n",
       "      <td>0</td>\n",
       "      <td>1</td>\n",
       "      <td>0</td>\n",
       "      <td>0</td>\n",
       "      <td>1</td>\n",
       "      <td>0</td>\n",
       "      <td>0</td>\n",
       "      <td>0</td>\n",
       "      <td>0</td>\n",
       "      <td>0</td>\n",
       "      <td>0</td>\n",
       "      <td>0</td>\n",
       "      <td>0</td>\n",
       "      <td>1</td>\n",
       "      <td>0</td>\n",
       "      <td>0</td>\n",
       "      <td>0</td>\n",
       "      <td>0</td>\n",
       "      <td>0</td>\n",
       "      <td>0</td>\n",
       "      <td>nan</td>\n",
       "      <td>0</td>\n",
       "      <td>74.50</td>\n",
       "      <td>1,575.68</td>\n",
       "      <td>0.00</td>\n",
       "      <td>92,000.00</td>\n",
       "      <td>7</td>\n",
       "      <td>1</td>\n",
       "      <td>172</td>\n",
       "      <td>21</td>\n",
       "      <td>179</td>\n",
       "      <td>16</td>\n",
       "      <td>0</td>\n",
       "      <td>185</td>\n",
       "      <td>18</td>\n",
       "      <td>39</td>\n",
       "    </tr>\n",
       "  </tbody>\n",
       "</table>\n",
       "</div>"
      ],
      "text/plain": [
       "               title_name               title_id  season_number  \\\n",
       "0                  Hitman  GV-BGQgMBlMLDwwEAAAAy              0   \n",
       "1               Meet Dave  GV-BH1AH5lhgVsQEAAABJ              0   \n",
       "2        The Sand Pebbles  GV-BK7wNv6MLCwgEAAABw              0   \n",
       "3          Matchstick Men  GV-BKigrJWcJMwwEAAABi              0   \n",
       "4  Miracle on 34th Street  GV-BKvAt0FsJMwwEAAABv              0   \n",
       "\n",
       "   days_on_hbo_max  cumulative_hours_viewed  average_hours_viewed  \\\n",
       "0               60               147,364.96                  0.01   \n",
       "1               60               114,823.42                  0.01   \n",
       "2               60                 6,272.51                  0.00   \n",
       "3               60               177,819.93                  0.01   \n",
       "4               60                 2,531.15                  0.00   \n",
       "\n",
       "  offering_start_date  asset_run_time_hours content_category program_type  \\\n",
       "0          2021-10-01                  1.54           movies     acquired   \n",
       "1          2022-09-01                  1.51           movies     acquired   \n",
       "2          2021-03-01                  2.98           movies     acquired   \n",
       "3          2021-06-01                  1.89           movies     acquired   \n",
       "4          2021-07-01                  1.61           movies     acquired   \n",
       "\n",
       "     air_date   medal  episode_number_in_season       pillar_genre  is_pay_1  \\\n",
       "0  2007-11-21  Bronze                       nan  Action/Adventure          0   \n",
       "1  2008-07-11  Bronze                       nan             Comedy         0   \n",
       "2  1966-01-01  Bronze                       nan           Classics         0   \n",
       "3  2003-09-12  Bronze                       nan              Drama         0   \n",
       "4  1947-01-01  Bronze                       nan        Kids/Family         0   \n",
       "\n",
       "   is_popcorn        budget  content_category_livesports  \\\n",
       "0           0 24,000,000.00                            0   \n",
       "1           0 60,000,000.00                            0   \n",
       "2           0 12,000,000.00                            0   \n",
       "3           0 62,000,000.00                            0   \n",
       "4           0           nan                            0   \n",
       "\n",
       "   content_category_movies  content_category_series  content_category_special  \\\n",
       "0                        1                        0                         0   \n",
       "1                        1                        0                         0   \n",
       "2                        1                        0                         0   \n",
       "3                        1                        0                         0   \n",
       "4                        1                        0                         0   \n",
       "\n",
       "   program_type_acquired  program_type_original  genre_Action/Adventure   \\\n",
       "0                      1                      0                        1   \n",
       "1                      1                      0                        0   \n",
       "2                      1                      0                        0   \n",
       "3                      1                      0                        0   \n",
       "4                      1                      0                        0   \n",
       "\n",
       "   genre_Adult Animation  genre_Classics  genre_Comedy  genre_Documentary  \\\n",
       "0                      0               0             0                  0   \n",
       "1                      0               0             1                  0   \n",
       "2                      0               1             0                  0   \n",
       "3                      0               0             0                  0   \n",
       "4                      0               0             0                  0   \n",
       "\n",
       "   genre_Drama  genre_Horror   genre_Kids/Family  genre_Music  genre_Other  \\\n",
       "0            0              0                  0            0            0   \n",
       "1            0              0                  0            0            0   \n",
       "2            0              0                  0            0            0   \n",
       "3            1              0                  0            0            0   \n",
       "4            0              0                  1            0            0   \n",
       "\n",
       "   genre_Romance  genre_Sci-Fi  genre_Suspense/Thriller  genre_Unscripted  \\\n",
       "0              0             0                        0                 0   \n",
       "1              0             0                        0                 0   \n",
       "2              0             0                        0                 0   \n",
       "3              0             0                        0                 0   \n",
       "4              0             0                        0                 0   \n",
       "\n",
       "   medal_number  is_new_content  age_of_content       hvr  ahvr  content_cost  \\\n",
       "0           nan               0           13.86 95,399.02  0.01    285,000.00   \n",
       "1           nan               0           14.14 76,266.51  0.01    230,000.00   \n",
       "2           nan               0           55.16  2,102.13  0.00    230,000.00   \n",
       "3           nan               0           17.72 93,850.14  0.01    175,000.00   \n",
       "4           nan               0           74.50  1,575.68  0.00     92,000.00   \n",
       "\n",
       "   pay_1_count  popcorn_count  movie_count  series_count  acquired_count  \\\n",
       "0            6              2          273            82             341   \n",
       "1            4              0          171            75             242   \n",
       "2            1              1          221            29             237   \n",
       "3            5              2          196            51             234   \n",
       "4            7              1          172            21             179   \n",
       "\n",
       "   original_count  medal_Platinum_count  medal_same_count  genre_same_count  \\\n",
       "0              23                     1               358                45   \n",
       "1               6                     1               245                46   \n",
       "2              16                     2               249                11   \n",
       "3              13                     2               243                55   \n",
       "4              16                     0               185                18   \n",
       "\n",
       "   current_content_count  \n",
       "0                     46  \n",
       "1                     42  \n",
       "2                     32  \n",
       "3                     20  \n",
       "4                     39  "
      ]
     },
     "execution_count": 59,
     "metadata": {},
     "output_type": "execute_result"
    }
   ],
   "source": [
    "data.head()"
   ]
  },
  {
   "cell_type": "code",
   "execution_count": 54,
   "id": "e99659e0",
   "metadata": {},
   "outputs": [],
   "source": [
    "data_final.columns = ['title_id', 'season_number','pay_1_count', 'popcorn_count', 'movie_count', 'series_count', 'acquired_count', 'original_count', \n",
    "                         'medal_Platinum_count', 'medal_same_count', 'genre_same_count', 'current_content_count']"
   ]
  },
  {
   "cell_type": "code",
   "execution_count": 55,
   "id": "7f386481",
   "metadata": {},
   "outputs": [
    {
     "data": {
      "text/plain": [
       "799036"
      ]
     },
     "execution_count": 55,
     "metadata": {},
     "output_type": "execute_result"
    }
   ],
   "source": [
    "len(data_cannibal)"
   ]
  },
  {
   "cell_type": "code",
   "execution_count": 56,
   "id": "852e0b40",
   "metadata": {},
   "outputs": [],
   "source": [
    "data = data.merge(data_final, on = ['title_id', 'season_number'])"
   ]
  },
  {
   "cell_type": "code",
   "execution_count": 57,
   "id": "264a543c",
   "metadata": {},
   "outputs": [
    {
     "data": {
      "text/plain": [
       "3694"
      ]
     },
     "execution_count": 57,
     "metadata": {},
     "output_type": "execute_result"
    }
   ],
   "source": [
    "len(data)"
   ]
  },
  {
   "cell_type": "code",
   "execution_count": 58,
   "id": "335e4446",
   "metadata": {},
   "outputs": [
    {
     "name": "stderr",
     "output_type": "stream",
     "text": [
      "/home/ec2-user/anaconda3/envs/python3/lib/python3.6/site-packages/boto3/compat.py:88: PythonDeprecationWarning: Boto3 will no longer support Python 3.6 starting May 30, 2022. To continue receiving service updates, bug fixes, and security updates please upgrade to Python 3.7 or later. More information can be found here: https://aws.amazon.com/blogs/developer/python-support-policy-updates-for-aws-sdks-and-tools/\n",
      "  warnings.warn(warning, PythonDeprecationWarning)\n"
     ]
    }
   ],
   "source": [
    "write_to_input(data, 'Cannibalization Analysis.csv')\n",
    "write_to_input(data_cannibal, 'cannibalization_analysis_detailed_view.csv')"
   ]
  },
  {
   "cell_type": "markdown",
   "id": "bd6e17f7",
   "metadata": {},
   "source": [
    "# CORRELATION"
   ]
  },
  {
   "cell_type": "markdown",
   "id": "f7551ca7",
   "metadata": {},
   "source": [
    "## 1. HVR"
   ]
  },
  {
   "cell_type": "code",
   "execution_count": 104,
   "id": "dee804aa",
   "metadata": {},
   "outputs": [
    {
     "name": "stderr",
     "output_type": "stream",
     "text": [
      "WARNING:matplotlib.font_manager:Matplotlib is building the font cache; this may take a moment.\n"
     ]
    }
   ],
   "source": [
    "import matplotlib.pyplot as plt \n",
    "import seaborn as sns"
   ]
  },
  {
   "cell_type": "code",
   "execution_count": 105,
   "id": "8eec6dc3",
   "metadata": {},
   "outputs": [],
   "source": [
    "META_COLS = ['title_name', 'title_id', 'season_number', 'offering_start_date', 'asset_run_time_hours']\n",
    "FEATURE_COLS = ['is_pay_1', 'is_popcorn', 'is_new_content', 'medal_number', 'age_of_content', 'episode_number_in_season', 'content_cost',\n",
    "               'budget', 'content_category_livesports', 'content_category_movies',\n",
    "               'content_category_series', 'content_category_special',\n",
    "               'program_type_acquired', 'program_type_original',\n",
    "               'genre_Action/Adventure ', 'genre_Adult Animation', 'genre_Classics',\n",
    "               'genre_Comedy', 'genre_Documentary', 'genre_Drama', 'genre_Horror ',\n",
    "               'genre_Kids/Family', 'genre_Music', 'genre_Other', 'genre_Romance',\n",
    "               'genre_Sci-Fi', 'genre_Suspense/Thriller', 'genre_Unscripted',\n",
    "                'pay_1_count', 'popcorn_count', 'movie_count', 'series_count', 'acquired_count', 'original_count', \n",
    "                'medal_Platinum_count', 'medal_same_count', 'genre_same_count', 'current_content_count'\n",
    "               ]"
   ]
  },
  {
   "cell_type": "code",
   "execution_count": 106,
   "id": "57a216be",
   "metadata": {},
   "outputs": [],
   "source": [
    "TARGET_COL = ['hvr'] #cumulative_hours_viewed"
   ]
  },
  {
   "cell_type": "code",
   "execution_count": 107,
   "id": "aa112a91",
   "metadata": {},
   "outputs": [
    {
     "data": {
      "text/html": [
       "<div>\n",
       "<style scoped>\n",
       "    .dataframe tbody tr th:only-of-type {\n",
       "        vertical-align: middle;\n",
       "    }\n",
       "\n",
       "    .dataframe tbody tr th {\n",
       "        vertical-align: top;\n",
       "    }\n",
       "\n",
       "    .dataframe thead th {\n",
       "        text-align: right;\n",
       "    }\n",
       "</style>\n",
       "<table border=\"1\" class=\"dataframe\">\n",
       "  <thead>\n",
       "    <tr style=\"text-align: right;\">\n",
       "      <th></th>\n",
       "      <th>hvr</th>\n",
       "    </tr>\n",
       "  </thead>\n",
       "  <tbody>\n",
       "    <tr>\n",
       "      <th>dummy_value</th>\n",
       "      <td>-1.00</td>\n",
       "    </tr>\n",
       "    <tr>\n",
       "      <th>medal_number</th>\n",
       "      <td>-0.72</td>\n",
       "    </tr>\n",
       "    <tr>\n",
       "      <th>medal_same_count</th>\n",
       "      <td>-0.25</td>\n",
       "    </tr>\n",
       "    <tr>\n",
       "      <th>age_of_content</th>\n",
       "      <td>-0.14</td>\n",
       "    </tr>\n",
       "    <tr>\n",
       "      <th>episode_number_in_season</th>\n",
       "      <td>-0.08</td>\n",
       "    </tr>\n",
       "    <tr>\n",
       "      <th>acquired_count</th>\n",
       "      <td>-0.08</td>\n",
       "    </tr>\n",
       "    <tr>\n",
       "      <th>movie_count</th>\n",
       "      <td>-0.07</td>\n",
       "    </tr>\n",
       "    <tr>\n",
       "      <th>program_type_acquired</th>\n",
       "      <td>-0.07</td>\n",
       "    </tr>\n",
       "    <tr>\n",
       "      <th>genre_Classics</th>\n",
       "      <td>-0.06</td>\n",
       "    </tr>\n",
       "    <tr>\n",
       "      <th>genre_same_count</th>\n",
       "      <td>-0.06</td>\n",
       "    </tr>\n",
       "    <tr>\n",
       "      <th>series_count</th>\n",
       "      <td>-0.05</td>\n",
       "    </tr>\n",
       "    <tr>\n",
       "      <th>genre_Unscripted</th>\n",
       "      <td>-0.04</td>\n",
       "    </tr>\n",
       "    <tr>\n",
       "      <th>current_content_count</th>\n",
       "      <td>-0.04</td>\n",
       "    </tr>\n",
       "    <tr>\n",
       "      <th>content_category_series</th>\n",
       "      <td>-0.03</td>\n",
       "    </tr>\n",
       "    <tr>\n",
       "      <th>genre_Documentary</th>\n",
       "      <td>-0.03</td>\n",
       "    </tr>\n",
       "    <tr>\n",
       "      <th>original_count</th>\n",
       "      <td>-0.03</td>\n",
       "    </tr>\n",
       "    <tr>\n",
       "      <th>genre_Romance</th>\n",
       "      <td>-0.02</td>\n",
       "    </tr>\n",
       "    <tr>\n",
       "      <th>genre_Adult Animation</th>\n",
       "      <td>-0.02</td>\n",
       "    </tr>\n",
       "    <tr>\n",
       "      <th>genre_Kids/Family</th>\n",
       "      <td>-0.02</td>\n",
       "    </tr>\n",
       "    <tr>\n",
       "      <th>genre_Comedy</th>\n",
       "      <td>-0.02</td>\n",
       "    </tr>\n",
       "    <tr>\n",
       "      <th>genre_Music</th>\n",
       "      <td>-0.01</td>\n",
       "    </tr>\n",
       "    <tr>\n",
       "      <th>content_category_livesports</th>\n",
       "      <td>-0.01</td>\n",
       "    </tr>\n",
       "    <tr>\n",
       "      <th>genre_Drama</th>\n",
       "      <td>-0.00</td>\n",
       "    </tr>\n",
       "    <tr>\n",
       "      <th>pay_1_count</th>\n",
       "      <td>-0.00</td>\n",
       "    </tr>\n",
       "    <tr>\n",
       "      <th>genre_Sci-Fi</th>\n",
       "      <td>0.00</td>\n",
       "    </tr>\n",
       "    <tr>\n",
       "      <th>content_category_special</th>\n",
       "      <td>0.01</td>\n",
       "    </tr>\n",
       "    <tr>\n",
       "      <th>genre_Horror</th>\n",
       "      <td>0.02</td>\n",
       "    </tr>\n",
       "    <tr>\n",
       "      <th>genre_Suspense/Thriller</th>\n",
       "      <td>0.02</td>\n",
       "    </tr>\n",
       "    <tr>\n",
       "      <th>content_category_movies</th>\n",
       "      <td>0.03</td>\n",
       "    </tr>\n",
       "    <tr>\n",
       "      <th>popcorn_count</th>\n",
       "      <td>0.03</td>\n",
       "    </tr>\n",
       "    <tr>\n",
       "      <th>genre_Other</th>\n",
       "      <td>0.05</td>\n",
       "    </tr>\n",
       "    <tr>\n",
       "      <th>program_type_original</th>\n",
       "      <td>0.07</td>\n",
       "    </tr>\n",
       "    <tr>\n",
       "      <th>medal_Platinum_count</th>\n",
       "      <td>0.08</td>\n",
       "    </tr>\n",
       "    <tr>\n",
       "      <th>genre_Action/Adventure</th>\n",
       "      <td>0.13</td>\n",
       "    </tr>\n",
       "    <tr>\n",
       "      <th>is_new_content</th>\n",
       "      <td>0.23</td>\n",
       "    </tr>\n",
       "    <tr>\n",
       "      <th>content_cost</th>\n",
       "      <td>0.39</td>\n",
       "    </tr>\n",
       "    <tr>\n",
       "      <th>budget</th>\n",
       "      <td>0.39</td>\n",
       "    </tr>\n",
       "    <tr>\n",
       "      <th>is_pay_1</th>\n",
       "      <td>0.50</td>\n",
       "    </tr>\n",
       "    <tr>\n",
       "      <th>is_popcorn</th>\n",
       "      <td>0.63</td>\n",
       "    </tr>\n",
       "    <tr>\n",
       "      <th>hvr</th>\n",
       "      <td>1.00</td>\n",
       "    </tr>\n",
       "  </tbody>\n",
       "</table>\n",
       "</div>"
      ],
      "text/plain": [
       "                              hvr\n",
       "dummy_value                 -1.00\n",
       "medal_number                -0.72\n",
       "medal_same_count            -0.25\n",
       "age_of_content              -0.14\n",
       "episode_number_in_season    -0.08\n",
       "acquired_count              -0.08\n",
       "movie_count                 -0.07\n",
       "program_type_acquired       -0.07\n",
       "genre_Classics              -0.06\n",
       "genre_same_count            -0.06\n",
       "series_count                -0.05\n",
       "genre_Unscripted            -0.04\n",
       "current_content_count       -0.04\n",
       "content_category_series     -0.03\n",
       "genre_Documentary           -0.03\n",
       "original_count              -0.03\n",
       "genre_Romance               -0.02\n",
       "genre_Adult Animation       -0.02\n",
       "genre_Kids/Family           -0.02\n",
       "genre_Comedy                -0.02\n",
       "genre_Music                 -0.01\n",
       "content_category_livesports -0.01\n",
       "genre_Drama                 -0.00\n",
       "pay_1_count                 -0.00\n",
       "genre_Sci-Fi                 0.00\n",
       "content_category_special     0.01\n",
       "genre_Horror                 0.02\n",
       "genre_Suspense/Thriller      0.02\n",
       "content_category_movies      0.03\n",
       "popcorn_count                0.03\n",
       "genre_Other                  0.05\n",
       "program_type_original        0.07\n",
       "medal_Platinum_count         0.08\n",
       "genre_Action/Adventure       0.13\n",
       "is_new_content               0.23\n",
       "content_cost                 0.39\n",
       "budget                       0.39\n",
       "is_pay_1                     0.50\n",
       "is_popcorn                   0.63\n",
       "hvr                          1.00"
      ]
     },
     "execution_count": 107,
     "metadata": {},
     "output_type": "execute_result"
    }
   ],
   "source": [
    "plot_data=data[FEATURE_COLS+TARGET_COL]\n",
    "corr = plot_data.corr()[TARGET_COL]\n",
    "mask=np.zeros_like(corr, dtype=np.bool)\n",
    "corr.loc['dummy_value'] = -1\n",
    "corr.sort_values(by = TARGET_COL)"
   ]
  },
  {
   "cell_type": "code",
   "execution_count": 108,
   "id": "4ca5c934",
   "metadata": {},
   "outputs": [
    {
     "data": {
      "text/plain": [
       "<AxesSubplot:>"
      ]
     },
     "execution_count": 108,
     "metadata": {},
     "output_type": "execute_result"
    },
    {
     "data": {
      "image/png": "[encoded data removed]",
      "text/plain": [
       "<Figure size 720x576 with 2 Axes>"
      ]
     },
     "metadata": {
      "needs_background": "light"
     },
     "output_type": "display_data"
    }
   ],
   "source": [
    "f, ax = plt.subplots(figsize=(10, 8))\n",
    "sns.heatmap(corr, mask=np.zeros_like(corr, dtype=np.bool), cmap=sns.diverging_palette(220, 10, as_cmap=True),\n",
    "            square=True, ax=ax)"
   ]
  },
  {
   "cell_type": "markdown",
   "id": "b791943c",
   "metadata": {},
   "source": [
    "## 2. Log HVR"
   ]
  },
  {
   "cell_type": "code",
   "execution_count": 111,
   "id": "bdd656b9",
   "metadata": {},
   "outputs": [],
   "source": [
    "data['log_hvr'] = np.log2(data['hvr'])"
   ]
  },
  {
   "cell_type": "code",
   "execution_count": 112,
   "id": "b118b905",
   "metadata": {},
   "outputs": [],
   "source": [
    "TARGET_COL = ['log_hvr'] #cumulative_hours_viewed"
   ]
  },
  {
   "cell_type": "code",
   "execution_count": 113,
   "id": "0be1fa98",
   "metadata": {
    "collapsed": true,
    "jupyter": {
     "outputs_hidden": true
    }
   },
   "outputs": [
    {
     "data": {
      "text/html": [
       "<div>\n",
       "<style scoped>\n",
       "    .dataframe tbody tr th:only-of-type {\n",
       "        vertical-align: middle;\n",
       "    }\n",
       "\n",
       "    .dataframe tbody tr th {\n",
       "        vertical-align: top;\n",
       "    }\n",
       "\n",
       "    .dataframe thead th {\n",
       "        text-align: right;\n",
       "    }\n",
       "</style>\n",
       "<table border=\"1\" class=\"dataframe\">\n",
       "  <thead>\n",
       "    <tr style=\"text-align: right;\">\n",
       "      <th></th>\n",
       "      <th>log_hvr</th>\n",
       "    </tr>\n",
       "  </thead>\n",
       "  <tbody>\n",
       "    <tr>\n",
       "      <th>dummy_value</th>\n",
       "      <td>-1.00</td>\n",
       "    </tr>\n",
       "    <tr>\n",
       "      <th>medal_number</th>\n",
       "      <td>-0.64</td>\n",
       "    </tr>\n",
       "    <tr>\n",
       "      <th>genre_Classics</th>\n",
       "      <td>-0.25</td>\n",
       "    </tr>\n",
       "    <tr>\n",
       "      <th>age_of_content</th>\n",
       "      <td>-0.22</td>\n",
       "    </tr>\n",
       "    <tr>\n",
       "      <th>genre_Documentary</th>\n",
       "      <td>-0.13</td>\n",
       "    </tr>\n",
       "    <tr>\n",
       "      <th>content_category_series</th>\n",
       "      <td>-0.09</td>\n",
       "    </tr>\n",
       "    <tr>\n",
       "      <th>episode_number_in_season</th>\n",
       "      <td>-0.09</td>\n",
       "    </tr>\n",
       "    <tr>\n",
       "      <th>program_type_original</th>\n",
       "      <td>-0.08</td>\n",
       "    </tr>\n",
       "    <tr>\n",
       "      <th>genre_Unscripted</th>\n",
       "      <td>-0.08</td>\n",
       "    </tr>\n",
       "    <tr>\n",
       "      <th>content_category_special</th>\n",
       "      <td>-0.07</td>\n",
       "    </tr>\n",
       "    <tr>\n",
       "      <th>genre_Kids/Family</th>\n",
       "      <td>-0.06</td>\n",
       "    </tr>\n",
       "    <tr>\n",
       "      <th>genre_Music</th>\n",
       "      <td>-0.02</td>\n",
       "    </tr>\n",
       "    <tr>\n",
       "      <th>genre_Adult Animation</th>\n",
       "      <td>-0.00</td>\n",
       "    </tr>\n",
       "    <tr>\n",
       "      <th>content_category_livesports</th>\n",
       "      <td>0.00</td>\n",
       "    </tr>\n",
       "    <tr>\n",
       "      <th>genre_Other</th>\n",
       "      <td>0.01</td>\n",
       "    </tr>\n",
       "    <tr>\n",
       "      <th>genre_Romance</th>\n",
       "      <td>0.02</td>\n",
       "    </tr>\n",
       "    <tr>\n",
       "      <th>genre_Suspense/Thriller</th>\n",
       "      <td>0.04</td>\n",
       "    </tr>\n",
       "    <tr>\n",
       "      <th>genre_Drama</th>\n",
       "      <td>0.05</td>\n",
       "    </tr>\n",
       "    <tr>\n",
       "      <th>genre_Sci-Fi</th>\n",
       "      <td>0.05</td>\n",
       "    </tr>\n",
       "    <tr>\n",
       "      <th>program_type_acquired</th>\n",
       "      <td>0.09</td>\n",
       "    </tr>\n",
       "    <tr>\n",
       "      <th>genre_Comedy</th>\n",
       "      <td>0.10</td>\n",
       "    </tr>\n",
       "    <tr>\n",
       "      <th>content_category_movies</th>\n",
       "      <td>0.12</td>\n",
       "    </tr>\n",
       "    <tr>\n",
       "      <th>is_popcorn</th>\n",
       "      <td>0.12</td>\n",
       "    </tr>\n",
       "    <tr>\n",
       "      <th>genre_Horror</th>\n",
       "      <td>0.13</td>\n",
       "    </tr>\n",
       "    <tr>\n",
       "      <th>is_new_content</th>\n",
       "      <td>0.15</td>\n",
       "    </tr>\n",
       "    <tr>\n",
       "      <th>content_cost</th>\n",
       "      <td>0.21</td>\n",
       "    </tr>\n",
       "    <tr>\n",
       "      <th>is_pay_1</th>\n",
       "      <td>0.23</td>\n",
       "    </tr>\n",
       "    <tr>\n",
       "      <th>genre_Action/Adventure</th>\n",
       "      <td>0.24</td>\n",
       "    </tr>\n",
       "    <tr>\n",
       "      <th>budget</th>\n",
       "      <td>0.46</td>\n",
       "    </tr>\n",
       "    <tr>\n",
       "      <th>log_hvr</th>\n",
       "      <td>1.00</td>\n",
       "    </tr>\n",
       "  </tbody>\n",
       "</table>\n",
       "</div>"
      ],
      "text/plain": [
       "                             log_hvr\n",
       "dummy_value                    -1.00\n",
       "medal_number                   -0.64\n",
       "genre_Classics                 -0.25\n",
       "age_of_content                 -0.22\n",
       "genre_Documentary              -0.13\n",
       "content_category_series        -0.09\n",
       "episode_number_in_season       -0.09\n",
       "program_type_original          -0.08\n",
       "genre_Unscripted               -0.08\n",
       "content_category_special       -0.07\n",
       "genre_Kids/Family              -0.06\n",
       "genre_Music                    -0.02\n",
       "genre_Adult Animation          -0.00\n",
       "content_category_livesports     0.00\n",
       "genre_Other                     0.01\n",
       "genre_Romance                   0.02\n",
       "genre_Suspense/Thriller         0.04\n",
       "genre_Drama                     0.05\n",
       "genre_Sci-Fi                    0.05\n",
       "program_type_acquired           0.09\n",
       "genre_Comedy                    0.10\n",
       "content_category_movies         0.12\n",
       "is_popcorn                      0.12\n",
       "genre_Horror                    0.13\n",
       "is_new_content                  0.15\n",
       "content_cost                    0.21\n",
       "is_pay_1                        0.23\n",
       "genre_Action/Adventure          0.24\n",
       "budget                          0.46\n",
       "log_hvr                         1.00"
      ]
     },
     "execution_count": 113,
     "metadata": {},
     "output_type": "execute_result"
    }
   ],
   "source": [
    "plot_data=data[FEATURE_COLS+TARGET_COL]\n",
    "corr = plot_data.corr()[TARGET_COL]\n",
    "mask=np.zeros_like(corr, dtype=np.bool)\n",
    "corr.loc['dummy_value'] = -1\n",
    "corr.sort_values(by = TARGET_COL)"
   ]
  },
  {
   "cell_type": "code",
   "execution_count": 114,
   "id": "8a9bb6b6",
   "metadata": {},
   "outputs": [
    {
     "data": {
      "text/plain": [
       "<AxesSubplot:>"
      ]
     },
     "execution_count": 114,
     "metadata": {},
     "output_type": "execute_result"
    },
    {
     "data": {
      "image/png": "[encoded data removed]",
      "text/plain": [
       "<Figure size 720x576 with 2 Axes>"
      ]
     },
     "metadata": {
      "needs_background": "light"
     },
     "output_type": "display_data"
    }
   ],
   "source": [
    "f, ax = plt.subplots(figsize=(10, 8))\n",
    "sns.heatmap(corr, mask=np.zeros_like(corr, dtype=np.bool), cmap=sns.diverging_palette(220, 10, as_cmap=True),\n",
    "            square=True, ax=ax)"
   ]
  },
  {
   "cell_type": "markdown",
   "id": "86f0ed97",
   "metadata": {},
   "source": [
    "## 2. HV per Subsciber"
   ]
  },
  {
   "cell_type": "code",
   "execution_count": 115,
   "id": "c89e751b",
   "metadata": {},
   "outputs": [],
   "source": [
    "TARGET_COL = ['ahvr'] #cumulative_hours_viewed"
   ]
  },
  {
   "cell_type": "code",
   "execution_count": 116,
   "id": "16c6659b",
   "metadata": {
    "collapsed": true,
    "jupyter": {
     "outputs_hidden": true
    }
   },
   "outputs": [
    {
     "data": {
      "text/html": [
       "<div>\n",
       "<style scoped>\n",
       "    .dataframe tbody tr th:only-of-type {\n",
       "        vertical-align: middle;\n",
       "    }\n",
       "\n",
       "    .dataframe tbody tr th {\n",
       "        vertical-align: top;\n",
       "    }\n",
       "\n",
       "    .dataframe thead th {\n",
       "        text-align: right;\n",
       "    }\n",
       "</style>\n",
       "<table border=\"1\" class=\"dataframe\">\n",
       "  <thead>\n",
       "    <tr style=\"text-align: right;\">\n",
       "      <th></th>\n",
       "      <th>ahvr</th>\n",
       "    </tr>\n",
       "  </thead>\n",
       "  <tbody>\n",
       "    <tr>\n",
       "      <th>dummy_value</th>\n",
       "      <td>-1.00</td>\n",
       "    </tr>\n",
       "    <tr>\n",
       "      <th>medal_number</th>\n",
       "      <td>-0.57</td>\n",
       "    </tr>\n",
       "    <tr>\n",
       "      <th>age_of_content</th>\n",
       "      <td>-0.11</td>\n",
       "    </tr>\n",
       "    <tr>\n",
       "      <th>genre_Classics</th>\n",
       "      <td>-0.07</td>\n",
       "    </tr>\n",
       "    <tr>\n",
       "      <th>genre_Documentary</th>\n",
       "      <td>-0.04</td>\n",
       "    </tr>\n",
       "    <tr>\n",
       "      <th>program_type_acquired</th>\n",
       "      <td>-0.04</td>\n",
       "    </tr>\n",
       "    <tr>\n",
       "      <th>genre_Unscripted</th>\n",
       "      <td>-0.03</td>\n",
       "    </tr>\n",
       "    <tr>\n",
       "      <th>episode_number_in_season</th>\n",
       "      <td>-0.02</td>\n",
       "    </tr>\n",
       "    <tr>\n",
       "      <th>genre_Music</th>\n",
       "      <td>-0.01</td>\n",
       "    </tr>\n",
       "    <tr>\n",
       "      <th>genre_Suspense/Thriller</th>\n",
       "      <td>-0.01</td>\n",
       "    </tr>\n",
       "    <tr>\n",
       "      <th>content_category_movies</th>\n",
       "      <td>-0.01</td>\n",
       "    </tr>\n",
       "    <tr>\n",
       "      <th>genre_Romance</th>\n",
       "      <td>-0.01</td>\n",
       "    </tr>\n",
       "    <tr>\n",
       "      <th>content_category_livesports</th>\n",
       "      <td>-0.00</td>\n",
       "    </tr>\n",
       "    <tr>\n",
       "      <th>genre_Comedy</th>\n",
       "      <td>0.00</td>\n",
       "    </tr>\n",
       "    <tr>\n",
       "      <th>genre_Kids/Family</th>\n",
       "      <td>0.00</td>\n",
       "    </tr>\n",
       "    <tr>\n",
       "      <th>genre_Drama</th>\n",
       "      <td>0.01</td>\n",
       "    </tr>\n",
       "    <tr>\n",
       "      <th>content_category_special</th>\n",
       "      <td>0.01</td>\n",
       "    </tr>\n",
       "    <tr>\n",
       "      <th>content_category_series</th>\n",
       "      <td>0.01</td>\n",
       "    </tr>\n",
       "    <tr>\n",
       "      <th>genre_Horror</th>\n",
       "      <td>0.01</td>\n",
       "    </tr>\n",
       "    <tr>\n",
       "      <th>genre_Sci-Fi</th>\n",
       "      <td>0.01</td>\n",
       "    </tr>\n",
       "    <tr>\n",
       "      <th>genre_Adult Animation</th>\n",
       "      <td>0.01</td>\n",
       "    </tr>\n",
       "    <tr>\n",
       "      <th>genre_Other</th>\n",
       "      <td>0.03</td>\n",
       "    </tr>\n",
       "    <tr>\n",
       "      <th>program_type_original</th>\n",
       "      <td>0.04</td>\n",
       "    </tr>\n",
       "    <tr>\n",
       "      <th>genre_Action/Adventure</th>\n",
       "      <td>0.11</td>\n",
       "    </tr>\n",
       "    <tr>\n",
       "      <th>is_new_content</th>\n",
       "      <td>0.15</td>\n",
       "    </tr>\n",
       "    <tr>\n",
       "      <th>content_cost</th>\n",
       "      <td>0.24</td>\n",
       "    </tr>\n",
       "    <tr>\n",
       "      <th>is_popcorn</th>\n",
       "      <td>0.25</td>\n",
       "    </tr>\n",
       "    <tr>\n",
       "      <th>is_pay_1</th>\n",
       "      <td>0.27</td>\n",
       "    </tr>\n",
       "    <tr>\n",
       "      <th>budget</th>\n",
       "      <td>0.33</td>\n",
       "    </tr>\n",
       "    <tr>\n",
       "      <th>ahvr</th>\n",
       "      <td>1.00</td>\n",
       "    </tr>\n",
       "  </tbody>\n",
       "</table>\n",
       "</div>"
      ],
      "text/plain": [
       "                             ahvr\n",
       "dummy_value                 -1.00\n",
       "medal_number                -0.57\n",
       "age_of_content              -0.11\n",
       "genre_Classics              -0.07\n",
       "genre_Documentary           -0.04\n",
       "program_type_acquired       -0.04\n",
       "genre_Unscripted            -0.03\n",
       "episode_number_in_season    -0.02\n",
       "genre_Music                 -0.01\n",
       "genre_Suspense/Thriller     -0.01\n",
       "content_category_movies     -0.01\n",
       "genre_Romance               -0.01\n",
       "content_category_livesports -0.00\n",
       "genre_Comedy                 0.00\n",
       "genre_Kids/Family            0.00\n",
       "genre_Drama                  0.01\n",
       "content_category_special     0.01\n",
       "content_category_series      0.01\n",
       "genre_Horror                 0.01\n",
       "genre_Sci-Fi                 0.01\n",
       "genre_Adult Animation        0.01\n",
       "genre_Other                  0.03\n",
       "program_type_original        0.04\n",
       "genre_Action/Adventure       0.11\n",
       "is_new_content               0.15\n",
       "content_cost                 0.24\n",
       "is_popcorn                   0.25\n",
       "is_pay_1                     0.27\n",
       "budget                       0.33\n",
       "ahvr                         1.00"
      ]
     },
     "execution_count": 116,
     "metadata": {},
     "output_type": "execute_result"
    }
   ],
   "source": [
    "plot_data=data[FEATURE_COLS+TARGET_COL]\n",
    "corr = plot_data.corr()[TARGET_COL]\n",
    "mask=np.zeros_like(corr, dtype=np.bool)\n",
    "corr.loc['dummy_value'] = -1\n",
    "corr.sort_values(by = TARGET_COL)"
   ]
  },
  {
   "cell_type": "code",
   "execution_count": 117,
   "id": "b00915e6",
   "metadata": {},
   "outputs": [
    {
     "data": {
      "text/plain": [
       "<AxesSubplot:>"
      ]
     },
     "execution_count": 117,
     "metadata": {},
     "output_type": "execute_result"
    },
    {
     "data": {
      "image/png": "[encoded data removed]",
      "text/plain": [
       "<Figure size 720x576 with 2 Axes>"
      ]
     },
     "metadata": {
      "needs_background": "light"
     },
     "output_type": "display_data"
    }
   ],
   "source": [
    "f, ax = plt.subplots(figsize=(10, 8))\n",
    "sns.heatmap(corr, mask=np.zeros_like(corr, dtype=np.bool), cmap=sns.diverging_palette(220, 10, as_cmap=True),\n",
    "            square=True, ax=ax)"
   ]
  },
  {
   "cell_type": "markdown",
   "id": "0096c654",
   "metadata": {},
   "source": [
    "## Content Goups"
   ]
  },
  {
   "cell_type": "code",
   "execution_count": 71,
   "id": "ac13aad5",
   "metadata": {},
   "outputs": [],
   "source": [
    "imdb_mapping = run_query(''' \n",
    "SELECT DISTINCT COALESCE(viewable_series_id, viewable_id) as title_id\n",
    ", COALESCE(imdb_series_id, imdb_id) as imdb_id\n",
    "FROM max_prod.ckg.ed_wm_wb_imdb_mapping map\n",
    "WHERE title_id is not null''')"
   ]
  },
  {
   "cell_type": "code",
   "execution_count": 72,
   "id": "64d5cdbd",
   "metadata": {},
   "outputs": [],
   "source": [
    "content_groups = pd.read_csv('8_clusters_data.csv')"
   ]
  },
  {
   "cell_type": "code",
   "execution_count": 73,
   "id": "8629be10",
   "metadata": {},
   "outputs": [],
   "source": [
    "content_groups = pd.merge(content_groups[['new_imdb_id', 'Dominant_Topic']],\n",
    "                         imdb_mapping, left_on = ['new_imdb_id'], right_on = ['imdb_id'])"
   ]
  },
  {
   "cell_type": "code",
   "execution_count": 74,
   "id": "4306c44b",
   "metadata": {},
   "outputs": [],
   "source": [
    "data = data.merge(content_groups[['title_id', 'Dominant_Topic']], on = ['title_id'], how = 'left')"
   ]
  },
  {
   "cell_type": "code",
   "execution_count": 75,
   "id": "be6e71b6",
   "metadata": {},
   "outputs": [
    {
     "data": {
      "text/plain": [
       "Dominant_Topic   0.29\n",
       "content_cost     0.47\n",
       "medal            0.00\n",
       "pillar_genre     0.05\n",
       "is_pay_1         0.00\n",
       "is_popcorn       0.00\n",
       "budget           0.62\n",
       "dtype: float64"
      ]
     },
     "execution_count": 75,
     "metadata": {},
     "output_type": "execute_result"
    }
   ],
   "source": [
    "data[['Dominant_Topic', 'content_cost','medal', 'pillar_genre', 'is_pay_1', 'is_popcorn', 'budget']]\\\n",
    ".isnull().sum()/len(data)"
   ]
  },
  {
   "cell_type": "code",
   "execution_count": 76,
   "id": "bfcd870d",
   "metadata": {},
   "outputs": [],
   "source": [
    "# data['Dominant_Topic'] = data['Dominant_Topic'].astype(str)\n",
    "topic_onehot = pd.get_dummies(data['Dominant_Topic'], prefix='Dominant_Topic')\n",
    "data=pd.concat([data, topic_onehot], axis = 1)"
   ]
  },
  {
   "cell_type": "code",
   "execution_count": 77,
   "id": "5cb98b46",
   "metadata": {},
   "outputs": [
    {
     "data": {
      "text/plain": [
       "Index(['title_name', 'title_id', 'season_number', 'days_on_hbo_max',\n",
       "       'cumulative_hours_viewed', 'average_hours_viewed',\n",
       "       'offering_start_date', 'asset_run_time_hours', 'content_category',\n",
       "       'program_type', 'air_date', 'medal', 'episode_number_in_season',\n",
       "       'pillar_genre', 'is_pay_1', 'is_popcorn', 'budget',\n",
       "       'content_category_livesports', 'content_category_movies',\n",
       "       'content_category_series', 'content_category_special',\n",
       "       'program_type_acquired', 'program_type_original',\n",
       "       'genre_Action/Adventure ', 'genre_Adult Animation', 'genre_Classics',\n",
       "       'genre_Comedy', 'genre_Documentary', 'genre_Drama', 'genre_Horror ',\n",
       "       'genre_Kids/Family', 'genre_Music', 'genre_Other', 'genre_Romance',\n",
       "       'genre_Sci-Fi', 'genre_Suspense/Thriller', 'genre_Unscripted',\n",
       "       'medal_number', 'is_new_content', 'age_of_content', 'hvr', 'ahvr',\n",
       "       'content_cost', 'Dominant_Topic', 'Dominant_Topic_0.0',\n",
       "       'Dominant_Topic_1.0', 'Dominant_Topic_2.0', 'Dominant_Topic_3.0',\n",
       "       'Dominant_Topic_4.0', 'Dominant_Topic_5.0', 'Dominant_Topic_6.0',\n",
       "       'Dominant_Topic_7.0'],\n",
       "      dtype='object')"
      ]
     },
     "execution_count": 77,
     "metadata": {},
     "output_type": "execute_result"
    }
   ],
   "source": [
    "data.columns"
   ]
  },
  {
   "cell_type": "code",
   "execution_count": 103,
   "id": "e3628293",
   "metadata": {},
   "outputs": [],
   "source": [
    "FEATURE_COLS = ['is_pay_1', 'is_popcorn', 'is_new_content', 'medal_number', 'age_of_content', 'episode_number_in_season', 'content_cost',\n",
    "               'budget', 'content_category_livesports', 'content_category_movies',\n",
    "               'content_category_series', 'content_category_special',\n",
    "               'program_type_acquired', 'program_type_original',\n",
    "               'genre_Action/Adventure ', 'genre_Adult Animation', 'genre_Classics',\n",
    "               'genre_Comedy', 'genre_Documentary', 'genre_Drama', 'genre_Horror ',\n",
    "               'genre_Kids/Family', 'genre_Music', 'genre_Other', 'genre_Romance',\n",
    "               'genre_Sci-Fi', 'genre_Suspense/Thriller', 'genre_Unscripted',\n",
    "                'Dominant_Topic', 'Dominant_Topic_0.0',\n",
    "               'Dominant_Topic_1.0', 'Dominant_Topic_2.0', 'Dominant_Topic_3.0',\n",
    "               'Dominant_Topic_4.0', 'Dominant_Topic_5.0', 'Dominant_Topic_6.0',\n",
    "               'Dominant_Topic_7.0'\n",
    "               ]"
   ]
  },
  {
   "cell_type": "code",
   "execution_count": 181,
   "id": "e10ce262",
   "metadata": {},
   "outputs": [],
   "source": [
    "TARGET_COL = ['ahvr'] #cumulative_hours_viewed"
   ]
  },
  {
   "cell_type": "code",
   "execution_count": 184,
   "id": "a0535d0e",
   "metadata": {},
   "outputs": [],
   "source": [
    "plot_data['Dominant_Topic'] = plot_data['Dominant_Topic'].astype(float)"
   ]
  },
  {
   "cell_type": "code",
   "execution_count": 185,
   "id": "b21d0ed7",
   "metadata": {},
   "outputs": [
    {
     "data": {
      "text/html": [
       "<div>\n",
       "<style scoped>\n",
       "    .dataframe tbody tr th:only-of-type {\n",
       "        vertical-align: middle;\n",
       "    }\n",
       "\n",
       "    .dataframe tbody tr th {\n",
       "        vertical-align: top;\n",
       "    }\n",
       "\n",
       "    .dataframe thead th {\n",
       "        text-align: right;\n",
       "    }\n",
       "</style>\n",
       "<table border=\"1\" class=\"dataframe\">\n",
       "  <thead>\n",
       "    <tr style=\"text-align: right;\">\n",
       "      <th></th>\n",
       "      <th>ahvr</th>\n",
       "    </tr>\n",
       "  </thead>\n",
       "  <tbody>\n",
       "    <tr>\n",
       "      <th>dummy_value</th>\n",
       "      <td>-1.00</td>\n",
       "    </tr>\n",
       "    <tr>\n",
       "      <th>medal_number</th>\n",
       "      <td>-0.58</td>\n",
       "    </tr>\n",
       "    <tr>\n",
       "      <th>age_of_content</th>\n",
       "      <td>-0.11</td>\n",
       "    </tr>\n",
       "    <tr>\n",
       "      <th>genre_Classics</th>\n",
       "      <td>-0.07</td>\n",
       "    </tr>\n",
       "    <tr>\n",
       "      <th>genre_Documentary</th>\n",
       "      <td>-0.05</td>\n",
       "    </tr>\n",
       "    <tr>\n",
       "      <th>genre_Unscripted</th>\n",
       "      <td>-0.04</td>\n",
       "    </tr>\n",
       "    <tr>\n",
       "      <th>Dominant_Topic_6.0</th>\n",
       "      <td>-0.03</td>\n",
       "    </tr>\n",
       "    <tr>\n",
       "      <th>program_type_acquired</th>\n",
       "      <td>-0.03</td>\n",
       "    </tr>\n",
       "    <tr>\n",
       "      <th>episode_number_in_season</th>\n",
       "      <td>-0.03</td>\n",
       "    </tr>\n",
       "    <tr>\n",
       "      <th>Dominant_Topic_1.0</th>\n",
       "      <td>-0.02</td>\n",
       "    </tr>\n",
       "    <tr>\n",
       "      <th>Dominant_Topic_2.0</th>\n",
       "      <td>-0.02</td>\n",
       "    </tr>\n",
       "    <tr>\n",
       "      <th>Dominant_Topic_4.0</th>\n",
       "      <td>-0.01</td>\n",
       "    </tr>\n",
       "    <tr>\n",
       "      <th>genre_Music</th>\n",
       "      <td>-0.01</td>\n",
       "    </tr>\n",
       "    <tr>\n",
       "      <th>genre_Suspense/Thriller</th>\n",
       "      <td>-0.01</td>\n",
       "    </tr>\n",
       "    <tr>\n",
       "      <th>content_category_movies</th>\n",
       "      <td>-0.01</td>\n",
       "    </tr>\n",
       "    <tr>\n",
       "      <th>genre_Romance</th>\n",
       "      <td>-0.01</td>\n",
       "    </tr>\n",
       "    <tr>\n",
       "      <th>genre_Kids/Family</th>\n",
       "      <td>-0.01</td>\n",
       "    </tr>\n",
       "    <tr>\n",
       "      <th>Dominant_Topic_5.0</th>\n",
       "      <td>-0.00</td>\n",
       "    </tr>\n",
       "    <tr>\n",
       "      <th>content_category_livesports</th>\n",
       "      <td>-0.00</td>\n",
       "    </tr>\n",
       "    <tr>\n",
       "      <th>genre_Comedy</th>\n",
       "      <td>-0.00</td>\n",
       "    </tr>\n",
       "    <tr>\n",
       "      <th>genre_Drama</th>\n",
       "      <td>0.00</td>\n",
       "    </tr>\n",
       "    <tr>\n",
       "      <th>content_category_special</th>\n",
       "      <td>0.00</td>\n",
       "    </tr>\n",
       "    <tr>\n",
       "      <th>genre_Horror</th>\n",
       "      <td>0.01</td>\n",
       "    </tr>\n",
       "    <tr>\n",
       "      <th>content_category_series</th>\n",
       "      <td>0.01</td>\n",
       "    </tr>\n",
       "    <tr>\n",
       "      <th>genre_Sci-Fi</th>\n",
       "      <td>0.01</td>\n",
       "    </tr>\n",
       "    <tr>\n",
       "      <th>genre_Other</th>\n",
       "      <td>0.03</td>\n",
       "    </tr>\n",
       "    <tr>\n",
       "      <th>program_type_original</th>\n",
       "      <td>0.03</td>\n",
       "    </tr>\n",
       "    <tr>\n",
       "      <th>Dominant_Topic_3.0</th>\n",
       "      <td>0.03</td>\n",
       "    </tr>\n",
       "    <tr>\n",
       "      <th>Dominant_Topic_0.0</th>\n",
       "      <td>0.04</td>\n",
       "    </tr>\n",
       "    <tr>\n",
       "      <th>genre_Adult Animation</th>\n",
       "      <td>0.04</td>\n",
       "    </tr>\n",
       "    <tr>\n",
       "      <th>Dominant_Topic</th>\n",
       "      <td>0.04</td>\n",
       "    </tr>\n",
       "    <tr>\n",
       "      <th>genre_Action/Adventure</th>\n",
       "      <td>0.12</td>\n",
       "    </tr>\n",
       "    <tr>\n",
       "      <th>Dominant_Topic_7.0</th>\n",
       "      <td>0.12</td>\n",
       "    </tr>\n",
       "    <tr>\n",
       "      <th>is_new_content</th>\n",
       "      <td>0.15</td>\n",
       "    </tr>\n",
       "    <tr>\n",
       "      <th>content_cost</th>\n",
       "      <td>0.23</td>\n",
       "    </tr>\n",
       "    <tr>\n",
       "      <th>is_popcorn</th>\n",
       "      <td>0.24</td>\n",
       "    </tr>\n",
       "    <tr>\n",
       "      <th>is_pay_1</th>\n",
       "      <td>0.27</td>\n",
       "    </tr>\n",
       "    <tr>\n",
       "      <th>budget</th>\n",
       "      <td>0.34</td>\n",
       "    </tr>\n",
       "    <tr>\n",
       "      <th>ahvr</th>\n",
       "      <td>1.00</td>\n",
       "    </tr>\n",
       "  </tbody>\n",
       "</table>\n",
       "</div>"
      ],
      "text/plain": [
       "                             ahvr\n",
       "dummy_value                 -1.00\n",
       "medal_number                -0.58\n",
       "age_of_content              -0.11\n",
       "genre_Classics              -0.07\n",
       "genre_Documentary           -0.05\n",
       "genre_Unscripted            -0.04\n",
       "Dominant_Topic_6.0          -0.03\n",
       "program_type_acquired       -0.03\n",
       "episode_number_in_season    -0.03\n",
       "Dominant_Topic_1.0          -0.02\n",
       "Dominant_Topic_2.0          -0.02\n",
       "Dominant_Topic_4.0          -0.01\n",
       "genre_Music                 -0.01\n",
       "genre_Suspense/Thriller     -0.01\n",
       "content_category_movies     -0.01\n",
       "genre_Romance               -0.01\n",
       "genre_Kids/Family           -0.01\n",
       "Dominant_Topic_5.0          -0.00\n",
       "content_category_livesports -0.00\n",
       "genre_Comedy                -0.00\n",
       "genre_Drama                  0.00\n",
       "content_category_special     0.00\n",
       "genre_Horror                 0.01\n",
       "content_category_series      0.01\n",
       "genre_Sci-Fi                 0.01\n",
       "genre_Other                  0.03\n",
       "program_type_original        0.03\n",
       "Dominant_Topic_3.0           0.03\n",
       "Dominant_Topic_0.0           0.04\n",
       "genre_Adult Animation        0.04\n",
       "Dominant_Topic               0.04\n",
       "genre_Action/Adventure       0.12\n",
       "Dominant_Topic_7.0           0.12\n",
       "is_new_content               0.15\n",
       "content_cost                 0.23\n",
       "is_popcorn                   0.24\n",
       "is_pay_1                     0.27\n",
       "budget                       0.34\n",
       "ahvr                         1.00"
      ]
     },
     "execution_count": 185,
     "metadata": {},
     "output_type": "execute_result"
    }
   ],
   "source": [
    "plot_data=data[FEATURE_COLS+TARGET_COL]\n",
    "corr = plot_data.corr()[TARGET_COL]\n",
    "mask=np.zeros_like(corr, dtype=np.bool)\n",
    "corr.loc['dummy_value'] = -1\n",
    "corr.sort_values(by = TARGET_COL)"
   ]
  },
  {
   "cell_type": "code",
   "execution_count": 108,
   "id": "7ab87b89",
   "metadata": {},
   "outputs": [
    {
     "data": {
      "text/plain": [
       "<AxesSubplot:>"
      ]
     },
     "execution_count": 108,
     "metadata": {},
     "output_type": "execute_result"
    },
    {
     "data": {
      "image/png": "[encoded data removed]",
      "text/plain": [
       "<Figure size 720x576 with 2 Axes>"
      ]
     },
     "metadata": {
      "needs_background": "light"
     },
     "output_type": "display_data"
    }
   ],
   "source": [
    "f, ax = plt.subplots(figsize=(10, 8))\n",
    "sns.heatmap(corr, mask=np.zeros_like(corr, dtype=np.bool), cmap=sns.diverging_palette(220, 10, as_cmap=True),\n",
    "            square=True, ax=ax)"
   ]
  },
  {
   "cell_type": "code",
   "execution_count": 187,
   "id": "6b568c4b",
   "metadata": {},
   "outputs": [],
   "source": [
    "# Cluster 7 (Violence and Crime Dramas)"
   ]
  },
  {
   "cell_type": "markdown",
   "id": "89ca4733",
   "metadata": {},
   "source": [
    "## 4. Scaler"
   ]
  },
  {
   "cell_type": "code",
   "execution_count": 109,
   "id": "1b95a6fe",
   "metadata": {},
   "outputs": [],
   "source": [
    "# from sklearn.preprocessing import StandardScaler\n",
    "# scaler = StandardScaler()\n",
    "# scaler.fit(data['ahvr'].to_numpy().reshape(-1, 1))\n",
    "# scaler.mean_"
   ]
  },
  {
   "cell_type": "code",
   "execution_count": 38,
   "id": "ed2e8dcf",
   "metadata": {},
   "outputs": [],
   "source": [
    "data['log_ahvr'] = np.log2(data['ahvr'])"
   ]
  },
  {
   "cell_type": "code",
   "execution_count": 39,
   "id": "d63bcc1e",
   "metadata": {},
   "outputs": [
    {
     "data": {
      "text/html": [
       "<div>\n",
       "<style scoped>\n",
       "    .dataframe tbody tr th:only-of-type {\n",
       "        vertical-align: middle;\n",
       "    }\n",
       "\n",
       "    .dataframe tbody tr th {\n",
       "        vertical-align: top;\n",
       "    }\n",
       "\n",
       "    .dataframe thead th {\n",
       "        text-align: right;\n",
       "    }\n",
       "</style>\n",
       "<table border=\"1\" class=\"dataframe\">\n",
       "  <thead>\n",
       "    <tr style=\"text-align: right;\">\n",
       "      <th></th>\n",
       "      <th>title_name</th>\n",
       "      <th>title_id</th>\n",
       "      <th>season_number</th>\n",
       "      <th>days_on_hbo_max</th>\n",
       "      <th>cumulative_hours_viewed</th>\n",
       "      <th>average_hours_viewed</th>\n",
       "      <th>offering_start_date</th>\n",
       "      <th>asset_run_time_hours</th>\n",
       "      <th>content_category</th>\n",
       "      <th>program_type</th>\n",
       "      <th>air_date</th>\n",
       "      <th>medal</th>\n",
       "      <th>episode_number_in_season</th>\n",
       "      <th>pillar_genre</th>\n",
       "      <th>is_pay_1</th>\n",
       "      <th>is_popcorn</th>\n",
       "      <th>budget</th>\n",
       "      <th>content_category_livesports</th>\n",
       "      <th>content_category_movies</th>\n",
       "      <th>content_category_series</th>\n",
       "      <th>content_category_special</th>\n",
       "      <th>program_type_acquired</th>\n",
       "      <th>program_type_original</th>\n",
       "      <th>genre_Action/Adventure</th>\n",
       "      <th>genre_Adult Animation</th>\n",
       "      <th>genre_Classics</th>\n",
       "      <th>genre_Comedy</th>\n",
       "      <th>genre_Documentary</th>\n",
       "      <th>genre_Drama</th>\n",
       "      <th>genre_Horror</th>\n",
       "      <th>genre_Kids/Family</th>\n",
       "      <th>genre_Music</th>\n",
       "      <th>genre_Other</th>\n",
       "      <th>genre_Romance</th>\n",
       "      <th>genre_Sci-Fi</th>\n",
       "      <th>genre_Suspense/Thriller</th>\n",
       "      <th>genre_Unscripted</th>\n",
       "      <th>medal_number</th>\n",
       "      <th>is_new_content</th>\n",
       "      <th>age_of_content</th>\n",
       "      <th>hvr</th>\n",
       "      <th>ahvr</th>\n",
       "      <th>content_cost</th>\n",
       "      <th>log_ahvr</th>\n",
       "    </tr>\n",
       "  </thead>\n",
       "  <tbody>\n",
       "    <tr>\n",
       "      <th>0</th>\n",
       "      <td>VICE Special Report: Killing Cancer</td>\n",
       "      <td>GV-54_wnG7qbCwwEAAAAY</td>\n",
       "      <td>0</td>\n",
       "      <td>60</td>\n",
       "      <td>17.00</td>\n",
       "      <td>0.00</td>\n",
       "      <td>2020-05-27</td>\n",
       "      <td>0.64</td>\n",
       "      <td>movies</td>\n",
       "      <td>acquired</td>\n",
       "      <td>2015-01-01</td>\n",
       "      <td>None</td>\n",
       "      <td>nan</td>\n",
       "      <td>Documentary</td>\n",
       "      <td>0</td>\n",
       "      <td>0</td>\n",
       "      <td>nan</td>\n",
       "      <td>0</td>\n",
       "      <td>1</td>\n",
       "      <td>0</td>\n",
       "      <td>0</td>\n",
       "      <td>1</td>\n",
       "      <td>0</td>\n",
       "      <td>0</td>\n",
       "      <td>0</td>\n",
       "      <td>0</td>\n",
       "      <td>0</td>\n",
       "      <td>1</td>\n",
       "      <td>0</td>\n",
       "      <td>0</td>\n",
       "      <td>0</td>\n",
       "      <td>0</td>\n",
       "      <td>0</td>\n",
       "      <td>0</td>\n",
       "      <td>0</td>\n",
       "      <td>0</td>\n",
       "      <td>0</td>\n",
       "      <td>nan</td>\n",
       "      <td>0</td>\n",
       "      <td>5.40</td>\n",
       "      <td>26.57</td>\n",
       "      <td>0.00</td>\n",
       "      <td>nan</td>\n",
       "      <td>-15.60</td>\n",
       "    </tr>\n",
       "    <tr>\n",
       "      <th>1</th>\n",
       "      <td>VICE Special Report: Countdown to Zero</td>\n",
       "      <td>GV-55HghKlqbCwwEAAAAb</td>\n",
       "      <td>0</td>\n",
       "      <td>60</td>\n",
       "      <td>10.24</td>\n",
       "      <td>0.00</td>\n",
       "      <td>2020-05-27</td>\n",
       "      <td>0.81</td>\n",
       "      <td>movies</td>\n",
       "      <td>acquired</td>\n",
       "      <td>2015-01-01</td>\n",
       "      <td>None</td>\n",
       "      <td>nan</td>\n",
       "      <td>Documentary</td>\n",
       "      <td>0</td>\n",
       "      <td>0</td>\n",
       "      <td>nan</td>\n",
       "      <td>0</td>\n",
       "      <td>1</td>\n",
       "      <td>0</td>\n",
       "      <td>0</td>\n",
       "      <td>1</td>\n",
       "      <td>0</td>\n",
       "      <td>0</td>\n",
       "      <td>0</td>\n",
       "      <td>0</td>\n",
       "      <td>0</td>\n",
       "      <td>1</td>\n",
       "      <td>0</td>\n",
       "      <td>0</td>\n",
       "      <td>0</td>\n",
       "      <td>0</td>\n",
       "      <td>0</td>\n",
       "      <td>0</td>\n",
       "      <td>0</td>\n",
       "      <td>0</td>\n",
       "      <td>0</td>\n",
       "      <td>nan</td>\n",
       "      <td>0</td>\n",
       "      <td>5.40</td>\n",
       "      <td>12.64</td>\n",
       "      <td>0.00</td>\n",
       "      <td>nan</td>\n",
       "      <td>-16.67</td>\n",
       "    </tr>\n",
       "    <tr>\n",
       "      <th>2</th>\n",
       "      <td>VICE Special Report: Fixing the System</td>\n",
       "      <td>GV-55Hwvj4IaDwwEAAAAY</td>\n",
       "      <td>0</td>\n",
       "      <td>60</td>\n",
       "      <td>46.85</td>\n",
       "      <td>0.00</td>\n",
       "      <td>2020-05-27</td>\n",
       "      <td>1.11</td>\n",
       "      <td>movies</td>\n",
       "      <td>acquired</td>\n",
       "      <td>2015-01-01</td>\n",
       "      <td>None</td>\n",
       "      <td>nan</td>\n",
       "      <td>Documentary</td>\n",
       "      <td>0</td>\n",
       "      <td>0</td>\n",
       "      <td>nan</td>\n",
       "      <td>0</td>\n",
       "      <td>1</td>\n",
       "      <td>0</td>\n",
       "      <td>0</td>\n",
       "      <td>1</td>\n",
       "      <td>0</td>\n",
       "      <td>0</td>\n",
       "      <td>0</td>\n",
       "      <td>0</td>\n",
       "      <td>0</td>\n",
       "      <td>1</td>\n",
       "      <td>0</td>\n",
       "      <td>0</td>\n",
       "      <td>0</td>\n",
       "      <td>0</td>\n",
       "      <td>0</td>\n",
       "      <td>0</td>\n",
       "      <td>0</td>\n",
       "      <td>0</td>\n",
       "      <td>0</td>\n",
       "      <td>nan</td>\n",
       "      <td>0</td>\n",
       "      <td>5.40</td>\n",
       "      <td>42.28</td>\n",
       "      <td>0.00</td>\n",
       "      <td>nan</td>\n",
       "      <td>-14.93</td>\n",
       "    </tr>\n",
       "    <tr>\n",
       "      <th>3</th>\n",
       "      <td>VICE Special Report: Fighting ISIS</td>\n",
       "      <td>GV-55JASHjruwgwEAAAAU</td>\n",
       "      <td>0</td>\n",
       "      <td>60</td>\n",
       "      <td>57.65</td>\n",
       "      <td>0.00</td>\n",
       "      <td>2020-05-27</td>\n",
       "      <td>0.79</td>\n",
       "      <td>movies</td>\n",
       "      <td>original</td>\n",
       "      <td>2016-01-31</td>\n",
       "      <td>None</td>\n",
       "      <td>nan</td>\n",
       "      <td>Documentary</td>\n",
       "      <td>0</td>\n",
       "      <td>0</td>\n",
       "      <td>nan</td>\n",
       "      <td>0</td>\n",
       "      <td>1</td>\n",
       "      <td>0</td>\n",
       "      <td>0</td>\n",
       "      <td>0</td>\n",
       "      <td>1</td>\n",
       "      <td>0</td>\n",
       "      <td>0</td>\n",
       "      <td>0</td>\n",
       "      <td>0</td>\n",
       "      <td>1</td>\n",
       "      <td>0</td>\n",
       "      <td>0</td>\n",
       "      <td>0</td>\n",
       "      <td>0</td>\n",
       "      <td>0</td>\n",
       "      <td>0</td>\n",
       "      <td>0</td>\n",
       "      <td>0</td>\n",
       "      <td>0</td>\n",
       "      <td>nan</td>\n",
       "      <td>0</td>\n",
       "      <td>4.32</td>\n",
       "      <td>73.31</td>\n",
       "      <td>0.00</td>\n",
       "      <td>nan</td>\n",
       "      <td>-14.13</td>\n",
       "    </tr>\n",
       "    <tr>\n",
       "      <th>4</th>\n",
       "      <td>Heartbreakers</td>\n",
       "      <td>GV-BGJA11hsLDwwEAAAAZ</td>\n",
       "      <td>0</td>\n",
       "      <td>60</td>\n",
       "      <td>3,799.47</td>\n",
       "      <td>0.00</td>\n",
       "      <td>2020-09-01</td>\n",
       "      <td>2.06</td>\n",
       "      <td>movies</td>\n",
       "      <td>acquired</td>\n",
       "      <td>2001-03-23</td>\n",
       "      <td>None</td>\n",
       "      <td>nan</td>\n",
       "      <td>Comedy</td>\n",
       "      <td>0</td>\n",
       "      <td>0</td>\n",
       "      <td>35,000,000.00</td>\n",
       "      <td>0</td>\n",
       "      <td>1</td>\n",
       "      <td>0</td>\n",
       "      <td>0</td>\n",
       "      <td>1</td>\n",
       "      <td>0</td>\n",
       "      <td>0</td>\n",
       "      <td>0</td>\n",
       "      <td>0</td>\n",
       "      <td>1</td>\n",
       "      <td>0</td>\n",
       "      <td>0</td>\n",
       "      <td>0</td>\n",
       "      <td>0</td>\n",
       "      <td>0</td>\n",
       "      <td>0</td>\n",
       "      <td>0</td>\n",
       "      <td>0</td>\n",
       "      <td>0</td>\n",
       "      <td>0</td>\n",
       "      <td>nan</td>\n",
       "      <td>0</td>\n",
       "      <td>19.44</td>\n",
       "      <td>1,846.39</td>\n",
       "      <td>0.00</td>\n",
       "      <td>259,000.00</td>\n",
       "      <td>-10.69</td>\n",
       "    </tr>\n",
       "  </tbody>\n",
       "</table>\n",
       "</div>"
      ],
      "text/plain": [
       "                               title_name               title_id  \\\n",
       "0     VICE Special Report: Killing Cancer  GV-54_wnG7qbCwwEAAAAY   \n",
       "1  VICE Special Report: Countdown to Zero  GV-55HghKlqbCwwEAAAAb   \n",
       "2  VICE Special Report: Fixing the System  GV-55Hwvj4IaDwwEAAAAY   \n",
       "3      VICE Special Report: Fighting ISIS  GV-55JASHjruwgwEAAAAU   \n",
       "4                           Heartbreakers  GV-BGJA11hsLDwwEAAAAZ   \n",
       "\n",
       "   season_number  days_on_hbo_max  cumulative_hours_viewed  \\\n",
       "0              0               60                    17.00   \n",
       "1              0               60                    10.24   \n",
       "2              0               60                    46.85   \n",
       "3              0               60                    57.65   \n",
       "4              0               60                 3,799.47   \n",
       "\n",
       "   average_hours_viewed offering_start_date  asset_run_time_hours  \\\n",
       "0                  0.00          2020-05-27                  0.64   \n",
       "1                  0.00          2020-05-27                  0.81   \n",
       "2                  0.00          2020-05-27                  1.11   \n",
       "3                  0.00          2020-05-27                  0.79   \n",
       "4                  0.00          2020-09-01                  2.06   \n",
       "\n",
       "  content_category program_type    air_date medal  episode_number_in_season  \\\n",
       "0           movies     acquired  2015-01-01  None                       nan   \n",
       "1           movies     acquired  2015-01-01  None                       nan   \n",
       "2           movies     acquired  2015-01-01  None                       nan   \n",
       "3           movies     original  2016-01-31  None                       nan   \n",
       "4           movies     acquired  2001-03-23  None                       nan   \n",
       "\n",
       "  pillar_genre  is_pay_1  is_popcorn        budget  \\\n",
       "0  Documentary         0           0           nan   \n",
       "1  Documentary         0           0           nan   \n",
       "2  Documentary         0           0           nan   \n",
       "3  Documentary         0           0           nan   \n",
       "4       Comedy         0           0 35,000,000.00   \n",
       "\n",
       "   content_category_livesports  content_category_movies  \\\n",
       "0                            0                        1   \n",
       "1                            0                        1   \n",
       "2                            0                        1   \n",
       "3                            0                        1   \n",
       "4                            0                        1   \n",
       "\n",
       "   content_category_series  content_category_special  program_type_acquired  \\\n",
       "0                        0                         0                      1   \n",
       "1                        0                         0                      1   \n",
       "2                        0                         0                      1   \n",
       "3                        0                         0                      0   \n",
       "4                        0                         0                      1   \n",
       "\n",
       "   program_type_original  genre_Action/Adventure   genre_Adult Animation  \\\n",
       "0                      0                        0                      0   \n",
       "1                      0                        0                      0   \n",
       "2                      0                        0                      0   \n",
       "3                      1                        0                      0   \n",
       "4                      0                        0                      0   \n",
       "\n",
       "   genre_Classics  genre_Comedy  genre_Documentary  genre_Drama  \\\n",
       "0               0             0                  1            0   \n",
       "1               0             0                  1            0   \n",
       "2               0             0                  1            0   \n",
       "3               0             0                  1            0   \n",
       "4               0             1                  0            0   \n",
       "\n",
       "   genre_Horror   genre_Kids/Family  genre_Music  genre_Other  genre_Romance  \\\n",
       "0              0                  0            0            0              0   \n",
       "1              0                  0            0            0              0   \n",
       "2              0                  0            0            0              0   \n",
       "3              0                  0            0            0              0   \n",
       "4              0                  0            0            0              0   \n",
       "\n",
       "   genre_Sci-Fi  genre_Suspense/Thriller  genre_Unscripted  medal_number  \\\n",
       "0             0                        0                 0           nan   \n",
       "1             0                        0                 0           nan   \n",
       "2             0                        0                 0           nan   \n",
       "3             0                        0                 0           nan   \n",
       "4             0                        0                 0           nan   \n",
       "\n",
       "   is_new_content  age_of_content      hvr  ahvr  content_cost  log_ahvr  \n",
       "0               0            5.40    26.57  0.00           nan    -15.60  \n",
       "1               0            5.40    12.64  0.00           nan    -16.67  \n",
       "2               0            5.40    42.28  0.00           nan    -14.93  \n",
       "3               0            4.32    73.31  0.00           nan    -14.13  \n",
       "4               0           19.44 1,846.39  0.00    259,000.00    -10.69  "
      ]
     },
     "execution_count": 39,
     "metadata": {},
     "output_type": "execute_result"
    }
   ],
   "source": [
    "data.head()"
   ]
  },
  {
   "cell_type": "code",
   "execution_count": 40,
   "id": "149f582d",
   "metadata": {},
   "outputs": [],
   "source": [
    "TARGET_COL = ['log_ahvr'] #cumulative_hours_viewed"
   ]
  },
  {
   "cell_type": "code",
   "execution_count": 41,
   "id": "d42cbe91",
   "metadata": {},
   "outputs": [
    {
     "data": {
      "text/html": [
       "<div>\n",
       "<style scoped>\n",
       "    .dataframe tbody tr th:only-of-type {\n",
       "        vertical-align: middle;\n",
       "    }\n",
       "\n",
       "    .dataframe tbody tr th {\n",
       "        vertical-align: top;\n",
       "    }\n",
       "\n",
       "    .dataframe thead th {\n",
       "        text-align: right;\n",
       "    }\n",
       "</style>\n",
       "<table border=\"1\" class=\"dataframe\">\n",
       "  <thead>\n",
       "    <tr style=\"text-align: right;\">\n",
       "      <th></th>\n",
       "      <th>log_ahvr</th>\n",
       "    </tr>\n",
       "  </thead>\n",
       "  <tbody>\n",
       "    <tr>\n",
       "      <th>dummy_value</th>\n",
       "      <td>-1.00</td>\n",
       "    </tr>\n",
       "    <tr>\n",
       "      <th>medal_number</th>\n",
       "      <td>-0.61</td>\n",
       "    </tr>\n",
       "    <tr>\n",
       "      <th>genre_Classics</th>\n",
       "      <td>-0.21</td>\n",
       "    </tr>\n",
       "    <tr>\n",
       "      <th>age_of_content</th>\n",
       "      <td>-0.21</td>\n",
       "    </tr>\n",
       "    <tr>\n",
       "      <th>episode_number_in_season</th>\n",
       "      <td>-0.09</td>\n",
       "    </tr>\n",
       "    <tr>\n",
       "      <th>genre_Documentary</th>\n",
       "      <td>-0.09</td>\n",
       "    </tr>\n",
       "    <tr>\n",
       "      <th>genre_Unscripted</th>\n",
       "      <td>-0.08</td>\n",
       "    </tr>\n",
       "    <tr>\n",
       "      <th>content_category_series</th>\n",
       "      <td>-0.06</td>\n",
       "    </tr>\n",
       "    <tr>\n",
       "      <th>genre_Kids/Family</th>\n",
       "      <td>-0.04</td>\n",
       "    </tr>\n",
       "    <tr>\n",
       "      <th>content_category_special</th>\n",
       "      <td>-0.04</td>\n",
       "    </tr>\n",
       "    <tr>\n",
       "      <th>genre_Music</th>\n",
       "      <td>-0.03</td>\n",
       "    </tr>\n",
       "    <tr>\n",
       "      <th>program_type_acquired</th>\n",
       "      <td>-0.01</td>\n",
       "    </tr>\n",
       "    <tr>\n",
       "      <th>content_category_livesports</th>\n",
       "      <td>-0.01</td>\n",
       "    </tr>\n",
       "    <tr>\n",
       "      <th>program_type_original</th>\n",
       "      <td>0.01</td>\n",
       "    </tr>\n",
       "    <tr>\n",
       "      <th>genre_Other</th>\n",
       "      <td>0.01</td>\n",
       "    </tr>\n",
       "    <tr>\n",
       "      <th>genre_Adult Animation</th>\n",
       "      <td>0.02</td>\n",
       "    </tr>\n",
       "    <tr>\n",
       "      <th>genre_Drama</th>\n",
       "      <td>0.03</td>\n",
       "    </tr>\n",
       "    <tr>\n",
       "      <th>genre_Romance</th>\n",
       "      <td>0.03</td>\n",
       "    </tr>\n",
       "    <tr>\n",
       "      <th>genre_Suspense/Thriller</th>\n",
       "      <td>0.04</td>\n",
       "    </tr>\n",
       "    <tr>\n",
       "      <th>genre_Sci-Fi</th>\n",
       "      <td>0.06</td>\n",
       "    </tr>\n",
       "    <tr>\n",
       "      <th>content_category_movies</th>\n",
       "      <td>0.07</td>\n",
       "    </tr>\n",
       "    <tr>\n",
       "      <th>genre_Comedy</th>\n",
       "      <td>0.08</td>\n",
       "    </tr>\n",
       "    <tr>\n",
       "      <th>is_new_content</th>\n",
       "      <td>0.09</td>\n",
       "    </tr>\n",
       "    <tr>\n",
       "      <th>genre_Horror</th>\n",
       "      <td>0.11</td>\n",
       "    </tr>\n",
       "    <tr>\n",
       "      <th>is_popcorn</th>\n",
       "      <td>0.11</td>\n",
       "    </tr>\n",
       "    <tr>\n",
       "      <th>genre_Action/Adventure</th>\n",
       "      <td>0.20</td>\n",
       "    </tr>\n",
       "    <tr>\n",
       "      <th>is_pay_1</th>\n",
       "      <td>0.24</td>\n",
       "    </tr>\n",
       "    <tr>\n",
       "      <th>content_cost</th>\n",
       "      <td>0.24</td>\n",
       "    </tr>\n",
       "    <tr>\n",
       "      <th>budget</th>\n",
       "      <td>0.46</td>\n",
       "    </tr>\n",
       "    <tr>\n",
       "      <th>log_ahvr</th>\n",
       "      <td>1.00</td>\n",
       "    </tr>\n",
       "  </tbody>\n",
       "</table>\n",
       "</div>"
      ],
      "text/plain": [
       "                             log_ahvr\n",
       "dummy_value                     -1.00\n",
       "medal_number                    -0.61\n",
       "genre_Classics                  -0.21\n",
       "age_of_content                  -0.21\n",
       "episode_number_in_season        -0.09\n",
       "genre_Documentary               -0.09\n",
       "genre_Unscripted                -0.08\n",
       "content_category_series         -0.06\n",
       "genre_Kids/Family               -0.04\n",
       "content_category_special        -0.04\n",
       "genre_Music                     -0.03\n",
       "program_type_acquired           -0.01\n",
       "content_category_livesports     -0.01\n",
       "program_type_original            0.01\n",
       "genre_Other                      0.01\n",
       "genre_Adult Animation            0.02\n",
       "genre_Drama                      0.03\n",
       "genre_Romance                    0.03\n",
       "genre_Suspense/Thriller          0.04\n",
       "genre_Sci-Fi                     0.06\n",
       "content_category_movies          0.07\n",
       "genre_Comedy                     0.08\n",
       "is_new_content                   0.09\n",
       "genre_Horror                     0.11\n",
       "is_popcorn                       0.11\n",
       "genre_Action/Adventure           0.20\n",
       "is_pay_1                         0.24\n",
       "content_cost                     0.24\n",
       "budget                           0.46\n",
       "log_ahvr                         1.00"
      ]
     },
     "execution_count": 41,
     "metadata": {},
     "output_type": "execute_result"
    }
   ],
   "source": [
    "plot_data=data[FEATURE_COLS+TARGET_COL]\n",
    "corr = plot_data.corr()[TARGET_COL]\n",
    "mask=np.zeros_like(corr, dtype=np.bool)\n",
    "corr.loc['dummy_value'] = -1\n",
    "corr.sort_values(by = TARGET_COL)"
   ]
  },
  {
   "cell_type": "code",
   "execution_count": 42,
   "id": "f64934b4",
   "metadata": {},
   "outputs": [
    {
     "data": {
      "text/plain": [
       "<AxesSubplot:>"
      ]
     },
     "execution_count": 42,
     "metadata": {},
     "output_type": "execute_result"
    },
    {
     "data": {
      "image/png": "[encoded data removed]",
      "text/plain": [
       "<Figure size 720x576 with 2 Axes>"
      ]
     },
     "metadata": {
      "needs_background": "light"
     },
     "output_type": "display_data"
    }
   ],
   "source": [
    "f, ax = plt.subplots(figsize=(10, 8))\n",
    "sns.heatmap(corr, mask=np.zeros_like(corr, dtype=np.bool), cmap=sns.diverging_palette(220, 10, as_cmap=True),\n",
    "            square=True, ax=ax)"
   ]
  },
  {
   "cell_type": "markdown",
   "id": "48b20514",
   "metadata": {},
   "source": [
    "# Distribution"
   ]
  },
  {
   "cell_type": "code",
   "execution_count": 43,
   "id": "d6a63f6e",
   "metadata": {},
   "outputs": [],
   "source": [
    "import plotly.express as px\n",
    "import plotly.graph_objects as go\n",
    "from plotly.subplots import make_subplots"
   ]
  },
  {
   "cell_type": "code",
   "execution_count": 44,
   "id": "08767eb8",
   "metadata": {},
   "outputs": [],
   "source": [
    "plot_df = title_hours_viewed[['title_name', 'title_id', 'season_number', 'days_on_hbo_max', 'cumulative_hours_viewed', 'average_hours_viewed']].merge(\n",
    "       title_series_info, on = ['title_id', 'season_number'])\n",
    "plot_df['average hours viewed'] = plot_df['average_hours_viewed']/plot_df['asset_run_time_hours']"
   ]
  },
  {
   "cell_type": "code",
   "execution_count": 45,
   "id": "77d81434",
   "metadata": {},
   "outputs": [],
   "source": [
    "plot_df = plot_df[plot_df['days_on_hbo_max'] == 60]"
   ]
  },
  {
   "cell_type": "code",
   "execution_count": 49,
   "id": "79478561",
   "metadata": {},
   "outputs": [],
   "source": [
    "plot_df = plot_df[(plot_df['average hours viewed'] > 0.0001)\n",
    "                 &(plot_df['average hours viewed'] < 1.5)]"
   ]
  },
  {
   "cell_type": "code",
   "execution_count": 50,
   "id": "51866d58",
   "metadata": {},
   "outputs": [
    {
     "data": {
      "application/vnd.plotly.v1+json": {
       "config": {
        "plotlyServerURL": "https://plot.ly"
       },
       "data": [
        {
         "alignmentgroup": "True",
         "bingroup": "x",
         "hovertemplate": "average hours viewed=%{x}<br>count=%{y}<extra></extra>",
         "legendgroup": "",
         "marker": {
          "color": "#636efa",
          "pattern": {
           "shape": ""
          }
         },
         "name": "",
         "nbinsx": 10,
         "offsetgroup": "",
         "orientation": "v",
         "showlegend": false,
         "type": "histogram",
         "x": [
          0.03249792025575151,
          0.04482528937564238,
          0.0322021593432704,
          0.03192204556206904,
          0.04603347260933214,
          0.04856857603352579,
          0.0729234971603969,
          0.11629122716493508,
          0.13128178772378396,
          0.03939055085436962,
          0.1447479383111607,
          0.03240167630149917,
          0.04561892393181289,
          0.052458249007816364,
          0.03226029025736666,
          0.031343155986124936,
          0.03526547733105368,
          0.03635085033388749,
          0.13575350567802819,
          0.1495100473512857,
          0.03526666319392767,
          0.06399087112549873,
          0.06589082888335804,
          0.03603539035262261,
          0.031033839947546275,
          0.03433461655585572,
          0.07109753840615224,
          0.0555315877215883,
          0.04682017390879068,
          0.04455919027651278,
          0.48138885230915957,
          0.06527321423796144,
          0.08918598109228669,
          0.23259729951788624,
          0.037569281003978126,
          0.06423401592582113,
          0.031183621857392423,
          0.036025921195317376,
          0.05410646699437346,
          0.043120295628725075,
          0.03581491050405324,
          0.08129684068984613,
          0.08124906691359772,
          0.03320873046873949,
          0.03672741616011292,
          0.04184393244113089,
          0.049799299102594924,
          0.05558113724364109,
          0.05822867788221233,
          0.05799594949456962,
          0.05650712921203267,
          0.05489938787231287,
          0.052273748817925965,
          0.04912477869311695,
          0.04716161239781033,
          0.043715630269556244,
          0.04051509073102444,
          0.043779926872228224,
          0.05274201677563779,
          0.057303212885140606,
          0.06005313848660432,
          0.06227418878102723,
          0.05922395242695176,
          0.05315282760171475,
          0.0477396382143756,
          0.04003047509771827,
          0.04077533995312477,
          0.030758725935899515,
          0.03483475608016689,
          0.03075739969794891,
          0.07306581139394859,
          0.05720599699580385,
          0.03896638543798555,
          0.0541747157467049,
          0.049221073989545845,
          0.05133445055968431,
          0.03213635713360026,
          0.03705180241868496,
          0.08461629834556869,
          0.06824722861212992,
          0.12703806509983578,
          0.1018106370782875,
          0.07497041973492855,
          0.13442714497175495,
          0.033881632755983854,
          0.05644485288883577,
          0.031871830457368175,
          0.03681953434421012,
          0.054706727049113966,
          0.08668615176466776,
          0.03480186276897714,
          0.037197061180975086,
          0.03595757745563415,
          0.06233912671591486,
          0.054578532466150124,
          0.1024038085457997,
          0.08747195880162523,
          0.09031269163081894,
          0.08836030926811766,
          0.08860302187192719,
          0.09047000529185735,
          0.07633318185013122,
          0.0803057005133411,
          0.06347662878600953,
          0.03399370311600398,
          0.15880603955067085,
          0.090911092210677,
          0.1483714522924169,
          0.037554635217460254,
          0.04847719141292522,
          0.03563466283090042,
          0.04590856068632016,
          0.05306404253652194,
          0.05225187705612049,
          0.07154707365600528,
          0.03657481889101839,
          0.057724272202559074,
          0.0376915783905119,
          0.03218691274045073,
          0.15511579553577204,
          0.03499418742868918,
          0.06755198219309842,
          0.3070594514273243,
          0.04391201535186681,
          0.08016660250127626,
          0.12489338954605278,
          0.03526643603483244,
          0.07238109270214965,
          0.03479369221642581,
          0.03546950956074002,
          0.12204741865700754,
          0.0378098407133175,
          0.11860855002555984,
          0.030321130030665614,
          0.03037430034438999,
          0.03835665124505644,
          0.041188196302301604,
          0.053677095403638735,
          0.0361690017105333,
          0.06920796829776829,
          0.05538534686384697,
          0.03359694596647995,
          0.03293668483364037,
          0.06668357389805571,
          0.11159892228400345,
          0.03256008447713583,
          0.1133295698654305,
          0.15582867065951758,
          0.05359884789976644,
          0.047891241349273375,
          0.15164548360107172,
          0.0890142529718667,
          0.06599074782092501,
          0.054866193433040916,
          0.06056623110846513,
          0.16396140746662063,
          0.0794558882330368,
          0.15811647197600107,
          0.07339569757036292,
          0.04492269251602379,
          0.1676124292584545,
          0.1425249167432045,
          0.03989191868503172
         ],
         "xaxis": "x",
         "yaxis": "y"
        }
       ],
       "layout": {
        "autosize": true,
        "barmode": "relative",
        "legend": {
         "tracegroupgap": 0
        },
        "margin": {
         "t": 60
        },
        "template": {
         "data": {
          "bar": [
           {
            "error_x": {
             "color": "#2a3f5f"
            },
            "error_y": {
             "color": "#2a3f5f"
            },
            "marker": {
             "line": {
              "color": "#E5ECF6",
              "width": 0.5
             },
             "pattern": {
              "fillmode": "overlay",
              "size": 10,
              "solidity": 0.2
             }
            },
            "type": "bar"
           }
          ],
          "barpolar": [
           {
            "marker": {
             "line": {
              "color": "#E5ECF6",
              "width": 0.5
             },
             "pattern": {
              "fillmode": "overlay",
              "size": 10,
              "solidity": 0.2
             }
            },
            "type": "barpolar"
           }
          ],
          "carpet": [
           {
            "aaxis": {
             "endlinecolor": "#2a3f5f",
             "gridcolor": "white",
             "linecolor": "white",
             "minorgridcolor": "white",
             "startlinecolor": "#2a3f5f"
            },
            "baxis": {
             "endlinecolor": "#2a3f5f",
             "gridcolor": "white",
             "linecolor": "white",
             "minorgridcolor": "white",
             "startlinecolor": "#2a3f5f"
            },
            "type": "carpet"
           }
          ],
          "choropleth": [
           {
            "colorbar": {
             "outlinewidth": 0,
             "ticks": ""
            },
            "type": "choropleth"
           }
          ],
          "contour": [
           {
            "colorbar": {
             "outlinewidth": 0,
             "ticks": ""
            },
            "colorscale": [
             [
              0,
              "#0d0887"
             ],
             [
              0.1111111111111111,
              "#46039f"
             ],
             [
              0.2222222222222222,
              "#7201a8"
             ],
             [
              0.3333333333333333,
              "#9c179e"
             ],
             [
              0.4444444444444444,
              "#bd3786"
             ],
             [
              0.5555555555555556,
              "#d8576b"
             ],
             [
              0.6666666666666666,
              "#ed7953"
             ],
             [
              0.7777777777777778,
              "#fb9f3a"
             ],
             [
              0.8888888888888888,
              "#fdca26"
             ],
             [
              1,
              "#f0f921"
             ]
            ],
            "type": "contour"
           }
          ],
          "contourcarpet": [
           {
            "colorbar": {
             "outlinewidth": 0,
             "ticks": ""
            },
            "type": "contourcarpet"
           }
          ],
          "heatmap": [
           {
            "colorbar": {
             "outlinewidth": 0,
             "ticks": ""
            },
            "colorscale": [
             [
              0,
              "#0d0887"
             ],
             [
              0.1111111111111111,
              "#46039f"
             ],
             [
              0.2222222222222222,
              "#7201a8"
             ],
             [
              0.3333333333333333,
              "#9c179e"
             ],
             [
              0.4444444444444444,
              "#bd3786"
             ],
             [
              0.5555555555555556,
              "#d8576b"
             ],
             [
              0.6666666666666666,
              "#ed7953"
             ],
             [
              0.7777777777777778,
              "#fb9f3a"
             ],
             [
              0.8888888888888888,
              "#fdca26"
             ],
             [
              1,
              "#f0f921"
             ]
            ],
            "type": "heatmap"
           }
          ],
          "heatmapgl": [
           {
            "colorbar": {
             "outlinewidth": 0,
             "ticks": ""
            },
            "colorscale": [
             [
              0,
              "#0d0887"
             ],
             [
              0.1111111111111111,
              "#46039f"
             ],
             [
              0.2222222222222222,
              "#7201a8"
             ],
             [
              0.3333333333333333,
              "#9c179e"
             ],
             [
              0.4444444444444444,
              "#bd3786"
             ],
             [
              0.5555555555555556,
              "#d8576b"
             ],
             [
              0.6666666666666666,
              "#ed7953"
             ],
             [
              0.7777777777777778,
              "#fb9f3a"
             ],
             [
              0.8888888888888888,
              "#fdca26"
             ],
             [
              1,
              "#f0f921"
             ]
            ],
            "type": "heatmapgl"
           }
          ],
          "histogram": [
           {
            "marker": {
             "pattern": {
              "fillmode": "overlay",
              "size": 10,
              "solidity": 0.2
             }
            },
            "type": "histogram"
           }
          ],
          "histogram2d": [
           {
            "colorbar": {
             "outlinewidth": 0,
             "ticks": ""
            },
            "colorscale": [
             [
              0,
              "#0d0887"
             ],
             [
              0.1111111111111111,
              "#46039f"
             ],
             [
              0.2222222222222222,
              "#7201a8"
             ],
             [
              0.3333333333333333,
              "#9c179e"
             ],
             [
              0.4444444444444444,
              "#bd3786"
             ],
             [
              0.5555555555555556,
              "#d8576b"
             ],
             [
              0.6666666666666666,
              "#ed7953"
             ],
             [
              0.7777777777777778,
              "#fb9f3a"
             ],
             [
              0.8888888888888888,
              "#fdca26"
             ],
             [
              1,
              "#f0f921"
             ]
            ],
            "type": "histogram2d"
           }
          ],
          "histogram2dcontour": [
           {
            "colorbar": {
             "outlinewidth": 0,
             "ticks": ""
            },
            "colorscale": [
             [
              0,
              "#0d0887"
             ],
             [
              0.1111111111111111,
              "#46039f"
             ],
             [
              0.2222222222222222,
              "#7201a8"
             ],
             [
              0.3333333333333333,
              "#9c179e"
             ],
             [
              0.4444444444444444,
              "#bd3786"
             ],
             [
              0.5555555555555556,
              "#d8576b"
             ],
             [
              0.6666666666666666,
              "#ed7953"
             ],
             [
              0.7777777777777778,
              "#fb9f3a"
             ],
             [
              0.8888888888888888,
              "#fdca26"
             ],
             [
              1,
              "#f0f921"
             ]
            ],
            "type": "histogram2dcontour"
           }
          ],
          "mesh3d": [
           {
            "colorbar": {
             "outlinewidth": 0,
             "ticks": ""
            },
            "type": "mesh3d"
           }
          ],
          "parcoords": [
           {
            "line": {
             "colorbar": {
              "outlinewidth": 0,
              "ticks": ""
             }
            },
            "type": "parcoords"
           }
          ],
          "pie": [
           {
            "automargin": true,
            "type": "pie"
           }
          ],
          "scatter": [
           {
            "marker": {
             "colorbar": {
              "outlinewidth": 0,
              "ticks": ""
             }
            },
            "type": "scatter"
           }
          ],
          "scatter3d": [
           {
            "line": {
             "colorbar": {
              "outlinewidth": 0,
              "ticks": ""
             }
            },
            "marker": {
             "colorbar": {
              "outlinewidth": 0,
              "ticks": ""
             }
            },
            "type": "scatter3d"
           }
          ],
          "scattercarpet": [
           {
            "marker": {
             "colorbar": {
              "outlinewidth": 0,
              "ticks": ""
             }
            },
            "type": "scattercarpet"
           }
          ],
          "scattergeo": [
           {
            "marker": {
             "colorbar": {
              "outlinewidth": 0,
              "ticks": ""
             }
            },
            "type": "scattergeo"
           }
          ],
          "scattergl": [
           {
            "marker": {
             "colorbar": {
              "outlinewidth": 0,
              "ticks": ""
             }
            },
            "type": "scattergl"
           }
          ],
          "scattermapbox": [
           {
            "marker": {
             "colorbar": {
              "outlinewidth": 0,
              "ticks": ""
             }
            },
            "type": "scattermapbox"
           }
          ],
          "scatterpolar": [
           {
            "marker": {
             "colorbar": {
              "outlinewidth": 0,
              "ticks": ""
             }
            },
            "type": "scatterpolar"
           }
          ],
          "scatterpolargl": [
           {
            "marker": {
             "colorbar": {
              "outlinewidth": 0,
              "ticks": ""
             }
            },
            "type": "scatterpolargl"
           }
          ],
          "scatterternary": [
           {
            "marker": {
             "colorbar": {
              "outlinewidth": 0,
              "ticks": ""
             }
            },
            "type": "scatterternary"
           }
          ],
          "surface": [
           {
            "colorbar": {
             "outlinewidth": 0,
             "ticks": ""
            },
            "colorscale": [
             [
              0,
              "#0d0887"
             ],
             [
              0.1111111111111111,
              "#46039f"
             ],
             [
              0.2222222222222222,
              "#7201a8"
             ],
             [
              0.3333333333333333,
              "#9c179e"
             ],
             [
              0.4444444444444444,
              "#bd3786"
             ],
             [
              0.5555555555555556,
              "#d8576b"
             ],
             [
              0.6666666666666666,
              "#ed7953"
             ],
             [
              0.7777777777777778,
              "#fb9f3a"
             ],
             [
              0.8888888888888888,
              "#fdca26"
             ],
             [
              1,
              "#f0f921"
             ]
            ],
            "type": "surface"
           }
          ],
          "table": [
           {
            "cells": {
             "fill": {
              "color": "#EBF0F8"
             },
             "line": {
              "color": "white"
             }
            },
            "header": {
             "fill": {
              "color": "#C8D4E3"
             },
             "line": {
              "color": "white"
             }
            },
            "type": "table"
           }
          ]
         },
         "layout": {
          "annotationdefaults": {
           "arrowcolor": "#2a3f5f",
           "arrowhead": 0,
           "arrowwidth": 1
          },
          "autotypenumbers": "strict",
          "coloraxis": {
           "colorbar": {
            "outlinewidth": 0,
            "ticks": ""
           }
          },
          "colorscale": {
           "diverging": [
            [
             0,
             "#8e0152"
            ],
            [
             0.1,
             "#c51b7d"
            ],
            [
             0.2,
             "#de77ae"
            ],
            [
             0.3,
             "#f1b6da"
            ],
            [
             0.4,
             "#fde0ef"
            ],
            [
             0.5,
             "#f7f7f7"
            ],
            [
             0.6,
             "#e6f5d0"
            ],
            [
             0.7,
             "#b8e186"
            ],
            [
             0.8,
             "#7fbc41"
            ],
            [
             0.9,
             "#4d9221"
            ],
            [
             1,
             "#276419"
            ]
           ],
           "sequential": [
            [
             0,
             "#0d0887"
            ],
            [
             0.1111111111111111,
             "#46039f"
            ],
            [
             0.2222222222222222,
             "#7201a8"
            ],
            [
             0.3333333333333333,
             "#9c179e"
            ],
            [
             0.4444444444444444,
             "#bd3786"
            ],
            [
             0.5555555555555556,
             "#d8576b"
            ],
            [
             0.6666666666666666,
             "#ed7953"
            ],
            [
             0.7777777777777778,
             "#fb9f3a"
            ],
            [
             0.8888888888888888,
             "#fdca26"
            ],
            [
             1,
             "#f0f921"
            ]
           ],
           "sequentialminus": [
            [
             0,
             "#0d0887"
            ],
            [
             0.1111111111111111,
             "#46039f"
            ],
            [
             0.2222222222222222,
             "#7201a8"
            ],
            [
             0.3333333333333333,
             "#9c179e"
            ],
            [
             0.4444444444444444,
             "#bd3786"
            ],
            [
             0.5555555555555556,
             "#d8576b"
            ],
            [
             0.6666666666666666,
             "#ed7953"
            ],
            [
             0.7777777777777778,
             "#fb9f3a"
            ],
            [
             0.8888888888888888,
             "#fdca26"
            ],
            [
             1,
             "#f0f921"
            ]
           ]
          },
          "colorway": [
           "#636efa",
           "#EF553B",
           "#00cc96",
           "#ab63fa",
           "#FFA15A",
           "#19d3f3",
           "#FF6692",
           "#B6E880",
           "#FF97FF",
           "#FECB52"
          ],
          "font": {
           "color": "#2a3f5f"
          },
          "geo": {
           "bgcolor": "white",
           "lakecolor": "white",
           "landcolor": "#E5ECF6",
           "showlakes": true,
           "showland": true,
           "subunitcolor": "white"
          },
          "hoverlabel": {
           "align": "left"
          },
          "hovermode": "closest",
          "mapbox": {
           "style": "light"
          },
          "paper_bgcolor": "white",
          "plot_bgcolor": "#E5ECF6",
          "polar": {
           "angularaxis": {
            "gridcolor": "white",
            "linecolor": "white",
            "ticks": ""
           },
           "bgcolor": "#E5ECF6",
           "radialaxis": {
            "gridcolor": "white",
            "linecolor": "white",
            "ticks": ""
           }
          },
          "scene": {
           "xaxis": {
            "backgroundcolor": "#E5ECF6",
            "gridcolor": "white",
            "gridwidth": 2,
            "linecolor": "white",
            "showbackground": true,
            "ticks": "",
            "zerolinecolor": "white"
           },
           "yaxis": {
            "backgroundcolor": "#E5ECF6",
            "gridcolor": "white",
            "gridwidth": 2,
            "linecolor": "white",
            "showbackground": true,
            "ticks": "",
            "zerolinecolor": "white"
           },
           "zaxis": {
            "backgroundcolor": "#E5ECF6",
            "gridcolor": "white",
            "gridwidth": 2,
            "linecolor": "white",
            "showbackground": true,
            "ticks": "",
            "zerolinecolor": "white"
           }
          },
          "shapedefaults": {
           "line": {
            "color": "#2a3f5f"
           }
          },
          "ternary": {
           "aaxis": {
            "gridcolor": "white",
            "linecolor": "white",
            "ticks": ""
           },
           "baxis": {
            "gridcolor": "white",
            "linecolor": "white",
            "ticks": ""
           },
           "bgcolor": "#E5ECF6",
           "caxis": {
            "gridcolor": "white",
            "linecolor": "white",
            "ticks": ""
           }
          },
          "title": {
           "x": 0.05
          },
          "xaxis": {
           "automargin": true,
           "gridcolor": "white",
           "linecolor": "white",
           "ticks": "",
           "title": {
            "standoff": 15
           },
           "zerolinecolor": "white",
           "zerolinewidth": 2
          },
          "yaxis": {
           "automargin": true,
           "gridcolor": "white",
           "linecolor": "white",
           "ticks": "",
           "title": {
            "standoff": 15
           },
           "zerolinecolor": "white",
           "zerolinewidth": 2
          }
         }
        },
        "xaxis": {
         "anchor": "y",
         "autorange": true,
         "domain": [
          0,
          1
         ],
         "range": [
          3.469446951953614e-17,
          0.49999999999999994
         ],
         "title": {
          "text": "average hours viewed"
         },
         "type": "linear"
        },
        "yaxis": {
         "anchor": "x",
         "autorange": true,
         "domain": [
          0,
          1
         ],
         "range": [
          0,
          77.89473684210526
         ],
         "title": {
          "text": "count"
         }
        }
       }
      },
      "image/png": "[encoded data removed]",
      "text/html": [
       "<div>                            <div id=\"2e81a1bc-806c-49b9-b0ce-e5a0e5fea2dc\" class=\"plotly-graph-div\" style=\"height:525px; width:100%;\"></div>            <script type=\"text/javascript\">                require([\"plotly\"], function(Plotly) {                    window.PLOTLYENV=window.PLOTLYENV || {};                                    if (document.getElementById(\"2e81a1bc-806c-49b9-b0ce-e5a0e5fea2dc\")) {                    Plotly.newPlot(                        \"2e81a1bc-806c-49b9-b0ce-e5a0e5fea2dc\",                        [{\"alignmentgroup\":\"True\",\"bingroup\":\"x\",\"hovertemplate\":\"average hours viewed=%{x}<br>count=%{y}<extra></extra>\",\"legendgroup\":\"\",\"marker\":{\"color\":\"#636efa\",\"pattern\":{\"shape\":\"\"}},\"name\":\"\",\"nbinsx\":10,\"offsetgroup\":\"\",\"orientation\":\"v\",\"showlegend\":false,\"x\":[0.03249792025575151,0.04482528937564238,0.0322021593432704,0.03192204556206904,0.04603347260933214,0.04856857603352579,0.0729234971603969,0.11629122716493508,0.13128178772378396,0.03939055085436962,0.1447479383111607,0.03240167630149917,0.04561892393181289,0.052458249007816364,0.03226029025736666,0.031343155986124936,0.03526547733105368,0.03635085033388749,0.13575350567802819,0.1495100473512857,0.03526666319392767,0.06399087112549873,0.06589082888335804,0.03603539035262261,0.031033839947546275,0.03433461655585572,0.07109753840615224,0.0555315877215883,0.04682017390879068,0.04455919027651278,0.48138885230915957,0.06527321423796144,0.08918598109228669,0.23259729951788624,0.037569281003978126,0.06423401592582113,0.031183621857392423,0.036025921195317376,0.05410646699437346,0.043120295628725075,0.03581491050405324,0.08129684068984613,0.08124906691359772,0.03320873046873949,0.03672741616011292,0.04184393244113089,0.049799299102594924,0.05558113724364109,0.05822867788221233,0.05799594949456962,0.05650712921203267,0.05489938787231287,0.052273748817925965,0.04912477869311695,0.04716161239781033,0.043715630269556244,0.04051509073102444,0.043779926872228224,0.05274201677563779,0.057303212885140606,0.06005313848660432,0.06227418878102723,0.05922395242695176,0.05315282760171475,0.0477396382143756,0.04003047509771827,0.04077533995312477,0.030758725935899515,0.03483475608016689,0.03075739969794891,0.07306581139394859,0.05720599699580385,0.03896638543798555,0.0541747157467049,0.049221073989545845,0.05133445055968431,0.03213635713360026,0.03705180241868496,0.08461629834556869,0.06824722861212992,0.12703806509983578,0.1018106370782875,0.07497041973492855,0.13442714497175495,0.033881632755983854,0.05644485288883577,0.031871830457368175,0.03681953434421012,0.054706727049113966,0.08668615176466776,0.03480186276897714,0.037197061180975086,0.03595757745563415,0.06233912671591486,0.054578532466150124,0.1024038085457997,0.08747195880162523,0.09031269163081894,0.08836030926811766,0.08860302187192719,0.09047000529185735,0.07633318185013122,0.0803057005133411,0.06347662878600953,0.03399370311600398,0.15880603955067085,0.090911092210677,0.1483714522924169,0.037554635217460254,0.04847719141292522,0.03563466283090042,0.04590856068632016,0.05306404253652194,0.05225187705612049,0.07154707365600528,0.03657481889101839,0.057724272202559074,0.0376915783905119,0.03218691274045073,0.15511579553577204,0.03499418742868918,0.06755198219309842,0.3070594514273243,0.04391201535186681,0.08016660250127626,0.12489338954605278,0.03526643603483244,0.07238109270214965,0.03479369221642581,0.03546950956074002,0.12204741865700754,0.0378098407133175,0.11860855002555984,0.030321130030665614,0.03037430034438999,0.03835665124505644,0.041188196302301604,0.053677095403638735,0.0361690017105333,0.06920796829776829,0.05538534686384697,0.03359694596647995,0.03293668483364037,0.06668357389805571,0.11159892228400345,0.03256008447713583,0.1133295698654305,0.15582867065951758,0.05359884789976644,0.047891241349273375,0.15164548360107172,0.0890142529718667,0.06599074782092501,0.054866193433040916,0.06056623110846513,0.16396140746662063,0.0794558882330368,0.15811647197600107,0.07339569757036292,0.04492269251602379,0.1676124292584545,0.1425249167432045,0.03989191868503172],\"xaxis\":\"x\",\"yaxis\":\"y\",\"type\":\"histogram\"}],                        {\"template\":{\"data\":{\"bar\":[{\"error_x\":{\"color\":\"#2a3f5f\"},\"error_y\":{\"color\":\"#2a3f5f\"},\"marker\":{\"line\":{\"color\":\"#E5ECF6\",\"width\":0.5},\"pattern\":{\"fillmode\":\"overlay\",\"size\":10,\"solidity\":0.2}},\"type\":\"bar\"}],\"barpolar\":[{\"marker\":{\"line\":{\"color\":\"#E5ECF6\",\"width\":0.5},\"pattern\":{\"fillmode\":\"overlay\",\"size\":10,\"solidity\":0.2}},\"type\":\"barpolar\"}],\"carpet\":[{\"aaxis\":{\"endlinecolor\":\"#2a3f5f\",\"gridcolor\":\"white\",\"linecolor\":\"white\",\"minorgridcolor\":\"white\",\"startlinecolor\":\"#2a3f5f\"},\"baxis\":{\"endlinecolor\":\"#2a3f5f\",\"gridcolor\":\"white\",\"linecolor\":\"white\",\"minorgridcolor\":\"white\",\"startlinecolor\":\"#2a3f5f\"},\"type\":\"carpet\"}],\"choropleth\":[{\"colorbar\":{\"outlinewidth\":0,\"ticks\":\"\"},\"type\":\"choropleth\"}],\"contour\":[{\"colorbar\":{\"outlinewidth\":0,\"ticks\":\"\"},\"colorscale\":[[0.0,\"#0d0887\"],[0.1111111111111111,\"#46039f\"],[0.2222222222222222,\"#7201a8\"],[0.3333333333333333,\"#9c179e\"],[0.4444444444444444,\"#bd3786\"],[0.5555555555555556,\"#d8576b\"],[0.6666666666666666,\"#ed7953\"],[0.7777777777777778,\"#fb9f3a\"],[0.8888888888888888,\"#fdca26\"],[1.0,\"#f0f921\"]],\"type\":\"contour\"}],\"contourcarpet\":[{\"colorbar\":{\"outlinewidth\":0,\"ticks\":\"\"},\"type\":\"contourcarpet\"}],\"heatmap\":[{\"colorbar\":{\"outlinewidth\":0,\"ticks\":\"\"},\"colorscale\":[[0.0,\"#0d0887\"],[0.1111111111111111,\"#46039f\"],[0.2222222222222222,\"#7201a8\"],[0.3333333333333333,\"#9c179e\"],[0.4444444444444444,\"#bd3786\"],[0.5555555555555556,\"#d8576b\"],[0.6666666666666666,\"#ed7953\"],[0.7777777777777778,\"#fb9f3a\"],[0.8888888888888888,\"#fdca26\"],[1.0,\"#f0f921\"]],\"type\":\"heatmap\"}],\"heatmapgl\":[{\"colorbar\":{\"outlinewidth\":0,\"ticks\":\"\"},\"colorscale\":[[0.0,\"#0d0887\"],[0.1111111111111111,\"#46039f\"],[0.2222222222222222,\"#7201a8\"],[0.3333333333333333,\"#9c179e\"],[0.4444444444444444,\"#bd3786\"],[0.5555555555555556,\"#d8576b\"],[0.6666666666666666,\"#ed7953\"],[0.7777777777777778,\"#fb9f3a\"],[0.8888888888888888,\"#fdca26\"],[1.0,\"#f0f921\"]],\"type\":\"heatmapgl\"}],\"histogram\":[{\"marker\":{\"pattern\":{\"fillmode\":\"overlay\",\"size\":10,\"solidity\":0.2}},\"type\":\"histogram\"}],\"histogram2d\":[{\"colorbar\":{\"outlinewidth\":0,\"ticks\":\"\"},\"colorscale\":[[0.0,\"#0d0887\"],[0.1111111111111111,\"#46039f\"],[0.2222222222222222,\"#7201a8\"],[0.3333333333333333,\"#9c179e\"],[0.4444444444444444,\"#bd3786\"],[0.5555555555555556,\"#d8576b\"],[0.6666666666666666,\"#ed7953\"],[0.7777777777777778,\"#fb9f3a\"],[0.8888888888888888,\"#fdca26\"],[1.0,\"#f0f921\"]],\"type\":\"histogram2d\"}],\"histogram2dcontour\":[{\"colorbar\":{\"outlinewidth\":0,\"ticks\":\"\"},\"colorscale\":[[0.0,\"#0d0887\"],[0.1111111111111111,\"#46039f\"],[0.2222222222222222,\"#7201a8\"],[0.3333333333333333,\"#9c179e\"],[0.4444444444444444,\"#bd3786\"],[0.5555555555555556,\"#d8576b\"],[0.6666666666666666,\"#ed7953\"],[0.7777777777777778,\"#fb9f3a\"],[0.8888888888888888,\"#fdca26\"],[1.0,\"#f0f921\"]],\"type\":\"histogram2dcontour\"}],\"mesh3d\":[{\"colorbar\":{\"outlinewidth\":0,\"ticks\":\"\"},\"type\":\"mesh3d\"}],\"parcoords\":[{\"line\":{\"colorbar\":{\"outlinewidth\":0,\"ticks\":\"\"}},\"type\":\"parcoords\"}],\"pie\":[{\"automargin\":true,\"type\":\"pie\"}],\"scatter\":[{\"marker\":{\"colorbar\":{\"outlinewidth\":0,\"ticks\":\"\"}},\"type\":\"scatter\"}],\"scatter3d\":[{\"line\":{\"colorbar\":{\"outlinewidth\":0,\"ticks\":\"\"}},\"marker\":{\"colorbar\":{\"outlinewidth\":0,\"ticks\":\"\"}},\"type\":\"scatter3d\"}],\"scattercarpet\":[{\"marker\":{\"colorbar\":{\"outlinewidth\":0,\"ticks\":\"\"}},\"type\":\"scattercarpet\"}],\"scattergeo\":[{\"marker\":{\"colorbar\":{\"outlinewidth\":0,\"ticks\":\"\"}},\"type\":\"scattergeo\"}],\"scattergl\":[{\"marker\":{\"colorbar\":{\"outlinewidth\":0,\"ticks\":\"\"}},\"type\":\"scattergl\"}],\"scattermapbox\":[{\"marker\":{\"colorbar\":{\"outlinewidth\":0,\"ticks\":\"\"}},\"type\":\"scattermapbox\"}],\"scatterpolar\":[{\"marker\":{\"colorbar\":{\"outlinewidth\":0,\"ticks\":\"\"}},\"type\":\"scatterpolar\"}],\"scatterpolargl\":[{\"marker\":{\"colorbar\":{\"outlinewidth\":0,\"ticks\":\"\"}},\"type\":\"scatterpolargl\"}],\"scatterternary\":[{\"marker\":{\"colorbar\":{\"outlinewidth\":0,\"ticks\":\"\"}},\"type\":\"scatterternary\"}],\"surface\":[{\"colorbar\":{\"outlinewidth\":0,\"ticks\":\"\"},\"colorscale\":[[0.0,\"#0d0887\"],[0.1111111111111111,\"#46039f\"],[0.2222222222222222,\"#7201a8\"],[0.3333333333333333,\"#9c179e\"],[0.4444444444444444,\"#bd3786\"],[0.5555555555555556,\"#d8576b\"],[0.6666666666666666,\"#ed7953\"],[0.7777777777777778,\"#fb9f3a\"],[0.8888888888888888,\"#fdca26\"],[1.0,\"#f0f921\"]],\"type\":\"surface\"}],\"table\":[{\"cells\":{\"fill\":{\"color\":\"#EBF0F8\"},\"line\":{\"color\":\"white\"}},\"header\":{\"fill\":{\"color\":\"#C8D4E3\"},\"line\":{\"color\":\"white\"}},\"type\":\"table\"}]},\"layout\":{\"annotationdefaults\":{\"arrowcolor\":\"#2a3f5f\",\"arrowhead\":0,\"arrowwidth\":1},\"autotypenumbers\":\"strict\",\"coloraxis\":{\"colorbar\":{\"outlinewidth\":0,\"ticks\":\"\"}},\"colorscale\":{\"diverging\":[[0,\"#8e0152\"],[0.1,\"#c51b7d\"],[0.2,\"#de77ae\"],[0.3,\"#f1b6da\"],[0.4,\"#fde0ef\"],[0.5,\"#f7f7f7\"],[0.6,\"#e6f5d0\"],[0.7,\"#b8e186\"],[0.8,\"#7fbc41\"],[0.9,\"#4d9221\"],[1,\"#276419\"]],\"sequential\":[[0.0,\"#0d0887\"],[0.1111111111111111,\"#46039f\"],[0.2222222222222222,\"#7201a8\"],[0.3333333333333333,\"#9c179e\"],[0.4444444444444444,\"#bd3786\"],[0.5555555555555556,\"#d8576b\"],[0.6666666666666666,\"#ed7953\"],[0.7777777777777778,\"#fb9f3a\"],[0.8888888888888888,\"#fdca26\"],[1.0,\"#f0f921\"]],\"sequentialminus\":[[0.0,\"#0d0887\"],[0.1111111111111111,\"#46039f\"],[0.2222222222222222,\"#7201a8\"],[0.3333333333333333,\"#9c179e\"],[0.4444444444444444,\"#bd3786\"],[0.5555555555555556,\"#d8576b\"],[0.6666666666666666,\"#ed7953\"],[0.7777777777777778,\"#fb9f3a\"],[0.8888888888888888,\"#fdca26\"],[1.0,\"#f0f921\"]]},\"colorway\":[\"#636efa\",\"#EF553B\",\"#00cc96\",\"#ab63fa\",\"#FFA15A\",\"#19d3f3\",\"#FF6692\",\"#B6E880\",\"#FF97FF\",\"#FECB52\"],\"font\":{\"color\":\"#2a3f5f\"},\"geo\":{\"bgcolor\":\"white\",\"lakecolor\":\"white\",\"landcolor\":\"#E5ECF6\",\"showlakes\":true,\"showland\":true,\"subunitcolor\":\"white\"},\"hoverlabel\":{\"align\":\"left\"},\"hovermode\":\"closest\",\"mapbox\":{\"style\":\"light\"},\"paper_bgcolor\":\"white\",\"plot_bgcolor\":\"#E5ECF6\",\"polar\":{\"angularaxis\":{\"gridcolor\":\"white\",\"linecolor\":\"white\",\"ticks\":\"\"},\"bgcolor\":\"#E5ECF6\",\"radialaxis\":{\"gridcolor\":\"white\",\"linecolor\":\"white\",\"ticks\":\"\"}},\"scene\":{\"xaxis\":{\"backgroundcolor\":\"#E5ECF6\",\"gridcolor\":\"white\",\"gridwidth\":2,\"linecolor\":\"white\",\"showbackground\":true,\"ticks\":\"\",\"zerolinecolor\":\"white\"},\"yaxis\":{\"backgroundcolor\":\"#E5ECF6\",\"gridcolor\":\"white\",\"gridwidth\":2,\"linecolor\":\"white\",\"showbackground\":true,\"ticks\":\"\",\"zerolinecolor\":\"white\"},\"zaxis\":{\"backgroundcolor\":\"#E5ECF6\",\"gridcolor\":\"white\",\"gridwidth\":2,\"linecolor\":\"white\",\"showbackground\":true,\"ticks\":\"\",\"zerolinecolor\":\"white\"}},\"shapedefaults\":{\"line\":{\"color\":\"#2a3f5f\"}},\"ternary\":{\"aaxis\":{\"gridcolor\":\"white\",\"linecolor\":\"white\",\"ticks\":\"\"},\"baxis\":{\"gridcolor\":\"white\",\"linecolor\":\"white\",\"ticks\":\"\"},\"bgcolor\":\"#E5ECF6\",\"caxis\":{\"gridcolor\":\"white\",\"linecolor\":\"white\",\"ticks\":\"\"}},\"title\":{\"x\":0.05},\"xaxis\":{\"automargin\":true,\"gridcolor\":\"white\",\"linecolor\":\"white\",\"ticks\":\"\",\"title\":{\"standoff\":15},\"zerolinecolor\":\"white\",\"zerolinewidth\":2},\"yaxis\":{\"automargin\":true,\"gridcolor\":\"white\",\"linecolor\":\"white\",\"ticks\":\"\",\"title\":{\"standoff\":15},\"zerolinecolor\":\"white\",\"zerolinewidth\":2}}},\"xaxis\":{\"anchor\":\"y\",\"domain\":[0.0,1.0],\"title\":{\"text\":\"average hours viewed\"}},\"yaxis\":{\"anchor\":\"x\",\"domain\":[0.0,1.0],\"title\":{\"text\":\"count\"}},\"legend\":{\"tracegroupgap\":0},\"margin\":{\"t\":60},\"barmode\":\"relative\"},                        {\"responsive\": true}                    ).then(function(){\n",
       "                            \n",
       "var gd = document.getElementById('2e81a1bc-806c-49b9-b0ce-e5a0e5fea2dc');\n",
       "var x = new MutationObserver(function (mutations, observer) {{\n",
       "        var display = window.getComputedStyle(gd).display;\n",
       "        if (!display || display === 'none') {{\n",
       "            console.log([gd, 'removed!']);\n",
       "            Plotly.purge(gd);\n",
       "            observer.disconnect();\n",
       "        }}\n",
       "}});\n",
       "\n",
       "// Listen for the removal of the full notebook cells\n",
       "var notebookContainer = gd.closest('#notebook-container');\n",
       "if (notebookContainer) {{\n",
       "    x.observe(notebookContainer, {childList: true});\n",
       "}}\n",
       "\n",
       "// Listen for the clearing of the current output cell\n",
       "var outputEl = gd.closest('.output');\n",
       "if (outputEl) {{\n",
       "    x.observe(outputEl, {childList: true});\n",
       "}}\n",
       "\n",
       "                        })                };                });            </script>        </div>"
      ]
     },
     "metadata": {},
     "output_type": "display_data"
    }
   ],
   "source": [
    "fig = px.histogram(plot_df, x=\"average hours viewed\", nbins=10)\n",
    "fig.show()"
   ]
  },
  {
   "cell_type": "code",
   "execution_count": null,
   "id": "abbfe156",
   "metadata": {},
   "outputs": [],
   "source": []
  }
 ],
 "metadata": {
  "kernelspec": {
   "display_name": "conda_python3",
   "language": "python",
   "name": "conda_python3"
  },
  "language_info": {
   "codemirror_mode": {
    "name": "ipython",
    "version": 3
   },
   "file_extension": ".py",
   "mimetype": "text/x-python",
   "name": "python",
   "nbconvert_exporter": "python",
   "pygments_lexer": "ipython3",
   "version": "3.6.13"
  }
 },
 "nbformat": 4,
 "nbformat_minor": 5
}
