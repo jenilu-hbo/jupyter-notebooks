{
 "cells": [
  {
   "cell_type": "code",
   "execution_count": 0,
   "metadata": {
    "application/vnd.databricks.v1+cell": {
     "cellMetadata": {},
     "inputWidgets": {},
     "nuid": "0cc93c3f-4db2-478a-b8c6-a4d437832b9f",
     "showTitle": false,
     "title": ""
    }
   },
   "outputs": [],
   "source": [
    "import boto3\n",
    "import datetime as dt\n",
    "import json\n",
    "import numpy as np\n",
    "import pandas as pd\n",
    "\n",
    "import snowflake.connector\n",
    "pd.set_option('display.max_rows', 1000)\n",
    "pd.set_option('display.max_columns', 1000)\n",
    "pd.options.display.float_format = '{:,.2f}'.format"
   ]
  },
  {
   "cell_type": "code",
   "execution_count": 0,
   "metadata": {
    "application/vnd.databricks.v1+cell": {
     "cellMetadata": {},
     "inputWidgets": {},
     "nuid": "e2dc9fe7-a407-4e2f-be12-bb0d3f3a1fe5",
     "showTitle": false,
     "title": ""
    }
   },
   "outputs": [],
   "source": [
    "from abc import ABCMeta, abstractmethod\n",
    "\n",
    "class Credentials(metaclass=ABCMeta):\n",
    "    pass\n",
    "    \n",
    "    \n",
    "class SSMPSCredentials(Credentials):\n",
    "    def __init__(self, secretid: str):\n",
    "        self._secretid = secretid\n",
    "        self._secrets = {}\n",
    "        \n",
    "    def get_keys(self):\n",
    "        \"\"\"\n",
    "        credential fetching \n",
    "        \"\"\"\n",
    "        _aws_sm_args = {'service_name': 'secretsmanager', 'region_name': 'us-east-1'}\n",
    "        secrets_client = boto3.client(**_aws_sm_args)\n",
    "        get_secret_value_response = secrets_client.get_secret_value(SecretId=self._secretid)\n",
    "        return get_secret_value_response\n",
    "    \n",
    "    \n",
    "class BaseConnector(metaclass=ABCMeta):\n",
    "    @abstractmethod\n",
    "    def connect(self):\n",
    "        raise NotImplementedError\n",
    "    \n",
    "\n",
    "class SnowflakeConnector(BaseConnector):\n",
    "    def __init__(self, credentials: Credentials):\n",
    "        keys = credentials.get_keys()\n",
    "        self._secrets = json.loads(keys.get('SecretString', \"{}\"))\n",
    "\n",
    "    def connect(self, dbname: str, schema: str = 'DEFAULT'):\n",
    "        ctx = snowflake.connector.connect(\n",
    "            user=self._secrets['login_name'],\n",
    "            password=self._secrets['login_password'],\n",
    "            account=self._secrets['account'],\n",
    "            warehouse=self._secrets['warehouse'],\n",
    "            database=dbname,\n",
    "            schema=schema\n",
    "        )\n",
    "\n",
    "        return ctx\n",
    "    \n",
    "## Credentials\n",
    "SF_CREDS = 'datascience-max-dev-sagemaker-notebooks'\n",
    "\n",
    "## Snowflake connection \n",
    "conn=SnowflakeConnector(SSMPSCredentials(SF_CREDS))\n",
    "ctx=conn.connect(\"MAX_DEV\",\"WORKSPACE\")\n",
    "\n",
    "def run_query(query):\n",
    "    cursor = ctx.cursor()\n",
    "    cursor.execute(query)\n",
    "    df = pd.DataFrame(cursor.fetchall(), columns = [desc[0] for desc in cursor.description])\n",
    "    df.columns= df.columns.str.lower()\n",
    "    return df"
   ]
  },
  {
   "cell_type": "code",
   "execution_count": 0,
   "metadata": {
    "application/vnd.databricks.v1+cell": {
     "cellMetadata": {},
     "inputWidgets": {},
     "nuid": "617a631c-632b-4d16-a65d-36f212f961d9",
     "showTitle": false,
     "title": ""
    }
   },
   "outputs": [],
   "source": [
    "data = read_from_s3('Cannibalization Analysis.csv')\n",
    "data_ca_title = read_from_s3('cannibalization_analysis_detailed_view.csv')"
   ]
  },
  {
   "cell_type": "markdown",
   "metadata": {
    "application/vnd.databricks.v1+cell": {
     "cellMetadata": {},
     "inputWidgets": {},
     "nuid": "0170ce7c-abf9-47b3-931f-005e3b941aca",
     "showTitle": false,
     "title": ""
    }
   },
   "source": [
    "# Causal"
   ]
  },
  {
   "cell_type": "code",
   "execution_count": 0,
   "metadata": {
    "application/vnd.databricks.v1+cell": {
     "cellMetadata": {},
     "inputWidgets": {},
     "nuid": "ba1fa374-618c-4d70-8579-92e685101dd1",
     "showTitle": false,
     "title": ""
    },
    "collapsed": true,
    "jupyter": {
     "outputs_hidden": true
    }
   },
   "outputs": [],
   "source": [
    "!pip install cdt\n",
    "!pip install torch"
   ]
  },
  {
   "cell_type": "code",
   "execution_count": 0,
   "metadata": {
    "application/vnd.databricks.v1+cell": {
     "cellMetadata": {},
     "inputWidgets": {},
     "nuid": "9a2a1f5c-3ff9-46b7-b67f-e2696db1b9bc",
     "showTitle": false,
     "title": ""
    }
   },
   "outputs": [],
   "source": [
    "import cdt\n",
    "import networkx as nx\n",
    "import matplotlib.pyplot as plt"
   ]
  },
  {
   "cell_type": "code",
   "execution_count": 0,
   "metadata": {
    "application/vnd.databricks.v1+cell": {
     "cellMetadata": {},
     "inputWidgets": {},
     "nuid": "36719977-f169-42be-81a9-58a080fa889a",
     "showTitle": false,
     "title": ""
    }
   },
   "outputs": [],
   "source": [
    "data['medal_number'] = data['medal_number'].fillna(3)"
   ]
  },
  {
   "cell_type": "code",
   "execution_count": 0,
   "metadata": {
    "application/vnd.databricks.v1+cell": {
     "cellMetadata": {},
     "inputWidgets": {},
     "nuid": "6f62dfb0-2efc-4af9-997f-fc07aaffe10d",
     "showTitle": false,
     "title": ""
    }
   },
   "outputs": [],
   "source": [
    "df = data[['ahvr', 'medal_Platinum_count', 'medal_same_count', 'medal_number']]"
   ]
  },
  {
   "cell_type": "code",
   "execution_count": 0,
   "metadata": {
    "application/vnd.databricks.v1+cell": {
     "cellMetadata": {},
     "inputWidgets": {},
     "nuid": "05e3dec9-8823-4aee-b8ae-f70802bb4048",
     "showTitle": false,
     "title": ""
    }
   },
   "outputs": [],
   "source": [
    "df_msc_avg = df.groupby(['medal_number'])['medal_same_count'].mean().reset_index().rename(columns = {'medal_same_count':'medal_same_count_avg'})\n",
    "df = df.merge(df_msc_avg, on = ['medal_number'])\n",
    "df['medal_same_count_bigger_than_average'] = 0\n",
    "df.loc[df['medal_same_count'] > df['medal_same_count_avg'], 'medal_same_count_bigger_than_average'] = 1"
   ]
  },
  {
   "cell_type": "code",
   "execution_count": 0,
   "metadata": {
    "application/vnd.databricks.v1+cell": {
     "cellMetadata": {},
     "inputWidgets": {},
     "nuid": "a2a23dda-a979-42d8-a8b3-47a0ec4decfc",
     "showTitle": false,
     "title": ""
    }
   },
   "outputs": [],
   "source": [
    "df_msc_avg = df.groupby(['medal_number'])['medal_Platinum_count'].mean().reset_index().rename(columns = {'medal_Platinum_count':'medal_Platinum_count_avg'})\n",
    "df = df.merge(df_msc_avg, on = ['medal_number'])\n",
    "df['medal_Platinum_count_bigger_than_average'] = 0\n",
    "df.loc[df['medal_Platinum_count'] > df['medal_Platinum_count_avg'], 'medal_Platinum_count_bigger_than_average'] = 1"
   ]
  },
  {
   "cell_type": "code",
   "execution_count": 0,
   "metadata": {
    "application/vnd.databricks.v1+cell": {
     "cellMetadata": {},
     "inputWidgets": {},
     "nuid": "6ed0020d-bcb0-4a6e-bb82-35f40a51cc28",
     "showTitle": false,
     "title": ""
    }
   },
   "outputs": [],
   "source": [
    "# ### Setting different threshold\n",
    "# df['medal_Platinum_count_avg'] = 0.98\n",
    "# df['medal_Platinum_count_bigger_than_average'] = 0\n",
    "# df.loc[df['medal_Platinum_count'] > df['medal_Platinum_count_avg'], 'medal_Platinum_count_bigger_than_average'] = 1"
   ]
  },
  {
   "cell_type": "code",
   "execution_count": 0,
   "metadata": {
    "application/vnd.databricks.v1+cell": {
     "cellMetadata": {},
     "inputWidgets": {},
     "nuid": "72e97c73-1f8f-49f0-8c97-0a80b2c773ce",
     "showTitle": false,
     "title": ""
    }
   },
   "outputs": [],
   "source": [
    "df.tail()"
   ]
  },
  {
   "cell_type": "code",
   "execution_count": 0,
   "metadata": {
    "application/vnd.databricks.v1+cell": {
     "cellMetadata": {},
     "inputWidgets": {},
     "nuid": "85fa28c3-5e39-4828-8798-c24e624eeadf",
     "showTitle": false,
     "title": ""
    }
   },
   "outputs": [],
   "source": [
    "# Get skeleton graph\n",
    "# initialize graph lasso\n",
    "glasso = cdt.independence.graph.Glasso()\n",
    "# apply graph lasso to data\n",
    "skeleton = glasso.predict(df)\n",
    "# visualize network\n",
    "fig = plt.figure(figsize=(15,10))\n",
    "nx.draw_networkx(skeleton, font_size=18, font_color='r')"
   ]
  },
  {
   "cell_type": "code",
   "execution_count": 0,
   "metadata": {
    "application/vnd.databricks.v1+cell": {
     "cellMetadata": {},
     "inputWidgets": {},
     "nuid": "bb7f64ae-3a93-4bbc-9b36-a16ac4374064",
     "showTitle": false,
     "title": ""
    }
   },
   "outputs": [],
   "source": [
    "# # Use causal discovery to get causal models\n",
    "# # PC algorithm\n",
    "# model_pc = cdt.causality.graph.PC()\n",
    "# graph_pc = model_pc.predict(df, skeleton)\n",
    "\n",
    "# # visualize network\n",
    "# fig=plt.figure(figsize=(15,10))\n",
    "# nx.draw_networkx(graph_pc, font_size=18, font_color='r')"
   ]
  },
  {
   "cell_type": "code",
   "execution_count": 0,
   "metadata": {
    "application/vnd.databricks.v1+cell": {
     "cellMetadata": {},
     "inputWidgets": {},
     "nuid": "dc92b527-d100-49dd-bb75-ea93ad855054",
     "showTitle": false,
     "title": ""
    }
   },
   "outputs": [],
   "source": [
    "!pip install econml\n",
    "!pip install dowhy"
   ]
  },
  {
   "cell_type": "code",
   "execution_count": 0,
   "metadata": {
    "application/vnd.databricks.v1+cell": {
     "cellMetadata": {},
     "inputWidgets": {},
     "nuid": "19962c7b-3fdd-4519-b757-236c49e21ff0",
     "showTitle": false,
     "title": ""
    }
   },
   "outputs": [],
   "source": [
    "import econml\n",
    "import dowhy\n",
    "from dowhy import CausalModel"
   ]
  },
  {
   "cell_type": "code",
   "execution_count": 0,
   "metadata": {
    "application/vnd.databricks.v1+cell": {
     "cellMetadata": {},
     "inputWidgets": {},
     "nuid": "18baa24d-6226-4ae2-8bb2-192c94d964e9",
     "showTitle": false,
     "title": ""
    }
   },
   "outputs": [],
   "source": [
    "df.columns"
   ]
  },
  {
   "cell_type": "code",
   "execution_count": 0,
   "metadata": {
    "application/vnd.databricks.v1+cell": {
     "cellMetadata": {},
     "inputWidgets": {},
     "nuid": "c4b21060-ebe9-4d33-8c60-4183d7ea49ee",
     "showTitle": false,
     "title": ""
    }
   },
   "outputs": [],
   "source": [
    "G = nx.DiGraph()\n",
    "G.add_nodes_from(['ahvr', 'medal_Platinum_count', 'medal_same_count', 'medal_number'])\n",
    "G.add_edges_from([\n",
    "                  (\"medal_number\", \"ahvr\"), \n",
    "                  (\"medal_number\", \"medal_same_count\"), \n",
    "                  (\"medal_number\", \"medal_Platinum_count\"), \n",
    "                  (\"medal_same_count\", \"medal_same_count_bigger_than_average\"), \n",
    "                  (\"medal_Platinum_count\", \"medal_Platinum_count_bigger_than_average\"), \n",
    "                  (\"medal_same_count_bigger_than_average\", \"ahvr\"), \n",
    "                  (\"medal_Platinum_count_bigger_than_average\", \"ahvr\")\n",
    "                ])\n",
    "# G.add_edges_from([\n",
    "#                   (\"medal_number\", \"ahvr\"), \n",
    "# #                   (\"medal_number\", \"medal_same_count\"), \n",
    "# #                   (\"medal_number\", \"medal_Platinum_count\"), \n",
    "# #                   (\"medal_same_count\", \"medal_same_count_bigger_than_average\"), \n",
    "# #                   (\"medal_Platinum_count\", \"medal_Platinum_count_bigger_than_average\"), \n",
    "#                   (\"medal_same_count_bigger_than_average\", \"ahvr\"), \n",
    "#                   (\"medal_Platinum_count_bigger_than_average\", \"ahvr\")\n",
    "#                 ])"
   ]
  },
  {
   "cell_type": "code",
   "execution_count": 0,
   "metadata": {
    "application/vnd.databricks.v1+cell": {
     "cellMetadata": {},
     "inputWidgets": {},
     "nuid": "f153a16b-7f3c-4e29-b0b5-4beb3e39f9e4",
     "showTitle": false,
     "title": ""
    }
   },
   "outputs": [],
   "source": [
    "graph = nx.generate_gml(G)\n",
    "graph = ''.join(graph)"
   ]
  },
  {
   "cell_type": "code",
   "execution_count": 0,
   "metadata": {
    "application/vnd.databricks.v1+cell": {
     "cellMetadata": {},
     "inputWidgets": {},
     "nuid": "9da62356-43f6-40de-a731-6db0ec1e2023",
     "showTitle": false,
     "title": ""
    }
   },
   "outputs": [],
   "source": [
    "# With graph\n",
    "model=CausalModel(\n",
    "        data = df,\n",
    "        treatment=\"medal_Platinum_count_bigger_than_average\",\n",
    "        outcome=\"ahvr\",\n",
    "        graph = graph\n",
    "        )"
   ]
  },
  {
   "cell_type": "code",
   "execution_count": 0,
   "metadata": {
    "application/vnd.databricks.v1+cell": {
     "cellMetadata": {},
     "inputWidgets": {},
     "nuid": "3aee56bc-3553-48c3-9620-c2ee8a4507f1",
     "showTitle": false,
     "title": ""
    }
   },
   "outputs": [],
   "source": [
    "model.view_model() "
   ]
  },
  {
   "cell_type": "code",
   "execution_count": 0,
   "metadata": {
    "application/vnd.databricks.v1+cell": {
     "cellMetadata": {},
     "inputWidgets": {},
     "nuid": "a0f42a05-8274-4715-b23b-713cd49defaf",
     "showTitle": false,
     "title": ""
    }
   },
   "outputs": [],
   "source": [
    "# Generate estimand\n",
    "identified_estimand= model.identify_effect(proceed_when_unidentifiable=True)\n",
    "print(identified_estimand)"
   ]
  },
  {
   "cell_type": "code",
   "execution_count": 0,
   "metadata": {
    "application/vnd.databricks.v1+cell": {
     "cellMetadata": {},
     "inputWidgets": {},
     "nuid": "7b2ac5b8-64a4-48ab-ac9e-431c45b48eb4",
     "showTitle": false,
     "title": ""
    }
   },
   "outputs": [],
   "source": [
    "import warnings\n",
    "warnings.filterwarnings('ignore')"
   ]
  },
  {
   "cell_type": "code",
   "execution_count": 0,
   "metadata": {
    "application/vnd.databricks.v1+cell": {
     "cellMetadata": {},
     "inputWidgets": {},
     "nuid": "ccb89170-b294-4f3e-b229-dfd1a4f983be",
     "showTitle": false,
     "title": ""
    }
   },
   "outputs": [],
   "source": [
    "# Compute causal effect using metalearner\n",
    "identified_estimand_experiment = model.identify_effect(proceed_when_unidentifiable=True)\n",
    "\n",
    "from sklearn.ensemble import RandomForestRegressor\n",
    "from sklearn.linear_model import TweedieRegressor\n",
    "\n",
    "metalearner_estimate = model.estimate_effect(identified_estimand_experiment,                             \n",
    "                                             method_name=\"backdoor.econml.metalearners.TLearner\",\n",
    "                                             confidence_intervals=False,\n",
    "                                             method_params={\n",
    "                                                         \"init_params\":{'models': RandomForestRegressor()},\n",
    "                                                         \"fit_params\":{}\n",
    "                                                                  })\n",
    "print(metalearner_estimate)"
   ]
  },
  {
   "cell_type": "code",
   "execution_count": 0,
   "metadata": {
    "application/vnd.databricks.v1+cell": {
     "cellMetadata": {},
     "inputWidgets": {},
     "nuid": "15f5b691-6d60-42b7-8cea-95ec2e7e33a7",
     "showTitle": false,
     "title": ""
    }
   },
   "outputs": [],
   "source": [
    "# Print histogram of causal effects\n",
    "plt.hist(metalearner_estimate.cate_estimates)"
   ]
  },
  {
   "cell_type": "markdown",
   "metadata": {
    "application/vnd.databricks.v1+cell": {
     "cellMetadata": {},
     "inputWidgets": {},
     "nuid": "57fd28a7-499a-4fdc-b4c0-ec9decddc06c",
     "showTitle": false,
     "title": ""
    }
   },
   "source": [
    "## By Tier"
   ]
  },
  {
   "cell_type": "markdown",
   "metadata": {
    "application/vnd.databricks.v1+cell": {
     "cellMetadata": {},
     "inputWidgets": {},
     "nuid": "1619939a-4c50-4c43-8a6e-c44d29cdd4d8",
     "showTitle": false,
     "title": ""
    }
   },
   "source": [
    "### Platinum"
   ]
  },
  {
   "cell_type": "code",
   "execution_count": 0,
   "metadata": {
    "application/vnd.databricks.v1+cell": {
     "cellMetadata": {},
     "inputWidgets": {},
     "nuid": "8bdab33b-e29f-4aa3-98aa-9cf98e063618",
     "showTitle": false,
     "title": ""
    }
   },
   "outputs": [],
   "source": [
    "# With graph\n",
    "model=CausalModel(\n",
    "        data = df[df['medal_number'] == 0],\n",
    "        treatment=\"medal_Platinum_count_bigger_than_average\",\n",
    "        outcome=\"ahvr\",\n",
    "        graph = graph\n",
    "        )"
   ]
  },
  {
   "cell_type": "code",
   "execution_count": 0,
   "metadata": {
    "application/vnd.databricks.v1+cell": {
     "cellMetadata": {},
     "inputWidgets": {},
     "nuid": "19fb4710-ffdc-493c-85f0-089c4be407aa",
     "showTitle": false,
     "title": ""
    }
   },
   "outputs": [],
   "source": [
    "identified_estimand_experiment = model.identify_effect(proceed_when_unidentifiable=True)\n",
    "\n",
    "metalearner_estimate = model.estimate_effect(identified_estimand_experiment,                             \n",
    "                                             method_name=\"backdoor.econml.metalearners.TLearner\",\n",
    "                                             confidence_intervals=False,\n",
    "                                             method_params={\n",
    "                                                         \"init_params\":{'models': TweedieRegressor()},\n",
    "                                                         \"fit_params\":{}\n",
    "                                                                  })\n",
    "print(metalearner_estimate)"
   ]
  },
  {
   "cell_type": "code",
   "execution_count": 0,
   "metadata": {
    "application/vnd.databricks.v1+cell": {
     "cellMetadata": {},
     "inputWidgets": {},
     "nuid": "7d261543-117e-45dd-ae45-a2c0c9c6b553",
     "showTitle": false,
     "title": ""
    }
   },
   "outputs": [],
   "source": [
    "# Print histogram of causal effects\n",
    "plt.hist(metalearner_estimate.cate_estimates)"
   ]
  },
  {
   "cell_type": "markdown",
   "metadata": {
    "application/vnd.databricks.v1+cell": {
     "cellMetadata": {},
     "inputWidgets": {},
     "nuid": "64bac0f5-ad00-45da-a36a-d9d94696bc88",
     "showTitle": false,
     "title": ""
    }
   },
   "source": [
    "### Gold"
   ]
  },
  {
   "cell_type": "code",
   "execution_count": 0,
   "metadata": {
    "application/vnd.databricks.v1+cell": {
     "cellMetadata": {},
     "inputWidgets": {},
     "nuid": "38f914f7-e163-4121-9c5a-b079aec6a82c",
     "showTitle": false,
     "title": ""
    }
   },
   "outputs": [],
   "source": [
    "df_gold = df[df['medal_number'] == 1]\n",
    "# df_gold['medal_same_count_avg'] = 3 # 2.78\n",
    "df_gold['medal_Platinum_count_bigger_than_average'] = 0\n",
    "df_gold.loc[df_gold['medal_Platinum_count'] > df_gold['medal_Platinum_count_avg'], 'medal_Platinum_count_bigger_than_average'] = 1"
   ]
  },
  {
   "cell_type": "code",
   "execution_count": 0,
   "metadata": {
    "application/vnd.databricks.v1+cell": {
     "cellMetadata": {},
     "inputWidgets": {},
     "nuid": "6e0ad25b-6460-4382-b0a4-e29cee9d01ab",
     "showTitle": false,
     "title": ""
    }
   },
   "outputs": [],
   "source": [
    "df_gold.head()"
   ]
  },
  {
   "cell_type": "code",
   "execution_count": 0,
   "metadata": {
    "application/vnd.databricks.v1+cell": {
     "cellMetadata": {},
     "inputWidgets": {},
     "nuid": "87b6754d-c4ad-47f8-b131-f5c3c049ed52",
     "showTitle": false,
     "title": ""
    }
   },
   "outputs": [],
   "source": [
    "# With graph\n",
    "model=CausalModel(\n",
    "        data = df_gold,\n",
    "        treatment=\"medal_Platinum_count_bigger_than_average\",\n",
    "        outcome=\"ahvr\",\n",
    "        graph = graph\n",
    "        )"
   ]
  },
  {
   "cell_type": "code",
   "execution_count": 0,
   "metadata": {
    "application/vnd.databricks.v1+cell": {
     "cellMetadata": {},
     "inputWidgets": {},
     "nuid": "d2d42e89-c147-44c3-9f7e-7d22982630c8",
     "showTitle": false,
     "title": ""
    }
   },
   "outputs": [],
   "source": [
    "identified_estimand_experiment = model.identify_effect(proceed_when_unidentifiable=True)\n",
    "\n",
    "metalearner_estimate = model.estimate_effect(identified_estimand_experiment,                             \n",
    "                                             method_name=\"backdoor.econml.metalearners.TLearner\",\n",
    "                                             confidence_intervals=False,\n",
    "                                             method_params={\n",
    "                                                         \"init_params\":{'models': RandomForestRegressor()},\n",
    "                                                         \"fit_params\":{}\n",
    "                                                                  })\n",
    "print(metalearner_estimate)"
   ]
  },
  {
   "cell_type": "markdown",
   "metadata": {
    "application/vnd.databricks.v1+cell": {
     "cellMetadata": {},
     "inputWidgets": {},
     "nuid": "e6b0ea21-437b-4291-b8dc-022e7bc72c92",
     "showTitle": false,
     "title": ""
    }
   },
   "source": [
    "### Silver"
   ]
  },
  {
   "cell_type": "code",
   "execution_count": 0,
   "metadata": {
    "application/vnd.databricks.v1+cell": {
     "cellMetadata": {},
     "inputWidgets": {},
     "nuid": "4e309bcb-d214-48a4-953f-0293ab9525be",
     "showTitle": false,
     "title": ""
    }
   },
   "outputs": [],
   "source": [
    "# With graph\n",
    "model=CausalModel(\n",
    "        data = df[df['medal_number'] == 2],\n",
    "        treatment=\"medal_Platinum_count_bigger_than_average\",\n",
    "        outcome=\"ahvr\",\n",
    "        graph = graph\n",
    "        )"
   ]
  },
  {
   "cell_type": "code",
   "execution_count": 0,
   "metadata": {
    "application/vnd.databricks.v1+cell": {
     "cellMetadata": {},
     "inputWidgets": {},
     "nuid": "d98c4bb2-0567-4569-a17b-f5432d865db6",
     "showTitle": false,
     "title": ""
    }
   },
   "outputs": [],
   "source": [
    "df[df['medal_number'] == 2].head()"
   ]
  },
  {
   "cell_type": "code",
   "execution_count": 0,
   "metadata": {
    "application/vnd.databricks.v1+cell": {
     "cellMetadata": {},
     "inputWidgets": {},
     "nuid": "6563972c-a8b3-430e-a7eb-c662ac295d33",
     "showTitle": false,
     "title": ""
    }
   },
   "outputs": [],
   "source": [
    "identified_estimand_experiment = model.identify_effect(proceed_when_unidentifiable=True)\n",
    "\n",
    "metalearner_estimate = model.estimate_effect(identified_estimand_experiment,                             \n",
    "                                             method_name=\"backdoor.econml.metalearners.TLearner\",\n",
    "                                             confidence_intervals=False,\n",
    "                                             method_params={\n",
    "                                                         \"init_params\":{'models': RandomForestRegressor()},\n",
    "                                                         \"fit_params\":{}\n",
    "                                                                  })\n",
    "print(metalearner_estimate)"
   ]
  },
  {
   "cell_type": "markdown",
   "metadata": {
    "application/vnd.databricks.v1+cell": {
     "cellMetadata": {},
     "inputWidgets": {},
     "nuid": "3b370c8f-aeda-4ae7-a2fd-e199935389f4",
     "showTitle": false,
     "title": ""
    }
   },
   "source": [
    "### Bronze"
   ]
  },
  {
   "cell_type": "code",
   "execution_count": 0,
   "metadata": {
    "application/vnd.databricks.v1+cell": {
     "cellMetadata": {},
     "inputWidgets": {},
     "nuid": "04148ea2-c10d-44fc-91b2-19c85dd1d076",
     "showTitle": false,
     "title": ""
    }
   },
   "outputs": [],
   "source": [
    "# With graph\n",
    "model=CausalModel(\n",
    "        data = df[df['medal_number'] >= 2],\n",
    "        treatment=\"medal_Platinum_count_bigger_than_average\",\n",
    "        outcome=\"ahvr\",\n",
    "        graph = graph\n",
    "        )"
   ]
  },
  {
   "cell_type": "code",
   "execution_count": 0,
   "metadata": {
    "application/vnd.databricks.v1+cell": {
     "cellMetadata": {},
     "inputWidgets": {},
     "nuid": "cc74dbc2-dca7-4029-9731-aa46a0469f87",
     "showTitle": false,
     "title": ""
    }
   },
   "outputs": [],
   "source": [
    "identified_estimand_experiment = model.identify_effect(proceed_when_unidentifiable=True)\n",
    "\n",
    "metalearner_estimate = model.estimate_effect(identified_estimand_experiment,                             \n",
    "                                             method_name=\"backdoor.econml.metalearners.TLearner\",\n",
    "                                             confidence_intervals=False,\n",
    "                                             method_params={\n",
    "                                                         \"init_params\":{'models': RandomForestRegressor()},\n",
    "                                                         \"fit_params\":{}\n",
    "                                                                  })\n",
    "print(metalearner_estimate)"
   ]
  },
  {
   "cell_type": "code",
   "execution_count": 0,
   "metadata": {
    "application/vnd.databricks.v1+cell": {
     "cellMetadata": {},
     "inputWidgets": {},
     "nuid": "b4455c46-4890-49b2-91d9-a6a0ec93a938",
     "showTitle": false,
     "title": ""
    }
   },
   "outputs": [],
   "source": []
  },
  {
   "cell_type": "code",
   "execution_count": 0,
   "metadata": {
    "application/vnd.databricks.v1+cell": {
     "cellMetadata": {},
     "inputWidgets": {},
     "nuid": "5b2a4bdb-f5f2-4bfe-ab5d-22f0b9ddc0e6",
     "showTitle": false,
     "title": ""
    }
   },
   "outputs": [],
   "source": []
  },
  {
   "cell_type": "code",
   "execution_count": 0,
   "metadata": {
    "application/vnd.databricks.v1+cell": {
     "cellMetadata": {},
     "inputWidgets": {},
     "nuid": "aff54ab4-044f-4317-8eb3-6cbbdc0a7ae0",
     "showTitle": false,
     "title": ""
    }
   },
   "outputs": [],
   "source": []
  },
  {
   "cell_type": "code",
   "execution_count": 0,
   "metadata": {
    "application/vnd.databricks.v1+cell": {
     "cellMetadata": {},
     "inputWidgets": {},
     "nuid": "9f06ba67-ee54-4be0-aa18-f387d85932cf",
     "showTitle": false,
     "title": ""
    }
   },
   "outputs": [],
   "source": []
  },
  {
   "cell_type": "code",
   "execution_count": 0,
   "metadata": {
    "application/vnd.databricks.v1+cell": {
     "cellMetadata": {},
     "inputWidgets": {},
     "nuid": "3e1b00d5-9362-4634-8eaf-9387cba24138",
     "showTitle": false,
     "title": ""
    }
   },
   "outputs": [],
   "source": []
  },
  {
   "cell_type": "code",
   "execution_count": 0,
   "metadata": {
    "application/vnd.databricks.v1+cell": {
     "cellMetadata": {},
     "inputWidgets": {},
     "nuid": "b7a6b634-33ad-43ce-821e-ae80063e5699",
     "showTitle": false,
     "title": ""
    }
   },
   "outputs": [],
   "source": []
  },
  {
   "cell_type": "code",
   "execution_count": 0,
   "metadata": {
    "application/vnd.databricks.v1+cell": {
     "cellMetadata": {},
     "inputWidgets": {},
     "nuid": "b6528184-baa0-4dcf-b5f6-1d5516d91c53",
     "showTitle": false,
     "title": ""
    }
   },
   "outputs": [],
   "source": [
    "# !pip install causalinference"
   ]
  },
  {
   "cell_type": "code",
   "execution_count": 0,
   "metadata": {
    "application/vnd.databricks.v1+cell": {
     "cellMetadata": {},
     "inputWidgets": {},
     "nuid": "ebf059db-8bb4-44dc-af4e-b358863c90b5",
     "showTitle": false,
     "title": ""
    }
   },
   "outputs": [],
   "source": [
    "from causalinference import CausalModel\n",
    "from causalinference.utils import random_data\n",
    "#Y is the outcome, D is treatment status, and X is the independent variable\n",
    "causal = CausalModel(df['ahvr'], \n",
    "                     df['medal_Platinum_count_bigger_than_average'], \n",
    "                     df[['medal_number', 'medal_Platinum_count_bigger_than_average', 'medal_same_count_bigger_than_average', \n",
    "                         'medal_Platinum_count', 'medal_same_count']])"
   ]
  },
  {
   "cell_type": "code",
   "execution_count": 0,
   "metadata": {
    "application/vnd.databricks.v1+cell": {
     "cellMetadata": {},
     "inputWidgets": {},
     "nuid": "48c81fcd-0fef-40cc-9692-5cafdcbce8ad",
     "showTitle": false,
     "title": ""
    }
   },
   "outputs": [],
   "source": [
    "print(causal.summary_stats)"
   ]
  },
  {
   "cell_type": "code",
   "execution_count": 0,
   "metadata": {
    "application/vnd.databricks.v1+cell": {
     "cellMetadata": {},
     "inputWidgets": {},
     "nuid": "671c4ac7-7bb4-4c43-a343-dac0826aedb8",
     "showTitle": false,
     "title": ""
    }
   },
   "outputs": [],
   "source": [
    "causal.est_via_ols()\n",
    "print(causal.estimates)"
   ]
  },
  {
   "cell_type": "code",
   "execution_count": 0,
   "metadata": {
    "application/vnd.databricks.v1+cell": {
     "cellMetadata": {},
     "inputWidgets": {},
     "nuid": "829fc3a1-b3bb-4367-9a0d-ba668af44102",
     "showTitle": false,
     "title": ""
    }
   },
   "outputs": [],
   "source": [
    "# ATE, ATC, and ATT stand for Average Treatment Effect, Average Treatment Effect for Control and Average Treatment Effect for Treated, respectively. \n",
    "# Using this information, we could assess whether the treatment has an effect compared to the control."
   ]
  },
  {
   "cell_type": "code",
   "execution_count": 0,
   "metadata": {
    "application/vnd.databricks.v1+cell": {
     "cellMetadata": {},
     "inputWidgets": {},
     "nuid": "25ae8fdc-9a74-448f-9623-c83b0bf049e6",
     "showTitle": false,
     "title": ""
    }
   },
   "outputs": [],
   "source": []
  }
 ],
 "metadata": {
  "application/vnd.databricks.v1+notebook": {
   "dashboards": [],
   "environmentMetadata": null,
   "language": "python",
   "notebookMetadata": {
    "pythonIndentUnit": 4
   },
   "notebookName": "0.2 Cannibalization Causal Analysis",
   "widgets": {}
  },
  "kernelspec": {
   "display_name": "conda_python3",
   "language": "python",
   "name": "conda_python3"
  },
  "language_info": {
   "codemirror_mode": {
    "name": "ipython",
    "version": 3
   },
   "file_extension": ".py",
   "mimetype": "text/x-python",
   "name": "python",
   "nbconvert_exporter": "python",
   "pygments_lexer": "ipython3",
   "version": "3.6.13"
  }
 },
 "nbformat": 4,
 "nbformat_minor": 0
}
