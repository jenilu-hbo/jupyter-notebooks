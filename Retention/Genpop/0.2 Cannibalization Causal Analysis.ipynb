{
 "cells": [
  {
   "cell_type": "code",
   "execution_count": 1,
   "id": "5960cfe9",
   "metadata": {},
   "outputs": [],
   "source": [
    "import boto3\n",
    "import datetime as dt\n",
    "import json\n",
    "import numpy as np\n",
    "import pandas as pd\n",
    "\n",
    "import snowflake.connector\n",
    "pd.set_option('display.max_rows', 1000)\n",
    "pd.set_option('display.max_columns', 1000)\n",
    "pd.options.display.float_format = '{:,.2f}'.format"
   ]
  },
  {
   "cell_type": "code",
   "execution_count": 2,
   "id": "f083774a",
   "metadata": {},
   "outputs": [
    {
     "name": "stderr",
     "output_type": "stream",
     "text": [
      "/home/ec2-user/anaconda3/envs/python3/lib/python3.6/site-packages/boto3/compat.py:88: PythonDeprecationWarning: Boto3 will no longer support Python 3.6 starting May 30, 2022. To continue receiving service updates, bug fixes, and security updates please upgrade to Python 3.7 or later. More information can be found here: https://aws.amazon.com/blogs/developer/python-support-policy-updates-for-aws-sdks-and-tools/\n",
      "  warnings.warn(warning, PythonDeprecationWarning)\n"
     ]
    }
   ],
   "source": [
    "from abc import ABCMeta, abstractmethod\n",
    "\n",
    "class Credentials(metaclass=ABCMeta):\n",
    "    pass\n",
    "    \n",
    "    \n",
    "class SSMPSCredentials(Credentials):\n",
    "    def __init__(self, secretid: str):\n",
    "        self._secretid = secretid\n",
    "        self._secrets = {}\n",
    "        \n",
    "    def get_keys(self):\n",
    "        \"\"\"\n",
    "        credential fetching \n",
    "        \"\"\"\n",
    "        _aws_sm_args = {'service_name': 'secretsmanager', 'region_name': 'us-east-1'}\n",
    "        secrets_client = boto3.client(**_aws_sm_args)\n",
    "        get_secret_value_response = secrets_client.get_secret_value(SecretId=self._secretid)\n",
    "        return get_secret_value_response\n",
    "    \n",
    "    \n",
    "class BaseConnector(metaclass=ABCMeta):\n",
    "    @abstractmethod\n",
    "    def connect(self):\n",
    "        raise NotImplementedError\n",
    "    \n",
    "\n",
    "class SnowflakeConnector(BaseConnector):\n",
    "    def __init__(self, credentials: Credentials):\n",
    "        keys = credentials.get_keys()\n",
    "        self._secrets = json.loads(keys.get('SecretString', \"{}\"))\n",
    "\n",
    "    def connect(self, dbname: str, schema: str = 'DEFAULT'):\n",
    "        ctx = snowflake.connector.connect(\n",
    "            user=self._secrets['login_name'],\n",
    "            password=self._secrets['login_password'],\n",
    "            account=self._secrets['account'],\n",
    "            warehouse=self._secrets['warehouse'],\n",
    "            database=dbname,\n",
    "            schema=schema\n",
    "        )\n",
    "\n",
    "        return ctx\n",
    "    \n",
    "## Credentials\n",
    "SF_CREDS = 'datascience-max-dev-sagemaker-notebooks'\n",
    "\n",
    "## Snowflake connection \n",
    "conn=SnowflakeConnector(SSMPSCredentials(SF_CREDS))\n",
    "ctx=conn.connect(\"MAX_DEV\",\"WORKSPACE\")\n",
    "\n",
    "def run_query(query):\n",
    "    cursor = ctx.cursor()\n",
    "    cursor.execute(query)\n",
    "    df = pd.DataFrame(cursor.fetchall(), columns = [desc[0] for desc in cursor.description])\n",
    "    df.columns= df.columns.str.lower()\n",
    "    return df"
   ]
  },
  {
   "cell_type": "code",
   "execution_count": 4,
   "id": "f2de1f1e",
   "metadata": {},
   "outputs": [],
   "source": [
    "c = SSMPSCredentials('datascience-max-dev-sagemaker-notebooks')"
   ]
  },
  {
   "cell_type": "code",
   "execution_count": 7,
   "id": "e6ae6f94",
   "metadata": {},
   "outputs": [
    {
     "name": "stderr",
     "output_type": "stream",
     "text": [
      "/home/ec2-user/anaconda3/envs/python3/lib/python3.6/site-packages/boto3/compat.py:88: PythonDeprecationWarning: Boto3 will no longer support Python 3.6 starting May 30, 2022. To continue receiving service updates, bug fixes, and security updates please upgrade to Python 3.7 or later. More information can be found here: https://aws.amazon.com/blogs/developer/python-support-policy-updates-for-aws-sdks-and-tools/\n",
      "  warnings.warn(warning, PythonDeprecationWarning)\n"
     ]
    },
    {
     "data": {
      "text/plain": [
       "{'ARN': 'arn:aws:secretsmanager:us-east-1:613630599026:secret:datascience-max-dev-sagemaker-notebooks-6P450a',\n",
       " 'Name': 'datascience-max-dev-sagemaker-notebooks',\n",
       " 'VersionId': 'c7acdf78-4842-4a9e-840b-9823979d9ceb',\n",
       " 'SecretString': '{\"login_name\":\"max.glue.dev\",\"login_password\":\"2p6R3teB8wm@9G\",\"warehouse\":\"MAX_DATASCIENCE_DEV\",\"role\":\"MAX_GLUE_DEV\",\"snowflake_url\":\"https://hbomax.us-east-1.snowflakecomputing.com/\",\"account\":\"hbomax.us-east-1\"}',\n",
       " 'VersionStages': ['AWSCURRENT'],\n",
       " 'CreatedDate': datetime.datetime(2021, 3, 24, 5, 43, 21, 52000, tzinfo=tzlocal()),\n",
       " 'ResponseMetadata': {'RequestId': 'f5961232-c960-4c20-98e3-db5942a96074',\n",
       "  'HTTPStatusCode': 200,\n",
       "  'HTTPHeaders': {'x-amzn-requestid': 'f5961232-c960-4c20-98e3-db5942a96074',\n",
       "   'content-type': 'application/x-amz-json-1.1',\n",
       "   'content-length': '528',\n",
       "   'date': 'Wed, 13 Mar 2024 21:35:24 GMT'},\n",
       "  'RetryAttempts': 0}}"
      ]
     },
     "execution_count": 7,
     "metadata": {},
     "output_type": "execute_result"
    }
   ],
   "source": [
    "c.get_keys()"
   ]
  },
  {
   "cell_type": "code",
   "execution_count": 2,
   "id": "f87d8bb2",
   "metadata": {},
   "outputs": [
    {
     "name": "stderr",
     "output_type": "stream",
     "text": [
      "/home/ec2-user/anaconda3/envs/python3/lib/python3.6/site-packages/boto3/compat.py:88: PythonDeprecationWarning: Boto3 will no longer support Python 3.6 starting May 30, 2022. To continue receiving service updates, bug fixes, and security updates please upgrade to Python 3.7 or later. More information can be found here: https://aws.amazon.com/blogs/developer/python-support-policy-updates-for-aws-sdks-and-tools/\n",
      "  warnings.warn(warning, PythonDeprecationWarning)\n"
     ]
    }
   ],
   "source": [
    "## WRITE OR READ FROM S3 ####\n",
    "import boto3\n",
    "import io\n",
    "\n",
    "s3 = boto3.resource('s3')\n",
    "output_bucket = \"hbo-outbound-datascience-content-dev\"\n",
    "input_bucket = \"hbo-ingest-datascience-content-dev\"\n",
    "bucket = s3.Bucket(input_bucket)\n",
    "\n",
    "def write_to_sf(df, file_name):\n",
    "    csv_buffer = io.StringIO()\n",
    "    df.to_csv(csv_buffer, index = False)\n",
    "    content = csv_buffer.getvalue()\n",
    "    filename = 'title_hours_viewed_retention/{}.csv'.format(file_name)\n",
    "    client = boto3.client('s3')\n",
    "    client.put_object(Bucket=output_bucket, Key=filename, Body=content)\n",
    "    \n",
    "def write_to_input(df, file_name):\n",
    "    csv_buffer = io.StringIO()\n",
    "    df.to_csv(csv_buffer, index = False)\n",
    "    content = csv_buffer.getvalue()\n",
    "    filename = 'title_hours_viewed_retention/{}.csv'.format(file_name)\n",
    "    client = boto3.client('s3')\n",
    "    client.put_object(Bucket=input_bucket, Key=filename, Body=content)\n",
    "    \n",
    "def read_from_s3(filename, input_bucket = input_bucket):\n",
    "    for obj in bucket.objects.filter(Prefix='title_hours_viewed_retention/'+filename): #churn_metric_0811\n",
    "            key = obj.key \n",
    "            body = obj.get()['Body']\n",
    "            print('Reading {0} features'.format(key))\n",
    "            df = pd.read_csv(body, na_values = [r'\\\\\\\\N'])\n",
    "    return df"
   ]
  },
  {
   "cell_type": "code",
   "execution_count": 3,
   "id": "9cbafc02",
   "metadata": {},
   "outputs": [
    {
     "name": "stdout",
     "output_type": "stream",
     "text": [
      "Reading title_hours_viewed_retention/Cannibalization Analysis.csv.csv features\n",
      "Reading title_hours_viewed_retention/cannibalization_analysis_detailed_view.csv.csv features\n"
     ]
    }
   ],
   "source": [
    "data = read_from_s3('Cannibalization Analysis.csv')\n",
    "data_ca_title = read_from_s3('cannibalization_analysis_detailed_view.csv')"
   ]
  },
  {
   "cell_type": "markdown",
   "id": "f31860cd",
   "metadata": {},
   "source": [
    "# Causal"
   ]
  },
  {
   "cell_type": "code",
   "execution_count": 5,
   "id": "160bd15d",
   "metadata": {
    "collapsed": true,
    "jupyter": {
     "outputs_hidden": true
    }
   },
   "outputs": [
    {
     "name": "stdout",
     "output_type": "stream",
     "text": [
      "Collecting cdt\n",
      "  Downloading cdt-0.6.0-py3-none-any.whl (921 kB)\n",
      "     |████████████████████████████████| 921 kB 20.2 MB/s            \n",
      "\u001b[?25hRequirement already satisfied: numpy in /home/ec2-user/anaconda3/envs/python3/lib/python3.6/site-packages (from cdt) (1.19.5)\n",
      "Requirement already satisfied: scikit-learn in /home/ec2-user/anaconda3/envs/python3/lib/python3.6/site-packages (from cdt) (0.24.1)\n",
      "Collecting skrebate\n",
      "  Downloading skrebate-0.62.tar.gz (19 kB)\n",
      "  Preparing metadata (setup.py) ... \u001b[?25ldone\n",
      "\u001b[?25hRequirement already satisfied: requests in /home/ec2-user/anaconda3/envs/python3/lib/python3.6/site-packages (from cdt) (2.26.0)\n",
      "Requirement already satisfied: statsmodels in /home/ec2-user/anaconda3/envs/python3/lib/python3.6/site-packages (from cdt) (0.12.2)\n",
      "Requirement already satisfied: pandas in /home/ec2-user/anaconda3/envs/python3/lib/python3.6/site-packages (from cdt) (1.1.5)\n",
      "Requirement already satisfied: networkx in /home/ec2-user/anaconda3/envs/python3/lib/python3.6/site-packages (from cdt) (2.5)\n",
      "Requirement already satisfied: tqdm in /home/ec2-user/anaconda3/envs/python3/lib/python3.6/site-packages (from cdt) (4.62.3)\n",
      "Collecting GPUtil\n",
      "  Downloading GPUtil-1.4.0.tar.gz (5.5 kB)\n",
      "  Preparing metadata (setup.py) ... \u001b[?25ldone\n",
      "\u001b[?25hRequirement already satisfied: scipy in /home/ec2-user/anaconda3/envs/python3/lib/python3.6/site-packages (from cdt) (1.5.3)\n",
      "Requirement already satisfied: joblib in /home/ec2-user/anaconda3/envs/python3/lib/python3.6/site-packages (from cdt) (1.0.1)\n",
      "Requirement already satisfied: decorator>=4.3.0 in /home/ec2-user/anaconda3/envs/python3/lib/python3.6/site-packages (from networkx->cdt) (4.4.2)\n",
      "Requirement already satisfied: python-dateutil>=2.7.3 in /home/ec2-user/anaconda3/envs/python3/lib/python3.6/site-packages (from pandas->cdt) (2.8.1)\n",
      "Requirement already satisfied: pytz>=2017.2 in /home/ec2-user/anaconda3/envs/python3/lib/python3.6/site-packages (from pandas->cdt) (2021.1)\n",
      "Requirement already satisfied: urllib3<1.27,>=1.21.1 in /home/ec2-user/anaconda3/envs/python3/lib/python3.6/site-packages (from requests->cdt) (1.26.8)\n",
      "Requirement already satisfied: idna<4,>=2.5 in /home/ec2-user/anaconda3/envs/python3/lib/python3.6/site-packages (from requests->cdt) (3.1)\n",
      "Requirement already satisfied: certifi>=2017.4.17 in /home/ec2-user/anaconda3/envs/python3/lib/python3.6/site-packages (from requests->cdt) (2021.5.30)\n",
      "Requirement already satisfied: charset-normalizer~=2.0.0 in /home/ec2-user/anaconda3/envs/python3/lib/python3.6/site-packages (from requests->cdt) (2.0.9)\n",
      "Requirement already satisfied: threadpoolctl>=2.0.0 in /home/ec2-user/anaconda3/envs/python3/lib/python3.6/site-packages (from scikit-learn->cdt) (2.1.0)\n",
      "Requirement already satisfied: patsy>=0.5 in /home/ec2-user/anaconda3/envs/python3/lib/python3.6/site-packages (from statsmodels->cdt) (0.5.1)\n",
      "Requirement already satisfied: six in /home/ec2-user/anaconda3/envs/python3/lib/python3.6/site-packages (from patsy>=0.5->statsmodels->cdt) (1.15.0)\n",
      "Building wheels for collected packages: GPUtil, skrebate\n",
      "  Building wheel for GPUtil (setup.py) ... \u001b[?25ldone\n",
      "\u001b[?25h  Created wheel for GPUtil: filename=GPUtil-1.4.0-py3-none-any.whl size=7410 sha256=042a568c37257a5ccf27b98195eea03cdd928dc711e620f5cc0ee0eb3dfd0324\n",
      "  Stored in directory: /home/ec2-user/.cache/pip/wheels/79/c1/b2/b6fc2647f693a084da25e1d31328ab3dbb565cc58fea37e973\n",
      "  Building wheel for skrebate (setup.py) ... \u001b[?25ldone\n",
      "\u001b[?25h  Created wheel for skrebate: filename=skrebate-0.62-py3-none-any.whl size=29256 sha256=35879856efa3a098631eb820ebf50e6591711ff992ed288560bc1de3a1de15f3\n",
      "  Stored in directory: /home/ec2-user/.cache/pip/wheels/86/52/36/f89dbee69f4529cd18215e030111c80b743b84205ea75f7df6\n",
      "Successfully built GPUtil skrebate\n",
      "Installing collected packages: skrebate, GPUtil, cdt\n",
      "Successfully installed GPUtil-1.4.0 cdt-0.6.0 skrebate-0.62\n",
      "Collecting torch\n",
      "  Downloading torch-1.10.2-cp36-cp36m-manylinux1_x86_64.whl (881.9 MB)\n",
      "     |████████████████████████████████| 881.9 MB 7.7 kB/s              \n",
      "\u001b[?25hRequirement already satisfied: dataclasses in /home/ec2-user/anaconda3/envs/python3/lib/python3.6/site-packages (from torch) (0.8)\n",
      "Requirement already satisfied: typing-extensions in /home/ec2-user/anaconda3/envs/python3/lib/python3.6/site-packages (from torch) (4.0.1)\n",
      "Installing collected packages: torch\n",
      "Successfully installed torch-1.10.2\n"
     ]
    }
   ],
   "source": [
    "!pip install cdt\n",
    "!pip install torch"
   ]
  },
  {
   "cell_type": "code",
   "execution_count": 6,
   "id": "1c071186",
   "metadata": {},
   "outputs": [
    {
     "name": "stderr",
     "output_type": "stream",
     "text": [
      "No GPU automatically detected. Setting SETTINGS.GPU to 0, and SETTINGS.NJOBS to cpu_count.\n",
      "Matplotlib is building the font cache; this may take a moment.\n"
     ]
    }
   ],
   "source": [
    "import cdt\n",
    "import networkx as nx\n",
    "import matplotlib.pyplot as plt"
   ]
  },
  {
   "cell_type": "code",
   "execution_count": 7,
   "id": "9709bda7",
   "metadata": {},
   "outputs": [],
   "source": [
    "data['medal_number'] = data['medal_number'].fillna(3)"
   ]
  },
  {
   "cell_type": "code",
   "execution_count": 8,
   "id": "f83f4243",
   "metadata": {},
   "outputs": [],
   "source": [
    "df = data[['ahvr', 'medal_Platinum_count', 'medal_same_count', 'medal_number']]"
   ]
  },
  {
   "cell_type": "code",
   "execution_count": 9,
   "id": "b8f367d9",
   "metadata": {},
   "outputs": [],
   "source": [
    "df_msc_avg = df.groupby(['medal_number'])['medal_same_count'].mean().reset_index().rename(columns = {'medal_same_count':'medal_same_count_avg'})\n",
    "df = df.merge(df_msc_avg, on = ['medal_number'])\n",
    "df['medal_same_count_bigger_than_average'] = 0\n",
    "df.loc[df['medal_same_count'] > df['medal_same_count_avg'], 'medal_same_count_bigger_than_average'] = 1"
   ]
  },
  {
   "cell_type": "code",
   "execution_count": 10,
   "id": "b2a7e2e9",
   "metadata": {},
   "outputs": [],
   "source": [
    "df_msc_avg = df.groupby(['medal_number'])['medal_Platinum_count'].mean().reset_index().rename(columns = {'medal_Platinum_count':'medal_Platinum_count_avg'})\n",
    "df = df.merge(df_msc_avg, on = ['medal_number'])\n",
    "df['medal_Platinum_count_bigger_than_average'] = 0\n",
    "df.loc[df['medal_Platinum_count'] > df['medal_Platinum_count_avg'], 'medal_Platinum_count_bigger_than_average'] = 1"
   ]
  },
  {
   "cell_type": "code",
   "execution_count": 11,
   "id": "7beaaff3",
   "metadata": {},
   "outputs": [],
   "source": [
    "# ### Setting different threshold\n",
    "# df['medal_Platinum_count_avg'] = 0.98\n",
    "# df['medal_Platinum_count_bigger_than_average'] = 0\n",
    "# df.loc[df['medal_Platinum_count'] > df['medal_Platinum_count_avg'], 'medal_Platinum_count_bigger_than_average'] = 1"
   ]
  },
  {
   "cell_type": "code",
   "execution_count": 12,
   "id": "9162b537",
   "metadata": {},
   "outputs": [
    {
     "data": {
      "text/html": [
       "<div>\n",
       "<style scoped>\n",
       "    .dataframe tbody tr th:only-of-type {\n",
       "        vertical-align: middle;\n",
       "    }\n",
       "\n",
       "    .dataframe tbody tr th {\n",
       "        vertical-align: top;\n",
       "    }\n",
       "\n",
       "    .dataframe thead th {\n",
       "        text-align: right;\n",
       "    }\n",
       "</style>\n",
       "<table border=\"1\" class=\"dataframe\">\n",
       "  <thead>\n",
       "    <tr style=\"text-align: right;\">\n",
       "      <th></th>\n",
       "      <th>ahvr</th>\n",
       "      <th>medal_Platinum_count</th>\n",
       "      <th>medal_same_count</th>\n",
       "      <th>medal_number</th>\n",
       "      <th>medal_same_count_avg</th>\n",
       "      <th>medal_same_count_bigger_than_average</th>\n",
       "      <th>medal_Platinum_count_avg</th>\n",
       "      <th>medal_Platinum_count_bigger_than_average</th>\n",
       "    </tr>\n",
       "  </thead>\n",
       "  <tbody>\n",
       "    <tr>\n",
       "      <th>3689</th>\n",
       "      <td>0.22</td>\n",
       "      <td>1</td>\n",
       "      <td>1</td>\n",
       "      <td>0.00</td>\n",
       "      <td>1.84</td>\n",
       "      <td>0</td>\n",
       "      <td>1.84</td>\n",
       "      <td>0</td>\n",
       "    </tr>\n",
       "    <tr>\n",
       "      <th>3690</th>\n",
       "      <td>0.34</td>\n",
       "      <td>2</td>\n",
       "      <td>2</td>\n",
       "      <td>0.00</td>\n",
       "      <td>1.84</td>\n",
       "      <td>1</td>\n",
       "      <td>1.84</td>\n",
       "      <td>1</td>\n",
       "    </tr>\n",
       "    <tr>\n",
       "      <th>3691</th>\n",
       "      <td>0.19</td>\n",
       "      <td>1</td>\n",
       "      <td>1</td>\n",
       "      <td>0.00</td>\n",
       "      <td>1.84</td>\n",
       "      <td>0</td>\n",
       "      <td>1.84</td>\n",
       "      <td>0</td>\n",
       "    </tr>\n",
       "    <tr>\n",
       "      <th>3692</th>\n",
       "      <td>0.39</td>\n",
       "      <td>1</td>\n",
       "      <td>1</td>\n",
       "      <td>0.00</td>\n",
       "      <td>1.84</td>\n",
       "      <td>0</td>\n",
       "      <td>1.84</td>\n",
       "      <td>0</td>\n",
       "    </tr>\n",
       "    <tr>\n",
       "      <th>3693</th>\n",
       "      <td>0.31</td>\n",
       "      <td>3</td>\n",
       "      <td>3</td>\n",
       "      <td>0.00</td>\n",
       "      <td>1.84</td>\n",
       "      <td>1</td>\n",
       "      <td>1.84</td>\n",
       "      <td>1</td>\n",
       "    </tr>\n",
       "  </tbody>\n",
       "</table>\n",
       "</div>"
      ],
      "text/plain": [
       "      ahvr  medal_Platinum_count  medal_same_count  medal_number  \\\n",
       "3689  0.22                     1                 1          0.00   \n",
       "3690  0.34                     2                 2          0.00   \n",
       "3691  0.19                     1                 1          0.00   \n",
       "3692  0.39                     1                 1          0.00   \n",
       "3693  0.31                     3                 3          0.00   \n",
       "\n",
       "      medal_same_count_avg  medal_same_count_bigger_than_average  \\\n",
       "3689                  1.84                                     0   \n",
       "3690                  1.84                                     1   \n",
       "3691                  1.84                                     0   \n",
       "3692                  1.84                                     0   \n",
       "3693                  1.84                                     1   \n",
       "\n",
       "      medal_Platinum_count_avg  medal_Platinum_count_bigger_than_average  \n",
       "3689                      1.84                                         0  \n",
       "3690                      1.84                                         1  \n",
       "3691                      1.84                                         0  \n",
       "3692                      1.84                                         0  \n",
       "3693                      1.84                                         1  "
      ]
     },
     "execution_count": 12,
     "metadata": {},
     "output_type": "execute_result"
    }
   ],
   "source": [
    "df.tail()"
   ]
  },
  {
   "cell_type": "code",
   "execution_count": 13,
   "id": "936eaef2",
   "metadata": {},
   "outputs": [
    {
     "data": {
      "image/png": "[encoded data removed]",
      "text/plain": [
       "<Figure size 1080x720 with 1 Axes>"
      ]
     },
     "metadata": {},
     "output_type": "display_data"
    }
   ],
   "source": [
    "# Get skeleton graph\n",
    "# initialize graph lasso\n",
    "glasso = cdt.independence.graph.Glasso()\n",
    "# apply graph lasso to data\n",
    "skeleton = glasso.predict(df)\n",
    "# visualize network\n",
    "fig = plt.figure(figsize=(15,10))\n",
    "nx.draw_networkx(skeleton, font_size=18, font_color='r')"
   ]
  },
  {
   "cell_type": "code",
   "execution_count": 14,
   "id": "7b51bee3",
   "metadata": {},
   "outputs": [],
   "source": [
    "# # Use causal discovery to get causal models\n",
    "# # PC algorithm\n",
    "# model_pc = cdt.causality.graph.PC()\n",
    "# graph_pc = model_pc.predict(df, skeleton)\n",
    "\n",
    "# # visualize network\n",
    "# fig=plt.figure(figsize=(15,10))\n",
    "# nx.draw_networkx(graph_pc, font_size=18, font_color='r')"
   ]
  },
  {
   "cell_type": "code",
   "execution_count": 15,
   "id": "2024cb41",
   "metadata": {},
   "outputs": [
    {
     "name": "stdout",
     "output_type": "stream",
     "text": [
      "Collecting econml\n",
      "  Downloading econml-0.14.1.tar.gz (1.4 MB)\n",
      "     |████████████████████████████████| 1.4 MB 20.7 MB/s            \n",
      "\u001b[?25h  Installing build dependencies ... \u001b[?25ldone\n",
      "\u001b[?25h  Getting requirements to build wheel ... \u001b[?25ldone\n",
      "\u001b[?25h  Preparing metadata (pyproject.toml) ... \u001b[?25ldone\n",
      "\u001b[?25hRequirement already satisfied: pandas in /home/ec2-user/anaconda3/envs/python3/lib/python3.6/site-packages (from econml) (1.1.5)\n",
      "Requirement already satisfied: joblib>=0.13.0 in /home/ec2-user/anaconda3/envs/python3/lib/python3.6/site-packages (from econml) (1.0.1)\n",
      "Requirement already satisfied: scipy>1.4.0 in /home/ec2-user/anaconda3/envs/python3/lib/python3.6/site-packages (from econml) (1.5.3)\n",
      "Collecting sparse\n",
      "  Downloading sparse-0.13.0-py2.py3-none-any.whl (77 kB)\n",
      "     |████████████████████████████████| 77 kB 6.8 MB/s             \n",
      "\u001b[?25hRequirement already satisfied: numpy in /home/ec2-user/anaconda3/envs/python3/lib/python3.6/site-packages (from econml) (1.19.5)\n",
      "Collecting lightgbm\n",
      "  Downloading lightgbm-4.2.0.tar.gz (1.7 MB)\n",
      "     |████████████████████████████████| 1.7 MB 76.0 MB/s            \n",
      "\u001b[?25h  Installing build dependencies ... \u001b[?25lerror\n",
      "\u001b[31m  ERROR: Command errored out with exit status 1:\n",
      "   command: /home/ec2-user/anaconda3/envs/python3/bin/python /home/ec2-user/anaconda3/envs/python3/lib/python3.6/site-packages/pip install --ignore-installed --no-user --prefix /tmp/pip-build-env-tn0hzivm/overlay --no-warn-script-location --no-binary :none: --only-binary :none: -i https://pypi.org/simple -- 'scikit-build-core>=0.4.4'\n",
      "       cwd: None\n",
      "  Complete output (2 lines):\n",
      "  ERROR: Could not find a version that satisfies the requirement scikit-build-core>=0.4.4 (from versions: none)\n",
      "  ERROR: No matching distribution found for scikit-build-core>=0.4.4\n",
      "  ----------------------------------------\u001b[0m\n",
      "\u001b[33mWARNING: Discarding https://files.pythonhosted.org/packages/92/3d/209b257b7bcfaa39d54b9ab22db5097ff110c6a2f2399d5244c76c43aba2/lightgbm-4.2.0.tar.gz#sha256=8a4d051df2ab2218998a16f7712e843ee9e96d8b09ffbfcc18533da127e0da02 (from https://pypi.org/simple/lightgbm/) (requires-python:>=3.6). Command errored out with exit status 1: /home/ec2-user/anaconda3/envs/python3/bin/python /home/ec2-user/anaconda3/envs/python3/lib/python3.6/site-packages/pip install --ignore-installed --no-user --prefix /tmp/pip-build-env-tn0hzivm/overlay --no-warn-script-location --no-binary :none: --only-binary :none: -i https://pypi.org/simple -- 'scikit-build-core>=0.4.4' Check the logs for full command output.\u001b[0m\n",
      "\u001b[?25h  Downloading lightgbm-4.1.0.tar.gz (1.7 MB)\n",
      "     |████████████████████████████████| 1.7 MB 78.2 MB/s            \n",
      "\u001b[?25h  Installing build dependencies ... \u001b[?25lerror\n",
      "\u001b[31m  ERROR: Command errored out with exit status 1:\n",
      "   command: /home/ec2-user/anaconda3/envs/python3/bin/python /home/ec2-user/anaconda3/envs/python3/lib/python3.6/site-packages/pip install --ignore-installed --no-user --prefix /tmp/pip-build-env-vm03927b/overlay --no-warn-script-location --no-binary :none: --only-binary :none: -i https://pypi.org/simple -- 'scikit-build-core>=0.4.4'\n",
      "       cwd: None\n",
      "  Complete output (2 lines):\n",
      "  ERROR: Could not find a version that satisfies the requirement scikit-build-core>=0.4.4 (from versions: none)\n",
      "  ERROR: No matching distribution found for scikit-build-core>=0.4.4\n",
      "  ----------------------------------------\u001b[0m\n",
      "\u001b[33mWARNING: Discarding https://files.pythonhosted.org/packages/98/a9/01f50aee85949ba713733b69a3f0b42d39719a414a0e29bdf2a9f05ecc53/lightgbm-4.1.0.tar.gz#sha256=bee59dd269a93b093f2c610d4a6683a7ea87c63d3ea35c622123ce2c020b2abc (from https://pypi.org/simple/lightgbm/) (requires-python:>=3.6). Command errored out with exit status 1: /home/ec2-user/anaconda3/envs/python3/bin/python /home/ec2-user/anaconda3/envs/python3/lib/python3.6/site-packages/pip install --ignore-installed --no-user --prefix /tmp/pip-build-env-vm03927b/overlay --no-warn-script-location --no-binary :none: --only-binary :none: -i https://pypi.org/simple -- 'scikit-build-core>=0.4.4' Check the logs for full command output.\u001b[0m\n",
      "\u001b[?25h  Downloading lightgbm-4.0.0.tar.gz (1.7 MB)\n",
      "     |████████████████████████████████| 1.7 MB 67.0 MB/s            \n",
      "\u001b[?25h  Installing build dependencies ... \u001b[?25lerror\n",
      "\u001b[31m  ERROR: Command errored out with exit status 1:\n",
      "   command: /home/ec2-user/anaconda3/envs/python3/bin/python /home/ec2-user/anaconda3/envs/python3/lib/python3.6/site-packages/pip install --ignore-installed --no-user --prefix /tmp/pip-build-env-7dupsmav/overlay --no-warn-script-location --no-binary :none: --only-binary :none: -i https://pypi.org/simple -- 'scikit-build-core>=0.4.4'\n",
      "       cwd: None\n",
      "  Complete output (2 lines):\n",
      "  ERROR: Could not find a version that satisfies the requirement scikit-build-core>=0.4.4 (from versions: none)\n",
      "  ERROR: No matching distribution found for scikit-build-core>=0.4.4\n",
      "  ----------------------------------------\u001b[0m\n",
      "\u001b[33mWARNING: Discarding https://files.pythonhosted.org/packages/d8/61/4165b1caf07d661c4f0241534bbc18748e49e1ddb849fd9908c36c1d622c/lightgbm-4.0.0.tar.gz#sha256=03d1b3903aa51cd9a5e3965941236f2a7bf5a69d7a76059dbf68fd9b4fc92d8f (from https://pypi.org/simple/lightgbm/) (requires-python:>=3.6). Command errored out with exit status 1: /home/ec2-user/anaconda3/envs/python3/bin/python /home/ec2-user/anaconda3/envs/python3/lib/python3.6/site-packages/pip install --ignore-installed --no-user --prefix /tmp/pip-build-env-7dupsmav/overlay --no-warn-script-location --no-binary :none: --only-binary :none: -i https://pypi.org/simple -- 'scikit-build-core>=0.4.4' Check the logs for full command output.\u001b[0m\n",
      "\u001b[?25h  Downloading lightgbm-3.3.5-py3-none-manylinux1_x86_64.whl (2.0 MB)\n",
      "     |████████████████████████████████| 2.0 MB 69.1 MB/s            \n",
      "\u001b[?25hRequirement already satisfied: scikit-learn<1.3,>0.22.0 in /home/ec2-user/anaconda3/envs/python3/lib/python3.6/site-packages (from econml) (0.24.1)\n",
      "Requirement already satisfied: shap<0.42.0,>=0.38.1 in /home/ec2-user/anaconda3/envs/python3/lib/python3.6/site-packages (from econml) (0.40.0)\n",
      "Requirement already satisfied: statsmodels>=0.10 in /home/ec2-user/anaconda3/envs/python3/lib/python3.6/site-packages (from econml) (0.12.2)\n",
      "Requirement already satisfied: threadpoolctl>=2.0.0 in /home/ec2-user/anaconda3/envs/python3/lib/python3.6/site-packages (from scikit-learn<1.3,>0.22.0->econml) (2.1.0)\n",
      "Requirement already satisfied: tqdm>4.25.0 in /home/ec2-user/anaconda3/envs/python3/lib/python3.6/site-packages (from shap<0.42.0,>=0.38.1->econml) (4.62.3)\n",
      "Requirement already satisfied: cloudpickle in /home/ec2-user/anaconda3/envs/python3/lib/python3.6/site-packages (from shap<0.42.0,>=0.38.1->econml) (1.6.0)\n",
      "Requirement already satisfied: slicer==0.0.7 in /home/ec2-user/anaconda3/envs/python3/lib/python3.6/site-packages (from shap<0.42.0,>=0.38.1->econml) (0.0.7)\n",
      "Requirement already satisfied: packaging>20.9 in /home/ec2-user/anaconda3/envs/python3/lib/python3.6/site-packages (from shap<0.42.0,>=0.38.1->econml) (21.3)\n",
      "Requirement already satisfied: numba in /home/ec2-user/anaconda3/envs/python3/lib/python3.6/site-packages (from shap<0.42.0,>=0.38.1->econml) (0.52.0)\n",
      "Requirement already satisfied: patsy>=0.5 in /home/ec2-user/anaconda3/envs/python3/lib/python3.6/site-packages (from statsmodels>=0.10->econml) (0.5.1)\n",
      "Requirement already satisfied: python-dateutil>=2.7.3 in /home/ec2-user/anaconda3/envs/python3/lib/python3.6/site-packages (from pandas->econml) (2.8.1)\n",
      "Requirement already satisfied: pytz>=2017.2 in /home/ec2-user/anaconda3/envs/python3/lib/python3.6/site-packages (from pandas->econml) (2021.1)\n",
      "Requirement already satisfied: wheel in /home/ec2-user/anaconda3/envs/python3/lib/python3.6/site-packages (from lightgbm->econml) (0.36.2)\n",
      "Requirement already satisfied: llvmlite<0.36,>=0.35.0 in /home/ec2-user/anaconda3/envs/python3/lib/python3.6/site-packages (from numba->shap<0.42.0,>=0.38.1->econml) (0.35.0)\n",
      "Requirement already satisfied: setuptools in /home/ec2-user/anaconda3/envs/python3/lib/python3.6/site-packages (from numba->shap<0.42.0,>=0.38.1->econml) (49.6.0.post20210108)\n",
      "Requirement already satisfied: pyparsing!=3.0.5,>=2.0.2 in /home/ec2-user/anaconda3/envs/python3/lib/python3.6/site-packages (from packaging>20.9->shap<0.42.0,>=0.38.1->econml) (2.4.7)\n",
      "Requirement already satisfied: six in /home/ec2-user/anaconda3/envs/python3/lib/python3.6/site-packages (from patsy>=0.5->statsmodels>=0.10->econml) (1.15.0)\n",
      "Building wheels for collected packages: econml\n",
      "  Building wheel for econml (pyproject.toml) ... \u001b[?25ldone\n",
      "\u001b[?25h  Created wheel for econml: filename=econml-0.14.1-cp36-cp36m-linux_x86_64.whl size=2728557 sha256=1527e16bf394440eb3476f3eaf91c4ab503ac184c175643d22ff228794d35ef7\n",
      "  Stored in directory: /home/ec2-user/.cache/pip/wheels/48/8d/9b/67e057f900614b56451f141ce59879923f2f3bf9c9fff7ee89\n",
      "Successfully built econml\n",
      "Installing collected packages: sparse, lightgbm, econml\n",
      "Successfully installed econml-0.14.1 lightgbm-3.3.5 sparse-0.13.0\n",
      "Collecting dowhy\n",
      "  Downloading dowhy-0.8-py3-none-any.whl (287 kB)\n",
      "     |████████████████████████████████| 287 kB 25.1 MB/s            \n",
      "\u001b[?25hRequirement already satisfied: networkx>=2.0 in /home/ec2-user/anaconda3/envs/python3/lib/python3.6/site-packages (from dowhy) (2.5)\n",
      "Requirement already satisfied: pandas>=0.24 in /home/ec2-user/anaconda3/envs/python3/lib/python3.6/site-packages (from dowhy) (1.1.5)\n",
      "Requirement already satisfied: scikit-learn in /home/ec2-user/anaconda3/envs/python3/lib/python3.6/site-packages (from dowhy) (0.24.1)\n",
      "Requirement already satisfied: numpy>=1.15 in /home/ec2-user/anaconda3/envs/python3/lib/python3.6/site-packages (from dowhy) (1.19.5)\n",
      "Requirement already satisfied: sympy>=1.4 in /home/ec2-user/anaconda3/envs/python3/lib/python3.6/site-packages (from dowhy) (1.7.1)\n",
      "Requirement already satisfied: scipy in /home/ec2-user/anaconda3/envs/python3/lib/python3.6/site-packages (from dowhy) (1.5.3)\n",
      "Requirement already satisfied: statsmodels in /home/ec2-user/anaconda3/envs/python3/lib/python3.6/site-packages (from dowhy) (0.12.2)\n",
      "Collecting pydot>=1.4\n",
      "  Downloading pydot-1.4.2-py2.py3-none-any.whl (21 kB)\n",
      "Requirement already satisfied: decorator>=4.3.0 in /home/ec2-user/anaconda3/envs/python3/lib/python3.6/site-packages (from networkx>=2.0->dowhy) (4.4.2)\n",
      "Requirement already satisfied: python-dateutil>=2.7.3 in /home/ec2-user/anaconda3/envs/python3/lib/python3.6/site-packages (from pandas>=0.24->dowhy) (2.8.1)\n",
      "Requirement already satisfied: pytz>=2017.2 in /home/ec2-user/anaconda3/envs/python3/lib/python3.6/site-packages (from pandas>=0.24->dowhy) (2021.1)\n",
      "Requirement already satisfied: pyparsing>=2.1.4 in /home/ec2-user/anaconda3/envs/python3/lib/python3.6/site-packages (from pydot>=1.4->dowhy) (2.4.7)\n",
      "Requirement already satisfied: mpmath>=0.19 in /home/ec2-user/anaconda3/envs/python3/lib/python3.6/site-packages (from sympy>=1.4->dowhy) (1.2.1)\n",
      "Requirement already satisfied: joblib>=0.11 in /home/ec2-user/anaconda3/envs/python3/lib/python3.6/site-packages (from scikit-learn->dowhy) (1.0.1)\n",
      "Requirement already satisfied: threadpoolctl>=2.0.0 in /home/ec2-user/anaconda3/envs/python3/lib/python3.6/site-packages (from scikit-learn->dowhy) (2.1.0)\n",
      "Requirement already satisfied: patsy>=0.5 in /home/ec2-user/anaconda3/envs/python3/lib/python3.6/site-packages (from statsmodels->dowhy) (0.5.1)\n",
      "Requirement already satisfied: six in /home/ec2-user/anaconda3/envs/python3/lib/python3.6/site-packages (from patsy>=0.5->statsmodels->dowhy) (1.15.0)\n",
      "Installing collected packages: pydot, dowhy\n",
      "Successfully installed dowhy-0.8 pydot-1.4.2\n"
     ]
    }
   ],
   "source": [
    "!pip install econml\n",
    "!pip install dowhy"
   ]
  },
  {
   "cell_type": "code",
   "execution_count": 16,
   "id": "f963bfe8",
   "metadata": {},
   "outputs": [],
   "source": [
    "import econml\n",
    "import dowhy\n",
    "from dowhy import CausalModel"
   ]
  },
  {
   "cell_type": "code",
   "execution_count": 17,
   "id": "4c1aab29",
   "metadata": {},
   "outputs": [
    {
     "data": {
      "text/plain": [
       "Index(['ahvr', 'medal_Platinum_count', 'medal_same_count', 'medal_number',\n",
       "       'medal_same_count_avg', 'medal_same_count_bigger_than_average',\n",
       "       'medal_Platinum_count_avg', 'medal_Platinum_count_bigger_than_average'],\n",
       "      dtype='object')"
      ]
     },
     "execution_count": 17,
     "metadata": {},
     "output_type": "execute_result"
    }
   ],
   "source": [
    "df.columns"
   ]
  },
  {
   "cell_type": "code",
   "execution_count": 18,
   "id": "c63527d4",
   "metadata": {},
   "outputs": [],
   "source": [
    "G = nx.DiGraph()\n",
    "G.add_nodes_from(['ahvr', 'medal_Platinum_count', 'medal_same_count', 'medal_number'])\n",
    "G.add_edges_from([\n",
    "                  (\"medal_number\", \"ahvr\"), \n",
    "                  (\"medal_number\", \"medal_same_count\"), \n",
    "                  (\"medal_number\", \"medal_Platinum_count\"), \n",
    "                  (\"medal_same_count\", \"medal_same_count_bigger_than_average\"), \n",
    "                  (\"medal_Platinum_count\", \"medal_Platinum_count_bigger_than_average\"), \n",
    "                  (\"medal_same_count_bigger_than_average\", \"ahvr\"), \n",
    "                  (\"medal_Platinum_count_bigger_than_average\", \"ahvr\")\n",
    "                ])\n",
    "# G.add_edges_from([\n",
    "#                   (\"medal_number\", \"ahvr\"), \n",
    "# #                   (\"medal_number\", \"medal_same_count\"), \n",
    "# #                   (\"medal_number\", \"medal_Platinum_count\"), \n",
    "# #                   (\"medal_same_count\", \"medal_same_count_bigger_than_average\"), \n",
    "# #                   (\"medal_Platinum_count\", \"medal_Platinum_count_bigger_than_average\"), \n",
    "#                   (\"medal_same_count_bigger_than_average\", \"ahvr\"), \n",
    "#                   (\"medal_Platinum_count_bigger_than_average\", \"ahvr\")\n",
    "#                 ])"
   ]
  },
  {
   "cell_type": "code",
   "execution_count": 19,
   "id": "420d9628",
   "metadata": {},
   "outputs": [],
   "source": [
    "graph = nx.generate_gml(G)\n",
    "graph = ''.join(graph)"
   ]
  },
  {
   "cell_type": "code",
   "execution_count": 20,
   "id": "44eeaad9",
   "metadata": {},
   "outputs": [],
   "source": [
    "# With graph\n",
    "model=CausalModel(\n",
    "        data = df,\n",
    "        treatment=\"medal_Platinum_count_bigger_than_average\",\n",
    "        outcome=\"ahvr\",\n",
    "        graph = graph\n",
    "        )"
   ]
  },
  {
   "cell_type": "code",
   "execution_count": 21,
   "id": "f91f5c74",
   "metadata": {},
   "outputs": [
    {
     "data": {
      "image/png": "[encoded data removed]",
      "text/plain": [
       "<Figure size 576x432 with 1 Axes>"
      ]
     },
     "metadata": {},
     "output_type": "display_data"
    }
   ],
   "source": [
    "model.view_model() "
   ]
  },
  {
   "cell_type": "code",
   "execution_count": 22,
   "id": "d932d1a8",
   "metadata": {},
   "outputs": [
    {
     "name": "stdout",
     "output_type": "stream",
     "text": [
      "Estimand type: nonparametric-ate\n",
      "\n",
      "### Estimand : 1\n",
      "Estimand name: backdoor\n",
      "Estimand expression:\n",
      "                     d                                                     \n",
      "───────────────────────────────────────────(Expectation(ahvr|medal_number))\n",
      "d[medal_Platinum_count_bigger_than_average]                                \n",
      "Estimand assumption 1, Unconfoundedness: If U→{medal_Platinum_count_bigger_than_average} and U→ahvr then P(ahvr|medal_Platinum_count_bigger_than_average,medal_number,U) = P(ahvr|medal_Platinum_count_bigger_than_average,medal_number)\n",
      "\n",
      "### Estimand : 2\n",
      "Estimand name: iv\n",
      "No such variable(s) found!\n",
      "\n",
      "### Estimand : 3\n",
      "Estimand name: frontdoor\n",
      "No such variable(s) found!\n",
      "\n"
     ]
    }
   ],
   "source": [
    "# Generate estimand\n",
    "identified_estimand= model.identify_effect(proceed_when_unidentifiable=True)\n",
    "print(identified_estimand)"
   ]
  },
  {
   "cell_type": "code",
   "execution_count": 23,
   "id": "4b7337f7",
   "metadata": {},
   "outputs": [],
   "source": [
    "import warnings\n",
    "warnings.filterwarnings('ignore')"
   ]
  },
  {
   "cell_type": "code",
   "execution_count": 24,
   "id": "b7d532ad",
   "metadata": {},
   "outputs": [
    {
     "name": "stdout",
     "output_type": "stream",
     "text": [
      "*** Causal Estimate ***\n",
      "\n",
      "## Identified estimand\n",
      "Estimand type: nonparametric-ate\n",
      "\n",
      "### Estimand : 1\n",
      "Estimand name: backdoor\n",
      "Estimand expression:\n",
      "                     d                                                     \n",
      "───────────────────────────────────────────(Expectation(ahvr|medal_number))\n",
      "d[medal_Platinum_count_bigger_than_average]                                \n",
      "Estimand assumption 1, Unconfoundedness: If U→{medal_Platinum_count_bigger_than_average} and U→ahvr then P(ahvr|medal_Platinum_count_bigger_than_average,medal_number,U) = P(ahvr|medal_Platinum_count_bigger_than_average,medal_number)\n",
      "\n",
      "## Realized estimand\n",
      "b: ahvr~medal_Platinum_count_bigger_than_average+medal_same_count+medal_same_count_bigger_than_average+medal_number\n",
      "Target units: ate\n",
      "\n",
      "## Estimate\n",
      "Mean value: 0.003590854582938929\n",
      "Effect estimates: [ 0.00154044 -0.00032926 -0.00137404 ...  0.1578794   0.1578794\n",
      "  0.04347971]\n",
      "\n"
     ]
    }
   ],
   "source": [
    "# Compute causal effect using metalearner\n",
    "identified_estimand_experiment = model.identify_effect(proceed_when_unidentifiable=True)\n",
    "\n",
    "from sklearn.ensemble import RandomForestRegressor\n",
    "from sklearn.linear_model import TweedieRegressor\n",
    "\n",
    "metalearner_estimate = model.estimate_effect(identified_estimand_experiment,                             \n",
    "                                             method_name=\"backdoor.econml.metalearners.TLearner\",\n",
    "                                             confidence_intervals=False,\n",
    "                                             method_params={\n",
    "                                                         \"init_params\":{'models': RandomForestRegressor()},\n",
    "                                                         \"fit_params\":{}\n",
    "                                                                  })\n",
    "print(metalearner_estimate)"
   ]
  },
  {
   "cell_type": "code",
   "execution_count": 25,
   "id": "f5032f96",
   "metadata": {},
   "outputs": [
    {
     "data": {
      "text/plain": [
       "(array([2.200e+01, 5.130e+02, 3.089e+03, 1.000e+00, 3.400e+01, 7.000e+00,\n",
       "        0.000e+00, 7.000e+00, 0.000e+00, 2.100e+01]),\n",
       " array([-0.04501192, -0.02349891, -0.0019859 ,  0.01952712,  0.04104013,\n",
       "         0.06255314,  0.08406615,  0.10557917,  0.12709218,  0.14860519,\n",
       "         0.17011821]),\n",
       " <BarContainer object of 10 artists>)"
      ]
     },
     "execution_count": 25,
     "metadata": {},
     "output_type": "execute_result"
    },
    {
     "data": {
      "image/png": "[encoded data removed]",
      "text/plain": [
       "<Figure size 432x288 with 1 Axes>"
      ]
     },
     "metadata": {
      "needs_background": "light"
     },
     "output_type": "display_data"
    }
   ],
   "source": [
    "# Print histogram of causal effects\n",
    "plt.hist(metalearner_estimate.cate_estimates)"
   ]
  },
  {
   "cell_type": "markdown",
   "id": "3865be63",
   "metadata": {},
   "source": [
    "## By Tier"
   ]
  },
  {
   "cell_type": "markdown",
   "id": "e1c2f668",
   "metadata": {},
   "source": [
    "### Platinum"
   ]
  },
  {
   "cell_type": "code",
   "execution_count": 26,
   "id": "cdf98335",
   "metadata": {},
   "outputs": [],
   "source": [
    "# With graph\n",
    "model=CausalModel(\n",
    "        data = df[df['medal_number'] == 0],\n",
    "        treatment=\"medal_Platinum_count_bigger_than_average\",\n",
    "        outcome=\"ahvr\",\n",
    "        graph = graph\n",
    "        )"
   ]
  },
  {
   "cell_type": "code",
   "execution_count": 27,
   "id": "6e12530c",
   "metadata": {},
   "outputs": [
    {
     "name": "stdout",
     "output_type": "stream",
     "text": [
      "*** Causal Estimate ***\n",
      "\n",
      "## Identified estimand\n",
      "Estimand type: nonparametric-ate\n",
      "\n",
      "### Estimand : 1\n",
      "Estimand name: backdoor\n",
      "Estimand expression:\n",
      "                     d                                                     \n",
      "───────────────────────────────────────────(Expectation(ahvr|medal_number))\n",
      "d[medal_Platinum_count_bigger_than_average]                                \n",
      "Estimand assumption 1, Unconfoundedness: If U→{medal_Platinum_count_bigger_than_average} and U→ahvr then P(ahvr|medal_Platinum_count_bigger_than_average,medal_number,U) = P(ahvr|medal_Platinum_count_bigger_than_average,medal_number)\n",
      "\n",
      "## Realized estimand\n",
      "b: ahvr~medal_Platinum_count_bigger_than_average+medal_same_count+medal_same_count_bigger_than_average+medal_number\n",
      "Target units: ate\n",
      "\n",
      "## Estimate\n",
      "Mean value: 0.1314124035511143\n",
      "Effect estimates: [0.12784543 0.12784543 0.15014781 0.12784543 0.12784543 0.12784543\n",
      " 0.08322662 0.10553602 0.15014781 0.12784543 0.12784543 0.12784543\n",
      " 0.15014781 0.12784543 0.12784543 0.12784543 0.15014781 0.10553602\n",
      " 0.15014781 0.15014781 0.15014781 0.12784543 0.15014781 0.15014781\n",
      " 0.10553602]\n",
      "\n"
     ]
    }
   ],
   "source": [
    "identified_estimand_experiment = model.identify_effect(proceed_when_unidentifiable=True)\n",
    "\n",
    "metalearner_estimate = model.estimate_effect(identified_estimand_experiment,                             \n",
    "                                             method_name=\"backdoor.econml.metalearners.TLearner\",\n",
    "                                             confidence_intervals=False,\n",
    "                                             method_params={\n",
    "                                                         \"init_params\":{'models': TweedieRegressor()},\n",
    "                                                         \"fit_params\":{}\n",
    "                                                                  })\n",
    "print(metalearner_estimate)"
   ]
  },
  {
   "cell_type": "code",
   "execution_count": 28,
   "id": "c4aabe12",
   "metadata": {},
   "outputs": [
    {
     "data": {
      "text/plain": [
       "(array([ 1.,  0.,  0.,  3.,  0.,  0., 12.,  0.,  0.,  9.]),\n",
       " array([0.08322662, 0.08991874, 0.09661086, 0.10330298, 0.1099951 ,\n",
       "        0.11668721, 0.12337933, 0.13007145, 0.13676357, 0.14345569,\n",
       "        0.15014781]),\n",
       " <BarContainer object of 10 artists>)"
      ]
     },
     "execution_count": 28,
     "metadata": {},
     "output_type": "execute_result"
    },
    {
     "data": {
      "image/png": "[encoded data removed]",
      "text/plain": [
       "<Figure size 432x288 with 1 Axes>"
      ]
     },
     "metadata": {
      "needs_background": "light"
     },
     "output_type": "display_data"
    }
   ],
   "source": [
    "# Print histogram of causal effects\n",
    "plt.hist(metalearner_estimate.cate_estimates)"
   ]
  },
  {
   "cell_type": "markdown",
   "id": "1de4b380",
   "metadata": {},
   "source": [
    "### Gold"
   ]
  },
  {
   "cell_type": "code",
   "execution_count": 37,
   "id": "f2fadb8b",
   "metadata": {},
   "outputs": [],
   "source": [
    "df_gold = df[df['medal_number'] == 1]\n",
    "# df_gold['medal_same_count_avg'] = 3 # 2.78\n",
    "df_gold['medal_Platinum_count_bigger_than_average'] = 0\n",
    "df_gold.loc[df_gold['medal_Platinum_count'] > df_gold['medal_Platinum_count_avg'], 'medal_Platinum_count_bigger_than_average'] = 1"
   ]
  },
  {
   "cell_type": "code",
   "execution_count": 38,
   "id": "cdb4b557",
   "metadata": {},
   "outputs": [
    {
     "data": {
      "text/html": [
       "<div>\n",
       "<style scoped>\n",
       "    .dataframe tbody tr th:only-of-type {\n",
       "        vertical-align: middle;\n",
       "    }\n",
       "\n",
       "    .dataframe tbody tr th {\n",
       "        vertical-align: top;\n",
       "    }\n",
       "\n",
       "    .dataframe thead th {\n",
       "        text-align: right;\n",
       "    }\n",
       "</style>\n",
       "<table border=\"1\" class=\"dataframe\">\n",
       "  <thead>\n",
       "    <tr style=\"text-align: right;\">\n",
       "      <th></th>\n",
       "      <th>ahvr</th>\n",
       "      <th>medal_Platinum_count</th>\n",
       "      <th>medal_same_count</th>\n",
       "      <th>medal_number</th>\n",
       "      <th>medal_same_count_avg</th>\n",
       "      <th>medal_same_count_bigger_than_average</th>\n",
       "      <th>medal_Platinum_count_avg</th>\n",
       "      <th>medal_Platinum_count_bigger_than_average</th>\n",
       "    </tr>\n",
       "  </thead>\n",
       "  <tbody>\n",
       "    <tr>\n",
       "      <th>3564</th>\n",
       "      <td>0.04</td>\n",
       "      <td>1</td>\n",
       "      <td>3</td>\n",
       "      <td>1.00</td>\n",
       "      <td>2.78</td>\n",
       "      <td>1</td>\n",
       "      <td>0.84</td>\n",
       "      <td>1</td>\n",
       "    </tr>\n",
       "    <tr>\n",
       "      <th>3565</th>\n",
       "      <td>0.05</td>\n",
       "      <td>0</td>\n",
       "      <td>2</td>\n",
       "      <td>1.00</td>\n",
       "      <td>2.78</td>\n",
       "      <td>0</td>\n",
       "      <td>0.84</td>\n",
       "      <td>0</td>\n",
       "    </tr>\n",
       "    <tr>\n",
       "      <th>3566</th>\n",
       "      <td>0.01</td>\n",
       "      <td>1</td>\n",
       "      <td>1</td>\n",
       "      <td>1.00</td>\n",
       "      <td>2.78</td>\n",
       "      <td>0</td>\n",
       "      <td>0.84</td>\n",
       "      <td>1</td>\n",
       "    </tr>\n",
       "    <tr>\n",
       "      <th>3567</th>\n",
       "      <td>0.08</td>\n",
       "      <td>1</td>\n",
       "      <td>3</td>\n",
       "      <td>1.00</td>\n",
       "      <td>2.78</td>\n",
       "      <td>1</td>\n",
       "      <td>0.84</td>\n",
       "      <td>1</td>\n",
       "    </tr>\n",
       "    <tr>\n",
       "      <th>3568</th>\n",
       "      <td>0.06</td>\n",
       "      <td>0</td>\n",
       "      <td>3</td>\n",
       "      <td>1.00</td>\n",
       "      <td>2.78</td>\n",
       "      <td>1</td>\n",
       "      <td>0.84</td>\n",
       "      <td>0</td>\n",
       "    </tr>\n",
       "  </tbody>\n",
       "</table>\n",
       "</div>"
      ],
      "text/plain": [
       "      ahvr  medal_Platinum_count  medal_same_count  medal_number  \\\n",
       "3564  0.04                     1                 3          1.00   \n",
       "3565  0.05                     0                 2          1.00   \n",
       "3566  0.01                     1                 1          1.00   \n",
       "3567  0.08                     1                 3          1.00   \n",
       "3568  0.06                     0                 3          1.00   \n",
       "\n",
       "      medal_same_count_avg  medal_same_count_bigger_than_average  \\\n",
       "3564                  2.78                                     1   \n",
       "3565                  2.78                                     0   \n",
       "3566                  2.78                                     0   \n",
       "3567                  2.78                                     1   \n",
       "3568                  2.78                                     1   \n",
       "\n",
       "      medal_Platinum_count_avg  medal_Platinum_count_bigger_than_average  \n",
       "3564                      0.84                                         1  \n",
       "3565                      0.84                                         0  \n",
       "3566                      0.84                                         1  \n",
       "3567                      0.84                                         1  \n",
       "3568                      0.84                                         0  "
      ]
     },
     "execution_count": 38,
     "metadata": {},
     "output_type": "execute_result"
    }
   ],
   "source": [
    "df_gold.head()"
   ]
  },
  {
   "cell_type": "code",
   "execution_count": 39,
   "id": "6995bf74",
   "metadata": {},
   "outputs": [],
   "source": [
    "# With graph\n",
    "model=CausalModel(\n",
    "        data = df_gold,\n",
    "        treatment=\"medal_Platinum_count_bigger_than_average\",\n",
    "        outcome=\"ahvr\",\n",
    "        graph = graph\n",
    "        )"
   ]
  },
  {
   "cell_type": "code",
   "execution_count": 40,
   "id": "d9d5e066",
   "metadata": {},
   "outputs": [
    {
     "name": "stdout",
     "output_type": "stream",
     "text": [
      "*** Causal Estimate ***\n",
      "\n",
      "## Identified estimand\n",
      "Estimand type: nonparametric-ate\n",
      "\n",
      "### Estimand : 1\n",
      "Estimand name: backdoor\n",
      "Estimand expression:\n",
      "                     d                                                     \n",
      "───────────────────────────────────────────(Expectation(ahvr|medal_number))\n",
      "d[medal_Platinum_count_bigger_than_average]                                \n",
      "Estimand assumption 1, Unconfoundedness: If U→{medal_Platinum_count_bigger_than_average} and U→ahvr then P(ahvr|medal_Platinum_count_bigger_than_average,medal_number,U) = P(ahvr|medal_Platinum_count_bigger_than_average,medal_number)\n",
      "\n",
      "## Realized estimand\n",
      "b: ahvr~medal_Platinum_count_bigger_than_average+medal_same_count+medal_same_count_bigger_than_average+medal_number\n",
      "Target units: ate\n",
      "\n",
      "## Estimate\n",
      "Mean value: -0.01584779420263739\n",
      "Effect estimates: [-0.04463599  0.01293665 -0.00337205 -0.04463599 -0.04463599 -0.00337205\n",
      "  0.01293665 -0.02153818  0.01293665 -0.00337205 -0.00337205 -0.02153818\n",
      " -0.04463599  0.00657615  0.01293665 -0.00337205 -0.00337205  0.01293665\n",
      " -0.04463599 -0.04463599 -0.02153818 -0.04463599 -0.04463599  0.01293665\n",
      " -0.04463599 -0.02153818 -0.04463599  0.00657615 -0.02153818  0.01293665\n",
      "  0.00657615 -0.04463599 -0.02153818  0.00657615 -0.02153818 -0.04463599\n",
      " -0.02153818 -0.00337205 -0.04463599  0.01293665 -0.04463599 -0.00337205\n",
      "  0.01293665  0.01293665 -0.04463599]\n",
      "\n"
     ]
    }
   ],
   "source": [
    "identified_estimand_experiment = model.identify_effect(proceed_when_unidentifiable=True)\n",
    "\n",
    "metalearner_estimate = model.estimate_effect(identified_estimand_experiment,                             \n",
    "                                             method_name=\"backdoor.econml.metalearners.TLearner\",\n",
    "                                             confidence_intervals=False,\n",
    "                                             method_params={\n",
    "                                                         \"init_params\":{'models': RandomForestRegressor()},\n",
    "                                                         \"fit_params\":{}\n",
    "                                                                  })\n",
    "print(metalearner_estimate)"
   ]
  },
  {
   "cell_type": "markdown",
   "id": "6ff1bfa3",
   "metadata": {},
   "source": [
    "### Silver"
   ]
  },
  {
   "cell_type": "code",
   "execution_count": 43,
   "id": "35ad91d2",
   "metadata": {},
   "outputs": [],
   "source": [
    "# With graph\n",
    "model=CausalModel(\n",
    "        data = df[df['medal_number'] == 2],\n",
    "        treatment=\"medal_Platinum_count_bigger_than_average\",\n",
    "        outcome=\"ahvr\",\n",
    "        graph = graph\n",
    "        )"
   ]
  },
  {
   "cell_type": "code",
   "execution_count": 45,
   "id": "a60b995c",
   "metadata": {},
   "outputs": [
    {
     "data": {
      "text/html": [
       "<div>\n",
       "<style scoped>\n",
       "    .dataframe tbody tr th:only-of-type {\n",
       "        vertical-align: middle;\n",
       "    }\n",
       "\n",
       "    .dataframe tbody tr th {\n",
       "        vertical-align: top;\n",
       "    }\n",
       "\n",
       "    .dataframe thead th {\n",
       "        text-align: right;\n",
       "    }\n",
       "</style>\n",
       "<table border=\"1\" class=\"dataframe\">\n",
       "  <thead>\n",
       "    <tr style=\"text-align: right;\">\n",
       "      <th></th>\n",
       "      <th>ahvr</th>\n",
       "      <th>medal_Platinum_count</th>\n",
       "      <th>medal_same_count</th>\n",
       "      <th>medal_number</th>\n",
       "      <th>medal_same_count_avg</th>\n",
       "      <th>medal_same_count_bigger_than_average</th>\n",
       "      <th>medal_Platinum_count_avg</th>\n",
       "      <th>medal_Platinum_count_bigger_than_average</th>\n",
       "    </tr>\n",
       "  </thead>\n",
       "  <tbody>\n",
       "    <tr>\n",
       "      <th>3609</th>\n",
       "      <td>0.04</td>\n",
       "      <td>1</td>\n",
       "      <td>1</td>\n",
       "      <td>2.00</td>\n",
       "      <td>3.75</td>\n",
       "      <td>0</td>\n",
       "      <td>0.98</td>\n",
       "      <td>1</td>\n",
       "    </tr>\n",
       "    <tr>\n",
       "      <th>3610</th>\n",
       "      <td>0.01</td>\n",
       "      <td>0</td>\n",
       "      <td>7</td>\n",
       "      <td>2.00</td>\n",
       "      <td>3.75</td>\n",
       "      <td>1</td>\n",
       "      <td>0.98</td>\n",
       "      <td>0</td>\n",
       "    </tr>\n",
       "    <tr>\n",
       "      <th>3611</th>\n",
       "      <td>0.00</td>\n",
       "      <td>1</td>\n",
       "      <td>4</td>\n",
       "      <td>2.00</td>\n",
       "      <td>3.75</td>\n",
       "      <td>1</td>\n",
       "      <td>0.98</td>\n",
       "      <td>1</td>\n",
       "    </tr>\n",
       "    <tr>\n",
       "      <th>3612</th>\n",
       "      <td>0.05</td>\n",
       "      <td>0</td>\n",
       "      <td>5</td>\n",
       "      <td>2.00</td>\n",
       "      <td>3.75</td>\n",
       "      <td>1</td>\n",
       "      <td>0.98</td>\n",
       "      <td>0</td>\n",
       "    </tr>\n",
       "    <tr>\n",
       "      <th>3613</th>\n",
       "      <td>0.04</td>\n",
       "      <td>1</td>\n",
       "      <td>6</td>\n",
       "      <td>2.00</td>\n",
       "      <td>3.75</td>\n",
       "      <td>1</td>\n",
       "      <td>0.98</td>\n",
       "      <td>1</td>\n",
       "    </tr>\n",
       "  </tbody>\n",
       "</table>\n",
       "</div>"
      ],
      "text/plain": [
       "      ahvr  medal_Platinum_count  medal_same_count  medal_number  \\\n",
       "3609  0.04                     1                 1          2.00   \n",
       "3610  0.01                     0                 7          2.00   \n",
       "3611  0.00                     1                 4          2.00   \n",
       "3612  0.05                     0                 5          2.00   \n",
       "3613  0.04                     1                 6          2.00   \n",
       "\n",
       "      medal_same_count_avg  medal_same_count_bigger_than_average  \\\n",
       "3609                  3.75                                     0   \n",
       "3610                  3.75                                     1   \n",
       "3611                  3.75                                     1   \n",
       "3612                  3.75                                     1   \n",
       "3613                  3.75                                     1   \n",
       "\n",
       "      medal_Platinum_count_avg  medal_Platinum_count_bigger_than_average  \n",
       "3609                      0.98                                         1  \n",
       "3610                      0.98                                         0  \n",
       "3611                      0.98                                         1  \n",
       "3612                      0.98                                         0  \n",
       "3613                      0.98                                         1  "
      ]
     },
     "execution_count": 45,
     "metadata": {},
     "output_type": "execute_result"
    }
   ],
   "source": [
    "df[df['medal_number'] == 2].head()"
   ]
  },
  {
   "cell_type": "code",
   "execution_count": 44,
   "id": "b3d60166",
   "metadata": {},
   "outputs": [
    {
     "name": "stdout",
     "output_type": "stream",
     "text": [
      "*** Causal Estimate ***\n",
      "\n",
      "## Identified estimand\n",
      "Estimand type: nonparametric-ate\n",
      "\n",
      "### Estimand : 1\n",
      "Estimand name: backdoor\n",
      "Estimand expression:\n",
      "                     d                                                     \n",
      "───────────────────────────────────────────(Expectation(ahvr|medal_number))\n",
      "d[medal_Platinum_count_bigger_than_average]                                \n",
      "Estimand assumption 1, Unconfoundedness: If U→{medal_Platinum_count_bigger_than_average} and U→ahvr then P(ahvr|medal_Platinum_count_bigger_than_average,medal_number,U) = P(ahvr|medal_Platinum_count_bigger_than_average,medal_number)\n",
      "\n",
      "## Realized estimand\n",
      "b: ahvr~medal_Platinum_count_bigger_than_average+medal_same_count+medal_same_count_bigger_than_average+medal_number\n",
      "Target units: ate\n",
      "\n",
      "## Estimate\n",
      "Mean value: 0.03137812734647393\n",
      "Effect estimates: [-0.00469058  0.05689961  0.0397885   0.00932569  0.07172062  0.03902206\n",
      "  0.00932569  0.00932569  0.01779245  0.01779245  0.0397885   0.03902206\n",
      "  0.01779245 -0.00469058  0.0397885   0.03902206  0.01779245  0.01779245\n",
      "  0.01779245 -0.00469058  0.03902206  0.01779245  0.00932569 -0.00469058\n",
      "  0.0397885   0.0397885   0.07172062  0.00932569  0.01779245  0.07172062\n",
      "  0.03902206  0.01779245  0.03902206  0.01779245  0.01779245  0.03902206\n",
      "  0.03902206  0.00932569  0.05689961  0.07172062  0.07172062  0.05689961\n",
      "  0.01779245  0.00932569  0.0397885   0.05689961  0.07172062  0.05689961\n",
      "  0.0397885   0.07172062  0.01779245  0.00932569  0.03902206  0.03902206\n",
      "  0.00932569  0.03902206  0.01779245  0.0397885  -0.00469058  0.03902206]\n",
      "\n"
     ]
    }
   ],
   "source": [
    "identified_estimand_experiment = model.identify_effect(proceed_when_unidentifiable=True)\n",
    "\n",
    "metalearner_estimate = model.estimate_effect(identified_estimand_experiment,                             \n",
    "                                             method_name=\"backdoor.econml.metalearners.TLearner\",\n",
    "                                             confidence_intervals=False,\n",
    "                                             method_params={\n",
    "                                                         \"init_params\":{'models': RandomForestRegressor()},\n",
    "                                                         \"fit_params\":{}\n",
    "                                                                  })\n",
    "print(metalearner_estimate)"
   ]
  },
  {
   "cell_type": "markdown",
   "id": "7aa7319c",
   "metadata": {},
   "source": [
    "### Bronze"
   ]
  },
  {
   "cell_type": "code",
   "execution_count": 50,
   "id": "c1ac5d25",
   "metadata": {},
   "outputs": [],
   "source": [
    "# With graph\n",
    "model=CausalModel(\n",
    "        data = df[df['medal_number'] >= 2],\n",
    "        treatment=\"medal_Platinum_count_bigger_than_average\",\n",
    "        outcome=\"ahvr\",\n",
    "        graph = graph\n",
    "        )"
   ]
  },
  {
   "cell_type": "code",
   "execution_count": 51,
   "id": "72b8a86e",
   "metadata": {},
   "outputs": [
    {
     "name": "stdout",
     "output_type": "stream",
     "text": [
      "*** Causal Estimate ***\n",
      "\n",
      "## Identified estimand\n",
      "Estimand type: nonparametric-ate\n",
      "\n",
      "### Estimand : 1\n",
      "Estimand name: backdoor\n",
      "Estimand expression:\n",
      "                     d                                                     \n",
      "───────────────────────────────────────────(Expectation(ahvr|medal_number))\n",
      "d[medal_Platinum_count_bigger_than_average]                                \n",
      "Estimand assumption 1, Unconfoundedness: If U→{medal_Platinum_count_bigger_than_average} and U→ahvr then P(ahvr|medal_Platinum_count_bigger_than_average,medal_number,U) = P(ahvr|medal_Platinum_count_bigger_than_average,medal_number)\n",
      "\n",
      "## Realized estimand\n",
      "b: ahvr~medal_Platinum_count_bigger_than_average+medal_same_count+medal_same_count_bigger_than_average+medal_number\n",
      "Target units: ate\n",
      "\n",
      "## Estimate\n",
      "Mean value: 0.002920918522909215\n",
      "Effect estimates: [ 0.00162334 -0.00061614 -0.00110981 ...  0.04644892 -0.00457799\n",
      "  0.03860715]\n",
      "\n"
     ]
    }
   ],
   "source": [
    "identified_estimand_experiment = model.identify_effect(proceed_when_unidentifiable=True)\n",
    "\n",
    "metalearner_estimate = model.estimate_effect(identified_estimand_experiment,                             \n",
    "                                             method_name=\"backdoor.econml.metalearners.TLearner\",\n",
    "                                             confidence_intervals=False,\n",
    "                                             method_params={\n",
    "                                                         \"init_params\":{'models': RandomForestRegressor()},\n",
    "                                                         \"fit_params\":{}\n",
    "                                                                  })\n",
    "print(metalearner_estimate)"
   ]
  },
  {
   "cell_type": "code",
   "execution_count": null,
   "id": "f5499a22",
   "metadata": {},
   "outputs": [],
   "source": []
  },
  {
   "cell_type": "code",
   "execution_count": null,
   "id": "7ae04780",
   "metadata": {},
   "outputs": [],
   "source": []
  },
  {
   "cell_type": "code",
   "execution_count": null,
   "id": "180477a0",
   "metadata": {},
   "outputs": [],
   "source": []
  },
  {
   "cell_type": "code",
   "execution_count": null,
   "id": "7c32e4d7",
   "metadata": {},
   "outputs": [],
   "source": []
  },
  {
   "cell_type": "code",
   "execution_count": null,
   "id": "c5fb2e2a",
   "metadata": {},
   "outputs": [],
   "source": []
  },
  {
   "cell_type": "code",
   "execution_count": null,
   "id": "b0b37905",
   "metadata": {},
   "outputs": [],
   "source": []
  },
  {
   "cell_type": "code",
   "execution_count": 223,
   "id": "65e4c4f1",
   "metadata": {},
   "outputs": [],
   "source": [
    "# !pip install causalinference"
   ]
  },
  {
   "cell_type": "code",
   "execution_count": 224,
   "id": "0778fb4a",
   "metadata": {},
   "outputs": [],
   "source": [
    "from causalinference import CausalModel\n",
    "from causalinference.utils import random_data\n",
    "#Y is the outcome, D is treatment status, and X is the independent variable\n",
    "causal = CausalModel(df['ahvr'], \n",
    "                     df['medal_Platinum_count_bigger_than_average'], \n",
    "                     df[['medal_number', 'medal_Platinum_count_bigger_than_average', 'medal_same_count_bigger_than_average', \n",
    "                         'medal_Platinum_count', 'medal_same_count']])"
   ]
  },
  {
   "cell_type": "code",
   "execution_count": 207,
   "id": "bf8b25c6",
   "metadata": {},
   "outputs": [
    {
     "name": "stdout",
     "output_type": "stream",
     "text": [
      "\n",
      "Summary Statistics\n",
      "\n",
      "                      Controls (N_c=2697)         Treated (N_t=997)             \n",
      "       Variable         Mean         S.d.         Mean         S.d.     Raw-diff\n",
      "--------------------------------------------------------------------------------\n",
      "              Y        0.006        0.019        0.015        0.056        0.009\n",
      "\n",
      "                      Controls (N_c=2697)         Treated (N_t=997)             \n",
      "       Variable         Mean         S.d.         Mean         S.d.     Nor-diff\n",
      "--------------------------------------------------------------------------------\n",
      "             X0        2.971        0.247        2.854        0.527       -0.285\n",
      "             X1        0.000        0.000        1.000        0.000          inf\n",
      "             X2        0.453        0.498        0.327        0.469       -0.260\n",
      "             X3        0.624        0.484        2.119        0.460        3.165\n",
      "             X4      215.892       83.500      176.873       77.624       -0.484\n",
      "\n"
     ]
    }
   ],
   "source": [
    "print(causal.summary_stats)"
   ]
  },
  {
   "cell_type": "code",
   "execution_count": 208,
   "id": "28d99009",
   "metadata": {},
   "outputs": [
    {
     "name": "stdout",
     "output_type": "stream",
     "text": [
      "\n",
      "Treatment Effect Estimates: OLS\n",
      "\n",
      "                     Est.       S.e.          z      P>|z|      [95% Conf. int.]\n",
      "--------------------------------------------------------------------------------\n",
      "           ATE     -0.003      0.005     -0.689      0.491     -0.013      0.006\n",
      "           ATC     -0.007      0.007     -1.031      0.303     -0.020      0.006\n",
      "           ATT      0.006      0.002      3.803      0.000      0.003      0.010\n",
      "\n"
     ]
    }
   ],
   "source": [
    "causal.est_via_ols()\n",
    "print(causal.estimates)"
   ]
  },
  {
   "cell_type": "code",
   "execution_count": 209,
   "id": "471a60c2",
   "metadata": {},
   "outputs": [],
   "source": [
    "# ATE, ATC, and ATT stand for Average Treatment Effect, Average Treatment Effect for Control and Average Treatment Effect for Treated, respectively. \n",
    "# Using this information, we could assess whether the treatment has an effect compared to the control."
   ]
  },
  {
   "cell_type": "code",
   "execution_count": null,
   "id": "9ab7f056",
   "metadata": {},
   "outputs": [],
   "source": []
  }
 ],
 "metadata": {
  "kernelspec": {
   "display_name": "conda_python3",
   "language": "python",
   "name": "conda_python3"
  },
  "language_info": {
   "codemirror_mode": {
    "name": "ipython",
    "version": 3
   },
   "file_extension": ".py",
   "mimetype": "text/x-python",
   "name": "python",
   "nbconvert_exporter": "python",
   "pygments_lexer": "ipython3",
   "version": "3.6.13"
  }
 },
 "nbformat": 4,
 "nbformat_minor": 5
}
