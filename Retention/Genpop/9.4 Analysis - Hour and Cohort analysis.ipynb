{
 "cells": [
  {
   "cell_type": "code",
   "execution_count": 1,
   "id": "ae1e95fe",
   "metadata": {},
   "outputs": [],
   "source": [
    "import boto3\n",
    "import datetime as dt\n",
    "import json\n",
    "import numpy as np\n",
    "import pandas as pd\n",
    "import snowflake.connector\n",
    "pd.set_option('display.max_rows', 1000)\n",
    "pd.set_option('display.max_columns', 1000)\n",
    "pd.options.display.float_format = '{:,.2f}'.format"
   ]
  },
  {
   "cell_type": "code",
   "execution_count": 2,
   "id": "dbbc2cbe",
   "metadata": {},
   "outputs": [
    {
     "name": "stderr",
     "output_type": "stream",
     "text": [
      "/home/ec2-user/anaconda3/envs/python3/lib/python3.6/site-packages/boto3/compat.py:88: PythonDeprecationWarning: Boto3 will no longer support Python 3.6 starting May 30, 2022. To continue receiving service updates, bug fixes, and security updates please upgrade to Python 3.7 or later. More information can be found here: https://aws.amazon.com/blogs/developer/python-support-policy-updates-for-aws-sdks-and-tools/\n",
      "  warnings.warn(warning, PythonDeprecationWarning)\n"
     ]
    }
   ],
   "source": [
    "from abc import ABCMeta, abstractmethod\n",
    "\n",
    "class Credentials(metaclass=ABCMeta):\n",
    "    pass\n",
    "    \n",
    "    \n",
    "class SSMPSCredentials(Credentials):\n",
    "    def __init__(self, secretid: str):\n",
    "        self._secretid = secretid\n",
    "        self._secrets = {}\n",
    "        \n",
    "    def get_keys(self):\n",
    "        \"\"\"\n",
    "        credential fetching \n",
    "        \"\"\"\n",
    "        _aws_sm_args = {'service_name': 'secretsmanager', 'region_name': 'us-east-1'}\n",
    "        secrets_client = boto3.client(**_aws_sm_args)\n",
    "        get_secret_value_response = secrets_client.get_secret_value(SecretId=self._secretid)\n",
    "        return get_secret_value_response\n",
    "    \n",
    "    \n",
    "class BaseConnector(metaclass=ABCMeta):\n",
    "    @abstractmethod\n",
    "    def connect(self):\n",
    "        raise NotImplementedError\n",
    "    \n",
    "\n",
    "class SnowflakeConnector(BaseConnector):\n",
    "    def __init__(self, credentials: Credentials):\n",
    "        keys = credentials.get_keys()\n",
    "        self._secrets = json.loads(keys.get('SecretString', \"{}\"))\n",
    "\n",
    "    def connect(self, dbname: str, schema: str = 'DEFAULT'):\n",
    "        ctx = snowflake.connector.connect(\n",
    "            user=self._secrets['login_name'],\n",
    "            password=self._secrets['login_password'],\n",
    "            account=self._secrets['account'],\n",
    "            warehouse=self._secrets['warehouse'],\n",
    "            database=dbname,\n",
    "            schema=schema\n",
    "        )\n",
    "\n",
    "        return ctx\n",
    "    \n",
    "## Credentials\n",
    "SF_CREDS = 'datascience-max-dev-sagemaker-notebooks'\n",
    "\n",
    "## Snowflake connection \n",
    "conn=SnowflakeConnector(SSMPSCredentials(SF_CREDS))\n",
    "ctx=conn.connect(\"MAX_DEV\",\"WORKSPACE\")\n",
    "\n",
    "def run_query(query):\n",
    "    cursor = ctx.cursor()\n",
    "    cursor.execute(query)\n",
    "    df = pd.DataFrame(cursor.fetchall(), columns = [desc[0] for desc in cursor.description])\n",
    "    df.columns= df.columns.str.lower()\n",
    "    return df"
   ]
  },
  {
   "cell_type": "code",
   "execution_count": 3,
   "id": "797509bd",
   "metadata": {},
   "outputs": [],
   "source": [
    "# run_query('''\n",
    "# create or replace table max_dev.workspace.user_title_hours_watched_by_cohort_test \n",
    "# (\n",
    "# request_date\tVARCHAR, \n",
    "# viewable_id VARCHAR,\n",
    "# segment_name VARCHAR,  \n",
    "# hours_viewed\tfloat\n",
    "# );\n",
    "# ''')"
   ]
  },
  {
   "cell_type": "code",
   "execution_count": 4,
   "id": "7a4c7ddc",
   "metadata": {},
   "outputs": [],
   "source": [
    "# run_query('''\n",
    "# create or replace table max_dev.workspace.USER_TITLE_HOURS_WATCHED_BY_COHORT_SUBS \n",
    "# (\n",
    "# segment_name VARCHAR,  \n",
    "# start_date VARCHAR,\n",
    "# end_date VARCHAR,\n",
    "# DAYS_ON_HBO_MAX int,\n",
    "# cohort_subs \tbigint\n",
    "# );\n",
    "# ''')"
   ]
  },
  {
   "cell_type": "code",
   "execution_count": 5,
   "id": "07dfedce",
   "metadata": {},
   "outputs": [],
   "source": [
    "title_info = run_query('''\n",
    "with offerings as (select DISTINCT\n",
    "            case when season_number is not null then concat(title_name, ' S', season_number, ('E'), EPISODE_NUMBER_IN_SEASON)\n",
    "            else title_name end as title_episode_name\n",
    "    , title_name\n",
    "    , rad.VIEWABLE_ID\n",
    "    , concat(coalesce(rad.series_id, rad.viewable_id)) as title_id\n",
    "    , rad.SERIES_ID\n",
    "    , rad.SEASON_NUMBER\n",
    "    , EPISODE_NUMBER_IN_SERIES\n",
    "    , content_category\n",
    "    , PRIMARY_GENRE_DESC\n",
    "    , program_type\n",
    "    , aod.release_year\n",
    "    , ASSET_RUN_TIME\n",
    "    , offering_start_date\n",
    "    , offering_end_date\n",
    "     FROM \"MAX_PROD\".\"CATALOG\".\"ASSET_OFFERING_DIM\" aod\n",
    "LEFT JOIN \"MAX_PROD\".\"CATALOG\".\"REPORTING_ASSET_DIM\" rad ON aod.VIEWABLE_ID = rad.VIEWABLE_ID\n",
    "where territory='HBO MAX DOMESTIC'\n",
    "    and channel = 'HBO MAX SUBSCRIPTION'\n",
    "    and OFFERING_TYPE = 'FEATURE'),\n",
    "\n",
    "airtable as (select DISTINCT title_id \n",
    "    , MIN(PILLAR_GENRE) as PILLAR_GENRE -- multiple PILLAR GENRE assignments for a single VIEWABLE_ID, taking at random.\n",
    "    from max_prod.catalog.airtable_content_strategy group by title_id),\n",
    "\n",
    "offerings_by_date as (\n",
    "select\n",
    "     TITLE_NAME, title_episode_name\n",
    "    , offerings.VIEWABLE_ID\n",
    "    , offerings.title_id, offerings.SEASON_NUMBER\n",
    "    , CONTENT_CATEGORY, program_type, release_year\n",
    "    , am.home_territory_observed_medal as medal\n",
    "    , CAST(FLOOR(COALESCE( (ASSET_RUN_TIME)/60/60 ,0)*(1000000*1.0)) AS DECIMAL(38,0))\n",
    "          / CAST((1000000*1.0) AS DOUBLE PRECISION) as ASSET_RUN_TIME_HOURS -- to prevent floating point errors\n",
    "    , case when to_date(offerings.offering_start_date) < '2020-05-27' THEN to_date('2020-05-27')\n",
    "           ELSE to_date(offerings.offering_start_date)\n",
    "           end as offering_start_date\n",
    "    , to_date(offerings.offering_end_date) as offering_end_date\n",
    "    , PRIMARY_GENRE_DESC\n",
    "    , aos.PILLAR_GENRE as PILLAR_GENRE\n",
    "FROM offerings\n",
    "LEFT JOIN airtable aos ON (offerings.title_id = aos.title_id)\n",
    "LEFT JOIN max_prod.content_analytics.asset_medals am \n",
    "        on offerings.title_id = am.title_id\n",
    "        and coalesce(offerings.season_number,0) = coalesce(am.season,0)\n",
    "WHERE 1=1\n",
    "-- offerings.OFFERING_START_DATE > '2020-05-01'\n",
    "-- and CURRENT_DATE() between (OFFERING_START_DATE) and (OFFERING_END_DATE)\n",
    "ORDER BY VIEWABLE_ID)\n",
    "\n",
    "SELECT * FROM offerings_by_date\n",
    "''')"
   ]
  },
  {
   "cell_type": "code",
   "execution_count": 6,
   "id": "387ada3f",
   "metadata": {},
   "outputs": [],
   "source": [
    "### DE-DUPTE THE TITLES\n",
    "\n",
    "title_test_dedup = title_info.groupby(['viewable_id'])['offering_start_date'].min().reset_index()\n",
    "title_info = title_info.merge(title_test_dedup, on = ['viewable_id', 'offering_start_date'])\n",
    "\n",
    "title_test_dedup = title_info.groupby(['viewable_id'])['offering_end_date'].max().reset_index()\n",
    "title_info = title_info.merge(title_test_dedup, on = ['viewable_id', 'offering_end_date'])\n",
    "\n",
    "title_info['medal'] = title_info['medal'].fillna('None')\n",
    "title_test_dedup = title_info.groupby(['viewable_id'])['medal'].max().reset_index()\n",
    "title_info = title_info.merge(title_test_dedup, on = ['viewable_id', 'medal'])\n",
    "\n",
    "\n",
    "title_info = title_info.drop_duplicates()\n",
    "title_info['season_number'] = title_info['season_number'].fillna(0)"
   ]
  },
  {
   "cell_type": "code",
   "execution_count": 7,
   "id": "2bfe9b23",
   "metadata": {},
   "outputs": [
    {
     "data": {
      "text/html": [
       "<div>\n",
       "<style scoped>\n",
       "    .dataframe tbody tr th:only-of-type {\n",
       "        vertical-align: middle;\n",
       "    }\n",
       "\n",
       "    .dataframe tbody tr th {\n",
       "        vertical-align: top;\n",
       "    }\n",
       "\n",
       "    .dataframe thead th {\n",
       "        text-align: right;\n",
       "    }\n",
       "</style>\n",
       "<table border=\"1\" class=\"dataframe\">\n",
       "  <thead>\n",
       "    <tr style=\"text-align: right;\">\n",
       "      <th></th>\n",
       "      <th>title_name</th>\n",
       "      <th>title_episode_name</th>\n",
       "      <th>title_id</th>\n",
       "      <th>season_number</th>\n",
       "      <th>content_category</th>\n",
       "      <th>program_type</th>\n",
       "      <th>release_year</th>\n",
       "      <th>medal</th>\n",
       "      <th>asset_run_time_hours</th>\n",
       "      <th>offering_start_date</th>\n",
       "      <th>offering_end_date</th>\n",
       "      <th>primary_genre_desc</th>\n",
       "      <th>pillar_genre</th>\n",
       "    </tr>\n",
       "    <tr>\n",
       "      <th>viewable_id</th>\n",
       "      <th></th>\n",
       "      <th></th>\n",
       "      <th></th>\n",
       "      <th></th>\n",
       "      <th></th>\n",
       "      <th></th>\n",
       "      <th></th>\n",
       "      <th></th>\n",
       "      <th></th>\n",
       "      <th></th>\n",
       "      <th></th>\n",
       "      <th></th>\n",
       "      <th></th>\n",
       "    </tr>\n",
       "  </thead>\n",
       "  <tbody>\n",
       "  </tbody>\n",
       "</table>\n",
       "</div>"
      ],
      "text/plain": [
       "Empty DataFrame\n",
       "Columns: [title_name, title_episode_name, title_id, season_number, content_category, program_type, release_year, medal, asset_run_time_hours, offering_start_date, offering_end_date, primary_genre_desc, pillar_genre]\n",
       "Index: []"
      ]
     },
     "execution_count": 7,
     "metadata": {},
     "output_type": "execute_result"
    }
   ],
   "source": [
    "#### SANITY CHECK\n",
    "title_test = title_info.groupby(['viewable_id']).count()\n",
    "title_test[title_test['title_name'] == 2]"
   ]
  },
  {
   "cell_type": "code",
   "execution_count": 15,
   "id": "38cd9af3",
   "metadata": {},
   "outputs": [],
   "source": [
    "title_series_info = title_info.groupby(['title_id', 'season_number'])['offering_start_date'].min().reset_index()\n",
    "\n",
    "title_series_test = title_info.groupby(['title_id', 'season_number'])['asset_run_time_hours'].sum().reset_index()\n",
    "title_series_info = title_series_info.merge(title_series_test, on = ['title_id', 'season_number'])\n",
    "\n",
    "title_series_test = title_info.groupby(['title_id', 'season_number'])[['content_category', 'program_type', 'release_year', 'medal', 'pillar_genre']].max().reset_index()\n",
    "title_series_info = title_series_info.merge(title_series_test, on = ['title_id', 'season_number'])"
   ]
  },
  {
   "cell_type": "code",
   "execution_count": 9,
   "id": "d61ef721",
   "metadata": {},
   "outputs": [],
   "source": [
    "###### WHETHER WANT TO JOIN WITH VIWABLE ID LEVEL ############\n",
    "# title_series_info = title_info[['title_name', 'viewable_id', 'title_id', 'season_number']].merge(\n",
    "#                     title_series_info, on = ['title_id', 'season_number'])"
   ]
  },
  {
   "cell_type": "code",
   "execution_count": 17,
   "id": "f3350182",
   "metadata": {},
   "outputs": [],
   "source": [
    "# title_series_info[title_series_info['viewable_id']=='GWSL97g2lpwjDwgEAAAAl']"
   ]
  },
  {
   "cell_type": "code",
   "execution_count": 110,
   "id": "8ccea0e4",
   "metadata": {},
   "outputs": [],
   "source": [
    "# import boto3\n",
    "# import io\n",
    "\n",
    "# def to_s3(filename, output_bucket, content):\n",
    "#     client = boto3.client('s3')\n",
    "#     client.put_object(Bucket=output_bucket, Key=filename, Body=content)\n",
    "    \n",
    "# output_bucket = 'hbo-outbound-datascience-content-dev'\n",
    "# s3 = boto3.resource('s3')\n",
    "# bucket = s3.Bucket(output_bucket)\n",
    "\n",
    "# def write_to_sf(df, file_name):\n",
    "#     csv_buffer = io.StringIO()\n",
    "#     df.to_csv(csv_buffer, index = False)\n",
    "#     content = csv_buffer.getvalue()\n",
    "#     filename = 'title_hours_viewed_retention/{}.csv'.format(file_name)\n",
    "#     to_s3(filename, output_bucket, content)"
   ]
  },
  {
   "cell_type": "code",
   "execution_count": 111,
   "id": "9191a644",
   "metadata": {},
   "outputs": [],
   "source": [
    "# write_to_sf(title_series_info, 'title_series_info')"
   ]
  },
  {
   "cell_type": "code",
   "execution_count": 116,
   "id": "33720797",
   "metadata": {},
   "outputs": [
    {
     "data": {
      "text/html": [
       "<div>\n",
       "<style scoped>\n",
       "    .dataframe tbody tr th:only-of-type {\n",
       "        vertical-align: middle;\n",
       "    }\n",
       "\n",
       "    .dataframe tbody tr th {\n",
       "        vertical-align: top;\n",
       "    }\n",
       "\n",
       "    .dataframe thead th {\n",
       "        text-align: right;\n",
       "    }\n",
       "</style>\n",
       "<table border=\"1\" class=\"dataframe\">\n",
       "  <thead>\n",
       "    <tr style=\"text-align: right;\">\n",
       "      <th></th>\n",
       "      <th>status</th>\n",
       "    </tr>\n",
       "  </thead>\n",
       "  <tbody>\n",
       "    <tr>\n",
       "      <th>0</th>\n",
       "      <td>Table USER_TITLE_HOURS_WATCHED_TITLE_SERIES_IN...</td>\n",
       "    </tr>\n",
       "  </tbody>\n",
       "</table>\n",
       "</div>"
      ],
      "text/plain": [
       "                                              status\n",
       "0  Table USER_TITLE_HOURS_WATCHED_TITLE_SERIES_IN..."
      ]
     },
     "execution_count": 116,
     "metadata": {},
     "output_type": "execute_result"
    }
   ],
   "source": [
    "run_query('''\n",
    "create or replace table max_dev.workspace.user_title_hours_watched_title_series_info \n",
    "(\n",
    "title_name\tVARCHAR,\n",
    "viewable_id\tVARCHAR,\n",
    "title_id\tVARCHAR,\n",
    "season_number\tint,\n",
    "offering_start_date\tVARCHAR,\n",
    "asset_run_time_hours\tfloat,\n",
    "content_category\tVARCHAR,\n",
    "program_type\tVARCHAR,\n",
    "release_year\tint,\n",
    "medal\tVARCHAR,\n",
    "pillar_genre VARCHAR\n",
    ");\n",
    "\n",
    "''')"
   ]
  },
  {
   "cell_type": "code",
   "execution_count": 117,
   "id": "55b2cd3e",
   "metadata": {},
   "outputs": [
    {
     "data": {
      "text/html": [
       "<div>\n",
       "<style scoped>\n",
       "    .dataframe tbody tr th:only-of-type {\n",
       "        vertical-align: middle;\n",
       "    }\n",
       "\n",
       "    .dataframe tbody tr th {\n",
       "        vertical-align: top;\n",
       "    }\n",
       "\n",
       "    .dataframe thead th {\n",
       "        text-align: right;\n",
       "    }\n",
       "</style>\n",
       "<table border=\"1\" class=\"dataframe\">\n",
       "  <thead>\n",
       "    <tr style=\"text-align: right;\">\n",
       "      <th></th>\n",
       "      <th>file</th>\n",
       "      <th>status</th>\n",
       "      <th>rows_parsed</th>\n",
       "      <th>rows_loaded</th>\n",
       "      <th>error_limit</th>\n",
       "      <th>errors_seen</th>\n",
       "      <th>first_error</th>\n",
       "      <th>first_error_line</th>\n",
       "      <th>first_error_character</th>\n",
       "      <th>first_error_column_name</th>\n",
       "    </tr>\n",
       "  </thead>\n",
       "  <tbody>\n",
       "    <tr>\n",
       "      <th>0</th>\n",
       "      <td>s3://hbo-outbound-datascience-content-dev/titl...</td>\n",
       "      <td>LOADED</td>\n",
       "      <td>42031</td>\n",
       "      <td>42031</td>\n",
       "      <td>42031</td>\n",
       "      <td>0</td>\n",
       "      <td>None</td>\n",
       "      <td>None</td>\n",
       "      <td>None</td>\n",
       "      <td>None</td>\n",
       "    </tr>\n",
       "  </tbody>\n",
       "</table>\n",
       "</div>"
      ],
      "text/plain": [
       "                                                file  status  rows_parsed  \\\n",
       "0  s3://hbo-outbound-datascience-content-dev/titl...  LOADED        42031   \n",
       "\n",
       "   rows_loaded  error_limit  errors_seen first_error first_error_line  \\\n",
       "0        42031        42031            0        None             None   \n",
       "\n",
       "  first_error_character first_error_column_name  \n",
       "0                  None                    None  "
      ]
     },
     "execution_count": 117,
     "metadata": {},
     "output_type": "execute_result"
    }
   ],
   "source": [
    "# run_query('''\n",
    "# copy into max_dev.workspace.user_title_hours_watched_title_series_info\n",
    "#     from(\n",
    "#         select\n",
    "#               $1, $2, $3, $4, $5, $6, $7, $8, $9, $10, $11\n",
    "#         from @HBO_OUTBOUND_DATASCIENCE_CONTENT_DEV/title_hours_viewed_retention/title_series_info.csv\n",
    "#         )\n",
    "#     file_format = (type = csv null_if=('') skip_header = 1  FIELD_OPTIONALLY_ENCLOSED_BY='\"')\n",
    "#     on_error = 'CONTINUE';\n",
    "\n",
    "# ''')"
   ]
  },
  {
   "cell_type": "code",
   "execution_count": 11,
   "id": "a735b220",
   "metadata": {},
   "outputs": [],
   "source": [
    "title_hours_viewed = run_query('''\n",
    "SELECT co.segment_name,t.title_name, t.title_id, t.season_number\n",
    ", co.request_date, DATEDIFF('DAY', t.offering_start_date::DATE, co.request_date::DATE) AS DAYS_ON_HBO_MAX\n",
    "--,t.offering_start_date, t.asset_run_time_hours, t.content_category, t.program_type, t.release_year, t.medal, t.PILLAR_GENRE\n",
    ",SUM(co.hours_viewed) AS daily_hours_viewed\n",
    ",SUM(daily_hours_viewed) OVER (PARTITION BY title_id, season_number, segment_name order by DAYS_ON_HBO_MAX) as cumulative_hours_viewed\n",
    "FROM MAX_DEV.WORKSPACE.user_title_hours_watched_by_cohort_test co\n",
    "JOIN max_dev.workspace.user_title_hours_watched_title_series_info t\n",
    "    on co.viewable_id = t.viewable_id\n",
    "WHERE 1=1\n",
    "AND segment_name IN ('Buzzy HBO Originals', 'Thrilling Action Movies')\n",
    "AND DATEDIFF('DAY', t.offering_start_date::DATE, co.request_date::DATE) >= 0\n",
    "-- AND TITLE_ID = 'GYsYeoAxKH8LCwgEAAAOR'\n",
    "GROUP BY 1,2,3,4,5,6 --,7,8,9,10\n",
    "ORDER BY segment_name, TITLE_ID, SEASON_NUMBER, DAYS_ON_HBO_MAX\n",
    "''')"
   ]
  },
  {
   "cell_type": "code",
   "execution_count": 13,
   "id": "a0d30e7a",
   "metadata": {},
   "outputs": [
    {
     "data": {
      "text/plain": [
       "7046"
      ]
     },
     "execution_count": 13,
     "metadata": {},
     "output_type": "execute_result"
    }
   ],
   "source": [
    "len(title_hours_viewed.title_id.unique())"
   ]
  },
  {
   "cell_type": "code",
   "execution_count": 19,
   "id": "0313668f",
   "metadata": {},
   "outputs": [],
   "source": [
    "title_hours_viewed = title_hours_viewed.merge(title_series_info, on = ['title_id', 'season_number'])"
   ]
  },
  {
   "cell_type": "code",
   "execution_count": 22,
   "id": "7e3d8334",
   "metadata": {},
   "outputs": [],
   "source": [
    "title_hours_viewed['hvr'] = title_hours_viewed['cumulative_hours_viewed']/title_hours_viewed['asset_run_time_hours']"
   ]
  },
  {
   "cell_type": "code",
   "execution_count": 23,
   "id": "d3a8443f",
   "metadata": {},
   "outputs": [
    {
     "data": {
      "text/plain": [
       "array(['None', 'Gold', 'Silver', 'Bronze', 'Platinum'], dtype=object)"
      ]
     },
     "execution_count": 23,
     "metadata": {},
     "output_type": "execute_result"
    }
   ],
   "source": [
    "title_hours_viewed.medal.unique()"
   ]
  },
  {
   "cell_type": "code",
   "execution_count": 25,
   "id": "65936347",
   "metadata": {},
   "outputs": [],
   "source": [
    "import plotly.express as px\n",
    "import plotly.graph_objects as go\n",
    "from plotly.subplots import make_subplots"
   ]
  },
  {
   "cell_type": "code",
   "execution_count": 38,
   "id": "52ea374d",
   "metadata": {},
   "outputs": [
    {
     "data": {
      "application/vnd.plotly.v1+json": {
       "config": {
        "plotlyServerURL": "https://plot.ly"
       },
       "data": [
        {
         "hovertemplate": "segment_name=Buzzy HBO Originals<br>days_on_hbo_max=%{x}<br>hvr=%{y}<extra></extra>",
         "legendgroup": "Buzzy HBO Originals",
         "line": {
          "color": "#636efa",
          "dash": "solid"
         },
         "marker": {
          "symbol": "circle"
         },
         "mode": "lines",
         "name": "Buzzy HBO Originals",
         "orientation": "v",
         "showlegend": true,
         "type": "scatter",
         "x": [
          0,
          1,
          2,
          3,
          4,
          5,
          6,
          7,
          8,
          9,
          10,
          11,
          12,
          13,
          14,
          15,
          16,
          17,
          18,
          19,
          20,
          21,
          22,
          23,
          24,
          25,
          26,
          27,
          28,
          29,
          30,
          31,
          32,
          33,
          34,
          35,
          36,
          37,
          38,
          39,
          40,
          41,
          42,
          43,
          44,
          45,
          46,
          47,
          48,
          49,
          50,
          51,
          52,
          53,
          54,
          55,
          56,
          57,
          58,
          59,
          60,
          61,
          62,
          63,
          64,
          65,
          66,
          67,
          68,
          69,
          70,
          71,
          72,
          73,
          74,
          75,
          76,
          77,
          78,
          79,
          80,
          81,
          82,
          83,
          84,
          85,
          86,
          87,
          88,
          89,
          90,
          91,
          92,
          93,
          94,
          95,
          96,
          97,
          98,
          99,
          100,
          101,
          102,
          103,
          104,
          105,
          106,
          107,
          108,
          109,
          110,
          111,
          112,
          113,
          114,
          115,
          116,
          117,
          118,
          119,
          120,
          121,
          122,
          123,
          124,
          125,
          126,
          127,
          128,
          129,
          130,
          131,
          132,
          133,
          134,
          135,
          136,
          137,
          138,
          139,
          140,
          141,
          142,
          143,
          144,
          145,
          146,
          147,
          148,
          149,
          150,
          151,
          152,
          153,
          154,
          155,
          156,
          157,
          158,
          159,
          160,
          161,
          162,
          163,
          164,
          165,
          166,
          167,
          168,
          169,
          170,
          171,
          172,
          173,
          174,
          175,
          176,
          177,
          178,
          179,
          180,
          181,
          182,
          183,
          184,
          185,
          186,
          187,
          188,
          189,
          190,
          191,
          192,
          193,
          194,
          195,
          196,
          197,
          198,
          199,
          200,
          201,
          202,
          203,
          204,
          205,
          206,
          207,
          208,
          209,
          210,
          211,
          212,
          213,
          214,
          215,
          216,
          217,
          218,
          219,
          220,
          221
         ],
         "xaxis": "x",
         "y": [
          67482.50550177568,
          92830.40222942409,
          106161.94607822128,
          115021.71936614363,
          121924.84543149079,
          129365.34528254917,
          138403.04343412843,
          201983.36772790668,
          224604.0792330023,
          237198.182381268,
          245906.9708984044,
          252486.7078690416,
          259171.35653825747,
          267094.93550867366,
          341563.0618473223,
          373304.8468705674,
          389441.860032314,
          399934.88151130243,
          407105.4241010191,
          414799.41487514187,
          424086.73277590866,
          496743.60618585953,
          524518.6575660836,
          541369.8363791237,
          552890.7011762455,
          561362.0937336108,
          570838.0475201262,
          581238.8173934813,
          653049.4297029758,
          681073.9778257777,
          698239.6550084669,
          709796.533143391,
          718221.3489325002,
          727308.7291526333,
          737770.8943373467,
          819865.001076359,
          848584.9304484556,
          866037.2730202435,
          877395.7500956174,
          885989.5187680108,
          895301.1339749619,
          905399.6700987535,
          976741.9541956548,
          1003798.5765807943,
          1020083.4581389455,
          1031060.4761557372,
          1039418.9119292191,
          1048126.1992950948,
          1057909.8590673087,
          1140098.4100319007,
          1169860.8546211177,
          1187995.6343483818,
          1200868.511403241,
          1210792.4412146092,
          1220619.8240186502,
          1231782.6083724073,
          1303364.0450977467,
          1330054.8150163954,
          1345943.294450165,
          1357453.2177265708,
          1366588.2444904319,
          1376734.6271958668,
          1390062.8280166674,
          1470112.096958384,
          1498787.3015651943,
          1516587.9738379798,
          1529434.455218336,
          1539680.532388737,
          1550190.3687292752,
          1560718.0503924515,
          1570004.2256018354,
          1576772.288599821,
          1583356.3914242347,
          1589104.2825125724,
          1594275.1146646077,
          1600408.821648811,
          1606757.1036635926,
          1612380.7338717473,
          1616979.630258764,
          1621213.439105299,
          1625108.8731735756,
          1629053.6227003434,
          1633508.5204568976,
          1638025.419514228,
          1641763.5569469042,
          1645047.2682123352,
          1648169.1315986745,
          1651076.3593581733,
          1653773.6766981017,
          1656996.6851227325,
          1660449.9213888082,
          1663312.5629043267,
          1665863.8774702193,
          1668399.8621344646,
          1670783.3225639488,
          1673261.292039208,
          1676233.7850383793,
          1679445.101691531,
          1682033.8852317773,
          1684206.0693623102,
          1686366.8461283797,
          1688339.7153820104,
          1690182.6467973157,
          1692279.6493216108,
          1694539.702119083,
          1696446.8720495098,
          1698171.0062375125,
          1699906.9442377798,
          1701655.3713456164,
          1703253.1443086255,
          1705159.8782601939,
          1707390.1679054757,
          1709296.7849154966,
          1710994.672780676,
          1712694.5130741096,
          1714370.2433194807,
          1715879.117723118,
          1717601.328643779,
          1719440.1491536824,
          1721208.8799557954,
          1722926.4215000758,
          1724642.075382055,
          1726372.997865464,
          1728223.8406915138,
          1729867.0994738163,
          1731300.5271152637,
          1733298.9730734627,
          1735524.0331655666,
          1737591.7212964406,
          1739579.3489571386,
          1741494.9031006221,
          1743494.4029406484,
          1745288.1954334262,
          1747753.0600642434,
          1749730.0422268931,
          1751531.8529455091,
          1753218.6955074219,
          1754792.4956709608,
          1756568.7687557803,
          1758417.7030438716,
          1759982.5967511365,
          1761433.354701282,
          1762870.8366591453,
          1764319.2042256284,
          1765776.0299228218,
          1767394.0124095501,
          1769157.6568638163,
          1770954.6870316993,
          1772521.8451647593,
          1774086.8316617168,
          1775635.6699099122,
          1777155.4566733136,
          1778931.740615632,
          1780869.2895705237,
          1782474.8675624002,
          1784053.570633425,
          1785588.3149483637,
          1787040.8911919207,
          1788455.7948220202,
          1790105.5558952095,
          1791905.080716696,
          1793259.4714987653,
          1794674.322736676,
          1796041.4325021289,
          1797368.0555570477,
          1798656.688748206,
          1800114.9348830613,
          1801787.2057544847,
          1803108.860567364,
          1804379.7685995093,
          1805505.93525046,
          1806604.6045288227,
          1807680.3816407053,
          1808774.7948859276,
          1810021.4284370458,
          1810891.4229031322,
          1811912.6620701877,
          1812916.828069971,
          1813936.3505871743,
          1815006.6206703072,
          1816241.5251120424,
          1817641.1213136346,
          1818924.8155861248,
          1820058.8675735642,
          1821184.9601443931,
          1822323.9956177045,
          1823351.4046085903,
          1824551.1931758986,
          1825963.5569353518,
          1827056.2526643053,
          1828082.0436705463,
          1829020.2935219754,
          1829937.5539776692,
          1830851.5193569905,
          1831885.6300269356,
          1833029.8817590834,
          1834085.8490712487,
          1835025.9384437203,
          1835934.0115018412,
          1836821.2402919668,
          1837644.0009889712,
          1838629.3971808455,
          1839776.12650868,
          1840698.5237549422,
          1841676.1721296816,
          1842549.7932456685,
          1843387.7646283817,
          1844163.722607321,
          1845130.0453873442,
          1846181.4266903372,
          1847090.7734338187,
          1847937.1895716863,
          1848812.2120096262,
          1849655.8864247506,
          1850431.6982741451,
          1851322.170181657,
          1852354.411682261,
          1853263.1661908883,
          1854071.0216743865,
          1854865.1223523933,
          1855613.0356160058,
          1856346.1944798173
         ],
         "yaxis": "y"
        },
        {
         "hovertemplate": "segment_name=Thrilling Action Movies<br>days_on_hbo_max=%{x}<br>hvr=%{y}<extra></extra>",
         "legendgroup": "Thrilling Action Movies",
         "line": {
          "color": "#EF553B",
          "dash": "solid"
         },
         "marker": {
          "symbol": "circle"
         },
         "mode": "lines",
         "name": "Thrilling Action Movies",
         "orientation": "v",
         "showlegend": true,
         "type": "scatter",
         "x": [
          0,
          1,
          2,
          3,
          4,
          5,
          6,
          7,
          8,
          9,
          10,
          11,
          12,
          13,
          14,
          15,
          16,
          17,
          18,
          19,
          20,
          21,
          22,
          23,
          24,
          25,
          26,
          27,
          28,
          29,
          30,
          31,
          32,
          33,
          34,
          35,
          36,
          37,
          38,
          39,
          40,
          41,
          42,
          43,
          44,
          45,
          46,
          47,
          48,
          49,
          50,
          51,
          52,
          53,
          54,
          55,
          56,
          57,
          58,
          59,
          60,
          61,
          62,
          63,
          64,
          65,
          66,
          67,
          68,
          69,
          70,
          71,
          72,
          73,
          74,
          75,
          76,
          77,
          78,
          79,
          80,
          81,
          82,
          83,
          84,
          85,
          86,
          87,
          88,
          89,
          90,
          91,
          92,
          93,
          94,
          95,
          96,
          97,
          98,
          99,
          100,
          101,
          102,
          103,
          104,
          105,
          106,
          107,
          108,
          109,
          110,
          111,
          112,
          113,
          114,
          115,
          116,
          117,
          118,
          119,
          120,
          121,
          122,
          123,
          124,
          125,
          126,
          127,
          128,
          129,
          130,
          131,
          132,
          133,
          134,
          135,
          136,
          137,
          138,
          139,
          140,
          141,
          142,
          143,
          144,
          145,
          146,
          147,
          148,
          149,
          150,
          151,
          152,
          153,
          154,
          155,
          156,
          157,
          158,
          159,
          160,
          161,
          162,
          163,
          164,
          165,
          166,
          167,
          168,
          169,
          170,
          171,
          172,
          173,
          174,
          175,
          176,
          177,
          178,
          179,
          180,
          181,
          182,
          183,
          184,
          185,
          186,
          187,
          188,
          189,
          190,
          191,
          192,
          193,
          194,
          195,
          196,
          197,
          198,
          199,
          200,
          201,
          202,
          203,
          204,
          205,
          206,
          207,
          208,
          209,
          210,
          211,
          212,
          213,
          214,
          215,
          216,
          217,
          218,
          219,
          220,
          221
         ],
         "xaxis": "x",
         "y": [
          53178.0395685552,
          73379.4626422961,
          84109.62293975959,
          91560.84115058392,
          97290.93727777422,
          103481.42746269409,
          110853.83005268926,
          158432.05487356507,
          175912.01408770896,
          185926.56319660333,
          192989.89362359434,
          198318.60519641763,
          203860.50439503658,
          210514.55678141795,
          267691.07681958814,
          291404.71463372774,
          304088.0701174691,
          312438.38680676697,
          318245.328039743,
          324288.96526212513,
          331659.115827222,
          386079.2836248488,
          407421.7430123288,
          420309.8551755059,
          429198.2034636543,
          435979.10858701105,
          443664.42500090686,
          452111.16999604664,
          506072.8565788653,
          527324.2275487091,
          540533.6799875154,
          549385.8306039887,
          556056.1300127275,
          563337.0491723346,
          571801.0128686706,
          632609.0295362507,
          654032.0496784161,
          667103.5275059488,
          675873.730179495,
          682611.6858884693,
          689799.4326395511,
          697922.6203977474,
          750438.8951188053,
          770795.9829805633,
          782967.1640781227,
          791411.5227510168,
          797976.7650626939,
          804857.4441192633,
          812747.5926735568,
          873390.5971358824,
          895758.6515800413,
          909422.2898859138,
          919428.4234549114,
          927209.3531308318,
          934908.3766421886,
          943933.5987369529,
          996912.1149162062,
          1017038.9464525903,
          1028974.7928101496,
          1037806.4224468743,
          1044992.1455866679,
          1052885.2744038564,
          1063414.5282119128,
          1122639.2476490869,
          1144540.4279198104,
          1158317.2174969018,
          1168519.5804622709,
          1176774.359675471,
          1185275.0985489234,
          1193781.2678258633,
          1201014.7028980993,
          1206359.769580959,
          1211542.134243033,
          1216116.6809587919,
          1220296.3581910592,
          1225169.754445731,
          1230333.4898517614,
          1234785.1187957257,
          1238499.3670398456,
          1241912.5268519835,
          1245092.4860869125,
          1248250.788176093,
          1251818.2047123327,
          1255536.0922508663,
          1258657.17070196,
          1261386.0273571163,
          1263899.8958279528,
          1266299.7433712673,
          1268523.5045160237,
          1271057.3918138202,
          1273851.7129885193,
          1276220.5591639378,
          1278295.7912020574,
          1280326.3848206175,
          1282378.9088636849,
          1284538.9173192151,
          1287004.712635748,
          1289691.069934945,
          1291878.3336759293,
          1293748.196276144,
          1295583.1383287099,
          1297218.256853333,
          1298729.0557156308,
          1300451.5067468898,
          1302380.5794842397,
          1304038.446293107,
          1305513.7675717892,
          1307036.4018441336,
          1308520.279675053,
          1309911.4564646932,
          1311519.8548352893,
          1313414.0136856947,
          1315022.89926307,
          1316442.205110003,
          1317834.524482683,
          1319225.6891693263,
          1320495.2217913275,
          1321908.9091644024,
          1323493.872520408,
          1325011.5582079238,
          1326455.1204761383,
          1327909.960008293,
          1329351.4208486485,
          1330968.6421187706,
          1332405.9143453992,
          1333746.6234002793,
          1335608.691585441,
          1337543.0829291658,
          1339365.9553095407,
          1341083.0737902396,
          1342773.4244359478,
          1344546.544025175,
          1346245.7351969406,
          1348389.1316177384,
          1350098.3657908505,
          1351609.981538155,
          1353064.5738928851,
          1354416.983681438,
          1355914.6194857506,
          1357514.7263246668,
          1358904.314453045,
          1360199.7909311114,
          1361464.0052716443,
          1362759.1655824396,
          1364006.3555196973,
          1365391.7379222745,
          1366932.2758390682,
          1368553.3421005176,
          1370025.0042380067,
          1371546.628789587,
          1373006.7837602282,
          1374436.8590864993,
          1376088.1877828436,
          1377963.7575310324,
          1379571.6441910015,
          1381116.054121045,
          1382635.9892883736,
          1384110.4736728433,
          1385448.0915612383,
          1387009.237588572,
          1388722.4652110941,
          1390128.4613831062,
          1391515.926503985,
          1392840.2018200362,
          1394125.1630359455,
          1395341.2714330524,
          1396697.7528937734,
          1398372.3235252718,
          1399717.9108484266,
          1400987.1357779754,
          1402121.2724052083,
          1403168.0392691428,
          1404194.3113358896,
          1405287.436301757,
          1406501.8879142085,
          1407511.4801206712,
          1408535.3339424785,
          1409554.3692258194,
          1410609.3995706197,
          1411647.9839382092,
          1412841.5167693167,
          1414195.495480684,
          1415436.1267276062,
          1416505.948214436,
          1417631.455536027,
          1418785.6911624582,
          1419831.1684473727,
          1421013.0278916399,
          1422372.1256858336,
          1423507.5612062456,
          1424570.3711013305,
          1425508.7155836122,
          1426402.3044881788,
          1427291.4622857554,
          1428285.1986108501,
          1429504.5974001717,
          1430614.456297245,
          1431600.7896731037,
          1432569.0511808838,
          1433543.596665202,
          1434467.1128300133,
          1435473.0048479636,
          1436725.9075920936,
          1437744.955140905,
          1438806.5384088384,
          1439765.8937311035,
          1440648.9875722777,
          1441515.770383366,
          1442498.8832774304,
          1443636.3568677048,
          1444661.694999618,
          1445594.8502720583,
          1446542.2321775674,
          1447466.7367542794,
          1448321.8846265466,
          1449284.4642483355,
          1450339.312939792,
          1451298.2156314172,
          1452174.5965840477,
          1453034.510575508,
          1453848.5547277797,
          1454664.5692597416
         ],
         "yaxis": "y"
        }
       ],
       "layout": {
        "autosize": true,
        "legend": {
         "title": {
          "text": "segment_name"
         },
         "tracegroupgap": 0
        },
        "margin": {
         "t": 60
        },
        "template": {
         "data": {
          "bar": [
           {
            "error_x": {
             "color": "#2a3f5f"
            },
            "error_y": {
             "color": "#2a3f5f"
            },
            "marker": {
             "line": {
              "color": "#E5ECF6",
              "width": 0.5
             },
             "pattern": {
              "fillmode": "overlay",
              "size": 10,
              "solidity": 0.2
             }
            },
            "type": "bar"
           }
          ],
          "barpolar": [
           {
            "marker": {
             "line": {
              "color": "#E5ECF6",
              "width": 0.5
             },
             "pattern": {
              "fillmode": "overlay",
              "size": 10,
              "solidity": 0.2
             }
            },
            "type": "barpolar"
           }
          ],
          "carpet": [
           {
            "aaxis": {
             "endlinecolor": "#2a3f5f",
             "gridcolor": "white",
             "linecolor": "white",
             "minorgridcolor": "white",
             "startlinecolor": "#2a3f5f"
            },
            "baxis": {
             "endlinecolor": "#2a3f5f",
             "gridcolor": "white",
             "linecolor": "white",
             "minorgridcolor": "white",
             "startlinecolor": "#2a3f5f"
            },
            "type": "carpet"
           }
          ],
          "choropleth": [
           {
            "colorbar": {
             "outlinewidth": 0,
             "ticks": ""
            },
            "type": "choropleth"
           }
          ],
          "contour": [
           {
            "colorbar": {
             "outlinewidth": 0,
             "ticks": ""
            },
            "colorscale": [
             [
              0,
              "#0d0887"
             ],
             [
              0.1111111111111111,
              "#46039f"
             ],
             [
              0.2222222222222222,
              "#7201a8"
             ],
             [
              0.3333333333333333,
              "#9c179e"
             ],
             [
              0.4444444444444444,
              "#bd3786"
             ],
             [
              0.5555555555555556,
              "#d8576b"
             ],
             [
              0.6666666666666666,
              "#ed7953"
             ],
             [
              0.7777777777777778,
              "#fb9f3a"
             ],
             [
              0.8888888888888888,
              "#fdca26"
             ],
             [
              1,
              "#f0f921"
             ]
            ],
            "type": "contour"
           }
          ],
          "contourcarpet": [
           {
            "colorbar": {
             "outlinewidth": 0,
             "ticks": ""
            },
            "type": "contourcarpet"
           }
          ],
          "heatmap": [
           {
            "colorbar": {
             "outlinewidth": 0,
             "ticks": ""
            },
            "colorscale": [
             [
              0,
              "#0d0887"
             ],
             [
              0.1111111111111111,
              "#46039f"
             ],
             [
              0.2222222222222222,
              "#7201a8"
             ],
             [
              0.3333333333333333,
              "#9c179e"
             ],
             [
              0.4444444444444444,
              "#bd3786"
             ],
             [
              0.5555555555555556,
              "#d8576b"
             ],
             [
              0.6666666666666666,
              "#ed7953"
             ],
             [
              0.7777777777777778,
              "#fb9f3a"
             ],
             [
              0.8888888888888888,
              "#fdca26"
             ],
             [
              1,
              "#f0f921"
             ]
            ],
            "type": "heatmap"
           }
          ],
          "heatmapgl": [
           {
            "colorbar": {
             "outlinewidth": 0,
             "ticks": ""
            },
            "colorscale": [
             [
              0,
              "#0d0887"
             ],
             [
              0.1111111111111111,
              "#46039f"
             ],
             [
              0.2222222222222222,
              "#7201a8"
             ],
             [
              0.3333333333333333,
              "#9c179e"
             ],
             [
              0.4444444444444444,
              "#bd3786"
             ],
             [
              0.5555555555555556,
              "#d8576b"
             ],
             [
              0.6666666666666666,
              "#ed7953"
             ],
             [
              0.7777777777777778,
              "#fb9f3a"
             ],
             [
              0.8888888888888888,
              "#fdca26"
             ],
             [
              1,
              "#f0f921"
             ]
            ],
            "type": "heatmapgl"
           }
          ],
          "histogram": [
           {
            "marker": {
             "pattern": {
              "fillmode": "overlay",
              "size": 10,
              "solidity": 0.2
             }
            },
            "type": "histogram"
           }
          ],
          "histogram2d": [
           {
            "colorbar": {
             "outlinewidth": 0,
             "ticks": ""
            },
            "colorscale": [
             [
              0,
              "#0d0887"
             ],
             [
              0.1111111111111111,
              "#46039f"
             ],
             [
              0.2222222222222222,
              "#7201a8"
             ],
             [
              0.3333333333333333,
              "#9c179e"
             ],
             [
              0.4444444444444444,
              "#bd3786"
             ],
             [
              0.5555555555555556,
              "#d8576b"
             ],
             [
              0.6666666666666666,
              "#ed7953"
             ],
             [
              0.7777777777777778,
              "#fb9f3a"
             ],
             [
              0.8888888888888888,
              "#fdca26"
             ],
             [
              1,
              "#f0f921"
             ]
            ],
            "type": "histogram2d"
           }
          ],
          "histogram2dcontour": [
           {
            "colorbar": {
             "outlinewidth": 0,
             "ticks": ""
            },
            "colorscale": [
             [
              0,
              "#0d0887"
             ],
             [
              0.1111111111111111,
              "#46039f"
             ],
             [
              0.2222222222222222,
              "#7201a8"
             ],
             [
              0.3333333333333333,
              "#9c179e"
             ],
             [
              0.4444444444444444,
              "#bd3786"
             ],
             [
              0.5555555555555556,
              "#d8576b"
             ],
             [
              0.6666666666666666,
              "#ed7953"
             ],
             [
              0.7777777777777778,
              "#fb9f3a"
             ],
             [
              0.8888888888888888,
              "#fdca26"
             ],
             [
              1,
              "#f0f921"
             ]
            ],
            "type": "histogram2dcontour"
           }
          ],
          "mesh3d": [
           {
            "colorbar": {
             "outlinewidth": 0,
             "ticks": ""
            },
            "type": "mesh3d"
           }
          ],
          "parcoords": [
           {
            "line": {
             "colorbar": {
              "outlinewidth": 0,
              "ticks": ""
             }
            },
            "type": "parcoords"
           }
          ],
          "pie": [
           {
            "automargin": true,
            "type": "pie"
           }
          ],
          "scatter": [
           {
            "marker": {
             "colorbar": {
              "outlinewidth": 0,
              "ticks": ""
             }
            },
            "type": "scatter"
           }
          ],
          "scatter3d": [
           {
            "line": {
             "colorbar": {
              "outlinewidth": 0,
              "ticks": ""
             }
            },
            "marker": {
             "colorbar": {
              "outlinewidth": 0,
              "ticks": ""
             }
            },
            "type": "scatter3d"
           }
          ],
          "scattercarpet": [
           {
            "marker": {
             "colorbar": {
              "outlinewidth": 0,
              "ticks": ""
             }
            },
            "type": "scattercarpet"
           }
          ],
          "scattergeo": [
           {
            "marker": {
             "colorbar": {
              "outlinewidth": 0,
              "ticks": ""
             }
            },
            "type": "scattergeo"
           }
          ],
          "scattergl": [
           {
            "marker": {
             "colorbar": {
              "outlinewidth": 0,
              "ticks": ""
             }
            },
            "type": "scattergl"
           }
          ],
          "scattermapbox": [
           {
            "marker": {
             "colorbar": {
              "outlinewidth": 0,
              "ticks": ""
             }
            },
            "type": "scattermapbox"
           }
          ],
          "scatterpolar": [
           {
            "marker": {
             "colorbar": {
              "outlinewidth": 0,
              "ticks": ""
             }
            },
            "type": "scatterpolar"
           }
          ],
          "scatterpolargl": [
           {
            "marker": {
             "colorbar": {
              "outlinewidth": 0,
              "ticks": ""
             }
            },
            "type": "scatterpolargl"
           }
          ],
          "scatterternary": [
           {
            "marker": {
             "colorbar": {
              "outlinewidth": 0,
              "ticks": ""
             }
            },
            "type": "scatterternary"
           }
          ],
          "surface": [
           {
            "colorbar": {
             "outlinewidth": 0,
             "ticks": ""
            },
            "colorscale": [
             [
              0,
              "#0d0887"
             ],
             [
              0.1111111111111111,
              "#46039f"
             ],
             [
              0.2222222222222222,
              "#7201a8"
             ],
             [
              0.3333333333333333,
              "#9c179e"
             ],
             [
              0.4444444444444444,
              "#bd3786"
             ],
             [
              0.5555555555555556,
              "#d8576b"
             ],
             [
              0.6666666666666666,
              "#ed7953"
             ],
             [
              0.7777777777777778,
              "#fb9f3a"
             ],
             [
              0.8888888888888888,
              "#fdca26"
             ],
             [
              1,
              "#f0f921"
             ]
            ],
            "type": "surface"
           }
          ],
          "table": [
           {
            "cells": {
             "fill": {
              "color": "#EBF0F8"
             },
             "line": {
              "color": "white"
             }
            },
            "header": {
             "fill": {
              "color": "#C8D4E3"
             },
             "line": {
              "color": "white"
             }
            },
            "type": "table"
           }
          ]
         },
         "layout": {
          "annotationdefaults": {
           "arrowcolor": "#2a3f5f",
           "arrowhead": 0,
           "arrowwidth": 1
          },
          "autotypenumbers": "strict",
          "coloraxis": {
           "colorbar": {
            "outlinewidth": 0,
            "ticks": ""
           }
          },
          "colorscale": {
           "diverging": [
            [
             0,
             "#8e0152"
            ],
            [
             0.1,
             "#c51b7d"
            ],
            [
             0.2,
             "#de77ae"
            ],
            [
             0.3,
             "#f1b6da"
            ],
            [
             0.4,
             "#fde0ef"
            ],
            [
             0.5,
             "#f7f7f7"
            ],
            [
             0.6,
             "#e6f5d0"
            ],
            [
             0.7,
             "#b8e186"
            ],
            [
             0.8,
             "#7fbc41"
            ],
            [
             0.9,
             "#4d9221"
            ],
            [
             1,
             "#276419"
            ]
           ],
           "sequential": [
            [
             0,
             "#0d0887"
            ],
            [
             0.1111111111111111,
             "#46039f"
            ],
            [
             0.2222222222222222,
             "#7201a8"
            ],
            [
             0.3333333333333333,
             "#9c179e"
            ],
            [
             0.4444444444444444,
             "#bd3786"
            ],
            [
             0.5555555555555556,
             "#d8576b"
            ],
            [
             0.6666666666666666,
             "#ed7953"
            ],
            [
             0.7777777777777778,
             "#fb9f3a"
            ],
            [
             0.8888888888888888,
             "#fdca26"
            ],
            [
             1,
             "#f0f921"
            ]
           ],
           "sequentialminus": [
            [
             0,
             "#0d0887"
            ],
            [
             0.1111111111111111,
             "#46039f"
            ],
            [
             0.2222222222222222,
             "#7201a8"
            ],
            [
             0.3333333333333333,
             "#9c179e"
            ],
            [
             0.4444444444444444,
             "#bd3786"
            ],
            [
             0.5555555555555556,
             "#d8576b"
            ],
            [
             0.6666666666666666,
             "#ed7953"
            ],
            [
             0.7777777777777778,
             "#fb9f3a"
            ],
            [
             0.8888888888888888,
             "#fdca26"
            ],
            [
             1,
             "#f0f921"
            ]
           ]
          },
          "colorway": [
           "#636efa",
           "#EF553B",
           "#00cc96",
           "#ab63fa",
           "#FFA15A",
           "#19d3f3",
           "#FF6692",
           "#B6E880",
           "#FF97FF",
           "#FECB52"
          ],
          "font": {
           "color": "#2a3f5f"
          },
          "geo": {
           "bgcolor": "white",
           "lakecolor": "white",
           "landcolor": "#E5ECF6",
           "showlakes": true,
           "showland": true,
           "subunitcolor": "white"
          },
          "hoverlabel": {
           "align": "left"
          },
          "hovermode": "closest",
          "mapbox": {
           "style": "light"
          },
          "paper_bgcolor": "white",
          "plot_bgcolor": "#E5ECF6",
          "polar": {
           "angularaxis": {
            "gridcolor": "white",
            "linecolor": "white",
            "ticks": ""
           },
           "bgcolor": "#E5ECF6",
           "radialaxis": {
            "gridcolor": "white",
            "linecolor": "white",
            "ticks": ""
           }
          },
          "scene": {
           "xaxis": {
            "backgroundcolor": "#E5ECF6",
            "gridcolor": "white",
            "gridwidth": 2,
            "linecolor": "white",
            "showbackground": true,
            "ticks": "",
            "zerolinecolor": "white"
           },
           "yaxis": {
            "backgroundcolor": "#E5ECF6",
            "gridcolor": "white",
            "gridwidth": 2,
            "linecolor": "white",
            "showbackground": true,
            "ticks": "",
            "zerolinecolor": "white"
           },
           "zaxis": {
            "backgroundcolor": "#E5ECF6",
            "gridcolor": "white",
            "gridwidth": 2,
            "linecolor": "white",
            "showbackground": true,
            "ticks": "",
            "zerolinecolor": "white"
           }
          },
          "shapedefaults": {
           "line": {
            "color": "#2a3f5f"
           }
          },
          "ternary": {
           "aaxis": {
            "gridcolor": "white",
            "linecolor": "white",
            "ticks": ""
           },
           "baxis": {
            "gridcolor": "white",
            "linecolor": "white",
            "ticks": ""
           },
           "bgcolor": "#E5ECF6",
           "caxis": {
            "gridcolor": "white",
            "linecolor": "white",
            "ticks": ""
           }
          },
          "title": {
           "x": 0.05
          },
          "xaxis": {
           "automargin": true,
           "gridcolor": "white",
           "linecolor": "white",
           "ticks": "",
           "title": {
            "standoff": 15
           },
           "zerolinecolor": "white",
           "zerolinewidth": 2
          },
          "yaxis": {
           "automargin": true,
           "gridcolor": "white",
           "linecolor": "white",
           "ticks": "",
           "title": {
            "standoff": 15
           },
           "zerolinecolor": "white",
           "zerolinewidth": 2
          }
         }
        },
        "xaxis": {
         "anchor": "y",
         "autorange": true,
         "domain": [
          0,
          1
         ],
         "range": [
          0,
          221
         ],
         "title": {
          "text": "days_on_hbo_max"
         },
         "type": "linear"
        },
        "yaxis": {
         "anchor": "x",
         "autorange": true,
         "domain": [
          0,
          1
         ],
         "range": [
          -46997.96903762602,
          1956522.2030859985
         ],
         "title": {
          "text": "hvr"
         },
         "type": "linear"
        }
       }
      },
      "image/png": "[encoded data removed]",
      "text/html": [
       "<div>                            <div id=\"dd58361c-ebdf-4af7-8296-31452d6e1a66\" class=\"plotly-graph-div\" style=\"height:525px; width:100%;\"></div>            <script type=\"text/javascript\">                require([\"plotly\"], function(Plotly) {                    window.PLOTLYENV=window.PLOTLYENV || {};                                    if (document.getElementById(\"dd58361c-ebdf-4af7-8296-31452d6e1a66\")) {                    Plotly.newPlot(                        \"dd58361c-ebdf-4af7-8296-31452d6e1a66\",                        [{\"hovertemplate\":\"segment_name=Buzzy HBO Originals<br>days_on_hbo_max=%{x}<br>hvr=%{y}<extra></extra>\",\"legendgroup\":\"Buzzy HBO Originals\",\"line\":{\"color\":\"#636efa\",\"dash\":\"solid\"},\"marker\":{\"symbol\":\"circle\"},\"mode\":\"lines\",\"name\":\"Buzzy HBO Originals\",\"orientation\":\"v\",\"showlegend\":true,\"x\":[0,1,2,3,4,5,6,7,8,9,10,11,12,13,14,15,16,17,18,19,20,21,22,23,24,25,26,27,28,29,30,31,32,33,34,35,36,37,38,39,40,41,42,43,44,45,46,47,48,49,50,51,52,53,54,55,56,57,58,59,60,61,62,63,64,65,66,67,68,69,70,71,72,73,74,75,76,77,78,79,80,81,82,83,84,85,86,87,88,89,90,91,92,93,94,95,96,97,98,99,100,101,102,103,104,105,106,107,108,109,110,111,112,113,114,115,116,117,118,119,120,121,122,123,124,125,126,127,128,129,130,131,132,133,134,135,136,137,138,139,140,141,142,143,144,145,146,147,148,149,150,151,152,153,154,155,156,157,158,159,160,161,162,163,164,165,166,167,168,169,170,171,172,173,174,175,176,177,178,179,180,181,182,183,184,185,186,187,188,189,190,191,192,193,194,195,196,197,198,199,200,201,202,203,204,205,206,207,208,209,210,211,212,213,214,215,216,217,218,219,220,221],\"xaxis\":\"x\",\"y\":[67482.50550177568,92830.40222942409,106161.94607822128,115021.71936614363,121924.84543149079,129365.34528254917,138403.04343412843,201983.36772790668,224604.0792330023,237198.182381268,245906.9708984044,252486.7078690416,259171.35653825747,267094.93550867366,341563.0618473223,373304.8468705674,389441.860032314,399934.88151130243,407105.4241010191,414799.41487514187,424086.73277590866,496743.60618585953,524518.6575660836,541369.8363791237,552890.7011762455,561362.0937336108,570838.0475201262,581238.8173934813,653049.4297029758,681073.9778257777,698239.6550084669,709796.533143391,718221.3489325002,727308.7291526333,737770.8943373467,819865.001076359,848584.9304484556,866037.2730202435,877395.7500956174,885989.5187680108,895301.1339749619,905399.6700987535,976741.9541956548,1003798.5765807943,1020083.4581389455,1031060.4761557372,1039418.9119292191,1048126.1992950948,1057909.8590673087,1140098.4100319007,1169860.8546211177,1187995.6343483818,1200868.511403241,1210792.4412146092,1220619.8240186502,1231782.6083724073,1303364.0450977467,1330054.8150163954,1345943.294450165,1357453.2177265708,1366588.2444904319,1376734.6271958668,1390062.8280166674,1470112.096958384,1498787.3015651943,1516587.9738379798,1529434.455218336,1539680.532388737,1550190.3687292752,1560718.0503924515,1570004.2256018354,1576772.288599821,1583356.3914242347,1589104.2825125724,1594275.1146646077,1600408.821648811,1606757.1036635926,1612380.7338717473,1616979.630258764,1621213.439105299,1625108.8731735756,1629053.6227003434,1633508.5204568976,1638025.419514228,1641763.5569469042,1645047.2682123352,1648169.1315986745,1651076.3593581733,1653773.6766981017,1656996.6851227325,1660449.9213888082,1663312.5629043267,1665863.8774702193,1668399.8621344646,1670783.3225639488,1673261.292039208,1676233.7850383793,1679445.101691531,1682033.8852317773,1684206.0693623102,1686366.8461283797,1688339.7153820104,1690182.6467973157,1692279.6493216108,1694539.702119083,1696446.8720495098,1698171.0062375125,1699906.9442377798,1701655.3713456164,1703253.1443086255,1705159.8782601939,1707390.1679054757,1709296.7849154966,1710994.672780676,1712694.5130741096,1714370.2433194807,1715879.117723118,1717601.328643779,1719440.1491536824,1721208.8799557954,1722926.4215000758,1724642.075382055,1726372.997865464,1728223.8406915138,1729867.0994738163,1731300.5271152637,1733298.9730734627,1735524.0331655666,1737591.7212964406,1739579.3489571386,1741494.9031006221,1743494.4029406484,1745288.1954334262,1747753.0600642434,1749730.0422268931,1751531.8529455091,1753218.6955074219,1754792.4956709608,1756568.7687557803,1758417.7030438716,1759982.5967511365,1761433.354701282,1762870.8366591453,1764319.2042256284,1765776.0299228218,1767394.0124095501,1769157.6568638163,1770954.6870316993,1772521.8451647593,1774086.8316617168,1775635.6699099122,1777155.4566733136,1778931.740615632,1780869.2895705237,1782474.8675624002,1784053.570633425,1785588.3149483637,1787040.8911919207,1788455.7948220202,1790105.5558952095,1791905.080716696,1793259.4714987653,1794674.322736676,1796041.4325021289,1797368.0555570477,1798656.688748206,1800114.9348830613,1801787.2057544847,1803108.860567364,1804379.7685995093,1805505.93525046,1806604.6045288227,1807680.3816407053,1808774.7948859276,1810021.4284370458,1810891.4229031322,1811912.6620701877,1812916.828069971,1813936.3505871743,1815006.6206703072,1816241.5251120424,1817641.1213136346,1818924.8155861248,1820058.8675735642,1821184.9601443931,1822323.9956177045,1823351.4046085903,1824551.1931758986,1825963.5569353518,1827056.2526643053,1828082.0436705463,1829020.2935219754,1829937.5539776692,1830851.5193569905,1831885.6300269356,1833029.8817590834,1834085.8490712487,1835025.9384437203,1835934.0115018412,1836821.2402919668,1837644.0009889712,1838629.3971808455,1839776.12650868,1840698.5237549422,1841676.1721296816,1842549.7932456685,1843387.7646283817,1844163.722607321,1845130.0453873442,1846181.4266903372,1847090.7734338187,1847937.1895716863,1848812.2120096262,1849655.8864247506,1850431.6982741451,1851322.170181657,1852354.411682261,1853263.1661908883,1854071.0216743865,1854865.1223523933,1855613.0356160058,1856346.1944798173],\"yaxis\":\"y\",\"type\":\"scatter\"},{\"hovertemplate\":\"segment_name=Thrilling Action Movies<br>days_on_hbo_max=%{x}<br>hvr=%{y}<extra></extra>\",\"legendgroup\":\"Thrilling Action Movies\",\"line\":{\"color\":\"#EF553B\",\"dash\":\"solid\"},\"marker\":{\"symbol\":\"circle\"},\"mode\":\"lines\",\"name\":\"Thrilling Action Movies\",\"orientation\":\"v\",\"showlegend\":true,\"x\":[0,1,2,3,4,5,6,7,8,9,10,11,12,13,14,15,16,17,18,19,20,21,22,23,24,25,26,27,28,29,30,31,32,33,34,35,36,37,38,39,40,41,42,43,44,45,46,47,48,49,50,51,52,53,54,55,56,57,58,59,60,61,62,63,64,65,66,67,68,69,70,71,72,73,74,75,76,77,78,79,80,81,82,83,84,85,86,87,88,89,90,91,92,93,94,95,96,97,98,99,100,101,102,103,104,105,106,107,108,109,110,111,112,113,114,115,116,117,118,119,120,121,122,123,124,125,126,127,128,129,130,131,132,133,134,135,136,137,138,139,140,141,142,143,144,145,146,147,148,149,150,151,152,153,154,155,156,157,158,159,160,161,162,163,164,165,166,167,168,169,170,171,172,173,174,175,176,177,178,179,180,181,182,183,184,185,186,187,188,189,190,191,192,193,194,195,196,197,198,199,200,201,202,203,204,205,206,207,208,209,210,211,212,213,214,215,216,217,218,219,220,221],\"xaxis\":\"x\",\"y\":[53178.0395685552,73379.4626422961,84109.62293975959,91560.84115058392,97290.93727777422,103481.42746269409,110853.83005268926,158432.05487356507,175912.01408770896,185926.56319660333,192989.89362359434,198318.60519641763,203860.50439503658,210514.55678141795,267691.07681958814,291404.71463372774,304088.0701174691,312438.38680676697,318245.328039743,324288.96526212513,331659.115827222,386079.2836248488,407421.7430123288,420309.8551755059,429198.2034636543,435979.10858701105,443664.42500090686,452111.16999604664,506072.8565788653,527324.2275487091,540533.6799875154,549385.8306039887,556056.1300127275,563337.0491723346,571801.0128686706,632609.0295362507,654032.0496784161,667103.5275059488,675873.730179495,682611.6858884693,689799.4326395511,697922.6203977474,750438.8951188053,770795.9829805633,782967.1640781227,791411.5227510168,797976.7650626939,804857.4441192633,812747.5926735568,873390.5971358824,895758.6515800413,909422.2898859138,919428.4234549114,927209.3531308318,934908.3766421886,943933.5987369529,996912.1149162062,1017038.9464525903,1028974.7928101496,1037806.4224468743,1044992.1455866679,1052885.2744038564,1063414.5282119128,1122639.2476490869,1144540.4279198104,1158317.2174969018,1168519.5804622709,1176774.359675471,1185275.0985489234,1193781.2678258633,1201014.7028980993,1206359.769580959,1211542.134243033,1216116.6809587919,1220296.3581910592,1225169.754445731,1230333.4898517614,1234785.1187957257,1238499.3670398456,1241912.5268519835,1245092.4860869125,1248250.788176093,1251818.2047123327,1255536.0922508663,1258657.17070196,1261386.0273571163,1263899.8958279528,1266299.7433712673,1268523.5045160237,1271057.3918138202,1273851.7129885193,1276220.5591639378,1278295.7912020574,1280326.3848206175,1282378.9088636849,1284538.9173192151,1287004.712635748,1289691.069934945,1291878.3336759293,1293748.196276144,1295583.1383287099,1297218.256853333,1298729.0557156308,1300451.5067468898,1302380.5794842397,1304038.446293107,1305513.7675717892,1307036.4018441336,1308520.279675053,1309911.4564646932,1311519.8548352893,1313414.0136856947,1315022.89926307,1316442.205110003,1317834.524482683,1319225.6891693263,1320495.2217913275,1321908.9091644024,1323493.872520408,1325011.5582079238,1326455.1204761383,1327909.960008293,1329351.4208486485,1330968.6421187706,1332405.9143453992,1333746.6234002793,1335608.691585441,1337543.0829291658,1339365.9553095407,1341083.0737902396,1342773.4244359478,1344546.544025175,1346245.7351969406,1348389.1316177384,1350098.3657908505,1351609.981538155,1353064.5738928851,1354416.983681438,1355914.6194857506,1357514.7263246668,1358904.314453045,1360199.7909311114,1361464.0052716443,1362759.1655824396,1364006.3555196973,1365391.7379222745,1366932.2758390682,1368553.3421005176,1370025.0042380067,1371546.628789587,1373006.7837602282,1374436.8590864993,1376088.1877828436,1377963.7575310324,1379571.6441910015,1381116.054121045,1382635.9892883736,1384110.4736728433,1385448.0915612383,1387009.237588572,1388722.4652110941,1390128.4613831062,1391515.926503985,1392840.2018200362,1394125.1630359455,1395341.2714330524,1396697.7528937734,1398372.3235252718,1399717.9108484266,1400987.1357779754,1402121.2724052083,1403168.0392691428,1404194.3113358896,1405287.436301757,1406501.8879142085,1407511.4801206712,1408535.3339424785,1409554.3692258194,1410609.3995706197,1411647.9839382092,1412841.5167693167,1414195.495480684,1415436.1267276062,1416505.948214436,1417631.455536027,1418785.6911624582,1419831.1684473727,1421013.0278916399,1422372.1256858336,1423507.5612062456,1424570.3711013305,1425508.7155836122,1426402.3044881788,1427291.4622857554,1428285.1986108501,1429504.5974001717,1430614.456297245,1431600.7896731037,1432569.0511808838,1433543.596665202,1434467.1128300133,1435473.0048479636,1436725.9075920936,1437744.955140905,1438806.5384088384,1439765.8937311035,1440648.9875722777,1441515.770383366,1442498.8832774304,1443636.3568677048,1444661.694999618,1445594.8502720583,1446542.2321775674,1447466.7367542794,1448321.8846265466,1449284.4642483355,1450339.312939792,1451298.2156314172,1452174.5965840477,1453034.510575508,1453848.5547277797,1454664.5692597416],\"yaxis\":\"y\",\"type\":\"scatter\"}],                        {\"template\":{\"data\":{\"bar\":[{\"error_x\":{\"color\":\"#2a3f5f\"},\"error_y\":{\"color\":\"#2a3f5f\"},\"marker\":{\"line\":{\"color\":\"#E5ECF6\",\"width\":0.5},\"pattern\":{\"fillmode\":\"overlay\",\"size\":10,\"solidity\":0.2}},\"type\":\"bar\"}],\"barpolar\":[{\"marker\":{\"line\":{\"color\":\"#E5ECF6\",\"width\":0.5},\"pattern\":{\"fillmode\":\"overlay\",\"size\":10,\"solidity\":0.2}},\"type\":\"barpolar\"}],\"carpet\":[{\"aaxis\":{\"endlinecolor\":\"#2a3f5f\",\"gridcolor\":\"white\",\"linecolor\":\"white\",\"minorgridcolor\":\"white\",\"startlinecolor\":\"#2a3f5f\"},\"baxis\":{\"endlinecolor\":\"#2a3f5f\",\"gridcolor\":\"white\",\"linecolor\":\"white\",\"minorgridcolor\":\"white\",\"startlinecolor\":\"#2a3f5f\"},\"type\":\"carpet\"}],\"choropleth\":[{\"colorbar\":{\"outlinewidth\":0,\"ticks\":\"\"},\"type\":\"choropleth\"}],\"contour\":[{\"colorbar\":{\"outlinewidth\":0,\"ticks\":\"\"},\"colorscale\":[[0.0,\"#0d0887\"],[0.1111111111111111,\"#46039f\"],[0.2222222222222222,\"#7201a8\"],[0.3333333333333333,\"#9c179e\"],[0.4444444444444444,\"#bd3786\"],[0.5555555555555556,\"#d8576b\"],[0.6666666666666666,\"#ed7953\"],[0.7777777777777778,\"#fb9f3a\"],[0.8888888888888888,\"#fdca26\"],[1.0,\"#f0f921\"]],\"type\":\"contour\"}],\"contourcarpet\":[{\"colorbar\":{\"outlinewidth\":0,\"ticks\":\"\"},\"type\":\"contourcarpet\"}],\"heatmap\":[{\"colorbar\":{\"outlinewidth\":0,\"ticks\":\"\"},\"colorscale\":[[0.0,\"#0d0887\"],[0.1111111111111111,\"#46039f\"],[0.2222222222222222,\"#7201a8\"],[0.3333333333333333,\"#9c179e\"],[0.4444444444444444,\"#bd3786\"],[0.5555555555555556,\"#d8576b\"],[0.6666666666666666,\"#ed7953\"],[0.7777777777777778,\"#fb9f3a\"],[0.8888888888888888,\"#fdca26\"],[1.0,\"#f0f921\"]],\"type\":\"heatmap\"}],\"heatmapgl\":[{\"colorbar\":{\"outlinewidth\":0,\"ticks\":\"\"},\"colorscale\":[[0.0,\"#0d0887\"],[0.1111111111111111,\"#46039f\"],[0.2222222222222222,\"#7201a8\"],[0.3333333333333333,\"#9c179e\"],[0.4444444444444444,\"#bd3786\"],[0.5555555555555556,\"#d8576b\"],[0.6666666666666666,\"#ed7953\"],[0.7777777777777778,\"#fb9f3a\"],[0.8888888888888888,\"#fdca26\"],[1.0,\"#f0f921\"]],\"type\":\"heatmapgl\"}],\"histogram\":[{\"marker\":{\"pattern\":{\"fillmode\":\"overlay\",\"size\":10,\"solidity\":0.2}},\"type\":\"histogram\"}],\"histogram2d\":[{\"colorbar\":{\"outlinewidth\":0,\"ticks\":\"\"},\"colorscale\":[[0.0,\"#0d0887\"],[0.1111111111111111,\"#46039f\"],[0.2222222222222222,\"#7201a8\"],[0.3333333333333333,\"#9c179e\"],[0.4444444444444444,\"#bd3786\"],[0.5555555555555556,\"#d8576b\"],[0.6666666666666666,\"#ed7953\"],[0.7777777777777778,\"#fb9f3a\"],[0.8888888888888888,\"#fdca26\"],[1.0,\"#f0f921\"]],\"type\":\"histogram2d\"}],\"histogram2dcontour\":[{\"colorbar\":{\"outlinewidth\":0,\"ticks\":\"\"},\"colorscale\":[[0.0,\"#0d0887\"],[0.1111111111111111,\"#46039f\"],[0.2222222222222222,\"#7201a8\"],[0.3333333333333333,\"#9c179e\"],[0.4444444444444444,\"#bd3786\"],[0.5555555555555556,\"#d8576b\"],[0.6666666666666666,\"#ed7953\"],[0.7777777777777778,\"#fb9f3a\"],[0.8888888888888888,\"#fdca26\"],[1.0,\"#f0f921\"]],\"type\":\"histogram2dcontour\"}],\"mesh3d\":[{\"colorbar\":{\"outlinewidth\":0,\"ticks\":\"\"},\"type\":\"mesh3d\"}],\"parcoords\":[{\"line\":{\"colorbar\":{\"outlinewidth\":0,\"ticks\":\"\"}},\"type\":\"parcoords\"}],\"pie\":[{\"automargin\":true,\"type\":\"pie\"}],\"scatter\":[{\"marker\":{\"colorbar\":{\"outlinewidth\":0,\"ticks\":\"\"}},\"type\":\"scatter\"}],\"scatter3d\":[{\"line\":{\"colorbar\":{\"outlinewidth\":0,\"ticks\":\"\"}},\"marker\":{\"colorbar\":{\"outlinewidth\":0,\"ticks\":\"\"}},\"type\":\"scatter3d\"}],\"scattercarpet\":[{\"marker\":{\"colorbar\":{\"outlinewidth\":0,\"ticks\":\"\"}},\"type\":\"scattercarpet\"}],\"scattergeo\":[{\"marker\":{\"colorbar\":{\"outlinewidth\":0,\"ticks\":\"\"}},\"type\":\"scattergeo\"}],\"scattergl\":[{\"marker\":{\"colorbar\":{\"outlinewidth\":0,\"ticks\":\"\"}},\"type\":\"scattergl\"}],\"scattermapbox\":[{\"marker\":{\"colorbar\":{\"outlinewidth\":0,\"ticks\":\"\"}},\"type\":\"scattermapbox\"}],\"scatterpolar\":[{\"marker\":{\"colorbar\":{\"outlinewidth\":0,\"ticks\":\"\"}},\"type\":\"scatterpolar\"}],\"scatterpolargl\":[{\"marker\":{\"colorbar\":{\"outlinewidth\":0,\"ticks\":\"\"}},\"type\":\"scatterpolargl\"}],\"scatterternary\":[{\"marker\":{\"colorbar\":{\"outlinewidth\":0,\"ticks\":\"\"}},\"type\":\"scatterternary\"}],\"surface\":[{\"colorbar\":{\"outlinewidth\":0,\"ticks\":\"\"},\"colorscale\":[[0.0,\"#0d0887\"],[0.1111111111111111,\"#46039f\"],[0.2222222222222222,\"#7201a8\"],[0.3333333333333333,\"#9c179e\"],[0.4444444444444444,\"#bd3786\"],[0.5555555555555556,\"#d8576b\"],[0.6666666666666666,\"#ed7953\"],[0.7777777777777778,\"#fb9f3a\"],[0.8888888888888888,\"#fdca26\"],[1.0,\"#f0f921\"]],\"type\":\"surface\"}],\"table\":[{\"cells\":{\"fill\":{\"color\":\"#EBF0F8\"},\"line\":{\"color\":\"white\"}},\"header\":{\"fill\":{\"color\":\"#C8D4E3\"},\"line\":{\"color\":\"white\"}},\"type\":\"table\"}]},\"layout\":{\"annotationdefaults\":{\"arrowcolor\":\"#2a3f5f\",\"arrowhead\":0,\"arrowwidth\":1},\"autotypenumbers\":\"strict\",\"coloraxis\":{\"colorbar\":{\"outlinewidth\":0,\"ticks\":\"\"}},\"colorscale\":{\"diverging\":[[0,\"#8e0152\"],[0.1,\"#c51b7d\"],[0.2,\"#de77ae\"],[0.3,\"#f1b6da\"],[0.4,\"#fde0ef\"],[0.5,\"#f7f7f7\"],[0.6,\"#e6f5d0\"],[0.7,\"#b8e186\"],[0.8,\"#7fbc41\"],[0.9,\"#4d9221\"],[1,\"#276419\"]],\"sequential\":[[0.0,\"#0d0887\"],[0.1111111111111111,\"#46039f\"],[0.2222222222222222,\"#7201a8\"],[0.3333333333333333,\"#9c179e\"],[0.4444444444444444,\"#bd3786\"],[0.5555555555555556,\"#d8576b\"],[0.6666666666666666,\"#ed7953\"],[0.7777777777777778,\"#fb9f3a\"],[0.8888888888888888,\"#fdca26\"],[1.0,\"#f0f921\"]],\"sequentialminus\":[[0.0,\"#0d0887\"],[0.1111111111111111,\"#46039f\"],[0.2222222222222222,\"#7201a8\"],[0.3333333333333333,\"#9c179e\"],[0.4444444444444444,\"#bd3786\"],[0.5555555555555556,\"#d8576b\"],[0.6666666666666666,\"#ed7953\"],[0.7777777777777778,\"#fb9f3a\"],[0.8888888888888888,\"#fdca26\"],[1.0,\"#f0f921\"]]},\"colorway\":[\"#636efa\",\"#EF553B\",\"#00cc96\",\"#ab63fa\",\"#FFA15A\",\"#19d3f3\",\"#FF6692\",\"#B6E880\",\"#FF97FF\",\"#FECB52\"],\"font\":{\"color\":\"#2a3f5f\"},\"geo\":{\"bgcolor\":\"white\",\"lakecolor\":\"white\",\"landcolor\":\"#E5ECF6\",\"showlakes\":true,\"showland\":true,\"subunitcolor\":\"white\"},\"hoverlabel\":{\"align\":\"left\"},\"hovermode\":\"closest\",\"mapbox\":{\"style\":\"light\"},\"paper_bgcolor\":\"white\",\"plot_bgcolor\":\"#E5ECF6\",\"polar\":{\"angularaxis\":{\"gridcolor\":\"white\",\"linecolor\":\"white\",\"ticks\":\"\"},\"bgcolor\":\"#E5ECF6\",\"radialaxis\":{\"gridcolor\":\"white\",\"linecolor\":\"white\",\"ticks\":\"\"}},\"scene\":{\"xaxis\":{\"backgroundcolor\":\"#E5ECF6\",\"gridcolor\":\"white\",\"gridwidth\":2,\"linecolor\":\"white\",\"showbackground\":true,\"ticks\":\"\",\"zerolinecolor\":\"white\"},\"yaxis\":{\"backgroundcolor\":\"#E5ECF6\",\"gridcolor\":\"white\",\"gridwidth\":2,\"linecolor\":\"white\",\"showbackground\":true,\"ticks\":\"\",\"zerolinecolor\":\"white\"},\"zaxis\":{\"backgroundcolor\":\"#E5ECF6\",\"gridcolor\":\"white\",\"gridwidth\":2,\"linecolor\":\"white\",\"showbackground\":true,\"ticks\":\"\",\"zerolinecolor\":\"white\"}},\"shapedefaults\":{\"line\":{\"color\":\"#2a3f5f\"}},\"ternary\":{\"aaxis\":{\"gridcolor\":\"white\",\"linecolor\":\"white\",\"ticks\":\"\"},\"baxis\":{\"gridcolor\":\"white\",\"linecolor\":\"white\",\"ticks\":\"\"},\"bgcolor\":\"#E5ECF6\",\"caxis\":{\"gridcolor\":\"white\",\"linecolor\":\"white\",\"ticks\":\"\"}},\"title\":{\"x\":0.05},\"xaxis\":{\"automargin\":true,\"gridcolor\":\"white\",\"linecolor\":\"white\",\"ticks\":\"\",\"title\":{\"standoff\":15},\"zerolinecolor\":\"white\",\"zerolinewidth\":2},\"yaxis\":{\"automargin\":true,\"gridcolor\":\"white\",\"linecolor\":\"white\",\"ticks\":\"\",\"title\":{\"standoff\":15},\"zerolinecolor\":\"white\",\"zerolinewidth\":2}}},\"xaxis\":{\"anchor\":\"y\",\"domain\":[0.0,1.0],\"title\":{\"text\":\"days_on_hbo_max\"}},\"yaxis\":{\"anchor\":\"x\",\"domain\":[0.0,1.0],\"title\":{\"text\":\"hvr\"}},\"legend\":{\"title\":{\"text\":\"segment_name\"},\"tracegroupgap\":0},\"margin\":{\"t\":60}},                        {\"responsive\": true}                    ).then(function(){\n",
       "                            \n",
       "var gd = document.getElementById('dd58361c-ebdf-4af7-8296-31452d6e1a66');\n",
       "var x = new MutationObserver(function (mutations, observer) {{\n",
       "        var display = window.getComputedStyle(gd).display;\n",
       "        if (!display || display === 'none') {{\n",
       "            console.log([gd, 'removed!']);\n",
       "            Plotly.purge(gd);\n",
       "            observer.disconnect();\n",
       "        }}\n",
       "}});\n",
       "\n",
       "// Listen for the removal of the full notebook cells\n",
       "var notebookContainer = gd.closest('#notebook-container');\n",
       "if (notebookContainer) {{\n",
       "    x.observe(notebookContainer, {childList: true});\n",
       "}}\n",
       "\n",
       "// Listen for the clearing of the current output cell\n",
       "var outputEl = gd.closest('.output');\n",
       "if (outputEl) {{\n",
       "    x.observe(outputEl, {childList: true});\n",
       "}}\n",
       "\n",
       "                        })                };                });            </script>        </div>"
      ]
     },
     "metadata": {},
     "output_type": "display_data"
    }
   ],
   "source": [
    "\n",
    "fig = px.line(plot, x=\"days_on_hbo_max\", y=\"hvr\", color='segment_name')\n",
    "fig.show()"
   ]
  },
  {
   "cell_type": "code",
   "execution_count": 70,
   "id": "9163ddf5",
   "metadata": {},
   "outputs": [
    {
     "data": {
      "text/html": [
       "<div>\n",
       "<style scoped>\n",
       "    .dataframe tbody tr th:only-of-type {\n",
       "        vertical-align: middle;\n",
       "    }\n",
       "\n",
       "    .dataframe tbody tr th {\n",
       "        vertical-align: top;\n",
       "    }\n",
       "\n",
       "    .dataframe thead th {\n",
       "        text-align: right;\n",
       "    }\n",
       "</style>\n",
       "<table border=\"1\" class=\"dataframe\">\n",
       "  <thead>\n",
       "    <tr style=\"text-align: right;\">\n",
       "      <th></th>\n",
       "      <th>segment_name</th>\n",
       "      <th>title_name</th>\n",
       "      <th>title_id</th>\n",
       "      <th>season_number</th>\n",
       "      <th>request_date</th>\n",
       "      <th>days_on_hbo_max</th>\n",
       "      <th>daily_hours_viewed</th>\n",
       "      <th>cumulative_hours_viewed</th>\n",
       "      <th>offering_start_date</th>\n",
       "      <th>asset_run_time_hours</th>\n",
       "      <th>content_category</th>\n",
       "      <th>program_type</th>\n",
       "      <th>release_year</th>\n",
       "      <th>medal</th>\n",
       "      <th>pillar_genre</th>\n",
       "      <th>hvr</th>\n",
       "    </tr>\n",
       "  </thead>\n",
       "  <tbody>\n",
       "    <tr>\n",
       "      <th>6615130</th>\n",
       "      <td>Buzzy HBO Originals</td>\n",
       "      <td>The Batman</td>\n",
       "      <td>GYiDbSAmIpMNvYAEAAAAI</td>\n",
       "      <td>0</td>\n",
       "      <td>2022-04-18</td>\n",
       "      <td>0</td>\n",
       "      <td>328,953.35</td>\n",
       "      <td>328,953.35</td>\n",
       "      <td>2022-04-18</td>\n",
       "      <td>2.94</td>\n",
       "      <td>movies</td>\n",
       "      <td>acquired</td>\n",
       "      <td>2022</td>\n",
       "      <td>Platinum</td>\n",
       "      <td>Action/Adventure</td>\n",
       "      <td>112,015.92</td>\n",
       "    </tr>\n",
       "  </tbody>\n",
       "</table>\n",
       "</div>"
      ],
      "text/plain": [
       "                segment_name  title_name               title_id  \\\n",
       "6615130  Buzzy HBO Originals  The Batman  GYiDbSAmIpMNvYAEAAAAI   \n",
       "\n",
       "         season_number request_date  days_on_hbo_max  daily_hours_viewed  \\\n",
       "6615130              0   2022-04-18                0          328,953.35   \n",
       "\n",
       "         cumulative_hours_viewed offering_start_date  asset_run_time_hours  \\\n",
       "6615130               328,953.35          2022-04-18                  2.94   \n",
       "\n",
       "        content_category program_type  release_year     medal  \\\n",
       "6615130           movies     acquired          2022  Platinum   \n",
       "\n",
       "              pillar_genre        hvr  \n",
       "6615130  Action/Adventure  112,015.92  "
      ]
     },
     "execution_count": 70,
     "metadata": {},
     "output_type": "execute_result"
    }
   ],
   "source": [
    "title_hours_viewed[(title_hours_viewed['title_name'] == 'The Batman')\n",
    "                  &(title_hours_viewed['season_number'] == 0)].head(1)"
   ]
  },
  {
   "cell_type": "code",
   "execution_count": 71,
   "id": "138a4943",
   "metadata": {},
   "outputs": [],
   "source": [
    "plot = title_hours_viewed[(title_hours_viewed['title_name'] == 'The Batman')\n",
    "                  &(title_hours_viewed['season_number'] == 0)]"
   ]
  },
  {
   "cell_type": "code",
   "execution_count": 72,
   "id": "92a94c15",
   "metadata": {},
   "outputs": [],
   "source": [
    "cohort_subs = pd.read_csv('cohort subs (1).csv')"
   ]
  },
  {
   "cell_type": "code",
   "execution_count": 73,
   "id": "c43f5e24",
   "metadata": {},
   "outputs": [
    {
     "data": {
      "text/html": [
       "<div>\n",
       "<style scoped>\n",
       "    .dataframe tbody tr th:only-of-type {\n",
       "        vertical-align: middle;\n",
       "    }\n",
       "\n",
       "    .dataframe tbody tr th {\n",
       "        vertical-align: top;\n",
       "    }\n",
       "\n",
       "    .dataframe thead th {\n",
       "        text-align: right;\n",
       "    }\n",
       "</style>\n",
       "<table border=\"1\" class=\"dataframe\">\n",
       "  <thead>\n",
       "    <tr style=\"text-align: right;\">\n",
       "      <th></th>\n",
       "      <th>SEGMENT_NAME</th>\n",
       "      <th>START_DATE</th>\n",
       "      <th>END_DATE</th>\n",
       "      <th>DAYS_ON_HBO_MAX</th>\n",
       "      <th>COHORT_SUBS</th>\n",
       "    </tr>\n",
       "  </thead>\n",
       "  <tbody>\n",
       "    <tr>\n",
       "      <th>0</th>\n",
       "      <td>Buzzy HBO Originals</td>\n",
       "      <td>2022-04-18</td>\n",
       "      <td>2022-04-18</td>\n",
       "      <td>0</td>\n",
       "      <td>1751170</td>\n",
       "    </tr>\n",
       "    <tr>\n",
       "      <th>1</th>\n",
       "      <td>Thrilling Action Movies</td>\n",
       "      <td>2022-04-18</td>\n",
       "      <td>2022-04-18</td>\n",
       "      <td>0</td>\n",
       "      <td>1446222</td>\n",
       "    </tr>\n",
       "    <tr>\n",
       "      <th>2</th>\n",
       "      <td>Thrilling Action Movies</td>\n",
       "      <td>2022-04-18</td>\n",
       "      <td>2022-04-25</td>\n",
       "      <td>7</td>\n",
       "      <td>1472979</td>\n",
       "    </tr>\n",
       "    <tr>\n",
       "      <th>3</th>\n",
       "      <td>Buzzy HBO Originals</td>\n",
       "      <td>2022-04-18</td>\n",
       "      <td>2022-04-25</td>\n",
       "      <td>7</td>\n",
       "      <td>1770080</td>\n",
       "    </tr>\n",
       "    <tr>\n",
       "      <th>4</th>\n",
       "      <td>Thrilling Action Movies</td>\n",
       "      <td>2022-04-18</td>\n",
       "      <td>2022-05-02</td>\n",
       "      <td>14</td>\n",
       "      <td>1488596</td>\n",
       "    </tr>\n",
       "  </tbody>\n",
       "</table>\n",
       "</div>"
      ],
      "text/plain": [
       "              SEGMENT_NAME  START_DATE    END_DATE  DAYS_ON_HBO_MAX  \\\n",
       "0      Buzzy HBO Originals  2022-04-18  2022-04-18                0   \n",
       "1  Thrilling Action Movies  2022-04-18  2022-04-18                0   \n",
       "2  Thrilling Action Movies  2022-04-18  2022-04-25                7   \n",
       "3      Buzzy HBO Originals  2022-04-18  2022-04-25                7   \n",
       "4  Thrilling Action Movies  2022-04-18  2022-05-02               14   \n",
       "\n",
       "   COHORT_SUBS  \n",
       "0      1751170  \n",
       "1      1446222  \n",
       "2      1472979  \n",
       "3      1770080  \n",
       "4      1488596  "
      ]
     },
     "execution_count": 73,
     "metadata": {},
     "output_type": "execute_result"
    }
   ],
   "source": [
    "cohort_subs.head()"
   ]
  },
  {
   "cell_type": "code",
   "execution_count": 74,
   "id": "d2fcebe4",
   "metadata": {},
   "outputs": [],
   "source": [
    "cohort_subs.columns = [i.lower() for i in cohort_subs.columns]"
   ]
  },
  {
   "cell_type": "code",
   "execution_count": 75,
   "id": "2c09375f",
   "metadata": {},
   "outputs": [],
   "source": [
    "plot = plot.merge(cohort_subs[['segment_name', 'days_on_hbo_max', 'cohort_subs']],\n",
    "                 on = ['segment_name', 'days_on_hbo_max'])"
   ]
  },
  {
   "cell_type": "code",
   "execution_count": 76,
   "id": "ec0a990c",
   "metadata": {},
   "outputs": [
    {
     "data": {
      "text/html": [
       "<div>\n",
       "<style scoped>\n",
       "    .dataframe tbody tr th:only-of-type {\n",
       "        vertical-align: middle;\n",
       "    }\n",
       "\n",
       "    .dataframe tbody tr th {\n",
       "        vertical-align: top;\n",
       "    }\n",
       "\n",
       "    .dataframe thead th {\n",
       "        text-align: right;\n",
       "    }\n",
       "</style>\n",
       "<table border=\"1\" class=\"dataframe\">\n",
       "  <thead>\n",
       "    <tr style=\"text-align: right;\">\n",
       "      <th></th>\n",
       "      <th>segment_name</th>\n",
       "      <th>title_name</th>\n",
       "      <th>title_id</th>\n",
       "      <th>season_number</th>\n",
       "      <th>request_date</th>\n",
       "      <th>days_on_hbo_max</th>\n",
       "      <th>daily_hours_viewed</th>\n",
       "      <th>cumulative_hours_viewed</th>\n",
       "      <th>offering_start_date</th>\n",
       "      <th>asset_run_time_hours</th>\n",
       "      <th>content_category</th>\n",
       "      <th>program_type</th>\n",
       "      <th>release_year</th>\n",
       "      <th>medal</th>\n",
       "      <th>pillar_genre</th>\n",
       "      <th>hvr</th>\n",
       "      <th>cohort_subs</th>\n",
       "    </tr>\n",
       "  </thead>\n",
       "  <tbody>\n",
       "    <tr>\n",
       "      <th>0</th>\n",
       "      <td>Buzzy HBO Originals</td>\n",
       "      <td>The Batman</td>\n",
       "      <td>GYiDbSAmIpMNvYAEAAAAI</td>\n",
       "      <td>0</td>\n",
       "      <td>2022-04-18</td>\n",
       "      <td>0</td>\n",
       "      <td>328,953.35</td>\n",
       "      <td>328,953.35</td>\n",
       "      <td>2022-04-18</td>\n",
       "      <td>2.94</td>\n",
       "      <td>movies</td>\n",
       "      <td>acquired</td>\n",
       "      <td>2022</td>\n",
       "      <td>Platinum</td>\n",
       "      <td>Action/Adventure</td>\n",
       "      <td>112,015.92</td>\n",
       "      <td>1751170</td>\n",
       "    </tr>\n",
       "    <tr>\n",
       "      <th>1</th>\n",
       "      <td>Buzzy HBO Originals</td>\n",
       "      <td>The Batman</td>\n",
       "      <td>GYiDbSAmIpMNvYAEAAAAI</td>\n",
       "      <td>0</td>\n",
       "      <td>2022-04-25</td>\n",
       "      <td>7</td>\n",
       "      <td>160,138.38</td>\n",
       "      <td>2,437,311.63</td>\n",
       "      <td>2022-04-18</td>\n",
       "      <td>2.94</td>\n",
       "      <td>movies</td>\n",
       "      <td>acquired</td>\n",
       "      <td>2022</td>\n",
       "      <td>Platinum</td>\n",
       "      <td>Action/Adventure</td>\n",
       "      <td>829,958.75</td>\n",
       "      <td>1770080</td>\n",
       "    </tr>\n",
       "    <tr>\n",
       "      <th>2</th>\n",
       "      <td>Buzzy HBO Originals</td>\n",
       "      <td>The Batman</td>\n",
       "      <td>GYiDbSAmIpMNvYAEAAAAI</td>\n",
       "      <td>0</td>\n",
       "      <td>2022-05-02</td>\n",
       "      <td>14</td>\n",
       "      <td>71,925.19</td>\n",
       "      <td>3,091,028.58</td>\n",
       "      <td>2022-04-18</td>\n",
       "      <td>2.94</td>\n",
       "      <td>movies</td>\n",
       "      <td>acquired</td>\n",
       "      <td>2022</td>\n",
       "      <td>Platinum</td>\n",
       "      <td>Action/Adventure</td>\n",
       "      <td>1,052,563.89</td>\n",
       "      <td>1782927</td>\n",
       "    </tr>\n",
       "    <tr>\n",
       "      <th>3</th>\n",
       "      <td>Buzzy HBO Originals</td>\n",
       "      <td>The Batman</td>\n",
       "      <td>GYiDbSAmIpMNvYAEAAAAI</td>\n",
       "      <td>0</td>\n",
       "      <td>2022-05-09</td>\n",
       "      <td>21</td>\n",
       "      <td>39,814.22</td>\n",
       "      <td>3,426,376.40</td>\n",
       "      <td>2022-04-18</td>\n",
       "      <td>2.94</td>\n",
       "      <td>movies</td>\n",
       "      <td>acquired</td>\n",
       "      <td>2022</td>\n",
       "      <td>Platinum</td>\n",
       "      <td>Action/Adventure</td>\n",
       "      <td>1,166,757.27</td>\n",
       "      <td>1793555</td>\n",
       "    </tr>\n",
       "    <tr>\n",
       "      <th>4</th>\n",
       "      <td>Buzzy HBO Originals</td>\n",
       "      <td>The Batman</td>\n",
       "      <td>GYiDbSAmIpMNvYAEAAAAI</td>\n",
       "      <td>0</td>\n",
       "      <td>2022-05-16</td>\n",
       "      <td>28</td>\n",
       "      <td>27,351.60</td>\n",
       "      <td>3,642,003.86</td>\n",
       "      <td>2022-04-18</td>\n",
       "      <td>2.94</td>\n",
       "      <td>movies</td>\n",
       "      <td>acquired</td>\n",
       "      <td>2022</td>\n",
       "      <td>Platinum</td>\n",
       "      <td>Action/Adventure</td>\n",
       "      <td>1,240,183.21</td>\n",
       "      <td>1802248</td>\n",
       "    </tr>\n",
       "  </tbody>\n",
       "</table>\n",
       "</div>"
      ],
      "text/plain": [
       "          segment_name  title_name               title_id  season_number  \\\n",
       "0  Buzzy HBO Originals  The Batman  GYiDbSAmIpMNvYAEAAAAI              0   \n",
       "1  Buzzy HBO Originals  The Batman  GYiDbSAmIpMNvYAEAAAAI              0   \n",
       "2  Buzzy HBO Originals  The Batman  GYiDbSAmIpMNvYAEAAAAI              0   \n",
       "3  Buzzy HBO Originals  The Batman  GYiDbSAmIpMNvYAEAAAAI              0   \n",
       "4  Buzzy HBO Originals  The Batman  GYiDbSAmIpMNvYAEAAAAI              0   \n",
       "\n",
       "  request_date  days_on_hbo_max  daily_hours_viewed  cumulative_hours_viewed  \\\n",
       "0   2022-04-18                0          328,953.35               328,953.35   \n",
       "1   2022-04-25                7          160,138.38             2,437,311.63   \n",
       "2   2022-05-02               14           71,925.19             3,091,028.58   \n",
       "3   2022-05-09               21           39,814.22             3,426,376.40   \n",
       "4   2022-05-16               28           27,351.60             3,642,003.86   \n",
       "\n",
       "  offering_start_date  asset_run_time_hours content_category program_type  \\\n",
       "0          2022-04-18                  2.94           movies     acquired   \n",
       "1          2022-04-18                  2.94           movies     acquired   \n",
       "2          2022-04-18                  2.94           movies     acquired   \n",
       "3          2022-04-18                  2.94           movies     acquired   \n",
       "4          2022-04-18                  2.94           movies     acquired   \n",
       "\n",
       "   release_year     medal       pillar_genre          hvr  cohort_subs  \n",
       "0          2022  Platinum  Action/Adventure    112,015.92      1751170  \n",
       "1          2022  Platinum  Action/Adventure    829,958.75      1770080  \n",
       "2          2022  Platinum  Action/Adventure  1,052,563.89      1782927  \n",
       "3          2022  Platinum  Action/Adventure  1,166,757.27      1793555  \n",
       "4          2022  Platinum  Action/Adventure  1,240,183.21      1802248  "
      ]
     },
     "execution_count": 76,
     "metadata": {},
     "output_type": "execute_result"
    }
   ],
   "source": [
    "plot.head()"
   ]
  },
  {
   "cell_type": "code",
   "execution_count": 79,
   "id": "acb912e4",
   "metadata": {},
   "outputs": [],
   "source": [
    "plot['average_hour_viewed_before_runtime'] = plot['cumulative_hours_viewed']/plot['cohort_subs']"
   ]
  },
  {
   "cell_type": "code",
   "execution_count": 77,
   "id": "1765f761",
   "metadata": {},
   "outputs": [],
   "source": [
    "plot['average_hour_viewed'] = plot['hvr']/plot['cohort_subs']"
   ]
  },
  {
   "cell_type": "code",
   "execution_count": 78,
   "id": "f5c13010",
   "metadata": {},
   "outputs": [
    {
     "data": {
      "application/vnd.plotly.v1+json": {
       "config": {
        "plotlyServerURL": "https://plot.ly"
       },
       "data": [
        {
         "hovertemplate": "segment_name=Buzzy HBO Originals<br>days_on_hbo_max=%{x}<br>average_hour_viewed=%{y}<extra></extra>",
         "legendgroup": "Buzzy HBO Originals",
         "line": {
          "color": "#636efa",
          "dash": "solid"
         },
         "marker": {
          "symbol": "circle"
         },
         "mode": "lines",
         "name": "Buzzy HBO Originals",
         "orientation": "v",
         "showlegend": true,
         "type": "scatter",
         "x": [
          0,
          7,
          14,
          21,
          28,
          35,
          42,
          49,
          56,
          63,
          70,
          77,
          84,
          91,
          98,
          105,
          112,
          119,
          126,
          133,
          140,
          147,
          154,
          161,
          168,
          175,
          182,
          189,
          196,
          203,
          210,
          217,
          224,
          231,
          238,
          245,
          252,
          259,
          266,
          273,
          280,
          287,
          294,
          301,
          308,
          315,
          322
         ],
         "xaxis": "x",
         "y": [
          0.06396633149240397,
          0.46888205361170393,
          0.5903572531191473,
          0.650527732964338,
          0.6881312719043959,
          0.71604346191192,
          0.7393531581518078,
          0.7538328199254514,
          0.765061020313415,
          0.7748421623839011,
          0.7826897647092779,
          0.7899539600093549,
          0.7970100257145811,
          0.8031073828711636,
          0.8088001626431686,
          0.81401935793405,
          0.8186863481302273,
          0.8225531033177351,
          0.8252856749173149,
          0.8241372185347307,
          0.8262732316139255,
          0.8274249976148624,
          0.8290896017146325,
          0.8308645947171385,
          0.8331541526188531,
          0.8348919079816174,
          0.8365145851841095,
          0.8385437388045189,
          0.8409608939480329,
          0.8432084034284238,
          0.8448385177733462,
          0.8464792226229165,
          0.8488878985332928,
          0.8497336019638071,
          0.8497872641941431,
          0.8494779146738571,
          0.8503986358175799,
          0.8532231949799247,
          0.8543607182486295,
          0.8554401703108727,
          0.8545507055975583,
          0.8560856916763323,
          0.8586559119918641,
          0.8590344521137655,
          0.8612211857093572,
          0.8628462893145772,
          0.8653630344412269
         ],
         "yaxis": "y"
        },
        {
         "hovertemplate": "segment_name=Thrilling Action Movies<br>days_on_hbo_max=%{x}<br>average_hour_viewed=%{y}<extra></extra>",
         "legendgroup": "Thrilling Action Movies",
         "line": {
          "color": "#EF553B",
          "dash": "solid"
         },
         "marker": {
          "symbol": "circle"
         },
         "mode": "lines",
         "name": "Thrilling Action Movies",
         "orientation": "v",
         "showlegend": true,
         "type": "scatter",
         "x": [
          0,
          7,
          14,
          21,
          28,
          35,
          42,
          49,
          56,
          63,
          70,
          77,
          84,
          91,
          98,
          105,
          112,
          119,
          126,
          133,
          140,
          147,
          154,
          161,
          168,
          175,
          182,
          189,
          196,
          203,
          210,
          217,
          224,
          231,
          238,
          245,
          252,
          259,
          266,
          273,
          280,
          287,
          294,
          301,
          308,
          315,
          322
         ],
         "xaxis": "x",
         "y": [
          0.1082956492857749,
          0.725537299976328,
          0.893804638774316,
          0.973819142803545,
          1.0225887654192822,
          1.0597643912411707,
          1.0921953708719772,
          1.110871829328803,
          1.1263982094705047,
          1.1399107818200065,
          1.151187924501507,
          1.1616853227420203,
          1.171701780137185,
          1.1801481065255508,
          1.1881656044505917,
          1.195627911732984,
          1.2018751167488901,
          1.2077247970155123,
          1.2108213355218382,
          1.2074907199290674,
          1.210033807412033,
          1.2106169654626875,
          1.2126981409984634,
          1.2152212407421576,
          1.2180452535520967,
          1.2199536294284201,
          1.2218253219253503,
          1.224690332030165,
          1.2276695606625851,
          1.2310534785905412,
          1.2338747821432932,
          1.2371735543814024,
          1.2411926002085405,
          1.2435675928511691,
          1.2452257794473618,
          1.246517865315427,
          1.2475647886499903,
          1.251564077185894,
          1.251883522062327,
          1.2497171869549673,
          1.23615643210561,
          1.2335935093112815,
          1.233432190078389,
          1.2299020588191862,
          1.2293476168307849,
          1.227765496400306,
          1.2278809571728877
         ],
         "yaxis": "y"
        }
       ],
       "layout": {
        "autosize": true,
        "legend": {
         "title": {
          "text": "segment_name"
         },
         "tracegroupgap": 0
        },
        "margin": {
         "t": 60
        },
        "template": {
         "data": {
          "bar": [
           {
            "error_x": {
             "color": "#2a3f5f"
            },
            "error_y": {
             "color": "#2a3f5f"
            },
            "marker": {
             "line": {
              "color": "#E5ECF6",
              "width": 0.5
             },
             "pattern": {
              "fillmode": "overlay",
              "size": 10,
              "solidity": 0.2
             }
            },
            "type": "bar"
           }
          ],
          "barpolar": [
           {
            "marker": {
             "line": {
              "color": "#E5ECF6",
              "width": 0.5
             },
             "pattern": {
              "fillmode": "overlay",
              "size": 10,
              "solidity": 0.2
             }
            },
            "type": "barpolar"
           }
          ],
          "carpet": [
           {
            "aaxis": {
             "endlinecolor": "#2a3f5f",
             "gridcolor": "white",
             "linecolor": "white",
             "minorgridcolor": "white",
             "startlinecolor": "#2a3f5f"
            },
            "baxis": {
             "endlinecolor": "#2a3f5f",
             "gridcolor": "white",
             "linecolor": "white",
             "minorgridcolor": "white",
             "startlinecolor": "#2a3f5f"
            },
            "type": "carpet"
           }
          ],
          "choropleth": [
           {
            "colorbar": {
             "outlinewidth": 0,
             "ticks": ""
            },
            "type": "choropleth"
           }
          ],
          "contour": [
           {
            "colorbar": {
             "outlinewidth": 0,
             "ticks": ""
            },
            "colorscale": [
             [
              0,
              "#0d0887"
             ],
             [
              0.1111111111111111,
              "#46039f"
             ],
             [
              0.2222222222222222,
              "#7201a8"
             ],
             [
              0.3333333333333333,
              "#9c179e"
             ],
             [
              0.4444444444444444,
              "#bd3786"
             ],
             [
              0.5555555555555556,
              "#d8576b"
             ],
             [
              0.6666666666666666,
              "#ed7953"
             ],
             [
              0.7777777777777778,
              "#fb9f3a"
             ],
             [
              0.8888888888888888,
              "#fdca26"
             ],
             [
              1,
              "#f0f921"
             ]
            ],
            "type": "contour"
           }
          ],
          "contourcarpet": [
           {
            "colorbar": {
             "outlinewidth": 0,
             "ticks": ""
            },
            "type": "contourcarpet"
           }
          ],
          "heatmap": [
           {
            "colorbar": {
             "outlinewidth": 0,
             "ticks": ""
            },
            "colorscale": [
             [
              0,
              "#0d0887"
             ],
             [
              0.1111111111111111,
              "#46039f"
             ],
             [
              0.2222222222222222,
              "#7201a8"
             ],
             [
              0.3333333333333333,
              "#9c179e"
             ],
             [
              0.4444444444444444,
              "#bd3786"
             ],
             [
              0.5555555555555556,
              "#d8576b"
             ],
             [
              0.6666666666666666,
              "#ed7953"
             ],
             [
              0.7777777777777778,
              "#fb9f3a"
             ],
             [
              0.8888888888888888,
              "#fdca26"
             ],
             [
              1,
              "#f0f921"
             ]
            ],
            "type": "heatmap"
           }
          ],
          "heatmapgl": [
           {
            "colorbar": {
             "outlinewidth": 0,
             "ticks": ""
            },
            "colorscale": [
             [
              0,
              "#0d0887"
             ],
             [
              0.1111111111111111,
              "#46039f"
             ],
             [
              0.2222222222222222,
              "#7201a8"
             ],
             [
              0.3333333333333333,
              "#9c179e"
             ],
             [
              0.4444444444444444,
              "#bd3786"
             ],
             [
              0.5555555555555556,
              "#d8576b"
             ],
             [
              0.6666666666666666,
              "#ed7953"
             ],
             [
              0.7777777777777778,
              "#fb9f3a"
             ],
             [
              0.8888888888888888,
              "#fdca26"
             ],
             [
              1,
              "#f0f921"
             ]
            ],
            "type": "heatmapgl"
           }
          ],
          "histogram": [
           {
            "marker": {
             "pattern": {
              "fillmode": "overlay",
              "size": 10,
              "solidity": 0.2
             }
            },
            "type": "histogram"
           }
          ],
          "histogram2d": [
           {
            "colorbar": {
             "outlinewidth": 0,
             "ticks": ""
            },
            "colorscale": [
             [
              0,
              "#0d0887"
             ],
             [
              0.1111111111111111,
              "#46039f"
             ],
             [
              0.2222222222222222,
              "#7201a8"
             ],
             [
              0.3333333333333333,
              "#9c179e"
             ],
             [
              0.4444444444444444,
              "#bd3786"
             ],
             [
              0.5555555555555556,
              "#d8576b"
             ],
             [
              0.6666666666666666,
              "#ed7953"
             ],
             [
              0.7777777777777778,
              "#fb9f3a"
             ],
             [
              0.8888888888888888,
              "#fdca26"
             ],
             [
              1,
              "#f0f921"
             ]
            ],
            "type": "histogram2d"
           }
          ],
          "histogram2dcontour": [
           {
            "colorbar": {
             "outlinewidth": 0,
             "ticks": ""
            },
            "colorscale": [
             [
              0,
              "#0d0887"
             ],
             [
              0.1111111111111111,
              "#46039f"
             ],
             [
              0.2222222222222222,
              "#7201a8"
             ],
             [
              0.3333333333333333,
              "#9c179e"
             ],
             [
              0.4444444444444444,
              "#bd3786"
             ],
             [
              0.5555555555555556,
              "#d8576b"
             ],
             [
              0.6666666666666666,
              "#ed7953"
             ],
             [
              0.7777777777777778,
              "#fb9f3a"
             ],
             [
              0.8888888888888888,
              "#fdca26"
             ],
             [
              1,
              "#f0f921"
             ]
            ],
            "type": "histogram2dcontour"
           }
          ],
          "mesh3d": [
           {
            "colorbar": {
             "outlinewidth": 0,
             "ticks": ""
            },
            "type": "mesh3d"
           }
          ],
          "parcoords": [
           {
            "line": {
             "colorbar": {
              "outlinewidth": 0,
              "ticks": ""
             }
            },
            "type": "parcoords"
           }
          ],
          "pie": [
           {
            "automargin": true,
            "type": "pie"
           }
          ],
          "scatter": [
           {
            "marker": {
             "colorbar": {
              "outlinewidth": 0,
              "ticks": ""
             }
            },
            "type": "scatter"
           }
          ],
          "scatter3d": [
           {
            "line": {
             "colorbar": {
              "outlinewidth": 0,
              "ticks": ""
             }
            },
            "marker": {
             "colorbar": {
              "outlinewidth": 0,
              "ticks": ""
             }
            },
            "type": "scatter3d"
           }
          ],
          "scattercarpet": [
           {
            "marker": {
             "colorbar": {
              "outlinewidth": 0,
              "ticks": ""
             }
            },
            "type": "scattercarpet"
           }
          ],
          "scattergeo": [
           {
            "marker": {
             "colorbar": {
              "outlinewidth": 0,
              "ticks": ""
             }
            },
            "type": "scattergeo"
           }
          ],
          "scattergl": [
           {
            "marker": {
             "colorbar": {
              "outlinewidth": 0,
              "ticks": ""
             }
            },
            "type": "scattergl"
           }
          ],
          "scattermapbox": [
           {
            "marker": {
             "colorbar": {
              "outlinewidth": 0,
              "ticks": ""
             }
            },
            "type": "scattermapbox"
           }
          ],
          "scatterpolar": [
           {
            "marker": {
             "colorbar": {
              "outlinewidth": 0,
              "ticks": ""
             }
            },
            "type": "scatterpolar"
           }
          ],
          "scatterpolargl": [
           {
            "marker": {
             "colorbar": {
              "outlinewidth": 0,
              "ticks": ""
             }
            },
            "type": "scatterpolargl"
           }
          ],
          "scatterternary": [
           {
            "marker": {
             "colorbar": {
              "outlinewidth": 0,
              "ticks": ""
             }
            },
            "type": "scatterternary"
           }
          ],
          "surface": [
           {
            "colorbar": {
             "outlinewidth": 0,
             "ticks": ""
            },
            "colorscale": [
             [
              0,
              "#0d0887"
             ],
             [
              0.1111111111111111,
              "#46039f"
             ],
             [
              0.2222222222222222,
              "#7201a8"
             ],
             [
              0.3333333333333333,
              "#9c179e"
             ],
             [
              0.4444444444444444,
              "#bd3786"
             ],
             [
              0.5555555555555556,
              "#d8576b"
             ],
             [
              0.6666666666666666,
              "#ed7953"
             ],
             [
              0.7777777777777778,
              "#fb9f3a"
             ],
             [
              0.8888888888888888,
              "#fdca26"
             ],
             [
              1,
              "#f0f921"
             ]
            ],
            "type": "surface"
           }
          ],
          "table": [
           {
            "cells": {
             "fill": {
              "color": "#EBF0F8"
             },
             "line": {
              "color": "white"
             }
            },
            "header": {
             "fill": {
              "color": "#C8D4E3"
             },
             "line": {
              "color": "white"
             }
            },
            "type": "table"
           }
          ]
         },
         "layout": {
          "annotationdefaults": {
           "arrowcolor": "#2a3f5f",
           "arrowhead": 0,
           "arrowwidth": 1
          },
          "autotypenumbers": "strict",
          "coloraxis": {
           "colorbar": {
            "outlinewidth": 0,
            "ticks": ""
           }
          },
          "colorscale": {
           "diverging": [
            [
             0,
             "#8e0152"
            ],
            [
             0.1,
             "#c51b7d"
            ],
            [
             0.2,
             "#de77ae"
            ],
            [
             0.3,
             "#f1b6da"
            ],
            [
             0.4,
             "#fde0ef"
            ],
            [
             0.5,
             "#f7f7f7"
            ],
            [
             0.6,
             "#e6f5d0"
            ],
            [
             0.7,
             "#b8e186"
            ],
            [
             0.8,
             "#7fbc41"
            ],
            [
             0.9,
             "#4d9221"
            ],
            [
             1,
             "#276419"
            ]
           ],
           "sequential": [
            [
             0,
             "#0d0887"
            ],
            [
             0.1111111111111111,
             "#46039f"
            ],
            [
             0.2222222222222222,
             "#7201a8"
            ],
            [
             0.3333333333333333,
             "#9c179e"
            ],
            [
             0.4444444444444444,
             "#bd3786"
            ],
            [
             0.5555555555555556,
             "#d8576b"
            ],
            [
             0.6666666666666666,
             "#ed7953"
            ],
            [
             0.7777777777777778,
             "#fb9f3a"
            ],
            [
             0.8888888888888888,
             "#fdca26"
            ],
            [
             1,
             "#f0f921"
            ]
           ],
           "sequentialminus": [
            [
             0,
             "#0d0887"
            ],
            [
             0.1111111111111111,
             "#46039f"
            ],
            [
             0.2222222222222222,
             "#7201a8"
            ],
            [
             0.3333333333333333,
             "#9c179e"
            ],
            [
             0.4444444444444444,
             "#bd3786"
            ],
            [
             0.5555555555555556,
             "#d8576b"
            ],
            [
             0.6666666666666666,
             "#ed7953"
            ],
            [
             0.7777777777777778,
             "#fb9f3a"
            ],
            [
             0.8888888888888888,
             "#fdca26"
            ],
            [
             1,
             "#f0f921"
            ]
           ]
          },
          "colorway": [
           "#636efa",
           "#EF553B",
           "#00cc96",
           "#ab63fa",
           "#FFA15A",
           "#19d3f3",
           "#FF6692",
           "#B6E880",
           "#FF97FF",
           "#FECB52"
          ],
          "font": {
           "color": "#2a3f5f"
          },
          "geo": {
           "bgcolor": "white",
           "lakecolor": "white",
           "landcolor": "#E5ECF6",
           "showlakes": true,
           "showland": true,
           "subunitcolor": "white"
          },
          "hoverlabel": {
           "align": "left"
          },
          "hovermode": "closest",
          "mapbox": {
           "style": "light"
          },
          "paper_bgcolor": "white",
          "plot_bgcolor": "#E5ECF6",
          "polar": {
           "angularaxis": {
            "gridcolor": "white",
            "linecolor": "white",
            "ticks": ""
           },
           "bgcolor": "#E5ECF6",
           "radialaxis": {
            "gridcolor": "white",
            "linecolor": "white",
            "ticks": ""
           }
          },
          "scene": {
           "xaxis": {
            "backgroundcolor": "#E5ECF6",
            "gridcolor": "white",
            "gridwidth": 2,
            "linecolor": "white",
            "showbackground": true,
            "ticks": "",
            "zerolinecolor": "white"
           },
           "yaxis": {
            "backgroundcolor": "#E5ECF6",
            "gridcolor": "white",
            "gridwidth": 2,
            "linecolor": "white",
            "showbackground": true,
            "ticks": "",
            "zerolinecolor": "white"
           },
           "zaxis": {
            "backgroundcolor": "#E5ECF6",
            "gridcolor": "white",
            "gridwidth": 2,
            "linecolor": "white",
            "showbackground": true,
            "ticks": "",
            "zerolinecolor": "white"
           }
          },
          "shapedefaults": {
           "line": {
            "color": "#2a3f5f"
           }
          },
          "ternary": {
           "aaxis": {
            "gridcolor": "white",
            "linecolor": "white",
            "ticks": ""
           },
           "baxis": {
            "gridcolor": "white",
            "linecolor": "white",
            "ticks": ""
           },
           "bgcolor": "#E5ECF6",
           "caxis": {
            "gridcolor": "white",
            "linecolor": "white",
            "ticks": ""
           }
          },
          "title": {
           "x": 0.05
          },
          "xaxis": {
           "automargin": true,
           "gridcolor": "white",
           "linecolor": "white",
           "ticks": "",
           "title": {
            "standoff": 15
           },
           "zerolinecolor": "white",
           "zerolinewidth": 2
          },
          "yaxis": {
           "automargin": true,
           "gridcolor": "white",
           "linecolor": "white",
           "ticks": "",
           "title": {
            "standoff": 15
           },
           "zerolinecolor": "white",
           "zerolinewidth": 2
          }
         }
        },
        "xaxis": {
         "anchor": "y",
         "autorange": true,
         "domain": [
          0,
          1
         ],
         "range": [
          0,
          322
         ],
         "title": {
          "text": "days_on_hbo_max"
         },
         "type": "linear"
        },
        "yaxis": {
         "anchor": "x",
         "autorange": true,
         "domain": [
          0,
          1
         ],
         "range": [
          -0.0020290679837028647,
          1.317878921538434
         ],
         "title": {
          "text": "average_hour_viewed"
         },
         "type": "linear"
        }
       }
      },
      "image/png": "[encoded data removed]",
      "text/html": [
       "<div>                            <div id=\"28129c0b-8642-4224-8222-bde775154442\" class=\"plotly-graph-div\" style=\"height:525px; width:100%;\"></div>            <script type=\"text/javascript\">                require([\"plotly\"], function(Plotly) {                    window.PLOTLYENV=window.PLOTLYENV || {};                                    if (document.getElementById(\"28129c0b-8642-4224-8222-bde775154442\")) {                    Plotly.newPlot(                        \"28129c0b-8642-4224-8222-bde775154442\",                        [{\"hovertemplate\":\"segment_name=Buzzy HBO Originals<br>days_on_hbo_max=%{x}<br>average_hour_viewed=%{y}<extra></extra>\",\"legendgroup\":\"Buzzy HBO Originals\",\"line\":{\"color\":\"#636efa\",\"dash\":\"solid\"},\"marker\":{\"symbol\":\"circle\"},\"mode\":\"lines\",\"name\":\"Buzzy HBO Originals\",\"orientation\":\"v\",\"showlegend\":true,\"x\":[0,7,14,21,28,35,42,49,56,63,70,77,84,91,98,105,112,119,126,133,140,147,154,161,168,175,182,189,196,203,210,217,224,231,238,245,252,259,266,273,280,287,294,301,308,315,322],\"xaxis\":\"x\",\"y\":[0.06396633149240397,0.46888205361170393,0.5903572531191473,0.650527732964338,0.6881312719043959,0.71604346191192,0.7393531581518078,0.7538328199254514,0.765061020313415,0.7748421623839011,0.7826897647092779,0.7899539600093549,0.7970100257145811,0.8031073828711636,0.8088001626431686,0.81401935793405,0.8186863481302273,0.8225531033177351,0.8252856749173149,0.8241372185347307,0.8262732316139255,0.8274249976148624,0.8290896017146325,0.8308645947171385,0.8331541526188531,0.8348919079816174,0.8365145851841095,0.8385437388045189,0.8409608939480329,0.8432084034284238,0.8448385177733462,0.8464792226229165,0.8488878985332928,0.8497336019638071,0.8497872641941431,0.8494779146738571,0.8503986358175799,0.8532231949799247,0.8543607182486295,0.8554401703108727,0.8545507055975583,0.8560856916763323,0.8586559119918641,0.8590344521137655,0.8612211857093572,0.8628462893145772,0.8653630344412269],\"yaxis\":\"y\",\"type\":\"scatter\"},{\"hovertemplate\":\"segment_name=Thrilling Action Movies<br>days_on_hbo_max=%{x}<br>average_hour_viewed=%{y}<extra></extra>\",\"legendgroup\":\"Thrilling Action Movies\",\"line\":{\"color\":\"#EF553B\",\"dash\":\"solid\"},\"marker\":{\"symbol\":\"circle\"},\"mode\":\"lines\",\"name\":\"Thrilling Action Movies\",\"orientation\":\"v\",\"showlegend\":true,\"x\":[0,7,14,21,28,35,42,49,56,63,70,77,84,91,98,105,112,119,126,133,140,147,154,161,168,175,182,189,196,203,210,217,224,231,238,245,252,259,266,273,280,287,294,301,308,315,322],\"xaxis\":\"x\",\"y\":[0.1082956492857749,0.725537299976328,0.893804638774316,0.973819142803545,1.0225887654192822,1.0597643912411707,1.0921953708719772,1.110871829328803,1.1263982094705047,1.1399107818200065,1.151187924501507,1.1616853227420203,1.171701780137185,1.1801481065255508,1.1881656044505917,1.195627911732984,1.2018751167488901,1.2077247970155123,1.2108213355218382,1.2074907199290674,1.210033807412033,1.2106169654626875,1.2126981409984634,1.2152212407421576,1.2180452535520967,1.2199536294284201,1.2218253219253503,1.224690332030165,1.2276695606625851,1.2310534785905412,1.2338747821432932,1.2371735543814024,1.2411926002085405,1.2435675928511691,1.2452257794473618,1.246517865315427,1.2475647886499903,1.251564077185894,1.251883522062327,1.2497171869549673,1.23615643210561,1.2335935093112815,1.233432190078389,1.2299020588191862,1.2293476168307849,1.227765496400306,1.2278809571728877],\"yaxis\":\"y\",\"type\":\"scatter\"}],                        {\"template\":{\"data\":{\"bar\":[{\"error_x\":{\"color\":\"#2a3f5f\"},\"error_y\":{\"color\":\"#2a3f5f\"},\"marker\":{\"line\":{\"color\":\"#E5ECF6\",\"width\":0.5},\"pattern\":{\"fillmode\":\"overlay\",\"size\":10,\"solidity\":0.2}},\"type\":\"bar\"}],\"barpolar\":[{\"marker\":{\"line\":{\"color\":\"#E5ECF6\",\"width\":0.5},\"pattern\":{\"fillmode\":\"overlay\",\"size\":10,\"solidity\":0.2}},\"type\":\"barpolar\"}],\"carpet\":[{\"aaxis\":{\"endlinecolor\":\"#2a3f5f\",\"gridcolor\":\"white\",\"linecolor\":\"white\",\"minorgridcolor\":\"white\",\"startlinecolor\":\"#2a3f5f\"},\"baxis\":{\"endlinecolor\":\"#2a3f5f\",\"gridcolor\":\"white\",\"linecolor\":\"white\",\"minorgridcolor\":\"white\",\"startlinecolor\":\"#2a3f5f\"},\"type\":\"carpet\"}],\"choropleth\":[{\"colorbar\":{\"outlinewidth\":0,\"ticks\":\"\"},\"type\":\"choropleth\"}],\"contour\":[{\"colorbar\":{\"outlinewidth\":0,\"ticks\":\"\"},\"colorscale\":[[0.0,\"#0d0887\"],[0.1111111111111111,\"#46039f\"],[0.2222222222222222,\"#7201a8\"],[0.3333333333333333,\"#9c179e\"],[0.4444444444444444,\"#bd3786\"],[0.5555555555555556,\"#d8576b\"],[0.6666666666666666,\"#ed7953\"],[0.7777777777777778,\"#fb9f3a\"],[0.8888888888888888,\"#fdca26\"],[1.0,\"#f0f921\"]],\"type\":\"contour\"}],\"contourcarpet\":[{\"colorbar\":{\"outlinewidth\":0,\"ticks\":\"\"},\"type\":\"contourcarpet\"}],\"heatmap\":[{\"colorbar\":{\"outlinewidth\":0,\"ticks\":\"\"},\"colorscale\":[[0.0,\"#0d0887\"],[0.1111111111111111,\"#46039f\"],[0.2222222222222222,\"#7201a8\"],[0.3333333333333333,\"#9c179e\"],[0.4444444444444444,\"#bd3786\"],[0.5555555555555556,\"#d8576b\"],[0.6666666666666666,\"#ed7953\"],[0.7777777777777778,\"#fb9f3a\"],[0.8888888888888888,\"#fdca26\"],[1.0,\"#f0f921\"]],\"type\":\"heatmap\"}],\"heatmapgl\":[{\"colorbar\":{\"outlinewidth\":0,\"ticks\":\"\"},\"colorscale\":[[0.0,\"#0d0887\"],[0.1111111111111111,\"#46039f\"],[0.2222222222222222,\"#7201a8\"],[0.3333333333333333,\"#9c179e\"],[0.4444444444444444,\"#bd3786\"],[0.5555555555555556,\"#d8576b\"],[0.6666666666666666,\"#ed7953\"],[0.7777777777777778,\"#fb9f3a\"],[0.8888888888888888,\"#fdca26\"],[1.0,\"#f0f921\"]],\"type\":\"heatmapgl\"}],\"histogram\":[{\"marker\":{\"pattern\":{\"fillmode\":\"overlay\",\"size\":10,\"solidity\":0.2}},\"type\":\"histogram\"}],\"histogram2d\":[{\"colorbar\":{\"outlinewidth\":0,\"ticks\":\"\"},\"colorscale\":[[0.0,\"#0d0887\"],[0.1111111111111111,\"#46039f\"],[0.2222222222222222,\"#7201a8\"],[0.3333333333333333,\"#9c179e\"],[0.4444444444444444,\"#bd3786\"],[0.5555555555555556,\"#d8576b\"],[0.6666666666666666,\"#ed7953\"],[0.7777777777777778,\"#fb9f3a\"],[0.8888888888888888,\"#fdca26\"],[1.0,\"#f0f921\"]],\"type\":\"histogram2d\"}],\"histogram2dcontour\":[{\"colorbar\":{\"outlinewidth\":0,\"ticks\":\"\"},\"colorscale\":[[0.0,\"#0d0887\"],[0.1111111111111111,\"#46039f\"],[0.2222222222222222,\"#7201a8\"],[0.3333333333333333,\"#9c179e\"],[0.4444444444444444,\"#bd3786\"],[0.5555555555555556,\"#d8576b\"],[0.6666666666666666,\"#ed7953\"],[0.7777777777777778,\"#fb9f3a\"],[0.8888888888888888,\"#fdca26\"],[1.0,\"#f0f921\"]],\"type\":\"histogram2dcontour\"}],\"mesh3d\":[{\"colorbar\":{\"outlinewidth\":0,\"ticks\":\"\"},\"type\":\"mesh3d\"}],\"parcoords\":[{\"line\":{\"colorbar\":{\"outlinewidth\":0,\"ticks\":\"\"}},\"type\":\"parcoords\"}],\"pie\":[{\"automargin\":true,\"type\":\"pie\"}],\"scatter\":[{\"marker\":{\"colorbar\":{\"outlinewidth\":0,\"ticks\":\"\"}},\"type\":\"scatter\"}],\"scatter3d\":[{\"line\":{\"colorbar\":{\"outlinewidth\":0,\"ticks\":\"\"}},\"marker\":{\"colorbar\":{\"outlinewidth\":0,\"ticks\":\"\"}},\"type\":\"scatter3d\"}],\"scattercarpet\":[{\"marker\":{\"colorbar\":{\"outlinewidth\":0,\"ticks\":\"\"}},\"type\":\"scattercarpet\"}],\"scattergeo\":[{\"marker\":{\"colorbar\":{\"outlinewidth\":0,\"ticks\":\"\"}},\"type\":\"scattergeo\"}],\"scattergl\":[{\"marker\":{\"colorbar\":{\"outlinewidth\":0,\"ticks\":\"\"}},\"type\":\"scattergl\"}],\"scattermapbox\":[{\"marker\":{\"colorbar\":{\"outlinewidth\":0,\"ticks\":\"\"}},\"type\":\"scattermapbox\"}],\"scatterpolar\":[{\"marker\":{\"colorbar\":{\"outlinewidth\":0,\"ticks\":\"\"}},\"type\":\"scatterpolar\"}],\"scatterpolargl\":[{\"marker\":{\"colorbar\":{\"outlinewidth\":0,\"ticks\":\"\"}},\"type\":\"scatterpolargl\"}],\"scatterternary\":[{\"marker\":{\"colorbar\":{\"outlinewidth\":0,\"ticks\":\"\"}},\"type\":\"scatterternary\"}],\"surface\":[{\"colorbar\":{\"outlinewidth\":0,\"ticks\":\"\"},\"colorscale\":[[0.0,\"#0d0887\"],[0.1111111111111111,\"#46039f\"],[0.2222222222222222,\"#7201a8\"],[0.3333333333333333,\"#9c179e\"],[0.4444444444444444,\"#bd3786\"],[0.5555555555555556,\"#d8576b\"],[0.6666666666666666,\"#ed7953\"],[0.7777777777777778,\"#fb9f3a\"],[0.8888888888888888,\"#fdca26\"],[1.0,\"#f0f921\"]],\"type\":\"surface\"}],\"table\":[{\"cells\":{\"fill\":{\"color\":\"#EBF0F8\"},\"line\":{\"color\":\"white\"}},\"header\":{\"fill\":{\"color\":\"#C8D4E3\"},\"line\":{\"color\":\"white\"}},\"type\":\"table\"}]},\"layout\":{\"annotationdefaults\":{\"arrowcolor\":\"#2a3f5f\",\"arrowhead\":0,\"arrowwidth\":1},\"autotypenumbers\":\"strict\",\"coloraxis\":{\"colorbar\":{\"outlinewidth\":0,\"ticks\":\"\"}},\"colorscale\":{\"diverging\":[[0,\"#8e0152\"],[0.1,\"#c51b7d\"],[0.2,\"#de77ae\"],[0.3,\"#f1b6da\"],[0.4,\"#fde0ef\"],[0.5,\"#f7f7f7\"],[0.6,\"#e6f5d0\"],[0.7,\"#b8e186\"],[0.8,\"#7fbc41\"],[0.9,\"#4d9221\"],[1,\"#276419\"]],\"sequential\":[[0.0,\"#0d0887\"],[0.1111111111111111,\"#46039f\"],[0.2222222222222222,\"#7201a8\"],[0.3333333333333333,\"#9c179e\"],[0.4444444444444444,\"#bd3786\"],[0.5555555555555556,\"#d8576b\"],[0.6666666666666666,\"#ed7953\"],[0.7777777777777778,\"#fb9f3a\"],[0.8888888888888888,\"#fdca26\"],[1.0,\"#f0f921\"]],\"sequentialminus\":[[0.0,\"#0d0887\"],[0.1111111111111111,\"#46039f\"],[0.2222222222222222,\"#7201a8\"],[0.3333333333333333,\"#9c179e\"],[0.4444444444444444,\"#bd3786\"],[0.5555555555555556,\"#d8576b\"],[0.6666666666666666,\"#ed7953\"],[0.7777777777777778,\"#fb9f3a\"],[0.8888888888888888,\"#fdca26\"],[1.0,\"#f0f921\"]]},\"colorway\":[\"#636efa\",\"#EF553B\",\"#00cc96\",\"#ab63fa\",\"#FFA15A\",\"#19d3f3\",\"#FF6692\",\"#B6E880\",\"#FF97FF\",\"#FECB52\"],\"font\":{\"color\":\"#2a3f5f\"},\"geo\":{\"bgcolor\":\"white\",\"lakecolor\":\"white\",\"landcolor\":\"#E5ECF6\",\"showlakes\":true,\"showland\":true,\"subunitcolor\":\"white\"},\"hoverlabel\":{\"align\":\"left\"},\"hovermode\":\"closest\",\"mapbox\":{\"style\":\"light\"},\"paper_bgcolor\":\"white\",\"plot_bgcolor\":\"#E5ECF6\",\"polar\":{\"angularaxis\":{\"gridcolor\":\"white\",\"linecolor\":\"white\",\"ticks\":\"\"},\"bgcolor\":\"#E5ECF6\",\"radialaxis\":{\"gridcolor\":\"white\",\"linecolor\":\"white\",\"ticks\":\"\"}},\"scene\":{\"xaxis\":{\"backgroundcolor\":\"#E5ECF6\",\"gridcolor\":\"white\",\"gridwidth\":2,\"linecolor\":\"white\",\"showbackground\":true,\"ticks\":\"\",\"zerolinecolor\":\"white\"},\"yaxis\":{\"backgroundcolor\":\"#E5ECF6\",\"gridcolor\":\"white\",\"gridwidth\":2,\"linecolor\":\"white\",\"showbackground\":true,\"ticks\":\"\",\"zerolinecolor\":\"white\"},\"zaxis\":{\"backgroundcolor\":\"#E5ECF6\",\"gridcolor\":\"white\",\"gridwidth\":2,\"linecolor\":\"white\",\"showbackground\":true,\"ticks\":\"\",\"zerolinecolor\":\"white\"}},\"shapedefaults\":{\"line\":{\"color\":\"#2a3f5f\"}},\"ternary\":{\"aaxis\":{\"gridcolor\":\"white\",\"linecolor\":\"white\",\"ticks\":\"\"},\"baxis\":{\"gridcolor\":\"white\",\"linecolor\":\"white\",\"ticks\":\"\"},\"bgcolor\":\"#E5ECF6\",\"caxis\":{\"gridcolor\":\"white\",\"linecolor\":\"white\",\"ticks\":\"\"}},\"title\":{\"x\":0.05},\"xaxis\":{\"automargin\":true,\"gridcolor\":\"white\",\"linecolor\":\"white\",\"ticks\":\"\",\"title\":{\"standoff\":15},\"zerolinecolor\":\"white\",\"zerolinewidth\":2},\"yaxis\":{\"automargin\":true,\"gridcolor\":\"white\",\"linecolor\":\"white\",\"ticks\":\"\",\"title\":{\"standoff\":15},\"zerolinecolor\":\"white\",\"zerolinewidth\":2}}},\"xaxis\":{\"anchor\":\"y\",\"domain\":[0.0,1.0],\"title\":{\"text\":\"days_on_hbo_max\"}},\"yaxis\":{\"anchor\":\"x\",\"domain\":[0.0,1.0],\"title\":{\"text\":\"average_hour_viewed\"}},\"legend\":{\"title\":{\"text\":\"segment_name\"},\"tracegroupgap\":0},\"margin\":{\"t\":60}},                        {\"responsive\": true}                    ).then(function(){\n",
       "                            \n",
       "var gd = document.getElementById('28129c0b-8642-4224-8222-bde775154442');\n",
       "var x = new MutationObserver(function (mutations, observer) {{\n",
       "        var display = window.getComputedStyle(gd).display;\n",
       "        if (!display || display === 'none') {{\n",
       "            console.log([gd, 'removed!']);\n",
       "            Plotly.purge(gd);\n",
       "            observer.disconnect();\n",
       "        }}\n",
       "}});\n",
       "\n",
       "// Listen for the removal of the full notebook cells\n",
       "var notebookContainer = gd.closest('#notebook-container');\n",
       "if (notebookContainer) {{\n",
       "    x.observe(notebookContainer, {childList: true});\n",
       "}}\n",
       "\n",
       "// Listen for the clearing of the current output cell\n",
       "var outputEl = gd.closest('.output');\n",
       "if (outputEl) {{\n",
       "    x.observe(outputEl, {childList: true});\n",
       "}}\n",
       "\n",
       "                        })                };                });            </script>        </div>"
      ]
     },
     "metadata": {},
     "output_type": "display_data"
    }
   ],
   "source": [
    "fig = px.line(plot, x=\"days_on_hbo_max\", y=\"average_hour_viewed\", color='segment_name')\n",
    "fig.show()"
   ]
  },
  {
   "cell_type": "code",
   "execution_count": 80,
   "id": "bbe8e526",
   "metadata": {},
   "outputs": [
    {
     "data": {
      "application/vnd.plotly.v1+json": {
       "config": {
        "plotlyServerURL": "https://plot.ly"
       },
       "data": [
        {
         "hovertemplate": "segment_name=Buzzy HBO Originals<br>days_on_hbo_max=%{x}<br>average_hour_viewed_before_runtime=%{y}<extra></extra>",
         "legendgroup": "Buzzy HBO Originals",
         "line": {
          "color": "#636efa",
          "dash": "solid"
         },
         "marker": {
          "symbol": "circle"
         },
         "mode": "lines",
         "name": "Buzzy HBO Originals",
         "orientation": "v",
         "showlegend": true,
         "type": "scatter",
         "x": [
          0,
          7,
          14,
          21,
          28,
          35,
          42,
          49,
          56,
          63,
          70,
          77,
          84,
          91,
          98,
          105,
          112,
          119,
          126,
          133,
          140,
          147,
          154,
          161,
          168,
          175,
          182,
          189,
          196,
          203,
          210,
          217,
          224,
          231,
          238,
          245,
          252,
          259,
          266,
          273,
          280,
          287,
          294,
          301,
          308,
          315,
          322
         ],
         "xaxis": "x",
         "y": [
          0.18784775083847197,
          1.3769499848516682,
          1.733682073088394,
          1.910382675453451,
          2.0208117097383953,
          2.1027804891190307,
          2.1712332815370368,
          2.213755211959196,
          2.246728686279716,
          2.275452633639282,
          2.2984984205697363,
          2.3198309359248324,
          2.3405522441751363,
          2.3584581456267286,
          2.3751759384286633,
          2.390502971786755,
          2.4042083632182023,
          2.41556373170768,
          2.4235883818167316,
          2.4202157490055134,
          2.42648850599074,
          2.4298708580456476,
          2.434759244308903,
          2.4399718059096007,
          2.446695472754597,
          2.451798679844744,
          2.456563940814278,
          2.4625228872601115,
          2.469621264586794,
          2.4762214492625363,
          2.481008550635382,
          2.48582675278315,
          2.492900229434171,
          2.4953837779446455,
          2.495541365991958,
          2.4946329097736175,
          2.4973367602518692,
          2.5056315471089157,
          2.50897207301633,
          2.5121420631861495,
          2.509530002404359,
          2.514037743832368,
          2.5215856224454996,
          2.5226972683511235,
          2.5291189745523557,
          2.5338913610562823,
          2.54128220090038
         ],
         "yaxis": "y"
        },
        {
         "hovertemplate": "segment_name=Thrilling Action Movies<br>days_on_hbo_max=%{x}<br>average_hour_viewed_before_runtime=%{y}<extra></extra>",
         "legendgroup": "Thrilling Action Movies",
         "line": {
          "color": "#EF553B",
          "dash": "solid"
         },
         "marker": {
          "symbol": "circle"
         },
         "mode": "lines",
         "name": "Thrilling Action Movies",
         "orientation": "v",
         "showlegend": true,
         "type": "scatter",
         "x": [
          0,
          7,
          14,
          21,
          28,
          35,
          42,
          49,
          56,
          63,
          70,
          77,
          84,
          91,
          98,
          105,
          112,
          119,
          126,
          133,
          140,
          147,
          154,
          161,
          168,
          175,
          182,
          189,
          196,
          203,
          210,
          217,
          224,
          231,
          238,
          245,
          252,
          259,
          266,
          273,
          280,
          287,
          294,
          301,
          308,
          315,
          322
         ],
         "xaxis": "x",
         "y": [
          0.31802815120545946,
          2.1306607205722834,
          2.6248056933308157,
          2.8597815668203155,
          3.003001659388782,
          3.112174055768644,
          3.2074130109971257,
          3.2622595315476985,
          3.3078553242129094,
          3.3475372360042317,
          3.3806544374941434,
          3.411481789995518,
          3.4408967798683467,
          3.4657008193979633,
          3.489245532959502,
          3.5111598370372556,
          3.5295057916024963,
          3.5466843487523567,
          3.5557778481015747,
          3.545996942531215,
          3.5534651410774654,
          3.5551776814974487,
          3.5612893989333942,
          3.5686989001653098,
          3.5769920825678216,
          3.582596345119041,
          3.5880928808372317,
          3.596506458601697,
          3.6052554580327523,
          3.6151928947585703,
          3.623478120977616,
          3.633165513251016,
          3.644968108484014,
          3.6519426686278718,
          3.6568122088265667,
          3.6606066334643943,
          3.663681097625613,
          3.675425672293191,
          3.6763637752006857,
          3.670001972546296,
          3.6301785648458536,
          3.622652116615124,
          3.6221783759087423,
          3.611811559464305,
          3.610183348527994,
          3.6055371892519013,
          3.605876258977076
         ],
         "yaxis": "y"
        }
       ],
       "layout": {
        "autosize": true,
        "legend": {
         "title": {
          "text": "segment_name"
         },
         "tracegroupgap": 0
        },
        "margin": {
         "t": 60
        },
        "template": {
         "data": {
          "bar": [
           {
            "error_x": {
             "color": "#2a3f5f"
            },
            "error_y": {
             "color": "#2a3f5f"
            },
            "marker": {
             "line": {
              "color": "#E5ECF6",
              "width": 0.5
             },
             "pattern": {
              "fillmode": "overlay",
              "size": 10,
              "solidity": 0.2
             }
            },
            "type": "bar"
           }
          ],
          "barpolar": [
           {
            "marker": {
             "line": {
              "color": "#E5ECF6",
              "width": 0.5
             },
             "pattern": {
              "fillmode": "overlay",
              "size": 10,
              "solidity": 0.2
             }
            },
            "type": "barpolar"
           }
          ],
          "carpet": [
           {
            "aaxis": {
             "endlinecolor": "#2a3f5f",
             "gridcolor": "white",
             "linecolor": "white",
             "minorgridcolor": "white",
             "startlinecolor": "#2a3f5f"
            },
            "baxis": {
             "endlinecolor": "#2a3f5f",
             "gridcolor": "white",
             "linecolor": "white",
             "minorgridcolor": "white",
             "startlinecolor": "#2a3f5f"
            },
            "type": "carpet"
           }
          ],
          "choropleth": [
           {
            "colorbar": {
             "outlinewidth": 0,
             "ticks": ""
            },
            "type": "choropleth"
           }
          ],
          "contour": [
           {
            "colorbar": {
             "outlinewidth": 0,
             "ticks": ""
            },
            "colorscale": [
             [
              0,
              "#0d0887"
             ],
             [
              0.1111111111111111,
              "#46039f"
             ],
             [
              0.2222222222222222,
              "#7201a8"
             ],
             [
              0.3333333333333333,
              "#9c179e"
             ],
             [
              0.4444444444444444,
              "#bd3786"
             ],
             [
              0.5555555555555556,
              "#d8576b"
             ],
             [
              0.6666666666666666,
              "#ed7953"
             ],
             [
              0.7777777777777778,
              "#fb9f3a"
             ],
             [
              0.8888888888888888,
              "#fdca26"
             ],
             [
              1,
              "#f0f921"
             ]
            ],
            "type": "contour"
           }
          ],
          "contourcarpet": [
           {
            "colorbar": {
             "outlinewidth": 0,
             "ticks": ""
            },
            "type": "contourcarpet"
           }
          ],
          "heatmap": [
           {
            "colorbar": {
             "outlinewidth": 0,
             "ticks": ""
            },
            "colorscale": [
             [
              0,
              "#0d0887"
             ],
             [
              0.1111111111111111,
              "#46039f"
             ],
             [
              0.2222222222222222,
              "#7201a8"
             ],
             [
              0.3333333333333333,
              "#9c179e"
             ],
             [
              0.4444444444444444,
              "#bd3786"
             ],
             [
              0.5555555555555556,
              "#d8576b"
             ],
             [
              0.6666666666666666,
              "#ed7953"
             ],
             [
              0.7777777777777778,
              "#fb9f3a"
             ],
             [
              0.8888888888888888,
              "#fdca26"
             ],
             [
              1,
              "#f0f921"
             ]
            ],
            "type": "heatmap"
           }
          ],
          "heatmapgl": [
           {
            "colorbar": {
             "outlinewidth": 0,
             "ticks": ""
            },
            "colorscale": [
             [
              0,
              "#0d0887"
             ],
             [
              0.1111111111111111,
              "#46039f"
             ],
             [
              0.2222222222222222,
              "#7201a8"
             ],
             [
              0.3333333333333333,
              "#9c179e"
             ],
             [
              0.4444444444444444,
              "#bd3786"
             ],
             [
              0.5555555555555556,
              "#d8576b"
             ],
             [
              0.6666666666666666,
              "#ed7953"
             ],
             [
              0.7777777777777778,
              "#fb9f3a"
             ],
             [
              0.8888888888888888,
              "#fdca26"
             ],
             [
              1,
              "#f0f921"
             ]
            ],
            "type": "heatmapgl"
           }
          ],
          "histogram": [
           {
            "marker": {
             "pattern": {
              "fillmode": "overlay",
              "size": 10,
              "solidity": 0.2
             }
            },
            "type": "histogram"
           }
          ],
          "histogram2d": [
           {
            "colorbar": {
             "outlinewidth": 0,
             "ticks": ""
            },
            "colorscale": [
             [
              0,
              "#0d0887"
             ],
             [
              0.1111111111111111,
              "#46039f"
             ],
             [
              0.2222222222222222,
              "#7201a8"
             ],
             [
              0.3333333333333333,
              "#9c179e"
             ],
             [
              0.4444444444444444,
              "#bd3786"
             ],
             [
              0.5555555555555556,
              "#d8576b"
             ],
             [
              0.6666666666666666,
              "#ed7953"
             ],
             [
              0.7777777777777778,
              "#fb9f3a"
             ],
             [
              0.8888888888888888,
              "#fdca26"
             ],
             [
              1,
              "#f0f921"
             ]
            ],
            "type": "histogram2d"
           }
          ],
          "histogram2dcontour": [
           {
            "colorbar": {
             "outlinewidth": 0,
             "ticks": ""
            },
            "colorscale": [
             [
              0,
              "#0d0887"
             ],
             [
              0.1111111111111111,
              "#46039f"
             ],
             [
              0.2222222222222222,
              "#7201a8"
             ],
             [
              0.3333333333333333,
              "#9c179e"
             ],
             [
              0.4444444444444444,
              "#bd3786"
             ],
             [
              0.5555555555555556,
              "#d8576b"
             ],
             [
              0.6666666666666666,
              "#ed7953"
             ],
             [
              0.7777777777777778,
              "#fb9f3a"
             ],
             [
              0.8888888888888888,
              "#fdca26"
             ],
             [
              1,
              "#f0f921"
             ]
            ],
            "type": "histogram2dcontour"
           }
          ],
          "mesh3d": [
           {
            "colorbar": {
             "outlinewidth": 0,
             "ticks": ""
            },
            "type": "mesh3d"
           }
          ],
          "parcoords": [
           {
            "line": {
             "colorbar": {
              "outlinewidth": 0,
              "ticks": ""
             }
            },
            "type": "parcoords"
           }
          ],
          "pie": [
           {
            "automargin": true,
            "type": "pie"
           }
          ],
          "scatter": [
           {
            "marker": {
             "colorbar": {
              "outlinewidth": 0,
              "ticks": ""
             }
            },
            "type": "scatter"
           }
          ],
          "scatter3d": [
           {
            "line": {
             "colorbar": {
              "outlinewidth": 0,
              "ticks": ""
             }
            },
            "marker": {
             "colorbar": {
              "outlinewidth": 0,
              "ticks": ""
             }
            },
            "type": "scatter3d"
           }
          ],
          "scattercarpet": [
           {
            "marker": {
             "colorbar": {
              "outlinewidth": 0,
              "ticks": ""
             }
            },
            "type": "scattercarpet"
           }
          ],
          "scattergeo": [
           {
            "marker": {
             "colorbar": {
              "outlinewidth": 0,
              "ticks": ""
             }
            },
            "type": "scattergeo"
           }
          ],
          "scattergl": [
           {
            "marker": {
             "colorbar": {
              "outlinewidth": 0,
              "ticks": ""
             }
            },
            "type": "scattergl"
           }
          ],
          "scattermapbox": [
           {
            "marker": {
             "colorbar": {
              "outlinewidth": 0,
              "ticks": ""
             }
            },
            "type": "scattermapbox"
           }
          ],
          "scatterpolar": [
           {
            "marker": {
             "colorbar": {
              "outlinewidth": 0,
              "ticks": ""
             }
            },
            "type": "scatterpolar"
           }
          ],
          "scatterpolargl": [
           {
            "marker": {
             "colorbar": {
              "outlinewidth": 0,
              "ticks": ""
             }
            },
            "type": "scatterpolargl"
           }
          ],
          "scatterternary": [
           {
            "marker": {
             "colorbar": {
              "outlinewidth": 0,
              "ticks": ""
             }
            },
            "type": "scatterternary"
           }
          ],
          "surface": [
           {
            "colorbar": {
             "outlinewidth": 0,
             "ticks": ""
            },
            "colorscale": [
             [
              0,
              "#0d0887"
             ],
             [
              0.1111111111111111,
              "#46039f"
             ],
             [
              0.2222222222222222,
              "#7201a8"
             ],
             [
              0.3333333333333333,
              "#9c179e"
             ],
             [
              0.4444444444444444,
              "#bd3786"
             ],
             [
              0.5555555555555556,
              "#d8576b"
             ],
             [
              0.6666666666666666,
              "#ed7953"
             ],
             [
              0.7777777777777778,
              "#fb9f3a"
             ],
             [
              0.8888888888888888,
              "#fdca26"
             ],
             [
              1,
              "#f0f921"
             ]
            ],
            "type": "surface"
           }
          ],
          "table": [
           {
            "cells": {
             "fill": {
              "color": "#EBF0F8"
             },
             "line": {
              "color": "white"
             }
            },
            "header": {
             "fill": {
              "color": "#C8D4E3"
             },
             "line": {
              "color": "white"
             }
            },
            "type": "table"
           }
          ]
         },
         "layout": {
          "annotationdefaults": {
           "arrowcolor": "#2a3f5f",
           "arrowhead": 0,
           "arrowwidth": 1
          },
          "autotypenumbers": "strict",
          "coloraxis": {
           "colorbar": {
            "outlinewidth": 0,
            "ticks": ""
           }
          },
          "colorscale": {
           "diverging": [
            [
             0,
             "#8e0152"
            ],
            [
             0.1,
             "#c51b7d"
            ],
            [
             0.2,
             "#de77ae"
            ],
            [
             0.3,
             "#f1b6da"
            ],
            [
             0.4,
             "#fde0ef"
            ],
            [
             0.5,
             "#f7f7f7"
            ],
            [
             0.6,
             "#e6f5d0"
            ],
            [
             0.7,
             "#b8e186"
            ],
            [
             0.8,
             "#7fbc41"
            ],
            [
             0.9,
             "#4d9221"
            ],
            [
             1,
             "#276419"
            ]
           ],
           "sequential": [
            [
             0,
             "#0d0887"
            ],
            [
             0.1111111111111111,
             "#46039f"
            ],
            [
             0.2222222222222222,
             "#7201a8"
            ],
            [
             0.3333333333333333,
             "#9c179e"
            ],
            [
             0.4444444444444444,
             "#bd3786"
            ],
            [
             0.5555555555555556,
             "#d8576b"
            ],
            [
             0.6666666666666666,
             "#ed7953"
            ],
            [
             0.7777777777777778,
             "#fb9f3a"
            ],
            [
             0.8888888888888888,
             "#fdca26"
            ],
            [
             1,
             "#f0f921"
            ]
           ],
           "sequentialminus": [
            [
             0,
             "#0d0887"
            ],
            [
             0.1111111111111111,
             "#46039f"
            ],
            [
             0.2222222222222222,
             "#7201a8"
            ],
            [
             0.3333333333333333,
             "#9c179e"
            ],
            [
             0.4444444444444444,
             "#bd3786"
            ],
            [
             0.5555555555555556,
             "#d8576b"
            ],
            [
             0.6666666666666666,
             "#ed7953"
            ],
            [
             0.7777777777777778,
             "#fb9f3a"
            ],
            [
             0.8888888888888888,
             "#fdca26"
            ],
            [
             1,
             "#f0f921"
            ]
           ]
          },
          "colorway": [
           "#636efa",
           "#EF553B",
           "#00cc96",
           "#ab63fa",
           "#FFA15A",
           "#19d3f3",
           "#FF6692",
           "#B6E880",
           "#FF97FF",
           "#FECB52"
          ],
          "font": {
           "color": "#2a3f5f"
          },
          "geo": {
           "bgcolor": "white",
           "lakecolor": "white",
           "landcolor": "#E5ECF6",
           "showlakes": true,
           "showland": true,
           "subunitcolor": "white"
          },
          "hoverlabel": {
           "align": "left"
          },
          "hovermode": "closest",
          "mapbox": {
           "style": "light"
          },
          "paper_bgcolor": "white",
          "plot_bgcolor": "#E5ECF6",
          "polar": {
           "angularaxis": {
            "gridcolor": "white",
            "linecolor": "white",
            "ticks": ""
           },
           "bgcolor": "#E5ECF6",
           "radialaxis": {
            "gridcolor": "white",
            "linecolor": "white",
            "ticks": ""
           }
          },
          "scene": {
           "xaxis": {
            "backgroundcolor": "#E5ECF6",
            "gridcolor": "white",
            "gridwidth": 2,
            "linecolor": "white",
            "showbackground": true,
            "ticks": "",
            "zerolinecolor": "white"
           },
           "yaxis": {
            "backgroundcolor": "#E5ECF6",
            "gridcolor": "white",
            "gridwidth": 2,
            "linecolor": "white",
            "showbackground": true,
            "ticks": "",
            "zerolinecolor": "white"
           },
           "zaxis": {
            "backgroundcolor": "#E5ECF6",
            "gridcolor": "white",
            "gridwidth": 2,
            "linecolor": "white",
            "showbackground": true,
            "ticks": "",
            "zerolinecolor": "white"
           }
          },
          "shapedefaults": {
           "line": {
            "color": "#2a3f5f"
           }
          },
          "ternary": {
           "aaxis": {
            "gridcolor": "white",
            "linecolor": "white",
            "ticks": ""
           },
           "baxis": {
            "gridcolor": "white",
            "linecolor": "white",
            "ticks": ""
           },
           "bgcolor": "#E5ECF6",
           "caxis": {
            "gridcolor": "white",
            "linecolor": "white",
            "ticks": ""
           }
          },
          "title": {
           "x": 0.05
          },
          "xaxis": {
           "automargin": true,
           "gridcolor": "white",
           "linecolor": "white",
           "ticks": "",
           "title": {
            "standoff": 15
           },
           "zerolinecolor": "white",
           "zerolinewidth": 2
          },
          "yaxis": {
           "automargin": true,
           "gridcolor": "white",
           "linecolor": "white",
           "ticks": "",
           "title": {
            "standoff": 15
           },
           "zerolinecolor": "white",
           "zerolinewidth": 2
          }
         }
        },
        "xaxis": {
         "anchor": "y",
         "autorange": true,
         "domain": [
          0,
          1
         ],
         "range": [
          0,
          322
         ],
         "title": {
          "text": "days_on_hbo_max"
         },
         "type": "linear"
        },
        "yaxis": {
         "anchor": "x",
         "autorange": true,
         "domain": [
          0,
          1
         ],
         "range": [
          -0.005958694959428801,
          3.8701702209985864
         ],
         "title": {
          "text": "average_hour_viewed_before_runtime"
         },
         "type": "linear"
        }
       }
      },
      "image/png": "[encoded data removed]",
      "text/html": [
       "<div>                            <div id=\"e816db25-186a-4f2e-8978-a3fe5b430883\" class=\"plotly-graph-div\" style=\"height:525px; width:100%;\"></div>            <script type=\"text/javascript\">                require([\"plotly\"], function(Plotly) {                    window.PLOTLYENV=window.PLOTLYENV || {};                                    if (document.getElementById(\"e816db25-186a-4f2e-8978-a3fe5b430883\")) {                    Plotly.newPlot(                        \"e816db25-186a-4f2e-8978-a3fe5b430883\",                        [{\"hovertemplate\":\"segment_name=Buzzy HBO Originals<br>days_on_hbo_max=%{x}<br>average_hour_viewed_before_runtime=%{y}<extra></extra>\",\"legendgroup\":\"Buzzy HBO Originals\",\"line\":{\"color\":\"#636efa\",\"dash\":\"solid\"},\"marker\":{\"symbol\":\"circle\"},\"mode\":\"lines\",\"name\":\"Buzzy HBO Originals\",\"orientation\":\"v\",\"showlegend\":true,\"x\":[0,7,14,21,28,35,42,49,56,63,70,77,84,91,98,105,112,119,126,133,140,147,154,161,168,175,182,189,196,203,210,217,224,231,238,245,252,259,266,273,280,287,294,301,308,315,322],\"xaxis\":\"x\",\"y\":[0.18784775083847197,1.3769499848516682,1.733682073088394,1.910382675453451,2.0208117097383953,2.1027804891190307,2.1712332815370368,2.213755211959196,2.246728686279716,2.275452633639282,2.2984984205697363,2.3198309359248324,2.3405522441751363,2.3584581456267286,2.3751759384286633,2.390502971786755,2.4042083632182023,2.41556373170768,2.4235883818167316,2.4202157490055134,2.42648850599074,2.4298708580456476,2.434759244308903,2.4399718059096007,2.446695472754597,2.451798679844744,2.456563940814278,2.4625228872601115,2.469621264586794,2.4762214492625363,2.481008550635382,2.48582675278315,2.492900229434171,2.4953837779446455,2.495541365991958,2.4946329097736175,2.4973367602518692,2.5056315471089157,2.50897207301633,2.5121420631861495,2.509530002404359,2.514037743832368,2.5215856224454996,2.5226972683511235,2.5291189745523557,2.5338913610562823,2.54128220090038],\"yaxis\":\"y\",\"type\":\"scatter\"},{\"hovertemplate\":\"segment_name=Thrilling Action Movies<br>days_on_hbo_max=%{x}<br>average_hour_viewed_before_runtime=%{y}<extra></extra>\",\"legendgroup\":\"Thrilling Action Movies\",\"line\":{\"color\":\"#EF553B\",\"dash\":\"solid\"},\"marker\":{\"symbol\":\"circle\"},\"mode\":\"lines\",\"name\":\"Thrilling Action Movies\",\"orientation\":\"v\",\"showlegend\":true,\"x\":[0,7,14,21,28,35,42,49,56,63,70,77,84,91,98,105,112,119,126,133,140,147,154,161,168,175,182,189,196,203,210,217,224,231,238,245,252,259,266,273,280,287,294,301,308,315,322],\"xaxis\":\"x\",\"y\":[0.31802815120545946,2.1306607205722834,2.6248056933308157,2.8597815668203155,3.003001659388782,3.112174055768644,3.2074130109971257,3.2622595315476985,3.3078553242129094,3.3475372360042317,3.3806544374941434,3.411481789995518,3.4408967798683467,3.4657008193979633,3.489245532959502,3.5111598370372556,3.5295057916024963,3.5466843487523567,3.5557778481015747,3.545996942531215,3.5534651410774654,3.5551776814974487,3.5612893989333942,3.5686989001653098,3.5769920825678216,3.582596345119041,3.5880928808372317,3.596506458601697,3.6052554580327523,3.6151928947585703,3.623478120977616,3.633165513251016,3.644968108484014,3.6519426686278718,3.6568122088265667,3.6606066334643943,3.663681097625613,3.675425672293191,3.6763637752006857,3.670001972546296,3.6301785648458536,3.622652116615124,3.6221783759087423,3.611811559464305,3.610183348527994,3.6055371892519013,3.605876258977076],\"yaxis\":\"y\",\"type\":\"scatter\"}],                        {\"template\":{\"data\":{\"bar\":[{\"error_x\":{\"color\":\"#2a3f5f\"},\"error_y\":{\"color\":\"#2a3f5f\"},\"marker\":{\"line\":{\"color\":\"#E5ECF6\",\"width\":0.5},\"pattern\":{\"fillmode\":\"overlay\",\"size\":10,\"solidity\":0.2}},\"type\":\"bar\"}],\"barpolar\":[{\"marker\":{\"line\":{\"color\":\"#E5ECF6\",\"width\":0.5},\"pattern\":{\"fillmode\":\"overlay\",\"size\":10,\"solidity\":0.2}},\"type\":\"barpolar\"}],\"carpet\":[{\"aaxis\":{\"endlinecolor\":\"#2a3f5f\",\"gridcolor\":\"white\",\"linecolor\":\"white\",\"minorgridcolor\":\"white\",\"startlinecolor\":\"#2a3f5f\"},\"baxis\":{\"endlinecolor\":\"#2a3f5f\",\"gridcolor\":\"white\",\"linecolor\":\"white\",\"minorgridcolor\":\"white\",\"startlinecolor\":\"#2a3f5f\"},\"type\":\"carpet\"}],\"choropleth\":[{\"colorbar\":{\"outlinewidth\":0,\"ticks\":\"\"},\"type\":\"choropleth\"}],\"contour\":[{\"colorbar\":{\"outlinewidth\":0,\"ticks\":\"\"},\"colorscale\":[[0.0,\"#0d0887\"],[0.1111111111111111,\"#46039f\"],[0.2222222222222222,\"#7201a8\"],[0.3333333333333333,\"#9c179e\"],[0.4444444444444444,\"#bd3786\"],[0.5555555555555556,\"#d8576b\"],[0.6666666666666666,\"#ed7953\"],[0.7777777777777778,\"#fb9f3a\"],[0.8888888888888888,\"#fdca26\"],[1.0,\"#f0f921\"]],\"type\":\"contour\"}],\"contourcarpet\":[{\"colorbar\":{\"outlinewidth\":0,\"ticks\":\"\"},\"type\":\"contourcarpet\"}],\"heatmap\":[{\"colorbar\":{\"outlinewidth\":0,\"ticks\":\"\"},\"colorscale\":[[0.0,\"#0d0887\"],[0.1111111111111111,\"#46039f\"],[0.2222222222222222,\"#7201a8\"],[0.3333333333333333,\"#9c179e\"],[0.4444444444444444,\"#bd3786\"],[0.5555555555555556,\"#d8576b\"],[0.6666666666666666,\"#ed7953\"],[0.7777777777777778,\"#fb9f3a\"],[0.8888888888888888,\"#fdca26\"],[1.0,\"#f0f921\"]],\"type\":\"heatmap\"}],\"heatmapgl\":[{\"colorbar\":{\"outlinewidth\":0,\"ticks\":\"\"},\"colorscale\":[[0.0,\"#0d0887\"],[0.1111111111111111,\"#46039f\"],[0.2222222222222222,\"#7201a8\"],[0.3333333333333333,\"#9c179e\"],[0.4444444444444444,\"#bd3786\"],[0.5555555555555556,\"#d8576b\"],[0.6666666666666666,\"#ed7953\"],[0.7777777777777778,\"#fb9f3a\"],[0.8888888888888888,\"#fdca26\"],[1.0,\"#f0f921\"]],\"type\":\"heatmapgl\"}],\"histogram\":[{\"marker\":{\"pattern\":{\"fillmode\":\"overlay\",\"size\":10,\"solidity\":0.2}},\"type\":\"histogram\"}],\"histogram2d\":[{\"colorbar\":{\"outlinewidth\":0,\"ticks\":\"\"},\"colorscale\":[[0.0,\"#0d0887\"],[0.1111111111111111,\"#46039f\"],[0.2222222222222222,\"#7201a8\"],[0.3333333333333333,\"#9c179e\"],[0.4444444444444444,\"#bd3786\"],[0.5555555555555556,\"#d8576b\"],[0.6666666666666666,\"#ed7953\"],[0.7777777777777778,\"#fb9f3a\"],[0.8888888888888888,\"#fdca26\"],[1.0,\"#f0f921\"]],\"type\":\"histogram2d\"}],\"histogram2dcontour\":[{\"colorbar\":{\"outlinewidth\":0,\"ticks\":\"\"},\"colorscale\":[[0.0,\"#0d0887\"],[0.1111111111111111,\"#46039f\"],[0.2222222222222222,\"#7201a8\"],[0.3333333333333333,\"#9c179e\"],[0.4444444444444444,\"#bd3786\"],[0.5555555555555556,\"#d8576b\"],[0.6666666666666666,\"#ed7953\"],[0.7777777777777778,\"#fb9f3a\"],[0.8888888888888888,\"#fdca26\"],[1.0,\"#f0f921\"]],\"type\":\"histogram2dcontour\"}],\"mesh3d\":[{\"colorbar\":{\"outlinewidth\":0,\"ticks\":\"\"},\"type\":\"mesh3d\"}],\"parcoords\":[{\"line\":{\"colorbar\":{\"outlinewidth\":0,\"ticks\":\"\"}},\"type\":\"parcoords\"}],\"pie\":[{\"automargin\":true,\"type\":\"pie\"}],\"scatter\":[{\"marker\":{\"colorbar\":{\"outlinewidth\":0,\"ticks\":\"\"}},\"type\":\"scatter\"}],\"scatter3d\":[{\"line\":{\"colorbar\":{\"outlinewidth\":0,\"ticks\":\"\"}},\"marker\":{\"colorbar\":{\"outlinewidth\":0,\"ticks\":\"\"}},\"type\":\"scatter3d\"}],\"scattercarpet\":[{\"marker\":{\"colorbar\":{\"outlinewidth\":0,\"ticks\":\"\"}},\"type\":\"scattercarpet\"}],\"scattergeo\":[{\"marker\":{\"colorbar\":{\"outlinewidth\":0,\"ticks\":\"\"}},\"type\":\"scattergeo\"}],\"scattergl\":[{\"marker\":{\"colorbar\":{\"outlinewidth\":0,\"ticks\":\"\"}},\"type\":\"scattergl\"}],\"scattermapbox\":[{\"marker\":{\"colorbar\":{\"outlinewidth\":0,\"ticks\":\"\"}},\"type\":\"scattermapbox\"}],\"scatterpolar\":[{\"marker\":{\"colorbar\":{\"outlinewidth\":0,\"ticks\":\"\"}},\"type\":\"scatterpolar\"}],\"scatterpolargl\":[{\"marker\":{\"colorbar\":{\"outlinewidth\":0,\"ticks\":\"\"}},\"type\":\"scatterpolargl\"}],\"scatterternary\":[{\"marker\":{\"colorbar\":{\"outlinewidth\":0,\"ticks\":\"\"}},\"type\":\"scatterternary\"}],\"surface\":[{\"colorbar\":{\"outlinewidth\":0,\"ticks\":\"\"},\"colorscale\":[[0.0,\"#0d0887\"],[0.1111111111111111,\"#46039f\"],[0.2222222222222222,\"#7201a8\"],[0.3333333333333333,\"#9c179e\"],[0.4444444444444444,\"#bd3786\"],[0.5555555555555556,\"#d8576b\"],[0.6666666666666666,\"#ed7953\"],[0.7777777777777778,\"#fb9f3a\"],[0.8888888888888888,\"#fdca26\"],[1.0,\"#f0f921\"]],\"type\":\"surface\"}],\"table\":[{\"cells\":{\"fill\":{\"color\":\"#EBF0F8\"},\"line\":{\"color\":\"white\"}},\"header\":{\"fill\":{\"color\":\"#C8D4E3\"},\"line\":{\"color\":\"white\"}},\"type\":\"table\"}]},\"layout\":{\"annotationdefaults\":{\"arrowcolor\":\"#2a3f5f\",\"arrowhead\":0,\"arrowwidth\":1},\"autotypenumbers\":\"strict\",\"coloraxis\":{\"colorbar\":{\"outlinewidth\":0,\"ticks\":\"\"}},\"colorscale\":{\"diverging\":[[0,\"#8e0152\"],[0.1,\"#c51b7d\"],[0.2,\"#de77ae\"],[0.3,\"#f1b6da\"],[0.4,\"#fde0ef\"],[0.5,\"#f7f7f7\"],[0.6,\"#e6f5d0\"],[0.7,\"#b8e186\"],[0.8,\"#7fbc41\"],[0.9,\"#4d9221\"],[1,\"#276419\"]],\"sequential\":[[0.0,\"#0d0887\"],[0.1111111111111111,\"#46039f\"],[0.2222222222222222,\"#7201a8\"],[0.3333333333333333,\"#9c179e\"],[0.4444444444444444,\"#bd3786\"],[0.5555555555555556,\"#d8576b\"],[0.6666666666666666,\"#ed7953\"],[0.7777777777777778,\"#fb9f3a\"],[0.8888888888888888,\"#fdca26\"],[1.0,\"#f0f921\"]],\"sequentialminus\":[[0.0,\"#0d0887\"],[0.1111111111111111,\"#46039f\"],[0.2222222222222222,\"#7201a8\"],[0.3333333333333333,\"#9c179e\"],[0.4444444444444444,\"#bd3786\"],[0.5555555555555556,\"#d8576b\"],[0.6666666666666666,\"#ed7953\"],[0.7777777777777778,\"#fb9f3a\"],[0.8888888888888888,\"#fdca26\"],[1.0,\"#f0f921\"]]},\"colorway\":[\"#636efa\",\"#EF553B\",\"#00cc96\",\"#ab63fa\",\"#FFA15A\",\"#19d3f3\",\"#FF6692\",\"#B6E880\",\"#FF97FF\",\"#FECB52\"],\"font\":{\"color\":\"#2a3f5f\"},\"geo\":{\"bgcolor\":\"white\",\"lakecolor\":\"white\",\"landcolor\":\"#E5ECF6\",\"showlakes\":true,\"showland\":true,\"subunitcolor\":\"white\"},\"hoverlabel\":{\"align\":\"left\"},\"hovermode\":\"closest\",\"mapbox\":{\"style\":\"light\"},\"paper_bgcolor\":\"white\",\"plot_bgcolor\":\"#E5ECF6\",\"polar\":{\"angularaxis\":{\"gridcolor\":\"white\",\"linecolor\":\"white\",\"ticks\":\"\"},\"bgcolor\":\"#E5ECF6\",\"radialaxis\":{\"gridcolor\":\"white\",\"linecolor\":\"white\",\"ticks\":\"\"}},\"scene\":{\"xaxis\":{\"backgroundcolor\":\"#E5ECF6\",\"gridcolor\":\"white\",\"gridwidth\":2,\"linecolor\":\"white\",\"showbackground\":true,\"ticks\":\"\",\"zerolinecolor\":\"white\"},\"yaxis\":{\"backgroundcolor\":\"#E5ECF6\",\"gridcolor\":\"white\",\"gridwidth\":2,\"linecolor\":\"white\",\"showbackground\":true,\"ticks\":\"\",\"zerolinecolor\":\"white\"},\"zaxis\":{\"backgroundcolor\":\"#E5ECF6\",\"gridcolor\":\"white\",\"gridwidth\":2,\"linecolor\":\"white\",\"showbackground\":true,\"ticks\":\"\",\"zerolinecolor\":\"white\"}},\"shapedefaults\":{\"line\":{\"color\":\"#2a3f5f\"}},\"ternary\":{\"aaxis\":{\"gridcolor\":\"white\",\"linecolor\":\"white\",\"ticks\":\"\"},\"baxis\":{\"gridcolor\":\"white\",\"linecolor\":\"white\",\"ticks\":\"\"},\"bgcolor\":\"#E5ECF6\",\"caxis\":{\"gridcolor\":\"white\",\"linecolor\":\"white\",\"ticks\":\"\"}},\"title\":{\"x\":0.05},\"xaxis\":{\"automargin\":true,\"gridcolor\":\"white\",\"linecolor\":\"white\",\"ticks\":\"\",\"title\":{\"standoff\":15},\"zerolinecolor\":\"white\",\"zerolinewidth\":2},\"yaxis\":{\"automargin\":true,\"gridcolor\":\"white\",\"linecolor\":\"white\",\"ticks\":\"\",\"title\":{\"standoff\":15},\"zerolinecolor\":\"white\",\"zerolinewidth\":2}}},\"xaxis\":{\"anchor\":\"y\",\"domain\":[0.0,1.0],\"title\":{\"text\":\"days_on_hbo_max\"}},\"yaxis\":{\"anchor\":\"x\",\"domain\":[0.0,1.0],\"title\":{\"text\":\"average_hour_viewed_before_runtime\"}},\"legend\":{\"title\":{\"text\":\"segment_name\"},\"tracegroupgap\":0},\"margin\":{\"t\":60}},                        {\"responsive\": true}                    ).then(function(){\n",
       "                            \n",
       "var gd = document.getElementById('e816db25-186a-4f2e-8978-a3fe5b430883');\n",
       "var x = new MutationObserver(function (mutations, observer) {{\n",
       "        var display = window.getComputedStyle(gd).display;\n",
       "        if (!display || display === 'none') {{\n",
       "            console.log([gd, 'removed!']);\n",
       "            Plotly.purge(gd);\n",
       "            observer.disconnect();\n",
       "        }}\n",
       "}});\n",
       "\n",
       "// Listen for the removal of the full notebook cells\n",
       "var notebookContainer = gd.closest('#notebook-container');\n",
       "if (notebookContainer) {{\n",
       "    x.observe(notebookContainer, {childList: true});\n",
       "}}\n",
       "\n",
       "// Listen for the clearing of the current output cell\n",
       "var outputEl = gd.closest('.output');\n",
       "if (outputEl) {{\n",
       "    x.observe(outputEl, {childList: true});\n",
       "}}\n",
       "\n",
       "                        })                };                });            </script>        </div>"
      ]
     },
     "metadata": {},
     "output_type": "display_data"
    }
   ],
   "source": [
    "fig = px.line(plot, x=\"days_on_hbo_max\", y=\"average_hour_viewed_before_runtime\", color='segment_name')\n",
    "fig.show()"
   ]
  },
  {
   "cell_type": "code",
   "execution_count": null,
   "id": "f3d8e667",
   "metadata": {},
   "outputs": [],
   "source": []
  }
 ],
 "metadata": {
  "kernelspec": {
   "display_name": "conda_python3",
   "language": "python",
   "name": "conda_python3"
  },
  "language_info": {
   "codemirror_mode": {
    "name": "ipython",
    "version": 3
   },
   "file_extension": ".py",
   "mimetype": "text/x-python",
   "name": "python",
   "nbconvert_exporter": "python",
   "pygments_lexer": "ipython3",
   "version": "3.6.13"
  }
 },
 "nbformat": 4,
 "nbformat_minor": 5
}
