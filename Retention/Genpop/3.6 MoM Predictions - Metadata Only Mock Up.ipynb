{
 "cells": [
  {
   "cell_type": "code",
   "execution_count": 13,
   "id": "c7de24c1",
   "metadata": {},
   "outputs": [],
   "source": [
    "import pandas as pd\n",
    "import numpy as np\n",
    "import itertools as it\n",
    "import os\n",
    "import io\n",
    "import logging\n",
    "\n",
    "import boto3\n",
    "import sys\n",
    "import json\n",
    "import snowflake.connector"
   ]
  },
  {
   "cell_type": "markdown",
   "id": "fa3b552c",
   "metadata": {},
   "source": [
    "# Reading Data "
   ]
  },
  {
   "cell_type": "code",
   "execution_count": 14,
   "id": "eae23e69",
   "metadata": {},
   "outputs": [
    {
     "name": "stderr",
     "output_type": "stream",
     "text": [
      "/home/ec2-user/anaconda3/envs/python3/lib/python3.6/site-packages/boto3/compat.py:88: PythonDeprecationWarning: Boto3 will no longer support Python 3.6 starting May 30, 2022. To continue receiving service updates, bug fixes, and security updates please upgrade to Python 3.7 or later. More information can be found here: https://aws.amazon.com/blogs/developer/python-support-policy-updates-for-aws-sdks-and-tools/\n",
      "  warnings.warn(warning, PythonDeprecationWarning)\n"
     ]
    }
   ],
   "source": [
    "## WRITE OR READ FROM S3 ####\n",
    "import boto3\n",
    "import io\n",
    "\n",
    "s3 = boto3.resource('s3')\n",
    "output_bucket = \"hbo-outbound-datascience-content-dev\"\n",
    "input_bucket = \"hbo-ingest-datascience-content-dev\"\n",
    "bucket = s3.Bucket(input_bucket)\n",
    "\n",
    "def write_to_sf(df, file_name):\n",
    "    csv_buffer = io.StringIO()\n",
    "    df.to_csv(csv_buffer, index = False)\n",
    "    content = csv_buffer.getvalue()\n",
    "    filename = 'title_hours_viewed_retention/{}.csv'.format(file_name)\n",
    "    client = boto3.client('s3')\n",
    "    client.put_object(Bucket=output_bucket, Key=filename, Body=content)\n",
    "    \n",
    "def write_to_input(df, file_name):\n",
    "    csv_buffer = io.StringIO()\n",
    "    df.to_csv(csv_buffer, index = False)\n",
    "    content = csv_buffer.getvalue()\n",
    "    filename = 'title_hours_viewed_retention/{}.csv'.format(file_name)\n",
    "    client = boto3.client('s3')\n",
    "    client.put_object(Bucket=input_bucket, Key=filename, Body=content)\n",
    "    \n",
    "def read_from_s3(filename, input_bucket = input_bucket):\n",
    "    for obj in bucket.objects.filter(Prefix=filename): #churn_metric_0811\n",
    "            key = obj.key \n",
    "            body = obj.get()['Body']\n",
    "            print('Reading {0} features'.format(key))\n",
    "            df = pd.read_csv(body, na_values = [r'\\\\\\\\N'])\n",
    "    return df"
   ]
  },
  {
   "cell_type": "code",
   "execution_count": 15,
   "id": "9e7f19b5",
   "metadata": {},
   "outputs": [
    {
     "name": "stdout",
     "output_type": "stream",
     "text": [
      "Reading cost_allocation/dev/churn_metric_0906.csv features\n"
     ]
    },
    {
     "data": {
      "text/html": [
       "<div>\n",
       "<style scoped>\n",
       "    .dataframe tbody tr th:only-of-type {\n",
       "        vertical-align: middle;\n",
       "    }\n",
       "\n",
       "    .dataframe tbody tr th {\n",
       "        vertical-align: top;\n",
       "    }\n",
       "\n",
       "    .dataframe thead th {\n",
       "        text-align: right;\n",
       "    }\n",
       "</style>\n",
       "<table border=\"1\" class=\"dataframe\">\n",
       "  <thead>\n",
       "    <tr style=\"text-align: right;\">\n",
       "      <th></th>\n",
       "      <th>Unnamed: 0</th>\n",
       "      <th>genre</th>\n",
       "      <th>medal</th>\n",
       "      <th>category</th>\n",
       "      <th>churn_per_hr_person</th>\n",
       "    </tr>\n",
       "  </thead>\n",
       "  <tbody>\n",
       "    <tr>\n",
       "      <th>0</th>\n",
       "      <td>0</td>\n",
       "      <td>action</td>\n",
       "      <td>Platinum</td>\n",
       "      <td>movies</td>\n",
       "      <td>-0.028358</td>\n",
       "    </tr>\n",
       "    <tr>\n",
       "      <th>1</th>\n",
       "      <td>1</td>\n",
       "      <td>action</td>\n",
       "      <td>Gold</td>\n",
       "      <td>series</td>\n",
       "      <td>-0.020530</td>\n",
       "    </tr>\n",
       "    <tr>\n",
       "      <th>2</th>\n",
       "      <td>2</td>\n",
       "      <td>action</td>\n",
       "      <td>Gold</td>\n",
       "      <td>movies</td>\n",
       "      <td>-0.027117</td>\n",
       "    </tr>\n",
       "    <tr>\n",
       "      <th>3</th>\n",
       "      <td>3</td>\n",
       "      <td>action</td>\n",
       "      <td>Silver</td>\n",
       "      <td>series</td>\n",
       "      <td>-0.005406</td>\n",
       "    </tr>\n",
       "    <tr>\n",
       "      <th>4</th>\n",
       "      <td>4</td>\n",
       "      <td>action</td>\n",
       "      <td>Silver</td>\n",
       "      <td>movies</td>\n",
       "      <td>-0.019190</td>\n",
       "    </tr>\n",
       "  </tbody>\n",
       "</table>\n",
       "</div>"
      ],
      "text/plain": [
       "   Unnamed: 0   genre     medal category  churn_per_hr_person\n",
       "0           0  action  Platinum   movies            -0.028358\n",
       "1           1  action      Gold   series            -0.020530\n",
       "2           2  action      Gold   movies            -0.027117\n",
       "3           3  action    Silver   series            -0.005406\n",
       "4           4  action    Silver   movies            -0.019190"
      ]
     },
     "execution_count": 15,
     "metadata": {},
     "output_type": "execute_result"
    }
   ],
   "source": [
    "churn_metric = read_from_s3('cost_allocation/dev/churn_metric_0906')\n",
    "churn_metric.head()"
   ]
  },
  {
   "cell_type": "code",
   "execution_count": 16,
   "id": "94d4ecd3",
   "metadata": {},
   "outputs": [
    {
     "name": "stdout",
     "output_type": "stream",
     "text": [
      "Reading title_hours_viewed_retention/content_slate_metadata_level.csv features\n"
     ]
    }
   ],
   "source": [
    "hours_viewed = read_from_s3('title_hours_viewed_retention/content_slate_metadata_level.csv')"
   ]
  },
  {
   "cell_type": "code",
   "execution_count": 17,
   "id": "9bb45e26",
   "metadata": {},
   "outputs": [],
   "source": [
    "hours_viewed = hours_viewed.reset_index()"
   ]
  },
  {
   "cell_type": "code",
   "execution_count": 18,
   "id": "dd30d8b0",
   "metadata": {},
   "outputs": [],
   "source": [
    "# hours_viewed = hours_viewed[['prediction', 'genre', \n",
    "#                              'medal', 'content_category', 'asset_run_time_hours', 'index']]"
   ]
  },
  {
   "cell_type": "code",
   "execution_count": 19,
   "id": "c5f802c4",
   "metadata": {},
   "outputs": [],
   "source": [
    "hours_viewed.rename(columns = {'content_category':'category', 'index':'name_number'}, inplace = True)"
   ]
  },
  {
   "cell_type": "code",
   "execution_count": 20,
   "id": "a5257412",
   "metadata": {},
   "outputs": [],
   "source": [
    "# hours_viewed.loc[(hours_viewed['genre'].isin(['action', 'other'])) & (hours_viewed['medal']=='Platinum')\n",
    "#                 &(hours_viewed['category']=='series'), 'genre'] = 'comedy'"
   ]
  },
  {
   "cell_type": "code",
   "execution_count": 21,
   "id": "64e5dafb",
   "metadata": {},
   "outputs": [],
   "source": [
    "hours_viewed = hours_viewed.merge(churn_metric[['genre','medal','category', 'churn_per_hr_person']], on = ['genre','medal','category'],\n",
    "                                 how = 'left')"
   ]
  },
  {
   "cell_type": "code",
   "execution_count": 22,
   "id": "fec3ae40",
   "metadata": {},
   "outputs": [],
   "source": [
    "hours_viewed['change_in_churn_60d_prediction'] = hours_viewed['prediction'] * hours_viewed['churn_per_hr_person']"
   ]
  },
  {
   "cell_type": "code",
   "execution_count": 23,
   "id": "59c04c9c",
   "metadata": {},
   "outputs": [],
   "source": [
    "hours_viewed_thresh = hours_viewed"
   ]
  },
  {
   "cell_type": "code",
   "execution_count": 24,
   "id": "048a13ef",
   "metadata": {},
   "outputs": [
    {
     "data": {
      "text/plain": [
       "59"
      ]
     },
     "execution_count": 24,
     "metadata": {},
     "output_type": "execute_result"
    }
   ],
   "source": [
    "len(hours_viewed_thresh)"
   ]
  },
  {
   "cell_type": "markdown",
   "id": "02c028b1",
   "metadata": {},
   "source": [
    "# Allocate the 60-Day Churn to monthly"
   ]
  },
  {
   "cell_type": "code",
   "execution_count": 25,
   "id": "fb290531",
   "metadata": {},
   "outputs": [
    {
     "name": "stdout",
     "output_type": "stream",
     "text": [
      "Reading title_hours_viewed_retention/final_evergreen_title_list.csv features\n"
     ]
    }
   ],
   "source": [
    "ever_green_titles = read_from_s3('title_hours_viewed_retention/final_evergreen_title_list.csv') #final_evergreen_title_list.csv # ever_green_titles.csv"
   ]
  },
  {
   "cell_type": "code",
   "execution_count": 26,
   "id": "b7c293af",
   "metadata": {},
   "outputs": [],
   "source": [
    "# ever_green_title_name = ever_green_titles.title_name.unique()\n",
    "# norm_title_name = hours_viewed_thresh[~hours_viewed_thresh['title_name'].isin(ever_green_title_name)].title_name.unique()"
   ]
  },
  {
   "cell_type": "markdown",
   "id": "3c847f75",
   "metadata": {},
   "source": [
    "### 1. Normal Titles"
   ]
  },
  {
   "cell_type": "code",
   "execution_count": 27,
   "id": "87ab0234",
   "metadata": {},
   "outputs": [
    {
     "name": "stderr",
     "output_type": "stream",
     "text": [
      "Matplotlib is building the font cache; this may take a moment.\n"
     ]
    }
   ],
   "source": [
    "import matplotlib.pyplot as plt\n",
    "from matplotlib.pyplot import figure"
   ]
  },
  {
   "cell_type": "code",
   "execution_count": 28,
   "id": "15228d78",
   "metadata": {},
   "outputs": [],
   "source": [
    "from scipy.optimize import curve_fit"
   ]
  },
  {
   "cell_type": "code",
   "execution_count": 29,
   "id": "040e60ed",
   "metadata": {},
   "outputs": [
    {
     "name": "stdout",
     "output_type": "stream",
     "text": [
      "Reading title_hours_viewed_retention/historical_weekly_hours_viewed.csv features\n"
     ]
    }
   ],
   "source": [
    "historical_weekly_hours_viewed = read_from_s3('title_hours_viewed_retention/historical_weekly_hours_viewed.csv')"
   ]
  },
  {
   "cell_type": "code",
   "execution_count": 30,
   "id": "623a79b5",
   "metadata": {},
   "outputs": [],
   "source": [
    "def func(x, a, b, c):\n",
    "    return a * np.exp(-b * x) + c"
   ]
  },
  {
   "cell_type": "code",
   "execution_count": 31,
   "id": "1d99873e",
   "metadata": {},
   "outputs": [
    {
     "name": "stderr",
     "output_type": "stream",
     "text": [
      "/home/ec2-user/anaconda3/envs/python3/lib/python3.6/site-packages/pandas/core/series.py:726: RuntimeWarning: overflow encountered in exp\n",
      "  result = getattr(ufunc, method)(*inputs, **kwargs)\n"
     ]
    }
   ],
   "source": [
    "train_data = historical_weekly_hours_viewed.copy()\n",
    "##### TRAIN FOR MOVIE ############\n",
    "x1 = (train_data[train_data['content_category'] == 'movies']['days_on_hbo_max'])\n",
    "y1 = train_data[train_data['content_category'] == 'movies']['target']\n",
    "popt1, pcov1 = curve_fit(func, x1, y1)\n",
    "\n",
    "##### TRAIN FOR SERIES ############\n",
    "x2 = (train_data[train_data['content_category'] == 'series']['days_on_hbo_max'])\n",
    "y2 = train_data[train_data['content_category'] == 'series']['target']\n",
    "popt2, pcov2 = curve_fit(func, x2, y2)"
   ]
  },
  {
   "cell_type": "code",
   "execution_count": 32,
   "id": "b20a9771",
   "metadata": {},
   "outputs": [],
   "source": [
    "x = pd.Series(np.arange(0,150,1))\n",
    "y1 = func(x, *popt1)\n",
    "y2 = func(x, *popt2)"
   ]
  },
  {
   "cell_type": "code",
   "execution_count": 33,
   "id": "a26019d1",
   "metadata": {},
   "outputs": [
    {
     "data": {
      "image/png": "[encoded data removed]",
      "text/plain": [
       "<Figure size 1296x432 with 1 Axes>"
      ]
     },
     "metadata": {
      "needs_background": "light"
     },
     "output_type": "display_data"
    }
   ],
   "source": [
    "fig, ax = plt.subplots(figsize=(18, 6))\n",
    "plt.plot(x, y1, label = 'movie_decay')\n",
    "plt.plot(x, y2, label = 'series_decay')\n",
    "\n",
    "plt.legend()\n",
    "plt.show()"
   ]
  },
  {
   "cell_type": "code",
   "execution_count": 34,
   "id": "a051402d",
   "metadata": {},
   "outputs": [],
   "source": [
    "dt_df_movie = pd.DataFrame({'days_on_hbo_max': x,\n",
    "                           'factor': y1,\n",
    "                           'content_category': 'movies'})\n",
    "dt_df_series = pd.DataFrame({'days_on_hbo_max': x,\n",
    "                           'factor': y2,\n",
    "                           'content_category': 'series'})\n",
    "dt_df = pd.concat([dt_df_movie, dt_df_series], axis = 0)\n",
    "dt_df.rename(columns = {'content_category':'category'}, inplace = True)"
   ]
  },
  {
   "cell_type": "code",
   "execution_count": 35,
   "id": "94de3d92",
   "metadata": {},
   "outputs": [],
   "source": [
    "day_60_cum_sum = dt_df[dt_df['days_on_hbo_max']<60].groupby(['category']).factor.sum().reset_index()"
   ]
  },
  {
   "cell_type": "code",
   "execution_count": 36,
   "id": "0df27928",
   "metadata": {},
   "outputs": [],
   "source": [
    "hours_viewed_decay_norm = hours_viewed_thresh\n",
    "\n",
    "hours_viewed_decay_norm = hours_viewed_decay_norm.merge(dt_df, on = ['category'])\\\n",
    "                                                 .merge(day_60_cum_sum.rename(columns = {'factor':'cum_sum'}), on = ['category'])\n",
    "\n",
    "hours_viewed_decay_norm['change_in_churn_prediction'] = hours_viewed_decay_norm['change_in_churn_60d_prediction']/hours_viewed_decay_norm['cum_sum']*hours_viewed_decay_norm['factor']*hours_viewed_decay_norm['asset_run_time_hours']\n",
    "\n",
    "# hours_viewed_decay_norm['request_date'] = pd.to_datetime(hours_viewed_decay_norm['offering_start_date']) \\\n",
    "#                                         + pd.to_timedelta(hours_viewed_decay_norm['days_on_hbo_max'], unit='D')"
   ]
  },
  {
   "cell_type": "markdown",
   "id": "767159df",
   "metadata": {},
   "source": [
    "### 2. Evergreen Titles"
   ]
  },
  {
   "cell_type": "markdown",
   "id": "924c8c9c",
   "metadata": {},
   "source": [
    "#### 2.2 Keep the retention value all the way along"
   ]
  },
  {
   "cell_type": "code",
   "execution_count": 37,
   "id": "7e2c03df",
   "metadata": {},
   "outputs": [],
   "source": [
    "# dt_df = pd.DataFrame()\n",
    "# dt_df['days_on_hbo_max'] = [i for i in range(0, 365*3, 1)]\n",
    "# dt_df['key'] = 1\n",
    "\n",
    "# hours_viewed_decay_evergreen = hours_viewed_thresh[hours_viewed_thresh['title_id'].isin(ever_green_title_id)]\n",
    "# hours_viewed_decay_evergreen['key'] = 1\n",
    "\n",
    "# hours_viewed_decay_evergreen = hours_viewed_decay_evergreen.merge(dt_df, on = ['key']).drop(['key'], axis = 1)\n",
    "\n",
    "# hours_viewed_decay_evergreen['change_in_churn'] = hours_viewed_decay_evergreen['change_in_churn_60d']/60*hours_viewed_decay_evergreen['asset_run_time_hours']\n",
    "# hours_viewed_decay_evergreen['change_in_churn_prediction'] = hours_viewed_decay_evergreen['change_in_churn_60d_prediction']/60*hours_viewed_decay_evergreen['asset_run_time_hours']\n",
    "\n",
    "# hours_viewed_decay_evergreen['request_date'] = pd.to_datetime(hours_viewed_decay_evergreen['offering_start_date']) \\\n",
    "#                                         + pd.to_timedelta(hours_viewed_decay_evergreen['days_on_hbo_max'], unit='D')\n",
    "\n",
    "# hours_viewed_decay_evergreen = hours_viewed_decay_evergreen[hours_viewed_decay_evergreen['request_date'] <= '2023-03-01']\n"
   ]
  },
  {
   "cell_type": "code",
   "execution_count": 38,
   "id": "458367ad",
   "metadata": {},
   "outputs": [],
   "source": [
    "# fig, ax = plt.subplots(figsize=(8, 4))\n",
    "# test = hours_viewed_decay_evergreen\n",
    "\n",
    "\n",
    "# for i in range(1,2,1):\n",
    "#     plot_df = test[(test['title_name'] == 'Friends') &(test['season_number'] == i)]\n",
    "#     plt.plot(plot_df['days_on_hbo_max'], plot_df['change_in_churn'], label= 'Actual - Friends S' + str(i))\n",
    "#     plt.plot(plot_df['days_on_hbo_max'], plot_df['change_in_churn_prediction'], label= 'Prediction - Friends S' + str(i))\n",
    "\n",
    "# ax.set_xlabel('days_on_hbo_max')\n",
    "# ax.set_ylabel('change_in_churn')\n",
    "# ax.legend()\n",
    "\n",
    "# plt.show()"
   ]
  },
  {
   "cell_type": "markdown",
   "id": "0aeb1056",
   "metadata": {},
   "source": [
    "## UNION ALL THE DFs"
   ]
  },
  {
   "cell_type": "code",
   "execution_count": 39,
   "id": "1a0c1a27",
   "metadata": {},
   "outputs": [],
   "source": [
    "# data = pd.concat([hours_viewed_decay_norm[['title_name', 'title_id', 'season_number', 'request_date',  'days_on_hbo_max', 'change_in_churn', 'change_in_churn_prediction']],\n",
    "#                 hours_viewed_decay_evergreen[['title_name', 'title_id', 'season_number', 'request_date',  'days_on_hbo_max', 'change_in_churn', 'change_in_churn_prediction']] ],\n",
    "#                 axis = 0)\n",
    "data = hours_viewed_decay_norm"
   ]
  },
  {
   "cell_type": "code",
   "execution_count": 40,
   "id": "3ef18da1",
   "metadata": {},
   "outputs": [
    {
     "data": {
      "text/html": [
       "<div>\n",
       "<style scoped>\n",
       "    .dataframe tbody tr th:only-of-type {\n",
       "        vertical-align: middle;\n",
       "    }\n",
       "\n",
       "    .dataframe tbody tr th {\n",
       "        vertical-align: top;\n",
       "    }\n",
       "\n",
       "    .dataframe thead th {\n",
       "        text-align: right;\n",
       "    }\n",
       "</style>\n",
       "<table border=\"1\" class=\"dataframe\">\n",
       "  <thead>\n",
       "    <tr style=\"text-align: right;\">\n",
       "      <th></th>\n",
       "      <th>name_number</th>\n",
       "      <th>asset_run_time_hours</th>\n",
       "      <th>category</th>\n",
       "      <th>program_type</th>\n",
       "      <th>medal</th>\n",
       "      <th>genre</th>\n",
       "      <th>is_pay_1</th>\n",
       "      <th>hit_series</th>\n",
       "      <th>medal_number</th>\n",
       "      <th>content_category_movies</th>\n",
       "      <th>...</th>\n",
       "      <th>genre_drama</th>\n",
       "      <th>sig_pred</th>\n",
       "      <th>logged_pred</th>\n",
       "      <th>prediction</th>\n",
       "      <th>churn_per_hr_person</th>\n",
       "      <th>change_in_churn_60d_prediction</th>\n",
       "      <th>days_on_hbo_max</th>\n",
       "      <th>factor</th>\n",
       "      <th>cum_sum</th>\n",
       "      <th>change_in_churn_prediction</th>\n",
       "    </tr>\n",
       "  </thead>\n",
       "  <tbody>\n",
       "    <tr>\n",
       "      <th>0</th>\n",
       "      <td>0</td>\n",
       "      <td>1.630258</td>\n",
       "      <td>movies</td>\n",
       "      <td>acquired</td>\n",
       "      <td>Bronze</td>\n",
       "      <td>other</td>\n",
       "      <td>0</td>\n",
       "      <td>0</td>\n",
       "      <td>3.0</td>\n",
       "      <td>1</td>\n",
       "      <td>...</td>\n",
       "      <td>0</td>\n",
       "      <td>0</td>\n",
       "      <td>-5.64167</td>\n",
       "      <td>0.02003</td>\n",
       "      <td>-0.033936</td>\n",
       "      <td>-0.00068</td>\n",
       "      <td>0</td>\n",
       "      <td>17.958630</td>\n",
       "      <td>239.07981</td>\n",
       "      <td>-0.000083</td>\n",
       "    </tr>\n",
       "    <tr>\n",
       "      <th>1</th>\n",
       "      <td>0</td>\n",
       "      <td>1.630258</td>\n",
       "      <td>movies</td>\n",
       "      <td>acquired</td>\n",
       "      <td>Bronze</td>\n",
       "      <td>other</td>\n",
       "      <td>0</td>\n",
       "      <td>0</td>\n",
       "      <td>3.0</td>\n",
       "      <td>1</td>\n",
       "      <td>...</td>\n",
       "      <td>0</td>\n",
       "      <td>0</td>\n",
       "      <td>-5.64167</td>\n",
       "      <td>0.02003</td>\n",
       "      <td>-0.033936</td>\n",
       "      <td>-0.00068</td>\n",
       "      <td>1</td>\n",
       "      <td>16.478661</td>\n",
       "      <td>239.07981</td>\n",
       "      <td>-0.000076</td>\n",
       "    </tr>\n",
       "    <tr>\n",
       "      <th>2</th>\n",
       "      <td>0</td>\n",
       "      <td>1.630258</td>\n",
       "      <td>movies</td>\n",
       "      <td>acquired</td>\n",
       "      <td>Bronze</td>\n",
       "      <td>other</td>\n",
       "      <td>0</td>\n",
       "      <td>0</td>\n",
       "      <td>3.0</td>\n",
       "      <td>1</td>\n",
       "      <td>...</td>\n",
       "      <td>0</td>\n",
       "      <td>0</td>\n",
       "      <td>-5.64167</td>\n",
       "      <td>0.02003</td>\n",
       "      <td>-0.033936</td>\n",
       "      <td>-0.00068</td>\n",
       "      <td>2</td>\n",
       "      <td>15.124960</td>\n",
       "      <td>239.07981</td>\n",
       "      <td>-0.000070</td>\n",
       "    </tr>\n",
       "    <tr>\n",
       "      <th>3</th>\n",
       "      <td>0</td>\n",
       "      <td>1.630258</td>\n",
       "      <td>movies</td>\n",
       "      <td>acquired</td>\n",
       "      <td>Bronze</td>\n",
       "      <td>other</td>\n",
       "      <td>0</td>\n",
       "      <td>0</td>\n",
       "      <td>3.0</td>\n",
       "      <td>1</td>\n",
       "      <td>...</td>\n",
       "      <td>0</td>\n",
       "      <td>0</td>\n",
       "      <td>-5.64167</td>\n",
       "      <td>0.02003</td>\n",
       "      <td>-0.033936</td>\n",
       "      <td>-0.00068</td>\n",
       "      <td>3</td>\n",
       "      <td>13.886754</td>\n",
       "      <td>239.07981</td>\n",
       "      <td>-0.000064</td>\n",
       "    </tr>\n",
       "    <tr>\n",
       "      <th>4</th>\n",
       "      <td>0</td>\n",
       "      <td>1.630258</td>\n",
       "      <td>movies</td>\n",
       "      <td>acquired</td>\n",
       "      <td>Bronze</td>\n",
       "      <td>other</td>\n",
       "      <td>0</td>\n",
       "      <td>0</td>\n",
       "      <td>3.0</td>\n",
       "      <td>1</td>\n",
       "      <td>...</td>\n",
       "      <td>0</td>\n",
       "      <td>0</td>\n",
       "      <td>-5.64167</td>\n",
       "      <td>0.02003</td>\n",
       "      <td>-0.033936</td>\n",
       "      <td>-0.00068</td>\n",
       "      <td>4</td>\n",
       "      <td>12.754190</td>\n",
       "      <td>239.07981</td>\n",
       "      <td>-0.000059</td>\n",
       "    </tr>\n",
       "  </tbody>\n",
       "</table>\n",
       "<p>5 rows × 25 columns</p>\n",
       "</div>"
      ],
      "text/plain": [
       "   name_number  asset_run_time_hours category program_type   medal  genre  \\\n",
       "0            0              1.630258   movies     acquired  Bronze  other   \n",
       "1            0              1.630258   movies     acquired  Bronze  other   \n",
       "2            0              1.630258   movies     acquired  Bronze  other   \n",
       "3            0              1.630258   movies     acquired  Bronze  other   \n",
       "4            0              1.630258   movies     acquired  Bronze  other   \n",
       "\n",
       "   is_pay_1  hit_series  medal_number  content_category_movies  ...  \\\n",
       "0         0           0           3.0                        1  ...   \n",
       "1         0           0           3.0                        1  ...   \n",
       "2         0           0           3.0                        1  ...   \n",
       "3         0           0           3.0                        1  ...   \n",
       "4         0           0           3.0                        1  ...   \n",
       "\n",
       "   genre_drama  sig_pred  logged_pred  prediction  churn_per_hr_person  \\\n",
       "0            0         0     -5.64167     0.02003            -0.033936   \n",
       "1            0         0     -5.64167     0.02003            -0.033936   \n",
       "2            0         0     -5.64167     0.02003            -0.033936   \n",
       "3            0         0     -5.64167     0.02003            -0.033936   \n",
       "4            0         0     -5.64167     0.02003            -0.033936   \n",
       "\n",
       "   change_in_churn_60d_prediction  days_on_hbo_max     factor    cum_sum  \\\n",
       "0                        -0.00068                0  17.958630  239.07981   \n",
       "1                        -0.00068                1  16.478661  239.07981   \n",
       "2                        -0.00068                2  15.124960  239.07981   \n",
       "3                        -0.00068                3  13.886754  239.07981   \n",
       "4                        -0.00068                4  12.754190  239.07981   \n",
       "\n",
       "   change_in_churn_prediction  \n",
       "0                   -0.000083  \n",
       "1                   -0.000076  \n",
       "2                   -0.000070  \n",
       "3                   -0.000064  \n",
       "4                   -0.000059  \n",
       "\n",
       "[5 rows x 25 columns]"
      ]
     },
     "execution_count": 40,
     "metadata": {},
     "output_type": "execute_result"
    }
   ],
   "source": [
    "data.head()"
   ]
  },
  {
   "cell_type": "code",
   "execution_count": 41,
   "id": "c6d07347",
   "metadata": {},
   "outputs": [],
   "source": [
    "import plotly.express as px\n",
    "import plotly.graph_objects as go\n",
    "from plotly.subplots import make_subplots"
   ]
  },
  {
   "cell_type": "markdown",
   "id": "40eaca3f",
   "metadata": {},
   "source": [
    "#### Write to S3/SF"
   ]
  },
  {
   "cell_type": "code",
   "execution_count": 42,
   "id": "fac8d763",
   "metadata": {},
   "outputs": [],
   "source": [
    "filename = 'content_slate_metadata_level_'+pd.Timestamp.today().strftime('%Y-%m-%d') "
   ]
  },
  {
   "cell_type": "code",
   "execution_count": 43,
   "id": "3069d1c3",
   "metadata": {},
   "outputs": [
    {
     "data": {
      "text/plain": [
       "Index(['name_number', 'asset_run_time_hours', 'category', 'program_type',\n",
       "       'medal', 'genre', 'is_pay_1', 'hit_series', 'medal_number',\n",
       "       'content_category_movies', 'content_category_series',\n",
       "       'program_type_acquired', 'program_type_original', 'genre_action',\n",
       "       'genre_comedy', 'genre_drama', 'sig_pred', 'logged_pred', 'prediction',\n",
       "       'churn_per_hr_person', 'change_in_churn_60d_prediction',\n",
       "       'days_on_hbo_max', 'factor', 'cum_sum', 'change_in_churn_prediction'],\n",
       "      dtype='object')"
      ]
     },
     "execution_count": 43,
     "metadata": {},
     "output_type": "execute_result"
    }
   ],
   "source": [
    "data.columns"
   ]
  },
  {
   "cell_type": "code",
   "execution_count": 44,
   "id": "d13877fe",
   "metadata": {},
   "outputs": [],
   "source": [
    "data = data[['genre', 'medal', 'category', 'is_pay_1', 'hit_series',  'program_type', 'days_on_hbo_max',\n",
    "            'asset_run_time_hours', 'churn_per_hr_person', 'change_in_churn_prediction']]"
   ]
  },
  {
   "cell_type": "code",
   "execution_count": 45,
   "id": "460f47bb",
   "metadata": {},
   "outputs": [
    {
     "name": "stderr",
     "output_type": "stream",
     "text": [
      "/home/ec2-user/anaconda3/envs/python3/lib/python3.6/site-packages/boto3/compat.py:88: PythonDeprecationWarning:\n",
      "\n",
      "Boto3 will no longer support Python 3.6 starting May 30, 2022. To continue receiving service updates, bug fixes, and security updates please upgrade to Python 3.7 or later. More information can be found here: https://aws.amazon.com/blogs/developer/python-support-policy-updates-for-aws-sdks-and-tools/\n",
      "\n"
     ]
    }
   ],
   "source": [
    "write_to_sf(data,  filename)"
   ]
  },
  {
   "cell_type": "code",
   "execution_count": 46,
   "id": "e347b0dd",
   "metadata": {},
   "outputs": [
    {
     "data": {
      "text/plain": [
       "8850"
      ]
     },
     "execution_count": 46,
     "metadata": {},
     "output_type": "execute_result"
    }
   ],
   "source": [
    "len(data)"
   ]
  },
  {
   "cell_type": "code",
   "execution_count": 47,
   "id": "40dd0311",
   "metadata": {},
   "outputs": [
    {
     "data": {
      "text/plain": [
       "'hbo-outbound-datascience-content-dev/title_hours_viewed_retention/content_slate_metadata_level_2023-11-10.csv'"
      ]
     },
     "execution_count": 47,
     "metadata": {},
     "output_type": "execute_result"
    }
   ],
   "source": [
    "output_bucket+'/title_hours_viewed_retention/{}.csv'.format(filename)"
   ]
  },
  {
   "cell_type": "code",
   "execution_count": 48,
   "id": "b77cecf1",
   "metadata": {},
   "outputs": [],
   "source": [
    "data.to_csv('content_slate_metadata_level.csv')"
   ]
  },
  {
   "cell_type": "code",
   "execution_count": 88,
   "id": "8e02fd47",
   "metadata": {},
   "outputs": [],
   "source": [
    "# pivot_table = pd.pivot_table(data, values='change_in_churn_prediction', \n",
    "#                              index=['title_name', 'name_number', 'offering_start_date'],\n",
    "#                            columns=['date_month'], aggfunc=\"sum\", fill_value=np.NaN)"
   ]
  },
  {
   "cell_type": "code",
   "execution_count": 89,
   "id": "3f8bcc24",
   "metadata": {},
   "outputs": [
    {
     "data": {
      "text/plain": [
       "726"
      ]
     },
     "execution_count": 89,
     "metadata": {},
     "output_type": "execute_result"
    }
   ],
   "source": [
    "len(pivot_table)"
   ]
  },
  {
   "cell_type": "code",
   "execution_count": 90,
   "id": "26eedc0e",
   "metadata": {},
   "outputs": [],
   "source": [
    "pivot_table.to_csv('MoM Content Slate Retention Value.csv')"
   ]
  },
  {
   "cell_type": "code",
   "execution_count": null,
   "id": "028abaa0",
   "metadata": {},
   "outputs": [],
   "source": []
  }
 ],
 "metadata": {
  "kernelspec": {
   "display_name": "conda_python3",
   "language": "python",
   "name": "conda_python3"
  },
  "language_info": {
   "codemirror_mode": {
    "name": "ipython",
    "version": 3
   },
   "file_extension": ".py",
   "mimetype": "text/x-python",
   "name": "python",
   "nbconvert_exporter": "python",
   "pygments_lexer": "ipython3",
   "version": "3.6.13"
  }
 },
 "nbformat": 4,
 "nbformat_minor": 5
}
