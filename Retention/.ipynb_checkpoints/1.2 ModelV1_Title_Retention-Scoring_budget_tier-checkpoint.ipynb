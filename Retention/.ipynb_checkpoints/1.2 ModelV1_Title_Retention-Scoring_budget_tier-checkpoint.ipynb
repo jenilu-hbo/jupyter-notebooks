{
 "cells": [
  {
   "cell_type": "code",
   "execution_count": 1,
   "id": "e91a5fcb",
   "metadata": {},
   "outputs": [],
   "source": [
    "# general\n",
    "import boto3\n",
    "import datetime as dt\n",
    "import json\n",
    "import numpy as np\n",
    "import pandas as pd\n",
    "import snowflake.connector"
   ]
  },
  {
   "cell_type": "code",
   "execution_count": 2,
   "id": "c3812f22",
   "metadata": {},
   "outputs": [],
   "source": [
    "pd.set_option('display.max_rows', 1000)\n",
    "pd.set_option('display.max_columns', 1000)"
   ]
  },
  {
   "cell_type": "code",
   "execution_count": 3,
   "id": "7188a1fe",
   "metadata": {},
   "outputs": [],
   "source": [
    "pd.options.display.float_format = '{:,.4f}'.format"
   ]
  },
  {
   "cell_type": "code",
   "execution_count": 4,
   "id": "8f25a029",
   "metadata": {},
   "outputs": [],
   "source": [
    "# !pip install pygam"
   ]
  },
  {
   "cell_type": "markdown",
   "id": "9e372bf9",
   "metadata": {},
   "source": [
    "# 0. Read Data"
   ]
  },
  {
   "cell_type": "code",
   "execution_count": 5,
   "id": "1241403d",
   "metadata": {},
   "outputs": [],
   "source": [
    "import xgboost  \n",
    "from xgboost import XGBRegressor\n",
    "from sklearn.model_selection import GroupKFold"
   ]
  },
  {
   "cell_type": "code",
   "execution_count": 69,
   "id": "066f2dd0",
   "metadata": {},
   "outputs": [],
   "source": [
    "## WRITE OR READ FROM S3 ####\n",
    "import boto3\n",
    "import io\n",
    "\n",
    "s3 = boto3.resource('s3')\n",
    "output_bucket = \"hbo-outbound-datascience-content-dev\"\n",
    "input_bucket = \"hbo-ingest-datascience-content-dev\"\n",
    "bucket = s3.Bucket(input_bucket)\n",
    "\n",
    "def write_to_sf(df, file_name):\n",
    "    csv_buffer = io.StringIO()\n",
    "    df.to_csv(csv_buffer, index = False)\n",
    "    content = csv_buffer.getvalue()\n",
    "    filename = 'title_hours_viewed_retention/{}.csv'.format(file_name)\n",
    "    client = boto3.client('s3')\n",
    "    client.put_object(Bucket=output_bucket, Key=filename, Body=content)\n",
    "    \n",
    "def write_to_input(df, file_name):\n",
    "    csv_buffer = io.StringIO()\n",
    "    df.to_csv(csv_buffer, index = False)\n",
    "    content = csv_buffer.getvalue()\n",
    "    filename = 'title_hours_viewed_retention/{}.csv'.format(file_name)\n",
    "    client = boto3.client('s3')\n",
    "    client.put_object(Bucket=input_bucket, Key=filename, Body=content)\n",
    "    \n",
    "def read_from_s3(filename, input_bucket = input_bucket):\n",
    "    for obj in bucket.objects.filter(Prefix='title_hours_viewed_retention/'+filename): #churn_metric_0811\n",
    "            key = obj.key \n",
    "            body = obj.get()['Body']\n",
    "            print('Reading {0} features'.format(key))\n",
    "            df = pd.read_csv(body, na_values = [r'\\\\\\\\N'])\n",
    "    return df"
   ]
  },
  {
   "cell_type": "markdown",
   "id": "cda23e5c",
   "metadata": {},
   "source": [
    "## 0.1 Training Data"
   ]
  },
  {
   "cell_type": "code",
   "execution_count": 8,
   "id": "c4e3617c",
   "metadata": {},
   "outputs": [
    {
     "name": "stdout",
     "output_type": "stream",
     "text": [
      "Reading title_hours_viewed_retention/validation_data.csv features\n"
     ]
    }
   ],
   "source": [
    "validation_data = read_from_s3('validation_data.csv')"
   ]
  },
  {
   "cell_type": "code",
   "execution_count": 9,
   "id": "dffbdee1",
   "metadata": {},
   "outputs": [],
   "source": [
    "manual_pop_title = ['Euphoria', 'House of the Dragon', 'Peacemaker', 'The Last of Us']"
   ]
  },
  {
   "cell_type": "code",
   "execution_count": 10,
   "id": "8157c553",
   "metadata": {},
   "outputs": [],
   "source": [
    "validation_data.loc[validation_data['title_name'].isin(manual_pop_title), 'medal_number'] = 0\n",
    "validation_data['hit_series'] = 0\n",
    "validation_data.loc[validation_data['title_name'].isin(manual_pop_title), 'hit_series'] = 1"
   ]
  },
  {
   "cell_type": "code",
   "execution_count": 11,
   "id": "f876001e",
   "metadata": {},
   "outputs": [],
   "source": [
    "validation_data.rename(columns = {'genre_Action/Adventure ':'genre_action', 'genre_Drama':'genre_drama',\n",
    "                               'genre_Comedy':'genre_comedy'}, inplace = True)"
   ]
  },
  {
   "cell_type": "markdown",
   "id": "6fc63b1d",
   "metadata": {},
   "source": [
    "## 0.1 Testing Data"
   ]
  },
  {
   "cell_type": "code",
   "execution_count": 16,
   "id": "cbb2f8a5",
   "metadata": {},
   "outputs": [
    {
     "name": "stdout",
     "output_type": "stream",
     "text": [
      "Reading title_hours_viewed_retention/2023.09 - Content Slate Titles vSend.csv features\n"
     ]
    }
   ],
   "source": [
    "test_data = read_from_s3('2023.09 - Content Slate Titles vSend.csv')\n",
    "test_data = test_data[test_data['Market'] == 'US']"
   ]
  },
  {
   "cell_type": "code",
   "execution_count": 17,
   "id": "cf02f033",
   "metadata": {},
   "outputs": [
    {
     "data": {
      "text/plain": [
       "746"
      ]
     },
     "execution_count": 17,
     "metadata": {},
     "output_type": "execute_result"
    }
   ],
   "source": [
    "len(test_data)"
   ]
  },
  {
   "cell_type": "code",
   "execution_count": 18,
   "id": "8d278747",
   "metadata": {},
   "outputs": [],
   "source": [
    "test_data.rename(columns = {'Title (if known)':'title_name', \n",
    "                            'Volume (hours)':'asset_run_time_hours',\n",
    "                            'Source':'program_type',\n",
    "                            'Season':'season_number',\n",
    "                            'Genre':'genre'\n",
    "                           }, inplace=True)"
   ]
  },
  {
   "cell_type": "code",
   "execution_count": 19,
   "id": "aa468bd7",
   "metadata": {},
   "outputs": [],
   "source": [
    "test_data['is_pay_1'] = 0\n",
    "test_data.loc[test_data['PSI Content genre'].str.contains('Pay 1'), 'is_pay_1'] = 1"
   ]
  },
  {
   "cell_type": "code",
   "execution_count": 20,
   "id": "ed5f2942",
   "metadata": {},
   "outputs": [],
   "source": [
    "test_data['hit_series'] = 0\n",
    "test_data['title_name_upper'] = test_data['title_name'].str.upper()\n",
    "test_data.loc[test_data['title_name_upper'].str.contains('|'.join([i.upper() for i in manual_pop_title])), \n",
    "              'hit_series'] = 1"
   ]
  },
  {
   "cell_type": "code",
   "execution_count": 21,
   "id": "37285dfd",
   "metadata": {},
   "outputs": [],
   "source": [
    "test_data['medal'] = test_data['Budget Tier'].combine_first(test_data['Performance Tier'])\n",
    "# test_data.loc[test_data['medal'] == 'ACQ', 'medal'] = 'Bronze'\n",
    "medal_dict = {'Silver':2, 'Bronze':3, 'Gold':1 , 'Platinum':0, 'ACQ':np.NaN}\n",
    "#### What is ACQ??\n",
    "test_data['medal_number'] = test_data['medal'].replace(medal_dict)\n",
    "test_data['medal_number'] = test_data['medal_number'].fillna(3)"
   ]
  },
  {
   "cell_type": "code",
   "execution_count": 22,
   "id": "940b22f7",
   "metadata": {},
   "outputs": [],
   "source": [
    "test_data.loc[test_data['genre'] == 'Comedy', 'genre'] = 'comedy'\n",
    "test_data.loc[test_data['genre'] == 'Drama', 'genre'] = 'drama'\n",
    "test_data.loc[(test_data['Content type'].str.contains('Action')) &(test_data['genre']!='drama'), \n",
    "                 'genre'] = 'action'\n",
    "test_data.loc[~test_data['genre'].isin(['action', 'comedy', 'drama']), 'genre'] = 'other'\n",
    "\n",
    "genre_onehot = pd.get_dummies(test_data['genre'], prefix='genre')\n",
    "test_data=pd.concat([test_data, genre_onehot], axis = 1)"
   ]
  },
  {
   "cell_type": "code",
   "execution_count": 23,
   "id": "f7cfb64b",
   "metadata": {},
   "outputs": [],
   "source": [
    "test_data.loc[test_data['PSI Content format'].str.contains('Series'), 'content_category'] = 'series'\n",
    "test_data.loc[test_data['PSI Content format'].str.contains('series'), 'content_category'] = 'series'\n",
    "test_data.loc[test_data['content_category']!='series', 'content_category'] = 'movies'\n",
    "\n",
    "content_category_onehot = pd.get_dummies(test_data['content_category'], prefix='content_category')\n",
    "test_data=pd.concat([test_data, content_category_onehot], axis = 1)"
   ]
  },
  {
   "cell_type": "code",
   "execution_count": 24,
   "id": "8a8ac316",
   "metadata": {},
   "outputs": [],
   "source": [
    "test_data.loc[test_data['program_type'].str.contains('OP', na=False), 'program_type'] = 'original'\n",
    "test_data.loc[test_data['program_type']!='original', 'program_type'] = 'acquired'\n",
    "\n",
    "program_type_onehot = pd.get_dummies(test_data['program_type'], prefix='program_type')\n",
    "test_data=pd.concat([test_data, program_type_onehot], axis = 1)"
   ]
  },
  {
   "cell_type": "code",
   "execution_count": 25,
   "id": "9a9a35d6",
   "metadata": {},
   "outputs": [
    {
     "data": {
      "text/plain": [
       "746"
      ]
     },
     "execution_count": 25,
     "metadata": {},
     "output_type": "execute_result"
    }
   ],
   "source": [
    "len(test_data)"
   ]
  },
  {
   "cell_type": "code",
   "execution_count": 26,
   "id": "0f9cdce4",
   "metadata": {},
   "outputs": [],
   "source": [
    "#### FILL IN asset_run_time_hours\n",
    "avg_run_time = test_data.groupby(['genre','medal','content_category'])['asset_run_time_hours'].mean().reset_index()\n",
    "avg_run_time['asset_run_time_hours'] = avg_run_time['asset_run_time_hours'].fillna(2)\n",
    "test_data = test_data.merge(avg_run_time.rename(columns ={'asset_run_time_hours':'category_run_time_hours'}),\n",
    "                                 on = ['genre','medal','content_category'])"
   ]
  },
  {
   "cell_type": "code",
   "execution_count": 28,
   "id": "af365c09",
   "metadata": {},
   "outputs": [],
   "source": [
    "test_data['asset_run_time_hours'] = test_data['asset_run_time_hours'].combine_first(test_data['category_run_time_hours'])\n",
    "test_data['offering_start_date'] = pd.to_datetime(test_data['Month Year'],format= '%m/%d/%y')"
   ]
  },
  {
   "cell_type": "code",
   "execution_count": 30,
   "id": "77ccf545",
   "metadata": {},
   "outputs": [
    {
     "data": {
      "text/plain": [
       "726"
      ]
     },
     "execution_count": 30,
     "metadata": {},
     "output_type": "execute_result"
    }
   ],
   "source": [
    "len(test_data)"
   ]
  },
  {
   "cell_type": "markdown",
   "id": "f2f185f6",
   "metadata": {},
   "source": [
    "# 1. Modeling - Scoring"
   ]
  },
  {
   "cell_type": "code",
   "execution_count": 31,
   "id": "e20dda99",
   "metadata": {},
   "outputs": [],
   "source": [
    "META_COLS = ['title_name','season_number', 'offering_start_date', 'asset_run_time_hours','content_category', 'program_type', 'medal', 'genre']"
   ]
  },
  {
   "cell_type": "code",
   "execution_count": 32,
   "id": "d1625442",
   "metadata": {},
   "outputs": [],
   "source": [
    "FEATURE_COLS = ['is_pay_1', \n",
    "                'hit_series',\n",
    "                'medal_number', \n",
    "                'content_category_movies', \n",
    "                'content_category_series', \n",
    "                'program_type_acquired', \n",
    "                'program_type_original', \n",
    "                'genre_action', \n",
    "                'genre_comedy',\n",
    "                'genre_drama'\n",
    "#                 'age_of_content', \n",
    "#                 'budget', \n",
    "               ]\n",
    "### New/Library content not able to be identified\n",
    "### Budget data not able to be identified"
   ]
  },
  {
   "cell_type": "code",
   "execution_count": 33,
   "id": "da185161",
   "metadata": {},
   "outputs": [],
   "source": [
    "def cal_error(validation_set):\n",
    "    error_col = ((validation_set['pred']-validation_set[TARGET_COL[0]]).abs()/validation_set[TARGET_COL[0]]).abs()\n",
    "    return error_col.mean()"
   ]
  },
  {
   "cell_type": "markdown",
   "id": "cf242366",
   "metadata": {},
   "source": [
    "## 1.3 Log AVHR"
   ]
  },
  {
   "cell_type": "code",
   "execution_count": 37,
   "id": "1977cfe8",
   "metadata": {},
   "outputs": [],
   "source": [
    "# !pip install pygam"
   ]
  },
  {
   "cell_type": "markdown",
   "id": "d6bab59f",
   "metadata": {},
   "source": [
    "#### 1.3.1 Significant title classifier"
   ]
  },
  {
   "cell_type": "code",
   "execution_count": 38,
   "id": "a46c81c4",
   "metadata": {},
   "outputs": [],
   "source": [
    "training_data = validation_data.copy()"
   ]
  },
  {
   "cell_type": "code",
   "execution_count": 39,
   "id": "d92129f5",
   "metadata": {},
   "outputs": [],
   "source": [
    "training_data['is_significant_title'] = 1\n",
    "training_data.loc[training_data['ahvr'] < 0.01, 'is_significant_title'] = 0"
   ]
  },
  {
   "cell_type": "code",
   "execution_count": 40,
   "id": "75d01e5a",
   "metadata": {},
   "outputs": [
    {
     "data": {
      "text/plain": [
       "is_pay_1                  0.0000\n",
       "hit_series                0.0000\n",
       "medal_number              0.9225\n",
       "content_category_movies   0.0000\n",
       "content_category_series   0.0000\n",
       "program_type_acquired     0.0000\n",
       "program_type_original     0.0000\n",
       "genre_action              0.0000\n",
       "genre_comedy              0.0000\n",
       "genre_drama               0.0000\n",
       "dtype: float64"
      ]
     },
     "execution_count": 40,
     "metadata": {},
     "output_type": "execute_result"
    }
   ],
   "source": [
    "training_data[FEATURE_COLS].isnull().sum()/len(training_data)\n",
    "## Checking if there are any nulls in the feature columns"
   ]
  },
  {
   "cell_type": "code",
   "execution_count": 41,
   "id": "88d74503",
   "metadata": {},
   "outputs": [],
   "source": [
    "training_data['medal_number'] = training_data['medal_number'].fillna(3)"
   ]
  },
  {
   "cell_type": "code",
   "execution_count": 42,
   "id": "ee90d215",
   "metadata": {},
   "outputs": [],
   "source": [
    "TARGET_COL = ['is_significant_title']"
   ]
  },
  {
   "cell_type": "code",
   "execution_count": 44,
   "id": "5b1e691c",
   "metadata": {},
   "outputs": [],
   "source": [
    "from sklearn.linear_model import LogisticRegression"
   ]
  },
  {
   "cell_type": "code",
   "execution_count": 45,
   "id": "3d29b949",
   "metadata": {},
   "outputs": [
    {
     "name": "stdout",
     "output_type": "stream",
     "text": [
      "0.9085883780504247\n"
     ]
    },
    {
     "name": "stderr",
     "output_type": "stream",
     "text": [
      "/home/ec2-user/anaconda3/envs/python3/lib/python3.6/site-packages/sklearn/utils/validation.py:63: DataConversionWarning: A column-vector y was passed when a 1d array was expected. Please change the shape of y to (n_samples, ), for example using ravel().\n",
      "  return f(*args, **kwargs)\n"
     ]
    }
   ],
   "source": [
    "## fit_predict prelaunch model|\n",
    "X_train, X_test, y_train = training_data[FEATURE_COLS], test_data[FEATURE_COLS], training_data[TARGET_COL]\n",
    "\n",
    "clf = LogisticRegression(random_state=0).fit(X_train, y_train)\n",
    "print (clf.score(X_train, y_train))\n",
    "\n",
    "pred = clf.predict(X_test)\n",
    "pred = pd.DataFrame(pred)\n",
    "pred.columns = ['sig_pred']\n",
    "test_data.reset_index(inplace = True, drop = True)\n",
    "test_data = pd.concat([test_data, pred], axis = 1)"
   ]
  },
  {
   "cell_type": "markdown",
   "id": "ed642e92",
   "metadata": {},
   "source": [
    "#### 1.3.2 Modeling"
   ]
  },
  {
   "cell_type": "code",
   "execution_count": 46,
   "id": "0b1d7761",
   "metadata": {},
   "outputs": [],
   "source": [
    "insig_title = test_data[test_data['sig_pred'] == 0]"
   ]
  },
  {
   "cell_type": "code",
   "execution_count": 47,
   "id": "a253f479",
   "metadata": {},
   "outputs": [
    {
     "data": {
      "text/plain": [
       "117"
      ]
     },
     "execution_count": 47,
     "metadata": {},
     "output_type": "execute_result"
    }
   ],
   "source": [
    "len(insig_title)"
   ]
  },
  {
   "cell_type": "code",
   "execution_count": 48,
   "id": "71e230f3",
   "metadata": {},
   "outputs": [],
   "source": [
    "training_data = validation_data[(validation_data['ahvr']>0.01)]\n",
    "test_data = test_data[test_data['sig_pred'] == 1]"
   ]
  },
  {
   "cell_type": "code",
   "execution_count": 49,
   "id": "9afb334b",
   "metadata": {},
   "outputs": [
    {
     "data": {
      "text/plain": [
       "855"
      ]
     },
     "execution_count": 49,
     "metadata": {},
     "output_type": "execute_result"
    }
   ],
   "source": [
    "len(training_data)"
   ]
  },
  {
   "cell_type": "code",
   "execution_count": 50,
   "id": "e016df9d",
   "metadata": {},
   "outputs": [
    {
     "data": {
      "text/plain": [
       "609"
      ]
     },
     "execution_count": 50,
     "metadata": {},
     "output_type": "execute_result"
    }
   ],
   "source": [
    "len(test_data)"
   ]
  },
  {
   "cell_type": "code",
   "execution_count": 51,
   "id": "7ab8b336",
   "metadata": {},
   "outputs": [],
   "source": [
    "from pygam import LinearGAM, s, PoissonGAM"
   ]
  },
  {
   "cell_type": "code",
   "execution_count": 52,
   "id": "570e626b",
   "metadata": {},
   "outputs": [
    {
     "name": "stderr",
     "output_type": "stream",
     "text": [
      "/home/ec2-user/anaconda3/envs/python3/lib/python3.6/site-packages/ipykernel/__main__.py:1: SettingWithCopyWarning: \n",
      "A value is trying to be set on a copy of a slice from a DataFrame.\n",
      "Try using .loc[row_indexer,col_indexer] = value instead\n",
      "\n",
      "See the caveats in the documentation: https://pandas.pydata.org/pandas-docs/stable/user_guide/indexing.html#returning-a-view-versus-a-copy\n",
      "  if __name__ == '__main__':\n"
     ]
    }
   ],
   "source": [
    "training_data['log_ahvr'] = np.log2(training_data['ahvr'])"
   ]
  },
  {
   "cell_type": "code",
   "execution_count": 53,
   "id": "6abf0071",
   "metadata": {},
   "outputs": [],
   "source": [
    "TARGET_COL = ['log_ahvr']"
   ]
  },
  {
   "cell_type": "code",
   "execution_count": 54,
   "id": "9b9d52a7",
   "metadata": {},
   "outputs": [
    {
     "data": {
      "text/plain": [
       "is_pay_1                  0.0000\n",
       "hit_series                0.0000\n",
       "medal_number              0.6772\n",
       "content_category_movies   0.0000\n",
       "content_category_series   0.0000\n",
       "program_type_acquired     0.0000\n",
       "program_type_original     0.0000\n",
       "genre_action              0.0000\n",
       "genre_comedy              0.0000\n",
       "genre_drama               0.0000\n",
       "dtype: float64"
      ]
     },
     "execution_count": 54,
     "metadata": {},
     "output_type": "execute_result"
    }
   ],
   "source": [
    "training_data[FEATURE_COLS].isnull().sum()/len(training_data)"
   ]
  },
  {
   "cell_type": "code",
   "execution_count": 55,
   "id": "2143bc41",
   "metadata": {},
   "outputs": [
    {
     "name": "stderr",
     "output_type": "stream",
     "text": [
      "/home/ec2-user/anaconda3/envs/python3/lib/python3.6/site-packages/ipykernel/__main__.py:1: SettingWithCopyWarning: \n",
      "A value is trying to be set on a copy of a slice from a DataFrame.\n",
      "Try using .loc[row_indexer,col_indexer] = value instead\n",
      "\n",
      "See the caveats in the documentation: https://pandas.pydata.org/pandas-docs/stable/user_guide/indexing.html#returning-a-view-versus-a-copy\n",
      "  if __name__ == '__main__':\n"
     ]
    }
   ],
   "source": [
    "training_data['medal_number'] = training_data['medal_number'].fillna(3)"
   ]
  },
  {
   "cell_type": "code",
   "execution_count": 56,
   "id": "085676d9",
   "metadata": {},
   "outputs": [
    {
     "data": {
      "text/plain": [
       "is_pay_1                  0.0000\n",
       "hit_series                0.0000\n",
       "medal_number              0.0000\n",
       "content_category_movies   0.0000\n",
       "content_category_series   0.0000\n",
       "program_type_acquired     0.0000\n",
       "program_type_original     0.0000\n",
       "genre_action              0.0000\n",
       "genre_comedy              0.0000\n",
       "genre_drama               0.0000\n",
       "dtype: float64"
      ]
     },
     "execution_count": 56,
     "metadata": {},
     "output_type": "execute_result"
    }
   ],
   "source": [
    "test_data[FEATURE_COLS].isnull().sum()/len(test_data)"
   ]
  },
  {
   "cell_type": "code",
   "execution_count": 57,
   "id": "970506ad",
   "metadata": {},
   "outputs": [],
   "source": [
    "X_train, X_test, y_train = training_data[FEATURE_COLS], test_data[FEATURE_COLS], training_data[TARGET_COL]\n",
    "gam = LinearGAM(n_splines=20).fit(X_train, y_train)\n",
    "pred = gam.predict(X_test)\n",
    "pred = pd.DataFrame(pred)\n",
    "pred.columns = ['logged_pred']\n",
    "test_data.reset_index(inplace = True, drop = True)\n",
    "test_data = pd.concat([test_data, pred], axis = 1)"
   ]
  },
  {
   "cell_type": "code",
   "execution_count": 58,
   "id": "f10d6538",
   "metadata": {},
   "outputs": [],
   "source": [
    "test_data = test_data[META_COLS+FEATURE_COLS+['sig_pred']+['logged_pred']]"
   ]
  },
  {
   "cell_type": "code",
   "execution_count": 59,
   "id": "3510ce11",
   "metadata": {},
   "outputs": [],
   "source": [
    "test_data['prediction'] = (2**(test_data['logged_pred']))"
   ]
  },
  {
   "cell_type": "code",
   "execution_count": 60,
   "id": "3fa0e34e",
   "metadata": {},
   "outputs": [
    {
     "data": {
      "text/html": [
       "<div>\n",
       "<style scoped>\n",
       "    .dataframe tbody tr th:only-of-type {\n",
       "        vertical-align: middle;\n",
       "    }\n",
       "\n",
       "    .dataframe tbody tr th {\n",
       "        vertical-align: top;\n",
       "    }\n",
       "\n",
       "    .dataframe thead th {\n",
       "        text-align: right;\n",
       "    }\n",
       "</style>\n",
       "<table border=\"1\" class=\"dataframe\">\n",
       "  <thead>\n",
       "    <tr style=\"text-align: right;\">\n",
       "      <th></th>\n",
       "      <th>title_name</th>\n",
       "      <th>season_number</th>\n",
       "      <th>offering_start_date</th>\n",
       "      <th>asset_run_time_hours</th>\n",
       "      <th>content_category</th>\n",
       "      <th>program_type</th>\n",
       "      <th>medal</th>\n",
       "      <th>genre</th>\n",
       "      <th>is_pay_1</th>\n",
       "      <th>hit_series</th>\n",
       "      <th>medal_number</th>\n",
       "      <th>content_category_movies</th>\n",
       "      <th>content_category_series</th>\n",
       "      <th>program_type_acquired</th>\n",
       "      <th>program_type_original</th>\n",
       "      <th>genre_action</th>\n",
       "      <th>genre_comedy</th>\n",
       "      <th>genre_drama</th>\n",
       "      <th>sig_pred</th>\n",
       "      <th>logged_pred</th>\n",
       "      <th>prediction</th>\n",
       "    </tr>\n",
       "  </thead>\n",
       "  <tbody>\n",
       "    <tr>\n",
       "      <th>447</th>\n",
       "      <td>EUPHORIA S3</td>\n",
       "      <td>3.0000</td>\n",
       "      <td>2025-01-01</td>\n",
       "      <td>8.0000</td>\n",
       "      <td>series</td>\n",
       "      <td>original</td>\n",
       "      <td>Platinum</td>\n",
       "      <td>drama</td>\n",
       "      <td>0</td>\n",
       "      <td>1</td>\n",
       "      <td>0.0000</td>\n",
       "      <td>0</td>\n",
       "      <td>1</td>\n",
       "      <td>0</td>\n",
       "      <td>1</td>\n",
       "      <td>0</td>\n",
       "      <td>0</td>\n",
       "      <td>1</td>\n",
       "      <td>1</td>\n",
       "      <td>-2.5303</td>\n",
       "      <td>0.1731</td>\n",
       "    </tr>\n",
       "    <tr>\n",
       "      <th>452</th>\n",
       "      <td>EUPHORIA S4 / TBD</td>\n",
       "      <td>4.0000</td>\n",
       "      <td>2026-10-01</td>\n",
       "      <td>8.0000</td>\n",
       "      <td>series</td>\n",
       "      <td>original</td>\n",
       "      <td>Platinum</td>\n",
       "      <td>drama</td>\n",
       "      <td>0</td>\n",
       "      <td>1</td>\n",
       "      <td>0.0000</td>\n",
       "      <td>0</td>\n",
       "      <td>1</td>\n",
       "      <td>0</td>\n",
       "      <td>1</td>\n",
       "      <td>0</td>\n",
       "      <td>0</td>\n",
       "      <td>1</td>\n",
       "      <td>1</td>\n",
       "      <td>-2.5303</td>\n",
       "      <td>0.1731</td>\n",
       "    </tr>\n",
       "  </tbody>\n",
       "</table>\n",
       "</div>"
      ],
      "text/plain": [
       "            title_name  season_number offering_start_date  \\\n",
       "447        EUPHORIA S3         3.0000          2025-01-01   \n",
       "452  EUPHORIA S4 / TBD         4.0000          2026-10-01   \n",
       "\n",
       "     asset_run_time_hours content_category program_type     medal  genre  \\\n",
       "447                8.0000           series     original  Platinum  drama   \n",
       "452                8.0000           series     original  Platinum  drama   \n",
       "\n",
       "     is_pay_1  hit_series  medal_number  content_category_movies  \\\n",
       "447         0           1        0.0000                        0   \n",
       "452         0           1        0.0000                        0   \n",
       "\n",
       "     content_category_series  program_type_acquired  program_type_original  \\\n",
       "447                        1                      0                      1   \n",
       "452                        1                      0                      1   \n",
       "\n",
       "     genre_action  genre_comedy  genre_drama  sig_pred  logged_pred  \\\n",
       "447             0             0            1         1      -2.5303   \n",
       "452             0             0            1         1      -2.5303   \n",
       "\n",
       "     prediction  \n",
       "447      0.1731  \n",
       "452      0.1731  "
      ]
     },
     "execution_count": 60,
     "metadata": {},
     "output_type": "execute_result"
    }
   ],
   "source": [
    "test_data[test_data['title_name'].str.contains('EUPHORIA')]"
   ]
  },
  {
   "cell_type": "code",
   "execution_count": 61,
   "id": "349f5922",
   "metadata": {},
   "outputs": [],
   "source": [
    "insig_title = insig_title[META_COLS+FEATURE_COLS+['sig_pred']]"
   ]
  },
  {
   "cell_type": "code",
   "execution_count": 62,
   "id": "55be9168",
   "metadata": {},
   "outputs": [],
   "source": [
    "insig_title['logged_pred']=0\n",
    "insig_title['prediction'] = np.NaN"
   ]
  },
  {
   "cell_type": "code",
   "execution_count": 63,
   "id": "5c1602a4",
   "metadata": {},
   "outputs": [],
   "source": [
    "final_output =pd.concat([test_data, insig_title], axis = 0)"
   ]
  },
  {
   "cell_type": "code",
   "execution_count": 64,
   "id": "fc2a8a98",
   "metadata": {},
   "outputs": [
    {
     "data": {
      "text/html": [
       "<div>\n",
       "<style scoped>\n",
       "    .dataframe tbody tr th:only-of-type {\n",
       "        vertical-align: middle;\n",
       "    }\n",
       "\n",
       "    .dataframe tbody tr th {\n",
       "        vertical-align: top;\n",
       "    }\n",
       "\n",
       "    .dataframe thead th {\n",
       "        text-align: right;\n",
       "    }\n",
       "</style>\n",
       "<table border=\"1\" class=\"dataframe\">\n",
       "  <thead>\n",
       "    <tr style=\"text-align: right;\">\n",
       "      <th></th>\n",
       "      <th>title_name</th>\n",
       "      <th>season_number</th>\n",
       "      <th>offering_start_date</th>\n",
       "      <th>asset_run_time_hours</th>\n",
       "      <th>content_category</th>\n",
       "      <th>program_type</th>\n",
       "      <th>medal</th>\n",
       "      <th>genre</th>\n",
       "      <th>is_pay_1</th>\n",
       "      <th>hit_series</th>\n",
       "      <th>medal_number</th>\n",
       "      <th>content_category_movies</th>\n",
       "      <th>content_category_series</th>\n",
       "      <th>program_type_acquired</th>\n",
       "      <th>program_type_original</th>\n",
       "      <th>genre_action</th>\n",
       "      <th>genre_comedy</th>\n",
       "      <th>genre_drama</th>\n",
       "      <th>sig_pred</th>\n",
       "      <th>logged_pred</th>\n",
       "      <th>prediction</th>\n",
       "    </tr>\n",
       "  </thead>\n",
       "  <tbody>\n",
       "    <tr>\n",
       "      <th>716</th>\n",
       "      <td>How To Create A Sex Scandal (wt)</td>\n",
       "      <td>1.0000</td>\n",
       "      <td>2024-01-01</td>\n",
       "      <td>5.6000</td>\n",
       "      <td>series</td>\n",
       "      <td>acquired</td>\n",
       "      <td>Bronze</td>\n",
       "      <td>other</td>\n",
       "      <td>0</td>\n",
       "      <td>0</td>\n",
       "      <td>3.0000</td>\n",
       "      <td>0</td>\n",
       "      <td>1</td>\n",
       "      <td>1</td>\n",
       "      <td>0</td>\n",
       "      <td>0</td>\n",
       "      <td>0</td>\n",
       "      <td>0</td>\n",
       "      <td>0</td>\n",
       "      <td>0.0000</td>\n",
       "      <td>nan</td>\n",
       "    </tr>\n",
       "    <tr>\n",
       "      <th>717</th>\n",
       "      <td>Mostly Harmless (wt)</td>\n",
       "      <td>1.0000</td>\n",
       "      <td>2024-01-01</td>\n",
       "      <td>5.6000</td>\n",
       "      <td>series</td>\n",
       "      <td>acquired</td>\n",
       "      <td>Bronze</td>\n",
       "      <td>other</td>\n",
       "      <td>0</td>\n",
       "      <td>0</td>\n",
       "      <td>3.0000</td>\n",
       "      <td>0</td>\n",
       "      <td>1</td>\n",
       "      <td>1</td>\n",
       "      <td>0</td>\n",
       "      <td>0</td>\n",
       "      <td>0</td>\n",
       "      <td>0</td>\n",
       "      <td>0</td>\n",
       "      <td>0.0000</td>\n",
       "      <td>nan</td>\n",
       "    </tr>\n",
       "    <tr>\n",
       "      <th>718</th>\n",
       "      <td>Turn Yourself In</td>\n",
       "      <td>1.0000</td>\n",
       "      <td>2024-01-01</td>\n",
       "      <td>5.6000</td>\n",
       "      <td>series</td>\n",
       "      <td>acquired</td>\n",
       "      <td>Bronze</td>\n",
       "      <td>other</td>\n",
       "      <td>0</td>\n",
       "      <td>0</td>\n",
       "      <td>3.0000</td>\n",
       "      <td>0</td>\n",
       "      <td>1</td>\n",
       "      <td>1</td>\n",
       "      <td>0</td>\n",
       "      <td>0</td>\n",
       "      <td>0</td>\n",
       "      <td>0</td>\n",
       "      <td>0</td>\n",
       "      <td>0.0000</td>\n",
       "      <td>nan</td>\n",
       "    </tr>\n",
       "    <tr>\n",
       "      <th>719</th>\n",
       "      <td>Man Who Played with Fire</td>\n",
       "      <td>1.0000</td>\n",
       "      <td>2024-01-01</td>\n",
       "      <td>5.6000</td>\n",
       "      <td>series</td>\n",
       "      <td>acquired</td>\n",
       "      <td>Bronze</td>\n",
       "      <td>other</td>\n",
       "      <td>0</td>\n",
       "      <td>0</td>\n",
       "      <td>3.0000</td>\n",
       "      <td>0</td>\n",
       "      <td>1</td>\n",
       "      <td>1</td>\n",
       "      <td>0</td>\n",
       "      <td>0</td>\n",
       "      <td>0</td>\n",
       "      <td>0</td>\n",
       "      <td>0</td>\n",
       "      <td>0.0000</td>\n",
       "      <td>nan</td>\n",
       "    </tr>\n",
       "    <tr>\n",
       "      <th>720</th>\n",
       "      <td>Kings of XTC</td>\n",
       "      <td>1.0000</td>\n",
       "      <td>2024-01-01</td>\n",
       "      <td>5.6000</td>\n",
       "      <td>series</td>\n",
       "      <td>acquired</td>\n",
       "      <td>Bronze</td>\n",
       "      <td>other</td>\n",
       "      <td>0</td>\n",
       "      <td>0</td>\n",
       "      <td>3.0000</td>\n",
       "      <td>0</td>\n",
       "      <td>1</td>\n",
       "      <td>1</td>\n",
       "      <td>0</td>\n",
       "      <td>0</td>\n",
       "      <td>0</td>\n",
       "      <td>0</td>\n",
       "      <td>0</td>\n",
       "      <td>0.0000</td>\n",
       "      <td>nan</td>\n",
       "    </tr>\n",
       "  </tbody>\n",
       "</table>\n",
       "</div>"
      ],
      "text/plain": [
       "                           title_name  season_number offering_start_date  \\\n",
       "716  How To Create A Sex Scandal (wt)         1.0000          2024-01-01   \n",
       "717              Mostly Harmless (wt)         1.0000          2024-01-01   \n",
       "718                  Turn Yourself In         1.0000          2024-01-01   \n",
       "719          Man Who Played with Fire         1.0000          2024-01-01   \n",
       "720                      Kings of XTC         1.0000          2024-01-01   \n",
       "\n",
       "     asset_run_time_hours content_category program_type   medal  genre  \\\n",
       "716                5.6000           series     acquired  Bronze  other   \n",
       "717                5.6000           series     acquired  Bronze  other   \n",
       "718                5.6000           series     acquired  Bronze  other   \n",
       "719                5.6000           series     acquired  Bronze  other   \n",
       "720                5.6000           series     acquired  Bronze  other   \n",
       "\n",
       "     is_pay_1  hit_series  medal_number  content_category_movies  \\\n",
       "716         0           0        3.0000                        0   \n",
       "717         0           0        3.0000                        0   \n",
       "718         0           0        3.0000                        0   \n",
       "719         0           0        3.0000                        0   \n",
       "720         0           0        3.0000                        0   \n",
       "\n",
       "     content_category_series  program_type_acquired  program_type_original  \\\n",
       "716                        1                      1                      0   \n",
       "717                        1                      1                      0   \n",
       "718                        1                      1                      0   \n",
       "719                        1                      1                      0   \n",
       "720                        1                      1                      0   \n",
       "\n",
       "     genre_action  genre_comedy  genre_drama  sig_pred  logged_pred  \\\n",
       "716             0             0            0         0       0.0000   \n",
       "717             0             0            0         0       0.0000   \n",
       "718             0             0            0         0       0.0000   \n",
       "719             0             0            0         0       0.0000   \n",
       "720             0             0            0         0       0.0000   \n",
       "\n",
       "     prediction  \n",
       "716         nan  \n",
       "717         nan  \n",
       "718         nan  \n",
       "719         nan  \n",
       "720         nan  "
      ]
     },
     "execution_count": 64,
     "metadata": {},
     "output_type": "execute_result"
    }
   ],
   "source": [
    "final_output.tail()"
   ]
  },
  {
   "cell_type": "code",
   "execution_count": 65,
   "id": "f7a3490e",
   "metadata": {},
   "outputs": [
    {
     "data": {
      "text/plain": [
       "117"
      ]
     },
     "execution_count": 65,
     "metadata": {},
     "output_type": "execute_result"
    }
   ],
   "source": [
    "len(insig_title)"
   ]
  },
  {
   "cell_type": "code",
   "execution_count": 66,
   "id": "3c7898a6",
   "metadata": {},
   "outputs": [
    {
     "data": {
      "text/plain": [
       "726"
      ]
     },
     "execution_count": 66,
     "metadata": {},
     "output_type": "execute_result"
    }
   ],
   "source": [
    "len(final_output)"
   ]
  },
  {
   "cell_type": "markdown",
   "id": "6b70b1f9",
   "metadata": {},
   "source": [
    "# Write to S3/SF"
   ]
  },
  {
   "cell_type": "code",
   "execution_count": 70,
   "id": "effa068e",
   "metadata": {},
   "outputs": [],
   "source": [
    "write_to_input(final_output,'content_slate_prediction')"
   ]
  },
  {
   "cell_type": "markdown",
   "id": "0829537e",
   "metadata": {},
   "source": [
    "# "
   ]
  }
 ],
 "metadata": {
  "kernelspec": {
   "display_name": "conda_python3",
   "language": "python",
   "name": "conda_python3"
  },
  "language_info": {
   "codemirror_mode": {
    "name": "ipython",
    "version": 3
   },
   "file_extension": ".py",
   "mimetype": "text/x-python",
   "name": "python",
   "nbconvert_exporter": "python",
   "pygments_lexer": "ipython3",
   "version": "3.6.13"
  }
 },
 "nbformat": 4,
 "nbformat_minor": 5
}
