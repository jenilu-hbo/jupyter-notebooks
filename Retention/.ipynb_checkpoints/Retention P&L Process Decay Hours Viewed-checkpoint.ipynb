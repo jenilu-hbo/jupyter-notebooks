{
 "cells": [
  {
   "cell_type": "code",
   "execution_count": 1,
   "id": "1fbed606",
   "metadata": {},
   "outputs": [],
   "source": [
    "import pandas as pd\n",
    "import numpy as np\n",
    "import itertools as it\n",
    "import os\n",
    "import io\n",
    "import logging\n",
    "\n",
    "import boto3\n",
    "import sys\n",
    "import json\n",
    "import snowflake.connector"
   ]
  },
  {
   "cell_type": "markdown",
   "id": "bcdfe9a4",
   "metadata": {},
   "source": [
    "# Reading Data "
   ]
  },
  {
   "cell_type": "code",
   "execution_count": 2,
   "id": "3f462775",
   "metadata": {},
   "outputs": [],
   "source": [
    "input_bucket = \"hbo-ingest-datascience-content-dev\""
   ]
  },
  {
   "cell_type": "code",
   "execution_count": 3,
   "id": "3bf7d86d",
   "metadata": {},
   "outputs": [
    {
     "name": "stderr",
     "output_type": "stream",
     "text": [
      "/home/ec2-user/anaconda3/envs/python3/lib/python3.6/site-packages/boto3/compat.py:88: PythonDeprecationWarning: Boto3 will no longer support Python 3.6 starting May 30, 2022. To continue receiving service updates, bug fixes, and security updates please upgrade to Python 3.7 or later. More information can be found here: https://aws.amazon.com/blogs/developer/python-support-policy-updates-for-aws-sdks-and-tools/\n",
      "  warnings.warn(warning, PythonDeprecationWarning)\n"
     ]
    },
    {
     "name": "stdout",
     "output_type": "stream",
     "text": [
      "Reading cost_allocation/dev/churn_metric_0906.csv features\n"
     ]
    }
   ],
   "source": [
    "logger = logging.getLogger()\n",
    "logger.info(f'Loading inputs')\n",
    "data_list =[]\n",
    "\n",
    "s3 = boto3.resource('s3')\n",
    "bucket = s3.Bucket(input_bucket)\n",
    "\n",
    "for obj in bucket.objects.filter(Prefix='cost_allocation/dev/churn_metric_0906'): #churn_metric_0811\n",
    "            key = obj.key\n",
    "            logger.info('Loading csv file {}'.format(key))\n",
    "            body = obj.get()['Body']\n",
    "            print('Reading {0} features'.format(key))\n",
    "            churn_metric = pd.read_csv(body, na_values = [r'\\\\\\\\N'])"
   ]
  },
  {
   "cell_type": "code",
   "execution_count": 4,
   "id": "cc156c5f",
   "metadata": {},
   "outputs": [
    {
     "data": {
      "text/html": [
       "<div>\n",
       "<style scoped>\n",
       "    .dataframe tbody tr th:only-of-type {\n",
       "        vertical-align: middle;\n",
       "    }\n",
       "\n",
       "    .dataframe tbody tr th {\n",
       "        vertical-align: top;\n",
       "    }\n",
       "\n",
       "    .dataframe thead th {\n",
       "        text-align: right;\n",
       "    }\n",
       "</style>\n",
       "<table border=\"1\" class=\"dataframe\">\n",
       "  <thead>\n",
       "    <tr style=\"text-align: right;\">\n",
       "      <th></th>\n",
       "      <th>Unnamed: 0</th>\n",
       "      <th>genre</th>\n",
       "      <th>medal</th>\n",
       "      <th>category</th>\n",
       "      <th>churn_per_hr_person</th>\n",
       "    </tr>\n",
       "  </thead>\n",
       "  <tbody>\n",
       "    <tr>\n",
       "      <th>0</th>\n",
       "      <td>0</td>\n",
       "      <td>action</td>\n",
       "      <td>Platinum</td>\n",
       "      <td>movies</td>\n",
       "      <td>-0.028358</td>\n",
       "    </tr>\n",
       "    <tr>\n",
       "      <th>1</th>\n",
       "      <td>1</td>\n",
       "      <td>action</td>\n",
       "      <td>Gold</td>\n",
       "      <td>series</td>\n",
       "      <td>-0.020530</td>\n",
       "    </tr>\n",
       "    <tr>\n",
       "      <th>2</th>\n",
       "      <td>2</td>\n",
       "      <td>action</td>\n",
       "      <td>Gold</td>\n",
       "      <td>movies</td>\n",
       "      <td>-0.027117</td>\n",
       "    </tr>\n",
       "    <tr>\n",
       "      <th>3</th>\n",
       "      <td>3</td>\n",
       "      <td>action</td>\n",
       "      <td>Silver</td>\n",
       "      <td>series</td>\n",
       "      <td>-0.005406</td>\n",
       "    </tr>\n",
       "    <tr>\n",
       "      <th>4</th>\n",
       "      <td>4</td>\n",
       "      <td>action</td>\n",
       "      <td>Silver</td>\n",
       "      <td>movies</td>\n",
       "      <td>-0.019190</td>\n",
       "    </tr>\n",
       "  </tbody>\n",
       "</table>\n",
       "</div>"
      ],
      "text/plain": [
       "   Unnamed: 0   genre     medal category  churn_per_hr_person\n",
       "0           0  action  Platinum   movies            -0.028358\n",
       "1           1  action      Gold   series            -0.020530\n",
       "2           2  action      Gold   movies            -0.027117\n",
       "3           3  action    Silver   series            -0.005406\n",
       "4           4  action    Silver   movies            -0.019190"
      ]
     },
     "execution_count": 4,
     "metadata": {},
     "output_type": "execute_result"
    }
   ],
   "source": [
    "churn_metric.head()"
   ]
  },
  {
   "cell_type": "code",
   "execution_count": 5,
   "id": "3d67953e",
   "metadata": {},
   "outputs": [
    {
     "name": "stderr",
     "output_type": "stream",
     "text": [
      "/home/ec2-user/anaconda3/envs/python3/lib/python3.6/site-packages/boto3/compat.py:88: PythonDeprecationWarning: Boto3 will no longer support Python 3.6 starting May 30, 2022. To continue receiving service updates, bug fixes, and security updates please upgrade to Python 3.7 or later. More information can be found here: https://aws.amazon.com/blogs/developer/python-support-policy-updates-for-aws-sdks-and-tools/\n",
      "  warnings.warn(warning, PythonDeprecationWarning)\n"
     ]
    }
   ],
   "source": [
    "from abc import ABCMeta, abstractmethod\n",
    "\n",
    "class Credentials(metaclass=ABCMeta):\n",
    "    pass\n",
    "    \n",
    "    \n",
    "class SSMPSCredentials(Credentials):\n",
    "    def __init__(self, secretid: str):\n",
    "        self._secretid = secretid\n",
    "        self._secrets = {}\n",
    "        \n",
    "    def get_keys(self):\n",
    "        \"\"\"\n",
    "        credential fetching \n",
    "        \"\"\"\n",
    "        _aws_sm_args = {'service_name': 'secretsmanager', 'region_name': 'us-east-1'}\n",
    "        secrets_client = boto3.client(**_aws_sm_args)\n",
    "        get_secret_value_response = secrets_client.get_secret_value(SecretId=self._secretid)\n",
    "        return get_secret_value_response\n",
    "    \n",
    "    \n",
    "class BaseConnector(metaclass=ABCMeta):\n",
    "    @abstractmethod\n",
    "    def connect(self):\n",
    "        raise NotImplementedError\n",
    "    \n",
    "\n",
    "class SnowflakeConnector(BaseConnector):\n",
    "    def __init__(self, credentials: Credentials):\n",
    "        keys = credentials.get_keys()\n",
    "        self._secrets = json.loads(keys.get('SecretString', \"{}\"))\n",
    "\n",
    "    def connect(self, dbname: str, schema: str = 'DEFAULT'):\n",
    "        ctx = snowflake.connector.connect(\n",
    "            user=self._secrets['login_name'],\n",
    "            password=self._secrets['login_password'],\n",
    "            account=self._secrets['account'],\n",
    "            warehouse=self._secrets['warehouse'],\n",
    "            database=dbname,\n",
    "            schema=schema\n",
    "        )\n",
    "\n",
    "        return ctx\n",
    "    \n",
    "## Credentials\n",
    "SF_CREDS = 'datascience-max-dev-sagemaker-notebooks'\n",
    "\n",
    "## Snowflake connection \n",
    "conn=SnowflakeConnector(SSMPSCredentials(SF_CREDS))\n",
    "ctx=conn.connect(\"MAX_DEV\",\"WORKSPACE\")\n",
    "\n",
    "def run_query(query):\n",
    "    cursor = ctx.cursor()\n",
    "    cursor.execute(query)\n",
    "    df = pd.DataFrame(cursor.fetchall(), columns = [desc[0] for desc in cursor.description])\n",
    "    df.columns= df.columns.str.lower()\n",
    "    return df"
   ]
  },
  {
   "cell_type": "code",
   "execution_count": 6,
   "id": "e75ff921",
   "metadata": {},
   "outputs": [],
   "source": [
    "# hours_viewed = run_query('''SELECT * FROM max_dev.workspace.user_title_hours_watched_crossvalidation''')"
   ]
  },
  {
   "cell_type": "code",
   "execution_count": 7,
   "id": "75101403",
   "metadata": {},
   "outputs": [],
   "source": [
    "hours_viewed = pd.read_csv('validation_data.csv')"
   ]
  },
  {
   "cell_type": "code",
   "execution_count": 8,
   "id": "4acf668c",
   "metadata": {},
   "outputs": [],
   "source": [
    "hours_viewed = hours_viewed[['title_name', 'title_id', 'season_number', 'offering_start_date' , 'ahvr', 'pillar_genre', 'medal', 'content_category', 'asset_run_time_hours']]"
   ]
  },
  {
   "cell_type": "code",
   "execution_count": 9,
   "id": "6b0d16c6",
   "metadata": {},
   "outputs": [],
   "source": [
    "hours_viewed.rename(columns = {'ahvr':'average_hours_viewed_60d', 'pillar_genre': 'genre', 'content_category':'category'}, inplace = True)"
   ]
  },
  {
   "cell_type": "code",
   "execution_count": 10,
   "id": "8a6f92fd",
   "metadata": {},
   "outputs": [
    {
     "data": {
      "text/plain": [
       "array(['movies', 'series', 'special', nan, 'livesports'], dtype=object)"
      ]
     },
     "execution_count": 10,
     "metadata": {},
     "output_type": "execute_result"
    }
   ],
   "source": [
    "hours_viewed.category.unique()"
   ]
  },
  {
   "cell_type": "code",
   "execution_count": 11,
   "id": "8bb78ddc",
   "metadata": {},
   "outputs": [
    {
     "data": {
      "text/plain": [
       "array(['movies', 'series'], dtype=object)"
      ]
     },
     "execution_count": 11,
     "metadata": {},
     "output_type": "execute_result"
    }
   ],
   "source": [
    "churn_metric.category.unique()"
   ]
  },
  {
   "cell_type": "code",
   "execution_count": 12,
   "id": "9183b503",
   "metadata": {},
   "outputs": [],
   "source": [
    "hours_viewed.loc[hours_viewed['genre'] == 'Action/Adventure ', 'genre'] = 'action'\n",
    "hours_viewed.loc[hours_viewed['genre'] == 'Comedy', 'genre'] = 'comedy'\n",
    "hours_viewed.loc[hours_viewed['genre'] == 'Drama', 'genre'] = 'drama'\n",
    "hours_viewed.loc[~hours_viewed['genre'].isin(['action', 'comedy', 'drama']), 'genre'] = 'other'\n",
    "\n",
    "hours_viewed.loc[hours_viewed['medal'] == 'None', 'medal'] = 'Bronze'\n",
    "\n",
    "hours_viewed.loc[hours_viewed['category'] == 'special', 'category'] = 'movies'"
   ]
  },
  {
   "cell_type": "code",
   "execution_count": 13,
   "id": "18fcad5b",
   "metadata": {},
   "outputs": [],
   "source": [
    "hours_viewed = hours_viewed.merge(churn_metric[['genre','medal','category', 'churn_per_hr_person']], on = ['genre','medal','category'])"
   ]
  },
  {
   "cell_type": "code",
   "execution_count": 14,
   "id": "e898f0f5",
   "metadata": {},
   "outputs": [],
   "source": [
    "hours_viewed['change_in_churn_60d'] = hours_viewed['average_hours_viewed_60d'] * hours_viewed['churn_per_hr_person']"
   ]
  },
  {
   "cell_type": "code",
   "execution_count": 15,
   "id": "3b46979a",
   "metadata": {},
   "outputs": [],
   "source": [
    "hours_viewed_thresh = hours_viewed[hours_viewed['average_hours_viewed_60d'] >= 0.005]"
   ]
  },
  {
   "cell_type": "code",
   "execution_count": 16,
   "id": "acfe2236",
   "metadata": {},
   "outputs": [
    {
     "data": {
      "text/html": [
       "<div>\n",
       "<style scoped>\n",
       "    .dataframe tbody tr th:only-of-type {\n",
       "        vertical-align: middle;\n",
       "    }\n",
       "\n",
       "    .dataframe tbody tr th {\n",
       "        vertical-align: top;\n",
       "    }\n",
       "\n",
       "    .dataframe thead th {\n",
       "        text-align: right;\n",
       "    }\n",
       "</style>\n",
       "<table border=\"1\" class=\"dataframe\">\n",
       "  <thead>\n",
       "    <tr style=\"text-align: right;\">\n",
       "      <th></th>\n",
       "      <th>Unnamed: 0</th>\n",
       "      <th>genre</th>\n",
       "      <th>medal</th>\n",
       "      <th>category</th>\n",
       "      <th>churn_per_hr_person</th>\n",
       "    </tr>\n",
       "  </thead>\n",
       "  <tbody>\n",
       "    <tr>\n",
       "      <th>0</th>\n",
       "      <td>0</td>\n",
       "      <td>action</td>\n",
       "      <td>Platinum</td>\n",
       "      <td>movies</td>\n",
       "      <td>-0.028358</td>\n",
       "    </tr>\n",
       "    <tr>\n",
       "      <th>1</th>\n",
       "      <td>1</td>\n",
       "      <td>action</td>\n",
       "      <td>Gold</td>\n",
       "      <td>series</td>\n",
       "      <td>-0.020530</td>\n",
       "    </tr>\n",
       "    <tr>\n",
       "      <th>2</th>\n",
       "      <td>2</td>\n",
       "      <td>action</td>\n",
       "      <td>Gold</td>\n",
       "      <td>movies</td>\n",
       "      <td>-0.027117</td>\n",
       "    </tr>\n",
       "    <tr>\n",
       "      <th>3</th>\n",
       "      <td>3</td>\n",
       "      <td>action</td>\n",
       "      <td>Silver</td>\n",
       "      <td>series</td>\n",
       "      <td>-0.005406</td>\n",
       "    </tr>\n",
       "    <tr>\n",
       "      <th>4</th>\n",
       "      <td>4</td>\n",
       "      <td>action</td>\n",
       "      <td>Silver</td>\n",
       "      <td>movies</td>\n",
       "      <td>-0.019190</td>\n",
       "    </tr>\n",
       "  </tbody>\n",
       "</table>\n",
       "</div>"
      ],
      "text/plain": [
       "   Unnamed: 0   genre     medal category  churn_per_hr_person\n",
       "0           0  action  Platinum   movies            -0.028358\n",
       "1           1  action      Gold   series            -0.020530\n",
       "2           2  action      Gold   movies            -0.027117\n",
       "3           3  action    Silver   series            -0.005406\n",
       "4           4  action    Silver   movies            -0.019190"
      ]
     },
     "execution_count": 16,
     "metadata": {},
     "output_type": "execute_result"
    }
   ],
   "source": [
    "churn_metric.head()"
   ]
  },
  {
   "cell_type": "markdown",
   "id": "d045bb96",
   "metadata": {},
   "source": [
    "# Allocate the 60-Day Churn to monthly"
   ]
  },
  {
   "cell_type": "code",
   "execution_count": 17,
   "id": "4d70370f",
   "metadata": {},
   "outputs": [],
   "source": [
    "ever_green_titles = pd.read_csv('final_evergreen_title_list.csv') #final_evergreen_title_list.csv # ever_green_titles.csv"
   ]
  },
  {
   "cell_type": "code",
   "execution_count": 18,
   "id": "f0cb24aa",
   "metadata": {},
   "outputs": [
    {
     "data": {
      "text/plain": [
       "11"
      ]
     },
     "execution_count": 18,
     "metadata": {},
     "output_type": "execute_result"
    }
   ],
   "source": [
    "len(ever_green_titles.title_id.unique())"
   ]
  },
  {
   "cell_type": "code",
   "execution_count": 19,
   "id": "f2664c1a",
   "metadata": {},
   "outputs": [
    {
     "data": {
      "text/plain": [
       "704"
      ]
     },
     "execution_count": 19,
     "metadata": {},
     "output_type": "execute_result"
    }
   ],
   "source": [
    "len(hours_viewed_thresh.title_id.unique())"
   ]
  },
  {
   "cell_type": "code",
   "execution_count": 20,
   "id": "757204fe",
   "metadata": {},
   "outputs": [
    {
     "data": {
      "text/plain": [
       "array(['American Pie', 'Annabelle Comes Home', 'Curb Your Enthusiasm',\n",
       "       'Friends', 'Game of Thrones', 'Pretty Little Liars',\n",
       "       'Sex and the City', 'The Big Bang Theory', 'The Sopranos',\n",
       "       'War Dogs', 'X-Men: Dark Phoenix'], dtype=object)"
      ]
     },
     "execution_count": 20,
     "metadata": {},
     "output_type": "execute_result"
    }
   ],
   "source": [
    "ever_green_titles.sort_values(by = ['title_name']).title_name.unique()"
   ]
  },
  {
   "cell_type": "code",
   "execution_count": 21,
   "id": "bce28732",
   "metadata": {},
   "outputs": [],
   "source": [
    "ever_green_title_id = ever_green_titles.title_id.unique()\n",
    "norm_title_id = hours_viewed_thresh[~hours_viewed_thresh['title_id'].isin(ever_green_title_id)].title_id.unique()"
   ]
  },
  {
   "cell_type": "markdown",
   "id": "123b863b",
   "metadata": {},
   "source": [
    "### 1. Normal Titles"
   ]
  },
  {
   "cell_type": "code",
   "execution_count": 22,
   "id": "7761ead7",
   "metadata": {},
   "outputs": [],
   "source": [
    "import matplotlib.pyplot as plt\n",
    "from matplotlib.pyplot import figure"
   ]
  },
  {
   "cell_type": "code",
   "execution_count": 23,
   "id": "921ba05a",
   "metadata": {},
   "outputs": [],
   "source": [
    "from scipy.optimize import curve_fit"
   ]
  },
  {
   "cell_type": "code",
   "execution_count": 24,
   "id": "cb3b55ee",
   "metadata": {},
   "outputs": [],
   "source": [
    "historical_weekly_hours_viewed = pd.read_csv('historical_weekly_hours_viewed.csv')"
   ]
  },
  {
   "cell_type": "code",
   "execution_count": 25,
   "id": "9fb96b8f",
   "metadata": {},
   "outputs": [
    {
     "name": "stderr",
     "output_type": "stream",
     "text": [
      "/home/ec2-user/anaconda3/envs/python3/lib/python3.6/site-packages/pandas/core/series.py:726: RuntimeWarning: overflow encountered in exp\n",
      "  result = getattr(ufunc, method)(*inputs, **kwargs)\n"
     ]
    }
   ],
   "source": [
    "def func(x, a, b, c):\n",
    "    return a * np.exp(-b * x) + c\n",
    "\n",
    "## 90% of the retention value deteriorates in the first year\n",
    "x = historical_weekly_hours_viewed['days_on_hbo_max']\n",
    "y = historical_weekly_hours_viewed['target']\n",
    "\n",
    "popt, pcov = curve_fit(func, x, y)"
   ]
  },
  {
   "cell_type": "code",
   "execution_count": 26,
   "id": "5999106a",
   "metadata": {},
   "outputs": [
    {
     "data": {
      "text/plain": [
       "9.668299515987423"
      ]
     },
     "execution_count": 26,
     "metadata": {},
     "output_type": "execute_result"
    }
   ],
   "source": [
    "func(0, *popt)"
   ]
  },
  {
   "cell_type": "code",
   "execution_count": 27,
   "id": "1a178577",
   "metadata": {},
   "outputs": [
    {
     "data": {
      "text/plain": [
       "array([9.10159297, 0.0671376 , 0.56670655])"
      ]
     },
     "execution_count": 27,
     "metadata": {},
     "output_type": "execute_result"
    }
   ],
   "source": [
    "popt #0.00059137, 0.03019112, 0.00055421"
   ]
  },
  {
   "cell_type": "code",
   "execution_count": 28,
   "id": "8f9f6513",
   "metadata": {},
   "outputs": [],
   "source": [
    "x1 = pd.Series(np.arange(0,365,1))\n",
    "y1 = func(x1, *popt)"
   ]
  },
  {
   "cell_type": "code",
   "execution_count": 29,
   "id": "ca9e73d9",
   "metadata": {},
   "outputs": [
    {
     "data": {
      "image/png": "[encoded data removed]",
      "text/plain": [
       "<Figure size 1296x432 with 1 Axes>"
      ]
     },
     "metadata": {
      "needs_background": "light"
     },
     "output_type": "display_data"
    }
   ],
   "source": [
    "fig, ax = plt.subplots(figsize=(18, 6))\n",
    "plt.plot(x, y)\n",
    "plt.plot(x1, y1)\n",
    "plt.show()"
   ]
  },
  {
   "cell_type": "code",
   "execution_count": 30,
   "id": "e06296b5",
   "metadata": {},
   "outputs": [],
   "source": [
    "dt_df = pd.DataFrame()\n",
    "dt_df['days_on_hbo_max'] = [i for i in range(0, 365*3, 1)]\n",
    "dt_df['factor'] = func(dt_df['days_on_hbo_max'], *popt)\n",
    "dt_df['key'] = 1"
   ]
  },
  {
   "cell_type": "code",
   "execution_count": 31,
   "id": "ea908066",
   "metadata": {},
   "outputs": [],
   "source": [
    "day_60_cum_sum = dt_df[dt_df['days_on_hbo_max']<60].factor.sum()"
   ]
  },
  {
   "cell_type": "code",
   "execution_count": 32,
   "id": "9aebdb50",
   "metadata": {},
   "outputs": [],
   "source": [
    "hours_viewed_decay_norm = hours_viewed_thresh[hours_viewed_thresh['title_id'].isin(norm_title_id)].copy()\n",
    "hours_viewed_decay_norm['key'] = 1\n",
    "\n",
    "hours_viewed_decay_norm = hours_viewed_decay_norm.merge(dt_df, on = ['key']).drop(['key'], axis = 1)\n",
    "\n",
    "hours_viewed_decay_norm['change_in_churn'] = hours_viewed_decay_norm['change_in_churn_60d']/day_60_cum_sum*hours_viewed_decay_norm['factor']*hours_viewed_decay_norm['asset_run_time_hours']\n",
    "\n",
    "hours_viewed_decay_norm['request_date'] = pd.to_datetime(hours_viewed_decay_norm['offering_start_date']) \\\n",
    "                                        + pd.to_timedelta(hours_viewed_decay_norm['days_on_hbo_max'], unit='D')\n",
    "\n",
    "hours_viewed_decay_norm = hours_viewed_decay_norm[hours_viewed_decay_norm['request_date'] <= '2023-03-01']"
   ]
  },
  {
   "cell_type": "code",
   "execution_count": 33,
   "id": "82a0fa9a",
   "metadata": {},
   "outputs": [
    {
     "data": {
      "image/png": "[encoded data removed]",
      "text/plain": [
       "<Figure size 576x288 with 1 Axes>"
      ]
     },
     "metadata": {
      "needs_background": "light"
     },
     "output_type": "display_data"
    }
   ],
   "source": [
    "fig, ax = plt.subplots(figsize=(8, 4))\n",
    "test = hours_viewed_decay_norm[['title_name', 'title_id', 'season_number', 'request_date', 'days_on_hbo_max','change_in_churn']]\n",
    "plot_df = test[test['title_name'] == 'And Just Like That...']\n",
    "plt.plot(plot_df['days_on_hbo_max'], plot_df['change_in_churn'], label='And Just Like That...')\n",
    "\n",
    "ax.set_xlabel('days_on_hbo_max')\n",
    "ax.set_ylabel('change_in_churn')\n",
    "ax.legend()\n",
    "\n",
    "plt.show()"
   ]
  },
  {
   "cell_type": "markdown",
   "id": "e68cd90c",
   "metadata": {},
   "source": [
    "### 2. Evergreen Titles"
   ]
  },
  {
   "cell_type": "markdown",
   "id": "6432c764",
   "metadata": {},
   "source": [
    "#### 2.1 Sogmoid Decay"
   ]
  },
  {
   "cell_type": "code",
   "execution_count": 34,
   "id": "3f204931",
   "metadata": {},
   "outputs": [],
   "source": [
    "# ## 90% of the retention value is deteriorated in the first year\n",
    "# x = [0, 0.25, 1.5, 3]\n",
    "# y = [1, 0.99, 0.5, 0.001]\n",
    "\n",
    "# def sigmoid(x, L ,x0, k, b):\n",
    "#     y = L / (1 + np.exp(-k*(x-x0))) + b\n",
    "#     return (y)\n",
    "\n",
    "# p0 = [max(y), np.median(x),1,min(y)] # this is an mandatory initial guess\n",
    "\n",
    "# popt, pcov = curve_fit(sigmoid, x, y ,p0, method='dogbox')\n",
    "\n",
    "# x1 = pd.Series(np.arange(0,5,0.1))\n",
    "# y1 = sigmoid(x1, *popt)\n",
    "\n",
    "# fig, ax = plt.subplots(figsize=(18, 6))\n",
    "# plt.plot(x1, y1)\n",
    "# plt.show()"
   ]
  },
  {
   "cell_type": "code",
   "execution_count": 35,
   "id": "561b25e5",
   "metadata": {},
   "outputs": [],
   "source": [
    "# dt_df = pd.DataFrame()\n",
    "# dt_df['days_on_hbo_max'] = [i for i in range(0, 365*3, 1)]\n",
    "# dt_df['factor'] = sigmoid(dt_df['days_on_hbo_max']/365, *popt)\n",
    "# dt_df['key'] = 1\n",
    "\n",
    "# hours_viewed_decay_evergreen = hours_viewed_thresh[hours_viewed_thresh['title_id'].isin(ever_green_title_id)]\n",
    "\n",
    "# hours_viewed_decay_evergreen = hours_viewed_decay_evergreen.merge(dt_df, on = ['key']).drop(['key'], axis = 1)\n",
    "\n",
    "# hours_viewed_decay_evergreen['change_in_churn'] = hours_viewed_decay_evergreen['change_in_churn_60d']/60*hours_viewed_decay_evergreen['factor']\n",
    "\n",
    "# hours_viewed_decay_evergreen['days_on_hbo_max'] = hours_viewed_decay_evergreen['days_on_hbo_max']+60\n",
    "\n",
    "# hours_viewed_decay_evergreen['request_date'] = pd.to_datetime(hours_viewed_decay_evergreen['offering_start_date']) \\\n",
    "#                                         + pd.to_timedelta(hours_viewed_decay_evergreen['days_on_hbo_max'], unit='D')\n",
    "\n",
    "# hours_viewed_decay_evergreen = hours_viewed_decay_evergreen[hours_viewed_decay_evergreen['request_date'] <= '2023-03-01']\n"
   ]
  },
  {
   "cell_type": "code",
   "execution_count": 36,
   "id": "14413ed6",
   "metadata": {},
   "outputs": [],
   "source": [
    "# fig, ax = plt.subplots(figsize=(8, 4))\n",
    "# test = pd.concat([hours_viewed_60d[['title_name', 'title_id', 'season_number', 'request_date', 'days_on_hbo_max', 'change_in_churn']],\n",
    "#                 hours_viewed_decay_evergreen[['title_name', 'title_id', 'season_number', 'request_date', 'days_on_hbo_max', 'change_in_churn']]],\n",
    "#                 axis = 0)\n",
    "\n",
    "\n",
    "# for i in range(1, 11, 1):\n",
    "#     plot_df = test[(test['title_name'] == 'Friends') &(test['season_number'] == i)]\n",
    "#     plt.plot(plot_df['days_on_hbo_max'], plot_df['change_in_churn'], label= 'Friends S' + str(i))\n",
    "\n",
    "# ax.set_xlabel('days_on_hbo_max')\n",
    "# ax.set_ylabel('change_in_churn')\n",
    "# ax.legend()\n",
    "\n",
    "# plt.show()"
   ]
  },
  {
   "cell_type": "markdown",
   "id": "6de9d5c9",
   "metadata": {},
   "source": [
    "#### 2.2 Keep the retention value all the way along"
   ]
  },
  {
   "cell_type": "code",
   "execution_count": 37,
   "id": "b2362160",
   "metadata": {},
   "outputs": [
    {
     "name": "stderr",
     "output_type": "stream",
     "text": [
      "/home/ec2-user/anaconda3/envs/python3/lib/python3.6/site-packages/ipykernel/__main__.py:6: SettingWithCopyWarning: \n",
      "A value is trying to be set on a copy of a slice from a DataFrame.\n",
      "Try using .loc[row_indexer,col_indexer] = value instead\n",
      "\n",
      "See the caveats in the documentation: https://pandas.pydata.org/pandas-docs/stable/user_guide/indexing.html#returning-a-view-versus-a-copy\n"
     ]
    }
   ],
   "source": [
    "dt_df = pd.DataFrame()\n",
    "dt_df['days_on_hbo_max'] = [i for i in range(0, 365*3, 1)]\n",
    "dt_df['key'] = 1\n",
    "\n",
    "hours_viewed_decay_evergreen = hours_viewed_thresh[hours_viewed_thresh['title_id'].isin(ever_green_title_id)]\n",
    "hours_viewed_decay_evergreen['key'] = 1\n",
    "\n",
    "hours_viewed_decay_evergreen = hours_viewed_decay_evergreen.merge(dt_df, on = ['key']).drop(['key'], axis = 1)\n",
    "\n",
    "hours_viewed_decay_evergreen['change_in_churn'] = hours_viewed_decay_evergreen['change_in_churn_60d']/60*hours_viewed_decay_evergreen['asset_run_time_hours']\n",
    "\n",
    "hours_viewed_decay_evergreen['request_date'] = pd.to_datetime(hours_viewed_decay_evergreen['offering_start_date']) \\\n",
    "                                        + pd.to_timedelta(hours_viewed_decay_evergreen['days_on_hbo_max'], unit='D')\n",
    "\n",
    "hours_viewed_decay_evergreen = hours_viewed_decay_evergreen[hours_viewed_decay_evergreen['request_date'] <= '2023-03-01']\n"
   ]
  },
  {
   "cell_type": "code",
   "execution_count": 38,
   "id": "a31cd083",
   "metadata": {},
   "outputs": [
    {
     "data": {
      "image/png": "[encoded data removed]",
      "text/plain": [
       "<Figure size 576x288 with 1 Axes>"
      ]
     },
     "metadata": {
      "needs_background": "light"
     },
     "output_type": "display_data"
    }
   ],
   "source": [
    "fig, ax = plt.subplots(figsize=(8, 4))\n",
    "test = hours_viewed_decay_evergreen[['title_name', 'title_id', 'season_number', 'request_date', 'days_on_hbo_max', 'change_in_churn']]\n",
    "\n",
    "\n",
    "for i in range(1, 12, 1):\n",
    "    plot_df = test[(test['title_name'] == 'Friends') &(test['season_number'] == i)]\n",
    "    plt.plot(plot_df['days_on_hbo_max'], plot_df['change_in_churn'], label= 'Friends S' + str(i))\n",
    "\n",
    "ax.set_xlabel('days_on_hbo_max')\n",
    "ax.set_ylabel('change_in_churn')\n",
    "ax.legend()\n",
    "\n",
    "plt.show()"
   ]
  },
  {
   "cell_type": "markdown",
   "id": "a37f80cc",
   "metadata": {},
   "source": [
    "## UNION ALL THE DFs"
   ]
  },
  {
   "cell_type": "code",
   "execution_count": 39,
   "id": "f60886fb",
   "metadata": {},
   "outputs": [],
   "source": [
    "data = pd.concat([hours_viewed_decay_norm[['title_name', 'title_id', 'season_number', 'genre', 'medal', 'offering_start_date', 'request_date',  'days_on_hbo_max', 'change_in_churn']],\n",
    "                hours_viewed_decay_evergreen[['title_name', 'title_id', 'season_number', 'genre', 'medal', 'offering_start_date', 'request_date',  'days_on_hbo_max', 'change_in_churn']] ],\n",
    "                axis = 0)"
   ]
  },
  {
   "cell_type": "code",
   "execution_count": 40,
   "id": "1cc35f65",
   "metadata": {},
   "outputs": [],
   "source": [
    "data = data.merge(hours_viewed_thresh[['title_id', 'season_number', 'average_hours_viewed_60d', 'churn_per_hr_person', 'change_in_churn_60d', 'asset_run_time_hours']],\n",
    "                 on = ['title_id', 'season_number'])"
   ]
  },
  {
   "cell_type": "code",
   "execution_count": 41,
   "id": "048f016c",
   "metadata": {},
   "outputs": [],
   "source": [
    "data['date_month'] = data['request_date'].dt.to_period('M')"
   ]
  },
  {
   "cell_type": "code",
   "execution_count": 42,
   "id": "0fa3c207",
   "metadata": {},
   "outputs": [],
   "source": [
    "# data.groupby(['date_month']).change_in_churn.sum().reset_index().sort_values(by = ['date_month'])"
   ]
  },
  {
   "cell_type": "code",
   "execution_count": 43,
   "id": "6cecea07",
   "metadata": {},
   "outputs": [],
   "source": [
    "# data[data['title_name'] == 'And Just Like That...']"
   ]
  },
  {
   "cell_type": "code",
   "execution_count": 44,
   "id": "d4933c05",
   "metadata": {},
   "outputs": [],
   "source": [
    "# data[data['date_month'] == '2022-09'].groupby(['title_name', 'title_id', 'season_number']).sum().reset_index()\\\n",
    "# .sort_values(by = ['change_in_churn']).head(20)"
   ]
  },
  {
   "cell_type": "code",
   "execution_count": 45,
   "id": "c5a2211c",
   "metadata": {},
   "outputs": [],
   "source": [
    "# data[(data['request_date'] == '2023-03-01')\n",
    "#     &(data['title_name'] == 'Friends')].sort_values(by = ['change_in_churn']).head(20)"
   ]
  },
  {
   "cell_type": "markdown",
   "id": "21158475",
   "metadata": {},
   "source": [
    "# Correlation with Change in Churn"
   ]
  },
  {
   "cell_type": "markdown",
   "id": "ba368226",
   "metadata": {},
   "source": [
    "## 1. Correlation with Churn itself"
   ]
  },
  {
   "cell_type": "code",
   "execution_count": 77,
   "id": "e1bb75f0",
   "metadata": {},
   "outputs": [],
   "source": [
    "churn_genpop = run_query('''\n",
    "select\n",
    "     dt.start_date as date_month,\n",
    "    COUNT(DISTINCT CASE WHEN is_cancel = TRUE THEN hbo_uuid ELSE NULL END) as churns,\n",
    "    COUNT(DISTINCT hbo_uuid) as total_subs,\n",
    "    churns/total_subs as churn_rate\n",
    "from MAX_PROD.CONTENT_ANALYTICS.CALENDAR_DATE_TRACKER dt\n",
    "JOIN max_dev.workspace.user_retain_churn_list_test as c \n",
    "    on c.cycle_expire_date BETWEEN START_DATE and END_DATE\n",
    "WHERE 1=1\n",
    "AND dt.end_date = DATEADD('DAY', -1, (DATEADD('MONTH', 1, dt.start_date)))\n",
    "AND dt.start_date = DATE_TRUNC('MONTH', dt.start_date)\n",
    "and dt.start_date < '2023-03-01'\n",
    "and SUB_MONTH <=24\n",
    "and SUB_MONTH >1\n",
    "group by 1\n",
    "order by 1\n",
    "''')"
   ]
  },
  {
   "cell_type": "code",
   "execution_count": 78,
   "id": "1a923477",
   "metadata": {},
   "outputs": [],
   "source": [
    "churn_genpop_tenure = run_query('''\n",
    "select\n",
    "     dt.start_date as date_month, sub_month as tenure,\n",
    "    COUNT(DISTINCT CASE WHEN is_cancel = TRUE THEN hbo_uuid ELSE NULL END) as churns,\n",
    "    COUNT(DISTINCT hbo_uuid) as total_subs,\n",
    "    churns/total_subs as churn_rate\n",
    "from MAX_PROD.CONTENT_ANALYTICS.CALENDAR_DATE_TRACKER dt\n",
    "JOIN max_dev.workspace.user_retain_churn_list_test as c \n",
    "    on c.cycle_expire_date BETWEEN START_DATE and END_DATE\n",
    "WHERE 1=1\n",
    "AND dt.end_date = DATEADD('DAY', -1, (DATEADD('MONTH', 1, dt.start_date)))\n",
    "AND dt.start_date = DATE_TRUNC('MONTH', dt.start_date)\n",
    "and dt.start_date < '2023-03-01'\n",
    "and SUB_MONTH <=24\n",
    "group by 1, 2\n",
    "order by 1, 2\n",
    "''')"
   ]
  },
  {
   "cell_type": "code",
   "execution_count": 79,
   "id": "471e96f1",
   "metadata": {},
   "outputs": [],
   "source": [
    "churn_exclude_t1 = run_query('''\n",
    "select\n",
    "     dt.start_date as date_month,\n",
    "    COUNT(DISTINCT CASE WHEN is_cancel = TRUE THEN hbo_uuid ELSE NULL END) as churns,\n",
    "    COUNT(DISTINCT hbo_uuid) as total_subs,\n",
    "    churns/total_subs as churn_rate\n",
    "from MAX_PROD.CONTENT_ANALYTICS.CALENDAR_DATE_TRACKER dt\n",
    "JOIN max_dev.workspace.user_retain_churn_list_test as c \n",
    "    on c.cycle_expire_date BETWEEN START_DATE and END_DATE\n",
    "WHERE 1=1\n",
    "AND dt.end_date = DATEADD('DAY', -1, (DATEADD('MONTH', 1, dt.start_date)))\n",
    "AND dt.start_date = DATE_TRUNC('MONTH', dt.start_date)\n",
    "and dt.start_date < '2023-03-01'\n",
    "AND SUB_MONTH > 1\n",
    "group by 1\n",
    "order by 1\n",
    "''')"
   ]
  },
  {
   "cell_type": "code",
   "execution_count": 80,
   "id": "adbff913",
   "metadata": {},
   "outputs": [
    {
     "data": {
      "text/html": [
       "<div>\n",
       "<style scoped>\n",
       "    .dataframe tbody tr th:only-of-type {\n",
       "        vertical-align: middle;\n",
       "    }\n",
       "\n",
       "    .dataframe tbody tr th {\n",
       "        vertical-align: top;\n",
       "    }\n",
       "\n",
       "    .dataframe thead th {\n",
       "        text-align: right;\n",
       "    }\n",
       "</style>\n",
       "<table border=\"1\" class=\"dataframe\">\n",
       "  <thead>\n",
       "    <tr style=\"text-align: right;\">\n",
       "      <th></th>\n",
       "      <th>date_month</th>\n",
       "      <th>churns</th>\n",
       "      <th>total_subs</th>\n",
       "      <th>churn_rate</th>\n",
       "    </tr>\n",
       "  </thead>\n",
       "  <tbody>\n",
       "    <tr>\n",
       "      <th>0</th>\n",
       "      <td>2020-06-01</td>\n",
       "      <td>9</td>\n",
       "      <td>84</td>\n",
       "      <td>0.107143</td>\n",
       "    </tr>\n",
       "    <tr>\n",
       "      <th>1</th>\n",
       "      <td>2020-07-01</td>\n",
       "      <td>2522</td>\n",
       "      <td>33485</td>\n",
       "      <td>0.075317</td>\n",
       "    </tr>\n",
       "    <tr>\n",
       "      <th>2</th>\n",
       "      <td>2020-08-01</td>\n",
       "      <td>135673</td>\n",
       "      <td>1528467</td>\n",
       "      <td>0.088764</td>\n",
       "    </tr>\n",
       "    <tr>\n",
       "      <th>3</th>\n",
       "      <td>2020-09-01</td>\n",
       "      <td>163493</td>\n",
       "      <td>1889506</td>\n",
       "      <td>0.086527</td>\n",
       "    </tr>\n",
       "    <tr>\n",
       "      <th>4</th>\n",
       "      <td>2020-10-01</td>\n",
       "      <td>179529</td>\n",
       "      <td>2219546</td>\n",
       "      <td>0.080885</td>\n",
       "    </tr>\n",
       "  </tbody>\n",
       "</table>\n",
       "</div>"
      ],
      "text/plain": [
       "   date_month  churns  total_subs churn_rate\n",
       "0  2020-06-01       9          84   0.107143\n",
       "1  2020-07-01    2522       33485   0.075317\n",
       "2  2020-08-01  135673     1528467   0.088764\n",
       "3  2020-09-01  163493     1889506   0.086527\n",
       "4  2020-10-01  179529     2219546   0.080885"
      ]
     },
     "execution_count": 80,
     "metadata": {},
     "output_type": "execute_result"
    }
   ],
   "source": [
    "churn_genpop.head()"
   ]
  },
  {
   "cell_type": "code",
   "execution_count": 81,
   "id": "5c28aff2",
   "metadata": {},
   "outputs": [],
   "source": [
    "aggregated_churn = data.groupby(['date_month'])['change_in_churn'].sum().reset_index()\n",
    "aggregated_churn['date_month'] = aggregated_churn['date_month'].dt.to_timestamp().dt.strftime('%Y-%m-%d')\n",
    "\n",
    "#### GENPOP ONLY LOOKS AT 2022-01-01 ON-WARDS ###################################\n",
    "aggregated_churn = aggregated_churn[aggregated_churn['date_month']>='2022-01-01']\n",
    "\n",
    "#### Shift one month forward\n",
    "# aggregated_churn['date_month']  = (pd.to_datetime(aggregated_churn['date_month']) + pd.DateOffset(months=1)).dt.strftime('%Y-%m-%d')"
   ]
  },
  {
   "cell_type": "code",
   "execution_count": 82,
   "id": "6413b7fa",
   "metadata": {},
   "outputs": [],
   "source": [
    "churn_genpop_tenure_pivot = pd.pivot_table(churn_genpop_tenure, values='churn_rate', index=['date_month'],\n",
    "                       columns=['tenure'], fill_value=0, aggfunc='first').reset_index()"
   ]
  },
  {
   "cell_type": "code",
   "execution_count": 83,
   "id": "aef0d849",
   "metadata": {},
   "outputs": [],
   "source": [
    "churn_all = churn_genpop_tenure_pivot.merge(churn_genpop[['date_month', 'churn_rate']].rename(columns = {'churn_rate':'genpop_churn'}),\n",
    "                                           on = ['date_month'])\\\n",
    "                                    .merge(churn_exclude_t1[['date_month', 'churn_rate']].rename(columns = {'churn_rate':'churn_exclude_t1'}),\n",
    "                                          on = ['date_month'])"
   ]
  },
  {
   "cell_type": "code",
   "execution_count": 84,
   "id": "aa3f97c4",
   "metadata": {},
   "outputs": [],
   "source": [
    "churn_all['date_month'] = churn_all['date_month'].astype(str)"
   ]
  },
  {
   "cell_type": "code",
   "execution_count": 85,
   "id": "04b8899b",
   "metadata": {},
   "outputs": [
    {
     "data": {
      "text/html": [
       "<div>\n",
       "<style scoped>\n",
       "    .dataframe tbody tr th:only-of-type {\n",
       "        vertical-align: middle;\n",
       "    }\n",
       "\n",
       "    .dataframe tbody tr th {\n",
       "        vertical-align: top;\n",
       "    }\n",
       "\n",
       "    .dataframe thead th {\n",
       "        text-align: right;\n",
       "    }\n",
       "</style>\n",
       "<table border=\"1\" class=\"dataframe\">\n",
       "  <thead>\n",
       "    <tr style=\"text-align: right;\">\n",
       "      <th></th>\n",
       "      <th>date_month</th>\n",
       "      <th>1</th>\n",
       "      <th>2</th>\n",
       "      <th>3</th>\n",
       "      <th>4</th>\n",
       "      <th>5</th>\n",
       "      <th>6</th>\n",
       "      <th>7</th>\n",
       "      <th>8</th>\n",
       "      <th>9</th>\n",
       "      <th>...</th>\n",
       "      <th>17</th>\n",
       "      <th>18</th>\n",
       "      <th>19</th>\n",
       "      <th>20</th>\n",
       "      <th>21</th>\n",
       "      <th>22</th>\n",
       "      <th>23</th>\n",
       "      <th>24</th>\n",
       "      <th>genpop_churn</th>\n",
       "      <th>churn_exclude_t1</th>\n",
       "    </tr>\n",
       "  </thead>\n",
       "  <tbody>\n",
       "    <tr>\n",
       "      <th>0</th>\n",
       "      <td>2020-06-01</td>\n",
       "      <td>0.101410</td>\n",
       "      <td>0.416667</td>\n",
       "      <td>0.059701</td>\n",
       "      <td>0.000000</td>\n",
       "      <td>0</td>\n",
       "      <td>0</td>\n",
       "      <td>0</td>\n",
       "      <td>0</td>\n",
       "      <td>0</td>\n",
       "      <td>...</td>\n",
       "      <td>0</td>\n",
       "      <td>0</td>\n",
       "      <td>0</td>\n",
       "      <td>0</td>\n",
       "      <td>0</td>\n",
       "      <td>0</td>\n",
       "      <td>0</td>\n",
       "      <td>0</td>\n",
       "      <td>0.107143</td>\n",
       "      <td>0.107143</td>\n",
       "    </tr>\n",
       "    <tr>\n",
       "      <th>1</th>\n",
       "      <td>2020-07-01</td>\n",
       "      <td>0.133394</td>\n",
       "      <td>0.075321</td>\n",
       "      <td>0.121212</td>\n",
       "      <td>0.030769</td>\n",
       "      <td>0.000000</td>\n",
       "      <td>0.000000</td>\n",
       "      <td>0</td>\n",
       "      <td>0</td>\n",
       "      <td>0.500000</td>\n",
       "      <td>...</td>\n",
       "      <td>0</td>\n",
       "      <td>0</td>\n",
       "      <td>0</td>\n",
       "      <td>0</td>\n",
       "      <td>0.000000</td>\n",
       "      <td>0</td>\n",
       "      <td>0</td>\n",
       "      <td>0</td>\n",
       "      <td>0.075317</td>\n",
       "      <td>0.075313</td>\n",
       "    </tr>\n",
       "    <tr>\n",
       "      <th>2</th>\n",
       "      <td>2020-08-01</td>\n",
       "      <td>0.233966</td>\n",
       "      <td>0.089237</td>\n",
       "      <td>0.065590</td>\n",
       "      <td>0.066667</td>\n",
       "      <td>0.046875</td>\n",
       "      <td>0.000000</td>\n",
       "      <td>0.000000</td>\n",
       "      <td>0</td>\n",
       "      <td>0.000000</td>\n",
       "      <td>...</td>\n",
       "      <td>0.000000</td>\n",
       "      <td>0</td>\n",
       "      <td>0</td>\n",
       "      <td>0</td>\n",
       "      <td>0</td>\n",
       "      <td>0.000000</td>\n",
       "      <td>0</td>\n",
       "      <td>0</td>\n",
       "      <td>0.088764</td>\n",
       "      <td>0.088764</td>\n",
       "    </tr>\n",
       "    <tr>\n",
       "      <th>3</th>\n",
       "      <td>2020-09-01</td>\n",
       "      <td>0.277688</td>\n",
       "      <td>0.130094</td>\n",
       "      <td>0.069564</td>\n",
       "      <td>0.049821</td>\n",
       "      <td>0.640000</td>\n",
       "      <td>0.949153</td>\n",
       "      <td>0.000000</td>\n",
       "      <td>0.000000</td>\n",
       "      <td>0</td>\n",
       "      <td>...</td>\n",
       "      <td>0.000000</td>\n",
       "      <td>0.000000</td>\n",
       "      <td>0</td>\n",
       "      <td>0</td>\n",
       "      <td>0</td>\n",
       "      <td>0</td>\n",
       "      <td>0.000000</td>\n",
       "      <td>0</td>\n",
       "      <td>0.086527</td>\n",
       "      <td>0.086527</td>\n",
       "    </tr>\n",
       "    <tr>\n",
       "      <th>4</th>\n",
       "      <td>2020-10-01</td>\n",
       "      <td>0.240340</td>\n",
       "      <td>0.146824</td>\n",
       "      <td>0.096030</td>\n",
       "      <td>0.053071</td>\n",
       "      <td>0.043678</td>\n",
       "      <td>0.083333</td>\n",
       "      <td>0.000000</td>\n",
       "      <td>0.000000</td>\n",
       "      <td>0.000000</td>\n",
       "      <td>...</td>\n",
       "      <td>0.000000</td>\n",
       "      <td>0.500000</td>\n",
       "      <td>0.000000</td>\n",
       "      <td>0</td>\n",
       "      <td>0</td>\n",
       "      <td>0</td>\n",
       "      <td>0</td>\n",
       "      <td>0.000000</td>\n",
       "      <td>0.080885</td>\n",
       "      <td>0.080885</td>\n",
       "    </tr>\n",
       "  </tbody>\n",
       "</table>\n",
       "<p>5 rows × 27 columns</p>\n",
       "</div>"
      ],
      "text/plain": [
       "   date_month         1         2         3         4         5         6  \\\n",
       "0  2020-06-01  0.101410  0.416667  0.059701  0.000000         0         0   \n",
       "1  2020-07-01  0.133394  0.075321  0.121212  0.030769  0.000000  0.000000   \n",
       "2  2020-08-01  0.233966  0.089237  0.065590  0.066667  0.046875  0.000000   \n",
       "3  2020-09-01  0.277688  0.130094  0.069564  0.049821  0.640000  0.949153   \n",
       "4  2020-10-01  0.240340  0.146824  0.096030  0.053071  0.043678  0.083333   \n",
       "\n",
       "          7         8         9  ...        17        18        19 20  \\\n",
       "0         0         0         0  ...         0         0         0  0   \n",
       "1         0         0  0.500000  ...         0         0         0  0   \n",
       "2  0.000000         0  0.000000  ...  0.000000         0         0  0   \n",
       "3  0.000000  0.000000         0  ...  0.000000  0.000000         0  0   \n",
       "4  0.000000  0.000000  0.000000  ...  0.000000  0.500000  0.000000  0   \n",
       "\n",
       "         21        22        23        24 genpop_churn churn_exclude_t1  \n",
       "0         0         0         0         0     0.107143         0.107143  \n",
       "1  0.000000         0         0         0     0.075317         0.075313  \n",
       "2         0  0.000000         0         0     0.088764         0.088764  \n",
       "3         0         0  0.000000         0     0.086527         0.086527  \n",
       "4         0         0         0  0.000000     0.080885         0.080885  \n",
       "\n",
       "[5 rows x 27 columns]"
      ]
     },
     "execution_count": 85,
     "metadata": {},
     "output_type": "execute_result"
    }
   ],
   "source": [
    "churn_all.head()"
   ]
  },
  {
   "cell_type": "code",
   "execution_count": 86,
   "id": "3fd64db7",
   "metadata": {},
   "outputs": [],
   "source": [
    "churn_all = churn_all.merge(aggregated_churn, on = ['date_month'])"
   ]
  },
  {
   "cell_type": "code",
   "execution_count": 87,
   "id": "cba85b01",
   "metadata": {},
   "outputs": [],
   "source": [
    "TARGET_COL = ['change_in_churn']\n",
    "FEATURE_COLS = [i for i in range(1, 25)]+['genpop_churn', 'churn_exclude_t1']"
   ]
  },
  {
   "cell_type": "code",
   "execution_count": 88,
   "id": "121a03ba",
   "metadata": {},
   "outputs": [],
   "source": [
    "for i in FEATURE_COLS:\n",
    "    churn_all[i] = churn_all[i].astype(float)"
   ]
  },
  {
   "cell_type": "code",
   "execution_count": 89,
   "id": "817fe67b",
   "metadata": {},
   "outputs": [],
   "source": [
    "import matplotlib.pyplot as plt \n",
    "import seaborn as sns"
   ]
  },
  {
   "cell_type": "code",
   "execution_count": 90,
   "id": "318f582b",
   "metadata": {},
   "outputs": [
    {
     "data": {
      "text/html": [
       "<div>\n",
       "<style scoped>\n",
       "    .dataframe tbody tr th:only-of-type {\n",
       "        vertical-align: middle;\n",
       "    }\n",
       "\n",
       "    .dataframe tbody tr th {\n",
       "        vertical-align: top;\n",
       "    }\n",
       "\n",
       "    .dataframe thead th {\n",
       "        text-align: right;\n",
       "    }\n",
       "</style>\n",
       "<table border=\"1\" class=\"dataframe\">\n",
       "  <thead>\n",
       "    <tr style=\"text-align: right;\">\n",
       "      <th></th>\n",
       "      <th>change_in_churn</th>\n",
       "    </tr>\n",
       "  </thead>\n",
       "  <tbody>\n",
       "    <tr>\n",
       "      <th>1</th>\n",
       "      <td>-0.040071</td>\n",
       "    </tr>\n",
       "    <tr>\n",
       "      <th>2</th>\n",
       "      <td>0.282977</td>\n",
       "    </tr>\n",
       "    <tr>\n",
       "      <th>3</th>\n",
       "      <td>0.406665</td>\n",
       "    </tr>\n",
       "    <tr>\n",
       "      <th>4</th>\n",
       "      <td>0.726186</td>\n",
       "    </tr>\n",
       "    <tr>\n",
       "      <th>5</th>\n",
       "      <td>0.136245</td>\n",
       "    </tr>\n",
       "    <tr>\n",
       "      <th>6</th>\n",
       "      <td>-0.187321</td>\n",
       "    </tr>\n",
       "    <tr>\n",
       "      <th>7</th>\n",
       "      <td>0.015205</td>\n",
       "    </tr>\n",
       "    <tr>\n",
       "      <th>8</th>\n",
       "      <td>0.046173</td>\n",
       "    </tr>\n",
       "    <tr>\n",
       "      <th>9</th>\n",
       "      <td>-0.166558</td>\n",
       "    </tr>\n",
       "    <tr>\n",
       "      <th>10</th>\n",
       "      <td>-0.062971</td>\n",
       "    </tr>\n",
       "    <tr>\n",
       "      <th>11</th>\n",
       "      <td>0.164608</td>\n",
       "    </tr>\n",
       "    <tr>\n",
       "      <th>12</th>\n",
       "      <td>0.290002</td>\n",
       "    </tr>\n",
       "    <tr>\n",
       "      <th>13</th>\n",
       "      <td>0.432185</td>\n",
       "    </tr>\n",
       "    <tr>\n",
       "      <th>14</th>\n",
       "      <td>0.636228</td>\n",
       "    </tr>\n",
       "    <tr>\n",
       "      <th>15</th>\n",
       "      <td>0.383191</td>\n",
       "    </tr>\n",
       "    <tr>\n",
       "      <th>16</th>\n",
       "      <td>0.188592</td>\n",
       "    </tr>\n",
       "    <tr>\n",
       "      <th>17</th>\n",
       "      <td>0.183588</td>\n",
       "    </tr>\n",
       "    <tr>\n",
       "      <th>18</th>\n",
       "      <td>0.367378</td>\n",
       "    </tr>\n",
       "    <tr>\n",
       "      <th>19</th>\n",
       "      <td>0.615666</td>\n",
       "    </tr>\n",
       "    <tr>\n",
       "      <th>20</th>\n",
       "      <td>0.048965</td>\n",
       "    </tr>\n",
       "    <tr>\n",
       "      <th>21</th>\n",
       "      <td>-0.811890</td>\n",
       "    </tr>\n",
       "    <tr>\n",
       "      <th>22</th>\n",
       "      <td>-0.803916</td>\n",
       "    </tr>\n",
       "    <tr>\n",
       "      <th>23</th>\n",
       "      <td>-0.870551</td>\n",
       "    </tr>\n",
       "    <tr>\n",
       "      <th>24</th>\n",
       "      <td>-0.791315</td>\n",
       "    </tr>\n",
       "    <tr>\n",
       "      <th>genpop_churn</th>\n",
       "      <td>-0.235526</td>\n",
       "    </tr>\n",
       "    <tr>\n",
       "      <th>churn_exclude_t1</th>\n",
       "      <td>-0.520987</td>\n",
       "    </tr>\n",
       "    <tr>\n",
       "      <th>change_in_churn</th>\n",
       "      <td>1.000000</td>\n",
       "    </tr>\n",
       "    <tr>\n",
       "      <th>dummy_value</th>\n",
       "      <td>-1.000000</td>\n",
       "    </tr>\n",
       "  </tbody>\n",
       "</table>\n",
       "</div>"
      ],
      "text/plain": [
       "                  change_in_churn\n",
       "1                       -0.040071\n",
       "2                        0.282977\n",
       "3                        0.406665\n",
       "4                        0.726186\n",
       "5                        0.136245\n",
       "6                       -0.187321\n",
       "7                        0.015205\n",
       "8                        0.046173\n",
       "9                       -0.166558\n",
       "10                      -0.062971\n",
       "11                       0.164608\n",
       "12                       0.290002\n",
       "13                       0.432185\n",
       "14                       0.636228\n",
       "15                       0.383191\n",
       "16                       0.188592\n",
       "17                       0.183588\n",
       "18                       0.367378\n",
       "19                       0.615666\n",
       "20                       0.048965\n",
       "21                      -0.811890\n",
       "22                      -0.803916\n",
       "23                      -0.870551\n",
       "24                      -0.791315\n",
       "genpop_churn            -0.235526\n",
       "churn_exclude_t1        -0.520987\n",
       "change_in_churn          1.000000\n",
       "dummy_value             -1.000000"
      ]
     },
     "execution_count": 90,
     "metadata": {},
     "output_type": "execute_result"
    }
   ],
   "source": [
    "plot_data=churn_all[FEATURE_COLS+TARGET_COL]\n",
    "corr = plot_data.corr()[TARGET_COL]\n",
    "mask=np.zeros_like(corr, dtype=np.bool)\n",
    "corr.loc['dummy_value'] = -1\n",
    "# corr.sort_values(by = TARGET_COL)\n",
    "# 0.819\n",
    "corr"
   ]
  },
  {
   "cell_type": "code",
   "execution_count": 91,
   "id": "685d0224",
   "metadata": {},
   "outputs": [
    {
     "data": {
      "text/plain": [
       "<AxesSubplot:>"
      ]
     },
     "execution_count": 91,
     "metadata": {},
     "output_type": "execute_result"
    },
    {
     "data": {
      "image/png": "[encoded data removed]",
      "text/plain": [
       "<Figure size 720x576 with 2 Axes>"
      ]
     },
     "metadata": {
      "needs_background": "light"
     },
     "output_type": "display_data"
    }
   ],
   "source": [
    "f, ax = plt.subplots(figsize=(10, 8))\n",
    "sns.heatmap(corr, mask=np.zeros_like(corr, dtype=np.bool), cmap=sns.diverging_palette(220, 10, as_cmap=True),\n",
    "            square=True, ax=ax)"
   ]
  },
  {
   "cell_type": "code",
   "execution_count": 92,
   "id": "130bacb7",
   "metadata": {},
   "outputs": [
    {
     "data": {
      "image/png": "[encoded data removed]",
      "text/plain": [
       "<Figure size 576x288 with 2 Axes>"
      ]
     },
     "metadata": {
      "needs_background": "light"
     },
     "output_type": "display_data"
    }
   ],
   "source": [
    "fig, ax = plt.subplots(figsize=(8, 4))\n",
    "\n",
    "plot_df = churn_all\n",
    "plot_df['date_month'] = pd.to_datetime(plot_df['date_month'])\n",
    "ax.plot(plot_df['date_month'], plot_df['genpop_churn'], label= 'Genpop Churn Rate')\n",
    "\n",
    "ax2 = ax.twinx()\n",
    "ax2.plot(plot_df['date_month'], plot_df['change_in_churn'], label= 'Predicted Impact on Churn', color = 'orange')\n",
    "\n",
    "ax.set_xlabel('date_month')\n",
    "ax.legend(loc = 'lower right')\n",
    "ax2.legend(loc = 'upper left')\n",
    "\n",
    "plt.show()"
   ]
  },
  {
   "cell_type": "code",
   "execution_count": 93,
   "id": "f02035ff",
   "metadata": {},
   "outputs": [
    {
     "data": {
      "image/png": "[encoded data removed]",
      "text/plain": [
       "<Figure size 576x288 with 2 Axes>"
      ]
     },
     "metadata": {
      "needs_background": "light"
     },
     "output_type": "display_data"
    }
   ],
   "source": [
    "fig, ax = plt.subplots(figsize=(8, 4))\n",
    "\n",
    "plot_df = churn_all\n",
    "plot_df['date_month'] = pd.to_datetime(plot_df['date_month'])\n",
    "ax.plot(plot_df['date_month'], plot_df[7], label= 'Tenure 7 Churn Rate')\n",
    "\n",
    "ax2 = ax.twinx()\n",
    "ax2.plot(plot_df['date_month'], plot_df['change_in_churn'], label= 'Predicted Impact on Churn', color = 'orange')\n",
    "\n",
    "ax.set_xlabel('date_month')\n",
    "ax.legend(loc = 'lower right')\n",
    "ax2.legend(loc = 'upper left')\n",
    "\n",
    "plt.show()"
   ]
  },
  {
   "cell_type": "code",
   "execution_count": 94,
   "id": "84e0acb8",
   "metadata": {},
   "outputs": [],
   "source": [
    "# plot_df = churn_all\n",
    "# plot_df['date_month'] = pd.to_datetime(plot_df['date_month'])\n",
    "# fig, ax = plt.subplots(24,1,figsize=(8, 104))\n",
    "\n",
    "# for i in range(0, 24, 1):\n",
    "#     ax1 = ax[i]\n",
    "#     ax1.plot(plot_df['date_month'], plot_df[i+1], label= 'Tenure ' + str(i+1)+ ' Churn Rate')\n",
    "\n",
    "#     ax2 = ax[i].twinx()\n",
    "#     ax2.plot(plot_df['date_month'], plot_df['change_in_churn'], label= 'Predicted Impact on Churn', color = 'orange')\n",
    "\n",
    "#     ax1.set_xlabel('date_month')\n",
    "#     ax1.legend(loc = 'lower right')\n",
    "#     ax2.legend(loc = 'upper left')\n",
    "\n",
    "# plt.show()\n",
    "    "
   ]
  },
  {
   "cell_type": "markdown",
   "id": "36e3ca1a",
   "metadata": {},
   "source": [
    "## 2. Correlation with Tenure Buckets"
   ]
  },
  {
   "cell_type": "code",
   "execution_count": 133,
   "id": "99966b9f",
   "metadata": {},
   "outputs": [],
   "source": [
    "churn_genpop_tenure_bucekts = run_query('''\n",
    "select\n",
    "     dt.start_date as date_month, \n",
    "     case when sub_month <=1 then 'Month 1'\n",
    "          when sub_month <=2 then 'Month 2'\n",
    "          when sub_month <=3 then 'Month 3'\n",
    "          when sub_month <=6 then 'Month 4-6'\n",
    "          when sub_month <=12 then 'Month 7-12'\n",
    "          else 'Month 13+'\n",
    "     end as tenure,\n",
    "    COUNT(DISTINCT CASE WHEN is_cancel = TRUE THEN hbo_uuid ELSE NULL END) as churns,\n",
    "    COUNT(DISTINCT hbo_uuid) as total_subs,\n",
    "    churns/total_subs as churn_rate\n",
    "from MAX_PROD.CONTENT_ANALYTICS.CALENDAR_DATE_TRACKER dt\n",
    "JOIN max_dev.workspace.user_retain_churn_list_test as c \n",
    "    on c.cycle_expire_date BETWEEN START_DATE and END_DATE\n",
    "WHERE 1=1\n",
    "AND dt.end_date = DATEADD('DAY', -1, (DATEADD('MONTH', 1, dt.start_date)))\n",
    "AND dt.start_date = DATE_TRUNC('MONTH', dt.start_date)\n",
    "and dt.start_date < '2023-03-01'\n",
    "--and SUB_MONTH <=24\n",
    "group by 1, 2\n",
    "order by 1, 2\n",
    "''')"
   ]
  },
  {
   "cell_type": "code",
   "execution_count": 134,
   "id": "35a254ec",
   "metadata": {},
   "outputs": [],
   "source": [
    "churn_genpop_tenure_bucekts_pivot = pd.pivot_table(churn_genpop_tenure_bucekts, values='churn_rate', index=['date_month'],\n",
    "                       columns=['tenure'], fill_value=0, aggfunc='first').reset_index()"
   ]
  },
  {
   "cell_type": "code",
   "execution_count": null,
   "id": "b21e5e8f",
   "metadata": {},
   "outputs": [],
   "source": [
    "aggregated_churn = data.groupby(['date_month'])['change_in_churn'].sum().reset_index()\n",
    "aggregated_churn['date_month'] = aggregated_churn['date_month'].dt.to_timestamp().dt.strftime('%Y-%m-%d')\n",
    "\n",
    "### GENPOP ONLY LOOKS AT 2022-01-01 ON-WARDS ###################################\n",
    "aggregated_churn = aggregated_churn[(aggregated_churn['date_month']>='2022-01-01')\n",
    "#                                    &(aggregated_churn['date_month']<='2022-12-31')\n",
    "                                   ]"
   ]
  },
  {
   "cell_type": "code",
   "execution_count": null,
   "id": "82e796c2",
   "metadata": {},
   "outputs": [],
   "source": [
    "churn_bucekts_all = churn_genpop_tenure_bucekts_pivot.merge(churn_genpop[['date_month', 'churn_rate']].rename(columns = {'churn_rate':'genpop_churn'}),\n",
    "                                           on = ['date_month'])\\\n",
    "                                    .merge(churn_exclude_t1[['date_month', 'churn_rate']].rename(columns = {'churn_rate':'churn_exclude_t1'}),\n",
    "                                          on = ['date_month'])"
   ]
  },
  {
   "cell_type": "code",
   "execution_count": null,
   "id": "6c29155f",
   "metadata": {},
   "outputs": [],
   "source": [
    "churn_bucekts_all['date_month'] = churn_bucekts_all['date_month'].astype(str)"
   ]
  },
  {
   "cell_type": "code",
   "execution_count": null,
   "id": "766dfc15",
   "metadata": {},
   "outputs": [],
   "source": [
    "churn_bucekts_all = churn_bucekts_all.merge(aggregated_churn, on = ['date_month'])"
   ]
  },
  {
   "cell_type": "code",
   "execution_count": null,
   "id": "9d505153",
   "metadata": {},
   "outputs": [],
   "source": [
    "churn_bucekts_all.columns"
   ]
  },
  {
   "cell_type": "code",
   "execution_count": null,
   "id": "c580a25a",
   "metadata": {},
   "outputs": [],
   "source": [
    "TARGET_COL = ['change_in_churn']\n",
    "FEATURE_COLS = ['Month 1', 'Month 2', 'Month 3', 'Month 4-6','Month 7-12', 'Month 13+','genpop_churn',]"
   ]
  },
  {
   "cell_type": "code",
   "execution_count": null,
   "id": "9d49354b",
   "metadata": {},
   "outputs": [],
   "source": [
    "for i in FEATURE_COLS:\n",
    "    churn_bucekts_all[i] = churn_bucekts_all[i].astype(float)"
   ]
  },
  {
   "cell_type": "code",
   "execution_count": 144,
   "id": "4673692c",
   "metadata": {},
   "outputs": [],
   "source": [
    "import matplotlib.pyplot as plt \n",
    "import seaborn as sns"
   ]
  },
  {
   "cell_type": "code",
   "execution_count": 145,
   "id": "fc58522e",
   "metadata": {},
   "outputs": [
    {
     "data": {
      "text/html": [
       "<div>\n",
       "<style scoped>\n",
       "    .dataframe tbody tr th:only-of-type {\n",
       "        vertical-align: middle;\n",
       "    }\n",
       "\n",
       "    .dataframe tbody tr th {\n",
       "        vertical-align: top;\n",
       "    }\n",
       "\n",
       "    .dataframe thead th {\n",
       "        text-align: right;\n",
       "    }\n",
       "</style>\n",
       "<table border=\"1\" class=\"dataframe\">\n",
       "  <thead>\n",
       "    <tr style=\"text-align: right;\">\n",
       "      <th></th>\n",
       "      <th>change_in_churn</th>\n",
       "    </tr>\n",
       "  </thead>\n",
       "  <tbody>\n",
       "    <tr>\n",
       "      <th>Month 1</th>\n",
       "      <td>0.114473</td>\n",
       "    </tr>\n",
       "    <tr>\n",
       "      <th>Month 13+</th>\n",
       "      <td>0.486610</td>\n",
       "    </tr>\n",
       "    <tr>\n",
       "      <th>Month 2</th>\n",
       "      <td>0.350756</td>\n",
       "    </tr>\n",
       "    <tr>\n",
       "      <th>Month 3</th>\n",
       "      <td>0.505046</td>\n",
       "    </tr>\n",
       "    <tr>\n",
       "      <th>Month 4-6</th>\n",
       "      <td>0.493542</td>\n",
       "    </tr>\n",
       "    <tr>\n",
       "      <th>Month 7-12</th>\n",
       "      <td>-0.141028</td>\n",
       "    </tr>\n",
       "    <tr>\n",
       "      <th>genpop_churn</th>\n",
       "      <td>-0.410158</td>\n",
       "    </tr>\n",
       "    <tr>\n",
       "      <th>change_in_churn</th>\n",
       "      <td>1.000000</td>\n",
       "    </tr>\n",
       "    <tr>\n",
       "      <th>dummy_value</th>\n",
       "      <td>-1.000000</td>\n",
       "    </tr>\n",
       "  </tbody>\n",
       "</table>\n",
       "</div>"
      ],
      "text/plain": [
       "                 change_in_churn\n",
       "Month 1                 0.114473\n",
       "Month 13+               0.486610\n",
       "Month 2                 0.350756\n",
       "Month 3                 0.505046\n",
       "Month 4-6               0.493542\n",
       "Month 7-12             -0.141028\n",
       "genpop_churn           -0.410158\n",
       "change_in_churn         1.000000\n",
       "dummy_value            -1.000000"
      ]
     },
     "execution_count": 145,
     "metadata": {},
     "output_type": "execute_result"
    }
   ],
   "source": [
    "plot_data=churn_bucekts_all[FEATURE_COLS+TARGET_COL]\n",
    "corr = plot_data.corr()[TARGET_COL]\n",
    "mask=np.zeros_like(corr, dtype=np.bool)\n",
    "corr.loc['dummy_value'] = -1\n",
    "# corr.sort_values(by = TARGET_COL)\n",
    "# 0.819\n",
    "corr"
   ]
  },
  {
   "cell_type": "code",
   "execution_count": 146,
   "id": "a3cbc0a4",
   "metadata": {
    "collapsed": true,
    "jupyter": {
     "outputs_hidden": true
    }
   },
   "outputs": [
    {
     "data": {
      "image/png": "[encoded data removed]",
      "text/plain": [
       "<Figure size 576x1728 with 12 Axes>"
      ]
     },
     "metadata": {
      "needs_background": "light"
     },
     "output_type": "display_data"
    }
   ],
   "source": [
    "plot_df = churn_bucekts_all\n",
    "plot_df['date_month'] = pd.to_datetime(plot_df['date_month'])\n",
    "fig, ax = plt.subplots(6,1,figsize=(8, 24))\n",
    "\n",
    "for i in range(0, 6, 1):\n",
    "    ax1 = ax[i]\n",
    "    month = FEATURE_COLS[i]\n",
    "    ax1.plot(plot_df['date_month'], plot_df[month], label= 'Tenure ' + month+ ' Churn Rate')\n",
    "\n",
    "    ax2 = ax[i].twinx()\n",
    "    ax2.plot(plot_df['date_month'], plot_df['change_in_churn'], label= 'Predicted Impact on Churn', color = 'orange')\n",
    "\n",
    "    ax1.set_xlabel('date_month')\n",
    "    ax1.legend(loc = 'lower right')\n",
    "    ax2.legend(loc = 'upper left')\n",
    "\n",
    "plt.show()\n",
    "    "
   ]
  },
  {
   "cell_type": "code",
   "execution_count": null,
   "id": "7000a680",
   "metadata": {},
   "outputs": [],
   "source": [
    "f, ax = plt.subplots(figsize=(10, 8))\n",
    "sns.heatmap(corr, mask=np.zeros_like(corr, dtype=np.bool), cmap=sns.diverging_palette(220, 10, as_cmap=True),\n",
    "            square=True, ax=ax)"
   ]
  },
  {
   "cell_type": "code",
   "execution_count": null,
   "id": "63bd0111",
   "metadata": {},
   "outputs": [],
   "source": [
    "churn_bucekts_all.head()"
   ]
  },
  {
   "cell_type": "code",
   "execution_count": 79,
   "id": "132a30e9",
   "metadata": {},
   "outputs": [],
   "source": [
    "import plotly.express as px\n",
    "import plotly.graph_objects as go\n",
    "from plotly.subplots import make_subplots"
   ]
  },
  {
   "cell_type": "code",
   "execution_count": 132,
   "id": "ee1da60e",
   "metadata": {},
   "outputs": [
    {
     "data": {
      "application/vnd.plotly.v1+json": {
       "config": {
        "plotlyServerURL": "https://plot.ly"
       },
       "data": [
        {
         "name": "Predicted Impact on Churn",
         "type": "scatter",
         "x": [
          "2022-01-01T00:00:00",
          "2022-02-01T00:00:00",
          "2022-03-01T00:00:00",
          "2022-04-01T00:00:00",
          "2022-05-01T00:00:00",
          "2022-06-01T00:00:00",
          "2022-07-01T00:00:00",
          "2022-08-01T00:00:00",
          "2022-09-01T00:00:00",
          "2022-10-01T00:00:00",
          "2022-11-01T00:00:00",
          "2022-12-01T00:00:00"
         ],
         "y": [
          -0.2539823741308238,
          -0.22045985012049085,
          -0.22260629412729038,
          -0.19745530177448528,
          -0.20206640777582305,
          -0.19354730826846545,
          -0.19823715864319008,
          -0.21140060405480326,
          -0.2072853397793033,
          -0.2038955543829262,
          -0.20047718222578315,
          -0.2048922948356983
         ]
        }
       ],
       "layout": {
        "annotations": [
         {
          "showarrow": false,
          "text": "Retention Month",
          "x": 1,
          "xanchor": "right",
          "xref": "x domain",
          "y": -0.22,
          "yanchor": "top",
          "yref": "y"
         },
         {
          "showarrow": false,
          "text": "Nomal Month",
          "x": 1,
          "xanchor": "right",
          "xref": "x domain",
          "y": -0.2,
          "yanchor": "top",
          "yref": "y"
         },
         {
          "showarrow": false,
          "text": "Churn Month",
          "x": 1,
          "xanchor": "right",
          "xref": "x domain",
          "y": -0.19,
          "yanchor": "top",
          "yref": "y"
         }
        ],
        "autosize": true,
        "legend": {
         "orientation": "h",
         "x": 0.5,
         "xanchor": "center",
         "y": -0.1,
         "yanchor": "top"
        },
        "plot_bgcolor": "rgb(255,255,255)",
        "shapes": [
         {
          "line": {
           "color": "silver",
           "dash": "dot",
           "width": 2
          },
          "type": "line",
          "x0": 0,
          "x1": 1,
          "xref": "x domain",
          "y0": -0.22,
          "y1": -0.22,
          "yref": "y"
         },
         {
          "line": {
           "color": "gold",
           "dash": "dot",
           "width": 2
          },
          "type": "line",
          "x0": 0,
          "x1": 1,
          "xref": "x domain",
          "y0": -0.2,
          "y1": -0.2,
          "yref": "y"
         },
         {
          "line": {
           "color": "grey",
           "dash": "dot",
           "width": 2
          },
          "type": "line",
          "x0": 0,
          "x1": 1,
          "xref": "x domain",
          "y0": -0.19,
          "y1": -0.19,
          "yref": "y"
         },
         {
          "fillcolor": "green",
          "line": {
           "width": 0
          },
          "opacity": 0.15,
          "type": "rect",
          "x0": 0,
          "x1": 1,
          "xref": "x domain",
          "y0": -0.26,
          "y1": -0.22,
          "yref": "y"
         },
         {
          "fillcolor": "gold",
          "line": {
           "width": 0
          },
          "opacity": 0.15,
          "type": "rect",
          "x0": 0,
          "x1": 1,
          "xref": "x domain",
          "y0": -0.22,
          "y1": -0.2,
          "yref": "y"
         },
         {
          "fillcolor": "grey",
          "line": {
           "width": 0
          },
          "opacity": 0.15,
          "type": "rect",
          "x0": 0,
          "x1": 1,
          "xref": "x domain",
          "y0": -0.2,
          "y1": -0.19,
          "yref": "y"
         }
        ],
        "template": {
         "data": {
          "bar": [
           {
            "error_x": {
             "color": "#2a3f5f"
            },
            "error_y": {
             "color": "#2a3f5f"
            },
            "marker": {
             "line": {
              "color": "#E5ECF6",
              "width": 0.5
             },
             "pattern": {
              "fillmode": "overlay",
              "size": 10,
              "solidity": 0.2
             }
            },
            "type": "bar"
           }
          ],
          "barpolar": [
           {
            "marker": {
             "line": {
              "color": "#E5ECF6",
              "width": 0.5
             },
             "pattern": {
              "fillmode": "overlay",
              "size": 10,
              "solidity": 0.2
             }
            },
            "type": "barpolar"
           }
          ],
          "carpet": [
           {
            "aaxis": {
             "endlinecolor": "#2a3f5f",
             "gridcolor": "white",
             "linecolor": "white",
             "minorgridcolor": "white",
             "startlinecolor": "#2a3f5f"
            },
            "baxis": {
             "endlinecolor": "#2a3f5f",
             "gridcolor": "white",
             "linecolor": "white",
             "minorgridcolor": "white",
             "startlinecolor": "#2a3f5f"
            },
            "type": "carpet"
           }
          ],
          "choropleth": [
           {
            "colorbar": {
             "outlinewidth": 0,
             "ticks": ""
            },
            "type": "choropleth"
           }
          ],
          "contour": [
           {
            "colorbar": {
             "outlinewidth": 0,
             "ticks": ""
            },
            "colorscale": [
             [
              0,
              "#0d0887"
             ],
             [
              0.1111111111111111,
              "#46039f"
             ],
             [
              0.2222222222222222,
              "#7201a8"
             ],
             [
              0.3333333333333333,
              "#9c179e"
             ],
             [
              0.4444444444444444,
              "#bd3786"
             ],
             [
              0.5555555555555556,
              "#d8576b"
             ],
             [
              0.6666666666666666,
              "#ed7953"
             ],
             [
              0.7777777777777778,
              "#fb9f3a"
             ],
             [
              0.8888888888888888,
              "#fdca26"
             ],
             [
              1,
              "#f0f921"
             ]
            ],
            "type": "contour"
           }
          ],
          "contourcarpet": [
           {
            "colorbar": {
             "outlinewidth": 0,
             "ticks": ""
            },
            "type": "contourcarpet"
           }
          ],
          "heatmap": [
           {
            "colorbar": {
             "outlinewidth": 0,
             "ticks": ""
            },
            "colorscale": [
             [
              0,
              "#0d0887"
             ],
             [
              0.1111111111111111,
              "#46039f"
             ],
             [
              0.2222222222222222,
              "#7201a8"
             ],
             [
              0.3333333333333333,
              "#9c179e"
             ],
             [
              0.4444444444444444,
              "#bd3786"
             ],
             [
              0.5555555555555556,
              "#d8576b"
             ],
             [
              0.6666666666666666,
              "#ed7953"
             ],
             [
              0.7777777777777778,
              "#fb9f3a"
             ],
             [
              0.8888888888888888,
              "#fdca26"
             ],
             [
              1,
              "#f0f921"
             ]
            ],
            "type": "heatmap"
           }
          ],
          "heatmapgl": [
           {
            "colorbar": {
             "outlinewidth": 0,
             "ticks": ""
            },
            "colorscale": [
             [
              0,
              "#0d0887"
             ],
             [
              0.1111111111111111,
              "#46039f"
             ],
             [
              0.2222222222222222,
              "#7201a8"
             ],
             [
              0.3333333333333333,
              "#9c179e"
             ],
             [
              0.4444444444444444,
              "#bd3786"
             ],
             [
              0.5555555555555556,
              "#d8576b"
             ],
             [
              0.6666666666666666,
              "#ed7953"
             ],
             [
              0.7777777777777778,
              "#fb9f3a"
             ],
             [
              0.8888888888888888,
              "#fdca26"
             ],
             [
              1,
              "#f0f921"
             ]
            ],
            "type": "heatmapgl"
           }
          ],
          "histogram": [
           {
            "marker": {
             "pattern": {
              "fillmode": "overlay",
              "size": 10,
              "solidity": 0.2
             }
            },
            "type": "histogram"
           }
          ],
          "histogram2d": [
           {
            "colorbar": {
             "outlinewidth": 0,
             "ticks": ""
            },
            "colorscale": [
             [
              0,
              "#0d0887"
             ],
             [
              0.1111111111111111,
              "#46039f"
             ],
             [
              0.2222222222222222,
              "#7201a8"
             ],
             [
              0.3333333333333333,
              "#9c179e"
             ],
             [
              0.4444444444444444,
              "#bd3786"
             ],
             [
              0.5555555555555556,
              "#d8576b"
             ],
             [
              0.6666666666666666,
              "#ed7953"
             ],
             [
              0.7777777777777778,
              "#fb9f3a"
             ],
             [
              0.8888888888888888,
              "#fdca26"
             ],
             [
              1,
              "#f0f921"
             ]
            ],
            "type": "histogram2d"
           }
          ],
          "histogram2dcontour": [
           {
            "colorbar": {
             "outlinewidth": 0,
             "ticks": ""
            },
            "colorscale": [
             [
              0,
              "#0d0887"
             ],
             [
              0.1111111111111111,
              "#46039f"
             ],
             [
              0.2222222222222222,
              "#7201a8"
             ],
             [
              0.3333333333333333,
              "#9c179e"
             ],
             [
              0.4444444444444444,
              "#bd3786"
             ],
             [
              0.5555555555555556,
              "#d8576b"
             ],
             [
              0.6666666666666666,
              "#ed7953"
             ],
             [
              0.7777777777777778,
              "#fb9f3a"
             ],
             [
              0.8888888888888888,
              "#fdca26"
             ],
             [
              1,
              "#f0f921"
             ]
            ],
            "type": "histogram2dcontour"
           }
          ],
          "mesh3d": [
           {
            "colorbar": {
             "outlinewidth": 0,
             "ticks": ""
            },
            "type": "mesh3d"
           }
          ],
          "parcoords": [
           {
            "line": {
             "colorbar": {
              "outlinewidth": 0,
              "ticks": ""
             }
            },
            "type": "parcoords"
           }
          ],
          "pie": [
           {
            "automargin": true,
            "type": "pie"
           }
          ],
          "scatter": [
           {
            "marker": {
             "colorbar": {
              "outlinewidth": 0,
              "ticks": ""
             }
            },
            "type": "scatter"
           }
          ],
          "scatter3d": [
           {
            "line": {
             "colorbar": {
              "outlinewidth": 0,
              "ticks": ""
             }
            },
            "marker": {
             "colorbar": {
              "outlinewidth": 0,
              "ticks": ""
             }
            },
            "type": "scatter3d"
           }
          ],
          "scattercarpet": [
           {
            "marker": {
             "colorbar": {
              "outlinewidth": 0,
              "ticks": ""
             }
            },
            "type": "scattercarpet"
           }
          ],
          "scattergeo": [
           {
            "marker": {
             "colorbar": {
              "outlinewidth": 0,
              "ticks": ""
             }
            },
            "type": "scattergeo"
           }
          ],
          "scattergl": [
           {
            "marker": {
             "colorbar": {
              "outlinewidth": 0,
              "ticks": ""
             }
            },
            "type": "scattergl"
           }
          ],
          "scattermapbox": [
           {
            "marker": {
             "colorbar": {
              "outlinewidth": 0,
              "ticks": ""
             }
            },
            "type": "scattermapbox"
           }
          ],
          "scatterpolar": [
           {
            "marker": {
             "colorbar": {
              "outlinewidth": 0,
              "ticks": ""
             }
            },
            "type": "scatterpolar"
           }
          ],
          "scatterpolargl": [
           {
            "marker": {
             "colorbar": {
              "outlinewidth": 0,
              "ticks": ""
             }
            },
            "type": "scatterpolargl"
           }
          ],
          "scatterternary": [
           {
            "marker": {
             "colorbar": {
              "outlinewidth": 0,
              "ticks": ""
             }
            },
            "type": "scatterternary"
           }
          ],
          "surface": [
           {
            "colorbar": {
             "outlinewidth": 0,
             "ticks": ""
            },
            "colorscale": [
             [
              0,
              "#0d0887"
             ],
             [
              0.1111111111111111,
              "#46039f"
             ],
             [
              0.2222222222222222,
              "#7201a8"
             ],
             [
              0.3333333333333333,
              "#9c179e"
             ],
             [
              0.4444444444444444,
              "#bd3786"
             ],
             [
              0.5555555555555556,
              "#d8576b"
             ],
             [
              0.6666666666666666,
              "#ed7953"
             ],
             [
              0.7777777777777778,
              "#fb9f3a"
             ],
             [
              0.8888888888888888,
              "#fdca26"
             ],
             [
              1,
              "#f0f921"
             ]
            ],
            "type": "surface"
           }
          ],
          "table": [
           {
            "cells": {
             "fill": {
              "color": "#EBF0F8"
             },
             "line": {
              "color": "white"
             }
            },
            "header": {
             "fill": {
              "color": "#C8D4E3"
             },
             "line": {
              "color": "white"
             }
            },
            "type": "table"
           }
          ]
         },
         "layout": {
          "annotationdefaults": {
           "arrowcolor": "#2a3f5f",
           "arrowhead": 0,
           "arrowwidth": 1
          },
          "autotypenumbers": "strict",
          "coloraxis": {
           "colorbar": {
            "outlinewidth": 0,
            "ticks": ""
           }
          },
          "colorscale": {
           "diverging": [
            [
             0,
             "#8e0152"
            ],
            [
             0.1,
             "#c51b7d"
            ],
            [
             0.2,
             "#de77ae"
            ],
            [
             0.3,
             "#f1b6da"
            ],
            [
             0.4,
             "#fde0ef"
            ],
            [
             0.5,
             "#f7f7f7"
            ],
            [
             0.6,
             "#e6f5d0"
            ],
            [
             0.7,
             "#b8e186"
            ],
            [
             0.8,
             "#7fbc41"
            ],
            [
             0.9,
             "#4d9221"
            ],
            [
             1,
             "#276419"
            ]
           ],
           "sequential": [
            [
             0,
             "#0d0887"
            ],
            [
             0.1111111111111111,
             "#46039f"
            ],
            [
             0.2222222222222222,
             "#7201a8"
            ],
            [
             0.3333333333333333,
             "#9c179e"
            ],
            [
             0.4444444444444444,
             "#bd3786"
            ],
            [
             0.5555555555555556,
             "#d8576b"
            ],
            [
             0.6666666666666666,
             "#ed7953"
            ],
            [
             0.7777777777777778,
             "#fb9f3a"
            ],
            [
             0.8888888888888888,
             "#fdca26"
            ],
            [
             1,
             "#f0f921"
            ]
           ],
           "sequentialminus": [
            [
             0,
             "#0d0887"
            ],
            [
             0.1111111111111111,
             "#46039f"
            ],
            [
             0.2222222222222222,
             "#7201a8"
            ],
            [
             0.3333333333333333,
             "#9c179e"
            ],
            [
             0.4444444444444444,
             "#bd3786"
            ],
            [
             0.5555555555555556,
             "#d8576b"
            ],
            [
             0.6666666666666666,
             "#ed7953"
            ],
            [
             0.7777777777777778,
             "#fb9f3a"
            ],
            [
             0.8888888888888888,
             "#fdca26"
            ],
            [
             1,
             "#f0f921"
            ]
           ]
          },
          "colorway": [
           "#636efa",
           "#EF553B",
           "#00cc96",
           "#ab63fa",
           "#FFA15A",
           "#19d3f3",
           "#FF6692",
           "#B6E880",
           "#FF97FF",
           "#FECB52"
          ],
          "font": {
           "color": "#2a3f5f"
          },
          "geo": {
           "bgcolor": "white",
           "lakecolor": "white",
           "landcolor": "#E5ECF6",
           "showlakes": true,
           "showland": true,
           "subunitcolor": "white"
          },
          "hoverlabel": {
           "align": "left"
          },
          "hovermode": "closest",
          "mapbox": {
           "style": "light"
          },
          "paper_bgcolor": "white",
          "plot_bgcolor": "#E5ECF6",
          "polar": {
           "angularaxis": {
            "gridcolor": "white",
            "linecolor": "white",
            "ticks": ""
           },
           "bgcolor": "#E5ECF6",
           "radialaxis": {
            "gridcolor": "white",
            "linecolor": "white",
            "ticks": ""
           }
          },
          "scene": {
           "xaxis": {
            "backgroundcolor": "#E5ECF6",
            "gridcolor": "white",
            "gridwidth": 2,
            "linecolor": "white",
            "showbackground": true,
            "ticks": "",
            "zerolinecolor": "white"
           },
           "yaxis": {
            "backgroundcolor": "#E5ECF6",
            "gridcolor": "white",
            "gridwidth": 2,
            "linecolor": "white",
            "showbackground": true,
            "ticks": "",
            "zerolinecolor": "white"
           },
           "zaxis": {
            "backgroundcolor": "#E5ECF6",
            "gridcolor": "white",
            "gridwidth": 2,
            "linecolor": "white",
            "showbackground": true,
            "ticks": "",
            "zerolinecolor": "white"
           }
          },
          "shapedefaults": {
           "line": {
            "color": "#2a3f5f"
           }
          },
          "ternary": {
           "aaxis": {
            "gridcolor": "white",
            "linecolor": "white",
            "ticks": ""
           },
           "baxis": {
            "gridcolor": "white",
            "linecolor": "white",
            "ticks": ""
           },
           "bgcolor": "#E5ECF6",
           "caxis": {
            "gridcolor": "white",
            "linecolor": "white",
            "ticks": ""
           }
          },
          "title": {
           "x": 0.05
          },
          "xaxis": {
           "automargin": true,
           "gridcolor": "white",
           "linecolor": "white",
           "ticks": "",
           "title": {
            "standoff": 15
           },
           "zerolinecolor": "white",
           "zerolinewidth": 2
          },
          "yaxis": {
           "automargin": true,
           "gridcolor": "white",
           "linecolor": "white",
           "ticks": "",
           "title": {
            "standoff": 15
           },
           "zerolinecolor": "white",
           "zerolinewidth": 2
          }
         }
        },
        "xaxis": {
         "anchor": "y",
         "autorange": true,
         "domain": [
          0,
          0.94
         ],
         "linecolor": "black",
         "linewidth": 0.5,
         "range": [
          "2021-12-11 16:24:11.0094",
          "2022-12-21 07:35:48.9906"
         ],
         "showline": true,
         "type": "date"
        },
        "yaxis": {
         "anchor": "x",
         "autorange": true,
         "domain": [
          0,
          1
         ],
         "linecolor": "black",
         "linewidth": 0.5,
         "range": [
          -0.26,
          -0.18901196135503728
         ],
         "showline": true,
         "title": {
          "text": "Retention Value"
         },
         "type": "linear"
        },
        "yaxis2": {
         "anchor": "x",
         "linecolor": "black",
         "linewidth": 0.5,
         "overlaying": "y",
         "showline": true,
         "side": "right",
         "title": {
          "text": "Historical Churn"
         }
        }
       }
      },
      "image/png": "[encoded data removed]",
      "text/html": [
       "<div>                            <div id=\"15152ac5-2649-4bf1-9827-9c886cea4ab5\" class=\"plotly-graph-div\" style=\"height:525px; width:100%;\"></div>            <script type=\"text/javascript\">                require([\"plotly\"], function(Plotly) {                    window.PLOTLYENV=window.PLOTLYENV || {};                                    if (document.getElementById(\"15152ac5-2649-4bf1-9827-9c886cea4ab5\")) {                    Plotly.newPlot(                        \"15152ac5-2649-4bf1-9827-9c886cea4ab5\",                        [{\"name\":\"Predicted Impact on Churn\",\"x\":[\"2022-01-01T00:00:00\",\"2022-02-01T00:00:00\",\"2022-03-01T00:00:00\",\"2022-04-01T00:00:00\",\"2022-05-01T00:00:00\",\"2022-06-01T00:00:00\",\"2022-07-01T00:00:00\",\"2022-08-01T00:00:00\",\"2022-09-01T00:00:00\",\"2022-10-01T00:00:00\",\"2022-11-01T00:00:00\",\"2022-12-01T00:00:00\"],\"y\":[-0.2539823741308238,-0.22045985012049085,-0.22260629412729038,-0.19745530177448528,-0.20206640777582305,-0.19354730826846545,-0.19823715864319008,-0.21140060405480326,-0.2072853397793033,-0.2038955543829262,-0.20047718222578315,-0.2048922948356983],\"type\":\"scatter\"}],                        {\"template\":{\"data\":{\"bar\":[{\"error_x\":{\"color\":\"#2a3f5f\"},\"error_y\":{\"color\":\"#2a3f5f\"},\"marker\":{\"line\":{\"color\":\"#E5ECF6\",\"width\":0.5},\"pattern\":{\"fillmode\":\"overlay\",\"size\":10,\"solidity\":0.2}},\"type\":\"bar\"}],\"barpolar\":[{\"marker\":{\"line\":{\"color\":\"#E5ECF6\",\"width\":0.5},\"pattern\":{\"fillmode\":\"overlay\",\"size\":10,\"solidity\":0.2}},\"type\":\"barpolar\"}],\"carpet\":[{\"aaxis\":{\"endlinecolor\":\"#2a3f5f\",\"gridcolor\":\"white\",\"linecolor\":\"white\",\"minorgridcolor\":\"white\",\"startlinecolor\":\"#2a3f5f\"},\"baxis\":{\"endlinecolor\":\"#2a3f5f\",\"gridcolor\":\"white\",\"linecolor\":\"white\",\"minorgridcolor\":\"white\",\"startlinecolor\":\"#2a3f5f\"},\"type\":\"carpet\"}],\"choropleth\":[{\"colorbar\":{\"outlinewidth\":0,\"ticks\":\"\"},\"type\":\"choropleth\"}],\"contour\":[{\"colorbar\":{\"outlinewidth\":0,\"ticks\":\"\"},\"colorscale\":[[0.0,\"#0d0887\"],[0.1111111111111111,\"#46039f\"],[0.2222222222222222,\"#7201a8\"],[0.3333333333333333,\"#9c179e\"],[0.4444444444444444,\"#bd3786\"],[0.5555555555555556,\"#d8576b\"],[0.6666666666666666,\"#ed7953\"],[0.7777777777777778,\"#fb9f3a\"],[0.8888888888888888,\"#fdca26\"],[1.0,\"#f0f921\"]],\"type\":\"contour\"}],\"contourcarpet\":[{\"colorbar\":{\"outlinewidth\":0,\"ticks\":\"\"},\"type\":\"contourcarpet\"}],\"heatmap\":[{\"colorbar\":{\"outlinewidth\":0,\"ticks\":\"\"},\"colorscale\":[[0.0,\"#0d0887\"],[0.1111111111111111,\"#46039f\"],[0.2222222222222222,\"#7201a8\"],[0.3333333333333333,\"#9c179e\"],[0.4444444444444444,\"#bd3786\"],[0.5555555555555556,\"#d8576b\"],[0.6666666666666666,\"#ed7953\"],[0.7777777777777778,\"#fb9f3a\"],[0.8888888888888888,\"#fdca26\"],[1.0,\"#f0f921\"]],\"type\":\"heatmap\"}],\"heatmapgl\":[{\"colorbar\":{\"outlinewidth\":0,\"ticks\":\"\"},\"colorscale\":[[0.0,\"#0d0887\"],[0.1111111111111111,\"#46039f\"],[0.2222222222222222,\"#7201a8\"],[0.3333333333333333,\"#9c179e\"],[0.4444444444444444,\"#bd3786\"],[0.5555555555555556,\"#d8576b\"],[0.6666666666666666,\"#ed7953\"],[0.7777777777777778,\"#fb9f3a\"],[0.8888888888888888,\"#fdca26\"],[1.0,\"#f0f921\"]],\"type\":\"heatmapgl\"}],\"histogram\":[{\"marker\":{\"pattern\":{\"fillmode\":\"overlay\",\"size\":10,\"solidity\":0.2}},\"type\":\"histogram\"}],\"histogram2d\":[{\"colorbar\":{\"outlinewidth\":0,\"ticks\":\"\"},\"colorscale\":[[0.0,\"#0d0887\"],[0.1111111111111111,\"#46039f\"],[0.2222222222222222,\"#7201a8\"],[0.3333333333333333,\"#9c179e\"],[0.4444444444444444,\"#bd3786\"],[0.5555555555555556,\"#d8576b\"],[0.6666666666666666,\"#ed7953\"],[0.7777777777777778,\"#fb9f3a\"],[0.8888888888888888,\"#fdca26\"],[1.0,\"#f0f921\"]],\"type\":\"histogram2d\"}],\"histogram2dcontour\":[{\"colorbar\":{\"outlinewidth\":0,\"ticks\":\"\"},\"colorscale\":[[0.0,\"#0d0887\"],[0.1111111111111111,\"#46039f\"],[0.2222222222222222,\"#7201a8\"],[0.3333333333333333,\"#9c179e\"],[0.4444444444444444,\"#bd3786\"],[0.5555555555555556,\"#d8576b\"],[0.6666666666666666,\"#ed7953\"],[0.7777777777777778,\"#fb9f3a\"],[0.8888888888888888,\"#fdca26\"],[1.0,\"#f0f921\"]],\"type\":\"histogram2dcontour\"}],\"mesh3d\":[{\"colorbar\":{\"outlinewidth\":0,\"ticks\":\"\"},\"type\":\"mesh3d\"}],\"parcoords\":[{\"line\":{\"colorbar\":{\"outlinewidth\":0,\"ticks\":\"\"}},\"type\":\"parcoords\"}],\"pie\":[{\"automargin\":true,\"type\":\"pie\"}],\"scatter\":[{\"marker\":{\"colorbar\":{\"outlinewidth\":0,\"ticks\":\"\"}},\"type\":\"scatter\"}],\"scatter3d\":[{\"line\":{\"colorbar\":{\"outlinewidth\":0,\"ticks\":\"\"}},\"marker\":{\"colorbar\":{\"outlinewidth\":0,\"ticks\":\"\"}},\"type\":\"scatter3d\"}],\"scattercarpet\":[{\"marker\":{\"colorbar\":{\"outlinewidth\":0,\"ticks\":\"\"}},\"type\":\"scattercarpet\"}],\"scattergeo\":[{\"marker\":{\"colorbar\":{\"outlinewidth\":0,\"ticks\":\"\"}},\"type\":\"scattergeo\"}],\"scattergl\":[{\"marker\":{\"colorbar\":{\"outlinewidth\":0,\"ticks\":\"\"}},\"type\":\"scattergl\"}],\"scattermapbox\":[{\"marker\":{\"colorbar\":{\"outlinewidth\":0,\"ticks\":\"\"}},\"type\":\"scattermapbox\"}],\"scatterpolar\":[{\"marker\":{\"colorbar\":{\"outlinewidth\":0,\"ticks\":\"\"}},\"type\":\"scatterpolar\"}],\"scatterpolargl\":[{\"marker\":{\"colorbar\":{\"outlinewidth\":0,\"ticks\":\"\"}},\"type\":\"scatterpolargl\"}],\"scatterternary\":[{\"marker\":{\"colorbar\":{\"outlinewidth\":0,\"ticks\":\"\"}},\"type\":\"scatterternary\"}],\"surface\":[{\"colorbar\":{\"outlinewidth\":0,\"ticks\":\"\"},\"colorscale\":[[0.0,\"#0d0887\"],[0.1111111111111111,\"#46039f\"],[0.2222222222222222,\"#7201a8\"],[0.3333333333333333,\"#9c179e\"],[0.4444444444444444,\"#bd3786\"],[0.5555555555555556,\"#d8576b\"],[0.6666666666666666,\"#ed7953\"],[0.7777777777777778,\"#fb9f3a\"],[0.8888888888888888,\"#fdca26\"],[1.0,\"#f0f921\"]],\"type\":\"surface\"}],\"table\":[{\"cells\":{\"fill\":{\"color\":\"#EBF0F8\"},\"line\":{\"color\":\"white\"}},\"header\":{\"fill\":{\"color\":\"#C8D4E3\"},\"line\":{\"color\":\"white\"}},\"type\":\"table\"}]},\"layout\":{\"annotationdefaults\":{\"arrowcolor\":\"#2a3f5f\",\"arrowhead\":0,\"arrowwidth\":1},\"autotypenumbers\":\"strict\",\"coloraxis\":{\"colorbar\":{\"outlinewidth\":0,\"ticks\":\"\"}},\"colorscale\":{\"diverging\":[[0,\"#8e0152\"],[0.1,\"#c51b7d\"],[0.2,\"#de77ae\"],[0.3,\"#f1b6da\"],[0.4,\"#fde0ef\"],[0.5,\"#f7f7f7\"],[0.6,\"#e6f5d0\"],[0.7,\"#b8e186\"],[0.8,\"#7fbc41\"],[0.9,\"#4d9221\"],[1,\"#276419\"]],\"sequential\":[[0.0,\"#0d0887\"],[0.1111111111111111,\"#46039f\"],[0.2222222222222222,\"#7201a8\"],[0.3333333333333333,\"#9c179e\"],[0.4444444444444444,\"#bd3786\"],[0.5555555555555556,\"#d8576b\"],[0.6666666666666666,\"#ed7953\"],[0.7777777777777778,\"#fb9f3a\"],[0.8888888888888888,\"#fdca26\"],[1.0,\"#f0f921\"]],\"sequentialminus\":[[0.0,\"#0d0887\"],[0.1111111111111111,\"#46039f\"],[0.2222222222222222,\"#7201a8\"],[0.3333333333333333,\"#9c179e\"],[0.4444444444444444,\"#bd3786\"],[0.5555555555555556,\"#d8576b\"],[0.6666666666666666,\"#ed7953\"],[0.7777777777777778,\"#fb9f3a\"],[0.8888888888888888,\"#fdca26\"],[1.0,\"#f0f921\"]]},\"colorway\":[\"#636efa\",\"#EF553B\",\"#00cc96\",\"#ab63fa\",\"#FFA15A\",\"#19d3f3\",\"#FF6692\",\"#B6E880\",\"#FF97FF\",\"#FECB52\"],\"font\":{\"color\":\"#2a3f5f\"},\"geo\":{\"bgcolor\":\"white\",\"lakecolor\":\"white\",\"landcolor\":\"#E5ECF6\",\"showlakes\":true,\"showland\":true,\"subunitcolor\":\"white\"},\"hoverlabel\":{\"align\":\"left\"},\"hovermode\":\"closest\",\"mapbox\":{\"style\":\"light\"},\"paper_bgcolor\":\"white\",\"plot_bgcolor\":\"#E5ECF6\",\"polar\":{\"angularaxis\":{\"gridcolor\":\"white\",\"linecolor\":\"white\",\"ticks\":\"\"},\"bgcolor\":\"#E5ECF6\",\"radialaxis\":{\"gridcolor\":\"white\",\"linecolor\":\"white\",\"ticks\":\"\"}},\"scene\":{\"xaxis\":{\"backgroundcolor\":\"#E5ECF6\",\"gridcolor\":\"white\",\"gridwidth\":2,\"linecolor\":\"white\",\"showbackground\":true,\"ticks\":\"\",\"zerolinecolor\":\"white\"},\"yaxis\":{\"backgroundcolor\":\"#E5ECF6\",\"gridcolor\":\"white\",\"gridwidth\":2,\"linecolor\":\"white\",\"showbackground\":true,\"ticks\":\"\",\"zerolinecolor\":\"white\"},\"zaxis\":{\"backgroundcolor\":\"#E5ECF6\",\"gridcolor\":\"white\",\"gridwidth\":2,\"linecolor\":\"white\",\"showbackground\":true,\"ticks\":\"\",\"zerolinecolor\":\"white\"}},\"shapedefaults\":{\"line\":{\"color\":\"#2a3f5f\"}},\"ternary\":{\"aaxis\":{\"gridcolor\":\"white\",\"linecolor\":\"white\",\"ticks\":\"\"},\"baxis\":{\"gridcolor\":\"white\",\"linecolor\":\"white\",\"ticks\":\"\"},\"bgcolor\":\"#E5ECF6\",\"caxis\":{\"gridcolor\":\"white\",\"linecolor\":\"white\",\"ticks\":\"\"}},\"title\":{\"x\":0.05},\"xaxis\":{\"automargin\":true,\"gridcolor\":\"white\",\"linecolor\":\"white\",\"ticks\":\"\",\"title\":{\"standoff\":15},\"zerolinecolor\":\"white\",\"zerolinewidth\":2},\"yaxis\":{\"automargin\":true,\"gridcolor\":\"white\",\"linecolor\":\"white\",\"ticks\":\"\",\"title\":{\"standoff\":15},\"zerolinecolor\":\"white\",\"zerolinewidth\":2}}},\"xaxis\":{\"anchor\":\"y\",\"domain\":[0.0,0.94],\"showline\":true,\"linewidth\":0.5,\"linecolor\":\"black\"},\"yaxis\":{\"anchor\":\"x\",\"domain\":[0.0,1.0],\"showline\":true,\"linewidth\":0.5,\"linecolor\":\"black\",\"title\":{\"text\":\"Retention Value\"}},\"yaxis2\":{\"anchor\":\"x\",\"overlaying\":\"y\",\"side\":\"right\",\"showline\":true,\"linewidth\":0.5,\"linecolor\":\"black\",\"title\":{\"text\":\"Historical Churn\"}},\"shapes\":[{\"line\":{\"color\":\"silver\",\"dash\":\"dot\",\"width\":2},\"type\":\"line\",\"x0\":0,\"x1\":1,\"xref\":\"x domain\",\"y0\":-0.22,\"y1\":-0.22,\"yref\":\"y\"},{\"line\":{\"color\":\"gold\",\"dash\":\"dot\",\"width\":2},\"type\":\"line\",\"x0\":0,\"x1\":1,\"xref\":\"x domain\",\"y0\":-0.2,\"y1\":-0.2,\"yref\":\"y\"},{\"line\":{\"color\":\"grey\",\"dash\":\"dot\",\"width\":2},\"type\":\"line\",\"x0\":0,\"x1\":1,\"xref\":\"x domain\",\"y0\":-0.19,\"y1\":-0.19,\"yref\":\"y\"},{\"fillcolor\":\"green\",\"line\":{\"width\":0},\"opacity\":0.15,\"type\":\"rect\",\"x0\":0,\"x1\":1,\"xref\":\"x domain\",\"y0\":-0.26,\"y1\":-0.22,\"yref\":\"y\"},{\"fillcolor\":\"gold\",\"line\":{\"width\":0},\"opacity\":0.15,\"type\":\"rect\",\"x0\":0,\"x1\":1,\"xref\":\"x domain\",\"y0\":-0.22,\"y1\":-0.2,\"yref\":\"y\"},{\"fillcolor\":\"grey\",\"line\":{\"width\":0},\"opacity\":0.15,\"type\":\"rect\",\"x0\":0,\"x1\":1,\"xref\":\"x domain\",\"y0\":-0.2,\"y1\":-0.19,\"yref\":\"y\"}],\"annotations\":[{\"showarrow\":false,\"text\":\"Retention Month\",\"x\":1,\"xanchor\":\"right\",\"xref\":\"x domain\",\"y\":-0.22,\"yanchor\":\"top\",\"yref\":\"y\"},{\"showarrow\":false,\"text\":\"Nomal Month\",\"x\":1,\"xanchor\":\"right\",\"xref\":\"x domain\",\"y\":-0.2,\"yanchor\":\"top\",\"yref\":\"y\"},{\"showarrow\":false,\"text\":\"Churn Month\",\"x\":1,\"xanchor\":\"right\",\"xref\":\"x domain\",\"y\":-0.19,\"yanchor\":\"top\",\"yref\":\"y\"}],\"plot_bgcolor\":\"rgb(255,255,255)\",\"legend\":{\"orientation\":\"h\",\"yanchor\":\"top\",\"y\":-0.1,\"xanchor\":\"center\",\"x\":0.5}},                        {\"responsive\": true}                    ).then(function(){\n",
       "                            \n",
       "var gd = document.getElementById('15152ac5-2649-4bf1-9827-9c886cea4ab5');\n",
       "var x = new MutationObserver(function (mutations, observer) {{\n",
       "        var display = window.getComputedStyle(gd).display;\n",
       "        if (!display || display === 'none') {{\n",
       "            console.log([gd, 'removed!']);\n",
       "            Plotly.purge(gd);\n",
       "            observer.disconnect();\n",
       "        }}\n",
       "}});\n",
       "\n",
       "// Listen for the removal of the full notebook cells\n",
       "var notebookContainer = gd.closest('#notebook-container');\n",
       "if (notebookContainer) {{\n",
       "    x.observe(notebookContainer, {childList: true});\n",
       "}}\n",
       "\n",
       "// Listen for the clearing of the current output cell\n",
       "var outputEl = gd.closest('.output');\n",
       "if (outputEl) {{\n",
       "    x.observe(outputEl, {childList: true});\n",
       "}}\n",
       "\n",
       "                        })                };                });            </script>        </div>"
      ]
     },
     "metadata": {},
     "output_type": "display_data"
    }
   ],
   "source": [
    "fig = make_subplots(specs=[[{\"secondary_y\": True}]])\n",
    "\n",
    "fig.add_trace(\n",
    "    go.Scatter(x=plot_df['date_month'], y=plot_df['change_in_churn'], name=\"Predicted Impact on Churn\"),)\n",
    "\n",
    "# fig.add_trace(\n",
    "#     go.Scatter(x=plot_df['date_month'], y=plot_df['genpop_churn'], name=\"genpop_churn Churn rate\"),secondary_y=True,)\n",
    "\n",
    "fig.add_hline(y = -0.22, line_width=2, line_dash=\"dot\", line_color=\"silver\", annotation_text = 'Retention Month',\n",
    "              annotation_position=\"bottom right\")\n",
    "fig.add_hline(y = -0.2, line_width=2, line_dash=\"dot\", line_color=\"gold\", annotation_text = 'Nomal Month',\n",
    "              annotation_position=\"bottom right\")\n",
    "fig.add_hline(y = -0.19, line_width=2, line_dash=\"dot\", line_color=\"grey\", annotation_text = 'Churn Month',\n",
    "              annotation_position=\"bottom right\")\n",
    "\n",
    "fig.add_hrect(y0=-0.26, y1=-0.22, fillcolor=\"green\", opacity=0.15, line_width=0)\n",
    "fig.add_hrect(y0=-0.22, y1=-0.2, fillcolor=\"gold\", opacity=0.15, line_width=0)\n",
    "fig.add_hrect(y0=-0.2, y1=-0.19, fillcolor=\"grey\", opacity=0.15, line_width=0)\n",
    "\n",
    "# fig.update_layout(xaxis_showgrid=False, yaxis_showgrid=False, xaxis_zeroline=True, yaxis_zeroline=True,)\n",
    "fig.update_layout(plot_bgcolor='rgb(255,255,255)')\n",
    "fig.update_xaxes(showline=True, linewidth=0.5, linecolor='black')\n",
    "fig.update_yaxes(showline=True, linewidth=0.5, linecolor='black')\n",
    "\n",
    "fig.update_layout(legend=dict( orientation=\"h\",\n",
    "    yanchor=\"top\",\n",
    "    y=-0.1,\n",
    "    xanchor=\"center\",\n",
    "    x=0.5\n",
    "))\n",
    "\n",
    "fig.update_yaxes(title_text=\"Historical Churn\", secondary_y=True)\n",
    "fig.update_yaxes(title_text=\"Retention Value\", secondary_y=False)\n",
    "fig.show()"
   ]
  },
  {
   "cell_type": "code",
   "execution_count": 131,
   "id": "4cd12e29",
   "metadata": {},
   "outputs": [],
   "source": [
    "# fig = make_subplots(specs=[[{\"secondary_y\": True}]])\n",
    "\n",
    "# fig.add_trace(\n",
    "#     go.Scatter(x=plot_df['date_month'], y=plot_df['change_in_churn'], name=\"Predicted Impact on Churn\"),)\n",
    "\n",
    "# fig.add_trace(\n",
    "#     go.Scatter(x=plot_df['date_month'], y=plot_df['4-6'], name=\"Tenure 4-6 Churn rate\"),secondary_y=True,)\n",
    "\n",
    "# fig.add_hline(y = -0.23, line_width=2, line_dash=\"dot\", line_color=\"silver\", annotation_text = 'Retention Month',\n",
    "#               annotation_position=\"bottom right\")\n",
    "# fig.add_hline(y = -0.2, line_width=2, line_dash=\"dot\", line_color=\"gold\", annotation_text = 'Nomal Month',\n",
    "#               annotation_position=\"bottom right\")\n",
    "# fig.add_hline(y = -0.19, line_width=2, line_dash=\"dot\", line_color=\"grey\", annotation_text = 'Churn Month',\n",
    "#               annotation_position=\"bottom right\")\n",
    "\n",
    "# fig.add_hrect(y0=-0.26, y1=-0.23, fillcolor=\"green\", opacity=0.15, line_width=0)\n",
    "# fig.add_hrect(y0=-0.23, y1=-0.2, fillcolor=\"gold\", opacity=0.15, line_width=0)\n",
    "# fig.add_hrect(y0=-0.2, y1=-0.19, fillcolor=\"grey\", opacity=0.15, line_width=0)\n",
    "\n",
    "# # fig.update_layout(xaxis_showgrid=False, yaxis_showgrid=False, xaxis_zeroline=True, yaxis_zeroline=True,)\n",
    "# fig.update_layout(plot_bgcolor='rgb(255,255,255)')\n",
    "# fig.update_xaxes(showline=True, linewidth=0.5, linecolor='black')\n",
    "# fig.update_yaxes(showline=True, linewidth=0.5, linecolor='black')\n",
    "\n",
    "# fig.update_layout(legend=dict( orientation=\"h\",\n",
    "#     yanchor=\"top\",\n",
    "#     y=-0.1,\n",
    "#     xanchor=\"center\",\n",
    "#     x=0.5\n",
    "# ))\n",
    "\n",
    "# fig.update_yaxes(title_text=\"Historical Churn\", secondary_y=True)\n",
    "# fig.update_yaxes(title_text=\"Retention Value\", secondary_y=False)\n",
    "# fig.show()"
   ]
  },
  {
   "cell_type": "code",
   "execution_count": 115,
   "id": "b3b2232a",
   "metadata": {},
   "outputs": [
    {
     "data": {
      "text/html": [
       "<div>\n",
       "<style scoped>\n",
       "    .dataframe tbody tr th:only-of-type {\n",
       "        vertical-align: middle;\n",
       "    }\n",
       "\n",
       "    .dataframe tbody tr th {\n",
       "        vertical-align: top;\n",
       "    }\n",
       "\n",
       "    .dataframe thead th {\n",
       "        text-align: right;\n",
       "    }\n",
       "</style>\n",
       "<table border=\"1\" class=\"dataframe\">\n",
       "  <thead>\n",
       "    <tr style=\"text-align: right;\">\n",
       "      <th></th>\n",
       "      <th>date_month</th>\n",
       "      <th>1-3</th>\n",
       "      <th>13-24</th>\n",
       "      <th>24+</th>\n",
       "      <th>4-6</th>\n",
       "      <th>7-12</th>\n",
       "      <th>genpop_churn</th>\n",
       "      <th>churn_exclude_t1</th>\n",
       "      <th>change_in_churn</th>\n",
       "    </tr>\n",
       "  </thead>\n",
       "  <tbody>\n",
       "    <tr>\n",
       "      <th>0</th>\n",
       "      <td>2022-01-01</td>\n",
       "      <td>0.192129</td>\n",
       "      <td>0.028824</td>\n",
       "      <td>0.229469</td>\n",
       "      <td>0.081865</td>\n",
       "      <td>0.057773</td>\n",
       "      <td>0.063471</td>\n",
       "      <td>0.063595</td>\n",
       "      <td>-0.253982</td>\n",
       "    </tr>\n",
       "    <tr>\n",
       "      <th>1</th>\n",
       "      <td>2022-02-01</td>\n",
       "      <td>0.165079</td>\n",
       "      <td>0.031541</td>\n",
       "      <td>0.157993</td>\n",
       "      <td>0.072954</td>\n",
       "      <td>0.058365</td>\n",
       "      <td>0.063400</td>\n",
       "      <td>0.063464</td>\n",
       "      <td>-0.220460</td>\n",
       "    </tr>\n",
       "    <tr>\n",
       "      <th>2</th>\n",
       "      <td>2022-03-01</td>\n",
       "      <td>0.170824</td>\n",
       "      <td>0.028085</td>\n",
       "      <td>0.128592</td>\n",
       "      <td>0.072817</td>\n",
       "      <td>0.054829</td>\n",
       "      <td>0.063941</td>\n",
       "      <td>0.063978</td>\n",
       "      <td>-0.222606</td>\n",
       "    </tr>\n",
       "    <tr>\n",
       "      <th>3</th>\n",
       "      <td>2022-04-01</td>\n",
       "      <td>0.173515</td>\n",
       "      <td>0.030156</td>\n",
       "      <td>0.112919</td>\n",
       "      <td>0.090221</td>\n",
       "      <td>0.054369</td>\n",
       "      <td>0.064181</td>\n",
       "      <td>0.064210</td>\n",
       "      <td>-0.197455</td>\n",
       "    </tr>\n",
       "    <tr>\n",
       "      <th>4</th>\n",
       "      <td>2022-05-01</td>\n",
       "      <td>0.189630</td>\n",
       "      <td>0.031008</td>\n",
       "      <td>0.093807</td>\n",
       "      <td>0.087485</td>\n",
       "      <td>0.050639</td>\n",
       "      <td>0.057347</td>\n",
       "      <td>0.057369</td>\n",
       "      <td>-0.202066</td>\n",
       "    </tr>\n",
       "  </tbody>\n",
       "</table>\n",
       "</div>"
      ],
      "text/plain": [
       "  date_month       1-3     13-24       24+       4-6      7-12  genpop_churn  \\\n",
       "0 2022-01-01  0.192129  0.028824  0.229469  0.081865  0.057773      0.063471   \n",
       "1 2022-02-01  0.165079  0.031541  0.157993  0.072954  0.058365      0.063400   \n",
       "2 2022-03-01  0.170824  0.028085  0.128592  0.072817  0.054829      0.063941   \n",
       "3 2022-04-01  0.173515  0.030156  0.112919  0.090221  0.054369      0.064181   \n",
       "4 2022-05-01  0.189630  0.031008  0.093807  0.087485  0.050639      0.057347   \n",
       "\n",
       "   churn_exclude_t1  change_in_churn  \n",
       "0          0.063595        -0.253982  \n",
       "1          0.063464        -0.220460  \n",
       "2          0.063978        -0.222606  \n",
       "3          0.064210        -0.197455  \n",
       "4          0.057369        -0.202066  "
      ]
     },
     "execution_count": 115,
     "metadata": {},
     "output_type": "execute_result"
    }
   ],
   "source": [
    "churn_bucekts_all.head()"
   ]
  },
  {
   "cell_type": "code",
   "execution_count": 116,
   "id": "7df15678",
   "metadata": {},
   "outputs": [],
   "source": []
  },
  {
   "cell_type": "code",
   "execution_count": 150,
   "id": "1d421683",
   "metadata": {},
   "outputs": [],
   "source": [
    "churn_bucekts_all = churn_bucekts_all[FEATURE_COLS+['change_in_churn','date_month']]\n",
    "churn_bucekts_all['month'] = 'Norm' \n",
    "churn_bucekts_all.loc[churn_bucekts_all['change_in_churn']<-0.22, 'month'] = 'Retention'\n",
    "churn_bucekts_all.loc[churn_bucekts_all['change_in_churn']>-0.2, 'month'] = 'Churn'"
   ]
  },
  {
   "cell_type": "code",
   "execution_count": 151,
   "id": "dc2d55b1",
   "metadata": {},
   "outputs": [
    {
     "data": {
      "text/html": [
       "<div>\n",
       "<style scoped>\n",
       "    .dataframe tbody tr th:only-of-type {\n",
       "        vertical-align: middle;\n",
       "    }\n",
       "\n",
       "    .dataframe tbody tr th {\n",
       "        vertical-align: top;\n",
       "    }\n",
       "\n",
       "    .dataframe thead th {\n",
       "        text-align: right;\n",
       "    }\n",
       "</style>\n",
       "<table border=\"1\" class=\"dataframe\">\n",
       "  <thead>\n",
       "    <tr style=\"text-align: right;\">\n",
       "      <th></th>\n",
       "      <th>month</th>\n",
       "      <th>Month 1</th>\n",
       "      <th>Month 2</th>\n",
       "      <th>Month 3</th>\n",
       "      <th>Month 4-6</th>\n",
       "      <th>Month 7-12</th>\n",
       "      <th>Month 13+</th>\n",
       "      <th>genpop_churn</th>\n",
       "      <th>change_in_churn</th>\n",
       "    </tr>\n",
       "  </thead>\n",
       "  <tbody>\n",
       "    <tr>\n",
       "      <th>0</th>\n",
       "      <td>Churn</td>\n",
       "      <td>0.249642</td>\n",
       "      <td>0.170739</td>\n",
       "      <td>0.128900</td>\n",
       "      <td>0.091339</td>\n",
       "      <td>0.055460</td>\n",
       "      <td>0.032262</td>\n",
       "      <td>0.061384</td>\n",
       "      <td>-0.196413</td>\n",
       "    </tr>\n",
       "    <tr>\n",
       "      <th>1</th>\n",
       "      <td>Norm</td>\n",
       "      <td>0.235143</td>\n",
       "      <td>0.159899</td>\n",
       "      <td>0.134253</td>\n",
       "      <td>0.096601</td>\n",
       "      <td>0.058609</td>\n",
       "      <td>0.032759</td>\n",
       "      <td>0.060351</td>\n",
       "      <td>-0.205003</td>\n",
       "    </tr>\n",
       "    <tr>\n",
       "      <th>2</th>\n",
       "      <td>Retention</td>\n",
       "      <td>0.230074</td>\n",
       "      <td>0.150188</td>\n",
       "      <td>0.116070</td>\n",
       "      <td>0.075879</td>\n",
       "      <td>0.056989</td>\n",
       "      <td>0.029795</td>\n",
       "      <td>0.063604</td>\n",
       "      <td>-0.232350</td>\n",
       "    </tr>\n",
       "  </tbody>\n",
       "</table>\n",
       "</div>"
      ],
      "text/plain": [
       "       month   Month 1   Month 2   Month 3  Month 4-6  Month 7-12  Month 13+  \\\n",
       "0      Churn  0.249642  0.170739  0.128900   0.091339    0.055460   0.032262   \n",
       "1       Norm  0.235143  0.159899  0.134253   0.096601    0.058609   0.032759   \n",
       "2  Retention  0.230074  0.150188  0.116070   0.075879    0.056989   0.029795   \n",
       "\n",
       "   genpop_churn  change_in_churn  \n",
       "0      0.061384        -0.196413  \n",
       "1      0.060351        -0.205003  \n",
       "2      0.063604        -0.232350  "
      ]
     },
     "execution_count": 151,
     "metadata": {},
     "output_type": "execute_result"
    }
   ],
   "source": [
    "churn_bucekts_all.groupby(['month']).mean().reset_index()"
   ]
  },
  {
   "cell_type": "markdown",
   "id": "67ab6c2b",
   "metadata": {},
   "source": [
    "#### Write to S3/SF"
   ]
  },
  {
   "cell_type": "code",
   "execution_count": 89,
   "id": "2a1935a8",
   "metadata": {},
   "outputs": [
    {
     "name": "stderr",
     "output_type": "stream",
     "text": [
      "/home/ec2-user/anaconda3/envs/python3/lib/python3.6/site-packages/boto3/compat.py:88: PythonDeprecationWarning:\n",
      "\n",
      "Boto3 will no longer support Python 3.6 starting May 30, 2022. To continue receiving service updates, bug fixes, and security updates please upgrade to Python 3.7 or later. More information can be found here: https://aws.amazon.com/blogs/developer/python-support-policy-updates-for-aws-sdks-and-tools/\n",
      "\n"
     ]
    }
   ],
   "source": [
    "from abc import ABCMeta, abstractmethod\n",
    "\n",
    "class Credentials(metaclass=ABCMeta):\n",
    "    pass\n",
    "    \n",
    "    \n",
    "class SSMPSCredentials(Credentials):\n",
    "    def __init__(self, secretid: str):\n",
    "        self._secretid = secretid\n",
    "        self._secrets = {}\n",
    "        \n",
    "    def get_keys(self):\n",
    "        \"\"\"\n",
    "        credential fetching \n",
    "        \"\"\"\n",
    "        _aws_sm_args = {'service_name': 'secretsmanager', 'region_name': 'us-east-1'}\n",
    "        secrets_client = boto3.client(**_aws_sm_args)\n",
    "        get_secret_value_response = secrets_client.get_secret_value(SecretId=self._secretid)\n",
    "        return get_secret_value_response\n",
    "    \n",
    "    \n",
    "class BaseConnector(metaclass=ABCMeta):\n",
    "    @abstractmethod\n",
    "    def connect(self):\n",
    "        raise NotImplementedError\n",
    "    \n",
    "\n",
    "class SnowflakeConnector(BaseConnector):\n",
    "    def __init__(self, credentials: Credentials):\n",
    "        keys = credentials.get_keys()\n",
    "        self._secrets = json.loads(keys.get('SecretString', \"{}\"))\n",
    "\n",
    "    def connect(self, dbname: str, schema: str = 'DEFAULT'):\n",
    "        ctx = snowflake.connector.connect(\n",
    "            user=self._secrets['login_name'],\n",
    "            password=self._secrets['login_password'],\n",
    "            account=self._secrets['account'],\n",
    "            warehouse=self._secrets['warehouse'],\n",
    "            database=dbname,\n",
    "            schema=schema\n",
    "        )\n",
    "\n",
    "        return ctx\n",
    "    \n",
    "## Credentials\n",
    "SF_CREDS = 'datascience-max-dev-sagemaker-notebooks'\n",
    "\n",
    "## Snowflake connection \n",
    "conn=SnowflakeConnector(SSMPSCredentials(SF_CREDS))\n",
    "ctx=conn.connect(\"MAX_DEV\",\"WORKSPACE\")\n",
    "\n",
    "def run_query(query):\n",
    "    cursor = ctx.cursor()\n",
    "    cursor.execute(query)\n",
    "    df = pd.DataFrame(cursor.fetchall(), columns = [desc[0] for desc in cursor.description])\n",
    "    df.columns= df.columns.str.lower()\n",
    "    return df"
   ]
  },
  {
   "cell_type": "code",
   "execution_count": 90,
   "id": "67bf755b",
   "metadata": {},
   "outputs": [],
   "source": [
    "import boto3\n",
    "import io\n",
    "\n",
    "def to_s3(filename, output_bucket, content):\n",
    "    client = boto3.client('s3')\n",
    "    client.put_object(Bucket=output_bucket, Key=filename, Body=content)\n",
    "    \n",
    "output_bucket = 'hbo-outbound-datascience-content-dev'\n",
    "s3 = boto3.resource('s3')\n",
    "bucket = s3.Bucket(output_bucket)\n",
    "\n",
    "def write_to_sf(df, file_name):\n",
    "    csv_buffer = io.StringIO()\n",
    "    df.to_csv(csv_buffer, index = False)\n",
    "    content = csv_buffer.getvalue()\n",
    "    filename = 'title_hours_viewed_retention/{}.csv'.format(file_name)\n",
    "    to_s3(filename, output_bucket, content)"
   ]
  },
  {
   "cell_type": "code",
   "execution_count": 91,
   "id": "107fce66",
   "metadata": {},
   "outputs": [
    {
     "data": {
      "text/html": [
       "<div>\n",
       "<style scoped>\n",
       "    .dataframe tbody tr th:only-of-type {\n",
       "        vertical-align: middle;\n",
       "    }\n",
       "\n",
       "    .dataframe tbody tr th {\n",
       "        vertical-align: top;\n",
       "    }\n",
       "\n",
       "    .dataframe thead th {\n",
       "        text-align: right;\n",
       "    }\n",
       "</style>\n",
       "<table border=\"1\" class=\"dataframe\">\n",
       "  <thead>\n",
       "    <tr style=\"text-align: right;\">\n",
       "      <th></th>\n",
       "      <th>title_name</th>\n",
       "      <th>title_id</th>\n",
       "      <th>season_number</th>\n",
       "      <th>genre</th>\n",
       "      <th>medal</th>\n",
       "      <th>offering_start_date</th>\n",
       "      <th>request_date</th>\n",
       "      <th>days_on_hbo_max</th>\n",
       "      <th>change_in_churn</th>\n",
       "      <th>average_hours_viewed_60d</th>\n",
       "      <th>churn_per_hr_person</th>\n",
       "      <th>change_in_churn_60d</th>\n",
       "      <th>asset_run_time_hours</th>\n",
       "      <th>date_month</th>\n",
       "    </tr>\n",
       "  </thead>\n",
       "  <tbody>\n",
       "    <tr>\n",
       "      <th>0</th>\n",
       "      <td>Jeepers Creepers</td>\n",
       "      <td>GV7tyFwyT5IORngEAAAAy</td>\n",
       "      <td>0</td>\n",
       "      <td>other</td>\n",
       "      <td>Bronze</td>\n",
       "      <td>2020-07-01</td>\n",
       "      <td>2020-07-01</td>\n",
       "      <td>0</td>\n",
       "      <td>-0.000036</td>\n",
       "      <td>0.012255</td>\n",
       "      <td>-0.033936</td>\n",
       "      <td>-0.000416</td>\n",
       "      <td>1.516111</td>\n",
       "      <td>2020-07</td>\n",
       "    </tr>\n",
       "    <tr>\n",
       "      <th>1</th>\n",
       "      <td>Jeepers Creepers</td>\n",
       "      <td>GV7tyFwyT5IORngEAAAAy</td>\n",
       "      <td>0</td>\n",
       "      <td>other</td>\n",
       "      <td>Bronze</td>\n",
       "      <td>2020-07-01</td>\n",
       "      <td>2020-07-02</td>\n",
       "      <td>1</td>\n",
       "      <td>-0.000033</td>\n",
       "      <td>0.012255</td>\n",
       "      <td>-0.033936</td>\n",
       "      <td>-0.000416</td>\n",
       "      <td>1.516111</td>\n",
       "      <td>2020-07</td>\n",
       "    </tr>\n",
       "    <tr>\n",
       "      <th>2</th>\n",
       "      <td>Jeepers Creepers</td>\n",
       "      <td>GV7tyFwyT5IORngEAAAAy</td>\n",
       "      <td>0</td>\n",
       "      <td>other</td>\n",
       "      <td>Bronze</td>\n",
       "      <td>2020-07-01</td>\n",
       "      <td>2020-07-03</td>\n",
       "      <td>2</td>\n",
       "      <td>-0.000031</td>\n",
       "      <td>0.012255</td>\n",
       "      <td>-0.033936</td>\n",
       "      <td>-0.000416</td>\n",
       "      <td>1.516111</td>\n",
       "      <td>2020-07</td>\n",
       "    </tr>\n",
       "    <tr>\n",
       "      <th>3</th>\n",
       "      <td>Jeepers Creepers</td>\n",
       "      <td>GV7tyFwyT5IORngEAAAAy</td>\n",
       "      <td>0</td>\n",
       "      <td>other</td>\n",
       "      <td>Bronze</td>\n",
       "      <td>2020-07-01</td>\n",
       "      <td>2020-07-04</td>\n",
       "      <td>3</td>\n",
       "      <td>-0.000029</td>\n",
       "      <td>0.012255</td>\n",
       "      <td>-0.033936</td>\n",
       "      <td>-0.000416</td>\n",
       "      <td>1.516111</td>\n",
       "      <td>2020-07</td>\n",
       "    </tr>\n",
       "    <tr>\n",
       "      <th>4</th>\n",
       "      <td>Jeepers Creepers</td>\n",
       "      <td>GV7tyFwyT5IORngEAAAAy</td>\n",
       "      <td>0</td>\n",
       "      <td>other</td>\n",
       "      <td>Bronze</td>\n",
       "      <td>2020-07-01</td>\n",
       "      <td>2020-07-05</td>\n",
       "      <td>4</td>\n",
       "      <td>-0.000028</td>\n",
       "      <td>0.012255</td>\n",
       "      <td>-0.033936</td>\n",
       "      <td>-0.000416</td>\n",
       "      <td>1.516111</td>\n",
       "      <td>2020-07</td>\n",
       "    </tr>\n",
       "  </tbody>\n",
       "</table>\n",
       "</div>"
      ],
      "text/plain": [
       "         title_name               title_id  season_number  genre   medal  \\\n",
       "0  Jeepers Creepers  GV7tyFwyT5IORngEAAAAy              0  other  Bronze   \n",
       "1  Jeepers Creepers  GV7tyFwyT5IORngEAAAAy              0  other  Bronze   \n",
       "2  Jeepers Creepers  GV7tyFwyT5IORngEAAAAy              0  other  Bronze   \n",
       "3  Jeepers Creepers  GV7tyFwyT5IORngEAAAAy              0  other  Bronze   \n",
       "4  Jeepers Creepers  GV7tyFwyT5IORngEAAAAy              0  other  Bronze   \n",
       "\n",
       "  offering_start_date request_date  days_on_hbo_max  change_in_churn  \\\n",
       "0          2020-07-01   2020-07-01                0        -0.000036   \n",
       "1          2020-07-01   2020-07-02                1        -0.000033   \n",
       "2          2020-07-01   2020-07-03                2        -0.000031   \n",
       "3          2020-07-01   2020-07-04                3        -0.000029   \n",
       "4          2020-07-01   2020-07-05                4        -0.000028   \n",
       "\n",
       "   average_hours_viewed_60d  churn_per_hr_person  change_in_churn_60d  \\\n",
       "0                  0.012255            -0.033936            -0.000416   \n",
       "1                  0.012255            -0.033936            -0.000416   \n",
       "2                  0.012255            -0.033936            -0.000416   \n",
       "3                  0.012255            -0.033936            -0.000416   \n",
       "4                  0.012255            -0.033936            -0.000416   \n",
       "\n",
       "   asset_run_time_hours date_month  \n",
       "0              1.516111    2020-07  \n",
       "1              1.516111    2020-07  \n",
       "2              1.516111    2020-07  \n",
       "3              1.516111    2020-07  \n",
       "4              1.516111    2020-07  "
      ]
     },
     "execution_count": 91,
     "metadata": {},
     "output_type": "execute_result"
    }
   ],
   "source": [
    "data.head()"
   ]
  },
  {
   "cell_type": "code",
   "execution_count": 137,
   "id": "56effb73",
   "metadata": {},
   "outputs": [],
   "source": [
    "# data.to_csv('daily_monthly_retention_value.csv')"
   ]
  },
  {
   "cell_type": "code",
   "execution_count": 138,
   "id": "5b16a7bf",
   "metadata": {},
   "outputs": [
    {
     "data": {
      "text/plain": [
       "'daily_monthly_retention_value_2023-09-14'"
      ]
     },
     "execution_count": 138,
     "metadata": {},
     "output_type": "execute_result"
    }
   ],
   "source": [
    "'daily_monthly_retention_value_'+pd.Timestamp.today().strftime('%Y-%m-%d') "
   ]
  },
  {
   "cell_type": "code",
   "execution_count": 139,
   "id": "bd56bf6a",
   "metadata": {},
   "outputs": [
    {
     "name": "stderr",
     "output_type": "stream",
     "text": [
      "/home/ec2-user/anaconda3/envs/python3/lib/python3.6/site-packages/boto3/compat.py:88: PythonDeprecationWarning: Boto3 will no longer support Python 3.6 starting May 30, 2022. To continue receiving service updates, bug fixes, and security updates please upgrade to Python 3.7 or later. More information can be found here: https://aws.amazon.com/blogs/developer/python-support-policy-updates-for-aws-sdks-and-tools/\n",
      "  warnings.warn(warning, PythonDeprecationWarning)\n"
     ]
    }
   ],
   "source": [
    "filename = 'daily_monthly_retention_value_'+pd.Timestamp.today().strftime('%Y-%m-%d')\n",
    "write_to_sf(data,  filename)"
   ]
  },
  {
   "cell_type": "code",
   "execution_count": 140,
   "id": "451bb2d7",
   "metadata": {},
   "outputs": [
    {
     "data": {
      "text/plain": [
       "'hbo-outbound-datascience-content-dev/title_hours_viewed_retention/daily_monthly_retention_value_2023-09-14.csv'"
      ]
     },
     "execution_count": 140,
     "metadata": {},
     "output_type": "execute_result"
    }
   ],
   "source": [
    "output_bucket+'/title_hours_viewed_retention/{}.csv'.format(filename)"
   ]
  },
  {
   "cell_type": "code",
   "execution_count": 141,
   "id": "cbe0be7c",
   "metadata": {},
   "outputs": [],
   "source": [
    "data[data['date_month'] == '2023-01'].groupby(['title_name', 'title_id', 'season_number', 'offering_start_date']).mean().reset_index()\\\n",
    ".sort_values(by = ['change_in_churn']).to_csv('2023-01_rank.csv')"
   ]
  },
  {
   "cell_type": "code",
   "execution_count": null,
   "id": "929aff8b",
   "metadata": {},
   "outputs": [],
   "source": []
  }
 ],
 "metadata": {
  "kernelspec": {
   "display_name": "conda_python3",
   "language": "python",
   "name": "conda_python3"
  },
  "language_info": {
   "codemirror_mode": {
    "name": "ipython",
    "version": 3
   },
   "file_extension": ".py",
   "mimetype": "text/x-python",
   "name": "python",
   "nbconvert_exporter": "python",
   "pygments_lexer": "ipython3",
   "version": "3.6.13"
  }
 },
 "nbformat": 4,
 "nbformat_minor": 5
}
