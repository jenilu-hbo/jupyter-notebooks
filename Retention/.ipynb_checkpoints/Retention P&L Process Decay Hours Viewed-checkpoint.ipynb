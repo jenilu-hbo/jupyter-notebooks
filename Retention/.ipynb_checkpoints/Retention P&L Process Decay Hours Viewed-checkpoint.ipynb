{
 "cells": [
  {
   "cell_type": "code",
   "execution_count": 1,
   "id": "b8694743",
   "metadata": {},
   "outputs": [],
   "source": [
    "import pandas as pd\n",
    "import numpy as np\n",
    "import itertools as it\n",
    "import os\n",
    "import io\n",
    "import logging\n",
    "\n",
    "import boto3\n",
    "import sys\n",
    "import json\n",
    "import snowflake.connector"
   ]
  },
  {
   "cell_type": "markdown",
   "id": "79c5e2c5",
   "metadata": {},
   "source": [
    "# Reading Data "
   ]
  },
  {
   "cell_type": "code",
   "execution_count": 2,
   "id": "35753972",
   "metadata": {},
   "outputs": [],
   "source": [
    "input_bucket = \"hbo-ingest-datascience-content-dev\""
   ]
  },
  {
   "cell_type": "code",
   "execution_count": 3,
   "id": "da048fcb",
   "metadata": {},
   "outputs": [
    {
     "name": "stderr",
     "output_type": "stream",
     "text": [
      "/home/ec2-user/anaconda3/envs/python3/lib/python3.6/site-packages/boto3/compat.py:88: PythonDeprecationWarning: Boto3 will no longer support Python 3.6 starting May 30, 2022. To continue receiving service updates, bug fixes, and security updates please upgrade to Python 3.7 or later. More information can be found here: https://aws.amazon.com/blogs/developer/python-support-policy-updates-for-aws-sdks-and-tools/\n",
      "  warnings.warn(warning, PythonDeprecationWarning)\n"
     ]
    },
    {
     "name": "stdout",
     "output_type": "stream",
     "text": [
      "Reading cost_allocation/dev/churn_metric_0906.csv features\n"
     ]
    }
   ],
   "source": [
    "logger = logging.getLogger()\n",
    "logger.info(f'Loading inputs')\n",
    "data_list =[]\n",
    "\n",
    "s3 = boto3.resource('s3')\n",
    "bucket = s3.Bucket(input_bucket)\n",
    "\n",
    "for obj in bucket.objects.filter(Prefix='cost_allocation/dev/churn_metric_0906'): #churn_metric_0811\n",
    "            key = obj.key\n",
    "            logger.info('Loading csv file {}'.format(key))\n",
    "            body = obj.get()['Body']\n",
    "            print('Reading {0} features'.format(key))\n",
    "            churn_metric = pd.read_csv(body, na_values = [r'\\\\\\\\N'])"
   ]
  },
  {
   "cell_type": "code",
   "execution_count": 4,
   "id": "b9dfeedb",
   "metadata": {},
   "outputs": [
    {
     "data": {
      "text/html": [
       "<div>\n",
       "<style scoped>\n",
       "    .dataframe tbody tr th:only-of-type {\n",
       "        vertical-align: middle;\n",
       "    }\n",
       "\n",
       "    .dataframe tbody tr th {\n",
       "        vertical-align: top;\n",
       "    }\n",
       "\n",
       "    .dataframe thead th {\n",
       "        text-align: right;\n",
       "    }\n",
       "</style>\n",
       "<table border=\"1\" class=\"dataframe\">\n",
       "  <thead>\n",
       "    <tr style=\"text-align: right;\">\n",
       "      <th></th>\n",
       "      <th>Unnamed: 0</th>\n",
       "      <th>genre</th>\n",
       "      <th>medal</th>\n",
       "      <th>category</th>\n",
       "      <th>churn_per_hr_person</th>\n",
       "    </tr>\n",
       "  </thead>\n",
       "  <tbody>\n",
       "    <tr>\n",
       "      <th>0</th>\n",
       "      <td>0</td>\n",
       "      <td>action</td>\n",
       "      <td>Platinum</td>\n",
       "      <td>movies</td>\n",
       "      <td>-0.028358</td>\n",
       "    </tr>\n",
       "    <tr>\n",
       "      <th>1</th>\n",
       "      <td>1</td>\n",
       "      <td>action</td>\n",
       "      <td>Gold</td>\n",
       "      <td>series</td>\n",
       "      <td>-0.020530</td>\n",
       "    </tr>\n",
       "    <tr>\n",
       "      <th>2</th>\n",
       "      <td>2</td>\n",
       "      <td>action</td>\n",
       "      <td>Gold</td>\n",
       "      <td>movies</td>\n",
       "      <td>-0.027117</td>\n",
       "    </tr>\n",
       "    <tr>\n",
       "      <th>3</th>\n",
       "      <td>3</td>\n",
       "      <td>action</td>\n",
       "      <td>Silver</td>\n",
       "      <td>series</td>\n",
       "      <td>-0.005406</td>\n",
       "    </tr>\n",
       "    <tr>\n",
       "      <th>4</th>\n",
       "      <td>4</td>\n",
       "      <td>action</td>\n",
       "      <td>Silver</td>\n",
       "      <td>movies</td>\n",
       "      <td>-0.019190</td>\n",
       "    </tr>\n",
       "  </tbody>\n",
       "</table>\n",
       "</div>"
      ],
      "text/plain": [
       "   Unnamed: 0   genre     medal category  churn_per_hr_person\n",
       "0           0  action  Platinum   movies            -0.028358\n",
       "1           1  action      Gold   series            -0.020530\n",
       "2           2  action      Gold   movies            -0.027117\n",
       "3           3  action    Silver   series            -0.005406\n",
       "4           4  action    Silver   movies            -0.019190"
      ]
     },
     "execution_count": 4,
     "metadata": {},
     "output_type": "execute_result"
    }
   ],
   "source": [
    "churn_metric.head()"
   ]
  },
  {
   "cell_type": "code",
   "execution_count": 5,
   "id": "2c5c5723",
   "metadata": {},
   "outputs": [
    {
     "name": "stderr",
     "output_type": "stream",
     "text": [
      "/home/ec2-user/anaconda3/envs/python3/lib/python3.6/site-packages/boto3/compat.py:88: PythonDeprecationWarning: Boto3 will no longer support Python 3.6 starting May 30, 2022. To continue receiving service updates, bug fixes, and security updates please upgrade to Python 3.7 or later. More information can be found here: https://aws.amazon.com/blogs/developer/python-support-policy-updates-for-aws-sdks-and-tools/\n",
      "  warnings.warn(warning, PythonDeprecationWarning)\n"
     ]
    }
   ],
   "source": [
    "from abc import ABCMeta, abstractmethod\n",
    "\n",
    "class Credentials(metaclass=ABCMeta):\n",
    "    pass\n",
    "    \n",
    "    \n",
    "class SSMPSCredentials(Credentials):\n",
    "    def __init__(self, secretid: str):\n",
    "        self._secretid = secretid\n",
    "        self._secrets = {}\n",
    "        \n",
    "    def get_keys(self):\n",
    "        \"\"\"\n",
    "        credential fetching \n",
    "        \"\"\"\n",
    "        _aws_sm_args = {'service_name': 'secretsmanager', 'region_name': 'us-east-1'}\n",
    "        secrets_client = boto3.client(**_aws_sm_args)\n",
    "        get_secret_value_response = secrets_client.get_secret_value(SecretId=self._secretid)\n",
    "        return get_secret_value_response\n",
    "    \n",
    "    \n",
    "class BaseConnector(metaclass=ABCMeta):\n",
    "    @abstractmethod\n",
    "    def connect(self):\n",
    "        raise NotImplementedError\n",
    "    \n",
    "\n",
    "class SnowflakeConnector(BaseConnector):\n",
    "    def __init__(self, credentials: Credentials):\n",
    "        keys = credentials.get_keys()\n",
    "        self._secrets = json.loads(keys.get('SecretString', \"{}\"))\n",
    "\n",
    "    def connect(self, dbname: str, schema: str = 'DEFAULT'):\n",
    "        ctx = snowflake.connector.connect(\n",
    "            user=self._secrets['login_name'],\n",
    "            password=self._secrets['login_password'],\n",
    "            account=self._secrets['account'],\n",
    "            warehouse=self._secrets['warehouse'],\n",
    "            database=dbname,\n",
    "            schema=schema\n",
    "        )\n",
    "\n",
    "        return ctx\n",
    "    \n",
    "## Credentials\n",
    "SF_CREDS = 'datascience-max-dev-sagemaker-notebooks'\n",
    "\n",
    "## Snowflake connection \n",
    "conn=SnowflakeConnector(SSMPSCredentials(SF_CREDS))\n",
    "ctx=conn.connect(\"MAX_DEV\",\"WORKSPACE\")\n",
    "\n",
    "def run_query(query):\n",
    "    cursor = ctx.cursor()\n",
    "    cursor.execute(query)\n",
    "    df = pd.DataFrame(cursor.fetchall(), columns = [desc[0] for desc in cursor.description])\n",
    "    df.columns= df.columns.str.lower()\n",
    "    return df"
   ]
  },
  {
   "cell_type": "code",
   "execution_count": 6,
   "id": "9c795f81",
   "metadata": {},
   "outputs": [],
   "source": [
    "# hours_viewed = run_query('''SELECT * FROM max_dev.workspace.user_title_hours_watched_crossvalidation''')"
   ]
  },
  {
   "cell_type": "code",
   "execution_count": 7,
   "id": "d4e0a63b",
   "metadata": {},
   "outputs": [],
   "source": [
    "hours_viewed = pd.read_csv('validation_data.csv')"
   ]
  },
  {
   "cell_type": "code",
   "execution_count": 8,
   "id": "fdb22b3b",
   "metadata": {},
   "outputs": [],
   "source": [
    "hours_viewed = hours_viewed[['title_name', 'title_id', 'season_number', 'offering_start_date' , 'ahvr', 'pillar_genre', 'medal', 'content_category', 'asset_run_time_hours']]"
   ]
  },
  {
   "cell_type": "code",
   "execution_count": 9,
   "id": "b73221f5",
   "metadata": {},
   "outputs": [],
   "source": [
    "hours_viewed.rename(columns = {'ahvr':'average_hours_viewed_60d', 'pillar_genre': 'genre', 'content_category':'category'}, inplace = True)"
   ]
  },
  {
   "cell_type": "code",
   "execution_count": 10,
   "id": "480032c8",
   "metadata": {},
   "outputs": [
    {
     "data": {
      "text/plain": [
       "array(['movies', 'series', 'special', nan, 'livesports'], dtype=object)"
      ]
     },
     "execution_count": 10,
     "metadata": {},
     "output_type": "execute_result"
    }
   ],
   "source": [
    "hours_viewed.category.unique()"
   ]
  },
  {
   "cell_type": "code",
   "execution_count": 11,
   "id": "81beb4fb",
   "metadata": {},
   "outputs": [
    {
     "data": {
      "text/plain": [
       "array(['movies', 'series'], dtype=object)"
      ]
     },
     "execution_count": 11,
     "metadata": {},
     "output_type": "execute_result"
    }
   ],
   "source": [
    "churn_metric.category.unique()"
   ]
  },
  {
   "cell_type": "code",
   "execution_count": 12,
   "id": "64c65bc1",
   "metadata": {},
   "outputs": [],
   "source": [
    "hours_viewed.loc[hours_viewed['genre'] == 'Action/Adventure ', 'genre'] = 'action'\n",
    "hours_viewed.loc[hours_viewed['genre'] == 'Comedy', 'genre'] = 'comedy'\n",
    "hours_viewed.loc[hours_viewed['genre'] == 'Drama', 'genre'] = 'drama'\n",
    "hours_viewed.loc[~hours_viewed['genre'].isin(['action', 'comedy', 'drama']), 'genre'] = 'other'\n",
    "\n",
    "hours_viewed.loc[hours_viewed['medal'] == 'None', 'medal'] = 'Bronze'\n",
    "\n",
    "hours_viewed.loc[hours_viewed['category'] == 'special', 'category'] = 'movies'"
   ]
  },
  {
   "cell_type": "code",
   "execution_count": 13,
   "id": "b4506455",
   "metadata": {},
   "outputs": [],
   "source": [
    "hours_viewed = hours_viewed.merge(churn_metric[['genre','medal','category', 'churn_per_hr_person']], on = ['genre','medal','category'])"
   ]
  },
  {
   "cell_type": "code",
   "execution_count": 14,
   "id": "2b0e960c",
   "metadata": {},
   "outputs": [],
   "source": [
    "hours_viewed['change_in_churn_60d'] = hours_viewed['average_hours_viewed_60d'] * hours_viewed['churn_per_hr_person']"
   ]
  },
  {
   "cell_type": "code",
   "execution_count": 22,
   "id": "8ce3b844",
   "metadata": {},
   "outputs": [],
   "source": [
    "hours_viewed_thresh = hours_viewed[hours_viewed['average_hours_viewed_60d'] >= 0.01]"
   ]
  },
  {
   "cell_type": "code",
   "execution_count": 23,
   "id": "4126d99c",
   "metadata": {},
   "outputs": [
    {
     "data": {
      "text/html": [
       "<div>\n",
       "<style scoped>\n",
       "    .dataframe tbody tr th:only-of-type {\n",
       "        vertical-align: middle;\n",
       "    }\n",
       "\n",
       "    .dataframe tbody tr th {\n",
       "        vertical-align: top;\n",
       "    }\n",
       "\n",
       "    .dataframe thead th {\n",
       "        text-align: right;\n",
       "    }\n",
       "</style>\n",
       "<table border=\"1\" class=\"dataframe\">\n",
       "  <thead>\n",
       "    <tr style=\"text-align: right;\">\n",
       "      <th></th>\n",
       "      <th>Unnamed: 0</th>\n",
       "      <th>genre</th>\n",
       "      <th>medal</th>\n",
       "      <th>category</th>\n",
       "      <th>churn_per_hr_person</th>\n",
       "    </tr>\n",
       "  </thead>\n",
       "  <tbody>\n",
       "    <tr>\n",
       "      <th>0</th>\n",
       "      <td>0</td>\n",
       "      <td>action</td>\n",
       "      <td>Platinum</td>\n",
       "      <td>movies</td>\n",
       "      <td>-0.028358</td>\n",
       "    </tr>\n",
       "    <tr>\n",
       "      <th>1</th>\n",
       "      <td>1</td>\n",
       "      <td>action</td>\n",
       "      <td>Gold</td>\n",
       "      <td>series</td>\n",
       "      <td>-0.020530</td>\n",
       "    </tr>\n",
       "    <tr>\n",
       "      <th>2</th>\n",
       "      <td>2</td>\n",
       "      <td>action</td>\n",
       "      <td>Gold</td>\n",
       "      <td>movies</td>\n",
       "      <td>-0.027117</td>\n",
       "    </tr>\n",
       "    <tr>\n",
       "      <th>3</th>\n",
       "      <td>3</td>\n",
       "      <td>action</td>\n",
       "      <td>Silver</td>\n",
       "      <td>series</td>\n",
       "      <td>-0.005406</td>\n",
       "    </tr>\n",
       "    <tr>\n",
       "      <th>4</th>\n",
       "      <td>4</td>\n",
       "      <td>action</td>\n",
       "      <td>Silver</td>\n",
       "      <td>movies</td>\n",
       "      <td>-0.019190</td>\n",
       "    </tr>\n",
       "  </tbody>\n",
       "</table>\n",
       "</div>"
      ],
      "text/plain": [
       "   Unnamed: 0   genre     medal category  churn_per_hr_person\n",
       "0           0  action  Platinum   movies            -0.028358\n",
       "1           1  action      Gold   series            -0.020530\n",
       "2           2  action      Gold   movies            -0.027117\n",
       "3           3  action    Silver   series            -0.005406\n",
       "4           4  action    Silver   movies            -0.019190"
      ]
     },
     "execution_count": 23,
     "metadata": {},
     "output_type": "execute_result"
    }
   ],
   "source": [
    "churn_metric.head()"
   ]
  },
  {
   "cell_type": "markdown",
   "id": "b9cdf6a1",
   "metadata": {},
   "source": [
    "# Allocate the 60-Day Churn to monthly"
   ]
  },
  {
   "cell_type": "code",
   "execution_count": 24,
   "id": "c4f0c98e",
   "metadata": {},
   "outputs": [],
   "source": [
    "ever_green_titles = pd.read_csv('final_evergreen_title_list.csv') #final_evergreen_title_list.csv # ever_green_titles.csv"
   ]
  },
  {
   "cell_type": "code",
   "execution_count": 25,
   "id": "648c17d6",
   "metadata": {},
   "outputs": [
    {
     "data": {
      "text/plain": [
       "11"
      ]
     },
     "execution_count": 25,
     "metadata": {},
     "output_type": "execute_result"
    }
   ],
   "source": [
    "len(ever_green_titles.title_id.unique())"
   ]
  },
  {
   "cell_type": "code",
   "execution_count": 26,
   "id": "bc17b7d0",
   "metadata": {},
   "outputs": [
    {
     "data": {
      "text/plain": [
       "740"
      ]
     },
     "execution_count": 26,
     "metadata": {},
     "output_type": "execute_result"
    }
   ],
   "source": [
    "len(hours_viewed_thresh.title_id.unique())"
   ]
  },
  {
   "cell_type": "code",
   "execution_count": 27,
   "id": "ac561633",
   "metadata": {},
   "outputs": [
    {
     "data": {
      "text/plain": [
       "array(['American Pie', 'Annabelle Comes Home', 'Curb Your Enthusiasm',\n",
       "       'Friends', 'Game of Thrones', 'Pretty Little Liars',\n",
       "       'Sex and the City', 'The Big Bang Theory', 'The Sopranos',\n",
       "       'War Dogs', 'X-Men: Dark Phoenix'], dtype=object)"
      ]
     },
     "execution_count": 27,
     "metadata": {},
     "output_type": "execute_result"
    }
   ],
   "source": [
    "ever_green_titles.sort_values(by = ['title_name']).title_name.unique()"
   ]
  },
  {
   "cell_type": "code",
   "execution_count": 28,
   "id": "cc470a71",
   "metadata": {},
   "outputs": [],
   "source": [
    "ever_green_title_id = ever_green_titles.title_id.unique()\n",
    "norm_title_id = hours_viewed_thresh[~hours_viewed_thresh['title_id'].isin(ever_green_title_id)].title_id.unique()"
   ]
  },
  {
   "cell_type": "markdown",
   "id": "ccf80129",
   "metadata": {},
   "source": [
    "### 1. Normal Titles"
   ]
  },
  {
   "cell_type": "code",
   "execution_count": 29,
   "id": "52141671",
   "metadata": {},
   "outputs": [],
   "source": [
    "import matplotlib.pyplot as plt\n",
    "from matplotlib.pyplot import figure"
   ]
  },
  {
   "cell_type": "code",
   "execution_count": 30,
   "id": "6767fc61",
   "metadata": {},
   "outputs": [],
   "source": [
    "from scipy.optimize import curve_fit"
   ]
  },
  {
   "cell_type": "code",
   "execution_count": 31,
   "id": "b391fbc5",
   "metadata": {},
   "outputs": [],
   "source": [
    "historical_weekly_hours_viewed = pd.read_csv('historical_weekly_hours_viewed.csv')"
   ]
  },
  {
   "cell_type": "code",
   "execution_count": 32,
   "id": "1f3ac3b4",
   "metadata": {},
   "outputs": [],
   "source": [
    "def func(x, a, b, c):\n",
    "    return a * np.exp(-b * x) + c"
   ]
  },
  {
   "cell_type": "code",
   "execution_count": 34,
   "id": "0e5dd22f",
   "metadata": {},
   "outputs": [
    {
     "name": "stderr",
     "output_type": "stream",
     "text": [
      "/home/ec2-user/anaconda3/envs/python3/lib/python3.6/site-packages/pandas/core/series.py:726: RuntimeWarning: overflow encountered in exp\n",
      "  result = getattr(ufunc, method)(*inputs, **kwargs)\n"
     ]
    }
   ],
   "source": [
    "train_data = historical_weekly_hours_viewed.copy()\n",
    "##### TRAIN FOR MOVIE ############\n",
    "x1 = (train_data[train_data['content_category'] == 'movies']['days_on_hbo_max'])\n",
    "y1 = train_data[train_data['content_category'] == 'movies']['target']\n",
    "popt1, pcov1 = curve_fit(func, x1, y1)\n",
    "\n",
    "##### TRAIN FOR SERIES ############\n",
    "x2 = (train_data[train_data['content_category'] == 'series']['days_on_hbo_max'])\n",
    "y2 = train_data[train_data['content_category'] == 'series']['target']\n",
    "popt2, pcov2 = curve_fit(func, x2, y2)"
   ]
  },
  {
   "cell_type": "code",
   "execution_count": 37,
   "id": "2b3bea62",
   "metadata": {},
   "outputs": [],
   "source": [
    "x = pd.Series(np.arange(0,150,1))\n",
    "y1 = func(x, *popt1)\n",
    "y2 = func(x, *popt2)"
   ]
  },
  {
   "cell_type": "code",
   "execution_count": 38,
   "id": "f7e515b7",
   "metadata": {},
   "outputs": [
    {
     "data": {
      "image/png": "[encoded data removed]",
      "text/plain": [
       "<Figure size 1296x432 with 1 Axes>"
      ]
     },
     "metadata": {
      "needs_background": "light"
     },
     "output_type": "display_data"
    }
   ],
   "source": [
    "fig, ax = plt.subplots(figsize=(18, 6))\n",
    "plt.plot(x, y1, label = 'movie_decay')\n",
    "plt.plot(x, y2, label = 'series_decay')\n",
    "\n",
    "plt.legend()\n",
    "plt.show()"
   ]
  },
  {
   "cell_type": "code",
   "execution_count": 53,
   "id": "982a3ad7",
   "metadata": {},
   "outputs": [],
   "source": [
    "dt_df_movie = pd.DataFrame({'days_on_hbo_max': x,\n",
    "                           'factor': y1,\n",
    "                           'content_category': 'movies'})\n",
    "dt_df_series = pd.DataFrame({'days_on_hbo_max': x,\n",
    "                           'factor': y2,\n",
    "                           'content_category': 'series'})\n",
    "dt_df = pd.concat([dt_df_movie, dt_df_series], axis = 0)\n",
    "dt_df.rename(columns = {'content_category':'category'}, inplace = True)"
   ]
  },
  {
   "cell_type": "code",
   "execution_count": 54,
   "id": "d2c4fd4f",
   "metadata": {},
   "outputs": [],
   "source": [
    "day_60_cum_sum = dt_df[dt_df['days_on_hbo_max']<60].groupby(['category']).factor.sum().reset_index()"
   ]
  },
  {
   "cell_type": "code",
   "execution_count": 56,
   "id": "037009fd",
   "metadata": {},
   "outputs": [
    {
     "data": {
      "text/html": [
       "<div>\n",
       "<style scoped>\n",
       "    .dataframe tbody tr th:only-of-type {\n",
       "        vertical-align: middle;\n",
       "    }\n",
       "\n",
       "    .dataframe tbody tr th {\n",
       "        vertical-align: top;\n",
       "    }\n",
       "\n",
       "    .dataframe thead th {\n",
       "        text-align: right;\n",
       "    }\n",
       "</style>\n",
       "<table border=\"1\" class=\"dataframe\">\n",
       "  <thead>\n",
       "    <tr style=\"text-align: right;\">\n",
       "      <th></th>\n",
       "      <th>days_on_hbo_max</th>\n",
       "      <th>factor</th>\n",
       "      <th>category</th>\n",
       "    </tr>\n",
       "  </thead>\n",
       "  <tbody>\n",
       "    <tr>\n",
       "      <th>0</th>\n",
       "      <td>0</td>\n",
       "      <td>17.958630</td>\n",
       "      <td>movies</td>\n",
       "    </tr>\n",
       "    <tr>\n",
       "      <th>1</th>\n",
       "      <td>1</td>\n",
       "      <td>16.478661</td>\n",
       "      <td>movies</td>\n",
       "    </tr>\n",
       "    <tr>\n",
       "      <th>2</th>\n",
       "      <td>2</td>\n",
       "      <td>15.124960</td>\n",
       "      <td>movies</td>\n",
       "    </tr>\n",
       "    <tr>\n",
       "      <th>3</th>\n",
       "      <td>3</td>\n",
       "      <td>13.886754</td>\n",
       "      <td>movies</td>\n",
       "    </tr>\n",
       "    <tr>\n",
       "      <th>4</th>\n",
       "      <td>4</td>\n",
       "      <td>12.754190</td>\n",
       "      <td>movies</td>\n",
       "    </tr>\n",
       "  </tbody>\n",
       "</table>\n",
       "</div>"
      ],
      "text/plain": [
       "   days_on_hbo_max     factor category\n",
       "0                0  17.958630   movies\n",
       "1                1  16.478661   movies\n",
       "2                2  15.124960   movies\n",
       "3                3  13.886754   movies\n",
       "4                4  12.754190   movies"
      ]
     },
     "execution_count": 56,
     "metadata": {},
     "output_type": "execute_result"
    }
   ],
   "source": [
    "dt_df.head()"
   ]
  },
  {
   "cell_type": "code",
   "execution_count": 55,
   "id": "78c143a9",
   "metadata": {},
   "outputs": [
    {
     "data": {
      "text/html": [
       "<div>\n",
       "<style scoped>\n",
       "    .dataframe tbody tr th:only-of-type {\n",
       "        vertical-align: middle;\n",
       "    }\n",
       "\n",
       "    .dataframe tbody tr th {\n",
       "        vertical-align: top;\n",
       "    }\n",
       "\n",
       "    .dataframe thead th {\n",
       "        text-align: right;\n",
       "    }\n",
       "</style>\n",
       "<table border=\"1\" class=\"dataframe\">\n",
       "  <thead>\n",
       "    <tr style=\"text-align: right;\">\n",
       "      <th></th>\n",
       "      <th>category</th>\n",
       "      <th>factor</th>\n",
       "    </tr>\n",
       "  </thead>\n",
       "  <tbody>\n",
       "    <tr>\n",
       "      <th>0</th>\n",
       "      <td>movies</td>\n",
       "      <td>239.079810</td>\n",
       "    </tr>\n",
       "    <tr>\n",
       "      <th>1</th>\n",
       "      <td>series</td>\n",
       "      <td>146.401861</td>\n",
       "    </tr>\n",
       "  </tbody>\n",
       "</table>\n",
       "</div>"
      ],
      "text/plain": [
       "  category      factor\n",
       "0   movies  239.079810\n",
       "1   series  146.401861"
      ]
     },
     "execution_count": 55,
     "metadata": {},
     "output_type": "execute_result"
    }
   ],
   "source": [
    "day_60_cum_sum"
   ]
  },
  {
   "cell_type": "code",
   "execution_count": 57,
   "id": "c56baf38",
   "metadata": {},
   "outputs": [],
   "source": [
    "hours_viewed_decay_norm = hours_viewed_thresh[hours_viewed_thresh['title_id'].isin(norm_title_id)].copy()\n",
    "\n",
    "hours_viewed_decay_norm = hours_viewed_decay_norm.merge(dt_df, on = ['category'])\\\n",
    "                                                 .merge(day_60_cum_sum.rename(columns = {'factor':'cum_sum'}), on = ['category'])\n",
    "\n",
    "hours_viewed_decay_norm['change_in_churn'] = hours_viewed_decay_norm['change_in_churn_60d']/hours_viewed_decay_norm['cum_sum']*hours_viewed_decay_norm['factor']*hours_viewed_decay_norm['asset_run_time_hours']\n",
    "\n",
    "hours_viewed_decay_norm['request_date'] = pd.to_datetime(hours_viewed_decay_norm['offering_start_date']) \\\n",
    "                                        + pd.to_timedelta(hours_viewed_decay_norm['days_on_hbo_max'], unit='D')\n",
    "\n",
    "hours_viewed_decay_norm = hours_viewed_decay_norm[hours_viewed_decay_norm['request_date'] <= '2023-03-01']"
   ]
  },
  {
   "cell_type": "code",
   "execution_count": 66,
   "id": "046a879c",
   "metadata": {},
   "outputs": [
    {
     "data": {
      "text/html": [
       "<div>\n",
       "<style scoped>\n",
       "    .dataframe tbody tr th:only-of-type {\n",
       "        vertical-align: middle;\n",
       "    }\n",
       "\n",
       "    .dataframe tbody tr th {\n",
       "        vertical-align: top;\n",
       "    }\n",
       "\n",
       "    .dataframe thead th {\n",
       "        text-align: right;\n",
       "    }\n",
       "</style>\n",
       "<table border=\"1\" class=\"dataframe\">\n",
       "  <thead>\n",
       "    <tr style=\"text-align: right;\">\n",
       "      <th></th>\n",
       "      <th>title_name</th>\n",
       "      <th>title_id</th>\n",
       "      <th>season_number</th>\n",
       "      <th>offering_start_date</th>\n",
       "      <th>average_hours_viewed_60d</th>\n",
       "      <th>genre</th>\n",
       "      <th>medal</th>\n",
       "      <th>category</th>\n",
       "      <th>asset_run_time_hours</th>\n",
       "      <th>churn_per_hr_person</th>\n",
       "      <th>change_in_churn_60d</th>\n",
       "      <th>days_on_hbo_max</th>\n",
       "      <th>factor</th>\n",
       "      <th>cum_sum</th>\n",
       "      <th>change_in_churn</th>\n",
       "      <th>request_date</th>\n",
       "    </tr>\n",
       "  </thead>\n",
       "  <tbody>\n",
       "    <tr>\n",
       "      <th>121110</th>\n",
       "      <td>House of the Dragon</td>\n",
       "      <td>GYsYeoAxKH8LCwgEAAAOR</td>\n",
       "      <td>1</td>\n",
       "      <td>2022-08-22</td>\n",
       "      <td>0.342126</td>\n",
       "      <td>drama</td>\n",
       "      <td>Platinum</td>\n",
       "      <td>series</td>\n",
       "      <td>10.259162</td>\n",
       "      <td>-0.018346</td>\n",
       "      <td>-0.006277</td>\n",
       "      <td>60</td>\n",
       "      <td>0.979819</td>\n",
       "      <td>146.401861</td>\n",
       "      <td>-4.309698e-04</td>\n",
       "      <td>2022-10-21</td>\n",
       "    </tr>\n",
       "    <tr>\n",
       "      <th>120810</th>\n",
       "      <td>Euphoria</td>\n",
       "      <td>GXKN_xQX5csPDwwEAAABj</td>\n",
       "      <td>2</td>\n",
       "      <td>2022-01-10</td>\n",
       "      <td>0.237642</td>\n",
       "      <td>drama</td>\n",
       "      <td>Platinum</td>\n",
       "      <td>series</td>\n",
       "      <td>7.819440</td>\n",
       "      <td>-0.018346</td>\n",
       "      <td>-0.004360</td>\n",
       "      <td>60</td>\n",
       "      <td>0.979819</td>\n",
       "      <td>146.401861</td>\n",
       "      <td>-2.281646e-04</td>\n",
       "      <td>2022-03-11</td>\n",
       "    </tr>\n",
       "    <tr>\n",
       "      <th>88560</th>\n",
       "      <td>Zack Snyder's Justice League</td>\n",
       "      <td>GYDAnZgCFQ8IJpQEAAAAN</td>\n",
       "      <td>0</td>\n",
       "      <td>2021-03-18</td>\n",
       "      <td>0.494117</td>\n",
       "      <td>drama</td>\n",
       "      <td>Platinum</td>\n",
       "      <td>movies</td>\n",
       "      <td>3.938055</td>\n",
       "      <td>-0.024174</td>\n",
       "      <td>-0.011945</td>\n",
       "      <td>60</td>\n",
       "      <td>0.694458</td>\n",
       "      <td>239.079810</td>\n",
       "      <td>-1.366373e-04</td>\n",
       "      <td>2021-05-17</td>\n",
       "    </tr>\n",
       "    <tr>\n",
       "      <th>83760</th>\n",
       "      <td>Wonder Woman 1984</td>\n",
       "      <td>GX9KHPw1OIMPCJgEAAAAD</td>\n",
       "      <td>0</td>\n",
       "      <td>2020-12-25</td>\n",
       "      <td>0.616159</td>\n",
       "      <td>action</td>\n",
       "      <td>Platinum</td>\n",
       "      <td>movies</td>\n",
       "      <td>2.466944</td>\n",
       "      <td>-0.028358</td>\n",
       "      <td>-0.017473</td>\n",
       "      <td>60</td>\n",
       "      <td>0.694458</td>\n",
       "      <td>239.079810</td>\n",
       "      <td>-1.252088e-04</td>\n",
       "      <td>2021-02-23</td>\n",
       "    </tr>\n",
       "    <tr>\n",
       "      <th>83910</th>\n",
       "      <td>Godzilla vs. Kong</td>\n",
       "      <td>GYFEzmwNES16GkQEAAAAC</td>\n",
       "      <td>0</td>\n",
       "      <td>2021-03-31</td>\n",
       "      <td>0.781610</td>\n",
       "      <td>action</td>\n",
       "      <td>Platinum</td>\n",
       "      <td>movies</td>\n",
       "      <td>1.860000</td>\n",
       "      <td>-0.028358</td>\n",
       "      <td>-0.022165</td>\n",
       "      <td>60</td>\n",
       "      <td>0.694458</td>\n",
       "      <td>239.079810</td>\n",
       "      <td>-1.197529e-04</td>\n",
       "      <td>2021-05-30</td>\n",
       "    </tr>\n",
       "    <tr>\n",
       "      <th>...</th>\n",
       "      <td>...</td>\n",
       "      <td>...</td>\n",
       "      <td>...</td>\n",
       "      <td>...</td>\n",
       "      <td>...</td>\n",
       "      <td>...</td>\n",
       "      <td>...</td>\n",
       "      <td>...</td>\n",
       "      <td>...</td>\n",
       "      <td>...</td>\n",
       "      <td>...</td>\n",
       "      <td>...</td>\n",
       "      <td>...</td>\n",
       "      <td>...</td>\n",
       "      <td>...</td>\n",
       "      <td>...</td>\n",
       "    </tr>\n",
       "    <tr>\n",
       "      <th>30360</th>\n",
       "      <td>Coastal Elites</td>\n",
       "      <td>GXywtAwlrIVRWwgEAAAE4</td>\n",
       "      <td>0</td>\n",
       "      <td>2020-09-13</td>\n",
       "      <td>0.011175</td>\n",
       "      <td>comedy</td>\n",
       "      <td>Bronze</td>\n",
       "      <td>movies</td>\n",
       "      <td>1.418888</td>\n",
       "      <td>-0.008732</td>\n",
       "      <td>-0.000098</td>\n",
       "      <td>60</td>\n",
       "      <td>0.694458</td>\n",
       "      <td>239.079810</td>\n",
       "      <td>-4.021912e-07</td>\n",
       "      <td>2020-11-12</td>\n",
       "    </tr>\n",
       "    <tr>\n",
       "      <th>39060</th>\n",
       "      <td>Jerrod Carmichael: Rothaniel</td>\n",
       "      <td>GYjTxLwCPgSiOTwEAAACn</td>\n",
       "      <td>0</td>\n",
       "      <td>2022-04-02</td>\n",
       "      <td>0.017249</td>\n",
       "      <td>comedy</td>\n",
       "      <td>Bronze</td>\n",
       "      <td>movies</td>\n",
       "      <td>0.908888</td>\n",
       "      <td>-0.008732</td>\n",
       "      <td>-0.000151</td>\n",
       "      <td>60</td>\n",
       "      <td>0.694458</td>\n",
       "      <td>239.079810</td>\n",
       "      <td>-3.976489e-07</td>\n",
       "      <td>2022-06-01</td>\n",
       "    </tr>\n",
       "    <tr>\n",
       "      <th>39360</th>\n",
       "      <td>Marlon Wayans Presents: The Headliners</td>\n",
       "      <td>GYkWyigApiMPCFwEAAAAE</td>\n",
       "      <td>0</td>\n",
       "      <td>2022-04-21</td>\n",
       "      <td>0.015767</td>\n",
       "      <td>comedy</td>\n",
       "      <td>Bronze</td>\n",
       "      <td>movies</td>\n",
       "      <td>0.990555</td>\n",
       "      <td>-0.008732</td>\n",
       "      <td>-0.000138</td>\n",
       "      <td>60</td>\n",
       "      <td>0.694458</td>\n",
       "      <td>239.079810</td>\n",
       "      <td>-3.961536e-07</td>\n",
       "      <td>2022-06-20</td>\n",
       "    </tr>\n",
       "    <tr>\n",
       "      <th>41010</th>\n",
       "      <td>Nikki Glaser: Good Clean Filth</td>\n",
       "      <td>GYrtbnwOx9MLCUgEAAAJl</td>\n",
       "      <td>0</td>\n",
       "      <td>2022-07-17</td>\n",
       "      <td>0.015334</td>\n",
       "      <td>comedy</td>\n",
       "      <td>Bronze</td>\n",
       "      <td>movies</td>\n",
       "      <td>0.987500</td>\n",
       "      <td>-0.008732</td>\n",
       "      <td>-0.000134</td>\n",
       "      <td>60</td>\n",
       "      <td>0.694458</td>\n",
       "      <td>239.079810</td>\n",
       "      <td>-3.840683e-07</td>\n",
       "      <td>2022-09-15</td>\n",
       "    </tr>\n",
       "    <tr>\n",
       "      <th>36960</th>\n",
       "      <td>Marlon Wayans: You Know What It Is</td>\n",
       "      <td>GYQmScwklrsJRmQEAAACG</td>\n",
       "      <td>0</td>\n",
       "      <td>2021-08-19</td>\n",
       "      <td>0.014180</td>\n",
       "      <td>comedy</td>\n",
       "      <td>Bronze</td>\n",
       "      <td>movies</td>\n",
       "      <td>0.969166</td>\n",
       "      <td>-0.008732</td>\n",
       "      <td>-0.000124</td>\n",
       "      <td>60</td>\n",
       "      <td>0.694458</td>\n",
       "      <td>239.079810</td>\n",
       "      <td>-3.485854e-07</td>\n",
       "      <td>2021-10-18</td>\n",
       "    </tr>\n",
       "  </tbody>\n",
       "</table>\n",
       "<p>792 rows × 16 columns</p>\n",
       "</div>"
      ],
      "text/plain": [
       "                                    title_name               title_id  \\\n",
       "121110                     House of the Dragon  GYsYeoAxKH8LCwgEAAAOR   \n",
       "120810                                Euphoria  GXKN_xQX5csPDwwEAAABj   \n",
       "88560             Zack Snyder's Justice League  GYDAnZgCFQ8IJpQEAAAAN   \n",
       "83760                        Wonder Woman 1984  GX9KHPw1OIMPCJgEAAAAD   \n",
       "83910                        Godzilla vs. Kong  GYFEzmwNES16GkQEAAAAC   \n",
       "...                                        ...                    ...   \n",
       "30360                           Coastal Elites  GXywtAwlrIVRWwgEAAAE4   \n",
       "39060             Jerrod Carmichael: Rothaniel  GYjTxLwCPgSiOTwEAAACn   \n",
       "39360   Marlon Wayans Presents: The Headliners  GYkWyigApiMPCFwEAAAAE   \n",
       "41010           Nikki Glaser: Good Clean Filth  GYrtbnwOx9MLCUgEAAAJl   \n",
       "36960       Marlon Wayans: You Know What It Is  GYQmScwklrsJRmQEAAACG   \n",
       "\n",
       "        season_number offering_start_date  average_hours_viewed_60d   genre  \\\n",
       "121110              1          2022-08-22                  0.342126   drama   \n",
       "120810              2          2022-01-10                  0.237642   drama   \n",
       "88560               0          2021-03-18                  0.494117   drama   \n",
       "83760               0          2020-12-25                  0.616159  action   \n",
       "83910               0          2021-03-31                  0.781610  action   \n",
       "...               ...                 ...                       ...     ...   \n",
       "30360               0          2020-09-13                  0.011175  comedy   \n",
       "39060               0          2022-04-02                  0.017249  comedy   \n",
       "39360               0          2022-04-21                  0.015767  comedy   \n",
       "41010               0          2022-07-17                  0.015334  comedy   \n",
       "36960               0          2021-08-19                  0.014180  comedy   \n",
       "\n",
       "           medal category  asset_run_time_hours  churn_per_hr_person  \\\n",
       "121110  Platinum   series             10.259162            -0.018346   \n",
       "120810  Platinum   series              7.819440            -0.018346   \n",
       "88560   Platinum   movies              3.938055            -0.024174   \n",
       "83760   Platinum   movies              2.466944            -0.028358   \n",
       "83910   Platinum   movies              1.860000            -0.028358   \n",
       "...          ...      ...                   ...                  ...   \n",
       "30360     Bronze   movies              1.418888            -0.008732   \n",
       "39060     Bronze   movies              0.908888            -0.008732   \n",
       "39360     Bronze   movies              0.990555            -0.008732   \n",
       "41010     Bronze   movies              0.987500            -0.008732   \n",
       "36960     Bronze   movies              0.969166            -0.008732   \n",
       "\n",
       "        change_in_churn_60d  days_on_hbo_max    factor     cum_sum  \\\n",
       "121110            -0.006277               60  0.979819  146.401861   \n",
       "120810            -0.004360               60  0.979819  146.401861   \n",
       "88560             -0.011945               60  0.694458  239.079810   \n",
       "83760             -0.017473               60  0.694458  239.079810   \n",
       "83910             -0.022165               60  0.694458  239.079810   \n",
       "...                     ...              ...       ...         ...   \n",
       "30360             -0.000098               60  0.694458  239.079810   \n",
       "39060             -0.000151               60  0.694458  239.079810   \n",
       "39360             -0.000138               60  0.694458  239.079810   \n",
       "41010             -0.000134               60  0.694458  239.079810   \n",
       "36960             -0.000124               60  0.694458  239.079810   \n",
       "\n",
       "        change_in_churn request_date  \n",
       "121110    -4.309698e-04   2022-10-21  \n",
       "120810    -2.281646e-04   2022-03-11  \n",
       "88560     -1.366373e-04   2021-05-17  \n",
       "83760     -1.252088e-04   2021-02-23  \n",
       "83910     -1.197529e-04   2021-05-30  \n",
       "...                 ...          ...  \n",
       "30360     -4.021912e-07   2020-11-12  \n",
       "39060     -3.976489e-07   2022-06-01  \n",
       "39360     -3.961536e-07   2022-06-20  \n",
       "41010     -3.840683e-07   2022-09-15  \n",
       "36960     -3.485854e-07   2021-10-18  \n",
       "\n",
       "[792 rows x 16 columns]"
      ]
     },
     "execution_count": 66,
     "metadata": {},
     "output_type": "execute_result"
    }
   ],
   "source": [
    "hours_viewed_decay_norm[hours_viewed_decay_norm['days_on_hbo_max'] == 60].sort_values(by = ['change_in_churn'])"
   ]
  },
  {
   "cell_type": "code",
   "execution_count": 63,
   "id": "e04837b1",
   "metadata": {},
   "outputs": [
    {
     "data": {
      "image/png": "[encoded data removed]",
      "text/plain": [
       "<Figure size 576x288 with 2 Axes>"
      ]
     },
     "metadata": {
      "needs_background": "light"
     },
     "output_type": "display_data"
    }
   ],
   "source": [
    "fig, ax = plt.subplots(figsize=(8, 4))\n",
    "test = hours_viewed_decay_norm[['title_name', 'title_id', 'season_number', 'request_date', 'days_on_hbo_max','change_in_churn']]\n",
    "plot_df = test[test['title_name'] == 'And Just Like That...']\n",
    "ax.plot(plot_df['days_on_hbo_max'], plot_df['change_in_churn'], label='And Just Like That...')\n",
    "\n",
    "ax2 = ax.twinx()\n",
    "plot_df = test[test['title_name'] == 'The Suicide Squad']\n",
    "ax2.plot(plot_df['days_on_hbo_max'], plot_df['change_in_churn'], label='The Suicide Squad', color = 'orange')\n",
    "\n",
    "ax.set_xlabel('days_on_hbo_max')\n",
    "ax.set_ylabel('change_in_churn')\n",
    "ax.legend()\n",
    "ax2.legend()\n",
    "\n",
    "plt.show()"
   ]
  },
  {
   "cell_type": "code",
   "execution_count": null,
   "id": "e5b8415d",
   "metadata": {},
   "outputs": [],
   "source": [
    "hours_viewed_decay_norm[(hours_viewed_decay_norm['request_date'] >= '2022-12-01')\n",
    "                       &(hours_viewed_decay_norm['request_date'] <= '2022-12-31')]\\\n",
    "                        [['title_name', 'season_number']]\\\n",
    "                        .sort_values(by = ['change_in_churn']).drop_duplicates()\n"
   ]
  },
  {
   "cell_type": "markdown",
   "id": "5d71540c",
   "metadata": {},
   "source": [
    "### 2. Evergreen Titles"
   ]
  },
  {
   "cell_type": "markdown",
   "id": "52a748e5",
   "metadata": {},
   "source": [
    "#### 2.1 Sogmoid Decay"
   ]
  },
  {
   "cell_type": "code",
   "execution_count": 350,
   "id": "8397f0b5",
   "metadata": {},
   "outputs": [],
   "source": [
    "# ## 90% of the retention value is deteriorated in the first year\n",
    "# x = [0, 0.25, 1.5, 3]\n",
    "# y = [1, 0.99, 0.5, 0.001]\n",
    "\n",
    "# def sigmoid(x, L ,x0, k, b):\n",
    "#     y = L / (1 + np.exp(-k*(x-x0))) + b\n",
    "#     return (y)\n",
    "\n",
    "# p0 = [max(y), np.median(x),1,min(y)] # this is an mandatory initial guess\n",
    "\n",
    "# popt, pcov = curve_fit(sigmoid, x, y ,p0, method='dogbox')\n",
    "\n",
    "# x1 = pd.Series(np.arange(0,5,0.1))\n",
    "# y1 = sigmoid(x1, *popt)\n",
    "\n",
    "# fig, ax = plt.subplots(figsize=(18, 6))\n",
    "# plt.plot(x1, y1)\n",
    "# plt.show()"
   ]
  },
  {
   "cell_type": "code",
   "execution_count": 351,
   "id": "ef88e9b7",
   "metadata": {},
   "outputs": [],
   "source": [
    "# dt_df = pd.DataFrame()\n",
    "# dt_df['days_on_hbo_max'] = [i for i in range(0, 365*3, 1)]\n",
    "# dt_df['factor'] = sigmoid(dt_df['days_on_hbo_max']/365, *popt)\n",
    "# dt_df['key'] = 1\n",
    "\n",
    "# hours_viewed_decay_evergreen = hours_viewed_thresh[hours_viewed_thresh['title_id'].isin(ever_green_title_id)]\n",
    "\n",
    "# hours_viewed_decay_evergreen = hours_viewed_decay_evergreen.merge(dt_df, on = ['key']).drop(['key'], axis = 1)\n",
    "\n",
    "# hours_viewed_decay_evergreen['change_in_churn'] = hours_viewed_decay_evergreen['change_in_churn_60d']/60*hours_viewed_decay_evergreen['factor']\n",
    "\n",
    "# hours_viewed_decay_evergreen['days_on_hbo_max'] = hours_viewed_decay_evergreen['days_on_hbo_max']+60\n",
    "\n",
    "# hours_viewed_decay_evergreen['request_date'] = pd.to_datetime(hours_viewed_decay_evergreen['offering_start_date']) \\\n",
    "#                                         + pd.to_timedelta(hours_viewed_decay_evergreen['days_on_hbo_max'], unit='D')\n",
    "\n",
    "# hours_viewed_decay_evergreen = hours_viewed_decay_evergreen[hours_viewed_decay_evergreen['request_date'] <= '2023-03-01']\n"
   ]
  },
  {
   "cell_type": "code",
   "execution_count": 352,
   "id": "8fe2b874",
   "metadata": {},
   "outputs": [],
   "source": [
    "# fig, ax = plt.subplots(figsize=(8, 4))\n",
    "# test = pd.concat([hours_viewed_60d[['title_name', 'title_id', 'season_number', 'request_date', 'days_on_hbo_max', 'change_in_churn']],\n",
    "#                 hours_viewed_decay_evergreen[['title_name', 'title_id', 'season_number', 'request_date', 'days_on_hbo_max', 'change_in_churn']]],\n",
    "#                 axis = 0)\n",
    "\n",
    "\n",
    "# for i in range(1, 11, 1):\n",
    "#     plot_df = test[(test['title_name'] == 'Friends') &(test['season_number'] == i)]\n",
    "#     plt.plot(plot_df['days_on_hbo_max'], plot_df['change_in_churn'], label= 'Friends S' + str(i))\n",
    "\n",
    "# ax.set_xlabel('days_on_hbo_max')\n",
    "# ax.set_ylabel('change_in_churn')\n",
    "# ax.legend()\n",
    "\n",
    "# plt.show()"
   ]
  },
  {
   "cell_type": "markdown",
   "id": "80223178",
   "metadata": {},
   "source": [
    "#### 2.2 Keep the retention value all the way along"
   ]
  },
  {
   "cell_type": "code",
   "execution_count": 353,
   "id": "3b43bc04",
   "metadata": {},
   "outputs": [
    {
     "name": "stderr",
     "output_type": "stream",
     "text": [
      "/home/ec2-user/anaconda3/envs/python3/lib/python3.6/site-packages/ipykernel/__main__.py:6: SettingWithCopyWarning:\n",
      "\n",
      "\n",
      "A value is trying to be set on a copy of a slice from a DataFrame.\n",
      "Try using .loc[row_indexer,col_indexer] = value instead\n",
      "\n",
      "See the caveats in the documentation: https://pandas.pydata.org/pandas-docs/stable/user_guide/indexing.html#returning-a-view-versus-a-copy\n",
      "\n"
     ]
    }
   ],
   "source": [
    "dt_df = pd.DataFrame()\n",
    "dt_df['days_on_hbo_max'] = [i for i in range(0, 365*3, 1)]\n",
    "dt_df['key'] = 1\n",
    "\n",
    "hours_viewed_decay_evergreen = hours_viewed_thresh[hours_viewed_thresh['title_id'].isin(ever_green_title_id)]\n",
    "hours_viewed_decay_evergreen['key'] = 1\n",
    "\n",
    "hours_viewed_decay_evergreen = hours_viewed_decay_evergreen.merge(dt_df, on = ['key']).drop(['key'], axis = 1)\n",
    "\n",
    "hours_viewed_decay_evergreen['change_in_churn'] = hours_viewed_decay_evergreen['change_in_churn_60d']/60*hours_viewed_decay_evergreen['asset_run_time_hours']\n",
    "\n",
    "hours_viewed_decay_evergreen['request_date'] = pd.to_datetime(hours_viewed_decay_evergreen['offering_start_date']) \\\n",
    "                                        + pd.to_timedelta(hours_viewed_decay_evergreen['days_on_hbo_max'], unit='D')\n",
    "\n",
    "hours_viewed_decay_evergreen = hours_viewed_decay_evergreen[hours_viewed_decay_evergreen['request_date'] <= '2023-03-01']\n"
   ]
  },
  {
   "cell_type": "code",
   "execution_count": 354,
   "id": "8f806dcf",
   "metadata": {},
   "outputs": [
    {
     "data": {
      "image/png": "[encoded data removed]",
      "text/plain": [
       "<Figure size 576x288 with 1 Axes>"
      ]
     },
     "metadata": {
      "needs_background": "light"
     },
     "output_type": "display_data"
    }
   ],
   "source": [
    "fig, ax = plt.subplots(figsize=(8, 4))\n",
    "test = hours_viewed_decay_evergreen[['title_name', 'title_id', 'season_number', 'request_date', 'days_on_hbo_max', 'change_in_churn']]\n",
    "\n",
    "\n",
    "for i in range(1, 12, 1):\n",
    "    plot_df = test[(test['title_name'] == 'Friends') &(test['season_number'] == i)]\n",
    "    plt.plot(plot_df['days_on_hbo_max'], plot_df['change_in_churn'], label= 'Friends S' + str(i))\n",
    "\n",
    "ax.set_xlabel('days_on_hbo_max')\n",
    "ax.set_ylabel('change_in_churn')\n",
    "ax.legend()\n",
    "\n",
    "plt.show()"
   ]
  },
  {
   "cell_type": "markdown",
   "id": "ca333780",
   "metadata": {},
   "source": [
    "## UNION ALL THE DFs"
   ]
  },
  {
   "cell_type": "code",
   "execution_count": 355,
   "id": "f420b700",
   "metadata": {},
   "outputs": [],
   "source": [
    "data = pd.concat([hours_viewed_decay_norm[['title_name', 'title_id', 'season_number', 'genre', 'medal', 'offering_start_date', 'request_date',  'days_on_hbo_max', 'change_in_churn']],\n",
    "                hours_viewed_decay_evergreen[['title_name', 'title_id', 'season_number', 'genre', 'medal', 'offering_start_date', 'request_date',  'days_on_hbo_max', 'change_in_churn']] ],\n",
    "                axis = 0)"
   ]
  },
  {
   "cell_type": "code",
   "execution_count": 356,
   "id": "42464ae4",
   "metadata": {},
   "outputs": [],
   "source": [
    "data = data.merge(hours_viewed_thresh[['title_id', 'season_number', 'average_hours_viewed_60d', 'churn_per_hr_person', 'change_in_churn_60d', 'asset_run_time_hours']],\n",
    "                 on = ['title_id', 'season_number'])"
   ]
  },
  {
   "cell_type": "code",
   "execution_count": 357,
   "id": "0512535f",
   "metadata": {},
   "outputs": [],
   "source": [
    "data['date_month'] = data['request_date'].dt.to_period('M')"
   ]
  },
  {
   "cell_type": "code",
   "execution_count": 319,
   "id": "99cbae17",
   "metadata": {},
   "outputs": [],
   "source": [
    "# data.groupby(['date_month']).change_in_churn.sum().reset_index().sort_values(by = ['date_month'])"
   ]
  },
  {
   "cell_type": "code",
   "execution_count": 320,
   "id": "ce238bd9",
   "metadata": {},
   "outputs": [],
   "source": [
    "# data[data['title_name'] == 'And Just Like That...']"
   ]
  },
  {
   "cell_type": "code",
   "execution_count": 321,
   "id": "f99d25ff",
   "metadata": {},
   "outputs": [],
   "source": [
    "# data[data['date_month'] == '2022-09'].groupby(['title_name', 'title_id', 'season_number']).sum().reset_index()\\\n",
    "# .sort_values(by = ['change_in_churn']).head(20)"
   ]
  },
  {
   "cell_type": "code",
   "execution_count": 322,
   "id": "3a8fad5a",
   "metadata": {},
   "outputs": [],
   "source": [
    "# data[(data['request_date'] == '2023-03-01')\n",
    "#     &(data['title_name'] == 'Friends')].sort_values(by = ['change_in_churn']).head(20)"
   ]
  },
  {
   "cell_type": "markdown",
   "id": "f3943b52",
   "metadata": {},
   "source": [
    "# Correlation with Change in Churn"
   ]
  },
  {
   "cell_type": "markdown",
   "id": "2d182b84",
   "metadata": {},
   "source": [
    "## 1. Correlation with Churn itself"
   ]
  },
  {
   "cell_type": "code",
   "execution_count": 172,
   "id": "6c01d42f",
   "metadata": {},
   "outputs": [],
   "source": [
    "churn_genpop = run_query('''\n",
    "with pvc as (\n",
    "select\n",
    "    wholesale_user_activation.user_id,\n",
    "    hbo_uuid,\n",
    "    affiliate_code\n",
    "from max_prod.bi_analytics.wholesale_user_activation\n",
    "    left join max_prod.bi_analytics.dimension_user\n",
    "        on wholesale_user_activation.user_id = dimension_user.user_id\n",
    "    left join max_prod.core.geo_map\n",
    "        on wholesale_user_activation.country_code = geo_map.country_iso_code\n",
    "where\n",
    "    wholesale_user_activation.country_code = 'US'\n",
    "    and geo_map.territory = 'HBO MAX DOMESTIC'\n",
    "    and geo_map.region = 'NORTH AMERICA'\n",
    "    and affiliate_code = 'amazon_hbonow'\n",
    "    and convert_timezone('UTC', 'America/Los_Angeles', wholesale_user_activation.first_auth_time_utc::timestamp) >= '2020-11-17'\n",
    ")\n",
    "select\n",
    "date(date_trunc('Month', c.cycle_expire_date)) as date_month\n",
    ", c.is_cancel\n",
    "  ,count(distinct a.provider_user_id) as subscriber_count\n",
    "from max_dev.workspace.user_retain_churn_list_test c\n",
    "left join  max_prod.bi_analytics.fact_common_receipt a\n",
    "    on c.hurley_user_id=a.hurley_user_id\n",
    "    and a.subscription_start_date = c.cycle_start_date\n",
    "left join pvc \n",
    "    on pvc.hbo_uuid = c.hbo_uuid\n",
    "where 1=1\n",
    "and cast(cycle_start_date as date) <'2023-05-01'\n",
    "and cast(cycle_expire_date as date) >='2022-01-01'\n",
    "and (a.signup_offer is NULL or a.signup_offer='no_free_trial')\n",
    "and affiliate_code is NULL\n",
    "and sub_month <= 24\n",
    "group by date_month, c.is_cancel\n",
    "''')"
   ]
  },
  {
   "cell_type": "code",
   "execution_count": 173,
   "id": "f7c5db6f",
   "metadata": {},
   "outputs": [],
   "source": [
    "churn_genpop_tenure = run_query('''\n",
    "with pvc as (\n",
    "select\n",
    "    wholesale_user_activation.user_id,\n",
    "    hbo_uuid,\n",
    "    affiliate_code\n",
    "from max_prod.bi_analytics.wholesale_user_activation\n",
    "    left join max_prod.bi_analytics.dimension_user\n",
    "        on wholesale_user_activation.user_id = dimension_user.user_id\n",
    "    left join max_prod.core.geo_map\n",
    "        on wholesale_user_activation.country_code = geo_map.country_iso_code\n",
    "where\n",
    "    wholesale_user_activation.country_code = 'US'\n",
    "    and geo_map.territory = 'HBO MAX DOMESTIC'\n",
    "    and geo_map.region = 'NORTH AMERICA'\n",
    "    and affiliate_code = 'amazon_hbonow'\n",
    "    and convert_timezone('UTC', 'America/Los_Angeles', wholesale_user_activation.first_auth_time_utc::timestamp) >= '2020-11-17'\n",
    ")\n",
    "select\n",
    "date(date_trunc('Month', c.cycle_expire_date)) as date_month\n",
    ", sub_month\n",
    ", c.is_cancel\n",
    "  ,count(distinct a.provider_user_id) as subscriber_count\n",
    "from max_dev.workspace.user_retain_churn_list_test c\n",
    "left join  max_prod.bi_analytics.fact_common_receipt a\n",
    "    on c.hurley_user_id=a.hurley_user_id\n",
    "    and a.subscription_start_date = c.cycle_start_date\n",
    "left join pvc \n",
    "    on pvc.hbo_uuid = c.hbo_uuid\n",
    "where 1=1\n",
    "and cast(cycle_start_date as date) <'2023-05-01'\n",
    "and cast(cycle_expire_date as date) >='2022-01-01'\n",
    "and (a.signup_offer is NULL or a.signup_offer='no_free_trial')\n",
    "and affiliate_code is NULL\n",
    "and sub_month <= 24\n",
    "group by date_month, sub_month, c.is_cancel\n",
    "order by sub_month DESC  \n",
    "''')"
   ]
  },
  {
   "cell_type": "code",
   "execution_count": 174,
   "id": "8d0a81df",
   "metadata": {},
   "outputs": [],
   "source": [
    "churn_exclude_t1 = run_query('''\n",
    "with pvc as (\n",
    "select\n",
    "    wholesale_user_activation.user_id,\n",
    "    hbo_uuid,\n",
    "    affiliate_code\n",
    "from max_prod.bi_analytics.wholesale_user_activation\n",
    "    left join max_prod.bi_analytics.dimension_user\n",
    "        on wholesale_user_activation.user_id = dimension_user.user_id\n",
    "    left join max_prod.core.geo_map\n",
    "        on wholesale_user_activation.country_code = geo_map.country_iso_code\n",
    "where\n",
    "    wholesale_user_activation.country_code = 'US'\n",
    "    and geo_map.territory = 'HBO MAX DOMESTIC'\n",
    "    and geo_map.region = 'NORTH AMERICA'\n",
    "    and affiliate_code = 'amazon_hbonow'\n",
    "    and convert_timezone('UTC', 'America/Los_Angeles', wholesale_user_activation.first_auth_time_utc::timestamp) >= '2020-11-17'\n",
    ")\n",
    "select\n",
    "date(date_trunc('Month', c.cycle_expire_date)) as date_month\n",
    ", c.is_cancel\n",
    "  ,count(distinct a.provider_user_id) as subscriber_count\n",
    "from max_dev.workspace.user_retain_churn_list_test c\n",
    "left join  max_prod.bi_analytics.fact_common_receipt a\n",
    "    on c.hurley_user_id=a.hurley_user_id\n",
    "    and a.subscription_start_date = c.cycle_start_date\n",
    "left join pvc \n",
    "    on pvc.hbo_uuid = c.hbo_uuid\n",
    "where 1=1\n",
    "and cast(cycle_start_date as date) <'2023-05-01'\n",
    "and cast(cycle_expire_date as date) >='2022-01-01'\n",
    "and (a.signup_offer is NULL or a.signup_offer='no_free_trial')\n",
    "and affiliate_code is NULL\n",
    "and sub_month>1\n",
    "group by date_month, c.is_cancel\n",
    "''')"
   ]
  },
  {
   "cell_type": "code",
   "execution_count": 175,
   "id": "c7b203c0",
   "metadata": {},
   "outputs": [],
   "source": [
    "churn_genpop.to_csv('churn_genpop.csv')\n",
    "churn_genpop_tenure.to_csv('churn_genpop_tenure.csv')\n",
    "churn_exclude_t1.to_csv('churn_exclude_t1.csv')"
   ]
  },
  {
   "cell_type": "code",
   "execution_count": 176,
   "id": "054f5cba",
   "metadata": {},
   "outputs": [
    {
     "data": {
      "text/html": [
       "<div>\n",
       "<style scoped>\n",
       "    .dataframe tbody tr th:only-of-type {\n",
       "        vertical-align: middle;\n",
       "    }\n",
       "\n",
       "    .dataframe tbody tr th {\n",
       "        vertical-align: top;\n",
       "    }\n",
       "\n",
       "    .dataframe thead th {\n",
       "        text-align: right;\n",
       "    }\n",
       "</style>\n",
       "<table border=\"1\" class=\"dataframe\">\n",
       "  <thead>\n",
       "    <tr style=\"text-align: right;\">\n",
       "      <th></th>\n",
       "      <th>date_month</th>\n",
       "      <th>is_cancel</th>\n",
       "      <th>subscriber_count</th>\n",
       "    </tr>\n",
       "  </thead>\n",
       "  <tbody>\n",
       "    <tr>\n",
       "      <th>0</th>\n",
       "      <td>2022-06-01</td>\n",
       "      <td>False</td>\n",
       "      <td>9216208</td>\n",
       "    </tr>\n",
       "    <tr>\n",
       "      <th>1</th>\n",
       "      <td>2022-12-01</td>\n",
       "      <td>True</td>\n",
       "      <td>608834</td>\n",
       "    </tr>\n",
       "    <tr>\n",
       "      <th>2</th>\n",
       "      <td>2023-03-01</td>\n",
       "      <td>False</td>\n",
       "      <td>6417162</td>\n",
       "    </tr>\n",
       "    <tr>\n",
       "      <th>3</th>\n",
       "      <td>2022-09-01</td>\n",
       "      <td>True</td>\n",
       "      <td>615695</td>\n",
       "    </tr>\n",
       "    <tr>\n",
       "      <th>4</th>\n",
       "      <td>2022-10-01</td>\n",
       "      <td>False</td>\n",
       "      <td>8039570</td>\n",
       "    </tr>\n",
       "  </tbody>\n",
       "</table>\n",
       "</div>"
      ],
      "text/plain": [
       "   date_month  is_cancel  subscriber_count\n",
       "0  2022-06-01      False           9216208\n",
       "1  2022-12-01       True            608834\n",
       "2  2023-03-01      False           6417162\n",
       "3  2022-09-01       True            615695\n",
       "4  2022-10-01      False           8039570"
      ]
     },
     "execution_count": 176,
     "metadata": {},
     "output_type": "execute_result"
    }
   ],
   "source": [
    "churn_genpop.head()"
   ]
  },
  {
   "cell_type": "code",
   "execution_count": 177,
   "id": "25279931",
   "metadata": {},
   "outputs": [],
   "source": [
    "churn_genpop['total_subscriber'] = churn_genpop['subscriber_count'].groupby(churn_genpop['date_month']).transform('sum')\n",
    "churn_genpop['churn_rate'] = churn_genpop['subscriber_count']/churn_genpop['total_subscriber']\n",
    "churn_genpop = churn_genpop[churn_genpop['is_cancel'] == True]\n",
    "\n",
    "churn_genpop_tenure['total_subscriber'] = churn_genpop_tenure['subscriber_count'].groupby(churn_genpop_tenure['date_month']).transform('sum')\n",
    "churn_genpop_tenure['churn_rate'] = churn_genpop_tenure['subscriber_count']/churn_genpop_tenure['total_subscriber']\n",
    "churn_genpop_tenure = churn_genpop_tenure[churn_genpop_tenure['is_cancel'] == True]\n",
    "\n",
    "churn_exclude_t1['total_subscriber'] = churn_exclude_t1['subscriber_count'].groupby(churn_exclude_t1['date_month']).transform('sum')\n",
    "churn_exclude_t1['churn_rate'] = churn_exclude_t1['subscriber_count']/churn_exclude_t1['total_subscriber']\n",
    "churn_exclude_t1 = churn_exclude_t1[churn_exclude_t1['is_cancel'] == True]"
   ]
  },
  {
   "cell_type": "code",
   "execution_count": 358,
   "id": "4d0e720a",
   "metadata": {},
   "outputs": [],
   "source": [
    "aggregated_churn = data.groupby(['date_month'])['change_in_churn'].sum().reset_index()\n",
    "aggregated_churn['date_month'] = aggregated_churn['date_month'].dt.to_timestamp().dt.strftime('%Y-%m-%d')\n",
    "\n",
    "#### GENPOP ONLY LOOKS AT 2022-01-01 ON-WARDS ###################################\n",
    "aggregated_churn = aggregated_churn[(aggregated_churn['date_month']>='2022-01-01')\n",
    "                                   &(aggregated_churn['date_month']<='2023-02-01')\n",
    "                                   ]\n",
    "\n",
    "#### Shift one month forward\n",
    "# aggregated_churn['date_month']  = (pd.to_datetime(aggregated_churn['date_month']) + pd.DateOffset(months=1)).dt.strftime('%Y-%m-%d')"
   ]
  },
  {
   "cell_type": "code",
   "execution_count": 359,
   "id": "4b19d153",
   "metadata": {},
   "outputs": [],
   "source": [
    "churn_genpop_tenure_pivot = pd.pivot_table(churn_genpop_tenure, values='churn_rate', index=['date_month'],\n",
    "                       columns=['sub_month'], fill_value=0, aggfunc='first').reset_index()"
   ]
  },
  {
   "cell_type": "code",
   "execution_count": 360,
   "id": "0c312e90",
   "metadata": {},
   "outputs": [],
   "source": [
    "churn_all = churn_genpop_tenure_pivot.merge(churn_genpop[['date_month', 'churn_rate']].rename(columns = {'churn_rate':'genpop_churn'}),\n",
    "                                           on = ['date_month'])\\\n",
    "                                    .merge(churn_exclude_t1[['date_month', 'churn_rate']].rename(columns = {'churn_rate':'churn_exclude_t1'}),\n",
    "                                          on = ['date_month'])"
   ]
  },
  {
   "cell_type": "code",
   "execution_count": 361,
   "id": "50b78a1a",
   "metadata": {},
   "outputs": [],
   "source": [
    "churn_all['date_month'] = churn_all['date_month'].astype(str)"
   ]
  },
  {
   "cell_type": "code",
   "execution_count": 362,
   "id": "52df36ef",
   "metadata": {},
   "outputs": [
    {
     "data": {
      "text/html": [
       "<div>\n",
       "<style scoped>\n",
       "    .dataframe tbody tr th:only-of-type {\n",
       "        vertical-align: middle;\n",
       "    }\n",
       "\n",
       "    .dataframe tbody tr th {\n",
       "        vertical-align: top;\n",
       "    }\n",
       "\n",
       "    .dataframe thead th {\n",
       "        text-align: right;\n",
       "    }\n",
       "</style>\n",
       "<table border=\"1\" class=\"dataframe\">\n",
       "  <thead>\n",
       "    <tr style=\"text-align: right;\">\n",
       "      <th></th>\n",
       "      <th>date_month</th>\n",
       "      <th>1</th>\n",
       "      <th>2</th>\n",
       "      <th>3</th>\n",
       "      <th>4</th>\n",
       "      <th>5</th>\n",
       "      <th>6</th>\n",
       "      <th>7</th>\n",
       "      <th>8</th>\n",
       "      <th>9</th>\n",
       "      <th>...</th>\n",
       "      <th>17</th>\n",
       "      <th>18</th>\n",
       "      <th>19</th>\n",
       "      <th>20</th>\n",
       "      <th>21</th>\n",
       "      <th>22</th>\n",
       "      <th>23</th>\n",
       "      <th>24</th>\n",
       "      <th>genpop_churn</th>\n",
       "      <th>churn_exclude_t1</th>\n",
       "    </tr>\n",
       "  </thead>\n",
       "  <tbody>\n",
       "    <tr>\n",
       "      <th>0</th>\n",
       "      <td>2022-01-01</td>\n",
       "      <td>0.031649</td>\n",
       "      <td>0.008747</td>\n",
       "      <td>0.007356</td>\n",
       "      <td>0.003146</td>\n",
       "      <td>0.004628</td>\n",
       "      <td>0.003689</td>\n",
       "      <td>0.003687</td>\n",
       "      <td>0.003400</td>\n",
       "      <td>0.006602</td>\n",
       "      <td>...</td>\n",
       "      <td>0.000476</td>\n",
       "      <td>0.000556</td>\n",
       "      <td>0.001362</td>\n",
       "      <td>0.000035</td>\n",
       "      <td>1.917088e-07</td>\n",
       "      <td>0.000000e+00</td>\n",
       "      <td>0.000000e+00</td>\n",
       "      <td>1.917088e-07</td>\n",
       "      <td>0.088450</td>\n",
       "      <td>0.065103</td>\n",
       "    </tr>\n",
       "    <tr>\n",
       "      <th>1</th>\n",
       "      <td>2022-02-01</td>\n",
       "      <td>0.017689</td>\n",
       "      <td>0.013957</td>\n",
       "      <td>0.005455</td>\n",
       "      <td>0.005072</td>\n",
       "      <td>0.002270</td>\n",
       "      <td>0.003521</td>\n",
       "      <td>0.002864</td>\n",
       "      <td>0.003100</td>\n",
       "      <td>0.002872</td>\n",
       "      <td>...</td>\n",
       "      <td>0.000342</td>\n",
       "      <td>0.000486</td>\n",
       "      <td>0.000678</td>\n",
       "      <td>0.001962</td>\n",
       "      <td>2.955853e-05</td>\n",
       "      <td>6.896990e-07</td>\n",
       "      <td>2.955853e-07</td>\n",
       "      <td>9.852843e-08</td>\n",
       "      <td>0.077640</td>\n",
       "      <td>0.065185</td>\n",
       "    </tr>\n",
       "    <tr>\n",
       "      <th>2</th>\n",
       "      <td>2022-03-01</td>\n",
       "      <td>0.020620</td>\n",
       "      <td>0.010070</td>\n",
       "      <td>0.009694</td>\n",
       "      <td>0.003962</td>\n",
       "      <td>0.003925</td>\n",
       "      <td>0.001729</td>\n",
       "      <td>0.002786</td>\n",
       "      <td>0.002330</td>\n",
       "      <td>0.002476</td>\n",
       "      <td>...</td>\n",
       "      <td>0.000492</td>\n",
       "      <td>0.000268</td>\n",
       "      <td>0.000403</td>\n",
       "      <td>0.000474</td>\n",
       "      <td>1.194680e-03</td>\n",
       "      <td>3.507814e-05</td>\n",
       "      <td>2.891055e-07</td>\n",
       "      <td>9.636851e-08</td>\n",
       "      <td>0.077198</td>\n",
       "      <td>0.061731</td>\n",
       "    </tr>\n",
       "    <tr>\n",
       "      <th>3</th>\n",
       "      <td>2022-04-01</td>\n",
       "      <td>0.015233</td>\n",
       "      <td>0.011243</td>\n",
       "      <td>0.006924</td>\n",
       "      <td>0.007740</td>\n",
       "      <td>0.003367</td>\n",
       "      <td>0.003340</td>\n",
       "      <td>0.001589</td>\n",
       "      <td>0.002557</td>\n",
       "      <td>0.002089</td>\n",
       "      <td>...</td>\n",
       "      <td>0.000642</td>\n",
       "      <td>0.000472</td>\n",
       "      <td>0.000269</td>\n",
       "      <td>0.000395</td>\n",
       "      <td>4.747548e-04</td>\n",
       "      <td>1.171219e-03</td>\n",
       "      <td>2.976427e-05</td>\n",
       "      <td>3.929277e-07</td>\n",
       "      <td>0.075261</td>\n",
       "      <td>0.063931</td>\n",
       "    </tr>\n",
       "    <tr>\n",
       "      <th>4</th>\n",
       "      <td>2022-05-01</td>\n",
       "      <td>0.016886</td>\n",
       "      <td>0.007332</td>\n",
       "      <td>0.006900</td>\n",
       "      <td>0.004818</td>\n",
       "      <td>0.005727</td>\n",
       "      <td>0.002628</td>\n",
       "      <td>0.002745</td>\n",
       "      <td>0.001319</td>\n",
       "      <td>0.002156</td>\n",
       "      <td>...</td>\n",
       "      <td>0.002183</td>\n",
       "      <td>0.000590</td>\n",
       "      <td>0.000448</td>\n",
       "      <td>0.000250</td>\n",
       "      <td>3.612817e-04</td>\n",
       "      <td>4.278128e-04</td>\n",
       "      <td>1.109609e-03</td>\n",
       "      <td>3.020552e-05</td>\n",
       "      <td>0.070928</td>\n",
       "      <td>0.057973</td>\n",
       "    </tr>\n",
       "  </tbody>\n",
       "</table>\n",
       "<p>5 rows × 27 columns</p>\n",
       "</div>"
      ],
      "text/plain": [
       "   date_month         1         2         3         4         5         6  \\\n",
       "0  2022-01-01  0.031649  0.008747  0.007356  0.003146  0.004628  0.003689   \n",
       "1  2022-02-01  0.017689  0.013957  0.005455  0.005072  0.002270  0.003521   \n",
       "2  2022-03-01  0.020620  0.010070  0.009694  0.003962  0.003925  0.001729   \n",
       "3  2022-04-01  0.015233  0.011243  0.006924  0.007740  0.003367  0.003340   \n",
       "4  2022-05-01  0.016886  0.007332  0.006900  0.004818  0.005727  0.002628   \n",
       "\n",
       "          7         8         9  ...        17        18        19        20  \\\n",
       "0  0.003687  0.003400  0.006602  ...  0.000476  0.000556  0.001362  0.000035   \n",
       "1  0.002864  0.003100  0.002872  ...  0.000342  0.000486  0.000678  0.001962   \n",
       "2  0.002786  0.002330  0.002476  ...  0.000492  0.000268  0.000403  0.000474   \n",
       "3  0.001589  0.002557  0.002089  ...  0.000642  0.000472  0.000269  0.000395   \n",
       "4  0.002745  0.001319  0.002156  ...  0.002183  0.000590  0.000448  0.000250   \n",
       "\n",
       "             21            22            23            24  genpop_churn  \\\n",
       "0  1.917088e-07  0.000000e+00  0.000000e+00  1.917088e-07      0.088450   \n",
       "1  2.955853e-05  6.896990e-07  2.955853e-07  9.852843e-08      0.077640   \n",
       "2  1.194680e-03  3.507814e-05  2.891055e-07  9.636851e-08      0.077198   \n",
       "3  4.747548e-04  1.171219e-03  2.976427e-05  3.929277e-07      0.075261   \n",
       "4  3.612817e-04  4.278128e-04  1.109609e-03  3.020552e-05      0.070928   \n",
       "\n",
       "   churn_exclude_t1  \n",
       "0          0.065103  \n",
       "1          0.065185  \n",
       "2          0.061731  \n",
       "3          0.063931  \n",
       "4          0.057973  \n",
       "\n",
       "[5 rows x 27 columns]"
      ]
     },
     "execution_count": 362,
     "metadata": {},
     "output_type": "execute_result"
    }
   ],
   "source": [
    "churn_all.head()"
   ]
  },
  {
   "cell_type": "code",
   "execution_count": 363,
   "id": "acc284fe",
   "metadata": {},
   "outputs": [],
   "source": [
    "churn_all = churn_all.merge(aggregated_churn, on = ['date_month'])"
   ]
  },
  {
   "cell_type": "code",
   "execution_count": 364,
   "id": "f2908011",
   "metadata": {},
   "outputs": [],
   "source": [
    "TARGET_COL = ['change_in_churn']\n",
    "FEATURE_COLS = [i for i in range(1, 25)]+['genpop_churn', 'churn_exclude_t1']"
   ]
  },
  {
   "cell_type": "code",
   "execution_count": 365,
   "id": "1546924c",
   "metadata": {},
   "outputs": [],
   "source": [
    "for i in FEATURE_COLS:\n",
    "    churn_all[i] = churn_all[i].astype(float)"
   ]
  },
  {
   "cell_type": "code",
   "execution_count": 366,
   "id": "27ad1a0a",
   "metadata": {},
   "outputs": [],
   "source": [
    "import matplotlib.pyplot as plt \n",
    "import seaborn as sns"
   ]
  },
  {
   "cell_type": "code",
   "execution_count": 367,
   "id": "5fc319a9",
   "metadata": {},
   "outputs": [
    {
     "data": {
      "text/html": [
       "<div>\n",
       "<style scoped>\n",
       "    .dataframe tbody tr th:only-of-type {\n",
       "        vertical-align: middle;\n",
       "    }\n",
       "\n",
       "    .dataframe tbody tr th {\n",
       "        vertical-align: top;\n",
       "    }\n",
       "\n",
       "    .dataframe thead th {\n",
       "        text-align: right;\n",
       "    }\n",
       "</style>\n",
       "<table border=\"1\" class=\"dataframe\">\n",
       "  <thead>\n",
       "    <tr style=\"text-align: right;\">\n",
       "      <th></th>\n",
       "      <th>change_in_churn</th>\n",
       "    </tr>\n",
       "  </thead>\n",
       "  <tbody>\n",
       "    <tr>\n",
       "      <th>1</th>\n",
       "      <td>-0.696009</td>\n",
       "    </tr>\n",
       "    <tr>\n",
       "      <th>2</th>\n",
       "      <td>0.088512</td>\n",
       "    </tr>\n",
       "    <tr>\n",
       "      <th>3</th>\n",
       "      <td>-0.194579</td>\n",
       "    </tr>\n",
       "    <tr>\n",
       "      <th>4</th>\n",
       "      <td>-0.027629</td>\n",
       "    </tr>\n",
       "    <tr>\n",
       "      <th>5</th>\n",
       "      <td>-0.366977</td>\n",
       "    </tr>\n",
       "    <tr>\n",
       "      <th>6</th>\n",
       "      <td>0.266444</td>\n",
       "    </tr>\n",
       "    <tr>\n",
       "      <th>7</th>\n",
       "      <td>-0.092814</td>\n",
       "    </tr>\n",
       "    <tr>\n",
       "      <th>8</th>\n",
       "      <td>-0.269560</td>\n",
       "    </tr>\n",
       "    <tr>\n",
       "      <th>9</th>\n",
       "      <td>-0.679450</td>\n",
       "    </tr>\n",
       "    <tr>\n",
       "      <th>10</th>\n",
       "      <td>-0.301444</td>\n",
       "    </tr>\n",
       "    <tr>\n",
       "      <th>11</th>\n",
       "      <td>-0.279564</td>\n",
       "    </tr>\n",
       "    <tr>\n",
       "      <th>12</th>\n",
       "      <td>-0.202228</td>\n",
       "    </tr>\n",
       "    <tr>\n",
       "      <th>13</th>\n",
       "      <td>-0.564650</td>\n",
       "    </tr>\n",
       "    <tr>\n",
       "      <th>14</th>\n",
       "      <td>0.419641</td>\n",
       "    </tr>\n",
       "    <tr>\n",
       "      <th>15</th>\n",
       "      <td>0.275682</td>\n",
       "    </tr>\n",
       "    <tr>\n",
       "      <th>16</th>\n",
       "      <td>0.384379</td>\n",
       "    </tr>\n",
       "    <tr>\n",
       "      <th>17</th>\n",
       "      <td>0.131391</td>\n",
       "    </tr>\n",
       "    <tr>\n",
       "      <th>18</th>\n",
       "      <td>0.504887</td>\n",
       "    </tr>\n",
       "    <tr>\n",
       "      <th>19</th>\n",
       "      <td>0.239084</td>\n",
       "    </tr>\n",
       "    <tr>\n",
       "      <th>20</th>\n",
       "      <td>0.317972</td>\n",
       "    </tr>\n",
       "    <tr>\n",
       "      <th>21</th>\n",
       "      <td>-0.003512</td>\n",
       "    </tr>\n",
       "    <tr>\n",
       "      <th>22</th>\n",
       "      <td>0.386275</td>\n",
       "    </tr>\n",
       "    <tr>\n",
       "      <th>23</th>\n",
       "      <td>0.403141</td>\n",
       "    </tr>\n",
       "    <tr>\n",
       "      <th>24</th>\n",
       "      <td>0.309383</td>\n",
       "    </tr>\n",
       "    <tr>\n",
       "      <th>genpop_churn</th>\n",
       "      <td>-0.571512</td>\n",
       "    </tr>\n",
       "    <tr>\n",
       "      <th>churn_exclude_t1</th>\n",
       "      <td>-0.532306</td>\n",
       "    </tr>\n",
       "    <tr>\n",
       "      <th>change_in_churn</th>\n",
       "      <td>1.000000</td>\n",
       "    </tr>\n",
       "    <tr>\n",
       "      <th>dummy_value</th>\n",
       "      <td>-1.000000</td>\n",
       "    </tr>\n",
       "  </tbody>\n",
       "</table>\n",
       "</div>"
      ],
      "text/plain": [
       "                  change_in_churn\n",
       "1                       -0.696009\n",
       "2                        0.088512\n",
       "3                       -0.194579\n",
       "4                       -0.027629\n",
       "5                       -0.366977\n",
       "6                        0.266444\n",
       "7                       -0.092814\n",
       "8                       -0.269560\n",
       "9                       -0.679450\n",
       "10                      -0.301444\n",
       "11                      -0.279564\n",
       "12                      -0.202228\n",
       "13                      -0.564650\n",
       "14                       0.419641\n",
       "15                       0.275682\n",
       "16                       0.384379\n",
       "17                       0.131391\n",
       "18                       0.504887\n",
       "19                       0.239084\n",
       "20                       0.317972\n",
       "21                      -0.003512\n",
       "22                       0.386275\n",
       "23                       0.403141\n",
       "24                       0.309383\n",
       "genpop_churn            -0.571512\n",
       "churn_exclude_t1        -0.532306\n",
       "change_in_churn          1.000000\n",
       "dummy_value             -1.000000"
      ]
     },
     "execution_count": 367,
     "metadata": {},
     "output_type": "execute_result"
    }
   ],
   "source": [
    "plot_data=churn_all[FEATURE_COLS+TARGET_COL]\n",
    "corr = plot_data.corr()[TARGET_COL]\n",
    "mask=np.zeros_like(corr, dtype=np.bool)\n",
    "corr.loc['dummy_value'] = -1\n",
    "# corr.sort_values(by = TARGET_COL)\n",
    "# 0.819\n",
    "corr"
   ]
  },
  {
   "cell_type": "code",
   "execution_count": 368,
   "id": "dd0cd17d",
   "metadata": {},
   "outputs": [
    {
     "data": {
      "text/plain": [
       "<AxesSubplot:>"
      ]
     },
     "execution_count": 368,
     "metadata": {},
     "output_type": "execute_result"
    },
    {
     "data": {
      "image/png": "[encoded data removed]",
      "text/plain": [
       "<Figure size 720x576 with 2 Axes>"
      ]
     },
     "metadata": {
      "needs_background": "light"
     },
     "output_type": "display_data"
    }
   ],
   "source": [
    "f, ax = plt.subplots(figsize=(10, 8))\n",
    "sns.heatmap(corr, mask=np.zeros_like(corr, dtype=np.bool), cmap=sns.diverging_palette(220, 10, as_cmap=True),\n",
    "            square=True, ax=ax)"
   ]
  },
  {
   "cell_type": "code",
   "execution_count": 369,
   "id": "1a3f6e8a",
   "metadata": {},
   "outputs": [
    {
     "data": {
      "image/png": "[encoded data removed]",
      "text/plain": [
       "<Figure size 576x288 with 2 Axes>"
      ]
     },
     "metadata": {
      "needs_background": "light"
     },
     "output_type": "display_data"
    }
   ],
   "source": [
    "fig, ax = plt.subplots(figsize=(8, 4))\n",
    "\n",
    "plot_df = churn_all\n",
    "plot_df['date_month'] = pd.to_datetime(plot_df['date_month'])\n",
    "ax.plot(plot_df['date_month'], plot_df['genpop_churn'], label= 'Genpop Churn Rate')\n",
    "\n",
    "ax2 = ax.twinx()\n",
    "ax2.plot(plot_df['date_month'], plot_df['change_in_churn'], label= 'Predicted Impact on Churn', color = 'orange')\n",
    "\n",
    "ax.set_xlabel('date_month')\n",
    "ax.legend(loc = 'lower right')\n",
    "ax2.legend(loc = 'upper left')\n",
    "\n",
    "plt.show()"
   ]
  },
  {
   "cell_type": "code",
   "execution_count": 370,
   "id": "4b00a6f6",
   "metadata": {},
   "outputs": [
    {
     "data": {
      "image/png": "[encoded data removed]",
      "text/plain": [
       "<Figure size 576x288 with 2 Axes>"
      ]
     },
     "metadata": {
      "needs_background": "light"
     },
     "output_type": "display_data"
    }
   ],
   "source": [
    "fig, ax = plt.subplots(figsize=(8, 4))\n",
    "\n",
    "plot_df = churn_all\n",
    "plot_df['date_month'] = pd.to_datetime(plot_df['date_month'])\n",
    "ax.plot(plot_df['date_month'], plot_df[4], label= 'Tenure 4 Churn Rate')\n",
    "\n",
    "ax2 = ax.twinx()\n",
    "ax2.plot(plot_df['date_month'], plot_df['change_in_churn'], label= 'Predicted Impact on Churn', color = 'orange')\n",
    "\n",
    "ax.set_xlabel('date_month')\n",
    "ax.legend(loc = 'lower right')\n",
    "ax2.legend(loc = 'upper left')\n",
    "\n",
    "plt.show()"
   ]
  },
  {
   "cell_type": "code",
   "execution_count": 192,
   "id": "1a7ad29d",
   "metadata": {},
   "outputs": [],
   "source": [
    "# plot_df = churn_all\n",
    "# plot_df['date_month'] = pd.to_datetime(plot_df['date_month'])\n",
    "# fig, ax = plt.subplots(24,1,figsize=(8, 104))\n",
    "\n",
    "# for i in range(0, 24, 1):\n",
    "#     ax1 = ax[i]\n",
    "#     ax1.plot(plot_df['date_month'], plot_df[i+1], label= 'Tenure ' + str(i+1)+ ' Churn Rate')\n",
    "\n",
    "#     ax2 = ax[i].twinx()\n",
    "#     ax2.plot(plot_df['date_month'], plot_df['change_in_churn'], label= 'Predicted Impact on Churn', color = 'orange')\n",
    "\n",
    "#     ax1.set_xlabel('date_month')\n",
    "#     ax1.legend(loc = 'lower right')\n",
    "#     ax2.legend(loc = 'upper left')\n",
    "\n",
    "# plt.show()\n",
    "    "
   ]
  },
  {
   "cell_type": "markdown",
   "id": "26e5dd03",
   "metadata": {},
   "source": [
    "## 2. Correlation with Tenure Buckets"
   ]
  },
  {
   "cell_type": "code",
   "execution_count": 269,
   "id": "8419b097",
   "metadata": {},
   "outputs": [],
   "source": [
    "churn_genpop_tenure_bucekts = run_query('''\n",
    "with pvc as (\n",
    "select\n",
    "    wholesale_user_activation.user_id,\n",
    "    hbo_uuid,\n",
    "    affiliate_code\n",
    "from max_prod.bi_analytics.wholesale_user_activation\n",
    "    left join max_prod.bi_analytics.dimension_user\n",
    "        on wholesale_user_activation.user_id = dimension_user.user_id\n",
    "    left join max_prod.core.geo_map\n",
    "        on wholesale_user_activation.country_code = geo_map.country_iso_code\n",
    "where\n",
    "    wholesale_user_activation.country_code = 'US'\n",
    "    and geo_map.territory = 'HBO MAX DOMESTIC'\n",
    "    and geo_map.region = 'NORTH AMERICA'\n",
    "    and affiliate_code = 'amazon_hbonow'\n",
    "    and convert_timezone('UTC', 'America/Los_Angeles', wholesale_user_activation.first_auth_time_utc::timestamp) >= '2020-11-17'\n",
    ")\n",
    "select\n",
    "date(date_trunc('Month', c.cycle_expire_date)) as date_month\n",
    ", case when sub_month <=3 then 'Month 1-3'\n",
    "          when sub_month <=6 then 'Month 4-6'\n",
    "          when sub_month <=12 then 'Month 7-12'\n",
    "          else 'Month 13+'\n",
    "     end as tenure\n",
    ", c.is_cancel\n",
    "  ,count(distinct a.provider_user_id) as subscriber_count\n",
    "from max_dev.workspace.user_retain_churn_list_test c\n",
    "left join  max_prod.bi_analytics.fact_common_receipt a\n",
    "    on c.hurley_user_id=a.hurley_user_id\n",
    "    and a.subscription_start_date = c.cycle_start_date\n",
    "left join pvc \n",
    "    on pvc.hbo_uuid = c.hbo_uuid\n",
    "where 1=1\n",
    "and cast(cycle_start_date as date) <'2023-05-01'\n",
    "and cast(cycle_expire_date as date) >='2022-01-01'\n",
    "and (a.signup_offer is NULL or a.signup_offer='no_free_trial')\n",
    "and affiliate_code is NULL\n",
    "--and sub_month <= 24\n",
    "group by date_month, tenure, c.is_cancel \n",
    "''')"
   ]
  },
  {
   "cell_type": "code",
   "execution_count": 270,
   "id": "8601b7eb",
   "metadata": {},
   "outputs": [],
   "source": [
    "churn_genpop_tenure_bucekts.to_csv('churn_genpop_tenure_bucekts.csv')"
   ]
  },
  {
   "cell_type": "code",
   "execution_count": 271,
   "id": "17b8ac15",
   "metadata": {},
   "outputs": [],
   "source": [
    "churn_genpop_tenure_bucekts['total_subscriber'] = churn_genpop_tenure_bucekts['subscriber_count'].groupby(churn_genpop_tenure_bucekts['date_month']).transform('sum')\n",
    "churn_genpop_tenure_bucekts['churn_rate'] = churn_genpop_tenure_bucekts['subscriber_count']/churn_genpop_tenure_bucekts['total_subscriber']\n",
    "churn_genpop_tenure_bucekts = churn_genpop_tenure_bucekts[churn_genpop_tenure_bucekts['is_cancel'] == True]"
   ]
  },
  {
   "cell_type": "code",
   "execution_count": 272,
   "id": "1b1653c0",
   "metadata": {},
   "outputs": [
    {
     "data": {
      "text/html": [
       "<div>\n",
       "<style scoped>\n",
       "    .dataframe tbody tr th:only-of-type {\n",
       "        vertical-align: middle;\n",
       "    }\n",
       "\n",
       "    .dataframe tbody tr th {\n",
       "        vertical-align: top;\n",
       "    }\n",
       "\n",
       "    .dataframe thead th {\n",
       "        text-align: right;\n",
       "    }\n",
       "</style>\n",
       "<table border=\"1\" class=\"dataframe\">\n",
       "  <thead>\n",
       "    <tr style=\"text-align: right;\">\n",
       "      <th></th>\n",
       "      <th>date_month</th>\n",
       "      <th>tenure</th>\n",
       "      <th>is_cancel</th>\n",
       "      <th>subscriber_count</th>\n",
       "      <th>total_subscriber</th>\n",
       "      <th>churn_rate</th>\n",
       "    </tr>\n",
       "  </thead>\n",
       "  <tbody>\n",
       "    <tr>\n",
       "      <th>0</th>\n",
       "      <td>2022-07-01</td>\n",
       "      <td>Month 1-3</td>\n",
       "      <td>True</td>\n",
       "      <td>247862</td>\n",
       "      <td>9746318</td>\n",
       "      <td>0.025431</td>\n",
       "    </tr>\n",
       "    <tr>\n",
       "      <th>5</th>\n",
       "      <td>2022-02-01</td>\n",
       "      <td>Month 13+</td>\n",
       "      <td>True</td>\n",
       "      <td>96871</td>\n",
       "      <td>10149678</td>\n",
       "      <td>0.009544</td>\n",
       "    </tr>\n",
       "    <tr>\n",
       "      <th>7</th>\n",
       "      <td>2022-01-01</td>\n",
       "      <td>Month 13+</td>\n",
       "      <td>True</td>\n",
       "      <td>75042</td>\n",
       "      <td>10432675</td>\n",
       "      <td>0.007193</td>\n",
       "    </tr>\n",
       "    <tr>\n",
       "      <th>8</th>\n",
       "      <td>2022-09-01</td>\n",
       "      <td>Month 4-6</td>\n",
       "      <td>True</td>\n",
       "      <td>83261</td>\n",
       "      <td>9734460</td>\n",
       "      <td>0.008553</td>\n",
       "    </tr>\n",
       "    <tr>\n",
       "      <th>16</th>\n",
       "      <td>2022-07-01</td>\n",
       "      <td>Month 13+</td>\n",
       "      <td>True</td>\n",
       "      <td>180068</td>\n",
       "      <td>9746318</td>\n",
       "      <td>0.018475</td>\n",
       "    </tr>\n",
       "  </tbody>\n",
       "</table>\n",
       "</div>"
      ],
      "text/plain": [
       "    date_month     tenure  is_cancel  subscriber_count  total_subscriber  \\\n",
       "0   2022-07-01  Month 1-3       True            247862           9746318   \n",
       "5   2022-02-01  Month 13+       True             96871          10149678   \n",
       "7   2022-01-01  Month 13+       True             75042          10432675   \n",
       "8   2022-09-01  Month 4-6       True             83261           9734460   \n",
       "16  2022-07-01  Month 13+       True            180068           9746318   \n",
       "\n",
       "    churn_rate  \n",
       "0     0.025431  \n",
       "5     0.009544  \n",
       "7     0.007193  \n",
       "8     0.008553  \n",
       "16    0.018475  "
      ]
     },
     "execution_count": 272,
     "metadata": {},
     "output_type": "execute_result"
    }
   ],
   "source": [
    "churn_genpop_tenure_bucekts.head()"
   ]
  },
  {
   "cell_type": "code",
   "execution_count": 273,
   "id": "b20544c7",
   "metadata": {},
   "outputs": [],
   "source": [
    "churn_genpop_tenure_bucekts_pivot = pd.pivot_table(churn_genpop_tenure_bucekts, values='churn_rate', index=['date_month'],\n",
    "                       columns=['tenure'], fill_value=0, aggfunc='first').reset_index()"
   ]
  },
  {
   "cell_type": "code",
   "execution_count": 371,
   "id": "3100df1d",
   "metadata": {},
   "outputs": [],
   "source": [
    "aggregated_churn = data.groupby(['date_month'])['change_in_churn'].sum().reset_index()\n",
    "aggregated_churn['date_month'] = aggregated_churn['date_month'].dt.to_timestamp().dt.strftime('%Y-%m-%d')\n",
    "\n",
    "### GENPOP ONLY LOOKS AT 2022-01-01 ON-WARDS ###################################\n",
    "aggregated_churn = aggregated_churn[(aggregated_churn['date_month']>='2022-01-01')\n",
    "                                   &(aggregated_churn['date_month']<='2023-02-01')\n",
    "                                   ]"
   ]
  },
  {
   "cell_type": "code",
   "execution_count": 372,
   "id": "711de070",
   "metadata": {},
   "outputs": [],
   "source": [
    "churn_bucekts_all = churn_genpop_tenure_bucekts_pivot.merge(churn_genpop[['date_month', 'churn_rate']].rename(columns = {'churn_rate':'genpop_churn'}),\n",
    "                                           on = ['date_month'])\\\n",
    "                                    .merge(churn_exclude_t1[['date_month', 'churn_rate']].rename(columns = {'churn_rate':'churn_exclude_t1'}),\n",
    "                                          on = ['date_month'])"
   ]
  },
  {
   "cell_type": "code",
   "execution_count": 373,
   "id": "694bb90b",
   "metadata": {},
   "outputs": [],
   "source": [
    "churn_bucekts_all['date_month'] = churn_bucekts_all['date_month'].astype(str)"
   ]
  },
  {
   "cell_type": "code",
   "execution_count": 374,
   "id": "7f8574a2",
   "metadata": {},
   "outputs": [],
   "source": [
    "churn_bucekts_all = churn_bucekts_all.merge(aggregated_churn, on = ['date_month'])"
   ]
  },
  {
   "cell_type": "code",
   "execution_count": 375,
   "id": "f4d95dc0",
   "metadata": {},
   "outputs": [
    {
     "data": {
      "text/plain": [
       "Index(['date_month', 'Month 1-3', 'Month 13+', 'Month 4-6', 'Month 7-12',\n",
       "       'genpop_churn', 'churn_exclude_t1', 'change_in_churn'],\n",
       "      dtype='object')"
      ]
     },
     "execution_count": 375,
     "metadata": {},
     "output_type": "execute_result"
    }
   ],
   "source": [
    "churn_bucekts_all.columns"
   ]
  },
  {
   "cell_type": "code",
   "execution_count": 376,
   "id": "07755e4a",
   "metadata": {},
   "outputs": [],
   "source": [
    "TARGET_COL = ['change_in_churn']\n",
    "FEATURE_COLS = ['Month 1-3', 'Month 4-6','Month 7-12', 'Month 13+','genpop_churn',]"
   ]
  },
  {
   "cell_type": "code",
   "execution_count": 377,
   "id": "c0c74bf6",
   "metadata": {},
   "outputs": [],
   "source": [
    "for i in FEATURE_COLS:\n",
    "    churn_bucekts_all[i] = churn_bucekts_all[i].astype(float)"
   ]
  },
  {
   "cell_type": "code",
   "execution_count": 378,
   "id": "9e59619f",
   "metadata": {},
   "outputs": [],
   "source": [
    "import matplotlib.pyplot as plt \n",
    "import seaborn as sns"
   ]
  },
  {
   "cell_type": "code",
   "execution_count": 379,
   "id": "8a512a31",
   "metadata": {},
   "outputs": [
    {
     "data": {
      "text/html": [
       "<div>\n",
       "<style scoped>\n",
       "    .dataframe tbody tr th:only-of-type {\n",
       "        vertical-align: middle;\n",
       "    }\n",
       "\n",
       "    .dataframe tbody tr th {\n",
       "        vertical-align: top;\n",
       "    }\n",
       "\n",
       "    .dataframe thead th {\n",
       "        text-align: right;\n",
       "    }\n",
       "</style>\n",
       "<table border=\"1\" class=\"dataframe\">\n",
       "  <thead>\n",
       "    <tr style=\"text-align: right;\">\n",
       "      <th></th>\n",
       "      <th>change_in_churn</th>\n",
       "    </tr>\n",
       "  </thead>\n",
       "  <tbody>\n",
       "    <tr>\n",
       "      <th>Month 1-3</th>\n",
       "      <td>-0.679506</td>\n",
       "    </tr>\n",
       "    <tr>\n",
       "      <th>Month 4-6</th>\n",
       "      <td>-0.256323</td>\n",
       "    </tr>\n",
       "    <tr>\n",
       "      <th>Month 7-12</th>\n",
       "      <td>-0.566832</td>\n",
       "    </tr>\n",
       "    <tr>\n",
       "      <th>Month 13+</th>\n",
       "      <td>0.524031</td>\n",
       "    </tr>\n",
       "    <tr>\n",
       "      <th>genpop_churn</th>\n",
       "      <td>-0.571512</td>\n",
       "    </tr>\n",
       "    <tr>\n",
       "      <th>change_in_churn</th>\n",
       "      <td>1.000000</td>\n",
       "    </tr>\n",
       "    <tr>\n",
       "      <th>dummy_value</th>\n",
       "      <td>-1.000000</td>\n",
       "    </tr>\n",
       "  </tbody>\n",
       "</table>\n",
       "</div>"
      ],
      "text/plain": [
       "                 change_in_churn\n",
       "Month 1-3              -0.679506\n",
       "Month 4-6              -0.256323\n",
       "Month 7-12             -0.566832\n",
       "Month 13+               0.524031\n",
       "genpop_churn           -0.571512\n",
       "change_in_churn         1.000000\n",
       "dummy_value            -1.000000"
      ]
     },
     "execution_count": 379,
     "metadata": {},
     "output_type": "execute_result"
    }
   ],
   "source": [
    "plot_data=churn_bucekts_all[FEATURE_COLS+TARGET_COL]\n",
    "corr = plot_data.corr()[TARGET_COL]\n",
    "mask=np.zeros_like(corr, dtype=np.bool)\n",
    "corr.loc['dummy_value'] = -1\n",
    "# corr.sort_values(by = TARGET_COL)\n",
    "# 0.819\n",
    "corr"
   ]
  },
  {
   "cell_type": "code",
   "execution_count": 380,
   "id": "c0d70197",
   "metadata": {},
   "outputs": [
    {
     "data": {
      "image/png": "[encoded data removed]",
      "text/plain": [
       "<Figure size 576x1728 with 11 Axes>"
      ]
     },
     "metadata": {
      "needs_background": "light"
     },
     "output_type": "display_data"
    }
   ],
   "source": [
    "plot_df = churn_bucekts_all\n",
    "plot_df['date_month'] = pd.to_datetime(plot_df['date_month'])\n",
    "fig, ax = plt.subplots(6,1,figsize=(8, 24))\n",
    "\n",
    "for i in range(0, 5, 1):\n",
    "    ax1 = ax[i]\n",
    "    month = FEATURE_COLS[i]\n",
    "    ax1.plot(plot_df['date_month'], plot_df[month], label= 'Tenure ' + month+ ' Churn Rate')\n",
    "\n",
    "    ax2 = ax[i].twinx()\n",
    "    ax2.plot(plot_df['date_month'], plot_df['change_in_churn'], label= 'Predicted Impact on Churn', color = 'orange')\n",
    "\n",
    "    ax1.set_xlabel('date_month')\n",
    "    ax1.legend(loc = 'lower right')\n",
    "    ax2.legend(loc = 'upper left')\n",
    "\n",
    "plt.show()\n",
    "    "
   ]
  },
  {
   "cell_type": "code",
   "execution_count": 345,
   "id": "e9f13283",
   "metadata": {},
   "outputs": [
    {
     "data": {
      "text/plain": [
       "<AxesSubplot:>"
      ]
     },
     "execution_count": 345,
     "metadata": {},
     "output_type": "execute_result"
    },
    {
     "data": {
      "image/png": "[encoded data removed]",
      "text/plain": [
       "<Figure size 720x576 with 2 Axes>"
      ]
     },
     "metadata": {
      "needs_background": "light"
     },
     "output_type": "display_data"
    }
   ],
   "source": [
    "f, ax = plt.subplots(figsize=(10, 8))\n",
    "sns.heatmap(corr, mask=np.zeros_like(corr, dtype=np.bool), cmap=sns.diverging_palette(220, 10, as_cmap=True),\n",
    "            square=True, ax=ax)"
   ]
  },
  {
   "cell_type": "code",
   "execution_count": 256,
   "id": "9bbc348f",
   "metadata": {},
   "outputs": [
    {
     "data": {
      "text/html": [
       "<div>\n",
       "<style scoped>\n",
       "    .dataframe tbody tr th:only-of-type {\n",
       "        vertical-align: middle;\n",
       "    }\n",
       "\n",
       "    .dataframe tbody tr th {\n",
       "        vertical-align: top;\n",
       "    }\n",
       "\n",
       "    .dataframe thead th {\n",
       "        text-align: right;\n",
       "    }\n",
       "</style>\n",
       "<table border=\"1\" class=\"dataframe\">\n",
       "  <thead>\n",
       "    <tr style=\"text-align: right;\">\n",
       "      <th></th>\n",
       "      <th>date_month</th>\n",
       "      <th>Month 1</th>\n",
       "      <th>Month 13+</th>\n",
       "      <th>Month 2</th>\n",
       "      <th>Month 3</th>\n",
       "      <th>Month 4-6</th>\n",
       "      <th>Month 7-12</th>\n",
       "      <th>genpop_churn</th>\n",
       "      <th>churn_exclude_t1</th>\n",
       "      <th>change_in_churn</th>\n",
       "    </tr>\n",
       "  </thead>\n",
       "  <tbody>\n",
       "    <tr>\n",
       "      <th>0</th>\n",
       "      <td>2022-01-01</td>\n",
       "      <td>0.357817</td>\n",
       "      <td>0.081316</td>\n",
       "      <td>0.098887</td>\n",
       "      <td>0.083168</td>\n",
       "      <td>0.129589</td>\n",
       "      <td>0.249222</td>\n",
       "      <td>0.088450</td>\n",
       "      <td>0.065103</td>\n",
       "      <td>-0.298043</td>\n",
       "    </tr>\n",
       "    <tr>\n",
       "      <th>1</th>\n",
       "      <td>2022-02-01</td>\n",
       "      <td>0.227830</td>\n",
       "      <td>0.122922</td>\n",
       "      <td>0.179768</td>\n",
       "      <td>0.070263</td>\n",
       "      <td>0.139913</td>\n",
       "      <td>0.259304</td>\n",
       "      <td>0.077640</td>\n",
       "      <td>0.065185</td>\n",
       "      <td>-0.244896</td>\n",
       "    </tr>\n",
       "    <tr>\n",
       "      <th>2</th>\n",
       "      <td>2022-03-01</td>\n",
       "      <td>0.267110</td>\n",
       "      <td>0.120261</td>\n",
       "      <td>0.130446</td>\n",
       "      <td>0.125569</td>\n",
       "      <td>0.124565</td>\n",
       "      <td>0.232049</td>\n",
       "      <td>0.077198</td>\n",
       "      <td>0.061731</td>\n",
       "      <td>-0.260439</td>\n",
       "    </tr>\n",
       "    <tr>\n",
       "      <th>3</th>\n",
       "      <td>2022-04-01</td>\n",
       "      <td>0.202401</td>\n",
       "      <td>0.158021</td>\n",
       "      <td>0.149394</td>\n",
       "      <td>0.092000</td>\n",
       "      <td>0.191968</td>\n",
       "      <td>0.206216</td>\n",
       "      <td>0.075261</td>\n",
       "      <td>0.063931</td>\n",
       "      <td>-0.254418</td>\n",
       "    </tr>\n",
       "    <tr>\n",
       "      <th>4</th>\n",
       "      <td>2022-05-01</td>\n",
       "      <td>0.238077</td>\n",
       "      <td>0.205773</td>\n",
       "      <td>0.103376</td>\n",
       "      <td>0.097285</td>\n",
       "      <td>0.185725</td>\n",
       "      <td>0.169765</td>\n",
       "      <td>0.070928</td>\n",
       "      <td>0.057973</td>\n",
       "      <td>-0.251917</td>\n",
       "    </tr>\n",
       "  </tbody>\n",
       "</table>\n",
       "</div>"
      ],
      "text/plain": [
       "  date_month   Month 1  Month 13+   Month 2   Month 3  Month 4-6  Month 7-12  \\\n",
       "0 2022-01-01  0.357817   0.081316  0.098887  0.083168   0.129589    0.249222   \n",
       "1 2022-02-01  0.227830   0.122922  0.179768  0.070263   0.139913    0.259304   \n",
       "2 2022-03-01  0.267110   0.120261  0.130446  0.125569   0.124565    0.232049   \n",
       "3 2022-04-01  0.202401   0.158021  0.149394  0.092000   0.191968    0.206216   \n",
       "4 2022-05-01  0.238077   0.205773  0.103376  0.097285   0.185725    0.169765   \n",
       "\n",
       "   genpop_churn  churn_exclude_t1  change_in_churn  \n",
       "0      0.088450          0.065103        -0.298043  \n",
       "1      0.077640          0.065185        -0.244896  \n",
       "2      0.077198          0.061731        -0.260439  \n",
       "3      0.075261          0.063931        -0.254418  \n",
       "4      0.070928          0.057973        -0.251917  "
      ]
     },
     "execution_count": 256,
     "metadata": {},
     "output_type": "execute_result"
    }
   ],
   "source": [
    "churn_bucekts_all.head()"
   ]
  },
  {
   "cell_type": "code",
   "execution_count": 257,
   "id": "b4c008fe",
   "metadata": {},
   "outputs": [],
   "source": [
    "import plotly.express as px\n",
    "import plotly.graph_objects as go\n",
    "from plotly.subplots import make_subplots"
   ]
  },
  {
   "cell_type": "code",
   "execution_count": 262,
   "id": "cb8544cb",
   "metadata": {},
   "outputs": [],
   "source": [
    "Re_Nom_Thresh = -0.26\n",
    "Nom_Chu_Thresh= -0.24"
   ]
  },
  {
   "cell_type": "code",
   "execution_count": 268,
   "id": "eabef160",
   "metadata": {},
   "outputs": [
    {
     "data": {
      "application/vnd.plotly.v1+json": {
       "config": {
        "plotlyServerURL": "https://plot.ly"
       },
       "data": [
        {
         "name": "Predicted Impact on Churn",
         "type": "scatter",
         "x": [
          "2022-01-01T00:00:00",
          "2022-02-01T00:00:00",
          "2022-03-01T00:00:00",
          "2022-04-01T00:00:00",
          "2022-05-01T00:00:00",
          "2022-06-01T00:00:00",
          "2022-07-01T00:00:00",
          "2022-08-01T00:00:00",
          "2022-09-01T00:00:00",
          "2022-10-01T00:00:00",
          "2022-11-01T00:00:00",
          "2022-12-01T00:00:00"
         ],
         "y": [
          -0.2980431562767651,
          -0.24489570349646692,
          -0.26043937044557014,
          -0.2544184568938783,
          -0.2519168642435578,
          -0.2340032486992623,
          -0.22696090472131783,
          -0.24251235384632433,
          -0.24727590542985173,
          -0.22374185281126205,
          -0.23243905779727111,
          -0.23631399060382033
         ]
        }
       ],
       "layout": {
        "annotations": [
         {
          "showarrow": false,
          "text": "Retention Month",
          "x": 1,
          "xanchor": "right",
          "xref": "x domain",
          "y": -0.26,
          "yanchor": "top",
          "yref": "y"
         },
         {
          "showarrow": false,
          "text": "Nomal Month",
          "x": 1,
          "xanchor": "right",
          "xref": "x domain",
          "y": -0.24,
          "yanchor": "top",
          "yref": "y"
         },
         {
          "showarrow": false,
          "text": "Churn Month",
          "x": 1,
          "xanchor": "right",
          "xref": "x domain",
          "y": -0.22,
          "yanchor": "top",
          "yref": "y"
         }
        ],
        "autosize": true,
        "legend": {
         "orientation": "h",
         "x": 0.5,
         "xanchor": "center",
         "y": -0.1,
         "yanchor": "top"
        },
        "plot_bgcolor": "rgb(255,255,255)",
        "shapes": [
         {
          "line": {
           "color": "silver",
           "dash": "dot",
           "width": 2
          },
          "type": "line",
          "x0": 0,
          "x1": 1,
          "xref": "x domain",
          "y0": -0.26,
          "y1": -0.26,
          "yref": "y"
         },
         {
          "line": {
           "color": "gold",
           "dash": "dot",
           "width": 2
          },
          "type": "line",
          "x0": 0,
          "x1": 1,
          "xref": "x domain",
          "y0": -0.24,
          "y1": -0.24,
          "yref": "y"
         },
         {
          "line": {
           "color": "grey",
           "dash": "dot",
           "width": 2
          },
          "type": "line",
          "x0": 0,
          "x1": 1,
          "xref": "x domain",
          "y0": -0.22,
          "y1": -0.22,
          "yref": "y"
         },
         {
          "fillcolor": "green",
          "line": {
           "width": 0
          },
          "opacity": 0.15,
          "type": "rect",
          "x0": 0,
          "x1": 1,
          "xref": "x domain",
          "y0": -0.3,
          "y1": -0.26,
          "yref": "y"
         },
         {
          "fillcolor": "gold",
          "line": {
           "width": 0
          },
          "opacity": 0.15,
          "type": "rect",
          "x0": 0,
          "x1": 1,
          "xref": "x domain",
          "y0": -0.26,
          "y1": -0.24,
          "yref": "y"
         },
         {
          "fillcolor": "grey",
          "line": {
           "width": 0
          },
          "opacity": 0.15,
          "type": "rect",
          "x0": 0,
          "x1": 1,
          "xref": "x domain",
          "y0": -0.24,
          "y1": -0.22,
          "yref": "y"
         }
        ],
        "template": {
         "data": {
          "bar": [
           {
            "error_x": {
             "color": "#2a3f5f"
            },
            "error_y": {
             "color": "#2a3f5f"
            },
            "marker": {
             "line": {
              "color": "#E5ECF6",
              "width": 0.5
             },
             "pattern": {
              "fillmode": "overlay",
              "size": 10,
              "solidity": 0.2
             }
            },
            "type": "bar"
           }
          ],
          "barpolar": [
           {
            "marker": {
             "line": {
              "color": "#E5ECF6",
              "width": 0.5
             },
             "pattern": {
              "fillmode": "overlay",
              "size": 10,
              "solidity": 0.2
             }
            },
            "type": "barpolar"
           }
          ],
          "carpet": [
           {
            "aaxis": {
             "endlinecolor": "#2a3f5f",
             "gridcolor": "white",
             "linecolor": "white",
             "minorgridcolor": "white",
             "startlinecolor": "#2a3f5f"
            },
            "baxis": {
             "endlinecolor": "#2a3f5f",
             "gridcolor": "white",
             "linecolor": "white",
             "minorgridcolor": "white",
             "startlinecolor": "#2a3f5f"
            },
            "type": "carpet"
           }
          ],
          "choropleth": [
           {
            "colorbar": {
             "outlinewidth": 0,
             "ticks": ""
            },
            "type": "choropleth"
           }
          ],
          "contour": [
           {
            "colorbar": {
             "outlinewidth": 0,
             "ticks": ""
            },
            "colorscale": [
             [
              0,
              "#0d0887"
             ],
             [
              0.1111111111111111,
              "#46039f"
             ],
             [
              0.2222222222222222,
              "#7201a8"
             ],
             [
              0.3333333333333333,
              "#9c179e"
             ],
             [
              0.4444444444444444,
              "#bd3786"
             ],
             [
              0.5555555555555556,
              "#d8576b"
             ],
             [
              0.6666666666666666,
              "#ed7953"
             ],
             [
              0.7777777777777778,
              "#fb9f3a"
             ],
             [
              0.8888888888888888,
              "#fdca26"
             ],
             [
              1,
              "#f0f921"
             ]
            ],
            "type": "contour"
           }
          ],
          "contourcarpet": [
           {
            "colorbar": {
             "outlinewidth": 0,
             "ticks": ""
            },
            "type": "contourcarpet"
           }
          ],
          "heatmap": [
           {
            "colorbar": {
             "outlinewidth": 0,
             "ticks": ""
            },
            "colorscale": [
             [
              0,
              "#0d0887"
             ],
             [
              0.1111111111111111,
              "#46039f"
             ],
             [
              0.2222222222222222,
              "#7201a8"
             ],
             [
              0.3333333333333333,
              "#9c179e"
             ],
             [
              0.4444444444444444,
              "#bd3786"
             ],
             [
              0.5555555555555556,
              "#d8576b"
             ],
             [
              0.6666666666666666,
              "#ed7953"
             ],
             [
              0.7777777777777778,
              "#fb9f3a"
             ],
             [
              0.8888888888888888,
              "#fdca26"
             ],
             [
              1,
              "#f0f921"
             ]
            ],
            "type": "heatmap"
           }
          ],
          "heatmapgl": [
           {
            "colorbar": {
             "outlinewidth": 0,
             "ticks": ""
            },
            "colorscale": [
             [
              0,
              "#0d0887"
             ],
             [
              0.1111111111111111,
              "#46039f"
             ],
             [
              0.2222222222222222,
              "#7201a8"
             ],
             [
              0.3333333333333333,
              "#9c179e"
             ],
             [
              0.4444444444444444,
              "#bd3786"
             ],
             [
              0.5555555555555556,
              "#d8576b"
             ],
             [
              0.6666666666666666,
              "#ed7953"
             ],
             [
              0.7777777777777778,
              "#fb9f3a"
             ],
             [
              0.8888888888888888,
              "#fdca26"
             ],
             [
              1,
              "#f0f921"
             ]
            ],
            "type": "heatmapgl"
           }
          ],
          "histogram": [
           {
            "marker": {
             "pattern": {
              "fillmode": "overlay",
              "size": 10,
              "solidity": 0.2
             }
            },
            "type": "histogram"
           }
          ],
          "histogram2d": [
           {
            "colorbar": {
             "outlinewidth": 0,
             "ticks": ""
            },
            "colorscale": [
             [
              0,
              "#0d0887"
             ],
             [
              0.1111111111111111,
              "#46039f"
             ],
             [
              0.2222222222222222,
              "#7201a8"
             ],
             [
              0.3333333333333333,
              "#9c179e"
             ],
             [
              0.4444444444444444,
              "#bd3786"
             ],
             [
              0.5555555555555556,
              "#d8576b"
             ],
             [
              0.6666666666666666,
              "#ed7953"
             ],
             [
              0.7777777777777778,
              "#fb9f3a"
             ],
             [
              0.8888888888888888,
              "#fdca26"
             ],
             [
              1,
              "#f0f921"
             ]
            ],
            "type": "histogram2d"
           }
          ],
          "histogram2dcontour": [
           {
            "colorbar": {
             "outlinewidth": 0,
             "ticks": ""
            },
            "colorscale": [
             [
              0,
              "#0d0887"
             ],
             [
              0.1111111111111111,
              "#46039f"
             ],
             [
              0.2222222222222222,
              "#7201a8"
             ],
             [
              0.3333333333333333,
              "#9c179e"
             ],
             [
              0.4444444444444444,
              "#bd3786"
             ],
             [
              0.5555555555555556,
              "#d8576b"
             ],
             [
              0.6666666666666666,
              "#ed7953"
             ],
             [
              0.7777777777777778,
              "#fb9f3a"
             ],
             [
              0.8888888888888888,
              "#fdca26"
             ],
             [
              1,
              "#f0f921"
             ]
            ],
            "type": "histogram2dcontour"
           }
          ],
          "mesh3d": [
           {
            "colorbar": {
             "outlinewidth": 0,
             "ticks": ""
            },
            "type": "mesh3d"
           }
          ],
          "parcoords": [
           {
            "line": {
             "colorbar": {
              "outlinewidth": 0,
              "ticks": ""
             }
            },
            "type": "parcoords"
           }
          ],
          "pie": [
           {
            "automargin": true,
            "type": "pie"
           }
          ],
          "scatter": [
           {
            "marker": {
             "colorbar": {
              "outlinewidth": 0,
              "ticks": ""
             }
            },
            "type": "scatter"
           }
          ],
          "scatter3d": [
           {
            "line": {
             "colorbar": {
              "outlinewidth": 0,
              "ticks": ""
             }
            },
            "marker": {
             "colorbar": {
              "outlinewidth": 0,
              "ticks": ""
             }
            },
            "type": "scatter3d"
           }
          ],
          "scattercarpet": [
           {
            "marker": {
             "colorbar": {
              "outlinewidth": 0,
              "ticks": ""
             }
            },
            "type": "scattercarpet"
           }
          ],
          "scattergeo": [
           {
            "marker": {
             "colorbar": {
              "outlinewidth": 0,
              "ticks": ""
             }
            },
            "type": "scattergeo"
           }
          ],
          "scattergl": [
           {
            "marker": {
             "colorbar": {
              "outlinewidth": 0,
              "ticks": ""
             }
            },
            "type": "scattergl"
           }
          ],
          "scattermapbox": [
           {
            "marker": {
             "colorbar": {
              "outlinewidth": 0,
              "ticks": ""
             }
            },
            "type": "scattermapbox"
           }
          ],
          "scatterpolar": [
           {
            "marker": {
             "colorbar": {
              "outlinewidth": 0,
              "ticks": ""
             }
            },
            "type": "scatterpolar"
           }
          ],
          "scatterpolargl": [
           {
            "marker": {
             "colorbar": {
              "outlinewidth": 0,
              "ticks": ""
             }
            },
            "type": "scatterpolargl"
           }
          ],
          "scatterternary": [
           {
            "marker": {
             "colorbar": {
              "outlinewidth": 0,
              "ticks": ""
             }
            },
            "type": "scatterternary"
           }
          ],
          "surface": [
           {
            "colorbar": {
             "outlinewidth": 0,
             "ticks": ""
            },
            "colorscale": [
             [
              0,
              "#0d0887"
             ],
             [
              0.1111111111111111,
              "#46039f"
             ],
             [
              0.2222222222222222,
              "#7201a8"
             ],
             [
              0.3333333333333333,
              "#9c179e"
             ],
             [
              0.4444444444444444,
              "#bd3786"
             ],
             [
              0.5555555555555556,
              "#d8576b"
             ],
             [
              0.6666666666666666,
              "#ed7953"
             ],
             [
              0.7777777777777778,
              "#fb9f3a"
             ],
             [
              0.8888888888888888,
              "#fdca26"
             ],
             [
              1,
              "#f0f921"
             ]
            ],
            "type": "surface"
           }
          ],
          "table": [
           {
            "cells": {
             "fill": {
              "color": "#EBF0F8"
             },
             "line": {
              "color": "white"
             }
            },
            "header": {
             "fill": {
              "color": "#C8D4E3"
             },
             "line": {
              "color": "white"
             }
            },
            "type": "table"
           }
          ]
         },
         "layout": {
          "annotationdefaults": {
           "arrowcolor": "#2a3f5f",
           "arrowhead": 0,
           "arrowwidth": 1
          },
          "autotypenumbers": "strict",
          "coloraxis": {
           "colorbar": {
            "outlinewidth": 0,
            "ticks": ""
           }
          },
          "colorscale": {
           "diverging": [
            [
             0,
             "#8e0152"
            ],
            [
             0.1,
             "#c51b7d"
            ],
            [
             0.2,
             "#de77ae"
            ],
            [
             0.3,
             "#f1b6da"
            ],
            [
             0.4,
             "#fde0ef"
            ],
            [
             0.5,
             "#f7f7f7"
            ],
            [
             0.6,
             "#e6f5d0"
            ],
            [
             0.7,
             "#b8e186"
            ],
            [
             0.8,
             "#7fbc41"
            ],
            [
             0.9,
             "#4d9221"
            ],
            [
             1,
             "#276419"
            ]
           ],
           "sequential": [
            [
             0,
             "#0d0887"
            ],
            [
             0.1111111111111111,
             "#46039f"
            ],
            [
             0.2222222222222222,
             "#7201a8"
            ],
            [
             0.3333333333333333,
             "#9c179e"
            ],
            [
             0.4444444444444444,
             "#bd3786"
            ],
            [
             0.5555555555555556,
             "#d8576b"
            ],
            [
             0.6666666666666666,
             "#ed7953"
            ],
            [
             0.7777777777777778,
             "#fb9f3a"
            ],
            [
             0.8888888888888888,
             "#fdca26"
            ],
            [
             1,
             "#f0f921"
            ]
           ],
           "sequentialminus": [
            [
             0,
             "#0d0887"
            ],
            [
             0.1111111111111111,
             "#46039f"
            ],
            [
             0.2222222222222222,
             "#7201a8"
            ],
            [
             0.3333333333333333,
             "#9c179e"
            ],
            [
             0.4444444444444444,
             "#bd3786"
            ],
            [
             0.5555555555555556,
             "#d8576b"
            ],
            [
             0.6666666666666666,
             "#ed7953"
            ],
            [
             0.7777777777777778,
             "#fb9f3a"
            ],
            [
             0.8888888888888888,
             "#fdca26"
            ],
            [
             1,
             "#f0f921"
            ]
           ]
          },
          "colorway": [
           "#636efa",
           "#EF553B",
           "#00cc96",
           "#ab63fa",
           "#FFA15A",
           "#19d3f3",
           "#FF6692",
           "#B6E880",
           "#FF97FF",
           "#FECB52"
          ],
          "font": {
           "color": "#2a3f5f"
          },
          "geo": {
           "bgcolor": "white",
           "lakecolor": "white",
           "landcolor": "#E5ECF6",
           "showlakes": true,
           "showland": true,
           "subunitcolor": "white"
          },
          "hoverlabel": {
           "align": "left"
          },
          "hovermode": "closest",
          "mapbox": {
           "style": "light"
          },
          "paper_bgcolor": "white",
          "plot_bgcolor": "#E5ECF6",
          "polar": {
           "angularaxis": {
            "gridcolor": "white",
            "linecolor": "white",
            "ticks": ""
           },
           "bgcolor": "#E5ECF6",
           "radialaxis": {
            "gridcolor": "white",
            "linecolor": "white",
            "ticks": ""
           }
          },
          "scene": {
           "xaxis": {
            "backgroundcolor": "#E5ECF6",
            "gridcolor": "white",
            "gridwidth": 2,
            "linecolor": "white",
            "showbackground": true,
            "ticks": "",
            "zerolinecolor": "white"
           },
           "yaxis": {
            "backgroundcolor": "#E5ECF6",
            "gridcolor": "white",
            "gridwidth": 2,
            "linecolor": "white",
            "showbackground": true,
            "ticks": "",
            "zerolinecolor": "white"
           },
           "zaxis": {
            "backgroundcolor": "#E5ECF6",
            "gridcolor": "white",
            "gridwidth": 2,
            "linecolor": "white",
            "showbackground": true,
            "ticks": "",
            "zerolinecolor": "white"
           }
          },
          "shapedefaults": {
           "line": {
            "color": "#2a3f5f"
           }
          },
          "ternary": {
           "aaxis": {
            "gridcolor": "white",
            "linecolor": "white",
            "ticks": ""
           },
           "baxis": {
            "gridcolor": "white",
            "linecolor": "white",
            "ticks": ""
           },
           "bgcolor": "#E5ECF6",
           "caxis": {
            "gridcolor": "white",
            "linecolor": "white",
            "ticks": ""
           }
          },
          "title": {
           "x": 0.05
          },
          "xaxis": {
           "automargin": true,
           "gridcolor": "white",
           "linecolor": "white",
           "ticks": "",
           "title": {
            "standoff": 15
           },
           "zerolinecolor": "white",
           "zerolinewidth": 2
          },
          "yaxis": {
           "automargin": true,
           "gridcolor": "white",
           "linecolor": "white",
           "ticks": "",
           "title": {
            "standoff": 15
           },
           "zerolinecolor": "white",
           "zerolinewidth": 2
          }
         }
        },
        "xaxis": {
         "anchor": "y",
         "autorange": true,
         "domain": [
          0,
          0.94
         ],
         "linecolor": "black",
         "linewidth": 0.5,
         "range": [
          "2021-12-11 21:44:22.9129",
          "2022-12-21 02:15:37.0871"
         ],
         "showline": true,
         "type": "date"
        },
        "yaxis": {
         "anchor": "x",
         "autorange": true,
         "domain": [
          0,
          1
         ],
         "linecolor": "black",
         "linewidth": 0.5,
         "range": [
          -0.3034856084414357,
          -0.21829940064659145
         ],
         "showline": true,
         "title": {
          "text": "Retention Value"
         },
         "type": "linear"
        },
        "yaxis2": {
         "anchor": "x",
         "linecolor": "black",
         "linewidth": 0.5,
         "overlaying": "y",
         "showline": true,
         "side": "right",
         "title": {
          "text": "Historical Churn"
         }
        }
       }
      },
      "image/png": "[encoded data removed]",
      "text/html": [
       "<div>                            <div id=\"80a1f1cf-4de1-4030-a11a-9c4eda19d675\" class=\"plotly-graph-div\" style=\"height:525px; width:100%;\"></div>            <script type=\"text/javascript\">                require([\"plotly\"], function(Plotly) {                    window.PLOTLYENV=window.PLOTLYENV || {};                                    if (document.getElementById(\"80a1f1cf-4de1-4030-a11a-9c4eda19d675\")) {                    Plotly.newPlot(                        \"80a1f1cf-4de1-4030-a11a-9c4eda19d675\",                        [{\"name\":\"Predicted Impact on Churn\",\"x\":[\"2022-01-01T00:00:00\",\"2022-02-01T00:00:00\",\"2022-03-01T00:00:00\",\"2022-04-01T00:00:00\",\"2022-05-01T00:00:00\",\"2022-06-01T00:00:00\",\"2022-07-01T00:00:00\",\"2022-08-01T00:00:00\",\"2022-09-01T00:00:00\",\"2022-10-01T00:00:00\",\"2022-11-01T00:00:00\",\"2022-12-01T00:00:00\"],\"y\":[-0.2980431562767651,-0.24489570349646692,-0.26043937044557014,-0.2544184568938783,-0.2519168642435578,-0.2340032486992623,-0.22696090472131783,-0.24251235384632433,-0.24727590542985173,-0.22374185281126205,-0.23243905779727111,-0.23631399060382033],\"type\":\"scatter\"}],                        {\"template\":{\"data\":{\"bar\":[{\"error_x\":{\"color\":\"#2a3f5f\"},\"error_y\":{\"color\":\"#2a3f5f\"},\"marker\":{\"line\":{\"color\":\"#E5ECF6\",\"width\":0.5},\"pattern\":{\"fillmode\":\"overlay\",\"size\":10,\"solidity\":0.2}},\"type\":\"bar\"}],\"barpolar\":[{\"marker\":{\"line\":{\"color\":\"#E5ECF6\",\"width\":0.5},\"pattern\":{\"fillmode\":\"overlay\",\"size\":10,\"solidity\":0.2}},\"type\":\"barpolar\"}],\"carpet\":[{\"aaxis\":{\"endlinecolor\":\"#2a3f5f\",\"gridcolor\":\"white\",\"linecolor\":\"white\",\"minorgridcolor\":\"white\",\"startlinecolor\":\"#2a3f5f\"},\"baxis\":{\"endlinecolor\":\"#2a3f5f\",\"gridcolor\":\"white\",\"linecolor\":\"white\",\"minorgridcolor\":\"white\",\"startlinecolor\":\"#2a3f5f\"},\"type\":\"carpet\"}],\"choropleth\":[{\"colorbar\":{\"outlinewidth\":0,\"ticks\":\"\"},\"type\":\"choropleth\"}],\"contour\":[{\"colorbar\":{\"outlinewidth\":0,\"ticks\":\"\"},\"colorscale\":[[0.0,\"#0d0887\"],[0.1111111111111111,\"#46039f\"],[0.2222222222222222,\"#7201a8\"],[0.3333333333333333,\"#9c179e\"],[0.4444444444444444,\"#bd3786\"],[0.5555555555555556,\"#d8576b\"],[0.6666666666666666,\"#ed7953\"],[0.7777777777777778,\"#fb9f3a\"],[0.8888888888888888,\"#fdca26\"],[1.0,\"#f0f921\"]],\"type\":\"contour\"}],\"contourcarpet\":[{\"colorbar\":{\"outlinewidth\":0,\"ticks\":\"\"},\"type\":\"contourcarpet\"}],\"heatmap\":[{\"colorbar\":{\"outlinewidth\":0,\"ticks\":\"\"},\"colorscale\":[[0.0,\"#0d0887\"],[0.1111111111111111,\"#46039f\"],[0.2222222222222222,\"#7201a8\"],[0.3333333333333333,\"#9c179e\"],[0.4444444444444444,\"#bd3786\"],[0.5555555555555556,\"#d8576b\"],[0.6666666666666666,\"#ed7953\"],[0.7777777777777778,\"#fb9f3a\"],[0.8888888888888888,\"#fdca26\"],[1.0,\"#f0f921\"]],\"type\":\"heatmap\"}],\"heatmapgl\":[{\"colorbar\":{\"outlinewidth\":0,\"ticks\":\"\"},\"colorscale\":[[0.0,\"#0d0887\"],[0.1111111111111111,\"#46039f\"],[0.2222222222222222,\"#7201a8\"],[0.3333333333333333,\"#9c179e\"],[0.4444444444444444,\"#bd3786\"],[0.5555555555555556,\"#d8576b\"],[0.6666666666666666,\"#ed7953\"],[0.7777777777777778,\"#fb9f3a\"],[0.8888888888888888,\"#fdca26\"],[1.0,\"#f0f921\"]],\"type\":\"heatmapgl\"}],\"histogram\":[{\"marker\":{\"pattern\":{\"fillmode\":\"overlay\",\"size\":10,\"solidity\":0.2}},\"type\":\"histogram\"}],\"histogram2d\":[{\"colorbar\":{\"outlinewidth\":0,\"ticks\":\"\"},\"colorscale\":[[0.0,\"#0d0887\"],[0.1111111111111111,\"#46039f\"],[0.2222222222222222,\"#7201a8\"],[0.3333333333333333,\"#9c179e\"],[0.4444444444444444,\"#bd3786\"],[0.5555555555555556,\"#d8576b\"],[0.6666666666666666,\"#ed7953\"],[0.7777777777777778,\"#fb9f3a\"],[0.8888888888888888,\"#fdca26\"],[1.0,\"#f0f921\"]],\"type\":\"histogram2d\"}],\"histogram2dcontour\":[{\"colorbar\":{\"outlinewidth\":0,\"ticks\":\"\"},\"colorscale\":[[0.0,\"#0d0887\"],[0.1111111111111111,\"#46039f\"],[0.2222222222222222,\"#7201a8\"],[0.3333333333333333,\"#9c179e\"],[0.4444444444444444,\"#bd3786\"],[0.5555555555555556,\"#d8576b\"],[0.6666666666666666,\"#ed7953\"],[0.7777777777777778,\"#fb9f3a\"],[0.8888888888888888,\"#fdca26\"],[1.0,\"#f0f921\"]],\"type\":\"histogram2dcontour\"}],\"mesh3d\":[{\"colorbar\":{\"outlinewidth\":0,\"ticks\":\"\"},\"type\":\"mesh3d\"}],\"parcoords\":[{\"line\":{\"colorbar\":{\"outlinewidth\":0,\"ticks\":\"\"}},\"type\":\"parcoords\"}],\"pie\":[{\"automargin\":true,\"type\":\"pie\"}],\"scatter\":[{\"marker\":{\"colorbar\":{\"outlinewidth\":0,\"ticks\":\"\"}},\"type\":\"scatter\"}],\"scatter3d\":[{\"line\":{\"colorbar\":{\"outlinewidth\":0,\"ticks\":\"\"}},\"marker\":{\"colorbar\":{\"outlinewidth\":0,\"ticks\":\"\"}},\"type\":\"scatter3d\"}],\"scattercarpet\":[{\"marker\":{\"colorbar\":{\"outlinewidth\":0,\"ticks\":\"\"}},\"type\":\"scattercarpet\"}],\"scattergeo\":[{\"marker\":{\"colorbar\":{\"outlinewidth\":0,\"ticks\":\"\"}},\"type\":\"scattergeo\"}],\"scattergl\":[{\"marker\":{\"colorbar\":{\"outlinewidth\":0,\"ticks\":\"\"}},\"type\":\"scattergl\"}],\"scattermapbox\":[{\"marker\":{\"colorbar\":{\"outlinewidth\":0,\"ticks\":\"\"}},\"type\":\"scattermapbox\"}],\"scatterpolar\":[{\"marker\":{\"colorbar\":{\"outlinewidth\":0,\"ticks\":\"\"}},\"type\":\"scatterpolar\"}],\"scatterpolargl\":[{\"marker\":{\"colorbar\":{\"outlinewidth\":0,\"ticks\":\"\"}},\"type\":\"scatterpolargl\"}],\"scatterternary\":[{\"marker\":{\"colorbar\":{\"outlinewidth\":0,\"ticks\":\"\"}},\"type\":\"scatterternary\"}],\"surface\":[{\"colorbar\":{\"outlinewidth\":0,\"ticks\":\"\"},\"colorscale\":[[0.0,\"#0d0887\"],[0.1111111111111111,\"#46039f\"],[0.2222222222222222,\"#7201a8\"],[0.3333333333333333,\"#9c179e\"],[0.4444444444444444,\"#bd3786\"],[0.5555555555555556,\"#d8576b\"],[0.6666666666666666,\"#ed7953\"],[0.7777777777777778,\"#fb9f3a\"],[0.8888888888888888,\"#fdca26\"],[1.0,\"#f0f921\"]],\"type\":\"surface\"}],\"table\":[{\"cells\":{\"fill\":{\"color\":\"#EBF0F8\"},\"line\":{\"color\":\"white\"}},\"header\":{\"fill\":{\"color\":\"#C8D4E3\"},\"line\":{\"color\":\"white\"}},\"type\":\"table\"}]},\"layout\":{\"annotationdefaults\":{\"arrowcolor\":\"#2a3f5f\",\"arrowhead\":0,\"arrowwidth\":1},\"autotypenumbers\":\"strict\",\"coloraxis\":{\"colorbar\":{\"outlinewidth\":0,\"ticks\":\"\"}},\"colorscale\":{\"diverging\":[[0,\"#8e0152\"],[0.1,\"#c51b7d\"],[0.2,\"#de77ae\"],[0.3,\"#f1b6da\"],[0.4,\"#fde0ef\"],[0.5,\"#f7f7f7\"],[0.6,\"#e6f5d0\"],[0.7,\"#b8e186\"],[0.8,\"#7fbc41\"],[0.9,\"#4d9221\"],[1,\"#276419\"]],\"sequential\":[[0.0,\"#0d0887\"],[0.1111111111111111,\"#46039f\"],[0.2222222222222222,\"#7201a8\"],[0.3333333333333333,\"#9c179e\"],[0.4444444444444444,\"#bd3786\"],[0.5555555555555556,\"#d8576b\"],[0.6666666666666666,\"#ed7953\"],[0.7777777777777778,\"#fb9f3a\"],[0.8888888888888888,\"#fdca26\"],[1.0,\"#f0f921\"]],\"sequentialminus\":[[0.0,\"#0d0887\"],[0.1111111111111111,\"#46039f\"],[0.2222222222222222,\"#7201a8\"],[0.3333333333333333,\"#9c179e\"],[0.4444444444444444,\"#bd3786\"],[0.5555555555555556,\"#d8576b\"],[0.6666666666666666,\"#ed7953\"],[0.7777777777777778,\"#fb9f3a\"],[0.8888888888888888,\"#fdca26\"],[1.0,\"#f0f921\"]]},\"colorway\":[\"#636efa\",\"#EF553B\",\"#00cc96\",\"#ab63fa\",\"#FFA15A\",\"#19d3f3\",\"#FF6692\",\"#B6E880\",\"#FF97FF\",\"#FECB52\"],\"font\":{\"color\":\"#2a3f5f\"},\"geo\":{\"bgcolor\":\"white\",\"lakecolor\":\"white\",\"landcolor\":\"#E5ECF6\",\"showlakes\":true,\"showland\":true,\"subunitcolor\":\"white\"},\"hoverlabel\":{\"align\":\"left\"},\"hovermode\":\"closest\",\"mapbox\":{\"style\":\"light\"},\"paper_bgcolor\":\"white\",\"plot_bgcolor\":\"#E5ECF6\",\"polar\":{\"angularaxis\":{\"gridcolor\":\"white\",\"linecolor\":\"white\",\"ticks\":\"\"},\"bgcolor\":\"#E5ECF6\",\"radialaxis\":{\"gridcolor\":\"white\",\"linecolor\":\"white\",\"ticks\":\"\"}},\"scene\":{\"xaxis\":{\"backgroundcolor\":\"#E5ECF6\",\"gridcolor\":\"white\",\"gridwidth\":2,\"linecolor\":\"white\",\"showbackground\":true,\"ticks\":\"\",\"zerolinecolor\":\"white\"},\"yaxis\":{\"backgroundcolor\":\"#E5ECF6\",\"gridcolor\":\"white\",\"gridwidth\":2,\"linecolor\":\"white\",\"showbackground\":true,\"ticks\":\"\",\"zerolinecolor\":\"white\"},\"zaxis\":{\"backgroundcolor\":\"#E5ECF6\",\"gridcolor\":\"white\",\"gridwidth\":2,\"linecolor\":\"white\",\"showbackground\":true,\"ticks\":\"\",\"zerolinecolor\":\"white\"}},\"shapedefaults\":{\"line\":{\"color\":\"#2a3f5f\"}},\"ternary\":{\"aaxis\":{\"gridcolor\":\"white\",\"linecolor\":\"white\",\"ticks\":\"\"},\"baxis\":{\"gridcolor\":\"white\",\"linecolor\":\"white\",\"ticks\":\"\"},\"bgcolor\":\"#E5ECF6\",\"caxis\":{\"gridcolor\":\"white\",\"linecolor\":\"white\",\"ticks\":\"\"}},\"title\":{\"x\":0.05},\"xaxis\":{\"automargin\":true,\"gridcolor\":\"white\",\"linecolor\":\"white\",\"ticks\":\"\",\"title\":{\"standoff\":15},\"zerolinecolor\":\"white\",\"zerolinewidth\":2},\"yaxis\":{\"automargin\":true,\"gridcolor\":\"white\",\"linecolor\":\"white\",\"ticks\":\"\",\"title\":{\"standoff\":15},\"zerolinecolor\":\"white\",\"zerolinewidth\":2}}},\"xaxis\":{\"anchor\":\"y\",\"domain\":[0.0,0.94],\"showline\":true,\"linewidth\":0.5,\"linecolor\":\"black\"},\"yaxis\":{\"anchor\":\"x\",\"domain\":[0.0,1.0],\"showline\":true,\"linewidth\":0.5,\"linecolor\":\"black\",\"title\":{\"text\":\"Retention Value\"}},\"yaxis2\":{\"anchor\":\"x\",\"overlaying\":\"y\",\"side\":\"right\",\"showline\":true,\"linewidth\":0.5,\"linecolor\":\"black\",\"title\":{\"text\":\"Historical Churn\"}},\"shapes\":[{\"line\":{\"color\":\"silver\",\"dash\":\"dot\",\"width\":2},\"type\":\"line\",\"x0\":0,\"x1\":1,\"xref\":\"x domain\",\"y0\":-0.26,\"y1\":-0.26,\"yref\":\"y\"},{\"line\":{\"color\":\"gold\",\"dash\":\"dot\",\"width\":2},\"type\":\"line\",\"x0\":0,\"x1\":1,\"xref\":\"x domain\",\"y0\":-0.24,\"y1\":-0.24,\"yref\":\"y\"},{\"line\":{\"color\":\"grey\",\"dash\":\"dot\",\"width\":2},\"type\":\"line\",\"x0\":0,\"x1\":1,\"xref\":\"x domain\",\"y0\":-0.22,\"y1\":-0.22,\"yref\":\"y\"},{\"fillcolor\":\"green\",\"line\":{\"width\":0},\"opacity\":0.15,\"type\":\"rect\",\"x0\":0,\"x1\":1,\"xref\":\"x domain\",\"y0\":-0.3,\"y1\":-0.26,\"yref\":\"y\"},{\"fillcolor\":\"gold\",\"line\":{\"width\":0},\"opacity\":0.15,\"type\":\"rect\",\"x0\":0,\"x1\":1,\"xref\":\"x domain\",\"y0\":-0.26,\"y1\":-0.24,\"yref\":\"y\"},{\"fillcolor\":\"grey\",\"line\":{\"width\":0},\"opacity\":0.15,\"type\":\"rect\",\"x0\":0,\"x1\":1,\"xref\":\"x domain\",\"y0\":-0.24,\"y1\":-0.22,\"yref\":\"y\"}],\"annotations\":[{\"showarrow\":false,\"text\":\"Retention Month\",\"x\":1,\"xanchor\":\"right\",\"xref\":\"x domain\",\"y\":-0.26,\"yanchor\":\"top\",\"yref\":\"y\"},{\"showarrow\":false,\"text\":\"Nomal Month\",\"x\":1,\"xanchor\":\"right\",\"xref\":\"x domain\",\"y\":-0.24,\"yanchor\":\"top\",\"yref\":\"y\"},{\"showarrow\":false,\"text\":\"Churn Month\",\"x\":1,\"xanchor\":\"right\",\"xref\":\"x domain\",\"y\":-0.22,\"yanchor\":\"top\",\"yref\":\"y\"}],\"plot_bgcolor\":\"rgb(255,255,255)\",\"legend\":{\"orientation\":\"h\",\"yanchor\":\"top\",\"y\":-0.1,\"xanchor\":\"center\",\"x\":0.5}},                        {\"responsive\": true}                    ).then(function(){\n",
       "                            \n",
       "var gd = document.getElementById('80a1f1cf-4de1-4030-a11a-9c4eda19d675');\n",
       "var x = new MutationObserver(function (mutations, observer) {{\n",
       "        var display = window.getComputedStyle(gd).display;\n",
       "        if (!display || display === 'none') {{\n",
       "            console.log([gd, 'removed!']);\n",
       "            Plotly.purge(gd);\n",
       "            observer.disconnect();\n",
       "        }}\n",
       "}});\n",
       "\n",
       "// Listen for the removal of the full notebook cells\n",
       "var notebookContainer = gd.closest('#notebook-container');\n",
       "if (notebookContainer) {{\n",
       "    x.observe(notebookContainer, {childList: true});\n",
       "}}\n",
       "\n",
       "// Listen for the clearing of the current output cell\n",
       "var outputEl = gd.closest('.output');\n",
       "if (outputEl) {{\n",
       "    x.observe(outputEl, {childList: true});\n",
       "}}\n",
       "\n",
       "                        })                };                });            </script>        </div>"
      ]
     },
     "metadata": {},
     "output_type": "display_data"
    }
   ],
   "source": [
    "fig = make_subplots(specs=[[{\"secondary_y\": True}]])\n",
    "\n",
    "fig.add_trace(\n",
    "    go.Scatter(x=plot_df['date_month'], y=plot_df['change_in_churn'], name=\"Predicted Impact on Churn\"),)\n",
    "\n",
    "# fig.add_trace(\n",
    "#     go.Scatter(x=plot_df['date_month'], y=plot_df['genpop_churn'], name=\"genpop_churn Churn rate\"),secondary_y=True,)\n",
    "\n",
    "fig.add_hline(y = Re_Nom_Thresh, line_width=2, line_dash=\"dot\", line_color=\"silver\", annotation_text = 'Retention Month',\n",
    "              annotation_position=\"bottom right\")\n",
    "fig.add_hline(y = Nom_Chu_Thresh, line_width=2, line_dash=\"dot\", line_color=\"gold\", annotation_text = 'Nomal Month',\n",
    "              annotation_position=\"bottom right\")\n",
    "fig.add_hline(y = -0.22, line_width=2, line_dash=\"dot\", line_color=\"grey\", annotation_text = 'Churn Month',\n",
    "              annotation_position=\"bottom right\")\n",
    "\n",
    "fig.add_hrect(y0=-0.3, y1=Re_Nom_Thresh, fillcolor=\"green\", opacity=0.15, line_width=0)\n",
    "fig.add_hrect(y0=Re_Nom_Thresh, y1=Nom_Chu_Thresh, fillcolor=\"gold\", opacity=0.15, line_width=0)\n",
    "fig.add_hrect(y0=Nom_Chu_Thresh, y1=-0.22, fillcolor=\"grey\", opacity=0.15, line_width=0)\n",
    "\n",
    "# fig.update_layout(xaxis_showgrid=False, yaxis_showgrid=False, xaxis_zeroline=True, yaxis_zeroline=True,)\n",
    "fig.update_layout(plot_bgcolor='rgb(255,255,255)')\n",
    "fig.update_xaxes(showline=True, linewidth=0.5, linecolor='black')\n",
    "fig.update_yaxes(showline=True, linewidth=0.5, linecolor='black')\n",
    "\n",
    "fig.update_layout(legend=dict( orientation=\"h\",\n",
    "    yanchor=\"top\",\n",
    "    y=-0.1,\n",
    "    xanchor=\"center\",\n",
    "    x=0.5\n",
    "))\n",
    "\n",
    "fig.update_yaxes(title_text=\"Historical Churn\", secondary_y=True)\n",
    "fig.update_yaxes(title_text=\"Retention Value\", secondary_y=False)\n",
    "fig.show()"
   ]
  },
  {
   "cell_type": "code",
   "execution_count": 244,
   "id": "e8ef0519",
   "metadata": {},
   "outputs": [],
   "source": [
    "# fig = make_subplots(specs=[[{\"secondary_y\": True}]])\n",
    "\n",
    "# fig.add_trace(\n",
    "#     go.Scatter(x=plot_df['date_month'], y=plot_df['change_in_churn'], name=\"Predicted Impact on Churn\"),)\n",
    "\n",
    "# fig.add_trace(\n",
    "#     go.Scatter(x=plot_df['date_month'], y=plot_df['4-6'], name=\"Tenure 4-6 Churn rate\"),secondary_y=True,)\n",
    "\n",
    "# fig.add_hline(y = -0.23, line_width=2, line_dash=\"dot\", line_color=\"silver\", annotation_text = 'Retention Month',\n",
    "#               annotation_position=\"bottom right\")\n",
    "# fig.add_hline(y = -0.2, line_width=2, line_dash=\"dot\", line_color=\"gold\", annotation_text = 'Nomal Month',\n",
    "#               annotation_position=\"bottom right\")\n",
    "# fig.add_hline(y = -0.19, line_width=2, line_dash=\"dot\", line_color=\"grey\", annotation_text = 'Churn Month',\n",
    "#               annotation_position=\"bottom right\")\n",
    "\n",
    "# fig.add_hrect(y0=-0.26, y1=-0.23, fillcolor=\"green\", opacity=0.15, line_width=0)\n",
    "# fig.add_hrect(y0=-0.23, y1=-0.2, fillcolor=\"gold\", opacity=0.15, line_width=0)\n",
    "# fig.add_hrect(y0=-0.2, y1=-0.19, fillcolor=\"grey\", opacity=0.15, line_width=0)\n",
    "\n",
    "# # fig.update_layout(xaxis_showgrid=False, yaxis_showgrid=False, xaxis_zeroline=True, yaxis_zeroline=True,)\n",
    "# fig.update_layout(plot_bgcolor='rgb(255,255,255)')\n",
    "# fig.update_xaxes(showline=True, linewidth=0.5, linecolor='black')\n",
    "# fig.update_yaxes(showline=True, linewidth=0.5, linecolor='black')\n",
    "\n",
    "# fig.update_layout(legend=dict( orientation=\"h\",\n",
    "#     yanchor=\"top\",\n",
    "#     y=-0.1,\n",
    "#     xanchor=\"center\",\n",
    "#     x=0.5\n",
    "# ))\n",
    "\n",
    "# fig.update_yaxes(title_text=\"Historical Churn\", secondary_y=True)\n",
    "# fig.update_yaxes(title_text=\"Retention Value\", secondary_y=False)\n",
    "# fig.show()"
   ]
  },
  {
   "cell_type": "code",
   "execution_count": 242,
   "id": "86aba86d",
   "metadata": {},
   "outputs": [],
   "source": [
    "churn_bucekts_all = churn_bucekts_all[FEATURE_COLS+['change_in_churn','date_month']]\n",
    "churn_bucekts_all['month'] = 'Norm' \n",
    "churn_bucekts_all.loc[churn_bucekts_all['change_in_churn']<-0.22, 'month'] = 'Retention'\n",
    "churn_bucekts_all.loc[churn_bucekts_all['change_in_churn']>-0.2, 'month'] = 'Churn'"
   ]
  },
  {
   "cell_type": "code",
   "execution_count": 243,
   "id": "f474f5de",
   "metadata": {},
   "outputs": [
    {
     "data": {
      "text/html": [
       "<div>\n",
       "<style scoped>\n",
       "    .dataframe tbody tr th:only-of-type {\n",
       "        vertical-align: middle;\n",
       "    }\n",
       "\n",
       "    .dataframe tbody tr th {\n",
       "        vertical-align: top;\n",
       "    }\n",
       "\n",
       "    .dataframe thead th {\n",
       "        text-align: right;\n",
       "    }\n",
       "</style>\n",
       "<table border=\"1\" class=\"dataframe\">\n",
       "  <thead>\n",
       "    <tr style=\"text-align: right;\">\n",
       "      <th></th>\n",
       "      <th>month</th>\n",
       "      <th>Month 1</th>\n",
       "      <th>Month 2</th>\n",
       "      <th>Month 3</th>\n",
       "      <th>Month 4-6</th>\n",
       "      <th>Month 7-12</th>\n",
       "      <th>Month 13+</th>\n",
       "      <th>genpop_churn</th>\n",
       "      <th>change_in_churn</th>\n",
       "    </tr>\n",
       "  </thead>\n",
       "  <tbody>\n",
       "    <tr>\n",
       "      <th>0</th>\n",
       "      <td>Churn</td>\n",
       "      <td>0.240588</td>\n",
       "      <td>0.168017</td>\n",
       "      <td>0.128785</td>\n",
       "      <td>0.093202</td>\n",
       "      <td>0.058203</td>\n",
       "      <td>0.033050</td>\n",
       "      <td>0.068962</td>\n",
       "      <td>-0.194858</td>\n",
       "    </tr>\n",
       "    <tr>\n",
       "      <th>1</th>\n",
       "      <td>Norm</td>\n",
       "      <td>0.238967</td>\n",
       "      <td>0.161428</td>\n",
       "      <td>0.135092</td>\n",
       "      <td>0.098130</td>\n",
       "      <td>0.059885</td>\n",
       "      <td>0.033302</td>\n",
       "      <td>0.067101</td>\n",
       "      <td>-0.206981</td>\n",
       "    </tr>\n",
       "    <tr>\n",
       "      <th>2</th>\n",
       "      <td>Retention</td>\n",
       "      <td>0.230074</td>\n",
       "      <td>0.150188</td>\n",
       "      <td>0.116070</td>\n",
       "      <td>0.075879</td>\n",
       "      <td>0.056989</td>\n",
       "      <td>0.029795</td>\n",
       "      <td>0.080920</td>\n",
       "      <td>-0.232350</td>\n",
       "    </tr>\n",
       "  </tbody>\n",
       "</table>\n",
       "</div>"
      ],
      "text/plain": [
       "       month   Month 1   Month 2   Month 3  Month 4-6  Month 7-12  Month 13+  \\\n",
       "0      Churn  0.240588  0.168017  0.128785   0.093202    0.058203   0.033050   \n",
       "1       Norm  0.238967  0.161428  0.135092   0.098130    0.059885   0.033302   \n",
       "2  Retention  0.230074  0.150188  0.116070   0.075879    0.056989   0.029795   \n",
       "\n",
       "   genpop_churn  change_in_churn  \n",
       "0      0.068962        -0.194858  \n",
       "1      0.067101        -0.206981  \n",
       "2      0.080920        -0.232350  "
      ]
     },
     "execution_count": 243,
     "metadata": {},
     "output_type": "execute_result"
    }
   ],
   "source": [
    "churn_bucekts_all.groupby(['month']).mean().reset_index()"
   ]
  },
  {
   "cell_type": "markdown",
   "id": "a4658af6",
   "metadata": {},
   "source": [
    "#### Write to S3/SF"
   ]
  },
  {
   "cell_type": "code",
   "execution_count": 51,
   "id": "6164fe2d",
   "metadata": {},
   "outputs": [
    {
     "name": "stderr",
     "output_type": "stream",
     "text": [
      "/home/ec2-user/anaconda3/envs/python3/lib/python3.6/site-packages/boto3/compat.py:88: PythonDeprecationWarning: Boto3 will no longer support Python 3.6 starting May 30, 2022. To continue receiving service updates, bug fixes, and security updates please upgrade to Python 3.7 or later. More information can be found here: https://aws.amazon.com/blogs/developer/python-support-policy-updates-for-aws-sdks-and-tools/\n",
      "  warnings.warn(warning, PythonDeprecationWarning)\n"
     ]
    }
   ],
   "source": [
    "import boto3\n",
    "import io\n",
    "\n",
    "def to_s3(filename, output_bucket, content):\n",
    "    client = boto3.client('s3')\n",
    "    client.put_object(Bucket=output_bucket, Key=filename, Body=content)\n",
    "    \n",
    "output_bucket = 'hbo-outbound-datascience-content-dev'\n",
    "s3 = boto3.resource('s3')\n",
    "bucket = s3.Bucket(output_bucket)\n",
    "\n",
    "def write_to_sf(df, file_name):\n",
    "    csv_buffer = io.StringIO()\n",
    "    df.to_csv(csv_buffer, index = False)\n",
    "    content = csv_buffer.getvalue()\n",
    "    filename = 'title_hours_viewed_retention/{}.csv'.format(file_name)\n",
    "    to_s3(filename, output_bucket, content)"
   ]
  },
  {
   "cell_type": "code",
   "execution_count": 52,
   "id": "11df17c9",
   "metadata": {},
   "outputs": [],
   "source": [
    "# data[['title_name', 'average_hours_viewed_60d']].drop_duplicates().sort_values(by = ['average_hours_viewed_60d'], ascending = False).head(50)"
   ]
  },
  {
   "cell_type": "code",
   "execution_count": 53,
   "id": "e30accc4",
   "metadata": {},
   "outputs": [],
   "source": [
    "# data.to_csv('daily_monthly_retention_value.csv')"
   ]
  },
  {
   "cell_type": "code",
   "execution_count": null,
   "id": "7ed688fd",
   "metadata": {},
   "outputs": [],
   "source": [
    "filename = 'daily_monthly_retention_value_'+pd.Timestamp.today().strftime('%Y-%m-%d')\n",
    "write_to_sf(data,  filename)"
   ]
  },
  {
   "cell_type": "code",
   "execution_count": null,
   "id": "66ffd8ff",
   "metadata": {},
   "outputs": [],
   "source": [
    "output_bucket+'/title_hours_viewed_retention/{}.csv'.format(filename)"
   ]
  },
  {
   "cell_type": "code",
   "execution_count": null,
   "id": "fafcc0e6",
   "metadata": {},
   "outputs": [],
   "source": []
  }
 ],
 "metadata": {
  "kernelspec": {
   "display_name": "conda_python3",
   "language": "python",
   "name": "conda_python3"
  },
  "language_info": {
   "codemirror_mode": {
    "name": "ipython",
    "version": 3
   },
   "file_extension": ".py",
   "mimetype": "text/x-python",
   "name": "python",
   "nbconvert_exporter": "python",
   "pygments_lexer": "ipython3",
   "version": "3.6.13"
  }
 },
 "nbformat": 4,
 "nbformat_minor": 5
}
