{
 "cells": [
  {
   "cell_type": "code",
   "execution_count": 1,
   "id": "c8099240",
   "metadata": {},
   "outputs": [],
   "source": [
    "import pandas as pd\n",
    "import numpy as np\n",
    "import itertools as it\n",
    "import os\n",
    "import io\n",
    "import logging\n",
    "\n",
    "import boto3\n",
    "import sys\n",
    "import json\n",
    "import snowflake.connector"
   ]
  },
  {
   "cell_type": "markdown",
   "id": "432286cc",
   "metadata": {},
   "source": [
    "# Reading Data "
   ]
  },
  {
   "cell_type": "code",
   "execution_count": 2,
   "id": "e149b0d2",
   "metadata": {},
   "outputs": [],
   "source": [
    "input_bucket = \"hbo-ingest-datascience-content-dev\""
   ]
  },
  {
   "cell_type": "code",
   "execution_count": 3,
   "id": "121d1468",
   "metadata": {},
   "outputs": [
    {
     "name": "stderr",
     "output_type": "stream",
     "text": [
      "/home/ec2-user/anaconda3/envs/python3/lib/python3.6/site-packages/boto3/compat.py:88: PythonDeprecationWarning: Boto3 will no longer support Python 3.6 starting May 30, 2022. To continue receiving service updates, bug fixes, and security updates please upgrade to Python 3.7 or later. More information can be found here: https://aws.amazon.com/blogs/developer/python-support-policy-updates-for-aws-sdks-and-tools/\n",
      "  warnings.warn(warning, PythonDeprecationWarning)\n"
     ]
    },
    {
     "name": "stdout",
     "output_type": "stream",
     "text": [
      "Reading cost_allocation/dev/churn_metric_0906.csv features\n"
     ]
    }
   ],
   "source": [
    "logger = logging.getLogger()\n",
    "logger.info(f'Loading inputs')\n",
    "data_list =[]\n",
    "\n",
    "s3 = boto3.resource('s3')\n",
    "bucket = s3.Bucket(input_bucket)\n",
    "\n",
    "for obj in bucket.objects.filter(Prefix='cost_allocation/dev/churn_metric_0906'): #churn_metric_0811\n",
    "            key = obj.key\n",
    "            logger.info('Loading csv file {}'.format(key))\n",
    "            body = obj.get()['Body']\n",
    "            print('Reading {0} features'.format(key))\n",
    "            churn_metric = pd.read_csv(body, na_values = [r'\\\\\\\\N'])"
   ]
  },
  {
   "cell_type": "code",
   "execution_count": 4,
   "id": "bdf85222",
   "metadata": {},
   "outputs": [
    {
     "data": {
      "text/html": [
       "<div>\n",
       "<style scoped>\n",
       "    .dataframe tbody tr th:only-of-type {\n",
       "        vertical-align: middle;\n",
       "    }\n",
       "\n",
       "    .dataframe tbody tr th {\n",
       "        vertical-align: top;\n",
       "    }\n",
       "\n",
       "    .dataframe thead th {\n",
       "        text-align: right;\n",
       "    }\n",
       "</style>\n",
       "<table border=\"1\" class=\"dataframe\">\n",
       "  <thead>\n",
       "    <tr style=\"text-align: right;\">\n",
       "      <th></th>\n",
       "      <th>Unnamed: 0</th>\n",
       "      <th>genre</th>\n",
       "      <th>medal</th>\n",
       "      <th>category</th>\n",
       "      <th>churn_per_hr_person</th>\n",
       "    </tr>\n",
       "  </thead>\n",
       "  <tbody>\n",
       "    <tr>\n",
       "      <th>0</th>\n",
       "      <td>0</td>\n",
       "      <td>action</td>\n",
       "      <td>Platinum</td>\n",
       "      <td>movies</td>\n",
       "      <td>-0.028358</td>\n",
       "    </tr>\n",
       "    <tr>\n",
       "      <th>1</th>\n",
       "      <td>1</td>\n",
       "      <td>action</td>\n",
       "      <td>Gold</td>\n",
       "      <td>series</td>\n",
       "      <td>-0.020530</td>\n",
       "    </tr>\n",
       "    <tr>\n",
       "      <th>2</th>\n",
       "      <td>2</td>\n",
       "      <td>action</td>\n",
       "      <td>Gold</td>\n",
       "      <td>movies</td>\n",
       "      <td>-0.027117</td>\n",
       "    </tr>\n",
       "    <tr>\n",
       "      <th>3</th>\n",
       "      <td>3</td>\n",
       "      <td>action</td>\n",
       "      <td>Silver</td>\n",
       "      <td>series</td>\n",
       "      <td>-0.005406</td>\n",
       "    </tr>\n",
       "    <tr>\n",
       "      <th>4</th>\n",
       "      <td>4</td>\n",
       "      <td>action</td>\n",
       "      <td>Silver</td>\n",
       "      <td>movies</td>\n",
       "      <td>-0.019190</td>\n",
       "    </tr>\n",
       "  </tbody>\n",
       "</table>\n",
       "</div>"
      ],
      "text/plain": [
       "   Unnamed: 0   genre     medal category  churn_per_hr_person\n",
       "0           0  action  Platinum   movies            -0.028358\n",
       "1           1  action      Gold   series            -0.020530\n",
       "2           2  action      Gold   movies            -0.027117\n",
       "3           3  action    Silver   series            -0.005406\n",
       "4           4  action    Silver   movies            -0.019190"
      ]
     },
     "execution_count": 4,
     "metadata": {},
     "output_type": "execute_result"
    }
   ],
   "source": [
    "churn_metric.head()"
   ]
  },
  {
   "cell_type": "code",
   "execution_count": 5,
   "id": "9cea00da",
   "metadata": {},
   "outputs": [],
   "source": [
    "hours_viewed = pd.read_csv('content_slate_prediction.csv')"
   ]
  },
  {
   "cell_type": "code",
   "execution_count": 6,
   "id": "f541a58a",
   "metadata": {},
   "outputs": [
    {
     "data": {
      "text/plain": [
       "726"
      ]
     },
     "execution_count": 6,
     "metadata": {},
     "output_type": "execute_result"
    }
   ],
   "source": [
    "len(hours_viewed)"
   ]
  },
  {
   "cell_type": "code",
   "execution_count": 7,
   "id": "4147dfac",
   "metadata": {},
   "outputs": [],
   "source": [
    "hours_viewed = hours_viewed.reset_index()"
   ]
  },
  {
   "cell_type": "code",
   "execution_count": 8,
   "id": "fadb0108",
   "metadata": {},
   "outputs": [],
   "source": [
    "hours_viewed = hours_viewed[['title_name', 'season_number', 'offering_start_date', 'prediction', 'genre', \n",
    "                             'medal', 'content_category', 'asset_run_time_hours', 'index']]"
   ]
  },
  {
   "cell_type": "code",
   "execution_count": 9,
   "id": "b2279e66",
   "metadata": {},
   "outputs": [],
   "source": [
    "hours_viewed.rename(columns = {'content_category':'category', 'index':'name_number'}, inplace = True)"
   ]
  },
  {
   "cell_type": "code",
   "execution_count": 10,
   "id": "104695aa",
   "metadata": {},
   "outputs": [],
   "source": [
    "hours_viewed.loc[(hours_viewed['genre'].isin(['action', 'other'])) & (hours_viewed['medal']=='Platinum')\n",
    "                &(hours_viewed['category']=='series'), 'genre'] = 'comedy'"
   ]
  },
  {
   "cell_type": "code",
   "execution_count": 11,
   "id": "406a9db2",
   "metadata": {},
   "outputs": [],
   "source": [
    "hours_viewed = hours_viewed.merge(churn_metric[['genre','medal','category', 'churn_per_hr_person']], on = ['genre','medal','category'],\n",
    "                                 how = 'left')"
   ]
  },
  {
   "cell_type": "code",
   "execution_count": 12,
   "id": "739d96fd",
   "metadata": {},
   "outputs": [
    {
     "data": {
      "text/plain": [
       "726"
      ]
     },
     "execution_count": 12,
     "metadata": {},
     "output_type": "execute_result"
    }
   ],
   "source": [
    "len(hours_viewed)"
   ]
  },
  {
   "cell_type": "code",
   "execution_count": 13,
   "id": "24e0575c",
   "metadata": {},
   "outputs": [],
   "source": [
    "hours_viewed['change_in_churn_60d_prediction'] = hours_viewed['prediction'] * hours_viewed['churn_per_hr_person']"
   ]
  },
  {
   "cell_type": "code",
   "execution_count": 14,
   "id": "0fa92611",
   "metadata": {},
   "outputs": [],
   "source": [
    "hours_viewed_thresh = hours_viewed"
   ]
  },
  {
   "cell_type": "markdown",
   "id": "86a6a535",
   "metadata": {},
   "source": [
    "# Allocate the 60-Day Churn to monthly"
   ]
  },
  {
   "cell_type": "code",
   "execution_count": 15,
   "id": "75737cf2",
   "metadata": {},
   "outputs": [],
   "source": [
    "ever_green_titles = pd.read_csv('final_evergreen_title_list.csv') #final_evergreen_title_list.csv # ever_green_titles.csv"
   ]
  },
  {
   "cell_type": "code",
   "execution_count": 16,
   "id": "ab4c98c6",
   "metadata": {},
   "outputs": [
    {
     "data": {
      "text/plain": [
       "11"
      ]
     },
     "execution_count": 16,
     "metadata": {},
     "output_type": "execute_result"
    }
   ],
   "source": [
    "len(ever_green_titles.title_id.unique())"
   ]
  },
  {
   "cell_type": "code",
   "execution_count": 17,
   "id": "f8e08d6f",
   "metadata": {},
   "outputs": [],
   "source": [
    "ever_green_title_name = ever_green_titles.title_name.unique()\n",
    "norm_title_name = hours_viewed_thresh[~hours_viewed_thresh['title_name'].isin(ever_green_title_name)].title_name.unique()"
   ]
  },
  {
   "cell_type": "code",
   "execution_count": 18,
   "id": "b825f676",
   "metadata": {},
   "outputs": [
    {
     "data": {
      "text/plain": [
       "array(['The Sopranos', 'Curb Your Enthusiasm', 'Sex and the City',\n",
       "       'Game of Thrones', 'American Pie', 'War Dogs',\n",
       "       'Pretty Little Liars', 'The Big Bang Theory', 'Friends',\n",
       "       'Annabelle Comes Home', 'X-Men: Dark Phoenix'], dtype=object)"
      ]
     },
     "execution_count": 18,
     "metadata": {},
     "output_type": "execute_result"
    }
   ],
   "source": [
    "ever_green_title_name"
   ]
  },
  {
   "cell_type": "markdown",
   "id": "41cd3350",
   "metadata": {},
   "source": [
    "### 1. Normal Titles"
   ]
  },
  {
   "cell_type": "code",
   "execution_count": 19,
   "id": "aaffdb30",
   "metadata": {},
   "outputs": [],
   "source": [
    "import matplotlib.pyplot as plt\n",
    "from matplotlib.pyplot import figure"
   ]
  },
  {
   "cell_type": "code",
   "execution_count": 20,
   "id": "0dd5b29f",
   "metadata": {},
   "outputs": [],
   "source": [
    "from scipy.optimize import curve_fit"
   ]
  },
  {
   "cell_type": "code",
   "execution_count": 21,
   "id": "b9b5b62c",
   "metadata": {},
   "outputs": [],
   "source": [
    "historical_weekly_hours_viewed = pd.read_csv('historical_weekly_hours_viewed.csv')"
   ]
  },
  {
   "cell_type": "code",
   "execution_count": 24,
   "id": "71963141",
   "metadata": {},
   "outputs": [],
   "source": [
    "def func(x, a, b, c):\n",
    "    return a * np.exp(-b * x) + c"
   ]
  },
  {
   "cell_type": "code",
   "execution_count": 25,
   "id": "26a5625e",
   "metadata": {},
   "outputs": [],
   "source": [
    "train_data = historical_weekly_hours_viewed.copy()\n",
    "##### TRAIN FOR MOVIE ############\n",
    "x1 = (train_data[train_data['content_category'] == 'movies']['days_on_hbo_max'])\n",
    "y1 = train_data[train_data['content_category'] == 'movies']['target']\n",
    "popt1, pcov1 = curve_fit(func, x1, y1)\n",
    "\n",
    "##### TRAIN FOR SERIES ############\n",
    "x2 = (train_data[train_data['content_category'] == 'series']['days_on_hbo_max'])\n",
    "y2 = train_data[train_data['content_category'] == 'series']['target']\n",
    "popt2, pcov2 = curve_fit(func, x2, y2)"
   ]
  },
  {
   "cell_type": "code",
   "execution_count": 26,
   "id": "edb23bec",
   "metadata": {},
   "outputs": [],
   "source": [
    "x = pd.Series(np.arange(0,150,1))\n",
    "y1 = func(x, *popt1)\n",
    "y2 = func(x, *popt2)"
   ]
  },
  {
   "cell_type": "code",
   "execution_count": 27,
   "id": "b94ce7fd",
   "metadata": {},
   "outputs": [
    {
     "data": {
      "image/png": "[encoded data removed]",
      "text/plain": [
       "<Figure size 1296x432 with 1 Axes>"
      ]
     },
     "metadata": {
      "needs_background": "light"
     },
     "output_type": "display_data"
    }
   ],
   "source": [
    "fig, ax = plt.subplots(figsize=(18, 6))\n",
    "plt.plot(x, y1, label = 'movie_decay')\n",
    "plt.plot(x, y2, label = 'series_decay')\n",
    "\n",
    "plt.legend()\n",
    "plt.show()"
   ]
  },
  {
   "cell_type": "code",
   "execution_count": 28,
   "id": "6fe1ff64",
   "metadata": {},
   "outputs": [],
   "source": [
    "dt_df_movie = pd.DataFrame({'days_on_hbo_max': x,\n",
    "                           'factor': y1,\n",
    "                           'content_category': 'movies'})\n",
    "dt_df_series = pd.DataFrame({'days_on_hbo_max': x,\n",
    "                           'factor': y2,\n",
    "                           'content_category': 'series'})\n",
    "dt_df = pd.concat([dt_df_movie, dt_df_series], axis = 0)\n",
    "dt_df.rename(columns = {'content_category':'category'}, inplace = True)"
   ]
  },
  {
   "cell_type": "code",
   "execution_count": 29,
   "id": "dac57deb",
   "metadata": {},
   "outputs": [],
   "source": [
    "day_60_cum_sum = dt_df[dt_df['days_on_hbo_max']<60].groupby(['category']).factor.sum().reset_index()"
   ]
  },
  {
   "cell_type": "code",
   "execution_count": 33,
   "id": "173923f4",
   "metadata": {},
   "outputs": [],
   "source": [
    "hours_viewed_decay_norm = hours_viewed_thresh\n",
    "\n",
    "hours_viewed_decay_norm = hours_viewed_decay_norm.merge(dt_df, on = ['category'])\\\n",
    "                                                 .merge(day_60_cum_sum.rename(columns = {'factor':'cum_sum'}), on = ['category'])\n",
    "\n",
    "hours_viewed_decay_norm['change_in_churn_prediction'] = hours_viewed_decay_norm['change_in_churn_60d_prediction']/hours_viewed_decay_norm['cum_sum']*hours_viewed_decay_norm['factor']*hours_viewed_decay_norm['asset_run_time_hours']\n",
    "\n",
    "hours_viewed_decay_norm['request_date'] = pd.to_datetime(hours_viewed_decay_norm['offering_start_date']) \\\n",
    "                                        + pd.to_timedelta(hours_viewed_decay_norm['days_on_hbo_max'], unit='D')\n",
    "\n",
    "hours_viewed_decay_norm = hours_viewed_decay_norm[hours_viewed_decay_norm['request_date'] <= '2023-03-01']"
   ]
  },
  {
   "cell_type": "code",
   "execution_count": null,
   "id": "08a667cb",
   "metadata": {},
   "outputs": [],
   "source": [
    "hours_viewed_decay_norm[hours_viewed_decay_norm['title_name'] == 'How To Create A Sex Scandal (wt)']"
   ]
  },
  {
   "cell_type": "code",
   "execution_count": 266,
   "id": "48a75f18",
   "metadata": {},
   "outputs": [
    {
     "data": {
      "image/png": "[encoded data removed]",
      "text/plain": [
       "<Figure size 576x288 with 1 Axes>"
      ]
     },
     "metadata": {
      "needs_background": "light"
     },
     "output_type": "display_data"
    }
   ],
   "source": [
    "fig, ax = plt.subplots(figsize=(8, 4))\n",
    "test = hours_viewed_decay_norm\n",
    "plot_df = test[test['title_name'].str.contains('EUPHORIA S3')]\n",
    "plt.plot(plot_df['days_on_hbo_max'], plot_df['change_in_churn_prediction'], label='Prediction - And Just Like That...')\n",
    "\n",
    "ax.set_xlabel('days_on_hbo_max')\n",
    "ax.set_ylabel('change_in_churn')\n",
    "ax.legend()\n",
    "\n",
    "plt.show()"
   ]
  },
  {
   "cell_type": "markdown",
   "id": "0864826b",
   "metadata": {},
   "source": [
    "### 2. Evergreen Titles"
   ]
  },
  {
   "cell_type": "markdown",
   "id": "9e79229f",
   "metadata": {},
   "source": [
    "#### 2.2 Keep the retention value all the way along"
   ]
  },
  {
   "cell_type": "code",
   "execution_count": 267,
   "id": "9c63ab88",
   "metadata": {},
   "outputs": [],
   "source": [
    "# dt_df = pd.DataFrame()\n",
    "# dt_df['days_on_hbo_max'] = [i for i in range(0, 365*3, 1)]\n",
    "# dt_df['key'] = 1\n",
    "\n",
    "# hours_viewed_decay_evergreen = hours_viewed_thresh[hours_viewed_thresh['title_id'].isin(ever_green_title_id)]\n",
    "# hours_viewed_decay_evergreen['key'] = 1\n",
    "\n",
    "# hours_viewed_decay_evergreen = hours_viewed_decay_evergreen.merge(dt_df, on = ['key']).drop(['key'], axis = 1)\n",
    "\n",
    "# hours_viewed_decay_evergreen['change_in_churn'] = hours_viewed_decay_evergreen['change_in_churn_60d']/60*hours_viewed_decay_evergreen['asset_run_time_hours']\n",
    "# hours_viewed_decay_evergreen['change_in_churn_prediction'] = hours_viewed_decay_evergreen['change_in_churn_60d_prediction']/60*hours_viewed_decay_evergreen['asset_run_time_hours']\n",
    "\n",
    "# hours_viewed_decay_evergreen['request_date'] = pd.to_datetime(hours_viewed_decay_evergreen['offering_start_date']) \\\n",
    "#                                         + pd.to_timedelta(hours_viewed_decay_evergreen['days_on_hbo_max'], unit='D')\n",
    "\n",
    "# hours_viewed_decay_evergreen = hours_viewed_decay_evergreen[hours_viewed_decay_evergreen['request_date'] <= '2023-03-01']\n"
   ]
  },
  {
   "cell_type": "code",
   "execution_count": 268,
   "id": "2b915c73",
   "metadata": {},
   "outputs": [],
   "source": [
    "# fig, ax = plt.subplots(figsize=(8, 4))\n",
    "# test = hours_viewed_decay_evergreen\n",
    "\n",
    "\n",
    "# for i in range(1,2,1):\n",
    "#     plot_df = test[(test['title_name'] == 'Friends') &(test['season_number'] == i)]\n",
    "#     plt.plot(plot_df['days_on_hbo_max'], plot_df['change_in_churn'], label= 'Actual - Friends S' + str(i))\n",
    "#     plt.plot(plot_df['days_on_hbo_max'], plot_df['change_in_churn_prediction'], label= 'Prediction - Friends S' + str(i))\n",
    "\n",
    "# ax.set_xlabel('days_on_hbo_max')\n",
    "# ax.set_ylabel('change_in_churn')\n",
    "# ax.legend()\n",
    "\n",
    "# plt.show()"
   ]
  },
  {
   "cell_type": "markdown",
   "id": "8a310ec2",
   "metadata": {},
   "source": [
    "## UNION ALL THE DFs"
   ]
  },
  {
   "cell_type": "code",
   "execution_count": 269,
   "id": "2b4e3b26",
   "metadata": {},
   "outputs": [],
   "source": [
    "# data = pd.concat([hours_viewed_decay_norm[['title_name', 'title_id', 'season_number', 'request_date',  'days_on_hbo_max', 'change_in_churn', 'change_in_churn_prediction']],\n",
    "#                 hours_viewed_decay_evergreen[['title_name', 'title_id', 'season_number', 'request_date',  'days_on_hbo_max', 'change_in_churn', 'change_in_churn_prediction']] ],\n",
    "#                 axis = 0)\n",
    "data = hours_viewed_decay_norm"
   ]
  },
  {
   "cell_type": "code",
   "execution_count": 270,
   "id": "3db3e03d",
   "metadata": {},
   "outputs": [],
   "source": [
    "data['date_month'] = data['request_date'].dt.to_period('M')"
   ]
  },
  {
   "cell_type": "code",
   "execution_count": 271,
   "id": "267ac4f2",
   "metadata": {},
   "outputs": [
    {
     "data": {
      "text/html": [
       "<div>\n",
       "<style scoped>\n",
       "    .dataframe tbody tr th:only-of-type {\n",
       "        vertical-align: middle;\n",
       "    }\n",
       "\n",
       "    .dataframe tbody tr th {\n",
       "        vertical-align: top;\n",
       "    }\n",
       "\n",
       "    .dataframe thead th {\n",
       "        text-align: right;\n",
       "    }\n",
       "</style>\n",
       "<table border=\"1\" class=\"dataframe\">\n",
       "  <thead>\n",
       "    <tr style=\"text-align: right;\">\n",
       "      <th></th>\n",
       "      <th>title_name</th>\n",
       "      <th>season_number</th>\n",
       "      <th>offering_start_date</th>\n",
       "      <th>prediction</th>\n",
       "      <th>genre</th>\n",
       "      <th>medal</th>\n",
       "      <th>category</th>\n",
       "      <th>asset_run_time_hours</th>\n",
       "      <th>name_number</th>\n",
       "      <th>churn_per_hr_person</th>\n",
       "      <th>change_in_churn_60d_prediction</th>\n",
       "      <th>days_on_hbo_max</th>\n",
       "      <th>factor</th>\n",
       "      <th>change_in_churn_prediction</th>\n",
       "      <th>request_date</th>\n",
       "      <th>date_month</th>\n",
       "    </tr>\n",
       "  </thead>\n",
       "  <tbody>\n",
       "    <tr>\n",
       "      <th>0</th>\n",
       "      <td>AFTER THE BITE</td>\n",
       "      <td>NaN</td>\n",
       "      <td>2023-07-01</td>\n",
       "      <td>0.03266</td>\n",
       "      <td>other</td>\n",
       "      <td>Silver</td>\n",
       "      <td>movies</td>\n",
       "      <td>1.5</td>\n",
       "      <td>0</td>\n",
       "      <td>-0.038234</td>\n",
       "      <td>-0.001249</td>\n",
       "      <td>0</td>\n",
       "      <td>9.668300</td>\n",
       "      <td>-0.000105</td>\n",
       "      <td>2023-07-01</td>\n",
       "      <td>2023-07</td>\n",
       "    </tr>\n",
       "    <tr>\n",
       "      <th>1</th>\n",
       "      <td>AFTER THE BITE</td>\n",
       "      <td>NaN</td>\n",
       "      <td>2023-07-01</td>\n",
       "      <td>0.03266</td>\n",
       "      <td>other</td>\n",
       "      <td>Silver</td>\n",
       "      <td>movies</td>\n",
       "      <td>1.5</td>\n",
       "      <td>0</td>\n",
       "      <td>-0.038234</td>\n",
       "      <td>-0.001249</td>\n",
       "      <td>1</td>\n",
       "      <td>9.077301</td>\n",
       "      <td>-0.000099</td>\n",
       "      <td>2023-07-02</td>\n",
       "      <td>2023-07</td>\n",
       "    </tr>\n",
       "    <tr>\n",
       "      <th>2</th>\n",
       "      <td>AFTER THE BITE</td>\n",
       "      <td>NaN</td>\n",
       "      <td>2023-07-01</td>\n",
       "      <td>0.03266</td>\n",
       "      <td>other</td>\n",
       "      <td>Silver</td>\n",
       "      <td>movies</td>\n",
       "      <td>1.5</td>\n",
       "      <td>0</td>\n",
       "      <td>-0.038234</td>\n",
       "      <td>-0.001249</td>\n",
       "      <td>2</td>\n",
       "      <td>8.524679</td>\n",
       "      <td>-0.000093</td>\n",
       "      <td>2023-07-03</td>\n",
       "      <td>2023-07</td>\n",
       "    </tr>\n",
       "    <tr>\n",
       "      <th>3</th>\n",
       "      <td>AFTER THE BITE</td>\n",
       "      <td>NaN</td>\n",
       "      <td>2023-07-01</td>\n",
       "      <td>0.03266</td>\n",
       "      <td>other</td>\n",
       "      <td>Silver</td>\n",
       "      <td>movies</td>\n",
       "      <td>1.5</td>\n",
       "      <td>0</td>\n",
       "      <td>-0.038234</td>\n",
       "      <td>-0.001249</td>\n",
       "      <td>3</td>\n",
       "      <td>8.007940</td>\n",
       "      <td>-0.000087</td>\n",
       "      <td>2023-07-04</td>\n",
       "      <td>2023-07</td>\n",
       "    </tr>\n",
       "    <tr>\n",
       "      <th>4</th>\n",
       "      <td>AFTER THE BITE</td>\n",
       "      <td>NaN</td>\n",
       "      <td>2023-07-01</td>\n",
       "      <td>0.03266</td>\n",
       "      <td>other</td>\n",
       "      <td>Silver</td>\n",
       "      <td>movies</td>\n",
       "      <td>1.5</td>\n",
       "      <td>0</td>\n",
       "      <td>-0.038234</td>\n",
       "      <td>-0.001249</td>\n",
       "      <td>4</td>\n",
       "      <td>7.524755</td>\n",
       "      <td>-0.000082</td>\n",
       "      <td>2023-07-05</td>\n",
       "      <td>2023-07</td>\n",
       "    </tr>\n",
       "  </tbody>\n",
       "</table>\n",
       "</div>"
      ],
      "text/plain": [
       "       title_name  season_number offering_start_date  prediction  genre  \\\n",
       "0  AFTER THE BITE            NaN          2023-07-01     0.03266  other   \n",
       "1  AFTER THE BITE            NaN          2023-07-01     0.03266  other   \n",
       "2  AFTER THE BITE            NaN          2023-07-01     0.03266  other   \n",
       "3  AFTER THE BITE            NaN          2023-07-01     0.03266  other   \n",
       "4  AFTER THE BITE            NaN          2023-07-01     0.03266  other   \n",
       "\n",
       "    medal category  asset_run_time_hours  name_number  churn_per_hr_person  \\\n",
       "0  Silver   movies                   1.5            0            -0.038234   \n",
       "1  Silver   movies                   1.5            0            -0.038234   \n",
       "2  Silver   movies                   1.5            0            -0.038234   \n",
       "3  Silver   movies                   1.5            0            -0.038234   \n",
       "4  Silver   movies                   1.5            0            -0.038234   \n",
       "\n",
       "   change_in_churn_60d_prediction  days_on_hbo_max    factor  \\\n",
       "0                       -0.001249                0  9.668300   \n",
       "1                       -0.001249                1  9.077301   \n",
       "2                       -0.001249                2  8.524679   \n",
       "3                       -0.001249                3  8.007940   \n",
       "4                       -0.001249                4  7.524755   \n",
       "\n",
       "   change_in_churn_prediction request_date date_month  \n",
       "0                   -0.000105   2023-07-01    2023-07  \n",
       "1                   -0.000099   2023-07-02    2023-07  \n",
       "2                   -0.000093   2023-07-03    2023-07  \n",
       "3                   -0.000087   2023-07-04    2023-07  \n",
       "4                   -0.000082   2023-07-05    2023-07  "
      ]
     },
     "execution_count": 271,
     "metadata": {},
     "output_type": "execute_result"
    }
   ],
   "source": [
    "data.head()"
   ]
  },
  {
   "cell_type": "markdown",
   "id": "9ece007a",
   "metadata": {},
   "source": [
    "#### Write to S3/SF"
   ]
  },
  {
   "cell_type": "code",
   "execution_count": 272,
   "id": "89fa6a8b",
   "metadata": {},
   "outputs": [
    {
     "name": "stderr",
     "output_type": "stream",
     "text": [
      "/home/ec2-user/anaconda3/envs/python3/lib/python3.6/site-packages/boto3/compat.py:88: PythonDeprecationWarning: Boto3 will no longer support Python 3.6 starting May 30, 2022. To continue receiving service updates, bug fixes, and security updates please upgrade to Python 3.7 or later. More information can be found here: https://aws.amazon.com/blogs/developer/python-support-policy-updates-for-aws-sdks-and-tools/\n",
      "  warnings.warn(warning, PythonDeprecationWarning)\n"
     ]
    }
   ],
   "source": [
    "import boto3\n",
    "import io\n",
    "\n",
    "def to_s3(filename, output_bucket, content):\n",
    "    client = boto3.client('s3')\n",
    "    client.put_object(Bucket=output_bucket, Key=filename, Body=content)\n",
    "    \n",
    "output_bucket = 'hbo-outbound-datascience-content-dev'\n",
    "s3 = boto3.resource('s3')\n",
    "bucket = s3.Bucket(output_bucket)\n",
    "\n",
    "def write_to_sf(df, file_name):\n",
    "    csv_buffer = io.StringIO()\n",
    "    df.to_csv(csv_buffer, index = False)\n",
    "    content = csv_buffer.getvalue()\n",
    "    filename = 'title_hours_viewed_retention/{}.csv'.format(file_name)\n",
    "    to_s3(filename, output_bucket, content)"
   ]
  },
  {
   "cell_type": "code",
   "execution_count": 273,
   "id": "8ac0b2fe",
   "metadata": {},
   "outputs": [],
   "source": [
    "# data.to_csv('daily_monthly_retention_value.csv')"
   ]
  },
  {
   "cell_type": "code",
   "execution_count": 274,
   "id": "ce89ee35",
   "metadata": {},
   "outputs": [],
   "source": [
    "filename = 'content_slate_daily_monthly_retention_value_'+pd.Timestamp.today().strftime('%Y-%m-%d') "
   ]
  },
  {
   "cell_type": "code",
   "execution_count": 275,
   "id": "b6dba03c",
   "metadata": {},
   "outputs": [],
   "source": [
    "write_to_sf(data,  filename)"
   ]
  },
  {
   "cell_type": "code",
   "execution_count": 276,
   "id": "08d55df4",
   "metadata": {},
   "outputs": [
    {
     "data": {
      "text/plain": [
       "264990"
      ]
     },
     "execution_count": 276,
     "metadata": {},
     "output_type": "execute_result"
    }
   ],
   "source": [
    "len(data)"
   ]
  },
  {
   "cell_type": "code",
   "execution_count": 277,
   "id": "81682861",
   "metadata": {},
   "outputs": [
    {
     "data": {
      "text/plain": [
       "'hbo-outbound-datascience-content-dev/title_hours_viewed_retention/content_slate_daily_monthly_retention_value_2023-09-22.csv'"
      ]
     },
     "execution_count": 277,
     "metadata": {},
     "output_type": "execute_result"
    }
   ],
   "source": [
    "output_bucket+'/title_hours_viewed_retention/{}.csv'.format(filename)"
   ]
  },
  {
   "cell_type": "code",
   "execution_count": 278,
   "id": "72724fcc",
   "metadata": {},
   "outputs": [
    {
     "data": {
      "text/html": [
       "<div>\n",
       "<style scoped>\n",
       "    .dataframe tbody tr th:only-of-type {\n",
       "        vertical-align: middle;\n",
       "    }\n",
       "\n",
       "    .dataframe tbody tr th {\n",
       "        vertical-align: top;\n",
       "    }\n",
       "\n",
       "    .dataframe thead th {\n",
       "        text-align: right;\n",
       "    }\n",
       "</style>\n",
       "<table border=\"1\" class=\"dataframe\">\n",
       "  <thead>\n",
       "    <tr style=\"text-align: right;\">\n",
       "      <th></th>\n",
       "      <th>title_name</th>\n",
       "      <th>season_number</th>\n",
       "      <th>offering_start_date</th>\n",
       "      <th>prediction</th>\n",
       "      <th>genre</th>\n",
       "      <th>medal</th>\n",
       "      <th>category</th>\n",
       "      <th>asset_run_time_hours</th>\n",
       "      <th>name_number</th>\n",
       "      <th>churn_per_hr_person</th>\n",
       "      <th>change_in_churn_60d_prediction</th>\n",
       "      <th>days_on_hbo_max</th>\n",
       "      <th>factor</th>\n",
       "      <th>change_in_churn_prediction</th>\n",
       "      <th>request_date</th>\n",
       "      <th>date_month</th>\n",
       "    </tr>\n",
       "  </thead>\n",
       "  <tbody>\n",
       "    <tr>\n",
       "      <th>0</th>\n",
       "      <td>AFTER THE BITE</td>\n",
       "      <td>NaN</td>\n",
       "      <td>2023-07-01</td>\n",
       "      <td>0.03266</td>\n",
       "      <td>other</td>\n",
       "      <td>Silver</td>\n",
       "      <td>movies</td>\n",
       "      <td>1.5</td>\n",
       "      <td>0</td>\n",
       "      <td>-0.038234</td>\n",
       "      <td>-0.001249</td>\n",
       "      <td>0</td>\n",
       "      <td>9.668300</td>\n",
       "      <td>-0.000105</td>\n",
       "      <td>2023-07-01</td>\n",
       "      <td>2023-07</td>\n",
       "    </tr>\n",
       "    <tr>\n",
       "      <th>1</th>\n",
       "      <td>AFTER THE BITE</td>\n",
       "      <td>NaN</td>\n",
       "      <td>2023-07-01</td>\n",
       "      <td>0.03266</td>\n",
       "      <td>other</td>\n",
       "      <td>Silver</td>\n",
       "      <td>movies</td>\n",
       "      <td>1.5</td>\n",
       "      <td>0</td>\n",
       "      <td>-0.038234</td>\n",
       "      <td>-0.001249</td>\n",
       "      <td>1</td>\n",
       "      <td>9.077301</td>\n",
       "      <td>-0.000099</td>\n",
       "      <td>2023-07-02</td>\n",
       "      <td>2023-07</td>\n",
       "    </tr>\n",
       "    <tr>\n",
       "      <th>2</th>\n",
       "      <td>AFTER THE BITE</td>\n",
       "      <td>NaN</td>\n",
       "      <td>2023-07-01</td>\n",
       "      <td>0.03266</td>\n",
       "      <td>other</td>\n",
       "      <td>Silver</td>\n",
       "      <td>movies</td>\n",
       "      <td>1.5</td>\n",
       "      <td>0</td>\n",
       "      <td>-0.038234</td>\n",
       "      <td>-0.001249</td>\n",
       "      <td>2</td>\n",
       "      <td>8.524679</td>\n",
       "      <td>-0.000093</td>\n",
       "      <td>2023-07-03</td>\n",
       "      <td>2023-07</td>\n",
       "    </tr>\n",
       "    <tr>\n",
       "      <th>3</th>\n",
       "      <td>AFTER THE BITE</td>\n",
       "      <td>NaN</td>\n",
       "      <td>2023-07-01</td>\n",
       "      <td>0.03266</td>\n",
       "      <td>other</td>\n",
       "      <td>Silver</td>\n",
       "      <td>movies</td>\n",
       "      <td>1.5</td>\n",
       "      <td>0</td>\n",
       "      <td>-0.038234</td>\n",
       "      <td>-0.001249</td>\n",
       "      <td>3</td>\n",
       "      <td>8.007940</td>\n",
       "      <td>-0.000087</td>\n",
       "      <td>2023-07-04</td>\n",
       "      <td>2023-07</td>\n",
       "    </tr>\n",
       "    <tr>\n",
       "      <th>4</th>\n",
       "      <td>AFTER THE BITE</td>\n",
       "      <td>NaN</td>\n",
       "      <td>2023-07-01</td>\n",
       "      <td>0.03266</td>\n",
       "      <td>other</td>\n",
       "      <td>Silver</td>\n",
       "      <td>movies</td>\n",
       "      <td>1.5</td>\n",
       "      <td>0</td>\n",
       "      <td>-0.038234</td>\n",
       "      <td>-0.001249</td>\n",
       "      <td>4</td>\n",
       "      <td>7.524755</td>\n",
       "      <td>-0.000082</td>\n",
       "      <td>2023-07-05</td>\n",
       "      <td>2023-07</td>\n",
       "    </tr>\n",
       "  </tbody>\n",
       "</table>\n",
       "</div>"
      ],
      "text/plain": [
       "       title_name  season_number offering_start_date  prediction  genre  \\\n",
       "0  AFTER THE BITE            NaN          2023-07-01     0.03266  other   \n",
       "1  AFTER THE BITE            NaN          2023-07-01     0.03266  other   \n",
       "2  AFTER THE BITE            NaN          2023-07-01     0.03266  other   \n",
       "3  AFTER THE BITE            NaN          2023-07-01     0.03266  other   \n",
       "4  AFTER THE BITE            NaN          2023-07-01     0.03266  other   \n",
       "\n",
       "    medal category  asset_run_time_hours  name_number  churn_per_hr_person  \\\n",
       "0  Silver   movies                   1.5            0            -0.038234   \n",
       "1  Silver   movies                   1.5            0            -0.038234   \n",
       "2  Silver   movies                   1.5            0            -0.038234   \n",
       "3  Silver   movies                   1.5            0            -0.038234   \n",
       "4  Silver   movies                   1.5            0            -0.038234   \n",
       "\n",
       "   change_in_churn_60d_prediction  days_on_hbo_max    factor  \\\n",
       "0                       -0.001249                0  9.668300   \n",
       "1                       -0.001249                1  9.077301   \n",
       "2                       -0.001249                2  8.524679   \n",
       "3                       -0.001249                3  8.007940   \n",
       "4                       -0.001249                4  7.524755   \n",
       "\n",
       "   change_in_churn_prediction request_date date_month  \n",
       "0                   -0.000105   2023-07-01    2023-07  \n",
       "1                   -0.000099   2023-07-02    2023-07  \n",
       "2                   -0.000093   2023-07-03    2023-07  \n",
       "3                   -0.000087   2023-07-04    2023-07  \n",
       "4                   -0.000082   2023-07-05    2023-07  "
      ]
     },
     "execution_count": 278,
     "metadata": {},
     "output_type": "execute_result"
    }
   ],
   "source": [
    "data.head()"
   ]
  },
  {
   "cell_type": "code",
   "execution_count": 279,
   "id": "0c1bf4b7",
   "metadata": {},
   "outputs": [],
   "source": [
    "pivot_table = pd.pivot_table(data, values='change_in_churn_prediction', \n",
    "                             index=['title_name', 'name_number', 'offering_start_date'],\n",
    "                           columns=['date_month'], aggfunc=\"sum\", fill_value=np.NaN)"
   ]
  },
  {
   "cell_type": "code",
   "execution_count": 280,
   "id": "7ec37d43",
   "metadata": {},
   "outputs": [
    {
     "data": {
      "text/plain": [
       "726"
      ]
     },
     "execution_count": 280,
     "metadata": {},
     "output_type": "execute_result"
    }
   ],
   "source": [
    "len(pivot_table)"
   ]
  },
  {
   "cell_type": "code",
   "execution_count": 281,
   "id": "e48e2e4a",
   "metadata": {},
   "outputs": [],
   "source": [
    "pivot_table.to_csv('MoM Content Slate Retention Value.csv')"
   ]
  },
  {
   "cell_type": "code",
   "execution_count": null,
   "id": "2ef7be21",
   "metadata": {},
   "outputs": [],
   "source": []
  }
 ],
 "metadata": {
  "kernelspec": {
   "display_name": "conda_python3",
   "language": "python",
   "name": "conda_python3"
  },
  "language_info": {
   "codemirror_mode": {
    "name": "ipython",
    "version": 3
   },
   "file_extension": ".py",
   "mimetype": "text/x-python",
   "name": "python",
   "nbconvert_exporter": "python",
   "pygments_lexer": "ipython3",
   "version": "3.6.13"
  }
 },
 "nbformat": 4,
 "nbformat_minor": 5
}
