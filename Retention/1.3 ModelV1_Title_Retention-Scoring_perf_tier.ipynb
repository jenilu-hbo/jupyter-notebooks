{
 "cells": [
  {
   "cell_type": "code",
   "execution_count": 1,
   "id": "c41cabf6",
   "metadata": {},
   "outputs": [],
   "source": [
    "# general\n",
    "import boto3\n",
    "import datetime as dt\n",
    "import json\n",
    "import numpy as np\n",
    "import pandas as pd\n",
    "import snowflake.connector"
   ]
  },
  {
   "cell_type": "code",
   "execution_count": 2,
   "id": "65cf843d",
   "metadata": {},
   "outputs": [],
   "source": [
    "pd.set_option('display.max_rows', 1000)\n",
    "pd.set_option('display.max_columns', 1000)"
   ]
  },
  {
   "cell_type": "code",
   "execution_count": 3,
   "id": "5bc9faf6",
   "metadata": {},
   "outputs": [],
   "source": [
    "pd.options.display.float_format = '{:,.4f}'.format"
   ]
  },
  {
   "cell_type": "code",
   "execution_count": 4,
   "id": "ceb13a5b",
   "metadata": {},
   "outputs": [],
   "source": [
    "# !pip install pygam"
   ]
  },
  {
   "cell_type": "markdown",
   "id": "3ec098e9",
   "metadata": {},
   "source": [
    "# 0. Read Data"
   ]
  },
  {
   "cell_type": "code",
   "execution_count": 5,
   "id": "bdcbbf42",
   "metadata": {},
   "outputs": [],
   "source": [
    "import xgboost  \n",
    "from xgboost import XGBRegressor\n",
    "from sklearn.model_selection import GroupKFold"
   ]
  },
  {
   "cell_type": "markdown",
   "id": "293caab3",
   "metadata": {},
   "source": [
    "## 0.1 Training Data"
   ]
  },
  {
   "cell_type": "code",
   "execution_count": 42,
   "id": "bd411625",
   "metadata": {},
   "outputs": [],
   "source": [
    "validation_data = pd.read_csv('validation_data.csv')"
   ]
  },
  {
   "cell_type": "code",
   "execution_count": 43,
   "id": "9cafa91b",
   "metadata": {},
   "outputs": [],
   "source": [
    "manual_pop_title = ['Euphoria', 'House of the Dragon', 'Peacemaker', 'The Last of Us']"
   ]
  },
  {
   "cell_type": "code",
   "execution_count": 44,
   "id": "281755fc",
   "metadata": {},
   "outputs": [],
   "source": [
    "validation_data.loc[validation_data['title_name'].isin(manual_pop_title), 'medal_number'] = 0\n",
    "validation_data['hit_series'] = 0\n",
    "validation_data.loc[validation_data['title_name'].isin(manual_pop_title), 'hit_series'] = 1"
   ]
  },
  {
   "cell_type": "code",
   "execution_count": 45,
   "id": "f6e927fe",
   "metadata": {},
   "outputs": [],
   "source": [
    "validation_data.rename(columns = {'genre_Action/Adventure ':'genre_action', 'genre_Drama':'genre_drama',\n",
    "                               'genre_Comedy':'genre_comedy'}, inplace = True)"
   ]
  },
  {
   "cell_type": "markdown",
   "id": "8fe13611",
   "metadata": {},
   "source": [
    "## 0.1 Testing Data"
   ]
  },
  {
   "cell_type": "code",
   "execution_count": 82,
   "id": "2b0dbb8a",
   "metadata": {},
   "outputs": [],
   "source": [
    "test_data = pd.read_csv('Content Slate Titles vSend.csv')\n",
    "test_data = test_data[test_data['Market'] == 'US']"
   ]
  },
  {
   "cell_type": "code",
   "execution_count": 83,
   "id": "29c78d8b",
   "metadata": {},
   "outputs": [
    {
     "data": {
      "text/plain": [
       "746"
      ]
     },
     "execution_count": 83,
     "metadata": {},
     "output_type": "execute_result"
    }
   ],
   "source": [
    "len(test_data)"
   ]
  },
  {
   "cell_type": "code",
   "execution_count": 84,
   "id": "b68b996f",
   "metadata": {},
   "outputs": [],
   "source": [
    "test_data.rename(columns = {'Title (if known)':'title_name', \n",
    "                            'Volume (hours)':'asset_run_time_hours',\n",
    "                            'Source':'program_type',\n",
    "                            'Season':'season_number',\n",
    "                            'Genre':'genre'\n",
    "                           }, inplace=True)"
   ]
  },
  {
   "cell_type": "code",
   "execution_count": 85,
   "id": "2a5c7c38",
   "metadata": {},
   "outputs": [],
   "source": [
    "test_data['is_pay_1'] = 0\n",
    "test_data.loc[test_data['PSI Content genre'].str.contains('Pay 1'), 'is_pay_1'] = 1"
   ]
  },
  {
   "cell_type": "code",
   "execution_count": 86,
   "id": "41286620",
   "metadata": {},
   "outputs": [],
   "source": [
    "test_data['hit_series'] = 0\n",
    "test_data['title_name_upper'] = test_data['title_name'].str.upper()\n",
    "test_data.loc[test_data['title_name_upper'].str.contains('|'.join([i.upper() for i in manual_pop_title])), \n",
    "              'hit_series'] = 1"
   ]
  },
  {
   "cell_type": "code",
   "execution_count": 87,
   "id": "910db4a8",
   "metadata": {},
   "outputs": [],
   "source": [
    "test_data['medal'] = test_data['Performance Tier'].combine_first(test_data['Budget Tier'])\n",
    "test_data.loc[test_data['medal'] == 'SIlver', 'medal'] = 'Silver'\n",
    "medal_dict = {'Silver':2, 'Bronze':3, 'Gold':1 , 'Platinum':0, 'ACQ':np.NaN, 'TBD':np.NaN}\n",
    "#### What is ACQ??\n",
    "test_data['medal_number'] = test_data['medal'].replace(medal_dict)\n",
    "test_data['medal_number'] = test_data['medal_number'].fillna(3)"
   ]
  },
  {
   "cell_type": "code",
   "execution_count": 88,
   "id": "a5162fc5",
   "metadata": {},
   "outputs": [],
   "source": [
    "test_data.loc[test_data['genre'] == 'Comedy', 'genre'] = 'comedy'\n",
    "test_data.loc[test_data['genre'] == 'Drama', 'genre'] = 'drama'\n",
    "test_data.loc[(test_data['Content type'].str.contains('Action')) &(test_data['genre']!='drama'), \n",
    "                 'genre'] = 'action'\n",
    "test_data.loc[~test_data['genre'].isin(['action', 'comedy', 'drama']), 'genre'] = 'other'\n",
    "\n",
    "genre_onehot = pd.get_dummies(test_data['genre'], prefix='genre')\n",
    "test_data=pd.concat([test_data, genre_onehot], axis = 1)"
   ]
  },
  {
   "cell_type": "code",
   "execution_count": 89,
   "id": "4e32d47a",
   "metadata": {},
   "outputs": [],
   "source": [
    "test_data.loc[test_data['PSI Content format'].str.contains('Series'), 'content_category'] = 'series'\n",
    "test_data.loc[test_data['PSI Content format'].str.contains('series'), 'content_category'] = 'series'\n",
    "test_data.loc[test_data['content_category']!='series', 'content_category'] = 'movies'\n",
    "\n",
    "content_category_onehot = pd.get_dummies(test_data['content_category'], prefix='content_category')\n",
    "test_data=pd.concat([test_data, content_category_onehot], axis = 1)"
   ]
  },
  {
   "cell_type": "code",
   "execution_count": 90,
   "id": "176e5262",
   "metadata": {},
   "outputs": [],
   "source": [
    "test_data.loc[test_data['program_type'].str.contains('OP', na=False), 'program_type'] = 'original'\n",
    "test_data.loc[test_data['program_type']!='original', 'program_type'] = 'acquired'\n",
    "\n",
    "program_type_onehot = pd.get_dummies(test_data['program_type'], prefix='program_type')\n",
    "test_data=pd.concat([test_data, program_type_onehot], axis = 1)"
   ]
  },
  {
   "cell_type": "code",
   "execution_count": 91,
   "id": "0655cee3",
   "metadata": {},
   "outputs": [
    {
     "data": {
      "text/plain": [
       "746"
      ]
     },
     "execution_count": 91,
     "metadata": {},
     "output_type": "execute_result"
    }
   ],
   "source": [
    "len(test_data)"
   ]
  },
  {
   "cell_type": "code",
   "execution_count": 92,
   "id": "5d41d2b3",
   "metadata": {},
   "outputs": [],
   "source": [
    "#### FILL IN asset_run_time_hours\n",
    "avg_run_time = test_data.groupby(['genre','medal','content_category'])['asset_run_time_hours'].mean().reset_index()\n",
    "avg_run_time['asset_run_time_hours'] = avg_run_time['asset_run_time_hours'].fillna(2)\n",
    "test_data = test_data.merge(avg_run_time.rename(columns ={'asset_run_time_hours':'category_run_time_hours'}),\n",
    "                                 on = ['genre','medal','content_category'])"
   ]
  },
  {
   "cell_type": "code",
   "execution_count": 93,
   "id": "f8241e18",
   "metadata": {},
   "outputs": [],
   "source": [
    "# test_data[(test_data['genre'].isnull())|(test_data['medal'].isnull())|(test_data['content_category'].isnull())]"
   ]
  },
  {
   "cell_type": "code",
   "execution_count": 94,
   "id": "fe6c3bb4",
   "metadata": {},
   "outputs": [],
   "source": [
    "test_data['asset_run_time_hours'] = test_data['asset_run_time_hours'].combine_first(test_data['category_run_time_hours'])"
   ]
  },
  {
   "cell_type": "code",
   "execution_count": 95,
   "id": "101e5248",
   "metadata": {},
   "outputs": [],
   "source": [
    "test_data['offering_start_date'] = pd.to_datetime(test_data['Month Year'],format= '%m/%d/%y')"
   ]
  },
  {
   "cell_type": "code",
   "execution_count": 96,
   "id": "306e7927",
   "metadata": {},
   "outputs": [
    {
     "data": {
      "text/plain": [
       "726"
      ]
     },
     "execution_count": 96,
     "metadata": {},
     "output_type": "execute_result"
    }
   ],
   "source": [
    "len(test_data)"
   ]
  },
  {
   "cell_type": "markdown",
   "id": "fbbda7df",
   "metadata": {},
   "source": [
    "# 1. Modeling - Scoring"
   ]
  },
  {
   "cell_type": "code",
   "execution_count": 64,
   "id": "1dda8eea",
   "metadata": {},
   "outputs": [],
   "source": [
    "META_COLS = ['title_name','season_number', 'offering_start_date', 'asset_run_time_hours','content_category', 'program_type', 'medal', 'genre']"
   ]
  },
  {
   "cell_type": "code",
   "execution_count": 65,
   "id": "d35f5a89",
   "metadata": {},
   "outputs": [],
   "source": [
    "FEATURE_COLS = ['is_pay_1', \n",
    "                'hit_series',\n",
    "                'medal_number', \n",
    "                'content_category_movies', \n",
    "                'content_category_series', \n",
    "                'program_type_acquired', \n",
    "                'program_type_original', \n",
    "                'genre_action', \n",
    "                'genre_comedy',\n",
    "                'genre_drama'\n",
    "#                 'age_of_content', \n",
    "#                 'budget', \n",
    "               ]\n",
    "### New/Library content not able to be identified\n",
    "### Budget data not able to be identified"
   ]
  },
  {
   "cell_type": "code",
   "execution_count": 66,
   "id": "84993340",
   "metadata": {},
   "outputs": [],
   "source": [
    "def cal_error(validation_set):\n",
    "    error_col = ((validation_set['pred']-validation_set[TARGET_COL[0]]).abs()/validation_set[TARGET_COL[0]]).abs()\n",
    "    return error_col.mean()"
   ]
  },
  {
   "cell_type": "markdown",
   "id": "33318496",
   "metadata": {},
   "source": [
    "## 1.3 Log AVHR"
   ]
  },
  {
   "cell_type": "code",
   "execution_count": 67,
   "id": "c640ace8",
   "metadata": {},
   "outputs": [],
   "source": [
    "# !pip install pygam"
   ]
  },
  {
   "cell_type": "markdown",
   "id": "26a081fa",
   "metadata": {},
   "source": [
    "#### 1.3.1 Significant title classifier"
   ]
  },
  {
   "cell_type": "code",
   "execution_count": 68,
   "id": "d5b4e2a2",
   "metadata": {},
   "outputs": [],
   "source": [
    "training_data = validation_data.copy()"
   ]
  },
  {
   "cell_type": "code",
   "execution_count": 69,
   "id": "02537b29",
   "metadata": {},
   "outputs": [],
   "source": [
    "training_data['is_significant_title'] = 1\n",
    "training_data.loc[training_data['ahvr'] < 0.01, 'is_significant_title'] = 0"
   ]
  },
  {
   "cell_type": "code",
   "execution_count": 70,
   "id": "8138ccc1",
   "metadata": {},
   "outputs": [
    {
     "data": {
      "text/plain": [
       "is_pay_1                  0.0000\n",
       "hit_series                0.0000\n",
       "medal_number              0.9225\n",
       "content_category_movies   0.0000\n",
       "content_category_series   0.0000\n",
       "program_type_acquired     0.0000\n",
       "program_type_original     0.0000\n",
       "genre_action              0.0000\n",
       "genre_comedy              0.0000\n",
       "genre_drama               0.0000\n",
       "dtype: float64"
      ]
     },
     "execution_count": 70,
     "metadata": {},
     "output_type": "execute_result"
    }
   ],
   "source": [
    "training_data[FEATURE_COLS].isnull().sum()/len(training_data)\n",
    "## Checking if there are any nulls in the feature columns"
   ]
  },
  {
   "cell_type": "code",
   "execution_count": 71,
   "id": "44eeee2d",
   "metadata": {},
   "outputs": [],
   "source": [
    "training_data['medal_number'] = training_data['medal_number'].fillna(3)"
   ]
  },
  {
   "cell_type": "code",
   "execution_count": 72,
   "id": "8b95215b",
   "metadata": {},
   "outputs": [],
   "source": [
    "TARGET_COL = ['is_significant_title']"
   ]
  },
  {
   "cell_type": "code",
   "execution_count": 73,
   "id": "7f499bf7",
   "metadata": {},
   "outputs": [],
   "source": [
    "from sklearn.linear_model import LogisticRegression"
   ]
  },
  {
   "cell_type": "code",
   "execution_count": 99,
   "id": "4d187160",
   "metadata": {},
   "outputs": [
    {
     "name": "stdout",
     "output_type": "stream",
     "text": [
      "0.9085883780504247\n"
     ]
    },
    {
     "name": "stderr",
     "output_type": "stream",
     "text": [
      "/home/ec2-user/anaconda3/envs/python3/lib/python3.6/site-packages/sklearn/utils/validation.py:63: DataConversionWarning: A column-vector y was passed when a 1d array was expected. Please change the shape of y to (n_samples, ), for example using ravel().\n",
      "  return f(*args, **kwargs)\n"
     ]
    }
   ],
   "source": [
    "## fit_predict prelaunch model|\n",
    "X_train, X_test, y_train = training_data[FEATURE_COLS], test_data[FEATURE_COLS], training_data[TARGET_COL]\n",
    "\n",
    "clf = LogisticRegression(random_state=0).fit(X_train, y_train)\n",
    "print (clf.score(X_train, y_train))\n",
    "\n",
    "pred = clf.predict(X_test)\n",
    "pred = pd.DataFrame(pred)\n",
    "pred.columns = ['sig_pred']\n",
    "test_data.reset_index(inplace = True, drop = True)\n",
    "test_data = pd.concat([test_data, pred], axis = 1)"
   ]
  },
  {
   "cell_type": "markdown",
   "id": "6abea3d3",
   "metadata": {},
   "source": [
    "#### 1.3.2 Modeling"
   ]
  },
  {
   "cell_type": "code",
   "execution_count": 100,
   "id": "fd34ca94",
   "metadata": {},
   "outputs": [],
   "source": [
    "insig_title = test_data[test_data['sig_pred'] == 0]"
   ]
  },
  {
   "cell_type": "code",
   "execution_count": 101,
   "id": "36bd2d52",
   "metadata": {},
   "outputs": [
    {
     "data": {
      "text/plain": [
       "213"
      ]
     },
     "execution_count": 101,
     "metadata": {},
     "output_type": "execute_result"
    }
   ],
   "source": [
    "len(insig_title)"
   ]
  },
  {
   "cell_type": "code",
   "execution_count": 102,
   "id": "ea379f84",
   "metadata": {},
   "outputs": [],
   "source": [
    "training_data = validation_data[(validation_data['ahvr']>0.01)]\n",
    "test_data = test_data[test_data['sig_pred'] == 1]"
   ]
  },
  {
   "cell_type": "code",
   "execution_count": 103,
   "id": "52b81a14",
   "metadata": {},
   "outputs": [
    {
     "data": {
      "text/plain": [
       "855"
      ]
     },
     "execution_count": 103,
     "metadata": {},
     "output_type": "execute_result"
    }
   ],
   "source": [
    "len(training_data)"
   ]
  },
  {
   "cell_type": "code",
   "execution_count": 104,
   "id": "1805e7e6",
   "metadata": {},
   "outputs": [
    {
     "data": {
      "text/plain": [
       "513"
      ]
     },
     "execution_count": 104,
     "metadata": {},
     "output_type": "execute_result"
    }
   ],
   "source": [
    "len(test_data)"
   ]
  },
  {
   "cell_type": "code",
   "execution_count": 105,
   "id": "93380b27",
   "metadata": {},
   "outputs": [],
   "source": [
    "from pygam import LinearGAM, s, PoissonGAM"
   ]
  },
  {
   "cell_type": "code",
   "execution_count": 106,
   "id": "bf75e94c",
   "metadata": {},
   "outputs": [
    {
     "name": "stderr",
     "output_type": "stream",
     "text": [
      "/home/ec2-user/anaconda3/envs/python3/lib/python3.6/site-packages/ipykernel/__main__.py:1: SettingWithCopyWarning: \n",
      "A value is trying to be set on a copy of a slice from a DataFrame.\n",
      "Try using .loc[row_indexer,col_indexer] = value instead\n",
      "\n",
      "See the caveats in the documentation: https://pandas.pydata.org/pandas-docs/stable/user_guide/indexing.html#returning-a-view-versus-a-copy\n",
      "  if __name__ == '__main__':\n"
     ]
    }
   ],
   "source": [
    "training_data['log_ahvr'] = np.log2(training_data['ahvr'])"
   ]
  },
  {
   "cell_type": "code",
   "execution_count": 107,
   "id": "b80669f3",
   "metadata": {},
   "outputs": [],
   "source": [
    "TARGET_COL = ['log_ahvr']"
   ]
  },
  {
   "cell_type": "code",
   "execution_count": 108,
   "id": "d456ae7d",
   "metadata": {},
   "outputs": [
    {
     "data": {
      "text/plain": [
       "is_pay_1                  0.0000\n",
       "hit_series                0.0000\n",
       "medal_number              0.6772\n",
       "content_category_movies   0.0000\n",
       "content_category_series   0.0000\n",
       "program_type_acquired     0.0000\n",
       "program_type_original     0.0000\n",
       "genre_action              0.0000\n",
       "genre_comedy              0.0000\n",
       "genre_drama               0.0000\n",
       "dtype: float64"
      ]
     },
     "execution_count": 108,
     "metadata": {},
     "output_type": "execute_result"
    }
   ],
   "source": [
    "training_data[FEATURE_COLS].isnull().sum()/len(training_data)"
   ]
  },
  {
   "cell_type": "code",
   "execution_count": 109,
   "id": "91b2353a",
   "metadata": {},
   "outputs": [
    {
     "name": "stderr",
     "output_type": "stream",
     "text": [
      "/home/ec2-user/anaconda3/envs/python3/lib/python3.6/site-packages/ipykernel/__main__.py:1: SettingWithCopyWarning: \n",
      "A value is trying to be set on a copy of a slice from a DataFrame.\n",
      "Try using .loc[row_indexer,col_indexer] = value instead\n",
      "\n",
      "See the caveats in the documentation: https://pandas.pydata.org/pandas-docs/stable/user_guide/indexing.html#returning-a-view-versus-a-copy\n",
      "  if __name__ == '__main__':\n"
     ]
    }
   ],
   "source": [
    "training_data['medal_number'] = training_data['medal_number'].fillna(3)"
   ]
  },
  {
   "cell_type": "code",
   "execution_count": 110,
   "id": "0920f87d",
   "metadata": {},
   "outputs": [
    {
     "data": {
      "text/plain": [
       "is_pay_1                  0.0000\n",
       "hit_series                0.0000\n",
       "medal_number              0.0000\n",
       "content_category_movies   0.0000\n",
       "content_category_series   0.0000\n",
       "program_type_acquired     0.0000\n",
       "program_type_original     0.0000\n",
       "genre_action              0.0000\n",
       "genre_comedy              0.0000\n",
       "genre_drama               0.0000\n",
       "dtype: float64"
      ]
     },
     "execution_count": 110,
     "metadata": {},
     "output_type": "execute_result"
    }
   ],
   "source": [
    "test_data[FEATURE_COLS].isnull().sum()/len(test_data)"
   ]
  },
  {
   "cell_type": "code",
   "execution_count": 111,
   "id": "feb57863",
   "metadata": {},
   "outputs": [],
   "source": [
    "X_train, X_test, y_train = training_data[FEATURE_COLS], test_data[FEATURE_COLS], training_data[TARGET_COL]\n",
    "gam = LinearGAM(n_splines=20).fit(X_train, y_train)\n",
    "pred = gam.predict(X_test)\n",
    "pred = pd.DataFrame(pred)\n",
    "pred.columns = ['logged_pred']\n",
    "test_data.reset_index(inplace = True, drop = True)\n",
    "test_data = pd.concat([test_data, pred], axis = 1)"
   ]
  },
  {
   "cell_type": "code",
   "execution_count": 112,
   "id": "82ce2fe3",
   "metadata": {},
   "outputs": [],
   "source": [
    "test_data = test_data[META_COLS+FEATURE_COLS+['sig_pred']+['logged_pred']]"
   ]
  },
  {
   "cell_type": "code",
   "execution_count": 113,
   "id": "cc76a034",
   "metadata": {},
   "outputs": [],
   "source": [
    "test_data['prediction'] = (2**(test_data['logged_pred']))"
   ]
  },
  {
   "cell_type": "code",
   "execution_count": 114,
   "id": "806d86cd",
   "metadata": {},
   "outputs": [
    {
     "data": {
      "text/html": [
       "<div>\n",
       "<style scoped>\n",
       "    .dataframe tbody tr th:only-of-type {\n",
       "        vertical-align: middle;\n",
       "    }\n",
       "\n",
       "    .dataframe tbody tr th {\n",
       "        vertical-align: top;\n",
       "    }\n",
       "\n",
       "    .dataframe thead th {\n",
       "        text-align: right;\n",
       "    }\n",
       "</style>\n",
       "<table border=\"1\" class=\"dataframe\">\n",
       "  <thead>\n",
       "    <tr style=\"text-align: right;\">\n",
       "      <th></th>\n",
       "      <th>title_name</th>\n",
       "      <th>season_number</th>\n",
       "      <th>offering_start_date</th>\n",
       "      <th>asset_run_time_hours</th>\n",
       "      <th>content_category</th>\n",
       "      <th>program_type</th>\n",
       "      <th>medal</th>\n",
       "      <th>genre</th>\n",
       "      <th>is_pay_1</th>\n",
       "      <th>hit_series</th>\n",
       "      <th>medal_number</th>\n",
       "      <th>content_category_movies</th>\n",
       "      <th>content_category_series</th>\n",
       "      <th>program_type_acquired</th>\n",
       "      <th>program_type_original</th>\n",
       "      <th>genre_action</th>\n",
       "      <th>genre_comedy</th>\n",
       "      <th>genre_drama</th>\n",
       "      <th>sig_pred</th>\n",
       "      <th>logged_pred</th>\n",
       "      <th>prediction</th>\n",
       "    </tr>\n",
       "  </thead>\n",
       "  <tbody>\n",
       "    <tr>\n",
       "      <th>152</th>\n",
       "      <td>EUPHORIA S3</td>\n",
       "      <td>3.0000</td>\n",
       "      <td>2025-01-01</td>\n",
       "      <td>8.0000</td>\n",
       "      <td>series</td>\n",
       "      <td>original</td>\n",
       "      <td>Platinum</td>\n",
       "      <td>drama</td>\n",
       "      <td>0</td>\n",
       "      <td>1</td>\n",
       "      <td>0.0000</td>\n",
       "      <td>0</td>\n",
       "      <td>1</td>\n",
       "      <td>0</td>\n",
       "      <td>1</td>\n",
       "      <td>0</td>\n",
       "      <td>0</td>\n",
       "      <td>1</td>\n",
       "      <td>1</td>\n",
       "      <td>-2.5303</td>\n",
       "      <td>0.1731</td>\n",
       "    </tr>\n",
       "    <tr>\n",
       "      <th>157</th>\n",
       "      <td>EUPHORIA S4 / TBD</td>\n",
       "      <td>4.0000</td>\n",
       "      <td>2026-10-01</td>\n",
       "      <td>8.0000</td>\n",
       "      <td>series</td>\n",
       "      <td>original</td>\n",
       "      <td>Platinum</td>\n",
       "      <td>drama</td>\n",
       "      <td>0</td>\n",
       "      <td>1</td>\n",
       "      <td>0.0000</td>\n",
       "      <td>0</td>\n",
       "      <td>1</td>\n",
       "      <td>0</td>\n",
       "      <td>1</td>\n",
       "      <td>0</td>\n",
       "      <td>0</td>\n",
       "      <td>1</td>\n",
       "      <td>1</td>\n",
       "      <td>-2.5303</td>\n",
       "      <td>0.1731</td>\n",
       "    </tr>\n",
       "  </tbody>\n",
       "</table>\n",
       "</div>"
      ],
      "text/plain": [
       "            title_name  season_number offering_start_date  \\\n",
       "152        EUPHORIA S3         3.0000          2025-01-01   \n",
       "157  EUPHORIA S4 / TBD         4.0000          2026-10-01   \n",
       "\n",
       "     asset_run_time_hours content_category program_type     medal  genre  \\\n",
       "152                8.0000           series     original  Platinum  drama   \n",
       "157                8.0000           series     original  Platinum  drama   \n",
       "\n",
       "     is_pay_1  hit_series  medal_number  content_category_movies  \\\n",
       "152         0           1        0.0000                        0   \n",
       "157         0           1        0.0000                        0   \n",
       "\n",
       "     content_category_series  program_type_acquired  program_type_original  \\\n",
       "152                        1                      0                      1   \n",
       "157                        1                      0                      1   \n",
       "\n",
       "     genre_action  genre_comedy  genre_drama  sig_pred  logged_pred  \\\n",
       "152             0             0            1         1      -2.5303   \n",
       "157             0             0            1         1      -2.5303   \n",
       "\n",
       "     prediction  \n",
       "152      0.1731  \n",
       "157      0.1731  "
      ]
     },
     "execution_count": 114,
     "metadata": {},
     "output_type": "execute_result"
    }
   ],
   "source": [
    "test_data[test_data['title_name'].str.contains('EUPHORIA')]"
   ]
  },
  {
   "cell_type": "code",
   "execution_count": 115,
   "id": "84fec9e2",
   "metadata": {},
   "outputs": [],
   "source": [
    "insig_title = insig_title[META_COLS+FEATURE_COLS+['sig_pred']]"
   ]
  },
  {
   "cell_type": "code",
   "execution_count": 116,
   "id": "01d73450",
   "metadata": {},
   "outputs": [],
   "source": [
    "insig_title['logged_pred']=0\n",
    "insig_title['prediction'] = np.NaN"
   ]
  },
  {
   "cell_type": "code",
   "execution_count": 117,
   "id": "bd44b6fd",
   "metadata": {},
   "outputs": [],
   "source": [
    "final_output =pd.concat([test_data, insig_title], axis = 0)"
   ]
  },
  {
   "cell_type": "code",
   "execution_count": 118,
   "id": "3d4102bf",
   "metadata": {},
   "outputs": [
    {
     "data": {
      "text/html": [
       "<div>\n",
       "<style scoped>\n",
       "    .dataframe tbody tr th:only-of-type {\n",
       "        vertical-align: middle;\n",
       "    }\n",
       "\n",
       "    .dataframe tbody tr th {\n",
       "        vertical-align: top;\n",
       "    }\n",
       "\n",
       "    .dataframe thead th {\n",
       "        text-align: right;\n",
       "    }\n",
       "</style>\n",
       "<table border=\"1\" class=\"dataframe\">\n",
       "  <thead>\n",
       "    <tr style=\"text-align: right;\">\n",
       "      <th></th>\n",
       "      <th>title_name</th>\n",
       "      <th>season_number</th>\n",
       "      <th>offering_start_date</th>\n",
       "      <th>asset_run_time_hours</th>\n",
       "      <th>content_category</th>\n",
       "      <th>program_type</th>\n",
       "      <th>medal</th>\n",
       "      <th>genre</th>\n",
       "      <th>is_pay_1</th>\n",
       "      <th>hit_series</th>\n",
       "      <th>medal_number</th>\n",
       "      <th>content_category_movies</th>\n",
       "      <th>content_category_series</th>\n",
       "      <th>program_type_acquired</th>\n",
       "      <th>program_type_original</th>\n",
       "      <th>genre_action</th>\n",
       "      <th>genre_comedy</th>\n",
       "      <th>genre_drama</th>\n",
       "      <th>sig_pred</th>\n",
       "      <th>logged_pred</th>\n",
       "      <th>prediction</th>\n",
       "    </tr>\n",
       "  </thead>\n",
       "  <tbody>\n",
       "    <tr>\n",
       "      <th>659</th>\n",
       "      <td>ADVENTURE TIME: FIONNA AND CAKE S4 / TBD</td>\n",
       "      <td>4.0000</td>\n",
       "      <td>2026-08-01</td>\n",
       "      <td>5.0000</td>\n",
       "      <td>series</td>\n",
       "      <td>original</td>\n",
       "      <td>Bronze</td>\n",
       "      <td>comedy</td>\n",
       "      <td>0</td>\n",
       "      <td>0</td>\n",
       "      <td>3.0000</td>\n",
       "      <td>0</td>\n",
       "      <td>1</td>\n",
       "      <td>0</td>\n",
       "      <td>1</td>\n",
       "      <td>0</td>\n",
       "      <td>1</td>\n",
       "      <td>0</td>\n",
       "      <td>0</td>\n",
       "      <td>0.0000</td>\n",
       "      <td>nan</td>\n",
       "    </tr>\n",
       "    <tr>\n",
       "      <th>660</th>\n",
       "      <td>UNTITLED HOLIDAY MOVIE 2 ('24)</td>\n",
       "      <td>nan</td>\n",
       "      <td>2024-11-01</td>\n",
       "      <td>2.0000</td>\n",
       "      <td>movies</td>\n",
       "      <td>original</td>\n",
       "      <td>Bronze</td>\n",
       "      <td>drama</td>\n",
       "      <td>0</td>\n",
       "      <td>0</td>\n",
       "      <td>3.0000</td>\n",
       "      <td>1</td>\n",
       "      <td>0</td>\n",
       "      <td>0</td>\n",
       "      <td>1</td>\n",
       "      <td>0</td>\n",
       "      <td>0</td>\n",
       "      <td>1</td>\n",
       "      <td>0</td>\n",
       "      <td>0.0000</td>\n",
       "      <td>nan</td>\n",
       "    </tr>\n",
       "    <tr>\n",
       "      <th>661</th>\n",
       "      <td>UNTITLED HOLIDAY MOVIE 2 ('25)</td>\n",
       "      <td>nan</td>\n",
       "      <td>2024-11-01</td>\n",
       "      <td>2.0000</td>\n",
       "      <td>movies</td>\n",
       "      <td>original</td>\n",
       "      <td>Bronze</td>\n",
       "      <td>drama</td>\n",
       "      <td>0</td>\n",
       "      <td>0</td>\n",
       "      <td>3.0000</td>\n",
       "      <td>1</td>\n",
       "      <td>0</td>\n",
       "      <td>0</td>\n",
       "      <td>1</td>\n",
       "      <td>0</td>\n",
       "      <td>0</td>\n",
       "      <td>1</td>\n",
       "      <td>0</td>\n",
       "      <td>0.0000</td>\n",
       "      <td>nan</td>\n",
       "    </tr>\n",
       "    <tr>\n",
       "      <th>663</th>\n",
       "      <td>TBD MULTICAM S2</td>\n",
       "      <td>2.0000</td>\n",
       "      <td>2025-08-01</td>\n",
       "      <td>5.0000</td>\n",
       "      <td>series</td>\n",
       "      <td>original</td>\n",
       "      <td>TBD</td>\n",
       "      <td>action</td>\n",
       "      <td>0</td>\n",
       "      <td>0</td>\n",
       "      <td>3.0000</td>\n",
       "      <td>0</td>\n",
       "      <td>1</td>\n",
       "      <td>0</td>\n",
       "      <td>1</td>\n",
       "      <td>1</td>\n",
       "      <td>0</td>\n",
       "      <td>0</td>\n",
       "      <td>0</td>\n",
       "      <td>0.0000</td>\n",
       "      <td>nan</td>\n",
       "    </tr>\n",
       "    <tr>\n",
       "      <th>664</th>\n",
       "      <td>TBD MULTICAM S3</td>\n",
       "      <td>3.0000</td>\n",
       "      <td>2026-08-01</td>\n",
       "      <td>5.0000</td>\n",
       "      <td>series</td>\n",
       "      <td>original</td>\n",
       "      <td>TBD</td>\n",
       "      <td>action</td>\n",
       "      <td>0</td>\n",
       "      <td>0</td>\n",
       "      <td>3.0000</td>\n",
       "      <td>0</td>\n",
       "      <td>1</td>\n",
       "      <td>0</td>\n",
       "      <td>1</td>\n",
       "      <td>1</td>\n",
       "      <td>0</td>\n",
       "      <td>0</td>\n",
       "      <td>0</td>\n",
       "      <td>0.0000</td>\n",
       "      <td>nan</td>\n",
       "    </tr>\n",
       "  </tbody>\n",
       "</table>\n",
       "</div>"
      ],
      "text/plain": [
       "                                   title_name  season_number  \\\n",
       "659  ADVENTURE TIME: FIONNA AND CAKE S4 / TBD         4.0000   \n",
       "660            UNTITLED HOLIDAY MOVIE 2 ('24)            nan   \n",
       "661            UNTITLED HOLIDAY MOVIE 2 ('25)            nan   \n",
       "663                           TBD MULTICAM S2         2.0000   \n",
       "664                           TBD MULTICAM S3         3.0000   \n",
       "\n",
       "    offering_start_date  asset_run_time_hours content_category program_type  \\\n",
       "659          2026-08-01                5.0000           series     original   \n",
       "660          2024-11-01                2.0000           movies     original   \n",
       "661          2024-11-01                2.0000           movies     original   \n",
       "663          2025-08-01                5.0000           series     original   \n",
       "664          2026-08-01                5.0000           series     original   \n",
       "\n",
       "      medal   genre  is_pay_1  hit_series  medal_number  \\\n",
       "659  Bronze  comedy         0           0        3.0000   \n",
       "660  Bronze   drama         0           0        3.0000   \n",
       "661  Bronze   drama         0           0        3.0000   \n",
       "663     TBD  action         0           0        3.0000   \n",
       "664     TBD  action         0           0        3.0000   \n",
       "\n",
       "     content_category_movies  content_category_series  program_type_acquired  \\\n",
       "659                        0                        1                      0   \n",
       "660                        1                        0                      0   \n",
       "661                        1                        0                      0   \n",
       "663                        0                        1                      0   \n",
       "664                        0                        1                      0   \n",
       "\n",
       "     program_type_original  genre_action  genre_comedy  genre_drama  sig_pred  \\\n",
       "659                      1             0             1            0         0   \n",
       "660                      1             0             0            1         0   \n",
       "661                      1             0             0            1         0   \n",
       "663                      1             1             0            0         0   \n",
       "664                      1             1             0            0         0   \n",
       "\n",
       "     logged_pred  prediction  \n",
       "659       0.0000         nan  \n",
       "660       0.0000         nan  \n",
       "661       0.0000         nan  \n",
       "663       0.0000         nan  \n",
       "664       0.0000         nan  "
      ]
     },
     "execution_count": 118,
     "metadata": {},
     "output_type": "execute_result"
    }
   ],
   "source": [
    "final_output.tail()"
   ]
  },
  {
   "cell_type": "code",
   "execution_count": 119,
   "id": "958a3418",
   "metadata": {},
   "outputs": [
    {
     "data": {
      "text/plain": [
       "213"
      ]
     },
     "execution_count": 119,
     "metadata": {},
     "output_type": "execute_result"
    }
   ],
   "source": [
    "len(insig_title)"
   ]
  },
  {
   "cell_type": "code",
   "execution_count": 120,
   "id": "83a5780f",
   "metadata": {},
   "outputs": [
    {
     "data": {
      "text/plain": [
       "726"
      ]
     },
     "execution_count": 120,
     "metadata": {},
     "output_type": "execute_result"
    }
   ],
   "source": [
    "len(final_output)"
   ]
  },
  {
   "cell_type": "markdown",
   "id": "b3e1fafe",
   "metadata": {},
   "source": [
    "# Write to S3/SF"
   ]
  },
  {
   "cell_type": "code",
   "execution_count": 121,
   "id": "4b6b7b80",
   "metadata": {},
   "outputs": [
    {
     "name": "stderr",
     "output_type": "stream",
     "text": [
      "/home/ec2-user/anaconda3/envs/python3/lib/python3.6/site-packages/boto3/compat.py:88: PythonDeprecationWarning: Boto3 will no longer support Python 3.6 starting May 30, 2022. To continue receiving service updates, bug fixes, and security updates please upgrade to Python 3.7 or later. More information can be found here: https://aws.amazon.com/blogs/developer/python-support-policy-updates-for-aws-sdks-and-tools/\n",
      "  warnings.warn(warning, PythonDeprecationWarning)\n"
     ]
    }
   ],
   "source": [
    "import boto3\n",
    "import io\n",
    "\n",
    "def to_s3(filename, output_bucket, content):\n",
    "    client = boto3.client('s3')\n",
    "    client.put_object(Bucket=output_bucket, Key=filename, Body=content)\n",
    "    \n",
    "output_bucket = 'hbo-outbound-datascience-content-dev'\n",
    "s3 = boto3.resource('s3')\n",
    "bucket = s3.Bucket(output_bucket)\n",
    "\n",
    "def write_to_sf(df, file_name):\n",
    "    csv_buffer = io.StringIO()\n",
    "    df.to_csv(csv_buffer, index = False)\n",
    "    content = csv_buffer.getvalue()\n",
    "    filename = 'title_hours_viewed_retention/{}.csv'.format(file_name)\n",
    "    to_s3(filename, output_bucket, content)"
   ]
  },
  {
   "cell_type": "code",
   "execution_count": 122,
   "id": "74c2a473",
   "metadata": {},
   "outputs": [
    {
     "data": {
      "text/plain": [
       "Index(['title_name', 'season_number', 'offering_start_date',\n",
       "       'asset_run_time_hours', 'content_category', 'program_type', 'medal',\n",
       "       'genre', 'is_pay_1', 'hit_series', 'medal_number',\n",
       "       'content_category_movies', 'content_category_series',\n",
       "       'program_type_acquired', 'program_type_original', 'genre_action',\n",
       "       'genre_comedy', 'genre_drama', 'sig_pred', 'logged_pred', 'prediction'],\n",
       "      dtype='object')"
      ]
     },
     "execution_count": 122,
     "metadata": {},
     "output_type": "execute_result"
    }
   ],
   "source": [
    "test_data.columns"
   ]
  },
  {
   "cell_type": "code",
   "execution_count": 123,
   "id": "2b665c46",
   "metadata": {},
   "outputs": [],
   "source": [
    "final_output.to_csv('content_slate_prediction_perf_tier.csv')"
   ]
  },
  {
   "cell_type": "markdown",
   "id": "aa847a96",
   "metadata": {},
   "source": [
    "# "
   ]
  },
  {
   "cell_type": "code",
   "execution_count": null,
   "id": "759b1c26",
   "metadata": {},
   "outputs": [],
   "source": []
  }
 ],
 "metadata": {
  "kernelspec": {
   "display_name": "conda_python3",
   "language": "python",
   "name": "conda_python3"
  },
  "language_info": {
   "codemirror_mode": {
    "name": "ipython",
    "version": 3
   },
   "file_extension": ".py",
   "mimetype": "text/x-python",
   "name": "python",
   "nbconvert_exporter": "python",
   "pygments_lexer": "ipython3",
   "version": "3.6.13"
  }
 },
 "nbformat": 4,
 "nbformat_minor": 5
}
