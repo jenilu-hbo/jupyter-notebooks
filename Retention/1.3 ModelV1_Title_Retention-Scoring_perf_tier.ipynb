{
 "cells": [
  {
   "cell_type": "code",
   "execution_count": 1,
   "id": "9a58b221",
   "metadata": {},
   "outputs": [],
   "source": [
    "# general\n",
    "import boto3\n",
    "import datetime as dt\n",
    "import json\n",
    "import numpy as np\n",
    "import pandas as pd\n",
    "import snowflake.connector"
   ]
  },
  {
   "cell_type": "code",
   "execution_count": 2,
   "id": "0c57a1ca",
   "metadata": {},
   "outputs": [],
   "source": [
    "pd.set_option('display.max_rows', 1000)\n",
    "pd.set_option('display.max_columns', 1000)"
   ]
  },
  {
   "cell_type": "code",
   "execution_count": 3,
   "id": "97e8d419",
   "metadata": {},
   "outputs": [],
   "source": [
    "pd.options.display.float_format = '{:,.4f}'.format"
   ]
  },
  {
   "cell_type": "code",
   "execution_count": 4,
   "id": "c1f0ffd4",
   "metadata": {},
   "outputs": [],
   "source": [
    "# !pip install pygam"
   ]
  },
  {
   "cell_type": "markdown",
   "id": "ee63010c",
   "metadata": {},
   "source": [
    "# 0. Read Data"
   ]
  },
  {
   "cell_type": "code",
   "execution_count": 5,
   "id": "ddf469fc",
   "metadata": {},
   "outputs": [],
   "source": [
    "import xgboost  \n",
    "from xgboost import XGBRegressor\n",
    "from sklearn.model_selection import GroupKFold"
   ]
  },
  {
   "cell_type": "code",
   "execution_count": 6,
   "id": "99124084",
   "metadata": {},
   "outputs": [
    {
     "name": "stderr",
     "output_type": "stream",
     "text": [
      "/home/ec2-user/anaconda3/envs/python3/lib/python3.6/site-packages/boto3/compat.py:88: PythonDeprecationWarning: Boto3 will no longer support Python 3.6 starting May 30, 2022. To continue receiving service updates, bug fixes, and security updates please upgrade to Python 3.7 or later. More information can be found here: https://aws.amazon.com/blogs/developer/python-support-policy-updates-for-aws-sdks-and-tools/\n",
      "  warnings.warn(warning, PythonDeprecationWarning)\n"
     ]
    }
   ],
   "source": [
    "## WRITE OR READ FROM S3 ####\n",
    "import boto3\n",
    "import io\n",
    "\n",
    "s3 = boto3.resource('s3')\n",
    "output_bucket = \"hbo-outbound-datascience-content-dev\"\n",
    "input_bucket = \"hbo-ingest-datascience-content-dev\"\n",
    "bucket = s3.Bucket(input_bucket)\n",
    "\n",
    "def write_to_sf(df, file_name):\n",
    "    csv_buffer = io.StringIO()\n",
    "    df.to_csv(csv_buffer, index = False)\n",
    "    content = csv_buffer.getvalue()\n",
    "    filename = 'title_hours_viewed_retention/{}.csv'.format(file_name)\n",
    "    client = boto3.client('s3')\n",
    "    client.put_object(Bucket=output_bucket, Key=filename, Body=content)\n",
    "    \n",
    "def write_to_input(df, file_name):\n",
    "    csv_buffer = io.StringIO()\n",
    "    df.to_csv(csv_buffer, index = False)\n",
    "    content = csv_buffer.getvalue()\n",
    "    filename = 'title_hours_viewed_retention/{}.csv'.format(file_name)\n",
    "    client = boto3.client('s3')\n",
    "    client.put_object(Bucket=input_bucket, Key=filename, Body=content)\n",
    "    \n",
    "def read_from_s3(filename, input_bucket = input_bucket):\n",
    "    for obj in bucket.objects.filter(Prefix='title_hours_viewed_retention/'+filename): #churn_metric_0811\n",
    "            key = obj.key \n",
    "            body = obj.get()['Body']\n",
    "            print('Reading {0} features'.format(key))\n",
    "            df = pd.read_csv(body, na_values = [r'\\\\\\\\N'])\n",
    "    return df"
   ]
  },
  {
   "cell_type": "markdown",
   "id": "16b1a0bc",
   "metadata": {},
   "source": [
    "## 0.1 Training Data"
   ]
  },
  {
   "cell_type": "code",
   "execution_count": 11,
   "id": "acc9e5de",
   "metadata": {},
   "outputs": [
    {
     "name": "stdout",
     "output_type": "stream",
     "text": [
      "Reading title_hours_viewed_retention/validation_data.csv features\n"
     ]
    }
   ],
   "source": [
    "validation_data = read_from_s3('validation_data.csv')"
   ]
  },
  {
   "cell_type": "code",
   "execution_count": 12,
   "id": "13e74ba3",
   "metadata": {},
   "outputs": [],
   "source": [
    "manual_pop_title = ['Euphoria', 'House of the Dragon', 'Peacemaker', 'The Last of Us']"
   ]
  },
  {
   "cell_type": "code",
   "execution_count": 13,
   "id": "da4573ee",
   "metadata": {},
   "outputs": [],
   "source": [
    "validation_data.loc[validation_data['title_name'].isin(manual_pop_title), 'medal_number'] = 0\n",
    "validation_data['hit_series'] = 0\n",
    "validation_data.loc[validation_data['title_name'].isin(manual_pop_title), 'hit_series'] = 1\n",
    "validation_data.loc[(validation_data['title_name'] == 'Euphoria')&(validation_data['season_number'] == 1),\n",
    "                   'hit_series'] = 0\n",
    "validation_data.loc[(validation_data['title_name'] == 'Euphoria')&(validation_data['season_number'] == 1),\n",
    "                   'medal_number'] = 3"
   ]
  },
  {
   "cell_type": "code",
   "execution_count": 14,
   "id": "aa0517b8",
   "metadata": {},
   "outputs": [],
   "source": [
    "validation_data.rename(columns = {'genre_Action/Adventure ':'genre_action', 'genre_Drama':'genre_drama',\n",
    "                               'genre_Comedy':'genre_comedy'}, inplace = True)"
   ]
  },
  {
   "cell_type": "markdown",
   "id": "5f04fbc9",
   "metadata": {},
   "source": [
    "## 0.1 Testing Data"
   ]
  },
  {
   "cell_type": "code",
   "execution_count": 185,
   "id": "d8191f9c",
   "metadata": {},
   "outputs": [
    {
     "name": "stdout",
     "output_type": "stream",
     "text": [
      "Reading title_hours_viewed_retention/2023.11.13 - Latest Content Slate.csv features\n"
     ]
    }
   ],
   "source": [
    "test_data = read_from_s3('2023.11.13 - Latest Content Slate.csv')\n",
    "test_data = test_data[test_data['Market'] == 'US']"
   ]
  },
  {
   "cell_type": "code",
   "execution_count": 186,
   "id": "c7147834",
   "metadata": {},
   "outputs": [
    {
     "data": {
      "text/plain": [
       "1222"
      ]
     },
     "execution_count": 186,
     "metadata": {},
     "output_type": "execute_result"
    }
   ],
   "source": [
    "len(test_data)"
   ]
  },
  {
   "cell_type": "code",
   "execution_count": 187,
   "id": "ba443785",
   "metadata": {},
   "outputs": [],
   "source": [
    "# len(test_data) #746"
   ]
  },
  {
   "cell_type": "code",
   "execution_count": 188,
   "id": "91a878dd",
   "metadata": {},
   "outputs": [],
   "source": [
    "test_data.rename(columns = {'Title (if known)':'title_name', \n",
    "                            'Volume (hours)':'asset_run_time_hours',\n",
    "                            'Exclusivity / Window':'program_type',\n",
    "                            'Season':'season_number',\n",
    "                            'Genre':'genre',\n",
    "                            'PSI Content Category Mapped':'content_category',\n",
    "                            'Title #':'title_number'\n",
    "                           }, inplace=True)"
   ]
  },
  {
   "cell_type": "code",
   "execution_count": 189,
   "id": "1003d460",
   "metadata": {},
   "outputs": [],
   "source": [
    "test_data['is_pay_1'] = 0\n",
    "test_data.loc[test_data['genre'].str.contains('Pay 1'), 'is_pay_1'] = 1"
   ]
  },
  {
   "cell_type": "code",
   "execution_count": 190,
   "id": "a74d4b88",
   "metadata": {},
   "outputs": [],
   "source": [
    "test_data['hit_series'] = 0\n",
    "test_data['title_name_upper'] = test_data['title_name'].str.upper()\n",
    "test_data.loc[test_data['title_name_upper'].str.contains('|'.join([i.upper() for i in manual_pop_title])), \n",
    "              'hit_series'] = 1"
   ]
  },
  {
   "cell_type": "code",
   "execution_count": 191,
   "id": "36a40a51",
   "metadata": {},
   "outputs": [],
   "source": [
    "test_data['medal'] = test_data['Performance Tier'].combine_first(test_data['Budget Tier'])\n",
    "test_data.loc[test_data['medal'] == 'SIlver', 'medal'] = 'Silver'\n",
    "medal_dict = {'Silver':2, 'Bronze':3, 'Gold':1 , 'Platinum':0, 'ACQ':np.NaN, 'TBD':np.NaN}\n",
    "#### What is ACQ??\n",
    "test_data['medal_number'] = test_data['medal'].replace(medal_dict)\n",
    "test_data['medal_number'] = test_data['medal_number'].fillna(3)"
   ]
  },
  {
   "cell_type": "code",
   "execution_count": 192,
   "id": "c82a29d1",
   "metadata": {},
   "outputs": [],
   "source": [
    "test_data.loc[test_data['genre'] == 'Comedy', 'genre'] = 'comedy'\n",
    "test_data.loc[test_data['genre'] == 'Drama', 'genre'] = 'drama'\n",
    "test_data.loc[(test_data['Content type'].str.contains('Action')) &(test_data['genre']!='drama'), \n",
    "                 'genre'] = 'action'\n",
    "test_data.loc[~test_data['genre'].isin(['action', 'comedy', 'drama']), 'genre'] = 'other'\n",
    "\n",
    "genre_onehot = pd.get_dummies(test_data['genre'], prefix='genre')\n",
    "test_data=pd.concat([test_data, genre_onehot], axis = 1)"
   ]
  },
  {
   "cell_type": "code",
   "execution_count": 193,
   "id": "1a977b6f",
   "metadata": {},
   "outputs": [],
   "source": [
    "test_data.loc[test_data['content_category']!='series', 'content_category'] = 'movies'\n",
    "\n",
    "content_category_onehot = pd.get_dummies(test_data['content_category'], prefix='content_category')\n",
    "test_data=pd.concat([test_data, content_category_onehot], axis = 1)"
   ]
  },
  {
   "cell_type": "code",
   "execution_count": 194,
   "id": "756c247a",
   "metadata": {},
   "outputs": [
    {
     "data": {
      "text/plain": [
       "array([nan, 'Other Acquired', 'HBO Concurrent', 'MAX Exclusive',\n",
       "       'D+ Exclusive', 'Pay-1'], dtype=object)"
      ]
     },
     "execution_count": 194,
     "metadata": {},
     "output_type": "execute_result"
    }
   ],
   "source": [
    "test_data['program_type'].unique()"
   ]
  },
  {
   "cell_type": "code",
   "execution_count": 195,
   "id": "44df208d",
   "metadata": {},
   "outputs": [],
   "source": [
    "test_data['program_type'] = test_data['program_type'].fillna('acquired')\n",
    "test_data.loc[test_data['program_type'].str.contains('Acquired', na=False),'program_type'] = 'acquired'\n",
    "test_data.loc[test_data['program_type'].str.contains('Pay', na=False),'program_type'] = 'acquired'\n",
    "test_data.loc[test_data['program_type']!='acquired', 'program_type'] = 'original'\n",
    "\n",
    "program_type_onehot = pd.get_dummies(test_data['program_type'], prefix='program_type')\n",
    "test_data=pd.concat([test_data, program_type_onehot], axis = 1)"
   ]
  },
  {
   "cell_type": "code",
   "execution_count": 196,
   "id": "67b5369f",
   "metadata": {},
   "outputs": [],
   "source": [
    "# test_data[(test_data['genre'].isnull())|(test_data['medal'].isnull())|(test_data['content_category'].isnull())]"
   ]
  },
  {
   "cell_type": "code",
   "execution_count": 197,
   "id": "6dc004e6",
   "metadata": {},
   "outputs": [
    {
     "data": {
      "text/plain": [
       "array(['other', 'drama', 'action', 'comedy'], dtype=object)"
      ]
     },
     "execution_count": 197,
     "metadata": {},
     "output_type": "execute_result"
    }
   ],
   "source": [
    "test_data.genre.unique()"
   ]
  },
  {
   "cell_type": "code",
   "execution_count": 198,
   "id": "090c8547",
   "metadata": {},
   "outputs": [],
   "source": [
    "#### FILL IN asset_run_time_hours\n",
    "avg_run_time = test_data.groupby(['genre','content_category'])['asset_run_time_hours'].mean().reset_index()\n",
    "avg_run_time['asset_run_time_hours'] = avg_run_time['asset_run_time_hours'].fillna(2)\n",
    "test_data = test_data.merge(avg_run_time.rename(columns ={'asset_run_time_hours':'category_run_time_hours'}),\n",
    "                                 on = ['genre','content_category'])"
   ]
  },
  {
   "cell_type": "code",
   "execution_count": 199,
   "id": "376bab7a",
   "metadata": {},
   "outputs": [],
   "source": [
    "test_data['asset_run_time_hours'] = test_data['asset_run_time_hours'].combine_first(test_data['category_run_time_hours'])\n",
    "test_data['offering_start_date'] = pd.to_datetime(test_data['Month Year'],format= '%m/%d/%y')"
   ]
  },
  {
   "cell_type": "code",
   "execution_count": 200,
   "id": "99de1cd5",
   "metadata": {},
   "outputs": [
    {
     "data": {
      "text/plain": [
       "1222"
      ]
     },
     "execution_count": 200,
     "metadata": {},
     "output_type": "execute_result"
    }
   ],
   "source": [
    "len(test_data)"
   ]
  },
  {
   "cell_type": "markdown",
   "id": "3925369e",
   "metadata": {},
   "source": [
    "# 1. Modeling - Scoring"
   ]
  },
  {
   "cell_type": "code",
   "execution_count": 207,
   "id": "2451b4fe",
   "metadata": {},
   "outputs": [],
   "source": [
    "META_COLS = ['title_number','title_name','season_number', 'offering_start_date', 'asset_run_time_hours','content_category', 'program_type', 'medal', 'genre']"
   ]
  },
  {
   "cell_type": "code",
   "execution_count": 208,
   "id": "543f2a3a",
   "metadata": {},
   "outputs": [],
   "source": [
    "FEATURE_COLS = ['is_pay_1', \n",
    "                'hit_series',\n",
    "                'medal_number', \n",
    "                'content_category_movies', \n",
    "                'content_category_series', \n",
    "                'program_type_acquired', \n",
    "                'program_type_original', \n",
    "                'genre_action', \n",
    "                'genre_comedy',\n",
    "                'genre_drama'\n",
    "#                 'age_of_content', \n",
    "#                 'budget', \n",
    "               ]\n",
    "### New/Library content not able to be identified\n",
    "### Budget data not able to be identified"
   ]
  },
  {
   "cell_type": "code",
   "execution_count": 209,
   "id": "b821eb7b",
   "metadata": {},
   "outputs": [],
   "source": [
    "def cal_error(validation_set):\n",
    "    error_col = ((validation_set['pred']-validation_set[TARGET_COL[0]]).abs()/validation_set[TARGET_COL[0]]).abs()\n",
    "    return error_col.mean()"
   ]
  },
  {
   "cell_type": "markdown",
   "id": "26043fdd",
   "metadata": {},
   "source": [
    "## 1.3 Log AVHR"
   ]
  },
  {
   "cell_type": "code",
   "execution_count": 210,
   "id": "f72b04a8",
   "metadata": {},
   "outputs": [],
   "source": [
    "# !pip install pygam"
   ]
  },
  {
   "cell_type": "markdown",
   "id": "5ee06a06",
   "metadata": {},
   "source": [
    "#### 1.3.1 Significant title classifier"
   ]
  },
  {
   "cell_type": "code",
   "execution_count": 211,
   "id": "e5f51bd5",
   "metadata": {},
   "outputs": [],
   "source": [
    "training_data = validation_data.copy()"
   ]
  },
  {
   "cell_type": "code",
   "execution_count": 212,
   "id": "d42f8b23",
   "metadata": {},
   "outputs": [],
   "source": [
    "training_data['is_significant_title'] = 1\n",
    "training_data.loc[training_data['ahvr'] < 0.01, 'is_significant_title'] = 0"
   ]
  },
  {
   "cell_type": "code",
   "execution_count": 213,
   "id": "7e2b0bd9",
   "metadata": {},
   "outputs": [
    {
     "data": {
      "text/plain": [
       "is_pay_1                  0.0000\n",
       "hit_series                0.0000\n",
       "medal_number              0.9225\n",
       "content_category_movies   0.0000\n",
       "content_category_series   0.0000\n",
       "program_type_acquired     0.0000\n",
       "program_type_original     0.0000\n",
       "genre_action              0.0000\n",
       "genre_comedy              0.0000\n",
       "genre_drama               0.0000\n",
       "dtype: float64"
      ]
     },
     "execution_count": 213,
     "metadata": {},
     "output_type": "execute_result"
    }
   ],
   "source": [
    "training_data[FEATURE_COLS].isnull().sum()/len(training_data)\n",
    "## Checking if there are any nulls in the feature columns"
   ]
  },
  {
   "cell_type": "code",
   "execution_count": 214,
   "id": "b162f616",
   "metadata": {},
   "outputs": [],
   "source": [
    "training_data['medal_number'] = training_data['medal_number'].fillna(3)"
   ]
  },
  {
   "cell_type": "code",
   "execution_count": 215,
   "id": "7b0459a4",
   "metadata": {},
   "outputs": [],
   "source": [
    "TARGET_COL = ['is_significant_title']"
   ]
  },
  {
   "cell_type": "code",
   "execution_count": 216,
   "id": "34655b85",
   "metadata": {},
   "outputs": [],
   "source": [
    "from sklearn.linear_model import LogisticRegression"
   ]
  },
  {
   "cell_type": "code",
   "execution_count": 217,
   "id": "a788eb86",
   "metadata": {},
   "outputs": [
    {
     "name": "stderr",
     "output_type": "stream",
     "text": [
      "/home/ec2-user/anaconda3/envs/python3/lib/python3.6/site-packages/sklearn/utils/validation.py:63: DataConversionWarning: A column-vector y was passed when a 1d array was expected. Please change the shape of y to (n_samples, ), for example using ravel().\n",
      "  return f(*args, **kwargs)\n"
     ]
    },
    {
     "name": "stdout",
     "output_type": "stream",
     "text": [
      "0.9084535526493192\n"
     ]
    }
   ],
   "source": [
    "## fit_predict prelaunch model|\n",
    "X_train, X_test, y_train = training_data[FEATURE_COLS], test_data[FEATURE_COLS], training_data[TARGET_COL]\n",
    "\n",
    "clf = LogisticRegression(random_state=0).fit(X_train, y_train)\n",
    "print (clf.score(X_train, y_train))\n",
    "\n",
    "pred = clf.predict(X_test)\n",
    "pred = pd.DataFrame(pred)\n",
    "pred.columns = ['sig_pred']\n",
    "test_data.reset_index(inplace = True, drop = True)\n",
    "test_data = pd.concat([test_data, pred], axis = 1)"
   ]
  },
  {
   "cell_type": "markdown",
   "id": "af3ae72e",
   "metadata": {},
   "source": [
    "#### 1.3.2 Modeling"
   ]
  },
  {
   "cell_type": "code",
   "execution_count": 218,
   "id": "25226a79",
   "metadata": {},
   "outputs": [],
   "source": [
    "insig_title = test_data[test_data['sig_pred'] == 0]"
   ]
  },
  {
   "cell_type": "code",
   "execution_count": 219,
   "id": "91b7dfa5",
   "metadata": {},
   "outputs": [
    {
     "data": {
      "text/plain": [
       "308"
      ]
     },
     "execution_count": 219,
     "metadata": {},
     "output_type": "execute_result"
    }
   ],
   "source": [
    "len(insig_title)"
   ]
  },
  {
   "cell_type": "code",
   "execution_count": 220,
   "id": "e6d07180",
   "metadata": {},
   "outputs": [],
   "source": [
    "training_data = validation_data[(validation_data['ahvr']>0.01)]\n",
    "test_data = test_data[test_data['sig_pred'] == 1]"
   ]
  },
  {
   "cell_type": "code",
   "execution_count": 221,
   "id": "2548a2a6",
   "metadata": {},
   "outputs": [
    {
     "data": {
      "text/plain": [
       "855"
      ]
     },
     "execution_count": 221,
     "metadata": {},
     "output_type": "execute_result"
    }
   ],
   "source": [
    "len(training_data)"
   ]
  },
  {
   "cell_type": "code",
   "execution_count": 222,
   "id": "88f45140",
   "metadata": {},
   "outputs": [
    {
     "data": {
      "text/plain": [
       "914"
      ]
     },
     "execution_count": 222,
     "metadata": {},
     "output_type": "execute_result"
    }
   ],
   "source": [
    "len(test_data)"
   ]
  },
  {
   "cell_type": "code",
   "execution_count": 223,
   "id": "5a76e0e1",
   "metadata": {},
   "outputs": [],
   "source": [
    "from pygam import LinearGAM, s, PoissonGAM"
   ]
  },
  {
   "cell_type": "code",
   "execution_count": 224,
   "id": "3fe50649",
   "metadata": {},
   "outputs": [
    {
     "name": "stderr",
     "output_type": "stream",
     "text": [
      "/home/ec2-user/anaconda3/envs/python3/lib/python3.6/site-packages/ipykernel/__main__.py:1: SettingWithCopyWarning: \n",
      "A value is trying to be set on a copy of a slice from a DataFrame.\n",
      "Try using .loc[row_indexer,col_indexer] = value instead\n",
      "\n",
      "See the caveats in the documentation: https://pandas.pydata.org/pandas-docs/stable/user_guide/indexing.html#returning-a-view-versus-a-copy\n",
      "  if __name__ == '__main__':\n"
     ]
    }
   ],
   "source": [
    "training_data['log_ahvr'] = np.log2(training_data['ahvr'])"
   ]
  },
  {
   "cell_type": "code",
   "execution_count": 225,
   "id": "1d058fc0",
   "metadata": {},
   "outputs": [],
   "source": [
    "TARGET_COL = ['log_ahvr']"
   ]
  },
  {
   "cell_type": "code",
   "execution_count": 226,
   "id": "534793a4",
   "metadata": {},
   "outputs": [
    {
     "data": {
      "text/plain": [
       "is_pay_1                  0.0000\n",
       "hit_series                0.0000\n",
       "medal_number              0.6772\n",
       "content_category_movies   0.0000\n",
       "content_category_series   0.0000\n",
       "program_type_acquired     0.0000\n",
       "program_type_original     0.0000\n",
       "genre_action              0.0000\n",
       "genre_comedy              0.0000\n",
       "genre_drama               0.0000\n",
       "dtype: float64"
      ]
     },
     "execution_count": 226,
     "metadata": {},
     "output_type": "execute_result"
    }
   ],
   "source": [
    "training_data[FEATURE_COLS].isnull().sum()/len(training_data)"
   ]
  },
  {
   "cell_type": "code",
   "execution_count": 227,
   "id": "bfa40e67",
   "metadata": {},
   "outputs": [
    {
     "name": "stderr",
     "output_type": "stream",
     "text": [
      "/home/ec2-user/anaconda3/envs/python3/lib/python3.6/site-packages/ipykernel/__main__.py:1: SettingWithCopyWarning: \n",
      "A value is trying to be set on a copy of a slice from a DataFrame.\n",
      "Try using .loc[row_indexer,col_indexer] = value instead\n",
      "\n",
      "See the caveats in the documentation: https://pandas.pydata.org/pandas-docs/stable/user_guide/indexing.html#returning-a-view-versus-a-copy\n",
      "  if __name__ == '__main__':\n"
     ]
    }
   ],
   "source": [
    "training_data['medal_number'] = training_data['medal_number'].fillna(3)"
   ]
  },
  {
   "cell_type": "code",
   "execution_count": 228,
   "id": "2091f4f5",
   "metadata": {},
   "outputs": [
    {
     "data": {
      "text/plain": [
       "is_pay_1                  0.0000\n",
       "hit_series                0.0000\n",
       "medal_number              0.0000\n",
       "content_category_movies   0.0000\n",
       "content_category_series   0.0000\n",
       "program_type_acquired     0.0000\n",
       "program_type_original     0.0000\n",
       "genre_action              0.0000\n",
       "genre_comedy              0.0000\n",
       "genre_drama               0.0000\n",
       "dtype: float64"
      ]
     },
     "execution_count": 228,
     "metadata": {},
     "output_type": "execute_result"
    }
   ],
   "source": [
    "test_data[FEATURE_COLS].isnull().sum()/len(test_data)"
   ]
  },
  {
   "cell_type": "code",
   "execution_count": 229,
   "id": "a76debbd",
   "metadata": {},
   "outputs": [],
   "source": [
    "X_train, X_test, y_train = training_data[FEATURE_COLS], test_data[FEATURE_COLS], training_data[TARGET_COL]\n",
    "gam = LinearGAM(n_splines=20).fit(X_train, y_train)\n",
    "pred = gam.predict(X_test)\n",
    "pred = pd.DataFrame(pred)\n",
    "pred.columns = ['logged_pred']\n",
    "test_data.reset_index(inplace = True, drop = True)\n",
    "test_data = pd.concat([test_data, pred], axis = 1)"
   ]
  },
  {
   "cell_type": "code",
   "execution_count": 230,
   "id": "2235a089",
   "metadata": {},
   "outputs": [],
   "source": [
    "test_data = test_data[META_COLS+FEATURE_COLS+['sig_pred']+['logged_pred']]"
   ]
  },
  {
   "cell_type": "code",
   "execution_count": 231,
   "id": "b6a5f441",
   "metadata": {},
   "outputs": [],
   "source": [
    "test_data['prediction'] = (2**(test_data['logged_pred']))"
   ]
  },
  {
   "cell_type": "code",
   "execution_count": 232,
   "id": "e22216e8",
   "metadata": {},
   "outputs": [
    {
     "data": {
      "text/html": [
       "<div>\n",
       "<style scoped>\n",
       "    .dataframe tbody tr th:only-of-type {\n",
       "        vertical-align: middle;\n",
       "    }\n",
       "\n",
       "    .dataframe tbody tr th {\n",
       "        vertical-align: top;\n",
       "    }\n",
       "\n",
       "    .dataframe thead th {\n",
       "        text-align: right;\n",
       "    }\n",
       "</style>\n",
       "<table border=\"1\" class=\"dataframe\">\n",
       "  <thead>\n",
       "    <tr style=\"text-align: right;\">\n",
       "      <th></th>\n",
       "      <th>title_number</th>\n",
       "      <th>title_name</th>\n",
       "      <th>season_number</th>\n",
       "      <th>offering_start_date</th>\n",
       "      <th>asset_run_time_hours</th>\n",
       "      <th>content_category</th>\n",
       "      <th>program_type</th>\n",
       "      <th>medal</th>\n",
       "      <th>genre</th>\n",
       "      <th>is_pay_1</th>\n",
       "      <th>hit_series</th>\n",
       "      <th>medal_number</th>\n",
       "      <th>content_category_movies</th>\n",
       "      <th>content_category_series</th>\n",
       "      <th>program_type_acquired</th>\n",
       "      <th>program_type_original</th>\n",
       "      <th>genre_action</th>\n",
       "      <th>genre_comedy</th>\n",
       "      <th>genre_drama</th>\n",
       "      <th>sig_pred</th>\n",
       "      <th>logged_pred</th>\n",
       "      <th>prediction</th>\n",
       "    </tr>\n",
       "  </thead>\n",
       "  <tbody>\n",
       "    <tr>\n",
       "      <th>605</th>\n",
       "      <td>118</td>\n",
       "      <td>EUPHORIA S3</td>\n",
       "      <td>3.0000</td>\n",
       "      <td>2025-07-01</td>\n",
       "      <td>8.0000</td>\n",
       "      <td>series</td>\n",
       "      <td>original</td>\n",
       "      <td>Platinum</td>\n",
       "      <td>drama</td>\n",
       "      <td>0</td>\n",
       "      <td>1</td>\n",
       "      <td>0.0000</td>\n",
       "      <td>0</td>\n",
       "      <td>1</td>\n",
       "      <td>0</td>\n",
       "      <td>1</td>\n",
       "      <td>0</td>\n",
       "      <td>0</td>\n",
       "      <td>1</td>\n",
       "      <td>1</td>\n",
       "      <td>-1.9112</td>\n",
       "      <td>0.2659</td>\n",
       "    </tr>\n",
       "    <tr>\n",
       "      <th>611</th>\n",
       "      <td>136</td>\n",
       "      <td>EUPHORIA S4 / TBD</td>\n",
       "      <td>4.0000</td>\n",
       "      <td>2026-10-01</td>\n",
       "      <td>8.0000</td>\n",
       "      <td>series</td>\n",
       "      <td>original</td>\n",
       "      <td>Platinum</td>\n",
       "      <td>drama</td>\n",
       "      <td>0</td>\n",
       "      <td>1</td>\n",
       "      <td>0.0000</td>\n",
       "      <td>0</td>\n",
       "      <td>1</td>\n",
       "      <td>0</td>\n",
       "      <td>1</td>\n",
       "      <td>0</td>\n",
       "      <td>0</td>\n",
       "      <td>1</td>\n",
       "      <td>1</td>\n",
       "      <td>-1.9112</td>\n",
       "      <td>0.2659</td>\n",
       "    </tr>\n",
       "  </tbody>\n",
       "</table>\n",
       "</div>"
      ],
      "text/plain": [
       "     title_number         title_name  season_number offering_start_date  \\\n",
       "605           118        EUPHORIA S3         3.0000          2025-07-01   \n",
       "611           136  EUPHORIA S4 / TBD         4.0000          2026-10-01   \n",
       "\n",
       "     asset_run_time_hours content_category program_type     medal  genre  \\\n",
       "605                8.0000           series     original  Platinum  drama   \n",
       "611                8.0000           series     original  Platinum  drama   \n",
       "\n",
       "     is_pay_1  hit_series  medal_number  content_category_movies  \\\n",
       "605         0           1        0.0000                        0   \n",
       "611         0           1        0.0000                        0   \n",
       "\n",
       "     content_category_series  program_type_acquired  program_type_original  \\\n",
       "605                        1                      0                      1   \n",
       "611                        1                      0                      1   \n",
       "\n",
       "     genre_action  genre_comedy  genre_drama  sig_pred  logged_pred  \\\n",
       "605             0             0            1         1      -1.9112   \n",
       "611             0             0            1         1      -1.9112   \n",
       "\n",
       "     prediction  \n",
       "605      0.2659  \n",
       "611      0.2659  "
      ]
     },
     "execution_count": 232,
     "metadata": {},
     "output_type": "execute_result"
    }
   ],
   "source": [
    "test_data[test_data['title_name'].str.contains('EUPHORIA')]"
   ]
  },
  {
   "cell_type": "code",
   "execution_count": 233,
   "id": "a8818ec9",
   "metadata": {},
   "outputs": [],
   "source": [
    "insig_title = insig_title[META_COLS+FEATURE_COLS+['sig_pred']]"
   ]
  },
  {
   "cell_type": "code",
   "execution_count": 234,
   "id": "77b76574",
   "metadata": {},
   "outputs": [],
   "source": [
    "insig_title['logged_pred']=0\n",
    "insig_title['prediction'] = np.NaN"
   ]
  },
  {
   "cell_type": "code",
   "execution_count": 235,
   "id": "8961f039",
   "metadata": {},
   "outputs": [],
   "source": [
    "final_output =pd.concat([test_data, insig_title], axis = 0)"
   ]
  },
  {
   "cell_type": "code",
   "execution_count": 237,
   "id": "fd2f9f29",
   "metadata": {},
   "outputs": [
    {
     "data": {
      "text/plain": [
       "2089"
      ]
     },
     "execution_count": 237,
     "metadata": {},
     "output_type": "execute_result"
    }
   ],
   "source": [
    "final_output.title_number.max()"
   ]
  },
  {
   "cell_type": "code",
   "execution_count": 238,
   "id": "3afcb686",
   "metadata": {},
   "outputs": [
    {
     "data": {
      "text/plain": [
       "308"
      ]
     },
     "execution_count": 238,
     "metadata": {},
     "output_type": "execute_result"
    }
   ],
   "source": [
    "len(insig_title)"
   ]
  },
  {
   "cell_type": "code",
   "execution_count": 239,
   "id": "757a40b3",
   "metadata": {},
   "outputs": [
    {
     "data": {
      "text/plain": [
       "1222"
      ]
     },
     "execution_count": 239,
     "metadata": {},
     "output_type": "execute_result"
    }
   ],
   "source": [
    "len(final_output)"
   ]
  },
  {
   "cell_type": "markdown",
   "id": "f7c14d18",
   "metadata": {},
   "source": [
    "# Write to S3/SF"
   ]
  },
  {
   "cell_type": "markdown",
   "id": "acf73529",
   "metadata": {},
   "source": [
    "# "
   ]
  },
  {
   "cell_type": "code",
   "execution_count": 240,
   "id": "3174d1cc",
   "metadata": {},
   "outputs": [
    {
     "name": "stderr",
     "output_type": "stream",
     "text": [
      "/home/ec2-user/anaconda3/envs/python3/lib/python3.6/site-packages/boto3/compat.py:88: PythonDeprecationWarning: Boto3 will no longer support Python 3.6 starting May 30, 2022. To continue receiving service updates, bug fixes, and security updates please upgrade to Python 3.7 or later. More information can be found here: https://aws.amazon.com/blogs/developer/python-support-policy-updates-for-aws-sdks-and-tools/\n",
      "  warnings.warn(warning, PythonDeprecationWarning)\n"
     ]
    }
   ],
   "source": [
    "write_to_input(final_output,'content_slate_prediction_perf_tier')"
   ]
  },
  {
   "cell_type": "code",
   "execution_count": null,
   "id": "5ce7f18a",
   "metadata": {},
   "outputs": [],
   "source": []
  }
 ],
 "metadata": {
  "kernelspec": {
   "display_name": "conda_python3",
   "language": "python",
   "name": "conda_python3"
  },
  "language_info": {
   "codemirror_mode": {
    "name": "ipython",
    "version": 3
   },
   "file_extension": ".py",
   "mimetype": "text/x-python",
   "name": "python",
   "nbconvert_exporter": "python",
   "pygments_lexer": "ipython3",
   "version": "3.6.13"
  }
 },
 "nbformat": 4,
 "nbformat_minor": 5
}
