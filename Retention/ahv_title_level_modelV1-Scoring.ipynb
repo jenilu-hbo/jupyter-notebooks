{
 "cells": [
  {
   "cell_type": "code",
   "execution_count": 1,
   "id": "bbd98bf8",
   "metadata": {},
   "outputs": [],
   "source": [
    "# general\n",
    "import boto3\n",
    "import datetime as dt\n",
    "import json\n",
    "import numpy as np\n",
    "import pandas as pd\n",
    "import snowflake.connector"
   ]
  },
  {
   "cell_type": "code",
   "execution_count": 2,
   "id": "5e142bfd",
   "metadata": {},
   "outputs": [],
   "source": [
    "pd.set_option('display.max_rows', 1000)\n",
    "pd.set_option('display.max_columns', 1000)"
   ]
  },
  {
   "cell_type": "code",
   "execution_count": 3,
   "id": "928b762b",
   "metadata": {},
   "outputs": [],
   "source": [
    "pd.options.display.float_format = '{:,.4f}'.format"
   ]
  },
  {
   "cell_type": "code",
   "execution_count": 4,
   "id": "1197ec79",
   "metadata": {},
   "outputs": [],
   "source": [
    "# !pip install pygam"
   ]
  },
  {
   "cell_type": "markdown",
   "id": "02c70769",
   "metadata": {},
   "source": [
    "# 0. Read Data"
   ]
  },
  {
   "cell_type": "code",
   "execution_count": 5,
   "id": "dda59d80",
   "metadata": {},
   "outputs": [],
   "source": [
    "import xgboost  \n",
    "from xgboost import XGBRegressor\n",
    "from sklearn.model_selection import GroupKFold"
   ]
  },
  {
   "cell_type": "markdown",
   "id": "a954b5e1",
   "metadata": {},
   "source": [
    "## 0.1 Training Data"
   ]
  },
  {
   "cell_type": "code",
   "execution_count": 6,
   "id": "7d9fdb0d",
   "metadata": {},
   "outputs": [],
   "source": [
    "validation_data = pd.read_csv('validation_data.csv')"
   ]
  },
  {
   "cell_type": "code",
   "execution_count": 7,
   "id": "932af85d",
   "metadata": {},
   "outputs": [],
   "source": [
    "manual_pop_title = ['Euphoria', 'House of the Dragon', 'Peacemaker', 'The Last of Us']"
   ]
  },
  {
   "cell_type": "code",
   "execution_count": 8,
   "id": "cd5316e6",
   "metadata": {},
   "outputs": [],
   "source": [
    "validation_data.loc[validation_data['title_name'].isin(manual_pop_title), 'medal_number'] = 0\n",
    "validation_data['hit_series'] = 0\n",
    "validation_data.loc[validation_data['title_name'].isin(manual_pop_title), 'hit_series'] = 1"
   ]
  },
  {
   "cell_type": "markdown",
   "id": "46223e69",
   "metadata": {},
   "source": [
    "## 0.1 Testing Data"
   ]
  },
  {
   "cell_type": "code",
   "execution_count": 9,
   "id": "579a88cf",
   "metadata": {},
   "outputs": [],
   "source": [
    "test_data = pd.read_csv('2023.09 - Content Slate Titles vSend.csv')\n",
    "test_data = test_data[test_data['Market'] == 'US']"
   ]
  },
  {
   "cell_type": "code",
   "execution_count": 41,
   "id": "8b5809d9",
   "metadata": {},
   "outputs": [],
   "source": [
    "test_data.rename(columns = {'Title (if known)':'title_name', \n",
    "                            'Volume (hours)':'asset_run_time_hours',\n",
    "                            'Content type':'content_category',\n",
    "                            'Source':'program_type',\n",
    "                            'Season':'season_number'\n",
    "                           }, inplace=True)"
   ]
  },
  {
   "cell_type": "code",
   "execution_count": 11,
   "id": "97d15a4f",
   "metadata": {},
   "outputs": [],
   "source": [
    "test_data['is_pay_1'] = 0\n",
    "test_data.loc[test_data['PSI Content genre'] == 'Pay 1', 'is_pay_1'] = 1"
   ]
  },
  {
   "cell_type": "code",
   "execution_count": 12,
   "id": "3ac5c2f2",
   "metadata": {},
   "outputs": [],
   "source": [
    "test_data['hit_series'] = 0\n",
    "test_data['title_name_upper'] = test_data['title_name'].str.upper()\n",
    "test_data.loc[test_data['title_name_upper'].str.contains('|'.join([i.upper() for i in manual_pop_title])), \n",
    "              'hit_series'] = 1"
   ]
  },
  {
   "cell_type": "code",
   "execution_count": 13,
   "id": "4c433fa6",
   "metadata": {},
   "outputs": [],
   "source": [
    "test_data['medal'] = test_data['Budget Tier'].combine_first(test_data['Performance Tier'])\n",
    "medal_dict = {'Silver':2, 'Bronze':3, 'Gold':1 , 'Platinum':0, 'ACQ':np.NaN}\n",
    "test_data['medal_number'] = test_data['medal'].replace(medal_dict)\n",
    "test_data['medal_number'] = test_data['medal_number'].fillna(3)"
   ]
  },
  {
   "cell_type": "code",
   "execution_count": 14,
   "id": "00423676",
   "metadata": {},
   "outputs": [],
   "source": [
    "test_data['content_category_movies'] = 0\n",
    "test_data['content_category_series'] = 0\n",
    "\n",
    "test_data.loc[test_data['content_category'].str.contains('Movie'), 'content_category_movies'] = 1\n",
    "test_data.loc[test_data['content_category'].str.contains('Series|series'), 'content_category_series'] = 1"
   ]
  },
  {
   "cell_type": "code",
   "execution_count": 15,
   "id": "36646755",
   "metadata": {},
   "outputs": [],
   "source": [
    "test_data['program_type_acquired'] = 1\n",
    "test_data['program_type_original'] = 0\n",
    "\n",
    "test_data.loc[test_data['program_type'].str.contains('OP', na=False), 'program_type_original'] = 1\n",
    "test_data.loc[test_data['program_type'].str.contains('OP', na=False), 'program_type_acquired'] = 0"
   ]
  },
  {
   "cell_type": "code",
   "execution_count": 16,
   "id": "0e5c3378",
   "metadata": {},
   "outputs": [],
   "source": [
    "test_data['genre_Action/Adventure '] = 0\n",
    "test_data['genre_Comedy'] = 0\n",
    "test_data['genre_Drama'] = 0\n",
    "\n",
    "test_data.loc[test_data['content_category'].str.contains('Action'), 'genre_Action/Adventure '] = 1\n",
    "test_data.loc[test_data['Genre']=='Comedy', 'genre_Comedy'] = 1\n",
    "test_data.loc[test_data['Genre']=='Drama', 'genre_Drama'] = 1"
   ]
  },
  {
   "cell_type": "code",
   "execution_count": 17,
   "id": "410ff4f3",
   "metadata": {},
   "outputs": [],
   "source": [
    "test_data['offering_start_date'] = pd.to_datetime(test_data['Month Year'],format= '%m/%d/%y')"
   ]
  },
  {
   "cell_type": "markdown",
   "id": "9ab157d2",
   "metadata": {},
   "source": [
    "# 1. Modeling - Cross Validation"
   ]
  },
  {
   "cell_type": "code",
   "execution_count": 18,
   "id": "0fd7ff18",
   "metadata": {},
   "outputs": [],
   "source": [
    "META_COLS = ['title_name','season_number', 'offering_start_date', 'asset_run_time_hours','content_category', 'program_type', 'medal', 'Genre']"
   ]
  },
  {
   "cell_type": "code",
   "execution_count": 19,
   "id": "3a62f410",
   "metadata": {},
   "outputs": [],
   "source": [
    "FEATURE_COLS = ['is_pay_1', \n",
    "                'hit_series',\n",
    "                'medal_number', \n",
    "                'content_category_movies', \n",
    "                'content_category_series', \n",
    "                'program_type_acquired', \n",
    "                'program_type_original', \n",
    "                'genre_Action/Adventure ', \n",
    "                'genre_Comedy',\n",
    "                'genre_Drama'\n",
    "#                 'age_of_content', \n",
    "#                 'budget', \n",
    "               ]\n",
    "### New/Library content not able to be identified\n",
    "### Budget data not able to be identified"
   ]
  },
  {
   "cell_type": "code",
   "execution_count": 20,
   "id": "6d882f2b",
   "metadata": {},
   "outputs": [],
   "source": [
    "def cal_error(validation_set):\n",
    "    error_col = ((validation_set['pred']-validation_set[TARGET_COL[0]]).abs()/validation_set[TARGET_COL[0]]).abs()\n",
    "    return error_col.mean()"
   ]
  },
  {
   "cell_type": "markdown",
   "id": "24c2e318",
   "metadata": {},
   "source": [
    "## 1.3 Log AVHR"
   ]
  },
  {
   "cell_type": "code",
   "execution_count": 21,
   "id": "a768c8dd",
   "metadata": {},
   "outputs": [],
   "source": [
    "# !pip install pygam"
   ]
  },
  {
   "cell_type": "markdown",
   "id": "088b38ff",
   "metadata": {},
   "source": [
    "#### 1.3.1 Significant title classifier"
   ]
  },
  {
   "cell_type": "code",
   "execution_count": 22,
   "id": "c85db9e2",
   "metadata": {},
   "outputs": [],
   "source": [
    "training_data = validation_data.copy()"
   ]
  },
  {
   "cell_type": "code",
   "execution_count": 23,
   "id": "e8f5d78c",
   "metadata": {},
   "outputs": [],
   "source": [
    "training_data['is_significant_title'] = 1\n",
    "training_data.loc[training_data['ahvr'] < 0.005, 'is_significant_title'] = 0"
   ]
  },
  {
   "cell_type": "code",
   "execution_count": 24,
   "id": "df7f6461",
   "metadata": {},
   "outputs": [
    {
     "data": {
      "text/plain": [
       "is_pay_1                  0.0000\n",
       "hit_series                0.0000\n",
       "medal_number              0.9224\n",
       "content_category_movies   0.0000\n",
       "content_category_series   0.0000\n",
       "program_type_acquired     0.0000\n",
       "program_type_original     0.0000\n",
       "genre_Action/Adventure    0.0000\n",
       "genre_Comedy              0.0000\n",
       "genre_Drama               0.0000\n",
       "dtype: float64"
      ]
     },
     "execution_count": 24,
     "metadata": {},
     "output_type": "execute_result"
    }
   ],
   "source": [
    "training_data[FEATURE_COLS].isnull().sum()/len(training_data)\n",
    "## Checking if there are any nulls in the feature columns"
   ]
  },
  {
   "cell_type": "code",
   "execution_count": 25,
   "id": "9ab999c7",
   "metadata": {},
   "outputs": [],
   "source": [
    "training_data['medal_number'] = training_data['medal_number'].fillna(3)"
   ]
  },
  {
   "cell_type": "code",
   "execution_count": 26,
   "id": "9c500e29",
   "metadata": {},
   "outputs": [],
   "source": [
    "TARGET_COL = ['is_significant_title']"
   ]
  },
  {
   "cell_type": "code",
   "execution_count": 27,
   "id": "9082407e",
   "metadata": {},
   "outputs": [],
   "source": [
    "from sklearn.linear_model import LogisticRegression"
   ]
  },
  {
   "cell_type": "code",
   "execution_count": 28,
   "id": "2971eea8",
   "metadata": {},
   "outputs": [
    {
     "name": "stdout",
     "output_type": "stream",
     "text": [
      "0.9022546240043202\n"
     ]
    },
    {
     "name": "stderr",
     "output_type": "stream",
     "text": [
      "/home/ec2-user/anaconda3/envs/python3/lib/python3.6/site-packages/sklearn/utils/validation.py:63: DataConversionWarning: A column-vector y was passed when a 1d array was expected. Please change the shape of y to (n_samples, ), for example using ravel().\n",
      "  return f(*args, **kwargs)\n"
     ]
    }
   ],
   "source": [
    "## fit_predict prelaunch model|\n",
    "X_train, X_test, y_train = training_data[FEATURE_COLS], test_data[FEATURE_COLS], training_data[TARGET_COL]\n",
    "\n",
    "clf = LogisticRegression(random_state=0).fit(X_train, y_train)\n",
    "print (clf.score(X_train, y_train))\n",
    "\n",
    "pred = clf.predict(X_test)\n",
    "pred = pd.DataFrame(pred)\n",
    "pred.columns = ['sig_pred']\n",
    "test_data.reset_index(inplace = True, drop = True)\n",
    "test_data = pd.concat([test_data, pred], axis = 1)"
   ]
  },
  {
   "cell_type": "markdown",
   "id": "1929f192",
   "metadata": {},
   "source": [
    "#### 1.3.2 Modeling"
   ]
  },
  {
   "cell_type": "code",
   "execution_count": 29,
   "id": "13262bcc",
   "metadata": {},
   "outputs": [],
   "source": [
    "training_data = validation_data[(validation_data['ahvr']>0.005)]\n",
    "test_data = test_data[test_data['sig_pred'] == 1]"
   ]
  },
  {
   "cell_type": "code",
   "execution_count": 30,
   "id": "ca4496c3",
   "metadata": {},
   "outputs": [
    {
     "data": {
      "text/plain": [
       "704"
      ]
     },
     "execution_count": 30,
     "metadata": {},
     "output_type": "execute_result"
    }
   ],
   "source": [
    "len(training_data.title_id.unique())"
   ]
  },
  {
   "cell_type": "code",
   "execution_count": 31,
   "id": "0c2db568",
   "metadata": {},
   "outputs": [
    {
     "data": {
      "text/plain": [
       "308"
      ]
     },
     "execution_count": 31,
     "metadata": {},
     "output_type": "execute_result"
    }
   ],
   "source": [
    "len(test_data.title_name.unique())"
   ]
  },
  {
   "cell_type": "code",
   "execution_count": 32,
   "id": "65d9f4c2",
   "metadata": {},
   "outputs": [],
   "source": [
    "from pygam import LinearGAM, s, PoissonGAM"
   ]
  },
  {
   "cell_type": "code",
   "execution_count": 33,
   "id": "04afeffa",
   "metadata": {},
   "outputs": [
    {
     "name": "stderr",
     "output_type": "stream",
     "text": [
      "/home/ec2-user/anaconda3/envs/python3/lib/python3.6/site-packages/ipykernel/__main__.py:1: SettingWithCopyWarning: \n",
      "A value is trying to be set on a copy of a slice from a DataFrame.\n",
      "Try using .loc[row_indexer,col_indexer] = value instead\n",
      "\n",
      "See the caveats in the documentation: https://pandas.pydata.org/pandas-docs/stable/user_guide/indexing.html#returning-a-view-versus-a-copy\n",
      "  if __name__ == '__main__':\n"
     ]
    }
   ],
   "source": [
    "training_data['log_ahvr'] = np.log2(training_data['ahvr'])"
   ]
  },
  {
   "cell_type": "code",
   "execution_count": 34,
   "id": "9e9c38f0",
   "metadata": {},
   "outputs": [],
   "source": [
    "TARGET_COL = ['log_ahvr']"
   ]
  },
  {
   "cell_type": "code",
   "execution_count": 35,
   "id": "9b407d9e",
   "metadata": {},
   "outputs": [
    {
     "data": {
      "text/plain": [
       "is_pay_1                  0.0000\n",
       "hit_series                0.0000\n",
       "medal_number              0.7329\n",
       "content_category_movies   0.0000\n",
       "content_category_series   0.0000\n",
       "program_type_acquired     0.0000\n",
       "program_type_original     0.0000\n",
       "genre_Action/Adventure    0.0000\n",
       "genre_Comedy              0.0000\n",
       "genre_Drama               0.0000\n",
       "dtype: float64"
      ]
     },
     "execution_count": 35,
     "metadata": {},
     "output_type": "execute_result"
    }
   ],
   "source": [
    "training_data[FEATURE_COLS].isnull().sum()/len(training_data)"
   ]
  },
  {
   "cell_type": "code",
   "execution_count": 36,
   "id": "3c8112d2",
   "metadata": {},
   "outputs": [
    {
     "name": "stderr",
     "output_type": "stream",
     "text": [
      "/home/ec2-user/anaconda3/envs/python3/lib/python3.6/site-packages/ipykernel/__main__.py:1: SettingWithCopyWarning: \n",
      "A value is trying to be set on a copy of a slice from a DataFrame.\n",
      "Try using .loc[row_indexer,col_indexer] = value instead\n",
      "\n",
      "See the caveats in the documentation: https://pandas.pydata.org/pandas-docs/stable/user_guide/indexing.html#returning-a-view-versus-a-copy\n",
      "  if __name__ == '__main__':\n"
     ]
    }
   ],
   "source": [
    "training_data['medal_number'] = training_data['medal_number'].fillna(3)"
   ]
  },
  {
   "cell_type": "code",
   "execution_count": 37,
   "id": "31ff8f53",
   "metadata": {},
   "outputs": [
    {
     "data": {
      "text/plain": [
       "is_pay_1                  0.0000\n",
       "hit_series                0.0000\n",
       "medal_number              0.0000\n",
       "content_category_movies   0.0000\n",
       "content_category_series   0.0000\n",
       "program_type_acquired     0.0000\n",
       "program_type_original     0.0000\n",
       "genre_Action/Adventure    0.0000\n",
       "genre_Comedy              0.0000\n",
       "genre_Drama               0.0000\n",
       "dtype: float64"
      ]
     },
     "execution_count": 37,
     "metadata": {},
     "output_type": "execute_result"
    }
   ],
   "source": [
    "test_data[FEATURE_COLS].isnull().sum()/len(test_data)"
   ]
  },
  {
   "cell_type": "code",
   "execution_count": 38,
   "id": "b4cec0b1",
   "metadata": {},
   "outputs": [],
   "source": [
    "X_train, X_test, y_train = training_data[FEATURE_COLS], test_data[FEATURE_COLS], training_data[TARGET_COL]\n",
    "gam = LinearGAM(n_splines=20).fit(X_train, y_train)\n",
    "pred = gam.predict(X_test)\n",
    "pred = pd.DataFrame(pred)\n",
    "pred.columns = ['logged_pred']\n",
    "test_data.reset_index(inplace = True, drop = True)\n",
    "test_data = pd.concat([test_data, pred], axis = 1)"
   ]
  },
  {
   "cell_type": "code",
   "execution_count": 42,
   "id": "b4028888",
   "metadata": {},
   "outputs": [],
   "source": [
    "test_data = test_data[META_COLS+FEATURE_COLS+['sig_pred']+['logged_pred']]"
   ]
  },
  {
   "cell_type": "code",
   "execution_count": 43,
   "id": "d41e12d5",
   "metadata": {},
   "outputs": [
    {
     "name": "stderr",
     "output_type": "stream",
     "text": [
      "/home/ec2-user/anaconda3/envs/python3/lib/python3.6/site-packages/ipykernel/__main__.py:1: SettingWithCopyWarning: \n",
      "A value is trying to be set on a copy of a slice from a DataFrame.\n",
      "Try using .loc[row_indexer,col_indexer] = value instead\n",
      "\n",
      "See the caveats in the documentation: https://pandas.pydata.org/pandas-docs/stable/user_guide/indexing.html#returning-a-view-versus-a-copy\n",
      "  if __name__ == '__main__':\n"
     ]
    }
   ],
   "source": [
    "test_data['prediction'] = (2**(test_data['logged_pred']))"
   ]
  },
  {
   "cell_type": "code",
   "execution_count": 44,
   "id": "a7012f58",
   "metadata": {},
   "outputs": [
    {
     "data": {
      "text/html": [
       "<div>\n",
       "<style scoped>\n",
       "    .dataframe tbody tr th:only-of-type {\n",
       "        vertical-align: middle;\n",
       "    }\n",
       "\n",
       "    .dataframe tbody tr th {\n",
       "        vertical-align: top;\n",
       "    }\n",
       "\n",
       "    .dataframe thead th {\n",
       "        text-align: right;\n",
       "    }\n",
       "</style>\n",
       "<table border=\"1\" class=\"dataframe\">\n",
       "  <thead>\n",
       "    <tr style=\"text-align: right;\">\n",
       "      <th></th>\n",
       "      <th>title_name</th>\n",
       "      <th>season_number</th>\n",
       "      <th>offering_start_date</th>\n",
       "      <th>asset_run_time_hours</th>\n",
       "      <th>content_category</th>\n",
       "      <th>program_type</th>\n",
       "      <th>medal</th>\n",
       "      <th>Genre</th>\n",
       "      <th>is_pay_1</th>\n",
       "      <th>hit_series</th>\n",
       "      <th>medal_number</th>\n",
       "      <th>content_category_movies</th>\n",
       "      <th>content_category_series</th>\n",
       "      <th>program_type_acquired</th>\n",
       "      <th>program_type_original</th>\n",
       "      <th>genre_Action/Adventure</th>\n",
       "      <th>genre_Comedy</th>\n",
       "      <th>genre_Drama</th>\n",
       "      <th>sig_pred</th>\n",
       "      <th>logged_pred</th>\n",
       "      <th>prediction</th>\n",
       "    </tr>\n",
       "  </thead>\n",
       "  <tbody>\n",
       "    <tr>\n",
       "      <th>7</th>\n",
       "      <td>THE LAST OF US S1</td>\n",
       "      <td>1.0000</td>\n",
       "      <td>2023-01-01</td>\n",
       "      <td>9.5000</td>\n",
       "      <td>Scripted Series - Live Action Drama</td>\n",
       "      <td>HBO OP</td>\n",
       "      <td>Platinum</td>\n",
       "      <td>Drama</td>\n",
       "      <td>0</td>\n",
       "      <td>1</td>\n",
       "      <td>0.0000</td>\n",
       "      <td>0</td>\n",
       "      <td>1</td>\n",
       "      <td>0</td>\n",
       "      <td>1</td>\n",
       "      <td>1</td>\n",
       "      <td>0</td>\n",
       "      <td>1</td>\n",
       "      <td>1</td>\n",
       "      <td>-2.9661</td>\n",
       "      <td>0.1280</td>\n",
       "    </tr>\n",
       "    <tr>\n",
       "      <th>57</th>\n",
       "      <td>THE LAST OF US S2</td>\n",
       "      <td>2.0000</td>\n",
       "      <td>2025-03-01</td>\n",
       "      <td>7.0000</td>\n",
       "      <td>Scripted Series - Live Action Drama</td>\n",
       "      <td>HBO OP</td>\n",
       "      <td>Platinum</td>\n",
       "      <td>Drama</td>\n",
       "      <td>0</td>\n",
       "      <td>1</td>\n",
       "      <td>0.0000</td>\n",
       "      <td>0</td>\n",
       "      <td>1</td>\n",
       "      <td>0</td>\n",
       "      <td>1</td>\n",
       "      <td>1</td>\n",
       "      <td>0</td>\n",
       "      <td>1</td>\n",
       "      <td>1</td>\n",
       "      <td>-2.9661</td>\n",
       "      <td>0.1280</td>\n",
       "    </tr>\n",
       "  </tbody>\n",
       "</table>\n",
       "</div>"
      ],
      "text/plain": [
       "           title_name  season_number offering_start_date  \\\n",
       "7   THE LAST OF US S1         1.0000          2023-01-01   \n",
       "57  THE LAST OF US S2         2.0000          2025-03-01   \n",
       "\n",
       "    asset_run_time_hours                     content_category program_type  \\\n",
       "7                 9.5000  Scripted Series - Live Action Drama       HBO OP   \n",
       "57                7.0000  Scripted Series - Live Action Drama       HBO OP   \n",
       "\n",
       "       medal  Genre  is_pay_1  hit_series  medal_number  \\\n",
       "7   Platinum  Drama         0           1        0.0000   \n",
       "57  Platinum  Drama         0           1        0.0000   \n",
       "\n",
       "    content_category_movies  content_category_series  program_type_acquired  \\\n",
       "7                         0                        1                      0   \n",
       "57                        0                        1                      0   \n",
       "\n",
       "    program_type_original  genre_Action/Adventure   genre_Comedy  genre_Drama  \\\n",
       "7                       1                        1             0            1   \n",
       "57                      1                        1             0            1   \n",
       "\n",
       "    sig_pred  logged_pred  prediction  \n",
       "7          1      -2.9661      0.1280  \n",
       "57         1      -2.9661      0.1280  "
      ]
     },
     "execution_count": 44,
     "metadata": {},
     "output_type": "execute_result"
    }
   ],
   "source": [
    "test_data[test_data['title_name'].str.contains('THE LAST OF US')]"
   ]
  },
  {
   "cell_type": "code",
   "execution_count": null,
   "id": "28ad4c12",
   "metadata": {},
   "outputs": [],
   "source": [
    "asset_run_time_hours"
   ]
  },
  {
   "cell_type": "code",
   "execution_count": null,
   "id": "82c88929",
   "metadata": {},
   "outputs": [],
   "source": []
  },
  {
   "cell_type": "code",
   "execution_count": null,
   "id": "39e300ea",
   "metadata": {},
   "outputs": [],
   "source": []
  },
  {
   "cell_type": "markdown",
   "id": "271a3c17",
   "metadata": {},
   "source": [
    "# Write to S3/SF"
   ]
  },
  {
   "cell_type": "code",
   "execution_count": 45,
   "id": "2f84dfb9",
   "metadata": {},
   "outputs": [
    {
     "name": "stderr",
     "output_type": "stream",
     "text": [
      "/home/ec2-user/anaconda3/envs/python3/lib/python3.6/site-packages/boto3/compat.py:88: PythonDeprecationWarning: Boto3 will no longer support Python 3.6 starting May 30, 2022. To continue receiving service updates, bug fixes, and security updates please upgrade to Python 3.7 or later. More information can be found here: https://aws.amazon.com/blogs/developer/python-support-policy-updates-for-aws-sdks-and-tools/\n",
      "  warnings.warn(warning, PythonDeprecationWarning)\n"
     ]
    }
   ],
   "source": [
    "import boto3\n",
    "import io\n",
    "\n",
    "def to_s3(filename, output_bucket, content):\n",
    "    client = boto3.client('s3')\n",
    "    client.put_object(Bucket=output_bucket, Key=filename, Body=content)\n",
    "    \n",
    "output_bucket = 'hbo-outbound-datascience-content-dev'\n",
    "s3 = boto3.resource('s3')\n",
    "bucket = s3.Bucket(output_bucket)\n",
    "\n",
    "def write_to_sf(df, file_name):\n",
    "    csv_buffer = io.StringIO()\n",
    "    df.to_csv(csv_buffer, index = False)\n",
    "    content = csv_buffer.getvalue()\n",
    "    filename = 'title_hours_viewed_retention/{}.csv'.format(file_name)\n",
    "    to_s3(filename, output_bucket, content)"
   ]
  },
  {
   "cell_type": "code",
   "execution_count": 46,
   "id": "9ed819a1",
   "metadata": {},
   "outputs": [
    {
     "data": {
      "text/plain": [
       "Index(['title_name', 'season_number', 'offering_start_date',\n",
       "       'asset_run_time_hours', 'content_category', 'program_type', 'medal',\n",
       "       'Genre', 'is_pay_1', 'hit_series', 'medal_number',\n",
       "       'content_category_movies', 'content_category_series',\n",
       "       'program_type_acquired', 'program_type_original',\n",
       "       'genre_Action/Adventure ', 'genre_Comedy', 'genre_Drama', 'sig_pred',\n",
       "       'logged_pred', 'prediction'],\n",
       "      dtype='object')"
      ]
     },
     "execution_count": 46,
     "metadata": {},
     "output_type": "execute_result"
    }
   ],
   "source": [
    "test_data.columns"
   ]
  },
  {
   "cell_type": "code",
   "execution_count": 47,
   "id": "ba9d2633",
   "metadata": {},
   "outputs": [],
   "source": [
    "test_data.to_csv('content_slate_prediction.csv')"
   ]
  },
  {
   "cell_type": "markdown",
   "id": "de30f776",
   "metadata": {},
   "source": [
    "# "
   ]
  }
 ],
 "metadata": {
  "kernelspec": {
   "display_name": "conda_python3",
   "language": "python",
   "name": "conda_python3"
  },
  "language_info": {
   "codemirror_mode": {
    "name": "ipython",
    "version": 3
   },
   "file_extension": ".py",
   "mimetype": "text/x-python",
   "name": "python",
   "nbconvert_exporter": "python",
   "pygments_lexer": "ipython3",
   "version": "3.6.13"
  }
 },
 "nbformat": 4,
 "nbformat_minor": 5
}
